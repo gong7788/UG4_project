{
 "cells": [
  {
   "cell_type": "code",
   "execution_count": 1,
   "metadata": {},
   "outputs": [],
   "source": [
    "import pddl_functions\n",
    "from collections import namedtuple"
   ]
  },
  {
   "cell_type": "code",
   "execution_count": 2,
   "metadata": {},
   "outputs": [
    {
     "name": "stdout",
     "output_type": "stream",
     "text": [
      "Parsing domain tmp/domain.pddl\n",
      "Parsing problem tmp/problem.pddl\n"
     ]
    }
   ],
   "source": [
    "domain, problem = pddl_functions.parse('tmp/domain.pddl', 'tmp/problem.pddl')"
   ]
  },
  {
   "cell_type": "code",
   "execution_count": 3,
   "metadata": {},
   "outputs": [
    {
     "data": {
      "text/plain": [
       "'blocksworld'"
      ]
     },
     "execution_count": 3,
     "metadata": {},
     "output_type": "execute_result"
    }
   ],
   "source": [
    "problem.domainname"
   ]
  },
  {
   "cell_type": "code",
   "execution_count": 4,
   "metadata": {},
   "outputs": [],
   "source": [
    "def create_objects(n):\n",
    "    obj_names = ['b{}'.format(i) for i in range(n)]\n",
    "    return pddl_functions.make_variable_list(obj_names)"
   ]
  },
  {
   "cell_type": "code",
   "execution_count": 5,
   "metadata": {},
   "outputs": [],
   "source": [
    "obs = create_objects(4)"
   ]
  },
  {
   "cell_type": "code",
   "execution_count": 6,
   "metadata": {},
   "outputs": [
    {
     "data": {
      "text/plain": [
       "'b0'"
      ]
     },
     "execution_count": 6,
     "metadata": {},
     "output_type": "execute_result"
    }
   ],
   "source": [
    "a = obs.args[0]\n",
    "a.arg_name"
   ]
  },
  {
   "cell_type": "code",
   "execution_count": 7,
   "metadata": {},
   "outputs": [
    {
     "name": "stdout",
     "output_type": "stream",
     "text": [
      "(arm-empty )\n",
      "(on-table b0)\n",
      "(clear b0)\n",
      "(on-table b1)\n",
      "(clear b1)\n",
      "(on-table b2)\n",
      "(clear b2)\n",
      "(on-table b3)\n",
      "(clear b3)\n",
      "(red b0)\n",
      "(blue b1)\n",
      "(orange b2)\n",
      "(fusia b3)\n"
     ]
    }
   ],
   "source": [
    "def generate_default_position(objects):\n",
    "    \"\"\"Generates the base predicates placing all objects on the table\"\"\"\n",
    "    initstate = [pddl_functions.create_formula('arm-empty', [])]\n",
    "    for o in objects.args:\n",
    "        obj = o.arg_name\n",
    "        #create on-table\n",
    "        initstate.append(pddl_functions.create_formula('on-table', [obj]))\n",
    "        #create clear\n",
    "        initstate.append(pddl_functions.create_formula('clear', [obj]))\n",
    "    return initstate\n",
    "\n",
    "\n",
    "def add_colours(state, objects, colours):\n",
    "    for o, c in zip(objects.args, colours):\n",
    "        o = o.arg_name\n",
    "        state.append(pddl_functions.create_formula(c, [o]))\n",
    "    return state\n",
    "\n",
    "objects = create_objects(4)\n",
    "state = generate_default_position(objects)\n",
    "state = add_colours (state, objects, ['red', 'blue', 'orange', 'fusia'])\n",
    "for f in state:\n",
    "    print(f.asPDDL())"
   ]
  },
  {
   "cell_type": "code",
   "execution_count": 8,
   "metadata": {},
   "outputs": [],
   "source": [
    "# create rules\n"
   ]
  },
  {
   "cell_type": "code",
   "execution_count": 9,
   "metadata": {},
   "outputs": [],
   "source": [
    "Ruledef = namedtuple('Ruledef', ['first_obj', 'second_obj', 'constrained_obj'])"
   ]
  },
  {
   "cell_type": "code",
   "execution_count": 10,
   "metadata": {},
   "outputs": [],
   "source": [
    "rule1 = Ruledef(['red'], ['blue'], 'first')\n",
    "rule2 = Ruledef(['green'], ['pink'], 'second')"
   ]
  },
  {
   "cell_type": "code",
   "execution_count": 11,
   "metadata": {},
   "outputs": [
    {
     "ename": "NameError",
     "evalue": "name 'goal_updates' is not defined",
     "output_type": "error",
     "traceback": [
      "\u001b[0;31m---------------------------------------------------------------------------\u001b[0m",
      "\u001b[0;31mNameError\u001b[0m                                 Traceback (most recent call last)",
      "\u001b[0;32m<ipython-input-11-236ece0f9d92>\u001b[0m in \u001b[0;36m<module>\u001b[0;34m()\u001b[0m\n\u001b[1;32m      1\u001b[0m \u001b[0;32mdef\u001b[0m \u001b[0mgenerate_rule\u001b[0m\u001b[0;34m(\u001b[0m\u001b[0mruledef\u001b[0m\u001b[0;34m)\u001b[0m\u001b[0;34m:\u001b[0m\u001b[0;34m\u001b[0m\u001b[0m\n\u001b[1;32m      2\u001b[0m     \u001b[0;32mreturn\u001b[0m \u001b[0mgoal_updates\u001b[0m\u001b[0;34m.\u001b[0m\u001b[0mcreate_goal_options\u001b[0m\u001b[0;34m(\u001b[0m\u001b[0mruledef\u001b[0m\u001b[0;34m.\u001b[0m\u001b[0mfirst_obj\u001b[0m\u001b[0;34m,\u001b[0m \u001b[0mruledef\u001b[0m\u001b[0;34m.\u001b[0m\u001b[0msecond_obj\u001b[0m\u001b[0;34m)\u001b[0m\u001b[0;34m[\u001b[0m\u001b[0mint\u001b[0m\u001b[0;34m(\u001b[0m\u001b[0mruledef\u001b[0m\u001b[0;34m.\u001b[0m\u001b[0mconstrained_obj\u001b[0m \u001b[0;34m==\u001b[0m \u001b[0;34m'second'\u001b[0m\u001b[0;34m)\u001b[0m\u001b[0;34m]\u001b[0m\u001b[0;34m\u001b[0m\u001b[0m\n\u001b[0;32m----> 3\u001b[0;31m \u001b[0mprint\u001b[0m\u001b[0;34m(\u001b[0m\u001b[0mgenerate_rule\u001b[0m\u001b[0;34m(\u001b[0m\u001b[0mrule1\u001b[0m\u001b[0;34m)\u001b[0m\u001b[0;34m.\u001b[0m\u001b[0masPDDL\u001b[0m\u001b[0;34m(\u001b[0m\u001b[0;34m)\u001b[0m\u001b[0;34m)\u001b[0m\u001b[0;34m\u001b[0m\u001b[0m\n\u001b[0m\u001b[1;32m      4\u001b[0m \u001b[0mprint\u001b[0m\u001b[0;34m(\u001b[0m\u001b[0mgenerate_rule\u001b[0m\u001b[0;34m(\u001b[0m\u001b[0mrule2\u001b[0m\u001b[0;34m)\u001b[0m\u001b[0;34m.\u001b[0m\u001b[0masPDDL\u001b[0m\u001b[0;34m(\u001b[0m\u001b[0;34m)\u001b[0m\u001b[0;34m)\u001b[0m\u001b[0;34m\u001b[0m\u001b[0m\n",
      "\u001b[0;32m<ipython-input-11-236ece0f9d92>\u001b[0m in \u001b[0;36mgenerate_rule\u001b[0;34m(ruledef)\u001b[0m\n\u001b[1;32m      1\u001b[0m \u001b[0;32mdef\u001b[0m \u001b[0mgenerate_rule\u001b[0m\u001b[0;34m(\u001b[0m\u001b[0mruledef\u001b[0m\u001b[0;34m)\u001b[0m\u001b[0;34m:\u001b[0m\u001b[0;34m\u001b[0m\u001b[0m\n\u001b[0;32m----> 2\u001b[0;31m     \u001b[0;32mreturn\u001b[0m \u001b[0mgoal_updates\u001b[0m\u001b[0;34m.\u001b[0m\u001b[0mcreate_goal_options\u001b[0m\u001b[0;34m(\u001b[0m\u001b[0mruledef\u001b[0m\u001b[0;34m.\u001b[0m\u001b[0mfirst_obj\u001b[0m\u001b[0;34m,\u001b[0m \u001b[0mruledef\u001b[0m\u001b[0;34m.\u001b[0m\u001b[0msecond_obj\u001b[0m\u001b[0;34m)\u001b[0m\u001b[0;34m[\u001b[0m\u001b[0mint\u001b[0m\u001b[0;34m(\u001b[0m\u001b[0mruledef\u001b[0m\u001b[0;34m.\u001b[0m\u001b[0mconstrained_obj\u001b[0m \u001b[0;34m==\u001b[0m \u001b[0;34m'second'\u001b[0m\u001b[0;34m)\u001b[0m\u001b[0;34m]\u001b[0m\u001b[0;34m\u001b[0m\u001b[0m\n\u001b[0m\u001b[1;32m      3\u001b[0m \u001b[0mprint\u001b[0m\u001b[0;34m(\u001b[0m\u001b[0mgenerate_rule\u001b[0m\u001b[0;34m(\u001b[0m\u001b[0mrule1\u001b[0m\u001b[0;34m)\u001b[0m\u001b[0;34m.\u001b[0m\u001b[0masPDDL\u001b[0m\u001b[0;34m(\u001b[0m\u001b[0;34m)\u001b[0m\u001b[0;34m)\u001b[0m\u001b[0;34m\u001b[0m\u001b[0m\n\u001b[1;32m      4\u001b[0m \u001b[0mprint\u001b[0m\u001b[0;34m(\u001b[0m\u001b[0mgenerate_rule\u001b[0m\u001b[0;34m(\u001b[0m\u001b[0mrule2\u001b[0m\u001b[0;34m)\u001b[0m\u001b[0;34m.\u001b[0m\u001b[0masPDDL\u001b[0m\u001b[0;34m(\u001b[0m\u001b[0;34m)\u001b[0m\u001b[0;34m)\u001b[0m\u001b[0;34m\u001b[0m\u001b[0m\n",
      "\u001b[0;31mNameError\u001b[0m: name 'goal_updates' is not defined"
     ]
    }
   ],
   "source": [
    "def generate_rule(ruledef):\n",
    "    return goal_updates.create_goal_options(ruledef.first_obj, ruledef.second_obj)[int(ruledef.constrained_obj == 'second')]\n",
    "print(generate_rule(rule1).asPDDL())\n",
    "print(generate_rule(rule2).asPDDL())"
   ]
  },
  {
   "cell_type": "code",
   "execution_count": null,
   "metadata": {},
   "outputs": [],
   "source": []
  },
  {
   "cell_type": "code",
   "execution_count": null,
   "metadata": {},
   "outputs": [],
   "source": []
  },
  {
   "cell_type": "code",
   "execution_count": 12,
   "metadata": {},
   "outputs": [],
   "source": [
    "from pythonpddl.pddl import Problem"
   ]
  },
  {
   "cell_type": "code",
   "execution_count": 13,
   "metadata": {},
   "outputs": [],
   "source": [
    "def create_problem(colours, ruledefs, name='block-problem', domainname='blocksworld'):\n",
    "    objects = create_objects(len(colours))\n",
    "    initialstate = generate_default_position(objects)\n",
    "    initialstate = add_colours(initialstate, objects, colours)\n",
    "    goal = goal_updates.create_default_goal()\n",
    "    for rule in ruledefs:\n",
    "        rule = generate_rule(rule)\n",
    "        goal = goal_updates.update_goal(goal, rule)\n",
    "    return Problem(name, domainname, objects, initialstate, goal)\n"
   ]
  },
  {
   "cell_type": "code",
   "execution_count": null,
   "metadata": {},
   "outputs": [],
   "source": [
    "print(create_problem(['red', 'pink', 'green', 'red', 'blue'], [rule1, rule2]).asPDDL())"
   ]
  },
  {
   "cell_type": "code",
   "execution_count": null,
   "metadata": {},
   "outputs": [],
   "source": [
    "objects.asPDDL()"
   ]
  },
  {
   "cell_type": "code",
   "execution_count": null,
   "metadata": {},
   "outputs": [],
   "source": []
  },
  {
   "cell_type": "code",
   "execution_count": null,
   "metadata": {},
   "outputs": [],
   "source": [
    "import ff"
   ]
  },
  {
   "cell_type": "code",
   "execution_count": null,
   "metadata": {},
   "outputs": [],
   "source": [
    "ff.run('blocks-domain.pddl', 'blocks_problem_colour1.pddl')"
   ]
  },
  {
   "cell_type": "code",
   "execution_count": 14,
   "metadata": {},
   "outputs": [],
   "source": [
    "import goal_updates"
   ]
  },
  {
   "cell_type": "code",
   "execution_count": null,
   "metadata": {},
   "outputs": [],
   "source": [
    "goal_updates.create_goal(['red'], ['blue']).asPDDL()\n",
    "goal_updates.create_goal([''])"
   ]
  },
  {
   "cell_type": "code",
   "execution_count": null,
   "metadata": {},
   "outputs": [],
   "source": [
    "list(map(lambda x:print(x.asPDDL()), goal_updates.create_goal_options(['red'], ['blue'])))"
   ]
  },
  {
   "cell_type": "code",
   "execution_count": 15,
   "metadata": {},
   "outputs": [],
   "source": [
    "import problem_def"
   ]
  },
  {
   "cell_type": "code",
   "execution_count": 16,
   "metadata": {},
   "outputs": [
    {
     "name": "stdout",
     "output_type": "stream",
     "text": [
      "(define (problem block-problem)\n",
      "\t(:domain blocksworld)\n",
      "\t(:objects b0 b1 b2 b3 b4)\n",
      "\t(:init \n",
      "\t\t(arm-empty )\n",
      "\t\t(on-table b0)\n",
      "\t\t(clear b0)\n",
      "\t\t(on-table b1)\n",
      "\t\t(clear b1)\n",
      "\t\t(on-table b2)\n",
      "\t\t(clear b2)\n",
      "\t\t(on-table b3)\n",
      "\t\t(clear b3)\n",
      "\t\t(on-table b4)\n",
      "\t\t(clear b4)\n",
      "\t\t(red b0)\n",
      "\t\t(pink b1)\n",
      "\t\t(green b2)\n",
      "\t\t(red b3)\n",
      "\t\t(blue b4)\n",
      "\t)\n",
      "\t(:goal (and (forall (?x) (in-tower ?x)) (forall (?x) (or (not (red ?x)) (exists (?y) (and (blue ?y) (on ?x ?y))))) (forall (?y) (or (not (pink ?y)) (exists (?x) (and (green ?x) (on ?x ?y)))))))\n",
      ")\n"
     ]
    }
   ],
   "source": [
    "print(problem_def.create_problem(['red', 'pink', 'green', 'red', 'blue'], [rule1, rule2]).asPDDL())"
   ]
  },
  {
   "cell_type": "code",
   "execution_count": null,
   "metadata": {},
   "outputs": [],
   "source": []
  }
 ],
 "metadata": {
  "kernelspec": {
   "display_name": "Python 3",
   "language": "python",
   "name": "python3"
  },
  "language_info": {
   "codemirror_mode": {
    "name": "ipython",
    "version": 3
   },
   "file_extension": ".py",
   "mimetype": "text/x-python",
   "name": "python",
   "nbconvert_exporter": "python",
   "pygments_lexer": "ipython3",
   "version": "3.6.5"
  }
 },
 "nbformat": 4,
 "nbformat_minor": 2
}

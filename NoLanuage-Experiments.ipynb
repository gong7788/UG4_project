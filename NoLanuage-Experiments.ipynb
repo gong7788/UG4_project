{
 "cells": [
  {
   "cell_type": "code",
   "execution_count": 1,
   "metadata": {},
   "outputs": [],
   "source": [
    "from experiment import add_experiment\n",
    "from experiment_tracking import read_experiments, get_results_file, get_baseline, load_experiments\n",
    "from evaluation import test_colour_model, colour_probs, colour_dict, name_to_rgb\n",
    "from util import add_config_option, create_experiment, create_kde_experiment\n",
    "\n",
    "%matplotlib inline"
   ]
  },
  {
   "cell_type": "code",
   "execution_count": 8,
   "metadata": {},
   "outputs": [],
   "source": [
    "create_experiment('onerule_nolanguage', {'scenario_suite':'onerule', \n",
    "                                         'agent':'agents.NoLanguageAgent',\n",
    "                                         'colour_model_type':'kde', \n",
    "                                         'no_correction_update':'True'})\n",
    "\n",
    "create_experiment('simple_nolanguage', {'scenario_suite':'simplecolours', \n",
    "                                         'agent':'agents.NoLanguageAgent',\n",
    "                                         'colour_model_type':'kde', \n",
    "                                         'no_correction_update':'True'})\n",
    "\n",
    "create_experiment('tworules_nolanguage', {'scenario_suite':'tworules', \n",
    "                                         'agent':'agents.NoLanguageAgent',\n",
    "                                         'colour_model_type':'kde', \n",
    "                                         'no_correction_update':'True'})\n",
    "\n",
    "create_experiment('bijection_nolanguage', {'scenario_suite':'bijection', \n",
    "                                         'agent':'agents.NoLanguageAgent',\n",
    "                                         'colour_model_type':'kde', \n",
    "                                         'no_correction_update':'True'})\n",
    "\n",
    "create_experiment('maroon_nolanguage', {'scenario_suite':'maroon', \n",
    "                                         'agent':'agents.NoLanguageAgent',\n",
    "                                         'colour_model_type':'kde', \n",
    "                                         'no_correction_update':'True'})\n",
    "\n",
    "create_experiment('duplicatered_nolanguage', {'scenario_suite':'duplicatered', \n",
    "                                         'agent':'agents.NoLanguageAgent',\n",
    "                                         'colour_model_type':'kde', \n",
    "                                         'no_correction_update':'True'})\n",
    "\n",
    "create_experiment('triplicatered_nolanguage', {'scenario_suite':'triplicatered', \n",
    "                                         'agent':'agents.NoLanguageAgent',\n",
    "                                         'colour_model_type':'kde', \n",
    "                                         'no_correction_update':'True'})\n",
    "\n",
    "# create_experiment('bijection_nolanguage', {'scenario_suite':'onerule', \n",
    "#                                          'agent':'agents.NoLanguageAgent'})"
   ]
  },
  {
   "cell_type": "code",
   "execution_count": 2,
   "metadata": {
    "scrolled": true
   },
   "outputs": [
    {
     "name": "stdout",
     "output_type": "stream",
     "text": [
      "Parsing domain blocks-domain.pddl\n",
      "Parsing problem simplecolours/problem1.pddl\n",
      "<agents.NoLanguageAgent object at 0x7f931c5f9a90>\n",
      "Parsing domain blocks-domain.pddl\n",
      "Parsing problem simplecolours/problem1.pddl\n",
      "problem1.pddl reward: -10\n",
      "Parsing domain blocks-domain.pddl\n",
      "Parsing problem simplecolours/problem10.pddl\n",
      "problem10.pddl reward: -10\n",
      "Parsing domain blocks-domain.pddl\n",
      "Parsing problem simplecolours/problem11.pddl\n"
     ]
    },
    {
     "name": "stderr",
     "output_type": "stream",
     "text": [
      "T: no, put red blocks on blue blocks\n",
      "T: no, put red blocks on blue blocks\n"
     ]
    },
    {
     "name": "stdout",
     "output_type": "stream",
     "text": [
      "problem11.pddl reward: -10\n",
      "Parsing domain blocks-domain.pddl\n",
      "Parsing problem simplecolours/problem12.pddl\n"
     ]
    },
    {
     "name": "stderr",
     "output_type": "stream",
     "text": [
      "T: no, put red blocks on blue blocks\n"
     ]
    },
    {
     "name": "stdout",
     "output_type": "stream",
     "text": [
      "found match [1. 0. 0.] [[1. 0. 0.]] True\n",
      "problem12.pddl reward: -16\n",
      "Parsing domain blocks-domain.pddl\n",
      "Parsing problem simplecolours/problem13.pddl\n"
     ]
    },
    {
     "name": "stderr",
     "output_type": "stream",
     "text": [
      "T: No, now you cannot put b5 in the tower because you must put red blocks on blue blocks\n"
     ]
    },
    {
     "name": "stdout",
     "output_type": "stream",
     "text": [
      "problem13.pddl reward: -10\n",
      "Parsing domain blocks-domain.pddl\n",
      "Parsing problem simplecolours/problem14.pddl\n",
      "found match [1. 0. 0.] [[1. 0. 0.]] True\n"
     ]
    },
    {
     "name": "stderr",
     "output_type": "stream",
     "text": [
      "T: No, now you cannot put b5 in the tower because you must put red blocks on blue blocks\n"
     ]
    },
    {
     "name": "stdout",
     "output_type": "stream",
     "text": [
      "found match [0. 0. 1.] [[0. 0. 1.]] True\n",
      "found match [0. 0. 1.] [[0. 0. 1.]] True\n",
      "found match [1. 0. 0.] [[1. 0. 0.]] True\n"
     ]
    },
    {
     "name": "stderr",
     "output_type": "stream",
     "text": [
      "T: no, put red blocks on blue blocks\n"
     ]
    },
    {
     "name": "stdout",
     "output_type": "stream",
     "text": [
      "found match [1. 0. 0.] [[1. 0. 0.]] True\n",
      "problem14.pddl reward: -16\n",
      "Parsing domain blocks-domain.pddl\n",
      "Parsing problem simplecolours/problem15.pddl\n",
      "problem15.pddl reward: -10\n",
      "Parsing domain blocks-domain.pddl\n",
      "Parsing problem simplecolours/problem16.pddl\n",
      "problem16.pddl reward: -10\n",
      "Parsing domain blocks-domain.pddl\n",
      "Parsing problem simplecolours/problem17.pddl\n",
      "problem17.pddl reward: -10\n",
      "Parsing domain blocks-domain.pddl\n",
      "Parsing problem simplecolours/problem18.pddl\n",
      "problem18.pddl reward: -10\n",
      "Parsing domain blocks-domain.pddl\n",
      "Parsing problem simplecolours/problem19.pddl\n",
      "problem19.pddl reward: -10\n",
      "Parsing domain blocks-domain.pddl\n",
      "Parsing problem simplecolours/problem2.pddl\n",
      "problem2.pddl reward: -10\n",
      "Parsing domain blocks-domain.pddl\n",
      "Parsing problem simplecolours/problem20.pddl\n"
     ]
    },
    {
     "name": "stderr",
     "output_type": "stream",
     "text": [
      "T: No, now you cannot put b2 in the tower because you must put red blocks on blue blocks\n",
      "T: No, now you cannot put b2 in the tower because you must put red blocks on blue blocks\n"
     ]
    },
    {
     "name": "stdout",
     "output_type": "stream",
     "text": [
      "found match [1.         0.7529412  0.79607844] [[1.         0.7529412  0.79607844]] True\n",
      "found match [0. 0. 1.] [[0. 0. 1.]] True\n",
      "found match [1. 0. 0.] [[1. 0. 0.]] True\n",
      "found match [0. 0. 1.] [[0. 0. 1.]] True\n",
      "found match [1. 0. 0.] [[1. 0. 0.]] True\n"
     ]
    },
    {
     "name": "stderr",
     "output_type": "stream",
     "text": [
      "T: No, now you cannot put b2 in the tower because you must put red blocks on blue blocks\n"
     ]
    },
    {
     "name": "stdout",
     "output_type": "stream",
     "text": [
      "found match [1.         0.7529412  0.79607844] [[1.         0.7529412  0.79607844]] True\n",
      "found match [0. 0. 1.] [[0. 0. 1.]] True\n",
      "found match [1. 0. 0.] [[1. 0. 0.]] True\n",
      "problem20.pddl reward: -16\n",
      "Parsing domain blocks-domain.pddl\n",
      "Parsing problem simplecolours/problem21.pddl\n",
      "problem21.pddl reward: -10\n",
      "Parsing domain blocks-domain.pddl\n",
      "Parsing problem simplecolours/problem22.pddl\n",
      "problem22.pddl reward: -10\n",
      "Parsing domain blocks-domain.pddl\n",
      "Parsing problem simplecolours/problem23.pddl\n",
      "problem23.pddl reward: -10\n",
      "Parsing domain blocks-domain.pddl\n",
      "Parsing problem simplecolours/problem24.pddl\n",
      "problem24.pddl reward: -10\n",
      "Parsing domain blocks-domain.pddl\n",
      "Parsing problem simplecolours/problem25.pddl\n",
      "problem25.pddl reward: -10\n",
      "Parsing domain blocks-domain.pddl\n",
      "Parsing problem simplecolours/problem26.pddl\n",
      "problem26.pddl reward: -10\n",
      "Parsing domain blocks-domain.pddl\n",
      "Parsing problem simplecolours/problem27.pddl\n",
      "problem27.pddl reward: -10\n",
      "Parsing domain blocks-domain.pddl\n",
      "Parsing problem simplecolours/problem28.pddl\n",
      "problem28.pddl reward: -10\n",
      "Parsing domain blocks-domain.pddl\n",
      "Parsing problem simplecolours/problem29.pddl\n",
      "problem29.pddl reward: -10\n",
      "Parsing domain blocks-domain.pddl\n",
      "Parsing problem simplecolours/problem3.pddl\n",
      "problem3.pddl reward: -10\n",
      "Parsing domain blocks-domain.pddl\n",
      "Parsing problem simplecolours/problem30.pddl\n",
      "problem30.pddl reward: -10\n",
      "Parsing domain blocks-domain.pddl\n",
      "Parsing problem simplecolours/problem31.pddl\n",
      "problem31.pddl reward: -10\n",
      "Parsing domain blocks-domain.pddl\n",
      "Parsing problem simplecolours/problem32.pddl\n",
      "problem32.pddl reward: -10\n",
      "Parsing domain blocks-domain.pddl\n",
      "Parsing problem simplecolours/problem33.pddl\n",
      "problem33.pddl reward: -10\n",
      "Parsing domain blocks-domain.pddl\n",
      "Parsing problem simplecolours/problem34.pddl\n",
      "problem34.pddl reward: -10\n",
      "Parsing domain blocks-domain.pddl\n",
      "Parsing problem simplecolours/problem35.pddl\n",
      "problem35.pddl reward: -10\n",
      "Parsing domain blocks-domain.pddl\n",
      "Parsing problem simplecolours/problem36.pddl\n",
      "problem36.pddl reward: -10\n",
      "Parsing domain blocks-domain.pddl\n",
      "Parsing problem simplecolours/problem37.pddl\n",
      "problem37.pddl reward: -10\n",
      "Parsing domain blocks-domain.pddl\n",
      "Parsing problem simplecolours/problem38.pddl\n",
      "problem38.pddl reward: -10\n",
      "Parsing domain blocks-domain.pddl\n",
      "Parsing problem simplecolours/problem39.pddl\n",
      "problem39.pddl reward: -10\n",
      "Parsing domain blocks-domain.pddl\n",
      "Parsing problem simplecolours/problem4.pddl\n",
      "problem4.pddl reward: -10\n",
      "Parsing domain blocks-domain.pddl\n",
      "Parsing problem simplecolours/problem40.pddl\n",
      "problem40.pddl reward: -10\n",
      "Parsing domain blocks-domain.pddl\n",
      "Parsing problem simplecolours/problem41.pddl\n",
      "problem41.pddl reward: -10\n",
      "Parsing domain blocks-domain.pddl\n",
      "Parsing problem simplecolours/problem42.pddl\n",
      "problem42.pddl reward: -10\n",
      "Parsing domain blocks-domain.pddl\n",
      "Parsing problem simplecolours/problem43.pddl\n",
      "problem43.pddl reward: -10\n",
      "Parsing domain blocks-domain.pddl\n",
      "Parsing problem simplecolours/problem44.pddl\n",
      "problem44.pddl reward: -10\n",
      "Parsing domain blocks-domain.pddl\n",
      "Parsing problem simplecolours/problem45.pddl\n",
      "problem45.pddl reward: -10\n",
      "Parsing domain blocks-domain.pddl\n",
      "Parsing problem simplecolours/problem46.pddl\n",
      "problem46.pddl reward: -10\n",
      "Parsing domain blocks-domain.pddl\n",
      "Parsing problem simplecolours/problem47.pddl\n",
      "problem47.pddl reward: -10\n",
      "Parsing domain blocks-domain.pddl\n",
      "Parsing problem simplecolours/problem48.pddl\n",
      "problem48.pddl reward: -10\n",
      "Parsing domain blocks-domain.pddl\n",
      "Parsing problem simplecolours/problem49.pddl\n",
      "problem49.pddl reward: -10\n",
      "Parsing domain blocks-domain.pddl\n",
      "Parsing problem simplecolours/problem5.pddl\n",
      "problem5.pddl reward: -10\n",
      "Parsing domain blocks-domain.pddl\n",
      "Parsing problem simplecolours/problem50.pddl\n",
      "problem50.pddl reward: -10\n",
      "Parsing domain blocks-domain.pddl\n",
      "Parsing problem simplecolours/problem6.pddl\n",
      "problem6.pddl reward: -10\n",
      "Parsing domain blocks-domain.pddl\n",
      "Parsing problem simplecolours/problem7.pddl\n",
      "problem7.pddl reward: -10\n",
      "Parsing domain blocks-domain.pddl\n",
      "Parsing problem simplecolours/problem8.pddl\n",
      "problem8.pddl reward: -10\n",
      "Parsing domain blocks-domain.pddl\n",
      "Parsing problem simplecolours/problem9.pddl\n",
      "problem9.pddl reward: -10\n"
     ]
    }
   ],
   "source": [
    "\n"
   ]
  },
  {
   "cell_type": "code",
   "execution_count": 2,
   "metadata": {
    "collapsed": true
   },
   "outputs": [
    {
     "name": "stdout",
     "output_type": "stream",
     "text": [
      "Parsing domain blocks-domain.pddl\n",
      "Parsing problem simplecolours/problem1.pddl\n",
      "Parsing domain blocks-domain.pddl\n",
      "Parsing problem simplecolours/problem1.pddl\n",
      "problem1.pddl reward: -10\n",
      "Parsing domain blocks-domain.pddl\n",
      "Parsing problem simplecolours/problem10.pddl\n",
      "problem10.pddl reward: -10\n",
      "Parsing domain blocks-domain.pddl\n",
      "Parsing problem simplecolours/problem11.pddl\n"
     ]
    },
    {
     "name": "stderr",
     "output_type": "stream",
     "text": [
      "T: no, put red blocks on blue blocks\n",
      "T: no, put red blocks on blue blocks\n"
     ]
    },
    {
     "name": "stdout",
     "output_type": "stream",
     "text": [
      "problem11.pddl reward: -10\n",
      "Parsing domain blocks-domain.pddl\n",
      "Parsing problem simplecolours/problem12.pddl\n"
     ]
    },
    {
     "name": "stderr",
     "output_type": "stream",
     "text": [
      "T: no, put red blocks on blue blocks\n"
     ]
    },
    {
     "name": "stdout",
     "output_type": "stream",
     "text": [
      "problem12.pddl reward: -16\n",
      "Parsing domain blocks-domain.pddl\n",
      "Parsing problem simplecolours/problem13.pddl\n"
     ]
    },
    {
     "name": "stderr",
     "output_type": "stream",
     "text": [
      "T: No, now you cannot put b5 in the tower because you must put red blocks on blue blocks\n"
     ]
    },
    {
     "name": "stdout",
     "output_type": "stream",
     "text": [
      "problem13.pddl reward: -10\n",
      "Parsing domain blocks-domain.pddl\n",
      "Parsing problem simplecolours/problem14.pddl\n"
     ]
    },
    {
     "name": "stderr",
     "output_type": "stream",
     "text": [
      "T: No, now you cannot put b5 in the tower because you must put red blocks on blue blocks\n",
      "T: no, put red blocks on blue blocks\n"
     ]
    },
    {
     "name": "stdout",
     "output_type": "stream",
     "text": [
      "problem14.pddl reward: -16\n",
      "Parsing domain blocks-domain.pddl\n",
      "Parsing problem simplecolours/problem15.pddl\n"
     ]
    },
    {
     "ename": "UnboundLocalError",
     "evalue": "local variable 'results_file' referenced before assignment",
     "output_type": "error",
     "traceback": [
      "\u001b[0;31m---------------------------------------------------------------------------\u001b[0m",
      "\u001b[0;31mSolved\u001b[0m                                    Traceback (most recent call last)",
      "\u001b[0;32m~/Desktop/phd/src/experiment.py\u001b[0m in \u001b[0;36madd_experiment\u001b[0;34m(config_name, neural_config, debug)\u001b[0m\n\u001b[1;32m    280\u001b[0m     \u001b[0;32mtry\u001b[0m\u001b[0;34m:\u001b[0m\u001b[0;34m\u001b[0m\u001b[0m\n\u001b[0;32m--> 281\u001b[0;31m         \u001b[0mresults_file\u001b[0m \u001b[0;34m=\u001b[0m \u001b[0mrun_experiment\u001b[0m\u001b[0;34m(\u001b[0m\u001b[0mconfig_name\u001b[0m\u001b[0;34m=\u001b[0m\u001b[0mconfig_name\u001b[0m\u001b[0;34m,\u001b[0m \u001b[0mneural_config\u001b[0m\u001b[0;34m=\u001b[0m\u001b[0mneural_config\u001b[0m\u001b[0;34m,\u001b[0m \u001b[0mdebug\u001b[0m\u001b[0;34m=\u001b[0m\u001b[0mdebug\u001b[0m\u001b[0;34m)\u001b[0m\u001b[0;34m\u001b[0m\u001b[0m\n\u001b[0m\u001b[1;32m    282\u001b[0m     \u001b[0;32mexcept\u001b[0m\u001b[0;34m:\u001b[0m\u001b[0;34m\u001b[0m\u001b[0m\n",
      "\u001b[0;32m~/Desktop/phd/src/experiment.py\u001b[0m in \u001b[0;36mrun_experiment\u001b[0;34m(config_name, debug, neural_config)\u001b[0m\n\u001b[1;32m    171\u001b[0m         \u001b[0;32mwhile\u001b[0m \u001b[0;32mnot\u001b[0m \u001b[0mw\u001b[0m\u001b[0;34m.\u001b[0m\u001b[0mtest_success\u001b[0m\u001b[0;34m(\u001b[0m\u001b[0;34m)\u001b[0m\u001b[0;34m:\u001b[0m\u001b[0;34m\u001b[0m\u001b[0m\n\u001b[0;32m--> 172\u001b[0;31m             \u001b[0mplan\u001b[0m \u001b[0;34m=\u001b[0m \u001b[0magent\u001b[0m\u001b[0;34m.\u001b[0m\u001b[0mplan\u001b[0m\u001b[0;34m(\u001b[0m\u001b[0;34m)\u001b[0m\u001b[0;34m\u001b[0m\u001b[0m\n\u001b[0m\u001b[1;32m    173\u001b[0m             \u001b[0;32mfor\u001b[0m \u001b[0ma\u001b[0m\u001b[0;34m,\u001b[0m \u001b[0margs\u001b[0m \u001b[0;32min\u001b[0m \u001b[0mplan\u001b[0m\u001b[0;34m:\u001b[0m\u001b[0;34m\u001b[0m\u001b[0m\n",
      "\u001b[0;32m~/Desktop/phd/src/agents.py\u001b[0m in \u001b[0;36mplan\u001b[0;34m(self)\u001b[0m\n\u001b[1;32m    771\u001b[0m         \u001b[0;32mtry\u001b[0m\u001b[0;34m:\u001b[0m\u001b[0;34m\u001b[0m\u001b[0m\n\u001b[0;32m--> 772\u001b[0;31m             \u001b[0;32mreturn\u001b[0m \u001b[0mplanner\u001b[0m\u001b[0;34m.\u001b[0m\u001b[0mplan\u001b[0m\u001b[0;34m(\u001b[0m\u001b[0;34m)\u001b[0m\u001b[0;34m\u001b[0m\u001b[0m\n\u001b[0m\u001b[1;32m    773\u001b[0m         \u001b[0;32mexcept\u001b[0m \u001b[0mValueError\u001b[0m \u001b[0;32mas\u001b[0m \u001b[0me\u001b[0m\u001b[0;34m:\u001b[0m\u001b[0;34m\u001b[0m\u001b[0m\n",
      "\u001b[0;32m~/Desktop/phd/src/search.py\u001b[0m in \u001b[0;36mplan\u001b[0;34m(self)\u001b[0m\n\u001b[1;32m    321\u001b[0m             \u001b[0;32mtry\u001b[0m\u001b[0;34m:\u001b[0m\u001b[0;34m\u001b[0m\u001b[0m\n\u001b[0;32m--> 322\u001b[0;31m                 \u001b[0mplan\u001b[0m \u001b[0;34m=\u001b[0m \u001b[0mself\u001b[0m\u001b[0;34m.\u001b[0m\u001b[0mevaluate_current_state\u001b[0m\u001b[0;34m(\u001b[0m\u001b[0;34m)\u001b[0m\u001b[0;34m\u001b[0m\u001b[0m\n\u001b[0m\u001b[1;32m    323\u001b[0m             \u001b[0;32mexcept\u001b[0m \u001b[0mNoPlanError\u001b[0m\u001b[0;34m:\u001b[0m\u001b[0;34m\u001b[0m\u001b[0m\n",
      "\u001b[0;32m~/Desktop/phd/src/search.py\u001b[0m in \u001b[0;36mevaluate_current_state\u001b[0;34m(self, default_plan)\u001b[0m\n\u001b[1;32m    289\u001b[0m             \u001b[0;32mtry\u001b[0m\u001b[0;34m:\u001b[0m\u001b[0;34m\u001b[0m\u001b[0m\n\u001b[0;32m--> 290\u001b[0;31m                 \u001b[0mplan\u001b[0m \u001b[0;34m=\u001b[0m \u001b[0mff\u001b[0m\u001b[0;34m.\u001b[0m\u001b[0mrun\u001b[0m\u001b[0;34m(\u001b[0m\u001b[0mself\u001b[0m\u001b[0;34m.\u001b[0m\u001b[0mdomain_file\u001b[0m\u001b[0;34m,\u001b[0m \u001b[0;34m'tmp/problem.pddl'\u001b[0m\u001b[0;34m)\u001b[0m\u001b[0;34m\u001b[0m\u001b[0m\n\u001b[0m\u001b[1;32m    291\u001b[0m                 \u001b[0;32mreturn\u001b[0m \u001b[0mplan\u001b[0m\u001b[0;34m\u001b[0m\u001b[0m\n",
      "\u001b[0;32m~/Desktop/phd/src/ff.py\u001b[0m in \u001b[0;36mrun\u001b[0;34m(domain, problem)\u001b[0m\n\u001b[1;32m     93\u001b[0m \u001b[0;32mdef\u001b[0m \u001b[0mrun\u001b[0m\u001b[0;34m(\u001b[0m\u001b[0mdomain\u001b[0m\u001b[0;34m,\u001b[0m \u001b[0mproblem\u001b[0m\u001b[0;34m)\u001b[0m\u001b[0;34m:\u001b[0m\u001b[0;34m\u001b[0m\u001b[0m\n\u001b[0;32m---> 94\u001b[0;31m     \u001b[0mresult\u001b[0m \u001b[0;34m=\u001b[0m \u001b[0mff\u001b[0m\u001b[0;34m(\u001b[0m\u001b[0mdomain\u001b[0m\u001b[0;34m,\u001b[0m \u001b[0mproblem\u001b[0m\u001b[0;34m)\u001b[0m\u001b[0;34m\u001b[0m\u001b[0m\n\u001b[0m\u001b[1;32m     95\u001b[0m     \u001b[0;32mreturn\u001b[0m \u001b[0mget_actions\u001b[0m\u001b[0;34m(\u001b[0m\u001b[0mresult\u001b[0m\u001b[0;34m)\u001b[0m\u001b[0;34m\u001b[0m\u001b[0m\n",
      "\u001b[0;32m~/Desktop/phd/src/ff.py\u001b[0m in \u001b[0;36mff\u001b[0;34m(domain, problem)\u001b[0m\n\u001b[1;32m     54\u001b[0m     \u001b[0;32melif\u001b[0m \u001b[0;34m\"goal can be simplified to TRUE\"\u001b[0m \u001b[0;32min\u001b[0m \u001b[0moutput\u001b[0m\u001b[0;34m:\u001b[0m\u001b[0;34m\u001b[0m\u001b[0m\n\u001b[0;32m---> 55\u001b[0;31m         \u001b[0;32mraise\u001b[0m \u001b[0mSolved\u001b[0m\u001b[0;34m(\u001b[0m\u001b[0;34m'The state satifies the goal'\u001b[0m\u001b[0;34m)\u001b[0m\u001b[0;34m\u001b[0m\u001b[0m\n\u001b[0m\u001b[1;32m     56\u001b[0m \u001b[0;34m\u001b[0m\u001b[0m\n",
      "\u001b[0;31mSolved\u001b[0m: The state satifies the goal",
      "\nDuring handling of the above exception, another exception occurred:\n",
      "\u001b[0;31mUnboundLocalError\u001b[0m                         Traceback (most recent call last)",
      "\u001b[0;32m<ipython-input-2-25da87deb9ec>\u001b[0m in \u001b[0;36m<module>\u001b[0;34m()\u001b[0m\n\u001b[0;32m----> 1\u001b[0;31m \u001b[0madd_experiment\u001b[0m\u001b[0;34m(\u001b[0m\u001b[0mconfig_name\u001b[0m\u001b[0;34m=\u001b[0m\u001b[0;34m'simple_nolanguage'\u001b[0m\u001b[0;34m,\u001b[0m \u001b[0mneural_config\u001b[0m\u001b[0;34m=\u001b[0m\u001b[0;34m'fixed_bw'\u001b[0m\u001b[0;34m)\u001b[0m\u001b[0;34m\u001b[0m\u001b[0m\n\u001b[0m\u001b[1;32m      2\u001b[0m \u001b[0madd_experiment\u001b[0m\u001b[0;34m(\u001b[0m\u001b[0mconfig_name\u001b[0m\u001b[0;34m=\u001b[0m\u001b[0;34m'onerule_nolanguage'\u001b[0m\u001b[0;34m,\u001b[0m \u001b[0mneural_config\u001b[0m\u001b[0;34m=\u001b[0m\u001b[0;34m'fixed_bw'\u001b[0m\u001b[0;34m)\u001b[0m\u001b[0;34m\u001b[0m\u001b[0m\n\u001b[1;32m      3\u001b[0m \u001b[0madd_experiment\u001b[0m\u001b[0;34m(\u001b[0m\u001b[0mconfig_name\u001b[0m\u001b[0;34m=\u001b[0m\u001b[0;34m'tworules_nolanguage'\u001b[0m\u001b[0;34m,\u001b[0m \u001b[0mneural_config\u001b[0m\u001b[0;34m=\u001b[0m\u001b[0;34m'fixed_bw'\u001b[0m\u001b[0;34m)\u001b[0m\u001b[0;34m\u001b[0m\u001b[0m\n\u001b[1;32m      4\u001b[0m \u001b[0madd_experiment\u001b[0m\u001b[0;34m(\u001b[0m\u001b[0mconfig_name\u001b[0m\u001b[0;34m=\u001b[0m\u001b[0;34m'bijection_nolanguage'\u001b[0m\u001b[0;34m,\u001b[0m \u001b[0mneural_config\u001b[0m\u001b[0;34m=\u001b[0m\u001b[0;34m'fixed_bw'\u001b[0m\u001b[0;34m)\u001b[0m\u001b[0;34m\u001b[0m\u001b[0m\n\u001b[1;32m      5\u001b[0m \u001b[0madd_experiment\u001b[0m\u001b[0;34m(\u001b[0m\u001b[0mconfig_name\u001b[0m\u001b[0;34m=\u001b[0m\u001b[0;34m'maroon_nolanguage'\u001b[0m\u001b[0;34m,\u001b[0m \u001b[0mneural_config\u001b[0m\u001b[0;34m=\u001b[0m\u001b[0;34m'fixed_bw'\u001b[0m\u001b[0;34m)\u001b[0m\u001b[0;34m\u001b[0m\u001b[0m\n",
      "\u001b[0;32m~/Desktop/phd/src/experiment.py\u001b[0m in \u001b[0;36madd_experiment\u001b[0;34m(config_name, neural_config, debug)\u001b[0m\n\u001b[1;32m    283\u001b[0m         \u001b[0mdf\u001b[0m \u001b[0;34m=\u001b[0m \u001b[0mpd\u001b[0m\u001b[0;34m.\u001b[0m\u001b[0mread_sql\u001b[0m\u001b[0;34m(\u001b[0m\u001b[0;34m'experiments'\u001b[0m\u001b[0;34m,\u001b[0m \u001b[0mindex_col\u001b[0m\u001b[0;34m=\u001b[0m\u001b[0;34m'index'\u001b[0m\u001b[0;34m,\u001b[0m \u001b[0mcon\u001b[0m\u001b[0;34m=\u001b[0m\u001b[0mengine\u001b[0m\u001b[0;34m)\u001b[0m\u001b[0;34m\u001b[0m\u001b[0m\n\u001b[1;32m    284\u001b[0m         \u001b[0mlast_label\u001b[0m \u001b[0;34m=\u001b[0m \u001b[0mdf\u001b[0m\u001b[0;34m.\u001b[0m\u001b[0mindex\u001b[0m\u001b[0;34m[\u001b[0m\u001b[0;34m-\u001b[0m\u001b[0;36m1\u001b[0m\u001b[0;34m]\u001b[0m\u001b[0;34m\u001b[0m\u001b[0m\n\u001b[0;32m--> 285\u001b[0;31m         \u001b[0mdf\u001b[0m\u001b[0;34m.\u001b[0m\u001b[0mat\u001b[0m\u001b[0;34m[\u001b[0m\u001b[0mlast_label\u001b[0m\u001b[0;34m,\u001b[0m \u001b[0;34m'experiment_file'\u001b[0m\u001b[0;34m]\u001b[0m \u001b[0;34m=\u001b[0m \u001b[0mresults_file\u001b[0m\u001b[0;34m\u001b[0m\u001b[0m\n\u001b[0m\u001b[1;32m    286\u001b[0m         \u001b[0mdf\u001b[0m\u001b[0;34m.\u001b[0m\u001b[0mat\u001b[0m\u001b[0;34m[\u001b[0m\u001b[0mlast_label\u001b[0m\u001b[0;34m,\u001b[0m \u001b[0;34m'status'\u001b[0m\u001b[0;34m]\u001b[0m \u001b[0;34m=\u001b[0m \u001b[0;34m'ERROR'\u001b[0m\u001b[0;34m\u001b[0m\u001b[0m\n\u001b[1;32m    287\u001b[0m     \u001b[0;32melse\u001b[0m\u001b[0;34m:\u001b[0m\u001b[0;34m\u001b[0m\u001b[0m\n",
      "\u001b[0;31mUnboundLocalError\u001b[0m: local variable 'results_file' referenced before assignment"
     ]
    }
   ],
   "source": [
    "add_experiment(config_name='simple_nolanguage', neural_config='fixed_bw')\n",
    "add_experiment(config_name='onerule_nolanguage', neural_config='fixed_bw')\n",
    "add_experiment(config_name='tworules_nolanguage', neural_config='fixed_bw')\n",
    "add_experiment(config_name='bijection_nolanguage', neural_config='fixed_bw')\n",
    "add_experiment(config_name='maroon_nolanguage', neural_config='fixed_bw')"
   ]
  },
  {
   "cell_type": "code",
   "execution_count": 7,
   "metadata": {},
   "outputs": [
    {
     "name": "stdout",
     "output_type": "stream",
     "text": [
      "Parsing domain blocks-domain.pddl\n",
      "Parsing problem duplicatered/problem1.pddl\n",
      "Parsing domain blocks-domain.pddl\n",
      "Parsing problem duplicatered/problem1.pddl\n",
      "problem1.pddl reward: -10\n",
      "Parsing domain blocks-domain.pddl\n",
      "Parsing problem duplicatered/problem2.pddl\n",
      "problem2.pddl reward: -10\n",
      "Parsing domain blocks-domain.pddl\n",
      "Parsing problem duplicatered/problem3.pddl\n",
      "problem3.pddl reward: -10\n",
      "Parsing domain blocks-domain.pddl\n",
      "Parsing problem duplicatered/problem4.pddl\n"
     ]
    },
    {
     "name": "stderr",
     "output_type": "stream",
     "text": [
      "T: no, put red blocks on blue blocks\n",
      "T: no, put red blocks on blue blocks\n"
     ]
    },
    {
     "name": "stdout",
     "output_type": "stream",
     "text": [
      "problem4.pddl reward: -10\n",
      "Parsing domain blocks-domain.pddl\n",
      "Parsing problem duplicatered/problem5.pddl\n"
     ]
    },
    {
     "name": "stderr",
     "output_type": "stream",
     "text": [
      "T: no, put red blocks on blue blocks\n",
      "T: no, put pink blocks on red blocks\n",
      "T: no, put pink blocks on red blocks\n",
      "T: no, put pink blocks on red blocks\n"
     ]
    },
    {
     "name": "stdout",
     "output_type": "stream",
     "text": [
      "problem5.pddl reward: -22\n",
      "Parsing domain blocks-domain.pddl\n",
      "Parsing problem duplicatered/problem6.pddl\n"
     ]
    },
    {
     "name": "stderr",
     "output_type": "stream",
     "text": [
      "T: no, put red blocks on blue blocks\n"
     ]
    },
    {
     "name": "stdout",
     "output_type": "stream",
     "text": [
      "problem6.pddl reward: -10\n",
      "Parsing domain blocks-domain.pddl\n",
      "Parsing problem duplicatered/problem7.pddl\n"
     ]
    },
    {
     "name": "stderr",
     "output_type": "stream",
     "text": [
      "T: no, put red blocks on blue blocks\n",
      "T: no, put red blocks on blue blocks\n",
      "T: no, put pink blocks on red blocks\n",
      "T: no, put pink blocks on red blocks\n",
      "T: no, put pink blocks on red blocks\n"
     ]
    },
    {
     "name": "stdout",
     "output_type": "stream",
     "text": [
      "problem7.pddl reward: -22\n",
      "Parsing domain blocks-domain.pddl\n",
      "Parsing problem duplicatered/problem8.pddl\n",
      "problem8.pddl reward: -10\n",
      "Parsing domain blocks-domain.pddl\n",
      "Parsing problem duplicatered/problem9.pddl\n"
     ]
    },
    {
     "name": "stderr",
     "output_type": "stream",
     "text": [
      "T: No, now you cannot put b2 in the tower because you must put pink blocks on red blocks\n",
      "T: No, now you cannot put b2 in the tower because you must put pink blocks on red blocks\n",
      "T: No, now you cannot put b2 in the tower because you must put pink blocks on red blocks\n",
      "T: No, now you cannot put b2 in the tower because you must put pink blocks on red blocks\n",
      "T: No, now you cannot put b2 in the tower because you must put pink blocks on red blocks\n",
      "T: No, now you cannot put b2 in the tower because you must put pink blocks on red blocks\n"
     ]
    },
    {
     "name": "stdout",
     "output_type": "stream",
     "text": [
      "problem9.pddl reward: -22\n",
      "Parsing domain blocks-domain.pddl\n",
      "Parsing problem duplicatered/problem10.pddl\n"
     ]
    },
    {
     "name": "stderr",
     "output_type": "stream",
     "text": [
      "T: no, put red blocks on blue blocks\n",
      "T: no, put pink blocks on red blocks\n"
     ]
    },
    {
     "name": "stdout",
     "output_type": "stream",
     "text": [
      "problem10.pddl reward: -14\n",
      "Parsing domain blocks-domain.pddl\n",
      "Parsing problem duplicatered/problem11.pddl\n"
     ]
    },
    {
     "name": "stderr",
     "output_type": "stream",
     "text": [
      "T: no, put pink blocks on red blocks\n"
     ]
    },
    {
     "name": "stdout",
     "output_type": "stream",
     "text": [
      "problem11.pddl reward: -12\n",
      "Parsing domain blocks-domain.pddl\n",
      "Parsing problem duplicatered/problem12.pddl\n",
      "problem12.pddl reward: -10\n",
      "Parsing domain blocks-domain.pddl\n",
      "Parsing problem duplicatered/problem13.pddl\n",
      "problem13.pddl reward: -10\n",
      "Parsing domain blocks-domain.pddl\n",
      "Parsing problem duplicatered/problem14.pddl\n"
     ]
    },
    {
     "name": "stderr",
     "output_type": "stream",
     "text": [
      "T: No, now you cannot put b0 in the tower because you must put red blocks on blue blocks\n",
      "T: No, now you cannot put b0 in the tower because you must put red blocks on blue blocks\n"
     ]
    },
    {
     "name": "stdout",
     "output_type": "stream",
     "text": [
      "problem14.pddl reward: -14\n",
      "Parsing domain blocks-domain.pddl\n",
      "Parsing problem duplicatered/problem15.pddl\n",
      "problem15.pddl reward: -10\n",
      "Parsing domain blocks-domain.pddl\n",
      "Parsing problem duplicatered/problem16.pddl\n"
     ]
    },
    {
     "name": "stderr",
     "output_type": "stream",
     "text": [
      "T: no, put pink blocks on red blocks\n"
     ]
    },
    {
     "name": "stdout",
     "output_type": "stream",
     "text": [
      "problem16.pddl reward: -12\n",
      "Parsing domain blocks-domain.pddl\n",
      "Parsing problem duplicatered/problem17.pddl\n",
      "problem17.pddl reward: -10\n",
      "Parsing domain blocks-domain.pddl\n",
      "Parsing problem duplicatered/problem18.pddl\n",
      "problem18.pddl reward: -10\n",
      "Parsing domain blocks-domain.pddl\n",
      "Parsing problem duplicatered/problem19.pddl\n"
     ]
    },
    {
     "name": "stderr",
     "output_type": "stream",
     "text": [
      "T: No, now you cannot put b6 in the tower because you must put pink blocks on red blocks\n",
      "T: no, put pink blocks on red blocks\n",
      "T: no, put pink blocks on red blocks\n"
     ]
    },
    {
     "name": "stdout",
     "output_type": "stream",
     "text": [
      "problem19.pddl reward: -16\n",
      "Parsing domain blocks-domain.pddl\n",
      "Parsing problem duplicatered/problem20.pddl\n"
     ]
    },
    {
     "name": "stderr",
     "output_type": "stream",
     "text": [
      "T: no, put red blocks on blue blocks\n",
      "T: No, now you cannot put b7 in the tower because you must put pink blocks on red blocks\n",
      "T: No, now you cannot put b7 in the tower because you must put red blocks on blue blocks\n",
      "T: No, now you cannot put b7 in the tower because you must put red blocks on blue blocks\n",
      "T: No, now you cannot put b7 in the tower because you must put red blocks on blue blocks\n",
      "T: No, now you cannot put b7 in the tower because you must put red blocks on blue blocks\n",
      "T: No, now you cannot put b7 in the tower because you must put red blocks on blue blocks\n"
     ]
    },
    {
     "name": "stdout",
     "output_type": "stream",
     "text": [
      "problem20.pddl reward: -24\n",
      "Parsing domain blocks-domain.pddl\n",
      "Parsing problem duplicatered/problem21.pddl\n",
      "problem21.pddl reward: -10\n",
      "Parsing domain blocks-domain.pddl\n",
      "Parsing problem duplicatered/problem22.pddl\n",
      "problem22.pddl reward: -10\n",
      "Parsing domain blocks-domain.pddl\n",
      "Parsing problem duplicatered/problem23.pddl\n",
      "problem23.pddl reward: -10\n",
      "Parsing domain blocks-domain.pddl\n",
      "Parsing problem duplicatered/problem24.pddl\n"
     ]
    },
    {
     "name": "stderr",
     "output_type": "stream",
     "text": [
      "T: No, now you cannot put b2 in the tower because you must put pink blocks on red blocks\n",
      "T: No, now you cannot put b2 in the tower because you must put pink blocks on red blocks\n",
      "T: No, now you cannot put b2 in the tower because you must put pink blocks on red blocks\n",
      "T: No, now you cannot put b2 in the tower because you must put pink blocks on red blocks\n",
      "T: No, now you cannot put b2 in the tower because you must put pink blocks on red blocks\n",
      "T: No, now you cannot put b2 in the tower because you must put pink blocks on red blocks\n",
      "T: No, now you cannot put b2 in the tower because you must put red blocks on blue blocks\n"
     ]
    },
    {
     "name": "stdout",
     "output_type": "stream",
     "text": [
      "problem24.pddl reward: -24\n",
      "Parsing domain blocks-domain.pddl\n",
      "Parsing problem duplicatered/problem25.pddl\n",
      "problem25.pddl reward: -10\n",
      "Parsing domain blocks-domain.pddl\n",
      "Parsing problem duplicatered/problem26.pddl\n"
     ]
    },
    {
     "name": "stderr",
     "output_type": "stream",
     "text": [
      "T: no, put red blocks on blue blocks\n",
      "T: No, now you cannot put b2 in the tower because you must put pink blocks on red blocks\n",
      "T: No, now you cannot put b2 in the tower because you must put pink blocks on red blocks\n",
      "T: No, now you cannot put b2 in the tower because you must put red blocks on blue blocks\n"
     ]
    },
    {
     "name": "stdout",
     "output_type": "stream",
     "text": [
      "problem26.pddl reward: -18\n",
      "Parsing domain blocks-domain.pddl\n",
      "Parsing problem duplicatered/problem27.pddl\n"
     ]
    },
    {
     "name": "stderr",
     "output_type": "stream",
     "text": [
      "T: no, put red blocks on blue blocks\n",
      "T: No, now you cannot put b8 in the tower because you must put pink blocks on red blocks\n",
      "T: No, now you cannot put b8 in the tower because you must put pink blocks on red blocks\n",
      "T: No, now you cannot put b8 in the tower because you must put red blocks on blue blocks\n"
     ]
    },
    {
     "name": "stdout",
     "output_type": "stream",
     "text": [
      "problem27.pddl reward: -18\n",
      "Parsing domain blocks-domain.pddl\n",
      "Parsing problem duplicatered/problem28.pddl\n"
     ]
    },
    {
     "name": "stderr",
     "output_type": "stream",
     "text": [
      "T: No, now you cannot put b3 in the tower because you must put pink blocks on red blocks\n",
      "T: No, now you cannot put b3 in the tower because you must put pink blocks on red blocks\n",
      "T: No, now you cannot put b3 in the tower because you must put pink blocks on red blocks\n"
     ]
    },
    {
     "name": "stdout",
     "output_type": "stream",
     "text": [
      "problem28.pddl reward: -16\n",
      "Parsing domain blocks-domain.pddl\n",
      "Parsing problem duplicatered/problem29.pddl\n"
     ]
    },
    {
     "name": "stderr",
     "output_type": "stream",
     "text": [
      "T: No, now you cannot put b5 in the tower because you must put red blocks on blue blocks\n",
      "T: No, now you cannot put b5 in the tower because you must put red blocks on blue blocks\n",
      "T: No, now you cannot put b5 in the tower because you must put red blocks on blue blocks\n",
      "T: No, now you cannot put b5 in the tower because you must put red blocks on blue blocks\n"
     ]
    },
    {
     "name": "stdout",
     "output_type": "stream",
     "text": [
      "problem29.pddl reward: -18\n",
      "Parsing domain blocks-domain.pddl\n",
      "Parsing problem duplicatered/problem30.pddl\n"
     ]
    },
    {
     "name": "stderr",
     "output_type": "stream",
     "text": [
      "T: No, now you cannot put b9 in the tower because you must put red blocks on blue blocks\n",
      "T: no, put pink blocks on red blocks\n"
     ]
    },
    {
     "name": "stdout",
     "output_type": "stream",
     "text": [
      "problem30.pddl reward: -14\n",
      "Parsing domain blocks-domain.pddl\n",
      "Parsing problem duplicatered/problem31.pddl\n",
      "problem31.pddl reward: -10\n",
      "Parsing domain blocks-domain.pddl\n",
      "Parsing problem duplicatered/problem32.pddl\n"
     ]
    },
    {
     "name": "stderr",
     "output_type": "stream",
     "text": [
      "T: No, now you cannot put b0 in the tower because you must put pink blocks on red blocks\n",
      "T: No, now you cannot put b0 in the tower because you must put pink blocks on red blocks\n",
      "T: No, now you cannot put b0 in the tower because you must put pink blocks on red blocks\n",
      "T: No, now you cannot put b0 in the tower because you must put red blocks on blue blocks\n"
     ]
    },
    {
     "name": "stdout",
     "output_type": "stream",
     "text": [
      "problem32.pddl reward: -18\n",
      "Parsing domain blocks-domain.pddl\n",
      "Parsing problem duplicatered/problem33.pddl\n"
     ]
    },
    {
     "name": "stderr",
     "output_type": "stream",
     "text": [
      "T: No, now you cannot put b7 in the tower because you must put pink blocks on red blocks\n",
      "T: No, now you cannot put b7 in the tower because you must put pink blocks on red blocks\n",
      "T: No, now you cannot put b7 in the tower because you must put pink blocks on red blocks\n",
      "T: No, now you cannot put b7 in the tower because you must put pink blocks on red blocks\n",
      "T: No, now you cannot put b7 in the tower because you must put pink blocks on red blocks\n",
      "T: No, now you cannot put b7 in the tower because you must put pink blocks on red blocks\n",
      "T: No, now you cannot put b7 in the tower because you must put pink blocks on red blocks\n"
     ]
    },
    {
     "name": "stdout",
     "output_type": "stream",
     "text": [
      "problem33.pddl reward: -24\n",
      "Parsing domain blocks-domain.pddl\n",
      "Parsing problem duplicatered/problem34.pddl\n"
     ]
    },
    {
     "name": "stderr",
     "output_type": "stream",
     "text": [
      "T: no, put red blocks on blue blocks\n",
      "T: No, now you cannot put b9 in the tower because you must put pink blocks on red blocks\n"
     ]
    },
    {
     "name": "stdout",
     "output_type": "stream",
     "text": [
      "problem34.pddl reward: -14\n",
      "Parsing domain blocks-domain.pddl\n",
      "Parsing problem duplicatered/problem35.pddl\n",
      "problem35.pddl reward: -10\n",
      "Parsing domain blocks-domain.pddl\n",
      "Parsing problem duplicatered/problem36.pddl\n"
     ]
    },
    {
     "name": "stderr",
     "output_type": "stream",
     "text": [
      "T: No, now you cannot put b2 in the tower because you must put red blocks on blue blocks\n",
      "T: No, now you cannot put b2 in the tower because you must put red blocks on blue blocks\n",
      "T: No, now you cannot put b2 in the tower because you must put red blocks on blue blocks\n",
      "T: No, now you cannot put b2 in the tower because you must put red blocks on blue blocks\n",
      "T: No, now you cannot put b2 in the tower because you must put red blocks on blue blocks\n",
      "T: No, now you cannot put b2 in the tower because you must put red blocks on blue blocks\n",
      "T: No, now you cannot put b2 in the tower because you must put red blocks on blue blocks\n",
      "T: No, now you cannot put b2 in the tower because you must put red blocks on blue blocks\n"
     ]
    },
    {
     "name": "stdout",
     "output_type": "stream",
     "text": [
      "problem36.pddl reward: -26\n",
      "Parsing domain blocks-domain.pddl\n",
      "Parsing problem duplicatered/problem37.pddl\n",
      "problem37.pddl reward: -10\n",
      "Parsing domain blocks-domain.pddl\n",
      "Parsing problem duplicatered/problem38.pddl\n",
      "problem38.pddl reward: -10\n",
      "Parsing domain blocks-domain.pddl\n",
      "Parsing problem duplicatered/problem39.pddl\n",
      "problem39.pddl reward: -10\n",
      "Parsing domain blocks-domain.pddl\n",
      "Parsing problem duplicatered/problem40.pddl\n"
     ]
    },
    {
     "name": "stderr",
     "output_type": "stream",
     "text": [
      "T: No, now you cannot put b9 in the tower because you must put pink blocks on red blocks\n",
      "T: No, now you cannot put b9 in the tower because you must put pink blocks on red blocks\n",
      "T: No, now you cannot put b9 in the tower because you must put pink blocks on red blocks\n",
      "T: No, now you cannot put b9 in the tower because you must put pink blocks on red blocks\n"
     ]
    },
    {
     "name": "stdout",
     "output_type": "stream",
     "text": [
      "problem40.pddl reward: -18\n",
      "Parsing domain blocks-domain.pddl\n",
      "Parsing problem duplicatered/problem41.pddl\n",
      "problem41.pddl reward: -10\n",
      "Parsing domain blocks-domain.pddl\n",
      "Parsing problem duplicatered/problem42.pddl\n"
     ]
    },
    {
     "name": "stderr",
     "output_type": "stream",
     "text": [
      "T: no, put red blocks on blue blocks\n",
      "T: no, put red blocks on blue blocks\n"
     ]
    },
    {
     "name": "stdout",
     "output_type": "stream",
     "text": [
      "problem42.pddl reward: -14\n",
      "Parsing domain blocks-domain.pddl\n",
      "Parsing problem duplicatered/problem43.pddl\n",
      "problem43.pddl reward: -10\n",
      "Parsing domain blocks-domain.pddl\n",
      "Parsing problem duplicatered/problem44.pddl\n"
     ]
    },
    {
     "name": "stderr",
     "output_type": "stream",
     "text": [
      "T: No, now you cannot put b3 in the tower because you must put pink blocks on red blocks\n",
      "T: no, put pink blocks on red blocks\n",
      "T: No, now you cannot put b3 in the tower because you must put pink blocks on red blocks\n",
      "T: No, now you cannot put b3 in the tower because you must put pink blocks on red blocks\n",
      "T: No, now you cannot put b3 in the tower because you must put pink blocks on red blocks\n"
     ]
    },
    {
     "name": "stdout",
     "output_type": "stream",
     "text": [
      "problem44.pddl reward: -20\n",
      "Parsing domain blocks-domain.pddl\n",
      "Parsing problem duplicatered/problem45.pddl\n",
      "problem45.pddl reward: -10\n",
      "Parsing domain blocks-domain.pddl\n",
      "Parsing problem duplicatered/problem46.pddl\n"
     ]
    },
    {
     "name": "stderr",
     "output_type": "stream",
     "text": [
      "T: no, put red blocks on blue blocks\n",
      "T: No, now you cannot put b0 in the tower because you must put pink blocks on red blocks\n",
      "T: No, now you cannot put b0 in the tower because you must put pink blocks on red blocks\n",
      "T: No, now you cannot put b0 in the tower because you must put pink blocks on red blocks\n",
      "T: No, now you cannot put b0 in the tower because you must put pink blocks on red blocks\n"
     ]
    },
    {
     "name": "stdout",
     "output_type": "stream",
     "text": [
      "problem46.pddl reward: -20\n",
      "Parsing domain blocks-domain.pddl\n",
      "Parsing problem duplicatered/problem47.pddl\n"
     ]
    },
    {
     "name": "stderr",
     "output_type": "stream",
     "text": [
      "T: No, now you cannot put b0 in the tower because you must put pink blocks on red blocks\n",
      "T: No, now you cannot put b0 in the tower because you must put pink blocks on red blocks\n",
      "T: No, now you cannot put b0 in the tower because you must put pink blocks on red blocks\n",
      "T: No, now you cannot put b0 in the tower because you must put red blocks on blue blocks\n"
     ]
    },
    {
     "name": "stdout",
     "output_type": "stream",
     "text": [
      "problem47.pddl reward: -18\n",
      "Parsing domain blocks-domain.pddl\n",
      "Parsing problem duplicatered/problem48.pddl\n",
      "problem48.pddl reward: -10\n",
      "Parsing domain blocks-domain.pddl\n",
      "Parsing problem duplicatered/problem49.pddl\n",
      "problem49.pddl reward: -10\n",
      "Parsing domain blocks-domain.pddl\n",
      "Parsing problem duplicatered/problem50.pddl\n",
      "problem50.pddl reward: -10\n",
      "Parsing domain blocks-domain.pddl\n",
      "Parsing problem duplicateredtest/problem1.pddl\n",
      "problem1.pddl reward: -10\n",
      "Parsing domain blocks-domain.pddl\n",
      "Parsing problem duplicateredtest/problem2.pddl\n"
     ]
    },
    {
     "name": "stderr",
     "output_type": "stream",
     "text": [
      "T: No, now you cannot put b7 in the tower because you must put pink blocks on red blocks\n",
      "T: No, now you cannot put b7 in the tower because you must put pink blocks on red blocks\n",
      "T: No, now you cannot put b7 in the tower because you must put pink blocks on red blocks\n"
     ]
    },
    {
     "name": "stdout",
     "output_type": "stream",
     "text": [
      "problem2.pddl reward: -16\n",
      "Parsing domain blocks-domain.pddl\n",
      "Parsing problem duplicateredtest/problem3.pddl\n",
      "problem3.pddl reward: -10\n",
      "Parsing domain blocks-domain.pddl\n",
      "Parsing problem duplicateredtest/problem4.pddl\n"
     ]
    },
    {
     "name": "stderr",
     "output_type": "stream",
     "text": [
      "T: No, now you cannot put b7 in the tower because you must put pink blocks on red blocks\n",
      "T: No, now you cannot put b7 in the tower because you must put pink blocks on red blocks\n",
      "T: No, now you cannot put b7 in the tower because you must put red blocks on blue blocks\n",
      "T: No, now you cannot put b7 in the tower because you must put red blocks on blue blocks\n",
      "T: No, now you cannot put b7 in the tower because you must put red blocks on blue blocks\n",
      "T: No, now you cannot put b7 in the tower because you must put red blocks on blue blocks\n",
      "T: No, now you cannot put b7 in the tower because you must put red blocks on blue blocks\n",
      "T: No, now you cannot put b7 in the tower because you must put red blocks on blue blocks\n",
      "T: no, put pink blocks on red blocks\n",
      "T: no, put pink blocks on red blocks\n"
     ]
    },
    {
     "name": "stdout",
     "output_type": "stream",
     "text": [
      "problem4.pddl reward: -30\n",
      "Parsing domain blocks-domain.pddl\n",
      "Parsing problem duplicateredtest/problem5.pddl\n",
      "problem5.pddl reward: -10\n",
      "Parsing domain blocks-domain.pddl\n",
      "Parsing problem duplicateredtest/problem6.pddl\n"
     ]
    },
    {
     "name": "stderr",
     "output_type": "stream",
     "text": [
      "T: No, now you cannot put b1 in the tower because you must put red blocks on blue blocks\n",
      "T: No, now you cannot put b1 in the tower because you must put red blocks on blue blocks\n",
      "T: No, now you cannot put b1 in the tower because you must put red blocks on blue blocks\n",
      "T: No, now you cannot put b1 in the tower because you must put red blocks on blue blocks\n",
      "T: No, now you cannot put b1 in the tower because you must put red blocks on blue blocks\n",
      "T: No, now you cannot put b1 in the tower because you must put red blocks on blue blocks\n",
      "T: No, now you cannot put b1 in the tower because you must put red blocks on blue blocks\n",
      "T: no, put pink blocks on red blocks\n"
     ]
    },
    {
     "name": "stdout",
     "output_type": "stream",
     "text": [
      "problem6.pddl reward: -26\n",
      "Parsing domain blocks-domain.pddl\n",
      "Parsing problem duplicateredtest/problem7.pddl\n",
      "problem7.pddl reward: -10\n",
      "Parsing domain blocks-domain.pddl\n",
      "Parsing problem duplicateredtest/problem8.pddl\n"
     ]
    },
    {
     "name": "stderr",
     "output_type": "stream",
     "text": [
      "T: No, now you cannot put b3 in the tower because you must put pink blocks on red blocks\n",
      "T: No, now you cannot put b3 in the tower because you must put pink blocks on red blocks\n",
      "T: No, now you cannot put b3 in the tower because you must put pink blocks on red blocks\n",
      "T: No, now you cannot put b3 in the tower because you must put pink blocks on red blocks\n",
      "T: No, now you cannot put b3 in the tower because you must put pink blocks on red blocks\n"
     ]
    },
    {
     "name": "stdout",
     "output_type": "stream",
     "text": [
      "problem8.pddl reward: -20\n",
      "Parsing domain blocks-domain.pddl\n",
      "Parsing problem duplicateredtest/problem9.pddl\n",
      "problem9.pddl reward: -10\n",
      "Parsing domain blocks-domain.pddl\n",
      "Parsing problem duplicateredtest/problem10.pddl\n"
     ]
    },
    {
     "name": "stderr",
     "output_type": "stream",
     "text": [
      "T: No, now you cannot put b2 in the tower because you must put pink blocks on red blocks\n",
      "T: No, now you cannot put b2 in the tower because you must put pink blocks on red blocks\n",
      "T: No, now you cannot put b2 in the tower because you must put pink blocks on red blocks\n",
      "T: No, now you cannot put b2 in the tower because you must put pink blocks on red blocks\n"
     ]
    },
    {
     "name": "stdout",
     "output_type": "stream",
     "text": [
      "problem10.pddl reward: -18\n",
      "Parsing domain blocks-domain.pddl\n",
      "Parsing problem duplicateredtest/problem11.pddl\n",
      "problem11.pddl reward: -10\n",
      "Parsing domain blocks-domain.pddl\n",
      "Parsing problem duplicateredtest/problem12.pddl\n",
      "problem12.pddl reward: -10\n",
      "Parsing domain blocks-domain.pddl\n",
      "Parsing problem duplicateredtest/problem13.pddl\n"
     ]
    },
    {
     "name": "stderr",
     "output_type": "stream",
     "text": [
      "T: No, now you cannot put b7 in the tower because you must put pink blocks on red blocks\n",
      "T: No, now you cannot put b7 in the tower because you must put pink blocks on red blocks\n"
     ]
    },
    {
     "name": "stdout",
     "output_type": "stream",
     "text": [
      "problem13.pddl reward: -14\n",
      "Parsing domain blocks-domain.pddl\n",
      "Parsing problem duplicateredtest/problem14.pddl\n",
      "problem14.pddl reward: -10\n",
      "Parsing domain blocks-domain.pddl\n",
      "Parsing problem duplicateredtest/problem15.pddl\n",
      "problem15.pddl reward: -10\n",
      "Parsing domain blocks-domain.pddl\n",
      "Parsing problem duplicateredtest/problem16.pddl\n"
     ]
    },
    {
     "name": "stderr",
     "output_type": "stream",
     "text": [
      "T: No, now you cannot put b5 in the tower because you must put pink blocks on red blocks\n",
      "T: No, now you cannot put b5 in the tower because you must put red blocks on blue blocks\n"
     ]
    },
    {
     "name": "stdout",
     "output_type": "stream",
     "text": [
      "problem16.pddl reward: -14\n",
      "Parsing domain blocks-domain.pddl\n",
      "Parsing problem duplicateredtest/problem17.pddl\n"
     ]
    },
    {
     "name": "stderr",
     "output_type": "stream",
     "text": [
      "T: No, now you cannot put b8 in the tower because you must put pink blocks on red blocks\n",
      "T: No, now you cannot put b8 in the tower because you must put pink blocks on red blocks\n"
     ]
    },
    {
     "name": "stdout",
     "output_type": "stream",
     "text": [
      "problem17.pddl reward: -14\n",
      "Parsing domain blocks-domain.pddl\n",
      "Parsing problem duplicateredtest/problem18.pddl\n"
     ]
    },
    {
     "name": "stderr",
     "output_type": "stream",
     "text": [
      "T: No, now you cannot put b3 in the tower because you must put red blocks on blue blocks\n",
      "T: No, now you cannot put b3 in the tower because you must put red blocks on blue blocks\n",
      "T: No, now you cannot put b3 in the tower because you must put red blocks on blue blocks\n",
      "T: No, now you cannot put b3 in the tower because you must put red blocks on blue blocks\n",
      "T: no, put pink blocks on red blocks\n"
     ]
    },
    {
     "name": "stdout",
     "output_type": "stream",
     "text": [
      "problem18.pddl reward: -20\n",
      "Parsing domain blocks-domain.pddl\n",
      "Parsing problem duplicateredtest/problem19.pddl\n"
     ]
    },
    {
     "name": "stderr",
     "output_type": "stream",
     "text": [
      "T: No, now you cannot put b9 in the tower because you must put pink blocks on red blocks\n"
     ]
    },
    {
     "name": "stdout",
     "output_type": "stream",
     "text": [
      "problem19.pddl reward: -12\n",
      "Parsing domain blocks-domain.pddl\n",
      "Parsing problem duplicateredtest/problem20.pddl\n",
      "problem20.pddl reward: -10\n"
     ]
    }
   ],
   "source": [
    "add_experiment(config_name='duplicatered_nolanguage', neural_config='fixed_bw')"
   ]
  },
  {
   "cell_type": "code",
   "execution_count": 9,
   "metadata": {
    "scrolled": true
   },
   "outputs": [
    {
     "name": "stdout",
     "output_type": "stream",
     "text": [
      "Parsing domain blocks-domain.pddl\n",
      "Parsing problem triplicatered/problem1.pddl\n",
      "Parsing domain blocks-domain.pddl\n",
      "Parsing problem triplicatered/problem1.pddl\n",
      "problem1.pddl reward: -10\n",
      "Parsing domain blocks-domain.pddl\n",
      "Parsing problem triplicatered/problem2.pddl\n",
      "problem2.pddl reward: -10\n",
      "Parsing domain blocks-domain.pddl\n",
      "Parsing problem triplicatered/problem3.pddl\n"
     ]
    },
    {
     "name": "stderr",
     "output_type": "stream",
     "text": [
      "T: No, now you cannot put b2 in the tower because you must put purple blocks on red blocks\n",
      "T: no, put red blocks on blue blocks\n",
      "T: no, put red blocks on blue blocks\n",
      "T: No, now you cannot put b4 in the tower because you must put red blocks on blue blocks\n",
      "T: No, now you cannot put b4 in the tower because you must put red blocks on blue blocks\n"
     ]
    },
    {
     "name": "stdout",
     "output_type": "stream",
     "text": [
      "problem3.pddl reward: -20\n",
      "Parsing domain blocks-domain.pddl\n",
      "Parsing problem triplicatered/problem4.pddl\n",
      "problem4.pddl reward: -10\n",
      "Parsing domain blocks-domain.pddl\n",
      "Parsing problem triplicatered/problem5.pddl\n",
      "problem5.pddl reward: -10\n",
      "Parsing domain blocks-domain.pddl\n",
      "Parsing problem triplicatered/problem6.pddl\n"
     ]
    },
    {
     "name": "stderr",
     "output_type": "stream",
     "text": [
      "T: no, put red blocks on blue blocks\n",
      "T: No, now you cannot put b0 in the tower because you must put red blocks on blue blocks\n",
      "T: No, now you cannot put b0 in the tower because you must put red blocks on blue blocks\n",
      "T: No, now you cannot put b0 in the tower because you must put red blocks on blue blocks\n",
      "T: no, put red blocks on blue blocks\n",
      "T: no, put purple blocks on red blocks\n",
      "T: no, put red blocks on blue blocks\n"
     ]
    },
    {
     "name": "stdout",
     "output_type": "stream",
     "text": [
      "problem6.pddl reward: -24\n",
      "Parsing domain blocks-domain.pddl\n",
      "Parsing problem triplicatered/problem7.pddl\n"
     ]
    },
    {
     "name": "stderr",
     "output_type": "stream",
     "text": [
      "T: no, put red blocks on blue blocks\n",
      "T: no, put purple blocks on red blocks\n"
     ]
    },
    {
     "name": "stdout",
     "output_type": "stream",
     "text": [
      "problem7.pddl reward: -14\n",
      "Parsing domain blocks-domain.pddl\n",
      "Parsing problem triplicatered/problem8.pddl\n"
     ]
    },
    {
     "name": "stderr",
     "output_type": "stream",
     "text": [
      "T: No, now you cannot put b1 in the tower because you must put red blocks on blue blocks\n",
      "T: No, now you cannot put b1 in the tower because you must put red blocks on blue blocks\n",
      "T: No, now you cannot put b1 in the tower because you must put red blocks on blue blocks\n",
      "T: No, now you cannot put b1 in the tower because you must put red blocks on blue blocks\n",
      "T: No, now you cannot put b1 in the tower because you must put red blocks on blue blocks\n",
      "T: No, now you cannot put b1 in the tower because you must put red blocks on blue blocks\n",
      "T: No, now you cannot put b1 in the tower because you must put red blocks on blue blocks\n",
      "T: no, put red blocks on blue blocks\n",
      "T: No, now you cannot put b1 in the tower because you must put red blocks on blue blocks\n",
      "T: No, now you cannot put b1 in the tower because you must put red blocks on blue blocks\n"
     ]
    },
    {
     "name": "stdout",
     "output_type": "stream",
     "text": [
      "problem8.pddl reward: -30\n",
      "Parsing domain blocks-domain.pddl\n",
      "Parsing problem triplicatered/problem9.pddl\n",
      "problem9.pddl reward: -10\n",
      "Parsing domain blocks-domain.pddl\n",
      "Parsing problem triplicatered/problem10.pddl\n",
      "problem10.pddl reward: -10\n",
      "Parsing domain blocks-domain.pddl\n",
      "Parsing problem triplicatered/problem11.pddl\n",
      "problem11.pddl reward: -10\n",
      "Parsing domain blocks-domain.pddl\n",
      "Parsing problem triplicatered/problem12.pddl\n",
      "problem12.pddl reward: -10\n",
      "Parsing domain blocks-domain.pddl\n",
      "Parsing problem triplicatered/problem13.pddl\n"
     ]
    },
    {
     "name": "stderr",
     "output_type": "stream",
     "text": [
      "T: no, put purple blocks on red blocks\n"
     ]
    },
    {
     "name": "stdout",
     "output_type": "stream",
     "text": [
      "problem13.pddl reward: -12\n",
      "Parsing domain blocks-domain.pddl\n",
      "Parsing problem triplicatered/problem14.pddl\n",
      "problem14.pddl reward: -10\n",
      "Parsing domain blocks-domain.pddl\n",
      "Parsing problem triplicatered/problem15.pddl\n"
     ]
    },
    {
     "name": "stderr",
     "output_type": "stream",
     "text": [
      "T: no, put red blocks on blue blocks\n",
      "T: no, put red blocks on blue blocks\n",
      "T: no, put red blocks on blue blocks\n",
      "T: no, put purple blocks on red blocks\n"
     ]
    },
    {
     "name": "stdout",
     "output_type": "stream",
     "text": [
      "problem15.pddl reward: -18\n",
      "Parsing domain blocks-domain.pddl\n",
      "Parsing problem triplicatered/problem16.pddl\n"
     ]
    },
    {
     "name": "stderr",
     "output_type": "stream",
     "text": [
      "T: no, put red blocks on blue blocks\n",
      "T: no, put red blocks on blue blocks\n",
      "T: no, put red blocks on blue blocks\n"
     ]
    },
    {
     "name": "stdout",
     "output_type": "stream",
     "text": [
      "problem16.pddl reward: -16\n",
      "Parsing domain blocks-domain.pddl\n",
      "Parsing problem triplicatered/problem17.pddl\n"
     ]
    },
    {
     "name": "stderr",
     "output_type": "stream",
     "text": [
      "T: no, put red blocks on blue blocks\n",
      "T: No, now you cannot put b2 in the tower because you must put red blocks on blue blocks\n",
      "T: No, now you cannot put b2 in the tower because you must put red blocks on blue blocks\n",
      "T: No, now you cannot put b2 in the tower because you must put red blocks on blue blocks\n",
      "T: No, now you cannot put b2 in the tower because you must put red blocks on blue blocks\n",
      "T: no, put purple blocks on red blocks\n",
      "T: no, put purple blocks on red blocks\n"
     ]
    },
    {
     "name": "stdout",
     "output_type": "stream",
     "text": [
      "problem17.pddl reward: -24\n",
      "Parsing domain blocks-domain.pddl\n",
      "Parsing problem triplicatered/problem18.pddl\n",
      "problem18.pddl reward: -10\n",
      "Parsing domain blocks-domain.pddl\n",
      "Parsing problem triplicatered/problem19.pddl\n"
     ]
    },
    {
     "name": "stderr",
     "output_type": "stream",
     "text": [
      "T: No, now you cannot put b7 in the tower because you must put purple blocks on red blocks\n",
      "T: No, now you cannot put b7 in the tower because you must put purple blocks on red blocks\n"
     ]
    },
    {
     "name": "stdout",
     "output_type": "stream",
     "text": [
      "problem19.pddl reward: -14\n",
      "Parsing domain blocks-domain.pddl\n",
      "Parsing problem triplicatered/problem20.pddl\n"
     ]
    },
    {
     "name": "stderr",
     "output_type": "stream",
     "text": [
      "T: No, now you cannot put b1 in the tower because you must put red blocks on blue blocks\n",
      "T: No, now you cannot put b1 in the tower because you must put red blocks on blue blocks\n",
      "T: No, now you cannot put b1 in the tower because you must put red blocks on blue blocks\n",
      "T: No, now you cannot put b1 in the tower because you must put red blocks on blue blocks\n",
      "T: No, now you cannot put b1 in the tower because you must put red blocks on blue blocks\n",
      "T: No, now you cannot put b1 in the tower because you must put red blocks on blue blocks\n"
     ]
    },
    {
     "name": "stdout",
     "output_type": "stream",
     "text": [
      "problem20.pddl reward: -22\n",
      "Parsing domain blocks-domain.pddl\n",
      "Parsing problem triplicatered/problem21.pddl\n",
      "problem21.pddl reward: -10\n",
      "Parsing domain blocks-domain.pddl\n",
      "Parsing problem triplicatered/problem22.pddl\n",
      "problem22.pddl reward: -10\n",
      "Parsing domain blocks-domain.pddl\n",
      "Parsing problem triplicatered/problem23.pddl\n",
      "problem23.pddl reward: -10\n",
      "Parsing domain blocks-domain.pddl\n",
      "Parsing problem triplicatered/problem24.pddl\n",
      "problem24.pddl reward: -10\n",
      "Parsing domain blocks-domain.pddl\n",
      "Parsing problem triplicatered/problem25.pddl\n"
     ]
    },
    {
     "name": "stderr",
     "output_type": "stream",
     "text": [
      "T: No, now you cannot put b2 in the tower because you must put red blocks on blue blocks\n",
      "T: No, now you cannot put b2 in the tower because you must put red blocks on blue blocks\n",
      "T: No, now you cannot put b2 in the tower because you must put red blocks on blue blocks\n",
      "T: No, now you cannot put b2 in the tower because you must put red blocks on blue blocks\n",
      "T: No, now you cannot put b2 in the tower because you must put red blocks on blue blocks\n",
      "T: No, now you cannot put b2 in the tower because you must put red blocks on blue blocks\n"
     ]
    },
    {
     "name": "stdout",
     "output_type": "stream",
     "text": [
      "problem25.pddl reward: -22\n",
      "Parsing domain blocks-domain.pddl\n",
      "Parsing problem triplicatered/problem26.pddl\n"
     ]
    },
    {
     "name": "stderr",
     "output_type": "stream",
     "text": [
      "T: No, now you cannot put b9 in the tower because you must put purple blocks on red blocks\n",
      "T: No, now you cannot put b9 in the tower because you must put red blocks on blue blocks\n"
     ]
    },
    {
     "name": "stdout",
     "output_type": "stream",
     "text": [
      "problem26.pddl reward: -14\n",
      "Parsing domain blocks-domain.pddl\n",
      "Parsing problem triplicatered/problem27.pddl\n"
     ]
    },
    {
     "name": "stderr",
     "output_type": "stream",
     "text": [
      "T: no, put red blocks on blue blocks\n"
     ]
    },
    {
     "name": "stdout",
     "output_type": "stream",
     "text": [
      "problem27.pddl reward: -12\n",
      "Parsing domain blocks-domain.pddl\n",
      "Parsing problem triplicatered/problem28.pddl\n",
      "problem28.pddl reward: -10\n",
      "Parsing domain blocks-domain.pddl\n",
      "Parsing problem triplicatered/problem29.pddl\n"
     ]
    },
    {
     "name": "stderr",
     "output_type": "stream",
     "text": [
      "T: no, put red blocks on blue blocks\n"
     ]
    },
    {
     "name": "stdout",
     "output_type": "stream",
     "text": [
      "problem29.pddl reward: -12\n",
      "Parsing domain blocks-domain.pddl\n",
      "Parsing problem triplicatered/problem30.pddl\n"
     ]
    },
    {
     "name": "stderr",
     "output_type": "stream",
     "text": [
      "T: no, put red blocks on blue blocks\n",
      "T: No, now you cannot put b0 in the tower because you must put red blocks on blue blocks\n",
      "T: No, now you cannot put b0 in the tower because you must put red blocks on blue blocks\n"
     ]
    },
    {
     "name": "stdout",
     "output_type": "stream",
     "text": [
      "problem30.pddl reward: -16\n",
      "Parsing domain blocks-domain.pddl\n",
      "Parsing problem triplicatered/problem31.pddl\n"
     ]
    },
    {
     "name": "stderr",
     "output_type": "stream",
     "text": [
      "T: No, now you cannot put b1 in the tower because you must put purple blocks on red blocks\n",
      "T: no, put red blocks on blue blocks\n",
      "T: No, now you cannot put b1 in the tower because you must put purple blocks on red blocks\n",
      "T: No, now you cannot put b1 in the tower because you must put purple blocks on red blocks\n",
      "T: No, now you cannot put b1 in the tower because you must put purple blocks on red blocks\n",
      "T: No, now you cannot put b1 in the tower because you must put purple blocks on red blocks\n",
      "T: No, now you cannot put b1 in the tower because you must put purple blocks on red blocks\n",
      "T: No, now you cannot put b1 in the tower because you must put red blocks on blue blocks\n",
      "T: No, now you cannot put b1 in the tower because you must put red blocks on blue blocks\n",
      "T: No, now you cannot put b1 in the tower because you must put purple blocks on red blocks\n"
     ]
    },
    {
     "name": "stdout",
     "output_type": "stream",
     "text": [
      "problem31.pddl reward: -30\n",
      "Parsing domain blocks-domain.pddl\n",
      "Parsing problem triplicatered/problem32.pddl\n",
      "problem32.pddl reward: -10\n",
      "Parsing domain blocks-domain.pddl\n",
      "Parsing problem triplicatered/problem33.pddl\n",
      "problem33.pddl reward: -10\n",
      "Parsing domain blocks-domain.pddl\n",
      "Parsing problem triplicatered/problem34.pddl\n",
      "problem34.pddl reward: -10\n",
      "Parsing domain blocks-domain.pddl\n",
      "Parsing problem triplicatered/problem35.pddl\n",
      "problem35.pddl reward: -10\n",
      "Parsing domain blocks-domain.pddl\n",
      "Parsing problem triplicatered/problem36.pddl\n"
     ]
    },
    {
     "name": "stderr",
     "output_type": "stream",
     "text": [
      "T: No, now you cannot put b4 in the tower because you must put purple blocks on red blocks\n",
      "T: no, put red blocks on blue blocks\n",
      "T: no, put red blocks on blue blocks\n",
      "T: No, now you cannot put b4 in the tower because you must put purple blocks on red blocks\n",
      "T: No, now you cannot put b4 in the tower because you must put purple blocks on red blocks\n",
      "T: No, now you cannot put b4 in the tower because you must put red blocks on blue blocks\n",
      "T: no, put red blocks on blue blocks\n",
      "T: No, now you cannot put b4 in the tower because you must put purple blocks on red blocks\n"
     ]
    },
    {
     "name": "stdout",
     "output_type": "stream",
     "text": [
      "problem36.pddl reward: -26\n",
      "Parsing domain blocks-domain.pddl\n",
      "Parsing problem triplicatered/problem37.pddl\n",
      "problem37.pddl reward: -10\n",
      "Parsing domain blocks-domain.pddl\n",
      "Parsing problem triplicatered/problem38.pddl\n",
      "problem38.pddl reward: -10\n",
      "Parsing domain blocks-domain.pddl\n",
      "Parsing problem triplicatered/problem39.pddl\n"
     ]
    },
    {
     "name": "stderr",
     "output_type": "stream",
     "text": [
      "T: No, now you cannot put b1 in the tower because you must put red blocks on blue blocks\n",
      "T: No, now you cannot put b1 in the tower because you must put red blocks on blue blocks\n"
     ]
    },
    {
     "name": "stdout",
     "output_type": "stream",
     "text": [
      "problem39.pddl reward: -14\n",
      "Parsing domain blocks-domain.pddl\n",
      "Parsing problem triplicatered/problem40.pddl\n",
      "problem40.pddl reward: -10\n",
      "Parsing domain blocks-domain.pddl\n",
      "Parsing problem triplicatered/problem41.pddl\n"
     ]
    },
    {
     "name": "stderr",
     "output_type": "stream",
     "text": [
      "T: no, put red blocks on blue blocks\n",
      "T: No, now you cannot put b7 in the tower because you must put red blocks on blue blocks\n",
      "T: No, now you cannot put b7 in the tower because you must put red blocks on blue blocks\n",
      "T: No, now you cannot put b7 in the tower because you must put red blocks on blue blocks\n"
     ]
    },
    {
     "name": "stdout",
     "output_type": "stream",
     "text": [
      "problem41.pddl reward: -18\n",
      "Parsing domain blocks-domain.pddl\n",
      "Parsing problem triplicatered/problem42.pddl\n",
      "problem42.pddl reward: -10\n",
      "Parsing domain blocks-domain.pddl\n",
      "Parsing problem triplicatered/problem43.pddl\n",
      "problem43.pddl reward: -10\n",
      "Parsing domain blocks-domain.pddl\n",
      "Parsing problem triplicatered/problem44.pddl\n"
     ]
    },
    {
     "name": "stderr",
     "output_type": "stream",
     "text": [
      "T: no, put red blocks on blue blocks\n",
      "T: No, now you cannot put b1 in the tower because you must put purple blocks on red blocks\n",
      "T: No, now you cannot put b1 in the tower because you must put purple blocks on red blocks\n"
     ]
    },
    {
     "name": "stdout",
     "output_type": "stream",
     "text": [
      "problem44.pddl reward: -16\n",
      "Parsing domain blocks-domain.pddl\n",
      "Parsing problem triplicatered/problem45.pddl\n",
      "problem45.pddl reward: -10\n",
      "Parsing domain blocks-domain.pddl\n",
      "Parsing problem triplicatered/problem46.pddl\n"
     ]
    },
    {
     "name": "stderr",
     "output_type": "stream",
     "text": [
      "T: no, put red blocks on blue blocks\n",
      "T: no, put red blocks on blue blocks\n",
      "T: no, put red blocks on blue blocks\n",
      "T: No, now you cannot put b8 in the tower because you must put red blocks on blue blocks\n",
      "T: No, now you cannot put b8 in the tower because you must put red blocks on blue blocks\n",
      "T: No, now you cannot put b8 in the tower because you must put red blocks on blue blocks\n",
      "T: No, now you cannot put b8 in the tower because you must put red blocks on blue blocks\n",
      "T: no, put purple blocks on red blocks\n"
     ]
    },
    {
     "name": "stdout",
     "output_type": "stream",
     "text": [
      "problem46.pddl reward: -26\n",
      "Parsing domain blocks-domain.pddl\n",
      "Parsing problem triplicatered/problem47.pddl\n"
     ]
    },
    {
     "name": "stderr",
     "output_type": "stream",
     "text": [
      "T: no, put red blocks on blue blocks\n"
     ]
    },
    {
     "name": "stdout",
     "output_type": "stream",
     "text": [
      "problem47.pddl reward: -12\n",
      "Parsing domain blocks-domain.pddl\n",
      "Parsing problem triplicatered/problem48.pddl\n",
      "problem48.pddl reward: -10\n",
      "Parsing domain blocks-domain.pddl\n",
      "Parsing problem triplicatered/problem49.pddl\n",
      "problem49.pddl reward: -10\n",
      "Parsing domain blocks-domain.pddl\n",
      "Parsing problem triplicatered/problem50.pddl\n"
     ]
    },
    {
     "name": "stderr",
     "output_type": "stream",
     "text": [
      "T: No, now you cannot put b0 in the tower because you must put purple blocks on red blocks\n",
      "T: No, now you cannot put b0 in the tower because you must put purple blocks on red blocks\n",
      "T: No, now you cannot put b0 in the tower because you must put purple blocks on red blocks\n",
      "T: No, now you cannot put b0 in the tower because you must put purple blocks on red blocks\n"
     ]
    },
    {
     "name": "stdout",
     "output_type": "stream",
     "text": [
      "problem50.pddl reward: -18\n"
     ]
    },
    {
     "ename": "UnboundLocalError",
     "evalue": "local variable 'results_file' referenced before assignment",
     "output_type": "error",
     "traceback": [
      "\u001b[0;31m---------------------------------------------------------------------------\u001b[0m",
      "\u001b[0;31mFileNotFoundError\u001b[0m                         Traceback (most recent call last)",
      "\u001b[0;32m~/Desktop/phd/src/experiment.py\u001b[0m in \u001b[0;36madd_experiment\u001b[0;34m(config_name, neural_config, debug)\u001b[0m\n\u001b[1;32m    280\u001b[0m     \u001b[0;32mtry\u001b[0m\u001b[0;34m:\u001b[0m\u001b[0;34m\u001b[0m\u001b[0m\n\u001b[0;32m--> 281\u001b[0;31m         \u001b[0mresults_file\u001b[0m \u001b[0;34m=\u001b[0m \u001b[0mrun_experiment\u001b[0m\u001b[0;34m(\u001b[0m\u001b[0mconfig_name\u001b[0m\u001b[0;34m=\u001b[0m\u001b[0mconfig_name\u001b[0m\u001b[0;34m,\u001b[0m \u001b[0mneural_config\u001b[0m\u001b[0;34m=\u001b[0m\u001b[0mneural_config\u001b[0m\u001b[0;34m,\u001b[0m \u001b[0mdebug\u001b[0m\u001b[0;34m=\u001b[0m\u001b[0mdebug\u001b[0m\u001b[0;34m)\u001b[0m\u001b[0;34m\u001b[0m\u001b[0m\n\u001b[0m\u001b[1;32m    282\u001b[0m     \u001b[0;32mexcept\u001b[0m\u001b[0;34m:\u001b[0m\u001b[0;34m\u001b[0m\u001b[0m\n",
      "\u001b[0;32m~/Desktop/phd/src/experiment.py\u001b[0m in \u001b[0;36mrun_experiment\u001b[0;34m(config_name, debug, neural_config)\u001b[0m\n\u001b[1;32m    211\u001b[0m     \u001b[0mproblem_dir\u001b[0m \u001b[0;34m=\u001b[0m \u001b[0mproblem_dir\u001b[0m \u001b[0;34m+\u001b[0m \u001b[0;34m'test'\u001b[0m\u001b[0;34m\u001b[0m\u001b[0m\n\u001b[0;32m--> 212\u001b[0;31m     \u001b[0mproblems\u001b[0m \u001b[0;34m=\u001b[0m \u001b[0mos\u001b[0m\u001b[0;34m.\u001b[0m\u001b[0mlistdir\u001b[0m\u001b[0;34m(\u001b[0m\u001b[0mproblem_dir\u001b[0m\u001b[0;34m)\u001b[0m\u001b[0;34m\u001b[0m\u001b[0m\n\u001b[0m\u001b[1;32m    213\u001b[0m \u001b[0;34m\u001b[0m\u001b[0m\n",
      "\u001b[0;31mFileNotFoundError\u001b[0m: [Errno 2] No such file or directory: 'triplicateredtest'",
      "\nDuring handling of the above exception, another exception occurred:\n",
      "\u001b[0;31mUnboundLocalError\u001b[0m                         Traceback (most recent call last)",
      "\u001b[0;32m<ipython-input-9-7339856a0765>\u001b[0m in \u001b[0;36m<module>\u001b[0;34m()\u001b[0m\n\u001b[0;32m----> 1\u001b[0;31m \u001b[0madd_experiment\u001b[0m\u001b[0;34m(\u001b[0m\u001b[0mconfig_name\u001b[0m\u001b[0;34m=\u001b[0m\u001b[0;34m'triplicatered_nolanguage'\u001b[0m\u001b[0;34m,\u001b[0m \u001b[0mneural_config\u001b[0m\u001b[0;34m=\u001b[0m\u001b[0;34m'fixed_bw'\u001b[0m\u001b[0;34m)\u001b[0m\u001b[0;34m\u001b[0m\u001b[0m\n\u001b[0m",
      "\u001b[0;32m~/Desktop/phd/src/experiment.py\u001b[0m in \u001b[0;36madd_experiment\u001b[0;34m(config_name, neural_config, debug)\u001b[0m\n\u001b[1;32m    283\u001b[0m         \u001b[0mdf\u001b[0m \u001b[0;34m=\u001b[0m \u001b[0mpd\u001b[0m\u001b[0;34m.\u001b[0m\u001b[0mread_sql\u001b[0m\u001b[0;34m(\u001b[0m\u001b[0;34m'experiments'\u001b[0m\u001b[0;34m,\u001b[0m \u001b[0mindex_col\u001b[0m\u001b[0;34m=\u001b[0m\u001b[0;34m'index'\u001b[0m\u001b[0;34m,\u001b[0m \u001b[0mcon\u001b[0m\u001b[0;34m=\u001b[0m\u001b[0mengine\u001b[0m\u001b[0;34m)\u001b[0m\u001b[0;34m\u001b[0m\u001b[0m\n\u001b[1;32m    284\u001b[0m         \u001b[0mlast_label\u001b[0m \u001b[0;34m=\u001b[0m \u001b[0mdf\u001b[0m\u001b[0;34m.\u001b[0m\u001b[0mindex\u001b[0m\u001b[0;34m[\u001b[0m\u001b[0;34m-\u001b[0m\u001b[0;36m1\u001b[0m\u001b[0;34m]\u001b[0m\u001b[0;34m\u001b[0m\u001b[0m\n\u001b[0;32m--> 285\u001b[0;31m         \u001b[0mdf\u001b[0m\u001b[0;34m.\u001b[0m\u001b[0mat\u001b[0m\u001b[0;34m[\u001b[0m\u001b[0mlast_label\u001b[0m\u001b[0;34m,\u001b[0m \u001b[0;34m'experiment_file'\u001b[0m\u001b[0;34m]\u001b[0m \u001b[0;34m=\u001b[0m \u001b[0mresults_file\u001b[0m\u001b[0;34m\u001b[0m\u001b[0m\n\u001b[0m\u001b[1;32m    286\u001b[0m         \u001b[0mdf\u001b[0m\u001b[0;34m.\u001b[0m\u001b[0mat\u001b[0m\u001b[0;34m[\u001b[0m\u001b[0mlast_label\u001b[0m\u001b[0;34m,\u001b[0m \u001b[0;34m'status'\u001b[0m\u001b[0;34m]\u001b[0m \u001b[0;34m=\u001b[0m \u001b[0;34m'ERROR'\u001b[0m\u001b[0;34m\u001b[0m\u001b[0m\n\u001b[1;32m    287\u001b[0m     \u001b[0;32melse\u001b[0m\u001b[0;34m:\u001b[0m\u001b[0;34m\u001b[0m\u001b[0m\n",
      "\u001b[0;31mUnboundLocalError\u001b[0m: local variable 'results_file' referenced before assignment"
     ]
    }
   ],
   "source": [
    "add_experiment(config_name='triplicatered_nolanguage', neural_config='fixed_bw')"
   ]
  },
  {
   "cell_type": "code",
   "execution_count": null,
   "metadata": {},
   "outputs": [],
   "source": []
  }
 ],
 "metadata": {
  "kernelspec": {
   "display_name": "Python 3",
   "language": "python",
   "name": "python3"
  },
  "language_info": {
   "codemirror_mode": {
    "name": "ipython",
    "version": 3
   },
   "file_extension": ".py",
   "mimetype": "text/x-python",
   "name": "python",
   "nbconvert_exporter": "python",
   "pygments_lexer": "ipython3",
   "version": "3.6.3"
  }
 },
 "nbformat": 4,
 "nbformat_minor": 2
}

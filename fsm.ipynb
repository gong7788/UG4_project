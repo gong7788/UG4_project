{
 "cells": [
  {
   "cell_type": "code",
   "execution_count": 1,
   "metadata": {},
   "outputs": [],
   "source": [
    "import pddl_functions\n",
    "import ff\n",
    "import block_plotting\n",
    "    "
   ]
  },
  {
   "cell_type": "code",
   "execution_count": 3,
   "metadata": {},
   "outputs": [],
   "source": []
  },
  {
   "cell_type": "code",
   "execution_count": 4,
   "metadata": {},
   "outputs": [],
   "source": []
  },
  {
   "cell_type": "code",
   "execution_count": 2,
   "metadata": {},
   "outputs": [],
   "source": [
    "class PDDLWorld(object):\n",
    "    def __init__(self, domain_file, problem_file):\n",
    "        self.domain, self.problem = pddl_functions.parse(domain_file, problem_file)\n",
    "        self.objects = pddl_functions.get_objects(self.problem)\n",
    "        self.state = self.problem.initialstate\n",
    "        self.colours = {o:c for o, c in zip(self.objects, get_colours(objects, state))}\n",
    "        self.predicates = block_plotting.get_predicates(self.objects, self.state, obscure=True)"
   ]
  },
  {
   "cell_type": "code",
   "execution_count": null,
   "metadata": {},
   "outputs": [],
   "source": [
    "class correcting_robot(object):\n",
    "    \n",
    "    def __init__(self, world, domain):\n",
    "        self.world = world\n",
    "        domain, problem = pddl_functions.parse(domain, 'blocks_problem_colour1.pddl')\n",
    "    def correct(self, user_input):\n",
    "        pass\n",
    "    def plan(self):\n",
    "        pass\n",
    "    def act(self, action):\n",
    "        pass\n",
    "    def sense(self, world):\n",
    "        objects = world.objects\n",
    "        predicates = world.predicates\n",
    "        colours = world.colours"
   ]
  },
  {
   "cell_type": "code",
   "execution_count": 2,
   "metadata": {},
   "outputs": [],
   "source": [
    "cm = block_plotting.colour_model"
   ]
  },
  {
   "cell_type": "code",
   "execution_count": 3,
   "metadata": {},
   "outputs": [],
   "source": [
    "colour_dict = {'blue':(0,0,1),\n",
    "                   'yellow':(1,1,0),\n",
    "                   'red':(1,0,0),\n",
    "                   'green':(0, 1, 0)}\n",
    "\n",
    "def generate_data(n):\n",
    "    colours = ['blue', 'green', 'red', 'yellow']\n",
    "    data = []\n",
    "    labels = []\n",
    "    for i in range(n):\n",
    "        for c in colours:\n",
    "            data.append(cm(colour_dict[c]))\n",
    "            labels.append(c)\n",
    "    return data, labels"
   ]
  },
  {
   "cell_type": "code",
   "execution_count": 4,
   "metadata": {},
   "outputs": [],
   "source": [
    "data, labels = generate_data(2)"
   ]
  },
  {
   "cell_type": "code",
   "execution_count": 5,
   "metadata": {},
   "outputs": [],
   "source": [
    "from sklearn.naive_bayes import GaussianNB\n",
    "gnb = GaussianNB()\n",
    "colour_classifier = gnb.fit(data, labels)"
   ]
  },
  {
   "cell_type": "code",
   "execution_count": 6,
   "metadata": {},
   "outputs": [
    {
     "data": {
      "text/plain": [
       "array([[ 1.,  0.,  0.,  0.]])"
      ]
     },
     "execution_count": 6,
     "metadata": {},
     "output_type": "execute_result"
    }
   ],
   "source": [
    "colour_classifier.predict_proba([cm(colour_dict['blue'])])"
   ]
  },
  {
   "cell_type": "code",
   "execution_count": 7,
   "metadata": {},
   "outputs": [],
   "source": [
    "def binirise_labels(colour, labels):\n",
    "    return list(map(lambda x: int(x==colour), labels))\n",
    "        "
   ]
  },
  {
   "cell_type": "code",
   "execution_count": 8,
   "metadata": {},
   "outputs": [
    {
     "data": {
      "text/plain": [
       "[0, 1, 0, 0, 0, 1, 0, 0]"
      ]
     },
     "execution_count": 8,
     "metadata": {},
     "output_type": "execute_result"
    }
   ],
   "source": [
    "binirise_labels('green', labels)"
   ]
  },
  {
   "cell_type": "code",
   "execution_count": 12,
   "metadata": {},
   "outputs": [
    {
     "data": {
      "text/plain": [
       "['blue', 'green', 'red', 'yellow', 'blue', 'green', 'red', 'yellow']"
      ]
     },
     "execution_count": 12,
     "metadata": {},
     "output_type": "execute_result"
    }
   ],
   "source": [
    "labels"
   ]
  },
  {
   "cell_type": "code",
   "execution_count": 9,
   "metadata": {},
   "outputs": [],
   "source": [
    "green_classifier = gnb.fit(data, binirise_labels('green', labels))"
   ]
  },
  {
   "cell_type": "code",
   "execution_count": 11,
   "metadata": {},
   "outputs": [
    {
     "name": "stdout",
     "output_type": "stream",
     "text": [
      "[[ 1.  0.]\n",
      " [ 1.  0.]]\n"
     ]
    }
   ],
   "source": [
    "print(colour_classifier.predict_proba([cm(colour_dict['green']), cm(colour_dict['blue'])]))"
   ]
  },
  {
   "cell_type": "code",
   "execution_count": 2,
   "metadata": {},
   "outputs": [
    {
     "name": "stdout",
     "output_type": "stream",
     "text": [
      "Parsing domain blocks-domain.pddl\n",
      "Parsing problem blocks_problem_colour1.pddl\n"
     ]
    }
   ],
   "source": [
    "domain, problem = pddl_functions.parse('blocks-domain.pddl', 'blocks_problem_colour1.pddl')"
   ]
  },
  {
   "cell_type": "code",
   "execution_count": 3,
   "metadata": {},
   "outputs": [],
   "source": [
    "objects = pddl_functions.get_objects(problem)"
   ]
  },
  {
   "cell_type": "code",
   "execution_count": 4,
   "metadata": {},
   "outputs": [
    {
     "data": {
      "text/plain": [
       "['b1', 'b2', 'b3', 'b4', 'b5']"
      ]
     },
     "execution_count": 4,
     "metadata": {},
     "output_type": "execute_result"
    }
   ],
   "source": [
    "objects"
   ]
  },
  {
   "cell_type": "code",
   "execution_count": 4,
   "metadata": {},
   "outputs": [],
   "source": [
    "state = problem.initialstate\n",
    "colours = {o:c for o, c in zip(objects, block_plotting.get_colours(objects, state))}"
   ]
  },
  {
   "cell_type": "code",
   "execution_count": 5,
   "metadata": {},
   "outputs": [
    {
     "data": {
      "text/plain": [
       "{'b1': (0.03014620377354157, 0.10180715135202141, 0.948325346445025),\n",
       " 'b2': (0.07200957688223703, 0.9873751422734615, 0.0008908441419944397),\n",
       " 'b3': (0.8795614479799312, 0.003978876101480919, 0.020857411888801275),\n",
       " 'b4': (0.7037954401522544, 0.9929517356399186, 0.24631272032597107),\n",
       " 'b5': (0.9431038160944882, 0.20411759476575453, 0.11195992305763323)}"
      ]
     },
     "execution_count": 5,
     "metadata": {},
     "output_type": "execute_result"
    }
   ],
   "source": [
    "colours"
   ]
  },
  {
   "cell_type": "code",
   "execution_count": 5,
   "metadata": {},
   "outputs": [],
   "source": [
    "predicates = block_plotting.get_predicates(objects, state, obscure=True)"
   ]
  },
  {
   "cell_type": "code",
   "execution_count": 10,
   "metadata": {},
   "outputs": [
    {
     "name": "stdout",
     "output_type": "stream",
     "text": [
      "on-table\n",
      "clear\n",
      "blue\n",
      "on-table\n",
      "clear\n",
      "green\n",
      "on-table\n",
      "clear\n",
      "red\n",
      "on-table\n",
      "clear\n",
      "in-tower\n",
      "yellow\n",
      "on-table\n",
      "clear\n",
      "red\n"
     ]
    }
   ],
   "source": [
    "for o in objects:\n",
    "    for p in pddl_functions.get_predicates(o, state):\n",
    "        print(p.name)"
   ]
  },
  {
   "cell_type": "code",
   "execution_count": 6,
   "metadata": {},
   "outputs": [
    {
     "data": {
      "text/plain": [
       "{'b1': {'clear': <pythonpddl2.pddl.Predicate at 0x7fabc9cbd7f0>,\n",
       "  'on-table': <pythonpddl2.pddl.Predicate at 0x7fabc9cbd240>},\n",
       " 'b2': {'clear': <pythonpddl2.pddl.Predicate at 0x7fabc9cbd940>,\n",
       "  'on-table': <pythonpddl2.pddl.Predicate at 0x7fabc9cbd358>},\n",
       " 'b3': {'clear': <pythonpddl2.pddl.Predicate at 0x7fabc9cbda90>,\n",
       "  'on-table': <pythonpddl2.pddl.Predicate at 0x7fabc9cbd470>},\n",
       " 'b4': {'clear': <pythonpddl2.pddl.Predicate at 0x7fabc9cbdbe0>,\n",
       "  'in-tower': <pythonpddl2.pddl.Predicate at 0x7fabc9c421d0>,\n",
       "  'on-table': <pythonpddl2.pddl.Predicate at 0x7fabc9cbd588>},\n",
       " 'b5': {'clear': <pythonpddl2.pddl.Predicate at 0x7fabc9cbdd30>,\n",
       "  'on-table': <pythonpddl2.pddl.Predicate at 0x7fabc9cbd6a0>}}"
      ]
     },
     "execution_count": 6,
     "metadata": {},
     "output_type": "execute_result"
    }
   ],
   "source": [
    "predicates"
   ]
  },
  {
   "cell_type": "code",
   "execution_count": null,
   "metadata": {},
   "outputs": [],
   "source": []
  }
 ],
 "metadata": {
  "kernelspec": {
   "display_name": "Python 3",
   "language": "python",
   "name": "python3"
  },
  "language_info": {
   "codemirror_mode": {
    "name": "ipython",
    "version": 3
   },
   "file_extension": ".py",
   "mimetype": "text/x-python",
   "name": "python",
   "nbconvert_exporter": "python",
   "pygments_lexer": "ipython3",
   "version": "3.6.3"
  }
 },
 "nbformat": 4,
 "nbformat_minor": 2
}

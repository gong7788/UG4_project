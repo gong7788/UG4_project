{
 "cells": [
  {
   "cell_type": "code",
   "execution_count": 1,
   "metadata": {},
   "outputs": [],
   "source": [
    "import requests\n",
    "from bs4 import BeautifulSoup\n",
    "import bibtexparser"
   ]
  },
  {
   "cell_type": "code",
   "execution_count": 2,
   "metadata": {},
   "outputs": [],
   "source": [
    "\n",
    "a = \"\"\"\n",
    "@inproceedings{DBLP:conf/chi/Overton15,\n",
    "  author    = {Kyle Overton},\n",
    "  title     = {\"Hello World\": {A} Digital Quandary and the Apotheosis of the Human},\n",
    "  booktitle = {Proceedings of the 33rd Annual {ACM} Conference Extended Abstracts\n",
    "               on Human Factors in Computing Systems, Seoul, {CHI} 2015 Extended\n",
    "               Abstracts, Republic of Korea, April 18 - 23, 2015},\n",
    "  pages     = {179},\n",
    "  year      = {2015},\n",
    "  crossref  = {DBLP:conf/chi/2015a},\n",
    "  url       = {http://doi.acm.org/10.1145/2702613.2732492},\n",
    "  doi       = {10.1145/2702613.2732492},\n",
    "  timestamp = {Mon, 20 Apr 2015 10:47:21 +0200},\n",
    "  biburl    = {http://dblp.uni-trier.de/rec/bib/conf/chi/Overton15},\n",
    "  bibsource = {dblp computer science bibliography, http://dblp.org}\n",
    "}\n",
    "\"\"\""
   ]
  },
  {
   "cell_type": "code",
   "execution_count": 12,
   "metadata": {},
   "outputs": [],
   "source": [
    "print(a, file=open('bib.bib', 'w'))"
   ]
  },
  {
   "cell_type": "code",
   "execution_count": 13,
   "metadata": {},
   "outputs": [],
   "source": [
    "with open('bib.bib', 'r') as bib:\n",
    "    bibtex_database = bibtexparser.load(bib)"
   ]
  },
  {
   "cell_type": "code",
   "execution_count": 14,
   "metadata": {},
   "outputs": [],
   "source": [
    "d = bibtex_database.entries_dict"
   ]
  },
  {
   "cell_type": "code",
   "execution_count": 15,
   "metadata": {},
   "outputs": [
    {
     "data": {
      "text/plain": [
       "{'DBLP:conf/chi/Overton15': {'ENTRYTYPE': 'inproceedings',\n",
       "  'ID': 'DBLP:conf/chi/Overton15',\n",
       "  'author': 'Kyle Overton',\n",
       "  'bibsource': 'dblp computer science bibliography, http://dblp.org',\n",
       "  'biburl': 'http://dblp.uni-trier.de/rec/bib/conf/chi/Overton15',\n",
       "  'booktitle': 'Proceedings of the 33rd Annual {ACM} Conference Extended Abstracts\\non Human Factors in Computing Systems, Seoul, {CHI} 2015 Extended\\nAbstracts, Republic of Korea, April 18 - 23, 2015',\n",
       "  'crossref': 'DBLP:conf/chi/2015a',\n",
       "  'doi': '10.1145/2702613.2732492',\n",
       "  'link': 'http://doi.acm.org/10.1145/2702613.2732492',\n",
       "  'pages': '179',\n",
       "  'timestamp': 'Mon, 20 Apr 2015 10:47:21 +0200',\n",
       "  'title': '\"Hello World\": {A} Digital Quandary and the Apotheosis of the Human',\n",
       "  'year': '2015'}}"
      ]
     },
     "execution_count": 15,
     "metadata": {},
     "output_type": "execute_result"
    }
   ],
   "source": [
    "d"
   ]
  },
  {
   "cell_type": "code",
   "execution_count": 18,
   "metadata": {},
   "outputs": [],
   "source": [
    "with open('mybib.bib', 'a') as bibtex_file:\n",
    "    bibtexparser.dump(bibtex_database, bibtex_file)\n"
   ]
  },
  {
   "cell_type": "code",
   "execution_count": 19,
   "metadata": {},
   "outputs": [
    {
     "name": "stdout",
     "output_type": "stream",
     "text": [
      "@inproceedings{DBLP:conf/chi/Overton15,\n",
      " author = {Kyle Overton},\n",
      " bibsource = {dblp computer science bibliography, http://dblp.org},\n",
      " biburl = {http://dblp.uni-trier.de/rec/bib/conf/chi/Overton15},\n",
      " booktitle = {Proceedings of the 33rd Annual {ACM} Conference Extended Abstracts\n",
      "on Human Factors in Computing Systems, Seoul, {CHI} 2015 Extended\n",
      "Abstracts, Republic of Korea, April 18 - 23, 2015},\n",
      " crossref = {DBLP:conf/chi/2015a},\n",
      " doi = {10.1145/2702613.2732492},\n",
      " link = {http://doi.acm.org/10.1145/2702613.2732492},\n",
      " pages = {179},\n",
      " timestamp = {Mon, 20 Apr 2015 10:47:21 +0200},\n",
      " title = {\"Hello World\": {A} Digital Quandary and the Apotheosis of the Human},\n",
      " year = {2015}\n",
      "}\n",
      "\n",
      "@inproceedings{DBLP:conf/chi/Overton15,\n",
      " author = {Kyle Overton},\n",
      " bibsource = {dblp computer science bibliography, http://dblp.org},\n",
      " biburl = {http://dblp.uni-trier.de/rec/bib/conf/chi/Overton15},\n",
      " booktitle = {Proceedings of the 33rd Annual {ACM} Conference Extended Abstracts\n",
      "on Human Factors in Computing Systems, Seoul, {CHI} 2015 Extended\n",
      "Abstracts, Republic of Korea, April 18 - 23, 2015},\n",
      " crossref = {DBLP:conf/chi/2015a},\n",
      " doi = {10.1145/2702613.2732492},\n",
      " link = {http://doi.acm.org/10.1145/2702613.2732492},\n",
      " pages = {179},\n",
      " timestamp = {Mon, 20 Apr 2015 10:47:21 +0200},\n",
      " title = {\"Hello World\": {A} Digital Quandary and the Apotheosis of the Human},\n",
      " year = {2015}\n",
      "}\n",
      "\n",
      "\n"
     ]
    }
   ],
   "source": [
    "with open('mybib.bib', 'r') as b:\n",
    "    print(b.read())"
   ]
  },
  {
   "cell_type": "code",
   "execution_count": 22,
   "metadata": {},
   "outputs": [],
   "source": [
    "import os.path\n",
    "basedir = '/afs/inf.ed.ac.uk/user/s12/s1202144/Desktop/phd/'\n",
    "notes = os.path.join(basedir, 'notes')\n",
    "readings = os.path.join(basedir, 'readings')\n",
    "\n"
   ]
  },
  {
   "cell_type": "code",
   "execution_count": 21,
   "metadata": {},
   "outputs": [
    {
     "name": "stdout",
     "output_type": "stream",
     "text": [
      "/afs/inf.ed.ac.uk/user/s12/s1202144/Desktop/phd/notes\n"
     ]
    }
   ],
   "source": [
    "print(os.path.join(basedir, 'notes'))"
   ]
  },
  {
   "cell_type": "code",
   "execution_count": 23,
   "metadata": {},
   "outputs": [],
   "source": [
    "bib = 'http://dblp.uni-trier.de/rec/bibtex/conf/chi/Overton15'"
   ]
  },
  {
   "cell_type": "code",
   "execution_count": 24,
   "metadata": {},
   "outputs": [],
   "source": [
    "r = requests.get(bib)"
   ]
  },
  {
   "cell_type": "code",
   "execution_count": 27,
   "metadata": {},
   "outputs": [],
   "source": [
    "soup = BeautifulSoup(r.text, 'html5lib')"
   ]
  },
  {
   "cell_type": "code",
   "execution_count": 28,
   "metadata": {
    "collapsed": true
   },
   "outputs": [
    {
     "data": {
      "text/plain": [
       "<bound method BeautifulSoup.prettify of <!DOCTYPE html>\n",
       "<html lang=\"en\"><head><meta charset=\"utf-8\"/><title>dblp: BibTeX record conf/chi/Overton15</title><link href=\"http://dblp.uni-trier.de/img/dblp.icon.192x192.png\" rel=\"apple-touch-icon\" sizes=\"192x192\" type=\"image/png\"/><link href=\"http://dblp.uni-trier.de/img/dblp.icon.192x192.png\" rel=\"icon\" sizes=\"192x192\" type=\"image/png\"/><link href=\"http://dblp.uni-trier.de/img/dblp.icon.152x152.png\" rel=\"icon\" sizes=\"152x152\" type=\"image/png\"/><link href=\"http://dblp.uni-trier.de/img/dblp.icon.120x120.png\" rel=\"icon\" sizes=\"120x120\" type=\"image/png\"/><link href=\"http://dblp.uni-trier.de/img/favicon.ico\" id=\"favicon\" rel=\"shortcut icon\" sizes=\"16x16 24x24 32x32 64x64\" type=\"image/x-icon\"/><link href=\"http://dblp.uni-trier.de/css/dblp-2017-08-18.css\" rel=\"stylesheet\" type=\"text/css\"/><!--[if lt IE 9]><link rel=\"stylesheet\" href=\"http://dblp.uni-trier.de/css/dblp-ie8-fix.css\" /><script src=\"http://dblp.uni-trier.de/js/html5shiv-printshiv-3.6.2.min.js\" type=\"application/javascript\"></script><![endif]--><link href=\"http://dblp.uni-trier.de/css/open-sans.css\" rel=\"stylesheet\" type=\"text/css\"/><link href=\"http://dblp.uni-trier.de/rec/conf/chi/Overton15\" rel=\"canonical\"/><link href=\"http://dblp.uni-trier.de/rec/xml/conf/chi/Overton15.xml\" rel=\"alternate\" title=\"record XML\" type=\"application/xml\"/><link href=\"http://dblp.uni-trier.de/rec/rdf/conf/chi/Overton15.rdf\" rel=\"alternate\" title=\"record RDF/XML\" type=\"application/rdf+xml\"/><link href=\"http://dblp.uni-trier.de/rec/nt/conf/chi/Overton15.nt\" rel=\"alternate\" title=\"person page RDF N-Triples\" type=\"application/n-triples\"/><link href=\"http://dblp.uni-trier.de/rec/bib/conf/chi/Overton15.bib\" rel=\"alternate\" title=\"record BibTeX\" type=\"application/x-bibtex\"/><link href=\"http://dblp.uni-trier.de/rec/ris/conf/chi/Overton15.ris\" rel=\"alternate\" title=\"record RIS\" type=\"application/x-research-info-systems\"/><meta content=\"Bibliographic details on BibTeX record conf/chi/Overton15\" name=\"description\"/><meta content=\"BibTeX record conf/chi/Overton15, dblp, computer science, bibliography, publication, conference, journal, book, thesis, open data, bibtex\" name=\"keywords\"/><script type=\"application/ld+json\">{\"@context\": \"http://schema.org\",\"@type\": \"WebSite\",\"url\": \"http://dblp.uni-trier.de\",\"sameAs\": \"http://dblp.org\",\"name\": \"dblp computer science bibliography\",\"alternateName\": \"DBLP\",\"description\": \"The dblp computer science bibliography is the on-line reference for open bibliographic information on computer science journals and proceedings\",\"creator\": {\"@context\": \"http://schema.org\",\"@type\": \"Organization\",\"name\": \"dblp computer science bibliography\",\"url\": \"http://dblp.org\",\"logo\": \"http://dblp.uni-trier.de/img/dblp.icon.192x192.png\",\"contactPoint\": {\"@context\": \"http://schema.org\",\"@type\": \"ContactPoint\",\"contactType\": \"customer support\",\"url\": \"http://dblp.uni-trier.de/db/about/team\",\"email\": \"dblp@dagstuhl.de\"},\"sameAs\": [\"http://en.wikipedia.org/wiki/DBLP\",\"https://twitter.com/dblp_org\",\"https://facebook.com/dblp.org\",\"https://plus.google.com/117854475775750360483\",\"http://www.linkedin.com/groups/dblp-Computer-Science-Bibliography-4948668/about\"],\"founder\": {\"@context\": \"http://schema.org\",\"@type\": \"Person\",\"name\": \"Michael Ley\",\"url\": \"http://dblp.uni-trier.de/db/about/ml\",\"sameAs\": [\"http://dblp.org/pers/hd/l/Ley:Michael\",\"http://en.wikipedia.org/wiki/Michael_Ley\",\"http://www.orcid.org/0000-0001-7580-4351\"]},\"foundingDate\": \"1993\",\"foundingLocation\": \"Trier, Germany\"},\"genre\": \"computer science\",\"inLanguage\": \"en-US\",\"license\": \"https://opendatacommons.org/licenses/by/1.0\",\"potentialAction\": {\"@type\": \"SearchAction\",\"target\": \"http://dblp.uni-trier.de/search?q={search_term_string}\",\"query-input\": \"required name=search_term_string\"}}</script></head>\n",
       "<body class=\"no-js rec-page\">\n",
       "<script type=\"application/javascript\">var el = document.getElementsByTagName(\"body\")[0];el.className = \"js rec-page\";</script>\n",
       "<script src=\"http://dblp.uni-trier.de/js/jquery-3.1.1.min.js\" type=\"application/javascript\"></script><script src=\"http://dblp.uni-trier.de/js/jquery.dblp-2014-08-07.min.js\" type=\"application/javascript\"></script><script src=\"http://dblp.uni-trier.de/js/jquery.cookie-1.2.min.js\" type=\"application/javascript\"></script><script src=\"http://dblp.uni-trier.de/js/encoder-2012-09-23.min.js\" type=\"application/javascript\"></script><script src=\"http://dblp.uni-trier.de/js/buckets-1.0.min.js\" type=\"application/javascript\"></script><!-- banner -->\n",
       "<div id=\"banner\">\n",
       "<!--[if lt IE 9]><div class=\"message fancy permanent\" data-version=\"2014-01-01\">Sorry, but you need <a href=\"http://windows.microsoft.com/en-us/internet-explorer/download-ie\">Internet Explorer 9 or newer</a> to view our pages without errors. Please upgrade your web browser.</div><![endif]-->\n",
       "<!-- div class=\"message modest\" data-version=\"2016-02-19\">We would like to express our heartfelt thanks to the many users who have sent us their remarks and constructive critizisms during the past weeks. Your detailed comments have been very informative and extremely helpful. Of course, you may keep <a href=\"http://dblp.org/db/about/team.html\">contacting us to send us your feedback.</a></div -->\n",
       "<!--div class=\"message fancy\" data-version=\"2017-08-27\">Due to a <b>scheduled maintenance</b>, this server may become unavailable on <b>Sunday, August 27th, 2017</b>. In the mean time, please use server <a href=\"http://dblp.dagstuhl.de\">Dagstuhl</a> instead.</div-->\n",
       "</div>\n",
       "<div id=\"main\">\n",
       "<pre style=\"position:absolute; margin:0px; padding:2px; background-color:#ebebeb; white-space:pre-wrap; z-index:999;\"></pre><!-- logo --><div id=\"logo\"><a href=\"http://dblp.uni-trier.de\"><img alt=\"dblp computer science bibliography\" src=\"http://dblp.uni-trier.de/img/logo.320x120.png\"/></a></div>\n",
       "<!-- search form --><div id=\"search\"><img alt=\"search dblp\" class=\"icon no-js-only\" src=\"http://dblp.uni-trier.de/img/search.dark.16x16.png\" title=\"search dblp\"/><div class=\"drop-down js-only\" id=\"search-mode-selector\" style=\"vertical-align:-6px; margin-right:1px;\"><div class=\"head\"><img alt=\"search dblp\" class=\"icon\" src=\"http://dblp.uni-trier.de/img/search.dark.16x16.png\"/></div><div class=\"body\"><p><b>default search action</b></p><ul><li><input checked=\"checked\" id=\"search-mode-combined\" name=\"search-mode\" type=\"radio\" value=\"c\"/><label for=\"search-mode-combined\">combined dblp search</label></li><li><input id=\"search-mode-author\" name=\"search-mode\" type=\"radio\" value=\"a\"/><label for=\"search-mode-author\">author search</label></li><li><input id=\"search-mode-venue\" name=\"search-mode\" type=\"radio\" value=\"v\"/><label for=\"search-mode-venue\">venue search</label></li><li><input id=\"search-mode-publ\" name=\"search-mode\" type=\"radio\" value=\"p\"/><label for=\"search-mode-publ\">publication search</label></li><li><input id=\"search-mode-semscholar\" name=\"search-mode\" type=\"radio\" value=\"s\"/><label for=\"search-mode-semscholar\">Semantic Scholar search</label></li></ul></div></div><form action=\"http://dblp.uni-trier.de/search\" method=\"get\"><input maxlength=\"127\" name=\"q\" placeholder=\"search dblp\" type=\"search\"/><div class=\"results js-only\"><div class=\"authors\"><b>Authors:</b><ul class=\"matches\"><li><i>no matches</i></li></ul><ul class=\"waiting\"><li><img alt=\"waiting...\" src=\"http://dblp.uni-trier.de/img/waiting.anim.gif\"/></li></ul></div><div class=\"venues\"><b>Venues:</b><ul class=\"matches\"><li><i>no matches</i></li></ul><ul class=\"waiting\"><li><img alt=\"waiting...\" src=\"http://dblp.uni-trier.de/img/waiting.anim.gif\"/></li></ul></div><div class=\"publs\"><b>Publications:</b><ul class=\"matches\"><li><i>no matches</i></li></ul><ul class=\"waiting\"><li><img alt=\"waiting...\" src=\"http://dblp.uni-trier.de/img/waiting.anim.gif\"/></li></ul></div></div><img alt=\"clear\" class=\"clear js-only\" src=\"http://dblp.uni-trier.de/img/clear-mark.medium.16x16.png\" title=\"clear\"/></form><div class=\"drop-down js-only\" id=\"search-external\"><div class=\"head\"><a href=\"http://google.com/search?q=\"><img alt=\"ask others\" class=\"icon\" src=\"http://dblp.uni-trier.de/img/search-external.dark.hollow.16x16.png\"/></a></div><div class=\"body\"><p><b>ask others</b></p><ul><li><a href=\"http://google.com/search?q=\"><img alt=\"\" class=\"icon\" src=\"http://dblp.uni-trier.de/img/google.dark.16x16.png\"/>Google</a></li><li><a href=\"http://scholar.google.com/scholar?q=\"><img alt=\"\" class=\"icon\" src=\"http://dblp.uni-trier.de/img/google-scholar.dark.16x16.png\"/>Google Scholar</a></li><li><a href=\"http://academic.microsoft.com/#/search?iq=%2540%2540&amp;q=\"><img alt=\"\" class=\"icon\" src=\"http://dblp.uni-trier.de/img/ms-academic.dark.16x16.png\"/>MS Academic</a></li><li><a href=\"http://citeseerx.ist.psu.edu/search?q=\"><img alt=\"\" class=\"icon\" src=\"http://dblp.uni-trier.de/img/citeseer.dark.16x16.png\"/>CiteSeerX</a></li><li><a href=\"https://core.ac.uk/search?q=(null)\"><img alt=\"\" class=\"icon\" src=\"http://dblp.uni-trier.de/img/core.dark.16x16.png\"/>CORE</a></li><li><a href=\"https://www.semanticscholar.org/search?q=\"><img alt=\"\" class=\"icon\" src=\"http://dblp.uni-trier.de/img/semscholar.dark.16x16.png\"/>Semantic Scholar</a></li></ul></div>\n",
       "</div>\n",
       "</div>\n",
       "<!-- head line --><header class=\"headline noline\"><h1>BibTeX record conf/chi/Overton15</h1> </header>\n",
       "<!-- inpage navigation menu --><nav class=\"side\"><ul><li><a href=\"#\" title=\"jump to top\"><img alt=\"top\" class=\"icon\" src=\"http://dblp.uni-trier.de/img/top.dark.16x16.png\"/></a></li><li><a href=\"#footer\" title=\"jump to bottom\"><img alt=\"bottom\" class=\"icon\" src=\"http://dblp.uni-trier.de/img/bottom.dark.16x16.png\"/></a></li></ul></nav>\n",
       "<!-- mirror selector --><nav class=\"selector-box\" id=\"mirror-selector\"><img alt=\"mirror\" src=\"http://dblp.uni-trier.de/img/datastock.dark.16x16.png\" title=\"use mirror server\"/><div class=\"drop-down selector\"><div class=\"head\">Trier 1</div><div class=\"body\"><ul class=\"options\"><li><a href=\"http://dblp2.uni-trier.de/rec/bibtex/conf/chi/Overton15\">Trier 2</a></li><li><a href=\"http://dblp.dagstuhl.de/rec/bibtex/conf/chi/Overton15\">Dagstuhl</a></li></ul></div></div></nav>\n",
       "<!-- crossref selector --><nav class=\"selector-box\" id=\"sorting-selector\"><img alt=\"order\" src=\"http://dblp.uni-trier.de/img/eye.dark.16x16.png\" title=\"crossref options\"/><div class=\"drop-down selector\"><div class=\"head\">with crossref</div><div class=\"body\"><ul class=\"options\"><li><a href=\"http://dblp.uni-trier.de/rec/bibtex0/conf/chi/Overton15\">condensed</a></li><li><a href=\"http://dblp.uni-trier.de/rec/bibtex1/conf/chi/Overton15\">standard</a></li></ul></div></div></nav>\n",
       "<!-- breadcrumbs --><div class=\"section\" id=\"breadcrumbs\"><ul><li itemscope=\"\" itemtype=\"http://data-vocabulary.org/Breadcrumb\">&gt; <a href=\"http://dblp.uni-trier.de\" itemprop=\"url\"><span itemprop=\"title\">Home</span></a> <span itemprop=\"child\" itemscope=\"\" itemtype=\"http://data-vocabulary.org/Breadcrumb\">&gt; <a href=\"http://dblp.uni-trier.de/rec/html/conf/chi/Overton15\" itemprop=\"url\"><span itemprop=\"title\">conf/chi/Overton15</span></a></span></li></ul></div>\n",
       "<p><a href=\"http://dblp.uni-trier.de/rec/bib2/conf/chi/Overton15.bib\">download as .bib file</a></p><div class=\"section\" id=\"bibtex-section\">\n",
       "<pre class=\"verbatim select-on-click\">@inproceedings{DBLP:conf/chi/Overton15,\n",
       "  author    = {Kyle Overton},\n",
       "  title     = {\"Hello World\": {A} Digital Quandary and the Apotheosis of the Human},\n",
       "  booktitle = {Proceedings of the 33rd Annual {ACM} Conference Extended Abstracts\n",
       "               on Human Factors in Computing Systems, Seoul, {CHI} 2015 Extended\n",
       "               Abstracts, Republic of Korea, April 18 - 23, 2015},\n",
       "  pages     = {179},\n",
       "  year      = {2015},\n",
       "  crossref  = {DBLP:conf/chi/2015a},\n",
       "  url       = {http://doi.acm.org/10.1145/2702613.2732492},\n",
       "  doi       = {10.1145/2702613.2732492},\n",
       "  timestamp = {Mon, 20 Apr 2015 10:47:21 +0200},\n",
       "  biburl    = {http://dblp.uni-trier.de/rec/bib/conf/chi/Overton15},\n",
       "  bibsource = {dblp computer science bibliography, http://dblp.org}\n",
       "}\n",
       "</pre>\n",
       "<pre class=\"verbatim select-on-click\">@proceedings{DBLP:conf/chi/2015a,\n",
       "  editor    = {Bo Begole and\n",
       "               Jinwoo Kim and\n",
       "               Kori Inkpen and\n",
       "               Woontack Woo},\n",
       "  title     = {Proceedings of the 33rd Annual {ACM} Conference Extended Abstracts\n",
       "               on Human Factors in Computing Systems, Seoul, {CHI} 2015 Extended\n",
       "               Abstracts, Republic of Korea, April 18 - 23, 2015},\n",
       "  publisher = {{ACM}},\n",
       "  year      = {2015},\n",
       "  url       = {http://dl.acm.org/citation.cfm?id=2702613},\n",
       "  isbn      = {978-1-4503-3146-3},\n",
       "  timestamp = {Mon, 20 Apr 2015 09:12:43 +0200},\n",
       "  biburl    = {http://dblp.uni-trier.de/rec/bib/conf/chi/2015a},\n",
       "  bibsource = {dblp computer science bibliography, http://dblp.org}\n",
       "}\n",
       "</pre>\n",
       "</div>\n",
       "<!-- top container --><div id=\"top\"><div class=\"credit\"><div>maintained by <a href=\"http://www.dagstuhl.de/en/\"><img alt=\"Schloss Dagstuhl LZI\" height=\"12\" src=\"http://dblp.uni-trier.de/img/lzi-logo-mini.105x12.png\"/></a> at <a href=\"http://www.uni-trier.de/?L=2\"><img alt=\"University of Trier\" height=\"12\" src=\"http://dblp.uni-trier.de/img/utr-logo-mini.85x12.png\"/></a></div></div><nav class=\"top\"><ul><li class=\"drop-down\"><div class=\"head\"><a href=\"http://dblp.uni-trier.de\">home</a></div><div class=\"body\"><ul><li><a href=\"http://dblp.uni-trier.de/news/\">news</a></li><li><a href=\"http://dblp.uni-trier.de/statistics/\">statistics</a></li></ul></div></li><li class=\"drop-down\"><div class=\"head\"><a href=\"http://dblp.uni-trier.de/db/\">browse</a></div><div class=\"body\"><ul><li><a href=\"http://dblp.uni-trier.de/pers/\">persons</a></li><li><a href=\"http://dblp.uni-trier.de/db/conf/\">conferences</a></li><li><a href=\"http://dblp.uni-trier.de/db/journals/\">journals</a></li><li><a href=\"http://dblp.uni-trier.de/db/series/\">series</a></li></ul></div></li><li class=\"drop-down\"><div class=\"head\"><a href=\"http://dblp.uni-trier.de/search/\">search</a></div><div class=\"body\"><ul><li><a href=\"http://dblp.uni-trier.de/search/\">search dblp</a></li><li><a href=\"http://dblp.uni-trier.de/lookup/\">lookup by ID</a></li></ul></div></li><li class=\"drop-down\"><div class=\"head\"><a href=\"http://dblp.uni-trier.de/db/about/\">about</a></div><div class=\"body\"><ul><li><a href=\"http://dblp.uni-trier.de/faq/\">f.a.q.</a></li><li><a href=\"http://dblp.uni-trier.de/db/about/team.html\">team</a></li><li><a href=\"http://dblp.uni-trier.de/db/copyright.html\">legal bits</a></li></ul></div></li></ul></nav>\n",
       "</div><!-- footer --><div class=\"clear-both\"></div><div id=\"footer\"><div class=\"info\"><p><a href=\"http://opendefinition.org/\"><img alt=\"open data\" src=\"http://dblp.uni-trier.de/img/opendata.80x15.blue.png\"/></a> data released under the <a href=\"https://opendatacommons.org/licenses/by/1.0\">ODC-BY 1.0 license</a>; see also our <a href=\"http://dblp.uni-trier.de/db/copyright.html\">legal information page</a></p><p><a href=\"http://validator.w3.org/check?uri=http%3A%2F%2Fdblp.uni-trier.de%2Frec%2Fbibtex%2Fconf%2Fchi%2FOverton15;No200=1\"> <img alt=\"w3c valid html\" src=\"http://dblp.uni-trier.de/img/w3c-valid-html.80x15.gray.png\"/></a> last updated on 2015-04-20 10:47 CEST by the <a href=\"http://dblp.uni-trier.de/db/about/team.html\">dblp team</a></p></div></div>\n",
       "</div>\n",
       "<script src=\"http://dblp.uni-trier.de/js/dblp-2017-07-14.min.js\" type=\"application/javascript\"></script><script src=\"http://dblp.uni-trier.de/js/dblp-search-2017-04-26.min.js\" type=\"application/javascript\"></script><script src=\"http://dblp.uni-trier.de/js/dblp-recordpage.js\" type=\"application/javascript\"></script><script src=\"http://dblp.uni-trier.de/js/dblp-ui-2017-07-21.min.js\" type=\"application/javascript\"></script>\n",
       "\n",
       "</body></html>>"
      ]
     },
     "execution_count": 28,
     "metadata": {},
     "output_type": "execute_result"
    }
   ],
   "source": [
    "soup.prettify"
   ]
  },
  {
   "cell_type": "code",
   "execution_count": 31,
   "metadata": {},
   "outputs": [
    {
     "data": {
      "text/plain": [
       "'@inproceedings{DBLP:conf/chi/Overton15,\\n  author    = {Kyle Overton},\\n  title     = {\"Hello World\": {A} Digital Quandary and the Apotheosis of the Human},\\n  booktitle = {Proceedings of the 33rd Annual {ACM} Conference Extended Abstracts\\n               on Human Factors in Computing Systems, Seoul, {CHI} 2015 Extended\\n               Abstracts, Republic of Korea, April 18 - 23, 2015},\\n  pages     = {179},\\n  year      = {2015},\\n  crossref  = {DBLP:conf/chi/2015a},\\n  url       = {http://doi.acm.org/10.1145/2702613.2732492},\\n  doi       = {10.1145/2702613.2732492},\\n  timestamp = {Mon, 20 Apr 2015 10:47:21 +0200},\\n  biburl    = {http://dblp.uni-trier.de/rec/bib/conf/chi/Overton15},\\n  bibsource = {dblp computer science bibliography, http://dblp.org}\\n}\\n'"
      ]
     },
     "execution_count": 31,
     "metadata": {},
     "output_type": "execute_result"
    }
   ],
   "source": [
    "soup.find_all(class_='verbatim select-on-click')[0].text"
   ]
  },
  {
   "cell_type": "code",
   "execution_count": 32,
   "metadata": {},
   "outputs": [],
   "source": [
    "def get_bibtex(url):\n",
    "    \"\"\"Gets the first bibtex entry from a dblp url\"\"\"\n",
    "    r = requests.get(url)\n",
    "    soup = BeautifulSoup(r.text, 'html5lib')\n",
    "    bibtex = soup.find_all(class_='verbatim select-on-click')[0].text\n",
    "    return bibtex"
   ]
  },
  {
   "cell_type": "code",
   "execution_count": 33,
   "metadata": {},
   "outputs": [
    {
     "data": {
      "text/plain": [
       "'@inproceedings{DBLP:conf/chi/Overton15,\\n  author    = {Kyle Overton},\\n  title     = {\"Hello World\": {A} Digital Quandary and the Apotheosis of the Human},\\n  booktitle = {Proceedings of the 33rd Annual {ACM} Conference Extended Abstracts\\n               on Human Factors in Computing Systems, Seoul, {CHI} 2015 Extended\\n               Abstracts, Republic of Korea, April 18 - 23, 2015},\\n  pages     = {179},\\n  year      = {2015},\\n  crossref  = {DBLP:conf/chi/2015a},\\n  url       = {http://doi.acm.org/10.1145/2702613.2732492},\\n  doi       = {10.1145/2702613.2732492},\\n  timestamp = {Mon, 20 Apr 2015 10:47:21 +0200},\\n  biburl    = {http://dblp.uni-trier.de/rec/bib/conf/chi/Overton15},\\n  bibsource = {dblp computer science bibliography, http://dblp.org}\\n}\\n'"
      ]
     },
     "execution_count": 33,
     "metadata": {},
     "output_type": "execute_result"
    }
   ],
   "source": [
    "get_bibtex('http://dblp.uni-trier.de/rec/bibtex/conf/chi/Overton15')"
   ]
  },
  {
   "cell_type": "code",
   "execution_count": null,
   "metadata": {},
   "outputs": [],
   "source": [
    "def create_\n"
   ]
  }
 ],
 "metadata": {
  "kernelspec": {
   "display_name": "Python 3",
   "language": "python",
   "name": "python3"
  },
  "language_info": {
   "codemirror_mode": {
    "name": "ipython",
    "version": 3
   },
   "file_extension": ".py",
   "mimetype": "text/x-python",
   "name": "python",
   "nbconvert_exporter": "python",
   "pygments_lexer": "ipython3",
   "version": "3.4.2"
  }
 },
 "nbformat": 4,
 "nbformat_minor": 2
}

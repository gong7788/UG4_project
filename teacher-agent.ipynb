{
 "cells": [
  {
   "cell_type": "code",
   "execution_count": 1,
   "metadata": {},
   "outputs": [],
   "source": [
    "import world\n",
    "import agents\n",
    "from ff import Solved\n",
    "import ff\n",
    "import pddl_functions"
   ]
  },
  {
   "cell_type": "code",
   "execution_count": 2,
   "metadata": {},
   "outputs": [],
   "source": [
    "import block_plotting"
   ]
  },
  {
   "cell_type": "code",
   "execution_count": 2,
   "metadata": {},
   "outputs": [
    {
     "name": "stdout",
     "output_type": "stream",
     "text": [
      "['t1']\n",
      "['o1', 'o2', 'o3']\n"
     ]
    }
   ],
   "source": [
    "print(block_plotting.filter_tower_locations(['o1', 'o2', 'o3', 't1'], get_locations=True))\n",
    "print(block_plotting.filter_tower_locations(['o1', 'o2', 'o3', 't1'], get_locations=False))"
   ]
  },
  {
   "cell_type": "code",
   "execution_count": 3,
   "metadata": {},
   "outputs": [
    {
     "name": "stdout",
     "output_type": "stream",
     "text": [
      "Parsing domain blocks-domain.pddl\n",
      "Parsing problem pddl/blocks_problem_colour1.pddl\n"
     ]
    }
   ],
   "source": [
    "w = world.PDDLWorld('blocks-domain.pddl', 'pddl/blocks_problem_colour1.pddl')\n",
    "agent = agents.CorrectingAgent(w)"
   ]
  },
  {
   "cell_type": "code",
   "execution_count": 4,
   "metadata": {},
   "outputs": [
    {
     "data": {
      "image/png": "[encoded data removed]",
      "text/plain": [
       "<Figure size 432x288 with 1 Axes>"
      ]
     },
     "metadata": {},
     "output_type": "display_data"
    }
   ],
   "source": [
    "w.draw()\n"
   ]
  },
  {
   "cell_type": "code",
   "execution_count": 3,
   "metadata": {},
   "outputs": [
    {
     "data": {
      "text/plain": [
       "<pythonpddl.pddl.TypedArgList at 0x7fc544af7048>"
      ]
     },
     "execution_count": 3,
     "metadata": {},
     "output_type": "execute_result"
    }
   ],
   "source": [
    "g = w.problem.goal\n",
    "rule = g.subformulas[0]\n",
    "or_ = rule.subformulas[0]\n",
    "exists = or_.subformulas[1]\n",
    "exists.variables"
   ]
  },
  {
   "cell_type": "code",
   "execution_count": 5,
   "metadata": {},
   "outputs": [
    {
     "data": {
      "image/png": "[encoded data removed]",
      "text/plain": [
       "<Figure size 432x288 with 1 Axes>"
      ]
     },
     "metadata": {},
     "output_type": "display_data"
    },
    {
     "data": {
      "image/png": "[encoded data removed]",
      "text/plain": [
       "<Figure size 432x288 with 1 Axes>"
      ]
     },
     "metadata": {},
     "output_type": "display_data"
    },
    {
     "ename": "NameError",
     "evalue": "name 'teacher_correction' is not defined",
     "output_type": "error",
     "traceback": [
      "\u001b[0;31m---------------------------------------------------------------------------\u001b[0m",
      "\u001b[0;31mNameError\u001b[0m                                 Traceback (most recent call last)",
      "\u001b[0;32m<ipython-input-5-e41d277eeab0>\u001b[0m in \u001b[0;36m<module>\u001b[0;34m()\u001b[0m\n\u001b[1;32m      6\u001b[0m         \u001b[0mw\u001b[0m\u001b[0;34m.\u001b[0m\u001b[0mupdate\u001b[0m\u001b[0;34m(\u001b[0m\u001b[0ma\u001b[0m\u001b[0;34m,\u001b[0m \u001b[0margs\u001b[0m\u001b[0;34m)\u001b[0m\u001b[0;34m\u001b[0m\u001b[0m\n\u001b[1;32m      7\u001b[0m         \u001b[0mw\u001b[0m\u001b[0;34m.\u001b[0m\u001b[0mdraw\u001b[0m\u001b[0;34m(\u001b[0m\u001b[0;34m)\u001b[0m\u001b[0;34m\u001b[0m\u001b[0m\n\u001b[0;32m----> 8\u001b[0;31m         \u001b[0mcorrection\u001b[0m \u001b[0;34m=\u001b[0m \u001b[0mteacher_correction\u001b[0m\u001b[0;34m(\u001b[0m\u001b[0ma\u001b[0m\u001b[0;34m,\u001b[0m \u001b[0margs\u001b[0m\u001b[0;34m,\u001b[0m \u001b[0mw\u001b[0m\u001b[0;34m)\u001b[0m\u001b[0;34m\u001b[0m\u001b[0m\n\u001b[0m\u001b[1;32m      9\u001b[0m         \u001b[0;32mif\u001b[0m \u001b[0mcorrection\u001b[0m\u001b[0;34m:\u001b[0m\u001b[0;34m\u001b[0m\u001b[0m\n\u001b[1;32m     10\u001b[0m             \u001b[0magent\u001b[0m\u001b[0;34m.\u001b[0m\u001b[0mget_correction\u001b[0m\u001b[0;34m(\u001b[0m\u001b[0mcorrection\u001b[0m\u001b[0;34m,\u001b[0m \u001b[0ma\u001b[0m\u001b[0;34m,\u001b[0m \u001b[0margs\u001b[0m\u001b[0;34m)\u001b[0m\u001b[0;34m\u001b[0m\u001b[0m\n",
      "\u001b[0;31mNameError\u001b[0m: name 'teacher_correction' is not defined"
     ]
    }
   ],
   "source": [
    "w.draw()\n",
    "while not w.test_success():\n",
    "\n",
    "    plan = agent.plan()\n",
    "    for a, args in plan:\n",
    "        w.update(a, args)\n",
    "        w.draw()\n",
    "        correction = teacher_correction(a, args, w)\n",
    "        if correction:\n",
    "            agent.get_correction(correction, a, args)\n",
    "            w.draw()\n",
    "            break\n",
    "        else:\n",
    "            agent.no_correction(a, args)\n",
    "            \n",
    "print('DONE')    "
   ]
  },
  {
   "cell_type": "code",
   "execution_count": 139,
   "metadata": {},
   "outputs": [],
   "source": [
    "def teacher_correction( w):\n",
    "    if not w.test_failure():\n",
    "        return \"\"\n",
    "    #Reasons for failure:\n",
    "    # a->b, a -b \n",
    "    # b-> a b -a\n",
    "    rules = list(get_rules(w.problem.goal))\n",
    "    for r in rules:\n",
    "        if check_rule_violated(r, w):\n",
    "            print(r.asPDDL())\n",
    "            c1, c2, _ = get_relevant_colours(r)\n",
    "            return tower_correction(c1, c2)\n",
    "    for r in rules:\n",
    "        o3 = check_table_rule_violation(r, w)\n",
    "        if o3:\n",
    "            c1, c2, _ = get_relevant_colours(r)\n",
    "            return table_correction(c1, c2, o3)\n",
    "    "
   ]
  },
  {
   "cell_type": "code",
   "execution_count": 140,
   "metadata": {},
   "outputs": [
    {
     "name": "stdout",
     "output_type": "stream",
     "text": [
      "\n",
      "ff: parsing domain file\n",
      "domain 'BLOCKSWORLD' defined\n",
      " ... done.\n",
      "ff: parsing problem file\n",
      "problem 'BLOCKS-1' defined\n",
      " ... done.\n",
      "\n",
      "\n",
      "\n",
      "Cueing down from goal distance:    8 into depth [1]\n",
      "                                   6            [1]\n",
      "                                   3            [1]\n",
      "\n",
      "Enforced Hill-climbing failed !\n",
      "switching to Best-first Search now.\n",
      "\n",
      "advancing to distance :    8\n",
      "                           4\n",
      "                           3\n",
      "\n",
      "best first search space empty! problem proven unsolvable.\n",
      "\n",
      "\n",
      "\n",
      "time spent:    0.00 seconds instantiating 36 easy, 0 hard action templates\n",
      "               0.00 seconds reachability analysis, yielding 37 facts and 28 actions\n",
      "               0.00 seconds creating final representation with 34 relevant facts\n",
      "               0.00 seconds building connectivity graph\n",
      "               0.00 seconds searching, evaluating 92 states, to a max depth of 1\n",
      "               0.00 seconds total time\n",
      "\n",
      "\n"
     ]
    },
    {
     "data": {
      "text/plain": [
       "'No, now you cannot put b1 in the tower because you must put red blocks on blue blocks'"
      ]
     },
     "execution_count": 140,
     "metadata": {},
     "output_type": "execute_result"
    }
   ],
   "source": [
    "teacher_correction(w)"
   ]
  },
  {
   "cell_type": "code",
   "execution_count": 7,
   "metadata": {},
   "outputs": [],
   "source": [
    "def tower_correction(obj1, obj2):\n",
    "    return \"no, put {} blocks on {} blocks\".format(obj1, obj2)\n",
    "\n",
    "def table_correction(obj1, obj2, obj3):\n",
    "    return \"No, now you cannot put {} in the tower because you must put {} blocks on {} blocks\".format(obj3, obj1, obj2)"
   ]
  },
  {
   "cell_type": "code",
   "execution_count": 8,
   "metadata": {},
   "outputs": [
    {
     "data": {
      "text/plain": [
       "('b6', 'b4')"
      ]
     },
     "execution_count": 8,
     "metadata": {},
     "output_type": "execute_result"
    }
   ],
   "source": [
    "def get_top_two(world_):\n",
    "    r = world_.sense().relations\n",
    "    for o in r.keys():\n",
    "        if 'clear' in r[o] and 'in-tower' in r[o]:\n",
    "            o1 = o\n",
    "    on = r[o1]['on']\n",
    "    o2 = on.args.args[1].arg_name\n",
    "    return o1, o2\n",
    "get_top_two(w)"
   ]
  },
  {
   "cell_type": "code",
   "execution_count": 18,
   "metadata": {},
   "outputs": [],
   "source": [
    "def get_rules(goal):\n",
    "    for f in goal.subformulas:\n",
    "        if \"in-tower\" not in f.asPDDL():\n",
    "            yield f\n",
    "            \n",
    "rule = list(get_rules(w.problem.goal))[0]"
   ]
  },
  {
   "cell_type": "code",
   "execution_count": 87,
   "metadata": {},
   "outputs": [],
   "source": [
    "def get_name(formula):\n",
    "    return formula.get_predicates(True)[0].name\n",
    "\n",
    "def get_args(formula):\n",
    "    return list(map(lambda x: x.arg_name, formula.get_predicates(True)[0].args.args))"
   ]
  },
  {
   "cell_type": "code",
   "execution_count": 95,
   "metadata": {},
   "outputs": [
    {
     "data": {
      "text/plain": [
       "('red', 'blue', 'red')"
      ]
     },
     "execution_count": 95,
     "metadata": {},
     "output_type": "execute_result"
    }
   ],
   "source": [
    "def get_relevant_colours(rule):\n",
    "    or_ = rule.subformulas[0]\n",
    "    r1, r2 = or_.subformulas\n",
    "    colour1 = (r1.subformulas[0])\n",
    "    colour2 = (list(filter(lambda x: get_name(x) != 'on', r2.subformulas[0].subformulas))[0])\n",
    "    on = list(filter(lambda x: get_name(x) == 'on', r2.subformulas[0].subformulas))[0]\n",
    "    o1, o2 = on.get_predicates(True)[0].args.args\n",
    "    out = (o1, o2)\n",
    "    c1 = list(filter(lambda x: get_args(x)[0] == o1.arg_name, [colour1, colour2]))[0]\n",
    "    c2 = list(filter(lambda x: get_args(x)[0] == o2.arg_name, [colour1, colour2]))[0]\n",
    "    return get_name(c1), get_name(c2), get_name(colour1) # on(c1, c2) colour1 -> colour2\n",
    "colours = get_relevant_colours(rule)\n",
    "colours"
   ]
  },
  {
   "cell_type": "code",
   "execution_count": 105,
   "metadata": {},
   "outputs": [
    {
     "data": {
      "text/plain": [
       "False"
      ]
     },
     "execution_count": 105,
     "metadata": {},
     "output_type": "execute_result"
    }
   ],
   "source": [
    "def check_rule_violated(rule, world_):\n",
    "    c1, c2, impl = get_relevant_colours(rule)\n",
    "    o1, o2 = get_top_two(world_)\n",
    "    state = world_.problem.initialstate\n",
    "    f1 = pddl_functions.create_formula(c1, [o1])\n",
    "    f2 = pddl_functions.create_formula(c2, [o2])\n",
    "    c1_o1 = pddl_functions.predicate_holds(f1.get_predicates(True)[0], state)\n",
    "    c2_o2 = pddl_functions.predicate_holds(f2.get_predicates(True)[0], state)\n",
    "    if c1_o1 and not c2_o2 and c1 == impl:\n",
    "        return True\n",
    "    if not c1_o1 and c2_o2 and c2 == impl:\n",
    "        return True\n",
    "    return False\n",
    "    \n",
    "check_rule_violated(rule, w)\n",
    "\n"
   ]
  },
  {
   "cell_type": "code",
   "execution_count": 119,
   "metadata": {},
   "outputs": [],
   "source": [
    "def check_table_rule_violation(rule, world_):\n",
    "    c1, c2, impl = get_relevant_colours(rule)\n",
    "    o1, o2 = get_top_two(world_)\n",
    "    state = world_.problem.initialstate\n",
    "    f1 = pddl_functions.create_formula(c1, [o1])\n",
    "    f2 = pddl_functions.create_formula(c2, [o2])\n",
    "    c1_o1 = pddl_functions.predicate_holds(f1.get_predicates(True)[0], state)\n",
    "    c2_o2 = pddl_functions.predicate_holds(f2.get_predicates(True)[0], state)\n",
    "    table_objs = blocks_on_table(world_)\n",
    "    c1_count = count_coloured_blocks(c1, table_objs, state)\n",
    "    c2_count = count_coloured_blocks(c2, table_objs, state)\n",
    "    if not c1_o1 and c2_o2 and c1 == impl: \n",
    "        if c1_count > c2_count:\n",
    "            return get_block_with_colour(c1, table_objs, state)\n",
    "    if c1_o1 and not c2_o2 and c2 == impl:\n",
    "        if c2_count > c1_count:\n",
    "            return get_block_with_colour(c2, table_objs, state)\n",
    "    return False"
   ]
  },
  {
   "cell_type": "code",
   "execution_count": null,
   "metadata": {},
   "outputs": [],
   "source": []
  },
  {
   "cell_type": "code",
   "execution_count": 116,
   "metadata": {},
   "outputs": [
    {
     "data": {
      "text/plain": [
       "['b1', 'b2', 'b3', 'b5']"
      ]
     },
     "execution_count": 116,
     "metadata": {},
     "output_type": "execute_result"
    }
   ],
   "source": [
    "def blocks_on_table(world_):\n",
    "    r = world_.sense().relations\n",
    "    objs = []\n",
    "    for o in r.keys():\n",
    "        if 'on-table' in r[o] and 'clear' in r[o]:\n",
    "            objs.append(o)\n",
    "    return objs\n",
    "objs = blocks_on_table(w)\n",
    "objs"
   ]
  },
  {
   "cell_type": "code",
   "execution_count": 115,
   "metadata": {},
   "outputs": [
    {
     "name": "stdout",
     "output_type": "stream",
     "text": [
      "1 1\n",
      "3 3\n"
     ]
    }
   ],
   "source": [
    "def count_coloured_blocks(colour, objects, state):\n",
    "    count = 0\n",
    "    for o in objects:\n",
    "        c_o = pddl_functions.create_formula(colour, [o]).get_predicates(True)[0]\n",
    "        if pddl_functions.predicate_holds(c_o, state):\n",
    "            count += 1\n",
    "    return count\n",
    "\n",
    "print(count_coloured_blocks('blue', objs, w.problem.initialstate), 1)\n",
    "print(count_coloured_blocks('red', objs, w.problem.initialstate), 3)"
   ]
  },
  {
   "cell_type": "code",
   "execution_count": 118,
   "metadata": {},
   "outputs": [],
   "source": [
    "def get_block_with_colour(colour, objects, state):\n",
    "    for o in objects:\n",
    "        c_o = pddl_functions.create_formula(colour, [o]).get_predicates(True)[0]\n",
    "        if pddl_functions.predicate_holds(c_o, state):\n",
    "            return o\n",
    "    return"
   ]
  },
  {
   "cell_type": "code",
   "execution_count": null,
   "metadata": {},
   "outputs": [],
   "source": []
  },
  {
   "cell_type": "code",
   "execution_count": 82,
   "metadata": {},
   "outputs": [
    {
     "data": {
      "text/plain": [
       "'?x'"
      ]
     },
     "execution_count": 82,
     "metadata": {},
     "output_type": "execute_result"
    }
   ],
   "source": [
    "c = colours[0]\n",
    "c = c.get_predicates(True)[0]\n",
    "c.args.args[0].arg_name"
   ]
  },
  {
   "cell_type": "code",
   "execution_count": 88,
   "metadata": {},
   "outputs": [
    {
     "data": {
      "text/plain": [
       "['?x']"
      ]
     },
     "execution_count": 88,
     "metadata": {},
     "output_type": "execute_result"
    }
   ],
   "source": [
    "get_args(colours[0])"
   ]
  },
  {
   "cell_type": "code",
   "execution_count": 39,
   "metadata": {},
   "outputs": [
    {
     "data": {
      "text/plain": [
       "'(forall (?x) (or (not (red ?x)) (exists (?y) (and (blue ?y) (on ?x ?y)))))'"
      ]
     },
     "execution_count": 39,
     "metadata": {},
     "output_type": "execute_result"
    }
   ],
   "source": [
    "import goal_updates\n",
    "goal_updates.create_goal(['red'], ['blue']).asPDDL()"
   ]
  },
  {
   "cell_type": "code",
   "execution_count": null,
   "metadata": {},
   "outputs": [],
   "source": []
  }
 ],
 "metadata": {
  "kernelspec": {
   "display_name": "Python 3",
   "language": "python",
   "name": "python3"
  },
  "language_info": {
   "codemirror_mode": {
    "name": "ipython",
    "version": 3
   },
   "file_extension": ".py",
   "mimetype": "text/x-python",
   "name": "python",
   "nbconvert_exporter": "python",
   "pygments_lexer": "ipython3",
   "version": "3.6.5"
  }
 },
 "nbformat": 4,
 "nbformat_minor": 2
}

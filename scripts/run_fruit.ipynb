{
 "metadata": {
  "language_info": {
   "codemirror_mode": {
    "name": "ipython",
    "version": 3
   },
   "file_extension": ".py",
   "mimetype": "text/x-python",
   "name": "python",
   "nbconvert_exporter": "python",
   "pygments_lexer": "ipython3",
   "version": "3.6.12-final"
  },
  "orig_nbformat": 2,
  "kernelspec": {
   "name": "Python 3.6.12 64-bit ('project': conda)",
   "display_name": "Python 3.6.12 64-bit ('project': conda)",
   "metadata": {
    "interpreter": {
     "hash": "cab2a85f98424baa3ee9755c87a8333b57a3c02ba1de25e97492887dab4fe3fb"
    }
   }
  }
 },
 "nbformat": 4,
 "nbformat_minor": 2,
 "cells": [
  {
   "cell_type": "code",
   "execution_count": 1,
   "metadata": {},
   "outputs": [
    {
     "output_type": "stream",
     "name": "stdout",
     "text": [
      "  0%|                                                     | 0/5 [00:00<?, ?it/s]Parsing domain /home/yucheng/Desktop/project/correcting-agent/data/domain/fruits-domain-updated.pddl\n",
      "Parsing problem /home/yucheng/Desktop/project/correcting-agent/data/fruit-4-test/fruit-4-test-1c0r-0/problem1.pddl\n",
      "Parsing domain /home/yucheng/Desktop/project/correcting-agent/data/domain/fruits-domain-updated.pddl\n",
      "Parsing problem /home/yucheng/Desktop/project/correcting-agent/data/fruit-4-test/fruit-4-test-1c0r-0/problem1.pddl\n",
      "fruits-domain-updated.pddl True\n",
      "planning 0.013544321060180664 time\n",
      "No plan could be found\n",
      "No plan could be found\n",
      "T: no, you cannot put more than 2 pear blocks in a tower\n",
      "\n",
      "Traceback (most recent call last):\n",
      "  File \"run_experiments.py\", line 10, in <module>\n",
      "    experiment.add_big_experiment(args.experiment_name, args.colour_model_config)\n",
      "  File \"/home/yucheng/Desktop/project/correcting-agent/correctingagent/experiments/experiment.py\", line 368, in add_big_experiment\n",
      "    raise e\n",
      "  File \"/home/yucheng/Desktop/project/correcting-agent/correctingagent/experiments/experiment.py\", line 364, in add_big_experiment\n",
      "    results_file = _run_experiment(results_file=results_file, **config_dict)\n",
      "  File \"/home/yucheng/Desktop/project/correcting-agent/correctingagent/experiments/experiment.py\", line 255, in _run_experiment\n",
      "    num_allowed_corrections=num_allowed_corrections)\n",
      "  File \"/home/yucheng/Desktop/project/correcting-agent/correctingagent/experiments/experiment.py\", line 197, in do_scenario\n",
      "    agent.get_correction(correction, a, args)\n",
      "  File \"/home/yucheng/Desktop/project/correcting-agent/correctingagent/agents/agents.py\", line 318, in get_correction\n",
      "    rule_model, rules = self.build_model(message)\n",
      "  File \"/home/yucheng/Desktop/project/correcting-agent/correctingagent/agents/agents.py\", line 430, in build_model\n",
      "    rules = correctingagent.world.rules.Rule.generate_red_on_blue_options(message.o1[0], message.o2[0])\n",
      "TypeError: 'int' object is not subscriptable\n"
     ]
    }
   ],
   "source": [
    "!python run_experiments.py fruit-4-test fixed_bw_0.05"
   ]
  },
  {
   "cell_type": "code",
   "execution_count": null,
   "metadata": {},
   "outputs": [],
   "source": []
  }
 ]
}
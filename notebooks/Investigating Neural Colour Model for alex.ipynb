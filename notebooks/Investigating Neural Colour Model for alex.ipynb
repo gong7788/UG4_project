{
 "cells": [
  {
   "cell_type": "code",
   "execution_count": 1,
   "metadata": {},
   "outputs": [],
   "source": [
    "from evaluation import Experiment, test_colour_model\n",
    "%matplotlib inline\n",
    "from colour_dict import simple_colour_dict"
   ]
  },
  {
   "cell_type": "code",
   "execution_count": 2,
   "metadata": {},
   "outputs": [],
   "source": [
    "exp = Experiment('simple_neural')"
   ]
  },
  {
   "cell_type": "code",
   "execution_count": 3,
   "metadata": {},
   "outputs": [
    {
     "data": {
      "image/png": "[encoded data removed]",
      "text/plain": [
       "<Figure size 432x288 with 1 Axes>"
      ]
     },
     "metadata": {},
     "output_type": "display_data"
    }
   ],
   "source": [
    "exp.plot()"
   ]
  },
  {
   "cell_type": "code",
   "execution_count": 12,
   "metadata": {},
   "outputs": [],
   "source": [
    "rf_dict = dict(exp.results_files)\n",
    "correcting = rf_dict['agents.CorrectingAgent']\n",
    "neural = rf_dict['agents.NeuralCorrectingAgent']\n",
    "correct_agent = correcting.load_agent()\n",
    "neural_agent = neural.load_agent()"
   ]
  },
  {
   "cell_type": "code",
   "execution_count": 22,
   "metadata": {},
   "outputs": [
    {
     "name": "stdout",
     "output_type": "stream",
     "text": [
      "True Label  C=1 C=0\n",
      "Predict C=1| 1 | 2 |\n",
      "        C=0| 0 | 4 |\n",
      "True Label  C=1 C=0\n",
      "Predict C=1| 1 | 0 |\n",
      "        C=0| 0 | 6 |\n"
     ]
    },
    {
     "data": {
      "text/plain": [
       "{'fn': 0, 'fp': 0, 'tn': 6, 'tp': 1}"
      ]
     },
     "execution_count": 22,
     "metadata": {},
     "output_type": "execute_result"
    }
   ],
   "source": [
    "test_colour_model(correct_agent.colour_models['red'], colour_dict=simple_colour_dict, colour_thresh=0.5)\n",
    "test_colour_model(correct_agent.colour_models['blue'], colour_dict=simple_colour_dict, colour_thresh=0.5)"
   ]
  },
  {
   "cell_type": "code",
   "execution_count": 10,
   "metadata": {},
   "outputs": [
    {
     "name": "stdout",
     "output_type": "stream",
     "text": [
      "True Label  C=1 C=0\n",
      "Predict C=1| 1 | 0 |\n",
      "        C=0| 0 | 6 |\n",
      "True Label  C=1 C=0\n",
      "Predict C=1| 1 | 0 |\n",
      "        C=0| 0 | 6 |\n"
     ]
    },
    {
     "data": {
      "text/plain": [
       "{'fn': 0, 'fp': 0, 'tn': 6, 'tp': 1}"
      ]
     },
     "execution_count": 10,
     "metadata": {},
     "output_type": "execute_result"
    }
   ],
   "source": [
    "test_colour_model(correct_agent.colour_models['red'], colour_dict=simple_colour_dict, colour_thresh=0.7)\n",
    "test_colour_model(correct_agent.colour_models['blue'], colour_dict=simple_colour_dict, colour_thresh=0.7)"
   ]
  },
  {
   "cell_type": "code",
   "execution_count": 24,
   "metadata": {},
   "outputs": [
    {
     "name": "stdout",
     "output_type": "stream",
     "text": [
      "True Label  C=1 C=0\n",
      "Predict C=1| 1 | 1 |\n",
      "        C=0| 0 | 5 |\n",
      "True Label  C=1 C=0\n",
      "Predict C=1| 1 | 0 |\n",
      "        C=0| 0 | 6 |\n"
     ]
    },
    {
     "data": {
      "text/plain": [
       "{'fn': 0, 'fp': 0, 'tn': 6, 'tp': 1}"
      ]
     },
     "execution_count": 24,
     "metadata": {},
     "output_type": "execute_result"
    }
   ],
   "source": [
    "thresh = 0.5\n",
    "test_colour_model(neural_agent.colour_models['red'], colour_dict=simple_colour_dict, colour_thresh=thresh)\n",
    "test_colour_model(neural_agent.colour_models['blue'], colour_dict=simple_colour_dict, colour_thresh=thresh)"
   ]
  },
  {
   "cell_type": "code",
   "execution_count": 23,
   "metadata": {},
   "outputs": [
    {
     "name": "stdout",
     "output_type": "stream",
     "text": [
      "True Label  C=1 C=0\n",
      "Predict C=1| 1 | 0 |\n",
      "        C=0| 0 | 6 |\n",
      "True Label  C=1 C=0\n",
      "Predict C=1| 1 | 0 |\n",
      "        C=0| 0 | 6 |\n"
     ]
    },
    {
     "data": {
      "text/plain": [
       "{'fn': 0, 'fp': 0, 'tn': 6, 'tp': 1}"
      ]
     },
     "execution_count": 23,
     "metadata": {},
     "output_type": "execute_result"
    }
   ],
   "source": [
    "thresh = 0.7\n",
    "test_colour_model(neural_agent.colour_models['red'], colour_dict=simple_colour_dict, colour_thresh=thresh)\n",
    "test_colour_model(neural_agent.colour_models['blue'], colour_dict=simple_colour_dict, colour_thresh=thresh)"
   ]
  },
  {
   "cell_type": "code",
   "execution_count": 20,
   "metadata": {},
   "outputs": [
    {
     "name": "stdout",
     "output_type": "stream",
     "text": [
      "True Label  C=1 C=0\n",
      "Predict C=1| 5 | 5 |\n",
      "        C=0| 0 | 32 |\n",
      "True Label  C=1 C=0\n",
      "Predict C=1| 9 | 2 |\n",
      "        C=0| 0 | 31 |\n"
     ]
    },
    {
     "data": {
      "text/plain": [
       "{'fn': 0, 'fp': 2, 'tn': 31, 'tp': 9}"
      ]
     },
     "execution_count": 20,
     "metadata": {},
     "output_type": "execute_result"
    }
   ],
   "source": [
    "thresh = 0.5\n",
    "test_colour_model(correct_agent.colour_models['red'], colour_thresh=thresh)\n",
    "test_colour_model(correct_agent.colour_models['blue'], colour_thresh=thresh)"
   ]
  },
  {
   "cell_type": "code",
   "execution_count": 21,
   "metadata": {},
   "outputs": [
    {
     "name": "stdout",
     "output_type": "stream",
     "text": [
      "True Label  C=1 C=0\n",
      "Predict C=1| 5 | 3 |\n",
      "        C=0| 0 | 34 |\n",
      "True Label  C=1 C=0\n",
      "Predict C=1| 7 | 0 |\n",
      "        C=0| 2 | 33 |\n"
     ]
    },
    {
     "data": {
      "text/plain": [
       "{'fn': 2, 'fp': 0, 'tn': 33, 'tp': 7}"
      ]
     },
     "execution_count": 21,
     "metadata": {},
     "output_type": "execute_result"
    }
   ],
   "source": [
    "thresh = 0.5\n",
    "test_colour_model(neural_agent.colour_models['red'], colour_thresh=thresh)\n",
    "test_colour_model(neural_agent.colour_models['blue'], colour_thresh=thresh)"
   ]
  },
  {
   "cell_type": "code",
   "execution_count": null,
   "metadata": {},
   "outputs": [],
   "source": []
  }
 ],
 "metadata": {
  "kernelspec": {
   "display_name": "Python 3",
   "language": "python",
   "name": "python3"
  },
  "language_info": {
   "codemirror_mode": {
    "name": "ipython",
    "version": 3
   },
   "file_extension": ".py",
   "mimetype": "text/x-python",
   "name": "python",
   "nbconvert_exporter": "python",
   "pygments_lexer": "ipython3",
   "version": "3.6.3"
  }
 },
 "nbformat": 4,
 "nbformat_minor": 2
}

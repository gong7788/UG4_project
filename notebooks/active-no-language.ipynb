{
 "cells": [
  {
   "cell_type": "code",
   "execution_count": 23,
   "metadata": {},
   "outputs": [],
   "source": [
    "import goal_updates\n",
    "from search import Rule\n",
    "import world\n",
    "import os\n",
    "import pddl_functions\n",
    "import prob_model\n",
    "import numpy as np\n",
    "import configparser"
   ]
  },
  {
   "cell_type": "code",
   "execution_count": 24,
   "metadata": {},
   "outputs": [],
   "source": [
    "def get_kde_config(config_name):\n",
    "    model_config = configparser.ConfigParser()\n",
    "    model_config.read('config/kde.ini')\n",
    "    model_config = model_config[config_name]\n",
    "    config_dict = {}\n",
    "    config_dict['use_3d'] = model_config.getboolean('use_3d')\n",
    "    config_dict['fix_bw'] = model_config.getboolean('fix_bw')\n",
    "    config_dict['bw'] = model_config.getfloat('bw')\n",
    "    config_dict['norm'] = model_config.getfloat('norm')\n",
    "    return config_dict"
   ]
  },
  {
   "cell_type": "code",
   "execution_count": 13,
   "metadata": {},
   "outputs": [],
   "source": [
    "c1 = 'C1'\n",
    "c2 = 'C2'\n",
    "c3 = 'C3'\n",
    "\n",
    "rule1 = goal_updates.create_goal([c3], [c2])\n",
    "rule2 = goal_updates.create_goal([c3], [c1], ['?y', '?x'])\n",
    "\n",
    "data = w.sense().colours"
   ]
  },
  {
   "cell_type": "code",
   "execution_count": 9,
   "metadata": {},
   "outputs": [
    {
     "name": "stdout",
     "output_type": "stream",
     "text": [
      "Parsing domain blocks-domain.pddl\n",
      "Parsing problem onerule/problem1.pddl\n"
     ]
    }
   ],
   "source": [
    "problem_dir = 'onerule'\n",
    "problems = list(os.listdir('tworules'))\n",
    "\n",
    "w = world.PDDLWorld('blocks-domain.pddl', '{}/{}'.format(problem_dir, problems[0]))\n",
    "# teacher = TeacherAgent()\n",
    "# agent = agents.CorrectingAgent(w, teacher=teacher, update_negative=False, \n",
    "#                                colour_model_type='kde', model_config=get_kde_config('fixed_bw'))"
   ]
  },
  {
   "cell_type": "code",
   "execution_count": 12,
   "metadata": {},
   "outputs": [],
   "source": [
    "for obj in pddl_functions.filter_tower_locations(observation.objects, get_locations=False):\n",
    "    data = observation.colours[obj]\n",
    "    p_colour = model.p(1, data)"
   ]
  },
  {
   "cell_type": "code",
   "execution_count": 27,
   "metadata": {},
   "outputs": [],
   "source": [
    "c3_model = prob_model.KDEColourModel(c3, data=np.array([data['b3']]), weights=np.array([1]), **get_kde_config('fixed_bw'))"
   ]
  },
  {
   "cell_type": "code",
   "execution_count": 30,
   "metadata": {},
   "outputs": [
    {
     "data": {
      "text/plain": [
       "'(on b2 b5)'"
      ]
     },
     "execution_count": 30,
     "metadata": {},
     "output_type": "execute_result"
    }
   ],
   "source": [
    "class ActiveLearningTest(object):\n",
    "    \n",
    "    def __init__(self, rule1, rule2, data, c3_model, c2_obj):\n",
    "        self.rule1 = Rule(rule1)\n",
    "        self.rule2 = Rule(rule2)\n",
    "        results = {}\n",
    "\n",
    "        for obj in pddl_functions.filter_tower_locations(data.keys(), get_locations=False):\n",
    "            datum = data[obj]\n",
    "            p_colour = c3_model.p(1, datum)\n",
    "            results[obj] = p_colour\n",
    "        \n",
    "        least_likely_obj = min(results, key=results.get)\n",
    "        \n",
    "        self.test_formula = pddl_functions.create_formula('on', [c2_obj, least_likely_obj])\n",
    "                \n",
    "\n",
    "test = ActiveLearningTest(rule1, rule2, data, c3_model, 'b2')\n",
    "test.test_formula.asPDDL()"
   ]
  },
  {
   "cell_type": "code",
   "execution_count": 31,
   "metadata": {},
   "outputs": [
    {
     "data": {
      "image/png": "[encoded data removed]",
      "text/plain": [
       "<Figure size 432x288 with 1 Axes>"
      ]
     },
     "metadata": {},
     "output_type": "display_data"
    }
   ],
   "source": [
    "w.draw()"
   ]
  },
  {
   "cell_type": "code",
   "execution_count": null,
   "metadata": {},
   "outputs": [],
   "source": []
  }
 ],
 "metadata": {
  "kernelspec": {
   "display_name": "Python 3",
   "language": "python",
   "name": "python3"
  },
  "language_info": {
   "codemirror_mode": {
    "name": "ipython",
    "version": 3
   },
   "file_extension": ".py",
   "mimetype": "text/x-python",
   "name": "python",
   "nbconvert_exporter": "python",
   "pygments_lexer": "ipython3",
   "version": "3.6.3"
  }
 },
 "nbformat": 4,
 "nbformat_minor": 2
}

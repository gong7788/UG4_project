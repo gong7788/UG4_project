{
 "cells": [
  {
   "cell_type": "code",
   "execution_count": 4,
   "metadata": {},
   "outputs": [],
   "source": [
    "import numpy as np\n",
    "import cv2"
   ]
  },
  {
   "cell_type": "code",
   "execution_count": 5,
   "metadata": {},
   "outputs": [
    {
     "data": {
      "text/plain": [
       "array([[[255,   0,   0],\n",
       "        [255,   0,   0],\n",
       "        [255,   0,   0],\n",
       "        ..., \n",
       "        [  0,   0,   0],\n",
       "        [  0,   0,   0],\n",
       "        [  0,   0,   0]],\n",
       "\n",
       "       [[255,   0,   0],\n",
       "        [255,   0,   0],\n",
       "        [255,   0,   0],\n",
       "        ..., \n",
       "        [  0,   0,   0],\n",
       "        [  0,   0,   0],\n",
       "        [  0,   0,   0]],\n",
       "\n",
       "       [[255,   0,   0],\n",
       "        [255,   0,   0],\n",
       "        [255,   0,   0],\n",
       "        ..., \n",
       "        [  0,   0,   0],\n",
       "        [  0,   0,   0],\n",
       "        [  0,   0,   0]],\n",
       "\n",
       "       ..., \n",
       "       [[  0,   0,   0],\n",
       "        [  0,   0,   0],\n",
       "        [  0,   0,   0],\n",
       "        ..., \n",
       "        [255,   0,   0],\n",
       "        [255,   0,   0],\n",
       "        [255,   0,   0]],\n",
       "\n",
       "       [[  0,   0,   0],\n",
       "        [  0,   0,   0],\n",
       "        [  0,   0,   0],\n",
       "        ..., \n",
       "        [255,   0,   0],\n",
       "        [255,   0,   0],\n",
       "        [255,   0,   0]],\n",
       "\n",
       "       [[  0,   0,   0],\n",
       "        [  0,   0,   0],\n",
       "        [  0,   0,   0],\n",
       "        ..., \n",
       "        [255,   0,   0],\n",
       "        [255,   0,   0],\n",
       "        [255,   0,   0]]], dtype=uint8)"
      ]
     },
     "execution_count": 5,
     "metadata": {},
     "output_type": "execute_result"
    }
   ],
   "source": [
    "img = np.zeros((512,512,3), np.uint8)\n",
    "cv2.line(img, (0,0), (511,511), (255,0,0),5)"
   ]
  },
  {
   "cell_type": "code",
   "execution_count": 7,
   "metadata": {},
   "outputs": [
    {
     "ename": "error",
     "evalue": "/tmp/build/80754af9/opencv_1512687413662/work/modules/highgui/src/window.cpp:611: error: (-2) The function is not implemented. Rebuild the library with Windows, GTK+ 2.x or Carbon support. If you are on Ubuntu or Debian, install libgtk2.0-dev and pkg-config, then re-run cmake or configure script in function cvShowImage\n",
     "output_type": "error",
     "traceback": [
      "\u001b[0;31m---------------------------------------------------------------------------\u001b[0m",
      "\u001b[0;31merror\u001b[0m                                     Traceback (most recent call last)",
      "\u001b[0;32m<ipython-input-7-8de3d54c09b4>\u001b[0m in \u001b[0;36m<module>\u001b[0;34m()\u001b[0m\n\u001b[0;32m----> 1\u001b[0;31m \u001b[0mcv2\u001b[0m\u001b[0;34m.\u001b[0m\u001b[0mimshow\u001b[0m\u001b[0;34m(\u001b[0m\u001b[0;34m'image'\u001b[0m\u001b[0;34m,\u001b[0m \u001b[0mimg\u001b[0m\u001b[0;34m)\u001b[0m\u001b[0;34m\u001b[0m\u001b[0m\n\u001b[0m",
      "\u001b[0;31merror\u001b[0m: /tmp/build/80754af9/opencv_1512687413662/work/modules/highgui/src/window.cpp:611: error: (-2) The function is not implemented. Rebuild the library with Windows, GTK+ 2.x or Carbon support. If you are on Ubuntu or Debian, install libgtk2.0-dev and pkg-config, then re-run cmake or configure script in function cvShowImage\n"
     ]
    }
   ],
   "source": [
    "cv2.imshow('image', img)"
   ]
  },
  {
   "cell_type": "code",
   "execution_count": 18,
   "metadata": {},
   "outputs": [],
   "source": [
    "%matplotlib inline\n",
    "import matplotlib.pyplot as plt\n",
    "from matplotlib.patches import Rectangle\n",
    "from matplotlib.collections import PatchCollection"
   ]
  },
  {
   "cell_type": "code",
   "execution_count": 20,
   "metadata": {},
   "outputs": [
    {
     "data": {
      "image/png": "[encoded data removed]",
      "text/plain": [
       "<Figure size 432x288 with 1 Axes>"
      ]
     },
     "metadata": {},
     "output_type": "display_data"
    }
   ],
   "source": []
  },
  {
   "cell_type": "code",
   "execution_count": 25,
   "metadata": {},
   "outputs": [
    {
     "data": {
      "image/png": "[encoded data removed]",
      "text/plain": [
       "<Figure size 432x288 with 2 Axes>"
      ]
     },
     "metadata": {},
     "output_type": "display_data"
    }
   ],
   "source": [
    "fig, ax = plt.subplots()\n",
    "resolution = 50\n",
    "N = 3\n",
    "x = np.random.rand(N)\n",
    "y = np.random.rand(N)\n",
    "\n",
    "height = 0.1\n",
    "width = 0.1\n",
    "patches = []\n",
    "for x1, y1 in zip(x,y):\n",
    "    rectangle = Rectangle((x1, y1), width=width, height=height)\n",
    "    patches.append(rectangle)\n",
    "    \n",
    "p = PatchCollection(patches)\n",
    "\n",
    "ax.add_collection(p)\n",
    "colors = 100*np.random.rand(len(patches))\n",
    "p.set_array(np.array(colors))\n",
    "fig.colorbar(p, ax=ax)\n",
    "\n",
    "plt.show()"
   ]
  },
  {
   "cell_type": "code",
   "execution_count": 26,
   "metadata": {},
   "outputs": [
    {
     "name": "stdout",
     "output_type": "stream",
     "text": [
      "Parsing domain blocks-domain.pddl\n",
      "Parsing problem ../FF-v2.3/blocks1.pddl\n"
     ]
    }
   ],
   "source": [
    "import pddl_functions, ff\n",
    "import copy\n",
    "domain, problem = pddl_functions.parse('blocks-domain.pddl', '../FF-v2.3/blocks1.pddl')\n",
    "\n"
   ]
  },
  {
   "cell_type": "code",
   "execution_count": 27,
   "metadata": {},
   "outputs": [
    {
     "data": {
      "text/plain": [
       "[<pythonpddl2.pddl.Formula at 0x7fe2b52c4940>,\n",
       " <pythonpddl2.pddl.Formula at 0x7fe2b52c4a58>,\n",
       " <pythonpddl2.pddl.Formula at 0x7fe2b52c4b70>,\n",
       " <pythonpddl2.pddl.Formula at 0x7fe2b52c4c88>,\n",
       " <pythonpddl2.pddl.Formula at 0x7fe2b52c4da0>,\n",
       " <pythonpddl2.pddl.Formula at 0x7fe2b52c4ef0>,\n",
       " <pythonpddl2.pddl.Formula at 0x7fe2b52c7080>,\n",
       " <pythonpddl2.pddl.Formula at 0x7fe2b52c71d0>,\n",
       " <pythonpddl2.pddl.Formula at 0x7fe2b52c7320>,\n",
       " <pythonpddl2.pddl.Formula at 0x7fe2b52c7470>,\n",
       " <pythonpddl2.pddl.Formula at 0x7fe2b52c7518>,\n",
       " <pythonpddl2.pddl.Formula at 0x7fe2b52c7668>,\n",
       " <pythonpddl2.pddl.Formula at 0x7fe2b52c77b8>,\n",
       " <pythonpddl2.pddl.Formula at 0x7fe2b52c78d0>]"
      ]
     },
     "execution_count": 27,
     "metadata": {},
     "output_type": "execute_result"
    }
   ],
   "source": [
    "problem.initialstate"
   ]
  },
  {
   "cell_type": "code",
   "execution_count": 34,
   "metadata": {},
   "outputs": [
    {
     "name": "stdout",
     "output_type": "stream",
     "text": [
      "b1\n",
      "b2\n",
      "b3\n",
      "b4\n",
      "b5\n"
     ]
    }
   ],
   "source": [
    "for arg in problem.objects.args:\n",
    "    print(arg.arg_name)"
   ]
  },
  {
   "cell_type": "code",
   "execution_count": 89,
   "metadata": {},
   "outputs": [],
   "source": [
    "height = width = 0.2\n",
    "def get_objects(problem):\n",
    "    return [arg.arg_name for arg in problem.objects.args]\n",
    "def generate_start_position(problem):\n",
    "    objects = get_objects(problem)\n",
    "    y_pos = 0\n",
    "    starting_positions = []\n",
    "    x_pos = 0.2\n",
    "    for o in objects:\n",
    "        starting_positions.append((x_pos, y_pos))\n",
    "        x_pos += width*2\n",
    "    return starting_positions\n",
    "    "
   ]
  },
  {
   "cell_type": "code",
   "execution_count": 49,
   "metadata": {},
   "outputs": [],
   "source": [
    "\n",
    "posns = generate_start_position(problem)"
   ]
  },
  {
   "cell_type": "code",
   "execution_count": 52,
   "metadata": {},
   "outputs": [
    {
     "data": {
      "image/png": "[encoded data removed]",
      "text/plain": [
       "<Figure size 432x288 with 1 Axes>"
      ]
     },
     "metadata": {},
     "output_type": "display_data"
    }
   ],
   "source": [
    "def plot_blocks(posns, colours):\n",
    "    fig, ax = plt.subplots()\n",
    "    resolution = 50\n",
    "\n",
    "    height = width = 0.2\n",
    "\n",
    "    patches = []\n",
    "    for x1, y1 in posns:\n",
    "        rectangle = Rectangle((x1, y1), width=width, height=height)\n",
    "        patches.append(rectangle)\n",
    "\n",
    "    p = PatchCollection(patches)\n",
    "\n",
    "    ax.add_collection(p)\n",
    "    p.set_array(np.array(colors))\n",
    "    plt.xlim(0, 2.2)\n",
    "    plt.ylim(0, 2.2)\n",
    "    plt.show()\n",
    "\n",
    "colours = 100*np.random.rand(len(patches))\n",
    "plot_blocks(posns, colours)"
   ]
  },
  {
   "cell_type": "code",
   "execution_count": 69,
   "metadata": {},
   "outputs": [
    {
     "data": {
      "text/plain": [
       "'b1'"
      ]
     },
     "execution_count": 69,
     "metadata": {},
     "output_type": "execute_result"
    }
   ],
   "source": [
    "f1 = problem.initialstate[0]\n",
    "p1 = f1.get_predicates(1)[0]\n",
    "p1.args.args[0].arg_name"
   ]
  },
  {
   "cell_type": "code",
   "execution_count": 104,
   "metadata": {},
   "outputs": [],
   "source": [
    "def get_predicates(object_, state):\n",
    "    predicates = []\n",
    "    for formula in state:\n",
    "        predicate = formula.get_predicates(1)[0]\n",
    "        if object_ in [arg.arg_name for arg in predicate.args.args]:\n",
    "            predicates.append(predicate)\n",
    "    return predicates"
   ]
  },
  {
   "cell_type": "code",
   "execution_count": 85,
   "metadata": {},
   "outputs": [
    {
     "name": "stdout",
     "output_type": "stream",
     "text": [
      "['b1']\n",
      "['b2']\n",
      "['b3']\n",
      "['b4']\n",
      "['b5']\n",
      "['b1']\n",
      "['b2']\n",
      "['b3']\n",
      "['b4']\n",
      "['b5']\n",
      "[]\n",
      "['b1']\n",
      "['b3']\n",
      "['b4']\n",
      "on-table\n",
      "clear\n",
      "blue\n"
     ]
    }
   ],
   "source": [
    "for f in get_predicates('b1', problem.initialstate):\n",
    "    print(f.name)"
   ]
  },
  {
   "cell_type": "code",
   "execution_count": null,
   "metadata": {},
   "outputs": [],
   "source": []
  },
  {
   "cell_type": "code",
   "execution_count": 142,
   "metadata": {},
   "outputs": [],
   "source": [
    "def place_objects(objects, state, y_start):\n",
    "    y_pos = {o:-1 for o in objects}\n",
    "    x_pos = {o:x for o, (x, y) in zip(objects, y_start)}\n",
    "    predicates = {o:{p.name:p for p in get_predicates(o, state)} for o in objects}\n",
    "    for o in objects:\n",
    "        if 'on-table' in predicates[o].keys():\n",
    "            y_pos[o] = 0\n",
    "    while -1 in y_pos.values():\n",
    "        for o in objects:\n",
    "            if 'on' in predicates[o].keys():\n",
    "                x, y = map(lambda x: x.arg_name, predicates[o]['on'].args.args)\n",
    "                if y_pos[y] != -1:\n",
    "                    y_pos[x] = y_pos[y] + height\n",
    "                    x_pos[x] = x_pos[y]\n",
    "    return [(x_pos[o], y_pos[o]) for o in objects]"
   ]
  },
  {
   "cell_type": "code",
   "execution_count": 106,
   "metadata": {
    "scrolled": true
   },
   "outputs": [
    {
     "name": "stdout",
     "output_type": "stream",
     "text": [
      "b1\n",
      "b2\n",
      "b3\n",
      "b4\n",
      "b5\n"
     ]
    }
   ],
   "source": [
    "place_objects(get_objects(problem), problem.initialstate)"
   ]
  },
  {
   "cell_type": "code",
   "execution_count": 99,
   "metadata": {},
   "outputs": [
    {
     "name": "stdout",
     "output_type": "stream",
     "text": [
      "(on-table b1)\n",
      "(on-table b2)\n",
      "(on-table b3)\n",
      "(on-table b4)\n",
      "(on-table b5)\n",
      "(clear b1)\n",
      "(clear b2)\n",
      "(clear b3)\n",
      "(clear b4)\n",
      "(clear b5)\n",
      "(arm-empty )\n",
      "(blue b1)\n",
      "(red b3)\n",
      "(in-tower b4)\n"
     ]
    }
   ],
   "source": [
    "for f in problem.initialstate:\n",
    "    print(f.asPDDL())"
   ]
  },
  {
   "cell_type": "code",
   "execution_count": 113,
   "metadata": {},
   "outputs": [],
   "source": [
    "import pddl_functions, ff\n",
    "import copy\n",
    "def create_action_dict(domain):\n",
    "    return {action.name:action for action in domain.actions}\n",
    "\n",
    "result = ff.ff('blocks-domain.pddl', '../FF-v2.3/blocks1.pddl')\n",
    "actions = ff.get_actions(result)\n",
    "\n",
    "domain_actions = create_action_dict(domain)\n",
    "\n",
    "state = problem.initialstate\n",
    "for action, action_arguments in actions:\n",
    "    #try:\n",
    "    state = pddl_functions.apply_action(action_arguments, domain_actions[action], state)\n",
    "    #except AttributeError:\n",
    "    #    print(action)"
   ]
  },
  {
   "cell_type": "code",
   "execution_count": 115,
   "metadata": {},
   "outputs": [],
   "source": [
    "problem2 = copy.deepcopy(problem)"
   ]
  },
  {
   "cell_type": "code",
   "execution_count": 118,
   "metadata": {},
   "outputs": [],
   "source": [
    "problem2.initialstate = state"
   ]
  },
  {
   "cell_type": "code",
   "execution_count": 143,
   "metadata": {},
   "outputs": [],
   "source": [
    "positions = place_objects(get_objects(problem), problem2.initialstate, posns)"
   ]
  },
  {
   "cell_type": "code",
   "execution_count": 125,
   "metadata": {},
   "outputs": [
    {
     "data": {
      "text/plain": [
       "[(0.2, 0),\n",
       " (0.6000000000000001, 0),\n",
       " (1.0, 0),\n",
       " (1.4, 0),\n",
       " (1.7999999999999998, 0)]"
      ]
     },
     "execution_count": 125,
     "metadata": {},
     "output_type": "execute_result"
    }
   ],
   "source": [
    "posns"
   ]
  },
  {
   "cell_type": "code",
   "execution_count": 144,
   "metadata": {},
   "outputs": [
    {
     "data": {
      "image/png": "[encoded data removed]",
      "text/plain": [
       "<Figure size 432x288 with 1 Axes>"
      ]
     },
     "metadata": {},
     "output_type": "display_data"
    }
   ],
   "source": [
    "plot_blocks(positions, colours)"
   ]
  },
  {
   "cell_type": "code",
   "execution_count": 141,
   "metadata": {},
   "outputs": [
    {
     "data": {
      "text/plain": [
       "[(1.0, -0.8), (0.2, -0.8), (1.4, 0.4), (1.4, 0), (1.4, 0.2)]"
      ]
     },
     "execution_count": 141,
     "metadata": {},
     "output_type": "execute_result"
    }
   ],
   "source": [
    "positions"
   ]
  },
  {
   "cell_type": "code",
   "execution_count": null,
   "metadata": {},
   "outputs": [],
   "source": []
  }
 ],
 "metadata": {
  "kernelspec": {
   "display_name": "Python 3",
   "language": "python",
   "name": "python3"
  },
  "language_info": {
   "codemirror_mode": {
    "name": "ipython",
    "version": 3
   },
   "file_extension": ".py",
   "mimetype": "text/x-python",
   "name": "python",
   "nbconvert_exporter": "python",
   "pygments_lexer": "ipython3",
   "version": "3.6.3"
  }
 },
 "nbformat": 4,
 "nbformat_minor": 2
}

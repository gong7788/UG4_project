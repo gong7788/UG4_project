{
 "cells": [
  {
   "cell_type": "code",
   "execution_count": 1,
   "metadata": {},
   "outputs": [],
   "source": [
    "from experiment import add_experiment\n",
    "from experiment_tracking import read_experiments, get_results_file, get_baseline, load_experiments\n",
    "from evaluation import test_colour_model, colour_probs, colour_dict, name_to_rgb\n",
    "from util import add_config_option, create_experiment\n",
    "\n",
    "%matplotlib inline"
   ]
  },
  {
   "cell_type": "code",
   "execution_count": 13,
   "metadata": {},
   "outputs": [],
   "source": [
    "# add_config_option(category='onerule', option='update_negative', value='False')\n",
    "# add_config_option(category='onerule_update_negative', option='scenario_suite', value='onerule')\n",
    "# add_config_option(category='onerule_update_negative', option='update_negative', value='True')\n",
    "create_experiment('tworules_update_once_with_negative', {'scenario_suite':'tworules', 'update_once':'True', 'update_negative':'True'})"
   ]
  },
  {
   "cell_type": "code",
   "execution_count": 2,
   "metadata": {},
   "outputs": [
    {
     "name": "stdout",
     "output_type": "stream",
     "text": [
      "Parsing domain blocks-domain.pddl\n",
      "Parsing problem tworules/problem1.pddl\n",
      "Parsing domain blocks-domain.pddl\n",
      "Parsing problem tworules/problem1.pddl\n"
     ]
    },
    {
     "name": "stderr",
     "output_type": "stream",
     "text": [
      "T: No, now you cannot put b1 in the tower because you must put green blocks on yellow blocks\n",
      "R: Is the top object green?\n",
      "T: yes\n"
     ]
    },
    {
     "name": "stdout",
     "output_type": "stream",
     "text": [
      "[0.80318378 0.825      0.80996578]\n",
      "[1. 1. 1.]\n",
      "[0.80318378 0.825      0.80996578]\n",
      "[0.82307766 0.82307766 0.81046713]\n"
     ]
    },
    {
     "name": "stderr",
     "output_type": "stream",
     "text": [
      "T: No, now you cannot put b1 in the tower because you must put green blocks on yellow blocks\n"
     ]
    },
    {
     "name": "stdout",
     "output_type": "stream",
     "text": [
      "[0.6702042  0.69444444 0.67773976]\n",
      "[0.82307766 0.82307766 0.81046713]\n",
      "[0.6702042  0.69444444 0.67773976]\n",
      "[0.69230851 0.69230851 0.67829681]\n"
     ]
    },
    {
     "name": "stderr",
     "output_type": "stream",
     "text": [
      "T: No, now you cannot put b1 in the tower because you must put green blocks on yellow blocks\n"
     ]
    },
    {
     "name": "stdout",
     "output_type": "stream",
     "text": [
      "[0.57483976 0.59821429 0.5821062 ]\n",
      "[0.69230851 0.69230851 0.67829681]\n",
      "[0.57483976 0.59821429 0.5821062 ]\n",
      "[0.59615464 0.59615464 0.58264335]\n"
     ]
    },
    {
     "name": "stderr",
     "output_type": "stream",
     "text": [
      "T: No, now you cannot put b1 in the tower because you must put green blocks on yellow blocks\n"
     ]
    },
    {
     "name": "stdout",
     "output_type": "stream",
     "text": [
      "[0.50318378 0.525      0.50996578]\n",
      "[0.59615464 0.59615464 0.58264335]\n",
      "[0.50318378 0.525      0.50996578]\n",
      "[0.52307766 0.52307766 0.51046713]\n"
     ]
    },
    {
     "name": "stderr",
     "output_type": "stream",
     "text": [
      "T: No, now you cannot put b1 in the tower because you must put green blocks on yellow blocks\n"
     ]
    },
    {
     "name": "stdout",
     "output_type": "stream",
     "text": [
      "[0.44739239 0.46759259 0.45367202]\n",
      "[0.52307766 0.52307766 0.51046713]\n",
      "[0.44739239 0.46759259 0.45367202]\n",
      "[0.46581265 0.46581265 0.45413623]\n",
      "problem1.pddl reward: -20\n",
      "Parsing domain blocks-domain.pddl\n",
      "Parsing problem tworules/problem10.pddl\n"
     ]
    },
    {
     "name": "stderr",
     "output_type": "stream",
     "text": [
      "T: No, now you cannot put b4 in the tower because you must put red blocks on blue blocks\n",
      "R: Is the top object red?\n",
      "T: no\n"
     ]
    },
    {
     "name": "stdout",
     "output_type": "stream",
     "text": [
      "[1. 1. 1.]\n",
      "[0.8060073  0.80077855 0.81461938]\n",
      "[0.80000038 0.825      0.825     ]\n",
      "[0.8060073  0.80077855 0.81461938]\n",
      "problem10.pddl reward: -12\n",
      "Parsing domain blocks-domain.pddl\n",
      "Parsing problem tworules/problem11.pddl\n"
     ]
    },
    {
     "name": "stderr",
     "output_type": "stream",
     "text": [
      "T: no, put red blocks on blue blocks\n"
     ]
    },
    {
     "name": "stdout",
     "output_type": "stream",
     "text": [
      "(forall (?x) (or (not (red ?x)) (exists (?y) (and (blue ?y) (on ?x ?y)))))\n",
      "[0.67098167 0.68901235 0.68901235]\n"
     ]
    },
    {
     "name": "stderr",
     "output_type": "stream",
     "text": [
      "T: no, put red blocks on blue blocks\n"
     ]
    },
    {
     "name": "stdout",
     "output_type": "stream",
     "text": [
      "(forall (?x) (or (not (red ?x)) (exists (?y) (and (blue ?y) (on ?x ?y)))))\n",
      "[0.5769763  0.59123016 0.59123016]\n"
     ]
    },
    {
     "name": "stderr",
     "output_type": "stream",
     "text": [
      "T: no, put red blocks on blue blocks\n"
     ]
    },
    {
     "name": "stdout",
     "output_type": "stream",
     "text": [
      "(forall (?x) (or (not (red ?x)) (exists (?y) (and (blue ?y) (on ?x ?y)))))\n",
      "[0.50582507 0.51766667 0.51766667]\n",
      "[0.8060073  0.80077855 0.81461938]\n"
     ]
    },
    {
     "name": "stderr",
     "output_type": "stream",
     "text": [
      "T: no, put red blocks on blue blocks\n"
     ]
    },
    {
     "name": "stdout",
     "output_type": "stream",
     "text": [
      "(forall (?x) (or (not (red ?x)) (exists (?y) (and (blue ?y) (on ?x ?y)))))\n",
      "[0.45019757 0.46034979 0.46034979]\n",
      "[0.8060073  0.80077855 0.81461938]\n"
     ]
    },
    {
     "name": "stderr",
     "output_type": "stream",
     "text": [
      "T: no, put red blocks on blue blocks\n"
     ]
    },
    {
     "name": "stdout",
     "output_type": "stream",
     "text": [
      "(forall (?x) (or (not (red ?x)) (exists (?y) (and (blue ?y) (on ?x ?y)))))\n",
      "[0.40554765 0.41444444 0.41444444]\n",
      "[0.8060073  0.80077855 0.81461938]\n"
     ]
    },
    {
     "name": "stderr",
     "output_type": "stream",
     "text": [
      "T: no, put red blocks on blue blocks\n"
     ]
    },
    {
     "name": "stdout",
     "output_type": "stream",
     "text": [
      "(forall (?x) (or (not (red ?x)) (exists (?y) (and (blue ?y) (on ?x ?y)))))\n",
      "[0.36893184 0.37685606 0.37685606]\n",
      "[0.8060073  0.80077855 0.81461938]\n"
     ]
    },
    {
     "name": "stderr",
     "output_type": "stream",
     "text": [
      "T: no, put red blocks on blue blocks\n"
     ]
    },
    {
     "name": "stdout",
     "output_type": "stream",
     "text": [
      "(forall (?x) (or (not (red ?x)) (exists (?y) (and (blue ?y) (on ?x ?y)))))\n",
      "[0.33836729 0.3455144  0.3455144 ]\n",
      "[0.8060073  0.80077855 0.81461938]\n"
     ]
    },
    {
     "name": "stderr",
     "output_type": "stream",
     "text": [
      "T: no, put red blocks on blue blocks\n"
     ]
    },
    {
     "name": "stdout",
     "output_type": "stream",
     "text": [
      "(forall (?x) (or (not (red ?x)) (exists (?y) (and (blue ?y) (on ?x ?y)))))\n",
      "[0.3124718  0.31898291 0.31898291]\n",
      "[0.8060073  0.80077855 0.81461938]\n"
     ]
    },
    {
     "name": "stderr",
     "output_type": "stream",
     "text": [
      "T: no, put red blocks on blue blocks\n"
     ]
    },
    {
     "name": "stdout",
     "output_type": "stream",
     "text": [
      "(forall (?x) (or (not (red ?x)) (exists (?y) (and (blue ?y) (on ?x ?y)))))\n",
      "[0.29025325 0.29623377 0.29623377]\n",
      "[0.8060073  0.80077855 0.81461938]\n"
     ]
    },
    {
     "name": "stderr",
     "output_type": "stream",
     "text": [
      "T: no, put red blocks on blue blocks\n"
     ]
    },
    {
     "name": "stdout",
     "output_type": "stream",
     "text": [
      "(forall (?x) (or (not (red ?x)) (exists (?y) (and (blue ?y) (on ?x ?y)))))\n",
      "[0.27098148 0.27651235 0.27651235]\n",
      "[0.8060073  0.80077855 0.81461938]\n"
     ]
    },
    {
     "name": "stderr",
     "output_type": "stream",
     "text": [
      "T: no, put red blocks on blue blocks\n"
     ]
    },
    {
     "name": "stdout",
     "output_type": "stream",
     "text": [
      "(forall (?x) (or (not (red ?x)) (exists (?y) (and (blue ?y) (on ?x ?y)))))\n",
      "[0.25410737 0.25925214 0.25925214]\n",
      "[0.8060073  0.80077855 0.81461938]\n"
     ]
    },
    {
     "name": "stderr",
     "output_type": "stream",
     "text": [
      "T: no, put red blocks on blue blocks\n"
     ]
    },
    {
     "name": "stdout",
     "output_type": "stream",
     "text": [
      "(forall (?x) (or (not (red ?x)) (exists (?y) (and (blue ?y) (on ?x ?y)))))\n",
      "[0.23921008 0.24401961 0.24401961]\n",
      "[0.8060073  0.80077855 0.81461938]\n",
      "problem11.pddl reward: -34\n",
      "Parsing domain blocks-domain.pddl\n",
      "Parsing problem tworules/problem12.pddl\n"
     ]
    },
    {
     "name": "stderr",
     "output_type": "stream",
     "text": [
      "T: No, now you cannot put b4 in the tower because you must put red blocks on blue blocks\n",
      "R: Is the top object red?\n",
      "T: no\n"
     ]
    },
    {
     "name": "stdout",
     "output_type": "stream",
     "text": [
      "[0.23921008 0.24401961 0.24401961]\n",
      "[0.67169678 0.66914819 0.68515571]\n",
      "[0.22596172 0.23047737 0.23047737]\n",
      "[0.67169678 0.66914819 0.68515571]\n"
     ]
    },
    {
     "name": "stderr",
     "output_type": "stream",
     "text": [
      "T: No, now you cannot put b4 in the tower because you must put red blocks on blue blocks\n"
     ]
    },
    {
     "name": "stdout",
     "output_type": "stream",
     "text": [
      "[0.22596172 0.23047737 0.23047737]\n",
      "[0.5757504  0.57434105 0.58997899]\n",
      "[0.21410307 0.21835892 0.21835892]\n",
      "[0.5757504  0.57434105 0.58997899]\n"
     ]
    },
    {
     "name": "stderr",
     "output_type": "stream",
     "text": [
      "T: no, put red blocks on blue blocks\n"
     ]
    },
    {
     "name": "stdout",
     "output_type": "stream",
     "text": [
      "(forall (?x) (or (not (red ?x)) (exists (?y) (and (blue ?y) (on ?x ?y)))))\n",
      "[0.20342647 0.20745098 0.20745098]\n",
      "[0.5757504  0.57434105 0.58997899]\n",
      "problem12.pddl reward: -16\n",
      "Parsing domain blocks-domain.pddl\n",
      "Parsing problem tworules/problem13.pddl\n"
     ]
    },
    {
     "name": "stderr",
     "output_type": "stream",
     "text": [
      "T: no, put red blocks on blue blocks\n"
     ]
    },
    {
     "name": "stdout",
     "output_type": "stream",
     "text": [
      "(forall (?x) (or (not (red ?x)) (exists (?y) (and (blue ?y) (on ?x ?y)))))\n",
      "[0.19553842 0.19803385 0.19816881]\n",
      "[0.57354416 0.57216872 0.58920616]\n"
     ]
    },
    {
     "name": "stderr",
     "output_type": "stream",
     "text": [
      "T: no, put red blocks on blue blocks\n"
     ]
    },
    {
     "name": "stdout",
     "output_type": "stream",
     "text": [
      "(forall (?x) (or (not (red ?x)) (exists (?y) (and (blue ?y) (on ?x ?y)))))\n",
      "[0.1880062  0.18920893 0.18945631]\n",
      "[0.57348715 0.57213792 0.58915557]\n"
     ]
    },
    {
     "name": "stderr",
     "output_type": "stream",
     "text": [
      "T: no, put red blocks on blue blocks\n"
     ]
    },
    {
     "name": "stdout",
     "output_type": "stream",
     "text": [
      "(forall (?x) (or (not (red ?x)) (exists (?y) (and (blue ?y) (on ?x ?y)))))\n",
      "[0.18135347 0.18178232 0.18221862]\n",
      "[0.57348495 0.57213673 0.58915362]\n"
     ]
    },
    {
     "name": "stderr",
     "output_type": "stream",
     "text": [
      "T: no, put red blocks on blue blocks\n"
     ]
    },
    {
     "name": "stdout",
     "output_type": "stream",
     "text": [
      "(forall (?x) (or (not (red ?x)) (exists (?y) (and (blue ?y) (on ?x ?y)))))\n",
      "[0.17504696 0.17431731 0.17491736]\n",
      "[0.5734846  0.57213619 0.58915263]\n"
     ]
    },
    {
     "name": "stderr",
     "output_type": "stream",
     "text": [
      "T: no, put red blocks on blue blocks\n"
     ]
    },
    {
     "name": "stdout",
     "output_type": "stream",
     "text": [
      "(forall (?x) (or (not (red ?x)) (exists (?y) (and (blue ?y) (on ?x ?y)))))\n",
      "[0.16943574 0.167986   0.16880238]\n",
      "[0.5734846  0.57213619 0.58915263]\n"
     ]
    },
    {
     "name": "stderr",
     "output_type": "stream",
     "text": [
      "T: no, put red blocks on blue blocks\n"
     ]
    },
    {
     "name": "stdout",
     "output_type": "stream",
     "text": [
      "(forall (?x) (or (not (red ?x)) (exists (?y) (and (blue ?y) (on ?x ?y)))))\n",
      "[0.16408158 0.16159586 0.16259924]\n",
      "[0.5734846  0.57213618 0.58915261]\n"
     ]
    },
    {
     "name": "stderr",
     "output_type": "stream",
     "text": [
      "T: no, put red blocks on blue blocks\n"
     ]
    },
    {
     "name": "stdout",
     "output_type": "stream",
     "text": [
      "(forall (?x) (or (not (red ?x)) (exists (?y) (and (blue ?y) (on ?x ?y)))))\n",
      "[0.15928528 0.15613685 0.15736505]\n",
      "[0.5734846  0.57213618 0.58915261]\n"
     ]
    },
    {
     "name": "stderr",
     "output_type": "stream",
     "text": [
      "T: no, put red blocks on blue blocks\n"
     ]
    },
    {
     "name": "stdout",
     "output_type": "stream",
     "text": [
      "(forall (?x) (or (not (red ?x)) (exists (?y) (and (blue ?y) (on ?x ?y)))))\n",
      "[0.15468301 0.15060679 0.15202987]\n",
      "[0.5734846  0.57213618 0.58915261]\n"
     ]
    },
    {
     "name": "stderr",
     "output_type": "stream",
     "text": [
      "T: no, put red blocks on blue blocks\n"
     ]
    },
    {
     "name": "stdout",
     "output_type": "stream",
     "text": [
      "(forall (?x) (or (not (red ?x)) (exists (?y) (and (blue ?y) (on ?x ?y)))))\n",
      "[0.15053619 0.14585294 0.14749918]\n",
      "[0.5734846  0.57213618 0.58915261]\n"
     ]
    },
    {
     "name": "stderr",
     "output_type": "stream",
     "text": [
      "T: no, put red blocks on blue blocks\n"
     ]
    },
    {
     "name": "stdout",
     "output_type": "stream",
     "text": [
      "(forall (?x) (or (not (red ?x)) (exists (?y) (and (blue ?y) (on ?x ?y)))))\n",
      "[0.14658062 0.14138445 0.14321944]\n",
      "[0.5734846  0.57213618 0.58915261]\n",
      "problem13.pddl reward: -30\n",
      "Parsing domain blocks-domain.pddl\n",
      "Parsing problem tworules/problem14.pddl\n"
     ]
    },
    {
     "name": "stderr",
     "output_type": "stream",
     "text": [
      "T: no, put red blocks on blue blocks\n"
     ]
    },
    {
     "name": "stdout",
     "output_type": "stream",
     "text": [
      "(forall (?x) (or (not (red ?x)) (exists (?y) (and (blue ?y) (on ?x ?y)))))\n",
      "[0.14280666 0.13717698 0.13917168]\n"
     ]
    },
    {
     "name": "stderr",
     "output_type": "stream",
     "text": [
      "T: no, put red blocks on blue blocks\n"
     ]
    },
    {
     "name": "stdout",
     "output_type": "stream",
     "text": [
      "(forall (?x) (or (not (red ?x)) (exists (?y) (and (blue ?y) (on ?x ?y)))))\n",
      "[0.13920467 0.13320881 0.13533859]\n",
      "[0.5734846  0.57213618 0.58915261]\n"
     ]
    },
    {
     "name": "stderr",
     "output_type": "stream",
     "text": [
      "T: no, put red blocks on blue blocks\n"
     ]
    },
    {
     "name": "stdout",
     "output_type": "stream",
     "text": [
      "(forall (?x) (or (not (red ?x)) (exists (?y) (and (blue ?y) (on ?x ?y)))))\n",
      "[0.13576522 0.12946048 0.13170436]\n",
      "[0.5734846  0.57213618 0.58915261]\n"
     ]
    },
    {
     "name": "stderr",
     "output_type": "stream",
     "text": [
      "T: no, put red blocks on blue blocks\n"
     ]
    },
    {
     "name": "stdout",
     "output_type": "stream",
     "text": [
      "(forall (?x) (or (not (red ?x)) (exists (?y) (and (blue ?y) (on ?x ?y)))))\n",
      "[0.13247922 0.12591453 0.1282546 ]\n",
      "[0.5734846  0.57213618 0.58915261]\n"
     ]
    },
    {
     "name": "stderr",
     "output_type": "stream",
     "text": [
      "T: No, now you cannot put b2 in the tower because you must put green blocks on yellow blocks\n"
     ]
    },
    {
     "name": "stdout",
     "output_type": "stream",
     "text": [
      "[0.40468627 0.42383604 0.41033639]\n",
      "[0.46423923 0.46754048 0.45218152]\n",
      "[0.40334153 0.42190825 0.41005044]\n",
      "[0.4205274  0.42356745 0.40930881]\n"
     ]
    },
    {
     "name": "stderr",
     "output_type": "stream",
     "text": [
      "T: No, now you cannot put b2 in the tower because you must put green blocks on yellow blocks\n"
     ]
    },
    {
     "name": "stdout",
     "output_type": "stream",
     "text": [
      "[0.36680736 0.3843143  0.37289553]\n",
      "[0.42052705 0.423568   0.40930908]\n",
      "[0.36680705 0.38431383 0.3728955 ]\n",
      "[0.38270773 0.38551091 0.37228555]\n"
     ]
    },
    {
     "name": "stderr",
     "output_type": "stream",
     "text": [
      "T: No, now you cannot put b2 in the tower because you must put green blocks on yellow blocks\n"
     ]
    },
    {
     "name": "stdout",
     "output_type": "stream",
     "text": [
      "[0.33633448 0.35283016 0.34190781]\n",
      "[0.38270773 0.38551091 0.37228555]\n",
      "[0.33633448 0.35283016 0.34190781]\n",
      "[0.35110765 0.35370482 0.34139429]\n",
      "problem14.pddl reward: -24\n",
      "Parsing domain blocks-domain.pddl\n",
      "Parsing problem tworules/problem15.pddl\n"
     ]
    },
    {
     "name": "stderr",
     "output_type": "stream",
     "text": [
      "T: no, put red blocks on blue blocks\n"
     ]
    },
    {
     "name": "stdout",
     "output_type": "stream",
     "text": [
      "(forall (?x) (or (not (red ?x)) (exists (?y) (and (blue ?y) (on ?x ?y)))))\n",
      "[0.13207197 0.12301885 0.12542918]\n",
      "[0.56939849 0.56456619 0.57855123]\n"
     ]
    },
    {
     "name": "stderr",
     "output_type": "stream",
     "text": [
      "T: no, put red blocks on blue blocks\n"
     ]
    },
    {
     "name": "stdout",
     "output_type": "stream",
     "text": [
      "(forall (?x) (or (not (red ?x)) (exists (?y) (and (blue ?y) (on ?x ?y)))))\n",
      "[0.13146654 0.11993019 0.12240743]\n",
      "[0.56653235 0.56203129 0.57543344]\n",
      "problem15.pddl reward: -14\n",
      "Parsing domain blocks-domain.pddl\n",
      "Parsing problem tworules/problem16.pddl\n"
     ]
    },
    {
     "name": "stderr",
     "output_type": "stream",
     "text": [
      "T: No, now you cannot put b1 in the tower because you must put green blocks on yellow blocks\n"
     ]
    },
    {
     "name": "stdout",
     "output_type": "stream",
     "text": [
      "[0.31187497 0.32778146 0.32596308]\n",
      "[0.34954394 0.35244382 0.3426281 ]\n",
      "[0.31113144 0.32645623 0.32618289]\n",
      "[0.32449337 0.32723009 0.31833285]\n"
     ]
    },
    {
     "name": "stderr",
     "output_type": "stream",
     "text": [
      "T: no, put red blocks on blue blocks\n"
     ]
    },
    {
     "name": "stdout",
     "output_type": "stream",
     "text": [
      "(forall (?x) (or (not (red ?x)) (exists (?y) (and (blue ?y) (on ?x ?y)))))\n",
      "[0.13074927 0.11706218 0.11959425]\n",
      "[0.56463555 0.55736942 0.57588538]\n"
     ]
    },
    {
     "name": "stderr",
     "output_type": "stream",
     "text": [
      "T: No, now you cannot put b1 in the tower because you must put green blocks on yellow blocks\n"
     ]
    },
    {
     "name": "stdout",
     "output_type": "stream",
     "text": [
      "[0.28905459 0.30376466 0.31004166]\n",
      "[0.32442909 0.32717048 0.31826889]\n",
      "[0.28902612 0.30370987 0.3100473 ]\n",
      "[0.30161461 0.30419978 0.29609695]\n"
     ]
    },
    {
     "name": "stderr",
     "output_type": "stream",
     "text": [
      "T: no, put red blocks on blue blocks\n"
     ]
    },
    {
     "name": "stdout",
     "output_type": "stream",
     "text": [
      "(forall (?x) (or (not (red ?x)) (exists (?y) (and (blue ?y) (on ?x ?y)))))\n",
      "[0.12987839 0.11417249 0.11675284]\n",
      "[0.56437557 0.55679462 0.57521724]\n"
     ]
    },
    {
     "name": "stderr",
     "output_type": "stream",
     "text": [
      "T: No, now you cannot put b0 in the tower because you must put red blocks on blue blocks\n"
     ]
    },
    {
     "name": "stdout",
     "output_type": "stream",
     "text": [
      "[0.12987839 0.11417249 0.11675284]\n",
      "[0.51322841 0.51442726 0.51144719]\n",
      "[0.12890472 0.11139781 0.11401806]\n",
      "[0.51322841 0.51442726 0.51144719]\n"
     ]
    },
    {
     "name": "stderr",
     "output_type": "stream",
     "text": [
      "T: No, now you cannot put b1 in the tower because you must put green blocks on yellow blocks\n"
     ]
    },
    {
     "name": "stdout",
     "output_type": "stream",
     "text": [
      "[0.26983052 0.28390692 0.29491014]\n",
      "[0.30161461 0.30419978 0.29609695]\n",
      "[0.26983052 0.28390692 0.29491014]\n",
      "[0.28173979 0.2841831  0.27674884]\n"
     ]
    },
    {
     "name": "stderr",
     "output_type": "stream",
     "text": [
      "T: No, now you cannot put b1 in the tower because you must put green blocks on yellow blocks\n"
     ]
    },
    {
     "name": "stdout",
     "output_type": "stream",
     "text": [
      "[0.25302387 0.26651525 0.28086714]\n",
      "[0.28173979 0.2841831  0.27674884]\n",
      "[0.25302387 0.26651525 0.28086714]\n",
      "[0.26431574 0.26663053 0.25976275]\n"
     ]
    },
    {
     "name": "stderr",
     "output_type": "stream",
     "text": [
      "T: No, now you cannot put b0 in the tower because you must put red blocks on blue blocks\n"
     ]
    },
    {
     "name": "stdout",
     "output_type": "stream",
     "text": [
      "[0.12890472 0.11139781 0.11401806]\n",
      "[0.46313392 0.46772949 0.46457119]\n",
      "[0.12785368 0.10875361 0.11140609]\n",
      "[0.46313392 0.46772949 0.46457119]\n"
     ]
    },
    {
     "name": "stderr",
     "output_type": "stream",
     "text": [
      "T: No, now you cannot put b0 in the tower because you must put red blocks on blue blocks\n"
     ]
    },
    {
     "name": "stdout",
     "output_type": "stream",
     "text": [
      "[0.12785368 0.10875361 0.11140609]\n",
      "[0.42149254 0.42794938 0.42477139]\n",
      "[0.12674078 0.10623098 0.10890904]\n",
      "[0.42149254 0.42794938 0.42477139]\n"
     ]
    },
    {
     "name": "stderr",
     "output_type": "stream",
     "text": [
      "T: No, now you cannot put b1 in the tower because you must put green blocks on yellow blocks\n"
     ]
    },
    {
     "name": "stdout",
     "output_type": "stream",
     "text": [
      "[0.23818671 0.25112226 0.26788617]\n",
      "[0.26431574 0.26663053 0.25976275]\n",
      "[0.23818671 0.25112226 0.26788617]\n",
      "[0.24891675 0.25111488 0.24473325]\n",
      "problem16.pddl reward: -30\n",
      "Parsing domain blocks-domain.pddl\n",
      "Parsing problem tworules/problem17.pddl\n"
     ]
    },
    {
     "name": "stderr",
     "output_type": "stream",
     "text": [
      "T: No, now you cannot put b5 in the tower because you must put green blocks on yellow blocks\n"
     ]
    },
    {
     "name": "stdout",
     "output_type": "stream",
     "text": [
      "[0.24509175 0.24611685 0.25971186]\n",
      "[0.24892027 0.2511146  0.24473551]\n",
      "[0.24509131 0.24611564 0.25971175]\n",
      "[0.23513592 0.23721805 0.23114366]\n",
      "problem17.pddl reward: -12\n",
      "Parsing domain blocks-domain.pddl\n",
      "Parsing problem tworules/problem18.pddl\n"
     ]
    },
    {
     "name": "stderr",
     "output_type": "stream",
     "text": [
      "T: No, now you cannot put b1 in the tower because you must put red blocks on blue blocks\n"
     ]
    },
    {
     "name": "stdout",
     "output_type": "stream",
     "text": [
      "[0.12674078 0.10623098 0.10890904]\n",
      "[0.38414558 0.39061683 0.39103568]\n",
      "[0.12420206 0.10368484 0.10674332]\n",
      "[0.38414558 0.39061683 0.39103568]\n"
     ]
    },
    {
     "name": "stderr",
     "output_type": "stream",
     "text": [
      "T: No, now you cannot put b1 in the tower because you must put red blocks on blue blocks\n"
     ]
    },
    {
     "name": "stdout",
     "output_type": "stream",
     "text": [
      "[0.12420206 0.10368484 0.10674332]\n",
      "[0.35287718 0.3592443  0.36201778]\n",
      "[0.12175765 0.1012579  0.10465712]\n",
      "[0.35287718 0.3592443  0.36201778]\n"
     ]
    },
    {
     "name": "stderr",
     "output_type": "stream",
     "text": [
      "T: No, now you cannot put b1 in the tower because you must put red blocks on blue blocks\n"
     ]
    },
    {
     "name": "stdout",
     "output_type": "stream",
     "text": [
      "[0.12175765 0.1012579  0.10465712]\n",
      "[0.32631527 0.33251786 0.33686155]\n",
      "[0.11940284 0.09894196 0.10264657]\n",
      "[0.32631527 0.33251786 0.33686155]\n"
     ]
    },
    {
     "name": "stderr",
     "output_type": "stream",
     "text": [
      "T: No, now you cannot put b1 in the tower because you must put red blocks on blue blocks\n"
     ]
    },
    {
     "name": "stdout",
     "output_type": "stream",
     "text": [
      "[0.11940284 0.09894196 0.10264657]\n",
      "[0.30347177 0.30948094 0.31488152]\n",
      "[0.11713319 0.0967296  0.10070797]\n",
      "[0.30347177 0.30948094 0.31488152]\n"
     ]
    },
    {
     "name": "stderr",
     "output_type": "stream",
     "text": [
      "T: No, now you cannot put b1 in the tower because you must put red blocks on blue blocks\n"
     ]
    },
    {
     "name": "stdout",
     "output_type": "stream",
     "text": [
      "[0.11713319 0.0967296  0.10070797]\n",
      "[0.28361704 0.28942141 0.29553337]\n",
      "[0.11494449 0.09461401 0.09883783]\n",
      "[0.28361704 0.28942141 0.29553337]\n"
     ]
    },
    {
     "name": "stderr",
     "output_type": "stream",
     "text": [
      "T: no, put green blocks on yellow blocks\n"
     ]
    },
    {
     "name": "stdout",
     "output_type": "stream",
     "text": [
      "(forall (?y) (or (not (yellow ?y)) (exists (?x) (and (green ?x) (on ?x ?y)))))\n",
      "[0.24498309 0.24582762 0.25948545]\n",
      "[0.2231207  0.22510397 0.21930072]\n"
     ]
    },
    {
     "name": "stderr",
     "output_type": "stream",
     "text": [
      "T: no, put green blocks on yellow blocks\n"
     ]
    },
    {
     "name": "stdout",
     "output_type": "stream",
     "text": [
      "(forall (?y) (or (not (yellow ?y)) (exists (?x) (and (green ?x) (on ?x ?y)))))\n",
      "[0.24498309 0.24582777 0.25948535]\n",
      "[0.21197949 0.21387023 0.20832287]\n"
     ]
    },
    {
     "name": "stderr",
     "output_type": "stream",
     "text": [
      "T: no, put red blocks on blue blocks\n"
     ]
    },
    {
     "name": "stdout",
     "output_type": "stream",
     "text": [
      "(forall (?x) (or (not (red ?x)) (exists (?y) (and (blue ?y) (on ?x ?y)))))\n",
      "[0.11283278 0.09258898 0.09703287]\n",
      "[0.28361704 0.28942141 0.29553337]\n",
      "problem18.pddl reward: -26\n",
      "Parsing domain blocks-domain.pddl\n",
      "Parsing problem tworules/problem19.pddl\n",
      "problem19.pddl reward: -10\n",
      "Parsing domain blocks-domain.pddl\n",
      "Parsing problem tworules/problem2.pddl\n"
     ]
    },
    {
     "name": "stderr",
     "output_type": "stream",
     "text": [
      "T: No, now you cannot put b0 in the tower because you must put green blocks on yellow blocks\n",
      "T: No, now you cannot put b0 in the tower because you must put green blocks on yellow blocks\n"
     ]
    },
    {
     "name": "stdout",
     "output_type": "stream",
     "text": [
      "[0.23342144 0.23835477 0.24778357]\n",
      "[0.21198847 0.2138728  0.20831633]\n",
      "[0.23341975 0.23834734 0.24777874]\n",
      "[0.20197194 0.20377666 0.22842259]\n",
      "[0.2228606  0.23100974 0.23702368]\n"
     ]
    },
    {
     "name": "stderr",
     "output_type": "stream",
     "text": [
      "T: No, now you cannot put b0 in the tower because you must put green blocks on yellow blocks\n",
      "T: No, now you cannot put b0 in the tower because you must put green blocks on yellow blocks\n"
     ]
    },
    {
     "name": "stdout",
     "output_type": "stream",
     "text": [
      "[0.20197193 0.20377666 0.22842258]\n",
      "[0.2228606  0.23100973 0.23702367]\n",
      "[0.19285247 0.19458377 0.24368812]\n",
      "[0.21318998 0.22388785 0.22712072]\n",
      "[0.19285247 0.19458377 0.24368812]\n",
      "[0.21318998 0.22388785 0.22712072]\n",
      "[0.18452    0.18618342 0.25516678]\n",
      "[0.20430431 0.21702488 0.21797954]\n",
      "[0.18452    0.18618342 0.25516678]\n",
      "[0.20430431 0.21702488 0.21797954]\n",
      "[0.17687699 0.17847751 0.26366938]\n"
     ]
    },
    {
     "name": "stderr",
     "output_type": "stream",
     "text": [
      "T: no, put green blocks on yellow blocks\n"
     ]
    },
    {
     "name": "stdout",
     "output_type": "stream",
     "text": [
      "problem2.pddl reward: -18\n",
      "Parsing domain blocks-domain.pddl\n",
      "Parsing problem tworules/problem20.pddl\n",
      "(forall (?y) (or (not (yellow ?y)) (exists (?x) (and (green ?x) (on ?x ?y)))))\n"
     ]
    },
    {
     "name": "stderr",
     "output_type": "stream",
     "text": [
      "T: no, put green blocks on yellow blocks\n"
     ]
    },
    {
     "name": "stdout",
     "output_type": "stream",
     "text": [
      "[0.2043043  0.21704141 0.21797267]\n",
      "[0.16984877 0.17139093 0.26981234]\n",
      "(forall (?y) (or (not (yellow ?y)) (exists (?x) (and (green ?x) (on ?x ?y)))))\n",
      "[0.20430427 0.21704148 0.21797264]\n",
      "[0.16335043 0.16483818 0.27409075]\n",
      "problem20.pddl reward: -14\n",
      "Parsing domain blocks-domain.pddl\n",
      "Parsing problem tworules/problem21.pddl\n",
      "problem21.pddl reward: -10\n",
      "Parsing domain blocks-domain.pddl\n",
      "Parsing problem tworules/problem22.pddl\n",
      "problem22.pddl reward: -10\n",
      "Parsing domain blocks-domain.pddl\n",
      "Parsing problem tworules/problem23.pddl\n"
     ]
    },
    {
     "name": "stderr",
     "output_type": "stream",
     "text": [
      "T: no, put red blocks on blue blocks\n"
     ]
    },
    {
     "name": "stdout",
     "output_type": "stream",
     "text": [
      "(forall (?x) (or (not (red ?x)) (exists (?y) (and (blue ?y) (on ?x ?y)))))\n",
      "[0.11121972 0.09076981 0.0952763 ]\n"
     ]
    },
    {
     "name": "stderr",
     "output_type": "stream",
     "text": [
      "T: no, put red blocks on blue blocks\n"
     ]
    },
    {
     "name": "stdout",
     "output_type": "stream",
     "text": [
      "(forall (?x) (or (not (red ?x)) (exists (?y) (and (blue ?y) (on ?x ?y)))))\n",
      "[0.11000312 0.08902124 0.09358106]\n",
      "[0.28362792 0.28941264 0.29554466]\n"
     ]
    },
    {
     "name": "stderr",
     "output_type": "stream",
     "text": [
      "T: no, put green blocks on yellow blocks\n"
     ]
    },
    {
     "name": "stdout",
     "output_type": "stream",
     "text": [
      "problem23.pddl reward: -14\n",
      "Parsing domain blocks-domain.pddl\n",
      "Parsing problem tworules/problem24.pddl\n",
      "(forall (?y) (or (not (yellow ?y)) (exists (?x) (and (green ?x) (on ?x ?y)))))\n"
     ]
    },
    {
     "name": "stderr",
     "output_type": "stream",
     "text": [
      "T: no, put green blocks on yellow blocks\n"
     ]
    },
    {
     "name": "stdout",
     "output_type": "stream",
     "text": [
      "[0.20430423 0.21700486 0.2179786 ]\n",
      "[0.1573526  0.15878977 0.2666396 ]\n",
      "(forall (?y) (or (not (yellow ?y)) (exists (?x) (and (green ?x) (on ?x ?y)))))\n",
      "[0.20430423 0.21700434 0.21797824]\n",
      "[0.15175917 0.15314885 0.25948742]\n"
     ]
    },
    {
     "name": "stderr",
     "output_type": "stream",
     "text": [
      "T: No, now you cannot put b1 in the tower because you must put green blocks on yellow blocks\n",
      "T: No, now you cannot put b1 in the tower because you must put green blocks on yellow blocks\n"
     ]
    },
    {
     "name": "stdout",
     "output_type": "stream",
     "text": [
      "[0.19571149 0.20888082 0.21241131]\n",
      "[0.15164155 0.15311005 0.25958994]\n",
      "[0.19571714 0.20871116 0.21251758]\n",
      "[0.14654917 0.14797211 0.25291056]\n",
      "[0.1876533  0.20100085 0.20694078]\n",
      "[0.14654917 0.14797211 0.25291056]\n",
      "[0.1876533  0.20100085 0.20694078]\n",
      "[0.14168482 0.14306396 0.24638169]\n",
      "problem24.pddl reward: -18\n",
      "Parsing domain blocks-domain.pddl\n",
      "Parsing problem tworules/problem25.pddl\n"
     ]
    },
    {
     "name": "stderr",
     "output_type": "stream",
     "text": [
      "T: no, put red blocks on blue blocks\n"
     ]
    },
    {
     "name": "stdout",
     "output_type": "stream",
     "text": [
      "(forall (?x) (or (not (red ?x)) (exists (?y) (and (blue ?y) (on ?x ?y)))))\n",
      "[0.10925948 0.08734801 0.09195266]\n",
      "[0.28372597 0.28945401 0.29541978]\n"
     ]
    },
    {
     "name": "stderr",
     "output_type": "stream",
     "text": [
      "T: no, put red blocks on blue blocks\n"
     ]
    },
    {
     "name": "stdout",
     "output_type": "stream",
     "text": [
      "(forall (?x) (or (not (red ?x)) (exists (?y) (and (blue ?y) (on ?x ?y)))))\n",
      "[0.10848129 0.0857274  0.09036976]\n",
      "[0.28370475 0.28943228 0.29542159]\n"
     ]
    },
    {
     "name": "stderr",
     "output_type": "stream",
     "text": [
      "T: no, put red blocks on blue blocks\n"
     ]
    },
    {
     "name": "stdout",
     "output_type": "stream",
     "text": [
      "(forall (?x) (or (not (red ?x)) (exists (?y) (and (blue ?y) (on ?x ?y)))))\n",
      "[0.10745016 0.08417145 0.08884478]\n",
      "[0.28379013 0.28943096 0.29532302]\n"
     ]
    },
    {
     "name": "stderr",
     "output_type": "stream",
     "text": [
      "T: no, put red blocks on blue blocks\n"
     ]
    },
    {
     "name": "stdout",
     "output_type": "stream",
     "text": [
      "(forall (?x) (or (not (red ?x)) (exists (?y) (and (blue ?y) (on ?x ?y)))))\n",
      "[0.10641205 0.08266425 0.08736277]\n",
      "[0.28377986 0.28942207 0.29530694]\n",
      "problem25.pddl reward: -18\n",
      "Parsing domain blocks-domain.pddl\n",
      "Parsing problem tworules/problem26.pddl\n",
      "problem26.pddl reward: -10\n",
      "Parsing domain blocks-domain.pddl\n",
      "Parsing problem tworules/problem27.pddl\n"
     ]
    },
    {
     "name": "stderr",
     "output_type": "stream",
     "text": [
      "T: No, now you cannot put b2 in the tower because you must put green blocks on yellow blocks\n",
      "T: No, now you cannot put b2 in the tower because you must put green blocks on yellow blocks\n"
     ]
    },
    {
     "name": "stdout",
     "output_type": "stream",
     "text": [
      "[0.18688277 0.19617597 0.20004081]\n",
      "[0.14168482 0.14306396 0.24638169]\n",
      "[0.18688277 0.19617597 0.20004081]\n",
      "[0.13713282 0.13847074 0.24014226]\n"
     ]
    },
    {
     "name": "stderr",
     "output_type": "stream",
     "text": [
      "T: No, now you cannot put b2 in the tower because you must put green blocks on yellow blocks\n"
     ]
    },
    {
     "name": "stdout",
     "output_type": "stream",
     "text": [
      "[0.18560984 0.19145419 0.1935568 ]\n",
      "[0.13713282 0.13847074 0.24014226]\n",
      "[0.18560984 0.19145419 0.1935568 ]\n",
      "[0.13286406 0.13416311 0.23417837]\n"
     ]
    },
    {
     "name": "stderr",
     "output_type": "stream",
     "text": [
      "T: No, now you cannot put b2 in the tower because you must put green blocks on yellow blocks\n"
     ]
    },
    {
     "name": "stdout",
     "output_type": "stream",
     "text": [
      "[0.18395779 0.18685623 0.18745632]\n",
      "[0.13286406 0.13416311 0.23417837]\n",
      "[0.18395779 0.18685623 0.18745632]\n",
      "[0.12885291 0.13011525 0.2284761 ]\n",
      "[0.18202188 0.1823949  0.18170945]\n",
      "[0.12885291 0.13011525 0.2284761 ]\n",
      "[0.18202188 0.1823949  0.18170945]\n",
      "[0.12507674 0.12630437 0.22302175]\n",
      "problem27.pddl reward: -18\n",
      "Parsing domain blocks-domain.pddl\n",
      "Parsing problem tworules/problem28.pddl\n"
     ]
    },
    {
     "name": "stderr",
     "output_type": "stream",
     "text": [
      "T: No, now you cannot put b2 in the tower because you must put green blocks on yellow blocks\n",
      "T: No, now you cannot put b2 in the tower because you must put green blocks on yellow blocks\n"
     ]
    },
    {
     "name": "stdout",
     "output_type": "stream",
     "text": [
      "[0.17698383 0.1775989  0.17584626]\n",
      "[0.12507117 0.12630352 0.22303209]\n",
      "[0.17698799 0.17759176 0.1758414 ]\n",
      "[0.12151551 0.12271492 0.22922705]\n",
      "[0.17219032 0.17300268 0.17033273]"
     ]
    },
    {
     "name": "stderr",
     "output_type": "stream",
     "text": [
      "T: No, now you cannot put b2 in the tower because you must put green blocks on yellow blocks\n",
      "T: No, now you cannot put b2 in the tower because you must put green blocks on yellow blocks\n"
     ]
    },
    {
     "name": "stdout",
     "output_type": "stream",
     "text": [
      "\n",
      "[0.12151551 0.12271492 0.22922705]\n",
      "[0.17219032 0.17300268 0.17033273]\n",
      "[0.11815137 0.1193195  0.23434515]\n",
      "[0.1676262  0.16861793 0.16515516]\n",
      "[0.11815137 0.1193195  0.23434515]\n",
      "[0.1676262  0.16861793 0.16515516]\n",
      "[0.11496842 0.11610683 0.23852804]\n",
      "[0.16328135 0.16442752 0.16028009]\n",
      "[0.11496842 0.11610683 0.23852804]"
     ]
    },
    {
     "name": "stderr",
     "output_type": "stream",
     "text": [
      "T: No, now you cannot put b2 in the tower because you must put green blocks on yellow blocks\n",
      "T: No, now you cannot put b2 in the tower because you must put green blocks on yellow blocks\n"
     ]
    },
    {
     "name": "stdout",
     "output_type": "stream",
     "text": [
      "\n",
      "[0.16328135 0.16442752 0.16028009]\n",
      "[0.1119524  0.11306256 0.24190461]\n",
      "[0.1591422  0.1604215  0.15568206]\n",
      "[0.1119524  0.11306256 0.24190461]\n",
      "[0.1591422  0.1604215  0.15568206]\n",
      "[0.10909053 0.11017379 0.24458457]\n",
      "[0.15519602 0.15659011 0.15133834]\n",
      "[0.10909053 0.11017379 0.24458457]\n",
      "[0.15519602 0.15659011 0.15133834]\n",
      "[0.10637128 0.10742891 0.2466616 ]\n",
      "problem28.pddl reward: -22\n",
      "Parsing domain blocks-domain.pddl\n",
      "Parsing problem tworules/problem29.pddl\n"
     ]
    },
    {
     "name": "stderr",
     "output_type": "stream",
     "text": [
      "T: no, put red blocks on blue blocks\n",
      "T: No, now you cannot put b2 in the tower because you must put green blocks on yellow blocks\n"
     ]
    },
    {
     "name": "stdout",
     "output_type": "stream",
     "text": [
      "(forall (?x) (or (not (red ?x)) (exists (?y) (and (blue ?y) (on ?x ?y)))))\n",
      "[0.10505653 0.08121626 0.08593453]\n",
      "[0.28387023 0.28934757 0.29521287]\n"
     ]
    },
    {
     "name": "stderr",
     "output_type": "stream",
     "text": [
      "T: No, now you cannot put b2 in the tower because you must put green blocks on yellow blocks\n"
     ]
    },
    {
     "name": "stdout",
     "output_type": "stream",
     "text": [
      "[0.15834092 0.15508748 0.14905677]\n",
      "[0.10637128 0.10742891 0.2466616 ]\n",
      "[0.15834092 0.15508748 0.14905677]\n",
      "[0.10378425 0.10481743 0.24298195]\n"
     ]
    },
    {
     "name": "stderr",
     "output_type": "stream",
     "text": [
      "T: No, now you cannot put b2 in the tower because you must put green blocks on yellow blocks\n"
     ]
    },
    {
     "name": "stdout",
     "output_type": "stream",
     "text": [
      "[0.16086536 0.15349359 0.14678185]\n",
      "[0.10378425 0.10481743 0.24298195]\n",
      "[0.16086536 0.15349359 0.14678185]\n",
      "[0.10132004 0.10232986 0.23936035]\n",
      "[0.15717871 0.15333701 0.14294944]\n",
      "[0.10132004 0.10232986 0.23936035]\n",
      "[0.15717871 0.15333701 0.14294944]\n",
      "[0.09897011 0.09995759 0.23580136]\n",
      "problem29.pddl reward: -18\n",
      "Parsing domain blocks-domain.pddl\n",
      "Parsing problem tworules/problem3.pddl\n"
     ]
    },
    {
     "name": "stderr",
     "output_type": "stream",
     "text": [
      "T: No, now you cannot put b1 in the tower because you must put red blocks on blue blocks\n"
     ]
    },
    {
     "name": "stdout",
     "output_type": "stream",
     "text": [
      "[0.10505653 0.08121626 0.08593453]\n",
      "[0.2704728  0.27893858 0.2806687 ]\n",
      "[0.10371988 0.07981029 0.08454365]\n",
      "[0.2704728  0.27893858 0.2806687 ]\n"
     ]
    },
    {
     "name": "stderr",
     "output_type": "stream",
     "text": [
      "T: No, now you cannot put b1 in the tower because you must put red blocks on blue blocks\n",
      "T: no, put red blocks on blue blocks\n"
     ]
    },
    {
     "name": "stdout",
     "output_type": "stream",
     "text": [
      "[0.10371988 0.07981029 0.08454365]\n",
      "[0.25809464 0.26876521 0.26711703]\n",
      "[0.10240947 0.07845188 0.083196  ]\n",
      "[0.25809464 0.26876521 0.26711703]\n",
      "(forall (?x) (or (not (red ?x)) (exists (?y) (and (blue ?y) (on ?x ?y)))))\n",
      "[0.10112509 0.07713866 0.08188965]\n",
      "[0.25809464 0.26876521 0.26711703]\n",
      "problem3.pddl reward: -16\n",
      "Parsing domain blocks-domain.pddl\n",
      "Parsing problem tworules/problem30.pddl\n",
      "problem30.pddl reward: -10\n",
      "Parsing domain blocks-domain.pddl\n",
      "Parsing problem tworules/problem31.pddl\n"
     ]
    },
    {
     "name": "stderr",
     "output_type": "stream",
     "text": [
      "T: no, put green blocks on yellow blocks\n",
      "T: no, put green blocks on yellow blocks\n"
     ]
    },
    {
     "name": "stdout",
     "output_type": "stream",
     "text": [
      "(forall (?y) (or (not (yellow ?y)) (exists (?x) (and (green ?x) (on ?x ?y)))))\n",
      "[0.15717871 0.15333701 0.14294944]\n",
      "[0.09672668 0.09769278 0.23230827]\n",
      "(forall (?y) (or (not (yellow ?y)) (exists (?x) (and (green ?x) (on ?x ?y)))))\n"
     ]
    },
    {
     "name": "stderr",
     "output_type": "stream",
     "text": [
      "T: no, put green blocks on yellow blocks\n"
     ]
    },
    {
     "name": "stdout",
     "output_type": "stream",
     "text": [
      "[0.15717871 0.15333701 0.14294944]\n",
      "[0.09458267 0.09552831 0.22888342]\n",
      "(forall (?y) (or (not (yellow ?y)) (exists (?x) (and (green ?x) (on ?x ?y)))))\n",
      "[0.15717871 0.15333701 0.14294944]\n",
      "[0.09253163 0.09345764 0.22552829]\n"
     ]
    },
    {
     "name": "stderr",
     "output_type": "stream",
     "text": [
      "T: no, put green blocks on yellow blocks\n",
      "T: no, put red blocks on blue blocks\n"
     ]
    },
    {
     "name": "stdout",
     "output_type": "stream",
     "text": [
      "(forall (?y) (or (not (yellow ?y)) (exists (?x) (and (green ?x) (on ?x ?y)))))\n",
      "[0.15717871 0.15333701 0.14294944]\n",
      "[0.09056764 0.09147481 0.22224372]\n",
      "(forall (?x) (or (not (red ?x)) (exists (?y) (and (blue ?y) (on ?x ?y)))))\n"
     ]
    },
    {
     "name": "stderr",
     "output_type": "stream",
     "text": [
      "T: no, put green blocks on yellow blocks\n"
     ]
    },
    {
     "name": "stdout",
     "output_type": "stream",
     "text": [
      "[0.10014853 0.07586877 0.08062315]\n",
      "[0.2581     0.26876853 0.26711303]\n",
      "(forall (?y) (or (not (yellow ?y)) (exists (?x) (and (green ?x) (on ?x ?y)))))\n",
      "[0.15717871 0.15333701 0.14294944]\n",
      "[0.08868527 0.08957435 0.21903002]\n"
     ]
    },
    {
     "name": "stderr",
     "output_type": "stream",
     "text": [
      "T: no, put red blocks on blue blocks\n"
     ]
    },
    {
     "name": "stdout",
     "output_type": "stream",
     "text": [
      "(forall (?x) (or (not (red ?x)) (exists (?y) (and (blue ?y) (on ?x ?y)))))\n",
      "[0.09917762 0.07463948 0.07939411]\n",
      "[0.2580997  0.26876825 0.26711269]\n",
      "problem31.pddl reward: -24\n",
      "Parsing domain blocks-domain.pddl\n",
      "Parsing problem tworules/problem32.pddl\n"
     ]
    },
    {
     "name": "stderr",
     "output_type": "stream",
     "text": [
      "T: no, put red blocks on blue blocks\n",
      "T: no, put red blocks on blue blocks\n"
     ]
    },
    {
     "name": "stdout",
     "output_type": "stream",
     "text": [
      "(forall (?x) (or (not (red ?x)) (exists (?y) (and (blue ?y) (on ?x ?y)))))\n",
      "[0.097954   0.073451   0.07820306]\n",
      "[0.25813035 0.26874862 0.26709117]\n",
      "(forall (?x) (or (not (red ?x)) (exists (?y) (and (blue ?y) (on ?x ?y)))))\n",
      "[0.09675403 0.07229787 0.07704481]\n",
      "[0.2581294  0.26874783 0.26709081]\n",
      "problem32.pddl reward: -14\n",
      "Parsing domain blocks-domain.pddl\n",
      "Parsing problem tworules/problem33.pddl\n"
     ]
    },
    {
     "name": "stderr",
     "output_type": "stream",
     "text": [
      "T: no, put red blocks on blue blocks\n"
     ]
    },
    {
     "name": "stdout",
     "output_type": "stream",
     "text": [
      "(forall (?x) (or (not (red ?x)) (exists (?y) (and (blue ?y) (on ?x ?y)))))\n",
      "[0.09518615 0.07121592 0.07582873]\n"
     ]
    },
    {
     "name": "stderr",
     "output_type": "stream",
     "text": [
      "T: no, put red blocks on blue blocks\n",
      "T: no, put red blocks on blue blocks\n"
     ]
    },
    {
     "name": "stdout",
     "output_type": "stream",
     "text": [
      "(forall (?x) (or (not (red ?x)) (exists (?y) (and (blue ?y) (on ?x ?y)))))\n",
      "[0.09366836 0.07016558 0.07465043]\n",
      "[0.2581304  0.26874805 0.26709001]\n",
      "(forall (?x) (or (not (red ?x)) (exists (?y) (and (blue ?y) (on ?x ?y)))))\n",
      "[0.09219813 0.06914539 0.07350806]\n",
      "[0.2581304  0.26874805 0.26709001]\n"
     ]
    },
    {
     "name": "stderr",
     "output_type": "stream",
     "text": [
      "T: No, now you cannot put b1 in the tower because you must put green blocks on yellow blocks\n",
      "T: no, put red blocks on blue blocks\n"
     ]
    },
    {
     "name": "stdout",
     "output_type": "stream",
     "text": [
      "[0.15688784 0.15272525 0.14239187]\n",
      "[0.0871428  0.08814536 0.21558525]\n",
      "[0.15915202 0.15019464 0.1477568 ]\n",
      "[0.08687954 0.08787939 0.21512884]\n",
      "(forall (?x) (or (not (red ?x)) (exists (?y) (and (blue ?y) (on ?x ?y)))))\n",
      "[0.09077334 0.06815415 0.07240005]\n",
      "[0.2581304  0.26874805 0.26709001]\n"
     ]
    },
    {
     "name": "stderr",
     "output_type": "stream",
     "text": [
      "T: No, now you cannot put b1 in the tower because you must put green blocks on yellow blocks\n",
      "T: no, put red blocks on blue blocks\n"
     ]
    },
    {
     "name": "stdout",
     "output_type": "stream",
     "text": [
      "[0.15734928 0.14634673 0.14409997]\n",
      "[0.08687954 0.08787939 0.21512884]\n",
      "[0.15734928 0.14634673 0.14409997]\n",
      "[0.08514586 0.08612782 0.21209157]\n",
      "(forall (?x) (or (not (red ?x)) (exists (?y) (and (blue ?y) (on ?x ?y)))))\n",
      "[0.08939191 0.06719064 0.0713249 ]\n",
      "[0.2581304  0.26874805 0.26709001]\n"
     ]
    },
    {
     "name": "stderr",
     "output_type": "stream",
     "text": [
      "T: No, now you cannot put b1 in the tower because you must put green blocks on yellow blocks\n",
      "T: no, put red blocks on blue blocks\n"
     ]
    },
    {
     "name": "stdout",
     "output_type": "stream",
     "text": [
      "[0.15551683 0.14269106 0.14061906]\n",
      "[0.08514586 0.08612782 0.21209157]\n",
      "[0.15551683 0.14269106 0.14061906]\n",
      "[0.08348    0.08444468 0.20912165]\n",
      "(forall (?x) (or (not (red ?x)) (exists (?y) (and (blue ?y) (on ?x ?y)))))\n",
      "[0.08805191 0.06625374 0.07028115]\n",
      "[0.2581304  0.26874805 0.26709001]\n"
     ]
    },
    {
     "name": "stderr",
     "output_type": "stream",
     "text": [
      "T: no, put red blocks on blue blocks\n"
     ]
    },
    {
     "name": "stdout",
     "output_type": "stream",
     "text": [
      "(forall (?x) (or (not (red ?x)) (exists (?y) (and (blue ?y) (on ?x ?y)))))\n",
      "[0.08675148 0.06534238 0.06926746]\n",
      "[0.2581304  0.26874805 0.26709001]\n",
      "problem33.pddl reward: -30\n",
      "Parsing domain blocks-domain.pddl\n"
     ]
    },
    {
     "name": "stderr",
     "output_type": "stream",
     "text": [
      "T: no, put red blocks on blue blocks\n"
     ]
    },
    {
     "name": "stdout",
     "output_type": "stream",
     "text": [
      "Parsing problem tworules/problem34.pddl\n",
      "(forall (?x) (or (not (red ?x)) (exists (?y) (and (blue ?y) (on ?x ?y)))))\n",
      "[0.08676392 0.06445438 0.06838308]\n"
     ]
    },
    {
     "name": "stderr",
     "output_type": "stream",
     "text": [
      "T: No, now you cannot put b3 in the tower because you must put green blocks on yellow blocks\n"
     ]
    },
    {
     "name": "stdout",
     "output_type": "stream",
     "text": [
      "[0.15181899 0.14065356 0.13757364]\n",
      "[0.15181899 0.14065356 0.13757364]\n",
      "[0.08187807 0.08282606 0.21268858]\n"
     ]
    },
    {
     "name": "stderr",
     "output_type": "stream",
     "text": [
      "T: no, put red blocks on blue blocks\n",
      "T: No, now you cannot put b3 in the tower because you must put green blocks on yellow blocks\n"
     ]
    },
    {
     "name": "stdout",
     "output_type": "stream",
     "text": [
      "(forall (?x) (or (not (red ?x)) (exists (?y) (and (blue ?y) (on ?x ?y)))))\n",
      "[0.08673832 0.06359    0.06752043]\n",
      "[0.2581304  0.26874805 0.26709001]\n",
      "[0.14829249 0.13864098 0.13465403]\n",
      "[0.08187807 0.08282606 0.21268858]\n",
      "[0.14829249 0.13864098 0.13465403]\n",
      "[0.08033644 0.0812683  0.21582272]\n"
     ]
    },
    {
     "name": "stderr",
     "output_type": "stream",
     "text": [
      "T: No, now you cannot put b3 in the tower because you must put green blocks on yellow blocks\n",
      "T: No, now you cannot put b3 in the tower because you must put green blocks on yellow blocks\n"
     ]
    },
    {
     "name": "stdout",
     "output_type": "stream",
     "text": [
      "[0.14492571 0.13665685 0.13185287]\n",
      "[0.08033644 0.0812683  0.21582272]\n",
      "[0.14492571 0.13665685 0.13185287]\n",
      "[0.07885179 0.07976805 0.21856535]\n",
      "[0.14358735 0.13482576 0.12902468]\n",
      "[0.07885179 0.07976805 0.21856535]\n",
      "[0.14358735 0.13482576 0.12902468]\n",
      "[0.07742101 0.07832217 0.22095345]\n"
     ]
    },
    {
     "name": "stderr",
     "output_type": "stream",
     "text": [
      "T: No, now you cannot put b3 in the tower because you must put green blocks on yellow blocks\n"
     ]
    },
    {
     "name": "stdout",
     "output_type": "stream",
     "text": [
      "[0.14221756 0.13301679 0.12631435]\n",
      "[0.07742101 0.07832217 0.22095345]\n",
      "[0.14221756 0.13301679 0.12631435]\n",
      "[0.07604122 0.07692776 0.22302019]\n",
      "problem34.pddl reward: -24\n",
      "Parsing domain blocks-domain.pddl"
     ]
    },
    {
     "name": "stderr",
     "output_type": "stream",
     "text": [
      "T: No, now you cannot put b4 in the tower because you must put green blocks on yellow blocks\n"
     ]
    },
    {
     "name": "stdout",
     "output_type": "stream",
     "text": [
      "\n",
      "Parsing problem tworules/problem35.pddl\n",
      "[0.14367974 0.13168985 0.1249902 ]\n",
      "[0.14367974 0.13168985 0.1249902 ]\n",
      "[0.07470974 0.07558212 0.22479539]\n"
     ]
    },
    {
     "name": "stderr",
     "output_type": "stream",
     "text": [
      "T: No, now you cannot put b4 in the tower because you must put green blocks on yellow blocks\n",
      "T: No, now you cannot put b4 in the tower because you must put green blocks on yellow blocks\n"
     ]
    },
    {
     "name": "stdout",
     "output_type": "stream",
     "text": [
      "[0.1448774  0.13034986 0.12365925]\n",
      "[0.07470974 0.07558212 0.22479539]\n",
      "[0.1448774  0.13034986 0.12365925]\n",
      "[0.07342408 0.07428274 0.22630587]\n"
     ]
    },
    {
     "name": "stderr",
     "output_type": "stream",
     "text": [
      "T: No, now you cannot put b4 in the tower because you must put green blocks on yellow blocks\n"
     ]
    },
    {
     "name": "stdout",
     "output_type": "stream",
     "text": [
      "[0.14584026 0.12900218 0.12232602]\n",
      "[0.07342408 0.07428274 0.22630587]\n",
      "[0.14584026 0.12900218 0.12232602]\n",
      "[0.07218192 0.07302727 0.22757583]\n"
     ]
    },
    {
     "name": "stderr",
     "output_type": "stream",
     "text": [
      "T: No, now you cannot put b3 in the tower because you must put red blocks on blue blocks\n"
     ]
    },
    {
     "name": "stdout",
     "output_type": "stream",
     "text": [
      "[0.14659449 0.12765133 0.12099434]\n",
      "[0.07218192 0.07302727 0.22757583]\n",
      "[0.14659449 0.12765133 0.12099434]\n",
      "[0.07098108 0.07181353 0.22862711]\n"
     ]
    },
    {
     "name": "stderr",
     "output_type": "stream",
     "text": [
      "T: No, now you cannot put b3 in the tower because you must put red blocks on blue blocks\n"
     ]
    },
    {
     "name": "stdout",
     "output_type": "stream",
     "text": [
      "[0.08673832 0.06359    0.06752043]\n",
      "[0.24670431 0.25895284 0.25263072]\n",
      "[0.08667793 0.06274831 0.06667872]\n",
      "[0.24670431 0.25895284 0.25263072]\n"
     ]
    },
    {
     "name": "stderr",
     "output_type": "stream",
     "text": [
      "T: No, now you cannot put b4 in the tower because you must put green blocks on yellow blocks\n"
     ]
    },
    {
     "name": "stdout",
     "output_type": "stream",
     "text": [
      "[0.08667793 0.06274831 0.06667872]\n",
      "[0.23615058 0.24960376 0.23965402]\n",
      "[0.08658574 0.06192844 0.06585724]\n",
      "[0.23615058 0.24960376 0.23965402]\n",
      "[0.14716318 0.12630113 0.11966742]\n",
      "[0.07098108 0.07181353 0.22862711]\n",
      "[0.14716318 0.12630113 0.11966742]\n",
      "[0.06981953 0.07063947 0.22947943]\n",
      "problem35.pddl reward: -24\n",
      "Parsing domain blocks-domain.pddl\n",
      "Parsing problem tworules/problem36.pddl\n",
      "problem36.pddl reward: -10\n",
      "Parsing domain blocks-domain.pddl\n",
      "Parsing problem tworules/problem37.pddl\n"
     ]
    },
    {
     "name": "stderr",
     "output_type": "stream",
     "text": [
      "T: no, put green blocks on yellow blocks\n",
      "T: no, put green blocks on yellow blocks\n"
     ]
    },
    {
     "name": "stdout",
     "output_type": "stream",
     "text": [
      "(forall (?y) (or (not (yellow ?y)) (exists (?x) (and (green ?x) (on ?x ?y)))))\n",
      "[0.14716318 0.12630113 0.11966742]\n",
      "[0.06869357 0.06949983 0.22718885]\n",
      "(forall (?y) (or (not (yellow ?y)) (exists (?x) (and (green ?x) (on ?x ?y)))))\n",
      "[0.14716318 0.12630113 0.11966742]\n",
      "[0.06760334 0.06839639 0.22492466]\n",
      "problem37.pddl reward: -14\n",
      "Parsing domain blocks-domain.pddl\n",
      "Parsing problem tworules/problem38.pddl\n"
     ]
    },
    {
     "name": "stderr",
     "output_type": "stream",
     "text": [
      "T: No, now you cannot put b0 in the tower because you must put red blocks on blue blocks\n"
     ]
    },
    {
     "name": "stdout",
     "output_type": "stream",
     "text": [
      "[0.08658574 0.06192844 0.06585724]\n",
      "[0.22639167 0.24072867 0.2309099 ]\n",
      "[0.086034   0.06112956 0.06505529]\n",
      "[0.22639167 0.24072867 0.2309099 ]\n"
     ]
    },
    {
     "name": "stderr",
     "output_type": "stream",
     "text": [
      "T: No, now you cannot put b0 in the tower because you must put red blocks on blue blocks\n"
     ]
    },
    {
     "name": "stdout",
     "output_type": "stream",
     "text": [
      "[0.086034   0.06112956 0.06505529]\n",
      "[0.2173539  0.23233067 0.22266798]\n",
      "[0.08547939 0.06035088 0.06427221]\n",
      "[0.2173539  0.23233067 0.22266798]\n"
     ]
    },
    {
     "name": "stderr",
     "output_type": "stream",
     "text": [
      "T: No, now you cannot put b0 in the tower because you must put red blocks on blue blocks\n",
      "T: No, now you cannot put b0 in the tower because you must put red blocks on blue blocks\n"
     ]
    },
    {
     "name": "stdout",
     "output_type": "stream",
     "text": [
      "[0.08547939 0.06035088 0.06427221]\n",
      "[0.20896923 0.23285147 0.21576647]\n",
      "[0.08492277 0.05959166 0.06350734]\n",
      "[0.20896923 0.23285147 0.21576647]\n",
      "[0.08492277 0.05959166 0.06350734]\n",
      "[0.20117585 0.23229613 0.20916662]\n",
      "[0.08436491 0.05885117 0.06276009]\n",
      "[0.20117585 0.23229613 0.20916662]\n",
      "problem38.pddl reward: -18\n",
      "Parsing domain blocks-domain.pddl\n",
      "Parsing problem tworules/problem39.pddl\n",
      "problem39.pddl reward: -10\n",
      "Parsing domain blocks-domain.pddl\n",
      "Parsing problem tworules/problem4.pddl\n"
     ]
    },
    {
     "name": "stderr",
     "output_type": "stream",
     "text": [
      "T: no, put green blocks on yellow blocks\n"
     ]
    },
    {
     "name": "stdout",
     "output_type": "stream",
     "text": [
      "(forall (?y) (or (not (yellow ?y)) (exists (?x) (and (green ?x) (on ?x ?y)))))\n",
      "[0.14716318 0.12630113 0.11966742]\n",
      "[0.06654908 0.06733075 0.22581076]\n"
     ]
    },
    {
     "name": "stderr",
     "output_type": "stream",
     "text": [
      "T: no, put red blocks on blue blocks\n"
     ]
    },
    {
     "name": "stdout",
     "output_type": "stream",
     "text": [
      "(forall (?x) (or (not (red ?x)) (exists (?y) (and (blue ?y) (on ?x ?y)))))\n",
      "[0.08436789 0.05812874 0.06202987]\n",
      "[0.20117585 0.23229613 0.20916662]\n"
     ]
    },
    {
     "name": "stderr",
     "output_type": "stream",
     "text": [
      "T: no, put green blocks on yellow blocks\n"
     ]
    },
    {
     "name": "stdout",
     "output_type": "stream",
     "text": [
      "(forall (?y) (or (not (yellow ?y)) (exists (?x) (and (green ?x) (on ?x ?y)))))\n",
      "[0.14716318 0.12630113 0.11966742]\n",
      "[0.06552719 0.06629781 0.22652968]\n"
     ]
    },
    {
     "name": "stderr",
     "output_type": "stream",
     "text": [
      "T: no, put green blocks on yellow blocks\n"
     ]
    },
    {
     "name": "stdout",
     "output_type": "stream",
     "text": [
      "(forall (?y) (or (not (yellow ?y)) (exists (?x) (and (green ?x) (on ?x ?y)))))\n",
      "[0.14716318 0.12630113 0.11966742]\n",
      "[0.06453621 0.06529608 0.22709559]\n"
     ]
    },
    {
     "name": "stderr",
     "output_type": "stream",
     "text": [
      "T: no, put red blocks on blue blocks\n",
      "T: no, put red blocks on blue blocks\n"
     ]
    },
    {
     "name": "stdout",
     "output_type": "stream",
     "text": [
      "(forall (?x) (or (not (red ?x)) (exists (?y) (and (blue ?y) (on ?x ?y)))))\n",
      "[0.08434164 0.05742372 0.06131612]\n",
      "[0.20117585 0.23229613 0.20916662]\n",
      "(forall (?x) (or (not (red ?x)) (exists (?y) (and (blue ?y) (on ?x ?y)))))\n",
      "[0.08428843 0.05673549 0.06061831]\n",
      "[0.20117585 0.23229613 0.20916662]\n"
     ]
    },
    {
     "name": "stderr",
     "output_type": "stream",
     "text": [
      "T: no, put red blocks on blue blocks\n",
      "T: no, put red blocks on blue blocks\n"
     ]
    },
    {
     "name": "stdout",
     "output_type": "stream",
     "text": [
      "(forall (?x) (or (not (red ?x)) (exists (?y) (and (blue ?y) (on ?x ?y)))))\n",
      "[0.08421032 0.05606346 0.05993591]\n",
      "[0.20117585 0.23229613 0.20916662]\n",
      "(forall (?x) (or (not (red ?x)) (exists (?y) (and (blue ?y) (on ?x ?y)))))\n",
      "[0.08410925 0.05540708 0.05926843]\n",
      "[0.20117585 0.23229613 0.20916662]\n"
     ]
    },
    {
     "name": "stderr",
     "output_type": "stream",
     "text": [
      "T: no, put red blocks on blue blocks\n"
     ]
    },
    {
     "name": "stdout",
     "output_type": "stream",
     "text": [
      "(forall (?x) (or (not (red ?x)) (exists (?y) (and (blue ?y) (on ?x ?y)))))\n",
      "[0.083987   0.0547658  0.05861541]\n",
      "[0.20117585 0.23229613 0.20916662]\n",
      "problem4.pddl reward: -28\n",
      "Parsing domain blocks-domain.pddl\n"
     ]
    },
    {
     "name": "stderr",
     "output_type": "stream",
     "text": [
      "T: no, put red blocks on blue blocks\n"
     ]
    },
    {
     "name": "stdout",
     "output_type": "stream",
     "text": [
      "Parsing problem tworules/problem40.pddl\n",
      "(forall (?x) (or (not (red ?x)) (exists (?y) (and (blue ?y) (on ?x ?y)))))\n",
      "[0.08328141 0.05419004 0.0582579 ]\n",
      "[0.20088854 0.23152171 0.20830434]\n"
     ]
    },
    {
     "name": "stderr",
     "output_type": "stream",
     "text": [
      "T: no, put red blocks on blue blocks\n",
      "T: no, put red blocks on blue blocks\n"
     ]
    },
    {
     "name": "stdout",
     "output_type": "stream",
     "text": [
      "(forall (?x) (or (not (red ?x)) (exists (?y) (and (blue ?y) (on ?x ?y)))))\n",
      "[0.08250434 0.05355968 0.05785981]\n",
      "[0.20084583 0.23140823 0.20817825]\n",
      "(forall (?x) (or (not (red ?x)) (exists (?y) (and (blue ?y) (on ?x ?y)))))\n",
      "[0.08172661 0.05293263 0.05745691]\n",
      "[0.20084589 0.23140821 0.20817823]\n",
      "problem40.pddl reward: -16\n",
      "Parsing domain blocks-domain.pddl\n",
      "Parsing problem tworules/problem41.pddl\n"
     ]
    },
    {
     "name": "stderr",
     "output_type": "stream",
     "text": [
      "T: no, put red blocks on blue blocks\n"
     ]
    },
    {
     "name": "stdout",
     "output_type": "stream",
     "text": [
      "(forall (?x) (or (not (red ?x)) (exists (?y) (and (blue ?y) (on ?x ?y)))))\n",
      "[0.08158761 0.05235015 0.05686377]\n",
      "[0.200874   0.23139767 0.20816829]\n"
     ]
    },
    {
     "name": "stderr",
     "output_type": "stream",
     "text": [
      "T: No, now you cannot put b4 in the tower because you must put green blocks on yellow blocks\n",
      "T: no, put red blocks on blue blocks\n"
     ]
    },
    {
     "name": "stdout",
     "output_type": "stream",
     "text": [
      "[0.14532582 0.12458904 0.11755466]\n",
      "[0.06453621 0.06529608 0.22709559]\n",
      "[0.14532582 0.12458904 0.11755466]\n",
      "[0.06357475 0.06432416 0.22570431]\n",
      "(forall (?x) (or (not (red ?x)) (exists (?y) (and (blue ?y) (on ?x ?y)))))\n"
     ]
    },
    {
     "name": "stderr",
     "output_type": "stream",
     "text": [
      "T: no, put red blocks on blue blocks\n"
     ]
    },
    {
     "name": "stdout",
     "output_type": "stream",
     "text": [
      "[0.08143235 0.05177954 0.05628173]\n",
      "[0.200874   0.23139767 0.20816829]\n",
      "(forall (?x) (or (not (red ?x)) (exists (?y) (and (blue ?y) (on ?x ?y)))))\n"
     ]
    },
    {
     "name": "stderr",
     "output_type": "stream",
     "text": [
      "T: No, now you cannot put b0 in the tower because you must put red blocks on blue blocks\n"
     ]
    },
    {
     "name": "stdout",
     "output_type": "stream",
     "text": [
      "[0.08126223 0.05122115 0.05571122]\n",
      "[0.200874   0.23139767 0.20816829]\n",
      "[0.08126223 0.05122115 0.05571122]\n",
      "[0.1937054  0.22520522 0.20216431]\n",
      "[0.08099615 0.05067462 0.05515194]\n",
      "[0.1937054  0.22520522 0.20216431]\n",
      "problem41.pddl reward: -20\n",
      "Parsing domain blocks-domain.pddl\n",
      "Parsing problem tworules/problem42.pddl\n"
     ]
    },
    {
     "name": "stderr",
     "output_type": "stream",
     "text": [
      "T: No, now you cannot put b1 in the tower because you must put red blocks on blue blocks\n"
     ]
    },
    {
     "name": "stdout",
     "output_type": "stream",
     "text": [
      "[0.08099615 0.05067462 0.05515194]\n",
      "[0.18701045 0.22474787 0.19668087]\n",
      "[0.08051427 0.05013956 0.05460355]\n",
      "[0.18701045 0.22474787 0.19668087]\n"
     ]
    },
    {
     "name": "stderr",
     "output_type": "stream",
     "text": [
      "T: No, now you cannot put b1 in the tower because you must put red blocks on blue blocks\n"
     ]
    },
    {
     "name": "stdout",
     "output_type": "stream",
     "text": [
      "[0.08051427 0.05013956 0.05460355]\n",
      "[0.18074649 0.22363606 0.19141004]\n",
      "[0.08003349 0.04961563 0.05406574]\n",
      "[0.18074649 0.22363606 0.19141004]\n"
     ]
    },
    {
     "name": "stderr",
     "output_type": "stream",
     "text": [
      "T: No, now you cannot put b0 in the tower because you must put green blocks on yellow blocks\n",
      "T: No, now you cannot put b0 in the tower because you must put green blocks on yellow blocks\n"
     ]
    },
    {
     "name": "stdout",
     "output_type": "stream",
     "text": [
      "[0.14253495 0.12282836 0.11546969]\n",
      "[0.06357475 0.06432416 0.22570431]\n",
      "[0.14253495 0.12282836 0.11546969]\n",
      "[0.06264152 0.06338075 0.2242933 ]\n"
     ]
    },
    {
     "name": "stderr",
     "output_type": "stream",
     "text": [
      "T: No, now you cannot put b0 in the tower because you must put green blocks on yellow blocks\n"
     ]
    },
    {
     "name": "stdout",
     "output_type": "stream",
     "text": [
      "[0.13984924 0.12110923 0.11345653]\n",
      "[0.06264152 0.06338075 0.2242933 ]\n",
      "[0.13984924 0.12110923 0.11345653]\n",
      "[0.06173528 0.06246461 0.22286616]\n"
     ]
    },
    {
     "name": "stderr",
     "output_type": "stream",
     "text": [
      "T: No, now you cannot put b0 in the tower because you must put green blocks on yellow blocks\n"
     ]
    },
    {
     "name": "stdout",
     "output_type": "stream",
     "text": [
      "[0.13726287 0.11943076 0.11151156]\n",
      "[0.06173528 0.06246461 0.22286616]\n",
      "[0.13726287 0.11943076 0.11151156]\n",
      "[0.06085489 0.06157457 0.22142608]\n"
     ]
    },
    {
     "name": "stderr",
     "output_type": "stream",
     "text": [
      "T: No, now you cannot put b1 in the tower because you must put red blocks on blue blocks\n"
     ]
    },
    {
     "name": "stdout",
     "output_type": "stream",
     "text": [
      "[0.13477042 0.11779205 0.10963144]\n",
      "[0.06085489 0.06157457 0.22142608]\n",
      "[0.13477042 0.11779205 0.10963144]\n",
      "[0.05999926 0.06070953 0.21997596]\n",
      "[0.08003349 0.04961563 0.05406574]\n",
      "[0.17487531 0.22202284 0.18635248]\n",
      "[0.07955409 0.04910247 0.05353823]\n",
      "[0.17487531 0.22202284 0.18635248]\n"
     ]
    },
    {
     "name": "stderr",
     "output_type": "stream",
     "text": [
      "T: No, now you cannot put b0 in the tower because you must put green blocks on yellow blocks\n"
     ]
    },
    {
     "name": "stdout",
     "output_type": "stream",
     "text": [
      "[0.13236687 0.11619215 0.10781301]\n",
      "[0.05999926 0.06070953 0.21997596]\n",
      "[0.13236687 0.11619215 0.10781301]\n",
      "[0.05916734 0.05986846 0.21851838]\n",
      "problem42.pddl reward: -26\n",
      "Parsing domain blocks-domain.pddl\n",
      "Parsing problem tworules/problem43.pddl\n"
     ]
    },
    {
     "name": "stderr",
     "output_type": "stream",
     "text": [
      "T: no, put red blocks on blue blocks\n",
      "T: no, put red blocks on blue blocks\n"
     ]
    },
    {
     "name": "stdout",
     "output_type": "stream",
     "text": [
      "(forall (?x) (or (not (red ?x)) (exists (?y) (and (blue ?y) (on ?x ?y)))))\n",
      "[0.07927373 0.04860546 0.05302658]\n",
      "[0.17480254 0.22194893 0.18644639]\n",
      "(forall (?x) (or (not (red ?x)) (exists (?y) (and (blue ?y) (on ?x ?y)))))\n",
      "[0.07898363 0.04811278 0.0525187 ]\n",
      "[0.17480254 0.22194893 0.18644639]\n"
     ]
    },
    {
     "name": "stderr",
     "output_type": "stream",
     "text": [
      "T: no, put green blocks on yellow blocks\n",
      "T: no, put green blocks on yellow blocks\n"
     ]
    },
    {
     "name": "stdout",
     "output_type": "stream",
     "text": [
      "(forall (?y) (or (not (yellow ?y)) (exists (?x) (and (green ?x) (on ?x ?y)))))\n",
      "[0.13236687 0.11619215 0.10781301]\n",
      "[0.05835818 0.05905037 0.21948721]\n",
      "(forall (?y) (or (not (yellow ?y)) (exists (?x) (and (green ?x) (on ?x ?y)))))\n",
      "[0.13236687 0.11619215 0.10781301]\n",
      "[0.05757086 0.05825434 0.22031965]\n"
     ]
    },
    {
     "name": "stderr",
     "output_type": "stream",
     "text": [
      "T: no, put green blocks on yellow blocks\n",
      "T: no, put red blocks on blue blocks\n"
     ]
    },
    {
     "name": "stdout",
     "output_type": "stream",
     "text": [
      "(forall (?y) (or (not (yellow ?y)) (exists (?x) (and (green ?x) (on ?x ?y)))))\n",
      "[0.13236687 0.11619215 0.10781301]\n",
      "[0.05680449 0.05747948 0.22102569]\n",
      "(forall (?x) (or (not (red ?x)) (exists (?y) (and (blue ?y) (on ?x ?y)))))\n"
     ]
    },
    {
     "name": "stderr",
     "output_type": "stream",
     "text": [
      "T: no, put red blocks on blue blocks\n"
     ]
    },
    {
     "name": "stdout",
     "output_type": "stream",
     "text": [
      "[0.07868763 0.04762995 0.05202029]\n",
      "[0.17480254 0.22194893 0.18644639]\n",
      "(forall (?x) (or (not (red ?x)) (exists (?y) (and (blue ?y) (on ?x ?y)))))\n",
      "[0.07838629 0.04715666 0.05153108]\n",
      "[0.17480254 0.22194893 0.18644639]\n"
     ]
    },
    {
     "name": "stderr",
     "output_type": "stream",
     "text": [
      "T: no, put red blocks on blue blocks\n"
     ]
    },
    {
     "name": "stdout",
     "output_type": "stream",
     "text": [
      "(forall (?x) (or (not (red ?x)) (exists (?y) (and (blue ?y) (on ?x ?y)))))\n",
      "[0.07808013 0.04669265 0.05105085]\n",
      "[0.17480254 0.22194893 0.18644639]\n",
      "problem43.pddl reward: -26\n",
      "Parsing domain blocks-domain.pddl\n",
      "Parsing problem tworules/problem44.pddl\n"
     ]
    },
    {
     "name": "stderr",
     "output_type": "stream",
     "text": [
      "T: no, put red blocks on blue blocks\n"
     ]
    },
    {
     "name": "stdout",
     "output_type": "stream",
     "text": [
      "(forall (?x) (or (not (red ?x)) (exists (?y) (and (blue ?y) (on ?x ?y)))))\n",
      "[0.07806501 0.04623763 0.05057934]\n"
     ]
    },
    {
     "name": "stderr",
     "output_type": "stream",
     "text": [
      "T: no, put red blocks on blue blocks\n"
     ]
    },
    {
     "name": "stdout",
     "output_type": "stream",
     "text": [
      "(forall (?x) (or (not (red ?x)) (exists (?y) (and (blue ?y) (on ?x ?y)))))\n",
      "[0.07803392 0.04579136 0.05011632]\n",
      "[0.17480254 0.22194893 0.18644639]\n"
     ]
    },
    {
     "name": "stderr",
     "output_type": "stream",
     "text": [
      "T: no, put red blocks on blue blocks\n"
     ]
    },
    {
     "name": "stdout",
     "output_type": "stream",
     "text": [
      "(forall (?x) (or (not (red ?x)) (exists (?y) (and (blue ?y) (on ?x ?y)))))\n",
      "[0.07798785 0.04535359 0.04966158]\n",
      "[0.17480254 0.22194893 0.18644639]\n"
     ]
    },
    {
     "name": "stderr",
     "output_type": "stream",
     "text": [
      "T: no, put red blocks on blue blocks\n",
      "T: no, put red blocks on blue blocks\n"
     ]
    },
    {
     "name": "stdout",
     "output_type": "stream",
     "text": [
      "(forall (?x) (or (not (red ?x)) (exists (?y) (and (blue ?y) (on ?x ?y)))))\n",
      "[0.07792771 0.04492407 0.04921489]\n",
      "[0.17480254 0.22194893 0.18644639]\n",
      "(forall (?x) (or (not (red ?x)) (exists (?y) (and (blue ?y) (on ?x ?y)))))\n"
     ]
    },
    {
     "name": "stderr",
     "output_type": "stream",
     "text": [
      "T: No, now you cannot put b2 in the tower because you must put green blocks on yellow blocks\n"
     ]
    },
    {
     "name": "stdout",
     "output_type": "stream",
     "text": [
      "[0.07785438 0.04450259 0.04877605]\n",
      "[0.17480254 0.22194893 0.18644639]\n",
      "[0.13136372 0.11469975 0.10606535]\n",
      "[0.05680449 0.05747948 0.22102569]\n",
      "[0.13136372 0.11469975 0.10606535]\n",
      "[0.05605775 0.05672345 0.21931954]\n"
     ]
    },
    {
     "name": "stderr",
     "output_type": "stream",
     "text": [
      "T: no, put red blocks on blue blocks\n",
      "T: No, now you cannot put b2 in the tower because you must put green blocks on yellow blocks\n"
     ]
    },
    {
     "name": "stdout",
     "output_type": "stream",
     "text": [
      "(forall (?x) (or (not (red ?x)) (exists (?y) (and (blue ?y) (on ?x ?y)))))\n",
      "[0.07776868 0.0440889  0.04834486]\n",
      "[0.17480254 0.22194893 0.18644639]\n"
     ]
    },
    {
     "name": "stderr",
     "output_type": "stream",
     "text": [
      "T: no, put red blocks on blue blocks\n"
     ]
    },
    {
     "name": "stdout",
     "output_type": "stream",
     "text": [
      "[0.13034807 0.11323933 0.10437283]\n",
      "[0.05605775 0.05672345 0.21931954]\n",
      "[0.13034807 0.11323933 0.10437283]\n",
      "[0.05533038 0.05598706 0.21762561]\n",
      "(forall (?x) (or (not (red ?x)) (exists (?y) (and (blue ?y) (on ?x ?y)))))\n",
      "[0.07767136 0.0436828  0.04792113]\n",
      "[0.17480254 0.22194893 0.18644639]\n"
     ]
    },
    {
     "name": "stderr",
     "output_type": "stream",
     "text": [
      "T: no, put red blocks on blue blocks\n",
      "T: no, put red blocks on blue blocks\n"
     ]
    },
    {
     "name": "stdout",
     "output_type": "stream",
     "text": [
      "(forall (?x) (or (not (red ?x)) (exists (?y) (and (blue ?y) (on ?x ?y)))))\n",
      "[0.07756315 0.04328409 0.04750465]\n",
      "[0.17480254 0.22194893 0.18644639]\n",
      "(forall (?x) (or (not (red ?x)) (exists (?y) (and (blue ?y) (on ?x ?y)))))\n",
      "[0.07744472 0.04289257 0.04709526]\n",
      "[0.17480254 0.22194893 0.18644639]\n",
      "problem44.pddl reward: -32\n",
      "Parsing domain blocks-domain.pddl\n",
      "Parsing problem tworules/problem45.pddl\n"
     ]
    },
    {
     "name": "stderr",
     "output_type": "stream",
     "text": [
      "T: No, now you cannot put b4 in the tower because you must put green blocks on yellow blocks\n"
     ]
    },
    {
     "name": "stdout",
     "output_type": "stream",
     "text": [
      "[0.12942988 0.11265759 0.10262728]\n",
      "[0.05533038 0.05598706 0.21762561]\n",
      "[0.12942988 0.11265759 0.10262728]\n",
      "[0.05462165 0.05526953 0.2159447 ]\n",
      "problem45.pddl reward: -12\n",
      "Parsing domain blocks-domain.pddl\n",
      "Parsing problem tworules/problem46.pddl\n",
      "problem46.pddl reward: -10\n",
      "Parsing domain blocks-domain.pddl\n",
      "Parsing problem tworules/problem47.pddl\n"
     ]
    },
    {
     "name": "stderr",
     "output_type": "stream",
     "text": [
      "T: no, put red blocks on blue blocks\n"
     ]
    },
    {
     "name": "stdout",
     "output_type": "stream",
     "text": [
      "(forall (?x) (or (not (red ?x)) (exists (?y) (and (blue ?y) (on ?x ?y)))))\n",
      "[0.07727219 0.04250804 0.04669278]\n"
     ]
    },
    {
     "name": "stderr",
     "output_type": "stream",
     "text": [
      "T: no, put green blocks on yellow blocks\n"
     ]
    },
    {
     "name": "stdout",
     "output_type": "stream",
     "text": [
      "(forall (?y) (or (not (yellow ?y)) (exists (?x) (and (green ?x) (on ?x ?y)))))\n",
      "[0.12942988 0.11265759 0.10262727]\n",
      "[0.05393085 0.05457017 0.2142775 ]\n"
     ]
    },
    {
     "name": "stderr",
     "output_type": "stream",
     "text": [
      "T: no, put red blocks on blue blocks\n"
     ]
    },
    {
     "name": "stdout",
     "output_type": "stream",
     "text": [
      "(forall (?x) (or (not (red ?x)) (exists (?y) (and (blue ?y) (on ?x ?y)))))\n",
      "[0.07715813 0.04213032 0.04629703]\n",
      "[0.17480254 0.22194893 0.18644639]\n",
      "problem47.pddl reward: -16\n",
      "Parsing domain blocks-domain.pddl\n",
      "Parsing problem tworules/problem48.pddl\n"
     ]
    },
    {
     "name": "stderr",
     "output_type": "stream",
     "text": [
      "T: no, put green blocks on yellow blocks\n",
      "T: no, put green blocks on yellow blocks\n"
     ]
    },
    {
     "name": "stdout",
     "output_type": "stream",
     "text": [
      "(forall (?y) (or (not (yellow ?y)) (exists (?x) (and (green ?x) (on ?x ?y)))))\n",
      "[0.12942988 0.11265759 0.10262727]\n",
      "[0.0532573  0.05388828 0.21262461]\n",
      "(forall (?y) (or (not (yellow ?y)) (exists (?x) (and (green ?x) (on ?x ?y)))))\n",
      "[0.12942988 0.11265759 0.10262727]\n",
      "[0.05260036 0.05322323 0.21098653]\n"
     ]
    },
    {
     "name": "stderr",
     "output_type": "stream",
     "text": [
      "T: no, put green blocks on yellow blocks\n",
      "T: no, put green blocks on yellow blocks\n"
     ]
    },
    {
     "name": "stdout",
     "output_type": "stream",
     "text": [
      "(forall (?y) (or (not (yellow ?y)) (exists (?x) (and (green ?x) (on ?x ?y)))))\n",
      "[0.12942988 0.11265759 0.10262727]\n",
      "[0.05195943 0.05257439 0.20936371]\n",
      "(forall (?y) (or (not (yellow ?y)) (exists (?x) (and (green ?x) (on ?x ?y)))))\n",
      "[0.12942988 0.11265759 0.10262727]"
     ]
    },
    {
     "name": "stderr",
     "output_type": "stream",
     "text": [
      "T: no, put green blocks on yellow blocks\n",
      "T: no, put green blocks on yellow blocks\n"
     ]
    },
    {
     "name": "stdout",
     "output_type": "stream",
     "text": [
      "\n",
      "[0.05133394 0.05194117 0.2077565 ]\n",
      "(forall (?y) (or (not (yellow ?y)) (exists (?x) (and (green ?x) (on ?x ?y)))))\n",
      "[0.12942988 0.11265759 0.10262727]\n",
      "[0.05072418 0.05132471 0.20655453]\n",
      "(forall (?y) (or (not (yellow ?y)) (exists (?x) (and (green ?x) (on ?x ?y)))))\n",
      "[0.12942988 0.11265759 0.10262727]\n",
      "[0.05012875 0.05072271 0.20535017]\n"
     ]
    },
    {
     "name": "stderr",
     "output_type": "stream",
     "text": [
      "T: no, put green blocks on yellow blocks\n"
     ]
    },
    {
     "name": "stdout",
     "output_type": "stream",
     "text": [
      "(forall (?y) (or (not (yellow ?y)) (exists (?x) (and (green ?x) (on ?x ?y)))))\n",
      "[0.12942988 0.11265759 0.10262727]\n",
      "[0.04954712 0.05013466 0.20414461]\n",
      "problem48.pddl reward: -24\n",
      "Parsing domain blocks-domain.pddl\n",
      "Parsing problem tworules/problem49.pddl\n"
     ]
    },
    {
     "name": "stderr",
     "output_type": "stream",
     "text": [
      "T: No, now you cannot put b1 in the tower because you must put green blocks on yellow blocks\n",
      "T: No, now you cannot put b1 in the tower because you must put green blocks on yellow blocks\n"
     ]
    },
    {
     "name": "stdout",
     "output_type": "stream",
     "text": [
      "[0.1284978  0.11204915 0.1009391 ]\n",
      "[0.04954712 0.05013466 0.20414461]\n",
      "[0.1284978  0.11204915 0.1009391 ]\n",
      "[0.04897884 0.0495601  0.20537856]\n",
      "[0.12755477 0.11141765 0.09930552]\n",
      "[0.04897884 0.0495601  0.20537856]\n",
      "[0.12755477 0.11141765 0.09930552]\n",
      "[0.04842345 0.04899855 0.20650111]\n",
      "problem49.pddl reward: -14\n",
      "Parsing domain blocks-domain.pddl\n",
      "Parsing problem tworules/problem5.pddl"
     ]
    },
    {
     "name": "stderr",
     "output_type": "stream",
     "text": [
      "T: No, now you cannot put b3 in the tower because you must put red blocks on blue blocks\n",
      "T: No, now you cannot put b3 in the tower because you must put red blocks on blue blocks\n"
     ]
    },
    {
     "name": "stdout",
     "output_type": "stream",
     "text": [
      "\n",
      "[0.07715813 0.04213032 0.04629703]\n",
      "[0.17085417 0.21625822 0.18069831]\n",
      "[0.07703481 0.04175923 0.04590785]\n",
      "[0.17085417 0.21625822 0.18069831]\n"
     ]
    },
    {
     "name": "stderr",
     "output_type": "stream",
     "text": [
      "T: No, now you cannot put b3 in the tower because you must put red blocks on blue blocks\n"
     ]
    },
    {
     "name": "stdout",
     "output_type": "stream",
     "text": [
      "[0.07703481 0.04175923 0.04590785]\n",
      "[0.1670136  0.21079985 0.17528178]\n",
      "[0.07690282 0.04139459 0.04552508]\n",
      "[0.1670136  0.21079985 0.17528178]\n"
     ]
    },
    {
     "name": "stderr",
     "output_type": "stream",
     "text": [
      "T: No, now you cannot put b3 in the tower because you must put red blocks on blue blocks\n"
     ]
    },
    {
     "name": "stdout",
     "output_type": "stream",
     "text": [
      "[0.07690282 0.04139459 0.04552508]\n",
      "[0.16328715 0.20556722 0.17017036]\n",
      "[0.07676269 0.04103625 0.04514857]\n",
      "[0.16328715 0.20556722 0.17017036]\n"
     ]
    },
    {
     "name": "stderr",
     "output_type": "stream",
     "text": [
      "T: No, now you cannot put b3 in the tower because you must put red blocks on blue blocks\n"
     ]
    },
    {
     "name": "stdout",
     "output_type": "stream",
     "text": [
      "[0.07676269 0.04103625 0.04514857]\n",
      "[0.15967803 0.20055235 0.1653401 ]\n",
      "[0.07661493 0.04068404 0.04477816]\n",
      "[0.15967803 0.20055235 0.1653401 ]\n",
      "[0.07661493 0.04068404 0.04477816]"
     ]
    },
    {
     "name": "stderr",
     "output_type": "stream",
     "text": [
      "T: No, now you cannot put b4 in the tower because you must put green blocks on yellow blocks\n"
     ]
    },
    {
     "name": "stdout",
     "output_type": "stream",
     "text": [
      "\n",
      "[0.15618721 0.19574645 0.16076936]\n",
      "[0.07646002 0.04033781 0.04441372]\n",
      "[0.15618721 0.19574645 0.16076936]\n",
      "[0.12821978 0.11045451 0.09846603]\n",
      "[0.04842345 0.04899855 0.20650111]\n",
      "[0.12821978 0.11045451 0.09846603]\n",
      "[0.04788051 0.04844958 0.2075189 ]\n",
      "problem5.pddl reward: -22\n",
      "Parsing domain blocks-domain.pddl\n",
      "Parsing problem tworules/problem50.pddl\n",
      "problem50.pddl reward: -10\n",
      "Parsing domain blocks-domain.pddl\n",
      "Parsing problem tworules/problem6.pddl\n"
     ]
    },
    {
     "name": "stderr",
     "output_type": "stream",
     "text": [
      "T: No, now you cannot put b0 in the tower because you must put green blocks on yellow blocks\n",
      "T: No, now you cannot put b0 in the tower because you must put green blocks on yellow blocks\n"
     ]
    },
    {
     "name": "stdout",
     "output_type": "stream",
     "text": [
      "[0.12628273 0.10976404 0.09762821]\n",
      "[0.12628273 0.10976404 0.09762821]\n",
      "[0.0473496  0.04791277 0.20645706]\n"
     ]
    },
    {
     "name": "stderr",
     "output_type": "stream",
     "text": [
      "T: No, now you cannot put b0 in the tower because you must put green blocks on yellow blocks\n"
     ]
    },
    {
     "name": "stdout",
     "output_type": "stream",
     "text": [
      "[0.12440306 0.10906088 0.0967932 ]\n",
      "[0.0473496  0.04791277 0.20645706]\n",
      "[0.12440306 0.10906088 0.0967932 ]\n",
      "[0.04683035 0.04738773 0.20539058]\n"
     ]
    },
    {
     "name": "stderr",
     "output_type": "stream",
     "text": [
      "T: No, now you cannot put b0 in the tower because you must put green blocks on yellow blocks\n"
     ]
    },
    {
     "name": "stdout",
     "output_type": "stream",
     "text": [
      "[0.12257825 0.10834726 0.09596197]\n",
      "[0.04683035 0.04738773 0.20539058]\n",
      "[0.12257825 0.10834726 0.09596197]\n",
      "[0.04632235 0.04687407 0.20432053]\n"
     ]
    },
    {
     "name": "stderr",
     "output_type": "stream",
     "text": [
      "T: No, now you cannot put b0 in the tower because you must put green blocks on yellow blocks\n"
     ]
    },
    {
     "name": "stdout",
     "output_type": "stream",
     "text": [
      "[0.12080597 0.10762514 0.09513538]\n",
      "[0.04632235 0.04687407 0.20432053]\n",
      "[0.12080597 0.10762514 0.09513538]\n",
      "[0.04582526 0.04637142 0.20324793]\n"
     ]
    },
    {
     "name": "stderr",
     "output_type": "stream",
     "text": [
      "T: No, now you cannot put b0 in the tower because you must put green blocks on yellow blocks\n"
     ]
    },
    {
     "name": "stdout",
     "output_type": "stream",
     "text": [
      "[0.11908397 0.1068963  0.09431418]\n",
      "[0.04582526 0.04637142 0.20324793]\n",
      "[0.11908397 0.1068963  0.09431418]\n",
      "[0.04533872 0.04587944 0.20217368]\n"
     ]
    },
    {
     "name": "stderr",
     "output_type": "stream",
     "text": [
      "T: No, now you cannot put b0 in the tower because you must put green blocks on yellow blocks\n"
     ]
    },
    {
     "name": "stdout",
     "output_type": "stream",
     "text": [
      "[0.11741017 0.10616232 0.09349899]\n",
      "[0.04533872 0.04587944 0.20217368]\n",
      "[0.11741017 0.10616232 0.09349899]\n",
      "[0.0448624  0.04539779 0.20109862]\n",
      "[0.11617899 0.10539834 0.09443274]\n",
      "[0.0448624  0.04539779 0.20109862]\n",
      "[0.11617899 0.10539834 0.09443274]\n",
      "[0.04439599 0.04492614 0.20002354]\n",
      "problem6.pddl reward: -24\n",
      "Parsing domain blocks-domain.pddl\n",
      "Parsing problem tworules/problem7.pddl\n"
     ]
    },
    {
     "name": "stderr",
     "output_type": "stream",
     "text": [
      "T: no, put red blocks on blue blocks\n"
     ]
    },
    {
     "name": "stdout",
     "output_type": "stream",
     "text": [
      "(forall (?x) (or (not (red ?x)) (exists (?y) (and (blue ?y) (on ?x ?y)))))\n",
      "[0.07635807 0.0399974  0.04405509]\n",
      "[0.15618721 0.19574645 0.16076936]\n"
     ]
    },
    {
     "name": "stderr",
     "output_type": "stream",
     "text": [
      "T: no, put red blocks on blue blocks\n"
     ]
    },
    {
     "name": "stdout",
     "output_type": "stream",
     "text": [
      "(forall (?x) (or (not (red ?x)) (exists (?y) (and (blue ?y) (on ?x ?y)))))\n",
      "[0.07624774 0.03966267 0.04370215]\n",
      "[0.15618721 0.19574645 0.16076936]\n"
     ]
    },
    {
     "name": "stderr",
     "output_type": "stream",
     "text": [
      "T: no, put red blocks on blue blocks\n",
      "T: no, put red blocks on blue blocks\n"
     ]
    },
    {
     "name": "stdout",
     "output_type": "stream",
     "text": [
      "(forall (?x) (or (not (red ?x)) (exists (?y) (and (blue ?y) (on ?x ?y)))))\n",
      "[0.07612951 0.03933348 0.04335476]\n",
      "[0.15618721 0.19574645 0.16076936]\n",
      "(forall (?x) (or (not (red ?x)) (exists (?y) (and (blue ?y) (on ?x ?y)))))\n",
      "[0.07600386 0.03900969 0.04301279]\n",
      "[0.15618721 0.19574645 0.16076936]\n"
     ]
    },
    {
     "name": "stderr",
     "output_type": "stream",
     "text": [
      "T: no, put red blocks on blue blocks\n",
      "T: no, put red blocks on blue blocks\n"
     ]
    },
    {
     "name": "stdout",
     "output_type": "stream",
     "text": [
      "(forall (?x) (or (not (red ?x)) (exists (?y) (and (blue ?y) (on ?x ?y)))))\n",
      "[0.07587122 0.03869117 0.04267612]\n",
      "[0.15618721 0.19574645 0.16076936]\n",
      "(forall (?x) (or (not (red ?x)) (exists (?y) (and (blue ?y) (on ?x ?y)))))\n",
      "[0.07573199 0.0383778  0.04234463]\n",
      "[0.15618721 0.19574645 0.16076936]\n",
      "problem7.pddl reward: -22\n",
      "Parsing domain blocks-domain.pddl\n",
      "Parsing problem tworules/problem8.pddl\n"
     ]
    },
    {
     "name": "stderr",
     "output_type": "stream",
     "text": [
      "T: no, put red blocks on blue blocks\n"
     ]
    },
    {
     "name": "stdout",
     "output_type": "stream",
     "text": [
      "(forall (?x) (or (not (red ?x)) (exists (?y) (and (blue ?y) (on ?x ?y)))))\n",
      "[0.07511643 0.03813041 0.04203764]\n"
     ]
    },
    {
     "name": "stderr",
     "output_type": "stream",
     "text": [
      "T: No, now you cannot put b5 in the tower because you must put green blocks on yellow blocks\n"
     ]
    },
    {
     "name": "stdout",
     "output_type": "stream",
     "text": [
      "[0.11500946 0.1039271  0.09308477]\n",
      "[0.11500946 0.1039271  0.09308477]\n",
      "[0.04393908 0.04446349 0.19863119]\n"
     ]
    },
    {
     "name": "stderr",
     "output_type": "stream",
     "text": [
      "T: No, now you cannot put b5 in the tower because you must put green blocks on yellow blocks\n"
     ]
    },
    {
     "name": "stdout",
     "output_type": "stream",
     "text": [
      "[0.11385867 0.10249631 0.09177474]\n",
      "[0.04393908 0.04446349 0.19863119]\n",
      "[0.11385867 0.10249631 0.09177474]\n",
      "[0.04349148 0.04401027 0.1972533 ]\n"
     ]
    },
    {
     "name": "stderr",
     "output_type": "stream",
     "text": [
      "T: No, now you cannot put b5 in the tower because you must put green blocks on yellow blocks\n"
     ]
    },
    {
     "name": "stdout",
     "output_type": "stream",
     "text": [
      "[0.11272645 0.10110432 0.09050107]\n",
      "[0.04349148 0.04401027 0.1972533 ]\n",
      "[0.11272645 0.10110432 0.09050107]\n",
      "[0.0430529  0.0435662  0.19588984]\n",
      "problem8.pddl reward: -18\n",
      "Parsing domain blocks-domain.pddl\n",
      "Parsing problem tworules/problem9.pddl\n",
      "problem9.pddl reward: -10\n",
      "Parsing domain blocks-domain.pddl\n",
      "Parsing problem tworules/problem1.pddl\n",
      "Parsing domain blocks-domain.pddl\n",
      "Parsing problem tworules/problem1.pddl\n"
     ]
    },
    {
     "name": "stderr",
     "output_type": "stream",
     "text": [
      "T: No, now you cannot put b1 in the tower because you must put green blocks on yellow blocks\n",
      "R: Is the top object green?\n",
      "T: yes\n",
      "T: No, now you cannot put b1 in the tower because you must put green blocks on yellow blocks\n"
     ]
    },
    {
     "name": "stdout",
     "output_type": "stream",
     "text": [
      "[0.80318378 0.825      0.80996578]\n",
      "[1. 1. 1.]\n",
      "[0.80318378 0.825      0.80996578]\n",
      "[0.82307766 0.82307766 0.81046713]\n",
      "[0.6702042  0.69444444 0.67773976]\n",
      "[0.82307766 0.82307766 0.81046713]\n",
      "[0.6702042  0.69444444 0.67773976]\n",
      "[0.69230851 0.69230851 0.67829681]\n"
     ]
    },
    {
     "name": "stderr",
     "output_type": "stream",
     "text": [
      "T: No, now you cannot put b1 in the tower because you must put green blocks on yellow blocks\n"
     ]
    },
    {
     "name": "stdout",
     "output_type": "stream",
     "text": [
      "[0.57483976 0.59821429 0.5821062 ]\n",
      "[0.69230851 0.69230851 0.67829681]\n",
      "[0.57483976 0.59821429 0.5821062 ]\n",
      "[0.59615464 0.59615464 0.58264335]\n"
     ]
    },
    {
     "name": "stderr",
     "output_type": "stream",
     "text": [
      "T: No, now you cannot put b1 in the tower because you must put green blocks on yellow blocks\n"
     ]
    },
    {
     "name": "stdout",
     "output_type": "stream",
     "text": [
      "[0.50318378 0.525      0.50996578]\n",
      "[0.59615464 0.59615464 0.58264335]\n",
      "[0.50318378 0.525      0.50996578]\n",
      "[0.52307766 0.52307766 0.51046713]\n"
     ]
    },
    {
     "name": "stderr",
     "output_type": "stream",
     "text": [
      "T: No, now you cannot put b1 in the tower because you must put green blocks on yellow blocks\n"
     ]
    },
    {
     "name": "stdout",
     "output_type": "stream",
     "text": [
      "[0.44739239 0.46759259 0.45367202]\n",
      "[0.52307766 0.52307766 0.51046713]\n",
      "[0.44739239 0.46759259 0.45367202]\n",
      "[0.46581265 0.46581265 0.45413623]\n",
      "problem1.pddl reward: -20\n",
      "Parsing domain blocks-domain.pddl\n",
      "Parsing problem tworules/problem10.pddl\n"
     ]
    },
    {
     "name": "stderr",
     "output_type": "stream",
     "text": [
      "T: No, now you cannot put b4 in the tower because you must put red blocks on blue blocks\n",
      "R: Is the top object red?\n",
      "T: no\n"
     ]
    },
    {
     "name": "stdout",
     "output_type": "stream",
     "text": [
      "[1. 1. 1.]\n",
      "[0.8060073  0.80077855 0.81461938]\n",
      "[0.80000038 0.825      0.825     ]\n",
      "[0.8060073  0.80077855 0.81461938]\n",
      "problem10.pddl reward: -12\n",
      "Parsing domain blocks-domain.pddl\n",
      "Parsing problem tworules/problem11.pddl\n"
     ]
    },
    {
     "name": "stderr",
     "output_type": "stream",
     "text": [
      "T: no, put red blocks on blue blocks\n"
     ]
    },
    {
     "name": "stdout",
     "output_type": "stream",
     "text": [
      "(forall (?x) (or (not (red ?x)) (exists (?y) (and (blue ?y) (on ?x ?y)))))\n",
      "[0.67098167 0.68901235 0.68901235]\n"
     ]
    },
    {
     "name": "stderr",
     "output_type": "stream",
     "text": [
      "T: no, put red blocks on blue blocks\n"
     ]
    },
    {
     "name": "stdout",
     "output_type": "stream",
     "text": [
      "(forall (?x) (or (not (red ?x)) (exists (?y) (and (blue ?y) (on ?x ?y)))))\n",
      "[0.5769763  0.59123016 0.59123016]\n"
     ]
    },
    {
     "name": "stderr",
     "output_type": "stream",
     "text": [
      "T: no, put red blocks on blue blocks\n",
      "T: no, put red blocks on blue blocks\n"
     ]
    },
    {
     "name": "stdout",
     "output_type": "stream",
     "text": [
      "(forall (?x) (or (not (red ?x)) (exists (?y) (and (blue ?y) (on ?x ?y)))))\n",
      "[0.50582507 0.51766667 0.51766667]\n",
      "[0.8060073  0.80077855 0.81461938]\n",
      "(forall (?x) (or (not (red ?x)) (exists (?y) (and (blue ?y) (on ?x ?y)))))\n",
      "[0.45019757 0.46034979 0.46034979]\n",
      "[0.8060073  0.80077855 0.81461938]\n"
     ]
    },
    {
     "name": "stderr",
     "output_type": "stream",
     "text": [
      "T: no, put red blocks on blue blocks\n",
      "T: no, put red blocks on blue blocks\n"
     ]
    },
    {
     "name": "stdout",
     "output_type": "stream",
     "text": [
      "(forall (?x) (or (not (red ?x)) (exists (?y) (and (blue ?y) (on ?x ?y)))))\n",
      "[0.40554765 0.41444444 0.41444444]\n",
      "[0.8060073  0.80077855 0.81461938]\n",
      "(forall (?x) (or (not (red ?x)) (exists (?y) (and (blue ?y) (on ?x ?y)))))\n",
      "[0.36893184 0.37685606 0.37685606]\n",
      "[0.8060073  0.80077855 0.81461938]\n"
     ]
    },
    {
     "name": "stderr",
     "output_type": "stream",
     "text": [
      "T: no, put red blocks on blue blocks\n",
      "T: no, put red blocks on blue blocks\n"
     ]
    },
    {
     "name": "stdout",
     "output_type": "stream",
     "text": [
      "(forall (?x) (or (not (red ?x)) (exists (?y) (and (blue ?y) (on ?x ?y)))))\n",
      "[0.33836729 0.3455144  0.3455144 ]\n",
      "[0.8060073  0.80077855 0.81461938]\n",
      "(forall (?x) (or (not (red ?x)) (exists (?y) (and (blue ?y) (on ?x ?y)))))\n",
      "[0.3124718  0.31898291 0.31898291]\n",
      "[0.8060073  0.80077855 0.81461938]\n"
     ]
    },
    {
     "name": "stderr",
     "output_type": "stream",
     "text": [
      "T: no, put red blocks on blue blocks\n",
      "T: no, put red blocks on blue blocks\n"
     ]
    },
    {
     "name": "stdout",
     "output_type": "stream",
     "text": [
      "(forall (?x) (or (not (red ?x)) (exists (?y) (and (blue ?y) (on ?x ?y)))))\n",
      "[0.29025325 0.29623377 0.29623377]\n",
      "[0.8060073  0.80077855 0.81461938]\n",
      "(forall (?x) (or (not (red ?x)) (exists (?y) (and (blue ?y) (on ?x ?y)))))\n",
      "[0.27098148 0.27651235 0.27651235]\n",
      "[0.8060073  0.80077855 0.81461938]\n"
     ]
    },
    {
     "name": "stderr",
     "output_type": "stream",
     "text": [
      "T: no, put red blocks on blue blocks\n",
      "T: no, put red blocks on blue blocks\n"
     ]
    },
    {
     "name": "stdout",
     "output_type": "stream",
     "text": [
      "(forall (?x) (or (not (red ?x)) (exists (?y) (and (blue ?y) (on ?x ?y)))))\n",
      "[0.25410737 0.25925214 0.25925214]\n",
      "[0.8060073  0.80077855 0.81461938]\n",
      "(forall (?x) (or (not (red ?x)) (exists (?y) (and (blue ?y) (on ?x ?y)))))\n",
      "[0.23921008 0.24401961 0.24401961]\n",
      "[0.8060073  0.80077855 0.81461938]\n",
      "problem11.pddl reward: -34\n",
      "Parsing domain blocks-domain.pddl\n",
      "Parsing problem tworules/problem12.pddl\n"
     ]
    },
    {
     "name": "stderr",
     "output_type": "stream",
     "text": [
      "T: No, now you cannot put b4 in the tower because you must put red blocks on blue blocks\n",
      "T: No, now you cannot put b4 in the tower because you must put red blocks on blue blocks\n",
      "R: Is the top object red?\n",
      "T: no\n"
     ]
    },
    {
     "name": "stdout",
     "output_type": "stream",
     "text": [
      "[0.23323974 0.23615592 0.24615616]\n",
      "[0.77213624 0.76774386 0.78252796]\n",
      "[0.23039833 0.23328875 0.24318139]\n",
      "[0.68148253 0.67867627 0.71325344]\n",
      "[0.23039833 0.23328875 0.24318139]\n",
      "[0.5846497  0.58613636 0.62570986]\n",
      "[0.2182776  0.22105494 0.23048385]\n",
      "[0.5846497  0.58613636 0.62570986]\n"
     ]
    },
    {
     "name": "stderr",
     "output_type": "stream",
     "text": [
      "T: no, put red blocks on blue blocks\n"
     ]
    },
    {
     "name": "stdout",
     "output_type": "stream",
     "text": [
      "(forall (?x) (or (not (red ?x)) (exists (?y) (and (blue ?y) (on ?x ?y)))))\n",
      "[0.20736833 0.21003953 0.21904473]\n",
      "[0.5846497  0.58613636 0.62570986]\n",
      "problem12.pddl reward: -16\n",
      "Parsing domain blocks-domain.pddl\n",
      "Parsing problem tworules/problem13.pddl\n"
     ]
    },
    {
     "name": "stderr",
     "output_type": "stream",
     "text": [
      "T: no, put red blocks on blue blocks\n",
      "T: no, put red blocks on blue blocks\n"
     ]
    },
    {
     "name": "stdout",
     "output_type": "stream",
     "text": [
      "(forall (?x) (or (not (red ?x)) (exists (?y) (and (blue ?y) (on ?x ?y)))))\n",
      "[0.19895987 0.20045367 0.20891117]\n",
      "[0.58361067 0.58507255 0.62497474]\n",
      "(forall (?x) (or (not (red ?x)) (exists (?y) (and (blue ?y) (on ?x ?y)))))\n"
     ]
    },
    {
     "name": "stderr",
     "output_type": "stream",
     "text": [
      "T: no, put red blocks on blue blocks\n"
     ]
    },
    {
     "name": "stdout",
     "output_type": "stream",
     "text": [
      "[0.19107791 0.19159351 0.19955903]\n",
      "[0.58359543 0.58506208 0.62495893]\n",
      "(forall (?x) (or (not (red ?x)) (exists (?y) (and (blue ?y) (on ?x ?y)))))\n",
      "[0.1845018  0.18420501 0.19221417]\n",
      "[0.58359521 0.58506193 0.6249587 ]\n"
     ]
    },
    {
     "name": "stderr",
     "output_type": "stream",
     "text": [
      "T: no, put red blocks on blue blocks\n",
      "T: no, put red blocks on blue blocks\n"
     ]
    },
    {
     "name": "stdout",
     "output_type": "stream",
     "text": [
      "(forall (?x) (or (not (red ?x)) (exists (?y) (and (blue ?y) (on ?x ?y)))))\n",
      "[0.1779051  0.17669518 0.184366  ]\n",
      "[0.58359465 0.58506112 0.62495768]\n",
      "(forall (?x) (or (not (red ?x)) (exists (?y) (and (blue ?y) (on ?x ?y)))))\n",
      "[0.17235369 0.17037931 0.17814286]\n",
      "[0.58359465 0.58506112 0.62495768]\n"
     ]
    },
    {
     "name": "stderr",
     "output_type": "stream",
     "text": [
      "T: no, put red blocks on blue blocks\n",
      "T: no, put red blocks on blue blocks\n"
     ]
    },
    {
     "name": "stdout",
     "output_type": "stream",
     "text": [
      "(forall (?x) (or (not (red ?x)) (exists (?y) (and (blue ?y) (on ?x ?y)))))\n",
      "[0.16675246 0.16393765 0.17146455]\n",
      "[0.58359465 0.58506112 0.62495767]\n",
      "(forall (?x) (or (not (red ?x)) (exists (?y) (and (blue ?y) (on ?x ?y)))))\n",
      "[0.16200378 0.15847998 0.1661253 ]\n",
      "[0.58359465 0.58506112 0.62495767]\n"
     ]
    },
    {
     "name": "stderr",
     "output_type": "stream",
     "text": [
      "T: no, put red blocks on blue blocks\n",
      "T: no, put red blocks on blue blocks\n"
     ]
    },
    {
     "name": "stdout",
     "output_type": "stream",
     "text": [
      "(forall (?x) (or (not (red ?x)) (exists (?y) (and (blue ?y) (on ?x ?y)))))\n",
      "[0.15718862 0.15289603 0.16037395]\n",
      "[0.58359464 0.58506111 0.62495767]\n",
      "(forall (?x) (or (not (red ?x)) (exists (?y) (and (blue ?y) (on ?x ?y)))))\n",
      "[0.15308042 0.14813476 0.15574333]\n"
     ]
    },
    {
     "name": "stderr",
     "output_type": "stream",
     "text": [
      "T: no, put red blocks on blue blocks\n"
     ]
    },
    {
     "name": "stdout",
     "output_type": "stream",
     "text": [
      "[0.58359464 0.58506111 0.62495767]\n",
      "(forall (?x) (or (not (red ?x)) (exists (?y) (and (blue ?y) (on ?x ?y)))))\n",
      "[0.14915205 0.14365427 0.15135692]\n",
      "[0.58359464 0.58506111 0.62495767]\n",
      "problem13.pddl reward: -30\n",
      "Parsing domain blocks-domain.pddl\n",
      "Parsing problem tworules/problem14.pddl\n"
     ]
    },
    {
     "name": "stderr",
     "output_type": "stream",
     "text": [
      "T: no, put red blocks on blue blocks\n"
     ]
    },
    {
     "name": "stdout",
     "output_type": "stream",
     "text": [
      "(forall (?x) (or (not (red ?x)) (exists (?y) (and (blue ?y) (on ?x ?y)))))\n",
      "[0.14539587 0.13943119 0.14719781]\n"
     ]
    },
    {
     "name": "stderr",
     "output_type": "stream",
     "text": [
      "T: no, put red blocks on blue blocks\n"
     ]
    },
    {
     "name": "stdout",
     "output_type": "stream",
     "text": [
      "(forall (?x) (or (not (red ?x)) (exists (?y) (and (blue ?y) (on ?x ?y)))))\n",
      "[0.14180389 0.13544456 0.14325025]\n",
      "[0.58359464 0.58506111 0.62495767]\n"
     ]
    },
    {
     "name": "stderr",
     "output_type": "stream",
     "text": [
      "T: no, put red blocks on blue blocks\n"
     ]
    },
    {
     "name": "stdout",
     "output_type": "stream",
     "text": [
      "(forall (?x) (or (not (red ?x)) (exists (?y) (and (blue ?y) (on ?x ?y)))))\n",
      "[0.13836802 0.13167556 0.13949973]\n",
      "[0.58359464 0.58506111 0.62495767]\n"
     ]
    },
    {
     "name": "stderr",
     "output_type": "stream",
     "text": [
      "T: no, put red blocks on blue blocks\n"
     ]
    },
    {
     "name": "stdout",
     "output_type": "stream",
     "text": [
      "(forall (?x) (or (not (red ?x)) (exists (?y) (and (blue ?y) (on ?x ?y)))))\n",
      "[0.13508028 0.12810724 0.13593281]\n",
      "[0.58359464 0.58506111 0.62495767]\n"
     ]
    },
    {
     "name": "stderr",
     "output_type": "stream",
     "text": [
      "T: No, now you cannot put b2 in the tower because you must put green blocks on yellow blocks\n"
     ]
    },
    {
     "name": "stdout",
     "output_type": "stream",
     "text": [
      "[0.40319085 0.42229901 0.40881909]\n",
      "[0.46550191 0.46615997 0.45374941]\n",
      "[0.40292756 0.42192015 0.40876595]\n",
      "[0.41992925 0.4205326  0.40903881]\n"
     ]
    },
    {
     "name": "stderr",
     "output_type": "stream",
     "text": [
      "T: No, now you cannot put b2 in the tower because you must put green blocks on yellow blocks\n"
     ]
    },
    {
     "name": "stdout",
     "output_type": "stream",
     "text": [
      "[0.36641794 0.38431019 0.37170753]\n",
      "[0.41992925 0.4205326  0.40903881]\n",
      "[0.36641794 0.38431018 0.37170753]\n",
      "[0.38213533 0.38269107 0.37202648]\n"
     ]
    },
    {
     "name": "stderr",
     "output_type": "stream",
     "text": [
      "T: No, now you cannot put b2 in the tower because you must put green blocks on yellow blocks\n"
     ]
    },
    {
     "name": "stdout",
     "output_type": "stream",
     "text": [
      "[0.33596878 0.3528165  0.34080471]\n",
      "[0.38213533 0.38269107 0.37202648]\n",
      "[0.33596878 0.3528165  0.34080471]\n",
      "[0.35056269 0.35107727 0.34114763]\n"
     ]
    },
    {
     "name": "stderr",
     "output_type": "stream",
     "text": [
      "T: no, put red blocks on blue blocks\n"
     ]
    },
    {
     "name": "stdout",
     "output_type": "stream",
     "text": [
      "problem14.pddl reward: -24\n",
      "Parsing domain blocks-domain.pddl\n",
      "Parsing problem tworules/problem15.pddl\n",
      "(forall (?x) (or (not (red ?x)) (exists (?y) (and (blue ?y) (on ?x ?y)))))\n",
      "[0.1344092  0.12487466 0.13268834]"
     ]
    },
    {
     "name": "stderr",
     "output_type": "stream",
     "text": [
      "T: no, put red blocks on blue blocks\n"
     ]
    },
    {
     "name": "stdout",
     "output_type": "stream",
     "text": [
      "\n",
      "[0.58179913 0.58208187 0.62096046]\n",
      "(forall (?x) (or (not (red ?x)) (exists (?y) (and (blue ?y) (on ?x ?y)))))\n",
      "[0.13356293 0.12165933 0.12944907]\n",
      "[0.58170928 0.58199701 0.62086421]\n",
      "problem15.pddl reward: -14\n",
      "Parsing domain blocks-domain.pddl\n",
      "Parsing problem tworules/problem16.pddl\n"
     ]
    },
    {
     "name": "stderr",
     "output_type": "stream",
     "text": [
      "T: No, now you cannot put b1 in the tower because you must put green blocks on yellow blocks\n"
     ]
    },
    {
     "name": "stdout",
     "output_type": "stream",
     "text": [
      "[0.31050882 0.32673196 0.32437051]\n",
      "[0.35022039 0.35080618 0.34142312]\n",
      "[0.31034933 0.32644371 0.32442246]\n",
      "[0.32397002 0.32452114 0.31605513]\n"
     ]
    },
    {
     "name": "stderr",
     "output_type": "stream",
     "text": [
      "T: no, put red blocks on blue blocks\n",
      "R: Is the top object red?\n",
      "T: yes\n"
     ]
    },
    {
     "name": "stdout",
     "output_type": "stream",
     "text": [
      "(forall (?x) (or (not (red ?x)) (exists (?y) (and (blue ?y) (on ?x ?y)))))\n",
      "[0.13259579 0.1185999  0.12635588]\n",
      "[0.58170928 0.58199701 0.62086421]\n"
     ]
    },
    {
     "name": "stderr",
     "output_type": "stream",
     "text": [
      "T: No, now you cannot put b1 in the tower because you must put green blocks on yellow blocks\n"
     ]
    },
    {
     "name": "stdout",
     "output_type": "stream",
     "text": [
      "[0.28826066 0.30370728 0.30851917]\n",
      "[0.32396913 0.32452032 0.31605425]\n",
      "[0.28826027 0.30370652 0.30851926]\n",
      "[0.30111321 0.30163263 0.29392821]\n"
     ]
    },
    {
     "name": "stderr",
     "output_type": "stream",
     "text": [
      "T: no, put red blocks on blue blocks\n"
     ]
    },
    {
     "name": "stdout",
     "output_type": "stream",
     "text": [
      "(forall (?x) (or (not (red ?x)) (exists (?y) (and (blue ?y) (on ?x ?y)))))\n",
      "[0.13153203 0.11568871 0.12340283]\n",
      "[0.58170928 0.58199701 0.62086421]\n"
     ]
    },
    {
     "name": "stderr",
     "output_type": "stream",
     "text": [
      "T: No, now you cannot put b0 in the tower because you must put red blocks on blue blocks\n"
     ]
    },
    {
     "name": "stdout",
     "output_type": "stream",
     "text": [
      "[0.13153203 0.11568871 0.12340283]\n",
      "[0.5297319  0.52802141 0.54498128]\n",
      "[0.1303911  0.11291539 0.12058099]\n",
      "[0.5297319  0.52802141 0.54498128]\n"
     ]
    },
    {
     "name": "stderr",
     "output_type": "stream",
     "text": [
      "T: No, now you cannot put b1 in the tower because you must put green blocks on yellow blocks\n"
     ]
    },
    {
     "name": "stdout",
     "output_type": "stream",
     "text": [
      "[0.26910389 0.28391069 0.29360508]\n",
      "[0.30111321 0.30163263 0.29392821]\n",
      "[0.26910389 0.28391069 0.29360508]\n",
      "[0.28125981 0.28175051 0.2746818 ]\n"
     ]
    },
    {
     "name": "stderr",
     "output_type": "stream",
     "text": [
      "T: No, now you cannot put b1 in the tower because you must put green blocks on yellow blocks\n"
     ]
    },
    {
     "name": "stdout",
     "output_type": "stream",
     "text": [
      "[0.25233327 0.26652426 0.27973972]\n",
      "[0.28125981 0.28175051 0.2746818 ]\n",
      "[0.25233327 0.26652426 0.27973972]\n",
      "[0.26385623 0.26432095 0.25779089]\n"
     ]
    },
    {
     "name": "stderr",
     "output_type": "stream",
     "text": [
      "T: No, now you cannot put b0 in the tower because you must put red blocks on blue blocks\n"
     ]
    },
    {
     "name": "stdout",
     "output_type": "stream",
     "text": [
      "[0.1303911  0.11291539 0.12058099]\n",
      "[0.47765307 0.47528713 0.48822926]\n",
      "[0.12918922 0.11027051 0.11788214]\n",
      "[0.47765307 0.47528713 0.48822926]\n"
     ]
    },
    {
     "name": "stderr",
     "output_type": "stream",
     "text": [
      "T: No, now you cannot put b0 in the tower because you must put red blocks on blue blocks\n"
     ]
    },
    {
     "name": "stdout",
     "output_type": "stream",
     "text": [
      "[0.12918922 0.11027051 0.11788214]\n",
      "[0.43429721 0.43162153 0.44189216]\n",
      "[0.12793998 0.10774547 0.11529865]\n",
      "[0.43429721 0.43162153 0.44189216]\n"
     ]
    },
    {
     "name": "stderr",
     "output_type": "stream",
     "text": [
      "T: No, now you cannot put b1 in the tower because you must put green blocks on yellow blocks\n"
     ]
    },
    {
     "name": "stdout",
     "output_type": "stream",
     "text": [
      "[0.23752916 0.25113515 0.26690257]\n",
      "[0.26385623 0.26432095 0.25779089]\n",
      "[0.23752916 0.25113515 0.26690257]\n",
      "[0.24847659 0.24891775 0.24284993]\n",
      "problem16.pddl reward: -30\n",
      "Parsing domain blocks-domain.pddl\n",
      "Parsing problem tworules/problem17.pddl\n"
     ]
    },
    {
     "name": "stderr",
     "output_type": "stream",
     "text": [
      "T: No, now you cannot put b5 in the tower because you must put green blocks on yellow blocks\n"
     ]
    },
    {
     "name": "stdout",
     "output_type": "stream",
     "text": [
      "[0.24432259 0.24610637 0.25868671]\n",
      "[0.24847752 0.24891768 0.24285054]\n",
      "[0.24432248 0.24610606 0.25868668]\n",
      "[0.23471311 0.23513064 0.2293602 ]\n",
      "problem17.pddl reward: -12\n",
      "Parsing domain blocks-domain.pddl\n",
      "Parsing problem tworules/problem18.pddl\n"
     ]
    },
    {
     "name": "stderr",
     "output_type": "stream",
     "text": [
      "T: No, now you cannot put b1 in the tower because you must put red blocks on blue blocks\n"
     ]
    },
    {
     "name": "stdout",
     "output_type": "stream",
     "text": [
      "[0.12793998 0.10774547 0.11529866]\n",
      "[0.39510913 0.39410036 0.40932487]\n",
      "[0.12533446 0.10517674 0.11292243]\n",
      "[0.39510913 0.39410034 0.40932486]\n"
     ]
    },
    {
     "name": "stderr",
     "output_type": "stream",
     "text": [
      "T: No, now you cannot put b1 in the tower because you must put red blocks on blue blocks\n"
     ]
    },
    {
     "name": "stdout",
     "output_type": "stream",
     "text": [
      "[0.12533446 0.10517674 0.11292243]\n",
      "[0.36240377 0.36249696 0.38066285]\n",
      "[0.12282853 0.10272763 0.11063865]\n",
      "[0.36240377 0.36249696 0.38066285]\n"
     ]
    },
    {
     "name": "stderr",
     "output_type": "stream",
     "text": [
      "T: No, now you cannot put b1 in the tower because you must put red blocks on blue blocks\n"
     ]
    },
    {
     "name": "stdout",
     "output_type": "stream",
     "text": [
      "[0.12282853 0.10272763 0.11063865]\n",
      "[0.33469646 0.3355359  0.35542094]\n",
      "[0.12041696 0.10038999 0.10844229]\n",
      "[0.33469646 0.3355359  0.35542094]\n"
     ]
    },
    {
     "name": "stderr",
     "output_type": "stream",
     "text": [
      "T: No, now you cannot put b1 in the tower because you must put red blocks on blue blocks\n"
     ]
    },
    {
     "name": "stdout",
     "output_type": "stream",
     "text": [
      "[0.12041696 0.10038999 0.10844229]\n",
      "[0.31092339 0.31227638 0.33311359]\n",
      "[0.11809481 0.09815637 0.10632869]\n",
      "[0.31092339 0.31227638 0.33311359]\n"
     ]
    },
    {
     "name": "stderr",
     "output_type": "stream",
     "text": [
      "T: No, now you cannot put b1 in the tower because you must put red blocks on blue blocks\n"
     ]
    },
    {
     "name": "stdout",
     "output_type": "stream",
     "text": [
      "[0.11809481 0.09815637 0.10632869]\n",
      "[0.29030249 0.29201208 0.31330859]\n",
      "[0.11585748 0.09601998 0.10429346]\n",
      "[0.29030249 0.29201208 0.31330859]\n"
     ]
    },
    {
     "name": "stderr",
     "output_type": "stream",
     "text": [
      "T: no, put green blocks on yellow blocks\n",
      "T: no, put green blocks on yellow blocks\n"
     ]
    },
    {
     "name": "stdout",
     "output_type": "stream",
     "text": [
      "(forall (?y) (or (not (yellow ?y)) (exists (?x) (and (green ?x) (on ?x ?y)))))\n",
      "[0.24427491 0.24597418 0.25858283]\n",
      "[0.22254054 0.22293784 0.21743439]\n",
      "(forall (?y) (or (not (yellow ?y)) (exists (?x) (and (green ?x) (on ?x ?y)))))\n",
      "[0.24427491 0.24597421 0.25858282]\n"
     ]
    },
    {
     "name": "stderr",
     "output_type": "stream",
     "text": [
      "T: no, put red blocks on blue blocks\n"
     ]
    },
    {
     "name": "stdout",
     "output_type": "stream",
     "text": [
      "[0.21143403 0.21181272 0.20655651]\n",
      "(forall (?x) (or (not (red ?x)) (exists (?y) (and (blue ?y) (on ?x ?y)))))\n",
      "[0.11370062 0.0939746  0.10233251]\n",
      "[0.29030249 0.29201208 0.31330859]\n",
      "problem18.pddl reward: -26\n",
      "Parsing domain blocks-domain.pddl\n",
      "Parsing problem tworules/problem19.pddl\n",
      "problem19.pddl reward: -10\n",
      "Parsing domain blocks-domain.pddl\n",
      "Parsing problem tworules/problem2.pddl\n"
     ]
    },
    {
     "name": "stderr",
     "output_type": "stream",
     "text": [
      "T: No, now you cannot put b0 in the tower because you must put green blocks on yellow blocks\n",
      "T: No, now you cannot put b0 in the tower because you must put green blocks on yellow blocks\n"
     ]
    },
    {
     "name": "stdout",
     "output_type": "stream",
     "text": [
      "[0.23269763 0.23847749 0.24687623]\n",
      "[0.21143959 0.2118144  0.20655252]\n",
      "[0.23269664 0.23847291 0.24687325]\n",
      "[0.20144976 0.20180869 0.22694996]\n"
     ]
    },
    {
     "name": "stderr",
     "output_type": "stream",
     "text": [
      "T: No, now you cannot put b0 in the tower because you must put green blocks on yellow blocks\n"
     ]
    },
    {
     "name": "stdout",
     "output_type": "stream",
     "text": [
      "[0.22213104 0.23111584 0.23612144]\n",
      "[0.20144975 0.20180868 0.22694996]\n",
      "[0.22213104 0.23111584 0.23612144]\n",
      "[0.19235673 0.19270102 0.24245914]\n"
     ]
    },
    {
     "name": "stderr",
     "output_type": "stream",
     "text": [
      "T: No, now you cannot put b0 in the tower because you must put green blocks on yellow blocks\n"
     ]
    },
    {
     "name": "stdout",
     "output_type": "stream",
     "text": [
      "[0.21245879 0.22397691 0.22622548]\n",
      "[0.19235673 0.19270102 0.24245914]\n",
      "[0.21245879 0.22397691 0.22622548]\n",
      "[0.18404823 0.18437898 0.25414666]\n",
      "[0.20357505 0.217099   0.21709397]\n",
      "[0.18404823 0.18437898 0.25414666]\n",
      "[0.20357505 0.217099   0.21709397]\n",
      "[0.17642704 0.17674526 0.26282914]\n",
      "problem2.pddl reward: -18\n",
      "Parsing domain blocks-domain.pddl\n",
      "Parsing problem tworules/problem20.pddl\n",
      "problem20.pddl reward: -10\n",
      "Parsing domain blocks-domain.pddl\n",
      "Parsing problem tworules/problem21.pddl\n",
      "problem21.pddl reward: -10\n",
      "Parsing domain blocks-domain.pddl\n",
      "Parsing problem tworules/problem22.pddl\n"
     ]
    },
    {
     "name": "stderr",
     "output_type": "stream",
     "text": [
      "T: no, put red blocks on blue blocks\n"
     ]
    },
    {
     "name": "stdout",
     "output_type": "stream",
     "text": [
      "problem22.pddl reward: -10\n",
      "Parsing domain blocks-domain.pddl\n",
      "Parsing problem tworules/problem23.pddl\n",
      "(forall (?x) (or (not (red ?x)) (exists (?y) (and (blue ?y) (on ?x ?y)))))\n",
      "[0.11212963 0.09214968 0.10052121]\n"
     ]
    },
    {
     "name": "stderr",
     "output_type": "stream",
     "text": [
      "T: no, put red blocks on blue blocks\n"
     ]
    },
    {
     "name": "stdout",
     "output_type": "stream",
     "text": [
      "(forall (?x) (or (not (red ?x)) (exists (?y) (and (blue ?y) (on ?x ?y)))))\n",
      "[0.11096448 0.09040019 0.09877678]\n",
      "[0.29036312 0.29196296 0.31335498]\n",
      "problem23.pddl reward: -14\n",
      "Parsing domain blocks-domain.pddl\n",
      "Parsing problem tworules/problem24.pddl\n"
     ]
    },
    {
     "name": "stderr",
     "output_type": "stream",
     "text": [
      "T: no, put green blocks on yellow blocks\n",
      "T: no, put green blocks on yellow blocks\n"
     ]
    },
    {
     "name": "stdout",
     "output_type": "stream",
     "text": [
      "(forall (?y) (or (not (yellow ?y)) (exists (?x) (and (green ?x) (on ?x ?y)))))\n",
      "[0.20357511 0.21709359 0.21709492]\n",
      "[0.16941512 0.16972171 0.25407821]\n",
      "(forall (?y) (or (not (yellow ?y)) (exists (?x) (and (green ?x) (on ?x ?y)))))\n",
      "[0.20357511 0.21709358 0.21709491]\n",
      "[0.16293533 0.16323108 0.24584862]\n"
     ]
    },
    {
     "name": "stderr",
     "output_type": "stream",
     "text": [
      "T: No, now you cannot put b1 in the tower because you must put green blocks on yellow blocks\n",
      "T: No, now you cannot put b1 in the tower because you must put green blocks on yellow blocks\n"
     ]
    },
    {
     "name": "stdout",
     "output_type": "stream",
     "text": [
      "[0.19489531 0.20884785 0.21152476]\n",
      "[0.16288816 0.16321358 0.24591255]\n",
      "[0.19489818 0.20878896 0.21156259]\n",
      "[0.15693258 0.15724714 0.23822843]\n",
      "[0.18687049 0.20107149 0.20606345]\n",
      "[0.15693258 0.15724714 0.23822843]\n",
      "[0.18687049 0.20107149 0.20606345]\n",
      "[0.15135611 0.15166041 0.23093159]\n",
      "problem24.pddl reward: -18\n",
      "Parsing domain blocks-domain.pddl\n",
      "Parsing problem tworules/problem25.pddl"
     ]
    },
    {
     "name": "stderr",
     "output_type": "stream",
     "text": [
      "T: no, put red blocks on blue blocks\n"
     ]
    },
    {
     "name": "stdout",
     "output_type": "stream",
     "text": [
      "\n",
      "(forall (?x) (or (not (red ?x)) (exists (?y) (and (blue ?y) (on ?x ?y)))))\n",
      "[0.11013919 0.08872243 0.09709659]\n",
      "[0.2904762  0.29203305 0.31319291]\n"
     ]
    },
    {
     "name": "stderr",
     "output_type": "stream",
     "text": [
      "T: no, put red blocks on blue blocks\n",
      "T: no, put red blocks on blue blocks\n"
     ]
    },
    {
     "name": "stdout",
     "output_type": "stream",
     "text": [
      "(forall (?x) (or (not (red ?x)) (exists (?y) (and (blue ?y) (on ?x ?y)))))\n",
      "[0.10928353 0.08709314 0.09545823]\n",
      "[0.29046449 0.29202145 0.31319113]\n",
      "(forall (?x) (or (not (red ?x)) (exists (?y) (and (blue ?y) (on ?x ?y)))))\n"
     ]
    },
    {
     "name": "stderr",
     "output_type": "stream",
     "text": [
      "T: no, put red blocks on blue blocks\n"
     ]
    },
    {
     "name": "stdout",
     "output_type": "stream",
     "text": [
      "[0.10829385 0.08552548 0.09387566]\n",
      "[0.29050855 0.29202599 0.31313348]\n",
      "(forall (?x) (or (not (red ?x)) (exists (?y) (and (blue ?y) (on ?x ?y)))))\n",
      "[0.10729532 0.08400881 0.09233887]\n",
      "[0.29050664 0.29202422 0.31313058]\n",
      "problem25.pddl reward: -18\n",
      "Parsing domain blocks-domain.pddl\n",
      "Parsing problem tworules/problem26.pddl\n",
      "problem26.pddl reward: -10\n",
      "Parsing domain blocks-domain.pddl\n",
      "Parsing problem tworules/problem27.pddl\n"
     ]
    },
    {
     "name": "stderr",
     "output_type": "stream",
     "text": [
      "T: No, now you cannot put b2 in the tower because you must put green blocks on yellow blocks\n",
      "T: No, now you cannot put b2 in the tower because you must put green blocks on yellow blocks\n"
     ]
    },
    {
     "name": "stdout",
     "output_type": "stream",
     "text": [
      "[0.18605906 0.19623603 0.19916779]\n",
      "[0.15135611 0.15166042 0.23093159]\n",
      "[0.18605906 0.19623603 0.19916779]\n",
      "[0.1461621  0.14645679 0.22404791]\n"
     ]
    },
    {
     "name": "stderr",
     "output_type": "stream",
     "text": [
      "T: No, now you cannot put b2 in the tower because you must put green blocks on yellow blocks\n"
     ]
    },
    {
     "name": "stdout",
     "output_type": "stream",
     "text": [
      "[0.18475353 0.19150467 0.19269011]\n",
      "[0.1461621  0.14645679 0.22404791]\n",
      "[0.18475353 0.19150467 0.19269011]\n",
      "[0.14131254 0.14159819 0.21754575]\n"
     ]
    },
    {
     "name": "stderr",
     "output_type": "stream",
     "text": [
      "T: No, now you cannot put b2 in the tower because you must put green blocks on yellow blocks\n"
     ]
    },
    {
     "name": "stdout",
     "output_type": "stream",
     "text": [
      "[0.1830757  0.18689805 0.18659748]\n",
      "[0.14131254 0.14159819 0.21754575]\n",
      "[0.1830757  0.18689805 0.18659748]\n",
      "[0.13677428 0.13705142 0.21139622]\n",
      "[0.18111969 0.18242889 0.18085961]\n",
      "[0.13677428 0.13705142 0.21139622]\n",
      "[0.18111969 0.18242889 0.18085961]\n",
      "[0.1325183  0.13278741 0.20557298]\n",
      "problem27.pddl reward: -18\n",
      "Parsing domain blocks-domain.pddl\n"
     ]
    },
    {
     "name": "stderr",
     "output_type": "stream",
     "text": [
      "T: No, now you cannot put b2 in the tower because you must put green blocks on yellow blocks\n"
     ]
    },
    {
     "name": "stdout",
     "output_type": "stream",
     "text": [
      "Parsing problem tworules/problem28.pddl\n"
     ]
    },
    {
     "name": "stderr",
     "output_type": "stream",
     "text": [
      "T: No, now you cannot put b2 in the tower because you must put green blocks on yellow blocks\n"
     ]
    },
    {
     "name": "stdout",
     "output_type": "stream",
     "text": [
      "[0.1761283  0.17762561 0.17500452]\n",
      "[0.13251678 0.13278712 0.20557663]\n",
      "[0.17612935 0.17762388 0.17500334]\n",
      "[0.12851907 0.1287818  0.21464507]\n"
     ]
    },
    {
     "name": "stderr",
     "output_type": "stream",
     "text": [
      "T: No, now you cannot put b2 in the tower because you must put green blocks on yellow blocks\n"
     ]
    },
    {
     "name": "stdout",
     "output_type": "stream",
     "text": [
      "[0.17137932 0.17303294 0.16950947]\n",
      "[0.12851907 0.1287818  0.21464507]\n",
      "[0.17137932 0.17303294 0.16950947]\n",
      "[0.12475405 0.12500957 0.22222458]\n"
     ]
    },
    {
     "name": "stderr",
     "output_type": "stream",
     "text": [
      "T: No, now you cannot put b2 in the tower because you must put green blocks on yellow blocks\n"
     ]
    },
    {
     "name": "stdout",
     "output_type": "stream",
     "text": [
      "[0.16685835 0.16864635 0.16434661]\n",
      "[0.12475405 0.12500957 0.22222458]\n",
      "[0.16685835 0.16864635 0.16434661]\n",
      "[0.12120325 0.12145196 0.22852685]\n"
     ]
    },
    {
     "name": "stderr",
     "output_type": "stream",
     "text": [
      "T: No, now you cannot put b2 in the tower because you must put green blocks on yellow blocks\n"
     ]
    },
    {
     "name": "stdout",
     "output_type": "stream",
     "text": [
      "[0.1625527  0.16445417 0.15948607]\n",
      "[0.12120325 0.12145196 0.22852685]\n",
      "[0.1625527  0.16445417 0.15948607]\n",
      "[0.11784892 0.11809115 0.23373296]\n"
     ]
    },
    {
     "name": "stderr",
     "output_type": "stream",
     "text": [
      "T: No, now you cannot put b2 in the tower because you must put green blocks on yellow blocks\n"
     ]
    },
    {
     "name": "stdout",
     "output_type": "stream",
     "text": [
      "[0.15844932 0.16044643 0.15490233]\n",
      "[0.11784892 0.11809115 0.23373296]\n",
      "[0.15844932 0.16044643 0.15490233]\n",
      "[0.11467518 0.11491126 0.2379959 ]\n",
      "[0.15453586 0.1566134  0.15057265]\n",
      "[0.11467518 0.11491126 0.2379959 ]\n",
      "[0.15453586 0.1566134  0.15057265]\n",
      "[0.11166784 0.11189808 0.24144539]\n",
      "problem28.pddl reward: -22\n",
      "Parsing domain blocks-domain.pddl"
     ]
    },
    {
     "name": "stderr",
     "output_type": "stream",
     "text": [
      "T: no, put red blocks on blue blocks\n"
     ]
    },
    {
     "name": "stdout",
     "output_type": "stream",
     "text": [
      "\n",
      "Parsing problem tworules/problem29.pddl\n",
      "(forall (?x) (or (not (red ?x)) (exists (?y) (and (blue ?y) (on ?x ?y)))))\n"
     ]
    },
    {
     "name": "stderr",
     "output_type": "stream",
     "text": [
      "T: No, now you cannot put b2 in the tower because you must put green blocks on yellow blocks\n"
     ]
    },
    {
     "name": "stdout",
     "output_type": "stream",
     "text": [
      "[0.10596304 0.08254599 0.0908514 ]\n",
      "[0.29052435 0.2920071  0.31310827]\n"
     ]
    },
    {
     "name": "stderr",
     "output_type": "stream",
     "text": [
      "T: No, now you cannot put b2 in the tower because you must put green blocks on yellow blocks\n"
     ]
    },
    {
     "name": "stdout",
     "output_type": "stream",
     "text": [
      "[0.15765662 0.155107   0.14829337]\n",
      "[0.11166784 0.11189808 0.24144539]\n",
      "[0.15765662 0.155107   0.14829337]\n",
      "[0.10881415 0.10903883 0.23720321]\n"
     ]
    },
    {
     "name": "stderr",
     "output_type": "stream",
     "text": [
      "T: No, now you cannot put b2 in the tower because you must put green blocks on yellow blocks\n"
     ]
    },
    {
     "name": "stdout",
     "output_type": "stream",
     "text": [
      "[0.1601603  0.15350953 0.14602163]\n",
      "[0.10881415 0.10903883 0.23720321]\n",
      "[0.1601603  0.15350953 0.14602163]\n",
      "[0.10610264 0.10632201 0.23307035]\n",
      "[0.15647863 0.15334979 0.1422035 ]\n",
      "[0.10610264 0.10632201 0.23307035]\n",
      "[0.15647863 0.15334979 0.1422035 ]\n",
      "[0.10352294 0.10373725 0.22904675]\n",
      "problem29.pddl reward: -18\n",
      "Parsing domain blocks-domain.pddl\n",
      "Parsing problem "
     ]
    },
    {
     "name": "stderr",
     "output_type": "stream",
     "text": [
      "T: No, now you cannot put b1 in the tower because you must put red blocks on blue blocks\n"
     ]
    },
    {
     "name": "stdout",
     "output_type": "stream",
     "text": [
      "tworules/problem3.pddl\n",
      "[0.10596304 0.08254599 0.0908514 ]\n",
      "[0.27324771 0.27750915 0.29656652]\n",
      "[0.104653   0.08113127 0.089408  ]\n",
      "[0.27324771 0.27750915 0.29656652]\n"
     ]
    },
    {
     "name": "stderr",
     "output_type": "stream",
     "text": [
      "T: No, now you cannot put b1 in the tower because you must put red blocks on blue blocks\n"
     ]
    },
    {
     "name": "stdout",
     "output_type": "stream",
     "text": [
      "[0.104653   0.08113127 0.089408  ]\n",
      "[0.25788821 0.26421886 0.28156963]\n",
      "[0.10336683 0.07976388 0.08800839]\n",
      "[0.25788821 0.26421886 0.28156963]\n"
     ]
    },
    {
     "name": "stderr",
     "output_type": "stream",
     "text": [
      "T: No, now you cannot put b1 in the tower because you must put red blocks on blue blocks\n"
     ]
    },
    {
     "name": "stdout",
     "output_type": "stream",
     "text": [
      "[0.10336683 0.07976388 0.08800839]\n",
      "[0.24414765 0.25202799 0.26793499]\n",
      "[0.10210453 0.07844149 0.08665071]\n",
      "[0.24414765 0.25202799 0.26793499]\n"
     ]
    },
    {
     "name": "stderr",
     "output_type": "stream",
     "text": [
      "T: No, now you cannot put b1 in the tower because you must put red blocks on blue blocks\n"
     ]
    },
    {
     "name": "stdout",
     "output_type": "stream",
     "text": [
      "[0.10210453 0.07844149 0.08665071]\n",
      "[0.23178566 0.24082926 0.25550089]\n",
      "[0.100866   0.07716193 0.08533316]\n",
      "[0.23178566 0.24082926 0.25550089]\n"
     ]
    },
    {
     "name": "stderr",
     "output_type": "stream",
     "text": [
      "T: No, now you cannot put b1 in the tower because you must put red blocks on blue blocks\n"
     ]
    },
    {
     "name": "stdout",
     "output_type": "stream",
     "text": [
      "[0.100866   0.07716193 0.08533316]\n",
      "[0.2206066  0.23052214 0.24412616]\n",
      "[0.09965108 0.07592319 0.08405406]\n",
      "[0.2206066  0.23052214 0.24412616]\n"
     ]
    },
    {
     "name": "stderr",
     "output_type": "stream",
     "text": [
      "T: No, now you cannot put b1 in the tower because you must put red blocks on blue blocks\n"
     ]
    },
    {
     "name": "stdout",
     "output_type": "stream",
     "text": [
      "[0.09965108 0.07592319 0.08405406]\n",
      "[0.21044976 0.22101513 0.23368835]\n",
      "[0.09845954 0.07472334 0.08281181]\n",
      "[0.21044976 0.22101513 0.23368835]\n"
     ]
    },
    {
     "name": "stderr",
     "output_type": "stream",
     "text": [
      "T: No, now you cannot put b1 in the tower because you must put red blocks on blue blocks\n",
      "T: No, now you cannot put b1 in the tower because you must put red blocks on blue blocks\n"
     ]
    },
    {
     "name": "stdout",
     "output_type": "stream",
     "text": [
      "[0.09845954 0.07472334 0.08281181]\n",
      "[0.20513741 0.21841573 0.22521039]\n",
      "[0.09729111 0.0735606  0.08160489]\n",
      "[0.20513741 0.21841573 0.22521039]\n"
     ]
    },
    {
     "name": "stderr",
     "output_type": "stream",
     "text": [
      "T: No, now you cannot put b1 in the tower because you must put red blocks on blue blocks\n"
     ]
    },
    {
     "name": "stdout",
     "output_type": "stream",
     "text": [
      "[0.09729111 0.0735606  0.08160489]\n",
      "[0.19988326 0.21533524 0.21726636]\n",
      "[0.09614546 0.07243328 0.08043186]\n",
      "[0.19988326 0.21533524 0.21726636]\n",
      "[0.09614546 0.07243328 0.08043186]\n",
      "[0.19473491 0.21192997 0.20981712]\n",
      "[0.09502225 0.07133981 0.07929136]\n",
      "[0.19473491 0.21192997 0.20981712]\n",
      "problem3.pddl reward: -28\n",
      "Parsing domain blocks-domain.pddl\n",
      "Parsing problem tworules/problem30.pddl\n",
      "problem30.pddl reward: -10\n",
      "Parsing domain blocks-domain.pddl\n",
      "Parsing problem tworules/problem31.pddl\n"
     ]
    },
    {
     "name": "stderr",
     "output_type": "stream",
     "text": [
      "T: no, put green blocks on yellow blocks\n"
     ]
    },
    {
     "name": "stdout",
     "output_type": "stream",
     "text": [
      "(forall (?y) (or (not (yellow ?y)) (exists (?x) (and (green ?x) (on ?x ?y)))))\n",
      "[0.15647863 0.15334979 0.1422035 ]\n",
      "[0.10106567 0.10127515 0.22513154]\n"
     ]
    },
    {
     "name": "stderr",
     "output_type": "stream",
     "text": [
      "T: no, put green blocks on yellow blocks\n"
     ]
    },
    {
     "name": "stdout",
     "output_type": "stream",
     "text": [
      "(forall (?y) (or (not (yellow ?y)) (exists (?x) (and (green ?x) (on ?x ?y)))))\n",
      "[0.15647863 0.15334979 0.1422035 ]\n",
      "[0.09872232 0.09892718 0.22132326]\n"
     ]
    },
    {
     "name": "stderr",
     "output_type": "stream",
     "text": [
      "T: no, put green blocks on yellow blocks\n"
     ]
    },
    {
     "name": "stdout",
     "output_type": "stream",
     "text": [
      "(forall (?y) (or (not (yellow ?y)) (exists (?x) (and (green ?x) (on ?x ?y)))))\n",
      "[0.15647863 0.15334979 0.1422035 ]\n",
      "[0.09648515 0.09668558 0.21761998]\n"
     ]
    },
    {
     "name": "stderr",
     "output_type": "stream",
     "text": [
      "T: no, put green blocks on yellow blocks\n"
     ]
    },
    {
     "name": "stdout",
     "output_type": "stream",
     "text": [
      "(forall (?y) (or (not (yellow ?y)) (exists (?x) (and (green ?x) (on ?x ?y)))))\n",
      "[0.15647863 0.15334979 0.1422035 ]\n",
      "[0.09434711 0.09454329 0.21401948]\n"
     ]
    },
    {
     "name": "stderr",
     "output_type": "stream",
     "text": [
      "T: no, put red blocks on blue blocks\n"
     ]
    },
    {
     "name": "stdout",
     "output_type": "stream",
     "text": [
      "(forall (?x) (or (not (red ?x)) (exists (?y) (and (blue ?y) (on ?x ?y)))))\n",
      "[0.09415989 0.07027876 0.07818217]\n",
      "[0.19473592 0.21193057 0.20981651]\n"
     ]
    },
    {
     "name": "stderr",
     "output_type": "stream",
     "text": [
      "T: no, put green blocks on yellow blocks\n"
     ]
    },
    {
     "name": "stdout",
     "output_type": "stream",
     "text": [
      "(forall (?y) (or (not (yellow ?y)) (exists (?x) (and (green ?x) (on ?x ?y)))))\n",
      "[0.15647863 0.15334979 0.1422035 ]\n",
      "[0.09230174 0.09249386 0.21051927]\n"
     ]
    },
    {
     "name": "stderr",
     "output_type": "stream",
     "text": [
      "T: no, put red blocks on blue blocks\n"
     ]
    },
    {
     "name": "stdout",
     "output_type": "stream",
     "text": [
      "(forall (?x) (or (not (red ?x)) (exists (?y) (and (blue ?y) (on ?x ?y)))))\n",
      "[0.09330418 0.06924857 0.07710291]\n",
      "[0.19473592 0.21193056 0.20981651]\n",
      "problem31.pddl reward: -24\n",
      "Parsing domain blocks-domain.pddl\n",
      "Parsing problem tworules/problem32.pddl\n"
     ]
    },
    {
     "name": "stderr",
     "output_type": "stream",
     "text": [
      "T: no, put red blocks on blue blocks\n",
      "T: no, put red blocks on blue blocks\n"
     ]
    },
    {
     "name": "stdout",
     "output_type": "stream",
     "text": [
      "(forall (?x) (or (not (red ?x)) (exists (?y) (and (blue ?y) (on ?x ?y)))))\n",
      "[0.09223262 0.06824803 0.07605249]\n",
      "[0.19473621 0.21193045 0.20981637]\n",
      "(forall (?x) (or (not (red ?x)) (exists (?y) (and (blue ?y) (on ?x ?y)))))\n",
      "[0.09118247 0.06727582 0.07502978]\n",
      "[0.1947362  0.21193044 0.20981637]\n",
      "problem32.pddl reward: -14\n",
      "Parsing domain blocks-domain.pddl\n",
      "Parsing problem tworules/problem33.pddl\n"
     ]
    },
    {
     "name": "stderr",
     "output_type": "stream",
     "text": [
      "T: no, put red blocks on blue blocks\n"
     ]
    },
    {
     "name": "stdout",
     "output_type": "stream",
     "text": [
      "(forall (?x) (or (not (red ?x)) (exists (?y) (and (blue ?y) (on ?x ?y)))))\n",
      "[0.08984055 0.06637207 0.07395689]\n"
     ]
    },
    {
     "name": "stderr",
     "output_type": "stream",
     "text": [
      "T: no, put red blocks on blue blocks\n",
      "T: no, put red blocks on blue blocks\n"
     ]
    },
    {
     "name": "stdout",
     "output_type": "stream",
     "text": [
      "(forall (?x) (or (not (red ?x)) (exists (?y) (and (blue ?y) (on ?x ?y)))))\n",
      "[0.08853758 0.06549197 0.07291421]\n",
      "[0.19473645 0.2119305  0.20981622]\n",
      "(forall (?x) (or (not (red ?x)) (exists (?y) (and (blue ?y) (on ?x ?y)))))\n"
     ]
    },
    {
     "name": "stderr",
     "output_type": "stream",
     "text": [
      "T: No, now you cannot put b1 in the tower because you must put green blocks on yellow blocks\n"
     ]
    },
    {
     "name": "stdout",
     "output_type": "stream",
     "text": [
      "[0.08727184 0.06463458 0.07190044]\n",
      "[0.19473645 0.2119305  0.20981622]\n",
      "[0.15645528 0.15330054 0.14215882]\n",
      "[0.09036596 0.09071064 0.20637658]\n",
      "[0.15907489 0.15034535 0.14838122]\n",
      "[0.09034316 0.09068777 0.20633715]\n"
     ]
    },
    {
     "name": "stderr",
     "output_type": "stream",
     "text": [
      "T: no, put red blocks on blue blocks\n",
      "T: No, now you cannot put b1 in the tower because you must put green blocks on yellow blocks\n"
     ]
    },
    {
     "name": "stdout",
     "output_type": "stream",
     "text": [
      "(forall (?x) (or (not (red ?x)) (exists (?y) (and (blue ?y) (on ?x ?y)))))\n",
      "[0.08604178 0.06379907 0.07091441]\n",
      "[0.19473645 0.2119305  0.20981622]\n",
      "[0.15729969 0.14649164 0.14471228]\n",
      "[0.09034316 0.09068777 0.20633715]\n",
      "[0.15729969 0.14649164 0.14471228]\n",
      "[0.08846595 0.08880529 0.20306821]\n"
     ]
    },
    {
     "name": "stderr",
     "output_type": "stream",
     "text": [
      "T: no, put red blocks on blue blocks\n",
      "T: No, now you cannot put b1 in the tower because you must put green blocks on yellow blocks\n"
     ]
    },
    {
     "name": "stdout",
     "output_type": "stream",
     "text": [
      "(forall (?x) (or (not (red ?x)) (exists (?y) (and (blue ?y) (on ?x ?y)))))\n",
      "[0.08484592 0.06298463 0.06995501]\n",
      "[0.19473645 0.2119305  0.20981622]\n"
     ]
    },
    {
     "name": "stderr",
     "output_type": "stream",
     "text": [
      "T: no, put red blocks on blue blocks\n"
     ]
    },
    {
     "name": "stdout",
     "output_type": "stream",
     "text": [
      "[0.15549193 0.14283056 0.14121965]\n",
      "[0.08846595 0.08880529 0.20306821]\n",
      "[0.15549193 0.14283056 0.14121965]\n",
      "[0.08666515 0.08699935 0.19988881]\n",
      "(forall (?x) (or (not (red ?x)) (exists (?y) (and (blue ?y) (on ?x ?y)))))\n"
     ]
    },
    {
     "name": "stderr",
     "output_type": "stream",
     "text": [
      "T: no, put red blocks on blue blocks\n"
     ]
    },
    {
     "name": "stdout",
     "output_type": "stream",
     "text": [
      "[0.08368284 0.06219047 0.06902117]\n",
      "[0.19473645 0.2119305  0.20981622]\n",
      "(forall (?x) (or (not (red ?x)) (exists (?y) (and (blue ?y) (on ?x ?y)))))\n",
      "[0.08255121 0.06141587 0.06811189]\n",
      "[0.19473645 0.2119305  0.20981622]\n"
     ]
    },
    {
     "name": "stderr",
     "output_type": "stream",
     "text": [
      "T: no, put red blocks on blue blocks\n"
     ]
    },
    {
     "name": "stdout",
     "output_type": "stream",
     "text": [
      "problem33.pddl reward: -30\n",
      "Parsing domain blocks-domain.pddl\n",
      "Parsing problem tworules/problem34.pddl\n",
      "(forall (?x) (or (not (red ?x)) (exists (?y) (and (blue ?y) (on ?x ?y)))))\n",
      "[0.08269239 0.06064943 0.06731218]"
     ]
    },
    {
     "name": "stderr",
     "output_type": "stream",
     "text": [
      "T: No, now you cannot put b3 in the tower because you must put green blocks on yellow blocks\n",
      "T: no, put red blocks on blue blocks\n"
     ]
    },
    {
     "name": "stdout",
     "output_type": "stream",
     "text": [
      "\n",
      "[0.15179789 0.14079578 0.13816716]\n",
      "[0.15179789 0.14079578 0.13816716]\n",
      "[0.08493619 0.08526537 0.20450376]\n",
      "(forall (?x) (or (not (red ?x)) (exists (?y) (and (blue ?y) (on ?x ?y)))))\n",
      "[0.08279621 0.05990174 0.06653058]\n",
      "[0.19473645 0.2119305  0.20981622]\n"
     ]
    },
    {
     "name": "stderr",
     "output_type": "stream",
     "text": [
      "T: No, now you cannot put b3 in the tower because you must put green blocks on yellow blocks\n",
      "T: No, now you cannot put b3 in the tower because you must put green blocks on yellow blocks\n"
     ]
    },
    {
     "name": "stdout",
     "output_type": "stream",
     "text": [
      "[0.14827484 0.13878541 0.13524042]\n",
      "[0.08493619 0.08526537 0.20450376]\n",
      "[0.14827484 0.13878541 0.13524042]\n",
      "[0.08327486 0.08359915 0.20858572]\n"
     ]
    },
    {
     "name": "stderr",
     "output_type": "stream",
     "text": [
      "T: No, now you cannot put b3 in the tower because you must put green blocks on yellow blocks\n"
     ]
    },
    {
     "name": "stdout",
     "output_type": "stream",
     "text": [
      "[0.1449112  0.13680306 0.1324321 ]\n",
      "[0.08327486 0.08359915 0.20858572]\n",
      "[0.1449112  0.13680306 0.1324321 ]\n",
      "[0.08167725 0.08199679 0.21218659]\n"
     ]
    },
    {
     "name": "stderr",
     "output_type": "stream",
     "text": [
      "T: No, now you cannot put b3 in the tower because you must put green blocks on yellow blocks\n"
     ]
    },
    {
     "name": "stdout",
     "output_type": "stream",
     "text": [
      "[0.14359267 0.1349737  0.12958426]\n",
      "[0.08167725 0.08199679 0.21218659]\n",
      "[0.14359267 0.1349737  0.12958426]\n",
      "[0.08013978 0.08045469 0.21535268]\n",
      "[0.14224084 0.13316609 0.12685545]\n",
      "[0.08013978 0.08045469 0.21535268]\n",
      "[0.14224084 0.13316609 0.12685545]\n",
      "[0.07865912 0.0789695  0.21812542]\n"
     ]
    },
    {
     "name": "stderr",
     "output_type": "stream",
     "text": [
      "T: No, now you cannot put b4 in the tower because you must put green blocks on yellow blocks\n"
     ]
    },
    {
     "name": "stdout",
     "output_type": "stream",
     "text": [
      "problem34.pddl reward: -24\n",
      "Parsing domain blocks-domain.pddl\n",
      "Parsing problem tworules/problem35.pddl\n"
     ]
    },
    {
     "name": "stderr",
     "output_type": "stream",
     "text": [
      "T: No, now you cannot put b4 in the tower because you must put green blocks on yellow blocks\n"
     ]
    },
    {
     "name": "stdout",
     "output_type": "stream",
     "text": [
      "[0.14373155 0.13184133 0.1255334 ]\n",
      "[0.14373155 0.13184133 0.1255334 ]\n",
      "[0.07723217 0.07753814 0.2205419 ]\n"
     ]
    },
    {
     "name": "stderr",
     "output_type": "stream",
     "text": [
      "T: No, now you cannot put b4 in the tower because you must put green blocks on yellow blocks\n"
     ]
    },
    {
     "name": "stdout",
     "output_type": "stream",
     "text": [
      "[0.14495506 0.13050314 0.12420378]\n",
      "[0.07723217 0.07753814 0.2205419 ]\n",
      "[0.14495506 0.13050314 0.12420378]\n",
      "[0.07585606 0.07615774 0.22263543]\n"
     ]
    },
    {
     "name": "stderr",
     "output_type": "stream",
     "text": [
      "T: No, now you cannot put b4 in the tower because you must put green blocks on yellow blocks\n"
     ]
    },
    {
     "name": "stdout",
     "output_type": "stream",
     "text": [
      "[0.14594137 0.1291569  0.12287123]\n",
      "[0.07585606 0.07615774 0.22263543]\n",
      "[0.14594137 0.1291569  0.12287123]\n",
      "[0.07452812 0.07482562 0.22443591]\n"
     ]
    },
    {
     "name": "stderr",
     "output_type": "stream",
     "text": [
      "T: No, now you cannot put b3 in the tower because you must put red blocks on blue blocks\n"
     ]
    },
    {
     "name": "stdout",
     "output_type": "stream",
     "text": [
      "[0.14671689 0.12780719 0.12153964]\n",
      "[0.07452812 0.07482562 0.22443591]\n",
      "[0.14671689 0.12780719 0.12153964]\n",
      "[0.07324587 0.07353929 0.22597029]\n",
      "[0.08279621 0.05990174 0.06653058]"
     ]
    },
    {
     "name": "stderr",
     "output_type": "stream",
     "text": [
      "T: No, now you cannot put b3 in the tower because you must put red blocks on blue blocks\n",
      "T: No, now you cannot put b4 in the tower because you must put green blocks on yellow blocks\n"
     ]
    },
    {
     "name": "stdout",
     "output_type": "stream",
     "text": [
      "\n",
      "[0.18972444 0.20831512 0.20145056]\n",
      "[0.08286548 0.05917213 0.06576649]\n",
      "[0.18972444 0.20831512 0.20145056]\n",
      "[0.08286548 0.05917213 0.06576649]\n",
      "[0.18486734 0.20457398 0.1937264 ]\n",
      "[0.08290277 0.05845994 0.06501936]\n",
      "[0.18486734 0.20457398 0.1937264 ]\n",
      "[0.14730492 0.12645786 0.1202123 ]\n",
      "[0.07324587 0.07353929 0.22597029]\n",
      "[0.14730492 0.12645786 0.1202123 ]\n",
      "[0.072007   0.07229644 0.22726284]\n",
      "problem35.pddl reward: -24\n",
      "Parsing domain blocks-domain.pddl\n",
      "Parsing problem tworules/problem36.pddl\n",
      "problem36.pddl reward: -10\n",
      "Parsing domain blocks-domain.pddl\n",
      "Parsing problem tworules/problem37.pddl\n"
     ]
    },
    {
     "name": "stderr",
     "output_type": "stream",
     "text": [
      "T: no, put green blocks on yellow blocks\n",
      "T: no, put green blocks on yellow blocks\n"
     ]
    },
    {
     "name": "stdout",
     "output_type": "stream",
     "text": [
      "(forall (?y) (or (not (yellow ?y)) (exists (?x) (and (green ?x) (on ?x ?y)))))\n",
      "[0.14730492 0.12645786 0.1202123 ]\n",
      "[0.07080736 0.07109159 0.22474661]\n",
      "(forall (?y) (or (not (yellow ?y)) (exists (?x) (and (green ?x) (on ?x ?y)))))\n",
      "[0.14730492 0.12645786 0.1202123 ]\n",
      "[0.06964704 0.06992624 0.22226974]\n",
      "problem37.pddl reward: -14\n",
      "Parsing domain blocks-domain.pddl\n",
      "Parsing problem tworules/problem38.pddl\n",
      "problem38.pddl reward: -10\n",
      "Parsing domain blocks-domain.pddl\n",
      "Parsing problem tworules/problem39.pddl\n",
      "problem39.pddl reward: -10\n",
      "Parsing domain blocks-domain.pddl\n",
      "Parsing problem tworules/problem4.pddl\n"
     ]
    },
    {
     "name": "stderr",
     "output_type": "stream",
     "text": [
      "T: no, put green blocks on yellow blocks\n",
      "T: no, put red blocks on blue blocks\n"
     ]
    },
    {
     "name": "stdout",
     "output_type": "stream",
     "text": [
      "(forall (?y) (or (not (yellow ?y)) (exists (?x) (and (green ?x) (on ?x ?y)))))\n",
      "[0.14730492 0.12645786 0.1202123 ]\n",
      "[0.06852618 0.06880177 0.22355875]\n",
      "(forall (?x) (or (not (red ?x)) (exists (?y) (and (blue ?y) (on ?x ?y)))))\n"
     ]
    },
    {
     "name": "stderr",
     "output_type": "stream",
     "text": [
      "T: no, put green blocks on yellow blocks\n"
     ]
    },
    {
     "name": "stdout",
     "output_type": "stream",
     "text": [
      "[0.0829105  0.05776458 0.06428865]\n",
      "[0.18486737 0.204574   0.19372643]\n",
      "(forall (?y) (or (not (yellow ?y)) (exists (?x) (and (green ?x) (on ?x ?y)))))\n",
      "[0.14730492 0.12645786 0.1202123 ]\n",
      "[0.06744082 0.06771289 0.22464689]\n"
     ]
    },
    {
     "name": "stderr",
     "output_type": "stream",
     "text": [
      "T: no, put green blocks on yellow blocks\n"
     ]
    },
    {
     "name": "stdout",
     "output_type": "stream",
     "text": [
      "(forall (?y) (or (not (yellow ?y)) (exists (?x) (and (green ?x) (on ?x ?y)))))\n",
      "[0.14730492 0.12645786 0.1202123 ]\n",
      "[0.0663893  0.06665793 0.22555132]\n"
     ]
    },
    {
     "name": "stderr",
     "output_type": "stream",
     "text": [
      "T: no, put red blocks on blue blocks\n",
      "T: no, put red blocks on blue blocks\n"
     ]
    },
    {
     "name": "stdout",
     "output_type": "stream",
     "text": [
      "(forall (?x) (or (not (red ?x)) (exists (?y) (and (blue ?y) (on ?x ?y)))))\n",
      "[0.08289086 0.05708546 0.06357383]\n",
      "[0.18486737 0.204574   0.19372643]\n",
      "(forall (?x) (or (not (red ?x)) (exists (?y) (and (blue ?y) (on ?x ?y)))))\n",
      "[0.08284591 0.05642201 0.0628744 ]\n",
      "[0.18486737 0.204574   0.19372643]\n"
     ]
    },
    {
     "name": "stderr",
     "output_type": "stream",
     "text": [
      "T: no, put red blocks on blue blocks\n",
      "T: no, put red blocks on blue blocks\n"
     ]
    },
    {
     "name": "stdout",
     "output_type": "stream",
     "text": [
      "(forall (?x) (or (not (red ?x)) (exists (?y) (and (blue ?y) (on ?x ?y)))))\n",
      "[0.08277755 0.05577371 0.06218989]\n",
      "[0.18486737 0.204574   0.19372643]\n",
      "(forall (?x) (or (not (red ?x)) (exists (?y) (and (blue ?y) (on ?x ?y)))))\n"
     ]
    },
    {
     "name": "stderr",
     "output_type": "stream",
     "text": [
      "T: no, put red blocks on blue blocks\n"
     ]
    },
    {
     "name": "stdout",
     "output_type": "stream",
     "text": [
      "[0.08268752 0.05514004 0.06151984]\n",
      "[0.18486737 0.204574   0.19372643]\n",
      "(forall (?x) (or (not (red ?x)) (exists (?y) (and (blue ?y) (on ?x ?y)))))\n",
      "[0.08257746 0.05452053 0.06086381]\n",
      "[0.18486737 0.204574   0.19372643]\n",
      "problem4.pddl reward: -28\n",
      "Parsing domain blocks-domain.pddl\n",
      "Parsing problem tworules/problem40.pddl\n"
     ]
    },
    {
     "name": "stderr",
     "output_type": "stream",
     "text": [
      "T: no, put red blocks on blue blocks\n"
     ]
    },
    {
     "name": "stdout",
     "output_type": "stream",
     "text": [
      "(forall (?x) (or (not (red ?x)) (exists (?y) (and (blue ?y) (on ?x ?y)))))\n",
      "[0.081872   0.05393725 0.0604644 ]\n",
      "[0.18456135 0.20425681 0.1933288 ]\n"
     ]
    },
    {
     "name": "stderr",
     "output_type": "stream",
     "text": [
      "T: no, put red blocks on blue blocks\n",
      "T: no, put red blocks on blue blocks\n"
     ]
    },
    {
     "name": "stdout",
     "output_type": "stream",
     "text": [
      "(forall (?x) (or (not (red ?x)) (exists (?y) (and (blue ?y) (on ?x ?y)))))\n",
      "[0.08111987 0.05331905 0.06003481]\n",
      "[0.18453542 0.20422992 0.19329515]\n",
      "(forall (?x) (or (not (red ?x)) (exists (?y) (and (blue ?y) (on ?x ?y)))))\n",
      "[0.08037521 0.05271065 0.05960574]\n",
      "[0.18453692 0.20422953 0.19329453]\n",
      "problem40.pddl reward: -16\n",
      "Parsing domain blocks-domain.pddl\n",
      "Parsing problem tworules/problem41.pddl\n"
     ]
    },
    {
     "name": "stderr",
     "output_type": "stream",
     "text": [
      "T: no, put red blocks on blue blocks\n",
      "T: No, now you cannot put b4 in the tower because you must put green blocks on yellow blocks\n"
     ]
    },
    {
     "name": "stdout",
     "output_type": "stream",
     "text": [
      "(forall (?x) (or (not (red ?x)) (exists (?y) (and (blue ?y) (on ?x ?y)))))\n",
      "[0.08024879 0.05214663 0.05900909]\n",
      "[0.18454032 0.20422825 0.19329329]\n"
     ]
    },
    {
     "name": "stderr",
     "output_type": "stream",
     "text": [
      "T: no, put red blocks on blue blocks\n"
     ]
    },
    {
     "name": "stdout",
     "output_type": "stream",
     "text": [
      "[0.1454755  0.12474551 0.11808317]\n",
      "[0.0663893  0.06665793 0.22555132]\n",
      "[0.1454755  0.12474551 0.11808317]\n",
      "[0.06537007 0.06563533 0.2239488 ]\n",
      "(forall (?x) (or (not (red ?x)) (exists (?y) (and (blue ?y) (on ?x ?y)))))\n",
      "[0.08010702 0.05159435 0.05842385]\n",
      "[0.18454032 0.20422825 0.19329329]\n"
     ]
    },
    {
     "name": "stderr",
     "output_type": "stream",
     "text": [
      "T: no, put red blocks on blue blocks\n"
     ]
    },
    {
     "name": "stdout",
     "output_type": "stream",
     "text": [
      "(forall (?x) (or (not (red ?x)) (exists (?y) (and (blue ?y) (on ?x ?y)))))\n",
      "[0.07995107 0.05105358 0.05784984]\n",
      "[0.18454032 0.20422825 0.19329329]\n"
     ]
    },
    {
     "name": "stderr",
     "output_type": "stream",
     "text": [
      "T: No, now you cannot put b0 in the tower because you must put red blocks on blue blocks\n"
     ]
    },
    {
     "name": "stdout",
     "output_type": "stream",
     "text": [
      "[0.07995107 0.05105358 0.05784984]\n",
      "[0.17989726 0.20042039 0.18949182]\n",
      "[0.07971054 0.05052396 0.05728675]\n",
      "[0.17989726 0.20042039 0.18949182]\n",
      "problem41.pddl reward: -20\n",
      "Parsing domain blocks-domain.pddl\n",
      "Parsing problem tworules/problem42.pddl\n"
     ]
    },
    {
     "name": "stderr",
     "output_type": "stream",
     "text": [
      "T: No, now you cannot put b1 in the tower because you must put red blocks on blue blocks\n",
      "T: No, now you cannot put b1 in the tower because you must put red blocks on blue blocks\n"
     ]
    },
    {
     "name": "stdout",
     "output_type": "stream",
     "text": [
      "[0.07971054 0.05052396 0.05728675]\n",
      "[0.17541911 0.19985134 0.18418726]\n",
      "[0.07925841 0.05000514 0.05673427]\n",
      "[0.17541911 0.19985134 0.18418726]\n"
     ]
    },
    {
     "name": "stderr",
     "output_type": "stream",
     "text": [
      "T: No, now you cannot put b0 in the tower because you must put green blocks on yellow blocks\n"
     ]
    },
    {
     "name": "stdout",
     "output_type": "stream",
     "text": [
      "[0.07925841 0.05000514 0.05673427]\n",
      "[0.17110716 0.19883814 0.17914142]\n",
      "[0.07880686 0.04949682 0.05619213]\n",
      "[0.17110716 0.19883814 0.17914142]\n"
     ]
    },
    {
     "name": "stderr",
     "output_type": "stream",
     "text": [
      "T: No, now you cannot put b0 in the tower because you must put green blocks on yellow blocks\n"
     ]
    },
    {
     "name": "stdout",
     "output_type": "stream",
     "text": [
      "[0.14268024 0.12298422 0.11599141]\n",
      "[0.06537007 0.06563533 0.2239488 ]\n",
      "[0.14268024 0.12298422 0.11599141]\n",
      "[0.06438165 0.06464363 0.22233643]\n"
     ]
    },
    {
     "name": "stderr",
     "output_type": "stream",
     "text": [
      "T: No, now you cannot put b0 in the tower because you must put green blocks on yellow blocks\n"
     ]
    },
    {
     "name": "stdout",
     "output_type": "stream",
     "text": [
      "[0.13999037 0.12126439 0.11397157]\n",
      "[0.06438165 0.06464363 0.22233643]\n",
      "[0.13999037 0.12126439 0.11397157]\n",
      "[0.06342268 0.06368145 0.22071735]\n"
     ]
    },
    {
     "name": "stderr",
     "output_type": "stream",
     "text": [
      "T: No, now you cannot put b0 in the tower because you must put green blocks on yellow blocks\n"
     ]
    },
    {
     "name": "stdout",
     "output_type": "stream",
     "text": [
      "[0.13740004 0.11958514 0.11202004]\n",
      "[0.06342268 0.06368145 0.22071735]\n",
      "[0.13740004 0.11958514 0.11202004]\n",
      "[0.06249185 0.06274749 0.21909435]\n"
     ]
    },
    {
     "name": "stderr",
     "output_type": "stream",
     "text": [
      "T: No, now you cannot put b1 in the tower because you must put red blocks on blue blocks\n"
     ]
    },
    {
     "name": "stdout",
     "output_type": "stream",
     "text": [
      "[0.13490383 0.11794558 0.11013348]\n",
      "[0.06249185 0.06274749 0.21909435]\n",
      "[0.13490383 0.11794558 0.11013348]\n",
      "[0.06158795 0.06184052 0.21746991]\n"
     ]
    },
    {
     "name": "stderr",
     "output_type": "stream",
     "text": [
      "T: No, now you cannot put b0 in the tower because you must put green blocks on yellow blocks\n"
     ]
    },
    {
     "name": "stdout",
     "output_type": "stream",
     "text": [
      "[0.07880686 0.04949682 0.05619213]\n",
      "[0.16695992 0.19747654 0.17433978]\n",
      "[0.07835618 0.04899867 0.05566005]\n",
      "[0.16695992 0.19747654 0.17433978]\n",
      "[0.13249669 0.11634478 0.10830873]\n",
      "[0.06158795 0.06184052 0.21746991]\n",
      "[0.13249669 0.11634478 0.10830873]\n",
      "[0.06070982 0.0609594  0.21584623]\n",
      "problem42.pddl reward: -26\n",
      "Parsing domain blocks-domain.pddl\n",
      "Parsing problem tworules/problem43.pddl\n"
     ]
    },
    {
     "name": "stderr",
     "output_type": "stream",
     "text": [
      "T: no, put red blocks on blue blocks\n",
      "T: no, put red blocks on blue blocks\n"
     ]
    },
    {
     "name": "stdout",
     "output_type": "stream",
     "text": [
      "(forall (?x) (or (not (red ?x)) (exists (?y) (and (blue ?y) (on ?x ?y)))))\n",
      "[0.07813762 0.04858539 0.05521802]\n",
      "[0.16613725 0.19664327 0.17583217]\n",
      "(forall (?x) (or (not (red ?x)) (exists (?y) (and (blue ?y) (on ?x ?y)))))\n",
      "[0.07787279 0.04810523 0.05470378]\n",
      "[0.16613725 0.19664327 0.17583217]\n"
     ]
    },
    {
     "name": "stderr",
     "output_type": "stream",
     "text": [
      "T: no, put green blocks on yellow blocks\n",
      "T: no, put green blocks on yellow blocks\n"
     ]
    },
    {
     "name": "stdout",
     "output_type": "stream",
     "text": [
      "(forall (?y) (or (not (yellow ?y)) (exists (?x) (and (green ?x) (on ?x ?y)))))\n",
      "[0.13249669 0.11634478 0.10830873]\n",
      "[0.05985637 0.06010302 0.21713679]\n",
      "(forall (?y) (or (not (yellow ?y)) (exists (?x) (and (green ?x) (on ?x ?y)))))\n",
      "[0.13249669 0.11634478 0.10830873]\n",
      "[0.05902659 0.05927038 0.21826766]\n"
     ]
    },
    {
     "name": "stderr",
     "output_type": "stream",
     "text": [
      "T: no, put green blocks on yellow blocks\n"
     ]
    },
    {
     "name": "stdout",
     "output_type": "stream",
     "text": [
      "(forall (?y) (or (not (yellow ?y)) (exists (?x) (and (green ?x) (on ?x ?y)))))\n",
      "[0.13249669 0.11634478 0.10830873]\n",
      "[0.05821949 0.05846048 0.21925066]\n"
     ]
    },
    {
     "name": "stderr",
     "output_type": "stream",
     "text": [
      "T: no, put red blocks on blue blocks\n",
      "T: no, put red blocks on blue blocks\n"
     ]
    },
    {
     "name": "stdout",
     "output_type": "stream",
     "text": [
      "(forall (?x) (or (not (red ?x)) (exists (?y) (and (blue ?y) (on ?x ?y)))))\n",
      "[0.07760177 0.04763442 0.05419885]\n",
      "[0.16613725 0.19664327 0.17583217]\n",
      "(forall (?x) (or (not (red ?x)) (exists (?y) (and (blue ?y) (on ?x ?y)))))\n"
     ]
    },
    {
     "name": "stderr",
     "output_type": "stream",
     "text": [
      "T: no, put red blocks on blue blocks\n"
     ]
    },
    {
     "name": "stdout",
     "output_type": "stream",
     "text": [
      "[0.07732513 0.04717269 0.05370298]\n",
      "[0.16613725 0.19664327 0.17583217]\n",
      "(forall (?x) (or (not (red ?x)) (exists (?y) (and (blue ?y) (on ?x ?y)))))\n",
      "[0.07704338 0.04671978 0.05321594]\n",
      "[0.16613725 0.19664327 0.17583217]\n",
      "problem43.pddl reward: -26\n",
      "Parsing domain blocks-domain.pddl\n",
      "Parsing problem tworules/problem44.pddl\n"
     ]
    },
    {
     "name": "stderr",
     "output_type": "stream",
     "text": [
      "T: no, put red blocks on blue blocks\n"
     ]
    },
    {
     "name": "stdout",
     "output_type": "stream",
     "text": [
      "(forall (?x) (or (not (red ?x)) (exists (?y) (and (blue ?y) (on ?x ?y)))))\n",
      "[0.07703044 0.04627544 0.05273751]\n"
     ]
    },
    {
     "name": "stderr",
     "output_type": "stream",
     "text": [
      "T: no, put red blocks on blue blocks\n"
     ]
    },
    {
     "name": "stdout",
     "output_type": "stream",
     "text": [
      "(forall (?x) (or (not (red ?x)) (exists (?y) (and (blue ?y) (on ?x ?y)))))\n",
      "[0.07700235 0.04583944 0.05226745]\n",
      "[0.16613725 0.19664327 0.17583217]\n"
     ]
    },
    {
     "name": "stderr",
     "output_type": "stream",
     "text": [
      "T: no, put red blocks on blue blocks\n",
      "T: no, put red blocks on blue blocks\n"
     ]
    },
    {
     "name": "stdout",
     "output_type": "stream",
     "text": [
      "(forall (?x) (or (not (red ?x)) (exists (?y) (and (blue ?y) (on ?x ?y)))))\n",
      "[0.07696002 0.04541154 0.05180556]\n",
      "[0.16613725 0.19664327 0.17583217]\n",
      "(forall (?x) (or (not (red ?x)) (exists (?y) (and (blue ?y) (on ?x ?y)))))\n"
     ]
    },
    {
     "name": "stderr",
     "output_type": "stream",
     "text": [
      "T: no, put red blocks on blue blocks\n"
     ]
    },
    {
     "name": "stdout",
     "output_type": "stream",
     "text": [
      "[0.07690431 0.04499152 0.05135164]\n",
      "[0.16613725 0.19664327 0.17583217]\n",
      "(forall (?x) (or (not (red ?x)) (exists (?y) (and (blue ?y) (on ?x ?y)))))\n",
      "[0.07683602 0.04457916 0.05090547]\n",
      "[0.16613725 0.19664327 0.17583217]\n"
     ]
    },
    {
     "name": "stderr",
     "output_type": "stream",
     "text": [
      "T: No, now you cannot put b2 in the tower because you must put green blocks on yellow blocks\n",
      "T: no, put red blocks on blue blocks\n"
     ]
    },
    {
     "name": "stdout",
     "output_type": "stream",
     "text": [
      "[0.13150166 0.11485161 0.10655502]\n",
      "[0.05821949 0.05846048 0.21925066]\n",
      "[0.13150166 0.11485161 0.10655502]\n",
      "[0.05743363 0.057671   0.21739918]\n",
      "(forall (?x) (or (not (red ?x)) (exists (?y) (and (blue ?y) (on ?x ?y)))))\n",
      "[0.07675592 0.04417426 0.05046687]\n",
      "[0.16613725 0.19664327 0.17583217]\n"
     ]
    },
    {
     "name": "stderr",
     "output_type": "stream",
     "text": [
      "T: No, now you cannot put b2 in the tower because you must put green blocks on yellow blocks\n",
      "T: no, put red blocks on blue blocks\n"
     ]
    },
    {
     "name": "stdout",
     "output_type": "stream",
     "text": [
      "[0.13049345 0.11339036 0.10485655]\n",
      "[0.05743363 0.057671   0.21739918]\n",
      "[0.13049345 0.11339036 0.10485655]\n",
      "[0.05666869 0.05690257 0.2155666 ]\n",
      "(forall (?x) (or (not (red ?x)) (exists (?y) (and (blue ?y) (on ?x ?y)))))\n",
      "[0.07666471 0.04377662 0.05003565]\n",
      "[0.16613725 0.19664327 0.17583217]\n"
     ]
    },
    {
     "name": "stderr",
     "output_type": "stream",
     "text": [
      "T: no, put red blocks on blue blocks\n",
      "T: no, put red blocks on blue blocks\n"
     ]
    },
    {
     "name": "stdout",
     "output_type": "stream",
     "text": [
      "(forall (?x) (or (not (red ?x)) (exists (?y) (and (blue ?y) (on ?x ?y)))))\n",
      "[0.07656308 0.04338604 0.04961163]\n",
      "[0.16613725 0.19664327 0.17583217]\n",
      "(forall (?x) (or (not (red ?x)) (exists (?y) (and (blue ?y) (on ?x ?y)))))\n",
      "[0.07645166 0.04300235 0.04919463]\n",
      "[0.16613725 0.19664327 0.17583217]\n",
      "problem44.pddl reward: -32\n",
      "Parsing domain blocks-domain.pddl\n",
      "Parsing problem tworules/problem45.pddl\n"
     ]
    },
    {
     "name": "stderr",
     "output_type": "stream",
     "text": [
      "T: No, now you cannot put b4 in the tower because you must put green blocks on yellow blocks\n"
     ]
    },
    {
     "name": "stdout",
     "output_type": "stream",
     "text": [
      "[0.12956248 0.1128023  0.10310345]\n",
      "[0.05666869 0.05690257 0.2155666 ]\n",
      "[0.12956248 0.1128023  0.10310345]\n",
      "[0.05592386 0.05615434 0.21375342]\n",
      "problem45.pddl reward: -12\n",
      "Parsing domain blocks-domain.pddl\n",
      "Parsing problem tworules/problem46.pddl\n"
     ]
    },
    {
     "name": "stderr",
     "output_type": "stream",
     "text": [
      "T: No, now you cannot put b2 in the tower because you must put red blocks on blue blocks\n",
      "T: No, now you cannot put b2 in the tower because you must put red blocks on blue blocks\n"
     ]
    },
    {
     "name": "stdout",
     "output_type": "stream",
     "text": [
      "[0.07645166 0.04300235 0.04919463]\n",
      "[0.16219193 0.19436254 0.17022196]\n",
      "[0.07629599 0.04262535 0.04878449]\n",
      "[0.16219193 0.19436254 0.17022196]\n",
      "[0.07629599 0.04262535 0.04878449]\n",
      "[0.15840094 0.19195872 0.16495867]\n",
      "[0.07613299 0.04225489 0.04838103]\n",
      "[0.15840094 0.19195872 0.16495867]\n"
     ]
    },
    {
     "name": "stderr",
     "output_type": "stream",
     "text": [
      "T: No, now you cannot put b2 in the tower because you must put red blocks on blue blocks\n"
     ]
    },
    {
     "name": "stdout",
     "output_type": "stream",
     "text": [
      "[0.07613299 0.04225489 0.04838103]\n",
      "[0.15475897 0.18946826 0.16001108]\n",
      "[0.07596312 0.04189078 0.04798411]\n",
      "[0.15475897 0.18946826 0.16001108]\n",
      "problem46.pddl reward: -16\n",
      "Parsing domain blocks-domain.pddl\n",
      "Parsing problem tworules/problem47.pddl\n"
     ]
    },
    {
     "name": "stderr",
     "output_type": "stream",
     "text": [
      "T: no, put red blocks on blue blocks\n"
     ]
    },
    {
     "name": "stdout",
     "output_type": "stream",
     "text": [
      "(forall (?x) (or (not (red ?x)) (exists (?y) (and (blue ?y) (on ?x ?y)))))\n",
      "[0.07578685 0.04153287 0.04759356]\n"
     ]
    },
    {
     "name": "stderr",
     "output_type": "stream",
     "text": [
      "T: no, put green blocks on yellow blocks\n"
     ]
    },
    {
     "name": "stdout",
     "output_type": "stream",
     "text": [
      "(forall (?y) (or (not (yellow ?y)) (exists (?x) (and (green ?x) (on ?x ?y)))))\n",
      "[0.12956248 0.1128023  0.10310345]\n",
      "[0.05519836 0.05542553 0.21196002]\n"
     ]
    },
    {
     "name": "stderr",
     "output_type": "stream",
     "text": [
      "T: no, put red blocks on blue blocks\n"
     ]
    },
    {
     "name": "stdout",
     "output_type": "stream",
     "text": [
      "(forall (?x) (or (not (red ?x)) (exists (?y) (and (blue ?y) (on ?x ?y)))))\n",
      "[0.07571746 0.041181   0.04720924]\n",
      "[0.15475897 0.18946826 0.16001108]\n",
      "problem47.pddl reward: -16\n",
      "Parsing domain blocks-domain.pddl\n",
      "Parsing problem tworules/problem48.pddl\n"
     ]
    },
    {
     "name": "stderr",
     "output_type": "stream",
     "text": [
      "T: no, put green blocks on yellow blocks\n",
      "T: no, put green blocks on yellow blocks\n"
     ]
    },
    {
     "name": "stdout",
     "output_type": "stream",
     "text": [
      "(forall (?y) (or (not (yellow ?y)) (exists (?x) (and (green ?x) (on ?x ?y)))))\n",
      "[0.12956248 0.1128023  0.10310345]\n",
      "[0.05449143 0.05471539 0.21018673]\n",
      "(forall (?y) (or (not (yellow ?y)) (exists (?x) (and (green ?x) (on ?x ?y)))))\n",
      "[0.12956248 0.1128023  0.10310345]\n",
      "[0.05380239 0.05402323 0.20843379]\n"
     ]
    },
    {
     "name": "stderr",
     "output_type": "stream",
     "text": [
      "T: no, put green blocks on yellow blocks\n",
      "T: no, put green blocks on yellow blocks\n"
     ]
    },
    {
     "name": "stdout",
     "output_type": "stream",
     "text": [
      "(forall (?y) (or (not (yellow ?y)) (exists (?x) (and (green ?x) (on ?x ?y)))))\n",
      "[0.12956248 0.1128023  0.10310345]\n",
      "[0.05313055 0.05334835 0.20670139]\n",
      "(forall (?y) (or (not (yellow ?y)) (exists (?x) (and (green ?x) (on ?x ?y)))))\n",
      "[0.12956248 0.1128023  0.10310345]\n",
      "[0.05247528 0.05269013 0.20498965]\n"
     ]
    },
    {
     "name": "stderr",
     "output_type": "stream",
     "text": [
      "T: no, put green blocks on yellow blocks\n",
      "T: no, put green blocks on yellow blocks\n"
     ]
    },
    {
     "name": "stdout",
     "output_type": "stream",
     "text": [
      "(forall (?y) (or (not (yellow ?y)) (exists (?x) (and (green ?x) (on ?x ?y)))))\n",
      "[0.12956248 0.1128023  0.10310345]\n",
      "[0.0518369  0.05204957 0.20367773]\n",
      "(forall (?y) (or (not (yellow ?y)) (exists (?x) (and (green ?x) (on ?x ?y)))))\n",
      "[0.12956248 0.1128023  0.10310345]\n",
      "[0.05121386 0.0514244  0.20236807]\n"
     ]
    },
    {
     "name": "stderr",
     "output_type": "stream",
     "text": [
      "T: no, put green blocks on yellow blocks\n"
     ]
    },
    {
     "name": "stdout",
     "output_type": "stream",
     "text": [
      "(forall (?y) (or (not (yellow ?y)) (exists (?x) (and (green ?x) (on ?x ?y)))))\n",
      "[0.12956248 0.1128023  0.10310345]\n",
      "[0.05060562 0.05081407 0.20106166]\n",
      "problem48.pddl reward: -24\n",
      "Parsing domain blocks-domain.pddl\n",
      "Parsing problem tworules/problem49.pddl\n"
     ]
    },
    {
     "name": "stderr",
     "output_type": "stream",
     "text": [
      "T: No, now you cannot put b1 in the tower because you must put green blocks on yellow blocks\n",
      "T: No, now you cannot put b1 in the tower because you must put green blocks on yellow blocks\n"
     ]
    },
    {
     "name": "stdout",
     "output_type": "stream",
     "text": [
      "[0.12861837 0.11218784 0.10140796]\n",
      "[0.05060562 0.05081407 0.20106166]\n",
      "[0.12861837 0.11218784 0.10140796]\n",
      "[0.05001165 0.05021805 0.20255125]\n",
      "[0.12766401 0.11155063 0.09976728]\n",
      "[0.05001165 0.05021805 0.20255125]\n",
      "[0.12766401 0.11155063 0.09976728]\n",
      "[0.04943147 0.04963585 0.20391435]\n",
      "problem49.pddl reward: -14\n",
      "Parsing domain blocks-domain.pddl\n",
      "Parsing problem tworules/problem5.pddl"
     ]
    },
    {
     "name": "stderr",
     "output_type": "stream",
     "text": [
      "T: No, now you cannot put b3 in the tower because you must put red blocks on blue blocks\n",
      "T: No, now you cannot put b3 in the tower because you must put red blocks on blue blocks\n"
     ]
    },
    {
     "name": "stdout",
     "output_type": "stream",
     "text": [
      "\n",
      "[0.07571746 0.041181   0.04720924]\n",
      "[0.15141114 0.18585026 0.15572902]\n",
      "[0.07563849 0.04083503 0.04683099]\n",
      "[0.15141114 0.18585026 0.15572902]\n",
      "[0.07563849 0.04083503 0.04683099]"
     ]
    },
    {
     "name": "stderr",
     "output_type": "stream",
     "text": [
      "T: No, now you cannot put b3 in the tower because you must put red blocks on blue blocks\n",
      "T: No, now you cannot put b3 in the tower because you must put red blocks on blue blocks\n"
     ]
    },
    {
     "name": "stdout",
     "output_type": "stream",
     "text": [
      "\n",
      "[0.14818306 0.18232276 0.15166657]\n",
      "[0.07555047 0.0404948  0.04645869]\n",
      "[0.14818306 0.18232276 0.15166657]\n",
      "[0.07555047 0.0404948  0.04645869]\n",
      "[0.14507094 0.17888827 0.14780759]\n",
      "[0.07545392 0.04016017 0.04609218]\n",
      "[0.14507094 0.17888827 0.14780759]\n",
      "[0.07545392 0.04016017 0.04609218]\n",
      "[0.14207072 0.17554794 0.14413745]\n",
      "[0.07534931 0.03983101 0.04573135]\n",
      "[0.14207072 0.17554794 0.14413745]"
     ]
    },
    {
     "name": "stderr",
     "output_type": "stream",
     "text": [
      "T: No, now you cannot put b3 in the tower because you must put red blocks on blue blocks\n",
      "T: No, now you cannot put b4 in the tower because you must put green blocks on yellow blocks\n"
     ]
    },
    {
     "name": "stdout",
     "output_type": "stream",
     "text": [
      "\n",
      "[0.07534931 0.03983101 0.04573135]\n",
      "[0.13917818 0.17230184 0.14064286]\n",
      "[0.07523711 0.03950718 0.04537606]\n",
      "[0.13917818 0.17230184 0.14064286]\n",
      "[0.12834101 0.11058767 0.09892659]\n",
      "[0.04943147 0.04963585 0.20391435]\n",
      "[0.12834101 0.11058767 0.09892659]\n",
      "[0.04886459 0.049067   0.20515857]\n",
      "problem5.pddl reward: -22\n",
      "Parsing domain blocks-domain.pddl\n",
      "Parsing problem tworules/problem50.pddl\n",
      "problem50.pddl reward: -10\n",
      "Parsing domain blocks-domain.pddl\n",
      "Parsing problem tworules/problem6.pddl\n"
     ]
    },
    {
     "name": "stderr",
     "output_type": "stream",
     "text": [
      "T: No, now you cannot put b0 in the tower because you must put green blocks on yellow blocks\n",
      "T: No, now you cannot put b0 in the tower because you must put green blocks on yellow blocks\n"
     ]
    },
    {
     "name": "stdout",
     "output_type": "stream",
     "text": [
      "[0.12639897 0.10989198 0.0980874 ]\n",
      "[0.12639897 0.10989198 0.0980874 ]\n",
      "[0.04831056 0.04851103 0.20399915]\n"
     ]
    },
    {
     "name": "stderr",
     "output_type": "stream",
     "text": [
      "T: No, now you cannot put b0 in the tower because you must put green blocks on yellow blocks\n"
     ]
    },
    {
     "name": "stdout",
     "output_type": "stream",
     "text": [
      "[0.12451455 0.10918384 0.09725084]\n",
      "[0.04831056 0.04851103 0.20399915]\n",
      "[0.12451455 0.10918384 0.09725084]\n",
      "[0.04776895 0.04796752 0.20283882]\n"
     ]
    },
    {
     "name": "stderr",
     "output_type": "stream",
     "text": [
      "T: No, now you cannot put b0 in the tower because you must put green blocks on yellow blocks\n"
     ]
    },
    {
     "name": "stdout",
     "output_type": "stream",
     "text": [
      "[0.12268524 0.10846546 0.09641793]\n",
      "[0.04776895 0.04796752 0.20283882]\n",
      "[0.12268524 0.10846546 0.09641793]\n",
      "[0.04723936 0.04743605 0.20167855]\n"
     ]
    },
    {
     "name": "stderr",
     "output_type": "stream",
     "text": [
      "T: No, now you cannot put b0 in the tower because you must put green blocks on yellow blocks\n"
     ]
    },
    {
     "name": "stdout",
     "output_type": "stream",
     "text": [
      "[0.12090867 0.1077388  0.09558953]\n",
      "[0.04723936 0.04743605 0.20167855]\n",
      "[0.12090867 0.1077388  0.09558953]\n",
      "[0.04672137 0.04691623 0.20051918]\n"
     ]
    },
    {
     "name": "stderr",
     "output_type": "stream",
     "text": [
      "T: No, now you cannot put b0 in the tower because you must put green blocks on yellow blocks\n"
     ]
    },
    {
     "name": "stdout",
     "output_type": "stream",
     "text": [
      "[0.11918259 0.10700562 0.09476639]\n",
      "[0.04672137 0.04691623 0.20051918]\n",
      "[0.11918259 0.10700562 0.09476639]\n",
      "[0.04621463 0.04640768 0.19936152]\n"
     ]
    },
    {
     "name": "stderr",
     "output_type": "stream",
     "text": [
      "T: No, now you cannot put b0 in the tower because you must put green blocks on yellow blocks\n"
     ]
    },
    {
     "name": "stdout",
     "output_type": "stream",
     "text": [
      "[0.11750491 0.1062675  0.09394918]\n",
      "[0.04621463 0.04640768 0.19936152]\n",
      "[0.11750491 0.1062675  0.09394918]\n",
      "[0.04571875 0.04591003 0.19820629]\n",
      "[0.11626726 0.10549958 0.09486719]\n",
      "[0.04571875 0.04591003 0.19820629]\n",
      "[0.11626726 0.10549958 0.09486719]\n",
      "[0.0452334  0.04542295 0.19705413]\n",
      "problem6.pddl reward: -24\n",
      "Parsing domain blocks-domain.pddl\n",
      "Parsing problem tworules/problem7.pddl\n"
     ]
    },
    {
     "name": "stderr",
     "output_type": "stream",
     "text": [
      "T: no, put red blocks on blue blocks\n",
      "T: no, put red blocks on blue blocks\n"
     ]
    },
    {
     "name": "stdout",
     "output_type": "stream",
     "text": [
      "(forall (?x) (or (not (red ?x)) (exists (?y) (and (blue ?y) (on ?x ?y)))))\n",
      "[0.07512455 0.03918856 0.04502618]\n",
      "[0.13917818 0.17230184 0.14064286]\n",
      "(forall (?x) (or (not (red ?x)) (exists (?y) (and (blue ?y) (on ?x ?y)))))\n",
      "[0.07500502 0.03887502 0.0446816 ]\n",
      "[0.13917818 0.17230184 0.14064286]\n"
     ]
    },
    {
     "name": "stderr",
     "output_type": "stream",
     "text": [
      "T: no, put red blocks on blue blocks\n"
     ]
    },
    {
     "name": "stdout",
     "output_type": "stream",
     "text": [
      "(forall (?x) (or (not (red ?x)) (exists (?y) (and (blue ?y) (on ?x ?y)))))\n",
      "[0.0748789  0.03856644 0.0443422 ]\n",
      "[0.13917818 0.17230184 0.14064286]\n"
     ]
    },
    {
     "name": "stderr",
     "output_type": "stream",
     "text": [
      "T: no, put red blocks on blue blocks\n"
     ]
    },
    {
     "name": "stdout",
     "output_type": "stream",
     "text": [
      "(forall (?x) (or (not (red ?x)) (exists (?y) (and (blue ?y) (on ?x ?y)))))\n",
      "[0.07474657 0.03826271 0.04400786]\n",
      "[0.13917818 0.17230184 0.14064286]\n"
     ]
    },
    {
     "name": "stderr",
     "output_type": "stream",
     "text": [
      "T: no, put red blocks on blue blocks\n",
      "T: no, put red blocks on blue blocks\n"
     ]
    },
    {
     "name": "stdout",
     "output_type": "stream",
     "text": [
      "(forall (?x) (or (not (red ?x)) (exists (?y) (and (blue ?y) (on ?x ?y)))))\n",
      "[0.07460839 0.03796371 0.04367847]\n",
      "[0.13917818 0.17230184 0.14064286]\n",
      "(forall (?x) (or (not (red ?x)) (exists (?y) (and (blue ?y) (on ?x ?y)))))\n",
      "[0.07446471 0.03766933 0.04335392]\n",
      "[0.13917818 0.17230184 0.14064286]\n",
      "problem7.pddl reward: -22\n",
      "Parsing domain blocks-domain.pddl\n",
      "Parsing problem tworules/problem8.pddl"
     ]
    },
    {
     "name": "stderr",
     "output_type": "stream",
     "text": [
      "T: no, put red blocks on blue blocks\n"
     ]
    },
    {
     "name": "stdout",
     "output_type": "stream",
     "text": [
      "\n",
      "(forall (?x) (or (not (red ?x)) (exists (?y) (and (blue ?y) (on ?x ?y)))))\n",
      "[0.07388104 0.03743756 0.04304986]\n"
     ]
    },
    {
     "name": "stderr",
     "output_type": "stream",
     "text": [
      "T: No, now you cannot put b5 in the tower because you must put green blocks on yellow blocks\n"
     ]
    },
    {
     "name": "stdout",
     "output_type": "stream",
     "text": [
      "[0.11509139 0.10402604 0.09351278]\n",
      "[0.11509139 0.10402604 0.09351278]\n",
      "[0.04475814 0.04494545 0.19559606]\n"
     ]
    },
    {
     "name": "stderr",
     "output_type": "stream",
     "text": [
      "T: No, now you cannot put b5 in the tower because you must put green blocks on yellow blocks\n"
     ]
    },
    {
     "name": "stdout",
     "output_type": "stream",
     "text": [
      "[0.11393459 0.10259303 0.09219649]\n",
      "[0.04475814 0.04494545 0.19559606]\n",
      "[0.11393459 0.10259303 0.09219649]\n",
      "[0.04429277 0.0444779  0.19415525]\n"
     ]
    },
    {
     "name": "stderr",
     "output_type": "stream",
     "text": [
      "T: No, now you cannot put b5 in the tower because you must put green blocks on yellow blocks\n"
     ]
    },
    {
     "name": "stdout",
     "output_type": "stream",
     "text": [
      "[0.11279665 0.10119891 0.09091675]\n",
      "[0.04429277 0.0444779  0.19415525]\n",
      "[0.11279665 0.10119891 0.09091675]\n",
      "[0.04383697 0.04401996 0.19273157]\n",
      "problem8.pddl reward: -18\n",
      "Parsing domain blocks-domain.pddl\n",
      "Parsing problem tworules/problem9.pddl\n",
      "problem9.pddl reward: -10\n",
      "Parsing domain blocks-domain.pddl\n",
      "Parsing problem tworules/problem1.pddl\n"
     ]
    },
    {
     "name": "stderr",
     "output_type": "stream",
     "text": [
      "T: No, now you cannot put b1 in the tower because you must put green blocks on yellow blocks\n",
      "R: Is the top object green?\n",
      "T: yes\n"
     ]
    },
    {
     "name": "stdout",
     "output_type": "stream",
     "text": [
      "Parsing domain blocks-domain.pddl\n",
      "Parsing problem tworules/problem1.pddl\n",
      "[0.80318378 0.825      0.80996578]\n",
      "[1. 1. 1.]\n",
      "[0.80318378 0.825      0.80996578]\n",
      "[0.82307766 0.82307766 0.81046713]\n"
     ]
    },
    {
     "name": "stderr",
     "output_type": "stream",
     "text": [
      "T: No, now you cannot put b1 in the tower because you must put green blocks on yellow blocks\n"
     ]
    },
    {
     "name": "stdout",
     "output_type": "stream",
     "text": [
      "[0.82307766 0.82307766 0.81046713]\n"
     ]
    },
    {
     "name": "stderr",
     "output_type": "stream",
     "text": [
      "T: No, now you cannot put b1 in the tower because you must put green blocks on yellow blocks\n"
     ]
    },
    {
     "name": "stdout",
     "output_type": "stream",
     "text": [
      "[0.82307766 0.82307766 0.81046713]\n"
     ]
    },
    {
     "name": "stderr",
     "output_type": "stream",
     "text": [
      "T: No, now you cannot put b1 in the tower because you must put green blocks on yellow blocks\n"
     ]
    },
    {
     "name": "stdout",
     "output_type": "stream",
     "text": [
      "[0.82307766 0.82307766 0.81046713]\n"
     ]
    },
    {
     "name": "stderr",
     "output_type": "stream",
     "text": [
      "T: No, now you cannot put b1 in the tower because you must put green blocks on yellow blocks\n"
     ]
    },
    {
     "name": "stdout",
     "output_type": "stream",
     "text": [
      "[0.82307766 0.82307766 0.81046713]\n",
      "problem1.pddl reward: -20\n",
      "Parsing domain blocks-domain.pddl\n",
      "Parsing problem tworules/problem10.pddl\n"
     ]
    },
    {
     "name": "stderr",
     "output_type": "stream",
     "text": [
      "T: No, now you cannot put b4 in the tower because you must put red blocks on blue blocks\n",
      "R: Is the top object red?\n",
      "T: no\n"
     ]
    },
    {
     "name": "stdout",
     "output_type": "stream",
     "text": [
      "[1. 1. 1.]\n",
      "[0.8060073  0.80077855 0.81461938]\n",
      "[0.80000038 0.825      0.825     ]\n",
      "[0.8060073  0.80077855 0.81461938]\n",
      "problem10.pddl reward: -12\n",
      "Parsing domain blocks-domain.pddl\n",
      "Parsing problem tworules/problem11.pddl\n"
     ]
    },
    {
     "name": "stderr",
     "output_type": "stream",
     "text": [
      "T: no, put red blocks on blue blocks\n"
     ]
    },
    {
     "name": "stdout",
     "output_type": "stream",
     "text": [
      "(forall (?x) (or (not (red ?x)) (exists (?y) (and (blue ?y) (on ?x ?y)))))\n",
      "[0.67098167 0.68901235 0.68901235]\n"
     ]
    },
    {
     "name": "stderr",
     "output_type": "stream",
     "text": [
      "T: no, put red blocks on blue blocks\n"
     ]
    },
    {
     "name": "stdout",
     "output_type": "stream",
     "text": [
      "(forall (?x) (or (not (red ?x)) (exists (?y) (and (blue ?y) (on ?x ?y)))))\n",
      "[0.5769763  0.59123016 0.59123016]\n"
     ]
    },
    {
     "name": "stderr",
     "output_type": "stream",
     "text": [
      "T: no, put red blocks on blue blocks\n"
     ]
    },
    {
     "name": "stdout",
     "output_type": "stream",
     "text": [
      "(forall (?x) (or (not (red ?x)) (exists (?y) (and (blue ?y) (on ?x ?y)))))\n",
      "[0.8060073  0.80077855 0.81461938]\n"
     ]
    },
    {
     "name": "stderr",
     "output_type": "stream",
     "text": [
      "T: no, put red blocks on blue blocks\n"
     ]
    },
    {
     "name": "stdout",
     "output_type": "stream",
     "text": [
      "(forall (?x) (or (not (red ?x)) (exists (?y) (and (blue ?y) (on ?x ?y)))))\n"
     ]
    },
    {
     "name": "stderr",
     "output_type": "stream",
     "text": [
      "T: no, put red blocks on blue blocks\n"
     ]
    },
    {
     "name": "stdout",
     "output_type": "stream",
     "text": [
      "(forall (?x) (or (not (red ?x)) (exists (?y) (and (blue ?y) (on ?x ?y)))))\n",
      "[0.8060073  0.80077855 0.81461938]\n"
     ]
    },
    {
     "name": "stderr",
     "output_type": "stream",
     "text": [
      "T: no, put red blocks on blue blocks\n"
     ]
    },
    {
     "name": "stdout",
     "output_type": "stream",
     "text": [
      "(forall (?x) (or (not (red ?x)) (exists (?y) (and (blue ?y) (on ?x ?y)))))\n"
     ]
    },
    {
     "name": "stderr",
     "output_type": "stream",
     "text": [
      "T: no, put red blocks on blue blocks\n"
     ]
    },
    {
     "name": "stdout",
     "output_type": "stream",
     "text": [
      "(forall (?x) (or (not (red ?x)) (exists (?y) (and (blue ?y) (on ?x ?y)))))\n",
      "[0.8060073  0.80077855 0.81461938]\n"
     ]
    },
    {
     "name": "stderr",
     "output_type": "stream",
     "text": [
      "T: no, put red blocks on blue blocks\n"
     ]
    },
    {
     "name": "stdout",
     "output_type": "stream",
     "text": [
      "(forall (?x) (or (not (red ?x)) (exists (?y) (and (blue ?y) (on ?x ?y)))))\n"
     ]
    },
    {
     "name": "stderr",
     "output_type": "stream",
     "text": [
      "T: no, put red blocks on blue blocks\n"
     ]
    },
    {
     "name": "stdout",
     "output_type": "stream",
     "text": [
      "(forall (?x) (or (not (red ?x)) (exists (?y) (and (blue ?y) (on ?x ?y)))))\n",
      "[0.8060073  0.80077855 0.81461938]\n"
     ]
    },
    {
     "name": "stderr",
     "output_type": "stream",
     "text": [
      "T: no, put red blocks on blue blocks\n"
     ]
    },
    {
     "name": "stdout",
     "output_type": "stream",
     "text": [
      "(forall (?x) (or (not (red ?x)) (exists (?y) (and (blue ?y) (on ?x ?y)))))\n"
     ]
    },
    {
     "name": "stderr",
     "output_type": "stream",
     "text": [
      "T: no, put red blocks on blue blocks\n"
     ]
    },
    {
     "name": "stdout",
     "output_type": "stream",
     "text": [
      "(forall (?x) (or (not (red ?x)) (exists (?y) (and (blue ?y) (on ?x ?y)))))\n"
     ]
    },
    {
     "name": "stderr",
     "output_type": "stream",
     "text": [
      "T: no, put red blocks on blue blocks\n"
     ]
    },
    {
     "name": "stdout",
     "output_type": "stream",
     "text": [
      "(forall (?x) (or (not (red ?x)) (exists (?y) (and (blue ?y) (on ?x ?y)))))\n",
      "[0.8060073  0.80077855 0.81461938]\n",
      "problem11.pddl reward: -34\n",
      "Parsing domain blocks-domain.pddl\n",
      "Parsing problem tworules/problem12.pddl\n"
     ]
    },
    {
     "name": "stderr",
     "output_type": "stream",
     "text": [
      "T: No, now you cannot put b4 in the tower because you must put red blocks on blue blocks\n",
      "R: Is the top object red?\n",
      "T: no\n"
     ]
    },
    {
     "name": "stdout",
     "output_type": "stream",
     "text": [
      "[0.5769763  0.59123016 0.59123016]\n",
      "[0.67169678 0.66914819 0.68515571]\n",
      "[0.50582507 0.51766667 0.51766667]\n",
      "[0.67169678 0.66914819 0.68515571]\n"
     ]
    },
    {
     "name": "stderr",
     "output_type": "stream",
     "text": [
      "T: No, now you cannot put b4 in the tower because you must put red blocks on blue blocks\n"
     ]
    },
    {
     "name": "stdout",
     "output_type": "stream",
     "text": [
      "[0.50582507 0.51766667 0.51766667]\n"
     ]
    },
    {
     "name": "stderr",
     "output_type": "stream",
     "text": [
      "T: no, put red blocks on blue blocks\n"
     ]
    },
    {
     "name": "stdout",
     "output_type": "stream",
     "text": [
      "(forall (?x) (or (not (red ?x)) (exists (?y) (and (blue ?y) (on ?x ?y)))))\n",
      "[0.67169678 0.66914819 0.68515571]\n",
      "problem12.pddl reward: -16\n",
      "Parsing domain blocks-domain.pddl\n",
      "Parsing problem tworules/problem13.pddl\n"
     ]
    },
    {
     "name": "stderr",
     "output_type": "stream",
     "text": [
      "T: no, put red blocks on blue blocks\n"
     ]
    },
    {
     "name": "stdout",
     "output_type": "stream",
     "text": [
      "(forall (?x) (or (not (red ?x)) (exists (?y) (and (blue ?y) (on ?x ?y)))))\n",
      "[0.46471673 0.47166596 0.47109971]\n",
      "[0.64960383 0.64725833 0.67316287]\n"
     ]
    },
    {
     "name": "stderr",
     "output_type": "stream",
     "text": [
      "T: no, put red blocks on blue blocks\n"
     ]
    },
    {
     "name": "stdout",
     "output_type": "stream",
     "text": [
      "(forall (?x) (or (not (red ?x)) (exists (?y) (and (blue ?y) (on ?x ?y)))))\n",
      "[0.64426421 0.64383042 0.66794265]\n"
     ]
    },
    {
     "name": "stderr",
     "output_type": "stream",
     "text": [
      "T: no, put red blocks on blue blocks\n"
     ]
    },
    {
     "name": "stdout",
     "output_type": "stream",
     "text": [
      "(forall (?x) (or (not (red ?x)) (exists (?y) (and (blue ?y) (on ?x ?y)))))\n",
      "[0.4197775  0.42644577 0.42659304]\n"
     ]
    },
    {
     "name": "stderr",
     "output_type": "stream",
     "text": [
      "T: no, put red blocks on blue blocks\n"
     ]
    },
    {
     "name": "stdout",
     "output_type": "stream",
     "text": [
      "(forall (?x) (or (not (red ?x)) (exists (?y) (and (blue ?y) (on ?x ?y)))))\n",
      "[0.64392818 0.64330704 0.66718053]\n"
     ]
    },
    {
     "name": "stderr",
     "output_type": "stream",
     "text": [
      "T: no, put red blocks on blue blocks\n"
     ]
    },
    {
     "name": "stdout",
     "output_type": "stream",
     "text": [
      "(forall (?x) (or (not (red ?x)) (exists (?y) (and (blue ?y) (on ?x ?y)))))\n"
     ]
    },
    {
     "name": "stderr",
     "output_type": "stream",
     "text": [
      "T: no, put red blocks on blue blocks\n"
     ]
    },
    {
     "name": "stdout",
     "output_type": "stream",
     "text": [
      "(forall (?x) (or (not (red ?x)) (exists (?y) (and (blue ?y) (on ?x ?y)))))\n",
      "[0.64387898 0.64321753 0.66706015]\n"
     ]
    },
    {
     "name": "stderr",
     "output_type": "stream",
     "text": [
      "T: no, put red blocks on blue blocks\n"
     ]
    },
    {
     "name": "stdout",
     "output_type": "stream",
     "text": [
      "(forall (?x) (or (not (red ?x)) (exists (?y) (and (blue ?y) (on ?x ?y)))))\n"
     ]
    },
    {
     "name": "stderr",
     "output_type": "stream",
     "text": [
      "T: no, put red blocks on blue blocks\n"
     ]
    },
    {
     "name": "stdout",
     "output_type": "stream",
     "text": [
      "(forall (?x) (or (not (red ?x)) (exists (?y) (and (blue ?y) (on ?x ?y)))))\n",
      "[0.64386622 0.64320103 0.6670567 ]\n"
     ]
    },
    {
     "name": "stderr",
     "output_type": "stream",
     "text": [
      "T: no, put red blocks on blue blocks\n"
     ]
    },
    {
     "name": "stdout",
     "output_type": "stream",
     "text": [
      "(forall (?x) (or (not (red ?x)) (exists (?y) (and (blue ?y) (on ?x ?y)))))\n"
     ]
    },
    {
     "name": "stderr",
     "output_type": "stream",
     "text": [
      "T: no, put red blocks on blue blocks\n"
     ]
    },
    {
     "name": "stdout",
     "output_type": "stream",
     "text": [
      "(forall (?x) (or (not (red ?x)) (exists (?y) (and (blue ?y) (on ?x ?y)))))\n",
      "problem13.pddl reward: -30\n",
      "Parsing domain blocks-domain.pddl\n",
      "Parsing problem tworules/problem14.pddl\n"
     ]
    },
    {
     "name": "stderr",
     "output_type": "stream",
     "text": [
      "T: no, put red blocks on blue blocks\n"
     ]
    },
    {
     "name": "stdout",
     "output_type": "stream",
     "text": [
      "(forall (?x) (or (not (red ?x)) (exists (?y) (and (blue ?y) (on ?x ?y)))))\n",
      "[0.3821855  0.38852298 0.3891058 ]\n"
     ]
    },
    {
     "name": "stderr",
     "output_type": "stream",
     "text": [
      "T: no, put red blocks on blue blocks\n"
     ]
    },
    {
     "name": "stdout",
     "output_type": "stream",
     "text": [
      "(forall (?x) (or (not (red ?x)) (exists (?y) (and (blue ?y) (on ?x ?y)))))\n",
      "[0.64386622 0.64320103 0.6670567 ]\n"
     ]
    },
    {
     "name": "stderr",
     "output_type": "stream",
     "text": [
      "T: no, put red blocks on blue blocks\n"
     ]
    },
    {
     "name": "stdout",
     "output_type": "stream",
     "text": [
      "(forall (?x) (or (not (red ?x)) (exists (?y) (and (blue ?y) (on ?x ?y)))))\n",
      "[0.64386622 0.64320103 0.6670567 ]\n"
     ]
    },
    {
     "name": "stderr",
     "output_type": "stream",
     "text": [
      "T: no, put red blocks on blue blocks\n"
     ]
    },
    {
     "name": "stdout",
     "output_type": "stream",
     "text": [
      "(forall (?x) (or (not (red ?x)) (exists (?y) (and (blue ?y) (on ?x ?y)))))\n",
      "[0.64386622 0.64320103 0.6670567 ]\n"
     ]
    },
    {
     "name": "stderr",
     "output_type": "stream",
     "text": [
      "T: No, now you cannot put b2 in the tower because you must put green blocks on yellow blocks\n"
     ]
    },
    {
     "name": "stdout",
     "output_type": "stream",
     "text": [
      "[0.7027769  0.72211324 0.71065681]\n",
      "[0.67579687 0.68976745 0.68847721]\n",
      "[0.72547841 0.72547841 0.71154032]\n"
     ]
    },
    {
     "name": "stderr",
     "output_type": "stream",
     "text": [
      "T: No, now you cannot put b2 in the tower because you must put green blocks on yellow blocks\n",
      "T: No, now you cannot put b2 in the tower because you must put green blocks on yellow blocks\n"
     ]
    },
    {
     "name": "stdout",
     "output_type": "stream",
     "text": [
      "[0.72547497 0.72547497 0.71153063]\n",
      "problem14.pddl reward: -24\n",
      "Parsing domain blocks-domain.pddl\n",
      "Parsing problem tworules/problem15.pddl\n"
     ]
    },
    {
     "name": "stderr",
     "output_type": "stream",
     "text": [
      "T: no, put red blocks on blue blocks\n"
     ]
    },
    {
     "name": "stdout",
     "output_type": "stream",
     "text": [
      "(forall (?x) (or (not (red ?x)) (exists (?y) (and (blue ?y) (on ?x ?y)))))\n",
      "[0.36359101 0.36046003 0.36128342]\n",
      "[0.63834564 0.63355517 0.65423126]\n"
     ]
    },
    {
     "name": "stderr",
     "output_type": "stream",
     "text": [
      "T: no, put red blocks on blue blocks\n"
     ]
    },
    {
     "name": "stdout",
     "output_type": "stream",
     "text": [
      "(forall (?x) (or (not (red ?x)) (exists (?y) (and (blue ?y) (on ?x ?y)))))\n",
      "[0.63601461 0.63138492 0.65171592]\n",
      "problem15.pddl reward: -14\n",
      "Parsing domain blocks-domain.pddl\n",
      "Parsing problem tworules/problem16.pddl\n"
     ]
    },
    {
     "name": "stderr",
     "output_type": "stream",
     "text": [
      "T: No, now you cannot put b1 in the tower because you must put green blocks on yellow blocks\n"
     ]
    },
    {
     "name": "stdout",
     "output_type": "stream",
     "text": [
      "[0.60671742 0.62248134 0.62292221]\n",
      "[0.68929645 0.68862984 0.69754108]\n",
      "[0.5852311  0.59571761 0.60439909]\n",
      "[0.62163742 0.62222813 0.63155556]\n"
     ]
    },
    {
     "name": "stderr",
     "output_type": "stream",
     "text": [
      "T: no, put red blocks on blue blocks\n"
     ]
    },
    {
     "name": "stdout",
     "output_type": "stream",
     "text": [
      "(forall (?x) (or (not (red ?x)) (exists (?y) (and (blue ?y) (on ?x ?y)))))\n",
      "[0.3448958  0.33483447 0.33582371]\n"
     ]
    },
    {
     "name": "stderr",
     "output_type": "stream",
     "text": [
      "T: No, now you cannot put b1 in the tower because you must put green blocks on yellow blocks\n"
     ]
    },
    {
     "name": "stdout",
     "output_type": "stream",
     "text": [
      "[0.61269702 0.61305819 0.62237589]\n"
     ]
    },
    {
     "name": "stderr",
     "output_type": "stream",
     "text": [
      "T: no, put red blocks on blue blocks\n"
     ]
    },
    {
     "name": "stdout",
     "output_type": "stream",
     "text": [
      "(forall (?x) (or (not (red ?x)) (exists (?y) (and (blue ?y) (on ?x ?y)))))\n"
     ]
    },
    {
     "name": "stderr",
     "output_type": "stream",
     "text": [
      "T: No, now you cannot put b0 in the tower because you must put red blocks on blue blocks\n"
     ]
    },
    {
     "name": "stdout",
     "output_type": "stream",
     "text": [
      "[0.57306383 0.57414154 0.57365178]\n",
      "[0.32760787 0.31277371 0.31386829]\n",
      "[0.57165487 0.56903559 0.5723659 ]\n"
     ]
    },
    {
     "name": "stderr",
     "output_type": "stream",
     "text": [
      "T: No, now you cannot put b1 in the tower because you must put green blocks on yellow blocks\n",
      "T: No, now you cannot put b1 in the tower because you must put green blocks on yellow blocks\n"
     ]
    },
    {
     "name": "stdout",
     "output_type": "stream",
     "text": [
      "[0.61269691 0.61305821 0.62237576]\n"
     ]
    },
    {
     "name": "stderr",
     "output_type": "stream",
     "text": [
      "T: No, now you cannot put b0 in the tower because you must put red blocks on blue blocks\n"
     ]
    },
    {
     "name": "stdout",
     "output_type": "stream",
     "text": [
      "[0.50919112 0.50817595 0.50970934]\n"
     ]
    },
    {
     "name": "stderr",
     "output_type": "stream",
     "text": [
      "T: No, now you cannot put b0 in the tower because you must put red blocks on blue blocks\n",
      "T: No, now you cannot put b1 in the tower because you must put green blocks on yellow blocks\n"
     ]
    },
    {
     "name": "stdout",
     "output_type": "stream",
     "text": [
      "problem16.pddl reward: -30\n",
      "Parsing domain blocks-domain.pddl\n",
      "Parsing problem tworules/problem17.pddl\n"
     ]
    },
    {
     "name": "stderr",
     "output_type": "stream",
     "text": [
      "T: No, now you cannot put b5 in the tower because you must put green blocks on yellow blocks\n"
     ]
    },
    {
     "name": "stdout",
     "output_type": "stream",
     "text": [
      "[0.56416424 0.54856178 0.56269504]\n",
      "[0.61569196 0.59316746 0.61500393]\n",
      "[0.55079554 0.53106388 0.5501431 ]\n",
      "[0.56093616 0.54050148 0.56064594]\n",
      "problem17.pddl reward: -12\n",
      "Parsing domain blocks-domain.pddl\n",
      "Parsing problem tworules/problem18.pddl\n"
     ]
    },
    {
     "name": "stderr",
     "output_type": "stream",
     "text": [
      "T: No, now you cannot put b1 in the tower because you must put red blocks on blue blocks\n"
     ]
    },
    {
     "name": "stdout",
     "output_type": "stream",
     "text": [
      "[0.32196702 0.30736247 0.31673344]\n",
      "[0.46743223 0.46711274 0.47239846]\n",
      "[0.30633312 0.29138386 0.30090636]\n",
      "[0.46355959 0.45643618 0.46461197]\n"
     ]
    },
    {
     "name": "stderr",
     "output_type": "stream",
     "text": [
      "T: No, now you cannot put b1 in the tower because you must put red blocks on blue blocks\n"
     ]
    },
    {
     "name": "stdout",
     "output_type": "stream",
     "text": [
      "[0.30628184 0.29140488 0.30092778]\n"
     ]
    },
    {
     "name": "stderr",
     "output_type": "stream",
     "text": [
      "T: No, now you cannot put b1 in the tower because you must put red blocks on blue blocks\n"
     ]
    },
    {
     "name": "stdout",
     "output_type": "stream",
     "text": [
      "[0.30628184 0.29140488 0.30092778]\n"
     ]
    },
    {
     "name": "stderr",
     "output_type": "stream",
     "text": [
      "T: No, now you cannot put b1 in the tower because you must put red blocks on blue blocks\n"
     ]
    },
    {
     "name": "stdout",
     "output_type": "stream",
     "text": [
      "[0.30628184 0.29140488 0.30092778]\n"
     ]
    },
    {
     "name": "stderr",
     "output_type": "stream",
     "text": [
      "T: No, now you cannot put b1 in the tower because you must put red blocks on blue blocks\n"
     ]
    },
    {
     "name": "stdout",
     "output_type": "stream",
     "text": [
      "[0.30628184 0.29140488 0.30092778]\n"
     ]
    },
    {
     "name": "stderr",
     "output_type": "stream",
     "text": [
      "T: no, put green blocks on yellow blocks\n",
      "R: Is the top object green?\n",
      "T: no\n"
     ]
    },
    {
     "name": "stdout",
     "output_type": "stream",
     "text": [
      "(forall (?y) (or (not (yellow ?y)) (exists (?x) (and (green ?x) (on ?x ?y)))))\n"
     ]
    },
    {
     "name": "stderr",
     "output_type": "stream",
     "text": [
      "T: no, put green blocks on yellow blocks\n"
     ]
    },
    {
     "name": "stdout",
     "output_type": "stream",
     "text": [
      "(forall (?y) (or (not (yellow ?y)) (exists (?x) (and (green ?x) (on ?x ?y)))))\n"
     ]
    },
    {
     "name": "stderr",
     "output_type": "stream",
     "text": [
      "T: no, put red blocks on blue blocks\n"
     ]
    },
    {
     "name": "stdout",
     "output_type": "stream",
     "text": [
      "(forall (?x) (or (not (red ?x)) (exists (?y) (and (blue ?y) (on ?x ?y)))))\n",
      "problem18.pddl reward: -26\n",
      "Parsing domain blocks-domain.pddl\n",
      "Parsing problem tworules/problem19.pddl\n",
      "problem19.pddl reward: -10\n",
      "Parsing domain blocks-domain.pddl\n",
      "Parsing problem tworules/problem2.pddl\n"
     ]
    },
    {
     "name": "stderr",
     "output_type": "stream",
     "text": [
      "T: No, now you cannot put b0 in the tower because you must put green blocks on yellow blocks\n"
     ]
    },
    {
     "name": "stdout",
     "output_type": "stream",
     "text": [
      "[0.50934154 0.49338192 0.51159181]\n",
      "[0.55104775 0.52567954 0.54036828]\n",
      "[0.49781963 0.47766835 0.4978401 ]\n",
      "[0.51144668 0.48776332 0.5298637 ]\n"
     ]
    },
    {
     "name": "stderr",
     "output_type": "stream",
     "text": [
      "T: No, now you cannot put b0 in the tower because you must put green blocks on yellow blocks\n"
     ]
    },
    {
     "name": "stdout",
     "output_type": "stream",
     "text": [
      "[0.50310674 0.47948865 0.52107134]\n"
     ]
    },
    {
     "name": "stderr",
     "output_type": "stream",
     "text": [
      "T: No, now you cannot put b0 in the tower because you must put green blocks on yellow blocks\n"
     ]
    },
    {
     "name": "stdout",
     "output_type": "stream",
     "text": [
      "[0.50311724 0.47951144 0.5208291 ]\n"
     ]
    },
    {
     "name": "stderr",
     "output_type": "stream",
     "text": [
      "T: No, now you cannot put b0 in the tower because you must put green blocks on yellow blocks\n"
     ]
    },
    {
     "name": "stdout",
     "output_type": "stream",
     "text": [
      "[0.50311604 0.47951024 0.52082784]\n",
      "problem2.pddl reward: -18\n",
      "Parsing domain blocks-domain.pddl\n",
      "Parsing problem tworules/problem20.pddl\n"
     ]
    },
    {
     "name": "stderr",
     "output_type": "stream",
     "text": [
      "T: no, put green blocks on yellow blocks\n"
     ]
    },
    {
     "name": "stdout",
     "output_type": "stream",
     "text": [
      "(forall (?y) (or (not (yellow ?y)) (exists (?x) (and (green ?x) (on ?x ?y)))))\n",
      "[0.48747461 0.47737562 0.48387135]\n",
      "[0.46835214 0.44645074 0.50637264]\n"
     ]
    },
    {
     "name": "stderr",
     "output_type": "stream",
     "text": [
      "T: no, put green blocks on yellow blocks\n"
     ]
    },
    {
     "name": "stdout",
     "output_type": "stream",
     "text": [
      "(forall (?y) (or (not (yellow ?y)) (exists (?x) (and (green ?x) (on ?x ?y)))))\n",
      "[0.48101748 0.4783108  0.47762189]\n",
      "problem20.pddl reward: -14\n",
      "Parsing domain blocks-domain.pddl\n",
      "Parsing problem tworules/problem21.pddl\n",
      "problem21.pddl reward: -10\n",
      "Parsing domain blocks-domain.pddl\n",
      "Parsing problem tworules/problem22.pddl\n",
      "problem22.pddl reward: -10\n",
      "Parsing domain blocks-domain.pddl\n",
      "Parsing problem tworules/problem23.pddl\n"
     ]
    },
    {
     "name": "stderr",
     "output_type": "stream",
     "text": [
      "T: no, put red blocks on blue blocks\n"
     ]
    },
    {
     "name": "stdout",
     "output_type": "stream",
     "text": [
      "(forall (?x) (or (not (red ?x)) (exists (?y) (and (blue ?y) (on ?x ?y)))))\n",
      "[0.28835729 0.27311524 0.28246991]\n"
     ]
    },
    {
     "name": "stderr",
     "output_type": "stream",
     "text": [
      "T: no, put red blocks on blue blocks\n"
     ]
    },
    {
     "name": "stdout",
     "output_type": "stream",
     "text": [
      "(forall (?x) (or (not (red ?x)) (exists (?y) (and (blue ?y) (on ?x ?y)))))\n",
      "[0.2736571  0.25741355 0.26656475]\n",
      "[0.46359701 0.45536909 0.46445577]\n",
      "problem23.pddl reward: -14\n",
      "Parsing domain blocks-domain.pddl\n",
      "Parsing problem tworules/problem24.pddl\n"
     ]
    },
    {
     "name": "stderr",
     "output_type": "stream",
     "text": [
      "T: no, put green blocks on yellow blocks\n",
      "R: Is the top object green?\n",
      "T: no\n"
     ]
    },
    {
     "name": "stdout",
     "output_type": "stream",
     "text": [
      "(forall (?y) (or (not (yellow ?y)) (exists (?x) (and (green ?x) (on ?x ?y)))))\n",
      "[0.48101748 0.4783108  0.47762189]\n",
      "[0.4265826  0.40670699 0.46843708]\n"
     ]
    },
    {
     "name": "stderr",
     "output_type": "stream",
     "text": [
      "T: no, put green blocks on yellow blocks\n"
     ]
    },
    {
     "name": "stdout",
     "output_type": "stream",
     "text": [
      "(forall (?y) (or (not (yellow ?y)) (exists (?x) (and (green ?x) (on ?x ?y)))))\n",
      "[0.48101748 0.4783108  0.47762189]\n"
     ]
    },
    {
     "name": "stderr",
     "output_type": "stream",
     "text": [
      "T: No, now you cannot put b1 in the tower because you must put green blocks on yellow blocks\n",
      "R: Is the top object green?\n",
      "T: yes\n"
     ]
    },
    {
     "name": "stdout",
     "output_type": "stream",
     "text": [
      "[0.43484655 0.43768793 0.43650233]\n",
      "[0.43484655 0.43768793 0.43650233]\n",
      "[0.39152807 0.37333656 0.43500387]\n"
     ]
    },
    {
     "name": "stderr",
     "output_type": "stream",
     "text": [
      "T: No, now you cannot put b1 in the tower because you must put green blocks on yellow blocks\n"
     ]
    },
    {
     "name": "stdout",
     "output_type": "stream",
     "text": [
      "[0.39152807 0.37333656 0.43500387]\n",
      "problem24.pddl reward: -18\n",
      "Parsing domain blocks-domain.pddl\n",
      "Parsing problem tworules/problem25.pddl\n"
     ]
    },
    {
     "name": "stderr",
     "output_type": "stream",
     "text": [
      "T: no, put red blocks on blue blocks\n"
     ]
    },
    {
     "name": "stdout",
     "output_type": "stream",
     "text": [
      "(forall (?x) (or (not (red ?x)) (exists (?y) (and (blue ?y) (on ?x ?y)))))\n",
      "[0.26342532 0.24352723 0.25245546]\n",
      "[0.46352065 0.45529848 0.46274049]\n"
     ]
    },
    {
     "name": "stderr",
     "output_type": "stream",
     "text": [
      "T: no, put red blocks on blue blocks\n"
     ]
    },
    {
     "name": "stdout",
     "output_type": "stream",
     "text": [
      "(forall (?x) (or (not (red ?x)) (exists (?y) (and (blue ?y) (on ?x ?y)))))\n",
      "[0.46325862 0.45504644 0.46259759]\n"
     ]
    },
    {
     "name": "stderr",
     "output_type": "stream",
     "text": [
      "T: no, put red blocks on blue blocks\n"
     ]
    },
    {
     "name": "stdout",
     "output_type": "stream",
     "text": [
      "(forall (?x) (or (not (red ?x)) (exists (?y) (and (blue ?y) (on ?x ?y)))))\n",
      "[0.25177639 0.2310057  0.23969984]\n",
      "[0.46326765 0.45459368 0.46101907]\n"
     ]
    },
    {
     "name": "stderr",
     "output_type": "stream",
     "text": [
      "T: no, put red blocks on blue blocks\n"
     ]
    },
    {
     "name": "stdout",
     "output_type": "stream",
     "text": [
      "(forall (?x) (or (not (red ?x)) (exists (?y) (and (blue ?y) (on ?x ?y)))))\n",
      "[0.46309993 0.4544452  0.46083778]\n",
      "problem25.pddl reward: -18\n",
      "Parsing domain blocks-domain.pddl\n",
      "Parsing problem tworules/problem26.pddl\n",
      "problem26.pddl reward: -10\n",
      "Parsing domain blocks-domain.pddl\n",
      "Parsing problem tworules/problem27.pddl\n"
     ]
    },
    {
     "name": "stderr",
     "output_type": "stream",
     "text": [
      "T: No, now you cannot put b2 in the tower because you must put green blocks on yellow blocks\n"
     ]
    },
    {
     "name": "stdout",
     "output_type": "stream",
     "text": [
      "[0.41638728 0.40754432 0.40760966]\n",
      "[0.38716587 0.37780594 0.43164691]\n",
      "[0.41378634 0.4034378  0.40585667]\n",
      "[0.36172432 0.35323624 0.40635044]\n"
     ]
    },
    {
     "name": "stderr",
     "output_type": "stream",
     "text": [
      "T: No, now you cannot put b2 in the tower because you must put green blocks on yellow blocks\n"
     ]
    },
    {
     "name": "stdout",
     "output_type": "stream",
     "text": [
      "[0.36123176 0.35281282 0.40636288]\n"
     ]
    },
    {
     "name": "stderr",
     "output_type": "stream",
     "text": [
      "T: No, now you cannot put b2 in the tower because you must put green blocks on yellow blocks\n"
     ]
    },
    {
     "name": "stdout",
     "output_type": "stream",
     "text": [
      "[0.36123075 0.35281402 0.40636207]\n"
     ]
    },
    {
     "name": "stderr",
     "output_type": "stream",
     "text": [
      "T: No, now you cannot put b2 in the tower because you must put green blocks on yellow blocks\n"
     ]
    },
    {
     "name": "stdout",
     "output_type": "stream",
     "text": [
      "[0.36123075 0.35281402 0.40636207]\n",
      "problem27.pddl reward: -18\n",
      "Parsing domain blocks-domain.pddl\n",
      "Parsing problem tworules/problem28.pddl\n"
     ]
    },
    {
     "name": "stderr",
     "output_type": "stream",
     "text": [
      "T: No, now you cannot put b2 in the tower because you must put green blocks on yellow blocks\n",
      "R: Is the top object green?\n",
      "T: yes\n"
     ]
    },
    {
     "name": "stdout",
     "output_type": "stream",
     "text": [
      "[0.38152515 0.37555213 0.37569186]\n",
      "[0.36123075 0.35281402 0.40636207]\n",
      "[0.38152515 0.37555213 0.37569186]\n",
      "[0.3356653  0.32808084 0.40412438]\n"
     ]
    },
    {
     "name": "stderr",
     "output_type": "stream",
     "text": [
      "T: No, now you cannot put b2 in the tower because you must put green blocks on yellow blocks\n"
     ]
    },
    {
     "name": "stdout",
     "output_type": "stream",
     "text": [
      "[0.3356653  0.32808084 0.40412438]\n"
     ]
    },
    {
     "name": "stderr",
     "output_type": "stream",
     "text": [
      "T: No, now you cannot put b2 in the tower because you must put green blocks on yellow blocks\n"
     ]
    },
    {
     "name": "stdout",
     "output_type": "stream",
     "text": [
      "[0.3356653  0.32808084 0.40412438]\n"
     ]
    },
    {
     "name": "stderr",
     "output_type": "stream",
     "text": [
      "T: No, now you cannot put b2 in the tower because you must put green blocks on yellow blocks\n"
     ]
    },
    {
     "name": "stdout",
     "output_type": "stream",
     "text": [
      "[0.3356653  0.32808084 0.40412438]\n"
     ]
    },
    {
     "name": "stderr",
     "output_type": "stream",
     "text": [
      "T: No, now you cannot put b2 in the tower because you must put green blocks on yellow blocks\n"
     ]
    },
    {
     "name": "stdout",
     "output_type": "stream",
     "text": [
      "[0.3356653  0.32808084 0.40412438]\n"
     ]
    },
    {
     "name": "stderr",
     "output_type": "stream",
     "text": [
      "T: No, now you cannot put b2 in the tower because you must put green blocks on yellow blocks\n"
     ]
    },
    {
     "name": "stdout",
     "output_type": "stream",
     "text": [
      "[0.3356653  0.32808084 0.40412438]\n",
      "problem28.pddl reward: -22\n",
      "Parsing domain blocks-domain.pddl\n",
      "Parsing problem tworules/problem29.pddl\n"
     ]
    },
    {
     "name": "stderr",
     "output_type": "stream",
     "text": [
      "T: no, put red blocks on blue blocks\n"
     ]
    },
    {
     "name": "stdout",
     "output_type": "stream",
     "text": [
      "(forall (?x) (or (not (red ?x)) (exists (?y) (and (blue ?y) (on ?x ?y)))))\n",
      "[0.24050248 0.21987204 0.2283328 ]\n",
      "[0.4630829  0.45243458 0.45851319]\n"
     ]
    },
    {
     "name": "stderr",
     "output_type": "stream",
     "text": [
      "T: No, now you cannot put b2 in the tower because you must put green blocks on yellow blocks\n"
     ]
    },
    {
     "name": "stdout",
     "output_type": "stream",
     "text": [
      "[0.37690039 0.35796971 0.36072836]\n",
      "[0.37398732 0.35249852 0.35959077]\n",
      "[0.31863417 0.31157744 0.38727665]\n"
     ]
    },
    {
     "name": "stderr",
     "output_type": "stream",
     "text": [
      "T: No, now you cannot put b2 in the tower because you must put green blocks on yellow blocks\n",
      "T: No, now you cannot put b2 in the tower because you must put green blocks on yellow blocks\n"
     ]
    },
    {
     "name": "stdout",
     "output_type": "stream",
     "text": [
      "[0.35072126 0.33536636 0.33615461]\n",
      "problem29.pddl reward: -18\n",
      "Parsing domain blocks-domain.pddl\n",
      "Parsing problem tworules/problem3.pddl\n"
     ]
    },
    {
     "name": "stderr",
     "output_type": "stream",
     "text": [
      "T: No, now you cannot put b1 in the tower because you must put red blocks on blue blocks\n",
      "R: Is the top object red?\n",
      "T: no\n"
     ]
    },
    {
     "name": "stdout",
     "output_type": "stream",
     "text": [
      "[0.24050248 0.21987204 0.2283328 ]\n",
      "[0.4279417  0.41815995 0.42563597]\n",
      "[0.22966275 0.20926468 0.2174818 ]\n",
      "[0.4279417  0.41815995 0.42563597]\n"
     ]
    },
    {
     "name": "stderr",
     "output_type": "stream",
     "text": [
      "T: No, now you cannot put b1 in the tower because you must put red blocks on blue blocks\n"
     ]
    },
    {
     "name": "stdout",
     "output_type": "stream",
     "text": [
      "[0.22966275 0.20926468 0.2174818 ]\n",
      "[0.39703069 0.38799566 0.39047188]\n"
     ]
    },
    {
     "name": "stderr",
     "output_type": "stream",
     "text": [
      "T: no, put red blocks on blue blocks\n"
     ]
    },
    {
     "name": "stdout",
     "output_type": "stream",
     "text": [
      "(forall (?x) (or (not (red ?x)) (exists (?y) (and (blue ?y) (on ?x ?y)))))\n",
      "problem3.pddl reward: -16\n",
      "Parsing domain blocks-domain.pddl\n",
      "Parsing problem tworules/problem30.pddl\n",
      "problem30.pddl reward: -10\n",
      "Parsing domain blocks-domain.pddl\n",
      "Parsing problem tworules/problem31.pddl\n"
     ]
    },
    {
     "name": "stderr",
     "output_type": "stream",
     "text": [
      "T: no, put green blocks on yellow blocks\n"
     ]
    },
    {
     "name": "stdout",
     "output_type": "stream",
     "text": [
      "(forall (?y) (or (not (yellow ?y)) (exists (?x) (and (green ?x) (on ?x ?y)))))\n",
      "[0.34915501 0.33526719 0.33605238]\n",
      "[0.29975885 0.29326367 0.3680076 ]\n"
     ]
    },
    {
     "name": "stderr",
     "output_type": "stream",
     "text": [
      "T: no, put green blocks on yellow blocks\n"
     ]
    },
    {
     "name": "stdout",
     "output_type": "stream",
     "text": [
      "(forall (?y) (or (not (yellow ?y)) (exists (?x) (and (green ?x) (on ?x ?y)))))\n",
      "[0.34902812 0.33533724 0.33594111]\n"
     ]
    },
    {
     "name": "stderr",
     "output_type": "stream",
     "text": [
      "T: no, put green blocks on yellow blocks\n"
     ]
    },
    {
     "name": "stdout",
     "output_type": "stream",
     "text": [
      "(forall (?y) (or (not (yellow ?y)) (exists (?x) (and (green ?x) (on ?x ?y)))))\n",
      "[0.3490216  0.335319   0.33593473]\n"
     ]
    },
    {
     "name": "stderr",
     "output_type": "stream",
     "text": [
      "T: no, put green blocks on yellow blocks\n"
     ]
    },
    {
     "name": "stdout",
     "output_type": "stream",
     "text": [
      "(forall (?y) (or (not (yellow ?y)) (exists (?x) (and (green ?x) (on ?x ?y)))))\n",
      "[0.34902011 0.33531982 0.33593342]\n"
     ]
    },
    {
     "name": "stderr",
     "output_type": "stream",
     "text": [
      "T: no, put red blocks on blue blocks\n"
     ]
    },
    {
     "name": "stdout",
     "output_type": "stream",
     "text": [
      "(forall (?x) (or (not (red ?x)) (exists (?y) (and (blue ?y) (on ?x ?y)))))\n",
      "[0.2203969  0.19968556 0.20766538]\n"
     ]
    },
    {
     "name": "stderr",
     "output_type": "stream",
     "text": [
      "T: no, put green blocks on yellow blocks\n"
     ]
    },
    {
     "name": "stdout",
     "output_type": "stream",
     "text": [
      "(forall (?y) (or (not (yellow ?y)) (exists (?x) (and (green ?x) (on ?x ?y)))))\n",
      "[0.3490201  0.33531983 0.33593342]\n"
     ]
    },
    {
     "name": "stderr",
     "output_type": "stream",
     "text": [
      "T: no, put red blocks on blue blocks\n"
     ]
    },
    {
     "name": "stdout",
     "output_type": "stream",
     "text": [
      "(forall (?x) (or (not (red ?x)) (exists (?y) (and (blue ?y) (on ?x ?y)))))\n",
      "problem31.pddl reward: -24\n",
      "Parsing domain blocks-domain.pddl\n",
      "Parsing problem tworules/problem32.pddl\n"
     ]
    },
    {
     "name": "stderr",
     "output_type": "stream",
     "text": [
      "T: no, put red blocks on blue blocks\n"
     ]
    },
    {
     "name": "stdout",
     "output_type": "stream",
     "text": [
      "(forall (?x) (or (not (red ?x)) (exists (?y) (and (blue ?y) (on ?x ?y)))))\n",
      "[0.21145539 0.19111709 0.19887117]\n",
      "[0.39741181 0.38716727 0.38959414]\n"
     ]
    },
    {
     "name": "stderr",
     "output_type": "stream",
     "text": [
      "T: no, put red blocks on blue blocks\n"
     ]
    },
    {
     "name": "stdout",
     "output_type": "stream",
     "text": [
      "(forall (?x) (or (not (red ?x)) (exists (?y) (and (blue ?y) (on ?x ?y)))))\n",
      "[0.39734571 0.38711709 0.38954703]\n",
      "problem32.pddl reward: -14\n",
      "Parsing domain blocks-domain.pddl\n",
      "Parsing problem tworules/problem33.pddl\n"
     ]
    },
    {
     "name": "stderr",
     "output_type": "stream",
     "text": [
      "T: no, put red blocks on blue blocks\n"
     ]
    },
    {
     "name": "stdout",
     "output_type": "stream",
     "text": [
      "(forall (?x) (or (not (red ?x)) (exists (?y) (and (blue ?y) (on ?x ?y)))))\n",
      "[0.20242702 0.18316635 0.19047586]\n"
     ]
    },
    {
     "name": "stderr",
     "output_type": "stream",
     "text": [
      "T: no, put red blocks on blue blocks\n"
     ]
    },
    {
     "name": "stdout",
     "output_type": "stream",
     "text": [
      "(forall (?x) (or (not (red ?x)) (exists (?y) (and (blue ?y) (on ?x ?y)))))\n",
      "[0.19418244 0.17588709 0.1828008 ]\n",
      "[0.397425   0.38713276 0.38936212]\n"
     ]
    },
    {
     "name": "stderr",
     "output_type": "stream",
     "text": [
      "T: no, put red blocks on blue blocks\n"
     ]
    },
    {
     "name": "stdout",
     "output_type": "stream",
     "text": [
      "(forall (?x) (or (not (red ?x)) (exists (?y) (and (blue ?y) (on ?x ?y)))))\n",
      "[0.3974254  0.38713284 0.38936119]\n"
     ]
    },
    {
     "name": "stderr",
     "output_type": "stream",
     "text": [
      "T: No, now you cannot put b1 in the tower because you must put green blocks on yellow blocks\n",
      "R: Is the top object green?\n",
      "T: yes\n"
     ]
    },
    {
     "name": "stdout",
     "output_type": "stream",
     "text": [
      "[0.33275591 0.31402832 0.31528229]\n",
      "[0.33275591 0.31402832 0.31528229]\n",
      "[0.28188899 0.27590409 0.34921854]\n"
     ]
    },
    {
     "name": "stderr",
     "output_type": "stream",
     "text": [
      "T: no, put red blocks on blue blocks\n"
     ]
    },
    {
     "name": "stdout",
     "output_type": "stream",
     "text": [
      "(forall (?x) (or (not (red ?x)) (exists (?y) (and (blue ?y) (on ?x ?y)))))\n",
      "[0.39742532 0.38713278 0.38936111]\n"
     ]
    },
    {
     "name": "stderr",
     "output_type": "stream",
     "text": [
      "T: No, now you cannot put b1 in the tower because you must put green blocks on yellow blocks\n",
      "T: no, put red blocks on blue blocks\n"
     ]
    },
    {
     "name": "stdout",
     "output_type": "stream",
     "text": [
      "(forall (?x) (or (not (red ?x)) (exists (?y) (and (blue ?y) (on ?x ?y)))))\n",
      "[0.39742532 0.38713278 0.38936111]\n"
     ]
    },
    {
     "name": "stderr",
     "output_type": "stream",
     "text": [
      "T: No, now you cannot put b1 in the tower because you must put green blocks on yellow blocks\n",
      "T: no, put red blocks on blue blocks\n"
     ]
    },
    {
     "name": "stdout",
     "output_type": "stream",
     "text": [
      "(forall (?x) (or (not (red ?x)) (exists (?y) (and (blue ?y) (on ?x ?y)))))\n"
     ]
    },
    {
     "name": "stderr",
     "output_type": "stream",
     "text": [
      "T: no, put red blocks on blue blocks\n"
     ]
    },
    {
     "name": "stdout",
     "output_type": "stream",
     "text": [
      "(forall (?x) (or (not (red ?x)) (exists (?y) (and (blue ?y) (on ?x ?y)))))\n",
      "problem33.pddl reward: -30\n",
      "Parsing domain blocks-domain.pddl\n",
      "Parsing problem tworules/problem34.pddl\n"
     ]
    },
    {
     "name": "stderr",
     "output_type": "stream",
     "text": [
      "T: no, put red blocks on blue blocks\n"
     ]
    },
    {
     "name": "stdout",
     "output_type": "stream",
     "text": [
      "(forall (?x) (or (not (red ?x)) (exists (?y) (and (blue ?y) (on ?x ?y)))))\n",
      "[0.19064373 0.16908597 0.1758264 ]\n"
     ]
    },
    {
     "name": "stderr",
     "output_type": "stream",
     "text": [
      "T: No, now you cannot put b3 in the tower because you must put green blocks on yellow blocks\n"
     ]
    },
    {
     "name": "stdout",
     "output_type": "stream",
     "text": [
      "[0.31289417 0.29671673 0.29798899]\n",
      "[0.31289417 0.29671673 0.29798899]\n",
      "[0.2660195  0.26047127 0.35124697]\n"
     ]
    },
    {
     "name": "stderr",
     "output_type": "stream",
     "text": [
      "T: no, put red blocks on blue blocks\n"
     ]
    },
    {
     "name": "stdout",
     "output_type": "stream",
     "text": [
      "(forall (?x) (or (not (red ?x)) (exists (?y) (and (blue ?y) (on ?x ?y)))))\n",
      "[0.39742532 0.38713278 0.38936111]\n"
     ]
    },
    {
     "name": "stderr",
     "output_type": "stream",
     "text": [
      "T: No, now you cannot put b3 in the tower because you must put green blocks on yellow blocks\n",
      "T: No, now you cannot put b3 in the tower because you must put green blocks on yellow blocks\n",
      "T: No, now you cannot put b3 in the tower because you must put green blocks on yellow blocks\n"
     ]
    },
    {
     "name": "stdout",
     "output_type": "stream",
     "text": [
      "[0.30008527 0.28137041 0.28102272]\n"
     ]
    },
    {
     "name": "stderr",
     "output_type": "stream",
     "text": [
      "T: No, now you cannot put b3 in the tower because you must put green blocks on yellow blocks\n"
     ]
    },
    {
     "name": "stdout",
     "output_type": "stream",
     "text": [
      "problem34.pddl reward: -24\n",
      "Parsing domain blocks-domain.pddl\n",
      "Parsing problem tworules/problem35.pddl\n"
     ]
    },
    {
     "name": "stderr",
     "output_type": "stream",
     "text": [
      "T: No, now you cannot put b4 in the tower because you must put green blocks on yellow blocks\n"
     ]
    },
    {
     "name": "stdout",
     "output_type": "stream",
     "text": [
      "[0.2949384  0.26828931 0.27058654]\n",
      "[0.2949384  0.26828931 0.27058654]\n",
      "[0.25183414 0.24666372 0.35033876]\n"
     ]
    },
    {
     "name": "stderr",
     "output_type": "stream",
     "text": [
      "T: No, now you cannot put b4 in the tower because you must put green blocks on yellow blocks\n"
     ]
    },
    {
     "name": "stdout",
     "output_type": "stream",
     "text": [
      "[0.25183414 0.24666372 0.35033876]\n"
     ]
    },
    {
     "name": "stderr",
     "output_type": "stream",
     "text": [
      "T: No, now you cannot put b4 in the tower because you must put green blocks on yellow blocks\n"
     ]
    },
    {
     "name": "stdout",
     "output_type": "stream",
     "text": [
      "[0.25183414 0.24666372 0.35033876]\n"
     ]
    },
    {
     "name": "stderr",
     "output_type": "stream",
     "text": [
      "T: No, now you cannot put b4 in the tower because you must put green blocks on yellow blocks\n"
     ]
    },
    {
     "name": "stdout",
     "output_type": "stream",
     "text": [
      "[0.25183414 0.24666372 0.35033876]\n"
     ]
    },
    {
     "name": "stderr",
     "output_type": "stream",
     "text": [
      "T: No, now you cannot put b3 in the tower because you must put red blocks on blue blocks\n"
     ]
    },
    {
     "name": "stdout",
     "output_type": "stream",
     "text": [
      "[0.37042911 0.36078    0.35973071]\n",
      "[0.18703544 0.16279405 0.16936624]\n",
      "[0.3704424  0.36076193 0.35973716]\n"
     ]
    },
    {
     "name": "stderr",
     "output_type": "stream",
     "text": [
      "T: No, now you cannot put b3 in the tower because you must put red blocks on blue blocks\n",
      "T: No, now you cannot put b4 in the tower because you must put green blocks on yellow blocks\n"
     ]
    },
    {
     "name": "stdout",
     "output_type": "stream",
     "text": [
      "problem35.pddl reward: -24\n",
      "Parsing domain blocks-domain.pddl\n",
      "Parsing problem tworules/problem36.pddl\n",
      "problem36.pddl reward: -10\n",
      "Parsing domain blocks-domain.pddl\n",
      "Parsing problem tworules/problem37.pddl\n"
     ]
    },
    {
     "name": "stderr",
     "output_type": "stream",
     "text": [
      "T: no, put green blocks on yellow blocks\n",
      "T: no, put green blocks on yellow blocks\n"
     ]
    },
    {
     "name": "stdout",
     "output_type": "stream",
     "text": [
      "(forall (?y) (or (not (yellow ?y)) (exists (?x) (and (green ?x) (on ?x ?y)))))\n",
      "[0.29485811 0.26835173 0.27059279]\n",
      "[0.23903305 0.23417416 0.33573077]\n",
      "(forall (?y) (or (not (yellow ?y)) (exists (?x) (and (green ?x) (on ?x ?y)))))\n",
      "[0.29485781 0.26835235 0.27059213]\n",
      "problem37.pddl reward: -14\n",
      "Parsing domain blocks-domain.pddl\n",
      "Parsing problem tworules/problem38.pddl\n"
     ]
    },
    {
     "name": "stderr",
     "output_type": "stream",
     "text": [
      "T: No, now you cannot put b0 in the tower because you must put red blocks on blue blocks\n"
     ]
    },
    {
     "name": "stdout",
     "output_type": "stream",
     "text": [
      "[0.18703544 0.16279405 0.16936624]\n",
      "[0.34661154 0.33751047 0.33557025]\n",
      "[0.1815277  0.15694815 0.16335734]\n",
      "[0.34661154 0.33751047 0.33557025]\n"
     ]
    },
    {
     "name": "stderr",
     "output_type": "stream",
     "text": [
      "T: No, now you cannot put b0 in the tower because you must put red blocks on blue blocks\n"
     ]
    },
    {
     "name": "stdout",
     "output_type": "stream",
     "text": [
      "[0.1815277  0.15694815 0.16335734]\n"
     ]
    },
    {
     "name": "stderr",
     "output_type": "stream",
     "text": [
      "T: No, now you cannot put b0 in the tower because you must put red blocks on blue blocks\n",
      "T: No, now you cannot put b0 in the tower because you must put red blocks on blue blocks\n"
     ]
    },
    {
     "name": "stdout",
     "output_type": "stream",
     "text": [
      "[0.1815277  0.15694815 0.16335734]\n",
      "problem38.pddl reward: -18\n",
      "Parsing domain blocks-domain.pddl\n",
      "Parsing problem tworules/problem39.pddl\n",
      "problem39.pddl reward: -10\n",
      "Parsing domain blocks-domain.pddl\n",
      "Parsing problem tworules/problem4.pddl\n"
     ]
    },
    {
     "name": "stderr",
     "output_type": "stream",
     "text": [
      "T: no, put green blocks on yellow blocks\n"
     ]
    },
    {
     "name": "stdout",
     "output_type": "stream",
     "text": [
      "(forall (?y) (or (not (yellow ?y)) (exists (?x) (and (green ?x) (on ?x ?y)))))\n",
      "[0.29378244 0.26826576 0.27055652]\n",
      "[0.2283287  0.22374194 0.33470892]\n"
     ]
    },
    {
     "name": "stderr",
     "output_type": "stream",
     "text": [
      "T: no, put red blocks on blue blocks\n"
     ]
    },
    {
     "name": "stdout",
     "output_type": "stream",
     "text": [
      "(forall (?x) (or (not (red ?x)) (exists (?y) (and (blue ?y) (on ?x ?y)))))\n",
      "[0.17838965 0.15150825 0.15776009]\n"
     ]
    },
    {
     "name": "stderr",
     "output_type": "stream",
     "text": [
      "T: no, put green blocks on yellow blocks\n"
     ]
    },
    {
     "name": "stdout",
     "output_type": "stream",
     "text": [
      "(forall (?y) (or (not (yellow ?y)) (exists (?x) (and (green ?x) (on ?x ?y)))))\n",
      "[0.29380562 0.26797051 0.27034944]\n"
     ]
    },
    {
     "name": "stderr",
     "output_type": "stream",
     "text": [
      "T: no, put green blocks on yellow blocks\n"
     ]
    },
    {
     "name": "stdout",
     "output_type": "stream",
     "text": [
      "(forall (?y) (or (not (yellow ?y)) (exists (?x) (and (green ?x) (on ?x ?y)))))\n",
      "[0.2938073  0.26795192 0.27034612]\n"
     ]
    },
    {
     "name": "stderr",
     "output_type": "stream",
     "text": [
      "T: no, put red blocks on blue blocks\n"
     ]
    },
    {
     "name": "stdout",
     "output_type": "stream",
     "text": [
      "(forall (?x) (or (not (red ?x)) (exists (?y) (and (blue ?y) (on ?x ?y)))))\n"
     ]
    },
    {
     "name": "stderr",
     "output_type": "stream",
     "text": [
      "T: no, put red blocks on blue blocks\n"
     ]
    },
    {
     "name": "stdout",
     "output_type": "stream",
     "text": [
      "(forall (?x) (or (not (red ?x)) (exists (?y) (and (blue ?y) (on ?x ?y)))))\n"
     ]
    },
    {
     "name": "stderr",
     "output_type": "stream",
     "text": [
      "T: no, put red blocks on blue blocks\n"
     ]
    },
    {
     "name": "stdout",
     "output_type": "stream",
     "text": [
      "(forall (?x) (or (not (red ?x)) (exists (?y) (and (blue ?y) (on ?x ?y)))))\n"
     ]
    },
    {
     "name": "stderr",
     "output_type": "stream",
     "text": [
      "T: no, put red blocks on blue blocks\n",
      "T: no, put red blocks on blue blocks\n"
     ]
    },
    {
     "name": "stdout",
     "output_type": "stream",
     "text": [
      "(forall (?x) (or (not (red ?x)) (exists (?y) (and (blue ?y) (on ?x ?y)))))\n",
      "[0.34661154 0.33751047 0.33557025]\n",
      "(forall (?x) (or (not (red ?x)) (exists (?y) (and (blue ?y) (on ?x ?y)))))\n",
      "[0.34661154 0.33751047 0.33557025]\n",
      "problem4.pddl reward: -28\n",
      "Parsing domain blocks-domain.pddl\n",
      "Parsing problem tworules/problem40.pddl\n"
     ]
    },
    {
     "name": "stderr",
     "output_type": "stream",
     "text": [
      "T: no, put red blocks on blue blocks\n"
     ]
    },
    {
     "name": "stdout",
     "output_type": "stream",
     "text": [
      "(forall (?x) (or (not (red ?x)) (exists (?y) (and (blue ?y) (on ?x ?y)))))\n",
      "[0.17372718 0.14692005 0.15378139]\n",
      "[0.34471775 0.33507574 0.33295108]\n"
     ]
    },
    {
     "name": "stderr",
     "output_type": "stream",
     "text": [
      "T: no, put red blocks on blue blocks\n"
     ]
    },
    {
     "name": "stdout",
     "output_type": "stream",
     "text": [
      "(forall (?x) (or (not (red ?x)) (exists (?y) (and (blue ?y) (on ?x ?y)))))\n",
      "[0.34447262 0.33476194 0.33261385]\n"
     ]
    },
    {
     "name": "stderr",
     "output_type": "stream",
     "text": [
      "T: no, put red blocks on blue blocks\n"
     ]
    },
    {
     "name": "stdout",
     "output_type": "stream",
     "text": [
      "(forall (?x) (or (not (red ?x)) (exists (?y) (and (blue ?y) (on ?x ?y)))))\n",
      "[0.34447605 0.33475835 0.33261116]\n",
      "problem40.pddl reward: -16\n",
      "Parsing domain blocks-domain.pddl\n",
      "Parsing problem tworules/problem41.pddl\n"
     ]
    },
    {
     "name": "stderr",
     "output_type": "stream",
     "text": [
      "T: no, put red blocks on blue blocks\n"
     ]
    },
    {
     "name": "stdout",
     "output_type": "stream",
     "text": [
      "(forall (?x) (or (not (red ?x)) (exists (?y) (and (blue ?y) (on ?x ?y)))))\n",
      "[0.17078919 0.14226759 0.14898806]\n",
      "[0.34501093 0.33414777 0.33199329]\n"
     ]
    },
    {
     "name": "stderr",
     "output_type": "stream",
     "text": [
      "T: No, now you cannot put b4 in the tower because you must put green blocks on yellow blocks\n"
     ]
    },
    {
     "name": "stdout",
     "output_type": "stream",
     "text": [
      "[0.28204904 0.25532448 0.25669807]\n",
      "[0.28205348 0.25531073 0.25670577]\n",
      "[0.21780691 0.21348164 0.32396729]\n"
     ]
    },
    {
     "name": "stderr",
     "output_type": "stream",
     "text": [
      "T: no, put red blocks on blue blocks\n"
     ]
    },
    {
     "name": "stdout",
     "output_type": "stream",
     "text": [
      "(forall (?x) (or (not (red ?x)) (exists (?y) (and (blue ?y) (on ?x ?y)))))\n"
     ]
    },
    {
     "name": "stderr",
     "output_type": "stream",
     "text": [
      "T: no, put red blocks on blue blocks\n"
     ]
    },
    {
     "name": "stdout",
     "output_type": "stream",
     "text": [
      "(forall (?x) (or (not (red ?x)) (exists (?y) (and (blue ?y) (on ?x ?y)))))\n"
     ]
    },
    {
     "name": "stderr",
     "output_type": "stream",
     "text": [
      "T: No, now you cannot put b0 in the tower because you must put red blocks on blue blocks\n"
     ]
    },
    {
     "name": "stdout",
     "output_type": "stream",
     "text": [
      "[0.17078919 0.14226759 0.14898806]\n",
      "[0.32438272 0.31393588 0.31120132]\n",
      "[0.16674873 0.13778616 0.1443655 ]\n",
      "[0.32438272 0.31393588 0.31120132]\n",
      "problem41.pddl reward: -20\n",
      "Parsing domain blocks-domain.pddl\n",
      "Parsing problem tworules/problem42.pddl\n"
     ]
    },
    {
     "name": "stderr",
     "output_type": "stream",
     "text": [
      "T: No, now you cannot put b1 in the tower because you must put red blocks on blue blocks\n"
     ]
    },
    {
     "name": "stdout",
     "output_type": "stream",
     "text": [
      "[0.16669883 0.13785812 0.14428102]\n",
      "[0.30629839 0.31294448 0.29872673]\n",
      "[0.16241367 0.13372802 0.14002021]\n",
      "[0.30609332 0.3126303  0.29892159]\n"
     ]
    },
    {
     "name": "stderr",
     "output_type": "stream",
     "text": [
      "T: No, now you cannot put b1 in the tower because you must put red blocks on blue blocks\n"
     ]
    },
    {
     "name": "stdout",
     "output_type": "stream",
     "text": [
      "[0.16241367 0.13372802 0.14002021]\n"
     ]
    },
    {
     "name": "stderr",
     "output_type": "stream",
     "text": [
      "T: No, now you cannot put b0 in the tower because you must put green blocks on yellow blocks\n"
     ]
    },
    {
     "name": "stdout",
     "output_type": "stream",
     "text": [
      "[0.21780423 0.21348883 0.32396494]\n",
      "[0.28205439 0.2553079  0.25670736]\n",
      "[0.20819451 0.20411252 0.31368364]\n"
     ]
    },
    {
     "name": "stderr",
     "output_type": "stream",
     "text": [
      "T: No, now you cannot put b0 in the tower because you must put green blocks on yellow blocks\n",
      "T: No, now you cannot put b0 in the tower because you must put green blocks on yellow blocks\n"
     ]
    },
    {
     "name": "stdout",
     "output_type": "stream",
     "text": [
      "[0.20819451 0.20411252 0.31368364]\n"
     ]
    },
    {
     "name": "stderr",
     "output_type": "stream",
     "text": [
      "T: No, now you cannot put b0 in the tower because you must put green blocks on yellow blocks\n"
     ]
    },
    {
     "name": "stdout",
     "output_type": "stream",
     "text": [
      "[0.20819451 0.20411252 0.31368364]\n"
     ]
    },
    {
     "name": "stderr",
     "output_type": "stream",
     "text": [
      "T: No, now you cannot put b1 in the tower because you must put red blocks on blue blocks\n"
     ]
    },
    {
     "name": "stdout",
     "output_type": "stream",
     "text": [
      "[0.28958972 0.30921792 0.28679434]\n"
     ]
    },
    {
     "name": "stderr",
     "output_type": "stream",
     "text": [
      "T: No, now you cannot put b0 in the tower because you must put green blocks on yellow blocks\n"
     ]
    },
    {
     "name": "stdout",
     "output_type": "stream",
     "text": [
      "problem42.pddl reward: -26\n",
      "Parsing domain blocks-domain.pddl\n",
      "Parsing problem tworules/problem43.pddl\n"
     ]
    },
    {
     "name": "stderr",
     "output_type": "stream",
     "text": [
      "T: no, put red blocks on blue blocks\n",
      "T: no, put red blocks on blue blocks\n"
     ]
    },
    {
     "name": "stdout",
     "output_type": "stream",
     "text": [
      "(forall (?x) (or (not (red ?x)) (exists (?y) (and (blue ?y) (on ?x ?y)))))\n",
      "[0.15879535 0.12985599 0.13602169]\n",
      "[0.28918384 0.30889528 0.2868454 ]\n",
      "(forall (?x) (or (not (red ?x)) (exists (?y) (and (blue ?y) (on ?x ?y)))))\n",
      "[0.28918384 0.30889528 0.2868454 ]\n"
     ]
    },
    {
     "name": "stderr",
     "output_type": "stream",
     "text": [
      "T: no, put green blocks on yellow blocks\n",
      "T: no, put green blocks on yellow blocks\n"
     ]
    },
    {
     "name": "stdout",
     "output_type": "stream",
     "text": [
      "(forall (?y) (or (not (yellow ?y)) (exists (?x) (and (green ?x) (on ?x ?y)))))\n",
      "[0.28192805 0.2554112  0.25672172]\n",
      "(forall (?y) (or (not (yellow ?y)) (exists (?x) (and (green ?x) (on ?x ?y)))))\n",
      "[0.28191915 0.25541798 0.25671485]\n"
     ]
    },
    {
     "name": "stderr",
     "output_type": "stream",
     "text": [
      "T: no, put green blocks on yellow blocks\n"
     ]
    },
    {
     "name": "stdout",
     "output_type": "stream",
     "text": [
      "(forall (?y) (or (not (yellow ?y)) (exists (?x) (and (green ?x) (on ?x ?y)))))\n",
      "[0.2819189  0.25541767 0.25671516]\n"
     ]
    },
    {
     "name": "stderr",
     "output_type": "stream",
     "text": [
      "T: no, put red blocks on blue blocks\n",
      "T: no, put red blocks on blue blocks\n"
     ]
    },
    {
     "name": "stdout",
     "output_type": "stream",
     "text": [
      "(forall (?x) (or (not (red ?x)) (exists (?y) (and (blue ?y) (on ?x ?y)))))\n",
      "[0.28918384 0.30889528 0.2868454 ]\n",
      "(forall (?x) (or (not (red ?x)) (exists (?y) (and (blue ?y) (on ?x ?y)))))\n"
     ]
    },
    {
     "name": "stderr",
     "output_type": "stream",
     "text": [
      "T: no, put red blocks on blue blocks\n"
     ]
    },
    {
     "name": "stdout",
     "output_type": "stream",
     "text": [
      "(forall (?x) (or (not (red ?x)) (exists (?y) (and (blue ?y) (on ?x ?y)))))\n",
      "problem43.pddl reward: -26\n",
      "Parsing domain blocks-domain.pddl\n",
      "Parsing problem tworules/problem44.pddl\n"
     ]
    },
    {
     "name": "stderr",
     "output_type": "stream",
     "text": [
      "T: no, put red blocks on blue blocks\n"
     ]
    },
    {
     "name": "stdout",
     "output_type": "stream",
     "text": [
      "(forall (?x) (or (not (red ?x)) (exists (?y) (and (blue ?y) (on ?x ?y)))))\n",
      "[0.15673563 0.12611561 0.13215556]\n"
     ]
    },
    {
     "name": "stderr",
     "output_type": "stream",
     "text": [
      "T: no, put red blocks on blue blocks\n"
     ]
    },
    {
     "name": "stdout",
     "output_type": "stream",
     "text": [
      "(forall (?x) (or (not (red ?x)) (exists (?y) (and (blue ?y) (on ?x ?y)))))\n",
      "[0.28918384 0.30889528 0.2868454 ]\n"
     ]
    },
    {
     "name": "stderr",
     "output_type": "stream",
     "text": [
      "T: no, put red blocks on blue blocks\n"
     ]
    },
    {
     "name": "stdout",
     "output_type": "stream",
     "text": [
      "(forall (?x) (or (not (red ?x)) (exists (?y) (and (blue ?y) (on ?x ?y)))))\n",
      "[0.28918384 0.30889528 0.2868454 ]\n"
     ]
    },
    {
     "name": "stderr",
     "output_type": "stream",
     "text": [
      "T: no, put red blocks on blue blocks\n",
      "T: no, put red blocks on blue blocks\n"
     ]
    },
    {
     "name": "stdout",
     "output_type": "stream",
     "text": [
      "(forall (?x) (or (not (red ?x)) (exists (?y) (and (blue ?y) (on ?x ?y)))))\n",
      "[0.28918384 0.30889528 0.2868454 ]\n",
      "(forall (?x) (or (not (red ?x)) (exists (?y) (and (blue ?y) (on ?x ?y)))))\n"
     ]
    },
    {
     "name": "stderr",
     "output_type": "stream",
     "text": [
      "T: No, now you cannot put b2 in the tower because you must put green blocks on yellow blocks\n"
     ]
    },
    {
     "name": "stdout",
     "output_type": "stream",
     "text": [
      "[0.28918384 0.30889528 0.2868454 ]\n"
     ]
    },
    {
     "name": "stderr",
     "output_type": "stream",
     "text": [
      "T: no, put red blocks on blue blocks\n"
     ]
    },
    {
     "name": "stdout",
     "output_type": "stream",
     "text": [
      "[0.27218391 0.24397537 0.24551026]\n",
      "[0.27220674 0.24391369 0.24552894]\n",
      "[0.19938964 0.19550438 0.30275433]\n",
      "(forall (?x) (or (not (red ?x)) (exists (?y) (and (blue ?y) (on ?x ?y)))))\n"
     ]
    },
    {
     "name": "stderr",
     "output_type": "stream",
     "text": [
      "T: No, now you cannot put b2 in the tower because you must put green blocks on yellow blocks\n"
     ]
    },
    {
     "name": "stdout",
     "output_type": "stream",
     "text": [
      "[0.28918384 0.30889528 0.2868454 ]\n"
     ]
    },
    {
     "name": "stderr",
     "output_type": "stream",
     "text": [
      "T: no, put red blocks on blue blocks\n"
     ]
    },
    {
     "name": "stdout",
     "output_type": "stream",
     "text": [
      "(forall (?x) (or (not (red ?x)) (exists (?y) (and (blue ?y) (on ?x ?y)))))\n",
      "(forall (?x) (or (not (red ?x)) (exists (?y) (and (blue ?y) (on ?x ?y)))))"
     ]
    },
    {
     "name": "stderr",
     "output_type": "stream",
     "text": [
      "T: no, put red blocks on blue blocks\n"
     ]
    },
    {
     "name": "stdout",
     "output_type": "stream",
     "text": [
      "\n"
     ]
    },
    {
     "name": "stderr",
     "output_type": "stream",
     "text": [
      "T: no, put red blocks on blue blocks\n"
     ]
    },
    {
     "name": "stdout",
     "output_type": "stream",
     "text": [
      "(forall (?x) (or (not (red ?x)) (exists (?y) (and (blue ?y) (on ?x ?y)))))\n",
      "[0.28918384 0.30889528 0.2868454 ]\n",
      "problem44.pddl reward: -32\n",
      "Parsing domain blocks-domain.pddl\n",
      "Parsing problem tworules/problem45.pddl\n"
     ]
    },
    {
     "name": "stderr",
     "output_type": "stream",
     "text": [
      "T: No, now you cannot put b4 in the tower because you must put green blocks on yellow blocks\n"
     ]
    },
    {
     "name": "stdout",
     "output_type": "stream",
     "text": [
      "[0.2628116  0.23725589 0.23459961]\n",
      "[0.1993911  0.19550422 0.30275392]\n",
      "[0.26281176 0.23725539 0.23459981]\n",
      "[0.1912346  0.18752783 0.29241694]\n",
      "problem45.pddl reward: -12\n",
      "Parsing domain blocks-domain.pddl\n",
      "Parsing problem tworules/problem46.pddl\n"
     ]
    },
    {
     "name": "stderr",
     "output_type": "stream",
     "text": [
      "T: No, now you cannot put b2 in the tower because you must put red blocks on blue blocks\n"
     ]
    },
    {
     "name": "stdout",
     "output_type": "stream",
     "text": [
      "[0.15673562 0.12611561 0.13215556]\n",
      "[0.27435576 0.29515071 0.27127243]\n",
      "[0.15343921 0.12258429 0.12850233]\n",
      "[0.27435575 0.2951507  0.27127244]\n"
     ]
    },
    {
     "name": "stderr",
     "output_type": "stream",
     "text": [
      "T: No, now you cannot put b2 in the tower because you must put red blocks on blue blocks\n"
     ]
    },
    {
     "name": "stdout",
     "output_type": "stream",
     "text": [
      "[0.15343921 0.12258429 0.12850233]\n"
     ]
    },
    {
     "name": "stderr",
     "output_type": "stream",
     "text": [
      "T: No, now you cannot put b2 in the tower because you must put red blocks on blue blocks\n"
     ]
    },
    {
     "name": "stdout",
     "output_type": "stream",
     "text": [
      "[0.15343921 0.12258429 0.12850233]\n",
      "problem46.pddl reward: -16\n",
      "Parsing domain blocks-domain.pddl\n",
      "Parsing problem tworules/problem47.pddl\n"
     ]
    },
    {
     "name": "stderr",
     "output_type": "stream",
     "text": [
      "T: no, put red blocks on blue blocks\n"
     ]
    },
    {
     "name": "stdout",
     "output_type": "stream",
     "text": [
      "(forall (?x) (or (not (red ?x)) (exists (?y) (and (blue ?y) (on ?x ?y)))))\n",
      "[0.15025695 0.11924502 0.12504496]\n"
     ]
    },
    {
     "name": "stderr",
     "output_type": "stream",
     "text": [
      "T: no, put green blocks on yellow blocks\n"
     ]
    },
    {
     "name": "stdout",
     "output_type": "stream",
     "text": [
      "(forall (?y) (or (not (yellow ?y)) (exists (?x) (and (green ?x) (on ?x ?y)))))\n",
      "[0.26292214 0.23691419 0.23435262]\n",
      "[0.18396443 0.18041646 0.28303429]\n"
     ]
    },
    {
     "name": "stderr",
     "output_type": "stream",
     "text": [
      "T: no, put red blocks on blue blocks\n"
     ]
    },
    {
     "name": "stdout",
     "output_type": "stream",
     "text": [
      "(forall (?x) (or (not (red ?x)) (exists (?y) (and (blue ?y) (on ?x ?y)))))\n",
      "[0.14864328 0.11608299 0.12176861]\n",
      "[0.27435913 0.29514915 0.2712742 ]\n",
      "problem47.pddl reward: -16\n",
      "Parsing domain blocks-domain.pddl\n",
      "Parsing problem tworules/problem48.pddl\n"
     ]
    },
    {
     "name": "stderr",
     "output_type": "stream",
     "text": [
      "T: no, put green blocks on yellow blocks\n",
      "T: no, put green blocks on yellow blocks\n"
     ]
    },
    {
     "name": "stdout",
     "output_type": "stream",
     "text": [
      "(forall (?y) (or (not (yellow ?y)) (exists (?x) (and (green ?x) (on ?x ?y)))))\n",
      "[0.26292643 0.2369054  0.2343604 ]\n",
      "[0.17700682 0.17360931 0.27390861]\n",
      "(forall (?y) (or (not (yellow ?y)) (exists (?x) (and (green ?x) (on ?x ?y)))))\n",
      "[0.26292635 0.23690548 0.23436035]"
     ]
    },
    {
     "name": "stderr",
     "output_type": "stream",
     "text": [
      "T: no, put green blocks on yellow blocks\n"
     ]
    },
    {
     "name": "stdout",
     "output_type": "stream",
     "text": [
      "\n",
      "(forall (?y) (or (not (yellow ?y)) (exists (?x) (and (green ?x) (on ?x ?y)))))\n",
      "[0.26292635 0.23690548 0.23436035]\n"
     ]
    },
    {
     "name": "stderr",
     "output_type": "stream",
     "text": [
      "T: no, put green blocks on yellow blocks\n",
      "T: no, put green blocks on yellow blocks\n"
     ]
    },
    {
     "name": "stdout",
     "output_type": "stream",
     "text": [
      "(forall (?y) (or (not (yellow ?y)) (exists (?x) (and (green ?x) (on ?x ?y)))))\n",
      "[0.26292635 0.23690548 0.23436035]\n",
      "(forall (?y) (or (not (yellow ?y)) (exists (?x) (and (green ?x) (on ?x ?y)))))\n"
     ]
    },
    {
     "name": "stderr",
     "output_type": "stream",
     "text": [
      "T: no, put green blocks on yellow blocks\n",
      "T: no, put green blocks on yellow blocks\n"
     ]
    },
    {
     "name": "stdout",
     "output_type": "stream",
     "text": [
      "(forall (?y) (or (not (yellow ?y)) (exists (?x) (and (green ?x) (on ?x ?y)))))\n",
      "(forall (?y) (or (not (yellow ?y)) (exists (?x) (and (green ?x) (on ?x ?y)))))\n",
      "problem48.pddl reward: -24\n",
      "Parsing domain blocks-domain.pddl\n",
      "Parsing problem tworules/problem49.pddl\n"
     ]
    },
    {
     "name": "stderr",
     "output_type": "stream",
     "text": [
      "T: No, now you cannot put b1 in the tower because you must put green blocks on yellow blocks\n",
      "T: No, now you cannot put b1 in the tower because you must put green blocks on yellow blocks\n"
     ]
    },
    {
     "name": "stdout",
     "output_type": "stream",
     "text": [
      "[0.25403495 0.23041681 0.2243775 ]\n",
      "[0.17700682 0.17360931 0.27390861]\n",
      "[0.25403495 0.23041681 0.2243775 ]\n",
      "[0.17060293 0.16735194 0.27740864]\n",
      "[0.17060293 0.16735194 0.27740864]\n",
      "problem49.pddl reward: -14\n",
      "Parsing domain blocks-domain.pddl\n",
      "Parsing problem "
     ]
    },
    {
     "name": "stderr",
     "output_type": "stream",
     "text": [
      "T: No, now you cannot put b3 in the tower because you must put red blocks on blue blocks\n"
     ]
    },
    {
     "name": "stdout",
     "output_type": "stream",
     "text": [
      "tworules/problem5.pddl\n",
      "[0.14864328 0.11608299 0.12176861]\n",
      "[0.26258554 0.28517836 0.25927557]\n",
      "[0.14697928 0.11308369 0.11865864]\n",
      "[0.26258554 0.28517836 0.25927557]\n"
     ]
    },
    {
     "name": "stderr",
     "output_type": "stream",
     "text": [
      "T: No, now you cannot put b3 in the tower because you must put red blocks on blue blocks\n"
     ]
    },
    {
     "name": "stdout",
     "output_type": "stream",
     "text": [
      "[0.14697928 0.11308369 0.11865864]\n"
     ]
    },
    {
     "name": "stderr",
     "output_type": "stream",
     "text": [
      "T: No, now you cannot put b3 in the tower because you must put red blocks on blue blocks\n"
     ]
    },
    {
     "name": "stdout",
     "output_type": "stream",
     "text": [
      "[0.14697928 0.11308369 0.11865864]\n"
     ]
    },
    {
     "name": "stderr",
     "output_type": "stream",
     "text": [
      "T: No, now you cannot put b3 in the tower because you must put red blocks on blue blocks\n"
     ]
    },
    {
     "name": "stdout",
     "output_type": "stream",
     "text": [
      "[0.14697928 0.11308369 0.11865864]\n"
     ]
    },
    {
     "name": "stderr",
     "output_type": "stream",
     "text": [
      "T: No, now you cannot put b3 in the tower because you must put red blocks on blue blocks\n"
     ]
    },
    {
     "name": "stdout",
     "output_type": "stream",
     "text": [
      "[0.14697928 0.11308369 0.11865864]\n"
     ]
    },
    {
     "name": "stderr",
     "output_type": "stream",
     "text": [
      "T: No, now you cannot put b4 in the tower because you must put green blocks on yellow blocks\n",
      "R: Is the top object green?\n",
      "T: yes\n"
     ]
    },
    {
     "name": "stdout",
     "output_type": "stream",
     "text": [
      "problem5.pddl reward: -22\n",
      "Parsing domain blocks-domain.pddl\n",
      "Parsing problem tworules/problem50.pddl\n",
      "problem50.pddl reward: -10\n",
      "Parsing domain blocks-domain.pddl\n",
      "Parsing problem tworules/problem6.pddl\n"
     ]
    },
    {
     "name": "stderr",
     "output_type": "stream",
     "text": [
      "T: No, now you cannot put b0 in the tower because you must put green blocks on yellow blocks\n",
      "T: No, now you cannot put b0 in the tower because you must put green blocks on yellow blocks\n"
     ]
    },
    {
     "name": "stdout",
     "output_type": "stream",
     "text": [
      "[0.24338714 0.22383677 0.21789596]\n",
      "[0.24338714 0.22383677 0.21789596]\n",
      "[0.16464545 0.16152893 0.2703228 ]\n"
     ]
    },
    {
     "name": "stderr",
     "output_type": "stream",
     "text": [
      "T: No, now you cannot put b0 in the tower because you must put green blocks on yellow blocks\n"
     ]
    },
    {
     "name": "stdout",
     "output_type": "stream",
     "text": [
      "[0.16464545 0.16152893 0.2703228 ]\n"
     ]
    },
    {
     "name": "stderr",
     "output_type": "stream",
     "text": [
      "T: No, now you cannot put b0 in the tower because you must put green blocks on yellow blocks\n"
     ]
    },
    {
     "name": "stdout",
     "output_type": "stream",
     "text": [
      "[0.16464545 0.16152893 0.2703228 ]\n"
     ]
    },
    {
     "name": "stderr",
     "output_type": "stream",
     "text": [
      "T: No, now you cannot put b0 in the tower because you must put green blocks on yellow blocks\n"
     ]
    },
    {
     "name": "stdout",
     "output_type": "stream",
     "text": [
      "[0.16464545 0.16152893 0.2703228 ]\n"
     ]
    },
    {
     "name": "stderr",
     "output_type": "stream",
     "text": [
      "T: No, now you cannot put b0 in the tower because you must put green blocks on yellow blocks\n"
     ]
    },
    {
     "name": "stdout",
     "output_type": "stream",
     "text": [
      "[0.16464545 0.16152893 0.2703228 ]\n"
     ]
    },
    {
     "name": "stderr",
     "output_type": "stream",
     "text": [
      "T: No, now you cannot put b0 in the tower because you must put green blocks on yellow blocks\n"
     ]
    },
    {
     "name": "stdout",
     "output_type": "stream",
     "text": [
      "[0.16464545 0.16152893 0.2703228 ]\n",
      "[0.23446402 0.21742948 0.21341805]\n",
      "[0.16464545 0.16152893 0.2703228 ]\n",
      "problem6.pddl reward: -24\n",
      "Parsing domain blocks-domain.pddl\n",
      "Parsing problem tworules/problem7.pddl\n"
     ]
    },
    {
     "name": "stderr",
     "output_type": "stream",
     "text": [
      "T: no, put red blocks on blue blocks\n",
      "T: no, put red blocks on blue blocks\n"
     ]
    },
    {
     "name": "stdout",
     "output_type": "stream",
     "text": [
      "(forall (?x) (or (not (red ?x)) (exists (?y) (and (blue ?y) (on ?x ?y)))))\n",
      "[0.14432394 0.11023531 0.11570318]\n",
      "[0.26258597 0.28517822 0.25927582]\n",
      "(forall (?x) (or (not (red ?x)) (exists (?y) (and (blue ?y) (on ?x ?y)))))\n",
      "[0.26258597 0.28517822 0.25927583]"
     ]
    },
    {
     "name": "stderr",
     "output_type": "stream",
     "text": [
      "T: no, put red blocks on blue blocks\n",
      "T: no, put red blocks on blue blocks\n"
     ]
    },
    {
     "name": "stdout",
     "output_type": "stream",
     "text": [
      "\n",
      "(forall (?x) (or (not (red ?x)) (exists (?y) (and (blue ?y) (on ?x ?y)))))\n",
      "[0.26258597 0.28517822 0.25927583]\n",
      "(forall (?x) (or (not (red ?x)) (exists (?y) (and (blue ?y) (on ?x ?y)))))\n",
      "[0.26258597 0.28517822 0.25927583]\n"
     ]
    },
    {
     "name": "stderr",
     "output_type": "stream",
     "text": [
      "T: no, put red blocks on blue blocks\n",
      "T: no, put red blocks on blue blocks\n"
     ]
    },
    {
     "name": "stdout",
     "output_type": "stream",
     "text": [
      "(forall (?x) (or (not (red ?x)) (exists (?y) (and (blue ?y) (on ?x ?y)))))\n",
      "[0.26258597 0.28517822 0.25927583]\n",
      "(forall (?x) (or (not (red ?x)) (exists (?y) (and (blue ?y) (on ?x ?y)))))\n",
      "[0.26258597 0.28517822 0.25927583]\n",
      "problem7.pddl reward: -22\n",
      "Parsing domain blocks-domain.pddl\n",
      "Parsing problem tworules/problem8.pddl\n"
     ]
    },
    {
     "name": "stderr",
     "output_type": "stream",
     "text": [
      "T: no, put red blocks on blue blocks\n"
     ]
    },
    {
     "name": "stdout",
     "output_type": "stream",
     "text": [
      "(forall (?x) (or (not (red ?x)) (exists (?y) (and (blue ?y) (on ?x ?y)))))\n",
      "[0.14073058 0.10770397 0.1129747 ]\n"
     ]
    },
    {
     "name": "stderr",
     "output_type": "stream",
     "text": [
      "T: No, now you cannot put b5 in the tower because you must put green blocks on yellow blocks\n"
     ]
    },
    {
     "name": "stdout",
     "output_type": "stream",
     "text": [
      "[0.2262458  0.2091335  0.20533013]\n",
      "[0.2262458  0.2091335  0.20533013]\n",
      "[0.15904277 0.15604311 0.26263756]\n"
     ]
    },
    {
     "name": "stderr",
     "output_type": "stream",
     "text": [
      "T: No, now you cannot put b5 in the tower because you must put green blocks on yellow blocks\n",
      "T: No, now you cannot put b5 in the tower because you must put green blocks on yellow blocks\n"
     ]
    },
    {
     "name": "stdout",
     "output_type": "stream",
     "text": [
      "[0.15904277 0.15604311 0.26263756]\n",
      "problem8.pddl reward: -18\n",
      "Parsing domain blocks-domain.pddl\n",
      "Parsing problem tworules/problem9.pddl\n"
     ]
    },
    {
     "name": "stderr",
     "output_type": "stream",
     "text": [
      "T: No, now you cannot put b0 in the tower because you must put red blocks on blue blocks\n"
     ]
    },
    {
     "name": "stdout",
     "output_type": "stream",
     "text": [
      "[0.14073058 0.10770397 0.1129747 ]\n",
      "[0.25067428 0.27414311 0.24984095]\n",
      "[0.13731179 0.1052847  0.11037098]\n",
      "[0.25067428 0.27414311 0.24984095]\n",
      "problem9.pddl reward: -12\n"
     ]
    },
    {
     "name": "stderr",
     "output_type": "stream",
     "text": [
      "T: No, now you cannot put b1 in the tower because you must put green blocks on yellow blocks\n",
      "R: Is the top object green?\n"
     ]
    },
    {
     "name": "stdout",
     "output_type": "stream",
     "text": [
      "Parsing domain blocks-domain.pddl\n",
      "Parsing problem tworules/problem1.pddl\n",
      "Parsing domain blocks-domain.pddl\n",
      "Parsing problem tworules/problem1.pddl\n"
     ]
    },
    {
     "name": "stderr",
     "output_type": "stream",
     "text": [
      "T: yes\n",
      "T: No, now you cannot put b1 in the tower because you must put green blocks on yellow blocks\n"
     ]
    },
    {
     "name": "stdout",
     "output_type": "stream",
     "text": [
      "[0.80318378 0.825      0.80996578]\n",
      "[1. 1. 1.]\n",
      "[0.80318378 0.825      0.80996578]\n",
      "[0.82307766 0.82307766 0.81046713]\n",
      "[0.82307766 0.82307766 0.81046713]\n"
     ]
    },
    {
     "name": "stderr",
     "output_type": "stream",
     "text": [
      "T: No, now you cannot put b1 in the tower because you must put green blocks on yellow blocks\n",
      "T: No, now you cannot put b1 in the tower because you must put green blocks on yellow blocks\n"
     ]
    },
    {
     "name": "stdout",
     "output_type": "stream",
     "text": [
      "[0.82307766 0.82307766 0.81046713]\n",
      "[0.82307766 0.82307766 0.81046713]\n"
     ]
    },
    {
     "name": "stderr",
     "output_type": "stream",
     "text": [
      "T: No, now you cannot put b1 in the tower because you must put green blocks on yellow blocks\n"
     ]
    },
    {
     "name": "stdout",
     "output_type": "stream",
     "text": [
      "[0.82307766 0.82307766 0.81046713]\n",
      "problem1.pddl reward: -20\n",
      "Parsing domain blocks-domain.pddl\n",
      "Parsing problem tworules/problem10.pddl\n"
     ]
    },
    {
     "name": "stderr",
     "output_type": "stream",
     "text": [
      "T: No, now you cannot put b4 in the tower because you must put red blocks on blue blocks\n",
      "R: Is the top object red?\n",
      "T: no\n"
     ]
    },
    {
     "name": "stdout",
     "output_type": "stream",
     "text": [
      "[1. 1. 1.]\n",
      "[0.8060073  0.80077855 0.81461938]\n",
      "[0.80000038 0.825      0.825     ]\n",
      "[0.8060073  0.80077855 0.81461938]\n",
      "problem10.pddl reward: -12\n",
      "Parsing domain blocks-domain.pddl\n",
      "Parsing problem tworules/problem11.pddl\n"
     ]
    },
    {
     "name": "stderr",
     "output_type": "stream",
     "text": [
      "T: no, put red blocks on blue blocks\n",
      "T: no, put red blocks on blue blocks\n"
     ]
    },
    {
     "name": "stdout",
     "output_type": "stream",
     "text": [
      "(forall (?x) (or (not (red ?x)) (exists (?y) (and (blue ?y) (on ?x ?y)))))\n",
      "[0.67098167 0.68901235 0.68901235]\n",
      "(forall (?x) (or (not (red ?x)) (exists (?y) (and (blue ?y) (on ?x ?y)))))\n",
      "[0.5769763  0.59123016 0.59123016]\n"
     ]
    },
    {
     "name": "stderr",
     "output_type": "stream",
     "text": [
      "T: no, put red blocks on blue blocks\n",
      "T: no, put red blocks on blue blocks\n"
     ]
    },
    {
     "name": "stdout",
     "output_type": "stream",
     "text": [
      "(forall (?x) (or (not (red ?x)) (exists (?y) (and (blue ?y) (on ?x ?y)))))\n",
      "[0.8060073  0.80077855 0.81461938]\n",
      "(forall (?x) (or (not (red ?x)) (exists (?y) (and (blue ?y) (on ?x ?y)))))\n"
     ]
    },
    {
     "name": "stderr",
     "output_type": "stream",
     "text": [
      "T: no, put red blocks on blue blocks\n",
      "T: no, put red blocks on blue blocks\n"
     ]
    },
    {
     "name": "stdout",
     "output_type": "stream",
     "text": [
      "(forall (?x) (or (not (red ?x)) (exists (?y) (and (blue ?y) (on ?x ?y)))))\n",
      "[0.8060073  0.80077855 0.81461938]\n",
      "(forall (?x) (or (not (red ?x)) (exists (?y) (and (blue ?y) (on ?x ?y)))))\n"
     ]
    },
    {
     "name": "stderr",
     "output_type": "stream",
     "text": [
      "T: no, put red blocks on blue blocks\n",
      "T: no, put red blocks on blue blocks\n"
     ]
    },
    {
     "name": "stdout",
     "output_type": "stream",
     "text": [
      "(forall (?x) (or (not (red ?x)) (exists (?y) (and (blue ?y) (on ?x ?y)))))\n",
      "[0.8060073  0.80077855 0.81461938]\n",
      "(forall (?x) (or (not (red ?x)) (exists (?y) (and (blue ?y) (on ?x ?y)))))\n"
     ]
    },
    {
     "name": "stderr",
     "output_type": "stream",
     "text": [
      "T: no, put red blocks on blue blocks\n",
      "T: no, put red blocks on blue blocks\n"
     ]
    },
    {
     "name": "stdout",
     "output_type": "stream",
     "text": [
      "(forall (?x) (or (not (red ?x)) (exists (?y) (and (blue ?y) (on ?x ?y)))))\n",
      "[0.8060073  0.80077855 0.81461938]\n",
      "(forall (?x) (or (not (red ?x)) (exists (?y) (and (blue ?y) (on ?x ?y)))))\n"
     ]
    },
    {
     "name": "stderr",
     "output_type": "stream",
     "text": [
      "T: no, put red blocks on blue blocks\n",
      "T: no, put red blocks on blue blocks\n"
     ]
    },
    {
     "name": "stdout",
     "output_type": "stream",
     "text": [
      "(forall (?x) (or (not (red ?x)) (exists (?y) (and (blue ?y) (on ?x ?y)))))\n",
      "(forall (?x) (or (not (red ?x)) (exists (?y) (and (blue ?y) (on ?x ?y)))))\n",
      "[0.8060073  0.80077855 0.81461938]\n",
      "problem11.pddl reward: -34\n",
      "Parsing domain blocks-domain.pddl\n",
      "Parsing problem tworules/problem12.pddl\n"
     ]
    },
    {
     "name": "stderr",
     "output_type": "stream",
     "text": [
      "T: No, now you cannot put b4 in the tower because you must put red blocks on blue blocks\n",
      "T: No, now you cannot put b4 in the tower because you must put red blocks on blue blocks\n"
     ]
    },
    {
     "name": "stdout",
     "output_type": "stream",
     "text": [
      "[0.52985326 0.53276045 0.55173322]\n",
      "[0.77962997 0.77506366 0.78966654]\n",
      "[0.51866423 0.52168103 0.54050363]\n",
      "[0.68189488 0.67881771 0.71359186]\n",
      "[0.47151624 0.48967129 0.50586497]\n"
     ]
    },
    {
     "name": "stderr",
     "output_type": "stream",
     "text": [
      "T: no, put red blocks on blue blocks\n"
     ]
    },
    {
     "name": "stdout",
     "output_type": "stream",
     "text": [
      "(forall (?x) (or (not (red ?x)) (exists (?y) (and (blue ?y) (on ?x ?y)))))\n",
      "[0.5975319  0.60633524 0.63029234]\n",
      "problem12.pddl reward: -16\n",
      "Parsing domain blocks-domain.pddl\n",
      "Parsing problem tworules/problem13.pddl\n"
     ]
    },
    {
     "name": "stderr",
     "output_type": "stream",
     "text": [
      "T: no, put red blocks on blue blocks\n",
      "T: no, put red blocks on blue blocks\n"
     ]
    },
    {
     "name": "stdout",
     "output_type": "stream",
     "text": [
      "(forall (?x) (or (not (red ?x)) (exists (?y) (and (blue ?y) (on ?x ?y)))))\n",
      "[0.43308866 0.45238257 0.46428723]\n",
      "[0.58336018 0.5919157  0.61704576]\n",
      "(forall (?x) (or (not (red ?x)) (exists (?y) (and (blue ?y) (on ?x ?y)))))\n",
      "[0.58108684 0.59045127 0.61460659]\n"
     ]
    },
    {
     "name": "stderr",
     "output_type": "stream",
     "text": [
      "T: no, put red blocks on blue blocks\n",
      "T: no, put red blocks on blue blocks\n"
     ]
    },
    {
     "name": "stdout",
     "output_type": "stream",
     "text": [
      "(forall (?x) (or (not (red ?x)) (exists (?y) (and (blue ?y) (on ?x ?y)))))\n",
      "[0.39779935 0.41724528 0.43115487]\n",
      "(forall (?x) (or (not (red ?x)) (exists (?y) (and (blue ?y) (on ?x ?y)))))\n",
      "[0.58099436 0.59029739 0.61447431]\n"
     ]
    },
    {
     "name": "stderr",
     "output_type": "stream",
     "text": [
      "T: no, put red blocks on blue blocks\n",
      "T: no, put red blocks on blue blocks\n"
     ]
    },
    {
     "name": "stdout",
     "output_type": "stream",
     "text": [
      "(forall (?x) (or (not (red ?x)) (exists (?y) (and (blue ?y) (on ?x ?y)))))\n",
      "(forall (?x) (or (not (red ?x)) (exists (?y) (and (blue ?y) (on ?x ?y)))))\n"
     ]
    },
    {
     "name": "stderr",
     "output_type": "stream",
     "text": [
      "T: no, put red blocks on blue blocks\n"
     ]
    },
    {
     "name": "stdout",
     "output_type": "stream",
     "text": [
      "[0.58098925 0.59028733 0.61446051]\n",
      "(forall (?x) (or (not (red ?x)) (exists (?y) (and (blue ?y) (on ?x ?y)))))\n"
     ]
    },
    {
     "name": "stderr",
     "output_type": "stream",
     "text": [
      "T: no, put red blocks on blue blocks\n",
      "T: no, put red blocks on blue blocks\n"
     ]
    },
    {
     "name": "stdout",
     "output_type": "stream",
     "text": [
      "(forall (?x) (or (not (red ?x)) (exists (?y) (and (blue ?y) (on ?x ?y)))))\n",
      "[0.58098323 0.5902789  0.61445468]\n",
      "(forall (?x) (or (not (red ?x)) (exists (?y) (and (blue ?y) (on ?x ?y)))))\n"
     ]
    },
    {
     "name": "stderr",
     "output_type": "stream",
     "text": [
      "T: no, put red blocks on blue blocks\n"
     ]
    },
    {
     "name": "stdout",
     "output_type": "stream",
     "text": [
      "(forall (?x) (or (not (red ?x)) (exists (?y) (and (blue ?y) (on ?x ?y)))))\n",
      "problem13.pddl reward: -30\n",
      "Parsing domain blocks-domain.pddl\n",
      "Parsing problem tworules/problem14.pddl\n"
     ]
    },
    {
     "name": "stderr",
     "output_type": "stream",
     "text": [
      "T: no, put red blocks on blue blocks\n",
      "T: no, put red blocks on blue blocks\n"
     ]
    },
    {
     "name": "stdout",
     "output_type": "stream",
     "text": [
      "(forall (?x) (or (not (red ?x)) (exists (?y) (and (blue ?y) (on ?x ?y)))))\n",
      "[0.36740271 0.38657429 0.40151149]\n",
      "(forall (?x) (or (not (red ?x)) (exists (?y) (and (blue ?y) (on ?x ?y)))))\n",
      "[0.58098323 0.5902789  0.61445468]\n"
     ]
    },
    {
     "name": "stderr",
     "output_type": "stream",
     "text": [
      "T: no, put red blocks on blue blocks\n"
     ]
    },
    {
     "name": "stdout",
     "output_type": "stream",
     "text": [
      "(forall (?x) (or (not (red ?x)) (exists (?y) (and (blue ?y) (on ?x ?y)))))\n",
      "[0.58098323 0.5902789  0.61445468]\n"
     ]
    },
    {
     "name": "stderr",
     "output_type": "stream",
     "text": [
      "T: no, put red blocks on blue blocks\n",
      "T: No, now you cannot put b2 in the tower because you must put green blocks on yellow blocks\n"
     ]
    },
    {
     "name": "stdout",
     "output_type": "stream",
     "text": [
      "(forall (?x) (or (not (red ?x)) (exists (?y) (and (blue ?y) (on ?x ?y)))))\n",
      "[0.58098323 0.5902789  0.61445468]\n"
     ]
    },
    {
     "name": "stderr",
     "output_type": "stream",
     "text": [
      "T: No, now you cannot put b2 in the tower because you must put green blocks on yellow blocks\n"
     ]
    },
    {
     "name": "stdout",
     "output_type": "stream",
     "text": [
      "[0.67641555 0.69507713 0.68439739]\n",
      "[0.670872   0.68827454 0.68009509]\n",
      "[0.69934719 0.69934719 0.68533864]\n"
     ]
    },
    {
     "name": "stderr",
     "output_type": "stream",
     "text": [
      "T: No, now you cannot put b2 in the tower because you must put green blocks on yellow blocks\n"
     ]
    },
    {
     "name": "stdout",
     "output_type": "stream",
     "text": [
      "[0.69934719 0.69934719 0.68533864]\n"
     ]
    },
    {
     "name": "stderr",
     "output_type": "stream",
     "text": [
      "T: no, put red blocks on blue blocks\n"
     ]
    },
    {
     "name": "stdout",
     "output_type": "stream",
     "text": [
      "problem14.pddl reward: -24\n",
      "Parsing domain blocks-domain.pddl\n",
      "Parsing problem tworules/problem15.pddl\n",
      "(forall (?x) (or (not (red ?x)) (exists (?y) (and (blue ?y) (on ?x ?y)))))\n"
     ]
    },
    {
     "name": "stderr",
     "output_type": "stream",
     "text": [
      "T: no, put red blocks on blue blocks\n"
     ]
    },
    {
     "name": "stdout",
     "output_type": "stream",
     "text": [
      "[0.34643139 0.36080739 0.37618758]\n",
      "[0.57974387 0.58786994 0.61115824]\n",
      "(forall (?x) (or (not (red ?x)) (exists (?y) (and (blue ?y) (on ?x ?y)))))\n",
      "[0.57967241 0.58780209 0.61109327]\n",
      "problem15.pddl reward: -14\n",
      "Parsing domain blocks-domain.pddl\n",
      "Parsing problem tworules/problem16.pddl\n"
     ]
    },
    {
     "name": "stderr",
     "output_type": "stream",
     "text": [
      "T: No, now you cannot put b1 in the tower because you must put green blocks on yellow blocks\n"
     ]
    },
    {
     "name": "stdout",
     "output_type": "stream",
     "text": [
      "[0.58194685 0.60163007 0.59845243]\n",
      "[0.69014211 0.69007873 0.6827095 ]\n",
      "[0.57689141 0.59485686 0.59430076]\n",
      "[0.60214452 0.60244989 0.59593564]\n"
     ]
    },
    {
     "name": "stderr",
     "output_type": "stream",
     "text": [
      "T: no, put red blocks on blue blocks\n"
     ]
    },
    {
     "name": "stdout",
     "output_type": "stream",
     "text": [
      "(forall (?x) (or (not (red ?x)) (exists (?y) (and (blue ?y) (on ?x ?y)))))\n",
      "[0.33135411 0.34286517 0.35835983]\n"
     ]
    },
    {
     "name": "stderr",
     "output_type": "stream",
     "text": [
      "T: No, now you cannot put b1 in the tower because you must put green blocks on yellow blocks\n"
     ]
    },
    {
     "name": "stdout",
     "output_type": "stream",
     "text": [
      "[0.602048   0.60235199 0.59583765]\n"
     ]
    },
    {
     "name": "stderr",
     "output_type": "stream",
     "text": [
      "T: no, put red blocks on blue blocks\n"
     ]
    },
    {
     "name": "stdout",
     "output_type": "stream",
     "text": [
      "(forall (?x) (or (not (red ?x)) (exists (?y) (and (blue ?y) (on ?x ?y)))))\n"
     ]
    },
    {
     "name": "stderr",
     "output_type": "stream",
     "text": [
      "T: No, now you cannot put b0 in the tower because you must put red blocks on blue blocks\n"
     ]
    },
    {
     "name": "stdout",
     "output_type": "stream",
     "text": [
      "[0.53669352 0.54831459 0.55208124]\n",
      "[0.31684538 0.32597637 0.34144927]\n",
      "[0.53331462 0.53736697 0.54277067]\n"
     ]
    },
    {
     "name": "stderr",
     "output_type": "stream",
     "text": [
      "T: No, now you cannot put b1 in the tower because you must put green blocks on yellow blocks\n",
      "T: No, now you cannot put b1 in the tower because you must put green blocks on yellow blocks\n"
     ]
    },
    {
     "name": "stdout",
     "output_type": "stream",
     "text": [
      "[0.602048   0.60235199 0.59583765]\n"
     ]
    },
    {
     "name": "stderr",
     "output_type": "stream",
     "text": [
      "T: No, now you cannot put b0 in the tower because you must put red blocks on blue blocks\n"
     ]
    },
    {
     "name": "stdout",
     "output_type": "stream",
     "text": [
      "[0.48307396 0.48693721 0.48482403]\n"
     ]
    },
    {
     "name": "stderr",
     "output_type": "stream",
     "text": [
      "T: No, now you cannot put b0 in the tower because you must put red blocks on blue blocks\n",
      "T: No, now you cannot put b1 in the tower because you must put green blocks on yellow blocks\n"
     ]
    },
    {
     "name": "stdout",
     "output_type": "stream",
     "text": [
      "problem16.pddl reward: -30\n",
      "Parsing domain blocks-domain.pddl\n",
      "Parsing problem tworules/problem17.pddl\n"
     ]
    },
    {
     "name": "stderr",
     "output_type": "stream",
     "text": [
      "T: No, now you cannot put b5 in the tower because you must put green blocks on yellow blocks\n"
     ]
    },
    {
     "name": "stdout",
     "output_type": "stream",
     "text": [
      "[0.54382666 0.53396707 0.53768555]\n",
      "[0.60303963 0.59880218 0.59539235]\n",
      "[0.5418311  0.53080978 0.53588555]\n",
      "[0.53259872 0.52888981 0.52517398]\n",
      "problem17.pddl reward: -12\n",
      "Parsing domain blocks-domain.pddl\n",
      "Parsing problem tworules/problem18.pddl\n"
     ]
    },
    {
     "name": "stderr",
     "output_type": "stream",
     "text": [
      "T: No, now you cannot put b1 in the tower because you must put red blocks on blue blocks\n"
     ]
    },
    {
     "name": "stdout",
     "output_type": "stream",
     "text": [
      "[0.30033759 0.30772158 0.34052908]\n",
      "[0.47537196 0.47918916 0.47997543]\n",
      "[0.29752936 0.3047941  0.33719464]\n",
      "[0.45681577 0.44388843 0.44347016]\n"
     ]
    },
    {
     "name": "stderr",
     "output_type": "stream",
     "text": [
      "T: No, now you cannot put b1 in the tower because you must put red blocks on blue blocks\n"
     ]
    },
    {
     "name": "stdout",
     "output_type": "stream",
     "text": [
      "[0.28320935 0.30278266 0.33122166]\n"
     ]
    },
    {
     "name": "stderr",
     "output_type": "stream",
     "text": [
      "T: No, now you cannot put b1 in the tower because you must put red blocks on blue blocks\n"
     ]
    },
    {
     "name": "stdout",
     "output_type": "stream",
     "text": [
      "[0.26933439 0.31699031 0.32752957]\n"
     ]
    },
    {
     "name": "stderr",
     "output_type": "stream",
     "text": [
      "T: No, now you cannot put b1 in the tower because you must put red blocks on blue blocks\n"
     ]
    },
    {
     "name": "stdout",
     "output_type": "stream",
     "text": [
      "[0.25707563 0.30707143 0.31501062]\n"
     ]
    },
    {
     "name": "stderr",
     "output_type": "stream",
     "text": [
      "T: No, now you cannot put b1 in the tower because you must put red blocks on blue blocks\n"
     ]
    },
    {
     "name": "stdout",
     "output_type": "stream",
     "text": [
      "[0.26735067 0.29295963 0.29956932]\n"
     ]
    },
    {
     "name": "stderr",
     "output_type": "stream",
     "text": [
      "T: no, put green blocks on yellow blocks\n",
      "R: Is the top object green?\n",
      "T: no\n",
      "T: no, put green blocks on yellow blocks\n"
     ]
    },
    {
     "name": "stdout",
     "output_type": "stream",
     "text": [
      "(forall (?y) (or (not (yellow ?y)) (exists (?x) (and (green ?x) (on ?x ?y)))))\n",
      "(forall (?y) (or (not (yellow ?y)) (exists (?x) (and (green ?x) (on ?x ?y)))))\n"
     ]
    },
    {
     "name": "stderr",
     "output_type": "stream",
     "text": [
      "T: no, put red blocks on blue blocks\n"
     ]
    },
    {
     "name": "stdout",
     "output_type": "stream",
     "text": [
      "(forall (?x) (or (not (red ?x)) (exists (?y) (and (blue ?y) (on ?x ?y)))))\n",
      "problem18.pddl reward: -26\n",
      "Parsing domain blocks-domain.pddl\n",
      "Parsing problem tworules/problem19.pddl\n",
      "problem19.pddl reward: -10\n",
      "Parsing domain blocks-domain.pddl\n",
      "Parsing problem tworules/problem2.pddl\n"
     ]
    },
    {
     "name": "stderr",
     "output_type": "stream",
     "text": [
      "T: No, now you cannot put b0 in the tower because you must put green blocks on yellow blocks\n"
     ]
    },
    {
     "name": "stdout",
     "output_type": "stream",
     "text": [
      "[0.48496587 0.47845043 0.48197087]\n",
      "[0.53162271 0.52683483 0.52187427]\n",
      "[0.48368263 0.47609513 0.47965914]\n",
      "[0.47674029 0.47243914 0.51627596]\n"
     ]
    },
    {
     "name": "stderr",
     "output_type": "stream",
     "text": [
      "T: No, now you cannot put b0 in the tower because you must put green blocks on yellow blocks\n"
     ]
    },
    {
     "name": "stdout",
     "output_type": "stream",
     "text": [
      "[0.47672471 0.47242437 0.51625921]\n"
     ]
    },
    {
     "name": "stderr",
     "output_type": "stream",
     "text": [
      "T: No, now you cannot put b0 in the tower because you must put green blocks on yellow blocks\n"
     ]
    },
    {
     "name": "stdout",
     "output_type": "stream",
     "text": [
      "[0.47672471 0.47242437 0.51625921]\n"
     ]
    },
    {
     "name": "stderr",
     "output_type": "stream",
     "text": [
      "T: No, now you cannot put b0 in the tower because you must put green blocks on yellow blocks\n"
     ]
    },
    {
     "name": "stdout",
     "output_type": "stream",
     "text": [
      "[0.47672471 0.47242437 0.51625921]\n",
      "problem2.pddl reward: -18\n",
      "Parsing domain blocks-domain.pddl\n",
      "Parsing problem tworules/problem20.pddl\n"
     ]
    },
    {
     "name": "stderr",
     "output_type": "stream",
     "text": [
      "T: no, put green blocks on yellow blocks\n"
     ]
    },
    {
     "name": "stdout",
     "output_type": "stream",
     "text": [
      "(forall (?y) (or (not (yellow ?y)) (exists (?x) (and (green ?x) (on ?x ?y)))))\n",
      "[0.47762876 0.47447967 0.46931278]\n",
      "[0.44019769 0.43622292 0.50319294]\n"
     ]
    },
    {
     "name": "stderr",
     "output_type": "stream",
     "text": [
      "T: no, put green blocks on yellow blocks\n"
     ]
    },
    {
     "name": "stdout",
     "output_type": "stream",
     "text": [
      "(forall (?y) (or (not (yellow ?y)) (exists (?x) (and (green ?x) (on ?x ?y)))))\n",
      "[0.47427245 0.47464421 0.46630801]\n",
      "problem20.pddl reward: -14\n",
      "Parsing domain blocks-domain.pddl\n",
      "Parsing problem tworules/problem21.pddl\n",
      "problem21.pddl reward: -10\n",
      "Parsing domain blocks-domain.pddl\n",
      "Parsing problem tworules/problem22.pddl\n",
      "problem22.pddl reward: -10\n",
      "Parsing domain blocks-domain.pddl\n",
      "Parsing problem tworules/problem23.pddl\n"
     ]
    },
    {
     "name": "stderr",
     "output_type": "stream",
     "text": [
      "T: no, put red blocks on blue blocks\n"
     ]
    },
    {
     "name": "stdout",
     "output_type": "stream",
     "text": [
      "(forall (?x) (or (not (red ?x)) (exists (?y) (and (blue ?y) (on ?x ?y)))))\n",
      "[0.25615209 0.282136   0.28932019]\n"
     ]
    },
    {
     "name": "stderr",
     "output_type": "stream",
     "text": [
      "T: no, put red blocks on blue blocks\n",
      "R: Is the top object red?\n",
      "T: yes\n"
     ]
    },
    {
     "name": "stdout",
     "output_type": "stream",
     "text": [
      "(forall (?x) (or (not (red ?x)) (exists (?y) (and (blue ?y) (on ?x ?y)))))\n",
      "[0.24662768 0.27195211 0.27956294]\n",
      "[0.45681577 0.44388843 0.44347016]\n",
      "problem23.pddl reward: -14\n",
      "Parsing domain blocks-domain.pddl\n",
      "Parsing problem tworules/problem24.pddl\n"
     ]
    },
    {
     "name": "stderr",
     "output_type": "stream",
     "text": [
      "T: no, put green blocks on yellow blocks\n"
     ]
    },
    {
     "name": "stdout",
     "output_type": "stream",
     "text": [
      "(forall (?y) (or (not (yellow ?y)) (exists (?x) (and (green ?x) (on ?x ?y)))))\n",
      "[0.46970265 0.46564949 0.46200611]\n",
      "[0.40655722 0.40288312 0.4711846 ]\n"
     ]
    },
    {
     "name": "stderr",
     "output_type": "stream",
     "text": [
      "T: no, put green blocks on yellow blocks\n"
     ]
    },
    {
     "name": "stdout",
     "output_type": "stream",
     "text": [
      "(forall (?y) (or (not (yellow ?y)) (exists (?x) (and (green ?x) (on ?x ?y)))))\n",
      "[0.46848041 0.46332789 0.46017375]\n"
     ]
    },
    {
     "name": "stderr",
     "output_type": "stream",
     "text": [
      "T: No, now you cannot put b1 in the tower because you must put green blocks on yellow blocks\n"
     ]
    },
    {
     "name": "stdout",
     "output_type": "stream",
     "text": [
      "[0.43779413 0.4374337  0.43463998]\n",
      "[0.43073686 0.42610504 0.42988564]\n",
      "[0.38244565 0.37898751 0.44731486]\n"
     ]
    },
    {
     "name": "stderr",
     "output_type": "stream",
     "text": [
      "T: No, now you cannot put b1 in the tower because you must put green blocks on yellow blocks\n"
     ]
    },
    {
     "name": "stdout",
     "output_type": "stream",
     "text": [
      "[0.38244741 0.3790663  0.44724175]\n",
      "problem24.pddl reward: -18\n",
      "Parsing domain blocks-domain.pddl\n",
      "Parsing problem tworules/problem25.pddl\n"
     ]
    },
    {
     "name": "stderr",
     "output_type": "stream",
     "text": [
      "T: no, put red blocks on blue blocks\n"
     ]
    },
    {
     "name": "stdout",
     "output_type": "stream",
     "text": [
      "(forall (?x) (or (not (red ?x)) (exists (?y) (and (blue ?y) (on ?x ?y)))))\n",
      "[0.23941041 0.26318957 0.27108963]\n",
      "[0.4558589  0.44396242 0.44098297]\n"
     ]
    },
    {
     "name": "stderr",
     "output_type": "stream",
     "text": [
      "T: no, put red blocks on blue blocks\n"
     ]
    },
    {
     "name": "stdout",
     "output_type": "stream",
     "text": [
      "(forall (?x) (or (not (red ?x)) (exists (?y) (and (blue ?y) (on ?x ?y)))))\n",
      "[0.45484759 0.44299466 0.44013806]\n"
     ]
    },
    {
     "name": "stderr",
     "output_type": "stream",
     "text": [
      "T: no, put red blocks on blue blocks\n"
     ]
    },
    {
     "name": "stdout",
     "output_type": "stream",
     "text": [
      "(forall (?x) (or (not (red ?x)) (exists (?y) (and (blue ?y) (on ?x ?y)))))\n",
      "[0.23179329 0.25457849 0.2626998 ]\n",
      "[0.4543961  0.44248038 0.43854367]\n"
     ]
    },
    {
     "name": "stderr",
     "output_type": "stream",
     "text": [
      "T: no, put red blocks on blue blocks\n"
     ]
    },
    {
     "name": "stdout",
     "output_type": "stream",
     "text": [
      "(forall (?x) (or (not (red ?x)) (exists (?y) (and (blue ?y) (on ?x ?y)))))\n",
      "[0.45424712 0.44235946 0.43844236]\n",
      "problem25.pddl reward: -18\n",
      "Parsing domain blocks-domain.pddl\n",
      "Parsing problem tworules/problem26.pddl\n",
      "problem26.pddl reward: -10\n",
      "Parsing domain blocks-domain.pddl\n",
      "Parsing problem tworules/problem27.pddl\n"
     ]
    },
    {
     "name": "stderr",
     "output_type": "stream",
     "text": [
      "T: No, now you cannot put b2 in the tower because you must put green blocks on yellow blocks\n"
     ]
    },
    {
     "name": "stdout",
     "output_type": "stream",
     "text": [
      "[0.41068353 0.3972741  0.40164942]\n",
      "[0.37705516 0.38556148 0.44291232]\n",
      "[0.40820011 0.39274293 0.40002969]\n",
      "[0.35154374 0.35967262 0.41658164]\n"
     ]
    },
    {
     "name": "stderr",
     "output_type": "stream",
     "text": [
      "T: No, now you cannot put b2 in the tower because you must put green blocks on yellow blocks\n",
      "T: No, now you cannot put b2 in the tower because you must put green blocks on yellow blocks\n"
     ]
    },
    {
     "name": "stdout",
     "output_type": "stream",
     "text": [
      "[0.35103216 0.35924527 0.41658167]\n"
     ]
    },
    {
     "name": "stderr",
     "output_type": "stream",
     "text": [
      "T: No, now you cannot put b2 in the tower because you must put green blocks on yellow blocks\n"
     ]
    },
    {
     "name": "stdout",
     "output_type": "stream",
     "text": [
      "[0.35103072 0.35924723 0.41658046]\n",
      "[0.35103072 0.35924723 0.41658046]\n",
      "problem27.pddl reward: -18\n",
      "Parsing domain blocks-domain.pddl\n",
      "Parsing problem"
     ]
    },
    {
     "name": "stderr",
     "output_type": "stream",
     "text": [
      "T: No, now you cannot put b2 in the tower because you must put green blocks on yellow blocks\n",
      "R: Is the top object green?\n",
      "T: yes\n"
     ]
    },
    {
     "name": "stdout",
     "output_type": "stream",
     "text": [
      " tworules/problem28.pddl\n",
      "[0.37742086 0.36674313 0.37002712]\n",
      "[0.35103072 0.35924723 0.41658046]\n",
      "[0.37742086 0.36674313 0.37002712]\n",
      "[0.32480182 0.33259082 0.41343913]\n"
     ]
    },
    {
     "name": "stderr",
     "output_type": "stream",
     "text": [
      "T: No, now you cannot put b2 in the tower because you must put green blocks on yellow blocks\n"
     ]
    },
    {
     "name": "stdout",
     "output_type": "stream",
     "text": [
      "[0.32480182 0.33259082 0.41343913]\n"
     ]
    },
    {
     "name": "stderr",
     "output_type": "stream",
     "text": [
      "T: No, now you cannot put b2 in the tower because you must put green blocks on yellow blocks\n"
     ]
    },
    {
     "name": "stdout",
     "output_type": "stream",
     "text": [
      "[0.32480182 0.33259082 0.41343913]\n"
     ]
    },
    {
     "name": "stderr",
     "output_type": "stream",
     "text": [
      "T: No, now you cannot put b2 in the tower because you must put green blocks on yellow blocks\n"
     ]
    },
    {
     "name": "stdout",
     "output_type": "stream",
     "text": [
      "[0.32480182 0.33259082 0.41343913]\n"
     ]
    },
    {
     "name": "stderr",
     "output_type": "stream",
     "text": [
      "T: No, now you cannot put b2 in the tower because you must put green blocks on yellow blocks\n"
     ]
    },
    {
     "name": "stdout",
     "output_type": "stream",
     "text": [
      "[0.32480182 0.33259082 0.41343913]\n"
     ]
    },
    {
     "name": "stderr",
     "output_type": "stream",
     "text": [
      "T: No, now you cannot put b2 in the tower because you must put green blocks on yellow blocks\n"
     ]
    },
    {
     "name": "stdout",
     "output_type": "stream",
     "text": [
      "[0.32480182 0.33259082 0.41343913]\n",
      "problem28.pddl reward: -22\n",
      "Parsing domain blocks-domain.pddl\n",
      "Parsing problem tworules/problem29.pddl\n"
     ]
    },
    {
     "name": "stderr",
     "output_type": "stream",
     "text": [
      "T: no, put red blocks on blue blocks\n"
     ]
    },
    {
     "name": "stdout",
     "output_type": "stream",
     "text": [
      "(forall (?x) (or (not (red ?x)) (exists (?y) (and (blue ?y) (on ?x ?y)))))\n",
      "[0.22380057 0.24633349 0.25461341]\n",
      "[0.45391908 0.44105559 0.43702636]\n"
     ]
    },
    {
     "name": "stderr",
     "output_type": "stream",
     "text": [
      "T: No, now you cannot put b2 in the tower because you must put green blocks on yellow blocks\n"
     ]
    },
    {
     "name": "stdout",
     "output_type": "stream",
     "text": [
      "[0.36912465 0.34464686 0.35063666]\n",
      "[0.36886502 0.34398518 0.35059429]\n",
      "[0.30289886 0.31030092 0.39072612]\n"
     ]
    },
    {
     "name": "stderr",
     "output_type": "stream",
     "text": [
      "T: No, now you cannot put b2 in the tower because you must put green blocks on yellow blocks\n",
      "T: No, now you cannot put b2 in the tower because you must put green blocks on yellow blocks\n"
     ]
    },
    {
     "name": "stdout",
     "output_type": "stream",
     "text": [
      "[0.34500754 0.32648383 0.32734445]\n",
      "problem29.pddl reward: -18\n",
      "Parsing domain blocks-domain.pddl\n",
      "Parsing problem tworules/problem3.pddl\n"
     ]
    },
    {
     "name": "stderr",
     "output_type": "stream",
     "text": [
      "T: No, now you cannot put b1 in the tower because you must put red blocks on blue blocks\n"
     ]
    },
    {
     "name": "stdout",
     "output_type": "stream",
     "text": [
      "[0.2231338  0.24571389 0.25371288]\n",
      "[0.42952206 0.41315612 0.42466104]\n",
      "[0.2162904  0.23861358 0.24667519]\n",
      "[0.42566193 0.40988555 0.42292131]\n"
     ]
    },
    {
     "name": "stderr",
     "output_type": "stream",
     "text": [
      "T: No, now you cannot put b1 in the tower because you must put red blocks on blue blocks\n"
     ]
    },
    {
     "name": "stdout",
     "output_type": "stream",
     "text": [
      "[0.21624432 0.23859779 0.24660891]\n",
      "[0.40092106 0.38247595 0.38914902]\n"
     ]
    },
    {
     "name": "stderr",
     "output_type": "stream",
     "text": [
      "T: no, put red blocks on blue blocks\n"
     ]
    },
    {
     "name": "stdout",
     "output_type": "stream",
     "text": [
      "(forall (?x) (or (not (red ?x)) (exists (?y) (and (blue ?y) (on ?x ?y)))))\n",
      "problem3.pddl reward: -16\n",
      "Parsing domain blocks-domain.pddl\n",
      "Parsing problem tworules/problem30.pddl\n",
      "problem30.pddl reward: -10\n",
      "Parsing domain blocks-domain.pddl\n",
      "Parsing problem tworules/problem31.pddl\n"
     ]
    },
    {
     "name": "stderr",
     "output_type": "stream",
     "text": [
      "T: no, put green blocks on yellow blocks\n"
     ]
    },
    {
     "name": "stdout",
     "output_type": "stream",
     "text": [
      "(forall (?y) (or (not (yellow ?y)) (exists (?x) (and (green ?x) (on ?x ?y)))))\n",
      "[0.34486665 0.32646804 0.32735509]\n",
      "[0.28325976 0.29029323 0.3695521 ]\n"
     ]
    },
    {
     "name": "stderr",
     "output_type": "stream",
     "text": [
      "T: no, put green blocks on yellow blocks\n"
     ]
    },
    {
     "name": "stdout",
     "output_type": "stream",
     "text": [
      "(forall (?y) (or (not (yellow ?y)) (exists (?x) (and (green ?x) (on ?x ?y)))))\n",
      "[0.34486596 0.32646839 0.32735452]\n"
     ]
    },
    {
     "name": "stderr",
     "output_type": "stream",
     "text": [
      "T: no, put green blocks on yellow blocks\n"
     ]
    },
    {
     "name": "stdout",
     "output_type": "stream",
     "text": [
      "(forall (?y) (or (not (yellow ?y)) (exists (?x) (and (green ?x) (on ?x ?y)))))\n",
      "[0.34486596 0.32646838 0.32735451]\n"
     ]
    },
    {
     "name": "stderr",
     "output_type": "stream",
     "text": [
      "T: no, put green blocks on yellow blocks\n"
     ]
    },
    {
     "name": "stdout",
     "output_type": "stream",
     "text": [
      "(forall (?y) (or (not (yellow ?y)) (exists (?x) (and (green ?x) (on ?x ?y)))))\n",
      "[0.34486596 0.32646838 0.32735451]\n"
     ]
    },
    {
     "name": "stderr",
     "output_type": "stream",
     "text": [
      "T: no, put red blocks on blue blocks\n"
     ]
    },
    {
     "name": "stdout",
     "output_type": "stream",
     "text": [
      "(forall (?x) (or (not (red ?x)) (exists (?y) (and (blue ?y) (on ?x ?y)))))\n",
      "[0.20995528 0.23143489 0.23947767]\n"
     ]
    },
    {
     "name": "stderr",
     "output_type": "stream",
     "text": [
      "T: no, put green blocks on yellow blocks\n"
     ]
    },
    {
     "name": "stdout",
     "output_type": "stream",
     "text": [
      "(forall (?y) (or (not (yellow ?y)) (exists (?x) (and (green ?x) (on ?x ?y)))))\n",
      "[0.34486596 0.32646838 0.32735451]\n"
     ]
    },
    {
     "name": "stderr",
     "output_type": "stream",
     "text": [
      "T: no, put red blocks on blue blocks\n"
     ]
    },
    {
     "name": "stdout",
     "output_type": "stream",
     "text": [
      "(forall (?x) (or (not (red ?x)) (exists (?y) (and (blue ?y) (on ?x ?y)))))\n",
      "problem31.pddl reward: -24\n",
      "Parsing domain blocks-domain.pddl\n",
      "Parsing problem tworules/problem32.pddl\n"
     ]
    },
    {
     "name": "stderr",
     "output_type": "stream",
     "text": [
      "T: no, put red blocks on blue blocks\n",
      "T: no, put red blocks on blue blocks\n"
     ]
    },
    {
     "name": "stdout",
     "output_type": "stream",
     "text": [
      "(forall (?x) (or (not (red ?x)) (exists (?y) (and (blue ?y) (on ?x ?y)))))\n",
      "[0.20332329 0.22451922 0.23256668]\n",
      "[0.40105934 0.38157256 0.38817122]\n",
      "(forall (?x) (or (not (red ?x)) (exists (?y) (and (blue ?y) (on ?x ?y)))))\n",
      "[0.40070968 0.38130288 0.38783663]\n",
      "problem32.pddl reward: -14\n",
      "Parsing domain blocks-domain.pddl\n",
      "Parsing problem tworules/problem33.pddl\n"
     ]
    },
    {
     "name": "stderr",
     "output_type": "stream",
     "text": [
      "T: no, put red blocks on blue blocks\n"
     ]
    },
    {
     "name": "stdout",
     "output_type": "stream",
     "text": [
      "(forall (?x) (or (not (red ?x)) (exists (?y) (and (blue ?y) (on ?x ?y)))))\n",
      "[0.19607122 0.21662843 0.22447982]\n"
     ]
    },
    {
     "name": "stderr",
     "output_type": "stream",
     "text": [
      "T: no, put red blocks on blue blocks\n"
     ]
    },
    {
     "name": "stdout",
     "output_type": "stream",
     "text": [
      "(forall (?x) (or (not (red ?x)) (exists (?y) (and (blue ?y) (on ?x ?y)))))\n",
      "[0.18940993 0.20937192 0.21703659]\n",
      "[0.40076882 0.38134378 0.38748124]\n"
     ]
    },
    {
     "name": "stderr",
     "output_type": "stream",
     "text": [
      "T: no, put red blocks on blue blocks\n"
     ]
    },
    {
     "name": "stdout",
     "output_type": "stream",
     "text": [
      "(forall (?x) (or (not (red ?x)) (exists (?y) (and (blue ?y) (on ?x ?y)))))\n",
      "[0.40076943 0.3813442  0.38747754]\n"
     ]
    },
    {
     "name": "stderr",
     "output_type": "stream",
     "text": [
      "T: No, now you cannot put b1 in the tower because you must put green blocks on yellow blocks\n"
     ]
    },
    {
     "name": "stdout",
     "output_type": "stream",
     "text": [
      "[0.33958642 0.32024007 0.32110003]\n",
      "[0.33624994 0.30930983 0.32136159]\n",
      "[0.27797481 0.28490575 0.36372945]\n"
     ]
    },
    {
     "name": "stderr",
     "output_type": "stream",
     "text": [
      "T: no, put red blocks on blue blocks\n"
     ]
    },
    {
     "name": "stdout",
     "output_type": "stream",
     "text": [
      "(forall (?x) (or (not (red ?x)) (exists (?y) (and (blue ?y) (on ?x ?y)))))\n",
      "[0.40076866 0.38134358 0.38747679]\n"
     ]
    },
    {
     "name": "stderr",
     "output_type": "stream",
     "text": [
      "T: No, now you cannot put b1 in the tower because you must put green blocks on yellow blocks\n",
      "T: no, put red blocks on blue blocks\n"
     ]
    },
    {
     "name": "stdout",
     "output_type": "stream",
     "text": [
      "(forall (?x) (or (not (red ?x)) (exists (?y) (and (blue ?y) (on ?x ?y)))))\n",
      "[0.40076869 0.38134345 0.38747671]\n"
     ]
    },
    {
     "name": "stderr",
     "output_type": "stream",
     "text": [
      "T: No, now you cannot put b1 in the tower because you must put green blocks on yellow blocks\n",
      "T: no, put red blocks on blue blocks\n"
     ]
    },
    {
     "name": "stdout",
     "output_type": "stream",
     "text": [
      "(forall (?x) (or (not (red ?x)) (exists (?y) (and (blue ?y) (on ?x ?y)))))\n"
     ]
    },
    {
     "name": "stderr",
     "output_type": "stream",
     "text": [
      "T: no, put red blocks on blue blocks\n"
     ]
    },
    {
     "name": "stdout",
     "output_type": "stream",
     "text": [
      "(forall (?x) (or (not (red ?x)) (exists (?y) (and (blue ?y) (on ?x ?y)))))\n",
      "problem33.pddl reward: -30\n",
      "Parsing domain blocks-domain.pddl\n",
      "Parsing problem tworules/problem34.pddl\n"
     ]
    },
    {
     "name": "stderr",
     "output_type": "stream",
     "text": [
      "T: no, put red blocks on blue blocks\n"
     ]
    },
    {
     "name": "stdout",
     "output_type": "stream",
     "text": [
      "(forall (?x) (or (not (red ?x)) (exists (?y) (and (blue ?y) (on ?x ?y)))))\n",
      "[0.18600173 0.20352461 0.21116038]\n"
     ]
    },
    {
     "name": "stderr",
     "output_type": "stream",
     "text": [
      "T: No, now you cannot put b3 in the tower because you must put green blocks on yellow blocks\n"
     ]
    },
    {
     "name": "stdout",
     "output_type": "stream",
     "text": [
      "[0.31627035 0.29218007 0.30386679]\n",
      "[0.31627035 0.29218007 0.30386679]\n",
      "[0.26124475 0.26784218 0.36433111]\n"
     ]
    },
    {
     "name": "stderr",
     "output_type": "stream",
     "text": [
      "T: no, put red blocks on blue blocks\n"
     ]
    },
    {
     "name": "stdout",
     "output_type": "stream",
     "text": [
      "(forall (?x) (or (not (red ?x)) (exists (?y) (and (blue ?y) (on ?x ?y)))))\n",
      "[0.40076869 0.38134345 0.38747671]\n"
     ]
    },
    {
     "name": "stderr",
     "output_type": "stream",
     "text": [
      "T: No, now you cannot put b3 in the tower because you must put green blocks on yellow blocks\n",
      "T: No, now you cannot put b3 in the tower because you must put green blocks on yellow blocks\n",
      "T: No, now you cannot put b3 in the tower because you must put green blocks on yellow blocks\n"
     ]
    },
    {
     "name": "stdout",
     "output_type": "stream",
     "text": [
      "[0.30342087 0.2770009  0.28659632]\n"
     ]
    },
    {
     "name": "stderr",
     "output_type": "stream",
     "text": [
      "T: No, now you cannot put b3 in the tower because you must put green blocks on yellow blocks\n"
     ]
    },
    {
     "name": "stdout",
     "output_type": "stream",
     "text": [
      "problem34.pddl reward: -24\n",
      "Parsing domain blocks-domain.pddl\n",
      "Parsing problem tworules/problem35.pddl\n"
     ]
    },
    {
     "name": "stderr",
     "output_type": "stream",
     "text": [
      "T: No, now you cannot put b4 in the tower because you must put green blocks on yellow blocks\n"
     ]
    },
    {
     "name": "stdout",
     "output_type": "stream",
     "text": [
      "[0.29826584 0.26404968 0.27603757]\n",
      "[0.29826584 0.26404968 0.27603757]\n",
      "[0.24641064 0.25270136 0.36190611]\n"
     ]
    },
    {
     "name": "stderr",
     "output_type": "stream",
     "text": [
      "T: No, now you cannot put b4 in the tower because you must put green blocks on yellow blocks\n"
     ]
    },
    {
     "name": "stdout",
     "output_type": "stream",
     "text": [
      "[0.24641064 0.25270136 0.36190611]\n"
     ]
    },
    {
     "name": "stderr",
     "output_type": "stream",
     "text": [
      "T: No, now you cannot put b4 in the tower because you must put green blocks on yellow blocks\n"
     ]
    },
    {
     "name": "stdout",
     "output_type": "stream",
     "text": [
      "[0.24641064 0.25270136 0.36190611]\n"
     ]
    },
    {
     "name": "stderr",
     "output_type": "stream",
     "text": [
      "T: No, now you cannot put b4 in the tower because you must put green blocks on yellow blocks\n"
     ]
    },
    {
     "name": "stdout",
     "output_type": "stream",
     "text": [
      "[0.24641064 0.25270136 0.36190611]\n"
     ]
    },
    {
     "name": "stderr",
     "output_type": "stream",
     "text": [
      "T: No, now you cannot put b3 in the tower because you must put red blocks on blue blocks\n"
     ]
    },
    {
     "name": "stdout",
     "output_type": "stream",
     "text": [
      "[0.37809354 0.35705226 0.36483778]\n",
      "[0.18261331 0.1979771  0.2055702 ]\n",
      "[0.37809458 0.35704955 0.36483702]\n"
     ]
    },
    {
     "name": "stderr",
     "output_type": "stream",
     "text": [
      "T: No, now you cannot put b3 in the tower because you must put red blocks on blue blocks\n",
      "T: No, now you cannot put b4 in the tower because you must put green blocks on yellow blocks\n"
     ]
    },
    {
     "name": "stdout",
     "output_type": "stream",
     "text": [
      "problem35.pddl reward: -24\n",
      "Parsing domain blocks-domain.pddl\n",
      "Parsing problem tworules/problem36.pddl\n"
     ]
    },
    {
     "name": "stderr",
     "output_type": "stream",
     "text": [
      "T: no, put green blocks on yellow blocks\n"
     ]
    },
    {
     "name": "stdout",
     "output_type": "stream",
     "text": [
      "problem36.pddl reward: -10\n",
      "Parsing domain blocks-domain.pddl\n",
      "Parsing problem tworules/problem37.pddl\n",
      "(forall (?y) (or (not (yellow ?y)) (exists (?x) (and (green ?x) (on ?x ?y)))))\n"
     ]
    },
    {
     "name": "stderr",
     "output_type": "stream",
     "text": [
      "T: no, put green blocks on yellow blocks\n"
     ]
    },
    {
     "name": "stdout",
     "output_type": "stream",
     "text": [
      "[0.29826154 0.2640529  0.27603774]\n",
      "[0.23310211 0.23908804 0.34617177]\n",
      "(forall (?y) (or (not (yellow ?y)) (exists (?x) (and (green ?x) (on ?x ?y)))))\n",
      "[0.29826154 0.2640529  0.27603774]\n",
      "problem37.pddl reward: -14\n",
      "Parsing domain blocks-domain.pddl\n",
      "Parsing problem tworules/problem38.pddl\n"
     ]
    },
    {
     "name": "stderr",
     "output_type": "stream",
     "text": [
      "T: No, now you cannot put b0 in the tower because you must put red blocks on blue blocks\n"
     ]
    },
    {
     "name": "stdout",
     "output_type": "stream",
     "text": [
      "[0.18261331 0.1979771  0.2055702 ]\n",
      "[0.35738657 0.33545009 0.33954679]\n",
      "[0.1783538  0.19270784 0.20024735]\n",
      "[0.35738657 0.33545009 0.33954679]\n"
     ]
    },
    {
     "name": "stderr",
     "output_type": "stream",
     "text": [
      "T: No, now you cannot put b0 in the tower because you must put red blocks on blue blocks\n"
     ]
    },
    {
     "name": "stdout",
     "output_type": "stream",
     "text": [
      "[0.1783538  0.19270784 0.20024735]\n"
     ]
    },
    {
     "name": "stderr",
     "output_type": "stream",
     "text": [
      "T: No, now you cannot put b0 in the tower because you must put red blocks on blue blocks\n",
      "T: No, now you cannot put b0 in the tower because you must put red blocks on blue blocks\n"
     ]
    },
    {
     "name": "stdout",
     "output_type": "stream",
     "text": [
      "[0.1783538  0.19270784 0.20024735]\n",
      "problem38.pddl reward: -18\n",
      "Parsing domain blocks-domain.pddl\n",
      "Parsing problem tworules/problem39.pddl\n",
      "problem39.pddl reward: -10\n",
      "Parsing domain blocks-domain.pddl\n",
      "Parsing problem tworules/problem4.pddl\n"
     ]
    },
    {
     "name": "stderr",
     "output_type": "stream",
     "text": [
      "T: no, put green blocks on yellow blocks\n"
     ]
    },
    {
     "name": "stdout",
     "output_type": "stream",
     "text": [
      "(forall (?y) (or (not (yellow ?y)) (exists (?x) (and (green ?x) (on ?x ?y)))))\n",
      "[0.29825961 0.26405275 0.27603761]\n",
      "[0.22121835 0.22694683 0.34380879]\n"
     ]
    },
    {
     "name": "stderr",
     "output_type": "stream",
     "text": [
      "T: no, put red blocks on blue blocks\n",
      "R: Is the top object red?\n",
      "T: yes\n"
     ]
    },
    {
     "name": "stdout",
     "output_type": "stream",
     "text": [
      "(forall (?x) (or (not (red ?x)) (exists (?y) (and (blue ?y) (on ?x ?y)))))\n",
      "[0.17536069 0.18769873 0.19517603]\n"
     ]
    },
    {
     "name": "stderr",
     "output_type": "stream",
     "text": [
      "T: no, put green blocks on yellow blocks\n"
     ]
    },
    {
     "name": "stdout",
     "output_type": "stream",
     "text": [
      "(forall (?y) (or (not (yellow ?y)) (exists (?x) (and (green ?x) (on ?x ?y)))))\n",
      "[0.29825961 0.26405273 0.2760376 ]\n"
     ]
    },
    {
     "name": "stderr",
     "output_type": "stream",
     "text": [
      "T: no, put green blocks on yellow blocks\n"
     ]
    },
    {
     "name": "stdout",
     "output_type": "stream",
     "text": [
      "(forall (?y) (or (not (yellow ?y)) (exists (?x) (and (green ?x) (on ?x ?y)))))\n",
      "[0.29825961 0.26405273 0.2760376 ]\n"
     ]
    },
    {
     "name": "stderr",
     "output_type": "stream",
     "text": [
      "T: no, put red blocks on blue blocks\n"
     ]
    },
    {
     "name": "stdout",
     "output_type": "stream",
     "text": [
      "(forall (?x) (or (not (red ?x)) (exists (?y) (and (blue ?y) (on ?x ?y)))))\n"
     ]
    },
    {
     "name": "stderr",
     "output_type": "stream",
     "text": [
      "T: no, put red blocks on blue blocks\n"
     ]
    },
    {
     "name": "stdout",
     "output_type": "stream",
     "text": [
      "(forall (?x) (or (not (red ?x)) (exists (?y) (and (blue ?y) (on ?x ?y)))))\n"
     ]
    },
    {
     "name": "stderr",
     "output_type": "stream",
     "text": [
      "T: no, put red blocks on blue blocks\n"
     ]
    },
    {
     "name": "stdout",
     "output_type": "stream",
     "text": [
      "(forall (?x) (or (not (red ?x)) (exists (?y) (and (blue ?y) (on ?x ?y)))))\n"
     ]
    },
    {
     "name": "stderr",
     "output_type": "stream",
     "text": [
      "T: no, put red blocks on blue blocks\n",
      "T: no, put red blocks on blue blocks\n"
     ]
    },
    {
     "name": "stdout",
     "output_type": "stream",
     "text": [
      "(forall (?x) (or (not (red ?x)) (exists (?y) (and (blue ?y) (on ?x ?y)))))\n",
      "[0.35738657 0.33545009 0.33954679]\n",
      "(forall (?x) (or (not (red ?x)) (exists (?y) (and (blue ?y) (on ?x ?y)))))\n",
      "[0.35738657 0.33545009 0.33954679]\n",
      "problem4.pddl reward: -28\n",
      "Parsing domain blocks-domain.pddl\n",
      "Parsing problem tworules/problem40.pddl\n",
      "problem40.pddl reward: -10\n",
      "Parsing domain blocks-domain.pddl\n",
      "Parsing problem tworules/problem41.pddl\n"
     ]
    },
    {
     "name": "stderr",
     "output_type": "stream",
     "text": [
      "T: no, put red blocks on blue blocks\n"
     ]
    },
    {
     "name": "stdout",
     "output_type": "stream",
     "text": [
      "(forall (?x) (or (not (red ?x)) (exists (?y) (and (blue ?y) (on ?x ?y)))))\n",
      "[0.17248139 0.18307195 0.19048247]\n",
      "[0.35774865 0.33478592 0.33884626]\n"
     ]
    },
    {
     "name": "stderr",
     "output_type": "stream",
     "text": [
      "T: No, now you cannot put b4 in the tower because you must put green blocks on yellow blocks\n"
     ]
    },
    {
     "name": "stdout",
     "output_type": "stream",
     "text": [
      "[0.28627102 0.25152758 0.26204075]\n",
      "[0.2862729  0.25152123 0.26204412]\n",
      "[0.21049319 0.21598411 0.33257936]\n"
     ]
    },
    {
     "name": "stderr",
     "output_type": "stream",
     "text": [
      "T: no, put red blocks on blue blocks\n"
     ]
    },
    {
     "name": "stdout",
     "output_type": "stream",
     "text": [
      "(forall (?x) (or (not (red ?x)) (exists (?y) (and (blue ?y) (on ?x ?y)))))\n"
     ]
    },
    {
     "name": "stderr",
     "output_type": "stream",
     "text": [
      "T: no, put red blocks on blue blocks\n"
     ]
    },
    {
     "name": "stdout",
     "output_type": "stream",
     "text": [
      "(forall (?x) (or (not (red ?x)) (exists (?y) (and (blue ?y) (on ?x ?y)))))\n"
     ]
    },
    {
     "name": "stderr",
     "output_type": "stream",
     "text": [
      "T: No, now you cannot put b0 in the tower because you must put red blocks on blue blocks\n"
     ]
    },
    {
     "name": "stdout",
     "output_type": "stream",
     "text": [
      "[0.17248139 0.18307196 0.19048247]\n",
      "[0.33896932 0.3155827  0.31692222]\n",
      "[0.16901002 0.17852566 0.18586215]\n",
      "[0.33896931 0.31558269 0.31692222]\n",
      "problem41.pddl reward: -20\n",
      "Parsing domain blocks-domain.pddl\n",
      "Parsing problem tworules/problem42.pddl\n"
     ]
    },
    {
     "name": "stderr",
     "output_type": "stream",
     "text": [
      "T: No, now you cannot put b1 in the tower because you must put red blocks on blue blocks\n"
     ]
    },
    {
     "name": "stdout",
     "output_type": "stream",
     "text": [
      "[0.16899894 0.17852348 0.18583525]\n",
      "[0.321943   0.31411536 0.31042461]\n",
      "[0.16518746 0.17421214 0.18144643]\n",
      "[0.32187374 0.31403439 0.31042536]\n"
     ]
    },
    {
     "name": "stderr",
     "output_type": "stream",
     "text": [
      "T: No, now you cannot put b1 in the tower because you must put red blocks on blue blocks\n"
     ]
    },
    {
     "name": "stdout",
     "output_type": "stream",
     "text": [
      "[0.16518746 0.17421214 0.18144643]\n"
     ]
    },
    {
     "name": "stderr",
     "output_type": "stream",
     "text": [
      "T: No, now you cannot put b0 in the tower because you must put green blocks on yellow blocks\n"
     ]
    },
    {
     "name": "stdout",
     "output_type": "stream",
     "text": [
      "[0.21049097 0.21599129 0.33257686]\n",
      "[0.28627363 0.25151878 0.26204542]\n",
      "[0.20075205 0.20603209 0.32181461]\n"
     ]
    },
    {
     "name": "stderr",
     "output_type": "stream",
     "text": [
      "T: No, now you cannot put b0 in the tower because you must put green blocks on yellow blocks\n",
      "T: No, now you cannot put b0 in the tower because you must put green blocks on yellow blocks\n",
      "T: No, now you cannot put b0 in the tower because you must put green blocks on yellow blocks\n"
     ]
    },
    {
     "name": "stdout",
     "output_type": "stream",
     "text": [
      "[0.20075205 0.20603209 0.32181461]\n"
     ]
    },
    {
     "name": "stderr",
     "output_type": "stream",
     "text": [
      "T: No, now you cannot put b1 in the tower because you must put red blocks on blue blocks\n"
     ]
    },
    {
     "name": "stdout",
     "output_type": "stream",
     "text": [
      "[0.20075205 0.20603209 0.32181461]\n"
     ]
    },
    {
     "name": "stderr",
     "output_type": "stream",
     "text": [
      "T: No, now you cannot put b0 in the tower because you must put green blocks on yellow blocks\n"
     ]
    },
    {
     "name": "stdout",
     "output_type": "stream",
     "text": [
      "[0.30627181 0.31042718 0.30299085]\n",
      "problem42.pddl reward: -26\n",
      "Parsing domain blocks-domain.pddl\n",
      "Parsing problem tworules/problem43.pddl\n"
     ]
    },
    {
     "name": "stderr",
     "output_type": "stream",
     "text": [
      "T: no, put red blocks on blue blocks\n",
      "R: Is the top object red?\n",
      "T: yes\n"
     ]
    },
    {
     "name": "stdout",
     "output_type": "stream",
     "text": [
      "(forall (?x) (or (not (red ?x)) (exists (?y) (and (blue ?y) (on ?x ?y)))))\n",
      "[0.16195575 0.17007666 0.17723011]\n",
      "[0.30627181 0.31042718 0.30299085]\n"
     ]
    },
    {
     "name": "stderr",
     "output_type": "stream",
     "text": [
      "T: no, put red blocks on blue blocks\n"
     ]
    },
    {
     "name": "stdout",
     "output_type": "stream",
     "text": [
      "(forall (?x) (or (not (red ?x)) (exists (?y) (and (blue ?y) (on ?x ?y)))))\n",
      "[0.30627181 0.31042718 0.30299085]\n"
     ]
    },
    {
     "name": "stderr",
     "output_type": "stream",
     "text": [
      "T: no, put green blocks on yellow blocks\n"
     ]
    },
    {
     "name": "stdout",
     "output_type": "stream",
     "text": [
      "(forall (?y) (or (not (yellow ?y)) (exists (?x) (and (green ?x) (on ?x ?y)))))\n",
      "[0.28627353 0.25151885 0.26204543]\n"
     ]
    },
    {
     "name": "stderr",
     "output_type": "stream",
     "text": [
      "T: no, put green blocks on yellow blocks\n"
     ]
    },
    {
     "name": "stdout",
     "output_type": "stream",
     "text": [
      "(forall (?y) (or (not (yellow ?y)) (exists (?x) (and (green ?x) (on ?x ?y)))))\n",
      "[0.28627353 0.25151885 0.26204543]\n"
     ]
    },
    {
     "name": "stderr",
     "output_type": "stream",
     "text": [
      "T: no, put green blocks on yellow blocks\n"
     ]
    },
    {
     "name": "stdout",
     "output_type": "stream",
     "text": [
      "(forall (?y) (or (not (yellow ?y)) (exists (?x) (and (green ?x) (on ?x ?y)))))\n",
      "[0.28627353 0.25151885 0.26204543]\n"
     ]
    },
    {
     "name": "stderr",
     "output_type": "stream",
     "text": [
      "T: no, put red blocks on blue blocks\n"
     ]
    },
    {
     "name": "stdout",
     "output_type": "stream",
     "text": [
      "(forall (?x) (or (not (red ?x)) (exists (?y) (and (blue ?y) (on ?x ?y)))))\n",
      "[0.30627181 0.31042718 0.30299085]\n"
     ]
    },
    {
     "name": "stderr",
     "output_type": "stream",
     "text": [
      "T: no, put red blocks on blue blocks\n"
     ]
    },
    {
     "name": "stdout",
     "output_type": "stream",
     "text": [
      "(forall (?x) (or (not (red ?x)) (exists (?y) (and (blue ?y) (on ?x ?y)))))\n"
     ]
    },
    {
     "name": "stderr",
     "output_type": "stream",
     "text": [
      "T: no, put red blocks on blue blocks\n"
     ]
    },
    {
     "name": "stdout",
     "output_type": "stream",
     "text": [
      "(forall (?x) (or (not (red ?x)) (exists (?y) (and (blue ?y) (on ?x ?y)))))\n",
      "problem43.pddl reward: -26\n",
      "Parsing domain blocks-domain.pddl\n",
      "Parsing problem tworules/problem44.pddl\n"
     ]
    },
    {
     "name": "stderr",
     "output_type": "stream",
     "text": [
      "T: no, put red blocks on blue blocks\n"
     ]
    },
    {
     "name": "stdout",
     "output_type": "stream",
     "text": [
      "(forall (?x) (or (not (red ?x)) (exists (?y) (and (blue ?y) (on ?x ?y)))))\n",
      "[0.15980737 0.16612694 0.17319742]\n"
     ]
    },
    {
     "name": "stderr",
     "output_type": "stream",
     "text": [
      "T: no, put red blocks on blue blocks\n"
     ]
    },
    {
     "name": "stdout",
     "output_type": "stream",
     "text": [
      "(forall (?x) (or (not (red ?x)) (exists (?y) (and (blue ?y) (on ?x ?y)))))\n",
      "[0.30627181 0.31042718 0.30299085]\n"
     ]
    },
    {
     "name": "stderr",
     "output_type": "stream",
     "text": [
      "T: no, put red blocks on blue blocks\n"
     ]
    },
    {
     "name": "stdout",
     "output_type": "stream",
     "text": [
      "(forall (?x) (or (not (red ?x)) (exists (?y) (and (blue ?y) (on ?x ?y)))))\n",
      "[0.30627181 0.31042718 0.30299085]\n"
     ]
    },
    {
     "name": "stderr",
     "output_type": "stream",
     "text": [
      "T: no, put red blocks on blue blocks\n"
     ]
    },
    {
     "name": "stdout",
     "output_type": "stream",
     "text": [
      "(forall (?x) (or (not (red ?x)) (exists (?y) (and (blue ?y) (on ?x ?y)))))\n",
      "[0.30627181 0.31042718 0.30299085]\n"
     ]
    },
    {
     "name": "stderr",
     "output_type": "stream",
     "text": [
      "T: no, put red blocks on blue blocks\n"
     ]
    },
    {
     "name": "stdout",
     "output_type": "stream",
     "text": [
      "(forall (?x) (or (not (red ?x)) (exists (?y) (and (blue ?y) (on ?x ?y)))))\n",
      "[0.30627181 0.31042718 0.30299085]\n"
     ]
    },
    {
     "name": "stderr",
     "output_type": "stream",
     "text": [
      "T: No, now you cannot put b2 in the tower because you must put green blocks on yellow blocks\n"
     ]
    },
    {
     "name": "stdout",
     "output_type": "stream",
     "text": [
      "[0.27626954 0.24012061 0.25050413]\n",
      "[0.27627449 0.24010643 0.25050796]\n",
      "[0.19184432 0.19690568 0.31025616]\n"
     ]
    },
    {
     "name": "stderr",
     "output_type": "stream",
     "text": [
      "T: no, put red blocks on blue blocks\n"
     ]
    },
    {
     "name": "stdout",
     "output_type": "stream",
     "text": [
      "(forall (?x) (or (not (red ?x)) (exists (?y) (and (blue ?y) (on ?x ?y)))))\n",
      "[0.30627181 0.31042718 0.30299085]\n"
     ]
    },
    {
     "name": "stderr",
     "output_type": "stream",
     "text": [
      "T: No, now you cannot put b2 in the tower because you must put green blocks on yellow blocks\n",
      "T: no, put red blocks on blue blocks\n"
     ]
    },
    {
     "name": "stdout",
     "output_type": "stream",
     "text": [
      "(forall (?x) (or (not (red ?x)) (exists (?y) (and (blue ?y) (on ?x ?y)))))\n"
     ]
    },
    {
     "name": "stderr",
     "output_type": "stream",
     "text": [
      "T: no, put red blocks on blue blocks\n"
     ]
    },
    {
     "name": "stdout",
     "output_type": "stream",
     "text": [
      "(forall (?x) (or (not (red ?x)) (exists (?y) (and (blue ?y) (on ?x ?y)))))\n"
     ]
    },
    {
     "name": "stderr",
     "output_type": "stream",
     "text": [
      "T: no, put red blocks on blue blocks\n"
     ]
    },
    {
     "name": "stdout",
     "output_type": "stream",
     "text": [
      "(forall (?x) (or (not (red ?x)) (exists (?y) (and (blue ?y) (on ?x ?y)))))\n",
      "[0.30627181 0.31042718 0.30299085]\n",
      "problem44.pddl reward: -32\n",
      "Parsing domain blocks-domain.pddl\n",
      "Parsing problem tworules/problem45.pddl\n"
     ]
    },
    {
     "name": "stderr",
     "output_type": "stream",
     "text": [
      "T: No, now you cannot put b4 in the tower because you must put green blocks on yellow blocks\n"
     ]
    },
    {
     "name": "stdout",
     "output_type": "stream",
     "text": [
      "[0.26664349 0.23369866 0.23932823]\n",
      "[0.19184493 0.19690563 0.31025601]\n",
      "[0.26664354 0.23369848 0.2393283 ]\n",
      "[0.18367844 0.18853721 0.2994042 ]\n",
      "problem45.pddl reward: -12\n",
      "Parsing domain blocks-domain.pddl\n",
      "Parsing problem tworules/problem46.pddl\n"
     ]
    },
    {
     "name": "stderr",
     "output_type": "stream",
     "text": [
      "T: No, now you cannot put b2 in the tower because you must put red blocks on blue blocks\n"
     ]
    },
    {
     "name": "stdout",
     "output_type": "stream",
     "text": [
      "[0.15980731 0.16612688 0.17319753]\n",
      "[0.29201209 0.29716249 0.28887927]\n",
      "[0.15690133 0.16235129 0.16933752]\n",
      "[0.29201191 0.29716229 0.28887934]\n"
     ]
    },
    {
     "name": "stderr",
     "output_type": "stream",
     "text": [
      "T: No, now you cannot put b2 in the tower because you must put red blocks on blue blocks\n"
     ]
    },
    {
     "name": "stdout",
     "output_type": "stream",
     "text": [
      "[0.15690133 0.16235129 0.16933752]\n"
     ]
    },
    {
     "name": "stderr",
     "output_type": "stream",
     "text": [
      "T: No, now you cannot put b2 in the tower because you must put red blocks on blue blocks\n"
     ]
    },
    {
     "name": "stdout",
     "output_type": "stream",
     "text": [
      "[0.15690133 0.16235129 0.16933752]\n",
      "problem46.pddl reward: -16\n",
      "Parsing domain blocks-domain.pddl\n",
      "Parsing problem tworules/problem47.pddl\n"
     ]
    },
    {
     "name": "stderr",
     "output_type": "stream",
     "text": [
      "T: no, put red blocks on blue blocks\n"
     ]
    },
    {
     "name": "stdout",
     "output_type": "stream",
     "text": [
      "(forall (?x) (or (not (red ?x)) (exists (?y) (and (blue ?y) (on ?x ?y)))))\n",
      "[0.15407778 0.15873889 0.16563982]\n"
     ]
    },
    {
     "name": "stderr",
     "output_type": "stream",
     "text": [
      "T: no, put green blocks on yellow blocks\n"
     ]
    },
    {
     "name": "stdout",
     "output_type": "stream",
     "text": [
      "(forall (?y) (or (not (yellow ?y)) (exists (?x) (and (green ?x) (on ?x ?y)))))\n",
      "[0.26666853 0.2336172  0.23926718]\n",
      "[0.17623741 0.180911   0.28930806]\n"
     ]
    },
    {
     "name": "stderr",
     "output_type": "stream",
     "text": [
      "T: no, put red blocks on blue blocks\n"
     ]
    },
    {
     "name": "stdout",
     "output_type": "stream",
     "text": [
      "(forall (?x) (or (not (red ?x)) (exists (?y) (and (blue ?y) (on ?x ?y)))))\n",
      "[0.15235025 0.15531321 0.16212926]\n",
      "[0.29219667 0.29705157 0.28891963]\n",
      "problem47.pddl reward: -16\n",
      "Parsing domain blocks-domain.pddl\n",
      "Parsing problem tworules/problem48.pddl\n"
     ]
    },
    {
     "name": "stderr",
     "output_type": "stream",
     "text": [
      "T: no, put green blocks on yellow blocks\n"
     ]
    },
    {
     "name": "stdout",
     "output_type": "stream",
     "text": [
      "(forall (?y) (or (not (yellow ?y)) (exists (?x) (and (green ?x) (on ?x ?y)))))\n",
      "[0.26667007 0.23361397 0.23926998]\n",
      "[0.16932469 0.17382525 0.27975398]\n"
     ]
    },
    {
     "name": "stderr",
     "output_type": "stream",
     "text": [
      "T: no, put green blocks on yellow blocks\n",
      "T: no, put green blocks on yellow blocks\n"
     ]
    },
    {
     "name": "stdout",
     "output_type": "stream",
     "text": [
      "(forall (?y) (or (not (yellow ?y)) (exists (?x) (and (green ?x) (on ?x ?y)))))\n",
      "[0.26667007 0.23361398 0.23926998]\n",
      "(forall (?y) (or (not (yellow ?y)) (exists (?x) (and (green ?x) (on ?x ?y)))))\n"
     ]
    },
    {
     "name": "stderr",
     "output_type": "stream",
     "text": [
      "T: no, put green blocks on yellow blocks\n"
     ]
    },
    {
     "name": "stdout",
     "output_type": "stream",
     "text": [
      "[0.26667007 0.23361398 0.23926998]\n",
      "(forall (?y) (or (not (yellow ?y)) (exists (?x) (and (green ?x) (on ?x ?y)))))\n",
      "[0.26667007 0.23361398 0.23926998]\n"
     ]
    },
    {
     "name": "stderr",
     "output_type": "stream",
     "text": [
      "T: no, put green blocks on yellow blocks\n",
      "T: no, put green blocks on yellow blocks\n"
     ]
    },
    {
     "name": "stdout",
     "output_type": "stream",
     "text": [
      "(forall (?y) (or (not (yellow ?y)) (exists (?x) (and (green ?x) (on ?x ?y)))))\n",
      "(forall (?y) (or (not (yellow ?y)) (exists (?x) (and (green ?x) (on ?x ?y)))))\n"
     ]
    },
    {
     "name": "stderr",
     "output_type": "stream",
     "text": [
      "T: no, put green blocks on yellow blocks\n"
     ]
    },
    {
     "name": "stdout",
     "output_type": "stream",
     "text": [
      "(forall (?y) (or (not (yellow ?y)) (exists (?x) (and (green ?x) (on ?x ?y)))))\n",
      "problem48.pddl reward: -24\n",
      "Parsing domain blocks-domain.pddl\n",
      "Parsing problem tworules/problem49.pddl\n"
     ]
    },
    {
     "name": "stderr",
     "output_type": "stream",
     "text": [
      "T: No, now you cannot put b1 in the tower because you must put green blocks on yellow blocks\n",
      "T: No, now you cannot put b1 in the tower because you must put green blocks on yellow blocks\n"
     ]
    },
    {
     "name": "stdout",
     "output_type": "stream",
     "text": [
      "[0.25757752 0.22731879 0.22904366]\n",
      "[0.16932469 0.17382525 0.27975398]\n",
      "[0.25757752 0.22731879 0.22904366]\n",
      "[0.16296386 0.16731398 0.28281711]\n",
      "[0.16296386 0.16731398 0.28281711]\n",
      "problem49.pddl reward: -14\n",
      "Parsing domain blocks-domain.pddl\n",
      "Parsing problem tworules/problem5.pddl\n"
     ]
    },
    {
     "name": "stderr",
     "output_type": "stream",
     "text": [
      "T: No, now you cannot put b3 in the tower because you must put red blocks on blue blocks\n"
     ]
    },
    {
     "name": "stdout",
     "output_type": "stream",
     "text": [
      "[0.15235025 0.15531323 0.16212925]\n",
      "[0.27891201 0.28721897 0.2791976 ]\n",
      "[0.15058779 0.1519968  0.15872703]\n",
      "[0.27891204 0.28721896 0.27919761]\n"
     ]
    },
    {
     "name": "stderr",
     "output_type": "stream",
     "text": [
      "T: No, now you cannot put b3 in the tower because you must put red blocks on blue blocks\n"
     ]
    },
    {
     "name": "stdout",
     "output_type": "stream",
     "text": [
      "[0.15058779 0.1519968  0.15872703]\n"
     ]
    },
    {
     "name": "stderr",
     "output_type": "stream",
     "text": [
      "T: No, now you cannot put b3 in the tower because you must put red blocks on blue blocks\n"
     ]
    },
    {
     "name": "stdout",
     "output_type": "stream",
     "text": [
      "[0.15058779 0.1519968  0.15872703]\n"
     ]
    },
    {
     "name": "stderr",
     "output_type": "stream",
     "text": [
      "T: No, now you cannot put b3 in the tower because you must put red blocks on blue blocks\n"
     ]
    },
    {
     "name": "stdout",
     "output_type": "stream",
     "text": [
      "[0.15058779 0.1519968  0.15872703]\n"
     ]
    },
    {
     "name": "stderr",
     "output_type": "stream",
     "text": [
      "T: No, now you cannot put b3 in the tower because you must put red blocks on blue blocks\n"
     ]
    },
    {
     "name": "stdout",
     "output_type": "stream",
     "text": [
      "[0.15058779 0.1519968  0.15872703]\n"
     ]
    },
    {
     "name": "stderr",
     "output_type": "stream",
     "text": [
      "T: No, now you cannot put b4 in the tower because you must put green blocks on yellow blocks\n"
     ]
    },
    {
     "name": "stdout",
     "output_type": "stream",
     "text": [
      "problem5.pddl reward: -22\n",
      "Parsing domain blocks-domain.pddl\n",
      "Parsing problem tworules/problem50.pddl\n",
      "problem50.pddl reward: -10\n",
      "Parsing domain blocks-domain.pddl\n",
      "Parsing problem tworules/problem6.pddl\n"
     ]
    },
    {
     "name": "stderr",
     "output_type": "stream",
     "text": [
      "T: No, now you cannot put b0 in the tower because you must put green blocks on yellow blocks\n",
      "T: No, now you cannot put b0 in the tower because you must put green blocks on yellow blocks\n"
     ]
    },
    {
     "name": "stdout",
     "output_type": "stream",
     "text": [
      "[0.24673954 0.2209047  0.2223731 ]\n",
      "[0.24673954 0.2209047  0.2223731 ]\n",
      "[0.15706327 0.16127236 0.2754682 ]\n"
     ]
    },
    {
     "name": "stderr",
     "output_type": "stream",
     "text": [
      "T: No, now you cannot put b0 in the tower because you must put green blocks on yellow blocks\n"
     ]
    },
    {
     "name": "stdout",
     "output_type": "stream",
     "text": [
      "[0.15706327 0.16127236 0.2754682 ]\n"
     ]
    },
    {
     "name": "stderr",
     "output_type": "stream",
     "text": [
      "T: No, now you cannot put b0 in the tower because you must put green blocks on yellow blocks\n"
     ]
    },
    {
     "name": "stdout",
     "output_type": "stream",
     "text": [
      "[0.15706327 0.16127236 0.2754682 ]\n"
     ]
    },
    {
     "name": "stderr",
     "output_type": "stream",
     "text": [
      "T: No, now you cannot put b0 in the tower because you must put green blocks on yellow blocks\n"
     ]
    },
    {
     "name": "stdout",
     "output_type": "stream",
     "text": [
      "[0.15706327 0.16127236 0.2754682 ]\n"
     ]
    },
    {
     "name": "stderr",
     "output_type": "stream",
     "text": [
      "T: No, now you cannot put b0 in the tower because you must put green blocks on yellow blocks\n"
     ]
    },
    {
     "name": "stdout",
     "output_type": "stream",
     "text": [
      "[0.15706327 0.16127236 0.2754682 ]\n",
      "[0.15706327 0.16127236 0.2754682 ]\n"
     ]
    },
    {
     "name": "stderr",
     "output_type": "stream",
     "text": [
      "T: No, now you cannot put b0 in the tower because you must put green blocks on yellow blocks\n"
     ]
    },
    {
     "name": "stdout",
     "output_type": "stream",
     "text": [
      "[0.23764712 0.21464334 0.21765971]\n",
      "[0.15706327 0.16127236 0.2754682 ]\n",
      "problem6.pddl reward: -24\n",
      "Parsing domain blocks-domain.pddl\n",
      "Parsing problem tworules/problem7.pddl\n"
     ]
    },
    {
     "name": "stderr",
     "output_type": "stream",
     "text": [
      "T: no, put red blocks on blue blocks\n"
     ]
    },
    {
     "name": "stdout",
     "output_type": "stream",
     "text": [
      "(forall (?x) (or (not (red ?x)) (exists (?y) (and (blue ?y) (on ?x ?y)))))\n",
      "[0.14820213 0.14881943 0.15546422]\n",
      "[0.27893145 0.2872107  0.27920384]\n"
     ]
    },
    {
     "name": "stderr",
     "output_type": "stream",
     "text": [
      "T: no, put red blocks on blue blocks\n"
     ]
    },
    {
     "name": "stdout",
     "output_type": "stream",
     "text": [
      "(forall (?x) (or (not (red ?x)) (exists (?y) (and (blue ?y) (on ?x ?y)))))\n",
      "[0.27893126 0.28721054 0.27920381]\n"
     ]
    },
    {
     "name": "stderr",
     "output_type": "stream",
     "text": [
      "T: no, put red blocks on blue blocks\n"
     ]
    },
    {
     "name": "stdout",
     "output_type": "stream",
     "text": [
      "(forall (?x) (or (not (red ?x)) (exists (?y) (and (blue ?y) (on ?x ?y)))))\n",
      "[0.27893126 0.28721054 0.27920381]\n"
     ]
    },
    {
     "name": "stderr",
     "output_type": "stream",
     "text": [
      "T: no, put red blocks on blue blocks\n",
      "T: no, put red blocks on blue blocks\n"
     ]
    },
    {
     "name": "stdout",
     "output_type": "stream",
     "text": [
      "(forall (?x) (or (not (red ?x)) (exists (?y) (and (blue ?y) (on ?x ?y)))))\n",
      "[0.27893126 0.28721054 0.27920381]\n",
      "(forall (?x) (or (not (red ?x)) (exists (?y) (and (blue ?y) (on ?x ?y)))))\n",
      "[0.27893126 0.28721054 0.27920381]\n"
     ]
    },
    {
     "name": "stderr",
     "output_type": "stream",
     "text": [
      "T: no, put red blocks on blue blocks\n"
     ]
    },
    {
     "name": "stdout",
     "output_type": "stream",
     "text": [
      "(forall (?x) (or (not (red ?x)) (exists (?y) (and (blue ?y) (on ?x ?y)))))\n",
      "[0.27893126 0.28721054 0.27920381]\n",
      "problem7.pddl reward: -22\n",
      "Parsing domain blocks-domain.pddl\n",
      "Parsing problem tworules/problem8.pddl\n"
     ]
    },
    {
     "name": "stderr",
     "output_type": "stream",
     "text": [
      "T: no, put red blocks on blue blocks\n"
     ]
    },
    {
     "name": "stdout",
     "output_type": "stream",
     "text": [
      "(forall (?x) (or (not (red ?x)) (exists (?y) (and (blue ?y) (on ?x ?y)))))\n",
      "[0.14484144 0.14543855 0.15192944]\n"
     ]
    },
    {
     "name": "stderr",
     "output_type": "stream",
     "text": [
      "T: No, now you cannot put b5 in the tower because you must put green blocks on yellow blocks\n"
     ]
    },
    {
     "name": "stdout",
     "output_type": "stream",
     "text": [
      "[0.22927496 0.20644016 0.20938647]\n",
      "[0.22927496 0.20644016 0.20938647]\n",
      "[0.15154731 0.155615   0.26748   ]\n"
     ]
    },
    {
     "name": "stderr",
     "output_type": "stream",
     "text": [
      "T: No, now you cannot put b5 in the tower because you must put green blocks on yellow blocks\n",
      "T: No, now you cannot put b5 in the tower because you must put green blocks on yellow blocks\n"
     ]
    },
    {
     "name": "stdout",
     "output_type": "stream",
     "text": [
      "[0.15154731 0.155615   0.26748   ]\n",
      "problem8.pddl reward: -18\n",
      "Parsing domain blocks-domain.pddl\n",
      "Parsing problem tworules/problem9.pddl\n"
     ]
    },
    {
     "name": "stderr",
     "output_type": "stream",
     "text": [
      "T: No, now you cannot put b0 in the tower because you must put red blocks on blue blocks\n"
     ]
    },
    {
     "name": "stdout",
     "output_type": "stream",
     "text": [
      "[0.14484144 0.14543855 0.15192944]\n",
      "[0.26739213 0.27649674 0.27209823]\n",
      "[0.14162975 0.14220787 0.14855182]\n",
      "[0.26739213 0.27649674 0.27209823]\n",
      "problem9.pddl reward: -12\n"
     ]
    }
   ],
   "source": [
    "add_experiment('tworules', None)\n",
    "add_experiment('tworules_update_negative', None)\n",
    "add_experiment('tworules_update_once', None)\n",
    "add_experiment('tworules_update_once_with_negative', None)"
   ]
  },
  {
   "cell_type": "code",
   "execution_count": 3,
   "metadata": {},
   "outputs": [],
   "source": [
    "df = read_experiments()"
   ]
  },
  {
   "cell_type": "code",
   "execution_count": 4,
   "metadata": {
    "scrolled": true
   },
   "outputs": [
    {
     "data": {
      "text/html": [
       "<div>\n",
       "<style scoped>\n",
       "    .dataframe tbody tr th:only-of-type {\n",
       "        vertical-align: middle;\n",
       "    }\n",
       "\n",
       "    .dataframe tbody tr th {\n",
       "        vertical-align: top;\n",
       "    }\n",
       "\n",
       "    .dataframe thead th {\n",
       "        text-align: right;\n",
       "    }\n",
       "</style>\n",
       "<table border=\"1\" class=\"dataframe\">\n",
       "  <thead>\n",
       "    <tr style=\"text-align: right;\">\n",
       "      <th></th>\n",
       "      <th>config_name</th>\n",
       "      <th>experiment_file</th>\n",
       "      <th>neural_config</th>\n",
       "      <th>status</th>\n",
       "    </tr>\n",
       "    <tr>\n",
       "      <th>index</th>\n",
       "      <th></th>\n",
       "      <th></th>\n",
       "      <th></th>\n",
       "      <th></th>\n",
       "    </tr>\n",
       "  </thead>\n",
       "  <tbody>\n",
       "    <tr>\n",
       "      <th>0</th>\n",
       "      <td>None</td>\n",
       "      <td>None</td>\n",
       "      <td>None</td>\n",
       "      <td>None</td>\n",
       "    </tr>\n",
       "    <tr>\n",
       "      <th>1</th>\n",
       "      <td>simple_neural</td>\n",
       "      <td>results/simplecolours/agents.NeuralCorrectingA...</td>\n",
       "      <td>DEFAULT</td>\n",
       "      <td>done</td>\n",
       "    </tr>\n",
       "    <tr>\n",
       "      <th>2</th>\n",
       "      <td>neural_onerule5000</td>\n",
       "      <td>results/onerule5000/agents.NeuralCorrectingAge...</td>\n",
       "      <td>adam_lr:0.1</td>\n",
       "      <td>done</td>\n",
       "    </tr>\n",
       "    <tr>\n",
       "      <th>3</th>\n",
       "      <td>neural_onerule5000</td>\n",
       "      <td>results/onerule5000/agents.NeuralCorrectingAge...</td>\n",
       "      <td>adam_lr:1</td>\n",
       "      <td>done</td>\n",
       "    </tr>\n",
       "    <tr>\n",
       "      <th>4</th>\n",
       "      <td>neural_onerule5000</td>\n",
       "      <td>results/onerule5000/agents.NeuralCorrectingAge...</td>\n",
       "      <td>nesterov_lr:0.1mom:0</td>\n",
       "      <td>done</td>\n",
       "    </tr>\n",
       "    <tr>\n",
       "      <th>5</th>\n",
       "      <td>neural_onerule5000</td>\n",
       "      <td>results/onerule5000/agents.NeuralCorrectingAge...</td>\n",
       "      <td>nesterov_lr:0.1mom:0.4</td>\n",
       "      <td>done</td>\n",
       "    </tr>\n",
       "    <tr>\n",
       "      <th>6</th>\n",
       "      <td>tworules</td>\n",
       "      <td>results/tworules/agents.CorrectingAgent/0.7/ex...</td>\n",
       "      <td>None</td>\n",
       "      <td>done</td>\n",
       "    </tr>\n",
       "    <tr>\n",
       "      <th>7</th>\n",
       "      <td>tworules_no_update</td>\n",
       "      <td>results/tworules/agents.CorrectingAgent/0.7/ex...</td>\n",
       "      <td>None</td>\n",
       "      <td>done</td>\n",
       "    </tr>\n",
       "    <tr>\n",
       "      <th>8</th>\n",
       "      <td>tworules</td>\n",
       "      <td>results/tworules/agents.CorrectingAgent/0.7/ex...</td>\n",
       "      <td>None</td>\n",
       "      <td>done</td>\n",
       "    </tr>\n",
       "    <tr>\n",
       "      <th>9</th>\n",
       "      <td>tworules_no_update</td>\n",
       "      <td>results/tworules/agents.CorrectingAgent/0.7/ex...</td>\n",
       "      <td>None</td>\n",
       "      <td>done</td>\n",
       "    </tr>\n",
       "    <tr>\n",
       "      <th>10</th>\n",
       "      <td>tworules</td>\n",
       "      <td>results/tworules/agents.CorrectingAgent/0.7/ex...</td>\n",
       "      <td>None</td>\n",
       "      <td>done</td>\n",
       "    </tr>\n",
       "    <tr>\n",
       "      <th>11</th>\n",
       "      <td>onerule</td>\n",
       "      <td>results/onerule/agents.CorrectingAgent/0.7/exp...</td>\n",
       "      <td>None</td>\n",
       "      <td>done</td>\n",
       "    </tr>\n",
       "    <tr>\n",
       "      <th>12</th>\n",
       "      <td>onerule_update_negative</td>\n",
       "      <td>results/onerule/agents.CorrectingAgent/0.7/exp...</td>\n",
       "      <td>None</td>\n",
       "      <td>done</td>\n",
       "    </tr>\n",
       "    <tr>\n",
       "      <th>13</th>\n",
       "      <td>tworules</td>\n",
       "      <td>results/tworules/agents.CorrectingAgent/0.7/ex...</td>\n",
       "      <td>None</td>\n",
       "      <td>done</td>\n",
       "    </tr>\n",
       "    <tr>\n",
       "      <th>14</th>\n",
       "      <td>tworules_update_negative</td>\n",
       "      <td>None</td>\n",
       "      <td>None</td>\n",
       "      <td>running</td>\n",
       "    </tr>\n",
       "    <tr>\n",
       "      <th>15</th>\n",
       "      <td>tworules_perfect_colour</td>\n",
       "      <td>results/tworules/agents.PerfectColoursAgent/0....</td>\n",
       "      <td>None</td>\n",
       "      <td>done</td>\n",
       "    </tr>\n",
       "    <tr>\n",
       "      <th>16</th>\n",
       "      <td>tworules_perfect_colour_vis</td>\n",
       "      <td>results/tworules/agents.PerfectColoursAgent/0....</td>\n",
       "      <td>None</td>\n",
       "      <td>done</td>\n",
       "    </tr>\n",
       "    <tr>\n",
       "      <th>17</th>\n",
       "      <td>tworules_perfect_colour</td>\n",
       "      <td>None</td>\n",
       "      <td>None</td>\n",
       "      <td>running</td>\n",
       "    </tr>\n",
       "    <tr>\n",
       "      <th>18</th>\n",
       "      <td>tworules</td>\n",
       "      <td>results/tworules/agents.CorrectingAgent/0.7/ex...</td>\n",
       "      <td>None</td>\n",
       "      <td>done</td>\n",
       "    </tr>\n",
       "    <tr>\n",
       "      <th>19</th>\n",
       "      <td>tworules_update_negative</td>\n",
       "      <td>None</td>\n",
       "      <td>None</td>\n",
       "      <td>running</td>\n",
       "    </tr>\n",
       "    <tr>\n",
       "      <th>20</th>\n",
       "      <td>tworules</td>\n",
       "      <td>None</td>\n",
       "      <td>None</td>\n",
       "      <td>running</td>\n",
       "    </tr>\n",
       "    <tr>\n",
       "      <th>21</th>\n",
       "      <td>tworules</td>\n",
       "      <td>results/tworules/agents.CorrectingAgent/0.7/ex...</td>\n",
       "      <td>None</td>\n",
       "      <td>done</td>\n",
       "    </tr>\n",
       "    <tr>\n",
       "      <th>22</th>\n",
       "      <td>tworules_update_negative</td>\n",
       "      <td>results/tworules/agents.CorrectingAgent/0.7/ex...</td>\n",
       "      <td>None</td>\n",
       "      <td>done</td>\n",
       "    </tr>\n",
       "    <tr>\n",
       "      <th>23</th>\n",
       "      <td>tworules_update_once</td>\n",
       "      <td>None</td>\n",
       "      <td>None</td>\n",
       "      <td>running</td>\n",
       "    </tr>\n",
       "    <tr>\n",
       "      <th>24</th>\n",
       "      <td>tworules_update_once</td>\n",
       "      <td>results/tworules/agents.CorrectingAgent/0.7/ex...</td>\n",
       "      <td>None</td>\n",
       "      <td>done</td>\n",
       "    </tr>\n",
       "    <tr>\n",
       "      <th>25</th>\n",
       "      <td>tworules_update_once_with_negative</td>\n",
       "      <td>results/tworules/agents.CorrectingAgent/0.7/ex...</td>\n",
       "      <td>None</td>\n",
       "      <td>done</td>\n",
       "    </tr>\n",
       "    <tr>\n",
       "      <th>26</th>\n",
       "      <td>tworules</td>\n",
       "      <td>None</td>\n",
       "      <td>None</td>\n",
       "      <td>running</td>\n",
       "    </tr>\n",
       "    <tr>\n",
       "      <th>27</th>\n",
       "      <td>tworules</td>\n",
       "      <td>None</td>\n",
       "      <td>None</td>\n",
       "      <td>running</td>\n",
       "    </tr>\n",
       "    <tr>\n",
       "      <th>28</th>\n",
       "      <td>tworules</td>\n",
       "      <td>None</td>\n",
       "      <td>None</td>\n",
       "      <td>running</td>\n",
       "    </tr>\n",
       "    <tr>\n",
       "      <th>29</th>\n",
       "      <td>tworules</td>\n",
       "      <td>None</td>\n",
       "      <td>None</td>\n",
       "      <td>running</td>\n",
       "    </tr>\n",
       "    <tr>\n",
       "      <th>30</th>\n",
       "      <td>tworules</td>\n",
       "      <td>None</td>\n",
       "      <td>None</td>\n",
       "      <td>running</td>\n",
       "    </tr>\n",
       "    <tr>\n",
       "      <th>31</th>\n",
       "      <td>tworules_update_once</td>\n",
       "      <td>None</td>\n",
       "      <td>None</td>\n",
       "      <td>running</td>\n",
       "    </tr>\n",
       "    <tr>\n",
       "      <th>32</th>\n",
       "      <td>tworules</td>\n",
       "      <td>None</td>\n",
       "      <td>None</td>\n",
       "      <td>running</td>\n",
       "    </tr>\n",
       "    <tr>\n",
       "      <th>33</th>\n",
       "      <td>tworules</td>\n",
       "      <td>None</td>\n",
       "      <td>None</td>\n",
       "      <td>running</td>\n",
       "    </tr>\n",
       "    <tr>\n",
       "      <th>34</th>\n",
       "      <td>tworules</td>\n",
       "      <td>None</td>\n",
       "      <td>None</td>\n",
       "      <td>running</td>\n",
       "    </tr>\n",
       "    <tr>\n",
       "      <th>35</th>\n",
       "      <td>tworules</td>\n",
       "      <td>results/tworules/agents.CorrectingAgent/0.7/ex...</td>\n",
       "      <td>None</td>\n",
       "      <td>done</td>\n",
       "    </tr>\n",
       "    <tr>\n",
       "      <th>36</th>\n",
       "      <td>tworules_update_negative</td>\n",
       "      <td>None</td>\n",
       "      <td>None</td>\n",
       "      <td>running</td>\n",
       "    </tr>\n",
       "    <tr>\n",
       "      <th>37</th>\n",
       "      <td>tworules</td>\n",
       "      <td>None</td>\n",
       "      <td>None</td>\n",
       "      <td>running</td>\n",
       "    </tr>\n",
       "    <tr>\n",
       "      <th>38</th>\n",
       "      <td>tworules</td>\n",
       "      <td>results/tworules/agents.CorrectingAgent/0.7/ex...</td>\n",
       "      <td>None</td>\n",
       "      <td>done</td>\n",
       "    </tr>\n",
       "    <tr>\n",
       "      <th>39</th>\n",
       "      <td>tworules_update_negative</td>\n",
       "      <td>results/tworules/agents.CorrectingAgent/0.7/ex...</td>\n",
       "      <td>None</td>\n",
       "      <td>done</td>\n",
       "    </tr>\n",
       "    <tr>\n",
       "      <th>40</th>\n",
       "      <td>tworules_update_once</td>\n",
       "      <td>results/tworules/agents.CorrectingAgent/0.7/ex...</td>\n",
       "      <td>None</td>\n",
       "      <td>done</td>\n",
       "    </tr>\n",
       "    <tr>\n",
       "      <th>41</th>\n",
       "      <td>tworules_update_once_with_negative</td>\n",
       "      <td>results/tworules/agents.CorrectingAgent/0.7/ex...</td>\n",
       "      <td>None</td>\n",
       "      <td>done</td>\n",
       "    </tr>\n",
       "  </tbody>\n",
       "</table>\n",
       "</div>"
      ],
      "text/plain": [
       "                              config_name  \\\n",
       "index                                       \n",
       "0                                    None   \n",
       "1                           simple_neural   \n",
       "2                      neural_onerule5000   \n",
       "3                      neural_onerule5000   \n",
       "4                      neural_onerule5000   \n",
       "5                      neural_onerule5000   \n",
       "6                                tworules   \n",
       "7                      tworules_no_update   \n",
       "8                                tworules   \n",
       "9                      tworules_no_update   \n",
       "10                               tworules   \n",
       "11                                onerule   \n",
       "12                onerule_update_negative   \n",
       "13                               tworules   \n",
       "14               tworules_update_negative   \n",
       "15                tworules_perfect_colour   \n",
       "16            tworules_perfect_colour_vis   \n",
       "17                tworules_perfect_colour   \n",
       "18                               tworules   \n",
       "19               tworules_update_negative   \n",
       "20                               tworules   \n",
       "21                               tworules   \n",
       "22               tworules_update_negative   \n",
       "23                   tworules_update_once   \n",
       "24                   tworules_update_once   \n",
       "25     tworules_update_once_with_negative   \n",
       "26                               tworules   \n",
       "27                               tworules   \n",
       "28                               tworules   \n",
       "29                               tworules   \n",
       "30                               tworules   \n",
       "31                   tworules_update_once   \n",
       "32                               tworules   \n",
       "33                               tworules   \n",
       "34                               tworules   \n",
       "35                               tworules   \n",
       "36               tworules_update_negative   \n",
       "37                               tworules   \n",
       "38                               tworules   \n",
       "39               tworules_update_negative   \n",
       "40                   tworules_update_once   \n",
       "41     tworules_update_once_with_negative   \n",
       "\n",
       "                                         experiment_file  \\\n",
       "index                                                      \n",
       "0                                                   None   \n",
       "1      results/simplecolours/agents.NeuralCorrectingA...   \n",
       "2      results/onerule5000/agents.NeuralCorrectingAge...   \n",
       "3      results/onerule5000/agents.NeuralCorrectingAge...   \n",
       "4      results/onerule5000/agents.NeuralCorrectingAge...   \n",
       "5      results/onerule5000/agents.NeuralCorrectingAge...   \n",
       "6      results/tworules/agents.CorrectingAgent/0.7/ex...   \n",
       "7      results/tworules/agents.CorrectingAgent/0.7/ex...   \n",
       "8      results/tworules/agents.CorrectingAgent/0.7/ex...   \n",
       "9      results/tworules/agents.CorrectingAgent/0.7/ex...   \n",
       "10     results/tworules/agents.CorrectingAgent/0.7/ex...   \n",
       "11     results/onerule/agents.CorrectingAgent/0.7/exp...   \n",
       "12     results/onerule/agents.CorrectingAgent/0.7/exp...   \n",
       "13     results/tworules/agents.CorrectingAgent/0.7/ex...   \n",
       "14                                                  None   \n",
       "15     results/tworules/agents.PerfectColoursAgent/0....   \n",
       "16     results/tworules/agents.PerfectColoursAgent/0....   \n",
       "17                                                  None   \n",
       "18     results/tworules/agents.CorrectingAgent/0.7/ex...   \n",
       "19                                                  None   \n",
       "20                                                  None   \n",
       "21     results/tworules/agents.CorrectingAgent/0.7/ex...   \n",
       "22     results/tworules/agents.CorrectingAgent/0.7/ex...   \n",
       "23                                                  None   \n",
       "24     results/tworules/agents.CorrectingAgent/0.7/ex...   \n",
       "25     results/tworules/agents.CorrectingAgent/0.7/ex...   \n",
       "26                                                  None   \n",
       "27                                                  None   \n",
       "28                                                  None   \n",
       "29                                                  None   \n",
       "30                                                  None   \n",
       "31                                                  None   \n",
       "32                                                  None   \n",
       "33                                                  None   \n",
       "34                                                  None   \n",
       "35     results/tworules/agents.CorrectingAgent/0.7/ex...   \n",
       "36                                                  None   \n",
       "37                                                  None   \n",
       "38     results/tworules/agents.CorrectingAgent/0.7/ex...   \n",
       "39     results/tworules/agents.CorrectingAgent/0.7/ex...   \n",
       "40     results/tworules/agents.CorrectingAgent/0.7/ex...   \n",
       "41     results/tworules/agents.CorrectingAgent/0.7/ex...   \n",
       "\n",
       "                neural_config   status  \n",
       "index                                   \n",
       "0                        None     None  \n",
       "1                     DEFAULT     done  \n",
       "2                 adam_lr:0.1     done  \n",
       "3                   adam_lr:1     done  \n",
       "4        nesterov_lr:0.1mom:0     done  \n",
       "5      nesterov_lr:0.1mom:0.4     done  \n",
       "6                        None     done  \n",
       "7                        None     done  \n",
       "8                        None     done  \n",
       "9                        None     done  \n",
       "10                       None     done  \n",
       "11                       None     done  \n",
       "12                       None     done  \n",
       "13                       None     done  \n",
       "14                       None  running  \n",
       "15                       None     done  \n",
       "16                       None     done  \n",
       "17                       None  running  \n",
       "18                       None     done  \n",
       "19                       None  running  \n",
       "20                       None  running  \n",
       "21                       None     done  \n",
       "22                       None     done  \n",
       "23                       None  running  \n",
       "24                       None     done  \n",
       "25                       None     done  \n",
       "26                       None  running  \n",
       "27                       None  running  \n",
       "28                       None  running  \n",
       "29                       None  running  \n",
       "30                       None  running  \n",
       "31                       None  running  \n",
       "32                       None  running  \n",
       "33                       None  running  \n",
       "34                       None  running  \n",
       "35                       None     done  \n",
       "36                       None  running  \n",
       "37                       None  running  \n",
       "38                       None     done  \n",
       "39                       None     done  \n",
       "40                       None     done  \n",
       "41                       None     done  "
      ]
     },
     "execution_count": 4,
     "metadata": {},
     "output_type": "execute_result"
    }
   ],
   "source": [
    "df"
   ]
  },
  {
   "cell_type": "code",
   "execution_count": 13,
   "metadata": {},
   "outputs": [
    {
     "data": {
      "image/png": "[encoded data removed]",
      "text/plain": [
       "<Figure size 432x288 with 1 Axes>"
      ]
     },
     "metadata": {},
     "output_type": "display_data"
    }
   ],
   "source": [
    "exp = load_experiments([38, 40, 15], 'tworules')\n",
    "exp.plot()"
   ]
  },
  {
   "cell_type": "code",
   "execution_count": 15,
   "metadata": {},
   "outputs": [
    {
     "name": "stdout",
     "output_type": "stream",
     "text": [
      "False\n",
      "True\n"
     ]
    }
   ],
   "source": [
    "agent_no_negative = exp.get_agent('agents.CorrectingAgent_0')\n",
    "#agent_negative = exp.get_agent('agents.CorrectingAgent_1')\n",
    "agent_one_update = exp.get_agent('agents.CorrectingAgent_1')\n",
    "#agent_one_update_negative = exp.get_agent('agents.CorrectingAgent_3')\n",
    "print(agent_no_negative.update_negative)\n",
    "#print(agent_negative.update_negative)\n",
    "print(agent_one_update.update_once)\n",
    "#print(agent_one_update_negative.update_once, agent_one_update_negative.update_negative)\n",
    "# exp2 = load_experiments([11, 12], 'onerule')\n",
    "# exp2.plot()"
   ]
  },
  {
   "cell_type": "code",
   "execution_count": 14,
   "metadata": {},
   "outputs": [],
   "source": [
    "agent_no_negative = exp.get_agent('agents.CorrectingAgent_0')\n",
    "agent_negative = exp.get_agent('agents.CorrectingAgent_1')\n"
   ]
  },
  {
   "cell_type": "code",
   "execution_count": 15,
   "metadata": {},
   "outputs": [
    {
     "name": "stdout",
     "output_type": "stream",
     "text": [
      "False\n",
      "True\n"
     ]
    }
   ],
   "source": [
    "print(agent_no_negative.update_negative)\n",
    "print(agent_negative.update_negative)"
   ]
  },
  {
   "cell_type": "code",
   "execution_count": 17,
   "metadata": {},
   "outputs": [
    {
     "name": "stdout",
     "output_type": "stream",
     "text": [
      "True Label  B=1 B=0\n",
      "Predict B=1| 9 | 6 |\n",
      "        B=0| 0 | 27 |\n"
     ]
    },
    {
     "data": {
      "text/plain": [
       "{'fn': 0, 'fp': 6, 'tn': 27, 'tp': 9}"
      ]
     },
     "execution_count": 17,
     "metadata": {},
     "output_type": "execute_result"
    }
   ],
   "source": [
    "test_colour_model(agent_negative.colour_models['blue'])"
   ]
  },
  {
   "cell_type": "code",
   "execution_count": 17,
   "metadata": {},
   "outputs": [
    {
     "name": "stdout",
     "output_type": "stream",
     "text": [
      "True Label  G=1 G=0\n",
      "Predict G=1| 10 | 3 |\n",
      "        G=0| 0 | 29 |\n",
      "True Label  Y=1 Y=0\n",
      "Predict Y=1| 3 | 7 |\n",
      "        Y=0| 0 | 32 |\n",
      "True Label  R=1 R=0\n",
      "Predict R=1| 5 | 0 |\n",
      "        R=0| 0 | 37 |\n",
      "True Label  B=1 B=0\n",
      "Predict B=1| 9 | 10 |\n",
      "        B=0| 0 | 23 |\n"
     ]
    }
   ],
   "source": [
    "for e in exp.test_colour_models('agents.CorrectingAgent_1'):\n",
    "    pass"
   ]
  },
  {
   "cell_type": "code",
   "execution_count": 19,
   "metadata": {},
   "outputs": [
    {
     "name": "stdout",
     "output_type": "stream",
     "text": [
      "True Label  G=1 G=0\n",
      "Predict G=1| 5 | 0 |\n",
      "        G=0| 5 | 32 |\n",
      "True Label  Y=1 Y=0\n",
      "Predict Y=1| 3 | 0 |\n",
      "        Y=0| 0 | 39 |\n",
      "True Label  R=1 R=0\n",
      "Predict R=1| 0 | 0 |\n",
      "        R=0| 5 | 37 |\n",
      "True Label  B=1 B=0\n",
      "Predict B=1| 9 | 6 |\n",
      "        B=0| 0 | 27 |\n"
     ]
    }
   ],
   "source": [
    "for e in exp.test_colour_models('agents.CorrectingAgent_1'):\n",
    "    pass"
   ]
  },
  {
   "cell_type": "code",
   "execution_count": 11,
   "metadata": {},
   "outputs": [
    {
     "name": "stdout",
     "output_type": "stream",
     "text": [
      "True Label  G=1 G=0\n",
      "Predict G=1| 8 | 0 |\n",
      "        G=0| 2 | 32 |\n",
      "True Label  Y=1 Y=0\n",
      "Predict Y=1| 3 | 1 |\n",
      "        Y=0| 0 | 38 |\n",
      "True Label  R=1 R=0\n",
      "Predict R=1| 3 | 0 |\n",
      "        R=0| 2 | 37 |\n",
      "True Label  B=1 B=0\n",
      "Predict B=1| 8 | 3 |\n",
      "        B=0| 1 | 30 |\n"
     ]
    }
   ],
   "source": [
    "for e in exp.test_colour_models('agents.CorrectingAgent_2'):\n",
    "    pass"
   ]
  },
  {
   "cell_type": "code",
   "execution_count": 12,
   "metadata": {},
   "outputs": [
    {
     "data": {
      "image/png": "[encoded data removed]",
      "text/plain": [
       "<Figure size 432x288 with 2 Axes>"
      ]
     },
     "metadata": {},
     "output_type": "display_data"
    },
    {
     "data": {
      "image/png": "[encoded data removed]",
      "text/plain": [
       "<Figure size 432x288 with 2 Axes>"
      ]
     },
     "metadata": {},
     "output_type": "display_data"
    }
   ],
   "source": [
    "agent_no_negative.colour_models['red'].draw(draw_both=True)\n",
    "agent_one_update.colour_models['red'].draw(draw_both=True)"
   ]
  },
  {
   "cell_type": "code",
   "execution_count": 21,
   "metadata": {},
   "outputs": [
    {
     "data": {
      "image/png": "[encoded data removed]",
      "text/plain": [
       "<Figure size 432x288 with 2 Axes>"
      ]
     },
     "metadata": {},
     "output_type": "display_data"
    }
   ],
   "source": [
    "red_no_neg = agent_no_negative.colour_models['red']\n",
    "red_no_neg.draw(draw_both=True)"
   ]
  },
  {
   "cell_type": "code",
   "execution_count": 12,
   "metadata": {},
   "outputs": [
    {
     "data": {
      "image/png": "[encoded data removed]",
      "text/plain": [
       "<Figure size 432x288 with 2 Axes>"
      ]
     },
     "metadata": {},
     "output_type": "display_data"
    },
    {
     "data": {
      "image/png": "[encoded data removed]",
      "text/plain": [
       "<Figure size 432x288 with 2 Axes>"
      ]
     },
     "metadata": {},
     "output_type": "display_data"
    },
    {
     "data": {
      "image/png": "[encoded data removed]",
      "text/plain": [
       "<Figure size 432x288 with 2 Axes>"
      ]
     },
     "metadata": {},
     "output_type": "display_data"
    },
    {
     "data": {
      "image/png": "[encoded data removed]",
      "text/plain": [
       "<Figure size 432x288 with 2 Axes>"
      ]
     },
     "metadata": {},
     "output_type": "display_data"
    }
   ],
   "source": [
    "agent_one_update.colour_models['red'].draw(draw_both=True)\n",
    "agent_one_update.colour_models['green'].draw(draw_both=True)\n",
    "agent_one_update.colour_models['blue'].draw(draw_both=True)\n",
    "agent_one_update.colour_models['yellow'].draw(draw_both=True)"
   ]
  },
  {
   "cell_type": "code",
   "execution_count": 22,
   "metadata": {
    "collapsed": true
   },
   "outputs": [
    {
     "data": {
      "image/png": "[encoded data removed]",
      "text/plain": [
       "<Figure size 432x288 with 2 Axes>"
      ]
     },
     "metadata": {},
     "output_type": "display_data"
    }
   ],
   "source": [
    "red_neg = agent_negative.colour_models['red']\n",
    "red_neg.draw(draw_both=True)"
   ]
  },
  {
   "cell_type": "code",
   "execution_count": 34,
   "metadata": {
    "collapsed": true
   },
   "outputs": [
    {
     "name": "stdout",
     "output_type": "stream",
     "text": [
      "confusion at threshold 1e-23\n",
      "True Label  R=1 R=0\n",
      "Predict R=1| 5 | 0 |\n",
      "        R=0| 0 | 37 |\n",
      "confusion at threshold 0.05\n",
      "True Label  R=1 R=0\n",
      "Predict R=1| 0 | 0 |\n",
      "        R=0| 5 | 37 |\n",
      "confusion at threshold 0.1\n",
      "True Label  R=1 R=0\n",
      "Predict R=1| 0 | 0 |\n",
      "        R=0| 5 | 37 |\n",
      "confusion at threshold 0.2\n",
      "True Label  R=1 R=0\n",
      "Predict R=1| 0 | 0 |\n",
      "        R=0| 5 | 37 |\n",
      "confusion at threshold 0.3\n",
      "True Label  R=1 R=0\n",
      "Predict R=1| 0 | 0 |\n",
      "        R=0| 5 | 37 |\n",
      "confusion at threshold 0.4\n",
      "True Label  R=1 R=0\n",
      "Predict R=1| 0 | 0 |\n",
      "        R=0| 5 | 37 |\n",
      "confusion at threshold 0.5\n",
      "True Label  R=1 R=0\n",
      "Predict R=1| 0 | 0 |\n",
      "        R=0| 5 | 37 |\n",
      "confusion at threshold 0.6\n",
      "True Label  R=1 R=0\n",
      "Predict R=1| 0 | 0 |\n",
      "        R=0| 5 | 37 |\n",
      "confusion at threshold 0.7\n",
      "True Label  R=1 R=0\n",
      "Predict R=1| 0 | 0 |\n",
      "        R=0| 5 | 37 |\n",
      "confusion at threshold 0.8\n",
      "True Label  R=1 R=0\n",
      "Predict R=1| 0 | 0 |\n",
      "        R=0| 5 | 37 |\n",
      "confusion at threshold 0.9\n",
      "True Label  R=1 R=0\n",
      "Predict R=1| 0 | 0 |\n",
      "        R=0| 5 | 37 |\n"
     ]
    }
   ],
   "source": [
    "for thr in [0.00000000000000000000001, 0.05, 0.1, 0.2, 0.3, 0.4, 0.5, 0.6, 0.7, 0.8, 0.9]:\n",
    "    print('confusion at threshold', thr)\n",
    "    test_colour_model(red_no_neg, colour_thresh=thr)"
   ]
  },
  {
   "cell_type": "code",
   "execution_count": 36,
   "metadata": {
    "scrolled": true
   },
   "outputs": [
    {
     "data": {
      "text/plain": [
       "{'blue': {'blue': 0.0,\n",
       "  'cornflowerblue': 0.0,\n",
       "  'darkblue': 7.178876031302976e-199,\n",
       "  'deepskyblue': 0.0,\n",
       "  'dodgerblue': 0.0,\n",
       "  'mediumblue': 0.0,\n",
       "  'midnightblue': 8.282938989946545e-128,\n",
       "  'navy': 3.1766131877760615e-172,\n",
       "  'royalblue': 0.0},\n",
       " 'green': {'darkolivegreen': 7.504832522212507e-162,\n",
       "  'forestgreen': 6.248953530081221e-283,\n",
       "  'green': 1.1204420028636606e-254,\n",
       "  'greenyellow': 0.0,\n",
       "  'lawngreen': 0.0,\n",
       "  'limegreen': 0.0,\n",
       "  'olivedrab': 1.0431062543674365e-273,\n",
       "  'palegreen': 0.0,\n",
       "  'seagreen': 0.0,\n",
       "  'yellowgreen': 0.0},\n",
       " 'orange': {'bisque': 0.0,\n",
       "  'darkorange': 3.0533224544032505e-263,\n",
       "  'orange': 0.0},\n",
       " 'pink': {'deeppink': 5.7801520141648956e-182,\n",
       "  'fuchsia': 0.0,\n",
       "  'hotpink': 0.0,\n",
       "  'lightpink': 0.0,\n",
       "  'magenta': 0.0,\n",
       "  'pink': 0.0},\n",
       " 'purple': {'blueviolet': 0.0,\n",
       "  'darkmagenta': 3.135404681317139e-157,\n",
       "  'darkorchid': 0.0,\n",
       "  'darkviolet': 0.0,\n",
       "  'indigo': 4.5989812019230154e-148,\n",
       "  'purple': 5.1363007706373354e-132},\n",
       " 'red': {'crimson': 1.6189114713029205e-19,\n",
       "  'darkred': 0.018084116528646256,\n",
       "  'firebrick': 1.1214177406020784e-07,\n",
       "  'maroon': 0.0006813589488662484,\n",
       "  'red': 7.267091883752712e-07},\n",
       " 'yellow': {'lightgoldenrodyellow': 0.0, 'lightyellow': 0.0, 'yellow': 0.0}}"
      ]
     },
     "execution_count": 36,
     "metadata": {},
     "output_type": "execute_result"
    }
   ],
   "source": [
    "colour_probs(red_no_neg, colour_dict)"
   ]
  },
  {
   "cell_type": "code",
   "execution_count": 39,
   "metadata": {},
   "outputs": [
    {
     "data": {
      "text/plain": [
       "[array([1., 0., 0.], dtype=float32),\n",
       " array([0.54509807, 0.        , 0.        ], dtype=float32),\n",
       " array([0.5019608, 0.       , 0.       ], dtype=float32),\n",
       " array([0.69803923, 0.13333334, 0.13333334], dtype=float32),\n",
       " array([0.8627451 , 0.07843138, 0.23529412], dtype=float32)]"
      ]
     },
     "execution_count": 39,
     "metadata": {},
     "output_type": "execute_result"
    }
   ],
   "source": [
    "list(map(name_to_rgb, colour_dict['red']))"
   ]
  },
  {
   "cell_type": "code",
   "execution_count": null,
   "metadata": {},
   "outputs": [],
   "source": []
  }
 ],
 "metadata": {
  "kernelspec": {
   "display_name": "Python 3",
   "language": "python",
   "name": "python3"
  },
  "language_info": {
   "codemirror_mode": {
    "name": "ipython",
    "version": 3
   },
   "file_extension": ".py",
   "mimetype": "text/x-python",
   "name": "python",
   "nbconvert_exporter": "python",
   "pygments_lexer": "ipython3",
   "version": "3.6.3"
  }
 },
 "nbformat": 4,
 "nbformat_minor": 2
}

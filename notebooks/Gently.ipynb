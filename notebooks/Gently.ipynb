{
 "cells": [
  {
   "cell_type": "code",
   "execution_count": 1,
   "metadata": {},
   "outputs": [],
   "source": [
    "teacher_utterance = \"To wipe almonds do it slowly and gently\""
   ]
  },
  {
   "cell_type": "code",
   "execution_count": 1,
   "metadata": {},
   "outputs": [],
   "source": [
    "from gently.concepts import Concept, Behaviour\n",
    "from gently.BezierCurves import BehaviourCurve\n",
    "from gently.agent import GentlyAgent\n",
    "from enum import Enum"
   ]
  },
  {
   "cell_type": "code",
   "execution_count": 2,
   "metadata": {},
   "outputs": [],
   "source": [
    "import numpy as np\n",
    "from scipy.special import erf\n",
    "from scipy.stats import norm\n",
    "\n",
    "import bezier\n",
    "import numpy as np\n",
    "%matplotlib inline\n",
    "import seaborn\n",
    "import matplotlib.pyplot as plt"
   ]
  },
  {
   "cell_type": "code",
   "execution_count": 3,
   "metadata": {},
   "outputs": [],
   "source": [
    "dialogue = {\n",
    "    \"u_1\": \"to wipe milk do it left and slowly\",\n",
    "    \"a_1\": BehaviourCurve(0.5, 0.1, 0.8),\n",
    "    \"u_2\": \"no, left\",\n",
    "    \"a_2\": BehaviourCurve(0.4, 0.6, 0.4),\n",
    "    \"u_3\": \"no, slowly and left\",\n",
    "    \"a_3\": BehaviourCurve(-0.3, 0.2, 0.6),\n",
    "    \"u_4\": \"yes\"\n",
    "}"
   ]
  },
  {
   "cell_type": "code",
   "execution_count": null,
   "metadata": {},
   "outputs": [],
   "source": []
  },
  {
   "cell_type": "code",
   "execution_count": null,
   "metadata": {},
   "outputs": [],
   "source": []
  },
  {
   "cell_type": "code",
   "execution_count": 4,
   "metadata": {},
   "outputs": [],
   "source": [
    "agent = GentlyAgent()"
   ]
  },
  {
   "cell_type": "code",
   "execution_count": 5,
   "metadata": {},
   "outputs": [
    {
     "name": "stdout",
     "output_type": "stream",
     "text": [
      "0 0.5\n",
      "-0.2499999999 0.3413447460685429\n",
      "-0.3396278734774404 0.32192911870529206\n",
      "-0.31981393673872016 0.16135715144173204\n"
     ]
    }
   ],
   "source": [
    "agent.interpret_command(None, dialogue[\"u_1\"])\n",
    "print(agent.behaviours[\"wipe milk\"].curve_concept.mean, agent.behaviours[\"wipe milk\"].curve_concept.variance)\n",
    "agent.interpret_command(dialogue[\"a_1\"], dialogue[\"u_2\"])\n",
    "print(agent.behaviours[\"wipe milk\"].curve_concept.mean, agent.behaviours[\"wipe milk\"].curve_concept.variance)\n",
    "agent.interpret_command(dialogue[\"a_2\"], dialogue[\"u_3\"])\n",
    "print(agent.behaviours[\"wipe milk\"].curve_concept.mean, agent.behaviours[\"wipe milk\"].curve_concept.variance)\n",
    "agent.interpret_command(dialogue[\"a_3\"], dialogue[\"u_4\"])\n",
    "print(agent.behaviours[\"wipe milk\"].curve_concept.mean, agent.behaviours[\"wipe milk\"].curve_concept.variance)"
   ]
  },
  {
   "cell_type": "code",
   "execution_count": 6,
   "metadata": {},
   "outputs": [],
   "source": [
    "class HumanTeacher(object):\n",
    "    \n",
    "    def __init__(self):\n",
    "        pass\n",
    "    \n",
    "    def get_correction(self, behaviour):\n",
    "        behaviour.plot()\n",
    "        plt.show()\n",
    "        correction = input(\"Give feedback:\")\n",
    "        return correction\n",
    "\n",
    "    def give_command(self):\n",
    "        command = input(\"What should the agent do?\")\n",
    "        return command"
   ]
  },
  {
   "cell_type": "code",
   "execution_count": 7,
   "metadata": {},
   "outputs": [],
   "source": [
    "def do_scenario(agent, teacher, world):\n",
    "    command = teacher.give_command()\n",
    "    \n",
    "    agent.interpret_command(None, command)\n",
    "    \n",
    "    while command != \"done\":\n",
    "        behaviour = agent.generate_behaviour()\n",
    "        command = teacher.get_correction(behaviour)\n",
    "        \n",
    "        agent.interpret_command(behaviour, command)"
   ]
  },
  {
   "cell_type": "code",
   "execution_count": 9,
   "metadata": {},
   "outputs": [
    {
     "ename": "KeyboardInterrupt",
     "evalue": "",
     "output_type": "error",
     "traceback": [
      "\u001b[0;31m---------------------------------------------------------------------------\u001b[0m",
      "\u001b[0;31mKeyboardInterrupt\u001b[0m                         Traceback (most recent call last)",
      "\u001b[0;32m~/miniconda3/envs/phd/lib/python3.7/site-packages/ipykernel/kernelbase.py\u001b[0m in \u001b[0;36m_input_request\u001b[0;34m(self, prompt, ident, parent, password)\u001b[0m\n\u001b[1;32m    877\u001b[0m             \u001b[0;32mtry\u001b[0m\u001b[0;34m:\u001b[0m\u001b[0;34m\u001b[0m\u001b[0;34m\u001b[0m\u001b[0m\n\u001b[0;32m--> 878\u001b[0;31m                 \u001b[0mident\u001b[0m\u001b[0;34m,\u001b[0m \u001b[0mreply\u001b[0m \u001b[0;34m=\u001b[0m \u001b[0mself\u001b[0m\u001b[0;34m.\u001b[0m\u001b[0msession\u001b[0m\u001b[0;34m.\u001b[0m\u001b[0mrecv\u001b[0m\u001b[0;34m(\u001b[0m\u001b[0mself\u001b[0m\u001b[0;34m.\u001b[0m\u001b[0mstdin_socket\u001b[0m\u001b[0;34m,\u001b[0m \u001b[0;36m0\u001b[0m\u001b[0;34m)\u001b[0m\u001b[0;34m\u001b[0m\u001b[0;34m\u001b[0m\u001b[0m\n\u001b[0m\u001b[1;32m    879\u001b[0m             \u001b[0;32mexcept\u001b[0m \u001b[0mException\u001b[0m\u001b[0;34m:\u001b[0m\u001b[0;34m\u001b[0m\u001b[0;34m\u001b[0m\u001b[0m\n",
      "\u001b[0;32m~/miniconda3/envs/phd/lib/python3.7/site-packages/jupyter_client/session.py\u001b[0m in \u001b[0;36mrecv\u001b[0;34m(self, socket, mode, content, copy)\u001b[0m\n\u001b[1;32m    802\u001b[0m         \u001b[0;32mtry\u001b[0m\u001b[0;34m:\u001b[0m\u001b[0;34m\u001b[0m\u001b[0;34m\u001b[0m\u001b[0m\n\u001b[0;32m--> 803\u001b[0;31m             \u001b[0mmsg_list\u001b[0m \u001b[0;34m=\u001b[0m \u001b[0msocket\u001b[0m\u001b[0;34m.\u001b[0m\u001b[0mrecv_multipart\u001b[0m\u001b[0;34m(\u001b[0m\u001b[0mmode\u001b[0m\u001b[0;34m,\u001b[0m \u001b[0mcopy\u001b[0m\u001b[0;34m=\u001b[0m\u001b[0mcopy\u001b[0m\u001b[0;34m)\u001b[0m\u001b[0;34m\u001b[0m\u001b[0;34m\u001b[0m\u001b[0m\n\u001b[0m\u001b[1;32m    804\u001b[0m         \u001b[0;32mexcept\u001b[0m \u001b[0mzmq\u001b[0m\u001b[0;34m.\u001b[0m\u001b[0mZMQError\u001b[0m \u001b[0;32mas\u001b[0m \u001b[0me\u001b[0m\u001b[0;34m:\u001b[0m\u001b[0;34m\u001b[0m\u001b[0;34m\u001b[0m\u001b[0m\n",
      "\u001b[0;32m~/miniconda3/envs/phd/lib/python3.7/site-packages/zmq/sugar/socket.py\u001b[0m in \u001b[0;36mrecv_multipart\u001b[0;34m(self, flags, copy, track)\u001b[0m\n\u001b[1;32m    466\u001b[0m         \"\"\"\n\u001b[0;32m--> 467\u001b[0;31m         \u001b[0mparts\u001b[0m \u001b[0;34m=\u001b[0m \u001b[0;34m[\u001b[0m\u001b[0mself\u001b[0m\u001b[0;34m.\u001b[0m\u001b[0mrecv\u001b[0m\u001b[0;34m(\u001b[0m\u001b[0mflags\u001b[0m\u001b[0;34m,\u001b[0m \u001b[0mcopy\u001b[0m\u001b[0;34m=\u001b[0m\u001b[0mcopy\u001b[0m\u001b[0;34m,\u001b[0m \u001b[0mtrack\u001b[0m\u001b[0;34m=\u001b[0m\u001b[0mtrack\u001b[0m\u001b[0;34m)\u001b[0m\u001b[0;34m]\u001b[0m\u001b[0;34m\u001b[0m\u001b[0;34m\u001b[0m\u001b[0m\n\u001b[0m\u001b[1;32m    468\u001b[0m         \u001b[0;31m# have first part already, only loop while more to receive\u001b[0m\u001b[0;34m\u001b[0m\u001b[0;34m\u001b[0m\u001b[0;34m\u001b[0m\u001b[0m\n",
      "\u001b[0;32mzmq/backend/cython/socket.pyx\u001b[0m in \u001b[0;36mzmq.backend.cython.socket.Socket.recv\u001b[0;34m()\u001b[0m\n",
      "\u001b[0;32mzmq/backend/cython/socket.pyx\u001b[0m in \u001b[0;36mzmq.backend.cython.socket.Socket.recv\u001b[0;34m()\u001b[0m\n",
      "\u001b[0;32mzmq/backend/cython/socket.pyx\u001b[0m in \u001b[0;36mzmq.backend.cython.socket._recv_copy\u001b[0;34m()\u001b[0m\n",
      "\u001b[0;32m~/miniconda3/envs/phd/lib/python3.7/site-packages/zmq/backend/cython/checkrc.pxd\u001b[0m in \u001b[0;36mzmq.backend.cython.checkrc._check_rc\u001b[0;34m()\u001b[0m\n",
      "\u001b[0;31mKeyboardInterrupt\u001b[0m: ",
      "\nDuring handling of the above exception, another exception occurred:\n",
      "\u001b[0;31mKeyboardInterrupt\u001b[0m                         Traceback (most recent call last)",
      "\u001b[0;32m<ipython-input-9-d86dbe871261>\u001b[0m in \u001b[0;36m<module>\u001b[0;34m\u001b[0m\n\u001b[1;32m      1\u001b[0m \u001b[0mteacher\u001b[0m \u001b[0;34m=\u001b[0m \u001b[0mHumanTeacher\u001b[0m\u001b[0;34m(\u001b[0m\u001b[0;34m)\u001b[0m\u001b[0;34m\u001b[0m\u001b[0;34m\u001b[0m\u001b[0m\n\u001b[1;32m      2\u001b[0m \u001b[0magent\u001b[0m \u001b[0;34m=\u001b[0m \u001b[0mGentlyAgent\u001b[0m\u001b[0;34m(\u001b[0m\u001b[0;34m)\u001b[0m\u001b[0;34m\u001b[0m\u001b[0;34m\u001b[0m\u001b[0m\n\u001b[0;32m----> 3\u001b[0;31m \u001b[0mdo_scenario\u001b[0m\u001b[0;34m(\u001b[0m\u001b[0magent\u001b[0m\u001b[0;34m,\u001b[0m \u001b[0mteacher\u001b[0m\u001b[0;34m,\u001b[0m \u001b[0;32mNone\u001b[0m\u001b[0;34m)\u001b[0m\u001b[0;34m\u001b[0m\u001b[0;34m\u001b[0m\u001b[0m\n\u001b[0m",
      "\u001b[0;32m<ipython-input-7-50e1f0d5f08a>\u001b[0m in \u001b[0;36mdo_scenario\u001b[0;34m(agent, teacher, world)\u001b[0m\n\u001b[1;32m      1\u001b[0m \u001b[0;32mdef\u001b[0m \u001b[0mdo_scenario\u001b[0m\u001b[0;34m(\u001b[0m\u001b[0magent\u001b[0m\u001b[0;34m,\u001b[0m \u001b[0mteacher\u001b[0m\u001b[0;34m,\u001b[0m \u001b[0mworld\u001b[0m\u001b[0;34m)\u001b[0m\u001b[0;34m:\u001b[0m\u001b[0;34m\u001b[0m\u001b[0;34m\u001b[0m\u001b[0m\n\u001b[0;32m----> 2\u001b[0;31m     \u001b[0mcommand\u001b[0m \u001b[0;34m=\u001b[0m \u001b[0mteacher\u001b[0m\u001b[0;34m.\u001b[0m\u001b[0mgive_command\u001b[0m\u001b[0;34m(\u001b[0m\u001b[0;34m)\u001b[0m\u001b[0;34m\u001b[0m\u001b[0;34m\u001b[0m\u001b[0m\n\u001b[0m\u001b[1;32m      3\u001b[0m \u001b[0;34m\u001b[0m\u001b[0m\n\u001b[1;32m      4\u001b[0m     \u001b[0magent\u001b[0m\u001b[0;34m.\u001b[0m\u001b[0minterpret_command\u001b[0m\u001b[0;34m(\u001b[0m\u001b[0;32mNone\u001b[0m\u001b[0;34m,\u001b[0m \u001b[0mcommand\u001b[0m\u001b[0;34m)\u001b[0m\u001b[0;34m\u001b[0m\u001b[0;34m\u001b[0m\u001b[0m\n\u001b[1;32m      5\u001b[0m \u001b[0;34m\u001b[0m\u001b[0m\n",
      "\u001b[0;32m<ipython-input-6-688cbc2419ca>\u001b[0m in \u001b[0;36mgive_command\u001b[0;34m(self)\u001b[0m\n\u001b[1;32m     11\u001b[0m \u001b[0;34m\u001b[0m\u001b[0m\n\u001b[1;32m     12\u001b[0m     \u001b[0;32mdef\u001b[0m \u001b[0mgive_command\u001b[0m\u001b[0;34m(\u001b[0m\u001b[0mself\u001b[0m\u001b[0;34m)\u001b[0m\u001b[0;34m:\u001b[0m\u001b[0;34m\u001b[0m\u001b[0;34m\u001b[0m\u001b[0m\n\u001b[0;32m---> 13\u001b[0;31m         \u001b[0mcommand\u001b[0m \u001b[0;34m=\u001b[0m \u001b[0minput\u001b[0m\u001b[0;34m(\u001b[0m\u001b[0;34m\"What should the agent do?\"\u001b[0m\u001b[0;34m)\u001b[0m\u001b[0;34m\u001b[0m\u001b[0;34m\u001b[0m\u001b[0m\n\u001b[0m\u001b[1;32m     14\u001b[0m         \u001b[0;32mreturn\u001b[0m \u001b[0mcommand\u001b[0m\u001b[0;34m\u001b[0m\u001b[0;34m\u001b[0m\u001b[0m\n",
      "\u001b[0;32m~/miniconda3/envs/phd/lib/python3.7/site-packages/ipykernel/kernelbase.py\u001b[0m in \u001b[0;36mraw_input\u001b[0;34m(self, prompt)\u001b[0m\n\u001b[1;32m    851\u001b[0m             \u001b[0mself\u001b[0m\u001b[0;34m.\u001b[0m\u001b[0m_parent_ident\u001b[0m\u001b[0;34m,\u001b[0m\u001b[0;34m\u001b[0m\u001b[0;34m\u001b[0m\u001b[0m\n\u001b[1;32m    852\u001b[0m             \u001b[0mself\u001b[0m\u001b[0;34m.\u001b[0m\u001b[0m_parent_header\u001b[0m\u001b[0;34m,\u001b[0m\u001b[0;34m\u001b[0m\u001b[0;34m\u001b[0m\u001b[0m\n\u001b[0;32m--> 853\u001b[0;31m             \u001b[0mpassword\u001b[0m\u001b[0;34m=\u001b[0m\u001b[0;32mFalse\u001b[0m\u001b[0;34m,\u001b[0m\u001b[0;34m\u001b[0m\u001b[0;34m\u001b[0m\u001b[0m\n\u001b[0m\u001b[1;32m    854\u001b[0m         )\n\u001b[1;32m    855\u001b[0m \u001b[0;34m\u001b[0m\u001b[0m\n",
      "\u001b[0;32m~/miniconda3/envs/phd/lib/python3.7/site-packages/ipykernel/kernelbase.py\u001b[0m in \u001b[0;36m_input_request\u001b[0;34m(self, prompt, ident, parent, password)\u001b[0m\n\u001b[1;32m    881\u001b[0m             \u001b[0;32mexcept\u001b[0m \u001b[0mKeyboardInterrupt\u001b[0m\u001b[0;34m:\u001b[0m\u001b[0;34m\u001b[0m\u001b[0;34m\u001b[0m\u001b[0m\n\u001b[1;32m    882\u001b[0m                 \u001b[0;31m# re-raise KeyboardInterrupt, to truncate traceback\u001b[0m\u001b[0;34m\u001b[0m\u001b[0;34m\u001b[0m\u001b[0;34m\u001b[0m\u001b[0m\n\u001b[0;32m--> 883\u001b[0;31m                 \u001b[0;32mraise\u001b[0m \u001b[0mKeyboardInterrupt\u001b[0m\u001b[0;34m\u001b[0m\u001b[0;34m\u001b[0m\u001b[0m\n\u001b[0m\u001b[1;32m    884\u001b[0m             \u001b[0;32melse\u001b[0m\u001b[0;34m:\u001b[0m\u001b[0;34m\u001b[0m\u001b[0;34m\u001b[0m\u001b[0m\n\u001b[1;32m    885\u001b[0m                 \u001b[0;32mbreak\u001b[0m\u001b[0;34m\u001b[0m\u001b[0;34m\u001b[0m\u001b[0m\n",
      "\u001b[0;31mKeyboardInterrupt\u001b[0m: "
     ]
    },
    {
     "name": "stdin",
     "output_type": "stream",
     "text": [
      "What should the agent do? \n"
     ]
    }
   ],
   "source": [
    "teacher = HumanTeacher()\n",
    "agent = GentlyAgent()\n",
    "do_scenario(agent, teacher, None)"
   ]
  },
  {
   "cell_type": "code",
   "execution_count": 14,
   "metadata": {},
   "outputs": [
    {
     "data": {
      "text/plain": [
       "2.3292502678602025"
      ]
     },
     "execution_count": 14,
     "metadata": {},
     "output_type": "execute_result"
    }
   ],
   "source": [
    "agent.behaviour_under_discussion.energy_concept.mean"
   ]
  },
  {
   "cell_type": "code",
   "execution_count": 9,
   "metadata": {},
   "outputs": [],
   "source": [
    "b = parse_sentence(dialogue[\"u_1\"])"
   ]
  },
  {
   "cell_type": "code",
   "execution_count": 10,
   "metadata": {},
   "outputs": [
    {
     "data": {
      "text/plain": [
       "(['slowly', 'left'], <ResponseType.correction: 2>)"
      ]
     },
     "execution_count": 10,
     "metadata": {},
     "output_type": "execute_result"
    }
   ],
   "source": [
    "parse_sentence(dialogue[\"u_3\"])"
   ]
  },
  {
   "cell_type": "code",
   "execution_count": 11,
   "metadata": {},
   "outputs": [
    {
     "ename": "AttributeError",
     "evalue": "'tuple' object has no attribute 'energy_concept'",
     "output_type": "error",
     "traceback": [
      "\u001b[0;31m---------------------------------------------------------------------------\u001b[0m",
      "\u001b[0;31mAttributeError\u001b[0m                            Traceback (most recent call last)",
      "\u001b[0;32m<ipython-input-11-6ac7ad344e9f>\u001b[0m in \u001b[0;36m<module>\u001b[0;34m\u001b[0m\n\u001b[0;32m----> 1\u001b[0;31m \u001b[0mb\u001b[0m\u001b[0;34m.\u001b[0m\u001b[0menergy_concept\u001b[0m\u001b[0;34m.\u001b[0m\u001b[0mname\u001b[0m\u001b[0;34m\u001b[0m\u001b[0;34m\u001b[0m\u001b[0m\n\u001b[0m",
      "\u001b[0;31mAttributeError\u001b[0m: 'tuple' object has no attribute 'energy_concept'"
     ]
    }
   ],
   "source": [
    "b.energy_concept.name"
   ]
  },
  {
   "cell_type": "code",
   "execution_count": 6,
   "metadata": {},
   "outputs": [],
   "source": [
    "class Command(object):\n",
    "    \n",
    "    def __init__(self, name, attributes):\n",
    "        self.name = name\n",
    "        self.attributes = attributes\n",
    "    \n",
    "    @staticmethod\n",
    "    def parse_sentence(sentence):\n",
    "        command, attributes = sentence.split(',')\n",
    "        command_name = command.replace('To', '').strip().replace(' ', '_')\n",
    "        words = attributes.strip().split()\n",
    "        if words[0] == 'do' and words[1] == 'it':\n",
    "            attributes = words[2:]\n",
    "        else:\n",
    "            attributes = words[1:]\n",
    "        words = [word.strip().strip(',') for word in words if word != 'and']\n",
    "        return Command(command_name, words)"
   ]
  },
  {
   "cell_type": "code",
   "execution_count": 7,
   "metadata": {},
   "outputs": [
    {
     "ename": "NameError",
     "evalue": "name 'dialogue' is not defined",
     "output_type": "error",
     "traceback": [
      "\u001b[0;31m---------------------------------------------------------------------------\u001b[0m",
      "\u001b[0;31mNameError\u001b[0m                                 Traceback (most recent call last)",
      "\u001b[0;32m<ipython-input-7-d8b44b545900>\u001b[0m in \u001b[0;36m<module>\u001b[0;34m\u001b[0m\n\u001b[0;32m----> 1\u001b[0;31m \u001b[0mcommand_under_discussion\u001b[0m \u001b[0;34m=\u001b[0m \u001b[0mCommand\u001b[0m\u001b[0;34m.\u001b[0m\u001b[0mparse_sentence\u001b[0m\u001b[0;34m(\u001b[0m\u001b[0mdialogue\u001b[0m\u001b[0;34m[\u001b[0m\u001b[0;34m'u_1'\u001b[0m\u001b[0;34m]\u001b[0m\u001b[0;34m)\u001b[0m\u001b[0;34m\u001b[0m\u001b[0;34m\u001b[0m\u001b[0m\n\u001b[0m",
      "\u001b[0;31mNameError\u001b[0m: name 'dialogue' is not defined"
     ]
    }
   ],
   "source": [
    "command_under_discussion = Command.parse_sentence(dialogue['u_1'])"
   ]
  },
  {
   "cell_type": "code",
   "execution_count": 8,
   "metadata": {},
   "outputs": [],
   "source": [
    "# are we assuming that if I say \"no do it more gently\" then that's the only thing which is definitely wrong?"
   ]
  },
  {
   "cell_type": "code",
   "execution_count": 8,
   "metadata": {},
   "outputs": [
    {
     "ename": "NameError",
     "evalue": "name 'np' is not defined",
     "output_type": "error",
     "traceback": [
      "\u001b[0;31m---------------------------------------------------------------------------\u001b[0m",
      "\u001b[0;31mNameError\u001b[0m                                 Traceback (most recent call last)",
      "\u001b[0;32m<ipython-input-8-0d764b3ecca7>\u001b[0m in \u001b[0;36m<module>\u001b[0;34m\u001b[0m\n\u001b[1;32m      1\u001b[0m \u001b[0mm_true\u001b[0m \u001b[0;34m=\u001b[0m \u001b[0;36m1\u001b[0m\u001b[0;34m\u001b[0m\u001b[0;34m\u001b[0m\u001b[0m\n\u001b[1;32m      2\u001b[0m \u001b[0msig_true\u001b[0m \u001b[0;34m=\u001b[0m \u001b[0;36m0.5\u001b[0m\u001b[0;34m\u001b[0m\u001b[0;34m\u001b[0m\u001b[0m\n\u001b[0;32m----> 3\u001b[0;31m \u001b[0mdata\u001b[0m \u001b[0;34m=\u001b[0m \u001b[0mnp\u001b[0m\u001b[0;34m.\u001b[0m\u001b[0mrandom\u001b[0m\u001b[0;34m.\u001b[0m\u001b[0mnormal\u001b[0m\u001b[0;34m(\u001b[0m\u001b[0mm_true\u001b[0m\u001b[0;34m,\u001b[0m \u001b[0msig_true\u001b[0m\u001b[0;34m,\u001b[0m \u001b[0;36m100\u001b[0m\u001b[0;34m)\u001b[0m\u001b[0;34m\u001b[0m\u001b[0;34m\u001b[0m\u001b[0m\n\u001b[0m",
      "\u001b[0;31mNameError\u001b[0m: name 'np' is not defined"
     ]
    }
   ],
   "source": [
    "m_true = 1\n",
    "sig_true = 0.5\n",
    "data = np.random.normal(m_true, sig_true, 100)"
   ]
  },
  {
   "cell_type": "code",
   "execution_count": 45,
   "metadata": {},
   "outputs": [
    {
     "name": "stdout",
     "output_type": "stream",
     "text": [
      "0.5987063256829237\n",
      "0.1974126513658474\n",
      "updated, sigma 0.1974126513658474\n",
      "0.8973119796116928\n",
      "0.7946239592233857\n",
      "updated, sigma 0.15686882262911558\n",
      "0.9444970617852662\n",
      "0.8889941235705323\n",
      "updated, sigma 0.1394554614887119\n",
      "0.9634885108996136\n",
      "0.9269770217992273\n",
      "updated, sigma 0.129272008364443\n",
      "0.9734376984202483\n",
      "0.9468753968404966\n",
      "updated, sigma 0.12240448422044996\n",
      "0.9794445029450225\n",
      "0.958889005890045\n",
      "updated, sigma 0.11737231419063096\n",
      "0.9834131279163765\n",
      "0.966826255832753\n",
      "updated, sigma 0.11347863506735323\n",
      "0.9862046649307314\n",
      "0.9724093298614629\n",
      "updated, sigma 0.11034768347943845\n",
      "0.9882610267579814\n",
      "0.9765220535159629\n",
      "updated, sigma 0.10775694647207072\n",
      "0.9898305362607644\n",
      "0.9796610725215289\n",
      "updated, sigma 0.10556528575247379\n"
     ]
    }
   ],
   "source": [
    "m_0 = 0\n",
    "n_0 = 1\n",
    "v_0 = 1\n",
    "sig_0 = 1\n",
    "for dp in [0.25]*10:\n",
    "    sig_0, v_0 = negative_variance2(sig_0, v_0, n_0, dp, m_0)\n",
    "    print(\"updated, sigma\", sig_0)"
   ]
  },
  {
   "cell_type": "code",
   "execution_count": 33,
   "metadata": {},
   "outputs": [
    {
     "name": "stdout",
     "output_type": "stream",
     "text": [
      "mean: 0.7877631955643327\n",
      "variance 1.0585701924226514\n",
      "mean: 0.9400567443060512\n",
      "variance 0.8907490582840069\n",
      "mean: 0.9585527172749595\n",
      "variance 0.7720762376045409\n",
      "mean: 0.9081830683928128\n",
      "variance 0.6978751890222992\n",
      "mean: 1.0510731994351767\n",
      "variance 0.7127033725825992\n",
      "mean: 1.0377029451696498\n",
      "variance 0.660647372885859\n",
      "mean: 1.0068701989603186\n",
      "variance 0.6233399474283892\n",
      "mean: 1.068800051417875\n",
      "variance 0.613239449110675\n",
      "mean: 1.1183603417528822\n",
      "variance 0.6004684514225701\n",
      "mean: 1.1415297006478713\n",
      "variance 0.5771933442108792\n",
      "mean: 1.137729157726699\n",
      "variance 0.5527642917881117\n",
      "mean: 1.1591735183311118\n",
      "variance 0.5362489807185836\n",
      "mean: 1.174345784872535\n",
      "variance 0.5196299904387381\n",
      "mean: 1.1781222930447235\n",
      "variance 0.5022090932683817\n",
      "mean: 1.1999463605263798\n",
      "variance 0.4935533900684077\n",
      "mean: 1.1653007365806116\n",
      "variance 0.49846859715268377\n",
      "mean: 1.1462930972416137\n",
      "variance 0.4907228720071528\n",
      "mean: 1.1750899128378354\n",
      "variance 0.4930125770392193\n",
      "mean: 1.1577412890277707\n",
      "variance 0.4864430606729521\n",
      "mean: 1.131848482360051\n",
      "variance 0.48863857269009076\n",
      "mean: 1.1209101155891\n",
      "variance 0.4800283165876454\n",
      "mean: 1.1162717042380508\n",
      "variance 0.4699807851327195\n",
      "mean: 1.0898254923967707\n",
      "variance 0.4772470775935223\n",
      "mean: 1.1052292746298487\n",
      "variance 0.47365474590540446\n",
      "mean: 1.108250479489434\n",
      "variance 0.4647022805885903\n",
      "mean: 1.113294675988158\n",
      "variance 0.45674026494720704\n",
      "mean: 1.1491907934914567\n",
      "variance 0.4857484911460297\n",
      "mean: 1.1234650313246295\n",
      "variance 0.49633270110982075\n",
      "mean: 1.1120724806164193\n",
      "variance 0.4918318086386918\n",
      "mean: 1.1265225620802781\n",
      "variance 0.4902647196117134\n",
      "mean: 1.0970497070366851\n",
      "variance 0.5096826324145188\n",
      "mean: 1.1080119341045653\n",
      "variance 0.5057171418962855\n",
      "mean: 1.092154500900026\n",
      "variance 0.5064838536944498\n",
      "mean: 1.104645288140322\n",
      "variance 0.5044811739148628\n",
      "mean: 1.0958312761703852\n",
      "variance 0.5001507910408378\n",
      "mean: 1.087529652066419\n",
      "variance 0.4958538006645023\n",
      "mean: 1.0814967625157208\n",
      "variance 0.49066011185357716\n",
      "mean: 1.062637389013691\n",
      "variance 0.4980863613134349\n",
      "mean: 1.07311446450477\n",
      "variance 0.4961539761669567\n",
      "mean: 1.0725125391892067\n",
      "variance 0.4900807528718121\n",
      "mean: 1.0805873936412826\n",
      "variance 0.48696398997370227\n",
      "mean: 1.0798199780074313\n",
      "variance 0.48129400573256453\n",
      "mean: 1.0651106982996306\n",
      "variance 0.4854718225799992\n",
      "mean: 1.0436791007897868\n",
      "variance 0.5006548524805364\n",
      "mean: 1.0487535897337816\n",
      "variance 0.4963517131728419\n",
      "mean: 1.0583652717887835\n",
      "variance 0.49535128750677815\n",
      "mean: 1.0499267976318019\n",
      "variance 0.49356633943727324\n",
      "mean: 1.0502304890766165\n",
      "variance 0.4885085178761803\n",
      "mean: 1.0377391041362058\n",
      "variance 0.49144019044597603\n",
      "mean: 1.0372584725697926\n",
      "variance 0.4866101653953498\n",
      "mean: 1.0174985994850916\n",
      "variance 0.5021442935435928\n",
      "mean: 1.0266155823044532\n",
      "variance 0.5017106465093564\n",
      "mean: 1.0238063181469215\n",
      "variance 0.4974640534871351\n",
      "mean: 1.0225834805092173\n",
      "variance 0.4930028083886058\n",
      "mean: 1.0371899340352146\n",
      "variance 0.5004455270759427\n",
      "mean: 1.042290928575208\n",
      "variance 0.4975028332058262\n",
      "mean: 1.0452728772899673\n",
      "variance 0.4937089388895599\n",
      "mean: 1.0437254948209034\n",
      "variance 0.48964891536626887\n",
      "mean: 1.0429964937216625\n",
      "variance 0.4855836499453688\n",
      "mean: 1.0258020303187136\n",
      "variance 0.499664908994906\n",
      "mean: 1.019724929676166\n",
      "variance 0.4978864994999732\n",
      "mean: 1.0250490546380049\n",
      "variance 0.4956951282289509\n",
      "mean: 1.0174321956190349\n",
      "variance 0.4955092595632399\n",
      "mean: 1.0188137723025243\n",
      "variance 0.4918070869639355\n",
      "mean: 1.010733148660595\n",
      "variance 0.49239589876155576\n",
      "mean: 1.0046251607264056\n",
      "variance 0.49122022042826885\n",
      "mean: 1.0093645088315708\n",
      "variance 0.48913569727608136\n",
      "mean: 1.0145483104148472\n",
      "variance 0.48745622091065305\n",
      "mean: 1.0187611537851418\n",
      "variance 0.485225414802951\n",
      "mean: 1.011210232136913\n",
      "variance 0.485920511932736\n",
      "mean: 1.010818568270388\n",
      "variance 0.48254555055415616\n",
      "mean: 1.0035179427220018\n",
      "variance 0.48321632534778164\n",
      "mean: 0.9928986648964242\n",
      "variance 0.4884411734954123\n",
      "mean: 0.9979167232707999\n",
      "variance 0.48709051543647125\n",
      "mean: 1.0082606374338958\n",
      "variance 0.4920976604016281\n",
      "mean: 1.0106524872704465\n",
      "variance 0.48933624715736707\n",
      "mean: 1.0147891843365673\n",
      "variance 0.487542547564656\n",
      "mean: 1.0290836821030462\n",
      "variance 0.5006264591163991\n",
      "mean: 1.0281105353630562\n",
      "variance 0.49756289057209396\n",
      "mean: 1.028513228541368\n",
      "variance 0.49449509371536243\n",
      "mean: 1.0414422946571213\n",
      "variance 0.5050578199216459\n",
      "mean: 1.0535559166863786\n",
      "variance 0.5138509260877276\n",
      "mean: 1.0464225961092564\n",
      "variance 0.5149007687555424\n",
      "mean: 1.047463646395307\n",
      "variance 0.5119518999665819\n",
      "mean: 1.0396618911188094\n",
      "variance 0.5140241845385087\n",
      "mean: 1.0493817066511195\n",
      "variance 0.5189495880018647\n",
      "mean: 1.0424721046817182\n",
      "variance 0.5200018799792808\n",
      "mean: 1.0429335828070765\n",
      "variance 0.5170903901908781\n",
      "mean: 1.0521792126944125\n",
      "variance 0.5215548140757074\n",
      "mean: 1.0413045965594498\n",
      "variance 0.5288415211502367\n",
      "mean: 1.0377769776037982\n",
      "variance 0.5270349508490251\n",
      "mean: 1.0318253617616213\n",
      "variance 0.5272930013043655\n",
      "mean: 1.0181759078762358\n",
      "variance 0.5407463963114072\n",
      "mean: 1.015579732053791\n",
      "variance 0.5384814503252942\n",
      "mean: 1.020582039903801\n",
      "variance 0.5378838396633672\n",
      "mean: 1.017154434246162\n",
      "variance 0.5361568881798794\n",
      "mean: 1.0184832083892266\n",
      "variance 0.5335748941249135\n",
      "mean: 1.0091793496681465\n",
      "variance 0.538803715006936\n",
      "mean: 1.0062264008329662\n",
      "variance 0.5369074591097789\n",
      "mean: 1.0102298227921056\n",
      "variance 0.535740799021349\n"
     ]
    }
   ],
   "source": [
    "m_0 = 0\n",
    "n_0 = 1\n",
    "v_0 = 1\n",
    "sig_0 = 1\n",
    "for dp in data:\n",
    "    m_0, n_0, sig_0, v_0 = update_params(m_0, n_0, sig_0, v_0, dp)\n",
    "    print(\"mean:\", m_0)\n",
    "    print(\"variance\", np.sqrt(sig_0))"
   ]
  },
  {
   "cell_type": "code",
   "execution_count": 21,
   "metadata": {},
   "outputs": [
    {
     "name": "stdout",
     "output_type": "stream",
     "text": [
      "-0.4999999999\n",
      "-0.6481481480481481\n",
      "-0.7401819821600026\n",
      "-0.8062270910118698\n",
      "-0.8573133435475054\n",
      "-0.8987258581687712\n",
      "-0.9333983842126214\n",
      "-0.9631228999462633\n",
      "-0.9890709676035764\n",
      "-1.0120486783375924\n",
      "-1.0326332477445244\n",
      "-1.0512514865973877\n",
      "-1.0682274389135487\n",
      "-1.0838126306585687\n",
      "-1.0982060071367885\n"
     ]
    }
   ],
   "source": [
    "m_0 = 0\n",
    "n_0 = 1\n",
    "for i in range(15):\n",
    "    m_0, n_0 = negative_update(m_0, n_0, 1)\n",
    "    print(m_0)\n"
   ]
  },
  {
   "cell_type": "code",
   "execution_count": 23,
   "metadata": {},
   "outputs": [
    {
     "name": "stdout",
     "output_type": "stream",
     "text": [
      "-1.9999999996\n",
      "-2.148148147777778\n",
      "-2.249047801774348\n",
      "-2.3248318472709175\n",
      "-2.385139075619184\n",
      "-2.4350055792901797\n",
      "-2.477381106134302\n",
      "-2.514135807771322\n",
      "-2.5465266998227296\n",
      "-2.5754375483713523\n",
      "-2.601512310301223\n",
      "-2.6252340661577236\n",
      "-2.646974081731076\n",
      "-2.6670235739725254\n",
      "-2.685614995800798\n"
     ]
    }
   ],
   "source": [
    "m_0 = 0\n",
    "n_0 = 1\n",
    "for i in range(15):\n",
    "    m_0, n_0 = negative_update(m_0, n_0, 1, var=2)\n",
    "    print(m_0)\n"
   ]
  },
  {
   "cell_type": "code",
   "execution_count": 20,
   "metadata": {},
   "outputs": [
    {
     "name": "stdout",
     "output_type": "stream",
     "text": [
      "-0.124999999975\n",
      "-0.1908436213653978\n",
      "-0.23491641173597022\n",
      "-0.2677028982934262\n",
      "-0.29362998927873085\n",
      "-0.31497133585688886\n",
      "-0.3330438032362116\n",
      "-0.3486755913064578\n",
      "-0.3624199668609868\n",
      "-0.3746640233305795\n",
      "-0.38568869410045314\n",
      "-0.3957040251509633\n",
      "-0.4048709846158256\n",
      "-0.41331552201993743\n",
      "-0.42113795351560207\n"
     ]
    }
   ],
   "source": [
    "m_0 = 0\n",
    "n_0 = 1\n",
    "for i in range(15):\n",
    "    m_0, n_0 = negative_update(m_0, n_0, 1, var=.5)\n",
    "    print(m_0)\n"
   ]
  },
  {
   "cell_type": "code",
   "execution_count": 18,
   "metadata": {},
   "outputs": [
    {
     "name": "stdout",
     "output_type": "stream",
     "text": [
      "-0.24999999995\n",
      "-0.3566666666081333\n",
      "-0.42458135368328787\n",
      "-0.4738562238671495\n",
      "-0.5122188663473307\n",
      "-0.5434539490569501\n",
      "-0.5696896495735488\n",
      "-0.5922372279741126\n",
      "-0.6119593870062059\n",
      "-0.6294525816236881\n",
      "-0.645145557419142\n",
      "-0.6593563399657497\n",
      "-0.6723270171474508\n",
      "-0.6842459214595571\n",
      "-0.6952623041188513\n"
     ]
    }
   ],
   "source": [
    "m_0 = 0\n",
    "n_0 = 1\n",
    "for i in range(15):\n",
    "    m_0, n_0 = negative_update(m_0, n_0, 1, var=.5)\n",
    "    print(m_0)\n"
   ]
  },
  {
   "cell_type": "code",
   "execution_count": 13,
   "metadata": {},
   "outputs": [
    {
     "name": "stdout",
     "output_type": "stream",
     "text": [
      "2.5000000001\n",
      "2.6481481482481484\n",
      "2.740181982360003\n",
      "2.8062270912118703\n",
      "2.857313343747506\n",
      "2.8987258583687714\n",
      "2.9333983844126217\n",
      "2.963122900146264\n",
      "2.9890709678035767\n",
      "3.0120486785375933\n",
      "3.0326332479445255\n",
      "3.0512514867973883\n",
      "3.0682274391135493\n",
      "3.0838126308585694\n",
      "3.098206007336789\n"
     ]
    }
   ],
   "source": [
    "m_0 = 2\n",
    "n_0 = 1\n",
    "for i in range(15):\n",
    "    m_0, n_0 = negative_update(m_0, n_0, 1)\n",
    "    print(m_0)\n"
   ]
  },
  {
   "cell_type": "code",
   "execution_count": 14,
   "metadata": {},
   "outputs": [
    {
     "name": "stdout",
     "output_type": "stream",
     "text": [
      "2.0000000008\n",
      "2.0533333341034665\n",
      "2.0916797676945835\n",
      "2.121455833733015\n",
      "2.145708732801882\n",
      "2.166117552944613\n",
      "2.1837029194748276\n",
      "2.199130172883947\n",
      "2.2128564366418058\n",
      "2.2252089033348814\n",
      "2.236429582785591\n",
      "2.246702365308327\n",
      "2.2561701584659724\n",
      "2.2649461599604606\n",
      "2.2731215156986875\n"
     ]
    }
   ],
   "source": [
    "m_0 = 0\n",
    "n_0 = 1\n",
    "for i in range(15):\n",
    "    m_0, n_0 = negative_update(m_0, n_0, -.5)\n",
    "    print(m_0)"
   ]
  },
  {
   "cell_type": "code",
   "execution_count": 59,
   "metadata": {},
   "outputs": [
    {
     "name": "stdout",
     "output_type": "stream",
     "text": [
      "prob before 1.9384177468094036e-20\n",
      "mean: 5.0\n",
      "variance 5.049752469181039\n",
      "prob after 0.7945002295830467\n",
      "prob before 0.7969796295977709\n",
      "0.5156407862910157\n",
      "0.03128157258203146\n",
      "mean: -211.74999995665\n",
      "variance 0.8931293863947162\n",
      "prob after 0.0\n",
      "prob after dp1 0.0\n"
     ]
    }
   ],
   "source": [
    "m_0 = 0\n",
    "n_0 = 1\n",
    "v_0 = 1\n",
    "sig_0 = 1\n",
    "\n",
    "dp = 10\n",
    "\n",
    "a = norm.pdf(dp, m_0, sig_0)\n",
    "b = norm.pdf(dp, 0, 100)\n",
    "print(\"prob before\", a/(a+b))\n",
    "\n",
    "m_0, n_0, sig_0, v_0 = update_params(m_0, n_0, sig_0, v_0, dp)\n",
    "print(\"mean:\", m_0)\n",
    "print(\"variance\", np.sqrt(sig_0))\n",
    "\n",
    "a = norm.pdf(dp, m_0, sig_0)\n",
    "b = norm.pdf(dp, 0, 100)\n",
    "print(\"prob after\", a/(a+b))\n",
    "\n",
    "dp2 = 6\n",
    "a = norm.pdf(dp2, m_0, sig_0)\n",
    "b = norm.pdf(dp2, 0, 100)\n",
    "print(\"prob before\", a/(a+b))\n",
    "\n",
    "m_0, n_0, sig_0, v_0 = update_params_negative(m_0, n_0, sig_0, v_0, dp2)\n",
    "print(\"mean:\", m_0)\n",
    "print(\"variance\", np.sqrt(sig_0))\n",
    "\n",
    "a = norm.pdf(dp2, m_0, sig_0)\n",
    "b = norm.pdf(dp2, 0, 100)\n",
    "print(\"prob after\", a/(a+b))\n",
    "\n",
    "\n",
    "a = norm.pdf(dp, m_0, sig_0)\n",
    "b = norm.pdf(dp, 0, 100)\n",
    "print(\"prob after dp1\", a/(a+b))\n",
    "\n"
   ]
  },
  {
   "cell_type": "code",
   "execution_count": 50,
   "metadata": {},
   "outputs": [
    {
     "data": {
      "text/plain": [
       "(20.25, 2)"
      ]
     },
     "execution_count": 50,
     "metadata": {},
     "output_type": "execute_result"
    }
   ],
   "source": [
    "update_variance(0, 1, )"
   ]
  },
  {
   "cell_type": "code",
   "execution_count": 81,
   "metadata": {},
   "outputs": [
    {
     "name": "stdout",
     "output_type": "stream",
     "text": [
      "prob before 1.9384177468094036e-20\n",
      "mean: 5.0\n",
      "variance 5.049752469181039\n",
      "prob after 0.924186315546435\n",
      "prob before 0.8033548467717047\n",
      "0.6379337298055405\n",
      "0.27586745961108106\n",
      "mean: 4.895061728397393\n",
      "variance 2.65228584810962\n",
      "prob after 0.09511411644022813\n",
      "prob after dp1 0.8559994419404298\n",
      "prob before 0.8559994419404298\n",
      "mean: 6.596707818931596\n",
      "variance 3.2374288638129247\n",
      "prob after 0.9469918735712802\n"
     ]
    }
   ],
   "source": [
    "m_0 = 0\n",
    "n_0 = 1\n",
    "v_0 = 1\n",
    "sig_0 = 1\n",
    "\n",
    "dp = 10\n",
    "\n",
    "a = norm.pdf(dp, m_0, sig_0**(1/2))\n",
    "b = norm.pdf(dp, 0, 100)\n",
    "print(\"prob before\", a/(a+b))\n",
    "\n",
    "m_0, n_0, sig_0, v_0 = update_params(m_0, n_0, sig_0, v_0, dp)\n",
    "print(\"mean:\", m_0)\n",
    "print(\"variance\", np.sqrt(sig_0))\n",
    "\n",
    "a = norm.pdf(dp, m_0, sig_0**(1/2))\n",
    "b = norm.pdf(dp, 0, 100)\n",
    "print(\"prob after\", a/(a+b))\n",
    "\n",
    "dp2 = 14\n",
    "a = norm.pdf(dp2, m_0, sig_0**(1/2))\n",
    "b = norm.pdf(dp2, 0, 100)\n",
    "print(\"prob before\", a/(a+b))\n",
    "\n",
    "m_0, n_0, sig_0, v_0 = update_params_negative(m_0, n_0, sig_0, v_0, dp2, use_var=True)\n",
    "print(\"mean:\", m_0)\n",
    "print(\"variance\", np.sqrt(sig_0))\n",
    "\n",
    "a = norm.pdf(dp2, m_0, sig_0**(1/2))\n",
    "b = norm.pdf(dp2, 0, 100)\n",
    "print(\"prob after\", a/(a+b))\n",
    "\n",
    "\n",
    "a = norm.pdf(dp, m_0, sig_0**(1/2))\n",
    "b = norm.pdf(dp, 0, 100)\n",
    "print(\"prob after dp1\", a/(a+b))\n",
    "\n",
    "a = norm.pdf(dp, m_0, sig_0**(1/2))\n",
    "b = norm.pdf(dp, 0, 100)\n",
    "print(\"prob before\", a/(a+b))\n",
    "\n",
    "m_0, n_0, sig_0, v_0 = update_params(m_0, n_0, sig_0, v_0, dp)\n",
    "print(\"mean:\", m_0)\n",
    "print(\"variance\", np.sqrt(sig_0))\n",
    "\n",
    "a = norm.pdf(dp, m_0, sig_0**(1/2))\n",
    "b = norm.pdf(dp, 0, 100)\n",
    "print(\"prob after\", a/(a+b))"
   ]
  },
  {
   "cell_type": "code",
   "execution_count": null,
   "metadata": {},
   "outputs": [],
   "source": []
  }
 ],
 "metadata": {
  "kernelspec": {
   "display_name": "Python 3",
   "language": "python",
   "name": "python3"
  },
  "language_info": {
   "codemirror_mode": {
    "name": "ipython",
    "version": 3
   },
   "file_extension": ".py",
   "mimetype": "text/x-python",
   "name": "python",
   "nbconvert_exporter": "python",
   "pygments_lexer": "ipython3",
   "version": "3.7.4"
  }
 },
 "nbformat": 4,
 "nbformat_minor": 2
}

{
 "cells": [
  {
   "cell_type": "code",
   "execution_count": 1,
   "metadata": {},
   "outputs": [],
   "source": [
    "teacher_utterance = \"To wipe almonds do it slowly and gently\""
   ]
  },
  {
   "cell_type": "code",
   "execution_count": 1,
   "metadata": {},
   "outputs": [],
   "source": [
    "import numpy as np"
   ]
  },
  {
   "cell_type": "code",
   "execution_count": 2,
   "metadata": {},
   "outputs": [],
   "source": [
    "class Action(object):\n",
    "    \n",
    "    def __inti__(self, name):\n",
    "        self.name = name\n"
   ]
  },
  {
   "cell_type": "code",
   "execution_count": 11,
   "metadata": {},
   "outputs": [],
   "source": [
    "class ActionExecution(object):\n",
    "    \n",
    "    def __init__(self, gentleness=0, slowness=0, straightness=0, \n",
    "                 smoothness=0, weakness=0):\n",
    "        self.action_name = \"wipe\"\n",
    "        self.gentleness = gentleness\n",
    "        self.slowness = slowness\n",
    "        self.straightness = straightness\n",
    "        self.smoothness = smoothness\n",
    "        self.weakness = weakness\n",
    "        \n",
    "    \n",
    "    @staticmethod\n",
    "    def generate_random_behaviour():\n",
    "        behaviour = np.random.normal([0]*5, [1]*5)\n",
    "        return ActionExecution.behaviour_from_array(behaviour)\n",
    "        \n",
    "    @staticmethod\n",
    "    def behaviour_from_array(array):\n",
    "        return ActionExecution(*array)"
   ]
  },
  {
   "cell_type": "code",
   "execution_count": 4,
   "metadata": {},
   "outputs": [
    {
     "ename": "TypeError",
     "evalue": "__init__() got multiple values for argument 'gentleness'",
     "output_type": "error",
     "traceback": [
      "\u001b[0;31m---------------------------------------------------------------------------\u001b[0m",
      "\u001b[0;31mTypeError\u001b[0m                                 Traceback (most recent call last)",
      "\u001b[0;32m<ipython-input-4-f4c04420c3fa>\u001b[0m in \u001b[0;36m<module>\u001b[0;34m\u001b[0m\n\u001b[1;32m      1\u001b[0m dialogue = {\n\u001b[1;32m      2\u001b[0m     \u001b[0;34m\"u_1\"\u001b[0m\u001b[0;34m:\u001b[0m \u001b[0;34m\"To wipe milk, wipe slowly and gently\"\u001b[0m\u001b[0;34m,\u001b[0m\u001b[0;34m\u001b[0m\u001b[0;34m\u001b[0m\u001b[0m\n\u001b[0;32m----> 3\u001b[0;31m     \u001b[0;34m\"a_1\"\u001b[0m\u001b[0;34m:\u001b[0m \u001b[0mActionExecution\u001b[0m\u001b[0;34m(\u001b[0m\u001b[0;34m'wipe'\u001b[0m\u001b[0;34m,\u001b[0m \u001b[0mgentleness\u001b[0m\u001b[0;34m=\u001b[0m\u001b[0;36m0.5\u001b[0m\u001b[0;34m,\u001b[0m \u001b[0mspeed\u001b[0m\u001b[0;34m=\u001b[0m\u001b[0;34m-\u001b[0m\u001b[0;36m0.5\u001b[0m\u001b[0;34m)\u001b[0m\u001b[0;34m,\u001b[0m\u001b[0;34m\u001b[0m\u001b[0;34m\u001b[0m\u001b[0m\n\u001b[0m\u001b[1;32m      4\u001b[0m     \u001b[0;34m\"u_2\"\u001b[0m\u001b[0;34m:\u001b[0m \u001b[0;34m\"No, do it more gently\"\u001b[0m\u001b[0;34m,\u001b[0m\u001b[0;34m\u001b[0m\u001b[0;34m\u001b[0m\u001b[0m\n\u001b[1;32m      5\u001b[0m     \u001b[0;34m\"a_2\"\u001b[0m\u001b[0;34m:\u001b[0m \u001b[0mActionExecution\u001b[0m\u001b[0;34m(\u001b[0m\u001b[0;34m'wipe'\u001b[0m\u001b[0;34m,\u001b[0m \u001b[0mgentleness\u001b[0m\u001b[0;34m=\u001b[0m\u001b[0;36m1\u001b[0m\u001b[0;34m,\u001b[0m \u001b[0mspeed\u001b[0m\u001b[0;34m=\u001b[0m\u001b[0;34m-\u001b[0m\u001b[0;36m0.5\u001b[0m\u001b[0;34m)\u001b[0m\u001b[0;34m,\u001b[0m\u001b[0;34m\u001b[0m\u001b[0;34m\u001b[0m\u001b[0m\n",
      "\u001b[0;31mTypeError\u001b[0m: __init__() got multiple values for argument 'gentleness'"
     ]
    }
   ],
   "source": [
    "dialogue = {\n",
    "    \"u_1\": \"To wipe milk, wipe slowly and gently\",\n",
    "    \"a_1\": ActionExecution('wipe', gentleness=0.5, speed=-0.5),\n",
    "    \"u_2\": \"No, do it more gently\",\n",
    "    \"a_2\": ActionExecution('wipe', gentleness=1, speed=-0.5),\n",
    "    \"u_3\": \"Yes, but a bit more slowly\",\n",
    "    \"a_3\": ActionExecution('wipe', gentleness=1, speed=-1),\n",
    "    \"u_4\": \"Perfect\",\n",
    "    \"u_5\": \"Now to wipe almonds do it like milk but faster\",\n",
    "    \"a_4\": ActionExecution('wipe', gentleness=1, speed=0),\n",
    "    \"u_6\": \"Good, but also a bit more firm\",\n",
    "    \"a_5\": ActionExecution('wipe', gentleness=1, speed=0, firmness=0.5),\n",
    "    \"u_7\": \"Good\"\n",
    "}"
   ]
  },
  {
   "cell_type": "code",
   "execution_count": 5,
   "metadata": {},
   "outputs": [
    {
     "ename": "NameError",
     "evalue": "name 'dialogue' is not defined",
     "output_type": "error",
     "traceback": [
      "\u001b[0;31m---------------------------------------------------------------------------\u001b[0m",
      "\u001b[0;31mNameError\u001b[0m                                 Traceback (most recent call last)",
      "\u001b[0;32m<ipython-input-5-873fa5cf6cdf>\u001b[0m in \u001b[0;36m<module>\u001b[0;34m\u001b[0m\n\u001b[0;32m----> 1\u001b[0;31m \u001b[0mcommand_under_discussion\u001b[0m \u001b[0;34m=\u001b[0m \u001b[0mdialogue\u001b[0m\u001b[0;34m[\u001b[0m\u001b[0;34m'u_1'\u001b[0m\u001b[0;34m]\u001b[0m\u001b[0;34m\u001b[0m\u001b[0;34m\u001b[0m\u001b[0m\n\u001b[0m",
      "\u001b[0;31mNameError\u001b[0m: name 'dialogue' is not defined"
     ]
    }
   ],
   "source": [
    "command_under_discussion = dialogue['u_1']"
   ]
  },
  {
   "cell_type": "code",
   "execution_count": 6,
   "metadata": {},
   "outputs": [],
   "source": [
    "class Command(object):\n",
    "    \n",
    "    def __init__(self, name, attributes):\n",
    "        self.name = name\n",
    "        self.attributes = attributes\n",
    "    \n",
    "    @staticmethod\n",
    "    def parse_sentence(sentence):\n",
    "        command, attributes = sentence.split(',')\n",
    "        command_name = command.replace('To', '').strip().replace(' ', '_')\n",
    "        words = attributes.strip().split()\n",
    "        if words[0] == 'do' and words[1] == 'it':\n",
    "            attributes = words[2:]\n",
    "        else:\n",
    "            attributes = words[1:]\n",
    "        words = [word.strip().strip(',') for word in words if word != 'and']\n",
    "        return Command(command_name, words)"
   ]
  },
  {
   "cell_type": "code",
   "execution_count": 7,
   "metadata": {},
   "outputs": [
    {
     "ename": "NameError",
     "evalue": "name 'dialogue' is not defined",
     "output_type": "error",
     "traceback": [
      "\u001b[0;31m---------------------------------------------------------------------------\u001b[0m",
      "\u001b[0;31mNameError\u001b[0m                                 Traceback (most recent call last)",
      "\u001b[0;32m<ipython-input-7-d8b44b545900>\u001b[0m in \u001b[0;36m<module>\u001b[0;34m\u001b[0m\n\u001b[0;32m----> 1\u001b[0;31m \u001b[0mcommand_under_discussion\u001b[0m \u001b[0;34m=\u001b[0m \u001b[0mCommand\u001b[0m\u001b[0;34m.\u001b[0m\u001b[0mparse_sentence\u001b[0m\u001b[0;34m(\u001b[0m\u001b[0mdialogue\u001b[0m\u001b[0;34m[\u001b[0m\u001b[0;34m'u_1'\u001b[0m\u001b[0;34m]\u001b[0m\u001b[0;34m)\u001b[0m\u001b[0;34m\u001b[0m\u001b[0;34m\u001b[0m\u001b[0m\n\u001b[0m",
      "\u001b[0;31mNameError\u001b[0m: name 'dialogue' is not defined"
     ]
    }
   ],
   "source": [
    "command_under_discussion = Command.parse_sentence(dialogue['u_1'])"
   ]
  },
  {
   "cell_type": "code",
   "execution_count": 8,
   "metadata": {},
   "outputs": [],
   "source": [
    "# are we assuming that if I say \"no do it more gently\" then that's the only thing which is definitely wrong?"
   ]
  },
  {
   "cell_type": "code",
   "execution_count": 9,
   "metadata": {},
   "outputs": [],
   "source": [
    "class Space(object):\n",
    "    \n",
    "    def __init__(self):\n",
    "        \n",
    "        pass"
   ]
  },
  {
   "cell_type": "code",
   "execution_count": null,
   "metadata": {},
   "outputs": [],
   "source": []
  },
  {
   "cell_type": "code",
   "execution_count": 14,
   "metadata": {},
   "outputs": [],
   "source": [
    "a = ActionExecution.generate_random_behaviour()"
   ]
  },
  {
   "cell_type": "code",
   "execution_count": 17,
   "metadata": {},
   "outputs": [
    {
     "data": {
      "text/plain": [
       "1.6276577613479288"
      ]
     },
     "execution_count": 17,
     "metadata": {},
     "output_type": "execute_result"
    }
   ],
   "source": [
    "a.gentleness\n",
    "a.slowness"
   ]
  },
  {
   "cell_type": "code",
   "execution_count": 23,
   "metadata": {},
   "outputs": [],
   "source": [
    "class Concept(object):\n",
    "    \n",
    "    def __init__(self, name, dimension, mu=0, sigma=1):\n",
    "        self.name = name\n",
    "        self.dimension = dimension\n",
    "        self.mu = mu\n",
    "        self.sigma = sigma"
   ]
  },
  {
   "cell_type": "code",
   "execution_count": 24,
   "metadata": {},
   "outputs": [
    {
     "data": {
      "text/plain": [
       "<__main__.Concept at 0x7f91307b0ad0>"
      ]
     },
     "execution_count": 24,
     "metadata": {},
     "output_type": "execute_result"
    }
   ],
   "source": [
    "Concept(\"gentleness\", 0)"
   ]
  },
  {
   "cell_type": "code",
   "execution_count": null,
   "metadata": {},
   "outputs": [],
   "source": []
  }
 ],
 "metadata": {
  "kernelspec": {
   "display_name": "Python 3",
   "language": "python",
   "name": "python3"
  },
  "language_info": {
   "codemirror_mode": {
    "name": "ipython",
    "version": 3
   },
   "file_extension": ".py",
   "mimetype": "text/x-python",
   "name": "python",
   "nbconvert_exporter": "python",
   "pygments_lexer": "ipython3",
   "version": "3.7.4"
  }
 },
 "nbformat": 4,
 "nbformat_minor": 2
}

{
 "cells": [
  {
   "cell_type": "code",
   "execution_count": 1,
   "metadata": {},
   "outputs": [],
   "source": [
    "from delphin.interfaces import ace"
   ]
  },
  {
   "cell_type": "code",
   "execution_count": 5,
   "metadata": {
    "scrolled": true
   },
   "outputs": [
    {
     "name": "stderr",
     "output_type": "stream",
     "text": [
      "ERROR:root:Failed to compile grammar with ACE. See <stderr>\n"
     ]
    },
    {
     "ename": "CalledProcessError",
     "evalue": "Command '['ace', '-g', '../ace-0.9.27/erg-files/config.tdl', '-G', '../ace-0.9.27/erg-1214-osx-0.9.27.dat']' returned non-zero exit status 255.",
     "output_type": "error",
     "traceback": [
      "\u001b[0;31m---------------------------------------------------------------------------\u001b[0m",
      "\u001b[0;31mCalledProcessError\u001b[0m                        Traceback (most recent call last)",
      "\u001b[0;32m<ipython-input-5-115f1ef999be>\u001b[0m in \u001b[0;36m<module>\u001b[0;34m()\u001b[0m\n\u001b[0;32m----> 1\u001b[0;31m \u001b[0mace\u001b[0m\u001b[0;34m.\u001b[0m\u001b[0mcompile\u001b[0m\u001b[0;34m(\u001b[0m\u001b[0;34m'../ace-0.9.27/erg-files/config.tdl'\u001b[0m\u001b[0;34m,\u001b[0m \u001b[0;34m'../ace-0.9.27/erg-1214-osx-0.9.27.dat'\u001b[0m\u001b[0;34m)\u001b[0m\u001b[0;34m\u001b[0m\u001b[0m\n\u001b[0m",
      "\u001b[0;32m~/miniconda3/envs/phd/lib/python3.6/site-packages/delphin/interfaces/ace.py\u001b[0m in \u001b[0;36mcompile\u001b[0;34m(cfg_path, out_path, executable, env, log)\u001b[0m\n\u001b[1;32m    385\u001b[0m             \u001b[0;34m[\u001b[0m\u001b[0;34m(\u001b[0m\u001b[0mexecutable\u001b[0m \u001b[0;32mor\u001b[0m \u001b[0;34m'ace'\u001b[0m\u001b[0;34m)\u001b[0m\u001b[0;34m,\u001b[0m \u001b[0;34m'-g'\u001b[0m\u001b[0;34m,\u001b[0m \u001b[0mcfg_path\u001b[0m\u001b[0;34m,\u001b[0m \u001b[0;34m'-G'\u001b[0m\u001b[0;34m,\u001b[0m \u001b[0mout_path\u001b[0m\u001b[0;34m]\u001b[0m\u001b[0;34m,\u001b[0m\u001b[0;34m\u001b[0m\u001b[0m\n\u001b[1;32m    386\u001b[0m             \u001b[0mstdout\u001b[0m\u001b[0;34m=\u001b[0m\u001b[0mlog\u001b[0m\u001b[0;34m,\u001b[0m \u001b[0mstderr\u001b[0m\u001b[0;34m=\u001b[0m\u001b[0mlog\u001b[0m\u001b[0;34m,\u001b[0m \u001b[0mclose_fds\u001b[0m\u001b[0;34m=\u001b[0m\u001b[0;32mTrue\u001b[0m\u001b[0;34m,\u001b[0m\u001b[0;34m\u001b[0m\u001b[0m\n\u001b[0;32m--> 387\u001b[0;31m             \u001b[0menv\u001b[0m\u001b[0;34m=\u001b[0m\u001b[0;34m(\u001b[0m\u001b[0menv\u001b[0m \u001b[0;32mor\u001b[0m \u001b[0mos\u001b[0m\u001b[0;34m.\u001b[0m\u001b[0menviron\u001b[0m\u001b[0;34m)\u001b[0m\u001b[0;34m\u001b[0m\u001b[0m\n\u001b[0m\u001b[1;32m    388\u001b[0m         )\n\u001b[1;32m    389\u001b[0m     \u001b[0;32mexcept\u001b[0m \u001b[0;34m(\u001b[0m\u001b[0mCalledProcessError\u001b[0m\u001b[0;34m,\u001b[0m \u001b[0mOSError\u001b[0m\u001b[0;34m)\u001b[0m\u001b[0;34m:\u001b[0m\u001b[0;34m\u001b[0m\u001b[0m\n",
      "\u001b[0;32m~/miniconda3/envs/phd/lib/python3.6/subprocess.py\u001b[0m in \u001b[0;36mcheck_call\u001b[0;34m(*popenargs, **kwargs)\u001b[0m\n\u001b[1;32m    289\u001b[0m         \u001b[0;32mif\u001b[0m \u001b[0mcmd\u001b[0m \u001b[0;32mis\u001b[0m \u001b[0;32mNone\u001b[0m\u001b[0;34m:\u001b[0m\u001b[0;34m\u001b[0m\u001b[0m\n\u001b[1;32m    290\u001b[0m             \u001b[0mcmd\u001b[0m \u001b[0;34m=\u001b[0m \u001b[0mpopenargs\u001b[0m\u001b[0;34m[\u001b[0m\u001b[0;36m0\u001b[0m\u001b[0;34m]\u001b[0m\u001b[0;34m\u001b[0m\u001b[0m\n\u001b[0;32m--> 291\u001b[0;31m         \u001b[0;32mraise\u001b[0m \u001b[0mCalledProcessError\u001b[0m\u001b[0;34m(\u001b[0m\u001b[0mretcode\u001b[0m\u001b[0;34m,\u001b[0m \u001b[0mcmd\u001b[0m\u001b[0;34m)\u001b[0m\u001b[0;34m\u001b[0m\u001b[0m\n\u001b[0m\u001b[1;32m    292\u001b[0m     \u001b[0;32mreturn\u001b[0m \u001b[0;36m0\u001b[0m\u001b[0;34m\u001b[0m\u001b[0m\n\u001b[1;32m    293\u001b[0m \u001b[0;34m\u001b[0m\u001b[0m\n",
      "\u001b[0;31mCalledProcessError\u001b[0m: Command '['ace', '-g', '../ace-0.9.27/erg-files/config.tdl', '-G', '../ace-0.9.27/erg-1214-osx-0.9.27.dat']' returned non-zero exit status 255."
     ]
    }
   ],
   "source": [
    "ace.compile('../ace-0.9.27/erg-files/config.tdl', '../ace-0.9.27/erg-1214-osx-0.9.27.dat')"
   ]
  },
  {
   "cell_type": "code",
   "execution_count": 8,
   "metadata": {},
   "outputs": [
    {
     "name": "stderr",
     "output_type": "stream",
     "text": [
      "ERROR:root:Malformed output from ACE: \n"
     ]
    }
   ],
   "source": [
    "p = ace.parse('../ace-0.9.27/erg-1214-osx-0.9.27.dat', 'put a red block on a blue block')"
   ]
  },
  {
   "cell_type": "code",
   "execution_count": 4,
   "metadata": {},
   "outputs": [
    {
     "data": {
      "text/plain": [
       "'[ LTOP: h0 INDEX: e2 [ e SF: comm TENSE: pres MOOD: indicative PROG: - PERF: - ] RELS: < [ pronoun_q<0:31> LBL: h4 ARG0: x3 [ x PERS: 2 PT: zero ] RSTR: h5 BODY: h6 ]  [ pron<0:31> LBL: h7 ARG0: x3 ]  [ _put_v_1<0:3> LBL: h1 ARG0: e2 ARG1: x3 ARG2: x8 [ x PERS: 3 NUM: sg IND: + ] ARG3: h9 ]  [ _a_q<4:5> LBL: h10 ARG0: x8 RSTR: h11 BODY: h12 ]  [ _red_a_1<6:9> LBL: h13 ARG0: e14 [ e SF: prop TENSE: untensed MOOD: indicative PROG: - PERF: - ] ARG1: x8 ]  [ _block_n_of<10:15> LBL: h13 ARG0: x8 ARG1: i15 ]  [ _on_p<16:18> LBL: h16 ARG0: e17 [ e SF: prop TENSE: untensed MOOD: indicative PROG: - PERF: - ] ARG1: x8 ARG2: x18 [ x PERS: 3 NUM: sg IND: + ] ]  [ _a_q<19:20> LBL: h19 ARG0: x18 RSTR: h20 BODY: h21 ]  [ _blue_a_1<21:25> LBL: h22 ARG0: e23 [ e SF: prop TENSE: untensed MOOD: indicative PROG: - PERF: - ] ARG1: x18 ]  [ _block_n_of<26:31> LBL: h22 ARG0: x18 ARG1: i24 ] > HCONS: < h0 qeq h1 h5 qeq h7 h9 qeq h16 h11 qeq h13 h20 qeq h22 > ]'"
      ]
     },
     "execution_count": 4,
     "metadata": {},
     "output_type": "execute_result"
    }
   ],
   "source": [
    "p['RESULTS'][0]['MRS']"
   ]
  },
  {
   "cell_type": "code",
   "execution_count": 5,
   "metadata": {},
   "outputs": [],
   "source": [
    "from delphin.mrs.simpledmrs import dump, dumps, serialize"
   ]
  },
  {
   "cell_type": "code",
   "execution_count": 6,
   "metadata": {},
   "outputs": [],
   "source": [
    "from delphin.mrs import convert"
   ]
  },
  {
   "cell_type": "code",
   "execution_count": 7,
   "metadata": {},
   "outputs": [
    {
     "name": "stdout",
     "output_type": "stream",
     "text": [
      "<dmrs-list>\n",
      "<dmrs cfrom=\"-1\" cto=\"-1\">\n",
      "<node cfrom=\"0\" cto=\"31\" nodeid=\"10000\"><gpred>pronoun_q</gpred><sortinfo /></node>\n",
      "<node cfrom=\"0\" cto=\"31\" nodeid=\"10001\"><gpred>pron</gpred><sortinfo cvarsort=\"x\" pers=\"2\" pt=\"zero\" /></node>\n",
      "<node cfrom=\"0\" cto=\"3\" nodeid=\"10002\"><realpred lemma=\"put\" pos=\"v\" sense=\"1\" /><sortinfo cvarsort=\"e\" mood=\"indicative\" perf=\"-\" prog=\"-\" sf=\"comm\" tense=\"pres\" /></node>\n",
      "<node cfrom=\"4\" cto=\"5\" nodeid=\"10003\"><realpred lemma=\"a\" pos=\"q\" /><sortinfo /></node>\n",
      "<node cfrom=\"6\" cto=\"9\" nodeid=\"10004\"><realpred lemma=\"red\" pos=\"a\" sense=\"1\" /><sortinfo cvarsort=\"e\" mood=\"indicative\" perf=\"-\" prog=\"-\" sf=\"prop\" tense=\"untensed\" /></node>\n",
      "<node cfrom=\"10\" cto=\"15\" nodeid=\"10005\"><realpred lemma=\"block\" pos=\"n\" sense=\"of\" /><sortinfo cvarsort=\"x\" ind=\"+\" num=\"sg\" pers=\"3\" /></node>\n",
      "<node cfrom=\"16\" cto=\"18\" nodeid=\"10006\"><realpred lemma=\"on\" pos=\"p\" /><sortinfo cvarsort=\"e\" mood=\"indicative\" perf=\"-\" prog=\"-\" sf=\"prop\" tense=\"untensed\" /></node>\n",
      "<node cfrom=\"19\" cto=\"20\" nodeid=\"10007\"><realpred lemma=\"a\" pos=\"q\" /><sortinfo /></node>\n",
      "<node cfrom=\"21\" cto=\"25\" nodeid=\"10008\"><realpred lemma=\"blue\" pos=\"a\" sense=\"1\" /><sortinfo cvarsort=\"e\" mood=\"indicative\" perf=\"-\" prog=\"-\" sf=\"prop\" tense=\"untensed\" /></node>\n",
      "<node cfrom=\"26\" cto=\"31\" nodeid=\"10009\"><realpred lemma=\"block\" pos=\"n\" sense=\"of\" /><sortinfo cvarsort=\"x\" ind=\"+\" num=\"sg\" pers=\"3\" /></node>\n",
      "<link from=\"0\" to=\"10002\"><rargname /><post>H</post></link>\n",
      "<link from=\"10000\" to=\"10001\"><rargname>RSTR</rargname><post>H</post></link>\n",
      "<link from=\"10002\" to=\"10001\"><rargname>ARG1</rargname><post>NEQ</post></link>\n",
      "<link from=\"10002\" to=\"10005\"><rargname>ARG2</rargname><post>NEQ</post></link>\n",
      "<link from=\"10002\" to=\"10006\"><rargname>ARG3</rargname><post>H</post></link>\n",
      "<link from=\"10003\" to=\"10005\"><rargname>RSTR</rargname><post>H</post></link>\n",
      "<link from=\"10004\" to=\"10005\"><rargname>ARG1</rargname><post>EQ</post></link>\n",
      "<link from=\"10006\" to=\"10005\"><rargname>ARG1</rargname><post>NEQ</post></link>\n",
      "<link from=\"10006\" to=\"10009\"><rargname>ARG2</rargname><post>NEQ</post></link>\n",
      "<link from=\"10007\" to=\"10009\"><rargname>RSTR</rargname><post>H</post></link>\n",
      "<link from=\"10008\" to=\"10009\"><rargname>ARG1</rargname><post>EQ</post></link>\n",
      "</dmrs>\n",
      "</dmrs-list>\n"
     ]
    }
   ],
   "source": [
    "print(convert(p['RESULTS'][0]['MRS'], 'simplemrs', 'dmrx', pretty_print=True))"
   ]
  },
  {
   "cell_type": "code",
   "execution_count": 8,
   "metadata": {},
   "outputs": [],
   "source": [
    "dmrx = convert(p['RESULTS'][0]['MRS'], 'simplemrs', 'dmrx')"
   ]
  },
  {
   "cell_type": "code",
   "execution_count": 9,
   "metadata": {},
   "outputs": [],
   "source": [
    "from delphin.mrs.dmrx import loads\n",
    "dmrxx = loads(dmrx, single=True)"
   ]
  },
  {
   "cell_type": "code",
   "execution_count": 10,
   "metadata": {},
   "outputs": [
    {
     "data": {
      "text/plain": [
       "'dmrs {\\n  10000 [pronoun_q<0:31> x pers=2 pt=zero];\\n  10001 [pron<0:31> x pers=2 pt=zero];\\n  10002 [_put_v_1_rel<0:3> e mood=indicative perf=- prog=- sf=comm tense=pres];\\n  10003 [_a_q_rel<4:5> x ind=+ num=sg pers=3];\\n  10004 [_red_a_1_rel<6:9> e mood=indicative perf=- prog=- sf=prop tense=untensed];\\n  10005 [_block_n_of_rel<10:15> x ind=+ num=sg pers=3];\\n  10006 [_on_p_rel<16:18> e mood=indicative perf=- prog=- sf=prop tense=untensed];\\n  10007 [_a_q_rel<19:20> x ind=+ num=sg pers=3];\\n  10008 [_blue_a_1_rel<21:25> e mood=indicative perf=- prog=- sf=prop tense=untensed];\\n  10009 [_block_n_of_rel<26:31> x ind=+ num=sg pers=3];\\n  0:/H -> 10002;\\n  10000:RSTR/H -> 10001;\\n  10002:ARG1/NEQ -> 10001;\\n  10002:ARG2/NEQ -> 10005;\\n  10002:ARG3/H -> 10006;\\n  10003:RSTR/H -> 10005;\\n  10004:ARG1/EQ -> 10005;\\n  10006:ARG1/NEQ -> 10005;\\n  10006:ARG2/NEQ -> 10009;\\n  10007:RSTR/H -> 10009;\\n  10008:ARG1/EQ -> 10009;\\n}'"
      ]
     },
     "execution_count": 10,
     "metadata": {},
     "output_type": "execute_result"
    }
   ],
   "source": [
    "serialize([dmrxx])"
   ]
  },
  {
   "cell_type": "code",
   "execution_count": 11,
   "metadata": {},
   "outputs": [],
   "source": [
    "import delphin"
   ]
  },
  {
   "cell_type": "code",
   "execution_count": 12,
   "metadata": {},
   "outputs": [
    {
     "ename": "AttributeError",
     "evalue": "module 'delphin.extra' has no attribute 'latex'",
     "output_type": "error",
     "traceback": [
      "\u001b[0;31m---------------------------------------------------------------------------\u001b[0m",
      "\u001b[0;31mAttributeError\u001b[0m                            Traceback (most recent call last)",
      "\u001b[0;32m<ipython-input-12-fdbde49d98cc>\u001b[0m in \u001b[0;36m<module>\u001b[0;34m()\u001b[0m\n\u001b[0;32m----> 1\u001b[0;31m \u001b[0mdelphin\u001b[0m\u001b[0;34m.\u001b[0m\u001b[0mextra\u001b[0m\u001b[0;34m.\u001b[0m\u001b[0mlatex\u001b[0m\u001b[0;34m.\u001b[0m\u001b[0mdmrs_tikz_dependency\u001b[0m\u001b[0;34m(\u001b[0m\u001b[0mdmrxx\u001b[0m\u001b[0;34m)\u001b[0m\u001b[0;34m\u001b[0m\u001b[0m\n\u001b[0m",
      "\u001b[0;31mAttributeError\u001b[0m: module 'delphin.extra' has no attribute 'latex'"
     ]
    }
   ],
   "source": [
    "delphin.extra.latex.dmrs_tikz_dependency(dmrxx)"
   ]
  },
  {
   "cell_type": "code",
   "execution_count": 13,
   "metadata": {},
   "outputs": [],
   "source": [
    "from delphin.extra.latex import dmrs_tikz_dependency"
   ]
  },
  {
   "cell_type": "code",
   "execution_count": 15,
   "metadata": {},
   "outputs": [
    {
     "name": "stdout",
     "output_type": "stream",
     "text": [
      "The tikzmagic extension is already loaded. To reload it, use:\n",
      "  %reload_ext tikzmagic\n",
      "\\documentclass{standalone}\n",
      "\n",
      "\\usepackage{tikz-dependency}\n",
      "\\usepackage{relsize}\n",
      "\n",
      "%%%\n",
      "%%% style for dmrs graph\n",
      "%%%\n",
      "\\depstyle{dmrs}{edge unit distance=1.5ex, \n",
      "  label style={above, scale=.9, opacity=0, text opacity=1},\n",
      "  baseline={([yshift=-0.7\\baselineskip]current bounding box.north)}}\n",
      "%%% set text opacity=0 to hide text, opacity = 0 to hide box\n",
      "\\depstyle{root}{edge unit distance=3ex, label style={opacity=1}}\n",
      "\\depstyle{arg}{edge above}\n",
      "\\depstyle{rstr}{edge below, dotted, label style={text opacity=1}}\n",
      "\\depstyle{eq}{edge below, label style={text opacity=1}}\n",
      "\\depstyle{icons}{edge below, dashed}\n",
      "\\providecommand{\\named}{}  \n",
      "\\renewcommand{\\named}{named}\n",
      "\n",
      "%%% styles for predicates and roles (from mrs.sty)\n",
      "\\providecommand{\\spred}{} \n",
      "\\renewcommand{\\spred}[1]{\\mbox{\\textsf{#1}}}\n",
      "\\providecommand{\\srl}{} \n",
      "\\renewcommand{\\srl}[1]{\\mbox{\\textsf{\\smaller #1}}}\n",
      "%%%\n",
      "\n",
      "\\begin{document}\n",
      "%%%\n",
      "%%% 1\n",
      "%%%\n",
      "\\begin{dependency}[dmrs]\n",
      "  \\begin{deptext}[column sep=10pt]\n",
      "    \\spred{pronoun\\_q} \\&     % node 1\n",
      "    \\spred{pron} \\&     % node 2\n",
      "    \\spred{\\_put\\_v\\_1} \\&     % node 3\n",
      "    \\spred{\\_a\\_q} \\&     % node 4\n",
      "    \\spred{\\_red\\_a\\_1} \\&     % node 5\n",
      "    \\spred{\\_block\\_n\\_of} \\&     % node 6\n",
      "    \\spred{\\_on\\_p} \\&     % node 7\n",
      "    \\spred{\\_a\\_q} \\&     % node 8\n",
      "    \\spred{\\_blue\\_a\\_1} \\&     % node 9\n",
      "    \\spred{\\_block\\_n\\_of} \\\\     % node 10\n",
      "  \\end{deptext}\n",
      "  \\deproot[root]{3}{\\srl{TOP}}\n",
      "  \\depedge[rstr]{1}{2}{\\srl{RSTR/H}}\n",
      "  \\depedge[arg]{3}{2}{\\srl{ARG1/NEQ}}\n",
      "  \\depedge[arg]{3}{6}{\\srl{ARG2/NEQ}}\n",
      "  \\depedge[arg]{3}{7}{\\srl{ARG3/H}}\n",
      "  \\depedge[rstr]{4}{6}{\\srl{RSTR/H}}\n",
      "  \\depedge[eq]{5}{6}{\\srl{ARG1/EQ}}\n",
      "  \\depedge[arg]{7}{6}{\\srl{ARG1/NEQ}}\n",
      "  \\depedge[arg]{7}{10}{\\srl{ARG2/NEQ}}\n",
      "  \\depedge[rstr]{8}{10}{\\srl{RSTR/H}}\n",
      "  \\depedge[eq]{9}{10}{\\srl{ARG1/EQ}}\n",
      "%  \\depedge[icons]{f}{t}{FOCUS}\n",
      "\\end{dependency}\n",
      "\n",
      "\\end{document}\n"
     ]
    }
   ],
   "source": [
    "print(dmrs_tikz_dependency(dmrxx))"
   ]
  },
  {
   "cell_type": "code",
   "execution_count": null,
   "metadata": {},
   "outputs": [],
   "source": []
  },
  {
   "cell_type": "code",
   "execution_count": 18,
   "metadata": {},
   "outputs": [
    {
     "name": "stderr",
     "output_type": "stream",
     "text": [
      "LaTeX terminated with signal -1\n"
     ]
    },
    {
     "data": {
      "text/plain": [
       "This is pdfTeX, Version 3.14159265-2.6-1.40.18 (TeX Live 2017) (preloaded format=pdflatex 2017.7.13)  5 MAR 2018 17:34\n",
       "entering extended mode\n",
       " \\write18 enabled.\n",
       " %&-line parsing enabled.\n",
       "**tikz.tex\n",
       "(./tikz.tex\n",
       "LaTeX2e <2017-04-15>\n",
       "Babel <3.10> and hyphenation patterns for 84 language(s) loaded.\n",
       "(/opt/texlive/2017/texmf-dist/tex/latex/standalone/standalone.cls\n",
       "Document Class: standalone 2015/07/15 v1.2 Class to compile TeX sub-files stand\n",
       "alone\n",
       "(/opt/texlive/2017/texmf-dist/tex/generic/oberdiek/ifluatex.sty\n",
       "Package: ifluatex 2016/05/16 v1.4 Provides the ifluatex switch (HO)\n",
       "Package ifluatex Info: LuaTeX not detected.\n",
       ")\n",
       "(/opt/texlive/2017/texmf-dist/tex/generic/oberdiek/ifpdf.sty\n",
       "Package: ifpdf 2017/03/15 v3.2 Provides the ifpdf switch\n",
       ")\n",
       "(/opt/texlive/2017/texmf-dist/tex/generic/ifxetex/ifxetex.sty\n",
       "Package: ifxetex 2010/09/12 v0.6 Provides ifxetex conditional\n",
       ")\n",
       "(/opt/texlive/2017/texmf-dist/tex/latex/xkeyval/xkeyval.sty\n",
       "Package: xkeyval 2014/12/03 v2.7a package option processing (HA)\n",
       "\n",
       "(/opt/texlive/2017/texmf-dist/tex/generic/xkeyval/xkeyval.tex\n",
       "(/opt/texlive/2017/texmf-dist/tex/generic/xkeyval/xkvutils.tex\n",
       "\\XKV@toks=\\toks14\n",
       "\\XKV@tempa@toks=\\toks15\n",
       "\n",
       "(/opt/texlive/2017/texmf-dist/tex/generic/xkeyval/keyval.tex))\n",
       "\\XKV@depth=\\count79\n",
       "File: xkeyval.tex 2014/12/03 v2.7a key=value parser (HA)\n",
       "))\n",
       "\\sa@internal=\\count80\n",
       "\\c@sapage=\\count81\n",
       "\n",
       "(/opt/texlive/2017/texmf-dist/tex/latex/standalone/standalone.cfg\n",
       "File: standalone.cfg 2015/07/15 v1.2 Default configuration file for 'standalone\n",
       "' class\n",
       ")\n",
       "(/opt/texlive/2017/texmf-dist/tex/latex/base/article.cls\n",
       "Document Class: article 2014/09/29 v1.4h Standard LaTeX document class\n",
       "(/opt/texlive/2017/texmf-dist/tex/latex/base/size10.clo\n",
       "File: size10.clo 2014/09/29 v1.4h Standard LaTeX file (size option)\n",
       ")\n",
       "\\c@part=\\count82\n",
       "\\c@section=\\count83\n",
       "\\c@subsection=\\count84\n",
       "\\c@subsubsection=\\count85\n",
       "\\c@paragraph=\\count86\n",
       "\\c@subparagraph=\\count87\n",
       "\\c@figure=\\count88\n",
       "\\c@table=\\count89\n",
       "\\abovecaptionskip=\\skip41\n",
       "\\belowcaptionskip=\\skip42\n",
       "\\bibindent=\\dimen102\n",
       ")\n",
       "\\sa@box=\\box26\n",
       "runsystem(pdflatex  -shell-escape  -jobname 'tikz' '\\expandafter\\def\\csname sa@\n",
       "internal@run\\endcsname{1}\\input{tikz}')...executed.\n",
       "\n",
       " (./tikz.aux)\n",
       "runsystem(convert -density 300 tikz.pdf -resize 400x240 -quality 90 tikz.png)..\n",
       ".executed.\n",
       "\n",
       "\n",
       "\n",
       "Class standalone Warning: Conversion unsuccessful!\n",
       "(standalone)              There might be something wrong with your\n",
       "(standalone)              conversation software or the file permissions!\n",
       "\n",
       ") (/opt/texlive/2017/texmf-dist/tex/latex/pgf/frontendlayer/tikz.sty\n",
       "(/opt/texlive/2017/texmf-dist/tex/latex/pgf/basiclayer/pgf.sty\n",
       "(/opt/texlive/2017/texmf-dist/tex/latex/pgf/utilities/pgfrcs.sty\n",
       "(/opt/texlive/2017/texmf-dist/tex/generic/pgf/utilities/pgfutil-common.tex\n",
       "\\pgfutil@everybye=\\toks16\n",
       "\\pgfutil@tempdima=\\dimen103\n",
       "\\pgfutil@tempdimb=\\dimen104\n",
       "\n",
       "(/opt/texlive/2017/texmf-dist/tex/generic/pgf/utilities/pgfutil-common-lists.te\n",
       "x)) (/opt/texlive/2017/texmf-dist/tex/generic/pgf/utilities/pgfutil-latex.def\n",
       "\\pgfutil@abb=\\box27\n",
       "\n",
       "(/opt/texlive/2017/texmf-dist/tex/latex/ms/everyshi.sty\n",
       "Package: everyshi 2001/05/15 v3.00 EveryShipout Package (MS)\n",
       "))\n",
       "(/opt/texlive/2017/texmf-dist/tex/generic/pgf/utilities/pgfrcs.code.tex\n",
       "Package: pgfrcs 2015/08/07 v3.0.1a (rcs-revision 1.31)\n",
       "))\n",
       "Package: pgf 2015/08/07 v3.0.1a (rcs-revision 1.15)\n",
       "\n",
       "(/opt/texlive/2017/texmf-dist/tex/latex/pgf/basiclayer/pgfcore.sty\n",
       "(/opt/texlive/2017/texmf-dist/tex/latex/graphics/graphicx.sty\n",
       "Package: graphicx 2014/10/28 v1.0g Enhanced LaTeX Graphics (DPC,SPQR)\n",
       "\n",
       "(/opt/texlive/2017/texmf-dist/tex/latex/graphics/graphics.sty\n",
       "Package: graphics 2017/04/14 v1.1b Standard LaTeX Graphics (DPC,SPQR)\n",
       "\n",
       "(/opt/texlive/2017/texmf-dist/tex/latex/graphics/trig.sty\n",
       "Package: trig 2016/01/03 v1.10 sin cos tan (DPC)\n",
       ")\n",
       "(/opt/texlive/2017/texmf-dist/tex/latex/graphics-cfg/graphics.cfg\n",
       "File: graphics.cfg 2016/06/04 v1.11 sample graphics configuration\n",
       ")\n",
       "Package graphics Info: Driver file: pdftex.def on input line 99.\n",
       "\n",
       "(/opt/texlive/2017/texmf-dist/tex/latex/graphics-def/pdftex.def\n",
       "File: pdftex.def 2017/01/12 v0.06k Graphics/color for pdfTeX\n",
       "\n",
       "(/opt/texlive/2017/texmf-dist/tex/generic/oberdiek/infwarerr.sty\n",
       "Package: infwarerr 2016/05/16 v1.4 Providing info/warning/error messages (HO)\n",
       ")\n",
       "(/opt/texlive/2017/texmf-dist/tex/generic/oberdiek/ltxcmds.sty\n",
       "Package: ltxcmds 2016/05/16 v1.23 LaTeX kernel commands for general use (HO)\n",
       ")\n",
       "\\Gread@gobject=\\count90\n",
       "))\n",
       "\\Gin@req@height=\\dimen105\n",
       "\\Gin@req@width=\\dimen106\n",
       ")\n",
       "(/opt/texlive/2017/texmf-dist/tex/latex/pgf/systemlayer/pgfsys.sty\n",
       "(/opt/texlive/2017/texmf-dist/tex/generic/pgf/systemlayer/pgfsys.code.tex\n",
       "Package: pgfsys 2014/07/09 v3.0.1a (rcs-revision 1.48)\n",
       "\n",
       "(/opt/texlive/2017/texmf-dist/tex/generic/pgf/utilities/pgfkeys.code.tex\n",
       "\\pgfkeys@pathtoks=\\toks17\n",
       "\\pgfkeys@temptoks=\\toks18\n",
       "\n",
       "(/opt/texlive/2017/texmf-dist/tex/generic/pgf/utilities/pgfkeysfiltered.code.te\n",
       "x\n",
       "\\pgfkeys@tmptoks=\\toks19\n",
       "))\n",
       "\\pgf@x=\\dimen107\n",
       "\\pgf@y=\\dimen108\n",
       "\\pgf@xa=\\dimen109\n",
       "\\pgf@ya=\\dimen110\n",
       "\\pgf@xb=\\dimen111\n",
       "\\pgf@yb=\\dimen112\n",
       "\\pgf@xc=\\dimen113\n",
       "\\pgf@yc=\\dimen114\n",
       "\\w@pgf@writea=\\write3\n",
       "\\r@pgf@reada=\\read1\n",
       "\\c@pgf@counta=\\count91\n",
       "\\c@pgf@countb=\\count92\n",
       "\\c@pgf@countc=\\count93\n",
       "\\c@pgf@countd=\\count94\n",
       "\\t@pgf@toka=\\toks20\n",
       "\\t@pgf@tokb=\\toks21\n",
       "\\t@pgf@tokc=\\toks22\n",
       " (/opt/texlive/2017/texmf-dist/tex/generic/pgf/systemlayer/pgf.cfg\n",
       "File: pgf.cfg 2008/05/14  (rcs-revision 1.7)\n",
       ")\n",
       "Driver file for pgf: pgfsys-pdftex.def\n",
       "\n",
       "(/opt/texlive/2017/texmf-dist/tex/generic/pgf/systemlayer/pgfsys-pdftex.def\n",
       "File: pgfsys-pdftex.def 2014/10/11  (rcs-revision 1.35)\n",
       "\n",
       "(/opt/texlive/2017/texmf-dist/tex/generic/pgf/systemlayer/pgfsys-common-pdf.def\n",
       "File: pgfsys-common-pdf.def 2013/10/10  (rcs-revision 1.13)\n",
       ")))\n",
       "(/opt/texlive/2017/texmf-dist/tex/generic/pgf/systemlayer/pgfsyssoftpath.code.t\n",
       "ex\n",
       "File: pgfsyssoftpath.code.tex 2013/09/09  (rcs-revision 1.9)\n",
       "\\pgfsyssoftpath@smallbuffer@items=\\count95\n",
       "\\pgfsyssoftpath@bigbuffer@items=\\count96\n",
       ")\n",
       "(/opt/texlive/2017/texmf-dist/tex/generic/pgf/systemlayer/pgfsysprotocol.code.t\n",
       "ex\n",
       "File: pgfsysprotocol.code.tex 2006/10/16  (rcs-revision 1.4)\n",
       ")) (/opt/texlive/2017/texmf-dist/tex/latex/xcolor/xcolor.sty\n",
       "Package: xcolor 2016/05/11 v2.12 LaTeX color extensions (UK)\n",
       "\n",
       "(/opt/texlive/2017/texmf-dist/tex/latex/graphics-cfg/color.cfg\n",
       "File: color.cfg 2016/01/02 v1.6 sample color configuration\n",
       ")\n",
       "Package xcolor Info: Driver file: pdftex.def on input line 225.\n",
       "Package xcolor Info: Model `cmy' substituted by `cmy0' on input line 1348.\n",
       "Package xcolor Info: Model `hsb' substituted by `rgb' on input line 1352.\n",
       "Package xcolor Info: Model `RGB' extended on input line 1364.\n",
       "Package xcolor Info: Model `HTML' substituted by `rgb' on input line 1366.\n",
       "Package xcolor Info: Model `Hsb' substituted by `hsb' on input line 1367.\n",
       "Package xcolor Info: Model `tHsb' substituted by `hsb' on input line 1368.\n",
       "Package xcolor Info: Model `HSB' substituted by `hsb' on input line 1369.\n",
       "Package xcolor Info: Model `Gray' substituted by `gray' on input line 1370.\n",
       "Package xcolor Info: Model `wave' substituted by `hsb' on input line 1371.\n",
       ")\n",
       "(/opt/texlive/2017/texmf-dist/tex/generic/pgf/basiclayer/pgfcore.code.tex\n",
       "Package: pgfcore 2010/04/11 v3.0.1a (rcs-revision 1.7)\n",
       "\n",
       "(/opt/texlive/2017/texmf-dist/tex/generic/pgf/math/pgfmath.code.tex\n",
       "(/opt/texlive/2017/texmf-dist/tex/generic/pgf/math/pgfmathcalc.code.tex\n",
       "(/opt/texlive/2017/texmf-dist/tex/generic/pgf/math/pgfmathutil.code.tex)\n",
       "(/opt/texlive/2017/texmf-dist/tex/generic/pgf/math/pgfmathparser.code.tex\n",
       "\\pgfmath@dimen=\\dimen115\n",
       "\\pgfmath@count=\\count97\n",
       "\\pgfmath@box=\\box28\n",
       "\\pgfmath@toks=\\toks23\n",
       "\\pgfmath@stack@operand=\\toks24\n",
       "\\pgfmath@stack@operation=\\toks25\n",
       ")\n",
       "(/opt/texlive/2017/texmf-dist/tex/generic/pgf/math/pgfmathfunctions.code.tex\n",
       "(/opt/texlive/2017/texmf-dist/tex/generic/pgf/math/pgfmathfunctions.basic.code.\n",
       "tex)\n",
       "(/opt/texlive/2017/texmf-dist/tex/generic/pgf/math/pgfmathfunctions.trigonometr\n",
       "ic.code.tex)\n",
       "(/opt/texlive/2017/texmf-dist/tex/generic/pgf/math/pgfmathfunctions.random.code\n",
       ".tex)\n",
       "(/opt/texlive/2017/texmf-dist/tex/generic/pgf/math/pgfmathfunctions.comparison.\n",
       "code.tex)\n",
       "(/opt/texlive/2017/texmf-dist/tex/generic/pgf/math/pgfmathfunctions.base.code.t\n",
       "ex)\n",
       "(/opt/texlive/2017/texmf-dist/tex/generic/pgf/math/pgfmathfunctions.round.code.\n",
       "tex)\n",
       "(/opt/texlive/2017/texmf-dist/tex/generic/pgf/math/pgfmathfunctions.misc.code.t\n",
       "ex)\n",
       "(/opt/texlive/2017/texmf-dist/tex/generic/pgf/math/pgfmathfunctions.integerarit\n",
       "hmetics.code.tex)))\n",
       "(/opt/texlive/2017/texmf-dist/tex/generic/pgf/math/pgfmathfloat.code.tex\n",
       "\\c@pgfmathroundto@lastzeros=\\count98\n",
       "))\n",
       "(/opt/texlive/2017/texmf-dist/tex/generic/pgf/basiclayer/pgfcorepoints.code.tex\n",
       "File: pgfcorepoints.code.tex 2013/10/07  (rcs-revision 1.27)\n",
       "\\pgf@picminx=\\dimen116\n",
       "\\pgf@picmaxx=\\dimen117\n",
       "\\pgf@picminy=\\dimen118\n",
       "\\pgf@picmaxy=\\dimen119\n",
       "\\pgf@pathminx=\\dimen120\n",
       "\\pgf@pathmaxx=\\dimen121\n",
       "\\pgf@pathminy=\\dimen122\n",
       "\\pgf@pathmaxy=\\dimen123\n",
       "\\pgf@xx=\\dimen124\n",
       "\\pgf@xy=\\dimen125\n",
       "\\pgf@yx=\\dimen126\n",
       "\\pgf@yy=\\dimen127\n",
       "\\pgf@zx=\\dimen128\n",
       "\\pgf@zy=\\dimen129\n",
       ")\n",
       "(/opt/texlive/2017/texmf-dist/tex/generic/pgf/basiclayer/pgfcorepathconstruct.c\n",
       "ode.tex\n",
       "File: pgfcorepathconstruct.code.tex 2013/10/07  (rcs-revision 1.29)\n",
       "\\pgf@path@lastx=\\dimen130\n",
       "\\pgf@path@lasty=\\dimen131\n",
       ")\n",
       "(/opt/texlive/2017/texmf-dist/tex/generic/pgf/basiclayer/pgfcorepathusage.code.\n",
       "tex\n",
       "File: pgfcorepathusage.code.tex 2014/11/02  (rcs-revision 1.24)\n",
       "\\pgf@shorten@end@additional=\\dimen132\n",
       "\\pgf@shorten@start@additional=\\dimen133\n",
       ")\n",
       "(/opt/texlive/2017/texmf-dist/tex/generic/pgf/basiclayer/pgfcorescopes.code.tex\n",
       "File: pgfcorescopes.code.tex 2015/05/08  (rcs-revision 1.46)\n",
       "\\pgfpic=\\box29\n",
       "\\pgf@hbox=\\box30\n",
       "\\pgf@layerbox@main=\\box31\n",
       "\\pgf@picture@serial@count=\\count99\n",
       ")\n",
       "(/opt/texlive/2017/texmf-dist/tex/generic/pgf/basiclayer/pgfcoregraphicstate.co\n",
       "de.tex\n",
       "File: pgfcoregraphicstate.code.tex 2014/11/02  (rcs-revision 1.12)\n",
       "\\pgflinewidth=\\dimen134\n",
       ")\n",
       "(/opt/texlive/2017/texmf-dist/tex/generic/pgf/basiclayer/pgfcoretransformations\n",
       ".code.tex\n",
       "File: pgfcoretransformations.code.tex 2015/08/07  (rcs-revision 1.20)\n",
       "\\pgf@pt@x=\\dimen135\n",
       "\\pgf@pt@y=\\dimen136\n",
       "\\pgf@pt@temp=\\dimen137\n",
       ")\n",
       "(/opt/texlive/2017/texmf-dist/tex/generic/pgf/basiclayer/pgfcorequick.code.tex\n",
       "File: pgfcorequick.code.tex 2008/10/09  (rcs-revision 1.3)\n",
       ")\n",
       "(/opt/texlive/2017/texmf-dist/tex/generic/pgf/basiclayer/pgfcoreobjects.code.te\n",
       "x\n",
       "File: pgfcoreobjects.code.tex 2006/10/11  (rcs-revision 1.2)\n",
       ")\n",
       "(/opt/texlive/2017/texmf-dist/tex/generic/pgf/basiclayer/pgfcorepathprocessing.\n",
       "code.tex\n",
       "File: pgfcorepathprocessing.code.tex 2013/09/09  (rcs-revision 1.9)\n",
       ")\n",
       "(/opt/texlive/2017/texmf-dist/tex/generic/pgf/basiclayer/pgfcorearrows.code.tex\n",
       "File: pgfcorearrows.code.tex 2015/05/14  (rcs-revision 1.43)\n",
       "\\pgfarrowsep=\\dimen138\n",
       ")\n",
       "(/opt/texlive/2017/texmf-dist/tex/generic/pgf/basiclayer/pgfcoreshade.code.tex\n",
       "File: pgfcoreshade.code.tex 2013/07/15  (rcs-revision 1.15)\n",
       "\\pgf@max=\\dimen139\n",
       "\\pgf@sys@shading@range@num=\\count100\n",
       ") (/opt/texlive/2017/texmf-dist/tex/generic/pgf/basiclayer/pgfcoreimage.code.te\n",
       "x\n",
       "File: pgfcoreimage.code.tex 2013/07/15  (rcs-revision 1.18)\n",
       "\n",
       "(/opt/texlive/2017/texmf-dist/tex/generic/pgf/basiclayer/pgfcoreexternal.code.t\n",
       "ex\n",
       "File: pgfcoreexternal.code.tex 2014/07/09  (rcs-revision 1.21)\n",
       "\\pgfexternal@startupbox=\\box32\n",
       "))\n",
       "(/opt/texlive/2017/texmf-dist/tex/generic/pgf/basiclayer/pgfcorelayers.code.tex\n",
       "File: pgfcorelayers.code.tex 2013/07/18  (rcs-revision 1.7)\n",
       ")\n",
       "(/opt/texlive/2017/texmf-dist/tex/generic/pgf/basiclayer/pgfcoretransparency.co\n",
       "de.tex\n",
       "File: pgfcoretransparency.code.tex 2013/09/30  (rcs-revision 1.5)\n",
       ")\n",
       "(/opt/texlive/2017/texmf-dist/tex/generic/pgf/basiclayer/pgfcorepatterns.code.t\n",
       "ex\n",
       "File: pgfcorepatterns.code.tex 2013/11/07  (rcs-revision 1.5)\n",
       ")))\n",
       "(/opt/texlive/2017/texmf-dist/tex/generic/pgf/modules/pgfmoduleshapes.code.tex\n",
       "File: pgfmoduleshapes.code.tex 2014/03/21  (rcs-revision 1.35)\n",
       "\\pgfnodeparttextbox=\\box33\n",
       ") (/opt/texlive/2017/texmf-dist/tex/generic/pgf/modules/pgfmoduleplot.code.tex\n",
       "File: pgfmoduleplot.code.tex 2015/08/03  (rcs-revision 1.13)\n",
       ")\n",
       "(/opt/texlive/2017/texmf-dist/tex/latex/pgf/compatibility/pgfcomp-version-0-65.\n",
       "sty\n",
       "Package: pgfcomp-version-0-65 2007/07/03 v3.0.1a (rcs-revision 1.7)\n",
       "\\pgf@nodesepstart=\\dimen140\n",
       "\\pgf@nodesepend=\\dimen141\n",
       ")\n",
       "(/opt/texlive/2017/texmf-dist/tex/latex/pgf/compatibility/pgfcomp-version-1-18.\n",
       "sty\n",
       "Package: pgfcomp-version-1-18 2007/07/23 v3.0.1a (rcs-revision 1.1)\n",
       ")) (/opt/texlive/2017/texmf-dist/tex/latex/pgf/utilities/pgffor.sty\n",
       "(/opt/texlive/2017/texmf-dist/tex/latex/pgf/utilities/pgfkeys.sty\n",
       "(/opt/texlive/2017/texmf-dist/tex/generic/pgf/utilities/pgfkeys.code.tex))\n",
       "(/opt/texlive/2017/texmf-dist/tex/latex/pgf/math/pgfmath.sty\n",
       "(/opt/texlive/2017/texmf-dist/tex/generic/pgf/math/pgfmath.code.tex))\n",
       "(/opt/texlive/2017/texmf-dist/tex/generic/pgf/utilities/pgffor.code.tex\n",
       "Package: pgffor 2013/12/13 v3.0.1a (rcs-revision 1.25)\n",
       "\n",
       "(/opt/texlive/2017/texmf-dist/tex/generic/pgf/math/pgfmath.code.tex)\n",
       "\\pgffor@iter=\\dimen142\n",
       "\\pgffor@skip=\\dimen143\n",
       "\\pgffor@stack=\\toks26\n",
       "\\pgffor@toks=\\toks27\n",
       "))\n",
       "(/opt/texlive/2017/texmf-dist/tex/generic/pgf/frontendlayer/tikz/tikz.code.tex\n",
       "Package: tikz 2015/08/07 v3.0.1a (rcs-revision 1.151)\n",
       "\n",
       "(/opt/texlive/2017/texmf-dist/tex/generic/pgf/libraries/pgflibraryplothandlers.\n",
       "code.tex\n",
       "File: pgflibraryplothandlers.code.tex 2013/08/31 v3.0.1a (rcs-revision 1.20)\n",
       "\\pgf@plot@mark@count=\\count101\n",
       "\\pgfplotmarksize=\\dimen144\n",
       ")\n",
       "\\tikz@lastx=\\dimen145\n",
       "\\tikz@lasty=\\dimen146\n",
       "\\tikz@lastxsaved=\\dimen147\n",
       "\\tikz@lastysaved=\\dimen148\n",
       "\\tikzleveldistance=\\dimen149\n",
       "\\tikzsiblingdistance=\\dimen150\n",
       "\\tikz@figbox=\\box34\n",
       "\\tikz@figbox@bg=\\box35\n",
       "\\tikz@tempbox=\\box36\n",
       "\\tikz@tempbox@bg=\\box37\n",
       "\\tikztreelevel=\\count102\n",
       "\\tikznumberofchildren=\\count103\n",
       "\\tikznumberofcurrentchild=\\count104\n",
       "\\tikz@fig@count=\\count105\n",
       "\n",
       "(/opt/texlive/2017/texmf-dist/tex/generic/pgf/modules/pgfmodulematrix.code.tex\n",
       "File: pgfmodulematrix.code.tex 2013/09/17  (rcs-revision 1.8)\n",
       "\\pgfmatrixcurrentrow=\\count106\n",
       "\\pgfmatrixcurrentcolumn=\\count107\n",
       "\\pgf@matrix@numberofcolumns=\\count108\n",
       ")\n",
       "\\tikz@expandcount=\\count109\n",
       "\n",
       "(/opt/texlive/2017/texmf-dist/tex/generic/pgf/frontendlayer/tikz/libraries/tikz\n",
       "librarytopaths.code.tex\n",
       "File: tikzlibrarytopaths.code.tex 2008/06/17 v3.0.1a (rcs-revision 1.2)\n",
       "))) (./tikz.aux)\n",
       "\\openout1 = `tikz.aux'.\n",
       "\n",
       "LaTeX Font Info:    Checking defaults for OML/cmm/m/it on input line 11.\n",
       "LaTeX Font Info:    ... okay on input line 11.\n",
       "LaTeX Font Info:    Checking defaults for T1/cmr/m/n on input line 11.\n",
       "LaTeX Font Info:    ... okay on input line 11.\n",
       "LaTeX Font Info:    Checking defaults for OT1/cmr/m/n on input line 11.\n",
       "LaTeX Font Info:    ... okay on input line 11.\n",
       "LaTeX Font Info:    Checking defaults for OMS/cmsy/m/n on input line 11.\n",
       "LaTeX Font Info:    ... okay on input line 11.\n",
       "LaTeX Font Info:    Checking defaults for OMX/cmex/m/n on input line 11.\n",
       "LaTeX Font Info:    ... okay on input line 11.\n",
       "LaTeX Font Info:    Checking defaults for U/cmr/m/n on input line 11.\n",
       "LaTeX Font Info:    ... okay on input line 11.\n",
       " ABD: EveryShipout initializing macros\n",
       "(/opt/texlive/2017/texmf-dist/tex/context/base/mkii/supp-pdf.mkii\n",
       "[Loading MPS to PDF converter (version 2006.09.02).]\n",
       "\\scratchcounter=\\count110\n",
       "\\scratchdimen=\\dimen151\n",
       "\\scratchbox=\\box38\n",
       "\\nofMPsegments=\\count111\n",
       "\\nofMParguments=\\count112\n",
       "\\everyMPshowfont=\\toks28\n",
       "\\MPscratchCnt=\\count113\n",
       "\\MPscratchDim=\\dimen152\n",
       "\\MPnumerator=\\count114\n",
       "\\makeMPintoPDFobject=\\count115\n",
       "\\everyMPtoPDFconversion=\\toks29\n",
       ") (/opt/texlive/2017/texmf-dist/tex/generic/oberdiek/pdftexcmds.sty\n",
       "Package: pdftexcmds 2017/03/19 v0.25 Utility functions of pdfTeX for LuaTeX (HO\n",
       ")\n",
       "Package pdftexcmds Info: LuaTeX not detected.\n",
       "Package pdftexcmds Info: \\pdf@primitive is available.\n",
       "Package pdftexcmds Info: \\pdf@ifprimitive is available.\n",
       "Package pdftexcmds Info: \\pdfdraftmode found.\n",
       ")\n",
       "(/opt/texlive/2017/texmf-dist/tex/latex/oberdiek/epstopdf-base.sty\n",
       "Package: epstopdf-base 2016/05/15 v2.6 Base part for package epstopdf\n",
       "\n",
       "(/opt/texlive/2017/texmf-dist/tex/latex/oberdiek/grfext.sty\n",
       "Package: grfext 2016/05/16 v1.2 Manage graphics extensions (HO)\n",
       "\n",
       "(/opt/texlive/2017/texmf-dist/tex/generic/oberdiek/kvdefinekeys.sty\n",
       "Package: kvdefinekeys 2016/05/16 v1.4 Define keys (HO)\n",
       "))\n",
       "(/opt/texlive/2017/texmf-dist/tex/latex/oberdiek/kvoptions.sty\n",
       "Package: kvoptions 2016/05/16 v3.12 Key value format for package options (HO)\n",
       "\n",
       "(/opt/texlive/2017/texmf-dist/tex/generic/oberdiek/kvsetkeys.sty\n",
       "Package: kvsetkeys 2016/05/16 v1.17 Key value parser (HO)\n",
       "\n",
       "(/opt/texlive/2017/texmf-dist/tex/generic/oberdiek/etexcmds.sty\n",
       "Package: etexcmds 2016/05/16 v1.6 Avoid name clashes with e-TeX commands (HO)\n",
       "Package etexcmds Info: Could not find \\expanded.\n",
       "(etexcmds)             That can mean that you are not using pdfTeX 1.50 or\n",
       "(etexcmds)             that some package has redefined \\expanded.\n",
       "(etexcmds)             In the latter case, load this package earlier.\n",
       ")))\n",
       "Package epstopdf-base Info: Redefining graphics rule for `.eps' on input line 4\n",
       "38.\n",
       "Package grfext Info: Graphics extension search list:\n",
       "(grfext)             [.png,.pdf,.jpg,.mps,.jpeg,.jbig2,.jb2,.PNG,.PDF,.JPG,.JPE\n",
       "G,.JBIG2,.JB2,.eps]\n",
       "(grfext)             \\AppendGraphicsExtensions on input line 456.\n",
       "\n",
       "(/opt/texlive/2017/texmf-dist/tex/latex/latexconfig/epstopdf-sys.cfg\n",
       "File: epstopdf-sys.cfg 2010/07/13 v1.3 Configuration of (r)epstopdf for TeX Liv\n",
       "e\n",
       "))\n",
       "\n",
       "! LaTeX Error: Environment deptext undefined.\n",
       "\n",
       "See the LaTeX manual or LaTeX Companion for explanation.\n",
       "Type  H <return>  for immediate help.\n",
       " ...                                              \n",
       "                                                  \n",
       "l.15   \\begin{deptext}\n",
       "                      [column sep=10pt]\n",
       "? \n",
       "! Emergency stop.\n",
       " ...                                              \n",
       "                                                  \n",
       "l.15   \\begin{deptext}\n",
       "                      [column sep=10pt]\n",
       "Your command was ignored.\n",
       "Type  I <command> <return>  to replace it with another command,\n",
       "or  <return>  to continue without it.\n",
       "\n",
       " \n",
       "Here is how much of TeX's memory you used:\n",
       " 11752 strings out of 492995\n",
       " 238954 string characters out of 6101534\n",
       " 271532 words of memory out of 5000000\n",
       " 15097 multiletter control sequences out of 15000+600000\n",
       " 3640 words of font info for 14 fonts, out of 8000000 for 9000\n",
       " 1141 hyphenation exceptions out of 8191\n",
       " 55i,2n,56p,385b,220s stack positions out of 5000i,500n,10000p,200000b,80000s\n",
       "!  ==> Fatal error occurred, no output PDF file produced!\n"
      ]
     },
     "metadata": {},
     "output_type": "display_data"
    }
   ],
   "source": [
    "%%tikz\n",
    "\n",
    "\n",
    "  \\begin{deptext}[column sep=10pt]\n",
    "    \\spred{pronoun\\_q} \\&     % node 1\n",
    "    \\spred{pron} \\&     % node 2\n",
    "    \\spred{\\_put\\_v\\_1} \\&     % node 3\n",
    "    \\spred{\\_a\\_q} \\&     % node 4\n",
    "    \\spred{\\_red\\_a\\_1} \\&     % node 5\n",
    "    \\spred{\\_block\\_n\\_of} \\&     % node 6\n",
    "    \\spred{\\_on\\_p} \\&     % node 7\n",
    "    \\spred{\\_a\\_q} \\&     % node 8\n",
    "    \\spred{\\_blue\\_a\\_1} \\&     % node 9\n",
    "    \\spred{\\_block\\_n\\_of} \\\\     % node 10\n",
    "  \\end{deptext}\n",
    "  \\deproot[root]{3}{\\srl{TOP}}\n",
    "  \\depedge[rstr]{1}{2}{\\srl{RSTR/H}}\n",
    "  \\depedge[arg]{3}{2}{\\srl{ARG1/NEQ}}\n",
    "  \\depedge[arg]{3}{6}{\\srl{ARG2/NEQ}}\n",
    "  \\depedge[arg]{3}{7}{\\srl{ARG3/H}}\n",
    "  \\depedge[rstr]{4}{6}{\\srl{RSTR/H}}\n",
    "  \\depedge[eq]{5}{6}{\\srl{ARG1/EQ}}\n",
    "  \\depedge[arg]{7}{6}{\\srl{ARG1/NEQ}}\n",
    "  \\depedge[arg]{7}{10}{\\srl{ARG2/NEQ}}\n",
    "  \\depedge[rstr]{8}{10}{\\srl{RSTR/H}}\n",
    "  \\depedge[eq]{9}{10}{\\srl{ARG1/EQ}}\n",
    "%  \\depedge[icons]{f}{t}{FOCUS}\n",
    "\n"
   ]
  },
  {
   "cell_type": "code",
   "execution_count": 27,
   "metadata": {},
   "outputs": [
    {
     "ename": "SyntaxError",
     "evalue": "invalid syntax (<ipython-input-27-d60dd4f532a9>, line 12)",
     "output_type": "error",
     "traceback": [
      "\u001b[0;36m  File \u001b[0;32m\"<ipython-input-27-d60dd4f532a9>\"\u001b[0;36m, line \u001b[0;32m12\u001b[0m\n\u001b[0;31m    def parse_sentence2(sentence, grammar = '../ace-0.9.26/erg-1214-x86-64-0.9.26.dat')\u001b[0m\n\u001b[0m                                                                                       ^\u001b[0m\n\u001b[0;31mSyntaxError\u001b[0m\u001b[0;31m:\u001b[0m invalid syntax\n"
     ]
    }
   ],
   "source": [
    "from delphin.interfaces import ace\n",
    "from delphin.mrs import convert\n",
    "def parse_sentence(sentence, \n",
    "                   grammar = '../ace-0.9.26/erg-1214-x86-64-0.9.26.dat'):\n",
    "    p = ace.parse(grammar, sentence)\n",
    "    top_result = p['RESULTS'][0]['MRS']\n",
    "    dmrx = convert(p['RESULTS'][0]['MRS'], 'simplemrs', 'dmrx')\n",
    "    dmrxx = loads(dmrx, single=True)\n",
    "    print(dmrs_tikz_dependency(dmrxx))\n",
    "    return\n",
    "    \n"
   ]
  },
  {
   "cell_type": "code",
   "execution_count": 98,
   "metadata": {},
   "outputs": [],
   "source": [
    "def parse_sentence2(sentence, grammar = '../ace-0.9.26/erg-1214-x86-64-0.9.26.dat'):\n",
    "    p = ace.parse(grammar, sentence)\n",
    "    top_result = p['RESULTS'][0]['MRS']\n",
    "    dmrx = convert(p['RESULTS'][0]['MRS'], 'simplemrs', 'dmrx')\n",
    "    dmrxx = loads(dmrx, single=True)\n",
    "    return dmrxx.to_dict()"
   ]
  },
  {
   "cell_type": "code",
   "execution_count": 20,
   "metadata": {
    "collapsed": true
   },
   "outputs": [
    {
     "name": "stdout",
     "output_type": "stream",
     "text": [
      "\\documentclass{standalone}\n",
      "\n",
      "\\usepackage{tikz-dependency}\n",
      "\\usepackage{relsize}\n",
      "\n",
      "%%%\n",
      "%%% style for dmrs graph\n",
      "%%%\n",
      "\\depstyle{dmrs}{edge unit distance=1.5ex, \n",
      "  label style={above, scale=.9, opacity=0, text opacity=1},\n",
      "  baseline={([yshift=-0.7\\baselineskip]current bounding box.north)}}\n",
      "%%% set text opacity=0 to hide text, opacity = 0 to hide box\n",
      "\\depstyle{root}{edge unit distance=3ex, label style={opacity=1}}\n",
      "\\depstyle{arg}{edge above}\n",
      "\\depstyle{rstr}{edge below, dotted, label style={text opacity=1}}\n",
      "\\depstyle{eq}{edge below, label style={text opacity=1}}\n",
      "\\depstyle{icons}{edge below, dashed}\n",
      "\\providecommand{\\named}{}  \n",
      "\\renewcommand{\\named}{named}\n",
      "\n",
      "%%% styles for predicates and roles (from mrs.sty)\n",
      "\\providecommand{\\spred}{} \n",
      "\\renewcommand{\\spred}[1]{\\mbox{\\textsf{#1}}}\n",
      "\\providecommand{\\srl}{} \n",
      "\\renewcommand{\\srl}[1]{\\mbox{\\textsf{\\smaller #1}}}\n",
      "%%%\n",
      "\n",
      "\\begin{document}\n",
      "%%%\n",
      "%%% 1\n",
      "%%%\n",
      "\\begin{dependency}[dmrs]\n",
      "  \\begin{deptext}[column sep=10pt]\n",
      "    \\spred{pronoun\\_q} \\&     % node 1\n",
      "    \\spred{pron} \\&     % node 2\n",
      "    \\spred{neg} \\&     % node 3\n",
      "    \\spred{\\_put\\_v\\_1} \\&     % node 4\n",
      "    \\spred{udef\\_q} \\&     % node 5\n",
      "    \\spred{\\_red\\_a\\_1} \\&     % node 6\n",
      "    \\spred{\\_block\\_n\\_of} \\&     % node 7\n",
      "    \\spred{\\_on\\_p} \\&     % node 8\n",
      "    \\spred{udef\\_q} \\&     % node 9\n",
      "    \\spred{\\_blue\\_a\\_1} \\&     % node 10\n",
      "    \\spred{\\_block\\_n\\_of} \\\\     % node 11\n",
      "  \\end{deptext}\n",
      "  \\deproot[root]{3}{\\srl{TOP}}\n",
      "  \\depedge[rstr]{1}{2}{\\srl{RSTR/H}}\n",
      "  \\depedge[arg]{3}{4}{\\srl{ARG1/H}}\n",
      "  \\depedge[arg]{4}{2}{\\srl{ARG1/NEQ}}\n",
      "  \\depedge[arg]{4}{7}{\\srl{ARG2/NEQ}}\n",
      "  \\depedge[arg]{4}{8}{\\srl{ARG3/H}}\n",
      "  \\depedge[rstr]{5}{7}{\\srl{RSTR/H}}\n",
      "  \\depedge[eq]{6}{7}{\\srl{ARG1/EQ}}\n",
      "  \\depedge[arg]{8}{7}{\\srl{ARG1/NEQ}}\n",
      "  \\depedge[arg]{8}{11}{\\srl{ARG2/NEQ}}\n",
      "  \\depedge[rstr]{9}{11}{\\srl{RSTR/H}}\n",
      "  \\depedge[eq]{10}{11}{\\srl{ARG1/EQ}}\n",
      "%  \\depedge[icons]{f}{t}{FOCUS}\n",
      "\\end{dependency}\n",
      "\n",
      "\\end{document}\n"
     ]
    }
   ],
   "source": [
    "parse_sentence('don\\'t put red blocks on blue blocks')"
   ]
  },
  {
   "cell_type": "code",
   "execution_count": 21,
   "metadata": {
    "collapsed": true
   },
   "outputs": [
    {
     "name": "stdout",
     "output_type": "stream",
     "text": [
      "\\documentclass{standalone}\n",
      "\n",
      "\\usepackage{tikz-dependency}\n",
      "\\usepackage{relsize}\n",
      "\n",
      "%%%\n",
      "%%% style for dmrs graph\n",
      "%%%\n",
      "\\depstyle{dmrs}{edge unit distance=1.5ex, \n",
      "  label style={above, scale=.9, opacity=0, text opacity=1},\n",
      "  baseline={([yshift=-0.7\\baselineskip]current bounding box.north)}}\n",
      "%%% set text opacity=0 to hide text, opacity = 0 to hide box\n",
      "\\depstyle{root}{edge unit distance=3ex, label style={opacity=1}}\n",
      "\\depstyle{arg}{edge above}\n",
      "\\depstyle{rstr}{edge below, dotted, label style={text opacity=1}}\n",
      "\\depstyle{eq}{edge below, label style={text opacity=1}}\n",
      "\\depstyle{icons}{edge below, dashed}\n",
      "\\providecommand{\\named}{}  \n",
      "\\renewcommand{\\named}{named}\n",
      "\n",
      "%%% styles for predicates and roles (from mrs.sty)\n",
      "\\providecommand{\\spred}{} \n",
      "\\renewcommand{\\spred}[1]{\\mbox{\\textsf{#1}}}\n",
      "\\providecommand{\\srl}{} \n",
      "\\renewcommand{\\srl}[1]{\\mbox{\\textsf{\\smaller #1}}}\n",
      "%%%\n",
      "\n",
      "\\begin{document}\n",
      "%%%\n",
      "%%% 1\n",
      "%%%\n",
      "\\begin{dependency}[dmrs]\n",
      "  \\begin{deptext}[column sep=10pt]\n",
      "    \\spred{\\_never\\_a\\_1} \\&     % node 1\n",
      "    \\spred{\\_put\\_v\\_1} \\&     % node 2\n",
      "    \\spred{udef\\_q} \\&     % node 3\n",
      "    \\spred{\\_red\\_a\\_1} \\&     % node 4\n",
      "    \\spred{\\_block\\_n\\_of} \\&     % node 5\n",
      "    \\spred{\\_on\\_p} \\&     % node 6\n",
      "    \\spred{udef\\_q} \\&     % node 7\n",
      "    \\spred{\\_blue\\_a\\_1} \\&     % node 8\n",
      "    \\spred{\\_block\\_n\\_of} \\\\     % node 9\n",
      "  \\end{deptext}\n",
      "  \\deproot[root]{1}{\\srl{TOP}}\n",
      "  \\depedge[arg]{1}{2}{\\srl{ARG1/H}}\n",
      "  \\depedge[arg]{2}{5}{\\srl{ARG2/NEQ}}\n",
      "  \\depedge[arg]{2}{6}{\\srl{ARG3/H}}\n",
      "  \\depedge[rstr]{3}{5}{\\srl{RSTR/H}}\n",
      "  \\depedge[eq]{4}{5}{\\srl{ARG1/EQ}}\n",
      "  \\depedge[arg]{6}{5}{\\srl{ARG1/NEQ}}\n",
      "  \\depedge[arg]{6}{9}{\\srl{ARG2/NEQ}}\n",
      "  \\depedge[rstr]{7}{9}{\\srl{RSTR/H}}\n",
      "  \\depedge[eq]{8}{9}{\\srl{ARG1/EQ}}\n",
      "%  \\depedge[icons]{f}{t}{FOCUS}\n",
      "\\end{dependency}\n",
      "\n",
      "\\end{document}\n"
     ]
    }
   ],
   "source": [
    "parse_sentence('never put red blocks on blue blocks')"
   ]
  },
  {
   "cell_type": "code",
   "execution_count": 22,
   "metadata": {
    "collapsed": true
   },
   "outputs": [
    {
     "name": "stdout",
     "output_type": "stream",
     "text": [
      "\\documentclass{standalone}\n",
      "\n",
      "\\usepackage{tikz-dependency}\n",
      "\\usepackage{relsize}\n",
      "\n",
      "%%%\n",
      "%%% style for dmrs graph\n",
      "%%%\n",
      "\\depstyle{dmrs}{edge unit distance=1.5ex, \n",
      "  label style={above, scale=.9, opacity=0, text opacity=1},\n",
      "  baseline={([yshift=-0.7\\baselineskip]current bounding box.north)}}\n",
      "%%% set text opacity=0 to hide text, opacity = 0 to hide box\n",
      "\\depstyle{root}{edge unit distance=3ex, label style={opacity=1}}\n",
      "\\depstyle{arg}{edge above}\n",
      "\\depstyle{rstr}{edge below, dotted, label style={text opacity=1}}\n",
      "\\depstyle{eq}{edge below, label style={text opacity=1}}\n",
      "\\depstyle{icons}{edge below, dashed}\n",
      "\\providecommand{\\named}{}  \n",
      "\\renewcommand{\\named}{named}\n",
      "\n",
      "%%% styles for predicates and roles (from mrs.sty)\n",
      "\\providecommand{\\spred}{} \n",
      "\\renewcommand{\\spred}[1]{\\mbox{\\textsf{#1}}}\n",
      "\\providecommand{\\srl}{} \n",
      "\\renewcommand{\\srl}[1]{\\mbox{\\textsf{\\smaller #1}}}\n",
      "%%%\n",
      "\n",
      "\\begin{document}\n",
      "%%%\n",
      "%%% 1\n",
      "%%%\n",
      "\\begin{dependency}[dmrs]\n",
      "  \\begin{deptext}[column sep=10pt]\n",
      "    \\spred{pron} \\&     % node 1\n",
      "    \\spred{pronoun\\_q} \\&     % node 2\n",
      "    \\spred{neg} \\&     % node 3\n",
      "    \\spred{\\_can\\_v\\_modal} \\&     % node 4\n",
      "    \\spred{\\_put\\_v\\_1} \\&     % node 5\n",
      "    \\spred{udef\\_q} \\&     % node 6\n",
      "    \\spred{\\_red\\_a\\_1} \\&     % node 7\n",
      "    \\spred{\\_block\\_n\\_of} \\&     % node 8\n",
      "    \\spred{\\_on\\_p} \\&     % node 9\n",
      "    \\spred{udef\\_q} \\&     % node 10\n",
      "    \\spred{\\_blue\\_a\\_1} \\&     % node 11\n",
      "    \\spred{\\_block\\_n\\_of} \\\\     % node 12\n",
      "  \\end{deptext}\n",
      "  \\deproot[root]{3}{\\srl{TOP}}\n",
      "  \\depedge[rstr]{2}{1}{\\srl{RSTR/H}}\n",
      "  \\depedge[arg]{3}{4}{\\srl{ARG1/H}}\n",
      "  \\depedge[arg]{4}{5}{\\srl{ARG1/H}}\n",
      "  \\depedge[arg]{5}{1}{\\srl{ARG1/NEQ}}\n",
      "  \\depedge[arg]{5}{8}{\\srl{ARG2/NEQ}}\n",
      "  \\depedge[arg]{5}{9}{\\srl{ARG3/H}}\n",
      "  \\depedge[rstr]{6}{8}{\\srl{RSTR/H}}\n",
      "  \\depedge[eq]{7}{8}{\\srl{ARG1/EQ}}\n",
      "  \\depedge[arg]{9}{8}{\\srl{ARG1/NEQ}}\n",
      "  \\depedge[arg]{9}{12}{\\srl{ARG2/NEQ}}\n",
      "  \\depedge[rstr]{10}{12}{\\srl{RSTR/H}}\n",
      "  \\depedge[eq]{11}{12}{\\srl{ARG1/EQ}}\n",
      "%  \\depedge[icons]{f}{t}{FOCUS}\n",
      "\\end{dependency}\n",
      "\n",
      "\\end{document}\n"
     ]
    }
   ],
   "source": [
    "parse_sentence('you can\\'t put red blocks on blue blocks')"
   ]
  },
  {
   "cell_type": "code",
   "execution_count": 34,
   "metadata": {},
   "outputs": [],
   "source": [
    "a = parse_sentence2('put a red block on a blue block')"
   ]
  },
  {
   "cell_type": "code",
   "execution_count": 42,
   "metadata": {
    "collapsed": true
   },
   "outputs": [
    {
     "data": {
      "text/plain": [
       "['h0',\n",
       " 'h1',\n",
       " 'h2',\n",
       " 'h3',\n",
       " 'h4',\n",
       " 'h5',\n",
       " 'h6',\n",
       " 'h7',\n",
       " 'h8',\n",
       " 'x9',\n",
       " 'e10',\n",
       " 'e11',\n",
       " 'x12',\n",
       " 'e13',\n",
       " 'e14',\n",
       " 'x15',\n",
       " 'h16',\n",
       " 'h17',\n",
       " 'h18',\n",
       " 'h19']"
      ]
     },
     "execution_count": 42,
     "metadata": {},
     "output_type": "execute_result"
    }
   ],
   "source": [
    "a.variables()"
   ]
  },
  {
   "cell_type": "code",
   "execution_count": 69,
   "metadata": {},
   "outputs": [],
   "source": [
    "b = a.to_dict()"
   ]
  },
  {
   "cell_type": "code",
   "execution_count": 45,
   "metadata": {},
   "outputs": [],
   "source": [
    "p = ace.parse('../ace-0.9.26/erg-1214-x86-64-0.9.26.dat', 'put a blue block on a red block')"
   ]
  },
  {
   "cell_type": "code",
   "execution_count": 52,
   "metadata": {},
   "outputs": [
    {
     "data": {
      "text/plain": [
       "'[ LTOP: h0 INDEX: e2 [ e SF: comm TENSE: pres MOOD: indicative PROG: - PERF: - ] RELS: < [ pronoun_q<0:31> LBL: h4 ARG0: x3 [ x PERS: 2 PT: zero ] RSTR: h5 BODY: h6 ]  [ pron<0:31> LBL: h7 ARG0: x3 ]  [ _put_v_1<0:3> LBL: h1 ARG0: e2 ARG1: x3 ARG2: x8 [ x PERS: 3 NUM: sg IND: + ] ARG3: h9 ]  [ _a_q<4:5> LBL: h10 ARG0: x8 RSTR: h11 BODY: h12 ]  [ _blue_a_1<6:10> LBL: h13 ARG0: e14 [ e SF: prop TENSE: untensed MOOD: indicative PROG: - PERF: - ] ARG1: x8 ]  [ _block_n_of<11:16> LBL: h13 ARG0: x8 ARG1: i15 ]  [ _on_p<17:19> LBL: h16 ARG0: e17 [ e SF: prop TENSE: untensed MOOD: indicative PROG: - PERF: - ] ARG1: x8 ARG2: x18 [ x PERS: 3 NUM: sg IND: + ] ]  [ _a_q<20:21> LBL: h19 ARG0: x18 RSTR: h20 BODY: h21 ]  [ _red_a_1<22:25> LBL: h22 ARG0: e23 [ e SF: prop TENSE: untensed MOOD: indicative PROG: - PERF: - ] ARG1: x18 ]  [ _block_n_of<26:31> LBL: h22 ARG0: x18 ARG1: i24 ] > HCONS: < h0 qeq h1 h5 qeq h7 h9 qeq h16 h11 qeq h13 h20 qeq h22 > ]'"
      ]
     },
     "execution_count": 52,
     "metadata": {},
     "output_type": "execute_result"
    }
   ],
   "source": [
    "p['RESULTS'][0]['MRS']"
   ]
  },
  {
   "cell_type": "code",
   "execution_count": 72,
   "metadata": {
    "scrolled": true
   },
   "outputs": [
    {
     "data": {
      "text/plain": [
       "dict_keys(['nodes', 'links', 'lnk'])"
      ]
     },
     "execution_count": 72,
     "metadata": {},
     "output_type": "execute_result"
    }
   ],
   "source": [
    "b.keys()"
   ]
  },
  {
   "cell_type": "code",
   "execution_count": 76,
   "metadata": {
    "scrolled": true
   },
   "outputs": [
    {
     "data": {
      "text/plain": [
       "[{'lnk': {'from': 0, 'to': 31}, 'nodeid': 10000, 'predicate': 'pronoun_q'},\n",
       " {'lnk': {'from': 0, 'to': 31},\n",
       "  'nodeid': 10001,\n",
       "  'predicate': 'pron',\n",
       "  'sortinfo': {'cvarsort': 'x', 'pers': '2', 'pt': 'zero'}},\n",
       " {'lnk': {'from': 0, 'to': 3},\n",
       "  'nodeid': 10002,\n",
       "  'predicate': '_put_v_1',\n",
       "  'sortinfo': {'cvarsort': 'e',\n",
       "   'mood': 'indicative',\n",
       "   'perf': '-',\n",
       "   'prog': '-',\n",
       "   'sf': 'comm',\n",
       "   'tense': 'pres'}},\n",
       " {'lnk': {'from': 4, 'to': 5}, 'nodeid': 10003, 'predicate': '_a_q'},\n",
       " {'lnk': {'from': 6, 'to': 9},\n",
       "  'nodeid': 10004,\n",
       "  'predicate': '_red_a_1',\n",
       "  'sortinfo': {'cvarsort': 'e',\n",
       "   'mood': 'indicative',\n",
       "   'perf': '-',\n",
       "   'prog': '-',\n",
       "   'sf': 'prop',\n",
       "   'tense': 'untensed'}},\n",
       " {'lnk': {'from': 10, 'to': 15},\n",
       "  'nodeid': 10005,\n",
       "  'predicate': '_block_n_of',\n",
       "  'sortinfo': {'cvarsort': 'x', 'ind': '+', 'num': 'sg', 'pers': '3'}},\n",
       " {'lnk': {'from': 16, 'to': 18},\n",
       "  'nodeid': 10006,\n",
       "  'predicate': '_on_p',\n",
       "  'sortinfo': {'cvarsort': 'e',\n",
       "   'mood': 'indicative',\n",
       "   'perf': '-',\n",
       "   'prog': '-',\n",
       "   'sf': 'prop',\n",
       "   'tense': 'untensed'}},\n",
       " {'lnk': {'from': 19, 'to': 20}, 'nodeid': 10007, 'predicate': '_a_q'},\n",
       " {'lnk': {'from': 21, 'to': 25},\n",
       "  'nodeid': 10008,\n",
       "  'predicate': '_blue_a_1',\n",
       "  'sortinfo': {'cvarsort': 'e',\n",
       "   'mood': 'indicative',\n",
       "   'perf': '-',\n",
       "   'prog': '-',\n",
       "   'sf': 'prop',\n",
       "   'tense': 'untensed'}},\n",
       " {'lnk': {'from': 26, 'to': 31},\n",
       "  'nodeid': 10009,\n",
       "  'predicate': '_block_n_of',\n",
       "  'sortinfo': {'cvarsort': 'x', 'ind': '+', 'num': 'sg', 'pers': '3'}}]"
      ]
     },
     "execution_count": 76,
     "metadata": {},
     "output_type": "execute_result"
    }
   ],
   "source": [
    "b['nodes']"
   ]
  },
  {
   "cell_type": "code",
   "execution_count": 81,
   "metadata": {},
   "outputs": [
    {
     "data": {
      "text/plain": [
       "10002"
      ]
     },
     "execution_count": 81,
     "metadata": {},
     "output_type": "execute_result"
    }
   ],
   "source": [
    "b['links'][0]['to']"
   ]
  },
  {
   "cell_type": "code",
   "execution_count": 82,
   "metadata": {
    "collapsed": true
   },
   "outputs": [
    {
     "data": {
      "text/plain": [
       "[{'from': 0, 'post': 'H', 'rargname': None, 'to': 10002},\n",
       " {'from': 10000, 'post': 'H', 'rargname': 'RSTR', 'to': 10001},\n",
       " {'from': 10002, 'post': 'NEQ', 'rargname': 'ARG1', 'to': 10001},\n",
       " {'from': 10002, 'post': 'NEQ', 'rargname': 'ARG2', 'to': 10005},\n",
       " {'from': 10002, 'post': 'H', 'rargname': 'ARG3', 'to': 10006},\n",
       " {'from': 10003, 'post': 'H', 'rargname': 'RSTR', 'to': 10005},\n",
       " {'from': 10004, 'post': 'EQ', 'rargname': 'ARG1', 'to': 10005},\n",
       " {'from': 10006, 'post': 'NEQ', 'rargname': 'ARG1', 'to': 10005},\n",
       " {'from': 10006, 'post': 'NEQ', 'rargname': 'ARG2', 'to': 10009},\n",
       " {'from': 10007, 'post': 'H', 'rargname': 'RSTR', 'to': 10009},\n",
       " {'from': 10008, 'post': 'EQ', 'rargname': 'ARG1', 'to': 10009}]"
      ]
     },
     "execution_count": 82,
     "metadata": {},
     "output_type": "execute_result"
    }
   ],
   "source": [
    "b['links']"
   ]
  },
  {
   "cell_type": "code",
   "execution_count": 91,
   "metadata": {},
   "outputs": [],
   "source": [
    "from collections import defaultdict\n",
    "\n",
    "def make_links(links):\n",
    "    d = defaultdict(dict)\n",
    "    for link in links:\n",
    "        d[link['from']][link['rargname']] = link['to']\n",
    "    return d\n"
   ]
  },
  {
   "cell_type": "code",
   "execution_count": 92,
   "metadata": {},
   "outputs": [],
   "source": [
    "links = make_links(b['links'])\n",
    "nodes = b['nodes']"
   ]
  },
  {
   "cell_type": "code",
   "execution_count": 95,
   "metadata": {},
   "outputs": [
    {
     "data": {
      "text/plain": [
       "defaultdict(dict,\n",
       "            {0: {None: 10002},\n",
       "             10000: {'RSTR': 10001},\n",
       "             10002: {'ARG1': 10001, 'ARG2': 10005, 'ARG3': 10006},\n",
       "             10003: {'RSTR': 10005},\n",
       "             10004: {'ARG1': 10005},\n",
       "             10006: {'ARG1': 10005, 'ARG2': 10009},\n",
       "             10007: {'RSTR': 10009},\n",
       "             10008: {'ARG1': 10009}})"
      ]
     },
     "execution_count": 95,
     "metadata": {},
     "output_type": "execute_result"
    }
   ],
   "source": [
    "links"
   ]
  },
  {
   "cell_type": "code",
   "execution_count": 87,
   "metadata": {},
   "outputs": [],
   "source": [
    "def get_node(node, nodes):\n",
    "    for n in nodes:\n",
    "        if n['nodeid'] == node:\n",
    "            return n\n",
    "    else:\n",
    "        return None"
   ]
  },
  {
   "cell_type": "code",
   "execution_count": 88,
   "metadata": {},
   "outputs": [
    {
     "data": {
      "text/plain": [
       "{'lnk': {'from': 0, 'to': 3},\n",
       " 'nodeid': 10002,\n",
       " 'predicate': '_put_v_1',\n",
       " 'sortinfo': {'cvarsort': 'e',\n",
       "  'mood': 'indicative',\n",
       "  'perf': '-',\n",
       "  'prog': '-',\n",
       "  'sf': 'comm',\n",
       "  'tense': 'pres'}}"
      ]
     },
     "execution_count": 88,
     "metadata": {},
     "output_type": "execute_result"
    }
   ],
   "source": [
    "get_node(10002, nodes)"
   ]
  },
  {
   "cell_type": "code",
   "execution_count": 90,
   "metadata": {},
   "outputs": [
    {
     "data": {
      "text/plain": [
       "[{'from': 0, 'post': 'H', 'rargname': None, 'to': 10002},\n",
       " {'from': 10000, 'post': 'H', 'rargname': 'RSTR', 'to': 10001},\n",
       " {'from': 10002, 'post': 'NEQ', 'rargname': 'ARG1', 'to': 10001},\n",
       " {'from': 10002, 'post': 'NEQ', 'rargname': 'ARG2', 'to': 10005},\n",
       " {'from': 10002, 'post': 'H', 'rargname': 'ARG3', 'to': 10006},\n",
       " {'from': 10003, 'post': 'H', 'rargname': 'RSTR', 'to': 10005},\n",
       " {'from': 10004, 'post': 'EQ', 'rargname': 'ARG1', 'to': 10005},\n",
       " {'from': 10006, 'post': 'NEQ', 'rargname': 'ARG1', 'to': 10005},\n",
       " {'from': 10006, 'post': 'NEQ', 'rargname': 'ARG2', 'to': 10009},\n",
       " {'from': 10007, 'post': 'H', 'rargname': 'RSTR', 'to': 10009},\n",
       " {'from': 10008, 'post': 'EQ', 'rargname': 'ARG1', 'to': 10009}]"
      ]
     },
     "execution_count": 90,
     "metadata": {},
     "output_type": "execute_result"
    }
   ],
   "source": [
    "b['links']"
   ]
  },
  {
   "cell_type": "code",
   "execution_count": 97,
   "metadata": {},
   "outputs": [
    {
     "data": {
      "text/plain": [
       "{'lnk': {'from': 16, 'to': 18},\n",
       " 'nodeid': 10006,\n",
       " 'predicate': '_on_p',\n",
       " 'sortinfo': {'cvarsort': 'e',\n",
       "  'mood': 'indicative',\n",
       "  'perf': '-',\n",
       "  'prog': '-',\n",
       "  'sf': 'prop',\n",
       "  'tense': 'untensed'}}"
      ]
     },
     "execution_count": 97,
     "metadata": {},
     "output_type": "execute_result"
    }
   ],
   "source": [
    "get_node(links[10002]['ARG3'], nodes)"
   ]
  },
  {
   "cell_type": "code",
   "execution_count": 99,
   "metadata": {},
   "outputs": [],
   "source": [
    "p2 = parse_sentence2('don\\'t put red blocks on blue blocks')"
   ]
  },
  {
   "cell_type": "code",
   "execution_count": 102,
   "metadata": {},
   "outputs": [],
   "source": [
    "def full_parse(sentence):\n",
    "    p = parse_sentence2(sentence)\n",
    "    links = make_links(p['links'])\n",
    "    nodes = p['nodes']\n",
    "    return links, nodes\n"
   ]
  },
  {
   "cell_type": "code",
   "execution_count": 105,
   "metadata": {},
   "outputs": [
    {
     "ename": "KeyboardInterrupt",
     "evalue": "",
     "output_type": "error",
     "traceback": [
      "\u001b[0;31m---------------------------------------------------------------------------\u001b[0m",
      "\u001b[0;31mKeyboardInterrupt\u001b[0m                         Traceback (most recent call last)",
      "\u001b[0;32m<ipython-input-105-b23f30be8615>\u001b[0m in \u001b[0;36m<module>\u001b[0;34m()\u001b[0m\n\u001b[0;32m----> 1\u001b[0;31m \u001b[0ml\u001b[0m\u001b[0;34m,\u001b[0m \u001b[0mn\u001b[0m \u001b[0;34m=\u001b[0m \u001b[0mfull_parse\u001b[0m\u001b[0;34m(\u001b[0m\u001b[0;34m'don\\' put red blocks on blue blocks'\u001b[0m\u001b[0;34m)\u001b[0m\u001b[0;34m\u001b[0m\u001b[0m\n\u001b[0m",
      "\u001b[0;32m<ipython-input-102-f1bd96a0fb3e>\u001b[0m in \u001b[0;36mfull_parse\u001b[0;34m(sentence)\u001b[0m\n\u001b[1;32m      1\u001b[0m \u001b[0;32mdef\u001b[0m \u001b[0mfull_parse\u001b[0m\u001b[0;34m(\u001b[0m\u001b[0msentence\u001b[0m\u001b[0;34m)\u001b[0m\u001b[0;34m:\u001b[0m\u001b[0;34m\u001b[0m\u001b[0m\n\u001b[0;32m----> 2\u001b[0;31m     \u001b[0mp\u001b[0m \u001b[0;34m=\u001b[0m \u001b[0mparse_sentence2\u001b[0m\u001b[0;34m(\u001b[0m\u001b[0msentence\u001b[0m\u001b[0;34m)\u001b[0m\u001b[0;34m\u001b[0m\u001b[0m\n\u001b[0m\u001b[1;32m      3\u001b[0m     \u001b[0mlinks\u001b[0m \u001b[0;34m=\u001b[0m \u001b[0mmake_links\u001b[0m\u001b[0;34m(\u001b[0m\u001b[0mp\u001b[0m\u001b[0;34m[\u001b[0m\u001b[0;34m'links'\u001b[0m\u001b[0;34m]\u001b[0m\u001b[0;34m)\u001b[0m\u001b[0;34m\u001b[0m\u001b[0m\n\u001b[1;32m      4\u001b[0m     \u001b[0mnodes\u001b[0m \u001b[0;34m=\u001b[0m \u001b[0mp\u001b[0m\u001b[0;34m[\u001b[0m\u001b[0;34m'nodes'\u001b[0m\u001b[0;34m]\u001b[0m\u001b[0;34m\u001b[0m\u001b[0m\n\u001b[1;32m      5\u001b[0m     \u001b[0;32mreturn\u001b[0m \u001b[0mlinks\u001b[0m\u001b[0;34m,\u001b[0m \u001b[0mnodes\u001b[0m\u001b[0;34m\u001b[0m\u001b[0m\n",
      "\u001b[0;32m<ipython-input-98-31572a23d89e>\u001b[0m in \u001b[0;36mparse_sentence2\u001b[0;34m(sentence, grammar)\u001b[0m\n\u001b[1;32m      1\u001b[0m \u001b[0;32mdef\u001b[0m \u001b[0mparse_sentence2\u001b[0m\u001b[0;34m(\u001b[0m\u001b[0msentence\u001b[0m\u001b[0;34m,\u001b[0m \u001b[0mgrammar\u001b[0m \u001b[0;34m=\u001b[0m \u001b[0;34m'../ace-0.9.26/erg-1214-x86-64-0.9.26.dat'\u001b[0m\u001b[0;34m)\u001b[0m\u001b[0;34m:\u001b[0m\u001b[0;34m\u001b[0m\u001b[0m\n\u001b[0;32m----> 2\u001b[0;31m     \u001b[0mp\u001b[0m \u001b[0;34m=\u001b[0m \u001b[0mace\u001b[0m\u001b[0;34m.\u001b[0m\u001b[0mparse\u001b[0m\u001b[0;34m(\u001b[0m\u001b[0mgrammar\u001b[0m\u001b[0;34m,\u001b[0m \u001b[0msentence\u001b[0m\u001b[0;34m)\u001b[0m\u001b[0;34m\u001b[0m\u001b[0m\n\u001b[0m\u001b[1;32m      3\u001b[0m     \u001b[0mtop_result\u001b[0m \u001b[0;34m=\u001b[0m \u001b[0mp\u001b[0m\u001b[0;34m[\u001b[0m\u001b[0;34m'RESULTS'\u001b[0m\u001b[0;34m]\u001b[0m\u001b[0;34m[\u001b[0m\u001b[0;36m0\u001b[0m\u001b[0;34m]\u001b[0m\u001b[0;34m[\u001b[0m\u001b[0;34m'MRS'\u001b[0m\u001b[0;34m]\u001b[0m\u001b[0;34m\u001b[0m\u001b[0m\n\u001b[1;32m      4\u001b[0m     \u001b[0mdmrx\u001b[0m \u001b[0;34m=\u001b[0m \u001b[0mconvert\u001b[0m\u001b[0;34m(\u001b[0m\u001b[0mp\u001b[0m\u001b[0;34m[\u001b[0m\u001b[0;34m'RESULTS'\u001b[0m\u001b[0;34m]\u001b[0m\u001b[0;34m[\u001b[0m\u001b[0;36m0\u001b[0m\u001b[0;34m]\u001b[0m\u001b[0;34m[\u001b[0m\u001b[0;34m'MRS'\u001b[0m\u001b[0;34m]\u001b[0m\u001b[0;34m,\u001b[0m \u001b[0;34m'simplemrs'\u001b[0m\u001b[0;34m,\u001b[0m \u001b[0;34m'dmrx'\u001b[0m\u001b[0;34m)\u001b[0m\u001b[0;34m\u001b[0m\u001b[0m\n\u001b[1;32m      5\u001b[0m     \u001b[0mdmrxx\u001b[0m \u001b[0;34m=\u001b[0m \u001b[0mloads\u001b[0m\u001b[0;34m(\u001b[0m\u001b[0mdmrx\u001b[0m\u001b[0;34m,\u001b[0m \u001b[0msingle\u001b[0m\u001b[0;34m=\u001b[0m\u001b[0;32mTrue\u001b[0m\u001b[0;34m)\u001b[0m\u001b[0;34m\u001b[0m\u001b[0m\n",
      "\u001b[0;32m~/miniconda3/lib/python3.6/site-packages/delphin/interfaces/ace.py\u001b[0m in \u001b[0;36mparse\u001b[0;34m(grm, datum, **kwargs)\u001b[0m\n\u001b[1;32m    393\u001b[0m         \u001b[0mkwargs\u001b[0m\u001b[0;34m:\u001b[0m \u001b[0madditional\u001b[0m \u001b[0mkeyword\u001b[0m \u001b[0marguments\u001b[0m \u001b[0mto\u001b[0m \u001b[0;32mpass\u001b[0m \u001b[0mto\u001b[0m \u001b[0mthe\u001b[0m \u001b[0mAceParser\u001b[0m\u001b[0;34m\u001b[0m\u001b[0m\n\u001b[1;32m    394\u001b[0m     \"\"\"\n\u001b[0;32m--> 395\u001b[0;31m     \u001b[0;32mreturn\u001b[0m \u001b[0mnext\u001b[0m\u001b[0;34m(\u001b[0m\u001b[0mparse_from_iterable\u001b[0m\u001b[0;34m(\u001b[0m\u001b[0mgrm\u001b[0m\u001b[0;34m,\u001b[0m \u001b[0;34m[\u001b[0m\u001b[0mdatum\u001b[0m\u001b[0;34m]\u001b[0m\u001b[0;34m,\u001b[0m \u001b[0;34m**\u001b[0m\u001b[0mkwargs\u001b[0m\u001b[0;34m)\u001b[0m\u001b[0;34m)\u001b[0m\u001b[0;34m\u001b[0m\u001b[0m\n\u001b[0m\u001b[1;32m    396\u001b[0m \u001b[0;34m\u001b[0m\u001b[0m\n\u001b[1;32m    397\u001b[0m \u001b[0;34m\u001b[0m\u001b[0m\n",
      "\u001b[0;32m~/miniconda3/lib/python3.6/site-packages/delphin/interfaces/ace.py\u001b[0m in \u001b[0;36mparse_from_iterable\u001b[0;34m(grm, data, **kwargs)\u001b[0m\n\u001b[1;32m    381\u001b[0m     \u001b[0;32mwith\u001b[0m \u001b[0mAceParser\u001b[0m\u001b[0;34m(\u001b[0m\u001b[0mgrm\u001b[0m\u001b[0;34m,\u001b[0m \u001b[0;34m**\u001b[0m\u001b[0mkwargs\u001b[0m\u001b[0;34m)\u001b[0m \u001b[0;32mas\u001b[0m \u001b[0mparser\u001b[0m\u001b[0;34m:\u001b[0m\u001b[0;34m\u001b[0m\u001b[0m\n\u001b[1;32m    382\u001b[0m         \u001b[0;32mfor\u001b[0m \u001b[0mdatum\u001b[0m \u001b[0;32min\u001b[0m \u001b[0mdata\u001b[0m\u001b[0;34m:\u001b[0m\u001b[0;34m\u001b[0m\u001b[0m\n\u001b[0;32m--> 383\u001b[0;31m             \u001b[0;32myield\u001b[0m \u001b[0mparser\u001b[0m\u001b[0;34m.\u001b[0m\u001b[0minteract\u001b[0m\u001b[0;34m(\u001b[0m\u001b[0mdatum\u001b[0m\u001b[0;34m)\u001b[0m\u001b[0;34m\u001b[0m\u001b[0m\n\u001b[0m\u001b[1;32m    384\u001b[0m \u001b[0;34m\u001b[0m\u001b[0m\n\u001b[1;32m    385\u001b[0m \u001b[0;34m\u001b[0m\u001b[0m\n",
      "\u001b[0;32m~/miniconda3/lib/python3.6/site-packages/delphin/interfaces/ace.py\u001b[0m in \u001b[0;36minteract\u001b[0;34m(self, datum)\u001b[0m\n\u001b[1;32m    240\u001b[0m         \"\"\"\n\u001b[1;32m    241\u001b[0m         \u001b[0mself\u001b[0m\u001b[0;34m.\u001b[0m\u001b[0msend\u001b[0m\u001b[0;34m(\u001b[0m\u001b[0mdatum\u001b[0m\u001b[0;34m)\u001b[0m\u001b[0;34m\u001b[0m\u001b[0m\n\u001b[0;32m--> 242\u001b[0;31m         \u001b[0mresult\u001b[0m \u001b[0;34m=\u001b[0m \u001b[0mself\u001b[0m\u001b[0;34m.\u001b[0m\u001b[0mreceive\u001b[0m\u001b[0;34m(\u001b[0m\u001b[0;34m)\u001b[0m\u001b[0;34m\u001b[0m\u001b[0m\n\u001b[0m\u001b[1;32m    243\u001b[0m         \u001b[0mresult\u001b[0m\u001b[0;34m[\u001b[0m\u001b[0;34m'INPUT'\u001b[0m\u001b[0;34m]\u001b[0m \u001b[0;34m=\u001b[0m \u001b[0mdatum\u001b[0m\u001b[0;34m\u001b[0m\u001b[0m\n\u001b[1;32m    244\u001b[0m         \u001b[0;32mreturn\u001b[0m \u001b[0mresult\u001b[0m\u001b[0;34m\u001b[0m\u001b[0m\n",
      "\u001b[0;32m~/miniconda3/lib/python3.6/site-packages/delphin/interfaces/ace.py\u001b[0m in \u001b[0;36m_tsdb_receive\u001b[0;34m(self)\u001b[0m\n\u001b[1;32m    232\u001b[0m         \u001b[0mresponse\u001b[0m\u001b[0;34m,\u001b[0m \u001b[0mlines\u001b[0m \u001b[0;34m=\u001b[0m \u001b[0m_make_response\u001b[0m\u001b[0;34m(\u001b[0m\u001b[0mlines\u001b[0m\u001b[0;34m)\u001b[0m\u001b[0;34m\u001b[0m\u001b[0m\n\u001b[1;32m    233\u001b[0m         \u001b[0mline\u001b[0m \u001b[0;34m=\u001b[0m \u001b[0;34m' '\u001b[0m\u001b[0;34m.\u001b[0m\u001b[0mjoin\u001b[0m\u001b[0;34m(\u001b[0m\u001b[0mlines\u001b[0m\u001b[0;34m)\u001b[0m  \u001b[0;31m# ACE 0.9.24 on Mac puts superfluous newlines\u001b[0m\u001b[0;34m\u001b[0m\u001b[0m\n\u001b[0;32m--> 234\u001b[0;31m         \u001b[0mresponse\u001b[0m \u001b[0;34m=\u001b[0m \u001b[0m_tsdb_response\u001b[0m\u001b[0;34m(\u001b[0m\u001b[0mresponse\u001b[0m\u001b[0;34m,\u001b[0m \u001b[0mline\u001b[0m\u001b[0;34m)\u001b[0m\u001b[0;34m\u001b[0m\u001b[0m\n\u001b[0m\u001b[1;32m    235\u001b[0m         \u001b[0;32mreturn\u001b[0m \u001b[0mresponse\u001b[0m\u001b[0;34m\u001b[0m\u001b[0m\n\u001b[1;32m    236\u001b[0m \u001b[0;34m\u001b[0m\u001b[0m\n",
      "\u001b[0;32m~/miniconda3/lib/python3.6/site-packages/delphin/interfaces/ace.py\u001b[0m in \u001b[0;36m_tsdb_response\u001b[0;34m(response, line)\u001b[0m\n\u001b[1;32m    490\u001b[0m \u001b[0;32mdef\u001b[0m \u001b[0m_tsdb_response\u001b[0m\u001b[0;34m(\u001b[0m\u001b[0mresponse\u001b[0m\u001b[0;34m,\u001b[0m \u001b[0mline\u001b[0m\u001b[0;34m)\u001b[0m\u001b[0;34m:\u001b[0m\u001b[0;34m\u001b[0m\u001b[0m\n\u001b[1;32m    491\u001b[0m     \u001b[0;32mwhile\u001b[0m \u001b[0mline\u001b[0m\u001b[0;34m:\u001b[0m\u001b[0;34m\u001b[0m\u001b[0m\n\u001b[0;32m--> 492\u001b[0;31m         \u001b[0mexpr\u001b[0m \u001b[0;34m=\u001b[0m \u001b[0mSExpr\u001b[0m\u001b[0;34m.\u001b[0m\u001b[0mparse\u001b[0m\u001b[0;34m(\u001b[0m\u001b[0mline\u001b[0m\u001b[0;34m)\u001b[0m\u001b[0;34m\u001b[0m\u001b[0m\n\u001b[0m\u001b[1;32m    493\u001b[0m         \u001b[0mline\u001b[0m \u001b[0;34m=\u001b[0m \u001b[0mexpr\u001b[0m\u001b[0;34m.\u001b[0m\u001b[0mremainder\u001b[0m\u001b[0;34m\u001b[0m\u001b[0m\n\u001b[1;32m    494\u001b[0m         \u001b[0;32mif\u001b[0m \u001b[0mlen\u001b[0m\u001b[0;34m(\u001b[0m\u001b[0mexpr\u001b[0m\u001b[0;34m.\u001b[0m\u001b[0mdata\u001b[0m\u001b[0;34m)\u001b[0m \u001b[0;34m!=\u001b[0m \u001b[0;36m2\u001b[0m\u001b[0;34m:\u001b[0m\u001b[0;34m\u001b[0m\u001b[0m\n",
      "\u001b[0;32m~/miniconda3/lib/python3.6/site-packages/delphin/lib/pegre.py\u001b[0m in \u001b[0;36mparse\u001b[0;34m(self, s, start)\u001b[0m\n\u001b[1;32m    297\u001b[0m     \u001b[0;32mdef\u001b[0m \u001b[0mparse\u001b[0m\u001b[0;34m(\u001b[0m\u001b[0mself\u001b[0m\u001b[0;34m,\u001b[0m \u001b[0ms\u001b[0m\u001b[0;34m,\u001b[0m \u001b[0mstart\u001b[0m\u001b[0;34m=\u001b[0m\u001b[0;32mNone\u001b[0m\u001b[0;34m)\u001b[0m\u001b[0;34m:\u001b[0m\u001b[0;34m\u001b[0m\u001b[0m\n\u001b[1;32m    298\u001b[0m         \u001b[0;32mif\u001b[0m \u001b[0mstart\u001b[0m \u001b[0;32mis\u001b[0m \u001b[0;32mNone\u001b[0m\u001b[0;34m:\u001b[0m \u001b[0mstart\u001b[0m \u001b[0;34m=\u001b[0m \u001b[0mself\u001b[0m\u001b[0;34m.\u001b[0m\u001b[0mstart\u001b[0m\u001b[0;34m\u001b[0m\u001b[0m\n\u001b[0;32m--> 299\u001b[0;31m         \u001b[0mresult\u001b[0m \u001b[0;34m=\u001b[0m \u001b[0mself\u001b[0m\u001b[0;34m.\u001b[0m\u001b[0mgrammar\u001b[0m\u001b[0;34m[\u001b[0m\u001b[0mstart\u001b[0m\u001b[0;34m]\u001b[0m\u001b[0;34m(\u001b[0m\u001b[0ms\u001b[0m\u001b[0;34m,\u001b[0m \u001b[0mself\u001b[0m\u001b[0;34m.\u001b[0m\u001b[0mgrammar\u001b[0m\u001b[0;34m,\u001b[0m \u001b[0;36m0\u001b[0m\u001b[0;34m)\u001b[0m\u001b[0;34m\u001b[0m\u001b[0m\n\u001b[0m\u001b[1;32m    300\u001b[0m         \u001b[0;32mreturn\u001b[0m \u001b[0mresult\u001b[0m\u001b[0;34m\u001b[0m\u001b[0m\n\u001b[1;32m    301\u001b[0m \u001b[0;34m\u001b[0m\u001b[0m\n",
      "\u001b[0;32m~/miniconda3/lib/python3.6/site-packages/delphin/lib/pegre.py\u001b[0m in \u001b[0;36mvalued_f\u001b[0;34m(*args, **kwargs)\u001b[0m\n\u001b[1;32m     83\u001b[0m             \u001b[0m_f\u001b[0m \u001b[0;34m=\u001b[0m \u001b[0mf\u001b[0m\u001b[0;34m(\u001b[0m\u001b[0;34m*\u001b[0m\u001b[0margs\u001b[0m\u001b[0;34m,\u001b[0m \u001b[0;34m**\u001b[0m\u001b[0mkwargs\u001b[0m\u001b[0;34m)\u001b[0m\u001b[0;34m\u001b[0m\u001b[0m\n\u001b[1;32m     84\u001b[0m             \u001b[0;32mdef\u001b[0m \u001b[0mvalued_f\u001b[0m\u001b[0;34m(\u001b[0m\u001b[0;34m*\u001b[0m\u001b[0margs\u001b[0m\u001b[0;34m,\u001b[0m \u001b[0;34m**\u001b[0m\u001b[0mkwargs\u001b[0m\u001b[0;34m)\u001b[0m\u001b[0;34m:\u001b[0m\u001b[0;34m\u001b[0m\u001b[0m\n\u001b[0;32m---> 85\u001b[0;31m                 \u001b[0mresult\u001b[0m \u001b[0;34m=\u001b[0m \u001b[0m_f\u001b[0m\u001b[0;34m(\u001b[0m\u001b[0;34m*\u001b[0m\u001b[0margs\u001b[0m\u001b[0;34m,\u001b[0m \u001b[0;34m**\u001b[0m\u001b[0mkwargs\u001b[0m\u001b[0;34m)\u001b[0m\u001b[0;34m\u001b[0m\u001b[0m\n\u001b[0m\u001b[1;32m     86\u001b[0m                 \u001b[0ms\u001b[0m\u001b[0;34m,\u001b[0m \u001b[0mobj\u001b[0m\u001b[0;34m,\u001b[0m \u001b[0mspan\u001b[0m \u001b[0;34m=\u001b[0m \u001b[0mresult\u001b[0m\u001b[0;34m\u001b[0m\u001b[0m\n\u001b[1;32m     87\u001b[0m                 \u001b[0;32mif\u001b[0m \u001b[0mcallable\u001b[0m\u001b[0;34m(\u001b[0m\u001b[0mval\u001b[0m\u001b[0;34m)\u001b[0m\u001b[0;34m:\u001b[0m\u001b[0;34m\u001b[0m\u001b[0m\n",
      "\u001b[0;32m~/miniconda3/lib/python3.6/site-packages/delphin/lib/pegre.py\u001b[0m in \u001b[0;36mmatch_sequence\u001b[0;34m(s, grm, pos)\u001b[0m\n\u001b[1;32m    174\u001b[0m         \u001b[0mstart\u001b[0m \u001b[0;34m=\u001b[0m \u001b[0mpos\u001b[0m\u001b[0;34m\u001b[0m\u001b[0m\n\u001b[1;32m    175\u001b[0m         \u001b[0;32mfor\u001b[0m \u001b[0me\u001b[0m \u001b[0;32min\u001b[0m \u001b[0mes\u001b[0m\u001b[0;34m:\u001b[0m\u001b[0;34m\u001b[0m\u001b[0m\n\u001b[0;32m--> 176\u001b[0;31m             \u001b[0ms\u001b[0m\u001b[0;34m,\u001b[0m \u001b[0mobj\u001b[0m\u001b[0;34m,\u001b[0m \u001b[0mspan\u001b[0m \u001b[0;34m=\u001b[0m \u001b[0me\u001b[0m\u001b[0;34m(\u001b[0m\u001b[0ms\u001b[0m\u001b[0;34m,\u001b[0m \u001b[0mgrm\u001b[0m\u001b[0;34m,\u001b[0m \u001b[0mpos\u001b[0m\u001b[0;34m)\u001b[0m\u001b[0;34m\u001b[0m\u001b[0m\n\u001b[0m\u001b[1;32m    177\u001b[0m             \u001b[0mpos\u001b[0m \u001b[0;34m=\u001b[0m \u001b[0mspan\u001b[0m\u001b[0;34m[\u001b[0m\u001b[0;36m1\u001b[0m\u001b[0;34m]\u001b[0m\u001b[0;34m\u001b[0m\u001b[0m\n\u001b[1;32m    178\u001b[0m             \u001b[0;32mif\u001b[0m \u001b[0mobj\u001b[0m \u001b[0;32mis\u001b[0m \u001b[0;32mnot\u001b[0m \u001b[0mIgnore\u001b[0m\u001b[0;34m:\u001b[0m\u001b[0;34m\u001b[0m\u001b[0m\n",
      "\u001b[0;32m~/miniconda3/lib/python3.6/site-packages/delphin/lib/pegre.py\u001b[0m in \u001b[0;36mmatch_nonterminal\u001b[0;34m(s, grm, pos)\u001b[0m\n\u001b[1;32m    134\u001b[0m         \u001b[0;32mif\u001b[0m \u001b[0mgrm\u001b[0m \u001b[0;32mis\u001b[0m \u001b[0;32mNone\u001b[0m\u001b[0;34m:\u001b[0m \u001b[0mgrm\u001b[0m \u001b[0;34m=\u001b[0m \u001b[0;34m{\u001b[0m\u001b[0;34m}\u001b[0m\u001b[0;34m\u001b[0m\u001b[0m\n\u001b[1;32m    135\u001b[0m         \u001b[0mexpr\u001b[0m \u001b[0;34m=\u001b[0m \u001b[0mgrm\u001b[0m\u001b[0;34m[\u001b[0m\u001b[0mn\u001b[0m\u001b[0;34m]\u001b[0m\u001b[0;34m\u001b[0m\u001b[0m\n\u001b[0;32m--> 136\u001b[0;31m         \u001b[0;32mreturn\u001b[0m \u001b[0mexpr\u001b[0m\u001b[0;34m(\u001b[0m\u001b[0ms\u001b[0m\u001b[0;34m,\u001b[0m \u001b[0mgrm\u001b[0m\u001b[0;34m,\u001b[0m \u001b[0mpos\u001b[0m\u001b[0;34m)\u001b[0m\u001b[0;34m\u001b[0m\u001b[0m\n\u001b[0m\u001b[1;32m    137\u001b[0m     \u001b[0;32mreturn\u001b[0m \u001b[0mmatch_nonterminal\u001b[0m\u001b[0;34m\u001b[0m\u001b[0m\n\u001b[1;32m    138\u001b[0m \u001b[0;34m\u001b[0m\u001b[0m\n",
      "\u001b[0;32m~/miniconda3/lib/python3.6/site-packages/delphin/lib/pegre.py\u001b[0m in \u001b[0;36mmatch_choice\u001b[0;34m(s, grm, pos)\u001b[0m\n\u001b[1;32m    191\u001b[0m         \u001b[0;32mfor\u001b[0m \u001b[0me\u001b[0m \u001b[0;32min\u001b[0m \u001b[0mes\u001b[0m\u001b[0;34m:\u001b[0m\u001b[0;34m\u001b[0m\u001b[0m\n\u001b[1;32m    192\u001b[0m             \u001b[0;32mtry\u001b[0m\u001b[0;34m:\u001b[0m\u001b[0;34m\u001b[0m\u001b[0m\n\u001b[0;32m--> 193\u001b[0;31m                 \u001b[0;32mreturn\u001b[0m \u001b[0me\u001b[0m\u001b[0;34m(\u001b[0m\u001b[0ms\u001b[0m\u001b[0;34m,\u001b[0m \u001b[0mgrm\u001b[0m\u001b[0;34m,\u001b[0m \u001b[0mpos\u001b[0m\u001b[0;34m)\u001b[0m\u001b[0;34m\u001b[0m\u001b[0m\n\u001b[0m\u001b[1;32m    194\u001b[0m             \u001b[0;32mexcept\u001b[0m \u001b[0mPegreError\u001b[0m \u001b[0;32mas\u001b[0m \u001b[0mex\u001b[0m\u001b[0;34m:\u001b[0m\u001b[0;34m\u001b[0m\u001b[0m\n\u001b[1;32m    195\u001b[0m                 \u001b[0merrs\u001b[0m\u001b[0;34m.\u001b[0m\u001b[0mappend\u001b[0m\u001b[0;34m(\u001b[0m\u001b[0;34m(\u001b[0m\u001b[0mex\u001b[0m\u001b[0;34m.\u001b[0m\u001b[0mmessage\u001b[0m\u001b[0;34m,\u001b[0m \u001b[0mex\u001b[0m\u001b[0;34m.\u001b[0m\u001b[0mposition\u001b[0m\u001b[0;34m)\u001b[0m\u001b[0;34m)\u001b[0m\u001b[0;34m\u001b[0m\u001b[0m\n",
      "\u001b[0;32m~/miniconda3/lib/python3.6/site-packages/delphin/lib/pegre.py\u001b[0m in \u001b[0;36mvalued_f\u001b[0;34m(*args, **kwargs)\u001b[0m\n\u001b[1;32m     83\u001b[0m             \u001b[0m_f\u001b[0m \u001b[0;34m=\u001b[0m \u001b[0mf\u001b[0m\u001b[0;34m(\u001b[0m\u001b[0;34m*\u001b[0m\u001b[0margs\u001b[0m\u001b[0;34m,\u001b[0m \u001b[0;34m**\u001b[0m\u001b[0mkwargs\u001b[0m\u001b[0;34m)\u001b[0m\u001b[0;34m\u001b[0m\u001b[0m\n\u001b[1;32m     84\u001b[0m             \u001b[0;32mdef\u001b[0m \u001b[0mvalued_f\u001b[0m\u001b[0;34m(\u001b[0m\u001b[0;34m*\u001b[0m\u001b[0margs\u001b[0m\u001b[0;34m,\u001b[0m \u001b[0;34m**\u001b[0m\u001b[0mkwargs\u001b[0m\u001b[0;34m)\u001b[0m\u001b[0;34m:\u001b[0m\u001b[0;34m\u001b[0m\u001b[0m\n\u001b[0;32m---> 85\u001b[0;31m                 \u001b[0mresult\u001b[0m \u001b[0;34m=\u001b[0m \u001b[0m_f\u001b[0m\u001b[0;34m(\u001b[0m\u001b[0;34m*\u001b[0m\u001b[0margs\u001b[0m\u001b[0;34m,\u001b[0m \u001b[0;34m**\u001b[0m\u001b[0mkwargs\u001b[0m\u001b[0;34m)\u001b[0m\u001b[0;34m\u001b[0m\u001b[0m\n\u001b[0m\u001b[1;32m     86\u001b[0m                 \u001b[0ms\u001b[0m\u001b[0;34m,\u001b[0m \u001b[0mobj\u001b[0m\u001b[0;34m,\u001b[0m \u001b[0mspan\u001b[0m \u001b[0;34m=\u001b[0m \u001b[0mresult\u001b[0m\u001b[0;34m\u001b[0m\u001b[0m\n\u001b[1;32m     87\u001b[0m                 \u001b[0;32mif\u001b[0m \u001b[0mcallable\u001b[0m\u001b[0;34m(\u001b[0m\u001b[0mval\u001b[0m\u001b[0;34m)\u001b[0m\u001b[0;34m:\u001b[0m\u001b[0;34m\u001b[0m\u001b[0m\n",
      "\u001b[0;32m~/miniconda3/lib/python3.6/site-packages/delphin/lib/pegre.py\u001b[0m in \u001b[0;36mmatch_sequence\u001b[0;34m(s, grm, pos)\u001b[0m\n\u001b[1;32m    174\u001b[0m         \u001b[0mstart\u001b[0m \u001b[0;34m=\u001b[0m \u001b[0mpos\u001b[0m\u001b[0;34m\u001b[0m\u001b[0m\n\u001b[1;32m    175\u001b[0m         \u001b[0;32mfor\u001b[0m \u001b[0me\u001b[0m \u001b[0;32min\u001b[0m \u001b[0mes\u001b[0m\u001b[0;34m:\u001b[0m\u001b[0;34m\u001b[0m\u001b[0m\n\u001b[0;32m--> 176\u001b[0;31m             \u001b[0ms\u001b[0m\u001b[0;34m,\u001b[0m \u001b[0mobj\u001b[0m\u001b[0;34m,\u001b[0m \u001b[0mspan\u001b[0m \u001b[0;34m=\u001b[0m \u001b[0me\u001b[0m\u001b[0;34m(\u001b[0m\u001b[0ms\u001b[0m\u001b[0;34m,\u001b[0m \u001b[0mgrm\u001b[0m\u001b[0;34m,\u001b[0m \u001b[0mpos\u001b[0m\u001b[0;34m)\u001b[0m\u001b[0;34m\u001b[0m\u001b[0m\n\u001b[0m\u001b[1;32m    177\u001b[0m             \u001b[0mpos\u001b[0m \u001b[0;34m=\u001b[0m \u001b[0mspan\u001b[0m\u001b[0;34m[\u001b[0m\u001b[0;36m1\u001b[0m\u001b[0;34m]\u001b[0m\u001b[0;34m\u001b[0m\u001b[0m\n\u001b[1;32m    178\u001b[0m             \u001b[0;32mif\u001b[0m \u001b[0mobj\u001b[0m \u001b[0;32mis\u001b[0m \u001b[0;32mnot\u001b[0m \u001b[0mIgnore\u001b[0m\u001b[0;34m:\u001b[0m\u001b[0;34m\u001b[0m\u001b[0m\n",
      "\u001b[0;32m~/miniconda3/lib/python3.6/site-packages/delphin/lib/pegre.py\u001b[0m in \u001b[0;36mmatch_choice\u001b[0;34m(s, grm, pos)\u001b[0m\n\u001b[1;32m    191\u001b[0m         \u001b[0;32mfor\u001b[0m \u001b[0me\u001b[0m \u001b[0;32min\u001b[0m \u001b[0mes\u001b[0m\u001b[0;34m:\u001b[0m\u001b[0;34m\u001b[0m\u001b[0m\n\u001b[1;32m    192\u001b[0m             \u001b[0;32mtry\u001b[0m\u001b[0;34m:\u001b[0m\u001b[0;34m\u001b[0m\u001b[0m\n\u001b[0;32m--> 193\u001b[0;31m                 \u001b[0;32mreturn\u001b[0m \u001b[0me\u001b[0m\u001b[0;34m(\u001b[0m\u001b[0ms\u001b[0m\u001b[0;34m,\u001b[0m \u001b[0mgrm\u001b[0m\u001b[0;34m,\u001b[0m \u001b[0mpos\u001b[0m\u001b[0;34m)\u001b[0m\u001b[0;34m\u001b[0m\u001b[0m\n\u001b[0m\u001b[1;32m    194\u001b[0m             \u001b[0;32mexcept\u001b[0m \u001b[0mPegreError\u001b[0m \u001b[0;32mas\u001b[0m \u001b[0mex\u001b[0m\u001b[0;34m:\u001b[0m\u001b[0;34m\u001b[0m\u001b[0m\n\u001b[1;32m    195\u001b[0m                 \u001b[0merrs\u001b[0m\u001b[0;34m.\u001b[0m\u001b[0mappend\u001b[0m\u001b[0;34m(\u001b[0m\u001b[0;34m(\u001b[0m\u001b[0mex\u001b[0m\u001b[0;34m.\u001b[0m\u001b[0mmessage\u001b[0m\u001b[0;34m,\u001b[0m \u001b[0mex\u001b[0m\u001b[0;34m.\u001b[0m\u001b[0mposition\u001b[0m\u001b[0;34m)\u001b[0m\u001b[0;34m)\u001b[0m\u001b[0;34m\u001b[0m\u001b[0m\n",
      "\u001b[0;32m~/miniconda3/lib/python3.6/site-packages/delphin/lib/pegre.py\u001b[0m in \u001b[0;36mvalued_f\u001b[0;34m(*args, **kwargs)\u001b[0m\n\u001b[1;32m     83\u001b[0m             \u001b[0m_f\u001b[0m \u001b[0;34m=\u001b[0m \u001b[0mf\u001b[0m\u001b[0;34m(\u001b[0m\u001b[0;34m*\u001b[0m\u001b[0margs\u001b[0m\u001b[0;34m,\u001b[0m \u001b[0;34m**\u001b[0m\u001b[0mkwargs\u001b[0m\u001b[0;34m)\u001b[0m\u001b[0;34m\u001b[0m\u001b[0m\n\u001b[1;32m     84\u001b[0m             \u001b[0;32mdef\u001b[0m \u001b[0mvalued_f\u001b[0m\u001b[0;34m(\u001b[0m\u001b[0;34m*\u001b[0m\u001b[0margs\u001b[0m\u001b[0;34m,\u001b[0m \u001b[0;34m**\u001b[0m\u001b[0mkwargs\u001b[0m\u001b[0;34m)\u001b[0m\u001b[0;34m:\u001b[0m\u001b[0;34m\u001b[0m\u001b[0m\n\u001b[0;32m---> 85\u001b[0;31m                 \u001b[0mresult\u001b[0m \u001b[0;34m=\u001b[0m \u001b[0m_f\u001b[0m\u001b[0;34m(\u001b[0m\u001b[0;34m*\u001b[0m\u001b[0margs\u001b[0m\u001b[0;34m,\u001b[0m \u001b[0;34m**\u001b[0m\u001b[0mkwargs\u001b[0m\u001b[0;34m)\u001b[0m\u001b[0;34m\u001b[0m\u001b[0m\n\u001b[0m\u001b[1;32m     86\u001b[0m                 \u001b[0ms\u001b[0m\u001b[0;34m,\u001b[0m \u001b[0mobj\u001b[0m\u001b[0;34m,\u001b[0m \u001b[0mspan\u001b[0m \u001b[0;34m=\u001b[0m \u001b[0mresult\u001b[0m\u001b[0;34m\u001b[0m\u001b[0m\n\u001b[1;32m     87\u001b[0m                 \u001b[0;32mif\u001b[0m \u001b[0mcallable\u001b[0m\u001b[0;34m(\u001b[0m\u001b[0mval\u001b[0m\u001b[0;34m)\u001b[0m\u001b[0;34m:\u001b[0m\u001b[0;34m\u001b[0m\u001b[0m\n",
      "\u001b[0;32m~/miniconda3/lib/python3.6/site-packages/delphin/lib/pegre.py\u001b[0m in \u001b[0;36mmatch_sequence\u001b[0;34m(s, grm, pos)\u001b[0m\n\u001b[1;32m    174\u001b[0m         \u001b[0mstart\u001b[0m \u001b[0;34m=\u001b[0m \u001b[0mpos\u001b[0m\u001b[0;34m\u001b[0m\u001b[0m\n\u001b[1;32m    175\u001b[0m         \u001b[0;32mfor\u001b[0m \u001b[0me\u001b[0m \u001b[0;32min\u001b[0m \u001b[0mes\u001b[0m\u001b[0;34m:\u001b[0m\u001b[0;34m\u001b[0m\u001b[0m\n\u001b[0;32m--> 176\u001b[0;31m             \u001b[0ms\u001b[0m\u001b[0;34m,\u001b[0m \u001b[0mobj\u001b[0m\u001b[0;34m,\u001b[0m \u001b[0mspan\u001b[0m \u001b[0;34m=\u001b[0m \u001b[0me\u001b[0m\u001b[0;34m(\u001b[0m\u001b[0ms\u001b[0m\u001b[0;34m,\u001b[0m \u001b[0mgrm\u001b[0m\u001b[0;34m,\u001b[0m \u001b[0mpos\u001b[0m\u001b[0;34m)\u001b[0m\u001b[0;34m\u001b[0m\u001b[0m\n\u001b[0m\u001b[1;32m    177\u001b[0m             \u001b[0mpos\u001b[0m \u001b[0;34m=\u001b[0m \u001b[0mspan\u001b[0m\u001b[0;34m[\u001b[0m\u001b[0;36m1\u001b[0m\u001b[0;34m]\u001b[0m\u001b[0;34m\u001b[0m\u001b[0m\n\u001b[1;32m    178\u001b[0m             \u001b[0;32mif\u001b[0m \u001b[0mobj\u001b[0m \u001b[0;32mis\u001b[0m \u001b[0;32mnot\u001b[0m \u001b[0mIgnore\u001b[0m\u001b[0;34m:\u001b[0m\u001b[0;34m\u001b[0m\u001b[0m\n",
      "\u001b[0;32m~/miniconda3/lib/python3.6/site-packages/delphin/lib/pegre.py\u001b[0m in \u001b[0;36mmatch_nonterminal\u001b[0;34m(s, grm, pos)\u001b[0m\n\u001b[1;32m    134\u001b[0m         \u001b[0;32mif\u001b[0m \u001b[0mgrm\u001b[0m \u001b[0;32mis\u001b[0m \u001b[0;32mNone\u001b[0m\u001b[0;34m:\u001b[0m \u001b[0mgrm\u001b[0m \u001b[0;34m=\u001b[0m \u001b[0;34m{\u001b[0m\u001b[0;34m}\u001b[0m\u001b[0;34m\u001b[0m\u001b[0m\n\u001b[1;32m    135\u001b[0m         \u001b[0mexpr\u001b[0m \u001b[0;34m=\u001b[0m \u001b[0mgrm\u001b[0m\u001b[0;34m[\u001b[0m\u001b[0mn\u001b[0m\u001b[0;34m]\u001b[0m\u001b[0;34m\u001b[0m\u001b[0m\n\u001b[0;32m--> 136\u001b[0;31m         \u001b[0;32mreturn\u001b[0m \u001b[0mexpr\u001b[0m\u001b[0;34m(\u001b[0m\u001b[0ms\u001b[0m\u001b[0;34m,\u001b[0m \u001b[0mgrm\u001b[0m\u001b[0;34m,\u001b[0m \u001b[0mpos\u001b[0m\u001b[0;34m)\u001b[0m\u001b[0;34m\u001b[0m\u001b[0m\n\u001b[0m\u001b[1;32m    137\u001b[0m     \u001b[0;32mreturn\u001b[0m \u001b[0mmatch_nonterminal\u001b[0m\u001b[0;34m\u001b[0m\u001b[0m\n\u001b[1;32m    138\u001b[0m \u001b[0;34m\u001b[0m\u001b[0m\n",
      "\u001b[0;32m~/miniconda3/lib/python3.6/site-packages/delphin/lib/pegre.py\u001b[0m in \u001b[0;36mmatch_choice\u001b[0;34m(s, grm, pos)\u001b[0m\n\u001b[1;32m    191\u001b[0m         \u001b[0;32mfor\u001b[0m \u001b[0me\u001b[0m \u001b[0;32min\u001b[0m \u001b[0mes\u001b[0m\u001b[0;34m:\u001b[0m\u001b[0;34m\u001b[0m\u001b[0m\n\u001b[1;32m    192\u001b[0m             \u001b[0;32mtry\u001b[0m\u001b[0;34m:\u001b[0m\u001b[0;34m\u001b[0m\u001b[0m\n\u001b[0;32m--> 193\u001b[0;31m                 \u001b[0;32mreturn\u001b[0m \u001b[0me\u001b[0m\u001b[0;34m(\u001b[0m\u001b[0ms\u001b[0m\u001b[0;34m,\u001b[0m \u001b[0mgrm\u001b[0m\u001b[0;34m,\u001b[0m \u001b[0mpos\u001b[0m\u001b[0;34m)\u001b[0m\u001b[0;34m\u001b[0m\u001b[0m\n\u001b[0m\u001b[1;32m    194\u001b[0m             \u001b[0;32mexcept\u001b[0m \u001b[0mPegreError\u001b[0m \u001b[0;32mas\u001b[0m \u001b[0mex\u001b[0m\u001b[0;34m:\u001b[0m\u001b[0;34m\u001b[0m\u001b[0m\n\u001b[1;32m    195\u001b[0m                 \u001b[0merrs\u001b[0m\u001b[0;34m.\u001b[0m\u001b[0mappend\u001b[0m\u001b[0;34m(\u001b[0m\u001b[0;34m(\u001b[0m\u001b[0mex\u001b[0m\u001b[0;34m.\u001b[0m\u001b[0mmessage\u001b[0m\u001b[0;34m,\u001b[0m \u001b[0mex\u001b[0m\u001b[0;34m.\u001b[0m\u001b[0mposition\u001b[0m\u001b[0;34m)\u001b[0m\u001b[0;34m)\u001b[0m\u001b[0;34m\u001b[0m\u001b[0m\n",
      "\u001b[0;32m~/miniconda3/lib/python3.6/site-packages/delphin/lib/pegre.py\u001b[0m in \u001b[0;36mvalued_f\u001b[0;34m(*args, **kwargs)\u001b[0m\n\u001b[1;32m     83\u001b[0m             \u001b[0m_f\u001b[0m \u001b[0;34m=\u001b[0m \u001b[0mf\u001b[0m\u001b[0;34m(\u001b[0m\u001b[0;34m*\u001b[0m\u001b[0margs\u001b[0m\u001b[0;34m,\u001b[0m \u001b[0;34m**\u001b[0m\u001b[0mkwargs\u001b[0m\u001b[0;34m)\u001b[0m\u001b[0;34m\u001b[0m\u001b[0m\n\u001b[1;32m     84\u001b[0m             \u001b[0;32mdef\u001b[0m \u001b[0mvalued_f\u001b[0m\u001b[0;34m(\u001b[0m\u001b[0;34m*\u001b[0m\u001b[0margs\u001b[0m\u001b[0;34m,\u001b[0m \u001b[0;34m**\u001b[0m\u001b[0mkwargs\u001b[0m\u001b[0;34m)\u001b[0m\u001b[0;34m:\u001b[0m\u001b[0;34m\u001b[0m\u001b[0m\n\u001b[0;32m---> 85\u001b[0;31m                 \u001b[0mresult\u001b[0m \u001b[0;34m=\u001b[0m \u001b[0m_f\u001b[0m\u001b[0;34m(\u001b[0m\u001b[0;34m*\u001b[0m\u001b[0margs\u001b[0m\u001b[0;34m,\u001b[0m \u001b[0;34m**\u001b[0m\u001b[0mkwargs\u001b[0m\u001b[0;34m)\u001b[0m\u001b[0;34m\u001b[0m\u001b[0m\n\u001b[0m\u001b[1;32m     86\u001b[0m                 \u001b[0ms\u001b[0m\u001b[0;34m,\u001b[0m \u001b[0mobj\u001b[0m\u001b[0;34m,\u001b[0m \u001b[0mspan\u001b[0m \u001b[0;34m=\u001b[0m \u001b[0mresult\u001b[0m\u001b[0;34m\u001b[0m\u001b[0m\n\u001b[1;32m     87\u001b[0m                 \u001b[0;32mif\u001b[0m \u001b[0mcallable\u001b[0m\u001b[0;34m(\u001b[0m\u001b[0mval\u001b[0m\u001b[0;34m)\u001b[0m\u001b[0;34m:\u001b[0m\u001b[0;34m\u001b[0m\u001b[0m\n",
      "\u001b[0;32m~/miniconda3/lib/python3.6/site-packages/delphin/lib/pegre.py\u001b[0m in \u001b[0;36mmatch_sequence\u001b[0;34m(s, grm, pos)\u001b[0m\n\u001b[1;32m    174\u001b[0m         \u001b[0mstart\u001b[0m \u001b[0;34m=\u001b[0m \u001b[0mpos\u001b[0m\u001b[0;34m\u001b[0m\u001b[0m\n\u001b[1;32m    175\u001b[0m         \u001b[0;32mfor\u001b[0m \u001b[0me\u001b[0m \u001b[0;32min\u001b[0m \u001b[0mes\u001b[0m\u001b[0;34m:\u001b[0m\u001b[0;34m\u001b[0m\u001b[0m\n\u001b[0;32m--> 176\u001b[0;31m             \u001b[0ms\u001b[0m\u001b[0;34m,\u001b[0m \u001b[0mobj\u001b[0m\u001b[0;34m,\u001b[0m \u001b[0mspan\u001b[0m \u001b[0;34m=\u001b[0m \u001b[0me\u001b[0m\u001b[0;34m(\u001b[0m\u001b[0ms\u001b[0m\u001b[0;34m,\u001b[0m \u001b[0mgrm\u001b[0m\u001b[0;34m,\u001b[0m \u001b[0mpos\u001b[0m\u001b[0;34m)\u001b[0m\u001b[0;34m\u001b[0m\u001b[0m\n\u001b[0m\u001b[1;32m    177\u001b[0m             \u001b[0mpos\u001b[0m \u001b[0;34m=\u001b[0m \u001b[0mspan\u001b[0m\u001b[0;34m[\u001b[0m\u001b[0;36m1\u001b[0m\u001b[0;34m]\u001b[0m\u001b[0;34m\u001b[0m\u001b[0m\n\u001b[1;32m    178\u001b[0m             \u001b[0;32mif\u001b[0m \u001b[0mobj\u001b[0m \u001b[0;32mis\u001b[0m \u001b[0;32mnot\u001b[0m \u001b[0mIgnore\u001b[0m\u001b[0;34m:\u001b[0m\u001b[0;34m\u001b[0m\u001b[0m\n",
      "\u001b[0;32m~/miniconda3/lib/python3.6/site-packages/delphin/lib/pegre.py\u001b[0m in \u001b[0;36mmatch_choice\u001b[0;34m(s, grm, pos)\u001b[0m\n\u001b[1;32m    191\u001b[0m         \u001b[0;32mfor\u001b[0m \u001b[0me\u001b[0m \u001b[0;32min\u001b[0m \u001b[0mes\u001b[0m\u001b[0;34m:\u001b[0m\u001b[0;34m\u001b[0m\u001b[0m\n\u001b[1;32m    192\u001b[0m             \u001b[0;32mtry\u001b[0m\u001b[0;34m:\u001b[0m\u001b[0;34m\u001b[0m\u001b[0m\n\u001b[0;32m--> 193\u001b[0;31m                 \u001b[0;32mreturn\u001b[0m \u001b[0me\u001b[0m\u001b[0;34m(\u001b[0m\u001b[0ms\u001b[0m\u001b[0;34m,\u001b[0m \u001b[0mgrm\u001b[0m\u001b[0;34m,\u001b[0m \u001b[0mpos\u001b[0m\u001b[0;34m)\u001b[0m\u001b[0;34m\u001b[0m\u001b[0m\n\u001b[0m\u001b[1;32m    194\u001b[0m             \u001b[0;32mexcept\u001b[0m \u001b[0mPegreError\u001b[0m \u001b[0;32mas\u001b[0m \u001b[0mex\u001b[0m\u001b[0;34m:\u001b[0m\u001b[0;34m\u001b[0m\u001b[0m\n\u001b[1;32m    195\u001b[0m                 \u001b[0merrs\u001b[0m\u001b[0;34m.\u001b[0m\u001b[0mappend\u001b[0m\u001b[0;34m(\u001b[0m\u001b[0;34m(\u001b[0m\u001b[0mex\u001b[0m\u001b[0;34m.\u001b[0m\u001b[0mmessage\u001b[0m\u001b[0;34m,\u001b[0m \u001b[0mex\u001b[0m\u001b[0;34m.\u001b[0m\u001b[0mposition\u001b[0m\u001b[0;34m)\u001b[0m\u001b[0;34m)\u001b[0m\u001b[0;34m\u001b[0m\u001b[0m\n",
      "\u001b[0;32m~/miniconda3/lib/python3.6/site-packages/delphin/lib/pegre.py\u001b[0m in \u001b[0;36mvalued_f\u001b[0;34m(*args, **kwargs)\u001b[0m\n\u001b[1;32m     83\u001b[0m             \u001b[0m_f\u001b[0m \u001b[0;34m=\u001b[0m \u001b[0mf\u001b[0m\u001b[0;34m(\u001b[0m\u001b[0;34m*\u001b[0m\u001b[0margs\u001b[0m\u001b[0;34m,\u001b[0m \u001b[0;34m**\u001b[0m\u001b[0mkwargs\u001b[0m\u001b[0;34m)\u001b[0m\u001b[0;34m\u001b[0m\u001b[0m\n\u001b[1;32m     84\u001b[0m             \u001b[0;32mdef\u001b[0m \u001b[0mvalued_f\u001b[0m\u001b[0;34m(\u001b[0m\u001b[0;34m*\u001b[0m\u001b[0margs\u001b[0m\u001b[0;34m,\u001b[0m \u001b[0;34m**\u001b[0m\u001b[0mkwargs\u001b[0m\u001b[0;34m)\u001b[0m\u001b[0;34m:\u001b[0m\u001b[0;34m\u001b[0m\u001b[0m\n\u001b[0;32m---> 85\u001b[0;31m                 \u001b[0mresult\u001b[0m \u001b[0;34m=\u001b[0m \u001b[0m_f\u001b[0m\u001b[0;34m(\u001b[0m\u001b[0;34m*\u001b[0m\u001b[0margs\u001b[0m\u001b[0;34m,\u001b[0m \u001b[0;34m**\u001b[0m\u001b[0mkwargs\u001b[0m\u001b[0;34m)\u001b[0m\u001b[0;34m\u001b[0m\u001b[0m\n\u001b[0m\u001b[1;32m     86\u001b[0m                 \u001b[0ms\u001b[0m\u001b[0;34m,\u001b[0m \u001b[0mobj\u001b[0m\u001b[0;34m,\u001b[0m \u001b[0mspan\u001b[0m \u001b[0;34m=\u001b[0m \u001b[0mresult\u001b[0m\u001b[0;34m\u001b[0m\u001b[0m\n\u001b[1;32m     87\u001b[0m                 \u001b[0;32mif\u001b[0m \u001b[0mcallable\u001b[0m\u001b[0;34m(\u001b[0m\u001b[0mval\u001b[0m\u001b[0;34m)\u001b[0m\u001b[0;34m:\u001b[0m\u001b[0;34m\u001b[0m\u001b[0m\n",
      "\u001b[0;32m~/miniconda3/lib/python3.6/site-packages/delphin/lib/pegre.py\u001b[0m in \u001b[0;36mmatch_zero_or_more\u001b[0;34m(s, grm, pos)\u001b[0m\n\u001b[1;32m    236\u001b[0m                 \u001b[0;32mif\u001b[0m \u001b[0mobj\u001b[0m \u001b[0;32mis\u001b[0m \u001b[0;32mnot\u001b[0m \u001b[0mIgnore\u001b[0m\u001b[0;34m:\u001b[0m\u001b[0;34m\u001b[0m\u001b[0m\n\u001b[1;32m    237\u001b[0m                     \u001b[0mdata\u001b[0m\u001b[0;34m.\u001b[0m\u001b[0mappend\u001b[0m\u001b[0;34m(\u001b[0m\u001b[0mobj\u001b[0m\u001b[0;34m)\u001b[0m\u001b[0;34m\u001b[0m\u001b[0m\n\u001b[0;32m--> 238\u001b[0;31m                 \u001b[0ms\u001b[0m\u001b[0;34m,\u001b[0m \u001b[0mobj\u001b[0m\u001b[0;34m,\u001b[0m \u001b[0mspan\u001b[0m \u001b[0;34m=\u001b[0m \u001b[0me\u001b[0m\u001b[0;34m(\u001b[0m\u001b[0ms\u001b[0m\u001b[0;34m,\u001b[0m \u001b[0mgrm\u001b[0m\u001b[0;34m,\u001b[0m \u001b[0mpos\u001b[0m\u001b[0;34m)\u001b[0m\u001b[0;34m\u001b[0m\u001b[0m\n\u001b[0m\u001b[1;32m    239\u001b[0m                 \u001b[0mpos\u001b[0m \u001b[0;34m=\u001b[0m \u001b[0mspan\u001b[0m\u001b[0;34m[\u001b[0m\u001b[0;36m1\u001b[0m\u001b[0;34m]\u001b[0m\u001b[0;34m\u001b[0m\u001b[0m\n\u001b[1;32m    240\u001b[0m                 \u001b[0;32mif\u001b[0m \u001b[0mobj\u001b[0m \u001b[0;32mis\u001b[0m \u001b[0;32mnot\u001b[0m \u001b[0mIgnore\u001b[0m\u001b[0;34m:\u001b[0m\u001b[0;34m\u001b[0m\u001b[0m\n",
      "\u001b[0;32m~/miniconda3/lib/python3.6/site-packages/delphin/lib/pegre.py\u001b[0m in \u001b[0;36mmatch_nonterminal\u001b[0;34m(s, grm, pos)\u001b[0m\n\u001b[1;32m    134\u001b[0m         \u001b[0;32mif\u001b[0m \u001b[0mgrm\u001b[0m \u001b[0;32mis\u001b[0m \u001b[0;32mNone\u001b[0m\u001b[0;34m:\u001b[0m \u001b[0mgrm\u001b[0m \u001b[0;34m=\u001b[0m \u001b[0;34m{\u001b[0m\u001b[0;34m}\u001b[0m\u001b[0;34m\u001b[0m\u001b[0m\n\u001b[1;32m    135\u001b[0m         \u001b[0mexpr\u001b[0m \u001b[0;34m=\u001b[0m \u001b[0mgrm\u001b[0m\u001b[0;34m[\u001b[0m\u001b[0mn\u001b[0m\u001b[0;34m]\u001b[0m\u001b[0;34m\u001b[0m\u001b[0m\n\u001b[0;32m--> 136\u001b[0;31m         \u001b[0;32mreturn\u001b[0m \u001b[0mexpr\u001b[0m\u001b[0;34m(\u001b[0m\u001b[0ms\u001b[0m\u001b[0;34m,\u001b[0m \u001b[0mgrm\u001b[0m\u001b[0;34m,\u001b[0m \u001b[0mpos\u001b[0m\u001b[0;34m)\u001b[0m\u001b[0;34m\u001b[0m\u001b[0m\n\u001b[0m\u001b[1;32m    137\u001b[0m     \u001b[0;32mreturn\u001b[0m \u001b[0mmatch_nonterminal\u001b[0m\u001b[0;34m\u001b[0m\u001b[0m\n\u001b[1;32m    138\u001b[0m \u001b[0;34m\u001b[0m\u001b[0m\n",
      "\u001b[0;32m~/miniconda3/lib/python3.6/site-packages/delphin/lib/pegre.py\u001b[0m in \u001b[0;36mmatch_choice\u001b[0;34m(s, grm, pos)\u001b[0m\n\u001b[1;32m    191\u001b[0m         \u001b[0;32mfor\u001b[0m \u001b[0me\u001b[0m \u001b[0;32min\u001b[0m \u001b[0mes\u001b[0m\u001b[0;34m:\u001b[0m\u001b[0;34m\u001b[0m\u001b[0m\n\u001b[1;32m    192\u001b[0m             \u001b[0;32mtry\u001b[0m\u001b[0;34m:\u001b[0m\u001b[0;34m\u001b[0m\u001b[0m\n\u001b[0;32m--> 193\u001b[0;31m                 \u001b[0;32mreturn\u001b[0m \u001b[0me\u001b[0m\u001b[0;34m(\u001b[0m\u001b[0ms\u001b[0m\u001b[0;34m,\u001b[0m \u001b[0mgrm\u001b[0m\u001b[0;34m,\u001b[0m \u001b[0mpos\u001b[0m\u001b[0;34m)\u001b[0m\u001b[0;34m\u001b[0m\u001b[0m\n\u001b[0m\u001b[1;32m    194\u001b[0m             \u001b[0;32mexcept\u001b[0m \u001b[0mPegreError\u001b[0m \u001b[0;32mas\u001b[0m \u001b[0mex\u001b[0m\u001b[0;34m:\u001b[0m\u001b[0;34m\u001b[0m\u001b[0m\n\u001b[1;32m    195\u001b[0m                 \u001b[0merrs\u001b[0m\u001b[0;34m.\u001b[0m\u001b[0mappend\u001b[0m\u001b[0;34m(\u001b[0m\u001b[0;34m(\u001b[0m\u001b[0mex\u001b[0m\u001b[0;34m.\u001b[0m\u001b[0mmessage\u001b[0m\u001b[0;34m,\u001b[0m \u001b[0mex\u001b[0m\u001b[0;34m.\u001b[0m\u001b[0mposition\u001b[0m\u001b[0;34m)\u001b[0m\u001b[0;34m)\u001b[0m\u001b[0;34m\u001b[0m\u001b[0m\n",
      "\u001b[0;32m~/miniconda3/lib/python3.6/site-packages/delphin/lib/pegre.py\u001b[0m in \u001b[0;36mvalued_f\u001b[0;34m(*args, **kwargs)\u001b[0m\n\u001b[1;32m     83\u001b[0m             \u001b[0m_f\u001b[0m \u001b[0;34m=\u001b[0m \u001b[0mf\u001b[0m\u001b[0;34m(\u001b[0m\u001b[0;34m*\u001b[0m\u001b[0margs\u001b[0m\u001b[0;34m,\u001b[0m \u001b[0;34m**\u001b[0m\u001b[0mkwargs\u001b[0m\u001b[0;34m)\u001b[0m\u001b[0;34m\u001b[0m\u001b[0m\n\u001b[1;32m     84\u001b[0m             \u001b[0;32mdef\u001b[0m \u001b[0mvalued_f\u001b[0m\u001b[0;34m(\u001b[0m\u001b[0;34m*\u001b[0m\u001b[0margs\u001b[0m\u001b[0;34m,\u001b[0m \u001b[0;34m**\u001b[0m\u001b[0mkwargs\u001b[0m\u001b[0;34m)\u001b[0m\u001b[0;34m:\u001b[0m\u001b[0;34m\u001b[0m\u001b[0m\n\u001b[0;32m---> 85\u001b[0;31m                 \u001b[0mresult\u001b[0m \u001b[0;34m=\u001b[0m \u001b[0m_f\u001b[0m\u001b[0;34m(\u001b[0m\u001b[0;34m*\u001b[0m\u001b[0margs\u001b[0m\u001b[0;34m,\u001b[0m \u001b[0;34m**\u001b[0m\u001b[0mkwargs\u001b[0m\u001b[0;34m)\u001b[0m\u001b[0;34m\u001b[0m\u001b[0m\n\u001b[0m\u001b[1;32m     86\u001b[0m                 \u001b[0ms\u001b[0m\u001b[0;34m,\u001b[0m \u001b[0mobj\u001b[0m\u001b[0;34m,\u001b[0m \u001b[0mspan\u001b[0m \u001b[0;34m=\u001b[0m \u001b[0mresult\u001b[0m\u001b[0;34m\u001b[0m\u001b[0m\n\u001b[1;32m     87\u001b[0m                 \u001b[0;32mif\u001b[0m \u001b[0mcallable\u001b[0m\u001b[0;34m(\u001b[0m\u001b[0mval\u001b[0m\u001b[0;34m)\u001b[0m\u001b[0;34m:\u001b[0m\u001b[0;34m\u001b[0m\u001b[0m\n",
      "\u001b[0;32m~/miniconda3/lib/python3.6/site-packages/delphin/lib/pegre.py\u001b[0m in \u001b[0;36mmatch_sequence\u001b[0;34m(s, grm, pos)\u001b[0m\n\u001b[1;32m    174\u001b[0m         \u001b[0mstart\u001b[0m \u001b[0;34m=\u001b[0m \u001b[0mpos\u001b[0m\u001b[0;34m\u001b[0m\u001b[0m\n\u001b[1;32m    175\u001b[0m         \u001b[0;32mfor\u001b[0m \u001b[0me\u001b[0m \u001b[0;32min\u001b[0m \u001b[0mes\u001b[0m\u001b[0;34m:\u001b[0m\u001b[0;34m\u001b[0m\u001b[0m\n\u001b[0;32m--> 176\u001b[0;31m             \u001b[0ms\u001b[0m\u001b[0;34m,\u001b[0m \u001b[0mobj\u001b[0m\u001b[0;34m,\u001b[0m \u001b[0mspan\u001b[0m \u001b[0;34m=\u001b[0m \u001b[0me\u001b[0m\u001b[0;34m(\u001b[0m\u001b[0ms\u001b[0m\u001b[0;34m,\u001b[0m \u001b[0mgrm\u001b[0m\u001b[0;34m,\u001b[0m \u001b[0mpos\u001b[0m\u001b[0;34m)\u001b[0m\u001b[0;34m\u001b[0m\u001b[0m\n\u001b[0m\u001b[1;32m    177\u001b[0m             \u001b[0mpos\u001b[0m \u001b[0;34m=\u001b[0m \u001b[0mspan\u001b[0m\u001b[0;34m[\u001b[0m\u001b[0;36m1\u001b[0m\u001b[0;34m]\u001b[0m\u001b[0;34m\u001b[0m\u001b[0m\n\u001b[1;32m    178\u001b[0m             \u001b[0;32mif\u001b[0m \u001b[0mobj\u001b[0m \u001b[0;32mis\u001b[0m \u001b[0;32mnot\u001b[0m \u001b[0mIgnore\u001b[0m\u001b[0;34m:\u001b[0m\u001b[0;34m\u001b[0m\u001b[0m\n",
      "\u001b[0;32m~/miniconda3/lib/python3.6/site-packages/delphin/lib/pegre.py\u001b[0m in \u001b[0;36mmatch_choice\u001b[0;34m(s, grm, pos)\u001b[0m\n\u001b[1;32m    191\u001b[0m         \u001b[0;32mfor\u001b[0m \u001b[0me\u001b[0m \u001b[0;32min\u001b[0m \u001b[0mes\u001b[0m\u001b[0;34m:\u001b[0m\u001b[0;34m\u001b[0m\u001b[0m\n\u001b[1;32m    192\u001b[0m             \u001b[0;32mtry\u001b[0m\u001b[0;34m:\u001b[0m\u001b[0;34m\u001b[0m\u001b[0m\n\u001b[0;32m--> 193\u001b[0;31m                 \u001b[0;32mreturn\u001b[0m \u001b[0me\u001b[0m\u001b[0;34m(\u001b[0m\u001b[0ms\u001b[0m\u001b[0;34m,\u001b[0m \u001b[0mgrm\u001b[0m\u001b[0;34m,\u001b[0m \u001b[0mpos\u001b[0m\u001b[0;34m)\u001b[0m\u001b[0;34m\u001b[0m\u001b[0m\n\u001b[0m\u001b[1;32m    194\u001b[0m             \u001b[0;32mexcept\u001b[0m \u001b[0mPegreError\u001b[0m \u001b[0;32mas\u001b[0m \u001b[0mex\u001b[0m\u001b[0;34m:\u001b[0m\u001b[0;34m\u001b[0m\u001b[0m\n\u001b[1;32m    195\u001b[0m                 \u001b[0merrs\u001b[0m\u001b[0;34m.\u001b[0m\u001b[0mappend\u001b[0m\u001b[0;34m(\u001b[0m\u001b[0;34m(\u001b[0m\u001b[0mex\u001b[0m\u001b[0;34m.\u001b[0m\u001b[0mmessage\u001b[0m\u001b[0;34m,\u001b[0m \u001b[0mex\u001b[0m\u001b[0;34m.\u001b[0m\u001b[0mposition\u001b[0m\u001b[0;34m)\u001b[0m\u001b[0;34m)\u001b[0m\u001b[0;34m\u001b[0m\u001b[0m\n",
      "\u001b[0;32m~/miniconda3/lib/python3.6/site-packages/delphin/lib/pegre.py\u001b[0m in \u001b[0;36mvalued_f\u001b[0;34m(*args, **kwargs)\u001b[0m\n\u001b[1;32m     83\u001b[0m             \u001b[0m_f\u001b[0m \u001b[0;34m=\u001b[0m \u001b[0mf\u001b[0m\u001b[0;34m(\u001b[0m\u001b[0;34m*\u001b[0m\u001b[0margs\u001b[0m\u001b[0;34m,\u001b[0m \u001b[0;34m**\u001b[0m\u001b[0mkwargs\u001b[0m\u001b[0;34m)\u001b[0m\u001b[0;34m\u001b[0m\u001b[0m\n\u001b[1;32m     84\u001b[0m             \u001b[0;32mdef\u001b[0m \u001b[0mvalued_f\u001b[0m\u001b[0;34m(\u001b[0m\u001b[0;34m*\u001b[0m\u001b[0margs\u001b[0m\u001b[0;34m,\u001b[0m \u001b[0;34m**\u001b[0m\u001b[0mkwargs\u001b[0m\u001b[0;34m)\u001b[0m\u001b[0;34m:\u001b[0m\u001b[0;34m\u001b[0m\u001b[0m\n\u001b[0;32m---> 85\u001b[0;31m                 \u001b[0mresult\u001b[0m \u001b[0;34m=\u001b[0m \u001b[0m_f\u001b[0m\u001b[0;34m(\u001b[0m\u001b[0;34m*\u001b[0m\u001b[0margs\u001b[0m\u001b[0;34m,\u001b[0m \u001b[0;34m**\u001b[0m\u001b[0mkwargs\u001b[0m\u001b[0;34m)\u001b[0m\u001b[0;34m\u001b[0m\u001b[0m\n\u001b[0m\u001b[1;32m     86\u001b[0m                 \u001b[0ms\u001b[0m\u001b[0;34m,\u001b[0m \u001b[0mobj\u001b[0m\u001b[0;34m,\u001b[0m \u001b[0mspan\u001b[0m \u001b[0;34m=\u001b[0m \u001b[0mresult\u001b[0m\u001b[0;34m\u001b[0m\u001b[0m\n\u001b[1;32m     87\u001b[0m                 \u001b[0;32mif\u001b[0m \u001b[0mcallable\u001b[0m\u001b[0;34m(\u001b[0m\u001b[0mval\u001b[0m\u001b[0;34m)\u001b[0m\u001b[0;34m:\u001b[0m\u001b[0;34m\u001b[0m\u001b[0m\n",
      "\u001b[0;32m~/miniconda3/lib/python3.6/site-packages/delphin/lib/pegre.py\u001b[0m in \u001b[0;36mmatch_zero_or_more\u001b[0;34m(s, grm, pos)\u001b[0m\n\u001b[1;32m    236\u001b[0m                 \u001b[0;32mif\u001b[0m \u001b[0mobj\u001b[0m \u001b[0;32mis\u001b[0m \u001b[0;32mnot\u001b[0m \u001b[0mIgnore\u001b[0m\u001b[0;34m:\u001b[0m\u001b[0;34m\u001b[0m\u001b[0m\n\u001b[1;32m    237\u001b[0m                     \u001b[0mdata\u001b[0m\u001b[0;34m.\u001b[0m\u001b[0mappend\u001b[0m\u001b[0;34m(\u001b[0m\u001b[0mobj\u001b[0m\u001b[0;34m)\u001b[0m\u001b[0;34m\u001b[0m\u001b[0m\n\u001b[0;32m--> 238\u001b[0;31m                 \u001b[0ms\u001b[0m\u001b[0;34m,\u001b[0m \u001b[0mobj\u001b[0m\u001b[0;34m,\u001b[0m \u001b[0mspan\u001b[0m \u001b[0;34m=\u001b[0m \u001b[0me\u001b[0m\u001b[0;34m(\u001b[0m\u001b[0ms\u001b[0m\u001b[0;34m,\u001b[0m \u001b[0mgrm\u001b[0m\u001b[0;34m,\u001b[0m \u001b[0mpos\u001b[0m\u001b[0;34m)\u001b[0m\u001b[0;34m\u001b[0m\u001b[0m\n\u001b[0m\u001b[1;32m    239\u001b[0m                 \u001b[0mpos\u001b[0m \u001b[0;34m=\u001b[0m \u001b[0mspan\u001b[0m\u001b[0;34m[\u001b[0m\u001b[0;36m1\u001b[0m\u001b[0;34m]\u001b[0m\u001b[0;34m\u001b[0m\u001b[0m\n\u001b[1;32m    240\u001b[0m                 \u001b[0;32mif\u001b[0m \u001b[0mobj\u001b[0m \u001b[0;32mis\u001b[0m \u001b[0;32mnot\u001b[0m \u001b[0mIgnore\u001b[0m\u001b[0;34m:\u001b[0m\u001b[0;34m\u001b[0m\u001b[0m\n",
      "\u001b[0;32m~/miniconda3/lib/python3.6/site-packages/delphin/lib/pegre.py\u001b[0m in \u001b[0;36mmatch_nonterminal\u001b[0;34m(s, grm, pos)\u001b[0m\n\u001b[1;32m    134\u001b[0m         \u001b[0;32mif\u001b[0m \u001b[0mgrm\u001b[0m \u001b[0;32mis\u001b[0m \u001b[0;32mNone\u001b[0m\u001b[0;34m:\u001b[0m \u001b[0mgrm\u001b[0m \u001b[0;34m=\u001b[0m \u001b[0;34m{\u001b[0m\u001b[0;34m}\u001b[0m\u001b[0;34m\u001b[0m\u001b[0m\n\u001b[1;32m    135\u001b[0m         \u001b[0mexpr\u001b[0m \u001b[0;34m=\u001b[0m \u001b[0mgrm\u001b[0m\u001b[0;34m[\u001b[0m\u001b[0mn\u001b[0m\u001b[0;34m]\u001b[0m\u001b[0;34m\u001b[0m\u001b[0m\n\u001b[0;32m--> 136\u001b[0;31m         \u001b[0;32mreturn\u001b[0m \u001b[0mexpr\u001b[0m\u001b[0;34m(\u001b[0m\u001b[0ms\u001b[0m\u001b[0;34m,\u001b[0m \u001b[0mgrm\u001b[0m\u001b[0;34m,\u001b[0m \u001b[0mpos\u001b[0m\u001b[0;34m)\u001b[0m\u001b[0;34m\u001b[0m\u001b[0m\n\u001b[0m\u001b[1;32m    137\u001b[0m     \u001b[0;32mreturn\u001b[0m \u001b[0mmatch_nonterminal\u001b[0m\u001b[0;34m\u001b[0m\u001b[0m\n\u001b[1;32m    138\u001b[0m \u001b[0;34m\u001b[0m\u001b[0m\n",
      "\u001b[0;32m~/miniconda3/lib/python3.6/site-packages/delphin/lib/pegre.py\u001b[0m in \u001b[0;36mmatch_choice\u001b[0;34m(s, grm, pos)\u001b[0m\n\u001b[1;32m    191\u001b[0m         \u001b[0;32mfor\u001b[0m \u001b[0me\u001b[0m \u001b[0;32min\u001b[0m \u001b[0mes\u001b[0m\u001b[0;34m:\u001b[0m\u001b[0;34m\u001b[0m\u001b[0m\n\u001b[1;32m    192\u001b[0m             \u001b[0;32mtry\u001b[0m\u001b[0;34m:\u001b[0m\u001b[0;34m\u001b[0m\u001b[0m\n\u001b[0;32m--> 193\u001b[0;31m                 \u001b[0;32mreturn\u001b[0m \u001b[0me\u001b[0m\u001b[0;34m(\u001b[0m\u001b[0ms\u001b[0m\u001b[0;34m,\u001b[0m \u001b[0mgrm\u001b[0m\u001b[0;34m,\u001b[0m \u001b[0mpos\u001b[0m\u001b[0;34m)\u001b[0m\u001b[0;34m\u001b[0m\u001b[0m\n\u001b[0m\u001b[1;32m    194\u001b[0m             \u001b[0;32mexcept\u001b[0m \u001b[0mPegreError\u001b[0m \u001b[0;32mas\u001b[0m \u001b[0mex\u001b[0m\u001b[0;34m:\u001b[0m\u001b[0;34m\u001b[0m\u001b[0m\n\u001b[1;32m    195\u001b[0m                 \u001b[0merrs\u001b[0m\u001b[0;34m.\u001b[0m\u001b[0mappend\u001b[0m\u001b[0;34m(\u001b[0m\u001b[0;34m(\u001b[0m\u001b[0mex\u001b[0m\u001b[0;34m.\u001b[0m\u001b[0mmessage\u001b[0m\u001b[0;34m,\u001b[0m \u001b[0mex\u001b[0m\u001b[0;34m.\u001b[0m\u001b[0mposition\u001b[0m\u001b[0;34m)\u001b[0m\u001b[0;34m)\u001b[0m\u001b[0;34m\u001b[0m\u001b[0m\n",
      "\u001b[0;32m~/miniconda3/lib/python3.6/site-packages/delphin/lib/pegre.py\u001b[0m in \u001b[0;36mvalued_f\u001b[0;34m(*args, **kwargs)\u001b[0m\n\u001b[1;32m     83\u001b[0m             \u001b[0m_f\u001b[0m \u001b[0;34m=\u001b[0m \u001b[0mf\u001b[0m\u001b[0;34m(\u001b[0m\u001b[0;34m*\u001b[0m\u001b[0margs\u001b[0m\u001b[0;34m,\u001b[0m \u001b[0;34m**\u001b[0m\u001b[0mkwargs\u001b[0m\u001b[0;34m)\u001b[0m\u001b[0;34m\u001b[0m\u001b[0m\n\u001b[1;32m     84\u001b[0m             \u001b[0;32mdef\u001b[0m \u001b[0mvalued_f\u001b[0m\u001b[0;34m(\u001b[0m\u001b[0;34m*\u001b[0m\u001b[0margs\u001b[0m\u001b[0;34m,\u001b[0m \u001b[0;34m**\u001b[0m\u001b[0mkwargs\u001b[0m\u001b[0;34m)\u001b[0m\u001b[0;34m:\u001b[0m\u001b[0;34m\u001b[0m\u001b[0m\n\u001b[0;32m---> 85\u001b[0;31m                 \u001b[0mresult\u001b[0m \u001b[0;34m=\u001b[0m \u001b[0m_f\u001b[0m\u001b[0;34m(\u001b[0m\u001b[0;34m*\u001b[0m\u001b[0margs\u001b[0m\u001b[0;34m,\u001b[0m \u001b[0;34m**\u001b[0m\u001b[0mkwargs\u001b[0m\u001b[0;34m)\u001b[0m\u001b[0;34m\u001b[0m\u001b[0m\n\u001b[0m\u001b[1;32m     86\u001b[0m                 \u001b[0ms\u001b[0m\u001b[0;34m,\u001b[0m \u001b[0mobj\u001b[0m\u001b[0;34m,\u001b[0m \u001b[0mspan\u001b[0m \u001b[0;34m=\u001b[0m \u001b[0mresult\u001b[0m\u001b[0;34m\u001b[0m\u001b[0m\n\u001b[1;32m     87\u001b[0m                 \u001b[0;32mif\u001b[0m \u001b[0mcallable\u001b[0m\u001b[0;34m(\u001b[0m\u001b[0mval\u001b[0m\u001b[0;34m)\u001b[0m\u001b[0;34m:\u001b[0m\u001b[0;34m\u001b[0m\u001b[0m\n",
      "\u001b[0;32m~/miniconda3/lib/python3.6/site-packages/delphin/lib/pegre.py\u001b[0m in \u001b[0;36mmatch_sequence\u001b[0;34m(s, grm, pos)\u001b[0m\n\u001b[1;32m    174\u001b[0m         \u001b[0mstart\u001b[0m \u001b[0;34m=\u001b[0m \u001b[0mpos\u001b[0m\u001b[0;34m\u001b[0m\u001b[0m\n\u001b[1;32m    175\u001b[0m         \u001b[0;32mfor\u001b[0m \u001b[0me\u001b[0m \u001b[0;32min\u001b[0m \u001b[0mes\u001b[0m\u001b[0;34m:\u001b[0m\u001b[0;34m\u001b[0m\u001b[0m\n\u001b[0;32m--> 176\u001b[0;31m             \u001b[0ms\u001b[0m\u001b[0;34m,\u001b[0m \u001b[0mobj\u001b[0m\u001b[0;34m,\u001b[0m \u001b[0mspan\u001b[0m \u001b[0;34m=\u001b[0m \u001b[0me\u001b[0m\u001b[0;34m(\u001b[0m\u001b[0ms\u001b[0m\u001b[0;34m,\u001b[0m \u001b[0mgrm\u001b[0m\u001b[0;34m,\u001b[0m \u001b[0mpos\u001b[0m\u001b[0;34m)\u001b[0m\u001b[0;34m\u001b[0m\u001b[0m\n\u001b[0m\u001b[1;32m    177\u001b[0m             \u001b[0mpos\u001b[0m \u001b[0;34m=\u001b[0m \u001b[0mspan\u001b[0m\u001b[0;34m[\u001b[0m\u001b[0;36m1\u001b[0m\u001b[0;34m]\u001b[0m\u001b[0;34m\u001b[0m\u001b[0m\n\u001b[1;32m    178\u001b[0m             \u001b[0;32mif\u001b[0m \u001b[0mobj\u001b[0m \u001b[0;32mis\u001b[0m \u001b[0;32mnot\u001b[0m \u001b[0mIgnore\u001b[0m\u001b[0;34m:\u001b[0m\u001b[0;34m\u001b[0m\u001b[0m\n",
      "\u001b[0;32m~/miniconda3/lib/python3.6/site-packages/delphin/lib/pegre.py\u001b[0m in \u001b[0;36mmatch_choice\u001b[0;34m(s, grm, pos)\u001b[0m\n\u001b[1;32m    191\u001b[0m         \u001b[0;32mfor\u001b[0m \u001b[0me\u001b[0m \u001b[0;32min\u001b[0m \u001b[0mes\u001b[0m\u001b[0;34m:\u001b[0m\u001b[0;34m\u001b[0m\u001b[0m\n\u001b[1;32m    192\u001b[0m             \u001b[0;32mtry\u001b[0m\u001b[0;34m:\u001b[0m\u001b[0;34m\u001b[0m\u001b[0m\n\u001b[0;32m--> 193\u001b[0;31m                 \u001b[0;32mreturn\u001b[0m \u001b[0me\u001b[0m\u001b[0;34m(\u001b[0m\u001b[0ms\u001b[0m\u001b[0;34m,\u001b[0m \u001b[0mgrm\u001b[0m\u001b[0;34m,\u001b[0m \u001b[0mpos\u001b[0m\u001b[0;34m)\u001b[0m\u001b[0;34m\u001b[0m\u001b[0m\n\u001b[0m\u001b[1;32m    194\u001b[0m             \u001b[0;32mexcept\u001b[0m \u001b[0mPegreError\u001b[0m \u001b[0;32mas\u001b[0m \u001b[0mex\u001b[0m\u001b[0;34m:\u001b[0m\u001b[0;34m\u001b[0m\u001b[0m\n\u001b[1;32m    195\u001b[0m                 \u001b[0merrs\u001b[0m\u001b[0;34m.\u001b[0m\u001b[0mappend\u001b[0m\u001b[0;34m(\u001b[0m\u001b[0;34m(\u001b[0m\u001b[0mex\u001b[0m\u001b[0;34m.\u001b[0m\u001b[0mmessage\u001b[0m\u001b[0;34m,\u001b[0m \u001b[0mex\u001b[0m\u001b[0;34m.\u001b[0m\u001b[0mposition\u001b[0m\u001b[0;34m)\u001b[0m\u001b[0;34m)\u001b[0m\u001b[0;34m\u001b[0m\u001b[0m\n",
      "\u001b[0;32m~/miniconda3/lib/python3.6/site-packages/delphin/lib/pegre.py\u001b[0m in \u001b[0;36mvalued_f\u001b[0;34m(*args, **kwargs)\u001b[0m\n\u001b[1;32m     83\u001b[0m             \u001b[0m_f\u001b[0m \u001b[0;34m=\u001b[0m \u001b[0mf\u001b[0m\u001b[0;34m(\u001b[0m\u001b[0;34m*\u001b[0m\u001b[0margs\u001b[0m\u001b[0;34m,\u001b[0m \u001b[0;34m**\u001b[0m\u001b[0mkwargs\u001b[0m\u001b[0;34m)\u001b[0m\u001b[0;34m\u001b[0m\u001b[0m\n\u001b[1;32m     84\u001b[0m             \u001b[0;32mdef\u001b[0m \u001b[0mvalued_f\u001b[0m\u001b[0;34m(\u001b[0m\u001b[0;34m*\u001b[0m\u001b[0margs\u001b[0m\u001b[0;34m,\u001b[0m \u001b[0;34m**\u001b[0m\u001b[0mkwargs\u001b[0m\u001b[0;34m)\u001b[0m\u001b[0;34m:\u001b[0m\u001b[0;34m\u001b[0m\u001b[0m\n\u001b[0;32m---> 85\u001b[0;31m                 \u001b[0mresult\u001b[0m \u001b[0;34m=\u001b[0m \u001b[0m_f\u001b[0m\u001b[0;34m(\u001b[0m\u001b[0;34m*\u001b[0m\u001b[0margs\u001b[0m\u001b[0;34m,\u001b[0m \u001b[0;34m**\u001b[0m\u001b[0mkwargs\u001b[0m\u001b[0;34m)\u001b[0m\u001b[0;34m\u001b[0m\u001b[0m\n\u001b[0m\u001b[1;32m     86\u001b[0m                 \u001b[0ms\u001b[0m\u001b[0;34m,\u001b[0m \u001b[0mobj\u001b[0m\u001b[0;34m,\u001b[0m \u001b[0mspan\u001b[0m \u001b[0;34m=\u001b[0m \u001b[0mresult\u001b[0m\u001b[0;34m\u001b[0m\u001b[0m\n\u001b[1;32m     87\u001b[0m                 \u001b[0;32mif\u001b[0m \u001b[0mcallable\u001b[0m\u001b[0;34m(\u001b[0m\u001b[0mval\u001b[0m\u001b[0;34m)\u001b[0m\u001b[0;34m:\u001b[0m\u001b[0;34m\u001b[0m\u001b[0m\n",
      "\u001b[0;32m~/miniconda3/lib/python3.6/site-packages/delphin/lib/pegre.py\u001b[0m in \u001b[0;36mmatch_sequence\u001b[0;34m(s, grm, pos)\u001b[0m\n\u001b[1;32m    174\u001b[0m         \u001b[0mstart\u001b[0m \u001b[0;34m=\u001b[0m \u001b[0mpos\u001b[0m\u001b[0;34m\u001b[0m\u001b[0m\n\u001b[1;32m    175\u001b[0m         \u001b[0;32mfor\u001b[0m \u001b[0me\u001b[0m \u001b[0;32min\u001b[0m \u001b[0mes\u001b[0m\u001b[0;34m:\u001b[0m\u001b[0;34m\u001b[0m\u001b[0m\n\u001b[0;32m--> 176\u001b[0;31m             \u001b[0ms\u001b[0m\u001b[0;34m,\u001b[0m \u001b[0mobj\u001b[0m\u001b[0;34m,\u001b[0m \u001b[0mspan\u001b[0m \u001b[0;34m=\u001b[0m \u001b[0me\u001b[0m\u001b[0;34m(\u001b[0m\u001b[0ms\u001b[0m\u001b[0;34m,\u001b[0m \u001b[0mgrm\u001b[0m\u001b[0;34m,\u001b[0m \u001b[0mpos\u001b[0m\u001b[0;34m)\u001b[0m\u001b[0;34m\u001b[0m\u001b[0m\n\u001b[0m\u001b[1;32m    177\u001b[0m             \u001b[0mpos\u001b[0m \u001b[0;34m=\u001b[0m \u001b[0mspan\u001b[0m\u001b[0;34m[\u001b[0m\u001b[0;36m1\u001b[0m\u001b[0;34m]\u001b[0m\u001b[0;34m\u001b[0m\u001b[0m\n\u001b[1;32m    178\u001b[0m             \u001b[0;32mif\u001b[0m \u001b[0mobj\u001b[0m \u001b[0;32mis\u001b[0m \u001b[0;32mnot\u001b[0m \u001b[0mIgnore\u001b[0m\u001b[0;34m:\u001b[0m\u001b[0;34m\u001b[0m\u001b[0m\n",
      "\u001b[0;32m~/miniconda3/lib/python3.6/site-packages/delphin/lib/pegre.py\u001b[0m in \u001b[0;36mmatch_regex\u001b[0;34m(s, grm, pos)\u001b[0m\n\u001b[1;32m    122\u001b[0m             \u001b[0mstart\u001b[0m\u001b[0;34m,\u001b[0m \u001b[0mend\u001b[0m \u001b[0;34m=\u001b[0m \u001b[0mm\u001b[0m\u001b[0;34m.\u001b[0m\u001b[0mspan\u001b[0m\u001b[0;34m(\u001b[0m\u001b[0;34m)\u001b[0m\u001b[0;34m\u001b[0m\u001b[0m\n\u001b[1;32m    123\u001b[0m             \u001b[0mdata\u001b[0m \u001b[0;34m=\u001b[0m \u001b[0mm\u001b[0m\u001b[0;34m.\u001b[0m\u001b[0mgroupdict\u001b[0m\u001b[0;34m(\u001b[0m\u001b[0;34m)\u001b[0m \u001b[0;32mif\u001b[0m \u001b[0mp\u001b[0m\u001b[0;34m.\u001b[0m\u001b[0mgroupindex\u001b[0m \u001b[0;32melse\u001b[0m \u001b[0mm\u001b[0m\u001b[0;34m.\u001b[0m\u001b[0mgroup\u001b[0m\u001b[0;34m(\u001b[0m\u001b[0;34m)\u001b[0m\u001b[0;34m\u001b[0m\u001b[0m\n\u001b[0;32m--> 124\u001b[0;31m             \u001b[0;32mreturn\u001b[0m \u001b[0mPegreResult\u001b[0m\u001b[0;34m(\u001b[0m\u001b[0ms\u001b[0m\u001b[0;34m[\u001b[0m\u001b[0mm\u001b[0m\u001b[0;34m.\u001b[0m\u001b[0mend\u001b[0m\u001b[0;34m(\u001b[0m\u001b[0;34m)\u001b[0m\u001b[0;34m:\u001b[0m\u001b[0;34m]\u001b[0m\u001b[0;34m,\u001b[0m \u001b[0mdata\u001b[0m\u001b[0;34m,\u001b[0m \u001b[0;34m(\u001b[0m\u001b[0mpos\u001b[0m\u001b[0;34m+\u001b[0m\u001b[0mstart\u001b[0m\u001b[0;34m,\u001b[0m \u001b[0mpos\u001b[0m\u001b[0;34m+\u001b[0m\u001b[0mend\u001b[0m\u001b[0;34m)\u001b[0m\u001b[0;34m)\u001b[0m\u001b[0;34m\u001b[0m\u001b[0m\n\u001b[0m\u001b[1;32m    125\u001b[0m         \u001b[0;32mraise\u001b[0m \u001b[0mPegreError\u001b[0m\u001b[0;34m(\u001b[0m\u001b[0mmsg\u001b[0m\u001b[0;34m,\u001b[0m \u001b[0mpos\u001b[0m\u001b[0;34m)\u001b[0m\u001b[0;34m\u001b[0m\u001b[0m\n\u001b[1;32m    126\u001b[0m     \u001b[0;32mreturn\u001b[0m \u001b[0mmatch_regex\u001b[0m\u001b[0;34m\u001b[0m\u001b[0m\n",
      "\u001b[0;31mKeyboardInterrupt\u001b[0m: "
     ]
    }
   ],
   "source": [
    "l, n = full_parse('don\\' put red blocks on blue blocks')"
   ]
  },
  {
   "cell_type": "code",
   "execution_count": null,
   "metadata": {},
   "outputs": [],
   "source": [
    "l"
   ]
  },
  {
   "cell_type": "code",
   "execution_count": null,
   "metadata": {},
   "outputs": [],
   "source": []
  }
 ],
 "metadata": {
  "kernelspec": {
   "display_name": "Python 3",
   "language": "python",
   "name": "python3"
  },
  "language_info": {
   "codemirror_mode": {
    "name": "ipython",
    "version": 3
   },
   "file_extension": ".py",
   "mimetype": "text/x-python",
   "name": "python",
   "nbconvert_exporter": "python",
   "pygments_lexer": "ipython3",
   "version": "3.6.5"
  }
 },
 "nbformat": 4,
 "nbformat_minor": 2
}

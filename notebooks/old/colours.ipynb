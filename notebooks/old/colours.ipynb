{
 "cells": [
  {
   "cell_type": "code",
   "execution_count": 16,
   "metadata": {},
   "outputs": [],
   "source": [
    "import webcolors\n",
    "import matplotlib.pyplot as plt\n",
    "import numpy as np\n",
    "from matplotlib.patches import Rectangle\n",
    "from matplotlib.collections import PatchCollection"
   ]
  },
  {
   "cell_type": "code",
   "execution_count": 26,
   "metadata": {},
   "outputs": [],
   "source": [
    "positions = np.array([(0.3*i, 0) for i in range(5)])"
   ]
  },
  {
   "cell_type": "code",
   "execution_count": 8,
   "metadata": {},
   "outputs": [
    {
     "data": {
      "text/plain": [
       "array([0.2, 0.4, 0.6, 0.8])"
      ]
     },
     "execution_count": 8,
     "metadata": {},
     "output_type": "execute_result"
    }
   ],
   "source": [
    "positions"
   ]
  },
  {
   "cell_type": "code",
   "execution_count": 27,
   "metadata": {},
   "outputs": [],
   "source": [
    "colours = ['navy', 'red', 'hotpink', 'coral', 'tomato']\n",
    "rgbs = [webcolors.name_to_rgb(colour) for colour in colours]"
   ]
  },
  {
   "cell_type": "code",
   "execution_count": 9,
   "metadata": {},
   "outputs": [
    {
     "data": {
      "text/plain": [
       "IntegerRGB(red=0, green=0, blue=128)"
      ]
     },
     "execution_count": 9,
     "metadata": {},
     "output_type": "execute_result"
    }
   ],
   "source": [
    "webcolors.name_to_rgb('navy')"
   ]
  },
  {
   "cell_type": "code",
   "execution_count": 36,
   "metadata": {},
   "outputs": [],
   "source": [
    "WIDTH = HEIGHT = 0.2\n",
    "def plot_blocks(posns, colours, height = 0.2, width=0.2, object_separation=0.1):\n",
    "    fig, ax = plt.subplots()\n",
    "    resolution = 50\n",
    "    \n",
    "    patches = []\n",
    "    for (x1, y1), c in zip(posns, colours):\n",
    "        rectangle = Rectangle((x1, y1), width=width, height=height,\n",
    "            edgecolor= (0,0,0), facecolor=c)\n",
    "        ax.add_artist(rectangle)\n",
    "    x_pos = posns[:][0]\n",
    "    y_pos = posns[:][1]\n",
    "    plt.xlim(0, (width+object_separation)*len(posns))\n",
    "    plt.ylim(0, (height*len(posns)+object_separation))\n",
    "    plt.axis('off')\n",
    "\n",
    "    plt.show()"
   ]
  },
  {
   "cell_type": "code",
   "execution_count": 55,
   "metadata": {},
   "outputs": [
    {
     "data": {
      "text/plain": [
       "array([  0,   0, 128])"
      ]
     },
     "execution_count": 55,
     "metadata": {},
     "output_type": "execute_result"
    }
   ],
   "source": [
    "np.array(rgbs[0])"
   ]
  },
  {
   "cell_type": "code",
   "execution_count": 56,
   "metadata": {},
   "outputs": [],
   "source": [
    "def namedtuple_to_rgb(rgb):\n",
    "    return np.array(rgb, dtype=np.float32)/255"
   ]
  },
  {
   "cell_type": "code",
   "execution_count": 58,
   "metadata": {},
   "outputs": [
    {
     "data": {
      "image/png": "[encoded data removed]",
      "text/plain": [
       "<Figure size 432x288 with 1 Axes>"
      ]
     },
     "metadata": {},
     "output_type": "display_data"
    }
   ],
   "source": [
    "plot_blocks(positions, map(namedtuple_to_rgb, rgbs))"
   ]
  },
  {
   "cell_type": "code",
   "execution_count": 38,
   "metadata": {},
   "outputs": [
    {
     "data": {
      "text/plain": [
       "[IntegerRGB(red=0, green=0, blue=128),\n",
       " IntegerRGB(red=255, green=0, blue=0),\n",
       " IntegerRGB(red=255, green=105, blue=180),\n",
       " IntegerRGB(red=255, green=127, blue=80),\n",
       " IntegerRGB(red=255, green=99, blue=71)]"
      ]
     },
     "execution_count": 38,
     "metadata": {},
     "output_type": "execute_result"
    }
   ],
   "source": [
    "rgbs"
   ]
  },
  {
   "cell_type": "code",
   "execution_count": 43,
   "metadata": {},
   "outputs": [],
   "source": [
    "cnames = {\n",
    "'aliceblue':            '#F0F8FF',\n",
    "'antiquewhite':         '#FAEBD7',\n",
    "'aqua':                 '#00FFFF',\n",
    "'aquamarine':           '#7FFFD4',\n",
    "'azure':                '#F0FFFF',\n",
    "'beige':                '#F5F5DC',\n",
    "'bisque':               '#FFE4C4',\n",
    "'black':                '#000000',\n",
    "'blanchedalmond':       '#FFEBCD',\n",
    "'blue':                 '#0000FF',\n",
    "'blueviolet':           '#8A2BE2',\n",
    "'brown':                '#A52A2A',\n",
    "'burlywood':            '#DEB887',\n",
    "'cadetblue':            '#5F9EA0',\n",
    "'chartreuse':           '#7FFF00',\n",
    "'chocolate':            '#D2691E',\n",
    "'coral':                '#FF7F50',\n",
    "'cornflowerblue':       '#6495ED',\n",
    "'cornsilk':             '#FFF8DC',\n",
    "'crimson':              '#DC143C',\n",
    "'cyan':                 '#00FFFF',\n",
    "'darkblue':             '#00008B',\n",
    "'darkcyan':             '#008B8B',\n",
    "'darkgoldenrod':        '#B8860B',\n",
    "'darkgray':             '#A9A9A9',\n",
    "'darkgreen':            '#006400',\n",
    "'darkkhaki':            '#BDB76B',\n",
    "'darkmagenta':          '#8B008B',\n",
    "'darkolivegreen':       '#556B2F',\n",
    "'darkorange':           '#FF8C00',\n",
    "'darkorchid':           '#9932CC',\n",
    "'darkred':              '#8B0000',\n",
    "'darksalmon':           '#E9967A',\n",
    "'darkseagreen':         '#8FBC8F',\n",
    "'darkslateblue':        '#483D8B',\n",
    "'darkslategray':        '#2F4F4F',\n",
    "'darkturquoise':        '#00CED1',\n",
    "'darkviolet':           '#9400D3',\n",
    "'deeppink':             '#FF1493',\n",
    "'deepskyblue':          '#00BFFF',\n",
    "'dimgray':              '#696969',\n",
    "'dodgerblue':           '#1E90FF',\n",
    "'firebrick':            '#B22222',\n",
    "'floralwhite':          '#FFFAF0',\n",
    "'forestgreen':          '#228B22',\n",
    "'fuchsia':              '#FF00FF',\n",
    "'gainsboro':            '#DCDCDC',\n",
    "'ghostwhite':           '#F8F8FF',\n",
    "'gold':                 '#FFD700',\n",
    "'goldenrod':            '#DAA520',\n",
    "'gray':                 '#808080',\n",
    "'green':                '#008000',\n",
    "'greenyellow':          '#ADFF2F',\n",
    "'honeydew':             '#F0FFF0',\n",
    "'hotpink':              '#FF69B4',\n",
    "'indianred':            '#CD5C5C',\n",
    "'indigo':               '#4B0082',\n",
    "'ivory':                '#FFFFF0',\n",
    "'khaki':                '#F0E68C',\n",
    "'lavender':             '#E6E6FA',\n",
    "'lavenderblush':        '#FFF0F5',\n",
    "'lawngreen':            '#7CFC00',\n",
    "'lemonchiffon':         '#FFFACD',\n",
    "'lightblue':            '#ADD8E6',\n",
    "'lightcoral':           '#F08080',\n",
    "'lightcyan':            '#E0FFFF',\n",
    "'lightgoldenrodyellow': '#FAFAD2',\n",
    "'lightgreen':           '#90EE90',\n",
    "'lightgray':            '#D3D3D3',\n",
    "'lightpink':            '#FFB6C1',\n",
    "'lightsalmon':          '#FFA07A',\n",
    "'lightseagreen':        '#20B2AA',\n",
    "'lightskyblue':         '#87CEFA',\n",
    "'lightslategray':       '#778899',\n",
    "'lightsteelblue':       '#B0C4DE',\n",
    "'lightyellow':          '#FFFFE0',\n",
    "'lime':                 '#00FF00',\n",
    "'limegreen':            '#32CD32',\n",
    "'linen':                '#FAF0E6',\n",
    "'magenta':              '#FF00FF',\n",
    "'maroon':               '#800000',\n",
    "'mediumaquamarine':     '#66CDAA',\n",
    "'mediumblue':           '#0000CD',\n",
    "'mediumorchid':         '#BA55D3',\n",
    "'mediumpurple':         '#9370DB',\n",
    "'mediumseagreen':       '#3CB371',\n",
    "'mediumslateblue':      '#7B68EE',\n",
    "'mediumspringgreen':    '#00FA9A',\n",
    "'mediumturquoise':      '#48D1CC',\n",
    "'mediumvioletred':      '#C71585',\n",
    "'midnightblue':         '#191970',\n",
    "'mintcream':            '#F5FFFA',\n",
    "'mistyrose':            '#FFE4E1',\n",
    "'moccasin':             '#FFE4B5',\n",
    "'navajowhite':          '#FFDEAD',\n",
    "'navy':                 '#000080',\n",
    "'oldlace':              '#FDF5E6',\n",
    "'olive':                '#808000',\n",
    "'olivedrab':            '#6B8E23',\n",
    "'orange':               '#FFA500',\n",
    "'orangered':            '#FF4500',\n",
    "'orchid':               '#DA70D6',\n",
    "'palegoldenrod':        '#EEE8AA',\n",
    "'palegreen':            '#98FB98',\n",
    "'paleturquoise':        '#AFEEEE',\n",
    "'palevioletred':        '#DB7093',\n",
    "'papayawhip':           '#FFEFD5',\n",
    "'peachpuff':            '#FFDAB9',\n",
    "'peru':                 '#CD853F',\n",
    "'pink':                 '#FFC0CB',\n",
    "'plum':                 '#DDA0DD',\n",
    "'powderblue':           '#B0E0E6',\n",
    "'purple':               '#800080',\n",
    "'red':                  '#FF0000',\n",
    "'rosybrown':            '#BC8F8F',\n",
    "'royalblue':            '#4169E1',\n",
    "'saddlebrown':          '#8B4513',\n",
    "'salmon':               '#FA8072',\n",
    "'sandybrown':           '#FAA460',\n",
    "'seagreen':             '#2E8B57',\n",
    "'seashell':             '#FFF5EE',\n",
    "'sienna':               '#A0522D',\n",
    "'silver':               '#C0C0C0',\n",
    "'skyblue':              '#87CEEB',\n",
    "'slateblue':            '#6A5ACD',\n",
    "'slategray':            '#708090',\n",
    "'snow':                 '#FFFAFA',\n",
    "'springgreen':          '#00FF7F',\n",
    "'steelblue':            '#4682B4',\n",
    "'tan':                  '#D2B48C',\n",
    "'teal':                 '#008080',\n",
    "'thistle':              '#D8BFD8',\n",
    "'tomato':               '#FF6347',\n",
    "'turquoise':            '#40E0D0',\n",
    "'violet':               '#EE82EE',\n",
    "'wheat':                '#F5DEB3',\n",
    "'white':                '#FFFFFF',\n",
    "'whitesmoke':           '#F5F5F5',\n",
    "'yellow':               '#FFFF00',\n",
    "'yellowgreen':          '#9ACD32'}"
   ]
  },
  {
   "cell_type": "code",
   "execution_count": 44,
   "metadata": {},
   "outputs": [
    {
     "data": {
      "text/plain": [
       "140"
      ]
     },
     "execution_count": 44,
     "metadata": {},
     "output_type": "execute_result"
    }
   ],
   "source": [
    "len(cnames)"
   ]
  },
  {
   "cell_type": "code",
   "execution_count": 50,
   "metadata": {},
   "outputs": [],
   "source": [
    "from matplotlib import colors\n",
    "import six\n",
    "colors_ = [color for color in list(six.iteritems(colors.cnames)) if not ':' in color]\n",
    "colour_names = [c for c, _ in colors_]"
   ]
  },
  {
   "cell_type": "code",
   "execution_count": 52,
   "metadata": {},
   "outputs": [
    {
     "data": {
      "text/plain": [
       "148"
      ]
     },
     "execution_count": 52,
     "metadata": {},
     "output_type": "execute_result"
    }
   ],
   "source": [
    "len(colour_names"
   ]
  },
  {
   "cell_type": "code",
   "execution_count": 49,
   "metadata": {},
   "outputs": [
    {
     "data": {
      "text/plain": [
       "[('aliceblue', '#F0F8FF'),\n",
       " ('antiquewhite', '#FAEBD7'),\n",
       " ('aqua', '#00FFFF'),\n",
       " ('aquamarine', '#7FFFD4'),\n",
       " ('azure', '#F0FFFF'),\n",
       " ('beige', '#F5F5DC'),\n",
       " ('bisque', '#FFE4C4'),\n",
       " ('black', '#000000'),\n",
       " ('blanchedalmond', '#FFEBCD'),\n",
       " ('blue', '#0000FF'),\n",
       " ('blueviolet', '#8A2BE2'),\n",
       " ('brown', '#A52A2A'),\n",
       " ('burlywood', '#DEB887'),\n",
       " ('cadetblue', '#5F9EA0'),\n",
       " ('chartreuse', '#7FFF00'),\n",
       " ('chocolate', '#D2691E'),\n",
       " ('coral', '#FF7F50'),\n",
       " ('cornflowerblue', '#6495ED'),\n",
       " ('cornsilk', '#FFF8DC'),\n",
       " ('crimson', '#DC143C'),\n",
       " ('cyan', '#00FFFF'),\n",
       " ('darkblue', '#00008B'),\n",
       " ('darkcyan', '#008B8B'),\n",
       " ('darkgoldenrod', '#B8860B'),\n",
       " ('darkgray', '#A9A9A9'),\n",
       " ('darkgreen', '#006400'),\n",
       " ('darkgrey', '#A9A9A9'),\n",
       " ('darkkhaki', '#BDB76B'),\n",
       " ('darkmagenta', '#8B008B'),\n",
       " ('darkolivegreen', '#556B2F'),\n",
       " ('darkorange', '#FF8C00'),\n",
       " ('darkorchid', '#9932CC'),\n",
       " ('darkred', '#8B0000'),\n",
       " ('darksalmon', '#E9967A'),\n",
       " ('darkseagreen', '#8FBC8F'),\n",
       " ('darkslateblue', '#483D8B'),\n",
       " ('darkslategray', '#2F4F4F'),\n",
       " ('darkslategrey', '#2F4F4F'),\n",
       " ('darkturquoise', '#00CED1'),\n",
       " ('darkviolet', '#9400D3'),\n",
       " ('deeppink', '#FF1493'),\n",
       " ('deepskyblue', '#00BFFF'),\n",
       " ('dimgray', '#696969'),\n",
       " ('dimgrey', '#696969'),\n",
       " ('dodgerblue', '#1E90FF'),\n",
       " ('firebrick', '#B22222'),\n",
       " ('floralwhite', '#FFFAF0'),\n",
       " ('forestgreen', '#228B22'),\n",
       " ('fuchsia', '#FF00FF'),\n",
       " ('gainsboro', '#DCDCDC'),\n",
       " ('ghostwhite', '#F8F8FF'),\n",
       " ('gold', '#FFD700'),\n",
       " ('goldenrod', '#DAA520'),\n",
       " ('gray', '#808080'),\n",
       " ('green', '#008000'),\n",
       " ('greenyellow', '#ADFF2F'),\n",
       " ('grey', '#808080'),\n",
       " ('honeydew', '#F0FFF0'),\n",
       " ('hotpink', '#FF69B4'),\n",
       " ('indianred', '#CD5C5C'),\n",
       " ('indigo', '#4B0082'),\n",
       " ('ivory', '#FFFFF0'),\n",
       " ('khaki', '#F0E68C'),\n",
       " ('lavender', '#E6E6FA'),\n",
       " ('lavenderblush', '#FFF0F5'),\n",
       " ('lawngreen', '#7CFC00'),\n",
       " ('lemonchiffon', '#FFFACD'),\n",
       " ('lightblue', '#ADD8E6'),\n",
       " ('lightcoral', '#F08080'),\n",
       " ('lightcyan', '#E0FFFF'),\n",
       " ('lightgoldenrodyellow', '#FAFAD2'),\n",
       " ('lightgray', '#D3D3D3'),\n",
       " ('lightgreen', '#90EE90'),\n",
       " ('lightgrey', '#D3D3D3'),\n",
       " ('lightpink', '#FFB6C1'),\n",
       " ('lightsalmon', '#FFA07A'),\n",
       " ('lightseagreen', '#20B2AA'),\n",
       " ('lightskyblue', '#87CEFA'),\n",
       " ('lightslategray', '#778899'),\n",
       " ('lightslategrey', '#778899'),\n",
       " ('lightsteelblue', '#B0C4DE'),\n",
       " ('lightyellow', '#FFFFE0'),\n",
       " ('lime', '#00FF00'),\n",
       " ('limegreen', '#32CD32'),\n",
       " ('linen', '#FAF0E6'),\n",
       " ('magenta', '#FF00FF'),\n",
       " ('maroon', '#800000'),\n",
       " ('mediumaquamarine', '#66CDAA'),\n",
       " ('mediumblue', '#0000CD'),\n",
       " ('mediumorchid', '#BA55D3'),\n",
       " ('mediumpurple', '#9370DB'),\n",
       " ('mediumseagreen', '#3CB371'),\n",
       " ('mediumslateblue', '#7B68EE'),\n",
       " ('mediumspringgreen', '#00FA9A'),\n",
       " ('mediumturquoise', '#48D1CC'),\n",
       " ('mediumvioletred', '#C71585'),\n",
       " ('midnightblue', '#191970'),\n",
       " ('mintcream', '#F5FFFA'),\n",
       " ('mistyrose', '#FFE4E1'),\n",
       " ('moccasin', '#FFE4B5'),\n",
       " ('navajowhite', '#FFDEAD'),\n",
       " ('navy', '#000080'),\n",
       " ('oldlace', '#FDF5E6'),\n",
       " ('olive', '#808000'),\n",
       " ('olivedrab', '#6B8E23'),\n",
       " ('orange', '#FFA500'),\n",
       " ('orangered', '#FF4500'),\n",
       " ('orchid', '#DA70D6'),\n",
       " ('palegoldenrod', '#EEE8AA'),\n",
       " ('palegreen', '#98FB98'),\n",
       " ('paleturquoise', '#AFEEEE'),\n",
       " ('palevioletred', '#DB7093'),\n",
       " ('papayawhip', '#FFEFD5'),\n",
       " ('peachpuff', '#FFDAB9'),\n",
       " ('peru', '#CD853F'),\n",
       " ('pink', '#FFC0CB'),\n",
       " ('plum', '#DDA0DD'),\n",
       " ('powderblue', '#B0E0E6'),\n",
       " ('purple', '#800080'),\n",
       " ('rebeccapurple', '#663399'),\n",
       " ('red', '#FF0000'),\n",
       " ('rosybrown', '#BC8F8F'),\n",
       " ('royalblue', '#4169E1'),\n",
       " ('saddlebrown', '#8B4513'),\n",
       " ('salmon', '#FA8072'),\n",
       " ('sandybrown', '#F4A460'),\n",
       " ('seagreen', '#2E8B57'),\n",
       " ('seashell', '#FFF5EE'),\n",
       " ('sienna', '#A0522D'),\n",
       " ('silver', '#C0C0C0'),\n",
       " ('skyblue', '#87CEEB'),\n",
       " ('slateblue', '#6A5ACD'),\n",
       " ('slategray', '#708090'),\n",
       " ('slategrey', '#708090'),\n",
       " ('snow', '#FFFAFA'),\n",
       " ('springgreen', '#00FF7F'),\n",
       " ('steelblue', '#4682B4'),\n",
       " ('tan', '#D2B48C'),\n",
       " ('teal', '#008080'),\n",
       " ('thistle', '#D8BFD8'),\n",
       " ('tomato', '#FF6347'),\n",
       " ('turquoise', '#40E0D0'),\n",
       " ('violet', '#EE82EE'),\n",
       " ('wheat', '#F5DEB3'),\n",
       " ('white', '#FFFFFF'),\n",
       " ('whitesmoke', '#F5F5F5'),\n",
       " ('yellow', '#FFFF00'),\n",
       " ('yellowgreen', '#9ACD32')]"
      ]
     },
     "execution_count": 49,
     "metadata": {},
     "output_type": "execute_result"
    }
   ],
   "source": [
    "colors_"
   ]
  },
  {
   "cell_type": "code",
   "execution_count": null,
   "metadata": {},
   "outputs": [],
   "source": []
  }
 ],
 "metadata": {
  "kernelspec": {
   "display_name": "Python 3",
   "language": "python",
   "name": "python3"
  },
  "language_info": {
   "codemirror_mode": {
    "name": "ipython",
    "version": 3
   },
   "file_extension": ".py",
   "mimetype": "text/x-python",
   "name": "python",
   "nbconvert_exporter": "python",
   "pygments_lexer": "ipython3",
   "version": "3.6.3"
  }
 },
 "nbformat": 4,
 "nbformat_minor": 2
}

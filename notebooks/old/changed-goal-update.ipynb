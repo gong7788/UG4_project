{
 "cells": [
  {
   "cell_type": "code",
   "execution_count": 99,
   "metadata": {},
   "outputs": [],
   "source": [
    "import world\n",
    "import agents\n",
    "from ff import Solved\n",
    "import ff\n",
    "import pddl_functions\n",
    "from teacher import TeacherAgent\n",
    "import os\n",
    "from collections import namedtuple, defaultdict, Counter\n",
    "import random\n",
    "import goal_updates"
   ]
  },
  {
   "cell_type": "code",
   "execution_count": 2,
   "metadata": {},
   "outputs": [
    {
     "name": "stdout",
     "output_type": "stream",
     "text": [
      "Parsing domain blocks-domain.pddl\n",
      "Parsing problem onerule/problem26.pddl\n",
      "Parsing domain blocks-domain.pddl\n",
      "Parsing problem onerule/problem27.pddl\n"
     ]
    }
   ],
   "source": [
    "w = world.PDDLWorld('blocks-domain.pddl', 'onerule/problem26.pddl')\n",
    "w2 = world.PDDLWorld('blocks-domain.pddl', 'onerule/problem27.pddl')\n",
    "teacher = TeacherAgent()\n",
    "agent = agents.CorrectingAgent(w, teacher=teacher)\n",
    "\n"
   ]
  },
  {
   "cell_type": "code",
   "execution_count": 139,
   "metadata": {},
   "outputs": [],
   "source": [
    "RuleBelief = namedtuple('RuleBelief', ['colours', 'rule1', 'rule2', 'belief'])\n",
    "\n",
    "def create_belief_dict(prior=0.001):\n",
    "    # [[(r1,r2), (r1,-r2)],[(-r1,r2), (-r1, -r2)]]\n",
    "    return np.array([[prior*prior, prior*(1-prior)], [(1-prior)*prior, (1-prior)**2]])\n",
    "\n",
    "class RuleBelief(object):\n",
    "\n",
    "    def __init__(self, colours, rule1, rule2, prior=0.001):\n",
    "        # [[(r1,r2), (r1,-r2)],[(-r1,r2), (-r1, -r2)]]\n",
    "        self.colours = colours\n",
    "        self.rule1 = rule1\n",
    "        self.rule2 = rule2\n",
    "        self.belief = np.array([[prior*prior, prior*(1-prior)], [(1-prior)*prior, (1-prior)**2]])\n",
    "    \n",
    "    def p_r1(self):\n",
    "        return np.sum(self.belief, axis=1)[0]\n",
    "    \n",
    "    def p_r2(self):\n",
    "        return np.sum(self.belief, axis=0)[0]\n",
    "    \n",
    "    def update(self, message_probs):\n",
    "        # message_probs: [P(m=r1|x), P(m=r2|x)]\n",
    "        m_r1, m_r2 = message_probs\n",
    "        self.belief = np.array(\n",
    "        [[1*self.p_r2()*m_r1 + 1*self.p_r1()*m_r2,     1*(1-self.p_r2())*m_r1 + 0*self.p_r1()*m_r2],\n",
    "         [0*self.p_r2()*m_r1 + 1*(1-self.p_r1())*m_r2, 0*(1-self.p_r2())*m_r1 + 0*(1-self.p_r1())*m_r2]])\n",
    "        \n",
    "        \n",
    "def generate_rulebelief(colours, rule1, rule2, prior=0.001):\n",
    "    return RuleBelief(colours, rule1, rule2, create_belief_dict(prior=prior))\n",
    "\n",
    "rule1, rule2 = goal_updates.create_goal_options(['red'], ['blue'])\n",
    "rb = RuleBelief(('red', 'blue'), rule1, rule2)\n",
    "\n"
   ]
  },
  {
   "cell_type": "code",
   "execution_count": 156,
   "metadata": {},
   "outputs": [
    {
     "name": "stdout",
     "output_type": "stream",
     "text": [
      "1.0\n",
      "0.001\n",
      "0.001\n",
      "1e-06\n",
      "0.9999999999999999\n",
      "0.7002999999999999\n",
      "0.30069999999999997\n",
      "0.001\n",
      "1.0\n",
      "0.7002999999999999\n",
      "1.0\n",
      "0.7002999999999999\n"
     ]
    }
   ],
   "source": [
    "rule1, rule2 = goal_updates.create_goal_options(['red'], ['blue'])\n",
    "rb = RuleBelief(('red', 'blue'), rule1, rule2)\n",
    "print(np.sum(rb.belief))\n",
    "print(rb.p_r1())\n",
    "print(rb.p_r2())\n",
    "print(rb.belief[0,0])\n",
    "rb.update((0.7, 0.3))\n",
    "print(np.sum(rb.belief))\n",
    "print(rb.p_r1())\n",
    "print(rb.p_r2())\n",
    "print(rb.belief[0,0])\n",
    "rb.update((0, 1))\n",
    "print(np.sum(rb.belief))\n",
    "print(rb.p_r1())\n",
    "print(rb.p_r2())\n",
    "print(rb.belief[0,0])"
   ]
  },
  {
   "cell_type": "code",
   "execution_count": 127,
   "metadata": {},
   "outputs": [
    {
     "data": {
      "text/plain": [
       "array([3, 7])"
      ]
     },
     "execution_count": 127,
     "metadata": {},
     "output_type": "execute_result"
    }
   ],
   "source": [
    "np.sum([[1,2],[3,4]], axis=1)"
   ]
  },
  {
   "cell_type": "code",
   "execution_count": 111,
   "metadata": {},
   "outputs": [
    {
     "ename": "SyntaxError",
     "evalue": "invalid syntax (<ipython-input-111-67266181ae00>, line 1)",
     "output_type": "error",
     "traceback": [
      "\u001b[0;36m  File \u001b[0;32m\"<ipython-input-111-67266181ae00>\"\u001b[0;36m, line \u001b[0;32m1\u001b[0m\n\u001b[0;31m    )True True : goal_belief()\u001b[0m\n\u001b[0m    ^\u001b[0m\n\u001b[0;31mSyntaxError\u001b[0m\u001b[0;31m:\u001b[0m invalid syntax\n"
     ]
    }
   ],
   "source": [
    "True True : goal_belief()\n",
    "\n",
    "\n",
    "    \n",
    "def get_prior(index, belief):\n",
    "    \n",
    "    \n",
    "def update_goal_belief(message_beliefs, goal_belief):\n",
    "    m1, m2 = message_beliefs\n",
    "    for r1 in [True, False]:\n",
    "        for r2 in [True, False]:\n",
    "            {(r1, r2) = }\n",
    "\n",
    "update_goal_belief((0.7, 0.3), rb.belief)"
   ]
  },
  {
   "cell_type": "code",
   "execution_count": 9,
   "metadata": {},
   "outputs": [],
   "source": [
    "d12 = {i:1/12 for i in range(1, 13)}\n",
    "_2d6 = defaultdict(float)\n",
    "for i in range(6):\n",
    "    i = i+1\n",
    "    for j in range(6):\n",
    "        j = j+1\n",
    "        _2d6[i+j] += 1\n",
    "_2d6 = {k:v/36 for k,v in _2d6.items()}\n"
   ]
  },
  {
   "cell_type": "code",
   "execution_count": 12,
   "metadata": {},
   "outputs": [
    {
     "data": {
      "text/plain": [
       "0.9727324207989289"
      ]
     },
     "execution_count": 12,
     "metadata": {},
     "output_type": "execute_result"
    }
   ],
   "source": [
    "random.random()"
   ]
  },
  {
   "cell_type": "code",
   "execution_count": 17,
   "metadata": {},
   "outputs": [],
   "source": [
    "import numpy as np"
   ]
  },
  {
   "cell_type": "code",
   "execution_count": 35,
   "metadata": {},
   "outputs": [],
   "source": [
    "class RV(object):\n",
    "    def __init__(self, outcomes, p):\n",
    "        self.outcomes = np.array(outcomes)\n",
    "        self.p = np.array(p)\n",
    "    \n",
    "    def sample(self):\n",
    "        u = np.random.rand()\n",
    "        cumulative = 0\n",
    "        for i, p in enumerate(self.p):\n",
    "            cumulative += p\n",
    "            if u < cumulative:\n",
    "                return self.outcomes[i]\n",
    "    \n",
    "    def expectation(self):\n",
    "        expect = np.sum([value*p for value, p in zip(self.outcomes, self.p)])\n",
    "        return expect"
   ]
  },
  {
   "cell_type": "code",
   "execution_count": 23,
   "metadata": {},
   "outputs": [],
   "source": [
    "d12_outcomes = np.array(range(1,13))\n",
    "d12_ps = np.array([1/12]*12)"
   ]
  },
  {
   "cell_type": "code",
   "execution_count": 57,
   "metadata": {},
   "outputs": [],
   "source": [
    "d6x2_outcomes = np.array(range(2, 13))\n",
    "\n",
    "d6x2_ps = np.array(list(Counter([i + j for i in range(1, 7) for j in range(1, 7)]).items()))[:,1]/36"
   ]
  },
  {
   "cell_type": "code",
   "execution_count": 58,
   "metadata": {},
   "outputs": [],
   "source": [
    "d12 = RV(d12_outcomes, d12_ps)\n",
    "d6x2 = RV(d6x2_outcomes, d6x2_ps)"
   ]
  },
  {
   "cell_type": "code",
   "execution_count": 61,
   "metadata": {},
   "outputs": [
    {
     "name": "stdout",
     "output_type": "stream",
     "text": [
      "6.5\n",
      "6.999999999999998\n"
     ]
    }
   ],
   "source": [
    "print(d12.expectation())\n",
    "print(d6x2.expectation())"
   ]
  },
  {
   "cell_type": "code",
   "execution_count": 28,
   "metadata": {},
   "outputs": [
    {
     "name": "stdout",
     "output_type": "stream",
     "text": [
      "0.08333333333333333\n",
      "0.08333333333333333\n",
      "0.08333333333333333\n",
      "0.08333333333333333\n",
      "0.08333333333333333\n",
      "0.08333333333333333\n",
      "0.08333333333333333\n",
      "0.08333333333333333\n",
      "0.08333333333333333\n",
      "0.08333333333333333\n",
      "0.08333333333333333\n",
      "0.08333333333333333\n"
     ]
    }
   ],
   "source": [
    "for i in np.array([1/12]*12):\n",
    "    print(i)"
   ]
  },
  {
   "cell_type": "code",
   "execution_count": 60,
   "metadata": {},
   "outputs": [
    {
     "data": {
      "text/plain": [
       "6.999999999999998"
      ]
     },
     "execution_count": 60,
     "metadata": {},
     "output_type": "execute_result"
    }
   ],
   "source": [
    "d6x2.expectation()"
   ]
  },
  {
   "cell_type": "code",
   "execution_count": 68,
   "metadata": {},
   "outputs": [],
   "source": [
    "reroll_d12_ps = [2/12*1/12]+ [1/12 + 2/12*1/12]*10"
   ]
  },
  {
   "cell_type": "code",
   "execution_count": 65,
   "metadata": {},
   "outputs": [
    {
     "name": "stdout",
     "output_type": "stream",
     "text": [
      "6.333333333333332\n"
     ]
    }
   ],
   "source": [
    "reroll_d12 = RV(d12_outcomes, reroll_d12_ps)\n",
    "print(reroll_d12.expectation())"
   ]
  },
  {
   "cell_type": "code",
   "execution_count": 67,
   "metadata": {},
   "outputs": [
    {
     "data": {
      "text/plain": [
       "0.986111111111111"
      ]
     },
     "execution_count": 67,
     "metadata": {},
     "output_type": "execute_result"
    }
   ],
   "source": [
    "np.sum(reroll_d12.p)"
   ]
  },
  {
   "cell_type": "code",
   "execution_count": 75,
   "metadata": {},
   "outputs": [
    {
     "data": {
      "text/plain": [
       "7.3098"
      ]
     },
     "execution_count": 75,
     "metadata": {},
     "output_type": "execute_result"
    }
   ],
   "source": [
    "data = []\n",
    "for i in range(10000):\n",
    "    s = d12.sample()\n",
    "    if s < 3:\n",
    "        s = d12.sample()\n",
    "    data.append(s)\n",
    "\n",
    "np.mean(data)"
   ]
  },
  {
   "cell_type": "code",
   "execution_count": 71,
   "metadata": {},
   "outputs": [],
   "source": [
    "d6_outcomes = range(1, 7)\n",
    "d6_ps = [1/6]*6\n",
    "d6 = RV(d6_outcomes, d6_ps)"
   ]
  },
  {
   "cell_type": "code",
   "execution_count": 76,
   "metadata": {},
   "outputs": [
    {
     "data": {
      "text/plain": [
       "8.3621"
      ]
     },
     "execution_count": 76,
     "metadata": {},
     "output_type": "execute_result"
    }
   ],
   "source": [
    "data = []\n",
    "for i in range(10000):\n",
    "    s1 = d6.sample()\n",
    "    s2 = d6.sample()\n",
    "    if s1 < 3:\n",
    "        s1 = d6.sample()\n",
    "    if s2 < 3:\n",
    "        s2 = d6.sample()\n",
    "    data.append(s1+s2)\n",
    "np.mean(data)"
   ]
  },
  {
   "cell_type": "code",
   "execution_count": 82,
   "metadata": {},
   "outputs": [
    {
     "ename": "ValueError",
     "evalue": "list.remove(x): x not in list",
     "output_type": "error",
     "traceback": [
      "\u001b[0;31m---------------------------------------------------------------------------\u001b[0m",
      "\u001b[0;31mValueError\u001b[0m                                Traceback (most recent call last)",
      "\u001b[0;32m<ipython-input-82-bfff21e13719>\u001b[0m in \u001b[0;36m<module>\u001b[0;34m()\u001b[0m\n\u001b[1;32m      1\u001b[0m \u001b[0ma\u001b[0m\u001b[0;34m=\u001b[0m \u001b[0;34m[\u001b[0m\u001b[0;36m2\u001b[0m\u001b[0;34m]\u001b[0m\u001b[0;34m\u001b[0m\u001b[0m\n\u001b[0;32m----> 2\u001b[0;31m \u001b[0ma\u001b[0m\u001b[0;34m.\u001b[0m\u001b[0mremove\u001b[0m\u001b[0;34m(\u001b[0m\u001b[0;36m1\u001b[0m\u001b[0;34m)\u001b[0m\u001b[0;34m\u001b[0m\u001b[0m\n\u001b[0m\u001b[1;32m      3\u001b[0m \u001b[0ma\u001b[0m\u001b[0;34m\u001b[0m\u001b[0m\n",
      "\u001b[0;31mValueError\u001b[0m: list.remove(x): x not in list"
     ]
    }
   ],
   "source": [
    "a= [2]\n",
    "a.remove(1)\n",
    "a"
   ]
  },
  {
   "cell_type": "code",
   "execution_count": 79,
   "metadata": {},
   "outputs": [
    {
     "ename": "SyntaxError",
     "evalue": "invalid syntax (<ipython-input-79-dbd72e29d9b4>, line 1)",
     "output_type": "error",
     "traceback": [
      "\u001b[0;36m  File \u001b[0;32m\"<ipython-input-79-dbd72e29d9b4>\"\u001b[0;36m, line \u001b[0;32m1\u001b[0m\n\u001b[0;31m    fugitive game\u001b[0m\n\u001b[0m                ^\u001b[0m\n\u001b[0;31mSyntaxError\u001b[0m\u001b[0;31m:\u001b[0m invalid syntax\n"
     ]
    }
   ],
   "source": [
    "fugitive game "
   ]
  },
  {
   "cell_type": "code",
   "execution_count": 98,
   "metadata": {},
   "outputs": [],
   "source": [
    "class Hand(object):\n",
    "    def __init__(self, cards):\n",
    "        self.cards = cards\n",
    "    \n",
    "    def add_card(self, card):\n",
    "        self.cards.append(card)\n",
    "    \n",
    "    def remove_card(self, card):\n",
    "        self.cards.remove(card)\n",
    "        \n",
    "class Deck(object):\n",
    "    def __init__(self, cards):\n",
    "        self.cards = cards\n",
    "        random.shuffle(self.cards)\n",
    "    def draw(self):\n",
    "        return self.cards.pop()\n",
    "    \n",
    "class GameState(object):\n",
    "    \n",
    "    def __init__(self):\n",
    "        self.deck1 = Deck(list(range(4, 14+1)))\n",
    "        self.deck2 = Deck(list(range(15, 28+1)))\n",
    "        self.deck3 = Deck(list(range(29, 41+1)))\n",
    "        self.decks = [self.deck1, self.deck2, self.deck3]\n",
    "        self.hideouts = [0]\n",
    "        self.revealed_hideouts = [0]\n",
    "        self.fugitive_hand = Hand([1, 2, 3, 42])\n",
    "        self.detective_hand = Hand([])\n",
    "        \n",
    "\n",
    "\n",
    "class Fugitive(object):\n",
    "    \n",
    "    def __init__(self, game):\n",
    "        self.hand = Hand([1, 2, 3, 42])\n",
    "        self.game = game\n",
    "\n",
    "    def show_hand(self):\n",
    "        print(' '.join(self.hand))\n",
    "        \n",
    "    def draw_card(self, deck):\n",
    "        self.hand.add_card(self.game.decks[deck].draw())\n",
    "    \n",
    "    def play_hideout(self, card):\n",
    "        self.hand.remove_card(card)\n",
    "        \n",
    "    \n",
    "        \n",
    "        \n",
    "class Detective(object):\n",
    "    \n",
    "    def __init(self, game):\n",
    "        self.hand = Hand([])\n",
    "        self.game = game"
   ]
  },
  {
   "cell_type": "code",
   "execution_count": 96,
   "metadata": {},
   "outputs": [],
   "source": [
    "d = Deck(list(range(1, 14)))"
   ]
  },
  {
   "cell_type": "code",
   "execution_count": 97,
   "metadata": {},
   "outputs": [
    {
     "data": {
      "text/plain": [
       "12"
      ]
     },
     "execution_count": 97,
     "metadata": {},
     "output_type": "execute_result"
    }
   ],
   "source": [
    "d.draw()"
   ]
  },
  {
   "cell_type": "code",
   "execution_count": 159,
   "metadata": {},
   "outputs": [
    {
     "data": {
      "text/plain": [
       "3"
      ]
     },
     "execution_count": 159,
     "metadata": {},
     "output_type": "execute_result"
    }
   ],
   "source": [
    "np.argmax([[1, 2], [3, 4]])"
   ]
  },
  {
   "cell_type": "code",
   "execution_count": 160,
   "metadata": {},
   "outputs": [
    {
     "ename": "TypeError",
     "evalue": "cannot create 'numpy.flatiter' instances",
     "output_type": "error",
     "traceback": [
      "\u001b[0;31m---------------------------------------------------------------------------\u001b[0m",
      "\u001b[0;31mTypeError\u001b[0m                                 Traceback (most recent call last)",
      "\u001b[0;32m<ipython-input-160-ec4d8711d885>\u001b[0m in \u001b[0;36m<module>\u001b[0;34m()\u001b[0m\n\u001b[0;32m----> 1\u001b[0;31m \u001b[0mnp\u001b[0m\u001b[0;34m.\u001b[0m\u001b[0mflatiter\u001b[0m\u001b[0;34m(\u001b[0m\u001b[0;34m[\u001b[0m\u001b[0;34m[\u001b[0m\u001b[0;36m1\u001b[0m\u001b[0;34m,\u001b[0m \u001b[0;36m2\u001b[0m\u001b[0;34m]\u001b[0m\u001b[0;34m,\u001b[0m \u001b[0;34m[\u001b[0m\u001b[0;36m3\u001b[0m\u001b[0;34m,\u001b[0m \u001b[0;36m4\u001b[0m\u001b[0;34m]\u001b[0m\u001b[0;34m]\u001b[0m\u001b[0;34m)\u001b[0m\u001b[0;34m\u001b[0m\u001b[0m\n\u001b[0m",
      "\u001b[0;31mTypeError\u001b[0m: cannot create 'numpy.flatiter' instances"
     ]
    }
   ],
   "source": [
    "np."
   ]
  },
  {
   "cell_type": "code",
   "execution_count": 161,
   "metadata": {},
   "outputs": [],
   "source": [
    "a = np.array([[1, 2], [3, 4]])"
   ]
  },
  {
   "cell_type": "code",
   "execution_count": 165,
   "metadata": {},
   "outputs": [
    {
     "data": {
      "text/plain": [
       "7"
      ]
     },
     "execution_count": 165,
     "metadata": {},
     "output_type": "execute_result"
    }
   ],
   "source": [
    "a = np.array([[1, 2], [7, 4]])\n",
    "a.flatten()[np.argmax(a)]"
   ]
  },
  {
   "cell_type": "code",
   "execution_count": 168,
   "metadata": {},
   "outputs": [
    {
     "data": {
      "text/plain": [
       "[1, 2, 3]"
      ]
     },
     "execution_count": 168,
     "metadata": {},
     "output_type": "execute_result"
    }
   ],
   "source": [
    "a = []\n",
    "a.extend(np.array([1,2,3]))\n",
    "a"
   ]
  },
  {
   "cell_type": "code",
   "execution_count": null,
   "metadata": {},
   "outputs": [],
   "source": []
  }
 ],
 "metadata": {
  "kernelspec": {
   "display_name": "Python 3",
   "language": "python",
   "name": "python3"
  },
  "language_info": {
   "codemirror_mode": {
    "name": "ipython",
    "version": 3
   },
   "file_extension": ".py",
   "mimetype": "text/x-python",
   "name": "python",
   "nbconvert_exporter": "python",
   "pygments_lexer": "ipython3",
   "version": "3.6.5"
  }
 },
 "nbformat": 4,
 "nbformat_minor": 2
}

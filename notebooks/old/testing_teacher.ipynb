{
 "cells": [
  {
   "cell_type": "code",
   "execution_count": 1,
   "metadata": {},
   "outputs": [
    {
     "name": "stdout",
     "output_type": "stream",
     "text": [
      "Parsing domain blocks-domain.pddl\n",
      "Parsing problem pddl/blocks_problem_colour1.pddl\n"
     ]
    }
   ],
   "source": [
    "import world\n",
    "import agents\n",
    "from ff import Solved\n",
    "import ff\n",
    "import pddl_functions\n",
    "from teacher import TeacherAgent\n",
    "\n",
    "w = world.PDDLWorld('blocks-domain.pddl', 'pddl/blocks_problem_colour1.pddl')\n",
    "teacher = TeacherAgent()\n",
    "agent = agents.CorrectingAgent(w, teacher=teacher)"
   ]
  },
  {
   "cell_type": "code",
   "execution_count": 1,
   "metadata": {},
   "outputs": [
    {
     "ename": "NameError",
     "evalue": "name 'w' is not defined",
     "output_type": "error",
     "traceback": [
      "\u001b[0;31m---------------------------------------------------------------------------\u001b[0m",
      "\u001b[0;31mNameError\u001b[0m                                 Traceback (most recent call last)",
      "\u001b[0;32m<ipython-input-1-987a50989ac7>\u001b[0m in \u001b[0;36m<module>\u001b[0;34m()\u001b[0m\n\u001b[0;32m----> 1\u001b[0;31m \u001b[0mw\u001b[0m\u001b[0;34m.\u001b[0m\u001b[0mtest_success\u001b[0m\u001b[0;34m(\u001b[0m\u001b[0;34m)\u001b[0m\u001b[0;34m\u001b[0m\u001b[0m\n\u001b[0m",
      "\u001b[0;31mNameError\u001b[0m: name 'w' is not defined"
     ]
    }
   ],
   "source": [
    "w.test_success()"
   ]
  },
  {
   "cell_type": "code",
   "execution_count": 2,
   "metadata": {},
   "outputs": [
    {
     "name": "stdout",
     "output_type": "stream",
     "text": [
      "[(0.2, 0), (0.6000000000000001, 0), (1.0, 0), (1.4, 0), (1.7999999999999998, 0), (2.1999999999999997, 0), (2.5999999999999996, 0)]\n"
     ]
    },
    {
     "data": {
      "image/png": "[encoded data removed]",
      "text/plain": [
       "<Figure size 432x288 with 1 Axes>"
      ]
     },
     "metadata": {},
     "output_type": "display_data"
    }
   ],
   "source": [
    "w.draw()"
   ]
  },
  {
   "cell_type": "code",
   "execution_count": 2,
   "metadata": {},
   "outputs": [
    {
     "name": "stdout",
     "output_type": "stream",
     "text": [
      "[(0.2, 0), (0.6000000000000001, 0), (1.0, 0), (1.4, 0), (1.7999999999999998, 0), (2.1999999999999997, 0), (2.5999999999999996, 0)]\n"
     ]
    },
    {
     "data": {
      "image/png": "[encoded data removed]",
      "text/plain": [
       "<Figure size 432x288 with 1 Axes>"
      ]
     },
     "metadata": {},
     "output_type": "display_data"
    },
    {
     "name": "stdout",
     "output_type": "stream",
     "text": [
      "put ['b6', 't0']\n",
      "[(0.2, 0), (0.6000000000000001, 0), (1.0, 0), (1.4, 0), (1.7999999999999998, 0), (2.1999999999999997, 0), (0.2, 0)]\n"
     ]
    },
    {
     "data": {
      "image/png": "[encoded data removed]",
      "text/plain": [
       "<Figure size 432x288 with 1 Axes>"
      ]
     },
     "metadata": {},
     "output_type": "display_data"
    },
    {
     "name": "stdout",
     "output_type": "stream",
     "text": [
      "(forall (?x) (or (not (red ?x)) (exists (?y) (and (blue ?y) (on ?x ?y)))))\n",
      "T: no, put red blocks on blue blocks\n",
      "(nan, nan)\n",
      "R: Is the top object r?\n",
      "T: no\n",
      "[(0.2, 0), (0.6000000000000001, 0), (1.0, 0), (1.4, 0), (1.7999999999999998, 0), (2.1999999999999997, 0), (2.5999999999999996, 0)]\n"
     ]
    },
    {
     "name": "stderr",
     "output_type": "stream",
     "text": [
      "/Users/mappelgren/Desktop/correcting-agent/prob_model.py:149: RuntimeWarning: invalid value encountered in double_scalars\n",
      "  return [r0, r1][r]/eta\n",
      "/Users/mappelgren/miniconda3/envs/phd/lib/python3.6/site-packages/scipy/stats/_distn_infrastructure.py:876: RuntimeWarning: invalid value encountered in greater_equal\n",
      "  return (self.a <= x) & (x <= self.b)\n",
      "/Users/mappelgren/miniconda3/envs/phd/lib/python3.6/site-packages/scipy/stats/_distn_infrastructure.py:876: RuntimeWarning: invalid value encountered in less_equal\n",
      "  return (self.a <= x) & (x <= self.b)\n"
     ]
    },
    {
     "data": {
      "image/png": "[encoded data removed]",
      "text/plain": [
       "<Figure size 432x288 with 1 Axes>"
      ]
     },
     "metadata": {},
     "output_type": "display_data"
    },
    {
     "name": "stdout",
     "output_type": "stream",
     "text": [
      "put ['b5', 't0']\n",
      "[(0.2, 0), (0.6000000000000001, 0), (1.0, 0), (1.4, 0), (1.7999999999999998, 0), (0.2, 0), (2.5999999999999996, 0)]\n"
     ]
    },
    {
     "data": {
      "image/png": "[encoded data removed]",
      "text/plain": [
       "<Figure size 432x288 with 1 Axes>"
      ]
     },
     "metadata": {},
     "output_type": "display_data"
    },
    {
     "name": "stdout",
     "output_type": "stream",
     "text": [
      "(forall (?x) (or (not (red ?x)) (exists (?y) (and (blue ?y) (on ?x ?y)))))\n",
      "T: no, put red blocks on blue blocks\n",
      "(nan, nan)\n",
      "R: Is the top object r?\n",
      "T: no\n",
      "[(0.2, 0), (0.6000000000000001, 0), (1.0, 0), (1.4, 0), (1.7999999999999998, 0), (2.1999999999999997, 0), (2.5999999999999996, 0)]\n"
     ]
    },
    {
     "data": {
      "image/png": "[encoded data removed]",
      "text/plain": [
       "<Figure size 432x288 with 1 Axes>"
      ]
     },
     "metadata": {},
     "output_type": "display_data"
    },
    {
     "name": "stdout",
     "output_type": "stream",
     "text": [
      "put ['b4', 't0']\n",
      "[(0.2, 0), (0.6000000000000001, 0), (1.0, 0), (1.4, 0), (0.2, 0), (2.1999999999999997, 0), (2.5999999999999996, 0)]\n"
     ]
    },
    {
     "data": {
      "image/png": "[encoded data removed]",
      "text/plain": [
       "<Figure size 432x288 with 1 Axes>"
      ]
     },
     "metadata": {},
     "output_type": "display_data"
    },
    {
     "name": "stdout",
     "output_type": "stream",
     "text": [
      "nan nan\n",
      "nan\n",
      "put ['b6', 'b4']\n",
      "[(0.2, 0), (0.6000000000000001, 0), (1.0, 0), (1.4, 0), (0.2, 0), (2.1999999999999997, 0), (0.2, 0.2)]\n"
     ]
    },
    {
     "data": {
      "image/png": "[encoded data removed]",
      "text/plain": [
       "<Figure size 432x288 with 1 Axes>"
      ]
     },
     "metadata": {},
     "output_type": "display_data"
    },
    {
     "name": "stdout",
     "output_type": "stream",
     "text": [
      "nan nan\n",
      "nan\n",
      "put ['b5', 'b6']\n",
      "[(0.2, 0), (0.6000000000000001, 0), (1.0, 0), (1.4, 0), (0.2, 0), (0.2, 0.4), (0.2, 0.2)]\n"
     ]
    },
    {
     "data": {
      "image/png": "[encoded data removed]",
      "text/plain": [
       "<Figure size 432x288 with 1 Axes>"
      ]
     },
     "metadata": {},
     "output_type": "display_data"
    },
    {
     "name": "stdout",
     "output_type": "stream",
     "text": [
      "(forall (?x) (or (not (red ?x)) (exists (?y) (and (blue ?y) (on ?x ?y)))))\n",
      "T: no, put red blocks on blue blocks\n",
      "(nan, nan)\n",
      "R: Is the top object r?\n",
      "T: no\n",
      "[(0.2, 0), (0.6000000000000001, 0), (1.0, 0), (1.4, 0), (0.2, 0), (2.1999999999999997, 0), (0.2, 0.2)]\n"
     ]
    },
    {
     "data": {
      "image/png": "[encoded data removed]",
      "text/plain": [
       "<Figure size 432x288 with 1 Axes>"
      ]
     },
     "metadata": {},
     "output_type": "display_data"
    },
    {
     "name": "stdout",
     "output_type": "stream",
     "text": [
      "put ['b3', 'b6']\n",
      "[(0.2, 0), (0.6000000000000001, 0), (1.0, 0), (0.2, 0.4), (0.2, 0), (2.1999999999999997, 0), (0.2, 0.2)]\n"
     ]
    },
    {
     "data": {
      "image/png": "[encoded data removed]",
      "text/plain": [
       "<Figure size 432x288 with 1 Axes>"
      ]
     },
     "metadata": {},
     "output_type": "display_data"
    },
    {
     "name": "stdout",
     "output_type": "stream",
     "text": [
      "nan nan\n",
      "nan\n",
      "put ['b5', 'b3']\n",
      "[(0.2, 0), (0.6000000000000001, 0), (1.0, 0), (0.2, 0.4), (0.2, 0), (0.2, 0.6000000000000001), (0.2, 0.2)]\n"
     ]
    },
    {
     "data": {
      "image/png": "[encoded data removed]",
      "text/plain": [
       "<Figure size 432x288 with 1 Axes>"
      ]
     },
     "metadata": {},
     "output_type": "display_data"
    },
    {
     "name": "stdout",
     "output_type": "stream",
     "text": [
      "nan nan\n",
      "nan\n",
      "put ['b2', 'b5']\n",
      "[(0.2, 0), (0.6000000000000001, 0), (0.2, 0.8), (0.2, 0.4), (0.2, 0), (0.2, 0.6000000000000001), (0.2, 0.2)]\n"
     ]
    },
    {
     "data": {
      "image/png": "[encoded data removed]",
      "text/plain": [
       "<Figure size 432x288 with 1 Axes>"
      ]
     },
     "metadata": {},
     "output_type": "display_data"
    },
    {
     "name": "stdout",
     "output_type": "stream",
     "text": [
      "(forall (?x) (or (not (red ?x)) (exists (?y) (and (blue ?y) (on ?x ?y)))))\n",
      "T: no, put red blocks on blue blocks\n",
      "(nan, nan)\n",
      "R: Is the top object r?\n",
      "T: no\n",
      "[(0.2, 0), (0.6000000000000001, 0), (1.0, 0), (0.2, 0.4), (0.2, 0), (0.2, 0.6000000000000001), (0.2, 0.2)]\n"
     ]
    },
    {
     "data": {
      "image/png": "[encoded data removed]",
      "text/plain": [
       "<Figure size 432x288 with 1 Axes>"
      ]
     },
     "metadata": {},
     "output_type": "display_data"
    },
    {
     "name": "stdout",
     "output_type": "stream",
     "text": [
      "put ['b1', 'b5']\n",
      "[(0.2, 0), (0.2, 0.8), (1.0, 0), (0.2, 0.4), (0.2, 0), (0.2, 0.6000000000000001), (0.2, 0.2)]\n"
     ]
    },
    {
     "data": {
      "image/png": "[encoded data removed]",
      "text/plain": [
       "<Figure size 432x288 with 1 Axes>"
      ]
     },
     "metadata": {},
     "output_type": "display_data"
    },
    {
     "name": "stdout",
     "output_type": "stream",
     "text": [
      "nan nan\n",
      "nan\n",
      "put ['b2', 'b1']\n",
      "[(0.2, 0), (0.2, 0.8), (0.2, 1.0), (0.2, 0.4), (0.2, 0), (0.2, 0.6000000000000001), (0.2, 0.2)]\n"
     ]
    },
    {
     "data": {
      "image/png": "[encoded data removed]",
      "text/plain": [
       "<Figure size 432x288 with 1 Axes>"
      ]
     },
     "metadata": {},
     "output_type": "display_data"
    },
    {
     "name": "stdout",
     "output_type": "stream",
     "text": [
      "nan nan\n",
      "nan\n",
      "DONE\n"
     ]
    }
   ],
   "source": [
    "w.draw()\n",
    "while not w.test_success():\n",
    "\n",
    "    plan = agent.plan()\n",
    "    for a, args in plan:\n",
    "        if a == 'reach-goal':\n",
    "            break\n",
    "        w.update(a, args)\n",
    "        print(a, args)\n",
    "        w.draw()\n",
    "        correction = agent.teacher.correction(w)\n",
    "        if correction:\n",
    "            print(\"T:\", correction)\n",
    "            agent.get_correction(correction, a, args)\n",
    "            w.draw()\n",
    "            break\n",
    "        else:\n",
    "            agent.no_correction(a, args)\n",
    "            \n",
    "print('DONE')    "
   ]
  },
  {
   "cell_type": "code",
   "execution_count": 4,
   "metadata": {},
   "outputs": [
    {
     "data": {
      "text/plain": [
       "[('put', ['b6', 't0']),\n",
       " ('put', ['b5', 'b6']),\n",
       " ('put', ['b4', 'b5']),\n",
       " ('put', ['b3', 'b4']),\n",
       " ('put', ['b2', 'b3']),\n",
       " ('put', ['b1', 'b2'])]"
      ]
     },
     "execution_count": 4,
     "metadata": {},
     "output_type": "execute_result"
    }
   ],
   "source": [
    "plan"
   ]
  },
  {
   "cell_type": "code",
   "execution_count": null,
   "metadata": {},
   "outputs": [],
   "source": []
  }
 ],
 "metadata": {
  "kernelspec": {
   "display_name": "Python 3",
   "language": "python",
   "name": "python3"
  },
  "language_info": {
   "codemirror_mode": {
    "name": "ipython",
    "version": 3
   },
   "file_extension": ".py",
   "mimetype": "text/x-python",
   "name": "python",
   "nbconvert_exporter": "python",
   "pygments_lexer": "ipython3",
   "version": "3.6.3"
  }
 },
 "nbformat": 4,
 "nbformat_minor": 2
}

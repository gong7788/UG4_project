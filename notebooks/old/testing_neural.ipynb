{
 "cells": [
  {
   "cell_type": "code",
   "execution_count": 1,
   "metadata": {},
   "outputs": [],
   "source": [
    "%matplotlib inline\n",
    "import experiment\n",
    "import configparser\n",
    "from util import create_experiment\n",
    "from evaluation import read_file, Experiment, test_colour_model\n"
   ]
  },
  {
   "cell_type": "code",
   "execution_count": 2,
   "metadata": {},
   "outputs": [],
   "source": [
    "exp = Experiment('simple_neural')"
   ]
  },
  {
   "cell_type": "code",
   "execution_count": 6,
   "metadata": {},
   "outputs": [],
   "source": [
    "\n",
    "rf = exp.get_agent('agents.NeuralCorrectingAgent')"
   ]
  },
  {
   "cell_type": "code",
   "execution_count": 8,
   "metadata": {},
   "outputs": [],
   "source": [
    "agent = rf.load_agent()"
   ]
  },
  {
   "cell_type": "code",
   "execution_count": 17,
   "metadata": {},
   "outputs": [
    {
     "data": {
      "text/plain": [
       "{'fn': 1, 'fp': 0, 'tn': 37, 'tp': 4}"
      ]
     },
     "execution_count": 17,
     "metadata": {},
     "output_type": "execute_result"
    }
   ],
   "source": [
    "test_colour_model(agent.colour_models['red'], colour_thresh=0.6)"
   ]
  },
  {
   "cell_type": "code",
   "execution_count": 19,
   "metadata": {},
   "outputs": [
    {
     "data": {
      "text/plain": [
       "{'fn': 3, 'fp': 0, 'tn': 33, 'tp': 6}"
      ]
     },
     "execution_count": 19,
     "metadata": {},
     "output_type": "execute_result"
    }
   ],
   "source": [
    "test_colour_model(agent.colour_models['blue'], colour_thresh=0.5)"
   ]
  },
  {
   "cell_type": "code",
   "execution_count": 2,
   "metadata": {},
   "outputs": [
    {
     "name": "stdout",
     "output_type": "stream",
     "text": [
      "red {'tp': 5, 'fp': 8, 'fn': 0, 'tn': 29}\n",
      "blue {'tp': 6, 'fp': 0, 'fn': 3, 'tn': 33}\n"
     ]
    }
   ],
   "source": [
    "exp = Experiment('simple_neural')\n",
    "exp.print_colour_models('agents.NeuralCorrectingAgent', colour_thresh=0.5)"
   ]
  },
  {
   "cell_type": "code",
   "execution_count": 6,
   "metadata": {},
   "outputs": [
    {
     "name": "stdout",
     "output_type": "stream",
     "text": [
      "red {'tp': 5, 'fp': 0, 'fn': 0, 'tn': 37}\n",
      "blue {'tp': 0, 'fp': 0, 'fn': 9, 'tn': 33}\n"
     ]
    }
   ],
   "source": [
    "exp = Experiment('onerule_neural')\n",
    "exp.print_colour_models('agents.NeuralCorrectingAgent', colour_thresh=0.5)"
   ]
  },
  {
   "cell_type": "code",
   "execution_count": 10,
   "metadata": {},
   "outputs": [
    {
     "name": "stdout",
     "output_type": "stream",
     "text": [
      "green {'tp': 0, 'fp': 0, 'fn': 10, 'tn': 32}\n",
      "yellow {'tp': 0, 'fp': 0, 'fn': 3, 'tn': 39}\n",
      "red {'tp': 0, 'fp': 17, 'fn': 5, 'tn': 20}\n",
      "blue {'tp': 0, 'fp': 0, 'fn': 9, 'tn': 33}\n"
     ]
    }
   ],
   "source": [
    "exp = Experiment('tworules_neural')\n",
    "exp.print_colour_models('agents.NeuralCorrectingAgent', colour_thresh=0.8)"
   ]
  },
  {
   "cell_type": "code",
   "execution_count": 14,
   "metadata": {},
   "outputs": [
    {
     "name": "stdout",
     "output_type": "stream",
     "text": [
      "green {'tp': 3, 'fp': 0, 'fn': 7, 'tn': 32}\n",
      "yellow {'tp': 3, 'fp': 4, 'fn': 0, 'tn': 35}\n",
      "red {'tp': 5, 'fp': 37, 'fn': 0, 'tn': 0}\n",
      "blue {'tp': 0, 'fp': 0, 'fn': 9, 'tn': 33}\n"
     ]
    }
   ],
   "source": [
    "exp = Experiment('tworules200_neural')\n",
    "exp.print_colour_models('agents.NeuralCorrectingAgent', colour_thresh=0.7)"
   ]
  },
  {
   "cell_type": "code",
   "execution_count": 19,
   "metadata": {},
   "outputs": [
    {
     "name": "stdout",
     "output_type": "stream",
     "text": [
      "green {'tp': 5, 'fp': 0, 'fn': 5, 'tn': 32}\n",
      "yellow {'tp': 3, 'fp': 0, 'fn': 0, 'tn': 39}\n",
      "red {'tp': 0, 'fp': 0, 'fn': 5, 'tn': 37}\n",
      "blue {'tp': 9, 'fp': 11, 'fn': 0, 'tn': 22}\n"
     ]
    }
   ],
   "source": [
    "exp = Experiment('tworules200_neural')\n",
    "exp.print_colour_models('agents.CorrectingAgent', colour_thresh=0.1)"
   ]
  },
  {
   "cell_type": "code",
   "execution_count": null,
   "metadata": {},
   "outputs": [],
   "source": []
  }
 ],
 "metadata": {
  "kernelspec": {
   "display_name": "Python 3",
   "language": "python",
   "name": "python3"
  },
  "language_info": {
   "codemirror_mode": {
    "name": "ipython",
    "version": 3
   },
   "file_extension": ".py",
   "mimetype": "text/x-python",
   "name": "python",
   "nbconvert_exporter": "python",
   "pygments_lexer": "ipython3",
   "version": "3.6.3"
  }
 },
 "nbformat": 4,
 "nbformat_minor": 2
}

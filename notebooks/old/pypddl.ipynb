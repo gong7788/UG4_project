{
 "cells": [
  {
   "cell_type": "code",
   "execution_count": 1,
   "metadata": {
    "scrolled": true
   },
   "outputs": [],
   "source": [
    "import pddlpy"
   ]
  },
  {
   "cell_type": "code",
   "execution_count": 7,
   "metadata": {},
   "outputs": [],
   "source": [
    "domprob = pddlpy.DomainProblem('../pddl-lib-master/examples-pddl/domain-04.pddl', \n",
    "                               '../pddl-lib-master/examples-pddl/problem-04.pddl')"
   ]
  },
  {
   "cell_type": "code",
   "execution_count": 3,
   "metadata": {},
   "outputs": [
    {
     "ename": "NameError",
     "evalue": "name 'unicode' is not defined",
     "output_type": "error",
     "traceback": [
      "\u001b[0;31m---------------------------------------------------------------------------\u001b[0m",
      "\u001b[0;31mNameError\u001b[0m                                 Traceback (most recent call last)",
      "\u001b[0;32m<ipython-input-3-449e7d699f5b>\u001b[0m in \u001b[0;36m<module>\u001b[0;34m()\u001b[0m\n\u001b[0;32m----> 1\u001b[0;31m \u001b[0municode\u001b[0m\u001b[0;34m\u001b[0m\u001b[0m\n\u001b[0m",
      "\u001b[0;31mNameError\u001b[0m: name 'unicode' is not defined"
     ]
    }
   ],
   "source": [
    "unicode"
   ]
  },
  {
   "cell_type": "code",
   "execution_count": 4,
   "metadata": {},
   "outputs": [
    {
     "ename": "ModuleNotFoundError",
     "evalue": "No module named 'unicode'",
     "output_type": "error",
     "traceback": [
      "\u001b[0;31m---------------------------------------------------------------------------\u001b[0m",
      "\u001b[0;31mModuleNotFoundError\u001b[0m                       Traceback (most recent call last)",
      "\u001b[0;32m<ipython-input-4-15293d0741a3>\u001b[0m in \u001b[0;36m<module>\u001b[0;34m()\u001b[0m\n\u001b[0;32m----> 1\u001b[0;31m \u001b[0;32mimport\u001b[0m \u001b[0municode\u001b[0m\u001b[0;34m\u001b[0m\u001b[0m\n\u001b[0m",
      "\u001b[0;31mModuleNotFoundError\u001b[0m: No module named 'unicode'"
     ]
    }
   ],
   "source": [
    "import unicode"
   ]
  },
  {
   "cell_type": "code",
   "execution_count": 5,
   "metadata": {},
   "outputs": [
    {
     "data": {
      "text/plain": [
       "<module 'builtins' (built-in)>"
      ]
     },
     "execution_count": 5,
     "metadata": {},
     "output_type": "execute_result"
    }
   ],
   "source": [
    "__builtin__"
   ]
  },
  {
   "cell_type": "code",
   "execution_count": 1,
   "metadata": {},
   "outputs": [],
   "source": [
    "import pythonpddl"
   ]
  },
  {
   "cell_type": "code",
   "execution_count": 9,
   "metadata": {},
   "outputs": [
    {
     "ename": "AttributeError",
     "evalue": "module 'pythonpddl' has no attribute 'pddl'",
     "output_type": "error",
     "traceback": [
      "\u001b[0;31m---------------------------------------------------------------------------\u001b[0m",
      "\u001b[0;31mAttributeError\u001b[0m                            Traceback (most recent call last)",
      "\u001b[0;32m<ipython-input-9-8ad914490512>\u001b[0m in \u001b[0;36m<module>\u001b[0;34m()\u001b[0m\n\u001b[0;32m----> 1\u001b[0;31m \u001b[0mdom\u001b[0m\u001b[0;34m,\u001b[0m \u001b[0mprob\u001b[0m \u001b[0;34m=\u001b[0m \u001b[0mpythonpddl\u001b[0m\u001b[0;34m.\u001b[0m\u001b[0mpddl\u001b[0m\u001b[0;34m.\u001b[0m\u001b[0mparseDomainAndProblem\u001b[0m\u001b[0;34m(\u001b[0m\u001b[0;34m'../FF-v2.3/blocks.pddl'\u001b[0m\u001b[0;34m,\u001b[0m \u001b[0;34m'../FF-v2.3/blocks1.pddl'\u001b[0m\u001b[0;34m)\u001b[0m\u001b[0;34m\u001b[0m\u001b[0m\n\u001b[0m",
      "\u001b[0;31mAttributeError\u001b[0m: module 'pythonpddl' has no attribute 'pddl'"
     ]
    }
   ],
   "source": [
    "dom, prob = pythonpddl.pddl.parseDomainAndProblem('../FF-v2.3/blocks.pddl', '../FF-v2.3/blocks1.pddl')"
   ]
  },
  {
   "cell_type": "code",
   "execution_count": 3,
   "metadata": {},
   "outputs": [
    {
     "data": {
      "text/plain": [
       "<module 'pythonpddl' from '/afs/inf.ed.ac.uk/user/s12/s1202144/miniconda3/lib/python3.6/site-packages/pythonpddl-0.0.3-py3.6.egg/pythonpddl/__init__.py'>"
      ]
     },
     "execution_count": 3,
     "metadata": {},
     "output_type": "execute_result"
    }
   ],
   "source": [
    "pythonpddl"
   ]
  },
  {
   "cell_type": "code",
   "execution_count": 7,
   "metadata": {},
   "outputs": [],
   "source": [
    "import pythonpddl2.pddl"
   ]
  },
  {
   "cell_type": "code",
   "execution_count": 203,
   "metadata": {},
   "outputs": [
    {
     "name": "stdout",
     "output_type": "stream",
     "text": [
      "Parsing domain ../FF-v2.3/wumpus-a.pddl\n",
      "Parsing problem ../FF-v2.3/wumpus-a-1.pddl\n"
     ]
    }
   ],
   "source": [
    "domain, problem = pythonpddl2.pddl.parseDomainAndProblem('../FF-v2.3/wumpus-a.pddl', '../FF-v2.3/wumpus-a-1.pddl')"
   ]
  },
  {
   "cell_type": "code",
   "execution_count": 210,
   "metadata": {},
   "outputs": [],
   "source": [
    "a = domain.actions[0]"
   ]
  },
  {
   "cell_type": "code",
   "execution_count": 26,
   "metadata": {},
   "outputs": [
    {
     "data": {
      "text/plain": [
       "'(at ?who ?to)'"
      ]
     },
     "execution_count": 26,
     "metadata": {},
     "output_type": "execute_result"
    }
   ],
   "source": [
    "a.get_eff(True)[0].asPDDL()"
   ]
  },
  {
   "cell_type": "code",
   "execution_count": 34,
   "metadata": {},
   "outputs": [
    {
     "name": "stdout",
     "output_type": "stream",
     "text": [
      "(adj s-1-1 s-1-2)\n",
      "(adj s-1-2 s-1-1)\n",
      "(adj s-1-2 s-1-3)\n",
      "(adj s-1-3 s-1-2)\n",
      "(adj s-2-1 s-2-2)\n",
      "(adj s-2-2 s-2-1)\n",
      "(adj s-2-2 s-2-3)\n",
      "(adj s-2-3 s-2-2)\n",
      "(adj s-1-1 s-2-1)\n",
      "(adj s-2-1 s-1-1)\n",
      "(adj s-1-2 s-2-2)\n",
      "(adj s-2-2 s-1-2)\n",
      "(adj s-1-3 s-2-3)\n",
      "(adj s-2-3 s-1-3)\n",
      "(pit s-1-2)\n",
      "(is-gold gold-1)\n",
      "(is-arrow arrow-1)\n",
      "(at gold-1 s-1-3)\n",
      "(at agent s-1-1)\n",
      "(have agent arrow-1)\n",
      "(at wumpus s-2-3)\n"
     ]
    }
   ],
   "source": [
    "for p in problem.initialstate:\n",
    "    print(p.asPDDL())"
   ]
  },
  {
   "cell_type": "code",
   "execution_count": 43,
   "metadata": {},
   "outputs": [],
   "source": [
    "a = problem.objects.args[0]\n"
   ]
  },
  {
   "cell_type": "code",
   "execution_count": 46,
   "metadata": {},
   "outputs": [
    {
     "data": {
      "text/plain": [
       "'s-1-1'"
      ]
     },
     "execution_count": 46,
     "metadata": {},
     "output_type": "execute_result"
    }
   ],
   "source": [
    "a.asPDDL()"
   ]
  },
  {
   "cell_type": "code",
   "execution_count": 47,
   "metadata": {},
   "outputs": [],
   "source": [
    "state = problem.initialstate"
   ]
  },
  {
   "cell_type": "code",
   "execution_count": 48,
   "metadata": {},
   "outputs": [
    {
     "data": {
      "text/plain": [
       "[<pythonpddl2.pddl.Formula at 0x7fcb72e4ea90>,\n",
       " <pythonpddl2.pddl.Formula at 0x7fcb72e4e128>,\n",
       " <pythonpddl2.pddl.Formula at 0x7fcb72e4e7f0>,\n",
       " <pythonpddl2.pddl.Formula at 0x7fcb72e4eac8>,\n",
       " <pythonpddl2.pddl.Formula at 0x7fcb72e4e710>,\n",
       " <pythonpddl2.pddl.Formula at 0x7fcb72e4e2b0>,\n",
       " <pythonpddl2.pddl.Formula at 0x7fcb72ea57f0>,\n",
       " <pythonpddl2.pddl.Formula at 0x7fcb72ea5be0>,\n",
       " <pythonpddl2.pddl.Formula at 0x7fcb72ea5860>,\n",
       " <pythonpddl2.pddl.Formula at 0x7fcb72e87f28>,\n",
       " <pythonpddl2.pddl.Formula at 0x7fcb72e87c18>,\n",
       " <pythonpddl2.pddl.Formula at 0x7fcb72e874e0>,\n",
       " <pythonpddl2.pddl.Formula at 0x7fcb72e87128>,\n",
       " <pythonpddl2.pddl.Formula at 0x7fcb72e87278>,\n",
       " <pythonpddl2.pddl.Formula at 0x7fcb72e872e8>,\n",
       " <pythonpddl2.pddl.Formula at 0x7fcb72e87c50>,\n",
       " <pythonpddl2.pddl.Formula at 0x7fcb72e87e10>,\n",
       " <pythonpddl2.pddl.Formula at 0x7fcb72e879b0>,\n",
       " <pythonpddl2.pddl.Formula at 0x7fcb72e8cc50>,\n",
       " <pythonpddl2.pddl.Formula at 0x7fcb72e8ce48>,\n",
       " <pythonpddl2.pddl.Formula at 0x7fcb72e8cfd0>]"
      ]
     },
     "execution_count": 48,
     "metadata": {},
     "output_type": "execute_result"
    }
   ],
   "source": [
    "state"
   ]
  },
  {
   "cell_type": "code",
   "execution_count": 49,
   "metadata": {},
   "outputs": [],
   "source": [
    "def is_applicable(action, state):\n",
    "    pass"
   ]
  },
  {
   "cell_type": "code",
   "execution_count": 212,
   "metadata": {},
   "outputs": [],
   "source": [
    "a1 = domain.actions[0]"
   ]
  },
  {
   "cell_type": "code",
   "execution_count": 60,
   "metadata": {},
   "outputs": [],
   "source": [
    "pos = a1.get_pre(True)\n",
    "neg = a1.get_pre(False)"
   ]
  },
  {
   "cell_type": "code",
   "execution_count": 62,
   "metadata": {},
   "outputs": [
    {
     "data": {
      "text/plain": [
       "'(at ?who ?from)'"
      ]
     },
     "execution_count": 62,
     "metadata": {},
     "output_type": "execute_result"
    }
   ],
   "source": [
    "pos[0].asPDDL()"
   ]
  },
  {
   "cell_type": "code",
   "execution_count": 81,
   "metadata": {},
   "outputs": [
    {
     "data": {
      "text/plain": [
       "'(:action move\\n\\t:parameters (?who ?from ?to)\\n\\t:precondition (and (at ?who ?from) (adj ?from ?to) (not (pit ?to)))\\n\\t:effect (and (not (at ?who ?from)) (at ?who ?to))\\n)'"
      ]
     },
     "execution_count": 81,
     "metadata": {},
     "output_type": "execute_result"
    }
   ],
   "source": [
    "a1.asPDDL()"
   ]
  },
  {
   "cell_type": "code",
   "execution_count": 67,
   "metadata": {},
   "outputs": [
    {
     "data": {
      "text/plain": [
       "3"
      ]
     },
     "execution_count": 67,
     "metadata": {},
     "output_type": "execute_result"
    }
   ],
   "source": [
    "len(a1.parameters.args)"
   ]
  },
  {
   "cell_type": "code",
   "execution_count": 79,
   "metadata": {},
   "outputs": [
    {
     "data": {
      "text/plain": [
       "'adj'"
      ]
     },
     "execution_count": 79,
     "metadata": {},
     "output_type": "execute_result"
    }
   ],
   "source": [
    "f = problem.initialstate[0]\n",
    "p = f.get_predicates(1)[0]\n",
    "p.name"
   ]
  },
  {
   "cell_type": "code",
   "execution_count": 93,
   "metadata": {},
   "outputs": [
    {
     "data": {
      "text/plain": [
       "'(at wumpus s-1-1)'"
      ]
     },
     "execution_count": 93,
     "metadata": {},
     "output_type": "execute_result"
    }
   ],
   "source": [
    "p1 = a1.get_pre(1)[0]\n",
    "p1.args.args[0] = pythonpddl2.pddl.TypedArg('wumpus')\n",
    "p1.args.args[1] = pythonpddl2.pddl.TypedArg('s-1-1')\n",
    "p1.asPDDL()"
   ]
  },
  {
   "cell_type": "code",
   "execution_count": 204,
   "metadata": {},
   "outputs": [],
   "source": [
    "import copy\n",
    "\n",
    "def update_args(args, action):\n",
    "    action = copy.deepcopy(action)\n",
    "    for i, arg in enumerate(args):\n",
    "        action.parameters.args[i] = pythonpddl2.pddl.TypedArg(arg)\n",
    "    return action\n",
    "\n",
    "a1_2 = update_args(('wumpus', 's-1-1', 's-1-2'), a1)\n",
    "\n"
   ]
  },
  {
   "cell_type": "code",
   "execution_count": 106,
   "metadata": {},
   "outputs": [
    {
     "data": {
      "text/plain": [
       "'(:action move\\n\\t:parameters (wumpus s-1-1 s-1-2)\\n\\t:precondition (and (at ?who ?from) (adj ?from ?to) (not (pit ?to)))\\n\\t:effect (and (not (at ?who ?from)) (at ?who ?to))\\n)'"
      ]
     },
     "execution_count": 106,
     "metadata": {},
     "output_type": "execute_result"
    }
   ],
   "source": [
    "a1_2.asPDDL()\n",
    "#  a1.asPDDL()"
   ]
  },
  {
   "cell_type": "code",
   "execution_count": 113,
   "metadata": {},
   "outputs": [
    {
     "data": {
      "text/plain": [
       "'wumpus'"
      ]
     },
     "execution_count": 113,
     "metadata": {},
     "output_type": "execute_result"
    }
   ],
   "source": [
    "a = p1.args.args[0]\n",
    "a.arg_name"
   ]
  },
  {
   "cell_type": "code",
   "execution_count": 205,
   "metadata": {},
   "outputs": [],
   "source": [
    "def equivalent(p1, p2):\n",
    "    equal = p1.name == p2.name\n",
    "    if len(p1.args.args) != len(p2.args.args):\n",
    "        return False\n",
    "    else:\n",
    "        for a1, a2 in zip(p1.args.args, p2.args.args):\n",
    "            equal = equal and a1.arg_name == a2.arg_name\n",
    "        return equal\n"
   ]
  },
  {
   "cell_type": "code",
   "execution_count": 134,
   "metadata": {},
   "outputs": [],
   "source": [
    "p.args.args[0] = pythonpddl2.pddl.TypedArg('agent')"
   ]
  },
  {
   "cell_type": "code",
   "execution_count": 135,
   "metadata": {},
   "outputs": [
    {
     "data": {
      "text/plain": [
       "True"
      ]
     },
     "execution_count": 135,
     "metadata": {},
     "output_type": "execute_result"
    }
   ],
   "source": [
    "predicate_holds(p, state)"
   ]
  },
  {
   "cell_type": "code",
   "execution_count": 133,
   "metadata": {},
   "outputs": [
    {
     "name": "stdout",
     "output_type": "stream",
     "text": [
      "(adj s-1-1 s-1-2)\n",
      "(adj s-1-2 s-1-1)\n",
      "(adj s-1-2 s-1-3)\n",
      "(adj s-1-3 s-1-2)\n",
      "(adj s-2-1 s-2-2)\n",
      "(adj s-2-2 s-2-1)\n",
      "(adj s-2-2 s-2-3)\n",
      "(adj s-2-3 s-2-2)\n",
      "(adj s-1-1 s-2-1)\n",
      "(adj s-2-1 s-1-1)\n",
      "(adj s-1-2 s-2-2)\n",
      "(adj s-2-2 s-1-2)\n",
      "(adj s-1-3 s-2-3)\n",
      "(adj s-2-3 s-1-3)\n",
      "(pit s-1-2)\n",
      "(is-gold gold-1)\n",
      "(is-arrow arrow-1)\n",
      "(at gold-1 s-1-3)\n",
      "(at agent s-1-1)\n",
      "(have agent arrow-1)\n",
      "(at wumpus s-2-3)\n"
     ]
    }
   ],
   "source": [
    "for f in state:\n",
    "    print(f.asPDDL())"
   ]
  },
  {
   "cell_type": "code",
   "execution_count": 206,
   "metadata": {},
   "outputs": [],
   "source": [
    "def predicate_holds(predicate, state):\n",
    "    for f in state:\n",
    "        ps = f.get_predicates(True)\n",
    "        for p in ps:\n",
    "            if equivalent(predicate, p):\n",
    "                return True\n",
    "    return False"
   ]
  },
  {
   "cell_type": "code",
   "execution_count": 208,
   "metadata": {},
   "outputs": [],
   "source": [
    "class InvalidActionError(Exception):\n",
    "    pass"
   ]
  },
  {
   "cell_type": "code",
   "execution_count": 207,
   "metadata": {},
   "outputs": [],
   "source": [
    "def update_predicate(predicate, arg_dict):\n",
    "    new_pred = copy.deepcopy(predicate)\n",
    "    for i, arg in enumerate(predicate.args.args):\n",
    "        new_pred.args.args[i].arg_name = arg_dict[arg.arg_name]\n",
    "    return new_pred"
   ]
  },
  {
   "cell_type": "code",
   "execution_count": 194,
   "metadata": {},
   "outputs": [
    {
     "name": "stdout",
     "output_type": "stream",
     "text": [
      "?who\n",
      "?from\n",
      "?to\n"
     ]
    }
   ],
   "source": [
    "for a in a1.parameters.args:\n",
    "    print(a.arg_name)"
   ]
  },
  {
   "cell_type": "code",
   "execution_count": 211,
   "metadata": {},
   "outputs": [
    {
     "ename": "KeyError",
     "evalue": "'?who'",
     "output_type": "error",
     "traceback": [
      "\u001b[0;31m---------------------------------------------------------------------------\u001b[0m",
      "\u001b[0;31mKeyError\u001b[0m                                  Traceback (most recent call last)",
      "\u001b[0;32m<ipython-input-211-815bbec67a1c>\u001b[0m in \u001b[0;36m<module>\u001b[0;34m()\u001b[0m\n\u001b[1;32m     24\u001b[0m \u001b[0;34m\u001b[0m\u001b[0m\n\u001b[1;32m     25\u001b[0m \u001b[0;34m\u001b[0m\u001b[0m\n\u001b[0;32m---> 26\u001b[0;31m \u001b[0mnew_state\u001b[0m \u001b[0;34m=\u001b[0m \u001b[0mapply_action\u001b[0m\u001b[0;34m(\u001b[0m\u001b[0;34m(\u001b[0m\u001b[0;34m'agent'\u001b[0m\u001b[0;34m,\u001b[0m \u001b[0;34m's-1-1'\u001b[0m\u001b[0;34m,\u001b[0m \u001b[0;34m's-2-1'\u001b[0m\u001b[0;34m)\u001b[0m\u001b[0;34m,\u001b[0m \u001b[0ma1\u001b[0m\u001b[0;34m,\u001b[0m \u001b[0mproblem\u001b[0m\u001b[0;34m.\u001b[0m\u001b[0minitialstate\u001b[0m\u001b[0;34m)\u001b[0m\u001b[0;34m\u001b[0m\u001b[0m\n\u001b[0m",
      "\u001b[0;32m<ipython-input-211-815bbec67a1c>\u001b[0m in \u001b[0;36mapply_action\u001b[0;34m(arguments, action, state)\u001b[0m\n\u001b[1;32m      3\u001b[0m     \u001b[0mpred_dict\u001b[0m \u001b[0;34m=\u001b[0m \u001b[0;34m{\u001b[0m\u001b[0mparam\u001b[0m\u001b[0;34m.\u001b[0m\u001b[0marg_name\u001b[0m\u001b[0;34m:\u001b[0m\u001b[0marg\u001b[0m \u001b[0;32mfor\u001b[0m \u001b[0mparam\u001b[0m\u001b[0;34m,\u001b[0m \u001b[0marg\u001b[0m \u001b[0;32min\u001b[0m \u001b[0mzip\u001b[0m\u001b[0;34m(\u001b[0m\u001b[0maction_args\u001b[0m\u001b[0;34m,\u001b[0m \u001b[0marguments\u001b[0m\u001b[0;34m)\u001b[0m\u001b[0;34m}\u001b[0m\u001b[0;34m\u001b[0m\u001b[0m\n\u001b[1;32m      4\u001b[0m     \u001b[0;31m#specific_action = update_args(arguments, action)\u001b[0m\u001b[0;34m\u001b[0m\u001b[0;34m\u001b[0m\u001b[0m\n\u001b[0;32m----> 5\u001b[0;31m     \u001b[0mpos_pre\u001b[0m \u001b[0;34m=\u001b[0m \u001b[0;34m[\u001b[0m\u001b[0mpredicate_holds\u001b[0m\u001b[0;34m(\u001b[0m\u001b[0mupdate_predicate\u001b[0m\u001b[0;34m(\u001b[0m\u001b[0mp\u001b[0m\u001b[0;34m,\u001b[0m \u001b[0mpred_dict\u001b[0m\u001b[0;34m)\u001b[0m\u001b[0;34m,\u001b[0m \u001b[0mstate\u001b[0m\u001b[0;34m)\u001b[0m \u001b[0;32mfor\u001b[0m \u001b[0mp\u001b[0m \u001b[0;32min\u001b[0m \u001b[0mspecific_action\u001b[0m\u001b[0;34m.\u001b[0m\u001b[0mget_pre\u001b[0m\u001b[0;34m(\u001b[0m\u001b[0;32mTrue\u001b[0m\u001b[0;34m)\u001b[0m\u001b[0;34m]\u001b[0m\u001b[0;34m\u001b[0m\u001b[0m\n\u001b[0m\u001b[1;32m      6\u001b[0m     \u001b[0mneg_pre\u001b[0m \u001b[0;34m=\u001b[0m \u001b[0;34m[\u001b[0m\u001b[0;32mnot\u001b[0m\u001b[0;34m(\u001b[0m\u001b[0mpredicate_holds\u001b[0m\u001b[0;34m(\u001b[0m\u001b[0mupdate_predicate\u001b[0m\u001b[0;34m(\u001b[0m\u001b[0mp\u001b[0m\u001b[0;34m.\u001b[0m\u001b[0mget_predicates\u001b[0m\u001b[0;34m(\u001b[0m\u001b[0;36m1\u001b[0m\u001b[0;34m)\u001b[0m\u001b[0;34m[\u001b[0m\u001b[0;36m0\u001b[0m\u001b[0;34m]\u001b[0m\u001b[0;34m,\u001b[0m \u001b[0mpred_dict\u001b[0m\u001b[0;34m)\u001b[0m\u001b[0;34m,\u001b[0m \u001b[0mstate\u001b[0m\u001b[0;34m)\u001b[0m\u001b[0;34m)\u001b[0m \u001b[0;32mfor\u001b[0m \u001b[0mp\u001b[0m \u001b[0;32min\u001b[0m \u001b[0maction\u001b[0m\u001b[0;34m.\u001b[0m\u001b[0mget_pre\u001b[0m\u001b[0;34m(\u001b[0m\u001b[0;32mFalse\u001b[0m\u001b[0;34m)\u001b[0m\u001b[0;34m]\u001b[0m\u001b[0;34m\u001b[0m\u001b[0m\n\u001b[1;32m      7\u001b[0m     \u001b[0;32mif\u001b[0m \u001b[0;32mnot\u001b[0m\u001b[0;34m(\u001b[0m\u001b[0mall\u001b[0m\u001b[0;34m(\u001b[0m\u001b[0mpos_pre\u001b[0m\u001b[0;34m)\u001b[0m \u001b[0;32mand\u001b[0m \u001b[0mall\u001b[0m\u001b[0;34m(\u001b[0m\u001b[0mneg_pre\u001b[0m\u001b[0;34m)\u001b[0m\u001b[0;34m)\u001b[0m\u001b[0;34m:\u001b[0m\u001b[0;34m\u001b[0m\u001b[0m\n",
      "\u001b[0;32m<ipython-input-211-815bbec67a1c>\u001b[0m in \u001b[0;36m<listcomp>\u001b[0;34m(.0)\u001b[0m\n\u001b[1;32m      3\u001b[0m     \u001b[0mpred_dict\u001b[0m \u001b[0;34m=\u001b[0m \u001b[0;34m{\u001b[0m\u001b[0mparam\u001b[0m\u001b[0;34m.\u001b[0m\u001b[0marg_name\u001b[0m\u001b[0;34m:\u001b[0m\u001b[0marg\u001b[0m \u001b[0;32mfor\u001b[0m \u001b[0mparam\u001b[0m\u001b[0;34m,\u001b[0m \u001b[0marg\u001b[0m \u001b[0;32min\u001b[0m \u001b[0mzip\u001b[0m\u001b[0;34m(\u001b[0m\u001b[0maction_args\u001b[0m\u001b[0;34m,\u001b[0m \u001b[0marguments\u001b[0m\u001b[0;34m)\u001b[0m\u001b[0;34m}\u001b[0m\u001b[0;34m\u001b[0m\u001b[0m\n\u001b[1;32m      4\u001b[0m     \u001b[0;31m#specific_action = update_args(arguments, action)\u001b[0m\u001b[0;34m\u001b[0m\u001b[0;34m\u001b[0m\u001b[0m\n\u001b[0;32m----> 5\u001b[0;31m     \u001b[0mpos_pre\u001b[0m \u001b[0;34m=\u001b[0m \u001b[0;34m[\u001b[0m\u001b[0mpredicate_holds\u001b[0m\u001b[0;34m(\u001b[0m\u001b[0mupdate_predicate\u001b[0m\u001b[0;34m(\u001b[0m\u001b[0mp\u001b[0m\u001b[0;34m,\u001b[0m \u001b[0mpred_dict\u001b[0m\u001b[0;34m)\u001b[0m\u001b[0;34m,\u001b[0m \u001b[0mstate\u001b[0m\u001b[0;34m)\u001b[0m \u001b[0;32mfor\u001b[0m \u001b[0mp\u001b[0m \u001b[0;32min\u001b[0m \u001b[0mspecific_action\u001b[0m\u001b[0;34m.\u001b[0m\u001b[0mget_pre\u001b[0m\u001b[0;34m(\u001b[0m\u001b[0;32mTrue\u001b[0m\u001b[0;34m)\u001b[0m\u001b[0;34m]\u001b[0m\u001b[0;34m\u001b[0m\u001b[0m\n\u001b[0m\u001b[1;32m      6\u001b[0m     \u001b[0mneg_pre\u001b[0m \u001b[0;34m=\u001b[0m \u001b[0;34m[\u001b[0m\u001b[0;32mnot\u001b[0m\u001b[0;34m(\u001b[0m\u001b[0mpredicate_holds\u001b[0m\u001b[0;34m(\u001b[0m\u001b[0mupdate_predicate\u001b[0m\u001b[0;34m(\u001b[0m\u001b[0mp\u001b[0m\u001b[0;34m.\u001b[0m\u001b[0mget_predicates\u001b[0m\u001b[0;34m(\u001b[0m\u001b[0;36m1\u001b[0m\u001b[0;34m)\u001b[0m\u001b[0;34m[\u001b[0m\u001b[0;36m0\u001b[0m\u001b[0;34m]\u001b[0m\u001b[0;34m,\u001b[0m \u001b[0mpred_dict\u001b[0m\u001b[0;34m)\u001b[0m\u001b[0;34m,\u001b[0m \u001b[0mstate\u001b[0m\u001b[0;34m)\u001b[0m\u001b[0;34m)\u001b[0m \u001b[0;32mfor\u001b[0m \u001b[0mp\u001b[0m \u001b[0;32min\u001b[0m \u001b[0maction\u001b[0m\u001b[0;34m.\u001b[0m\u001b[0mget_pre\u001b[0m\u001b[0;34m(\u001b[0m\u001b[0;32mFalse\u001b[0m\u001b[0;34m)\u001b[0m\u001b[0;34m]\u001b[0m\u001b[0;34m\u001b[0m\u001b[0m\n\u001b[1;32m      7\u001b[0m     \u001b[0;32mif\u001b[0m \u001b[0;32mnot\u001b[0m\u001b[0;34m(\u001b[0m\u001b[0mall\u001b[0m\u001b[0;34m(\u001b[0m\u001b[0mpos_pre\u001b[0m\u001b[0;34m)\u001b[0m \u001b[0;32mand\u001b[0m \u001b[0mall\u001b[0m\u001b[0;34m(\u001b[0m\u001b[0mneg_pre\u001b[0m\u001b[0;34m)\u001b[0m\u001b[0;34m)\u001b[0m\u001b[0;34m:\u001b[0m\u001b[0;34m\u001b[0m\u001b[0m\n",
      "\u001b[0;32m<ipython-input-207-7dcf7aa9c9c3>\u001b[0m in \u001b[0;36mupdate_predicate\u001b[0;34m(predicate, arg_dict)\u001b[0m\n\u001b[1;32m      2\u001b[0m     \u001b[0mnew_pred\u001b[0m \u001b[0;34m=\u001b[0m \u001b[0mcopy\u001b[0m\u001b[0;34m.\u001b[0m\u001b[0mdeepcopy\u001b[0m\u001b[0;34m(\u001b[0m\u001b[0mpredicate\u001b[0m\u001b[0;34m)\u001b[0m\u001b[0;34m\u001b[0m\u001b[0m\n\u001b[1;32m      3\u001b[0m     \u001b[0;32mfor\u001b[0m \u001b[0mi\u001b[0m\u001b[0;34m,\u001b[0m \u001b[0marg\u001b[0m \u001b[0;32min\u001b[0m \u001b[0menumerate\u001b[0m\u001b[0;34m(\u001b[0m\u001b[0mpredicate\u001b[0m\u001b[0;34m.\u001b[0m\u001b[0margs\u001b[0m\u001b[0;34m.\u001b[0m\u001b[0margs\u001b[0m\u001b[0;34m)\u001b[0m\u001b[0;34m:\u001b[0m\u001b[0;34m\u001b[0m\u001b[0m\n\u001b[0;32m----> 4\u001b[0;31m         \u001b[0mnew_pred\u001b[0m\u001b[0;34m.\u001b[0m\u001b[0margs\u001b[0m\u001b[0;34m.\u001b[0m\u001b[0margs\u001b[0m\u001b[0;34m[\u001b[0m\u001b[0mi\u001b[0m\u001b[0;34m]\u001b[0m\u001b[0;34m.\u001b[0m\u001b[0marg_name\u001b[0m \u001b[0;34m=\u001b[0m \u001b[0marg_dict\u001b[0m\u001b[0;34m[\u001b[0m\u001b[0marg\u001b[0m\u001b[0;34m.\u001b[0m\u001b[0marg_name\u001b[0m\u001b[0;34m]\u001b[0m\u001b[0;34m\u001b[0m\u001b[0m\n\u001b[0m\u001b[1;32m      5\u001b[0m     \u001b[0;32mreturn\u001b[0m \u001b[0mnew_pred\u001b[0m\u001b[0;34m\u001b[0m\u001b[0m\n",
      "\u001b[0;31mKeyError\u001b[0m: '?who'"
     ]
    }
   ],
   "source": [
    "def apply_action(arguments, action, state):\n",
    "    action_args = action.parameters.args\n",
    "    pred_dict = {param.arg_name:arg for param, arg in zip(action_args, arguments)}\n",
    "    #specific_action = update_args(arguments, action)\n",
    "    pos_pre = [predicate_holds(update_predicate(p, pred_dict), state) for p in specific_action.get_pre(True)]\n",
    "    neg_pre = [not(predicate_holds(update_predicate(p.get_predicates(1)[0], pred_dict), state)) for p in action.get_pre(False)]\n",
    "    if not(all(pos_pre) and all(neg_pre)):\n",
    "        raise InvalidActionError('preconditions do not hold')\n",
    "    \n",
    "    new_state = copy.deepcopy(state)\n",
    "    for eff in action.get_eff(1):\n",
    "        new_state.append(update_predicate(eff, pred_dict))\n",
    "    \n",
    "    for eff in action.get_eff(0):\n",
    "        filter(lambda x: not(\n",
    "            equivalent(\n",
    "                update_predicate(eff, pred_dict), x)), \n",
    "              new_state)\n",
    "        \n",
    "        \n",
    "    \n",
    "    return new_state\n",
    "\n",
    "\n",
    "\n",
    "new_state = apply_action(('agent', 's-1-1', 's-2-1'), a1, problem.initialstate)"
   ]
  },
  {
   "cell_type": "code",
   "execution_count": 202,
   "metadata": {},
   "outputs": [
    {
     "ename": "SyntaxError",
     "evalue": "invalid syntax (<ipython-input-202-195437ef6816>, line 6)",
     "output_type": "error",
     "traceback": [
      "\u001b[0;36m  File \u001b[0;32m\"<ipython-input-202-195437ef6816>\"\u001b[0;36m, line \u001b[0;32m6\u001b[0m\n\u001b[0;31m    state.\u001b[0m\n\u001b[0m          ^\u001b[0m\n\u001b[0;31mSyntaxError\u001b[0m\u001b[0;31m:\u001b[0m invalid syntax\n"
     ]
    }
   ],
   "source": [
    "specific_action = update_args(('agent', 's-1-1', 's-2-1'), a1)\n",
    "specific_action.asPDDL()\n",
    "arg = a1.parameters.args[0]\n",
    "arg.asPDDL()\n",
    "specific_action.get_eff(1)\n"
   ]
  },
  {
   "cell_type": "code",
   "execution_count": 173,
   "metadata": {},
   "outputs": [
    {
     "name": "stdout",
     "output_type": "stream",
     "text": [
      "(at ?who ?from)\n",
      "(adj ?from ?to)\n",
      "[False, False]\n"
     ]
    }
   ],
   "source": [
    "pos_pre = [predicate_holds(p, problem.initialstate) for p in specific_action.get_pre(True)]\n",
    "for p in specific_action.get_pre(True):\n",
    "    print(p.asPDDL())\n",
    "    \n",
    "print(pos_pre)"
   ]
  },
  {
   "cell_type": "code",
   "execution_count": 154,
   "metadata": {},
   "outputs": [
    {
     "data": {
      "text/plain": [
       "'(pit ?to)'"
      ]
     },
     "execution_count": 154,
     "metadata": {},
     "output_type": "execute_result"
    }
   ],
   "source": [
    "\n",
    "f = a1.get_pre(False)[0]\n",
    "f.get_predicates(1)[0].asPDDL()"
   ]
  },
  {
   "cell_type": "code",
   "execution_count": 160,
   "metadata": {},
   "outputs": [
    {
     "name": "stdout",
     "output_type": "stream",
     "text": [
      "(adj s-1-1 s-1-2)\n",
      "(adj s-1-2 s-1-1)\n",
      "(adj s-1-2 s-1-3)\n",
      "(adj s-1-3 s-1-2)\n",
      "(adj s-2-1 s-2-2)\n",
      "(adj s-2-2 s-2-1)\n",
      "(adj s-2-2 s-2-3)\n",
      "(adj s-2-3 s-2-2)\n",
      "(adj s-1-1 s-2-1)\n",
      "(adj s-2-1 s-1-1)\n",
      "(adj s-1-2 s-2-2)\n",
      "(adj s-2-2 s-1-2)\n",
      "(adj s-1-3 s-2-3)\n",
      "(adj s-2-3 s-1-3)\n",
      "(pit s-1-2)\n",
      "(is-gold gold-1)\n",
      "(is-arrow arrow-1)\n",
      "(at gold-1 s-1-3)\n",
      "(at agent s-1-1)\n",
      "(have agent arrow-1)\n",
      "(at wumpus s-2-3)\n"
     ]
    }
   ],
   "source": [
    "for p in problem.initialstate:\n",
    "    print(p.asPDDL())"
   ]
  },
  {
   "cell_type": "code",
   "execution_count": null,
   "metadata": {},
   "outputs": [],
   "source": []
  }
 ],
 "metadata": {
  "kernelspec": {
   "display_name": "Python 3",
   "language": "python",
   "name": "python3"
  },
  "language_info": {
   "codemirror_mode": {
    "name": "ipython",
    "version": 3
   },
   "file_extension": ".py",
   "mimetype": "text/x-python",
   "name": "python",
   "nbconvert_exporter": "python",
   "pygments_lexer": "ipython3",
   "version": "3.6.3"
  }
 },
 "nbformat": 4,
 "nbformat_minor": 2
}

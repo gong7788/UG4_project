{
 "cells": [
  {
   "cell_type": "code",
   "execution_count": 1,
   "metadata": {},
   "outputs": [],
   "source": [
    "from correctingagent.models.pgmmodels import PGMModel\n",
    "from correctingagent.world.rules import RedOnBlueRule, Rule"
   ]
  },
  {
   "cell_type": "code",
   "execution_count": 2,
   "metadata": {},
   "outputs": [],
   "source": [
    "from correctingagent.models.prob_model import KDEColourModel\n",
    "#big_bijection_random_colours6/problem6.pddl\n",
    "\n"
   ]
  },
  {
   "cell_type": "code",
   "execution_count": 10,
   "metadata": {},
   "outputs": [
    {
     "name": "stdout",
     "output_type": "stream",
     "text": [
      "fix bw? False\n",
      "bw 0.5\n",
      "fix bw? False\n",
      "bw 0.5\n",
      "no correction ['b3', 'b0'] 2 [all x.(yellow(x) -> exists y. (orange(y) & on(x,y))), all y.(orange(y) -> exists x. (yellow(x) & on(x,y)))]\n",
      "no correction ['b3', 'b0'] 2 [all x.(yellow(x) -> exists y. (orange(y) & on(x,y))), all y.(orange(y) -> exists x. (yellow(x) & on(x,y)))]\n"
     ]
    },
    {
     "data": {
      "text/plain": [
       "[({'yellow(b5)': 0,\n",
       "   'orange(b0)': 1,\n",
       "   all x.(yellow(x) -> exists y. (orange(y) & on(x,y))): 0,\n",
       "   all y.(orange(y) -> exists x. (yellow(x) & on(x,y))): 1,\n",
       "   'V_1(all x.(yellow(x) -> exists y. (orange(y) & on(x,y))))': 0,\n",
       "   'V_1(all y.(orange(y) -> exists x. (yellow(x) & on(x,y))))': 1,\n",
       "   'corr_1': 1,\n",
       "   'F(b5)': [0.5, 0.5, 0.5],\n",
       "   'F(b0)': [0.5, 0.5, 0.5],\n",
       "   'yellow(b3)': 1,\n",
       "   'V_2(all x.(yellow(x) -> exists y. (orange(y) & on(x,y))))': 0,\n",
       "   'V_2(all y.(orange(y) -> exists x. (yellow(x) & on(x,y))))': 0,\n",
       "   'corr_2': 0,\n",
       "   'F(b3)': [0.5, 0.5, 0.5],\n",
       "   'yellow(b1)': 0,\n",
       "   'orange(b3)': 1,\n",
       "   'V_3(all x.(yellow(x) -> exists y. (orange(y) & on(x,y))))': 0,\n",
       "   'V_3(all y.(orange(y) -> exists x. (yellow(x) & on(x,y))))': 1,\n",
       "   'corr_3': 1,\n",
       "   'F(b1)': [0.5, 0.5, 0.5]},\n",
       "  0.45),\n",
       " ({'yellow(b5)': 0,\n",
       "   'orange(b0)': 1,\n",
       "   all x.(yellow(x) -> exists y. (orange(y) & on(x,y))): 1,\n",
       "   all y.(orange(y) -> exists x. (yellow(x) & on(x,y))): 1,\n",
       "   'V_1(all x.(yellow(x) -> exists y. (orange(y) & on(x,y))))': 0,\n",
       "   'V_1(all y.(orange(y) -> exists x. (yellow(x) & on(x,y))))': 1,\n",
       "   'corr_1': 1,\n",
       "   'F(b5)': [0.5, 0.5, 0.5],\n",
       "   'F(b0)': [0.5, 0.5, 0.5],\n",
       "   'yellow(b3)': 1,\n",
       "   'V_2(all x.(yellow(x) -> exists y. (orange(y) & on(x,y))))': 0,\n",
       "   'V_2(all y.(orange(y) -> exists x. (yellow(x) & on(x,y))))': 0,\n",
       "   'corr_2': 0,\n",
       "   'F(b3)': [0.5, 0.5, 0.5],\n",
       "   'yellow(b1)': 0,\n",
       "   'orange(b3)': 1,\n",
       "   'V_3(all x.(yellow(x) -> exists y. (orange(y) & on(x,y))))': 0,\n",
       "   'V_3(all y.(orange(y) -> exists x. (yellow(x) & on(x,y))))': 1,\n",
       "   'corr_3': 1,\n",
       "   'F(b1)': [0.5, 0.5, 0.5]},\n",
       "  0.05000000000000001),\n",
       " ({'yellow(b5)': 1,\n",
       "   'orange(b0)': 0,\n",
       "   all x.(yellow(x) -> exists y. (orange(y) & on(x,y))): 1,\n",
       "   all y.(orange(y) -> exists x. (yellow(x) & on(x,y))): 0,\n",
       "   'V_1(all x.(yellow(x) -> exists y. (orange(y) & on(x,y))))': 1,\n",
       "   'V_1(all y.(orange(y) -> exists x. (yellow(x) & on(x,y))))': 0,\n",
       "   'corr_1': 1,\n",
       "   'F(b5)': [0.5, 0.5, 0.5],\n",
       "   'F(b0)': [0.5, 0.5, 0.5],\n",
       "   'yellow(b3)': 0,\n",
       "   'V_2(all x.(yellow(x) -> exists y. (orange(y) & on(x,y))))': 0,\n",
       "   'V_2(all y.(orange(y) -> exists x. (yellow(x) & on(x,y))))': 0,\n",
       "   'corr_2': 0,\n",
       "   'F(b3)': [0.5, 0.5, 0.5],\n",
       "   'yellow(b1)': 1,\n",
       "   'orange(b3)': 0,\n",
       "   'V_3(all x.(yellow(x) -> exists y. (orange(y) & on(x,y))))': 1,\n",
       "   'V_3(all y.(orange(y) -> exists x. (yellow(x) & on(x,y))))': 0,\n",
       "   'corr_3': 1,\n",
       "   'F(b1)': [0.5, 0.5, 0.5]},\n",
       "  0.45),\n",
       " ({'yellow(b5)': 1,\n",
       "   'orange(b0)': 0,\n",
       "   all x.(yellow(x) -> exists y. (orange(y) & on(x,y))): 1,\n",
       "   all y.(orange(y) -> exists x. (yellow(x) & on(x,y))): 1,\n",
       "   'V_1(all x.(yellow(x) -> exists y. (orange(y) & on(x,y))))': 1,\n",
       "   'V_1(all y.(orange(y) -> exists x. (yellow(x) & on(x,y))))': 0,\n",
       "   'corr_1': 1,\n",
       "   'F(b5)': [0.5, 0.5, 0.5],\n",
       "   'F(b0)': [0.5, 0.5, 0.5],\n",
       "   'yellow(b3)': 0,\n",
       "   'V_2(all x.(yellow(x) -> exists y. (orange(y) & on(x,y))))': 0,\n",
       "   'V_2(all y.(orange(y) -> exists x. (yellow(x) & on(x,y))))': 0,\n",
       "   'corr_2': 0,\n",
       "   'F(b3)': [0.5, 0.5, 0.5],\n",
       "   'yellow(b1)': 1,\n",
       "   'orange(b3)': 0,\n",
       "   'V_3(all x.(yellow(x) -> exists y. (orange(y) & on(x,y))))': 1,\n",
       "   'V_3(all y.(orange(y) -> exists x. (yellow(x) & on(x,y))))': 0,\n",
       "   'corr_3': 1,\n",
       "   'F(b1)': [0.5, 0.5, 0.5]},\n",
       "  0.05000000000000001)]"
      ]
     },
     "execution_count": 10,
     "metadata": {},
     "output_type": "execute_result"
    }
   ],
   "source": [
    "model = PGMModel()\n",
    "c1 = 'yellow'\n",
    "c2 = 'orange'\n",
    "rules = Rule.generate_red_on_blue_options(c1, c2)\n",
    "red = KDEColourModel(c1)\n",
    "blue = KDEColourModel(c2)\n",
    "o1, o2 = ('b5', 'b0')\n",
    "v1 = model.extend_model(rules, red, blue, [o1, o2], 1, False) # yellow on yellow so violates r_1^(y, o)\n",
    "model.observe({'corr_1':1, f'F({o1})':[0.5,0.5,0.5], \n",
    "               f'F({o2})':[0.5,0.5,0.5]})\n",
    "model.search_inference.beam\n",
    "\n",
    "model.add_no_correction(['b3', 'b0'], 2, rules) # orange on yellow - fine\n",
    "model.observe({'corr_2':0, 'F(b3)':[0.5,0.5,0.5], 'F(b0)':[0.5, 0.5, 0.5]})\n",
    "\n",
    "model.search_inference.beam\n",
    "\n",
    "v2 = model.extend_model(rules, red, blue, ['b1', 'b3'], 3, False) # orange on orange violates r_2^{y, o}\n",
    "model.add_same_reason(v1, v2)\n",
    "model.observe({'corr_3':1, 'F(b3)':[0.5,0.5,0.5], 'F(b1)':[0.5, 0.5, 0.5]})\n",
    "\n",
    "model.search_inference.beam\n"
   ]
  },
  {
   "cell_type": "code",
   "execution_count": 11,
   "metadata": {},
   "outputs": [
    {
     "data": {
      "text/plain": [
       "[({'yellow(b5)': 1,\n",
       "   'orange(b0)': 0,\n",
       "   all x.(yellow(x) -> exists y. (orange(y) & on(x,y))): 1,\n",
       "   all y.(orange(y) -> exists x. (yellow(x) & on(x,y))): 1,\n",
       "   'V_1(all x.(yellow(x) -> exists y. (orange(y) & on(x,y))))': 1,\n",
       "   'V_1(all y.(orange(y) -> exists x. (yellow(x) & on(x,y))))': 0,\n",
       "   'corr_1': 1,\n",
       "   'F(b5)': [0.5, 0.5, 0.5],\n",
       "   'F(b0)': [0.5, 0.5, 0.5],\n",
       "   'yellow(b3)': 0,\n",
       "   'V_2(all x.(yellow(x) -> exists y. (orange(y) & on(x,y))))': 0,\n",
       "   'V_2(all y.(orange(y) -> exists x. (yellow(x) & on(x,y))))': 0,\n",
       "   'corr_2': 0,\n",
       "   'F(b3)': [0.5, 0.5, 0.5],\n",
       "   'yellow(b1)': 1,\n",
       "   'orange(b3)': 0,\n",
       "   'V_3(all x.(yellow(x) -> exists y. (orange(y) & on(x,y))))': 1,\n",
       "   'V_3(all y.(orange(y) -> exists x. (yellow(x) & on(x,y))))': 0,\n",
       "   'corr_3': 1,\n",
       "   'F(b1)': [0.5, 0.5, 0.5],\n",
       "   'yellow(b8)': 1,\n",
       "   'orange(b5)': 1,\n",
       "   'V_4(all x.(yellow(x) -> exists y. (orange(y) & on(x,y))))': 0,\n",
       "   'V_4(all y.(orange(y) -> exists x. (yellow(x) & on(x,y))))': 1,\n",
       "   'corr_4': 1,\n",
       "   'F(b8)': [0.5, 0.5, 0.5]},\n",
       "  1.0)]"
      ]
     },
     "execution_count": 11,
     "metadata": {},
     "output_type": "execute_result"
    }
   ],
   "source": [
    "v3 = model.extend_model(rules, red, blue, ['b8', 'b3', 'b5'], 4, True)\n",
    "model.observe({'corr_4':1, f'F(b8)':[0.5,0.5,0.5], \n",
    "               f'F(b3)':[0.5,0.5,0.5], \"F(b5)\":[0.5,0.5,0.5]})\n",
    "model.search_inference.beam\n",
    "\n"
   ]
  },
  {
   "cell_type": "code",
   "execution_count": null,
   "metadata": {},
   "outputs": [],
   "source": [
    "# model.add_no_correction(['b9', 'b3'], 5, rules)\n",
    "# model.observe({'corr_5':0, 'F(b3)':[0.5,0.5,0.5], 'F(b9)':[0.5, 0.5, 0.5]})\n",
    "\n",
    "# model.search_inference.beam\n",
    "\n",
    "# v4 = model.extend_model(rules, red, blue, ['b8', 'b9', 'b5'], 6, True)\n",
    "# model.add_same_reason(v3, v4)\n",
    "# model.observe({'corr_6':1, f'F(b8)':[0.5,0.5,0.5], \n",
    "#                f'F(b9)':[0.5,0.5,0.5], \"F(b5)\":[0.5,0.5,0.5]})\n",
    "\n",
    "model.search_inference.beam\n",
    "\n",
    "# v5 = model.extend_model(rules, red, blue, ['b1', 'b9', 'b5'], 7, True)\n",
    "\n",
    "# model.observe({'corr_7':1, f'F(b1)':[0.5,0.5,0.5], \n",
    "#                f'F(b9)':[0.5,0.5,0.5], \"F(b5)\":[0.5,0.5,0.5]})\n",
    "\n",
    "# model.search_inference.beam\n",
    "\n",
    "# v6 = model.extend_model(rules, red, blue, ['b1', 'b2', 'b5'], 9, True)\n",
    "# model.add_same_reason(v5, v6)\n",
    "# model.observe({'corr_8': 0, 'corr_9':1, f'F(b1)':[0.5,0.5,0.5], \n",
    "#                f'F(b2)':[0.5,0.5,0.5], \"F(b5)\":[0.5,0.5,0.5]})\n",
    "\n",
    "# model.search_inference.beam\n",
    "\n",
    "# v7 = model.extend_model(rules, red, blue, ['b1', 'b4', 'b5'], 10, True)\n",
    "# model.observe({'corr_10': 1, f'F(b1)':[0.5,0.5,0.5], \n",
    "#                f'F(b4)':[0.5,0.5,0.5], \"F(b5)\":[0.5,0.5,0.5]})\n",
    "\n",
    "# model.search_inference.beam\n",
    "\n",
    "# v8 = model.extend_model(rules, red, blue, ['b1', 'b6', 'b5'], 11, True)\n",
    "# model.add_same_reason(v7, v8)\n",
    "# model.observe({'corr_11':1, f'F(b1)':[0.5,0.5,0.5], \n",
    "#                f'F(b6)':[0.5,0.5,0.5], \"F(b5)\":[0.5,0.5,0.5]})\n",
    "\n",
    "# model.search_inference.beam\n",
    "\n",
    "# v7 = model.extend_model(rules, red, blue, ['b5', 'b7', 'b1'], 12, True)\n",
    "# model.observe({'corr_12': 1, f'F(b1)':[0.5,0.5,0.5], \n",
    "#                f'F(b7)':[0.5,0.5,0.5], \"F(b5)\":[0.5,0.5,0.5]})\n",
    "\n",
    "# model.search_inference.beam"
   ]
  },
  {
   "cell_type": "code",
   "execution_count": 5,
   "metadata": {},
   "outputs": [
    {
     "name": "stdout",
     "output_type": "stream",
     "text": [
      "adding same reason\n",
      "('V_1(all x.(red(x) -> exists y. (blue(y) & on(x,y))))', 'V_1(all y.(blue(y) -> exists x. (red(x) & on(x,y))))')\n",
      "('V_3(all x.(red(x) -> exists y. (blue(y) & on(x,y))))', 'V_3(all y.(blue(y) -> exists x. (red(x) & on(x,y))))')\n",
      "[1, 0, 0, 1, 0, 0, 0, 0, 0, 0, 0, 0, 1, 0, 0, 1]\n",
      "({'red(b9)': 1, all x.(red(x) -> exists y. (blue(y) & on(x,y))): 1, all y.(blue(y) -> exists x. (red(x) & on(x,y))): 0, 'V_1(all x.(red(x) -> exists y. (blue(y) & on(x,y))))': 1, 'V_1(all y.(blue(y) -> exists x. (red(x) & on(x,y))))': 0, 'corr_1': 1, 'blue(t0)': 0, 'F(b9)': [0.5, 0.5, 0.5], 'red(b4)': 1, 'blue(b1)': 0, 'V_3(all x.(red(x) -> exists y. (blue(y) & on(x,y))))': 1, 'V_3(all y.(blue(y) -> exists x. (red(x) & on(x,y))))': 0, 'corr_3': 1, 'F(b4)': [0.5, 0.5, 0.5], 'F(b1)': [0.5, 0.5, 0.5]}, 0.9)\n",
      "({'red(b9)': 1, all x.(red(x) -> exists y. (blue(y) & on(x,y))): 1, all y.(blue(y) -> exists x. (red(x) & on(x,y))): 1, 'V_1(all x.(red(x) -> exists y. (blue(y) & on(x,y))))': 1, 'V_1(all y.(blue(y) -> exists x. (red(x) & on(x,y))))': 0, 'corr_1': 1, 'blue(t0)': 0, 'F(b9)': [0.5, 0.5, 0.5], 'red(b4)': 1, 'blue(b1)': 0, 'V_3(all x.(red(x) -> exists y. (blue(y) & on(x,y))))': 1, 'V_3(all y.(blue(y) -> exists x. (red(x) & on(x,y))))': 0, 'corr_3': 1, 'F(b4)': [0.5, 0.5, 0.5], 'F(b1)': [0.5, 0.5, 0.5]}, 0.10000000000000002)\n",
      "({'red(b9)': 1, all x.(red(x) -> exists y. (blue(y) & on(x,y))): 1, all y.(blue(y) -> exists x. (red(x) & on(x,y))): 0, 'V_1(all x.(red(x) -> exists y. (blue(y) & on(x,y))))': 1, 'V_1(all y.(blue(y) -> exists x. (red(x) & on(x,y))))': 0, 'corr_1': 1, 'blue(t0)': 0, 'F(b9)': [0.5, 0.5, 0.5], 'red(b4)': 1, 'blue(b1)': 0, 'V_3(all x.(red(x) -> exists y. (blue(y) & on(x,y))))': 1, 'V_3(all y.(blue(y) -> exists x. (red(x) & on(x,y))))': 0, 'corr_3': 1, 'F(b4)': [0.5, 0.5, 0.5], 'F(b1)': [0.5, 0.5, 0.5]}, 0.9)\n",
      "({'red(b9)': 1, all x.(red(x) -> exists y. (blue(y) & on(x,y))): 1, all y.(blue(y) -> exists x. (red(x) & on(x,y))): 1, 'V_1(all x.(red(x) -> exists y. (blue(y) & on(x,y))))': 1, 'V_1(all y.(blue(y) -> exists x. (red(x) & on(x,y))))': 0, 'corr_1': 1, 'blue(t0)': 0, 'F(b9)': [0.5, 0.5, 0.5], 'red(b4)': 1, 'blue(b1)': 0, 'V_3(all x.(red(x) -> exists y. (blue(y) & on(x,y))))': 1, 'V_3(all y.(blue(y) -> exists x. (red(x) & on(x,y))))': 0, 'corr_3': 1, 'F(b4)': [0.5, 0.5, 0.5], 'F(b1)': [0.5, 0.5, 0.5]}, 0.10000000000000002)\n"
     ]
    },
    {
     "data": {
      "text/plain": [
       "[({'red(b9)': 1,\n",
       "   all x.(red(x) -> exists y. (blue(y) & on(x,y))): 1,\n",
       "   all y.(blue(y) -> exists x. (red(x) & on(x,y))): 0,\n",
       "   'V_1(all x.(red(x) -> exists y. (blue(y) & on(x,y))))': 1,\n",
       "   'V_1(all y.(blue(y) -> exists x. (red(x) & on(x,y))))': 0,\n",
       "   'corr_1': 1,\n",
       "   'blue(t0)': 0,\n",
       "   'F(b9)': [0.5, 0.5, 0.5],\n",
       "   'red(b4)': 1,\n",
       "   'blue(b1)': 0,\n",
       "   'V_3(all x.(red(x) -> exists y. (blue(y) & on(x,y))))': 1,\n",
       "   'V_3(all y.(blue(y) -> exists x. (red(x) & on(x,y))))': 0,\n",
       "   'corr_3': 1,\n",
       "   'F(b4)': [0.5, 0.5, 0.5],\n",
       "   'F(b1)': [0.5, 0.5, 0.5]},\n",
       "  0.9),\n",
       " ({'red(b9)': 1,\n",
       "   all x.(red(x) -> exists y. (blue(y) & on(x,y))): 1,\n",
       "   all y.(blue(y) -> exists x. (red(x) & on(x,y))): 1,\n",
       "   'V_1(all x.(red(x) -> exists y. (blue(y) & on(x,y))))': 1,\n",
       "   'V_1(all y.(blue(y) -> exists x. (red(x) & on(x,y))))': 0,\n",
       "   'corr_1': 1,\n",
       "   'blue(t0)': 0,\n",
       "   'F(b9)': [0.5, 0.5, 0.5],\n",
       "   'red(b4)': 1,\n",
       "   'blue(b1)': 0,\n",
       "   'V_3(all x.(red(x) -> exists y. (blue(y) & on(x,y))))': 1,\n",
       "   'V_3(all y.(blue(y) -> exists x. (red(x) & on(x,y))))': 0,\n",
       "   'corr_3': 1,\n",
       "   'F(b4)': [0.5, 0.5, 0.5],\n",
       "   'F(b1)': [0.5, 0.5, 0.5]},\n",
       "  0.10000000000000002)]"
      ]
     },
     "execution_count": 5,
     "metadata": {},
     "output_type": "execute_result"
    }
   ],
   "source": [
    "v2 = model.extend_model(rules, red, blue, ['b4', 'b1'], 3, False)\n",
    "model.add_same_reason(v1, v2)\n",
    "model.observe({'corr_3':1, 'F(b4)':[0.5,0.5,0.5], 'F(b1)':[0.5, 0.5, 0.5]})\n",
    "\n",
    "model.search_inference.beam"
   ]
  },
  {
   "cell_type": "code",
   "execution_count": 7,
   "metadata": {},
   "outputs": [
    {
     "name": "stdout",
     "output_type": "stream",
     "text": [
      "({'red(b9)': 1, all x.(red(x) -> exists y. (blue(y) & on(x,y))): 1, all y.(blue(y) -> exists x. (red(x) & on(x,y))): 0, 'V_1(all x.(red(x) -> exists y. (blue(y) & on(x,y))))': 1, 'V_1(all y.(blue(y) -> exists x. (red(x) & on(x,y))))': 0, 'corr_1': 1, 'blue(t0)': 0, 'F(b9)': [0.5, 0.5, 0.5], 'red(b4)': 1, 'blue(b1)': 0, 'V_3(all x.(red(x) -> exists y. (blue(y) & on(x,y))))': 1, 'V_3(all y.(blue(y) -> exists x. (red(x) & on(x,y))))': 0, 'corr_3': 1, 'F(b4)': [0.5, 0.5, 0.5], 'F(b1)': [0.5, 0.5, 0.5]}, 0.9)\n",
      "({'red(b9)': 1, all x.(red(x) -> exists y. (blue(y) & on(x,y))): 1, all y.(blue(y) -> exists x. (red(x) & on(x,y))): 1, 'V_1(all x.(red(x) -> exists y. (blue(y) & on(x,y))))': 1, 'V_1(all y.(blue(y) -> exists x. (red(x) & on(x,y))))': 0, 'corr_1': 1, 'blue(t0)': 0, 'F(b9)': [0.5, 0.5, 0.5], 'red(b4)': 1, 'blue(b1)': 0, 'V_3(all x.(red(x) -> exists y. (blue(y) & on(x,y))))': 1, 'V_3(all y.(blue(y) -> exists x. (red(x) & on(x,y))))': 0, 'corr_3': 1, 'F(b4)': [0.5, 0.5, 0.5], 'F(b1)': [0.5, 0.5, 0.5]}, 0.10000000000000002)\n",
      "({'red(b9)': 1, all x.(red(x) -> exists y. (blue(y) & on(x,y))): 1, all y.(blue(y) -> exists x. (red(x) & on(x,y))): 0, 'V_1(all x.(red(x) -> exists y. (blue(y) & on(x,y))))': 1, 'V_1(all y.(blue(y) -> exists x. (red(x) & on(x,y))))': 0, 'corr_1': 1, 'blue(t0)': 0, 'F(b9)': [0.5, 0.5, 0.5], 'red(b4)': 1, 'blue(b1)': 0, 'V_3(all x.(red(x) -> exists y. (blue(y) & on(x,y))))': 1, 'V_3(all y.(blue(y) -> exists x. (red(x) & on(x,y))))': 0, 'corr_3': 1, 'F(b4)': [0.5, 0.5, 0.5], 'F(b1)': [0.5, 0.5, 0.5], 'red(b5)': 0, 'V_4(all x.(red(x) -> exists y. (blue(y) & on(x,y))))': 0, 'V_4(all y.(blue(y) -> exists x. (red(x) & on(x,y))))': 0, 'corr_4': 0, 'F(b5)': [0.5, 0.5, 0.5]}, 0.9)\n",
      "({'red(b9)': 1, all x.(red(x) -> exists y. (blue(y) & on(x,y))): 1, all y.(blue(y) -> exists x. (red(x) & on(x,y))): 1, 'V_1(all x.(red(x) -> exists y. (blue(y) & on(x,y))))': 1, 'V_1(all y.(blue(y) -> exists x. (red(x) & on(x,y))))': 0, 'corr_1': 1, 'blue(t0)': 0, 'F(b9)': [0.5, 0.5, 0.5], 'red(b4)': 1, 'blue(b1)': 0, 'V_3(all x.(red(x) -> exists y. (blue(y) & on(x,y))))': 1, 'V_3(all y.(blue(y) -> exists x. (red(x) & on(x,y))))': 0, 'corr_3': 1, 'F(b4)': [0.5, 0.5, 0.5], 'F(b1)': [0.5, 0.5, 0.5], 'red(b5)': 0, 'V_4(all x.(red(x) -> exists y. (blue(y) & on(x,y))))': 0, 'V_4(all y.(blue(y) -> exists x. (red(x) & on(x,y))))': 0, 'corr_4': 0, 'F(b5)': [0.5, 0.5, 0.5]}, 0.10000000000000002)\n"
     ]
    },
    {
     "data": {
      "text/plain": [
       "[({'red(b9)': 1,\n",
       "   all x.(red(x) -> exists y. (blue(y) & on(x,y))): 1,\n",
       "   all y.(blue(y) -> exists x. (red(x) & on(x,y))): 0,\n",
       "   'V_1(all x.(red(x) -> exists y. (blue(y) & on(x,y))))': 1,\n",
       "   'V_1(all y.(blue(y) -> exists x. (red(x) & on(x,y))))': 0,\n",
       "   'corr_1': 1,\n",
       "   'blue(t0)': 0,\n",
       "   'F(b9)': [0.5, 0.5, 0.5],\n",
       "   'red(b4)': 1,\n",
       "   'blue(b1)': 0,\n",
       "   'V_3(all x.(red(x) -> exists y. (blue(y) & on(x,y))))': 1,\n",
       "   'V_3(all y.(blue(y) -> exists x. (red(x) & on(x,y))))': 0,\n",
       "   'corr_3': 1,\n",
       "   'F(b4)': [0.5, 0.5, 0.5],\n",
       "   'F(b1)': [0.5, 0.5, 0.5],\n",
       "   'red(b5)': 0,\n",
       "   'V_4(all x.(red(x) -> exists y. (blue(y) & on(x,y))))': 0,\n",
       "   'V_4(all y.(blue(y) -> exists x. (red(x) & on(x,y))))': 0,\n",
       "   'corr_4': 0,\n",
       "   'F(b5)': [0.5, 0.5, 0.5]},\n",
       "  0.9),\n",
       " ({'red(b9)': 1,\n",
       "   all x.(red(x) -> exists y. (blue(y) & on(x,y))): 1,\n",
       "   all y.(blue(y) -> exists x. (red(x) & on(x,y))): 1,\n",
       "   'V_1(all x.(red(x) -> exists y. (blue(y) & on(x,y))))': 1,\n",
       "   'V_1(all y.(blue(y) -> exists x. (red(x) & on(x,y))))': 0,\n",
       "   'corr_1': 1,\n",
       "   'blue(t0)': 0,\n",
       "   'F(b9)': [0.5, 0.5, 0.5],\n",
       "   'red(b4)': 1,\n",
       "   'blue(b1)': 0,\n",
       "   'V_3(all x.(red(x) -> exists y. (blue(y) & on(x,y))))': 1,\n",
       "   'V_3(all y.(blue(y) -> exists x. (red(x) & on(x,y))))': 0,\n",
       "   'corr_3': 1,\n",
       "   'F(b4)': [0.5, 0.5, 0.5],\n",
       "   'F(b1)': [0.5, 0.5, 0.5],\n",
       "   'red(b5)': 0,\n",
       "   'V_4(all x.(red(x) -> exists y. (blue(y) & on(x,y))))': 0,\n",
       "   'V_4(all y.(blue(y) -> exists x. (red(x) & on(x,y))))': 0,\n",
       "   'corr_4': 0,\n",
       "   'F(b5)': [0.5, 0.5, 0.5]},\n",
       "  0.10000000000000002)]"
      ]
     },
     "execution_count": 7,
     "metadata": {},
     "output_type": "execute_result"
    }
   ],
   "source": [
    "model.add_no_correction(['b5', 'b1'], 4, rules)\n",
    "model.observe({'corr_4':0, 'F(b5)':[0.5,0.5,0.5], 'F(b1)':[0.5, 0.5, 0.5]})\n",
    "\n",
    "model.search_inference.beam"
   ]
  },
  {
   "cell_type": "code",
   "execution_count": 15,
   "metadata": {},
   "outputs": [
    {
     "name": "stdout",
     "output_type": "stream",
     "text": [
      "({'red(b9)': 1, all x.(red(x) -> exists y. (blue(y) & on(x,y))): 1, all y.(blue(y) -> exists x. (red(x) & on(x,y))): 0, 'V_1(all x.(red(x) -> exists y. (blue(y) & on(x,y))))': 1, 'V_1(all y.(blue(y) -> exists x. (red(x) & on(x,y))))': 0, 'corr_1': 3, 'blue(t0)': 0, 'F(b9)': [0.5, 0.5, 0.5], 'red(b4)': 0, 'blue(b1)': 0, 'V_3(all x.(red(x) -> exists y. (blue(y) & on(x,y))))': 0, 'V_3(all y.(blue(y) -> exists x. (red(x) & on(x,y))))': 0, 'corr_3': 0, 'F(b4)': [0.5, 0.5, 0.5], 'F(b1)': [0.5, 0.5, 0.5]}, 0.225)\n",
      "({'red(b9)': 1, all x.(red(x) -> exists y. (blue(y) & on(x,y))): 1, all y.(blue(y) -> exists x. (red(x) & on(x,y))): 0, 'V_1(all x.(red(x) -> exists y. (blue(y) & on(x,y))))': 1, 'V_1(all y.(blue(y) -> exists x. (red(x) & on(x,y))))': 0, 'corr_1': 3, 'blue(t0)': 0, 'F(b9)': [0.5, 0.5, 0.5], 'red(b4)': 0, 'blue(b1)': 1, 'V_3(all x.(red(x) -> exists y. (blue(y) & on(x,y))))': 0, 'V_3(all y.(blue(y) -> exists x. (red(x) & on(x,y))))': 0, 'corr_3': 0, 'F(b4)': [0.5, 0.5, 0.5], 'F(b1)': [0.5, 0.5, 0.5]}, 0.225)\n",
      "({'red(b9)': 1, all x.(red(x) -> exists y. (blue(y) & on(x,y))): 1, all y.(blue(y) -> exists x. (red(x) & on(x,y))): 0, 'V_1(all x.(red(x) -> exists y. (blue(y) & on(x,y))))': 1, 'V_1(all y.(blue(y) -> exists x. (red(x) & on(x,y))))': 0, 'corr_1': 3, 'blue(t0)': 0, 'F(b9)': [0.5, 0.5, 0.5], 'red(b4)': 1, 'blue(b1)': 0, 'V_3(all x.(red(x) -> exists y. (blue(y) & on(x,y))))': 1, 'V_3(all y.(blue(y) -> exists x. (red(x) & on(x,y))))': 0, 'corr_3': 1, 'F(b4)': [0.5, 0.5, 0.5], 'F(b1)': [0.5, 0.5, 0.5]}, 0.225)\n",
      "({'red(b9)': 1, all x.(red(x) -> exists y. (blue(y) & on(x,y))): 1, all y.(blue(y) -> exists x. (red(x) & on(x,y))): 0, 'V_1(all x.(red(x) -> exists y. (blue(y) & on(x,y))))': 1, 'V_1(all y.(blue(y) -> exists x. (red(x) & on(x,y))))': 0, 'corr_1': 3, 'blue(t0)': 0, 'F(b9)': [0.5, 0.5, 0.5], 'red(b4)': 1, 'blue(b1)': 1, 'V_3(all x.(red(x) -> exists y. (blue(y) & on(x,y))))': 0, 'V_3(all y.(blue(y) -> exists x. (red(x) & on(x,y))))': 0, 'corr_3': 0, 'F(b4)': [0.5, 0.5, 0.5], 'F(b1)': [0.5, 0.5, 0.5]}, 0.225)\n",
      "({'red(b9)': 1, all x.(red(x) -> exists y. (blue(y) & on(x,y))): 1, all y.(blue(y) -> exists x. (red(x) & on(x,y))): 1, 'V_1(all x.(red(x) -> exists y. (blue(y) & on(x,y))))': 1, 'V_1(all y.(blue(y) -> exists x. (red(x) & on(x,y))))': 0, 'corr_1': 3, 'blue(t0)': 0, 'F(b9)': [0.5, 0.5, 0.5], 'red(b4)': 0, 'blue(b1)': 0, 'V_3(all x.(red(x) -> exists y. (blue(y) & on(x,y))))': 0, 'V_3(all y.(blue(y) -> exists x. (red(x) & on(x,y))))': 0, 'corr_3': 0, 'F(b4)': [0.5, 0.5, 0.5], 'F(b1)': [0.5, 0.5, 0.5]}, 0.025000000000000005)\n",
      "({'red(b9)': 1, all x.(red(x) -> exists y. (blue(y) & on(x,y))): 1, all y.(blue(y) -> exists x. (red(x) & on(x,y))): 1, 'V_1(all x.(red(x) -> exists y. (blue(y) & on(x,y))))': 1, 'V_1(all y.(blue(y) -> exists x. (red(x) & on(x,y))))': 0, 'corr_1': 3, 'blue(t0)': 0, 'F(b9)': [0.5, 0.5, 0.5], 'red(b4)': 0, 'blue(b1)': 1, 'V_3(all x.(red(x) -> exists y. (blue(y) & on(x,y))))': 0, 'V_3(all y.(blue(y) -> exists x. (red(x) & on(x,y))))': 1, 'corr_3': 1, 'F(b4)': [0.5, 0.5, 0.5], 'F(b1)': [0.5, 0.5, 0.5]}, 0.025000000000000005)\n",
      "({'red(b9)': 1, all x.(red(x) -> exists y. (blue(y) & on(x,y))): 1, all y.(blue(y) -> exists x. (red(x) & on(x,y))): 1, 'V_1(all x.(red(x) -> exists y. (blue(y) & on(x,y))))': 1, 'V_1(all y.(blue(y) -> exists x. (red(x) & on(x,y))))': 0, 'corr_1': 3, 'blue(t0)': 0, 'F(b9)': [0.5, 0.5, 0.5], 'red(b4)': 1, 'blue(b1)': 0, 'V_3(all x.(red(x) -> exists y. (blue(y) & on(x,y))))': 1, 'V_3(all y.(blue(y) -> exists x. (red(x) & on(x,y))))': 0, 'corr_3': 1, 'F(b4)': [0.5, 0.5, 0.5], 'F(b1)': [0.5, 0.5, 0.5]}, 0.025000000000000005)\n",
      "({'red(b9)': 1, all x.(red(x) -> exists y. (blue(y) & on(x,y))): 1, all y.(blue(y) -> exists x. (red(x) & on(x,y))): 1, 'V_1(all x.(red(x) -> exists y. (blue(y) & on(x,y))))': 1, 'V_1(all y.(blue(y) -> exists x. (red(x) & on(x,y))))': 0, 'corr_1': 3, 'blue(t0)': 0, 'F(b9)': [0.5, 0.5, 0.5], 'red(b4)': 1, 'blue(b1)': 1, 'V_3(all x.(red(x) -> exists y. (blue(y) & on(x,y))))': 0, 'V_3(all y.(blue(y) -> exists x. (red(x) & on(x,y))))': 0, 'corr_3': 0, 'F(b4)': [0.5, 0.5, 0.5], 'F(b1)': [0.5, 0.5, 0.5]}, 0.025000000000000005)\n",
      "({'red(b9)': 1, all x.(red(x) -> exists y. (blue(y) & on(x,y))): 1, all y.(blue(y) -> exists x. (red(x) & on(x,y))): 0, 'V_1(all x.(red(x) -> exists y. (blue(y) & on(x,y))))': 1, 'V_1(all y.(blue(y) -> exists x. (red(x) & on(x,y))))': 0, 'corr_1': 3, 'blue(t0)': 0, 'F(b9)': [0.5, 0.5, 0.5], 'red(b4)': 0, 'blue(b1)': 0, 'V_3(all x.(red(x) -> exists y. (blue(y) & on(x,y))))': 0, 'V_3(all y.(blue(y) -> exists x. (red(x) & on(x,y))))': 0, 'corr_3': 0, 'F(b4)': [0.5, 0.5, 0.5], 'F(b1)': [0.5, 0.5, 0.5]}, 0.225)\n",
      "({'red(b9)': 1, all x.(red(x) -> exists y. (blue(y) & on(x,y))): 1, all y.(blue(y) -> exists x. (red(x) & on(x,y))): 0, 'V_1(all x.(red(x) -> exists y. (blue(y) & on(x,y))))': 1, 'V_1(all y.(blue(y) -> exists x. (red(x) & on(x,y))))': 0, 'corr_1': 3, 'blue(t0)': 0, 'F(b9)': [0.5, 0.5, 0.5], 'red(b4)': 0, 'blue(b1)': 1, 'V_3(all x.(red(x) -> exists y. (blue(y) & on(x,y))))': 0, 'V_3(all y.(blue(y) -> exists x. (red(x) & on(x,y))))': 0, 'corr_3': 0, 'F(b4)': [0.5, 0.5, 0.5], 'F(b1)': [0.5, 0.5, 0.5]}, 0.225)\n",
      "({'red(b9)': 1, all x.(red(x) -> exists y. (blue(y) & on(x,y))): 1, all y.(blue(y) -> exists x. (red(x) & on(x,y))): 0, 'V_1(all x.(red(x) -> exists y. (blue(y) & on(x,y))))': 1, 'V_1(all y.(blue(y) -> exists x. (red(x) & on(x,y))))': 0, 'corr_1': 3, 'blue(t0)': 0, 'F(b9)': [0.5, 0.5, 0.5], 'red(b4)': 1, 'blue(b1)': 0, 'V_3(all x.(red(x) -> exists y. (blue(y) & on(x,y))))': 1, 'V_3(all y.(blue(y) -> exists x. (red(x) & on(x,y))))': 0, 'corr_3': 1, 'F(b4)': [0.5, 0.5, 0.5], 'F(b1)': [0.5, 0.5, 0.5]}, 0.225)\n",
      "({'red(b9)': 1, all x.(red(x) -> exists y. (blue(y) & on(x,y))): 1, all y.(blue(y) -> exists x. (red(x) & on(x,y))): 0, 'V_1(all x.(red(x) -> exists y. (blue(y) & on(x,y))))': 1, 'V_1(all y.(blue(y) -> exists x. (red(x) & on(x,y))))': 0, 'corr_1': 3, 'blue(t0)': 0, 'F(b9)': [0.5, 0.5, 0.5], 'red(b4)': 1, 'blue(b1)': 1, 'V_3(all x.(red(x) -> exists y. (blue(y) & on(x,y))))': 0, 'V_3(all y.(blue(y) -> exists x. (red(x) & on(x,y))))': 0, 'corr_3': 0, 'F(b4)': [0.5, 0.5, 0.5], 'F(b1)': [0.5, 0.5, 0.5]}, 0.225)\n",
      "({'red(b9)': 1, all x.(red(x) -> exists y. (blue(y) & on(x,y))): 1, all y.(blue(y) -> exists x. (red(x) & on(x,y))): 1, 'V_1(all x.(red(x) -> exists y. (blue(y) & on(x,y))))': 1, 'V_1(all y.(blue(y) -> exists x. (red(x) & on(x,y))))': 0, 'corr_1': 3, 'blue(t0)': 0, 'F(b9)': [0.5, 0.5, 0.5], 'red(b4)': 0, 'blue(b1)': 0, 'V_3(all x.(red(x) -> exists y. (blue(y) & on(x,y))))': 0, 'V_3(all y.(blue(y) -> exists x. (red(x) & on(x,y))))': 0, 'corr_3': 0, 'F(b4)': [0.5, 0.5, 0.5], 'F(b1)': [0.5, 0.5, 0.5]}, 0.025000000000000005)\n",
      "({'red(b9)': 1, all x.(red(x) -> exists y. (blue(y) & on(x,y))): 1, all y.(blue(y) -> exists x. (red(x) & on(x,y))): 1, 'V_1(all x.(red(x) -> exists y. (blue(y) & on(x,y))))': 1, 'V_1(all y.(blue(y) -> exists x. (red(x) & on(x,y))))': 0, 'corr_1': 3, 'blue(t0)': 0, 'F(b9)': [0.5, 0.5, 0.5], 'red(b4)': 0, 'blue(b1)': 1, 'V_3(all x.(red(x) -> exists y. (blue(y) & on(x,y))))': 0, 'V_3(all y.(blue(y) -> exists x. (red(x) & on(x,y))))': 1, 'corr_3': 1, 'F(b4)': [0.5, 0.5, 0.5], 'F(b1)': [0.5, 0.5, 0.5]}, 0.025000000000000005)\n",
      "({'red(b9)': 1, all x.(red(x) -> exists y. (blue(y) & on(x,y))): 1, all y.(blue(y) -> exists x. (red(x) & on(x,y))): 1, 'V_1(all x.(red(x) -> exists y. (blue(y) & on(x,y))))': 1, 'V_1(all y.(blue(y) -> exists x. (red(x) & on(x,y))))': 0, 'corr_1': 3, 'blue(t0)': 0, 'F(b9)': [0.5, 0.5, 0.5], 'red(b4)': 1, 'blue(b1)': 0, 'V_3(all x.(red(x) -> exists y. (blue(y) & on(x,y))))': 1, 'V_3(all y.(blue(y) -> exists x. (red(x) & on(x,y))))': 0, 'corr_3': 1, 'F(b4)': [0.5, 0.5, 0.5], 'F(b1)': [0.5, 0.5, 0.5]}, 0.025000000000000005)\n",
      "({'red(b9)': 1, all x.(red(x) -> exists y. (blue(y) & on(x,y))): 1, all y.(blue(y) -> exists x. (red(x) & on(x,y))): 1, 'V_1(all x.(red(x) -> exists y. (blue(y) & on(x,y))))': 1, 'V_1(all y.(blue(y) -> exists x. (red(x) & on(x,y))))': 0, 'corr_1': 3, 'blue(t0)': 0, 'F(b9)': [0.5, 0.5, 0.5], 'red(b4)': 1, 'blue(b1)': 1, 'V_3(all x.(red(x) -> exists y. (blue(y) & on(x,y))))': 0, 'V_3(all y.(blue(y) -> exists x. (red(x) & on(x,y))))': 0, 'corr_3': 0, 'F(b4)': [0.5, 0.5, 0.5], 'F(b1)': [0.5, 0.5, 0.5]}, 0.025000000000000005)\n"
     ]
    }
   ],
   "source": [
    "model.infer()"
   ]
  },
  {
   "cell_type": "code",
   "execution_count": 18,
   "metadata": {},
   "outputs": [
    {
     "data": {
      "text/plain": [
       "[({'red(b9)': 1,\n",
       "   all x.(red(x) -> exists y. (blue(y) & on(x,y))): 1,\n",
       "   all y.(blue(y) -> exists x. (red(x) & on(x,y))): 0,\n",
       "   'V_1(all x.(red(x) -> exists y. (blue(y) & on(x,y))))': 1,\n",
       "   'V_1(all y.(blue(y) -> exists x. (red(x) & on(x,y))))': 0,\n",
       "   'corr_1': 1,\n",
       "   'blue(t0)': 0,\n",
       "   'F(b9)': [0.5, 0.5, 0.5],\n",
       "   'red(b4)': 1,\n",
       "   'blue(b1)': 0,\n",
       "   'V_3(all x.(red(x) -> exists y. (blue(y) & on(x,y))))': 1,\n",
       "   'V_3(all y.(blue(y) -> exists x. (red(x) & on(x,y))))': 0,\n",
       "   'corr_3': 1,\n",
       "   'F(b4)': [0.5, 0.5, 0.5],\n",
       "   'F(b1)': [0.5, 0.5, 0.5]},\n",
       "  0.8181818181818181),\n",
       " ({'red(b9)': 1,\n",
       "   all x.(red(x) -> exists y. (blue(y) & on(x,y))): 1,\n",
       "   all y.(blue(y) -> exists x. (red(x) & on(x,y))): 1,\n",
       "   'V_1(all x.(red(x) -> exists y. (blue(y) & on(x,y))))': 1,\n",
       "   'V_1(all y.(blue(y) -> exists x. (red(x) & on(x,y))))': 0,\n",
       "   'corr_1': 1,\n",
       "   'blue(t0)': 0,\n",
       "   'F(b9)': [0.5, 0.5, 0.5],\n",
       "   'red(b4)': 0,\n",
       "   'blue(b1)': 1,\n",
       "   'V_3(all x.(red(x) -> exists y. (blue(y) & on(x,y))))': 0,\n",
       "   'V_3(all y.(blue(y) -> exists x. (red(x) & on(x,y))))': 1,\n",
       "   'corr_3': 1,\n",
       "   'F(b4)': [0.5, 0.5, 0.5],\n",
       "   'F(b1)': [0.5, 0.5, 0.5]},\n",
       "  0.09090909090909093),\n",
       " ({'red(b9)': 1,\n",
       "   all x.(red(x) -> exists y. (blue(y) & on(x,y))): 1,\n",
       "   all y.(blue(y) -> exists x. (red(x) & on(x,y))): 1,\n",
       "   'V_1(all x.(red(x) -> exists y. (blue(y) & on(x,y))))': 1,\n",
       "   'V_1(all y.(blue(y) -> exists x. (red(x) & on(x,y))))': 0,\n",
       "   'corr_1': 1,\n",
       "   'blue(t0)': 0,\n",
       "   'F(b9)': [0.5, 0.5, 0.5],\n",
       "   'red(b4)': 1,\n",
       "   'blue(b1)': 0,\n",
       "   'V_3(all x.(red(x) -> exists y. (blue(y) & on(x,y))))': 1,\n",
       "   'V_3(all y.(blue(y) -> exists x. (red(x) & on(x,y))))': 0,\n",
       "   'corr_3': 1,\n",
       "   'F(b4)': [0.5, 0.5, 0.5],\n",
       "   'F(b1)': [0.5, 0.5, 0.5]},\n",
       "  0.09090909090909093)]"
      ]
     },
     "execution_count": 18,
     "metadata": {},
     "output_type": "execute_result"
    }
   ],
   "source": [
    "model.search_inference.beam"
   ]
  },
  {
   "cell_type": "code",
   "execution_count": null,
   "metadata": {},
   "outputs": [],
   "source": []
  }
 ],
 "metadata": {
  "kernelspec": {
   "display_name": "Python 3",
   "language": "python",
   "name": "python3"
  },
  "language_info": {
   "codemirror_mode": {
    "name": "ipython",
    "version": 3
   },
   "file_extension": ".py",
   "mimetype": "text/x-python",
   "name": "python",
   "nbconvert_exporter": "python",
   "pygments_lexer": "ipython3",
   "version": "3.7.4"
  }
 },
 "nbformat": 4,
 "nbformat_minor": 2
}

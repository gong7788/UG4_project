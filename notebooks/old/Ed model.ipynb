{
 "cells": [
  {
   "cell_type": "code",
   "execution_count": 2,
   "metadata": {},
   "outputs": [],
   "source": [
    "from edward.models import ConditionalDistribution"
   ]
  },
  {
   "cell_type": "code",
   "execution_count": 1,
   "metadata": {},
   "outputs": [
    {
     "name": "stderr",
     "output_type": "stream",
     "text": [
      "/afs/inf.ed.ac.uk/user/s12/s1202144/miniconda3/lib/python3.6/site-packages/h5py/__init__.py:36: FutureWarning: Conversion of the second argument of issubdtype from `float` to `np.floating` is deprecated. In future, it will be treated as `np.float64 == np.dtype(float).type`.\n",
      "  from ._conv import register_converters as _register_converters\n"
     ]
    },
    {
     "name": "stdout",
     "output_type": "stream",
     "text": [
      "WARNING:tensorflow:From /afs/inf.ed.ac.uk/user/s12/s1202144/miniconda3/lib/python3.6/site-packages/tensorflow/contrib/learn/python/learn/datasets/base.py:198: retry (from tensorflow.contrib.learn.python.learn.datasets.base) is deprecated and will be removed in a future version.\n",
      "Instructions for updating:\n",
      "Use the retry module or similar alternatives.\n"
     ]
    }
   ],
   "source": [
    "%matplotlib inline\n",
    "from __future__ import absolute_import\n",
    "from __future__ import division\n",
    "from __future__ import print_function\n",
    "\n",
    "import edward as ed\n",
    "import matplotlib.pyplot as plt\n",
    "import matplotlib.cm as cm\n",
    "import numpy as np\n",
    "import six\n",
    "import tensorflow as tf\n",
    "\n",
    "from edward.models import (\n",
    "    Categorical, Dirichlet, Empirical, InverseGamma,\n",
    "    MultivariateNormalDiag, Normal, ParamMixture, Beta, Bernoulli, Mixture, MixtureSameFamily, PointMass)\n",
    "\n",
    "plt.style.use('ggplot')"
   ]
  },
  {
   "cell_type": "code",
   "execution_count": 45,
   "metadata": {},
   "outputs": [
    {
     "data": {
      "text/plain": [
       "<tf.Tensor 'mul_13:0' shape=(3,) dtype=float32>"
      ]
     },
     "execution_count": 45,
     "metadata": {},
     "output_type": "execute_result"
    }
   ],
   "source": [
    "tf.ones(D)*100"
   ]
  },
  {
   "cell_type": "code",
   "execution_count": 2,
   "metadata": {},
   "outputs": [
    {
     "data": {
      "text/plain": [
       "array([0, 0, 1, 0, 1, 1, 0, 0, 0, 0])"
      ]
     },
     "execution_count": 2,
     "metadata": {},
     "output_type": "execute_result"
    }
   ],
   "source": [
    "import data\n",
    "import random\n",
    "\n",
    "data_dict = {c:data.generate_data(c, 2) for c in ['red', 'green', 'blue', 'yellow']}\n",
    "objs = {}\n",
    "n = 2\n",
    "for j, c in enumerate(['red', 'green', 'blue', 'yellow']):\n",
    "    for i in range(n):\n",
    "        objs[\"o{}\".format(j*n + i)] = (c, data_dict[c][i])\n",
    "        \n",
    "        \n",
    "def check_rule(o1, o2):\n",
    "    c1, d1 = o1\n",
    "    c2, d2 = o2\n",
    "    \n",
    "    if c1 == 'red': \n",
    "         if c2 != 'blue':\n",
    "            return 'correction' \n",
    "    \n",
    "    return 'no correction'\n",
    "\n",
    "def correction_to_int(corr_string):\n",
    "    return int(corr_string == 'correction')\n",
    "\n",
    "def colour_to_int(corr_string, colour):\n",
    "    return int(corr_string == colour)\n",
    "\n",
    "def my_sample(objs, n=10):\n",
    "    cs = []\n",
    "    red = []\n",
    "    blue = []\n",
    "    \n",
    "    for i in range(n):\n",
    "        o1 = random.sample(objs.keys(), k=1)[0]\n",
    "        o2 = random.sample(objs.keys(), k=1)[0]\n",
    "        while o1 == o2:\n",
    "            o2 = random.sample(objs.keys(), k=1)[0]\n",
    "        c = correction_to_int(check_rule(objs[o1], objs[o2]))\n",
    "        f_red = objs[o1][1]\n",
    "        f_blue = objs[o2][1]\n",
    "        cs.append(c)\n",
    "        red.append(f_red)\n",
    "        blue.append(f_blue)\n",
    "    return cs, red, blue\n",
    "\n",
    "def my_colour_sample(objs, n=10):\n",
    "    cs = []\n",
    "    red = []\n",
    "    \n",
    "    for i in range(n):\n",
    "        o1 = random.sample(objs.keys(), k=1)[0]\n",
    "        c = objs[o1][0]\n",
    "        f_red = objs[o1][1]\n",
    "        cs.append(c)\n",
    "        red.append(f_red)\n",
    "    return cs, red\n",
    "\n",
    "colours, c_data = my_colour_sample(objs)\n",
    "colours = list(map(lambda x: colour_to_int(x, 'blue'), colours))\n",
    "colours = np.array(colours)\n",
    "c_data = np.array(c_data)\n",
    "\n",
    "colours"
   ]
  },
  {
   "cell_type": "code",
   "execution_count": 3,
   "metadata": {
    "scrolled": true
   },
   "outputs": [
    {
     "data": {
      "text/plain": [
       "<tf.Tensor 'Cast_2:0' shape=(1,) dtype=bool>"
      ]
     },
     "execution_count": 3,
     "metadata": {},
     "output_type": "execute_result"
    }
   ],
   "source": [
    "bs = Beta([1.0,1.0,1.0], [1.0,1.0,1.0]) # priors for red, blue and rule respectively\n",
    "len_bs = 3\n",
    "\n",
    "red_prior = Dirichlet(tf.ones(2))\n",
    "blue_prior = Dirichlet(tf.ones(2))\n",
    "\n",
    "#red = Categorical(probs=[bs[0], 1-bs[0]]) #Bernoulli(bs[0])\n",
    "#blue = Categorical(probs=[bs[1], 1-bs[1]])\n",
    "\n",
    "rule_prior = Beta([1.], [1.])\n",
    "rule = Bernoulli(rule_prior)\n",
    "\n",
    "D=3\n",
    "\n",
    "red_mu = Normal(tf.zeros(D), tf.ones(D), sample_shape=2)\n",
    "red_sigmasq = InverseGamma(tf.ones(D), tf.ones(D), sample_shape=2)\n",
    "\n",
    "\n",
    "#red_c1 = MultivariateNormalDiag(tf.ones(D)*0.5, tf.ones(D)*100)\n",
    "#red_c2 = MultivariateNormalDiag(red_mu, red_sigmasq)\n",
    "\n",
    "f_red = ParamMixture(red_prior, {'loc': red_mu, 'scale_diag': tf.sqrt(red_sigmasq)},\n",
    "                 MultivariateNormalDiag)\n",
    "\n",
    "red = f_red.cat\n",
    "\n",
    "blue_mu = Normal(tf.zeros(D), tf.ones(D), sample_shape=2)\n",
    "blue_sigmasq = InverseGamma(tf.ones(D), tf.ones(D), sample_shape=2)\n",
    "\n",
    "\n",
    "f_blue = ParamMixture(blue_prior, {'loc': blue_mu, 'scale_diag': tf.sqrt(blue_sigmasq)},\n",
    "                 MultivariateNormalDiag)\n",
    "\n",
    "blue = f_blue.cat\n",
    "\n",
    "is_red = tf.cast(red, tf.bool)\n",
    "is_blue = tf.cast(blue, tf.bool)\n",
    "which_rule = tf.cast(rule, tf.bool)\n",
    "# correction when c == 1 no correction when c == 0\n",
    "correct_prob = 0.999\n",
    "not_correct_prob = 1 - correct_prob\n",
    "given_r_0 = tf.where(is_red, not_correct_prob, tf.where(is_blue, correct_prob, not_correct_prob)) # if r is 0 (red=>blue) then if something is not red then there is no correction  \n",
    "given_r_1 = tf.where(is_blue, not_correct_prob, tf.where(is_red, correct_prob, not_correct_prob))\n",
    "\n",
    "c_prob = tf.where(which_rule, given_r_0, given_r_1)\n",
    "\n",
    "\n",
    "c = Bernoulli(probs=c_prob)\n",
    "\n",
    "test = tf.where(tf.cast(red, tf.bool), 0.3, 0.5)\n",
    "\n",
    "test_true = Bernoulli(probs=test)\n",
    "\n",
    "\n",
    "\n",
    "#f_red = MixtureSameFamily(mixture_distribution=red,\n",
    "#            components_distribution=MultivariateNormalDiag([mu,tf.ones(D)], [sigmasq, tf.ones(D)]))\n",
    "\n",
    "#f_red = Mixture(cat=red, components=[\n",
    "#    n,\n",
    "#    Normal(mu, sigmasq)\n",
    "#])\n",
    "#tf.cast(red, dtype=tf.float32)*Normal(mu, sigmasq) + (tf.cast(1-red, dtype=tf.float32))*Normal(tf.ones(D, dtype=tf.float32)/2, tf.ones(D, dtype=tf.float32)*100)\n",
    "\n",
    "\n",
    "\n",
    "sess = ed.get_session()\n",
    "tf.global_variables_initializer().run()\n",
    "\n",
    "sess.run(c.sample([1000]))\"\"\"\n",
    "which_rule"
   ]
  },
  {
   "cell_type": "code",
   "execution_count": 28,
   "metadata": {},
   "outputs": [
    {
     "data": {
      "text/plain": [
       "<tf.Tensor 'Categorical_3/probs:0' shape=(1,) dtype=float32>"
      ]
     },
     "execution_count": 28,
     "metadata": {},
     "output_type": "execute_result"
    }
   ],
   "source": [
    "a = Categorical(probs=[0.3])\n",
    "a.probs"
   ]
  },
  {
   "cell_type": "code",
   "execution_count": null,
   "metadata": {},
   "outputs": [],
   "source": [
    "from edward.models import Empirical\n",
    "\n",
    "T = 500  # number of MCMC samples\n",
    "qbs = Empirical(tf.get_variable(\n",
    "    \"qbs/params\", [T, len_bs],\n",
    "    initializer=tf.constant_initializer(1.0 / len_bs)))\n",
    "qred = Empirical(tf.get_variable(\n",
    "    \"qmu/params\", [T, K, D],\n",
    "    initializer=tf.zeros_initializer()))\n",
    "qsigmasq = Empirical(tf.get_variable(\n",
    "    \"qsigmasq/params\", [T, K, D],\n",
    "    initializer=tf.ones_initializer()))\n",
    "qz = Empirical(tf.get_variable(\n",
    "    \"qz/params\", [T, N],\n",
    "    initializer=tf.zeros_initializer(),\n",
    "    dtype=tf.int32))"
   ]
  },
  {
   "cell_type": "code",
   "execution_count": null,
   "metadata": {},
   "outputs": [],
   "source": []
  },
  {
   "cell_type": "code",
   "execution_count": 5,
   "metadata": {},
   "outputs": [
    {
     "data": {
      "text/plain": [
       "array([0, 1, 0, 0, 0, 1, 0, 0, 1, 0], dtype=int32)"
      ]
     },
     "execution_count": 5,
     "metadata": {},
     "output_type": "execute_result"
    }
   ],
   "source": [
    "T = 500\n",
    "blue_prior = Beta(1.,1.)\n",
    "blue = Bernoulli(blue_prior)\n",
    "sess = ed.get_session()\n",
    "tf.global_variables_initializer().run()\n",
    "\n",
    "sess.run(blue.sample([10]))"
   ]
  },
  {
   "cell_type": "code",
   "execution_count": 6,
   "metadata": {},
   "outputs": [
    {
     "data": {
      "text/plain": [
       "<ed.RandomVariable 'Bernoulli_2/' shape=() dtype=int32>"
      ]
     },
     "execution_count": 6,
     "metadata": {},
     "output_type": "execute_result"
    }
   ],
   "source": [
    "blue"
   ]
  },
  {
   "cell_type": "code",
   "execution_count": 8,
   "metadata": {},
   "outputs": [
    {
     "data": {
      "text/plain": [
       "<tf.Tensor 'Bernoulli/log_prob/Neg:0' shape=() dtype=float32>"
      ]
     },
     "execution_count": 8,
     "metadata": {},
     "output_type": "execute_result"
    }
   ],
   "source": [
    "blue.log_prob(1)"
   ]
  },
  {
   "cell_type": "code",
   "execution_count": 9,
   "metadata": {},
   "outputs": [
    {
     "data": {
      "text/plain": [
       "-0.64607257"
      ]
     },
     "execution_count": 9,
     "metadata": {},
     "output_type": "execute_result"
    }
   ],
   "source": [
    "sess = ed.get_session()\n",
    "tf.global_variables_initializer().run()\n",
    "sess.run(blue.log_prob(1))"
   ]
  },
  {
   "cell_type": "code",
   "execution_count": 3,
   "metadata": {
    "scrolled": true
   },
   "outputs": [
    {
     "ename": "TypeError",
     "evalue": "Key-value pair in data does not have same shape: (10,), (10, 1)",
     "output_type": "error",
     "traceback": [
      "\u001b[0;31m---------------------------------------------------------------------------\u001b[0m",
      "\u001b[0;31mTypeError\u001b[0m                                 Traceback (most recent call last)",
      "\u001b[0;32m<ipython-input-3-1ace57c5ebcc>\u001b[0m in \u001b[0;36m<module>\u001b[0;34m()\u001b[0m\n\u001b[1;32m     17\u001b[0m \u001b[0;34m\u001b[0m\u001b[0m\n\u001b[1;32m     18\u001b[0m \u001b[0;34m\u001b[0m\u001b[0m\n\u001b[0;32m---> 19\u001b[0;31m \u001b[0minference\u001b[0m \u001b[0;34m=\u001b[0m \u001b[0med\u001b[0m\u001b[0;34m.\u001b[0m\u001b[0mKLqp\u001b[0m\u001b[0;34m(\u001b[0m\u001b[0;34m{\u001b[0m\u001b[0mblue_prior\u001b[0m\u001b[0;34m:\u001b[0m\u001b[0mqblue_prior\u001b[0m\u001b[0;34m}\u001b[0m\u001b[0;34m,\u001b[0m \u001b[0mdata\u001b[0m\u001b[0;34m=\u001b[0m\u001b[0;34m{\u001b[0m\u001b[0mblue\u001b[0m\u001b[0;34m:\u001b[0m \u001b[0mcolours\u001b[0m\u001b[0;34m}\u001b[0m\u001b[0;34m)\u001b[0m\u001b[0;34m\u001b[0m\u001b[0m\n\u001b[0m\u001b[1;32m     20\u001b[0m \u001b[0;34m\u001b[0m\u001b[0m\n\u001b[1;32m     21\u001b[0m \u001b[0minference\u001b[0m\u001b[0;34m.\u001b[0m\u001b[0minitialize\u001b[0m\u001b[0;34m(\u001b[0m\u001b[0;34m)\u001b[0m\u001b[0;34m\u001b[0m\u001b[0m\n",
      "\u001b[0;32m~/miniconda3/lib/python3.6/site-packages/edward/inferences/klqp.py\u001b[0m in \u001b[0;36m__init__\u001b[0;34m(self, latent_vars, data)\u001b[0m\n\u001b[1;32m     82\u001b[0m         \u001b[0;32mdel\u001b[0m \u001b[0mlatent_vars_dict\u001b[0m\u001b[0;34m\u001b[0m\u001b[0m\n\u001b[1;32m     83\u001b[0m \u001b[0;34m\u001b[0m\u001b[0m\n\u001b[0;32m---> 84\u001b[0;31m     \u001b[0msuper\u001b[0m\u001b[0;34m(\u001b[0m\u001b[0mKLqp\u001b[0m\u001b[0;34m,\u001b[0m \u001b[0mself\u001b[0m\u001b[0;34m)\u001b[0m\u001b[0;34m.\u001b[0m\u001b[0m__init__\u001b[0m\u001b[0;34m(\u001b[0m\u001b[0mlatent_vars\u001b[0m\u001b[0;34m,\u001b[0m \u001b[0mdata\u001b[0m\u001b[0;34m)\u001b[0m\u001b[0;34m\u001b[0m\u001b[0m\n\u001b[0m\u001b[1;32m     85\u001b[0m \u001b[0;34m\u001b[0m\u001b[0m\n\u001b[1;32m     86\u001b[0m   \u001b[0;32mdef\u001b[0m \u001b[0minitialize\u001b[0m\u001b[0;34m(\u001b[0m\u001b[0mself\u001b[0m\u001b[0;34m,\u001b[0m \u001b[0mn_samples\u001b[0m\u001b[0;34m=\u001b[0m\u001b[0;36m1\u001b[0m\u001b[0;34m,\u001b[0m \u001b[0mkl_scaling\u001b[0m\u001b[0;34m=\u001b[0m\u001b[0;32mNone\u001b[0m\u001b[0;34m,\u001b[0m \u001b[0;34m*\u001b[0m\u001b[0margs\u001b[0m\u001b[0;34m,\u001b[0m \u001b[0;34m**\u001b[0m\u001b[0mkwargs\u001b[0m\u001b[0;34m)\u001b[0m\u001b[0;34m:\u001b[0m\u001b[0;34m\u001b[0m\u001b[0m\n",
      "\u001b[0;32m~/miniconda3/lib/python3.6/site-packages/edward/inferences/variational_inference.py\u001b[0m in \u001b[0;36m__init__\u001b[0;34m(self, *args, **kwargs)\u001b[0m\n\u001b[1;32m     25\u001b[0m   \"\"\"\n\u001b[1;32m     26\u001b[0m   \u001b[0;32mdef\u001b[0m \u001b[0m__init__\u001b[0m\u001b[0;34m(\u001b[0m\u001b[0mself\u001b[0m\u001b[0;34m,\u001b[0m \u001b[0;34m*\u001b[0m\u001b[0margs\u001b[0m\u001b[0;34m,\u001b[0m \u001b[0;34m**\u001b[0m\u001b[0mkwargs\u001b[0m\u001b[0;34m)\u001b[0m\u001b[0;34m:\u001b[0m\u001b[0;34m\u001b[0m\u001b[0m\n\u001b[0;32m---> 27\u001b[0;31m     \u001b[0msuper\u001b[0m\u001b[0;34m(\u001b[0m\u001b[0mVariationalInference\u001b[0m\u001b[0;34m,\u001b[0m \u001b[0mself\u001b[0m\u001b[0;34m)\u001b[0m\u001b[0;34m.\u001b[0m\u001b[0m__init__\u001b[0m\u001b[0;34m(\u001b[0m\u001b[0;34m*\u001b[0m\u001b[0margs\u001b[0m\u001b[0;34m,\u001b[0m \u001b[0;34m**\u001b[0m\u001b[0mkwargs\u001b[0m\u001b[0;34m)\u001b[0m\u001b[0;34m\u001b[0m\u001b[0m\n\u001b[0m\u001b[1;32m     28\u001b[0m \u001b[0;34m\u001b[0m\u001b[0m\n\u001b[1;32m     29\u001b[0m   def initialize(self, optimizer=None, var_list=None, use_prettytensor=False,\n",
      "\u001b[0;32m~/miniconda3/lib/python3.6/site-packages/edward/inferences/inference.py\u001b[0m in \u001b[0;36m__init__\u001b[0;34m(self, latent_vars, data)\u001b[0m\n\u001b[1;32m     78\u001b[0m     \u001b[0mself\u001b[0m\u001b[0;34m.\u001b[0m\u001b[0mlatent_vars\u001b[0m \u001b[0;34m=\u001b[0m \u001b[0mlatent_vars\u001b[0m\u001b[0;34m\u001b[0m\u001b[0m\n\u001b[1;32m     79\u001b[0m \u001b[0;34m\u001b[0m\u001b[0m\n\u001b[0;32m---> 80\u001b[0;31m     \u001b[0mcheck_data\u001b[0m\u001b[0;34m(\u001b[0m\u001b[0mdata\u001b[0m\u001b[0;34m)\u001b[0m\u001b[0;34m\u001b[0m\u001b[0m\n\u001b[0m\u001b[1;32m     81\u001b[0m     \u001b[0mself\u001b[0m\u001b[0;34m.\u001b[0m\u001b[0mdata\u001b[0m \u001b[0;34m=\u001b[0m \u001b[0;34m{\u001b[0m\u001b[0;34m}\u001b[0m\u001b[0;34m\u001b[0m\u001b[0m\n\u001b[1;32m     82\u001b[0m     \u001b[0;32mfor\u001b[0m \u001b[0mkey\u001b[0m\u001b[0;34m,\u001b[0m \u001b[0mvalue\u001b[0m \u001b[0;32min\u001b[0m \u001b[0msix\u001b[0m\u001b[0;34m.\u001b[0m\u001b[0miteritems\u001b[0m\u001b[0;34m(\u001b[0m\u001b[0mdata\u001b[0m\u001b[0;34m)\u001b[0m\u001b[0;34m:\u001b[0m\u001b[0;34m\u001b[0m\u001b[0m\n",
      "\u001b[0;32m~/miniconda3/lib/python3.6/site-packages/edward/util/random_variables.py\u001b[0m in \u001b[0;36mcheck_data\u001b[0;34m(data)\u001b[0m\n\u001b[1;32m     48\u001b[0m         \u001b[0;32mif\u001b[0m \u001b[0;32mnot\u001b[0m \u001b[0mkey\u001b[0m\u001b[0;34m.\u001b[0m\u001b[0mshape\u001b[0m\u001b[0;34m.\u001b[0m\u001b[0mis_compatible_with\u001b[0m\u001b[0;34m(\u001b[0m\u001b[0mnp\u001b[0m\u001b[0;34m.\u001b[0m\u001b[0mshape\u001b[0m\u001b[0;34m(\u001b[0m\u001b[0mvalue\u001b[0m\u001b[0;34m)\u001b[0m\u001b[0;34m)\u001b[0m\u001b[0;34m:\u001b[0m\u001b[0;34m\u001b[0m\u001b[0m\n\u001b[1;32m     49\u001b[0m           raise TypeError(\"Key-value pair in data does not have same \"\n\u001b[0;32m---> 50\u001b[0;31m                           \"shape: {}, {}\".format(key.shape, np.shape(value)))\n\u001b[0m\u001b[1;32m     51\u001b[0m         \u001b[0;32melif\u001b[0m \u001b[0misinstance\u001b[0m\u001b[0;34m(\u001b[0m\u001b[0mvalue\u001b[0m\u001b[0;34m,\u001b[0m \u001b[0;34m(\u001b[0m\u001b[0mnp\u001b[0m\u001b[0;34m.\u001b[0m\u001b[0mndarray\u001b[0m\u001b[0;34m,\u001b[0m \u001b[0mnp\u001b[0m\u001b[0;34m.\u001b[0m\u001b[0mnumber\u001b[0m\u001b[0;34m)\u001b[0m\u001b[0;34m)\u001b[0m \u001b[0;32mand\u001b[0m\u001b[0;31m \u001b[0m\u001b[0;31m\\\u001b[0m\u001b[0;34m\u001b[0m\u001b[0m\n\u001b[1;32m     52\u001b[0m                 \u001b[0;32mnot\u001b[0m \u001b[0mnp\u001b[0m\u001b[0;34m.\u001b[0m\u001b[0missubdtype\u001b[0m\u001b[0;34m(\u001b[0m\u001b[0mvalue\u001b[0m\u001b[0;34m.\u001b[0m\u001b[0mdtype\u001b[0m\u001b[0;34m,\u001b[0m \u001b[0mnp\u001b[0m\u001b[0;34m.\u001b[0m\u001b[0mfloat\u001b[0m\u001b[0;34m)\u001b[0m \u001b[0;32mand\u001b[0m\u001b[0;31m \u001b[0m\u001b[0;31m\\\u001b[0m\u001b[0;34m\u001b[0m\u001b[0m\n",
      "\u001b[0;31mTypeError\u001b[0m: Key-value pair in data does not have same shape: (10,), (10, 1)"
     ]
    }
   ],
   "source": [
    "T = 500\n",
    "with tf.variable_scope('test', reuse=tf.AUTO_REUSE):\n",
    "    blue_prior = Dirichlet([1.,1.])\n",
    "    blue = Categorical(probs=blue_prior, sample_shape=10)\n",
    "    #qblue_prior = Empirical(tf.get_variable(\n",
    "    #        \"qblue_prior1/params\", [T, 2],\n",
    "    #        initializer=tf.constant_initializer(1)))\n",
    "    qblue_prior = Dirichlet(tf.get_variable(\"qblue_prior/params\", [2]))\n",
    "    # PointMass(params=tf.Variable(tf.ones(2)*0.5)) # for MAP\n",
    "    #proposal = Beta(1.,1.)\n",
    "\n",
    "    #inference = ed.MetropolisHastings({blue_prior: qblue_prior}, {blue_prior: proposal},\n",
    "    #        data={blue: colours})\n",
    "\n",
    "#inference = ed.Gibbs({blue_prior: qblue_prior},\n",
    "#        data={blue: colours})\n",
    "\n",
    "\n",
    "inference = ed.KLqp({blue_prior:qblue_prior}, data={blue: colours})\n",
    "\n",
    "inference.initialize()\n",
    "\n",
    "sess = ed.get_session()\n",
    "tf.global_variables_initializer().run()\n",
    "\n",
    "#t_ph = tf.placeholder(tf.int32, [])\n",
    "#running_cluster_means = tf.reduce_mean(qblue_mu.params[:t_ph], 0)\n",
    "\n",
    "inference.run(n_iter=500, n_print=100, n_samples=1)"
   ]
  },
  {
   "cell_type": "code",
   "execution_count": 4,
   "metadata": {},
   "outputs": [
    {
     "data": {
      "text/plain": [
       "<ed.RandomVariable 'test/Dirichlet/' shape=(2,) dtype=float32>"
      ]
     },
     "execution_count": 4,
     "metadata": {},
     "output_type": "execute_result"
    }
   ],
   "source": [
    "blue_prior"
   ]
  },
  {
   "cell_type": "code",
   "execution_count": 4,
   "metadata": {},
   "outputs": [
    {
     "data": {
      "text/plain": [
       "array([0.48867518, 0.5113248 ], dtype=float32)"
      ]
     },
     "execution_count": 4,
     "metadata": {},
     "output_type": "execute_result"
    }
   ],
   "source": [
    "np.mean(sess.run(qblue_prior.sample(10)), axis=0)"
   ]
  },
  {
   "cell_type": "code",
   "execution_count": 18,
   "metadata": {},
   "outputs": [
    {
     "data": {
      "text/plain": [
       "<tf.Tensor 'Mul_14:0' shape=(10, 3) dtype=float32>"
      ]
     },
     "execution_count": 18,
     "metadata": {},
     "output_type": "execute_result"
    }
   ],
   "source": [
    "\n",
    "tf.multiply(tf.ones((3, 10)), tf.ones(10))\n",
    "tf.multiply(tf.ones((10, 1)), tf.ones((10, 3)))"
   ]
  },
  {
   "cell_type": "code",
   "execution_count": 3,
   "metadata": {
    "scrolled": true
   },
   "outputs": [
    {
     "name": "stderr",
     "output_type": "stream",
     "text": [
      "/afs/inf.ed.ac.uk/user/s12/s1202144/miniconda3/lib/python3.6/site-packages/edward/util/random_variables.py:52: FutureWarning: Conversion of the second argument of issubdtype from `float` to `np.floating` is deprecated. In future, it will be treated as `np.float64 == np.dtype(float).type`.\n",
      "  not np.issubdtype(value.dtype, np.float) and \\\n",
      "/afs/inf.ed.ac.uk/user/s12/s1202144/miniconda3/lib/python3.6/site-packages/edward/util/random_variables.py:53: FutureWarning: Conversion of the second argument of issubdtype from `int` to `np.signedinteger` is deprecated. In future, it will be treated as `np.int64 == np.dtype(int).type`.\n",
      "  not np.issubdtype(value.dtype, np.int) and \\\n"
     ]
    },
    {
     "name": "stdout",
     "output_type": "stream",
     "text": [
      "500/500 [100%] ██████████████████████████████ Elapsed: 3s | Loss: 9.934\n"
     ]
    }
   ],
   "source": [
    "T = 500\n",
    "N = 10\n",
    "D=3\n",
    "#bb = Dirichlet(tf.ones(2))\n",
    "blue_prior = Beta([1.],[1.])\n",
    "#blue = Categorical(probs=[bb[0], bb[0]-1])\n",
    "\n",
    "blue = Bernoulli(blue_prior, sample_shape=(10))\n",
    "\n",
    "blue_mu = Normal(tf.zeros(D), tf.ones(D))\n",
    "blue_sigmasq = InverseGamma(tf.ones(D), tf.ones(D))\n",
    "\n",
    "\n",
    "blue_c1 = MultivariateNormalDiag(tf.ones(D)*0.5, tf.ones(D)*100, sample_shape=10)\n",
    "blue_c2 = MultivariateNormalDiag(blue_mu, blue_sigmasq, sample_shape=10)\n",
    "\n",
    "#f_blue = ParamMixture(bb, {'loc': blue_mu, 'scale_diag': tf.sqrt(blue_sigmasq)},\n",
    "#                 MultivariateNormalDiag,\n",
    "#                 sample_shape=N)\n",
    "#blue = f_blue.cat\n",
    "\n",
    "\n",
    "f_blue = tf.multiply(tf.cast(blue, tf.float32),  blue_c2) + tf.multiply(tf.cast((1 - blue), tf.float32), blue_c1)\n",
    "\n",
    "with tf.variable_scope(\"test2\", reuse=tf.AUTO_REUSE):\n",
    "    qblue_prior = Beta(tf.get_variable(\"qblue_prior1/params\", [1]), tf.get_variable(\"qblue_prior2/params\", [1]))\n",
    "    qblue_mu = Normal(tf.get_variable(\"qblue_mu/loc\", [D]), tf.nn.softplus(tf.get_variable(\"qblue_mu/scale\", [D])))\n",
    "    qblue_sigmasq = Normal(tf.get_variable(\"qblue_sigm/loc\", [D]), tf.nn.softplus(tf.get_variable(\"qblue_sigm/scale\", [D])))\n",
    "    #InverseGamma(tf.get_variable(\"qblue_sigmasq/loc\", [D]), tf.get_variable(\"qblue_sigmasq/scale\", [D]))\n",
    "\n",
    "#Empirical(tf.get_variable(\n",
    "        #\"qblue_prior/params\", [T, 2],\n",
    "        #initializer=tf.constant_initializer(1)))\n",
    "#qblue = Empirical(tf.get_variable(\n",
    "#        \"qblue/params\", [T, N],\n",
    "#        initializer=tf.zeros_initializer(), dtype=tf.int32))\n",
    "#qblue_mu = Empirical(tf.get_variable(\"qblue_mu/params\", [T, 2, D],\n",
    "#        initializer=tf.zeros_initializer()))\n",
    "#qblue_sigmasq = Empirical(tf.get_variable(\"qblue_sigmasq/params\", [T, 2, D],\n",
    "#        initializer=tf.ones_initializer()))\n",
    "\n",
    "#colour_placeholder = tf.placeholder(tf.int32, [])\n",
    "#data_placeholder = tf.placeholder(tf.float32, [D])\n",
    "\n",
    "inference = ed.KLqp({blue_prior: qblue_prior, blue_mu:qblue_mu, blue_sigmasq: qblue_sigmasq},\n",
    "                     data={blue: colours, f_blue: c_data})\n",
    "inference.initialize()\n",
    "\n",
    "sess = ed.get_session()\n",
    "tf.global_variables_initializer().run()\n",
    "\n",
    "#for i in range(500):\n",
    "#    for c, d in zip(colours, c_data):\n",
    "#        info_dict = inference.update({colour_placeholder: c, data_placeholder:d})\n",
    "inference.run(n_iter=500, n_print=100, n_samples=10)\n",
    "#        inference.print_progress(info_dict)"
   ]
  },
  {
   "cell_type": "code",
   "execution_count": 3,
   "metadata": {},
   "outputs": [],
   "source": [
    "blue_prior = Dirichlet(tf.ones(2))\n",
    "\n",
    "\n",
    "D=3\n",
    "\n",
    "blue_mu = Normal(tf.zeros(D), tf.ones(D), sample_shape=2)\n",
    "blue_sigmasq = InverseGamma(tf.ones(D), tf.ones(D), sample_shape=2)\n",
    "\n",
    "\n",
    "f_blue = ParamMixture(blue_prior, {'loc': blue_mu, 'scale_diag': tf.sqrt(blue_sigmasq)},\n",
    "                 MultivariateNormalDiag, sample_shape=10)\n",
    "\n",
    "blue = f_blue.cat"
   ]
  },
  {
   "cell_type": "code",
   "execution_count": 4,
   "metadata": {},
   "outputs": [
    {
     "name": "stderr",
     "output_type": "stream",
     "text": [
      "/afs/inf.ed.ac.uk/user/s12/s1202144/miniconda3/lib/python3.6/site-packages/edward/util/random_variables.py:52: FutureWarning: Conversion of the second argument of issubdtype from `float` to `np.floating` is deprecated. In future, it will be treated as `np.float64 == np.dtype(float).type`.\n",
      "  not np.issubdtype(value.dtype, np.float) and \\\n",
      "/afs/inf.ed.ac.uk/user/s12/s1202144/miniconda3/lib/python3.6/site-packages/edward/util/random_variables.py:53: FutureWarning: Conversion of the second argument of issubdtype from `int` to `np.signedinteger` is deprecated. In future, it will be treated as `np.int64 == np.dtype(int).type`.\n",
      "  not np.issubdtype(value.dtype, np.int) and \\\n"
     ]
    },
    {
     "name": "stdout",
     "output_type": "stream",
     "text": [
      "500/500 [100%] ██████████████████████████████ Elapsed: 4s | Loss: nan\n"
     ]
    }
   ],
   "source": [
    "with tf.variable_scope(\"test2\", reuse=tf.AUTO_REUSE):\n",
    "    qblue_prior = Dirichlet(tf.get_variable(\"qblue_prior1/params\", [2]))#, tf.get_variable(\"qblue_prior2/params\", [1]))\n",
    "    qblue_mu = Normal(tf.get_variable(\"qblue_mu/loc\", [2, D]), tf.nn.softplus(tf.get_variable(\"qblue_mu/scale\", [2, D])))\n",
    "    qblue_sigmasq = InverseGamma(tf.get_variable(\"qblue_sigm/loc\", [2, D]), tf.get_variable(\"qblue_sigm/scale\", [2, D]))\n",
    "    #InverseGamma(tf.get_variable(\"qblue_sigmasq/loc\", [D]), tf.get_variable(\"qblue_sigmasq/scale\", [D]))\n",
    "\n",
    "#Empirical(tf.get_variable(\n",
    "        #\"qblue_prior/params\", [T, 2],\n",
    "        #initializer=tf.constant_initializer(1)))\n",
    "#qblue = Empirical(tf.get_variable(\n",
    "#        \"qblue/params\", [T, N],\n",
    "#        initializer=tf.zeros_initializer(), dtype=tf.int32))\n",
    "#qblue_mu = Empirical(tf.get_variable(\"qblue_mu/params\", [T, 2, D],\n",
    "#        initializer=tf.zeros_initializer()))\n",
    "#qblue_sigmasq = Empirical(tf.get_variable(\"qblue_sigmasq/params\", [T, 2, D],\n",
    "#        initializer=tf.ones_initializer()))\n",
    "\n",
    "#colour_placeholder = tf.placeholder(tf.int32, [])\n",
    "#data_placeholder = tf.placeholder(tf.float32, [D])\n",
    "\n",
    "inference = ed.KLqp({blue_prior: qblue_prior, blue_mu:qblue_mu, blue_sigmasq: qblue_sigmasq},\n",
    "                     data={blue: colours, f_blue: c_data})\n",
    "inference.initialize()\n",
    "\n",
    "sess = ed.get_session()\n",
    "tf.global_variables_initializer().run()\n",
    "\n",
    "#for i in range(500):\n",
    "#    for c, d in zip(colours, c_data):\n",
    "#        info_dict = inference.update({colour_placeholder: c, data_placeholder:d})\n",
    "inference.run(n_iter=500, n_print=100, n_samples=10)\n",
    "#        inference.print_progress(info_dict)"
   ]
  },
  {
   "cell_type": "code",
   "execution_count": 7,
   "metadata": {},
   "outputs": [
    {
     "data": {
      "text/plain": [
       "array([[-1.047875  , -2.27665   , -0.4470823 ],\n",
       "       [-1.4212389 , -3.0759904 , -0.75264436],\n",
       "       [-1.1851672 , -5.6361094 , -0.8396575 ],\n",
       "       [-1.0433657 , -2.0537314 , -0.75816596],\n",
       "       [-1.1523949 , -1.8073025 , -3.1864033 ],\n",
       "       [-1.4949081 , -1.6110331 , -0.55641264],\n",
       "       [-1.1690198 , -2.032587  , -0.5858282 ],\n",
       "       [-2.3730345 , -3.535501  , -0.4414657 ],\n",
       "       [-1.2988878 , -3.5470862 , -1.2570676 ],\n",
       "       [-1.3355322 , -2.4439044 , -0.5110403 ]], dtype=float32)"
      ]
     },
     "execution_count": 7,
     "metadata": {},
     "output_type": "execute_result"
    }
   ],
   "source": [
    "f_blue.conjugate_log_prob().eval()"
   ]
  },
  {
   "cell_type": "code",
   "execution_count": 23,
   "metadata": {},
   "outputs": [],
   "source": [
    "f_blue_post = ed.copy(f_blue, {blue_prior:qblue_prior, blue_mu: qblue_mu, blue_sigmasq:qblue_sigmasq}, copy_q=True)"
   ]
  },
  {
   "cell_type": "code",
   "execution_count": 30,
   "metadata": {},
   "outputs": [
    {
     "data": {
      "text/plain": [
       "array([0, 0, 0, 1, 0, 0, 0, 0, 0, 0], dtype=int32)"
      ]
     },
     "execution_count": 30,
     "metadata": {},
     "output_type": "execute_result"
    }
   ],
   "source": [
    "blue_post.eval(feed_dict={f_blue:test_data})"
   ]
  },
  {
   "cell_type": "code",
   "execution_count": 24,
   "metadata": {},
   "outputs": [
    {
     "data": {
      "text/plain": [
       "[<ed.RandomVariable 'Normal_1/' shape=(2, 3) dtype=float32>,\n",
       " <ed.RandomVariable 'copied/ParamMixture_1/Categorical/' shape=(10,) dtype=int32>,\n",
       " <ed.RandomVariable 'copied/test2_2/Dirichlet/' shape=(2,) dtype=float32>,\n",
       " <ed.RandomVariable 'InverseGamma_1/' shape=(2, 3) dtype=float32>]"
      ]
     },
     "execution_count": 24,
     "metadata": {},
     "output_type": "execute_result"
    }
   ],
   "source": [
    "ed.get_ancestors(f_blue_post)"
   ]
  },
  {
   "cell_type": "code",
   "execution_count": 58,
   "metadata": {},
   "outputs": [
    {
     "data": {
      "text/plain": [
       "<ed.RandomVariable 'Categorical_2/' shape=(10,) dtype=int32>"
      ]
     },
     "execution_count": 58,
     "metadata": {},
     "output_type": "execute_result"
    }
   ],
   "source": [
    "blue_post = f_blue_post.cat\n",
    "blue_post\n",
    "q_blue = Categorical(tf.get_variable('qblue/param3', [2]), sample_shape=10)\n",
    "q_blue"
   ]
  },
  {
   "cell_type": "code",
   "execution_count": 51,
   "metadata": {},
   "outputs": [
    {
     "ename": "TypeError",
     "evalue": "Key-value pair in latent_vars does not have same shape: (10,), ()",
     "output_type": "error",
     "traceback": [
      "\u001b[0;31m---------------------------------------------------------------------------\u001b[0m",
      "\u001b[0;31mTypeError\u001b[0m                                 Traceback (most recent call last)",
      "\u001b[0;32m<ipython-input-51-28b9c3027d87>\u001b[0m in \u001b[0;36m<module>\u001b[0;34m()\u001b[0m\n\u001b[1;32m      4\u001b[0m \u001b[0mq_blue\u001b[0m \u001b[0;34m=\u001b[0m \u001b[0mCategorical\u001b[0m\u001b[0;34m(\u001b[0m\u001b[0mtf\u001b[0m\u001b[0;34m.\u001b[0m\u001b[0mget_variable\u001b[0m\u001b[0;34m(\u001b[0m\u001b[0;34m'qblue/param'\u001b[0m\u001b[0;34m,\u001b[0m \u001b[0;34m[\u001b[0m\u001b[0;36m10\u001b[0m\u001b[0;34m]\u001b[0m\u001b[0;34m)\u001b[0m\u001b[0;34m)\u001b[0m\u001b[0;34m\u001b[0m\u001b[0m\n\u001b[1;32m      5\u001b[0m \u001b[0;34m\u001b[0m\u001b[0m\n\u001b[0;32m----> 6\u001b[0;31m \u001b[0minference\u001b[0m \u001b[0;34m=\u001b[0m \u001b[0med\u001b[0m\u001b[0;34m.\u001b[0m\u001b[0mKLqp\u001b[0m\u001b[0;34m(\u001b[0m\u001b[0;34m{\u001b[0m\u001b[0mblue_post\u001b[0m\u001b[0;34m:\u001b[0m \u001b[0mq_blue\u001b[0m\u001b[0;34m}\u001b[0m\u001b[0;34m,\u001b[0m \u001b[0mdata\u001b[0m\u001b[0;34m=\u001b[0m\u001b[0;34m{\u001b[0m\u001b[0mf_blue_post\u001b[0m\u001b[0;34m:\u001b[0m\u001b[0mtest_data\u001b[0m\u001b[0;34m}\u001b[0m\u001b[0;34m)\u001b[0m\u001b[0;34m\u001b[0m\u001b[0m\n\u001b[0m\u001b[1;32m      7\u001b[0m \u001b[0;34m\u001b[0m\u001b[0m\n\u001b[1;32m      8\u001b[0m \u001b[0minference\u001b[0m\u001b[0;34m.\u001b[0m\u001b[0mrun\u001b[0m\u001b[0;34m(\u001b[0m\u001b[0mn_iter\u001b[0m\u001b[0;34m=\u001b[0m\u001b[0;36m500\u001b[0m\u001b[0;34m,\u001b[0m \u001b[0mn_print\u001b[0m\u001b[0;34m=\u001b[0m\u001b[0;36m100\u001b[0m\u001b[0;34m)\u001b[0m\u001b[0;34m\u001b[0m\u001b[0m\n",
      "\u001b[0;32m~/miniconda3/lib/python3.6/site-packages/edward/inferences/klqp.py\u001b[0m in \u001b[0;36m__init__\u001b[0;34m(self, latent_vars, data)\u001b[0m\n\u001b[1;32m     82\u001b[0m         \u001b[0;32mdel\u001b[0m \u001b[0mlatent_vars_dict\u001b[0m\u001b[0;34m\u001b[0m\u001b[0m\n\u001b[1;32m     83\u001b[0m \u001b[0;34m\u001b[0m\u001b[0m\n\u001b[0;32m---> 84\u001b[0;31m     \u001b[0msuper\u001b[0m\u001b[0;34m(\u001b[0m\u001b[0mKLqp\u001b[0m\u001b[0;34m,\u001b[0m \u001b[0mself\u001b[0m\u001b[0;34m)\u001b[0m\u001b[0;34m.\u001b[0m\u001b[0m__init__\u001b[0m\u001b[0;34m(\u001b[0m\u001b[0mlatent_vars\u001b[0m\u001b[0;34m,\u001b[0m \u001b[0mdata\u001b[0m\u001b[0;34m)\u001b[0m\u001b[0;34m\u001b[0m\u001b[0m\n\u001b[0m\u001b[1;32m     85\u001b[0m \u001b[0;34m\u001b[0m\u001b[0m\n\u001b[1;32m     86\u001b[0m   \u001b[0;32mdef\u001b[0m \u001b[0minitialize\u001b[0m\u001b[0;34m(\u001b[0m\u001b[0mself\u001b[0m\u001b[0;34m,\u001b[0m \u001b[0mn_samples\u001b[0m\u001b[0;34m=\u001b[0m\u001b[0;36m1\u001b[0m\u001b[0;34m,\u001b[0m \u001b[0mkl_scaling\u001b[0m\u001b[0;34m=\u001b[0m\u001b[0;32mNone\u001b[0m\u001b[0;34m,\u001b[0m \u001b[0;34m*\u001b[0m\u001b[0margs\u001b[0m\u001b[0;34m,\u001b[0m \u001b[0;34m**\u001b[0m\u001b[0mkwargs\u001b[0m\u001b[0;34m)\u001b[0m\u001b[0;34m:\u001b[0m\u001b[0;34m\u001b[0m\u001b[0m\n",
      "\u001b[0;32m~/miniconda3/lib/python3.6/site-packages/edward/inferences/variational_inference.py\u001b[0m in \u001b[0;36m__init__\u001b[0;34m(self, *args, **kwargs)\u001b[0m\n\u001b[1;32m     25\u001b[0m   \"\"\"\n\u001b[1;32m     26\u001b[0m   \u001b[0;32mdef\u001b[0m \u001b[0m__init__\u001b[0m\u001b[0;34m(\u001b[0m\u001b[0mself\u001b[0m\u001b[0;34m,\u001b[0m \u001b[0;34m*\u001b[0m\u001b[0margs\u001b[0m\u001b[0;34m,\u001b[0m \u001b[0;34m**\u001b[0m\u001b[0mkwargs\u001b[0m\u001b[0;34m)\u001b[0m\u001b[0;34m:\u001b[0m\u001b[0;34m\u001b[0m\u001b[0m\n\u001b[0;32m---> 27\u001b[0;31m     \u001b[0msuper\u001b[0m\u001b[0;34m(\u001b[0m\u001b[0mVariationalInference\u001b[0m\u001b[0;34m,\u001b[0m \u001b[0mself\u001b[0m\u001b[0;34m)\u001b[0m\u001b[0;34m.\u001b[0m\u001b[0m__init__\u001b[0m\u001b[0;34m(\u001b[0m\u001b[0;34m*\u001b[0m\u001b[0margs\u001b[0m\u001b[0;34m,\u001b[0m \u001b[0;34m**\u001b[0m\u001b[0mkwargs\u001b[0m\u001b[0;34m)\u001b[0m\u001b[0;34m\u001b[0m\u001b[0m\n\u001b[0m\u001b[1;32m     28\u001b[0m \u001b[0;34m\u001b[0m\u001b[0m\n\u001b[1;32m     29\u001b[0m   def initialize(self, optimizer=None, var_list=None, use_prettytensor=False,\n",
      "\u001b[0;32m~/miniconda3/lib/python3.6/site-packages/edward/inferences/inference.py\u001b[0m in \u001b[0;36m__init__\u001b[0;34m(self, latent_vars, data)\u001b[0m\n\u001b[1;32m     75\u001b[0m       \u001b[0mdata\u001b[0m \u001b[0;34m=\u001b[0m \u001b[0;34m{\u001b[0m\u001b[0;34m}\u001b[0m\u001b[0;34m\u001b[0m\u001b[0m\n\u001b[1;32m     76\u001b[0m \u001b[0;34m\u001b[0m\u001b[0m\n\u001b[0;32m---> 77\u001b[0;31m     \u001b[0mcheck_latent_vars\u001b[0m\u001b[0;34m(\u001b[0m\u001b[0mlatent_vars\u001b[0m\u001b[0;34m)\u001b[0m\u001b[0;34m\u001b[0m\u001b[0m\n\u001b[0m\u001b[1;32m     78\u001b[0m     \u001b[0mself\u001b[0m\u001b[0;34m.\u001b[0m\u001b[0mlatent_vars\u001b[0m \u001b[0;34m=\u001b[0m \u001b[0mlatent_vars\u001b[0m\u001b[0;34m\u001b[0m\u001b[0m\n\u001b[1;32m     79\u001b[0m \u001b[0;34m\u001b[0m\u001b[0m\n",
      "\u001b[0;32m~/miniconda3/lib/python3.6/site-packages/edward/util/random_variables.py\u001b[0m in \u001b[0;36mcheck_latent_vars\u001b[0;34m(latent_vars)\u001b[0m\n\u001b[1;32m     78\u001b[0m     \u001b[0;32melif\u001b[0m \u001b[0;32mnot\u001b[0m \u001b[0mkey\u001b[0m\u001b[0;34m.\u001b[0m\u001b[0mshape\u001b[0m\u001b[0;34m.\u001b[0m\u001b[0mis_compatible_with\u001b[0m\u001b[0;34m(\u001b[0m\u001b[0mvalue\u001b[0m\u001b[0;34m.\u001b[0m\u001b[0mshape\u001b[0m\u001b[0;34m)\u001b[0m\u001b[0;34m:\u001b[0m\u001b[0;34m\u001b[0m\u001b[0m\n\u001b[1;32m     79\u001b[0m       raise TypeError(\"Key-value pair in latent_vars does not have same \"\n\u001b[0;32m---> 80\u001b[0;31m                       \"shape: {}, {}\".format(key.shape, value.shape))\n\u001b[0m\u001b[1;32m     81\u001b[0m     \u001b[0;32melif\u001b[0m \u001b[0mkey\u001b[0m\u001b[0;34m.\u001b[0m\u001b[0mdtype\u001b[0m \u001b[0;34m!=\u001b[0m \u001b[0mvalue\u001b[0m\u001b[0;34m.\u001b[0m\u001b[0mdtype\u001b[0m\u001b[0;34m:\u001b[0m\u001b[0;34m\u001b[0m\u001b[0m\n\u001b[1;32m     82\u001b[0m       raise TypeError(\"Key-value pair in latent_vars does not have same \"\n",
      "\u001b[0;31mTypeError\u001b[0m: Key-value pair in latent_vars does not have same shape: (10,), ()"
     ]
    }
   ],
   "source": [
    "f_blue_post = ed.copy(f_blue, {blue_prior:qblue_prior, blue_mu: qblue_mu, blue_sigmasq:qblue_sigmasq}, copy_q=True)\n",
    "blue_post.eval(feed_dict={f_blue:test_data})\n",
    "\n",
    "q_blue = Categorical(tf.get_variable('qblue/param', [2]), sample_shape=10)\n",
    "\n",
    "inference = ed.KLqp({blue_post: q_blue}, data={f_blue_post:test_data})\n",
    "\n",
    "inference.run(n_iter=500, n_print=100)"
   ]
  },
  {
   "cell_type": "code",
   "execution_count": 50,
   "metadata": {},
   "outputs": [
    {
     "data": {
      "text/plain": [
       "array([-33.556965,   0.      ], dtype=float32)"
      ]
     },
     "execution_count": 50,
     "metadata": {},
     "output_type": "execute_result"
    }
   ],
   "source": [
    "f_blue_post.log_prob(test_data).eval()"
   ]
  },
  {
   "cell_type": "code",
   "execution_count": 8,
   "metadata": {},
   "outputs": [
    {
     "data": {
      "text/plain": [
       "array([[0.1079564 ],\n",
       "       [0.67778647],\n",
       "       [0.2070218 ],\n",
       "       [0.42886624],\n",
       "       [0.2748925 ],\n",
       "       [0.61006314],\n",
       "       [0.14546908],\n",
       "       [0.08681098],\n",
       "       [0.5994823 ],\n",
       "       [0.9915165 ]], dtype=float32)"
      ]
     },
     "execution_count": 8,
     "metadata": {},
     "output_type": "execute_result"
    }
   ],
   "source": [
    "qblue_prior.sample(10).eval()"
   ]
  },
  {
   "cell_type": "code",
   "execution_count": 11,
   "metadata": {},
   "outputs": [
    {
     "data": {
      "text/plain": [
       "array([0, 0, 0, 0, 1, 0, 1, 1, 1, 0])"
      ]
     },
     "execution_count": 11,
     "metadata": {},
     "output_type": "execute_result"
    }
   ],
   "source": [
    "test_c, test_data = my_colour_sample(objs)\n",
    "test_c = list(map(lambda x: colour_to_int(x, 'blue'), test_c))\n",
    "test_c = np.array(test_c)\n",
    "test_data = np.array(test_data, dtype=np.float32)\n",
    "\n",
    "test_c"
   ]
  },
  {
   "cell_type": "code",
   "execution_count": 4,
   "metadata": {
    "collapsed": true
   },
   "outputs": [
    {
     "data": {
      "text/plain": [
       "array([[[ 5.95200479e-01,  6.06709599e-01, -7.38514811e-02],\n",
       "        [-1.26881748e-02, -6.40598536e-01,  1.06572652e+00]],\n",
       "\n",
       "       [[ 9.30757642e-01, -8.82369578e-02,  1.27150327e-01],\n",
       "        [ 5.04438162e-01, -3.68533343e-01,  1.03993988e+00]],\n",
       "\n",
       "       [[ 8.34950328e-01,  5.21271169e-01,  1.51210241e-02],\n",
       "        [-5.27198136e-01,  5.02990365e-01, -4.63409424e-01]],\n",
       "\n",
       "       [[ 1.10724592e+00,  4.02048171e-01, -1.14839986e-01],\n",
       "        [-6.99628890e-01,  4.88392591e-01,  1.07865429e+00]],\n",
       "\n",
       "       [[ 8.46085191e-01,  4.86901492e-01, -8.03241283e-02],\n",
       "        [ 1.23522177e-01,  5.10799348e-01,  1.85226411e-01]],\n",
       "\n",
       "       [[ 3.83101732e-01,  3.77910674e-01,  2.30968058e-01],\n",
       "        [-3.19465399e-01,  2.09752023e-02,  7.40530014e-01]],\n",
       "\n",
       "       [[ 9.96079743e-01,  6.40604377e-01,  3.19072753e-01],\n",
       "        [ 9.16531384e-01, -9.58273411e-02,  2.14708567e+00]],\n",
       "\n",
       "       [[ 6.62474394e-01,  6.78522646e-01, -7.70042241e-02],\n",
       "        [-6.54877186e-01,  3.40716466e-02,  4.05116767e-01]],\n",
       "\n",
       "       [[ 5.37925720e-01,  6.03670180e-01,  6.37732446e-04],\n",
       "        [ 7.78703019e-02,  9.39487994e-01,  1.08032715e+00]],\n",
       "\n",
       "       [[ 3.68205607e-01,  4.00903404e-01, -4.69134897e-01],\n",
       "        [ 7.56030023e-01, -5.91002464e-01,  1.88812554e-01]],\n",
       "\n",
       "       [[ 5.32739878e-01,  6.57783389e-01, -1.46786779e-01],\n",
       "        [ 2.07839236e-01,  2.93682478e-02,  4.64519620e-01]],\n",
       "\n",
       "       [[ 9.96083617e-01,  3.76641601e-01, -1.88310668e-02],\n",
       "        [-1.13101341e-02, -6.26239598e-01, -1.93875253e-01]],\n",
       "\n",
       "       [[ 7.82702923e-01,  8.21167827e-01,  1.76818445e-01],\n",
       "        [ 7.26526901e-02,  2.69840896e-01,  2.32030749e-01]],\n",
       "\n",
       "       [[ 8.93482566e-02,  2.80105025e-01, -4.69226949e-02],\n",
       "        [-6.65649176e-02,  4.72202785e-02,  1.30078748e-01]],\n",
       "\n",
       "       [[ 8.11833084e-01,  5.52555978e-01,  1.21563166e-01],\n",
       "        [ 4.98609096e-01,  1.76576838e-01,  1.05758047e+00]],\n",
       "\n",
       "       [[ 6.82379365e-01,  5.01631021e-01,  1.17231652e-01],\n",
       "        [ 1.59079745e-01,  9.36144710e-01,  7.64113069e-02]],\n",
       "\n",
       "       [[ 2.68847317e-01,  5.79740644e-01,  1.08410098e-01],\n",
       "        [-6.18025064e-01, -6.21809304e-01,  2.49234527e-01]],\n",
       "\n",
       "       [[ 3.83101732e-01,  3.77910674e-01,  2.30968058e-01],\n",
       "        [-3.19465399e-01,  2.09752023e-02,  7.40530014e-01]],\n",
       "\n",
       "       [[ 6.79376304e-01,  7.14906275e-01,  8.38452205e-02],\n",
       "        [ 5.69124460e-01, -1.28701955e-01,  1.73436010e+00]],\n",
       "\n",
       "       [[ 9.33157146e-01,  5.79360962e-01,  1.64899498e-01],\n",
       "        [-3.27394843e-01,  4.51916665e-01,  1.05311239e+00]],\n",
       "\n",
       "       [[ 5.91425478e-01,  1.82850748e-01,  2.11491019e-01],\n",
       "        [-2.50510931e-01, -4.80840951e-01,  5.20510435e-01]],\n",
       "\n",
       "       [[ 9.58963394e-01,  3.52642685e-01, -1.84793726e-01],\n",
       "        [ 5.00000656e-01, -1.04599319e-01,  1.54582477e+00]],\n",
       "\n",
       "       [[ 5.37925720e-01,  6.03670180e-01,  6.37732446e-04],\n",
       "        [ 7.78703019e-02,  9.39487994e-01,  1.08032715e+00]],\n",
       "\n",
       "       [[ 7.43524253e-01,  4.30768937e-01,  7.90183470e-02],\n",
       "        [ 3.26150566e-01, -1.14102796e-01,  1.20520139e+00]],\n",
       "\n",
       "       [[ 8.63056242e-01,  6.68034792e-01, -7.21117407e-02],\n",
       "        [-5.36471382e-02,  7.04038262e-01,  6.05908036e-01]],\n",
       "\n",
       "       [[ 1.07225800e+00,  5.53883731e-01, -3.02347481e-01],\n",
       "        [-5.79084605e-02, -1.11563995e-01, -1.46670401e-01]],\n",
       "\n",
       "       [[ 7.13200986e-01,  1.45081210e+00,  4.84030783e-01],\n",
       "        [-4.43815440e-02,  8.32468718e-02,  6.57855332e-01]],\n",
       "\n",
       "       [[ 1.34069538e+00,  5.55556297e-01,  1.60196155e-01],\n",
       "        [ 1.76724792e-03, -6.40510499e-01,  8.20327401e-01]],\n",
       "\n",
       "       [[ 1.00651121e+00,  8.94603550e-01, -1.35075450e-01],\n",
       "        [-1.00198591e+00,  2.02213041e-02,  7.65863955e-01]],\n",
       "\n",
       "       [[ 3.97212863e-01,  5.30883372e-01, -8.10886174e-03],\n",
       "        [ 4.31577057e-01, -2.31436893e-01,  5.22151113e-01]],\n",
       "\n",
       "       [[ 6.67119443e-01,  4.22188103e-01, -9.68164206e-02],\n",
       "        [ 1.62521571e-01, -5.69962382e-01,  9.15650129e-01]],\n",
       "\n",
       "       [[ 8.25876415e-01,  5.18907011e-01,  2.24036917e-01],\n",
       "        [-9.24733281e-01, -7.45622098e-01, -7.81138599e-01]],\n",
       "\n",
       "       [[ 5.95200479e-01,  6.06709599e-01, -7.38514811e-02],\n",
       "        [-1.26881748e-02, -6.40598536e-01,  1.06572652e+00]],\n",
       "\n",
       "       [[ 6.36548817e-01,  4.16715205e-01,  1.49726570e-02],\n",
       "        [ 1.51869059e-01, -2.65885770e-01,  1.25716996e+00]],\n",
       "\n",
       "       [[ 1.04759014e+00,  5.20877004e-01, -4.18737754e-02],\n",
       "        [-3.23641211e-01,  6.75319061e-02,  1.00777662e+00]],\n",
       "\n",
       "       [[ 3.83101732e-01,  3.77910674e-01,  2.30968058e-01],\n",
       "        [-3.19465399e-01,  2.09752023e-02,  7.40530014e-01]],\n",
       "\n",
       "       [[ 1.08527040e+00,  2.88023412e-01, -1.78696096e-01],\n",
       "        [ 5.14616668e-01,  1.87766656e-01, -2.09516615e-01]],\n",
       "\n",
       "       [[ 8.82371366e-01,  4.10907775e-01,  4.35462177e-01],\n",
       "        [-3.38220358e-01, -2.01819576e-02,  4.75997180e-01]],\n",
       "\n",
       "       [[ 7.38879263e-01,  2.98931301e-01,  2.87716240e-01],\n",
       "        [ 5.24665751e-02,  2.81992368e-02,  9.61543441e-01]],\n",
       "\n",
       "       [[ 9.33335125e-01,  3.68218899e-01,  1.79526314e-01],\n",
       "        [-3.47070932e-01,  3.36599588e-01,  7.75014699e-01]],\n",
       "\n",
       "       [[ 1.02157462e+00,  7.50203729e-01,  3.01504195e-01],\n",
       "        [-8.24774146e-01,  3.47915664e-02, -9.06074405e-01]],\n",
       "\n",
       "       [[ 1.00384939e+00,  5.41923583e-01,  2.11594440e-02],\n",
       "        [ 5.75690210e-01,  4.91524905e-01,  4.29922044e-01]],\n",
       "\n",
       "       [[ 5.99840343e-01,  4.28570509e-01, -6.45843297e-02],\n",
       "        [ 3.23488146e-01, -3.28595370e-01,  1.36831510e+00]],\n",
       "\n",
       "       [[ 8.05764019e-01,  5.23791373e-01,  1.05246626e-01],\n",
       "        [-1.72261059e-01,  1.71659350e-01,  1.16646755e+00]],\n",
       "\n",
       "       [[ 6.75480902e-01,  4.32549924e-01, -1.20467402e-01],\n",
       "        [ 2.66947150e-01, -5.37121296e-01,  7.98273861e-01]],\n",
       "\n",
       "       [[ 6.07394695e-01,  2.73802340e-01, -2.01969728e-01],\n",
       "        [ 3.75564814e-01,  3.42957079e-01, -7.56608009e-01]],\n",
       "\n",
       "       [[ 8.70043039e-01,  9.42261100e-01, -6.77942038e-01],\n",
       "        [-2.23275840e-01, -7.34923124e-01,  1.15553737e+00]],\n",
       "\n",
       "       [[ 6.35511518e-01,  5.88122189e-01,  1.34764194e-01],\n",
       "        [ 6.69018567e-01, -1.08179681e-01,  4.42623198e-01]],\n",
       "\n",
       "       [[ 6.13827586e-01,  2.30681419e-01,  3.75305057e-01],\n",
       "        [-8.27943325e-01, -6.09386504e-01,  9.56357181e-01]],\n",
       "\n",
       "       [[ 8.18317175e-01,  5.93769193e-01,  3.24539542e-02],\n",
       "        [-6.40563130e-01,  2.08438143e-01,  1.13534606e+00]],\n",
       "\n",
       "       [[ 7.33763218e-01,  4.51422185e-01,  9.27911922e-02],\n",
       "        [-6.92312241e-01, -5.82697928e-01,  2.16815829e-01]],\n",
       "\n",
       "       [[ 9.97985482e-01,  4.52405602e-01,  1.69777080e-01],\n",
       "        [-6.47769570e-02, -2.32673436e-01,  1.14308333e+00]],\n",
       "\n",
       "       [[ 9.05850887e-01,  2.01886415e-01, -8.33724439e-03],\n",
       "        [-6.97369128e-03,  1.08601131e-01,  5.82006216e-01]],\n",
       "\n",
       "       [[ 6.23777449e-01,  7.73481250e-01, -1.37838960e-01],\n",
       "        [ 5.63044429e-01,  4.52094227e-01, -6.15075827e-02]],\n",
       "\n",
       "       [[ 1.07225800e+00,  5.53883731e-01, -3.02347481e-01],\n",
       "        [-5.79084605e-02, -1.11563995e-01, -1.46670401e-01]],\n",
       "\n",
       "       [[ 5.91136694e-01,  3.03962648e-01, -9.53472629e-02],\n",
       "        [ 1.32228518e+00, -8.79245758e-01,  2.96146512e-01]],\n",
       "\n",
       "       [[ 6.32077634e-01,  4.43249673e-01,  1.97674513e-01],\n",
       "        [-1.22923815e+00,  6.70756876e-01,  1.11869037e+00]],\n",
       "\n",
       "       [[ 1.24508572e+00,  7.80516267e-01,  6.82574451e-01],\n",
       "        [-2.55696863e-01,  3.38144124e-01,  5.52645266e-01]],\n",
       "\n",
       "       [[ 6.84145153e-01,  5.67071378e-01, -2.64395289e-02],\n",
       "        [ 1.64896756e-01,  4.99633729e-01,  6.47855878e-01]],\n",
       "\n",
       "       [[ 9.20469761e-01,  8.85262370e-01,  1.55811965e-01],\n",
       "        [-5.09460628e-01,  5.68546653e-01,  6.62677884e-01]],\n",
       "\n",
       "       [[ 1.12195730e+00,  4.02505279e-01, -1.56683952e-01],\n",
       "        [-7.47809410e-02, -6.68929994e-01,  1.29487634e+00]],\n",
       "\n",
       "       [[ 8.47987771e-01,  3.32341790e-02, -7.52096772e-02],\n",
       "        [-9.69308317e-02,  6.38863266e-01, -4.64177132e-03]],\n",
       "\n",
       "       [[ 5.80183387e-01,  5.70850372e-01,  5.55135310e-01],\n",
       "        [ 3.24173629e-01,  1.48127422e-01,  8.75549912e-02]],\n",
       "\n",
       "       [[ 6.79376304e-01,  7.14906275e-01,  8.38452205e-02],\n",
       "        [ 5.69124460e-01, -1.28701955e-01,  1.73436010e+00]],\n",
       "\n",
       "       [[ 7.72554576e-01,  3.95933628e-01,  7.02087134e-02],\n",
       "        [ 5.34624100e-01, -8.02378833e-01,  1.31930447e+00]],\n",
       "\n",
       "       [[ 5.60255170e-01,  4.84663844e-01, -1.39960170e-01],\n",
       "        [-1.31708920e-01, -2.57917374e-01, -9.53392982e-02]],\n",
       "\n",
       "       [[ 9.18122053e-01,  7.65753627e-01, -1.08590707e-01],\n",
       "        [-3.09173584e-01,  1.09603897e-01,  1.49875903e+00]],\n",
       "\n",
       "       [[ 7.75480747e-01,  2.89661884e-01,  1.40022650e-01],\n",
       "        [ 3.74883860e-01,  1.19243085e+00, -1.55959636e-01]],\n",
       "\n",
       "       [[ 8.78081381e-01, -4.15918022e-01, -3.96885946e-02],\n",
       "        [-4.41547692e-01, -3.34858894e-01,  1.32161951e+00]],\n",
       "\n",
       "       [[ 3.92796755e-01,  4.02748883e-01, -1.55830644e-02],\n",
       "        [-2.37045974e-01,  3.82701457e-01,  1.33017749e-01]],\n",
       "\n",
       "       [[ 7.23970711e-01,  7.22411513e-01,  2.40229785e-01],\n",
       "        [ 2.72404313e-01,  6.26823157e-02,  1.12045908e+00]],\n",
       "\n",
       "       [[ 7.17909992e-01,  5.88243246e-01, -1.48634747e-01],\n",
       "        [-7.64781609e-02, -2.02194810e-01,  1.07372999e+00]],\n",
       "\n",
       "       [[ 1.03072834e+00,  4.39089060e-01,  1.26922622e-01],\n",
       "        [ 3.38413194e-02,  1.29678771e-02,  6.15135014e-01]],\n",
       "\n",
       "       [[ 8.66624296e-01,  4.60000455e-01,  3.12879607e-02],\n",
       "        [ 3.32219377e-02,  3.60186487e-01,  1.17996907e+00]],\n",
       "\n",
       "       [[ 6.34203196e-01,  6.01721287e-01, -6.04797006e-02],\n",
       "        [ 7.71141648e-01, -1.42033547e-01, -6.73032284e-01]],\n",
       "\n",
       "       [[ 6.34203196e-01,  6.01721287e-01, -6.04797006e-02],\n",
       "        [ 7.71141648e-01, -1.42033547e-01, -6.73032284e-01]],\n",
       "\n",
       "       [[ 1.03157389e+00,  8.57154727e-01,  9.23619047e-02],\n",
       "        [ 5.91397136e-02, -5.93859851e-01,  4.97878194e-02]],\n",
       "\n",
       "       [[ 1.00651121e+00,  8.94603550e-01, -1.35075450e-01],\n",
       "        [-1.00198591e+00,  2.02213041e-02,  7.65863955e-01]],\n",
       "\n",
       "       [[ 1.06245697e+00,  6.27806842e-01, -2.04447210e-02],\n",
       "        [ 2.18658432e-01, -2.88098492e-02,  4.81710404e-01]],\n",
       "\n",
       "       [[ 2.68847317e-01,  5.79740644e-01,  1.08410098e-01],\n",
       "        [-6.18025064e-01, -6.21809304e-01,  2.49234527e-01]],\n",
       "\n",
       "       [[ 1.07712150e+00,  3.93158555e-01,  3.93912420e-02],\n",
       "        [-6.09077573e-01,  1.69837546e+00,  3.80523264e-01]],\n",
       "\n",
       "       [[ 1.08527040e+00,  2.88023412e-01, -1.78696096e-01],\n",
       "        [ 5.14616668e-01,  1.87766656e-01, -2.09516615e-01]],\n",
       "\n",
       "       [[ 7.22445726e-01,  5.05392611e-01,  2.24561885e-01],\n",
       "        [-3.99410903e-01, -1.70632434e+00,  5.19258022e-01]],\n",
       "\n",
       "       [[ 6.69253170e-01,  3.47143948e-01, -1.32735893e-01],\n",
       "        [ 1.66065291e-01,  5.11605203e-01,  3.38416338e-01]],\n",
       "\n",
       "       [[ 1.42779887e+00,  2.73834437e-01,  1.96235150e-01],\n",
       "        [-6.20512486e-01, -2.67251611e-01,  9.38550413e-01]],\n",
       "\n",
       "       [[ 5.91136694e-01,  3.03962648e-01, -9.53472629e-02],\n",
       "        [ 1.32228518e+00, -8.79245758e-01,  2.96146512e-01]],\n",
       "\n",
       "       [[ 6.12176776e-01,  3.09127659e-01,  1.89562172e-01],\n",
       "        [ 1.27660501e+00, -7.03260005e-01,  5.23936450e-02]],\n",
       "\n",
       "       [[ 6.67618334e-01,  5.99246144e-01,  1.06963873e-01],\n",
       "        [ 2.48257190e-01,  5.29723614e-02,  6.60188377e-01]],\n",
       "\n",
       "       [[ 5.13622642e-01,  3.94029230e-01,  2.85956949e-01],\n",
       "        [-2.30884820e-01,  3.16054821e-01,  1.04897738e+00]],\n",
       "\n",
       "       [[ 1.06078327e+00,  8.13002348e-01,  1.82760537e-01],\n",
       "        [-4.43571687e-01, -1.21154353e-01,  1.10592270e+00]],\n",
       "\n",
       "       [[ 6.68210149e-01,  2.69980192e-01,  2.07518324e-01],\n",
       "        [ 4.56739962e-01,  5.18706858e-01,  5.41024625e-01]],\n",
       "\n",
       "       [[ 1.01875293e+00,  8.76978755e-01,  2.18816653e-01],\n",
       "        [ 1.75065622e-02, -7.29632229e-02,  8.46654177e-01]],\n",
       "\n",
       "       [[ 9.61039126e-01,  4.77737248e-01,  3.24008241e-02],\n",
       "        [-1.13960095e-01,  1.71556562e-01,  1.77320910e+00]],\n",
       "\n",
       "       [[ 4.39837784e-01,  4.75908965e-01,  9.50401500e-02],\n",
       "        [ 1.06239843e+00, -6.79897517e-02,  4.07446206e-01]],\n",
       "\n",
       "       [[ 1.11250782e+00,  5.55529594e-02, -1.33631885e-01],\n",
       "        [-5.10378003e-01,  5.22660136e-01,  4.50500011e-01]],\n",
       "\n",
       "       [[ 9.75493312e-01,  9.87899899e-01, -7.97207132e-02],\n",
       "        [-2.50748917e-02,  5.95638812e-01,  3.61450970e-01]],\n",
       "\n",
       "       [[ 8.94098282e-01,  7.77939916e-01,  2.51000430e-02],\n",
       "        [ 7.39473164e-01,  9.66433585e-02,  6.39537811e-01]],\n",
       "\n",
       "       [[ 6.34203196e-01,  6.01721287e-01, -6.04797006e-02],\n",
       "        [ 7.71141648e-01, -1.42033547e-01, -6.73032284e-01]],\n",
       "\n",
       "       [[ 1.06078327e+00,  8.13002348e-01,  1.82760537e-01],\n",
       "        [-4.43571687e-01, -1.21154353e-01,  1.10592270e+00]],\n",
       "\n",
       "       [[ 7.24641979e-01,  4.70688671e-01, -1.14291355e-01],\n",
       "        [ 4.96620536e-01, -6.72518671e-01,  1.45817542e+00]]],\n",
       "      dtype=float32)"
      ]
     },
     "execution_count": 4,
     "metadata": {},
     "output_type": "execute_result"
    }
   ],
   "source": [
    "sess.run(qblue_mu.sample(100))"
   ]
  },
  {
   "cell_type": "code",
   "execution_count": 36,
   "metadata": {},
   "outputs": [
    {
     "data": {
      "text/plain": [
       "<ed.RandomVariable 'test2_5/Normal/' shape=(3,) dtype=float32>"
      ]
     },
     "execution_count": 36,
     "metadata": {},
     "output_type": "execute_result"
    }
   ],
   "source": [
    "qblue_mu"
   ]
  },
  {
   "cell_type": "code",
   "execution_count": 44,
   "metadata": {},
   "outputs": [],
   "source": [
    "x_post = Normal(loc=qblue_mu, scale=qblue_sigmasq)\n",
    "b_post = Bernoulli(qblue_prior)"
   ]
  },
  {
   "cell_type": "code",
   "execution_count": 43,
   "metadata": {},
   "outputs": [
    {
     "data": {
      "text/plain": [
       "array([ 1.4704071 ,  0.06402967, -1.7232388 ], dtype=float32)"
      ]
     },
     "execution_count": 43,
     "metadata": {},
     "output_type": "execute_result"
    }
   ],
   "source": [
    "np.mean(x_post.sample(100).eval(), axis=0)"
   ]
  },
  {
   "cell_type": "code",
   "execution_count": 34,
   "metadata": {},
   "outputs": [
    {
     "ename": "ValueError",
     "evalue": "Dimensions must be equal, but are 2 and 100 for 'Normal_24/log_prob/standardize/sub' (op: 'Sub') with input shapes: [10,100,2,3], [10,1,100,3].",
     "output_type": "error",
     "traceback": [
      "\u001b[0;31m---------------------------------------------------------------------------\u001b[0m",
      "\u001b[0;31mInvalidArgumentError\u001b[0m                      Traceback (most recent call last)",
      "\u001b[0;32m~/miniconda3/lib/python3.6/site-packages/tensorflow/python/framework/common_shapes.py\u001b[0m in \u001b[0;36m_call_cpp_shape_fn_impl\u001b[0;34m(op, input_tensors_needed, input_tensors_as_shapes_needed, require_shape_fn)\u001b[0m\n\u001b[1;32m    685\u001b[0m           \u001b[0mgraph_def_version\u001b[0m\u001b[0;34m,\u001b[0m \u001b[0mnode_def_str\u001b[0m\u001b[0;34m,\u001b[0m \u001b[0minput_shapes\u001b[0m\u001b[0;34m,\u001b[0m \u001b[0minput_tensors\u001b[0m\u001b[0;34m,\u001b[0m\u001b[0;34m\u001b[0m\u001b[0m\n\u001b[0;32m--> 686\u001b[0;31m           input_tensors_as_shapes, status)\n\u001b[0m\u001b[1;32m    687\u001b[0m   \u001b[0;32mexcept\u001b[0m \u001b[0merrors\u001b[0m\u001b[0;34m.\u001b[0m\u001b[0mInvalidArgumentError\u001b[0m \u001b[0;32mas\u001b[0m \u001b[0merr\u001b[0m\u001b[0;34m:\u001b[0m\u001b[0;34m\u001b[0m\u001b[0m\n",
      "\u001b[0;32m~/miniconda3/lib/python3.6/site-packages/tensorflow/python/framework/errors_impl.py\u001b[0m in \u001b[0;36m__exit__\u001b[0;34m(self, type_arg, value_arg, traceback_arg)\u001b[0m\n\u001b[1;32m    515\u001b[0m             \u001b[0mcompat\u001b[0m\u001b[0;34m.\u001b[0m\u001b[0mas_text\u001b[0m\u001b[0;34m(\u001b[0m\u001b[0mc_api\u001b[0m\u001b[0;34m.\u001b[0m\u001b[0mTF_Message\u001b[0m\u001b[0;34m(\u001b[0m\u001b[0mself\u001b[0m\u001b[0;34m.\u001b[0m\u001b[0mstatus\u001b[0m\u001b[0;34m.\u001b[0m\u001b[0mstatus\u001b[0m\u001b[0;34m)\u001b[0m\u001b[0;34m)\u001b[0m\u001b[0;34m,\u001b[0m\u001b[0;34m\u001b[0m\u001b[0m\n\u001b[0;32m--> 516\u001b[0;31m             c_api.TF_GetCode(self.status.status))\n\u001b[0m\u001b[1;32m    517\u001b[0m     \u001b[0;31m# Delete the underlying status object from memory otherwise it stays alive\u001b[0m\u001b[0;34m\u001b[0m\u001b[0;34m\u001b[0m\u001b[0m\n",
      "\u001b[0;31mInvalidArgumentError\u001b[0m: Dimensions must be equal, but are 2 and 100 for 'Normal_24/log_prob/standardize/sub' (op: 'Sub') with input shapes: [10,100,2,3], [10,1,100,3].",
      "\nDuring handling of the above exception, another exception occurred:\n",
      "\u001b[0;31mValueError\u001b[0m                                Traceback (most recent call last)",
      "\u001b[0;32m<ipython-input-34-edaf09217644>\u001b[0m in \u001b[0;36m<module>\u001b[0;34m()\u001b[0m\n\u001b[1;32m     11\u001b[0m \u001b[0;31m# Sum over latent dimension, then average over posterior samples.\u001b[0m\u001b[0;34m\u001b[0m\u001b[0;34m\u001b[0m\u001b[0m\n\u001b[1;32m     12\u001b[0m \u001b[0;31m# ``log_liks`` ends up with shape (N, K).\u001b[0m\u001b[0;34m\u001b[0m\u001b[0;34m\u001b[0m\u001b[0m\n\u001b[0;32m---> 13\u001b[0;31m \u001b[0mlog_liks\u001b[0m \u001b[0;34m=\u001b[0m \u001b[0mx_post\u001b[0m\u001b[0;34m.\u001b[0m\u001b[0mlog_prob\u001b[0m\u001b[0;34m(\u001b[0m\u001b[0mx_broadcasted\u001b[0m\u001b[0;34m)\u001b[0m\u001b[0;34m\u001b[0m\u001b[0m\n\u001b[0m\u001b[1;32m     14\u001b[0m \u001b[0mprint\u001b[0m\u001b[0;34m(\u001b[0m\u001b[0mlog_liks\u001b[0m\u001b[0;34m)\u001b[0m\u001b[0;34m\u001b[0m\u001b[0m\n\u001b[1;32m     15\u001b[0m \u001b[0mlog_liks\u001b[0m \u001b[0;34m=\u001b[0m \u001b[0mtf\u001b[0m\u001b[0;34m.\u001b[0m\u001b[0mreduce_sum\u001b[0m\u001b[0;34m(\u001b[0m\u001b[0mlog_liks\u001b[0m\u001b[0;34m,\u001b[0m \u001b[0;36m3\u001b[0m\u001b[0;34m)\u001b[0m\u001b[0;34m\u001b[0m\u001b[0m\n",
      "\u001b[0;32m~/miniconda3/lib/python3.6/site-packages/tensorflow/python/ops/distributions/distribution.py\u001b[0m in \u001b[0;36mlog_prob\u001b[0;34m(self, value, name)\u001b[0m\n\u001b[1;32m    714\u001b[0m         \u001b[0mvalues\u001b[0m \u001b[0mof\u001b[0m \u001b[0mtype\u001b[0m\u001b[0;31m \u001b[0m\u001b[0;31m`\u001b[0m\u001b[0mself\u001b[0m\u001b[0;34m.\u001b[0m\u001b[0mdtype\u001b[0m\u001b[0;31m`\u001b[0m\u001b[0;34m.\u001b[0m\u001b[0;34m\u001b[0m\u001b[0m\n\u001b[1;32m    715\u001b[0m     \"\"\"\n\u001b[0;32m--> 716\u001b[0;31m     \u001b[0;32mreturn\u001b[0m \u001b[0mself\u001b[0m\u001b[0;34m.\u001b[0m\u001b[0m_call_log_prob\u001b[0m\u001b[0;34m(\u001b[0m\u001b[0mvalue\u001b[0m\u001b[0;34m,\u001b[0m \u001b[0mname\u001b[0m\u001b[0;34m)\u001b[0m\u001b[0;34m\u001b[0m\u001b[0m\n\u001b[0m\u001b[1;32m    717\u001b[0m \u001b[0;34m\u001b[0m\u001b[0m\n\u001b[1;32m    718\u001b[0m   \u001b[0;32mdef\u001b[0m \u001b[0m_prob\u001b[0m\u001b[0;34m(\u001b[0m\u001b[0mself\u001b[0m\u001b[0;34m,\u001b[0m \u001b[0mvalue\u001b[0m\u001b[0;34m)\u001b[0m\u001b[0;34m:\u001b[0m\u001b[0;34m\u001b[0m\u001b[0m\n",
      "\u001b[0;32m~/miniconda3/lib/python3.6/site-packages/tensorflow/python/ops/distributions/distribution.py\u001b[0m in \u001b[0;36m_call_log_prob\u001b[0;34m(self, value, name, **kwargs)\u001b[0m\n\u001b[1;32m    696\u001b[0m       \u001b[0mvalue\u001b[0m \u001b[0;34m=\u001b[0m \u001b[0mops\u001b[0m\u001b[0;34m.\u001b[0m\u001b[0mconvert_to_tensor\u001b[0m\u001b[0;34m(\u001b[0m\u001b[0mvalue\u001b[0m\u001b[0;34m,\u001b[0m \u001b[0mname\u001b[0m\u001b[0;34m=\u001b[0m\u001b[0;34m\"value\"\u001b[0m\u001b[0;34m)\u001b[0m\u001b[0;34m\u001b[0m\u001b[0m\n\u001b[1;32m    697\u001b[0m       \u001b[0;32mtry\u001b[0m\u001b[0;34m:\u001b[0m\u001b[0;34m\u001b[0m\u001b[0m\n\u001b[0;32m--> 698\u001b[0;31m         \u001b[0;32mreturn\u001b[0m \u001b[0mself\u001b[0m\u001b[0;34m.\u001b[0m\u001b[0m_log_prob\u001b[0m\u001b[0;34m(\u001b[0m\u001b[0mvalue\u001b[0m\u001b[0;34m,\u001b[0m \u001b[0;34m**\u001b[0m\u001b[0mkwargs\u001b[0m\u001b[0;34m)\u001b[0m\u001b[0;34m\u001b[0m\u001b[0m\n\u001b[0m\u001b[1;32m    699\u001b[0m       \u001b[0;32mexcept\u001b[0m \u001b[0mNotImplementedError\u001b[0m \u001b[0;32mas\u001b[0m \u001b[0moriginal_exception\u001b[0m\u001b[0;34m:\u001b[0m\u001b[0;34m\u001b[0m\u001b[0m\n\u001b[1;32m    700\u001b[0m         \u001b[0;32mtry\u001b[0m\u001b[0;34m:\u001b[0m\u001b[0;34m\u001b[0m\u001b[0m\n",
      "\u001b[0;32m~/miniconda3/lib/python3.6/site-packages/tensorflow/python/ops/distributions/normal.py\u001b[0m in \u001b[0;36m_log_prob\u001b[0;34m(self, x)\u001b[0m\n\u001b[1;32m    187\u001b[0m \u001b[0;34m\u001b[0m\u001b[0m\n\u001b[1;32m    188\u001b[0m   \u001b[0;32mdef\u001b[0m \u001b[0m_log_prob\u001b[0m\u001b[0;34m(\u001b[0m\u001b[0mself\u001b[0m\u001b[0;34m,\u001b[0m \u001b[0mx\u001b[0m\u001b[0;34m)\u001b[0m\u001b[0;34m:\u001b[0m\u001b[0;34m\u001b[0m\u001b[0m\n\u001b[0;32m--> 189\u001b[0;31m     \u001b[0;32mreturn\u001b[0m \u001b[0mself\u001b[0m\u001b[0;34m.\u001b[0m\u001b[0m_log_unnormalized_prob\u001b[0m\u001b[0;34m(\u001b[0m\u001b[0mx\u001b[0m\u001b[0;34m)\u001b[0m \u001b[0;34m-\u001b[0m \u001b[0mself\u001b[0m\u001b[0;34m.\u001b[0m\u001b[0m_log_normalization\u001b[0m\u001b[0;34m(\u001b[0m\u001b[0;34m)\u001b[0m\u001b[0;34m\u001b[0m\u001b[0m\n\u001b[0m\u001b[1;32m    190\u001b[0m \u001b[0;34m\u001b[0m\u001b[0m\n\u001b[1;32m    191\u001b[0m   \u001b[0;32mdef\u001b[0m \u001b[0m_log_cdf\u001b[0m\u001b[0;34m(\u001b[0m\u001b[0mself\u001b[0m\u001b[0;34m,\u001b[0m \u001b[0mx\u001b[0m\u001b[0;34m)\u001b[0m\u001b[0;34m:\u001b[0m\u001b[0;34m\u001b[0m\u001b[0m\n",
      "\u001b[0;32m~/miniconda3/lib/python3.6/site-packages/tensorflow/python/ops/distributions/normal.py\u001b[0m in \u001b[0;36m_log_unnormalized_prob\u001b[0;34m(self, x)\u001b[0m\n\u001b[1;32m    202\u001b[0m \u001b[0;34m\u001b[0m\u001b[0m\n\u001b[1;32m    203\u001b[0m   \u001b[0;32mdef\u001b[0m \u001b[0m_log_unnormalized_prob\u001b[0m\u001b[0;34m(\u001b[0m\u001b[0mself\u001b[0m\u001b[0;34m,\u001b[0m \u001b[0mx\u001b[0m\u001b[0;34m)\u001b[0m\u001b[0;34m:\u001b[0m\u001b[0;34m\u001b[0m\u001b[0m\n\u001b[0;32m--> 204\u001b[0;31m     \u001b[0;32mreturn\u001b[0m \u001b[0;34m-\u001b[0m\u001b[0;36m0.5\u001b[0m \u001b[0;34m*\u001b[0m \u001b[0mmath_ops\u001b[0m\u001b[0;34m.\u001b[0m\u001b[0msquare\u001b[0m\u001b[0;34m(\u001b[0m\u001b[0mself\u001b[0m\u001b[0;34m.\u001b[0m\u001b[0m_z\u001b[0m\u001b[0;34m(\u001b[0m\u001b[0mx\u001b[0m\u001b[0;34m)\u001b[0m\u001b[0;34m)\u001b[0m\u001b[0;34m\u001b[0m\u001b[0m\n\u001b[0m\u001b[1;32m    205\u001b[0m \u001b[0;34m\u001b[0m\u001b[0m\n\u001b[1;32m    206\u001b[0m   \u001b[0;32mdef\u001b[0m \u001b[0m_log_normalization\u001b[0m\u001b[0;34m(\u001b[0m\u001b[0mself\u001b[0m\u001b[0;34m)\u001b[0m\u001b[0;34m:\u001b[0m\u001b[0;34m\u001b[0m\u001b[0m\n",
      "\u001b[0;32m~/miniconda3/lib/python3.6/site-packages/tensorflow/python/ops/distributions/normal.py\u001b[0m in \u001b[0;36m_z\u001b[0;34m(self, x)\u001b[0m\n\u001b[1;32m    227\u001b[0m     \u001b[0;34m\"\"\"Standardize input `x` to a unit normal.\"\"\"\u001b[0m\u001b[0;34m\u001b[0m\u001b[0m\n\u001b[1;32m    228\u001b[0m     \u001b[0;32mwith\u001b[0m \u001b[0mops\u001b[0m\u001b[0;34m.\u001b[0m\u001b[0mname_scope\u001b[0m\u001b[0;34m(\u001b[0m\u001b[0;34m\"standardize\"\u001b[0m\u001b[0;34m,\u001b[0m \u001b[0mvalues\u001b[0m\u001b[0;34m=\u001b[0m\u001b[0;34m[\u001b[0m\u001b[0mx\u001b[0m\u001b[0;34m]\u001b[0m\u001b[0;34m)\u001b[0m\u001b[0;34m:\u001b[0m\u001b[0;34m\u001b[0m\u001b[0m\n\u001b[0;32m--> 229\u001b[0;31m       \u001b[0;32mreturn\u001b[0m \u001b[0;34m(\u001b[0m\u001b[0mx\u001b[0m \u001b[0;34m-\u001b[0m \u001b[0mself\u001b[0m\u001b[0;34m.\u001b[0m\u001b[0mloc\u001b[0m\u001b[0;34m)\u001b[0m \u001b[0;34m/\u001b[0m \u001b[0mself\u001b[0m\u001b[0;34m.\u001b[0m\u001b[0mscale\u001b[0m\u001b[0;34m\u001b[0m\u001b[0m\n\u001b[0m\u001b[1;32m    230\u001b[0m \u001b[0;34m\u001b[0m\u001b[0m\n\u001b[1;32m    231\u001b[0m   \u001b[0;32mdef\u001b[0m \u001b[0m_inv_z\u001b[0m\u001b[0;34m(\u001b[0m\u001b[0mself\u001b[0m\u001b[0;34m,\u001b[0m \u001b[0mz\u001b[0m\u001b[0;34m)\u001b[0m\u001b[0;34m:\u001b[0m\u001b[0;34m\u001b[0m\u001b[0m\n",
      "\u001b[0;32m~/miniconda3/lib/python3.6/site-packages/tensorflow/python/ops/math_ops.py\u001b[0m in \u001b[0;36mbinary_op_wrapper\u001b[0;34m(x, y)\u001b[0m\n\u001b[1;32m    969\u001b[0m           \u001b[0;32melse\u001b[0m\u001b[0;34m:\u001b[0m\u001b[0;34m\u001b[0m\u001b[0m\n\u001b[1;32m    970\u001b[0m             \u001b[0;32mraise\u001b[0m\u001b[0;34m\u001b[0m\u001b[0m\n\u001b[0;32m--> 971\u001b[0;31m       \u001b[0;32mreturn\u001b[0m \u001b[0mfunc\u001b[0m\u001b[0;34m(\u001b[0m\u001b[0mx\u001b[0m\u001b[0;34m,\u001b[0m \u001b[0my\u001b[0m\u001b[0;34m,\u001b[0m \u001b[0mname\u001b[0m\u001b[0;34m=\u001b[0m\u001b[0mname\u001b[0m\u001b[0;34m)\u001b[0m\u001b[0;34m\u001b[0m\u001b[0m\n\u001b[0m\u001b[1;32m    972\u001b[0m \u001b[0;34m\u001b[0m\u001b[0m\n\u001b[1;32m    973\u001b[0m   \u001b[0;32mdef\u001b[0m \u001b[0mbinary_op_wrapper_sparse\u001b[0m\u001b[0;34m(\u001b[0m\u001b[0msp_x\u001b[0m\u001b[0;34m,\u001b[0m \u001b[0my\u001b[0m\u001b[0;34m)\u001b[0m\u001b[0;34m:\u001b[0m\u001b[0;34m\u001b[0m\u001b[0m\n",
      "\u001b[0;32m~/miniconda3/lib/python3.6/site-packages/tensorflow/python/ops/gen_math_ops.py\u001b[0m in \u001b[0;36msub\u001b[0;34m(x, y, name)\u001b[0m\n\u001b[1;32m   7931\u001b[0m   \u001b[0;32mif\u001b[0m \u001b[0;32mnot\u001b[0m \u001b[0m_ctx\u001b[0m\u001b[0;34m.\u001b[0m\u001b[0mexecuting_eagerly\u001b[0m\u001b[0;34m(\u001b[0m\u001b[0;34m)\u001b[0m\u001b[0;34m:\u001b[0m\u001b[0;34m\u001b[0m\u001b[0m\n\u001b[1;32m   7932\u001b[0m     _, _, _op = _op_def_lib._apply_op_helper(\n\u001b[0;32m-> 7933\u001b[0;31m         \"Sub\", x=x, y=y, name=name)\n\u001b[0m\u001b[1;32m   7934\u001b[0m     \u001b[0m_result\u001b[0m \u001b[0;34m=\u001b[0m \u001b[0m_op\u001b[0m\u001b[0;34m.\u001b[0m\u001b[0moutputs\u001b[0m\u001b[0;34m[\u001b[0m\u001b[0;34m:\u001b[0m\u001b[0;34m]\u001b[0m\u001b[0;34m\u001b[0m\u001b[0m\n\u001b[1;32m   7935\u001b[0m     \u001b[0m_inputs_flat\u001b[0m \u001b[0;34m=\u001b[0m \u001b[0m_op\u001b[0m\u001b[0;34m.\u001b[0m\u001b[0minputs\u001b[0m\u001b[0;34m\u001b[0m\u001b[0m\n",
      "\u001b[0;32m~/miniconda3/lib/python3.6/site-packages/tensorflow/python/framework/op_def_library.py\u001b[0m in \u001b[0;36m_apply_op_helper\u001b[0;34m(self, op_type_name, name, **keywords)\u001b[0m\n\u001b[1;32m    785\u001b[0m         op = g.create_op(op_type_name, inputs, output_types, name=scope,\n\u001b[1;32m    786\u001b[0m                          \u001b[0minput_types\u001b[0m\u001b[0;34m=\u001b[0m\u001b[0minput_types\u001b[0m\u001b[0;34m,\u001b[0m \u001b[0mattrs\u001b[0m\u001b[0;34m=\u001b[0m\u001b[0mattr_protos\u001b[0m\u001b[0;34m,\u001b[0m\u001b[0;34m\u001b[0m\u001b[0m\n\u001b[0;32m--> 787\u001b[0;31m                          op_def=op_def)\n\u001b[0m\u001b[1;32m    788\u001b[0m       \u001b[0;32mreturn\u001b[0m \u001b[0moutput_structure\u001b[0m\u001b[0;34m,\u001b[0m \u001b[0mop_def\u001b[0m\u001b[0;34m.\u001b[0m\u001b[0mis_stateful\u001b[0m\u001b[0;34m,\u001b[0m \u001b[0mop\u001b[0m\u001b[0;34m\u001b[0m\u001b[0m\n\u001b[1;32m    789\u001b[0m \u001b[0;34m\u001b[0m\u001b[0m\n",
      "\u001b[0;32m~/miniconda3/lib/python3.6/site-packages/tensorflow/python/framework/ops.py\u001b[0m in \u001b[0;36mcreate_op\u001b[0;34m(self, op_type, inputs, dtypes, input_types, name, attrs, op_def, compute_shapes, compute_device)\u001b[0m\n\u001b[1;32m   3290\u001b[0m           op_def=op_def)\n\u001b[1;32m   3291\u001b[0m       self._create_op_helper(ret, compute_shapes=compute_shapes,\n\u001b[0;32m-> 3292\u001b[0;31m                              compute_device=compute_device)\n\u001b[0m\u001b[1;32m   3293\u001b[0m     \u001b[0;32mreturn\u001b[0m \u001b[0mret\u001b[0m\u001b[0;34m\u001b[0m\u001b[0m\n\u001b[1;32m   3294\u001b[0m \u001b[0;34m\u001b[0m\u001b[0m\n",
      "\u001b[0;32m~/miniconda3/lib/python3.6/site-packages/tensorflow/python/framework/ops.py\u001b[0m in \u001b[0;36m_create_op_helper\u001b[0;34m(self, op, compute_shapes, compute_device)\u001b[0m\n\u001b[1;32m   3330\u001b[0m     \u001b[0;31m# compute_shapes argument.\u001b[0m\u001b[0;34m\u001b[0m\u001b[0;34m\u001b[0m\u001b[0m\n\u001b[1;32m   3331\u001b[0m     \u001b[0;32mif\u001b[0m \u001b[0mop\u001b[0m\u001b[0;34m.\u001b[0m\u001b[0m_c_op\u001b[0m \u001b[0;32mor\u001b[0m \u001b[0mcompute_shapes\u001b[0m\u001b[0;34m:\u001b[0m  \u001b[0;31m# pylint: disable=protected-access\u001b[0m\u001b[0;34m\u001b[0m\u001b[0m\n\u001b[0;32m-> 3332\u001b[0;31m       \u001b[0mset_shapes_for_outputs\u001b[0m\u001b[0;34m(\u001b[0m\u001b[0mop\u001b[0m\u001b[0;34m)\u001b[0m\u001b[0;34m\u001b[0m\u001b[0m\n\u001b[0m\u001b[1;32m   3333\u001b[0m     \u001b[0;31m# TODO(b/XXXX): move to Operation.__init__ once _USE_C_API flag is removed.\u001b[0m\u001b[0;34m\u001b[0m\u001b[0;34m\u001b[0m\u001b[0m\n\u001b[1;32m   3334\u001b[0m     \u001b[0mself\u001b[0m\u001b[0;34m.\u001b[0m\u001b[0m_add_op\u001b[0m\u001b[0;34m(\u001b[0m\u001b[0mop\u001b[0m\u001b[0;34m)\u001b[0m\u001b[0;34m\u001b[0m\u001b[0m\n",
      "\u001b[0;32m~/miniconda3/lib/python3.6/site-packages/tensorflow/python/framework/ops.py\u001b[0m in \u001b[0;36mset_shapes_for_outputs\u001b[0;34m(op)\u001b[0m\n\u001b[1;32m   2494\u001b[0m     \u001b[0;32mreturn\u001b[0m \u001b[0m_set_shapes_for_outputs_c_api\u001b[0m\u001b[0;34m(\u001b[0m\u001b[0mop\u001b[0m\u001b[0;34m)\u001b[0m\u001b[0;34m\u001b[0m\u001b[0m\n\u001b[1;32m   2495\u001b[0m   \u001b[0;32melse\u001b[0m\u001b[0;34m:\u001b[0m\u001b[0;34m\u001b[0m\u001b[0m\n\u001b[0;32m-> 2496\u001b[0;31m     \u001b[0;32mreturn\u001b[0m \u001b[0m_set_shapes_for_outputs\u001b[0m\u001b[0;34m(\u001b[0m\u001b[0mop\u001b[0m\u001b[0;34m)\u001b[0m\u001b[0;34m\u001b[0m\u001b[0m\n\u001b[0m\u001b[1;32m   2497\u001b[0m \u001b[0;34m\u001b[0m\u001b[0m\n\u001b[1;32m   2498\u001b[0m \u001b[0;34m\u001b[0m\u001b[0m\n",
      "\u001b[0;32m~/miniconda3/lib/python3.6/site-packages/tensorflow/python/framework/ops.py\u001b[0m in \u001b[0;36m_set_shapes_for_outputs\u001b[0;34m(op)\u001b[0m\n\u001b[1;32m   2467\u001b[0m       \u001b[0mshape_func\u001b[0m \u001b[0;34m=\u001b[0m \u001b[0m_call_cpp_shape_fn_and_require_op\u001b[0m\u001b[0;34m\u001b[0m\u001b[0m\n\u001b[1;32m   2468\u001b[0m \u001b[0;34m\u001b[0m\u001b[0m\n\u001b[0;32m-> 2469\u001b[0;31m   \u001b[0mshapes\u001b[0m \u001b[0;34m=\u001b[0m \u001b[0mshape_func\u001b[0m\u001b[0;34m(\u001b[0m\u001b[0mop\u001b[0m\u001b[0;34m)\u001b[0m\u001b[0;34m\u001b[0m\u001b[0m\n\u001b[0m\u001b[1;32m   2470\u001b[0m   \u001b[0;32mif\u001b[0m \u001b[0mshapes\u001b[0m \u001b[0;32mis\u001b[0m \u001b[0;32mNone\u001b[0m\u001b[0;34m:\u001b[0m\u001b[0;34m\u001b[0m\u001b[0m\n\u001b[1;32m   2471\u001b[0m     raise RuntimeError(\n",
      "\u001b[0;32m~/miniconda3/lib/python3.6/site-packages/tensorflow/python/framework/ops.py\u001b[0m in \u001b[0;36mcall_with_requiring\u001b[0;34m(op)\u001b[0m\n\u001b[1;32m   2397\u001b[0m \u001b[0;34m\u001b[0m\u001b[0m\n\u001b[1;32m   2398\u001b[0m   \u001b[0;32mdef\u001b[0m \u001b[0mcall_with_requiring\u001b[0m\u001b[0;34m(\u001b[0m\u001b[0mop\u001b[0m\u001b[0;34m)\u001b[0m\u001b[0;34m:\u001b[0m\u001b[0;34m\u001b[0m\u001b[0m\n\u001b[0;32m-> 2399\u001b[0;31m     \u001b[0;32mreturn\u001b[0m \u001b[0mcall_cpp_shape_fn\u001b[0m\u001b[0;34m(\u001b[0m\u001b[0mop\u001b[0m\u001b[0;34m,\u001b[0m \u001b[0mrequire_shape_fn\u001b[0m\u001b[0;34m=\u001b[0m\u001b[0;32mTrue\u001b[0m\u001b[0;34m)\u001b[0m\u001b[0;34m\u001b[0m\u001b[0m\n\u001b[0m\u001b[1;32m   2400\u001b[0m \u001b[0;34m\u001b[0m\u001b[0m\n\u001b[1;32m   2401\u001b[0m   \u001b[0m_call_cpp_shape_fn_and_require_op\u001b[0m \u001b[0;34m=\u001b[0m \u001b[0mcall_with_requiring\u001b[0m\u001b[0;34m\u001b[0m\u001b[0m\n",
      "\u001b[0;32m~/miniconda3/lib/python3.6/site-packages/tensorflow/python/framework/common_shapes.py\u001b[0m in \u001b[0;36mcall_cpp_shape_fn\u001b[0;34m(op, require_shape_fn)\u001b[0m\n\u001b[1;32m    625\u001b[0m     res = _call_cpp_shape_fn_impl(op, input_tensors_needed,\n\u001b[1;32m    626\u001b[0m                                   \u001b[0minput_tensors_as_shapes_needed\u001b[0m\u001b[0;34m,\u001b[0m\u001b[0;34m\u001b[0m\u001b[0m\n\u001b[0;32m--> 627\u001b[0;31m                                   require_shape_fn)\n\u001b[0m\u001b[1;32m    628\u001b[0m     \u001b[0;32mif\u001b[0m \u001b[0;32mnot\u001b[0m \u001b[0misinstance\u001b[0m\u001b[0;34m(\u001b[0m\u001b[0mres\u001b[0m\u001b[0;34m,\u001b[0m \u001b[0mdict\u001b[0m\u001b[0;34m)\u001b[0m\u001b[0;34m:\u001b[0m\u001b[0;34m\u001b[0m\u001b[0m\n\u001b[1;32m    629\u001b[0m       \u001b[0;31m# Handles the case where _call_cpp_shape_fn_impl calls unknown_shape(op).\u001b[0m\u001b[0;34m\u001b[0m\u001b[0;34m\u001b[0m\u001b[0m\n",
      "\u001b[0;32m~/miniconda3/lib/python3.6/site-packages/tensorflow/python/framework/common_shapes.py\u001b[0m in \u001b[0;36m_call_cpp_shape_fn_impl\u001b[0;34m(op, input_tensors_needed, input_tensors_as_shapes_needed, require_shape_fn)\u001b[0m\n\u001b[1;32m    689\u001b[0m       \u001b[0mmissing_shape_fn\u001b[0m \u001b[0;34m=\u001b[0m \u001b[0;32mTrue\u001b[0m\u001b[0;34m\u001b[0m\u001b[0m\n\u001b[1;32m    690\u001b[0m     \u001b[0;32melse\u001b[0m\u001b[0;34m:\u001b[0m\u001b[0;34m\u001b[0m\u001b[0m\n\u001b[0;32m--> 691\u001b[0;31m       \u001b[0;32mraise\u001b[0m \u001b[0mValueError\u001b[0m\u001b[0;34m(\u001b[0m\u001b[0merr\u001b[0m\u001b[0;34m.\u001b[0m\u001b[0mmessage\u001b[0m\u001b[0;34m)\u001b[0m\u001b[0;34m\u001b[0m\u001b[0m\n\u001b[0m\u001b[1;32m    692\u001b[0m \u001b[0;34m\u001b[0m\u001b[0m\n\u001b[1;32m    693\u001b[0m   \u001b[0;32mif\u001b[0m \u001b[0mmissing_shape_fn\u001b[0m\u001b[0;34m:\u001b[0m\u001b[0;34m\u001b[0m\u001b[0m\n",
      "\u001b[0;31mValueError\u001b[0m: Dimensions must be equal, but are 2 and 100 for 'Normal_24/log_prob/standardize/sub' (op: 'Sub') with input shapes: [10,100,2,3], [10,1,100,3]."
     ]
    }
   ],
   "source": [
    "K =2\n",
    "\n",
    "# Calculate likelihood for each data point and cluster assignment,\n",
    "# averaged over many posterior samples. ``x_post`` has shape (N, 100, K, D).\n",
    "mu_sample = qblue_mu.sample(100)\n",
    "sigmasq_sample = qblue_sigmasq.sample(100)\n",
    "x_post = Normal(loc=tf.ones([N, 1, 1, 1]) * mu_sample,\n",
    "                scale=tf.ones([N, 1, 1, 1]) * tf.sqrt(sigmasq_sample))\n",
    "x_broadcasted = tf.tile(tf.reshape(test_data, [N, 1, 1, D]), [1, 100, K, 1])\n",
    "\n",
    "# Sum over latent dimension, then average over posterior samples.\n",
    "# ``log_liks`` ends up with shape (N, K).\n",
    "log_liks = x_post.log_prob(x_broadcasted)\n",
    "print(log_liks)\n",
    "log_liks = tf.reduce_sum(log_liks, 3)\n",
    "print(log_liks)\n",
    "log_liks = tf.reduce_mean(log_liks, 1)\n",
    "print(log_liks)"
   ]
  },
  {
   "cell_type": "code",
   "execution_count": 15,
   "metadata": {},
   "outputs": [],
   "source": [
    "clusters = tf.argmax(log_liks, 1).eval()"
   ]
  },
  {
   "cell_type": "code",
   "execution_count": 16,
   "metadata": {},
   "outputs": [
    {
     "data": {
      "text/plain": [
       "array([0, 0, 0, 0, 0, 0, 1, 1, 1, 0])"
      ]
     },
     "execution_count": 16,
     "metadata": {},
     "output_type": "execute_result"
    }
   ],
   "source": [
    "clusters"
   ]
  },
  {
   "cell_type": "code",
   "execution_count": 89,
   "metadata": {},
   "outputs": [
    {
     "data": {
      "text/plain": [
       "{'o0': ('red', (0.914986812838154, 0.04768381869734166, 0.13940673560014546)),\n",
       " 'o1': ('red', (0.9183117399685538, 0.04577914562189836, 0.08039923349084321)),\n",
       " 'o2': ('green',\n",
       "  (0.017157724938090774, 0.9860630727959023, 0.10359268884083693)),\n",
       " 'o3': ('green',\n",
       "  (0.030830183424031394, 0.7999230658755758, 0.006652133607921081)),\n",
       " 'o4': ('blue',\n",
       "  (0.005144165464646138, 0.018402393090976205, 0.9553083359819575)),\n",
       " 'o5': ('blue',\n",
       "  (0.13499377025468182, 0.08355208226296003, 0.9178510538905872)),\n",
       " 'o6': ('yellow',\n",
       "  (0.8904197187327919, 0.9907481920038579, 0.14510569230717094)),\n",
       " 'o7': ('yellow',\n",
       "  (0.9151102902265296, 0.9544271428295218, 0.026391186438515537))}"
      ]
     },
     "execution_count": 89,
     "metadata": {},
     "output_type": "execute_result"
    }
   ],
   "source": [
    "objs"
   ]
  },
  {
   "cell_type": "code",
   "execution_count": 4,
   "metadata": {},
   "outputs": [],
   "source": []
  },
  {
   "cell_type": "code",
   "execution_count": 12,
   "metadata": {},
   "outputs": [],
   "source": []
  },
  {
   "cell_type": "code",
   "execution_count": 97,
   "metadata": {},
   "outputs": [
    {
     "data": {
      "text/plain": [
       "'no correction'"
      ]
     },
     "execution_count": 97,
     "metadata": {},
     "output_type": "execute_result"
    }
   ],
   "source": [
    "check_rule(objs['o7'], objs['o4'])"
   ]
  },
  {
   "cell_type": "code",
   "execution_count": 5,
   "metadata": {},
   "outputs": [],
   "source": []
  },
  {
   "cell_type": "code",
   "execution_count": 3,
   "metadata": {},
   "outputs": [
    {
     "ename": "NameError",
     "evalue": "name 'my_sample' is not defined",
     "output_type": "error",
     "traceback": [
      "\u001b[0;31m---------------------------------------------------------------------------\u001b[0m",
      "\u001b[0;31mNameError\u001b[0m                                 Traceback (most recent call last)",
      "\u001b[0;32m<ipython-input-3-ec7892c309a1>\u001b[0m in \u001b[0;36m<module>\u001b[0;34m()\u001b[0m\n\u001b[0;32m----> 1\u001b[0;31m \u001b[0mc_data\u001b[0m\u001b[0;34m,\u001b[0m \u001b[0mred_data\u001b[0m\u001b[0;34m,\u001b[0m \u001b[0mblue_data\u001b[0m \u001b[0;34m=\u001b[0m \u001b[0mmy_sample\u001b[0m\u001b[0;34m(\u001b[0m\u001b[0mobjs\u001b[0m\u001b[0;34m)\u001b[0m\u001b[0;34m\u001b[0m\u001b[0m\n\u001b[0m\u001b[1;32m      2\u001b[0m \u001b[0mc_data\u001b[0m\u001b[0;34m\u001b[0m\u001b[0m\n",
      "\u001b[0;31mNameError\u001b[0m: name 'my_sample' is not defined"
     ]
    }
   ],
   "source": [
    "c_data, red_data, blue_data = my_sample(objs)\n",
    "c_data"
   ]
  },
  {
   "cell_type": "code",
   "execution_count": 6,
   "metadata": {},
   "outputs": [],
   "source": []
  },
  {
   "cell_type": "code",
   "execution_count": 14,
   "metadata": {},
   "outputs": [
    {
     "data": {
      "text/plain": [
       "[1, 1, 0, 0, 0, 1, 0, 1, 0, 0]"
      ]
     },
     "execution_count": 14,
     "metadata": {},
     "output_type": "execute_result"
    }
   ],
   "source": []
  },
  {
   "cell_type": "code",
   "execution_count": 127,
   "metadata": {},
   "outputs": [
    {
     "data": {
      "text/plain": [
       "[0, 0, 0, 0, 1, 0, 0, 0, 0, 0]"
      ]
     },
     "execution_count": 127,
     "metadata": {},
     "output_type": "execute_result"
    }
   ],
   "source": [
    "colours"
   ]
  },
  {
   "cell_type": "code",
   "execution_count": null,
   "metadata": {},
   "outputs": [],
   "source": []
  }
 ],
 "metadata": {
  "kernelspec": {
   "display_name": "Python 3",
   "language": "python",
   "name": "python3"
  },
  "language_info": {
   "codemirror_mode": {
    "name": "ipython",
    "version": 3
   },
   "file_extension": ".py",
   "mimetype": "text/x-python",
   "name": "python",
   "nbconvert_exporter": "python",
   "pygments_lexer": "ipython3",
   "version": "3.6.3"
  }
 },
 "nbformat": 4,
 "nbformat_minor": 2
}

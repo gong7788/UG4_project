{
 "cells": [
  {
   "cell_type": "code",
   "execution_count": 1,
   "metadata": {},
   "outputs": [],
   "source": [
    "import ortools"
   ]
  },
  {
   "cell_type": "code",
   "execution_count": 2,
   "metadata": {},
   "outputs": [],
   "source": [
    "from ortools.linear_solver import pywraplp\n",
    "\n",
    "\n",
    "# Instantiate a mixed-integer solver, naming it SolveIntegerProblem.\n",
    "solver = pywraplp.Solver('SolveIntegerProblem',\n",
    "                       pywraplp.Solver.CBC_MIXED_INTEGER_PROGRAMMING)"
   ]
  },
  {
   "cell_type": "code",
   "execution_count": 3,
   "metadata": {},
   "outputs": [],
   "source": [
    "result_status = solver.Solve()"
   ]
  },
  {
   "cell_type": "code",
   "execution_count": 4,
   "metadata": {},
   "outputs": [],
   "source": [
    "x = solver.IntVar(0.0, 1.0, 'x') # red(x)\n",
    "y = solver.IntVar(0.0, 1.0, 'y') # red(y)\n",
    "z = solver.IntVar(0.0, 1.0, 'z') # blue(x)\n",
    "w = solver.IntVar(0.0, 1.0, 'w') # blue(y)\n",
    "xx = solver.IntVar(0.0, 1.0, 'xx') # red(x)\n",
    "yy = solver.IntVar(0.0, 1.0, 'yy') # red(y)\n",
    "zz = solver.IntVar(0.0, 1.0, 'zz') # blue(x)\n",
    "ww = solver.IntVar(0.0, 1.0, 'ww') # blue(y)\n",
    "px = 0.5\n",
    "py = 0.6\n",
    "pz = 0.3\n",
    "pw = 0.3"
   ]
  },
  {
   "cell_type": "code",
   "execution_count": 5,
   "metadata": {},
   "outputs": [],
   "source": [
    "constraintx = solver.Constraint(1., 1.)\n",
    "constraintx.SetCoefficient(x, 1)\n",
    "constraintx.SetCoefficient(xx, 1)\n",
    "\n",
    "constrainty = solver.Constraint(1., 1.)\n",
    "constrainty.SetCoefficient(y, 1)\n",
    "constrainty.SetCoefficient(yy, 1)\n",
    "\n",
    "constraintz = solver.Constraint(1., 1.)\n",
    "constraintz.SetCoefficient(z, 1)\n",
    "constraintz.SetCoefficient(zz, 1)\n",
    "\n",
    "constraintw = solver.Constraint(1., 1.)\n",
    "constraintw.SetCoefficient(w, 1)\n",
    "constraintw.SetCoefficient(ww, 1)"
   ]
  },
  {
   "cell_type": "code",
   "execution_count": 6,
   "metadata": {},
   "outputs": [],
   "source": [
    "# nr of red blocks >= nr of blue blocks\n",
    "# == 0 >= nr blue - nr red == nr blue - nr red <= 0\n",
    "constraint1 = solver.Constraint(-solver.infinity(), 0.0)\n",
    "constraint1.SetCoefficient(x, -1)\n",
    "constraint1.SetCoefficient(y, -1)\n",
    "constraint1.SetCoefficient(z, 1)\n",
    "constraint1.SetCoefficient(w, 1)\n",
    "\n",
    "# x <= 3.5\n",
    "#constraint2 = solver.Constraint(-solver.infinity(), 3.5)\n",
    "#constraint2.SetCoefficient(x, 1)\n",
    "#constraint2.SetCoefficient(y, 0)"
   ]
  },
  {
   "cell_type": "code",
   "execution_count": 7,
   "metadata": {},
   "outputs": [],
   "source": [
    "# Maximise probability of the event\n",
    "# Maximize x + 10 * y.\n",
    "objective = solver.Objective()\n",
    "objective.SetCoefficient(x, px)\n",
    "objective.SetCoefficient(y, py)\n",
    "objective.SetCoefficient(z, pz)\n",
    "objective.SetCoefficient(w, pw)\n",
    "objective = solver.Objective()\n",
    "objective.SetCoefficient(xx, (1-px))\n",
    "objective.SetCoefficient(yy, (1-py))\n",
    "objective.SetCoefficient(zz, (1-pz))\n",
    "objective.SetCoefficient(ww, (1-pw))\n",
    "objective.SetMaximization()"
   ]
  },
  {
   "cell_type": "code",
   "execution_count": 8,
   "metadata": {},
   "outputs": [
    {
     "name": "stdout",
     "output_type": "stream",
     "text": [
      "Number of variables = 8\n",
      "Number of constraints = 5\n",
      "Optimal objective value = 2\n",
      "\n",
      "x = 1\n",
      "y = 1\n",
      "z = 0\n",
      "w = 0\n",
      "xx = 0\n",
      "yy = 0\n",
      "zz = 1\n",
      "ww = 1\n"
     ]
    }
   ],
   "source": [
    "result_status = solver.Solve()\n",
    "# The problem has an optimal solution.\n",
    "assert result_status == pywraplp.Solver.OPTIMAL\n",
    "\n",
    "# The solution looks legit (when using solvers other than\n",
    "# GLOP_LINEAR_PROGRAMMING, verifying the solution is highly recommended!).\n",
    "assert solver.VerifySolution(1e-7, True)\n",
    "\n",
    "print('Number of variables =', solver.NumVariables())\n",
    "print('Number of constraints =', solver.NumConstraints())\n",
    "\n",
    "# The objective value of the solution.\n",
    "print('Optimal objective value = %d' % solver.Objective().Value())\n",
    "print()\n",
    "# The value of each variable in the solution.\n",
    "variable_list = [x, y, z, w, xx, yy, zz, ww]\n",
    "\n",
    "for variable in variable_list:\n",
    "    print('%s = %d' % (variable.name(), variable.solution_value()))"
   ]
  },
  {
   "cell_type": "markdown",
   "metadata": {},
   "source": [
    "How do we ensure, through a linear constraint, that the difference in the number of blue blocks and red block will not simply be equivalent to the same block being both red and blue\n",
    "\n",
    "We could say that all blocks within the same rule should be different. But this is not great.\n",
    "We could get all solutions, not just the best solution. Or is there a get top x solutions option?"
   ]
  },
  {
   "cell_type": "code",
   "execution_count": 14,
   "metadata": {},
   "outputs": [
    {
     "name": "stdout",
     "output_type": "stream",
     "text": [
      "Objective value: 23\n",
      "\n",
      "x=  3\n",
      "y=  2\n"
     ]
    }
   ],
   "source": [
    "from __future__ import print_function\n",
    "from ortools.constraint_solver import pywrapcp\n",
    "from ortools.constraint_solver import solver_parameters_pb2\n",
    "\n",
    "def main():\n",
    "    # Instantiate a CP solver.\n",
    "    parameters = pywrapcp.Solver.DefaultSolverParameters()\n",
    "    solver = pywrapcp.Solver(\"simple_CP\", parameters)\n",
    "\n",
    "    # x and y are integer non-negative variables.\n",
    "    x = solver.IntVar(0, 17, 'x')\n",
    "    y = solver.IntVar(0, 17, 'y')\n",
    "    solver.Add(2*x + (1-x)*2 + 14*y <= 35) # Notice how this allows x and (1-x) in the same constraint\n",
    "    solver.Add(2*x  <= 7)\n",
    "    obj_expr = solver.IntVar(0, 1000, \"obj_expr\")\n",
    "    solver.Add(obj_expr == x + 10*y)\n",
    "    objective = solver.Maximize(obj_expr, 1)\n",
    "    decision_builder = solver.Phase([x, y],\n",
    "                                  solver.CHOOSE_FIRST_UNBOUND,\n",
    "                                  solver.ASSIGN_MIN_VALUE)\n",
    "    # Create a solution collector.\n",
    "    collector = solver.LastSolutionCollector()\n",
    "    # Add the decision variables.\n",
    "    collector.Add(x)\n",
    "    collector.Add(y)\n",
    "    # Add the objective.\n",
    "    collector.AddObjective(obj_expr)\n",
    "    solver.Solve(decision_builder, [objective, collector])\n",
    "    if collector.SolutionCount() > 0:\n",
    "        best_solution = collector.SolutionCount() - 1\n",
    "        print(\"Objective value:\", collector.ObjectiveValue(best_solution))\n",
    "        print()\n",
    "        print('x= ', collector.Value(best_solution, x))\n",
    "        print('y= ', collector.Value(best_solution, y))\n",
    "\n",
    "if __name__ == '__main__':\n",
    "    main()"
   ]
  },
  {
   "cell_type": "code",
   "execution_count": null,
   "metadata": {},
   "outputs": [],
   "source": []
  }
 ],
 "metadata": {
  "kernelspec": {
   "display_name": "Python 3",
   "language": "python",
   "name": "python3"
  },
  "language_info": {
   "codemirror_mode": {
    "name": "ipython",
    "version": 3
   },
   "file_extension": ".py",
   "mimetype": "text/x-python",
   "name": "python",
   "nbconvert_exporter": "python",
   "pygments_lexer": "ipython3",
   "version": "3.6.3"
  }
 },
 "nbformat": 4,
 "nbformat_minor": 2
}

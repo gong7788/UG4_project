{
 "cells": [
  {
   "cell_type": "code",
   "execution_count": 1,
   "metadata": {},
   "outputs": [],
   "source": [
    "import world"
   ]
  },
  {
   "cell_type": "code",
   "execution_count": 2,
   "metadata": {},
   "outputs": [
    {
     "name": "stdout",
     "output_type": "stream",
     "text": [
      "Parsing domain blocks-domain.pddl\n",
      "Parsing problem blocks_problem_colour1.pddl\n"
     ]
    }
   ],
   "source": [
    "\n",
    "\n",
    "w = world.PDDLWorld('blocks-domain.pddl', 'blocks_problem_colour1.pddl')"
   ]
  },
  {
   "cell_type": "code",
   "execution_count": 3,
   "metadata": {},
   "outputs": [],
   "source": [
    "actions = w.get_actions()"
   ]
  },
  {
   "cell_type": "code",
   "execution_count": 4,
   "metadata": {},
   "outputs": [
    {
     "data": {
      "image/png": "[encoded data removed]",
      "text/plain": [
       "<Figure size 432x288 with 1 Axes>"
      ]
     },
     "metadata": {},
     "output_type": "display_data"
    }
   ],
   "source": [
    "w.draw()"
   ]
  },
  {
   "cell_type": "code",
   "execution_count": 5,
   "metadata": {},
   "outputs": [
    {
     "data": {
      "text/plain": [
       "['b1', 'b2', 'b3', 'b4', 'b5']"
      ]
     },
     "execution_count": 5,
     "metadata": {},
     "output_type": "execute_result"
    }
   ],
   "source": [
    "w.objects"
   ]
  },
  {
   "cell_type": "code",
   "execution_count": 6,
   "metadata": {},
   "outputs": [],
   "source": [
    "put = actions[0]"
   ]
  },
  {
   "cell_type": "code",
   "execution_count": 7,
   "metadata": {},
   "outputs": [],
   "source": [
    "w.update(put, ['b1', 'b2'])"
   ]
  },
  {
   "cell_type": "code",
   "execution_count": 8,
   "metadata": {},
   "outputs": [
    {
     "data": {
      "image/png": "[encoded data removed]",
      "text/plain": [
       "<Figure size 432x288 with 1 Axes>"
      ]
     },
     "metadata": {},
     "output_type": "display_data"
    }
   ],
   "source": [
    "w.draw()"
   ]
  },
  {
   "cell_type": "code",
   "execution_count": 9,
   "metadata": {},
   "outputs": [],
   "source": [
    "w.update(put, ['b3', 'b1'])"
   ]
  },
  {
   "cell_type": "code",
   "execution_count": 10,
   "metadata": {},
   "outputs": [
    {
     "data": {
      "image/png": "[encoded data removed]",
      "text/plain": [
       "<Figure size 432x288 with 1 Axes>"
      ]
     },
     "metadata": {},
     "output_type": "display_data"
    }
   ],
   "source": [
    "w.draw()"
   ]
  },
  {
   "cell_type": "code",
   "execution_count": 11,
   "metadata": {},
   "outputs": [
    {
     "data": {
      "text/plain": [
       "Observation(objects=['b1', 'b2', 'b3', 'b4', 'b5'], colours={'b1': (0.0025201302197698024, 0.021902082793080847, 0.888140573459398), 'b2': (0.13042408926864948, 0.8481247367089503, 0.0646679039350042), 'b3': (0.9689770292120052, 0.07239506859731201, 0.05080866848494976), 'b4': (0.9412352273940314, 0.9502897780881084, 0.0068002736755753725), 'b5': (0.9724772621602911, 0.056280561943784516, 0.1312518937844653)}, relations={'b1': {'on': <pythonpddl2.pddl.Predicate object at 0x7ff932e34ba8>, 'in-tower': <pythonpddl2.pddl.Predicate object at 0x7ff932e34b00>}, 'b2': {'on-table': <pythonpddl2.pddl.Predicate object at 0x7ff932e6d898>, 'on': <pythonpddl2.pddl.Predicate object at 0x7ff932e348d0>}, 'b3': {'clear': <pythonpddl2.pddl.Predicate object at 0x7ff932e23400>, 'on': <pythonpddl2.pddl.Predicate object at 0x7ff932e34ba8>, 'in-tower': <pythonpddl2.pddl.Predicate object at 0x7ff932e34e10>}, 'b4': {'on-table': <pythonpddl2.pddl.Predicate object at 0x7ff932e19e48>, 'clear': <pythonpddl2.pddl.Predicate object at 0x7ff932e23630>, 'in-tower': <pythonpddl2.pddl.Predicate object at 0x7ff932e341d0>}, 'b5': {'on-table': <pythonpddl2.pddl.Predicate object at 0x7ff932e23ba8>, 'clear': <pythonpddl2.pddl.Predicate object at 0x7ff932e9d400>}})"
      ]
     },
     "execution_count": 11,
     "metadata": {},
     "output_type": "execute_result"
    }
   ],
   "source": [
    "w.sense()"
   ]
  },
  {
   "cell_type": "code",
   "execution_count": 12,
   "metadata": {},
   "outputs": [
    {
     "name": "stdout",
     "output_type": "stream",
     "text": [
      "(on-table b2)\n",
      "(on-table b4)\n",
      "(on-table b5)\n",
      "(clear b3)\n",
      "(clear b4)\n",
      "(clear b5)\n",
      "(arm-empty )\n",
      "(blue b1)\n",
      "(red b3)\n",
      "(in-tower b4)\n",
      "(green b2)\n",
      "(yellow b4)\n",
      "(red b5)\n",
      "(on b1 b2)\n",
      "(in-tower b1)\n",
      "(on b3 b1)\n",
      "(in-tower b3)\n"
     ]
    }
   ],
   "source": [
    "for s in w.state:\n",
    "    print(s.asPDDL())"
   ]
  },
  {
   "cell_type": "code",
   "execution_count": 13,
   "metadata": {},
   "outputs": [],
   "source": [
    "p = w.problem"
   ]
  },
  {
   "cell_type": "code",
   "execution_count": 14,
   "metadata": {},
   "outputs": [
    {
     "name": "stdout",
     "output_type": "stream",
     "text": [
      "(define (problem blocks-1)\n",
      "\t(:domain blocksworld)\n",
      "\t(:objects b1 b2 b3 b4 b5)\n",
      "\t(:init \n",
      "\t\t(on-table b2)\n",
      "\t\t(on-table b4)\n",
      "\t\t(on-table b5)\n",
      "\t\t(clear b3)\n",
      "\t\t(clear b4)\n",
      "\t\t(clear b5)\n",
      "\t\t(arm-empty )\n",
      "\t\t(blue b1)\n",
      "\t\t(red b3)\n",
      "\t\t(in-tower b4)\n",
      "\t\t(green b2)\n",
      "\t\t(yellow b4)\n",
      "\t\t(red b5)\n",
      "\t\t(on b1 b2)\n",
      "\t\t(in-tower b1)\n",
      "\t\t(on b3 b1)\n",
      "\t\t(in-tower b3)\n",
      "\t)\n",
      "\t(:goal (and (forall (?x) (in-tower ?x)) (forall (?x ?y) (or (not (and (blue ?x) (red ?y))) (on ?x ?y)))))\n",
      ")\n"
     ]
    }
   ],
   "source": [
    "p.initialstate = w.state\n",
    "print(p.asPDDL())"
   ]
  },
  {
   "cell_type": "code",
   "execution_count": 4,
   "metadata": {},
   "outputs": [],
   "source": [
    "import pddl_functions"
   ]
  },
  {
   "cell_type": "code",
   "execution_count": 18,
   "metadata": {},
   "outputs": [
    {
     "name": "stdout",
     "output_type": "stream",
     "text": [
      "(on-table b2)\n",
      "(on-table b4)\n",
      "(on-table b5)\n",
      "(clear b3)\n",
      "(clear b4)\n",
      "(clear b5)\n",
      "(arm-empty )\n",
      "(in-tower b4)\n",
      "(on b1 b2)\n",
      "(in-tower b1)\n",
      "(on b3 b1)\n",
      "(in-tower b3)\n"
     ]
    }
   ],
   "source": [
    "for f in pddl_functions.obscure_state(w.state):\n",
    "    print(f.asPDDL())"
   ]
  },
  {
   "cell_type": "code",
   "execution_count": 17,
   "metadata": {},
   "outputs": [
    {
     "data": {
      "text/plain": [
       "['on-table',\n",
       " 'on-table',\n",
       " 'on-table',\n",
       " 'clear',\n",
       " 'clear',\n",
       " 'clear',\n",
       " 'arm-empty',\n",
       " 'blue',\n",
       " 'red',\n",
       " 'in-tower',\n",
       " 'green',\n",
       " 'yellow',\n",
       " 'red',\n",
       " 'on',\n",
       " 'in-tower',\n",
       " 'on',\n",
       " 'in-tower']"
      ]
     },
     "execution_count": 17,
     "metadata": {},
     "output_type": "execute_result"
    }
   ],
   "source": [
    "[p.get_predicates(1)[0].name for p in w.state]"
   ]
  },
  {
   "cell_type": "code",
   "execution_count": 8,
   "metadata": {},
   "outputs": [],
   "source": [
    "problem = w.problem"
   ]
  },
  {
   "cell_type": "code",
   "execution_count": 22,
   "metadata": {},
   "outputs": [
    {
     "name": "stdout",
     "output_type": "stream",
     "text": [
      "(define (problem blocks-1)\n",
      "\t(:domain blocksworld)\n",
      "\t(:objects b1 b2 b3 b4 b5)\n",
      "\t(:init \n",
      "\t\t(on-table b2)\n",
      "\t\t(on-table b4)\n",
      "\t\t(on-table b5)\n",
      "\t\t(clear b3)\n",
      "\t\t(clear b4)\n",
      "\t\t(clear b5)\n",
      "\t\t(arm-empty )\n",
      "\t\t(blue b1)\n",
      "\t\t(red b3)\n",
      "\t\t(in-tower b4)\n",
      "\t\t(green b2)\n",
      "\t\t(yellow b4)\n",
      "\t\t(red b5)\n",
      "\t\t(on b1 b2)\n",
      "\t\t(in-tower b1)\n",
      "\t\t(on b3 b1)\n",
      "\t\t(in-tower b3)\n",
      "\t)\n",
      "\t(:goal (and (forall (?x) (in-tower ?x)) (forall (?x ?y) (or (not (and (blue ?x) (red ?y))) (on ?x ?y)))))\n",
      ")\n"
     ]
    }
   ],
   "source": [
    "print(problem.asPDDL())"
   ]
  },
  {
   "cell_type": "code",
   "execution_count": 6,
   "metadata": {},
   "outputs": [],
   "source": [
    "obscured_state = pddl_functions.obscure_state(w.state)"
   ]
  },
  {
   "cell_type": "code",
   "execution_count": 9,
   "metadata": {},
   "outputs": [],
   "source": [
    "problem.initialstate = obscured_state"
   ]
  },
  {
   "cell_type": "code",
   "execution_count": 10,
   "metadata": {},
   "outputs": [
    {
     "name": "stdout",
     "output_type": "stream",
     "text": [
      "(define (problem blocks-1)\n",
      "\t(:domain blocksworld)\n",
      "\t(:objects b1 b2 b3 b4 b5)\n",
      "\t(:init \n",
      "\t\t(on-table b1)\n",
      "\t\t(on-table b2)\n",
      "\t\t(on-table b3)\n",
      "\t\t(on-table b4)\n",
      "\t\t(on-table b5)\n",
      "\t\t(clear b1)\n",
      "\t\t(clear b2)\n",
      "\t\t(clear b3)\n",
      "\t\t(clear b4)\n",
      "\t\t(clear b5)\n",
      "\t\t(arm-empty )\n",
      "\t\t(in-tower b4)\n",
      "\t)\n",
      "\t(:goal (and (forall (?x) (in-tower ?x)) (forall (?x ?y) (or (not (and (blue ?x) (red ?y))) (on ?x ?y)))))\n",
      ")\n"
     ]
    }
   ],
   "source": [
    "print(problem.asPDDL())"
   ]
  },
  {
   "cell_type": "code",
   "execution_count": 14,
   "metadata": {},
   "outputs": [
    {
     "name": "stdout",
     "output_type": "stream",
     "text": [
      "(define (problem blocks-1)\n",
      "\t(:domain blocksworld)\n",
      "\t(:objects b1 b2 b3 b4 b5)\n",
      "\t(:init \n",
      "\t\t(on-table b1)\n",
      "\t\t(on-table b2)\n",
      "\t\t(on-table b3)\n",
      "\t\t(on-table b4)\n",
      "\t\t(on-table b5)\n",
      "\t\t(clear b1)\n",
      "\t\t(clear b2)\n",
      "\t\t(clear b3)\n",
      "\t\t(clear b4)\n",
      "\t\t(clear b5)\n",
      "\t\t(arm-empty )\n",
      "\t\t(in-tower b4)\n",
      "\t)\n",
      "\t(:goal (forall (?x) (in-tower ?x)))\n",
      ")\n"
     ]
    }
   ],
   "source": [
    "print(problem.asPDDL())"
   ]
  },
  {
   "cell_type": "code",
   "execution_count": 13,
   "metadata": {},
   "outputs": [],
   "source": [
    "with open('tmp.pddl', 'w') as f:\n",
    "    f.write(problem.asPDDL())"
   ]
  },
  {
   "cell_type": "code",
   "execution_count": 11,
   "metadata": {},
   "outputs": [],
   "source": [
    "import ff"
   ]
  },
  {
   "cell_type": "code",
   "execution_count": 15,
   "metadata": {},
   "outputs": [
    {
     "data": {
      "text/plain": [
       "[('put', ['b5', 'b4']),\n",
       " ('put', ['b3', 'b5']),\n",
       " ('put', ['b2', 'b3']),\n",
       " ('put', ['b1', 'b2'])]"
      ]
     },
     "execution_count": 15,
     "metadata": {},
     "output_type": "execute_result"
    }
   ],
   "source": [
    "ff.run('blocks-domain.pddl', 'tmp.pddl')"
   ]
  },
  {
   "cell_type": "code",
   "execution_count": 49,
   "metadata": {},
   "outputs": [
    {
     "data": {
      "text/plain": [
       "'(in-tower ?x)'"
      ]
     },
     "execution_count": 49,
     "metadata": {},
     "output_type": "execute_result"
    }
   ],
   "source": [
    "problem.goal.subformulas[0].asPDDL()"
   ]
  },
  {
   "cell_type": "code",
   "execution_count": 12,
   "metadata": {},
   "outputs": [],
   "source": [
    "problem.goal = problem.goal.subformulas[0]"
   ]
  },
  {
   "cell_type": "code",
   "execution_count": 50,
   "metadata": {},
   "outputs": [
    {
     "data": {
      "text/plain": [
       "<pythonpddl2.pddl.Formula at 0x7ff934f0c358>"
      ]
     },
     "execution_count": 50,
     "metadata": {},
     "output_type": "execute_result"
    }
   ],
   "source": [
    "problem.goal"
   ]
  },
  {
   "cell_type": "code",
   "execution_count": null,
   "metadata": {},
   "outputs": [],
   "source": []
  }
 ],
 "metadata": {
  "kernelspec": {
   "display_name": "Python 3",
   "language": "python",
   "name": "python3"
  },
  "language_info": {
   "codemirror_mode": {
    "name": "ipython",
    "version": 3
   },
   "file_extension": ".py",
   "mimetype": "text/x-python",
   "name": "python",
   "nbconvert_exporter": "python",
   "pygments_lexer": "ipython3",
   "version": "3.6.3"
  }
 },
 "nbformat": 4,
 "nbformat_minor": 2
}

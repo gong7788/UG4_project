{
 "cells": [
  {
   "cell_type": "code",
   "execution_count": 3,
   "metadata": {},
   "outputs": [],
   "source": [
    "from experiment_tracking import read_experiments, get_results_file, get_baseline, load_experiments\n",
    "from evaluation import Experiment, ResultsFile\n",
    "import configparser\n",
    "%matplotlib inline"
   ]
  },
  {
   "cell_type": "code",
   "execution_count": 2,
   "metadata": {},
   "outputs": [
    {
     "data": {
      "text/html": [
       "<div>\n",
       "<style scoped>\n",
       "    .dataframe tbody tr th:only-of-type {\n",
       "        vertical-align: middle;\n",
       "    }\n",
       "\n",
       "    .dataframe tbody tr th {\n",
       "        vertical-align: top;\n",
       "    }\n",
       "\n",
       "    .dataframe thead th {\n",
       "        text-align: right;\n",
       "    }\n",
       "</style>\n",
       "<table border=\"1\" class=\"dataframe\">\n",
       "  <thead>\n",
       "    <tr style=\"text-align: right;\">\n",
       "      <th></th>\n",
       "      <th>config_name</th>\n",
       "      <th>experiment_file</th>\n",
       "      <th>neural_config</th>\n",
       "      <th>status</th>\n",
       "    </tr>\n",
       "    <tr>\n",
       "      <th>index</th>\n",
       "      <th></th>\n",
       "      <th></th>\n",
       "      <th></th>\n",
       "      <th></th>\n",
       "    </tr>\n",
       "  </thead>\n",
       "  <tbody>\n",
       "    <tr>\n",
       "      <th>0</th>\n",
       "      <td>None</td>\n",
       "      <td>None</td>\n",
       "      <td>None</td>\n",
       "      <td>None</td>\n",
       "    </tr>\n",
       "    <tr>\n",
       "      <th>1</th>\n",
       "      <td>simple_neural</td>\n",
       "      <td>results/simplecolours/agents.NeuralCorrectingA...</td>\n",
       "      <td>DEFAULT</td>\n",
       "      <td>done</td>\n",
       "    </tr>\n",
       "    <tr>\n",
       "      <th>2</th>\n",
       "      <td>neural_onerule5000</td>\n",
       "      <td>results/onerule5000/agents.NeuralCorrectingAge...</td>\n",
       "      <td>adam_lr:0.1</td>\n",
       "      <td>done</td>\n",
       "    </tr>\n",
       "    <tr>\n",
       "      <th>3</th>\n",
       "      <td>neural_onerule5000</td>\n",
       "      <td>results/onerule5000/agents.NeuralCorrectingAge...</td>\n",
       "      <td>adam_lr:1</td>\n",
       "      <td>done</td>\n",
       "    </tr>\n",
       "    <tr>\n",
       "      <th>4</th>\n",
       "      <td>neural_onerule5000</td>\n",
       "      <td>results/onerule5000/agents.NeuralCorrectingAge...</td>\n",
       "      <td>nesterov_lr:0.1mom:0</td>\n",
       "      <td>done</td>\n",
       "    </tr>\n",
       "    <tr>\n",
       "      <th>5</th>\n",
       "      <td>neural_onerule5000</td>\n",
       "      <td>results/onerule5000/agents.NeuralCorrectingAge...</td>\n",
       "      <td>nesterov_lr:0.1mom:0.4</td>\n",
       "      <td>done</td>\n",
       "    </tr>\n",
       "    <tr>\n",
       "      <th>6</th>\n",
       "      <td>tworules</td>\n",
       "      <td>results/tworules/agents.CorrectingAgent/0.7/ex...</td>\n",
       "      <td>None</td>\n",
       "      <td>done</td>\n",
       "    </tr>\n",
       "  </tbody>\n",
       "</table>\n",
       "</div>"
      ],
      "text/plain": [
       "              config_name                                    experiment_file  \\\n",
       "index                                                                          \n",
       "0                    None                                               None   \n",
       "1           simple_neural  results/simplecolours/agents.NeuralCorrectingA...   \n",
       "2      neural_onerule5000  results/onerule5000/agents.NeuralCorrectingAge...   \n",
       "3      neural_onerule5000  results/onerule5000/agents.NeuralCorrectingAge...   \n",
       "4      neural_onerule5000  results/onerule5000/agents.NeuralCorrectingAge...   \n",
       "5      neural_onerule5000  results/onerule5000/agents.NeuralCorrectingAge...   \n",
       "6                tworules  results/tworules/agents.CorrectingAgent/0.7/ex...   \n",
       "\n",
       "                neural_config status  \n",
       "index                                 \n",
       "0                        None   None  \n",
       "1                     DEFAULT   done  \n",
       "2                 adam_lr:0.1   done  \n",
       "3                   adam_lr:1   done  \n",
       "4        nesterov_lr:0.1mom:0   done  \n",
       "5      nesterov_lr:0.1mom:0.4   done  \n",
       "6                        None   done  "
      ]
     },
     "execution_count": 2,
     "metadata": {},
     "output_type": "execute_result"
    }
   ],
   "source": [
    "df = read_experiments()\n",
    "df"
   ]
  },
  {
   "cell_type": "code",
   "execution_count": 3,
   "metadata": {},
   "outputs": [
    {
     "data": {
      "text/plain": [
       "<evaluation.ResultsFile at 0x7f4733b7bb00>"
      ]
     },
     "execution_count": 3,
     "metadata": {},
     "output_type": "execute_result"
    }
   ],
   "source": [
    "rf = get_results_file(df, 6)\n",
    "rf"
   ]
  },
  {
   "cell_type": "code",
   "execution_count": 4,
   "metadata": {},
   "outputs": [],
   "source": [
    "\n",
    "baseline = get_baseline('tworules')\n"
   ]
  },
  {
   "cell_type": "code",
   "execution_count": 13,
   "metadata": {},
   "outputs": [
    {
     "name": "stdout",
     "output_type": "stream",
     "text": [
      "{'agents.CorrectingAgent_0': <evaluation.ResultsFile object at 0x7f4733b7bb00>, 'agents.RandomAgent_0': <evaluation.ResultsFile object at 0x7f4720b96550>}\n"
     ]
    },
    {
     "data": {
      "image/png": "[encoded data removed]",
      "text/plain": [
       "<Figure size 432x288 with 1 Axes>"
      ]
     },
     "metadata": {},
     "output_type": "display_data"
    }
   ],
   "source": [
    "exp = Experiment.from_results_files([rf, baseline], 'tworules')\n",
    "print(exp.results_files)\n",
    "exp.plot()"
   ]
  },
  {
   "cell_type": "code",
   "execution_count": 22,
   "metadata": {},
   "outputs": [
    {
     "data": {
      "text/plain": [
       "'RandomAgent'"
      ]
     },
     "execution_count": 22,
     "metadata": {},
     "output_type": "execute_result"
    }
   ],
   "source": [
    "a = rf.load_agent()\n",
    "t = type(a)\n",
    "t.__name__"
   ]
  },
  {
   "cell_type": "code",
   "execution_count": 12,
   "metadata": {},
   "outputs": [
    {
     "data": {
      "text/plain": [
       "<evaluation.Experiment at 0x7f46bcada240>"
      ]
     },
     "execution_count": 12,
     "metadata": {},
     "output_type": "execute_result"
    }
   ],
   "source": [
    "def load_experiments(list_of_experiments, dataset):\n",
    "    \"\"\"plot the cumulative reward for a number of experiments listed on the same axis\"\"\"\n",
    "    experiments_df = read_experiments()\n",
    "    experiments = [get_baseline(dataset)]\n",
    "    for experiment in list_of_experiments:\n",
    "        experiments.append(get_results_file(experiments_df, experiment))\n",
    "    return Experiment.from_results_files(experiments, dataset)\n",
    "plot_experiments([6], 'tworules')"
   ]
  },
  {
   "cell_type": "code",
   "execution_count": 11,
   "metadata": {},
   "outputs": [],
   "source": [
    "from colour_dict import simple_colour_dict\n",
    "from evaluation import name_to_rgb"
   ]
  },
  {
   "cell_type": "code",
   "execution_count": 10,
   "metadata": {},
   "outputs": [
    {
     "data": {
      "text/plain": [
       "{'blue': ['blue'],\n",
       " 'green': ['green'],\n",
       " 'orange': ['orange'],\n",
       " 'pink': ['pink'],\n",
       " 'purple': ['purple'],\n",
       " 'red': ['red'],\n",
       " 'yellow': ['yellow']}"
      ]
     },
     "execution_count": 10,
     "metadata": {},
     "output_type": "execute_result"
    }
   ],
   "source": [
    "simple_colour_dict"
   ]
  },
  {
   "cell_type": "code",
   "execution_count": 16,
   "metadata": {},
   "outputs": [
    {
     "data": {
      "text/plain": [
       "array([0.5019608, 0.       , 0.       ], dtype=float32)"
      ]
     },
     "execution_count": 16,
     "metadata": {},
     "output_type": "execute_result"
    }
   ],
   "source": [
    "name_to_rgb('maroon')"
   ]
  },
  {
   "cell_type": "code",
   "execution_count": null,
   "metadata": {},
   "outputs": [],
   "source": []
  }
 ],
 "metadata": {
  "kernelspec": {
   "display_name": "Python 3",
   "language": "python",
   "name": "python3"
  },
  "language_info": {
   "codemirror_mode": {
    "name": "ipython",
    "version": 3
   },
   "file_extension": ".py",
   "mimetype": "text/x-python",
   "name": "python",
   "nbconvert_exporter": "python",
   "pygments_lexer": "ipython3",
   "version": "3.6.3"
  }
 },
 "nbformat": 4,
 "nbformat_minor": 2
}

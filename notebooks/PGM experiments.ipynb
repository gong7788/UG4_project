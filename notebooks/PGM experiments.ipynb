{
 "cells": [
  {
   "cell_type": "code",
   "execution_count": 1,
   "metadata": {},
   "outputs": [],
   "source": [
    "from correctingagent.experiments.experiment import add_experiment\n",
    "from correctingagent.experiments.experiment_tracking import read_experiments, get_results_file, get_baseline, load_experiments\n",
    "from correctingagent.experiments.evaluation import test_colour_model, colour_probs, colour_dict, name_to_rgb\n",
    "from correctingagent.util.util import add_config_option, create_experiment, create_kde_experiment"
   ]
  },
  {
   "cell_type": "code",
   "execution_count": 3,
   "metadata": {},
   "outputs": [],
   "source": [
    "experiments = []\n",
    "for dataset in ['maroon', 'simplecolours', 'triplicatered', 'bijection', 'onerule', 'tworules']:\n",
    "    experiment_name = '{}_pgm'.format(dataset)\n",
    "    if dataset not in ['maroon', 'simplecolours']:\n",
    "        create_experiment(experiment_name, {'scenario_suite':dataset, \n",
    "                                         'colour_model_type':'kde', \n",
    "                                         'update_once':'True',\n",
    "                                         'update_negative':'False',\n",
    "                                         'agent': 'PGMAgent'})\n",
    "        experiments.append(experiment_name)\n",
    "\n",
    "        \n",
    "    experiment_name2 = '{}_pgm_nocorr'.format(dataset)\n",
    "    create_experiment(experiment_name2, {'scenario_suite':dataset, \n",
    "                                     'colour_model_type':'kde', \n",
    "                                     'update_once':'True',\n",
    "                                     'update_negative':'False',\n",
    "                                       'agent': 'PGMAgent',\n",
    "                                       'no_correction_update':True})\n",
    "    experiments.extend([experiment_name2])\n",
    "    "
   ]
  },
  {
   "cell_type": "code",
   "execution_count": 4,
   "metadata": {
    "scrolled": true
   },
   "outputs": [
    {
     "name": "stdout",
     "output_type": "stream",
     "text": [
      "Parsing domain /home/mappelgren/Desktop/correcting-agent/data/domain/blocks-domain.pddl\n",
      "Parsing problem /home/mappelgren/Desktop/correcting-agent/data/maroon/problem48.pddl\n",
      "Parsing domain /home/mappelgren/Desktop/correcting-agent/data/domain/blocks-domain.pddl\n",
      "Parsing problem /home/mappelgren/Desktop/correcting-agent/data/maroon/problem48.pddl\n",
      "/home/mappelgren/Desktop/correcting-agent/data/domain/blocks-domain.pddl\n"
     ]
    },
    {
     "name": "stderr",
     "output_type": "stream",
     "text": [
      "T: No, now you cannot put b2 in the tower because you must put red blocks on blue blocks\n"
     ]
    },
    {
     "name": "stdout",
     "output_type": "stream",
     "text": [
      "Message(rel='on', o1=['red'], o2=['blue'], T='table', o3='b2')\n",
      "No, now you cannot put b2 in the tower because you must put red blocks on blue blocks\n",
      "Is the top object red\n",
      "no\n",
      "V_4(all x.(red(x) -> exists y. (blue(y) & on(x,y))))\n",
      "all x.(red(x) -> exists y. (blue(y) & on(x,y)))\n",
      "/home/mappelgren/Desktop/correcting-agent/data/domain/blocks-domain.pddl\n",
      "problem48.pddl reward: -12\n",
      "Parsing domain /home/mappelgren/Desktop/correcting-agent/data/domain/blocks-domain.pddl\n",
      "Parsing problem /home/mappelgren/Desktop/correcting-agent/data/maroon/problem26.pddl\n",
      "/home/mappelgren/Desktop/correcting-agent/data/domain/blocks-domain.pddl\n"
     ]
    },
    {
     "name": "stderr",
     "output_type": "stream",
     "text": [
      "T: no, put green blocks on maroon blocks\n"
     ]
    },
    {
     "name": "stdout",
     "output_type": "stream",
     "text": [
      "problem26.pddl reward: -10\n",
      "Parsing domain /home/mappelgren/Desktop/correcting-agent/data/domain/blocks-domain.pddl\n",
      "Parsing problem /home/mappelgren/Desktop/correcting-agent/data/maroon/problem20.pddl\n",
      "/home/mappelgren/Desktop/correcting-agent/data/domain/blocks-domain.pddl\n",
      "Message(rel='on', o1=['green'], o2=['maroon'], T='tower', o3=None)\n",
      "no, put green blocks on maroon blocks\n",
      "Is the top object green\n",
      "yes\n",
      "V_5(all x.(green(x) -> exists y. (maroon(y) & on(x,y))))\n",
      "all x.(green(x) -> exists y. (maroon(y) & on(x,y)))\n",
      "/home/mappelgren/Desktop/correcting-agent/data/domain/blocks-domain.pddl\n",
      "/home/mappelgren/Desktop/correcting-agent/data/domain/blocks-domain.pddl\n"
     ]
    },
    {
     "name": "stderr",
     "output_type": "stream",
     "text": [
      "T: no, put red blocks on blue blocks\n"
     ]
    },
    {
     "name": "stdout",
     "output_type": "stream",
     "text": [
      "problem20.pddl reward: -12\n",
      "Parsing domain /home/mappelgren/Desktop/correcting-agent/data/domain/blocks-domain.pddl\n",
      "Parsing problem /home/mappelgren/Desktop/correcting-agent/data/maroon/problem45.pddl\n",
      "/home/mappelgren/Desktop/correcting-agent/data/domain/blocks-domain.pddl\n",
      "Message(rel='on', o1=['red'], o2=['blue'], T='tower', o3=None)\n"
     ]
    },
    {
     "name": "stderr",
     "output_type": "stream",
     "text": [
      "T: no, put red blocks on blue blocks\n"
     ]
    },
    {
     "name": "stdout",
     "output_type": "stream",
     "text": [
      "no, put red blocks on blue blocks\n",
      "V_4(all x.(red(x) -> exists y. (blue(y) & on(x,y))))\n",
      "all x.(red(x) -> exists y. (blue(y) & on(x,y)))\n",
      "/home/mappelgren/Desktop/correcting-agent/data/domain/blocks-domain.pddl\n",
      "Message(rel='on', o1=['red'], o2=['blue'], T='tower', o3=None)\n"
     ]
    },
    {
     "name": "stderr",
     "output_type": "stream",
     "text": [
      "T: no, put red blocks on blue blocks\n"
     ]
    },
    {
     "name": "stdout",
     "output_type": "stream",
     "text": [
      "no, put red blocks on blue blocks\n",
      "V_6(all x.(red(x) -> exists y. (blue(y) & on(x,y))))\n",
      "all x.(red(x) -> exists y. (blue(y) & on(x,y)))\n",
      "/home/mappelgren/Desktop/correcting-agent/data/domain/blocks-domain.pddl\n",
      "Message(rel='on', o1=['red'], o2=['blue'], T='tower', o3=None)\n"
     ]
    },
    {
     "name": "stderr",
     "output_type": "stream",
     "text": [
      "T: no, put red blocks on blue blocks\n"
     ]
    },
    {
     "name": "stdout",
     "output_type": "stream",
     "text": [
      "no, put red blocks on blue blocks\n",
      "V_8(all x.(red(x) -> exists y. (blue(y) & on(x,y))))\n",
      "all x.(red(x) -> exists y. (blue(y) & on(x,y)))\n",
      "/home/mappelgren/Desktop/correcting-agent/data/domain/blocks-domain.pddl\n",
      "Message(rel='on', o1=['red'], o2=['blue'], T='tower', o3=None)\n",
      "no, put red blocks on blue blocks\n",
      "V_10(all x.(red(x) -> exists y. (blue(y) & on(x,y))))\n",
      "all x.(red(x) -> exists y. (blue(y) & on(x,y)))\n",
      "/home/mappelgren/Desktop/correcting-agent/data/domain/blocks-domain.pddl\n",
      "problem45.pddl reward: -18\n",
      "Parsing domain /home/mappelgren/Desktop/correcting-agent/data/domain/blocks-domain.pddl\n",
      "Parsing problem /home/mappelgren/Desktop/correcting-agent/data/maroon/problem18.pddl\n",
      "/home/mappelgren/Desktop/correcting-agent/data/domain/blocks-domain.pddl\n",
      "problem18.pddl reward: -10\n",
      "Parsing domain /home/mappelgren/Desktop/correcting-agent/data/domain/blocks-domain.pddl\n",
      "Parsing problem /home/mappelgren/Desktop/correcting-agent/data/maroon/problem1.pddl\n",
      "/home/mappelgren/Desktop/correcting-agent/data/domain/blocks-domain.pddl\n",
      "problem1.pddl reward: -10\n",
      "Parsing domain /home/mappelgren/Desktop/correcting-agent/data/domain/blocks-domain.pddl\n",
      "Parsing problem /home/mappelgren/Desktop/correcting-agent/data/maroon/problem36.pddl\n",
      "/home/mappelgren/Desktop/correcting-agent/data/domain/blocks-domain.pddl\n",
      "problem36.pddl reward: -10\n",
      "Parsing domain /home/mappelgren/Desktop/correcting-agent/data/domain/blocks-domain.pddl\n",
      "Parsing problem /home/mappelgren/Desktop/correcting-agent/data/maroon/problem41.pddl\n",
      "/home/mappelgren/Desktop/correcting-agent/data/domain/blocks-domain.pddl\n",
      "problem41.pddl reward: -10\n",
      "Parsing domain /home/mappelgren/Desktop/correcting-agent/data/domain/blocks-domain.pddl\n",
      "Parsing problem /home/mappelgren/Desktop/correcting-agent/data/maroon/problem44.pddl\n",
      "/home/mappelgren/Desktop/correcting-agent/data/domain/blocks-domain.pddl\n",
      "problem44.pddl reward: -10\n",
      "Parsing domain /home/mappelgren/Desktop/correcting-agent/data/domain/blocks-domain.pddl\n",
      "Parsing problem /home/mappelgren/Desktop/correcting-agent/data/maroon/problem40.pddl\n",
      "/home/mappelgren/Desktop/correcting-agent/data/domain/blocks-domain.pddl\n"
     ]
    },
    {
     "name": "stderr",
     "output_type": "stream",
     "text": [
      "T: no, put green blocks on maroon blocks\n"
     ]
    },
    {
     "name": "stdout",
     "output_type": "stream",
     "text": [
      "problem40.pddl reward: -10\n",
      "Parsing domain /home/mappelgren/Desktop/correcting-agent/data/domain/blocks-domain.pddl\n",
      "Parsing problem /home/mappelgren/Desktop/correcting-agent/data/maroon/problem31.pddl\n",
      "/home/mappelgren/Desktop/correcting-agent/data/domain/blocks-domain.pddl\n",
      "Message(rel='on', o1=['green'], o2=['maroon'], T='tower', o3=None)\n",
      "no, put green blocks on maroon blocks\n",
      "V_1(all x.(green(x) -> exists y. (maroon(y) & on(x,y))))\n",
      "all x.(green(x) -> exists y. (maroon(y) & on(x,y)))\n",
      "/home/mappelgren/Desktop/correcting-agent/data/domain/blocks-domain.pddl\n",
      "problem31.pddl reward: -12\n",
      "Parsing domain /home/mappelgren/Desktop/correcting-agent/data/domain/blocks-domain.pddl\n",
      "Parsing problem /home/mappelgren/Desktop/correcting-agent/data/maroon/problem27.pddl\n",
      "/home/mappelgren/Desktop/correcting-agent/data/domain/blocks-domain.pddl\n",
      "problem27.pddl reward: -10\n",
      "Parsing domain /home/mappelgren/Desktop/correcting-agent/data/domain/blocks-domain.pddl\n",
      "Parsing problem /home/mappelgren/Desktop/correcting-agent/data/maroon/problem37.pddl\n",
      "/home/mappelgren/Desktop/correcting-agent/data/domain/blocks-domain.pddl\n",
      "problem37.pddl reward: -10\n",
      "Parsing domain /home/mappelgren/Desktop/correcting-agent/data/domain/blocks-domain.pddl\n",
      "Parsing problem /home/mappelgren/Desktop/correcting-agent/data/maroon/problem33.pddl\n",
      "/home/mappelgren/Desktop/correcting-agent/data/domain/blocks-domain.pddl\n",
      "problem33.pddl reward: -10\n",
      "Parsing domain /home/mappelgren/Desktop/correcting-agent/data/domain/blocks-domain.pddl\n",
      "Parsing problem /home/mappelgren/Desktop/correcting-agent/data/maroon/problem34.pddl\n",
      "/home/mappelgren/Desktop/correcting-agent/data/domain/blocks-domain.pddl\n",
      "problem34.pddl reward: -10\n",
      "Parsing domain /home/mappelgren/Desktop/correcting-agent/data/domain/blocks-domain.pddl\n",
      "Parsing problem /home/mappelgren/Desktop/correcting-agent/data/maroon/problem46.pddl\n",
      "/home/mappelgren/Desktop/correcting-agent/data/domain/blocks-domain.pddl\n",
      "problem46.pddl reward: -10\n",
      "Parsing domain /home/mappelgren/Desktop/correcting-agent/data/domain/blocks-domain.pddl\n",
      "Parsing problem /home/mappelgren/Desktop/correcting-agent/data/maroon/problem50.pddl\n",
      "/home/mappelgren/Desktop/correcting-agent/data/domain/blocks-domain.pddl\n"
     ]
    },
    {
     "name": "stderr",
     "output_type": "stream",
     "text": [
      "T: No, now you cannot put b5 in the tower because you must put red blocks on blue blocks\n"
     ]
    },
    {
     "name": "stdout",
     "output_type": "stream",
     "text": [
      "problem50.pddl reward: -10\n",
      "Parsing domain /home/mappelgren/Desktop/correcting-agent/data/domain/blocks-domain.pddl\n",
      "Parsing problem /home/mappelgren/Desktop/correcting-agent/data/maroon/problem2.pddl\n",
      "/home/mappelgren/Desktop/correcting-agent/data/domain/blocks-domain.pddl\n",
      "Message(rel='on', o1=['red'], o2=['blue'], T='table', o3='b5')\n",
      "No, now you cannot put b5 in the tower because you must put red blocks on blue blocks\n",
      "V_2(all x.(red(x) -> exists y. (blue(y) & on(x,y))))\n",
      "all x.(red(x) -> exists y. (blue(y) & on(x,y)))\n",
      "/home/mappelgren/Desktop/correcting-agent/data/domain/blocks-domain.pddl\n"
     ]
    },
    {
     "name": "stderr",
     "output_type": "stream",
     "text": [
      "T: no, put red blocks on blue blocks\n"
     ]
    },
    {
     "name": "stdout",
     "output_type": "stream",
     "text": [
      "Message(rel='on', o1=['red'], o2=['blue'], T='tower', o3=None)\n",
      "no, put red blocks on blue blocks\n",
      "V_5(all x.(red(x) -> exists y. (blue(y) & on(x,y))))\n",
      "all x.(red(x) -> exists y. (blue(y) & on(x,y)))\n",
      "/home/mappelgren/Desktop/correcting-agent/data/domain/blocks-domain.pddl\n",
      "/home/mappelgren/Desktop/correcting-agent/data/domain/blocks-domain.pddl\n",
      "/home/mappelgren/Desktop/correcting-agent/data/domain/blocks-domain.pddl\n",
      "problem2.pddl reward: -14\n",
      "Parsing domain /home/mappelgren/Desktop/correcting-agent/data/domain/blocks-domain.pddl\n",
      "Parsing problem /home/mappelgren/Desktop/correcting-agent/data/maroon/problem23.pddl\n",
      "/home/mappelgren/Desktop/correcting-agent/data/domain/blocks-domain.pddl\n",
      "problem23.pddl reward: -10\n",
      "Parsing domain /home/mappelgren/Desktop/correcting-agent/data/domain/blocks-domain.pddl\n",
      "Parsing problem /home/mappelgren/Desktop/correcting-agent/data/maroon/problem24.pddl\n",
      "/home/mappelgren/Desktop/correcting-agent/data/domain/blocks-domain.pddl\n"
     ]
    },
    {
     "name": "stderr",
     "output_type": "stream",
     "text": [
      "T: No, now you cannot put b4 in the tower because you must put green blocks on maroon blocks\n"
     ]
    },
    {
     "name": "stdout",
     "output_type": "stream",
     "text": [
      "Message(rel='on', o1=['green'], o2=['maroon'], T='table', o3='b4')\n",
      "No, now you cannot put b4 in the tower because you must put green blocks on maroon blocks\n",
      "V_5(all x.(green(x) -> exists y. (maroon(y) & on(x,y))))\n",
      "all x.(green(x) -> exists y. (maroon(y) & on(x,y)))\n",
      "/home/mappelgren/Desktop/correcting-agent/data/domain/blocks-domain.pddl\n",
      "/home/mappelgren/Desktop/correcting-agent/data/domain/blocks-domain.pddl\n",
      "/home/mappelgren/Desktop/correcting-agent/data/domain/blocks-domain.pddl\n",
      "/home/mappelgren/Desktop/correcting-agent/data/domain/blocks-domain.pddl\n",
      "/home/mappelgren/Desktop/correcting-agent/data/domain/blocks-domain.pddl\n",
      "/home/mappelgren/Desktop/correcting-agent/data/domain/blocks-domain.pddl\n",
      "/home/mappelgren/Desktop/correcting-agent/data/domain/blocks-domain.pddl\n",
      "/home/mappelgren/Desktop/correcting-agent/data/domain/blocks-domain.pddl\n",
      "/home/mappelgren/Desktop/correcting-agent/data/domain/blocks-domain.pddl\n"
     ]
    },
    {
     "name": "stderr",
     "output_type": "stream",
     "text": [
      "T: no, put red blocks on blue blocks\n"
     ]
    },
    {
     "name": "stdout",
     "output_type": "stream",
     "text": [
      "Message(rel='on', o1=['red'], o2=['blue'], T='tower', o3=None)\n",
      "no, put red blocks on blue blocks\n",
      "V_8(all x.(red(x) -> exists y. (blue(y) & on(x,y))))\n",
      "all x.(red(x) -> exists y. (blue(y) & on(x,y)))\n",
      "/home/mappelgren/Desktop/correcting-agent/data/domain/blocks-domain.pddl\n",
      "problem24.pddl reward: -14\n",
      "Parsing domain /home/mappelgren/Desktop/correcting-agent/data/domain/blocks-domain.pddl\n",
      "Parsing problem /home/mappelgren/Desktop/correcting-agent/data/maroon/problem7.pddl\n",
      "/home/mappelgren/Desktop/correcting-agent/data/domain/blocks-domain.pddl\n"
     ]
    },
    {
     "name": "stderr",
     "output_type": "stream",
     "text": [
      "T: No, now you cannot put b0 in the tower because you must put red blocks on blue blocks\n"
     ]
    },
    {
     "name": "stdout",
     "output_type": "stream",
     "text": [
      "Message(rel='on', o1=['red'], o2=['blue'], T='table', o3='b0')\n",
      "No, now you cannot put b0 in the tower because you must put red blocks on blue blocks\n",
      "V_2(all x.(red(x) -> exists y. (blue(y) & on(x,y))))\n",
      "all x.(red(x) -> exists y. (blue(y) & on(x,y)))\n",
      "/home/mappelgren/Desktop/correcting-agent/data/domain/blocks-domain.pddl\n",
      "problem7.pddl reward: -12\n",
      "Parsing domain /home/mappelgren/Desktop/correcting-agent/data/domain/blocks-domain.pddl\n",
      "Parsing problem /home/mappelgren/Desktop/correcting-agent/data/maroon/problem8.pddl\n",
      "/home/mappelgren/Desktop/correcting-agent/data/domain/blocks-domain.pddl\n",
      "problem8.pddl reward: -10\n",
      "Parsing domain /home/mappelgren/Desktop/correcting-agent/data/domain/blocks-domain.pddl\n",
      "Parsing problem /home/mappelgren/Desktop/correcting-agent/data/maroon/problem30.pddl\n",
      "/home/mappelgren/Desktop/correcting-agent/data/domain/blocks-domain.pddl\n",
      "problem30.pddl reward: -10\n",
      "Parsing domain /home/mappelgren/Desktop/correcting-agent/data/domain/blocks-domain.pddl\n",
      "Parsing problem /home/mappelgren/Desktop/correcting-agent/data/maroon/problem42.pddl\n",
      "/home/mappelgren/Desktop/correcting-agent/data/domain/blocks-domain.pddl\n",
      "problem42.pddl reward: -10\n",
      "Parsing domain /home/mappelgren/Desktop/correcting-agent/data/domain/blocks-domain.pddl\n",
      "Parsing problem /home/mappelgren/Desktop/correcting-agent/data/maroon/problem43.pddl\n",
      "/home/mappelgren/Desktop/correcting-agent/data/domain/blocks-domain.pddl\n",
      "problem43.pddl reward: -10\n",
      "Parsing domain /home/mappelgren/Desktop/correcting-agent/data/domain/blocks-domain.pddl\n",
      "Parsing problem /home/mappelgren/Desktop/correcting-agent/data/maroon/problem28.pddl\n",
      "/home/mappelgren/Desktop/correcting-agent/data/domain/blocks-domain.pddl\n",
      "problem28.pddl reward: -10\n",
      "Parsing domain /home/mappelgren/Desktop/correcting-agent/data/domain/blocks-domain.pddl\n",
      "Parsing problem /home/mappelgren/Desktop/correcting-agent/data/maroon/problem29.pddl\n",
      "/home/mappelgren/Desktop/correcting-agent/data/domain/blocks-domain.pddl\n",
      "problem29.pddl reward: -10\n",
      "Parsing domain /home/mappelgren/Desktop/correcting-agent/data/domain/blocks-domain.pddl\n",
      "Parsing problem /home/mappelgren/Desktop/correcting-agent/data/maroon/problem17.pddl\n",
      "/home/mappelgren/Desktop/correcting-agent/data/domain/blocks-domain.pddl\n",
      "problem17.pddl reward: -10\n",
      "Parsing domain /home/mappelgren/Desktop/correcting-agent/data/domain/blocks-domain.pddl\n",
      "Parsing problem /home/mappelgren/Desktop/correcting-agent/data/maroon/problem10.pddl\n",
      "/home/mappelgren/Desktop/correcting-agent/data/domain/blocks-domain.pddl\n",
      "problem10.pddl reward: -10\n",
      "Parsing domain /home/mappelgren/Desktop/correcting-agent/data/domain/blocks-domain.pddl\n",
      "Parsing problem /home/mappelgren/Desktop/correcting-agent/data/maroon/problem25.pddl\n",
      "/home/mappelgren/Desktop/correcting-agent/data/domain/blocks-domain.pddl\n",
      "problem25.pddl reward: -10\n",
      "Parsing domain /home/mappelgren/Desktop/correcting-agent/data/domain/blocks-domain.pddl\n",
      "Parsing problem /home/mappelgren/Desktop/correcting-agent/data/maroon/problem39.pddl\n",
      "/home/mappelgren/Desktop/correcting-agent/data/domain/blocks-domain.pddl\n",
      "problem39.pddl reward: -10\n",
      "Parsing domain /home/mappelgren/Desktop/correcting-agent/data/domain/blocks-domain.pddl\n",
      "Parsing problem /home/mappelgren/Desktop/correcting-agent/data/maroon/problem19.pddl\n",
      "/home/mappelgren/Desktop/correcting-agent/data/domain/blocks-domain.pddl\n",
      "problem19.pddl reward: -10\n",
      "Parsing domain /home/mappelgren/Desktop/correcting-agent/data/domain/blocks-domain.pddl\n",
      "Parsing problem /home/mappelgren/Desktop/correcting-agent/data/maroon/problem6.pddl\n",
      "/home/mappelgren/Desktop/correcting-agent/data/domain/blocks-domain.pddl\n",
      "problem6.pddl reward: -10\n",
      "Parsing domain /home/mappelgren/Desktop/correcting-agent/data/domain/blocks-domain.pddl\n",
      "Parsing problem /home/mappelgren/Desktop/correcting-agent/data/maroon/problem12.pddl\n",
      "/home/mappelgren/Desktop/correcting-agent/data/domain/blocks-domain.pddl\n",
      "problem12.pddl reward: -10\n",
      "Parsing domain /home/mappelgren/Desktop/correcting-agent/data/domain/blocks-domain.pddl\n",
      "Parsing problem /home/mappelgren/Desktop/correcting-agent/data/maroon/problem22.pddl\n"
     ]
    },
    {
     "name": "stderr",
     "output_type": "stream",
     "text": [
      "T: no, put green blocks on maroon blocks\n"
     ]
    },
    {
     "name": "stdout",
     "output_type": "stream",
     "text": [
      "/home/mappelgren/Desktop/correcting-agent/data/domain/blocks-domain.pddl\n",
      "Message(rel='on', o1=['green'], o2=['maroon'], T='tower', o3=None)\n",
      "no, put green blocks on maroon blocks\n",
      "V_4(all y.(maroon(y) -> exists x. (green(x) & on(x,y))))\n",
      "all y.(maroon(y) -> exists x. (green(x) & on(x,y)))\n",
      "/home/mappelgren/Desktop/correcting-agent/data/domain/blocks-domain.pddl\n",
      "/home/mappelgren/Desktop/correcting-agent/data/domain/blocks-domain.pddl\n",
      "problem22.pddl reward: -12\n",
      "Parsing domain /home/mappelgren/Desktop/correcting-agent/data/domain/blocks-domain.pddl\n",
      "Parsing problem /home/mappelgren/Desktop/correcting-agent/data/maroon/problem9.pddl\n",
      "/home/mappelgren/Desktop/correcting-agent/data/domain/blocks-domain.pddl\n",
      "/home/mappelgren/Desktop/correcting-agent/data/domain/blocks-domain.pddl\n",
      "/home/mappelgren/Desktop/correcting-agent/data/domain/blocks-domain.pddl\n",
      "problem9.pddl reward: -10\n",
      "Parsing domain /home/mappelgren/Desktop/correcting-agent/data/domain/blocks-domain.pddl\n",
      "Parsing problem /home/mappelgren/Desktop/correcting-agent/data/maroon/problem15.pddl\n",
      "/home/mappelgren/Desktop/correcting-agent/data/domain/blocks-domain.pddl\n",
      "problem15.pddl reward: -10\n",
      "Parsing domain /home/mappelgren/Desktop/correcting-agent/data/domain/blocks-domain.pddl\n",
      "Parsing problem /home/mappelgren/Desktop/correcting-agent/data/maroon/problem14.pddl\n",
      "/home/mappelgren/Desktop/correcting-agent/data/domain/blocks-domain.pddl\n",
      "problem14.pddl reward: -10\n",
      "Parsing domain /home/mappelgren/Desktop/correcting-agent/data/domain/blocks-domain.pddl\n",
      "Parsing problem /home/mappelgren/Desktop/correcting-agent/data/maroon/problem38.pddl\n",
      "/home/mappelgren/Desktop/correcting-agent/data/domain/blocks-domain.pddl\n",
      "problem38.pddl reward: -10\n",
      "Parsing domain /home/mappelgren/Desktop/correcting-agent/data/domain/blocks-domain.pddl\n",
      "Parsing problem /home/mappelgren/Desktop/correcting-agent/data/maroon/problem11.pddl\n",
      "/home/mappelgren/Desktop/correcting-agent/data/domain/blocks-domain.pddl\n",
      "problem11.pddl reward: -10\n",
      "Parsing domain /home/mappelgren/Desktop/correcting-agent/data/domain/blocks-domain.pddl\n",
      "Parsing problem /home/mappelgren/Desktop/correcting-agent/data/maroon/problem49.pddl\n",
      "/home/mappelgren/Desktop/correcting-agent/data/domain/blocks-domain.pddl\n",
      "problem49.pddl reward: -10\n",
      "Parsing domain /home/mappelgren/Desktop/correcting-agent/data/domain/blocks-domain.pddl\n",
      "Parsing problem /home/mappelgren/Desktop/correcting-agent/data/maroon/problem16.pddl\n",
      "/home/mappelgren/Desktop/correcting-agent/data/domain/blocks-domain.pddl\n",
      "problem16.pddl reward: -10\n",
      "Parsing domain /home/mappelgren/Desktop/correcting-agent/data/domain/blocks-domain.pddl\n",
      "Parsing problem /home/mappelgren/Desktop/correcting-agent/data/maroon/problem35.pddl\n",
      "/home/mappelgren/Desktop/correcting-agent/data/domain/blocks-domain.pddl\n",
      "problem35.pddl reward: -10\n",
      "Parsing domain /home/mappelgren/Desktop/correcting-agent/data/domain/blocks-domain.pddl\n",
      "Parsing problem /home/mappelgren/Desktop/correcting-agent/data/maroon/problem3.pddl\n",
      "/home/mappelgren/Desktop/correcting-agent/data/domain/blocks-domain.pddl\n",
      "problem3.pddl reward: -10\n",
      "Parsing domain /home/mappelgren/Desktop/correcting-agent/data/domain/blocks-domain.pddl\n"
     ]
    },
    {
     "name": "stderr",
     "output_type": "stream",
     "text": [
      "T: no, put green blocks on maroon blocks\n"
     ]
    },
    {
     "name": "stdout",
     "output_type": "stream",
     "text": [
      "Parsing problem /home/mappelgren/Desktop/correcting-agent/data/maroon/problem47.pddl\n",
      "/home/mappelgren/Desktop/correcting-agent/data/domain/blocks-domain.pddl\n",
      "Message(rel='on', o1=['green'], o2=['maroon'], T='tower', o3=None)\n",
      "no, put green blocks on maroon blocks\n",
      "V_3(all y.(maroon(y) -> exists x. (green(x) & on(x,y))))\n",
      "all y.(maroon(y) -> exists x. (green(x) & on(x,y)))\n",
      "/home/mappelgren/Desktop/correcting-agent/data/domain/blocks-domain.pddl\n",
      "/home/mappelgren/Desktop/correcting-agent/data/domain/blocks-domain.pddl\n",
      "/home/mappelgren/Desktop/correcting-agent/data/domain/blocks-domain.pddl\n",
      "/home/mappelgren/Desktop/correcting-agent/data/domain/blocks-domain.pddl\n",
      "problem47.pddl reward: -12\n",
      "Parsing domain /home/mappelgren/Desktop/correcting-agent/data/domain/blocks-domain.pddl\n",
      "Parsing problem /home/mappelgren/Desktop/correcting-agent/data/maroon/problem21.pddl\n",
      "/home/mappelgren/Desktop/correcting-agent/data/domain/blocks-domain.pddl\n",
      "problem21.pddl reward: -10\n",
      "Parsing domain /home/mappelgren/Desktop/correcting-agent/data/domain/blocks-domain.pddl\n",
      "Parsing problem /home/mappelgren/Desktop/correcting-agent/data/maroon/problem4.pddl\n",
      "/home/mappelgren/Desktop/correcting-agent/data/domain/blocks-domain.pddl\n",
      "problem4.pddl reward: -10\n",
      "Parsing domain /home/mappelgren/Desktop/correcting-agent/data/domain/blocks-domain.pddl\n",
      "Parsing problem /home/mappelgren/Desktop/correcting-agent/data/maroon/problem32.pddl\n",
      "/home/mappelgren/Desktop/correcting-agent/data/domain/blocks-domain.pddl\n",
      "problem32.pddl reward: -10\n",
      "Parsing domain /home/mappelgren/Desktop/correcting-agent/data/domain/blocks-domain.pddl\n",
      "Parsing problem /home/mappelgren/Desktop/correcting-agent/data/maroon/problem13.pddl\n",
      "/home/mappelgren/Desktop/correcting-agent/data/domain/blocks-domain.pddl\n",
      "problem13.pddl reward: -10\n",
      "Parsing domain /home/mappelgren/Desktop/correcting-agent/data/domain/blocks-domain.pddl\n",
      "Parsing problem /home/mappelgren/Desktop/correcting-agent/data/maroon/problem5.pddl\n",
      "/home/mappelgren/Desktop/correcting-agent/data/domain/blocks-domain.pddl\n",
      "problem5.pddl reward: -10\n",
      "Parsing domain /home/mappelgren/Desktop/correcting-agent/data/domain/blocks-domain.pddl\n",
      "Parsing problem /home/mappelgren/Desktop/correcting-agent/data/simplecolours/problem48.pddl\n",
      "Parsing domain /home/mappelgren/Desktop/correcting-agent/data/domain/blocks-domain.pddl\n",
      "Parsing problem /home/mappelgren/Desktop/correcting-agent/data/simplecolours/problem48.pddl\n",
      "/home/mappelgren/Desktop/correcting-agent/data/domain/blocks-domain.pddl\n"
     ]
    },
    {
     "name": "stderr",
     "output_type": "stream",
     "text": [
      "T: no, put red blocks on blue blocks\n"
     ]
    },
    {
     "name": "stdout",
     "output_type": "stream",
     "text": [
      "Message(rel='on', o1=['red'], o2=['blue'], T='tower', o3=None)\n",
      "no, put red blocks on blue blocks\n",
      "Is the top object red\n",
      "yes\n",
      "V_9(all x.(red(x) -> exists y. (blue(y) & on(x,y))))\n",
      "all x.(red(x) -> exists y. (blue(y) & on(x,y)))\n",
      "/home/mappelgren/Desktop/correcting-agent/data/domain/blocks-domain.pddl\n",
      "problem48.pddl reward: -12\n",
      "Parsing domain /home/mappelgren/Desktop/correcting-agent/data/domain/blocks-domain.pddl\n",
      "Parsing problem /home/mappelgren/Desktop/correcting-agent/data/simplecolours/problem26.pddl\n",
      "/home/mappelgren/Desktop/correcting-agent/data/domain/blocks-domain.pddl\n",
      "problem26.pddl reward: -10\n",
      "Parsing domain /home/mappelgren/Desktop/correcting-agent/data/domain/blocks-domain.pddl\n",
      "Parsing problem /home/mappelgren/Desktop/correcting-agent/data/simplecolours/problem20.pddl\n",
      "/home/mappelgren/Desktop/correcting-agent/data/domain/blocks-domain.pddl\n",
      "problem20.pddl reward: -10\n",
      "Parsing domain /home/mappelgren/Desktop/correcting-agent/data/domain/blocks-domain.pddl\n",
      "Parsing problem /home/mappelgren/Desktop/correcting-agent/data/simplecolours/problem45.pddl\n",
      "/home/mappelgren/Desktop/correcting-agent/data/domain/blocks-domain.pddl\n",
      "problem45.pddl reward: -10\n",
      "Parsing domain /home/mappelgren/Desktop/correcting-agent/data/domain/blocks-domain.pddl\n",
      "Parsing problem /home/mappelgren/Desktop/correcting-agent/data/simplecolours/problem18.pddl\n",
      "/home/mappelgren/Desktop/correcting-agent/data/domain/blocks-domain.pddl\n",
      "problem18.pddl reward: -10\n",
      "Parsing domain /home/mappelgren/Desktop/correcting-agent/data/domain/blocks-domain.pddl\n",
      "Parsing problem /home/mappelgren/Desktop/correcting-agent/data/simplecolours/problem1.pddl\n",
      "/home/mappelgren/Desktop/correcting-agent/data/domain/blocks-domain.pddl\n",
      "problem1.pddl reward: -10\n",
      "Parsing domain /home/mappelgren/Desktop/correcting-agent/data/domain/blocks-domain.pddl\n",
      "Parsing problem /home/mappelgren/Desktop/correcting-agent/data/simplecolours/problem36.pddl\n",
      "/home/mappelgren/Desktop/correcting-agent/data/domain/blocks-domain.pddl\n",
      "problem36.pddl reward: -10\n",
      "Parsing domain /home/mappelgren/Desktop/correcting-agent/data/domain/blocks-domain.pddl\n",
      "Parsing problem /home/mappelgren/Desktop/correcting-agent/data/simplecolours/problem41.pddl\n",
      "/home/mappelgren/Desktop/correcting-agent/data/domain/blocks-domain.pddl\n",
      "problem41.pddl reward: -10\n",
      "Parsing domain /home/mappelgren/Desktop/correcting-agent/data/domain/blocks-domain.pddl\n",
      "Parsing problem /home/mappelgren/Desktop/correcting-agent/data/simplecolours/problem44.pddl\n",
      "/home/mappelgren/Desktop/correcting-agent/data/domain/blocks-domain.pddl\n",
      "problem44.pddl reward: -10\n",
      "Parsing domain /home/mappelgren/Desktop/correcting-agent/data/domain/blocks-domain.pddl\n",
      "Parsing problem /home/mappelgren/Desktop/correcting-agent/data/simplecolours/problem40.pddl\n",
      "/home/mappelgren/Desktop/correcting-agent/data/domain/blocks-domain.pddl\n",
      "problem40.pddl reward: -10\n",
      "Parsing domain /home/mappelgren/Desktop/correcting-agent/data/domain/blocks-domain.pddl\n",
      "Parsing problem /home/mappelgren/Desktop/correcting-agent/data/simplecolours/problem31.pddl\n",
      "/home/mappelgren/Desktop/correcting-agent/data/domain/blocks-domain.pddl\n",
      "problem31.pddl reward: -10\n",
      "Parsing domain /home/mappelgren/Desktop/correcting-agent/data/domain/blocks-domain.pddl\n",
      "Parsing problem /home/mappelgren/Desktop/correcting-agent/data/simplecolours/problem27.pddl\n",
      "/home/mappelgren/Desktop/correcting-agent/data/domain/blocks-domain.pddl\n",
      "problem27.pddl reward: -10\n",
      "Parsing domain /home/mappelgren/Desktop/correcting-agent/data/domain/blocks-domain.pddl\n",
      "Parsing problem /home/mappelgren/Desktop/correcting-agent/data/simplecolours/problem37.pddl\n",
      "/home/mappelgren/Desktop/correcting-agent/data/domain/blocks-domain.pddl\n",
      "problem37.pddl reward: -10\n",
      "Parsing domain /home/mappelgren/Desktop/correcting-agent/data/domain/blocks-domain.pddl\n",
      "Parsing problem /home/mappelgren/Desktop/correcting-agent/data/simplecolours/problem33.pddl\n",
      "/home/mappelgren/Desktop/correcting-agent/data/domain/blocks-domain.pddl\n",
      "problem33.pddl reward: -10\n",
      "Parsing domain /home/mappelgren/Desktop/correcting-agent/data/domain/blocks-domain.pddl\n",
      "Parsing problem /home/mappelgren/Desktop/correcting-agent/data/simplecolours/problem34.pddl\n",
      "/home/mappelgren/Desktop/correcting-agent/data/domain/blocks-domain.pddl\n",
      "problem34.pddl reward: -10\n",
      "Parsing domain /home/mappelgren/Desktop/correcting-agent/data/domain/blocks-domain.pddl\n",
      "Parsing problem /home/mappelgren/Desktop/correcting-agent/data/simplecolours/problem46.pddl\n",
      "/home/mappelgren/Desktop/correcting-agent/data/domain/blocks-domain.pddl\n",
      "problem46.pddl reward: -10\n",
      "Parsing domain /home/mappelgren/Desktop/correcting-agent/data/domain/blocks-domain.pddl\n",
      "Parsing problem /home/mappelgren/Desktop/correcting-agent/data/simplecolours/problem50.pddl\n",
      "/home/mappelgren/Desktop/correcting-agent/data/domain/blocks-domain.pddl\n",
      "problem50.pddl reward: -10\n",
      "Parsing domain /home/mappelgren/Desktop/correcting-agent/data/domain/blocks-domain.pddl\n",
      "Parsing problem /home/mappelgren/Desktop/correcting-agent/data/simplecolours/problem2.pddl\n",
      "/home/mappelgren/Desktop/correcting-agent/data/domain/blocks-domain.pddl\n",
      "problem2.pddl reward: -10\n",
      "Parsing domain /home/mappelgren/Desktop/correcting-agent/data/domain/blocks-domain.pddl\n",
      "Parsing problem /home/mappelgren/Desktop/correcting-agent/data/simplecolours/problem23.pddl\n",
      "/home/mappelgren/Desktop/correcting-agent/data/domain/blocks-domain.pddl\n",
      "problem23.pddl reward: -10\n",
      "Parsing domain /home/mappelgren/Desktop/correcting-agent/data/domain/blocks-domain.pddl\n",
      "Parsing problem /home/mappelgren/Desktop/correcting-agent/data/simplecolours/problem24.pddl\n",
      "/home/mappelgren/Desktop/correcting-agent/data/domain/blocks-domain.pddl\n",
      "problem24.pddl reward: -10\n",
      "Parsing domain /home/mappelgren/Desktop/correcting-agent/data/domain/blocks-domain.pddl\n",
      "Parsing problem /home/mappelgren/Desktop/correcting-agent/data/simplecolours/problem7.pddl\n",
      "/home/mappelgren/Desktop/correcting-agent/data/domain/blocks-domain.pddl\n",
      "problem7.pddl reward: -10\n",
      "Parsing domain /home/mappelgren/Desktop/correcting-agent/data/domain/blocks-domain.pddl\n",
      "Parsing problem /home/mappelgren/Desktop/correcting-agent/data/simplecolours/problem8.pddl\n",
      "/home/mappelgren/Desktop/correcting-agent/data/domain/blocks-domain.pddl\n",
      "problem8.pddl reward: -10\n",
      "Parsing domain /home/mappelgren/Desktop/correcting-agent/data/domain/blocks-domain.pddl\n",
      "Parsing problem /home/mappelgren/Desktop/correcting-agent/data/simplecolours/problem30.pddl\n",
      "/home/mappelgren/Desktop/correcting-agent/data/domain/blocks-domain.pddl\n",
      "problem30.pddl reward: -10\n",
      "Parsing domain /home/mappelgren/Desktop/correcting-agent/data/domain/blocks-domain.pddl\n",
      "Parsing problem /home/mappelgren/Desktop/correcting-agent/data/simplecolours/problem42.pddl\n",
      "/home/mappelgren/Desktop/correcting-agent/data/domain/blocks-domain.pddl\n",
      "problem42.pddl reward: -10\n",
      "Parsing domain /home/mappelgren/Desktop/correcting-agent/data/domain/blocks-domain.pddl\n",
      "Parsing problem /home/mappelgren/Desktop/correcting-agent/data/simplecolours/problem43.pddl\n",
      "/home/mappelgren/Desktop/correcting-agent/data/domain/blocks-domain.pddl\n",
      "problem43.pddl reward: -10\n",
      "Parsing domain /home/mappelgren/Desktop/correcting-agent/data/domain/blocks-domain.pddl\n",
      "Parsing problem /home/mappelgren/Desktop/correcting-agent/data/simplecolours/problem28.pddl\n",
      "/home/mappelgren/Desktop/correcting-agent/data/domain/blocks-domain.pddl\n",
      "problem28.pddl reward: -10\n",
      "Parsing domain /home/mappelgren/Desktop/correcting-agent/data/domain/blocks-domain.pddl\n",
      "Parsing problem /home/mappelgren/Desktop/correcting-agent/data/simplecolours/problem29.pddl\n",
      "/home/mappelgren/Desktop/correcting-agent/data/domain/blocks-domain.pddl\n",
      "problem29.pddl reward: -10\n",
      "Parsing domain /home/mappelgren/Desktop/correcting-agent/data/domain/blocks-domain.pddl\n",
      "Parsing problem /home/mappelgren/Desktop/correcting-agent/data/simplecolours/problem17.pddl\n",
      "/home/mappelgren/Desktop/correcting-agent/data/domain/blocks-domain.pddl\n",
      "problem17.pddl reward: -10\n",
      "Parsing domain /home/mappelgren/Desktop/correcting-agent/data/domain/blocks-domain.pddl\n",
      "Parsing problem /home/mappelgren/Desktop/correcting-agent/data/simplecolours/problem10.pddl\n",
      "/home/mappelgren/Desktop/correcting-agent/data/domain/blocks-domain.pddl\n",
      "problem10.pddl reward: -10\n",
      "Parsing domain /home/mappelgren/Desktop/correcting-agent/data/domain/blocks-domain.pddl\n",
      "Parsing problem /home/mappelgren/Desktop/correcting-agent/data/simplecolours/problem25.pddl\n",
      "/home/mappelgren/Desktop/correcting-agent/data/domain/blocks-domain.pddl\n"
     ]
    },
    {
     "name": "stdout",
     "output_type": "stream",
     "text": [
      "problem25.pddl reward: -10\n",
      "Parsing domain /home/mappelgren/Desktop/correcting-agent/data/domain/blocks-domain.pddl\n",
      "Parsing problem /home/mappelgren/Desktop/correcting-agent/data/simplecolours/problem39.pddl\n",
      "/home/mappelgren/Desktop/correcting-agent/data/domain/blocks-domain.pddl\n",
      "problem39.pddl reward: -10\n",
      "Parsing domain /home/mappelgren/Desktop/correcting-agent/data/domain/blocks-domain.pddl\n",
      "Parsing problem /home/mappelgren/Desktop/correcting-agent/data/simplecolours/problem19.pddl\n",
      "/home/mappelgren/Desktop/correcting-agent/data/domain/blocks-domain.pddl\n",
      "problem19.pddl reward: -10\n",
      "Parsing domain /home/mappelgren/Desktop/correcting-agent/data/domain/blocks-domain.pddl\n",
      "Parsing problem /home/mappelgren/Desktop/correcting-agent/data/simplecolours/problem6.pddl\n",
      "/home/mappelgren/Desktop/correcting-agent/data/domain/blocks-domain.pddl\n",
      "problem6.pddl reward: -10\n",
      "Parsing domain /home/mappelgren/Desktop/correcting-agent/data/domain/blocks-domain.pddl\n",
      "Parsing problem /home/mappelgren/Desktop/correcting-agent/data/simplecolours/problem12.pddl\n",
      "/home/mappelgren/Desktop/correcting-agent/data/domain/blocks-domain.pddl\n",
      "problem12.pddl reward: -10\n",
      "Parsing domain /home/mappelgren/Desktop/correcting-agent/data/domain/blocks-domain.pddl\n",
      "Parsing problem /home/mappelgren/Desktop/correcting-agent/data/simplecolours/problem22.pddl\n",
      "/home/mappelgren/Desktop/correcting-agent/data/domain/blocks-domain.pddl\n",
      "problem22.pddl reward: -10\n",
      "Parsing domain /home/mappelgren/Desktop/correcting-agent/data/domain/blocks-domain.pddl\n",
      "Parsing problem /home/mappelgren/Desktop/correcting-agent/data/simplecolours/problem9.pddl\n",
      "/home/mappelgren/Desktop/correcting-agent/data/domain/blocks-domain.pddl\n",
      "problem9.pddl reward: -10\n",
      "Parsing domain /home/mappelgren/Desktop/correcting-agent/data/domain/blocks-domain.pddl\n",
      "Parsing problem /home/mappelgren/Desktop/correcting-agent/data/simplecolours/problem15.pddl\n",
      "/home/mappelgren/Desktop/correcting-agent/data/domain/blocks-domain.pddl\n",
      "problem15.pddl reward: -10\n",
      "Parsing domain /home/mappelgren/Desktop/correcting-agent/data/domain/blocks-domain.pddl\n",
      "Parsing problem /home/mappelgren/Desktop/correcting-agent/data/simplecolours/problem14.pddl\n",
      "/home/mappelgren/Desktop/correcting-agent/data/domain/blocks-domain.pddl\n",
      "problem14.pddl reward: -10\n",
      "Parsing domain /home/mappelgren/Desktop/correcting-agent/data/domain/blocks-domain.pddl\n",
      "Parsing problem /home/mappelgren/Desktop/correcting-agent/data/simplecolours/problem38.pddl\n",
      "/home/mappelgren/Desktop/correcting-agent/data/domain/blocks-domain.pddl\n",
      "problem38.pddl reward: -10\n",
      "Parsing domain /home/mappelgren/Desktop/correcting-agent/data/domain/blocks-domain.pddl\n",
      "Parsing problem /home/mappelgren/Desktop/correcting-agent/data/simplecolours/problem11.pddl\n",
      "/home/mappelgren/Desktop/correcting-agent/data/domain/blocks-domain.pddl\n",
      "problem11.pddl reward: -10\n",
      "Parsing domain /home/mappelgren/Desktop/correcting-agent/data/domain/blocks-domain.pddl\n",
      "Parsing problem /home/mappelgren/Desktop/correcting-agent/data/simplecolours/problem49.pddl\n",
      "/home/mappelgren/Desktop/correcting-agent/data/domain/blocks-domain.pddl\n",
      "problem49.pddl reward: -10\n",
      "Parsing domain /home/mappelgren/Desktop/correcting-agent/data/domain/blocks-domain.pddl\n",
      "Parsing problem /home/mappelgren/Desktop/correcting-agent/data/simplecolours/problem16.pddl\n",
      "/home/mappelgren/Desktop/correcting-agent/data/domain/blocks-domain.pddl\n",
      "problem16.pddl reward: -10\n",
      "Parsing domain /home/mappelgren/Desktop/correcting-agent/data/domain/blocks-domain.pddl\n",
      "Parsing problem /home/mappelgren/Desktop/correcting-agent/data/simplecolours/problem35.pddl\n",
      "/home/mappelgren/Desktop/correcting-agent/data/domain/blocks-domain.pddl\n",
      "problem35.pddl reward: -10\n",
      "Parsing domain /home/mappelgren/Desktop/correcting-agent/data/domain/blocks-domain.pddl\n",
      "Parsing problem /home/mappelgren/Desktop/correcting-agent/data/simplecolours/problem3.pddl\n",
      "/home/mappelgren/Desktop/correcting-agent/data/domain/blocks-domain.pddl\n",
      "problem3.pddl reward: -10\n",
      "Parsing domain /home/mappelgren/Desktop/correcting-agent/data/domain/blocks-domain.pddl\n",
      "Parsing problem /home/mappelgren/Desktop/correcting-agent/data/simplecolours/problem47.pddl\n",
      "/home/mappelgren/Desktop/correcting-agent/data/domain/blocks-domain.pddl\n",
      "problem47.pddl reward: -10\n",
      "Parsing domain /home/mappelgren/Desktop/correcting-agent/data/domain/blocks-domain.pddl\n",
      "Parsing problem /home/mappelgren/Desktop/correcting-agent/data/simplecolours/problem21.pddl\n",
      "/home/mappelgren/Desktop/correcting-agent/data/domain/blocks-domain.pddl\n",
      "problem21.pddl reward: -10\n",
      "Parsing domain /home/mappelgren/Desktop/correcting-agent/data/domain/blocks-domain.pddl\n",
      "Parsing problem /home/mappelgren/Desktop/correcting-agent/data/simplecolours/problem4.pddl\n",
      "/home/mappelgren/Desktop/correcting-agent/data/domain/blocks-domain.pddl\n",
      "problem4.pddl reward: -10\n",
      "Parsing domain /home/mappelgren/Desktop/correcting-agent/data/domain/blocks-domain.pddl\n",
      "Parsing problem /home/mappelgren/Desktop/correcting-agent/data/simplecolours/problem32.pddl\n",
      "/home/mappelgren/Desktop/correcting-agent/data/domain/blocks-domain.pddl\n",
      "problem32.pddl reward: -10\n",
      "Parsing domain /home/mappelgren/Desktop/correcting-agent/data/domain/blocks-domain.pddl\n",
      "Parsing problem /home/mappelgren/Desktop/correcting-agent/data/simplecolours/problem13.pddl\n",
      "/home/mappelgren/Desktop/correcting-agent/data/domain/blocks-domain.pddl\n",
      "problem13.pddl reward: -10\n",
      "Parsing domain /home/mappelgren/Desktop/correcting-agent/data/domain/blocks-domain.pddl\n",
      "Parsing problem /home/mappelgren/Desktop/correcting-agent/data/simplecolours/problem5.pddl\n",
      "/home/mappelgren/Desktop/correcting-agent/data/domain/blocks-domain.pddl\n",
      "problem5.pddl reward: -10\n",
      "Parsing domain /home/mappelgren/Desktop/correcting-agent/data/domain/blocks-domain.pddl\n",
      "Parsing problem /home/mappelgren/Desktop/correcting-agent/data/triplicatered/problem48.pddl\n",
      "Parsing domain /home/mappelgren/Desktop/correcting-agent/data/domain/blocks-domain.pddl\n",
      "Parsing problem /home/mappelgren/Desktop/correcting-agent/data/triplicatered/problem48.pddl\n",
      "/home/mappelgren/Desktop/correcting-agent/data/domain/blocks-domain.pddl\n"
     ]
    },
    {
     "name": "stderr",
     "output_type": "stream",
     "text": [
      "T: no, put red blocks on blue blocks\n"
     ]
    },
    {
     "name": "stdout",
     "output_type": "stream",
     "text": [
      "problem48.pddl reward: -10\n",
      "Parsing domain /home/mappelgren/Desktop/correcting-agent/data/domain/blocks-domain.pddl\n",
      "Parsing problem /home/mappelgren/Desktop/correcting-agent/data/triplicatered/problem26.pddl\n",
      "/home/mappelgren/Desktop/correcting-agent/data/domain/blocks-domain.pddl\n",
      "Message(rel='on', o1=['red'], o2=['blue'], T='tower', o3=None)\n",
      "no, put red blocks on blue blocks\n",
      "V_1(all x.(red(x) -> exists y. (blue(y) & on(x,y))))\n",
      "all x.(red(x) -> exists y. (blue(y) & on(x,y)))\n",
      "/home/mappelgren/Desktop/correcting-agent/data/domain/blocks-domain.pddl\n"
     ]
    },
    {
     "name": "stderr",
     "output_type": "stream",
     "text": [
      "T: No, now you cannot put b7 in the tower because you must put purple blocks on red blocks\n"
     ]
    },
    {
     "name": "stdout",
     "output_type": "stream",
     "text": [
      "Message(rel='on', o1=['purple'], o2=['red'], T='table', o3='b7')\n",
      "No, now you cannot put b7 in the tower because you must put purple blocks on red blocks\n",
      "V_2(all y.(red(y) -> exists x. (purple(x) & on(x,y))))\n",
      "all y.(red(y) -> exists x. (purple(x) & on(x,y)))\n",
      "/home/mappelgren/Desktop/correcting-agent/data/domain/blocks-domain.pddl\n"
     ]
    },
    {
     "name": "stderr",
     "output_type": "stream",
     "text": [
      "T: No, now you cannot put b7 in the tower because you must put purple blocks on red blocks\n"
     ]
    },
    {
     "name": "stdout",
     "output_type": "stream",
     "text": [
      "/home/mappelgren/Desktop/correcting-agent/data/domain/blocks-domain.pddl\n",
      "Message(rel='on', o1=['purple'], o2=['red'], T='table', o3='b7')\n",
      "No, now you cannot put b7 in the tower because you must put purple blocks on red blocks\n",
      "V_3(all y.(red(y) -> exists x. (purple(x) & on(x,y))))\n",
      "all y.(red(y) -> exists x. (purple(x) & on(x,y)))\n",
      "/home/mappelgren/Desktop/correcting-agent/data/domain/blocks-domain.pddl\n"
     ]
    },
    {
     "name": "stderr",
     "output_type": "stream",
     "text": [
      "T: no, put red blocks on blue blocks\n"
     ]
    },
    {
     "name": "stdout",
     "output_type": "stream",
     "text": [
      "/home/mappelgren/Desktop/correcting-agent/data/domain/blocks-domain.pddl\n",
      "Message(rel='on', o1=['red'], o2=['blue'], T='tower', o3=None)\n",
      "no, put red blocks on blue blocks\n",
      "V_4(all x.(red(x) -> exists y. (blue(y) & on(x,y))))\n",
      "all x.(red(x) -> exists y. (blue(y) & on(x,y)))\n",
      "/home/mappelgren/Desktop/correcting-agent/data/domain/blocks-domain.pddl\n"
     ]
    },
    {
     "name": "stderr",
     "output_type": "stream",
     "text": [
      "T: No, now you cannot put b7 in the tower because you must put purple blocks on red blocks\n"
     ]
    },
    {
     "name": "stdout",
     "output_type": "stream",
     "text": [
      "/home/mappelgren/Desktop/correcting-agent/data/domain/blocks-domain.pddl\n",
      "Message(rel='on', o1=['purple'], o2=['red'], T='table', o3='b7')\n"
     ]
    },
    {
     "name": "stderr",
     "output_type": "stream",
     "text": [
      "T: no, put red blocks on blue blocks\n"
     ]
    },
    {
     "name": "stdout",
     "output_type": "stream",
     "text": [
      "No, now you cannot put b7 in the tower because you must put purple blocks on red blocks\n",
      "V_5(all y.(red(y) -> exists x. (purple(x) & on(x,y))))\n",
      "all y.(red(y) -> exists x. (purple(x) & on(x,y)))\n",
      "/home/mappelgren/Desktop/correcting-agent/data/domain/blocks-domain.pddl\n",
      "/home/mappelgren/Desktop/correcting-agent/data/domain/blocks-domain.pddl\n",
      "Message(rel='on', o1=['red'], o2=['blue'], T='tower', o3=None)\n"
     ]
    },
    {
     "name": "stderr",
     "output_type": "stream",
     "text": [
      "T: No, now you cannot put b7 in the tower because you must put purple blocks on red blocks\n"
     ]
    },
    {
     "name": "stdout",
     "output_type": "stream",
     "text": [
      "no, put red blocks on blue blocks\n",
      "V_6(all x.(red(x) -> exists y. (blue(y) & on(x,y))))\n",
      "all x.(red(x) -> exists y. (blue(y) & on(x,y)))\n",
      "/home/mappelgren/Desktop/correcting-agent/data/domain/blocks-domain.pddl\n",
      "/home/mappelgren/Desktop/correcting-agent/data/domain/blocks-domain.pddl\n",
      "Message(rel='on', o1=['purple'], o2=['red'], T='table', o3='b7')\n"
     ]
    },
    {
     "name": "stderr",
     "output_type": "stream",
     "text": [
      "T: no, put red blocks on blue blocks\n"
     ]
    },
    {
     "name": "stdout",
     "output_type": "stream",
     "text": [
      "No, now you cannot put b7 in the tower because you must put purple blocks on red blocks\n",
      "V_7(all y.(red(y) -> exists x. (purple(x) & on(x,y))))\n",
      "all y.(red(y) -> exists x. (purple(x) & on(x,y)))\n",
      "/home/mappelgren/Desktop/correcting-agent/data/domain/blocks-domain.pddl\n",
      "/home/mappelgren/Desktop/correcting-agent/data/domain/blocks-domain.pddl\n",
      "Message(rel='on', o1=['red'], o2=['blue'], T='tower', o3=None)\n",
      "no, put red blocks on blue blocks\n",
      "V_8(all x.(red(x) -> exists y. (blue(y) & on(x,y))))\n",
      "all x.(red(x) -> exists y. (blue(y) & on(x,y)))\n",
      "/home/mappelgren/Desktop/correcting-agent/data/domain/blocks-domain.pddl\n",
      "problem26.pddl reward: -26\n",
      "Parsing domain /home/mappelgren/Desktop/correcting-agent/data/domain/blocks-domain.pddl\n",
      "Parsing problem /home/mappelgren/Desktop/correcting-agent/data/triplicatered/problem20.pddl\n"
     ]
    },
    {
     "name": "stderr",
     "output_type": "stream",
     "text": [
      "T: no, put red blocks on blue blocks\n"
     ]
    },
    {
     "name": "stdout",
     "output_type": "stream",
     "text": [
      "/home/mappelgren/Desktop/correcting-agent/data/domain/blocks-domain.pddl\n",
      "Message(rel='on', o1=['red'], o2=['blue'], T='tower', o3=None)\n",
      "no, put red blocks on blue blocks\n",
      "Is the top object red\n",
      "yes\n",
      "V_1(all x.(red(x) -> exists y. (blue(y) & on(x,y))))\n",
      "all x.(red(x) -> exists y. (blue(y) & on(x,y)))\n"
     ]
    },
    {
     "name": "stderr",
     "output_type": "stream",
     "text": [
      "T: No, now you cannot put b1 in the tower because you must put purple blocks on red blocks\n"
     ]
    },
    {
     "name": "stdout",
     "output_type": "stream",
     "text": [
      "/home/mappelgren/Desktop/correcting-agent/data/domain/blocks-domain.pddl\n",
      "/home/mappelgren/Desktop/correcting-agent/data/domain/blocks-domain.pddl\n",
      "Message(rel='on', o1=['purple'], o2=['red'], T='table', o3='b1')\n"
     ]
    },
    {
     "name": "stderr",
     "output_type": "stream",
     "text": [
      "T: no, put red blocks on blue blocks\n"
     ]
    },
    {
     "name": "stdout",
     "output_type": "stream",
     "text": [
      "No, now you cannot put b1 in the tower because you must put purple blocks on red blocks\n",
      "V_2(all y.(red(y) -> exists x. (purple(x) & on(x,y))))\n",
      "all y.(red(y) -> exists x. (purple(x) & on(x,y)))\n",
      "/home/mappelgren/Desktop/correcting-agent/data/domain/blocks-domain.pddl\n",
      "/home/mappelgren/Desktop/correcting-agent/data/domain/blocks-domain.pddl\n",
      "Message(rel='on', o1=['red'], o2=['blue'], T='tower', o3=None)\n"
     ]
    },
    {
     "name": "stderr",
     "output_type": "stream",
     "text": [
      "T: No, now you cannot put b1 in the tower because you must put purple blocks on red blocks\n"
     ]
    },
    {
     "name": "stdout",
     "output_type": "stream",
     "text": [
      "no, put red blocks on blue blocks\n",
      "V_3(all x.(red(x) -> exists y. (blue(y) & on(x,y))))\n",
      "all x.(red(x) -> exists y. (blue(y) & on(x,y)))\n",
      "/home/mappelgren/Desktop/correcting-agent/data/domain/blocks-domain.pddl\n",
      "/home/mappelgren/Desktop/correcting-agent/data/domain/blocks-domain.pddl\n",
      "/home/mappelgren/Desktop/correcting-agent/data/domain/blocks-domain.pddl\n",
      "/home/mappelgren/Desktop/correcting-agent/data/domain/blocks-domain.pddl\n",
      "/home/mappelgren/Desktop/correcting-agent/data/domain/blocks-domain.pddl\n",
      "/home/mappelgren/Desktop/correcting-agent/data/domain/blocks-domain.pddl\n",
      "Message(rel='on', o1=['purple'], o2=['red'], T='table', o3='b1')\n",
      "No, now you cannot put b1 in the tower because you must put purple blocks on red blocks\n",
      "V_4(all y.(red(y) -> exists x. (purple(x) & on(x,y))))\n",
      "all y.(red(y) -> exists x. (purple(x) & on(x,y)))\n",
      "/home/mappelgren/Desktop/correcting-agent/data/domain/blocks-domain.pddl\n",
      "/home/mappelgren/Desktop/correcting-agent/data/domain/blocks-domain.pddl\n",
      "/home/mappelgren/Desktop/correcting-agent/data/domain/blocks-domain.pddl\n",
      "/home/mappelgren/Desktop/correcting-agent/data/domain/blocks-domain.pddl\n",
      "/home/mappelgren/Desktop/correcting-agent/data/domain/blocks-domain.pddl\n",
      "/home/mappelgren/Desktop/correcting-agent/data/domain/blocks-domain.pddl\n"
     ]
    },
    {
     "name": "stderr",
     "output_type": "stream",
     "text": [
      "T: no, that is wrong for the same reason\n"
     ]
    },
    {
     "name": "stdout",
     "output_type": "stream",
     "text": [
      "Message(rel=None, o1=None, o2=None, T='same reason', o3=None)\n"
     ]
    },
    {
     "name": "stderr",
     "output_type": "stream",
     "text": [
      "T: No, now you cannot put b1 in the tower because you must put red blocks on blue blocks\n"
     ]
    },
    {
     "name": "stdout",
     "output_type": "stream",
     "text": [
      "no, that is wrong for the same reason\n",
      "V_5(all y.(red(y) -> exists x. (purple(x) & on(x,y))))\n",
      "all y.(red(y) -> exists x. (purple(x) & on(x,y)))\n",
      "/home/mappelgren/Desktop/correcting-agent/data/domain/blocks-domain.pddl\n",
      "/home/mappelgren/Desktop/correcting-agent/data/domain/blocks-domain.pddl\n",
      "/home/mappelgren/Desktop/correcting-agent/data/domain/blocks-domain.pddl\n",
      "/home/mappelgren/Desktop/correcting-agent/data/domain/blocks-domain.pddl\n",
      "/home/mappelgren/Desktop/correcting-agent/data/domain/blocks-domain.pddl\n",
      "/home/mappelgren/Desktop/correcting-agent/data/domain/blocks-domain.pddl\n",
      "Message(rel='on', o1=['red'], o2=['blue'], T='table', o3='b1')\n",
      "No, now you cannot put b1 in the tower because you must put red blocks on blue blocks\n",
      "V_6(all x.(red(x) -> exists y. (blue(y) & on(x,y))))\n",
      "all x.(red(x) -> exists y. (blue(y) & on(x,y)))\n",
      "/home/mappelgren/Desktop/correcting-agent/data/domain/blocks-domain.pddl\n",
      "problem20.pddl reward: -22\n",
      "Parsing domain /home/mappelgren/Desktop/correcting-agent/data/domain/blocks-domain.pddl\n",
      "Parsing problem /home/mappelgren/Desktop/correcting-agent/data/triplicatered/problem45.pddl\n",
      "/home/mappelgren/Desktop/correcting-agent/data/domain/blocks-domain.pddl\n",
      "/home/mappelgren/Desktop/correcting-agent/data/domain/blocks-domain.pddl\n",
      "problem45.pddl reward: -10\n",
      "Parsing domain /home/mappelgren/Desktop/correcting-agent/data/domain/blocks-domain.pddl\n",
      "Parsing problem /home/mappelgren/Desktop/correcting-agent/data/triplicatered/problem18.pddl\n",
      "/home/mappelgren/Desktop/correcting-agent/data/domain/blocks-domain.pddl\n",
      "problem18.pddl reward: -10\n",
      "Parsing domain /home/mappelgren/Desktop/correcting-agent/data/domain/blocks-domain.pddl\n",
      "Parsing problem /home/mappelgren/Desktop/correcting-agent/data/triplicatered/problem1.pddl\n",
      "/home/mappelgren/Desktop/correcting-agent/data/domain/blocks-domain.pddl\n",
      "problem1.pddl reward: -10\n",
      "Parsing domain /home/mappelgren/Desktop/correcting-agent/data/domain/blocks-domain.pddl\n",
      "Parsing problem /home/mappelgren/Desktop/correcting-agent/data/triplicatered/problem36.pddl\n"
     ]
    },
    {
     "name": "stderr",
     "output_type": "stream",
     "text": [
      "T: no, put red blocks on blue blocks\n"
     ]
    },
    {
     "name": "stdout",
     "output_type": "stream",
     "text": [
      "/home/mappelgren/Desktop/correcting-agent/data/domain/blocks-domain.pddl\n",
      "Message(rel='on', o1=['red'], o2=['blue'], T='tower', o3=None)\n",
      "no, put red blocks on blue blocks\n",
      "V_1(all x.(red(x) -> exists y. (blue(y) & on(x,y))))\n",
      "all x.(red(x) -> exists y. (blue(y) & on(x,y)))\n",
      "/home/mappelgren/Desktop/correcting-agent/data/domain/blocks-domain.pddl\n",
      "/home/mappelgren/Desktop/correcting-agent/data/domain/blocks-domain.pddl\n",
      "/home/mappelgren/Desktop/correcting-agent/data/domain/blocks-domain.pddl\n",
      "/home/mappelgren/Desktop/correcting-agent/data/domain/blocks-domain.pddl\n",
      "/home/mappelgren/Desktop/correcting-agent/data/domain/blocks-domain.pddl\n",
      "/home/mappelgren/Desktop/correcting-agent/data/domain/blocks-domain.pddl\n",
      "/home/mappelgren/Desktop/correcting-agent/data/domain/blocks-domain.pddl\n",
      "/home/mappelgren/Desktop/correcting-agent/data/domain/blocks-domain.pddl\n"
     ]
    },
    {
     "name": "stderr",
     "output_type": "stream",
     "text": [
      "T: No, now you cannot put b6 in the tower because you must put purple blocks on red blocks\n"
     ]
    },
    {
     "name": "stdout",
     "output_type": "stream",
     "text": [
      "/home/mappelgren/Desktop/correcting-agent/data/domain/blocks-domain.pddl\n",
      "/home/mappelgren/Desktop/correcting-agent/data/domain/blocks-domain.pddl\n",
      "/home/mappelgren/Desktop/correcting-agent/data/domain/blocks-domain.pddl\n",
      "Message(rel='on', o1=['purple'], o2=['red'], T='table', o3='b6')\n"
     ]
    },
    {
     "name": "stderr",
     "output_type": "stream",
     "text": [
      "T: No, now you cannot put b6 in the tower because you must put purple blocks on red blocks\n"
     ]
    },
    {
     "name": "stdout",
     "output_type": "stream",
     "text": [
      "No, now you cannot put b6 in the tower because you must put purple blocks on red blocks\n",
      "V_2(all y.(red(y) -> exists x. (purple(x) & on(x,y))))\n",
      "all y.(red(y) -> exists x. (purple(x) & on(x,y)))\n",
      "/home/mappelgren/Desktop/correcting-agent/data/domain/blocks-domain.pddl\n",
      "/home/mappelgren/Desktop/correcting-agent/data/domain/blocks-domain.pddl\n",
      "Message(rel='on', o1=['purple'], o2=['red'], T='table', o3='b6')\n"
     ]
    },
    {
     "name": "stderr",
     "output_type": "stream",
     "text": [
      "T: no, put red blocks on blue blocks\n"
     ]
    },
    {
     "name": "stdout",
     "output_type": "stream",
     "text": [
      "No, now you cannot put b6 in the tower because you must put purple blocks on red blocks\n",
      "V_3(all y.(red(y) -> exists x. (purple(x) & on(x,y))))\n",
      "all y.(red(y) -> exists x. (purple(x) & on(x,y)))\n",
      "/home/mappelgren/Desktop/correcting-agent/data/domain/blocks-domain.pddl\n",
      "/home/mappelgren/Desktop/correcting-agent/data/domain/blocks-domain.pddl\n",
      "Message(rel='on', o1=['red'], o2=['blue'], T='tower', o3=None)\n"
     ]
    },
    {
     "name": "stderr",
     "output_type": "stream",
     "text": [
      "T: No, now you cannot put b6 in the tower because you must put purple blocks on red blocks\n"
     ]
    },
    {
     "name": "stdout",
     "output_type": "stream",
     "text": [
      "no, put red blocks on blue blocks\n",
      "V_4(all x.(red(x) -> exists y. (blue(y) & on(x,y))))\n",
      "all x.(red(x) -> exists y. (blue(y) & on(x,y)))\n",
      "/home/mappelgren/Desktop/correcting-agent/data/domain/blocks-domain.pddl\n",
      "/home/mappelgren/Desktop/correcting-agent/data/domain/blocks-domain.pddl\n",
      "Message(rel='on', o1=['purple'], o2=['red'], T='table', o3='b6')\n"
     ]
    },
    {
     "name": "stderr",
     "output_type": "stream",
     "text": [
      "T: no, put red blocks on blue blocks\n"
     ]
    },
    {
     "name": "stdout",
     "output_type": "stream",
     "text": [
      "No, now you cannot put b6 in the tower because you must put purple blocks on red blocks\n",
      "V_5(all y.(red(y) -> exists x. (purple(x) & on(x,y))))\n",
      "all y.(red(y) -> exists x. (purple(x) & on(x,y)))\n",
      "/home/mappelgren/Desktop/correcting-agent/data/domain/blocks-domain.pddl\n",
      "/home/mappelgren/Desktop/correcting-agent/data/domain/blocks-domain.pddl\n",
      "Message(rel='on', o1=['red'], o2=['blue'], T='tower', o3=None)\n"
     ]
    },
    {
     "name": "stderr",
     "output_type": "stream",
     "text": [
      "T: No, now you cannot put b6 in the tower because you must put purple blocks on red blocks\n"
     ]
    },
    {
     "name": "stdout",
     "output_type": "stream",
     "text": [
      "no, put red blocks on blue blocks\n",
      "V_6(all x.(red(x) -> exists y. (blue(y) & on(x,y))))\n",
      "all x.(red(x) -> exists y. (blue(y) & on(x,y)))\n",
      "/home/mappelgren/Desktop/correcting-agent/data/domain/blocks-domain.pddl\n",
      "/home/mappelgren/Desktop/correcting-agent/data/domain/blocks-domain.pddl\n",
      "Message(rel='on', o1=['purple'], o2=['red'], T='table', o3='b6')\n",
      "No, now you cannot put b6 in the tower because you must put purple blocks on red blocks\n",
      "V_7(all y.(red(y) -> exists x. (purple(x) & on(x,y))))\n",
      "all y.(red(y) -> exists x. (purple(x) & on(x,y)))\n",
      "/home/mappelgren/Desktop/correcting-agent/data/domain/blocks-domain.pddl\n",
      "/home/mappelgren/Desktop/correcting-agent/data/domain/blocks-domain.pddl\n",
      "problem36.pddl reward: -24\n",
      "Parsing domain /home/mappelgren/Desktop/correcting-agent/data/domain/blocks-domain.pddl\n",
      "Parsing problem /home/mappelgren/Desktop/correcting-agent/data/triplicatered/problem41.pddl\n",
      "/home/mappelgren/Desktop/correcting-agent/data/domain/blocks-domain.pddl\n",
      "problem41.pddl reward: -10\n",
      "Parsing domain /home/mappelgren/Desktop/correcting-agent/data/domain/blocks-domain.pddl\n"
     ]
    },
    {
     "name": "stderr",
     "output_type": "stream",
     "text": [
      "T: No, now you cannot put b1 in the tower because you must put purple blocks on red blocks\n"
     ]
    },
    {
     "name": "stdout",
     "output_type": "stream",
     "text": [
      "Parsing problem /home/mappelgren/Desktop/correcting-agent/data/triplicatered/problem44.pddl\n",
      "/home/mappelgren/Desktop/correcting-agent/data/domain/blocks-domain.pddl\n",
      "Message(rel='on', o1=['purple'], o2=['red'], T='table', o3='b1')\n"
     ]
    },
    {
     "name": "stderr",
     "output_type": "stream",
     "text": [
      "T: no, that is wrong for the same reason\n"
     ]
    },
    {
     "name": "stdout",
     "output_type": "stream",
     "text": [
      "No, now you cannot put b1 in the tower because you must put purple blocks on red blocks\n",
      "V_1(all y.(red(y) -> exists x. (purple(x) & on(x,y))))\n",
      "all y.(red(y) -> exists x. (purple(x) & on(x,y)))\n",
      "/home/mappelgren/Desktop/correcting-agent/data/domain/blocks-domain.pddl\n",
      "Message(rel=None, o1=None, o2=None, T='same reason', o3=None)\n"
     ]
    },
    {
     "name": "stderr",
     "output_type": "stream",
     "text": [
      "T: No, now you cannot put b1 in the tower because you must put purple blocks on red blocks\n"
     ]
    },
    {
     "name": "stdout",
     "output_type": "stream",
     "text": [
      "no, that is wrong for the same reason\n",
      "V_2(all y.(red(y) -> exists x. (purple(x) & on(x,y))))\n",
      "all y.(red(y) -> exists x. (purple(x) & on(x,y)))\n",
      "/home/mappelgren/Desktop/correcting-agent/data/domain/blocks-domain.pddl\n",
      "Message(rel='on', o1=['purple'], o2=['red'], T='table', o3='b1')\n",
      "No, now you cannot put b1 in the tower because you must put purple blocks on red blocks\n",
      "V_3(all y.(red(y) -> exists x. (purple(x) & on(x,y))))\n",
      "all y.(red(y) -> exists x. (purple(x) & on(x,y)))\n",
      "/home/mappelgren/Desktop/correcting-agent/data/domain/blocks-domain.pddl\n"
     ]
    },
    {
     "name": "stderr",
     "output_type": "stream",
     "text": [
      "T: No, now you cannot put b1 in the tower because you must put red blocks on blue blocks\n"
     ]
    },
    {
     "name": "stdout",
     "output_type": "stream",
     "text": [
      "Message(rel='on', o1=['red'], o2=['blue'], T='table', o3='b1')\n"
     ]
    },
    {
     "name": "stderr",
     "output_type": "stream",
     "text": [
      "T: no, put purple blocks on red blocks\n"
     ]
    },
    {
     "name": "stdout",
     "output_type": "stream",
     "text": [
      "No, now you cannot put b1 in the tower because you must put red blocks on blue blocks\n",
      "V_4(all x.(red(x) -> exists y. (blue(y) & on(x,y))))\n",
      "all x.(red(x) -> exists y. (blue(y) & on(x,y)))\n",
      "/home/mappelgren/Desktop/correcting-agent/data/domain/blocks-domain.pddl\n",
      "Message(rel='on', o1=['purple'], o2=['red'], T='tower', o3=None)\n",
      "no, put purple blocks on red blocks\n",
      "V_5(all y.(red(y) -> exists x. (purple(x) & on(x,y))))\n",
      "all y.(red(y) -> exists x. (purple(x) & on(x,y)))\n",
      "/home/mappelgren/Desktop/correcting-agent/data/domain/blocks-domain.pddl\n",
      "/home/mappelgren/Desktop/correcting-agent/data/domain/blocks-domain.pddl\n",
      "/home/mappelgren/Desktop/correcting-agent/data/domain/blocks-domain.pddl\n",
      "/home/mappelgren/Desktop/correcting-agent/data/domain/blocks-domain.pddl\n",
      "/home/mappelgren/Desktop/correcting-agent/data/domain/blocks-domain.pddl\n",
      "/home/mappelgren/Desktop/correcting-agent/data/domain/blocks-domain.pddl\n",
      "/home/mappelgren/Desktop/correcting-agent/data/domain/blocks-domain.pddl\n",
      "/home/mappelgren/Desktop/correcting-agent/data/domain/blocks-domain.pddl\n",
      "/home/mappelgren/Desktop/correcting-agent/data/domain/blocks-domain.pddl\n",
      "/home/mappelgren/Desktop/correcting-agent/data/domain/blocks-domain.pddl\n",
      "/home/mappelgren/Desktop/correcting-agent/data/domain/blocks-domain.pddl\n",
      "/home/mappelgren/Desktop/correcting-agent/data/domain/blocks-domain.pddl\n"
     ]
    },
    {
     "name": "stderr",
     "output_type": "stream",
     "text": [
      "T: No, now you cannot put b1 in the tower because you must put purple blocks on red blocks\n"
     ]
    },
    {
     "name": "stdout",
     "output_type": "stream",
     "text": [
      "/home/mappelgren/Desktop/correcting-agent/data/domain/blocks-domain.pddl\n",
      "Message(rel='on', o1=['purple'], o2=['red'], T='table', o3='b1')\n",
      "No, now you cannot put b1 in the tower because you must put purple blocks on red blocks\n",
      "V_6(all y.(red(y) -> exists x. (purple(x) & on(x,y))))\n",
      "all y.(red(y) -> exists x. (purple(x) & on(x,y)))\n",
      "/home/mappelgren/Desktop/correcting-agent/data/domain/blocks-domain.pddl\n",
      "problem44.pddl reward: -22\n",
      "Parsing domain /home/mappelgren/Desktop/correcting-agent/data/domain/blocks-domain.pddl\n",
      "Parsing problem /home/mappelgren/Desktop/correcting-agent/data/triplicatered/problem40.pddl\n",
      "/home/mappelgren/Desktop/correcting-agent/data/domain/blocks-domain.pddl\n",
      "/home/mappelgren/Desktop/correcting-agent/data/domain/blocks-domain.pddl\n",
      "/home/mappelgren/Desktop/correcting-agent/data/domain/blocks-domain.pddl\n",
      "/home/mappelgren/Desktop/correcting-agent/data/domain/blocks-domain.pddl\n",
      "/home/mappelgren/Desktop/correcting-agent/data/domain/blocks-domain.pddl\n",
      "problem40.pddl reward: -10\n",
      "Parsing domain /home/mappelgren/Desktop/correcting-agent/data/domain/blocks-domain.pddl\n",
      "Parsing problem /home/mappelgren/Desktop/correcting-agent/data/triplicatered/problem31.pddl\n",
      "/home/mappelgren/Desktop/correcting-agent/data/domain/blocks-domain.pddl\n",
      "/home/mappelgren/Desktop/correcting-agent/data/domain/blocks-domain.pddl\n"
     ]
    },
    {
     "name": "stderr",
     "output_type": "stream",
     "text": [
      "T: no, put red blocks on blue blocks\n"
     ]
    },
    {
     "name": "stdout",
     "output_type": "stream",
     "text": [
      "/home/mappelgren/Desktop/correcting-agent/data/domain/blocks-domain.pddl\n",
      "Message(rel='on', o1=['red'], o2=['blue'], T='tower', o3=None)\n",
      "no, put red blocks on blue blocks\n",
      "V_1(all x.(red(x) -> exists y. (blue(y) & on(x,y))))\n",
      "all x.(red(x) -> exists y. (blue(y) & on(x,y)))\n",
      "/home/mappelgren/Desktop/correcting-agent/data/domain/blocks-domain.pddl\n",
      "/home/mappelgren/Desktop/correcting-agent/data/domain/blocks-domain.pddl\n",
      "/home/mappelgren/Desktop/correcting-agent/data/domain/blocks-domain.pddl\n",
      "/home/mappelgren/Desktop/correcting-agent/data/domain/blocks-domain.pddl\n",
      "/home/mappelgren/Desktop/correcting-agent/data/domain/blocks-domain.pddl\n",
      "/home/mappelgren/Desktop/correcting-agent/data/domain/blocks-domain.pddl\n",
      "/home/mappelgren/Desktop/correcting-agent/data/domain/blocks-domain.pddl\n",
      "/home/mappelgren/Desktop/correcting-agent/data/domain/blocks-domain.pddl\n",
      "/home/mappelgren/Desktop/correcting-agent/data/domain/blocks-domain.pddl\n",
      "/home/mappelgren/Desktop/correcting-agent/data/domain/blocks-domain.pddl\n",
      "/home/mappelgren/Desktop/correcting-agent/data/domain/blocks-domain.pddl\n",
      "/home/mappelgren/Desktop/correcting-agent/data/domain/blocks-domain.pddl\n",
      "/home/mappelgren/Desktop/correcting-agent/data/domain/blocks-domain.pddl\n",
      "/home/mappelgren/Desktop/correcting-agent/data/domain/blocks-domain.pddl\n",
      "/home/mappelgren/Desktop/correcting-agent/data/domain/blocks-domain.pddl\n",
      "/home/mappelgren/Desktop/correcting-agent/data/domain/blocks-domain.pddl\n",
      "/home/mappelgren/Desktop/correcting-agent/data/domain/blocks-domain.pddl\n",
      "/home/mappelgren/Desktop/correcting-agent/data/domain/blocks-domain.pddl\n",
      "/home/mappelgren/Desktop/correcting-agent/data/domain/blocks-domain.pddl\n",
      "/home/mappelgren/Desktop/correcting-agent/data/domain/blocks-domain.pddl\n",
      "/home/mappelgren/Desktop/correcting-agent/data/domain/blocks-domain.pddl\n",
      "/home/mappelgren/Desktop/correcting-agent/data/domain/blocks-domain.pddl\n",
      "/home/mappelgren/Desktop/correcting-agent/data/domain/blocks-domain.pddl\n",
      "/home/mappelgren/Desktop/correcting-agent/data/domain/blocks-domain.pddl\n",
      "/home/mappelgren/Desktop/correcting-agent/data/domain/blocks-domain.pddl\n",
      "/home/mappelgren/Desktop/correcting-agent/data/domain/blocks-domain.pddl\n",
      "/home/mappelgren/Desktop/correcting-agent/data/domain/blocks-domain.pddl\n",
      "/home/mappelgren/Desktop/correcting-agent/data/domain/blocks-domain.pddl\n",
      "/home/mappelgren/Desktop/correcting-agent/data/domain/blocks-domain.pddl\n",
      "/home/mappelgren/Desktop/correcting-agent/data/domain/blocks-domain.pddl\n",
      "/home/mappelgren/Desktop/correcting-agent/data/domain/blocks-domain.pddl\n",
      "/home/mappelgren/Desktop/correcting-agent/data/domain/blocks-domain.pddl\n",
      "/home/mappelgren/Desktop/correcting-agent/data/domain/blocks-domain.pddl\n",
      "/home/mappelgren/Desktop/correcting-agent/data/domain/blocks-domain.pddl\n",
      "/home/mappelgren/Desktop/correcting-agent/data/domain/blocks-domain.pddl\n",
      "/home/mappelgren/Desktop/correcting-agent/data/domain/blocks-domain.pddl\n",
      "/home/mappelgren/Desktop/correcting-agent/data/domain/blocks-domain.pddl\n",
      "/home/mappelgren/Desktop/correcting-agent/data/domain/blocks-domain.pddl\n",
      "/home/mappelgren/Desktop/correcting-agent/data/domain/blocks-domain.pddl\n",
      "/home/mappelgren/Desktop/correcting-agent/data/domain/blocks-domain.pddl\n",
      "/home/mappelgren/Desktop/correcting-agent/data/domain/blocks-domain.pddl\n",
      "/home/mappelgren/Desktop/correcting-agent/data/domain/blocks-domain.pddl\n",
      "/home/mappelgren/Desktop/correcting-agent/data/domain/blocks-domain.pddl\n",
      "/home/mappelgren/Desktop/correcting-agent/data/domain/blocks-domain.pddl\n",
      "/home/mappelgren/Desktop/correcting-agent/data/domain/blocks-domain.pddl\n",
      "/home/mappelgren/Desktop/correcting-agent/data/domain/blocks-domain.pddl\n",
      "/home/mappelgren/Desktop/correcting-agent/data/domain/blocks-domain.pddl\n",
      "/home/mappelgren/Desktop/correcting-agent/data/domain/blocks-domain.pddl\n",
      "/home/mappelgren/Desktop/correcting-agent/data/domain/blocks-domain.pddl\n",
      "/home/mappelgren/Desktop/correcting-agent/data/domain/blocks-domain.pddl\n",
      "/home/mappelgren/Desktop/correcting-agent/data/domain/blocks-domain.pddl\n",
      "/home/mappelgren/Desktop/correcting-agent/data/domain/blocks-domain.pddl\n",
      "/home/mappelgren/Desktop/correcting-agent/data/domain/blocks-domain.pddl\n",
      "/home/mappelgren/Desktop/correcting-agent/data/domain/blocks-domain.pddl\n",
      "/home/mappelgren/Desktop/correcting-agent/data/domain/blocks-domain.pddl\n",
      "/home/mappelgren/Desktop/correcting-agent/data/domain/blocks-domain.pddl\n",
      "/home/mappelgren/Desktop/correcting-agent/data/domain/blocks-domain.pddl\n",
      "/home/mappelgren/Desktop/correcting-agent/data/domain/blocks-domain.pddl\n",
      "/home/mappelgren/Desktop/correcting-agent/data/domain/blocks-domain.pddl\n",
      "/home/mappelgren/Desktop/correcting-agent/data/domain/blocks-domain.pddl\n",
      "/home/mappelgren/Desktop/correcting-agent/data/domain/blocks-domain.pddl\n",
      "/home/mappelgren/Desktop/correcting-agent/data/domain/blocks-domain.pddl\n",
      "/home/mappelgren/Desktop/correcting-agent/data/domain/blocks-domain.pddl\n"
     ]
    },
    {
     "name": "stderr",
     "output_type": "stream",
     "text": [
      "T: No, now you cannot put b1 in the tower because you must put red blocks on blue blocks\n"
     ]
    },
    {
     "name": "stdout",
     "output_type": "stream",
     "text": [
      "/home/mappelgren/Desktop/correcting-agent/data/domain/blocks-domain.pddl\n",
      "Message(rel='on', o1=['red'], o2=['blue'], T='table', o3='b1')\n",
      "No, now you cannot put b1 in the tower because you must put red blocks on blue blocks\n",
      "V_2(all x.(red(x) -> exists y. (blue(y) & on(x,y))))\n",
      "all x.(red(x) -> exists y. (blue(y) & on(x,y)))\n",
      "/home/mappelgren/Desktop/correcting-agent/data/domain/blocks-domain.pddl\n",
      "/home/mappelgren/Desktop/correcting-agent/data/domain/blocks-domain.pddl\n",
      "problem31.pddl reward: -14\n",
      "Parsing domain /home/mappelgren/Desktop/correcting-agent/data/domain/blocks-domain.pddl\n",
      "Parsing problem /home/mappelgren/Desktop/correcting-agent/data/triplicatered/problem27.pddl\n",
      "/home/mappelgren/Desktop/correcting-agent/data/domain/blocks-domain.pddl\n",
      "/home/mappelgren/Desktop/correcting-agent/data/domain/blocks-domain.pddl\n",
      "/home/mappelgren/Desktop/correcting-agent/data/domain/blocks-domain.pddl\n",
      "/home/mappelgren/Desktop/correcting-agent/data/domain/blocks-domain.pddl\n",
      "/home/mappelgren/Desktop/correcting-agent/data/domain/blocks-domain.pddl\n",
      "/home/mappelgren/Desktop/correcting-agent/data/domain/blocks-domain.pddl\n",
      "problem27.pddl reward: -10\n",
      "Parsing domain /home/mappelgren/Desktop/correcting-agent/data/domain/blocks-domain.pddl\n",
      "Parsing problem /home/mappelgren/Desktop/correcting-agent/data/triplicatered/problem37.pddl\n",
      "/home/mappelgren/Desktop/correcting-agent/data/domain/blocks-domain.pddl\n",
      "/home/mappelgren/Desktop/correcting-agent/data/domain/blocks-domain.pddl\n",
      "/home/mappelgren/Desktop/correcting-agent/data/domain/blocks-domain.pddl\n",
      "/home/mappelgren/Desktop/correcting-agent/data/domain/blocks-domain.pddl\n",
      "/home/mappelgren/Desktop/correcting-agent/data/domain/blocks-domain.pddl\n",
      "/home/mappelgren/Desktop/correcting-agent/data/domain/blocks-domain.pddl\n",
      "/home/mappelgren/Desktop/correcting-agent/data/domain/blocks-domain.pddl\n",
      "/home/mappelgren/Desktop/correcting-agent/data/domain/blocks-domain.pddl\n",
      "/home/mappelgren/Desktop/correcting-agent/data/domain/blocks-domain.pddl\n",
      "problem37.pddl reward: -10\n",
      "Parsing domain /home/mappelgren/Desktop/correcting-agent/data/domain/blocks-domain.pddl\n",
      "Parsing problem /home/mappelgren/Desktop/correcting-agent/data/triplicatered/problem33.pddl\n",
      "/home/mappelgren/Desktop/correcting-agent/data/domain/blocks-domain.pddl\n",
      "problem33.pddl reward: -10\n",
      "Parsing domain /home/mappelgren/Desktop/correcting-agent/data/domain/blocks-domain.pddl\n",
      "Parsing problem /home/mappelgren/Desktop/correcting-agent/data/triplicatered/problem34.pddl\n",
      "/home/mappelgren/Desktop/correcting-agent/data/domain/blocks-domain.pddl\n",
      "problem34.pddl reward: -10\n",
      "Parsing domain /home/mappelgren/Desktop/correcting-agent/data/domain/blocks-domain.pddl\n",
      "Parsing problem /home/mappelgren/Desktop/correcting-agent/data/triplicatered/problem46.pddl\n",
      "/home/mappelgren/Desktop/correcting-agent/data/domain/blocks-domain.pddl\n",
      "/home/mappelgren/Desktop/correcting-agent/data/domain/blocks-domain.pddl\n",
      "problem46.pddl reward: -10\n",
      "Parsing domain /home/mappelgren/Desktop/correcting-agent/data/domain/blocks-domain.pddl\n",
      "Parsing problem /home/mappelgren/Desktop/correcting-agent/data/triplicatered/problem50.pddl\n",
      "/home/mappelgren/Desktop/correcting-agent/data/domain/blocks-domain.pddl\n",
      "problem50.pddl reward: -10\n",
      "Parsing domain /home/mappelgren/Desktop/correcting-agent/data/domain/blocks-domain.pddl\n",
      "Parsing problem /home/mappelgren/Desktop/correcting-agent/data/triplicatered/problem2.pddl\n",
      "/home/mappelgren/Desktop/correcting-agent/data/domain/blocks-domain.pddl\n",
      "/home/mappelgren/Desktop/correcting-agent/data/domain/blocks-domain.pddl\n",
      "problem2.pddl reward: -10\n",
      "Parsing domain /home/mappelgren/Desktop/correcting-agent/data/domain/blocks-domain.pddl\n",
      "Parsing problem /home/mappelgren/Desktop/correcting-agent/data/triplicatered/problem23.pddl\n",
      "/home/mappelgren/Desktop/correcting-agent/data/domain/blocks-domain.pddl\n",
      "/home/mappelgren/Desktop/correcting-agent/data/domain/blocks-domain.pddl\n",
      "/home/mappelgren/Desktop/correcting-agent/data/domain/blocks-domain.pddl\n",
      "/home/mappelgren/Desktop/correcting-agent/data/domain/blocks-domain.pddl\n",
      "/home/mappelgren/Desktop/correcting-agent/data/domain/blocks-domain.pddl\n",
      "problem23.pddl reward: -10\n",
      "Parsing domain /home/mappelgren/Desktop/correcting-agent/data/domain/blocks-domain.pddl\n",
      "Parsing problem /home/mappelgren/Desktop/correcting-agent/data/triplicatered/problem24.pddl\n",
      "/home/mappelgren/Desktop/correcting-agent/data/domain/blocks-domain.pddl\n",
      "problem24.pddl reward: -10\n",
      "Parsing domain /home/mappelgren/Desktop/correcting-agent/data/domain/blocks-domain.pddl\n",
      "Parsing problem /home/mappelgren/Desktop/correcting-agent/data/triplicatered/problem7.pddl\n",
      "/home/mappelgren/Desktop/correcting-agent/data/domain/blocks-domain.pddl\n",
      "problem7.pddl reward: -10\n",
      "Parsing domain /home/mappelgren/Desktop/correcting-agent/data/domain/blocks-domain.pddl\n",
      "Parsing problem /home/mappelgren/Desktop/correcting-agent/data/triplicatered/problem8.pddl\n",
      "/home/mappelgren/Desktop/correcting-agent/data/domain/blocks-domain.pddl\n",
      "problem8.pddl reward: -10\n",
      "Parsing domain /home/mappelgren/Desktop/correcting-agent/data/domain/blocks-domain.pddl\n",
      "Parsing problem /home/mappelgren/Desktop/correcting-agent/data/triplicatered/problem30.pddl\n",
      "/home/mappelgren/Desktop/correcting-agent/data/domain/blocks-domain.pddl\n",
      "/home/mappelgren/Desktop/correcting-agent/data/domain/blocks-domain.pddl\n",
      "/home/mappelgren/Desktop/correcting-agent/data/domain/blocks-domain.pddl\n",
      "problem30.pddl reward: -10\n",
      "Parsing domain /home/mappelgren/Desktop/correcting-agent/data/domain/blocks-domain.pddl\n",
      "Parsing problem /home/mappelgren/Desktop/correcting-agent/data/triplicatered/problem42.pddl\n",
      "/home/mappelgren/Desktop/correcting-agent/data/domain/blocks-domain.pddl\n",
      "problem42.pddl reward: -10\n",
      "Parsing domain /home/mappelgren/Desktop/correcting-agent/data/domain/blocks-domain.pddl\n",
      "Parsing problem /home/mappelgren/Desktop/correcting-agent/data/triplicatered/problem43.pddl\n",
      "/home/mappelgren/Desktop/correcting-agent/data/domain/blocks-domain.pddl\n",
      "/home/mappelgren/Desktop/correcting-agent/data/domain/blocks-domain.pddl\n",
      "/home/mappelgren/Desktop/correcting-agent/data/domain/blocks-domain.pddl\n",
      "problem43.pddl reward: -10\n",
      "Parsing domain /home/mappelgren/Desktop/correcting-agent/data/domain/blocks-domain.pddl\n",
      "Parsing problem /home/mappelgren/Desktop/correcting-agent/data/triplicatered/problem28.pddl\n",
      "/home/mappelgren/Desktop/correcting-agent/data/domain/blocks-domain.pddl\n",
      "problem28.pddl reward: -10\n",
      "Parsing domain /home/mappelgren/Desktop/correcting-agent/data/domain/blocks-domain.pddl\n",
      "Parsing problem /home/mappelgren/Desktop/correcting-agent/data/triplicatered/problem29.pddl\n",
      "/home/mappelgren/Desktop/correcting-agent/data/domain/blocks-domain.pddl\n",
      "/home/mappelgren/Desktop/correcting-agent/data/domain/blocks-domain.pddl\n",
      "/home/mappelgren/Desktop/correcting-agent/data/domain/blocks-domain.pddl\n",
      "problem29.pddl reward: -10\n",
      "Parsing domain /home/mappelgren/Desktop/correcting-agent/data/domain/blocks-domain.pddl\n",
      "Parsing problem /home/mappelgren/Desktop/correcting-agent/data/triplicatered/problem17.pddl\n",
      "/home/mappelgren/Desktop/correcting-agent/data/domain/blocks-domain.pddl\n",
      "problem17.pddl reward: -10\n",
      "Parsing domain /home/mappelgren/Desktop/correcting-agent/data/domain/blocks-domain.pddl\n",
      "Parsing problem /home/mappelgren/Desktop/correcting-agent/data/triplicatered/problem10.pddl\n",
      "/home/mappelgren/Desktop/correcting-agent/data/domain/blocks-domain.pddl\n",
      "problem10.pddl reward: -10\n",
      "Parsing domain /home/mappelgren/Desktop/correcting-agent/data/domain/blocks-domain.pddl\n",
      "Parsing problem /home/mappelgren/Desktop/correcting-agent/data/triplicatered/problem25.pddl\n",
      "/home/mappelgren/Desktop/correcting-agent/data/domain/blocks-domain.pddl\n",
      "problem25.pddl reward: -10\n",
      "Parsing domain /home/mappelgren/Desktop/correcting-agent/data/domain/blocks-domain.pddl\n",
      "Parsing problem /home/mappelgren/Desktop/correcting-agent/data/triplicatered/problem39.pddl\n",
      "/home/mappelgren/Desktop/correcting-agent/data/domain/blocks-domain.pddl\n",
      "/home/mappelgren/Desktop/correcting-agent/data/domain/blocks-domain.pddl\n",
      "problem39.pddl reward: -10\n",
      "Parsing domain /home/mappelgren/Desktop/correcting-agent/data/domain/blocks-domain.pddl\n",
      "Parsing problem /home/mappelgren/Desktop/correcting-agent/data/triplicatered/problem19.pddl\n",
      "/home/mappelgren/Desktop/correcting-agent/data/domain/blocks-domain.pddl\n",
      "problem19.pddl reward: -10\n",
      "Parsing domain /home/mappelgren/Desktop/correcting-agent/data/domain/blocks-domain.pddl\n",
      "Parsing problem /home/mappelgren/Desktop/correcting-agent/data/triplicatered/problem6.pddl\n"
     ]
    },
    {
     "name": "stdout",
     "output_type": "stream",
     "text": [
      "/home/mappelgren/Desktop/correcting-agent/data/domain/blocks-domain.pddl\n",
      "/home/mappelgren/Desktop/correcting-agent/data/domain/blocks-domain.pddl\n",
      "problem6.pddl reward: -10\n",
      "Parsing domain /home/mappelgren/Desktop/correcting-agent/data/domain/blocks-domain.pddl\n",
      "Parsing problem /home/mappelgren/Desktop/correcting-agent/data/triplicatered/problem12.pddl\n",
      "/home/mappelgren/Desktop/correcting-agent/data/domain/blocks-domain.pddl\n",
      "problem12.pddl reward: -10\n",
      "Parsing domain /home/mappelgren/Desktop/correcting-agent/data/domain/blocks-domain.pddl\n",
      "Parsing problem /home/mappelgren/Desktop/correcting-agent/data/triplicatered/problem22.pddl\n",
      "/home/mappelgren/Desktop/correcting-agent/data/domain/blocks-domain.pddl\n",
      "/home/mappelgren/Desktop/correcting-agent/data/domain/blocks-domain.pddl\n",
      "/home/mappelgren/Desktop/correcting-agent/data/domain/blocks-domain.pddl\n",
      "/home/mappelgren/Desktop/correcting-agent/data/domain/blocks-domain.pddl\n",
      "problem22.pddl reward: -10\n",
      "Parsing domain /home/mappelgren/Desktop/correcting-agent/data/domain/blocks-domain.pddl\n",
      "Parsing problem /home/mappelgren/Desktop/correcting-agent/data/triplicatered/problem9.pddl\n",
      "/home/mappelgren/Desktop/correcting-agent/data/domain/blocks-domain.pddl\n",
      "problem9.pddl reward: -10\n",
      "Parsing domain /home/mappelgren/Desktop/correcting-agent/data/domain/blocks-domain.pddl\n",
      "Parsing problem /home/mappelgren/Desktop/correcting-agent/data/triplicatered/problem15.pddl\n",
      "/home/mappelgren/Desktop/correcting-agent/data/domain/blocks-domain.pddl\n",
      "/home/mappelgren/Desktop/correcting-agent/data/domain/blocks-domain.pddl\n",
      "/home/mappelgren/Desktop/correcting-agent/data/domain/blocks-domain.pddl\n",
      "problem15.pddl reward: -10\n",
      "Parsing domain /home/mappelgren/Desktop/correcting-agent/data/domain/blocks-domain.pddl\n",
      "Parsing problem /home/mappelgren/Desktop/correcting-agent/data/triplicatered/problem14.pddl\n",
      "/home/mappelgren/Desktop/correcting-agent/data/domain/blocks-domain.pddl\n",
      "problem14.pddl reward: -10\n",
      "Parsing domain /home/mappelgren/Desktop/correcting-agent/data/domain/blocks-domain.pddl\n",
      "Parsing problem /home/mappelgren/Desktop/correcting-agent/data/triplicatered/problem38.pddl\n",
      "/home/mappelgren/Desktop/correcting-agent/data/domain/blocks-domain.pddl\n",
      "/home/mappelgren/Desktop/correcting-agent/data/domain/blocks-domain.pddl\n",
      "/home/mappelgren/Desktop/correcting-agent/data/domain/blocks-domain.pddl\n",
      "/home/mappelgren/Desktop/correcting-agent/data/domain/blocks-domain.pddl\n",
      "/home/mappelgren/Desktop/correcting-agent/data/domain/blocks-domain.pddl\n",
      "/home/mappelgren/Desktop/correcting-agent/data/domain/blocks-domain.pddl\n",
      "/home/mappelgren/Desktop/correcting-agent/data/domain/blocks-domain.pddl\n",
      "/home/mappelgren/Desktop/correcting-agent/data/domain/blocks-domain.pddl\n",
      "/home/mappelgren/Desktop/correcting-agent/data/domain/blocks-domain.pddl\n",
      "/home/mappelgren/Desktop/correcting-agent/data/domain/blocks-domain.pddl\n",
      "/home/mappelgren/Desktop/correcting-agent/data/domain/blocks-domain.pddl\n",
      "problem38.pddl reward: -10\n",
      "Parsing domain /home/mappelgren/Desktop/correcting-agent/data/domain/blocks-domain.pddl\n",
      "Parsing problem /home/mappelgren/Desktop/correcting-agent/data/triplicatered/problem11.pddl\n",
      "/home/mappelgren/Desktop/correcting-agent/data/domain/blocks-domain.pddl\n",
      "/home/mappelgren/Desktop/correcting-agent/data/domain/blocks-domain.pddl\n",
      "/home/mappelgren/Desktop/correcting-agent/data/domain/blocks-domain.pddl\n",
      "/home/mappelgren/Desktop/correcting-agent/data/domain/blocks-domain.pddl\n",
      "/home/mappelgren/Desktop/correcting-agent/data/domain/blocks-domain.pddl\n",
      "/home/mappelgren/Desktop/correcting-agent/data/domain/blocks-domain.pddl\n",
      "problem11.pddl reward: -10\n",
      "Parsing domain /home/mappelgren/Desktop/correcting-agent/data/domain/blocks-domain.pddl\n",
      "Parsing problem /home/mappelgren/Desktop/correcting-agent/data/triplicatered/problem49.pddl\n",
      "/home/mappelgren/Desktop/correcting-agent/data/domain/blocks-domain.pddl\n",
      "problem49.pddl reward: -10\n",
      "Parsing domain /home/mappelgren/Desktop/correcting-agent/data/domain/blocks-domain.pddl\n",
      "Parsing problem /home/mappelgren/Desktop/correcting-agent/data/triplicatered/problem16.pddl\n",
      "/home/mappelgren/Desktop/correcting-agent/data/domain/blocks-domain.pddl\n",
      "/home/mappelgren/Desktop/correcting-agent/data/domain/blocks-domain.pddl\n",
      "/home/mappelgren/Desktop/correcting-agent/data/domain/blocks-domain.pddl\n",
      "/home/mappelgren/Desktop/correcting-agent/data/domain/blocks-domain.pddl\n",
      "/home/mappelgren/Desktop/correcting-agent/data/domain/blocks-domain.pddl\n",
      "/home/mappelgren/Desktop/correcting-agent/data/domain/blocks-domain.pddl\n",
      "/home/mappelgren/Desktop/correcting-agent/data/domain/blocks-domain.pddl\n",
      "/home/mappelgren/Desktop/correcting-agent/data/domain/blocks-domain.pddl\n",
      "/home/mappelgren/Desktop/correcting-agent/data/domain/blocks-domain.pddl\n",
      "/home/mappelgren/Desktop/correcting-agent/data/domain/blocks-domain.pddl\n",
      "/home/mappelgren/Desktop/correcting-agent/data/domain/blocks-domain.pddl\n",
      "/home/mappelgren/Desktop/correcting-agent/data/domain/blocks-domain.pddl\n",
      "/home/mappelgren/Desktop/correcting-agent/data/domain/blocks-domain.pddl\n",
      "problem16.pddl reward: -10\n",
      "Parsing domain /home/mappelgren/Desktop/correcting-agent/data/domain/blocks-domain.pddl\n",
      "Parsing problem /home/mappelgren/Desktop/correcting-agent/data/triplicatered/problem35.pddl\n",
      "/home/mappelgren/Desktop/correcting-agent/data/domain/blocks-domain.pddl\n",
      "/home/mappelgren/Desktop/correcting-agent/data/domain/blocks-domain.pddl\n",
      "/home/mappelgren/Desktop/correcting-agent/data/domain/blocks-domain.pddl\n",
      "/home/mappelgren/Desktop/correcting-agent/data/domain/blocks-domain.pddl\n",
      "/home/mappelgren/Desktop/correcting-agent/data/domain/blocks-domain.pddl\n",
      "/home/mappelgren/Desktop/correcting-agent/data/domain/blocks-domain.pddl\n",
      "/home/mappelgren/Desktop/correcting-agent/data/domain/blocks-domain.pddl\n",
      "/home/mappelgren/Desktop/correcting-agent/data/domain/blocks-domain.pddl\n",
      "/home/mappelgren/Desktop/correcting-agent/data/domain/blocks-domain.pddl\n",
      "/home/mappelgren/Desktop/correcting-agent/data/domain/blocks-domain.pddl\n",
      "problem35.pddl reward: -10\n",
      "Parsing domain /home/mappelgren/Desktop/correcting-agent/data/domain/blocks-domain.pddl\n",
      "Parsing problem /home/mappelgren/Desktop/correcting-agent/data/triplicatered/problem3.pddl\n",
      "/home/mappelgren/Desktop/correcting-agent/data/domain/blocks-domain.pddl\n",
      "problem3.pddl reward: -10\n",
      "Parsing domain /home/mappelgren/Desktop/correcting-agent/data/domain/blocks-domain.pddl\n",
      "Parsing problem /home/mappelgren/Desktop/correcting-agent/data/triplicatered/problem47.pddl\n",
      "/home/mappelgren/Desktop/correcting-agent/data/domain/blocks-domain.pddl\n",
      "/home/mappelgren/Desktop/correcting-agent/data/domain/blocks-domain.pddl\n",
      "/home/mappelgren/Desktop/correcting-agent/data/domain/blocks-domain.pddl\n",
      "/home/mappelgren/Desktop/correcting-agent/data/domain/blocks-domain.pddl\n",
      "/home/mappelgren/Desktop/correcting-agent/data/domain/blocks-domain.pddl\n",
      "/home/mappelgren/Desktop/correcting-agent/data/domain/blocks-domain.pddl\n",
      "/home/mappelgren/Desktop/correcting-agent/data/domain/blocks-domain.pddl\n",
      "/home/mappelgren/Desktop/correcting-agent/data/domain/blocks-domain.pddl\n",
      "/home/mappelgren/Desktop/correcting-agent/data/domain/blocks-domain.pddl\n",
      "/home/mappelgren/Desktop/correcting-agent/data/domain/blocks-domain.pddl\n",
      "/home/mappelgren/Desktop/correcting-agent/data/domain/blocks-domain.pddl\n",
      "/home/mappelgren/Desktop/correcting-agent/data/domain/blocks-domain.pddl\n",
      "/home/mappelgren/Desktop/correcting-agent/data/domain/blocks-domain.pddl\n",
      "/home/mappelgren/Desktop/correcting-agent/data/domain/blocks-domain.pddl\n",
      "problem47.pddl reward: -10\n",
      "Parsing domain /home/mappelgren/Desktop/correcting-agent/data/domain/blocks-domain.pddl\n",
      "Parsing problem /home/mappelgren/Desktop/correcting-agent/data/triplicatered/problem21.pddl\n",
      "/home/mappelgren/Desktop/correcting-agent/data/domain/blocks-domain.pddl\n",
      "/home/mappelgren/Desktop/correcting-agent/data/domain/blocks-domain.pddl\n",
      "/home/mappelgren/Desktop/correcting-agent/data/domain/blocks-domain.pddl\n",
      "problem21.pddl reward: -10\n",
      "Parsing domain /home/mappelgren/Desktop/correcting-agent/data/domain/blocks-domain.pddl\n",
      "Parsing problem /home/mappelgren/Desktop/correcting-agent/data/triplicatered/problem4.pddl\n",
      "/home/mappelgren/Desktop/correcting-agent/data/domain/blocks-domain.pddl\n",
      "problem4.pddl reward: -10\n",
      "Parsing domain /home/mappelgren/Desktop/correcting-agent/data/domain/blocks-domain.pddl\n",
      "Parsing problem /home/mappelgren/Desktop/correcting-agent/data/triplicatered/problem32.pddl\n"
     ]
    },
    {
     "name": "stdout",
     "output_type": "stream",
     "text": [
      "/home/mappelgren/Desktop/correcting-agent/data/domain/blocks-domain.pddl\n",
      "problem32.pddl reward: -10\n",
      "Parsing domain /home/mappelgren/Desktop/correcting-agent/data/domain/blocks-domain.pddl\n",
      "Parsing problem /home/mappelgren/Desktop/correcting-agent/data/triplicatered/problem13.pddl\n",
      "/home/mappelgren/Desktop/correcting-agent/data/domain/blocks-domain.pddl\n",
      "/home/mappelgren/Desktop/correcting-agent/data/domain/blocks-domain.pddl\n",
      "/home/mappelgren/Desktop/correcting-agent/data/domain/blocks-domain.pddl\n",
      "/home/mappelgren/Desktop/correcting-agent/data/domain/blocks-domain.pddl\n",
      "/home/mappelgren/Desktop/correcting-agent/data/domain/blocks-domain.pddl\n",
      "problem13.pddl reward: -10\n",
      "Parsing domain /home/mappelgren/Desktop/correcting-agent/data/domain/blocks-domain.pddl\n",
      "Parsing problem /home/mappelgren/Desktop/correcting-agent/data/triplicatered/problem5.pddl\n",
      "/home/mappelgren/Desktop/correcting-agent/data/domain/blocks-domain.pddl\n",
      "problem5.pddl reward: -10\n",
      "Parsing domain /home/mappelgren/Desktop/correcting-agent/data/domain/blocks-domain.pddl\n",
      "Parsing problem /home/mappelgren/Desktop/correcting-agent/data/triplicatered/problem48.pddl\n",
      "Parsing domain /home/mappelgren/Desktop/correcting-agent/data/domain/blocks-domain.pddl\n",
      "Parsing problem /home/mappelgren/Desktop/correcting-agent/data/triplicatered/problem48.pddl\n",
      "/home/mappelgren/Desktop/correcting-agent/data/domain/blocks-domain.pddl\n"
     ]
    },
    {
     "name": "stderr",
     "output_type": "stream",
     "text": [
      "T: no, put red blocks on blue blocks\n"
     ]
    },
    {
     "name": "stdout",
     "output_type": "stream",
     "text": [
      "problem48.pddl reward: -10\n",
      "Parsing domain /home/mappelgren/Desktop/correcting-agent/data/domain/blocks-domain.pddl\n",
      "Parsing problem /home/mappelgren/Desktop/correcting-agent/data/triplicatered/problem26.pddl\n",
      "/home/mappelgren/Desktop/correcting-agent/data/domain/blocks-domain.pddl\n",
      "Message(rel='on', o1=['red'], o2=['blue'], T='tower', o3=None)\n",
      "no, put red blocks on blue blocks\n",
      "V_1(all x.(red(x) -> exists y. (blue(y) & on(x,y))))\n",
      "all x.(red(x) -> exists y. (blue(y) & on(x,y)))\n",
      "/home/mappelgren/Desktop/correcting-agent/data/domain/blocks-domain.pddl\n"
     ]
    },
    {
     "name": "stderr",
     "output_type": "stream",
     "text": [
      "T: No, now you cannot put b7 in the tower because you must put purple blocks on red blocks\n"
     ]
    },
    {
     "name": "stdout",
     "output_type": "stream",
     "text": [
      "Message(rel='on', o1=['purple'], o2=['red'], T='table', o3='b7')\n",
      "No, now you cannot put b7 in the tower because you must put purple blocks on red blocks\n",
      "V_2(all y.(red(y) -> exists x. (purple(x) & on(x,y))))\n",
      "all y.(red(y) -> exists x. (purple(x) & on(x,y)))\n",
      "/home/mappelgren/Desktop/correcting-agent/data/domain/blocks-domain.pddl\n"
     ]
    },
    {
     "name": "stderr",
     "output_type": "stream",
     "text": [
      "T: No, now you cannot put b7 in the tower because you must put purple blocks on red blocks\n"
     ]
    },
    {
     "name": "stdout",
     "output_type": "stream",
     "text": [
      "/home/mappelgren/Desktop/correcting-agent/data/domain/blocks-domain.pddl\n",
      "Message(rel='on', o1=['purple'], o2=['red'], T='table', o3='b7')\n",
      "No, now you cannot put b7 in the tower because you must put purple blocks on red blocks\n",
      "V_4(all y.(red(y) -> exists x. (purple(x) & on(x,y))))\n",
      "all y.(red(y) -> exists x. (purple(x) & on(x,y)))\n",
      "/home/mappelgren/Desktop/correcting-agent/data/domain/blocks-domain.pddl\n"
     ]
    },
    {
     "name": "stderr",
     "output_type": "stream",
     "text": [
      "T: no, put red blocks on blue blocks\n"
     ]
    },
    {
     "name": "stdout",
     "output_type": "stream",
     "text": [
      "/home/mappelgren/Desktop/correcting-agent/data/domain/blocks-domain.pddl\n",
      "Message(rel='on', o1=['red'], o2=['blue'], T='tower', o3=None)\n",
      "no, put red blocks on blue blocks\n",
      "V_5(all x.(red(x) -> exists y. (blue(y) & on(x,y))))\n",
      "all x.(red(x) -> exists y. (blue(y) & on(x,y)))\n",
      "/home/mappelgren/Desktop/correcting-agent/data/domain/blocks-domain.pddl\n"
     ]
    },
    {
     "name": "stderr",
     "output_type": "stream",
     "text": [
      "T: No, now you cannot put b7 in the tower because you must put purple blocks on red blocks\n"
     ]
    },
    {
     "name": "stdout",
     "output_type": "stream",
     "text": [
      "/home/mappelgren/Desktop/correcting-agent/data/domain/blocks-domain.pddl\n",
      "Message(rel='on', o1=['purple'], o2=['red'], T='table', o3='b7')\n",
      "No, now you cannot put b7 in the tower because you must put purple blocks on red blocks\n",
      "V_7(all y.(red(y) -> exists x. (purple(x) & on(x,y))))\n",
      "all y.(red(y) -> exists x. (purple(x) & on(x,y)))\n",
      "/home/mappelgren/Desktop/correcting-agent/data/domain/blocks-domain.pddl\n",
      "/home/mappelgren/Desktop/correcting-agent/data/domain/blocks-domain.pddl\n"
     ]
    },
    {
     "name": "stderr",
     "output_type": "stream",
     "text": [
      "T: no, put red blocks on blue blocks\n"
     ]
    },
    {
     "name": "stdout",
     "output_type": "stream",
     "text": [
      "Message(rel='on', o1=['red'], o2=['blue'], T='tower', o3=None)\n",
      "no, put red blocks on blue blocks\n",
      "V_10(all x.(red(x) -> exists y. (blue(y) & on(x,y))))\n",
      "all x.(red(x) -> exists y. (blue(y) & on(x,y)))\n",
      "/home/mappelgren/Desktop/correcting-agent/data/domain/blocks-domain.pddl\n"
     ]
    },
    {
     "name": "stderr",
     "output_type": "stream",
     "text": [
      "T: no, put purple blocks on red blocks\n"
     ]
    },
    {
     "name": "stdout",
     "output_type": "stream",
     "text": [
      "Message(rel='on', o1=['purple'], o2=['red'], T='tower', o3=None)\n",
      "no, put purple blocks on red blocks\n",
      "V_14(all y.(red(y) -> exists x. (purple(x) & on(x,y))))\n",
      "all y.(red(y) -> exists x. (purple(x) & on(x,y)))\n",
      "/home/mappelgren/Desktop/correcting-agent/data/domain/blocks-domain.pddl\n",
      "/home/mappelgren/Desktop/correcting-agent/data/domain/blocks-domain.pddl\n"
     ]
    },
    {
     "name": "stderr",
     "output_type": "stream",
     "text": [
      "T: No, now you cannot put b1 in the tower because you must put purple blocks on red blocks\n"
     ]
    },
    {
     "name": "stdout",
     "output_type": "stream",
     "text": [
      "problem26.pddl reward: -24\n",
      "Parsing domain /home/mappelgren/Desktop/correcting-agent/data/domain/blocks-domain.pddl\n",
      "Parsing problem /home/mappelgren/Desktop/correcting-agent/data/triplicatered/problem20.pddl\n",
      "/home/mappelgren/Desktop/correcting-agent/data/domain/blocks-domain.pddl\n",
      "Message(rel='on', o1=['purple'], o2=['red'], T='table', o3='b1')\n"
     ]
    },
    {
     "name": "stderr",
     "output_type": "stream",
     "text": [
      "T: No, now you cannot put b1 in the tower because you must put purple blocks on red blocks\n"
     ]
    },
    {
     "name": "stdout",
     "output_type": "stream",
     "text": [
      "No, now you cannot put b1 in the tower because you must put purple blocks on red blocks\n",
      "V_3(all y.(red(y) -> exists x. (purple(x) & on(x,y))))\n",
      "all y.(red(y) -> exists x. (purple(x) & on(x,y)))\n",
      "/home/mappelgren/Desktop/correcting-agent/data/domain/blocks-domain.pddl\n",
      "Message(rel='on', o1=['purple'], o2=['red'], T='table', o3='b1')\n"
     ]
    },
    {
     "name": "stderr",
     "output_type": "stream",
     "text": [
      "T: No, now you cannot put b1 in the tower because you must put red blocks on blue blocks\n"
     ]
    },
    {
     "name": "stdout",
     "output_type": "stream",
     "text": [
      "No, now you cannot put b1 in the tower because you must put purple blocks on red blocks\n",
      "V_5(all y.(red(y) -> exists x. (purple(x) & on(x,y))))\n",
      "all y.(red(y) -> exists x. (purple(x) & on(x,y)))\n",
      "/home/mappelgren/Desktop/correcting-agent/data/domain/blocks-domain.pddl\n",
      "Message(rel='on', o1=['red'], o2=['blue'], T='table', o3='b1')\n",
      "No, now you cannot put b1 in the tower because you must put red blocks on blue blocks\n",
      "V_6(all x.(red(x) -> exists y. (blue(y) & on(x,y))))\n",
      "all x.(red(x) -> exists y. (blue(y) & on(x,y)))\n",
      "/home/mappelgren/Desktop/correcting-agent/data/domain/blocks-domain.pddl\n",
      "problem20.pddl reward: -16\n",
      "Parsing domain /home/mappelgren/Desktop/correcting-agent/data/domain/blocks-domain.pddl\n",
      "Parsing problem /home/mappelgren/Desktop/correcting-agent/data/triplicatered/problem45.pddl\n",
      "/home/mappelgren/Desktop/correcting-agent/data/domain/blocks-domain.pddl\n",
      "problem45.pddl reward: -10\n",
      "Parsing domain /home/mappelgren/Desktop/correcting-agent/data/domain/blocks-domain.pddl\n",
      "Parsing problem /home/mappelgren/Desktop/correcting-agent/data/triplicatered/problem18.pddl\n",
      "/home/mappelgren/Desktop/correcting-agent/data/domain/blocks-domain.pddl\n",
      "problem18.pddl reward: -10\n",
      "Parsing domain /home/mappelgren/Desktop/correcting-agent/data/domain/blocks-domain.pddl\n",
      "Parsing problem /home/mappelgren/Desktop/correcting-agent/data/triplicatered/problem1.pddl\n",
      "/home/mappelgren/Desktop/correcting-agent/data/domain/blocks-domain.pddl\n",
      "problem1.pddl reward: -10\n",
      "Parsing domain /home/mappelgren/Desktop/correcting-agent/data/domain/blocks-domain.pddl\n",
      "Parsing problem /home/mappelgren/Desktop/correcting-agent/data/triplicatered/problem36.pddl\n",
      "/home/mappelgren/Desktop/correcting-agent/data/domain/blocks-domain.pddl\n",
      "problem36.pddl reward: -10\n",
      "Parsing domain /home/mappelgren/Desktop/correcting-agent/data/domain/blocks-domain.pddl\n",
      "Parsing problem /home/mappelgren/Desktop/correcting-agent/data/triplicatered/problem41.pddl\n",
      "/home/mappelgren/Desktop/correcting-agent/data/domain/blocks-domain.pddl\n"
     ]
    },
    {
     "name": "stderr",
     "output_type": "stream",
     "text": [
      "T: No, now you cannot put b7 in the tower because you must put red blocks on blue blocks\n"
     ]
    },
    {
     "name": "stdout",
     "output_type": "stream",
     "text": [
      "/home/mappelgren/Desktop/correcting-agent/data/domain/blocks-domain.pddl\n",
      "Message(rel='on', o1=['red'], o2=['blue'], T='table', o3='b7')\n",
      "No, now you cannot put b7 in the tower because you must put red blocks on blue blocks\n",
      "V_3(all x.(red(x) -> exists y. (blue(y) & on(x,y))))\n",
      "all x.(red(x) -> exists y. (blue(y) & on(x,y)))\n",
      "/home/mappelgren/Desktop/correcting-agent/data/domain/blocks-domain.pddl\n",
      "/home/mappelgren/Desktop/correcting-agent/data/domain/blocks-domain.pddl\n",
      "problem41.pddl reward: -12\n",
      "Parsing domain /home/mappelgren/Desktop/correcting-agent/data/domain/blocks-domain.pddl\n",
      "Parsing problem /home/mappelgren/Desktop/correcting-agent/data/triplicatered/problem44.pddl\n",
      "/home/mappelgren/Desktop/correcting-agent/data/domain/blocks-domain.pddl\n",
      "problem44.pddl reward: -10\n",
      "Parsing domain /home/mappelgren/Desktop/correcting-agent/data/domain/blocks-domain.pddl\n",
      "Parsing problem /home/mappelgren/Desktop/correcting-agent/data/triplicatered/problem40.pddl\n",
      "/home/mappelgren/Desktop/correcting-agent/data/domain/blocks-domain.pddl\n"
     ]
    },
    {
     "name": "stderr",
     "output_type": "stream",
     "text": [
      "T: No, now you cannot put b7 in the tower because you must put red blocks on blue blocks\n"
     ]
    },
    {
     "name": "stdout",
     "output_type": "stream",
     "text": [
      "Message(rel='on', o1=['red'], o2=['blue'], T='table', o3='b7')\n",
      "No, now you cannot put b7 in the tower because you must put red blocks on blue blocks\n",
      "V_5(all x.(red(x) -> exists y. (blue(y) & on(x,y))))\n",
      "all x.(red(x) -> exists y. (blue(y) & on(x,y)))\n",
      "/home/mappelgren/Desktop/correcting-agent/data/domain/blocks-domain.pddl\n",
      "problem40.pddl reward: -12\n",
      "Parsing domain /home/mappelgren/Desktop/correcting-agent/data/domain/blocks-domain.pddl\n",
      "Parsing problem /home/mappelgren/Desktop/correcting-agent/data/triplicatered/problem31.pddl\n",
      "/home/mappelgren/Desktop/correcting-agent/data/domain/blocks-domain.pddl\n"
     ]
    },
    {
     "name": "stderr",
     "output_type": "stream",
     "text": [
      "T: no, put red blocks on blue blocks\n"
     ]
    },
    {
     "name": "stdout",
     "output_type": "stream",
     "text": [
      "/home/mappelgren/Desktop/correcting-agent/data/domain/blocks-domain.pddl\n",
      "Message(rel='on', o1=['red'], o2=['blue'], T='tower', o3=None)\n",
      "no, put red blocks on blue blocks\n",
      "V_4(all x.(red(x) -> exists y. (blue(y) & on(x,y))))\n",
      "all x.(red(x) -> exists y. (blue(y) & on(x,y)))\n",
      "/home/mappelgren/Desktop/correcting-agent/data/domain/blocks-domain.pddl\n",
      "/home/mappelgren/Desktop/correcting-agent/data/domain/blocks-domain.pddl\n",
      "/home/mappelgren/Desktop/correcting-agent/data/domain/blocks-domain.pddl\n",
      "/home/mappelgren/Desktop/correcting-agent/data/domain/blocks-domain.pddl\n",
      "/home/mappelgren/Desktop/correcting-agent/data/domain/blocks-domain.pddl\n",
      "/home/mappelgren/Desktop/correcting-agent/data/domain/blocks-domain.pddl\n",
      "/home/mappelgren/Desktop/correcting-agent/data/domain/blocks-domain.pddl\n",
      "/home/mappelgren/Desktop/correcting-agent/data/domain/blocks-domain.pddl\n",
      "/home/mappelgren/Desktop/correcting-agent/data/domain/blocks-domain.pddl\n",
      "/home/mappelgren/Desktop/correcting-agent/data/domain/blocks-domain.pddl\n",
      "/home/mappelgren/Desktop/correcting-agent/data/domain/blocks-domain.pddl\n",
      "/home/mappelgren/Desktop/correcting-agent/data/domain/blocks-domain.pddl\n",
      "/home/mappelgren/Desktop/correcting-agent/data/domain/blocks-domain.pddl\n",
      "/home/mappelgren/Desktop/correcting-agent/data/domain/blocks-domain.pddl\n",
      "/home/mappelgren/Desktop/correcting-agent/data/domain/blocks-domain.pddl\n",
      "/home/mappelgren/Desktop/correcting-agent/data/domain/blocks-domain.pddl\n",
      "/home/mappelgren/Desktop/correcting-agent/data/domain/blocks-domain.pddl\n",
      "/home/mappelgren/Desktop/correcting-agent/data/domain/blocks-domain.pddl\n",
      "/home/mappelgren/Desktop/correcting-agent/data/domain/blocks-domain.pddl\n",
      "/home/mappelgren/Desktop/correcting-agent/data/domain/blocks-domain.pddl\n",
      "/home/mappelgren/Desktop/correcting-agent/data/domain/blocks-domain.pddl\n",
      "/home/mappelgren/Desktop/correcting-agent/data/domain/blocks-domain.pddl\n",
      "/home/mappelgren/Desktop/correcting-agent/data/domain/blocks-domain.pddl\n",
      "/home/mappelgren/Desktop/correcting-agent/data/domain/blocks-domain.pddl\n",
      "/home/mappelgren/Desktop/correcting-agent/data/domain/blocks-domain.pddl\n",
      "/home/mappelgren/Desktop/correcting-agent/data/domain/blocks-domain.pddl\n",
      "/home/mappelgren/Desktop/correcting-agent/data/domain/blocks-domain.pddl\n",
      "/home/mappelgren/Desktop/correcting-agent/data/domain/blocks-domain.pddl\n",
      "/home/mappelgren/Desktop/correcting-agent/data/domain/blocks-domain.pddl\n",
      "/home/mappelgren/Desktop/correcting-agent/data/domain/blocks-domain.pddl\n",
      "/home/mappelgren/Desktop/correcting-agent/data/domain/blocks-domain.pddl\n",
      "/home/mappelgren/Desktop/correcting-agent/data/domain/blocks-domain.pddl\n",
      "/home/mappelgren/Desktop/correcting-agent/data/domain/blocks-domain.pddl\n",
      "/home/mappelgren/Desktop/correcting-agent/data/domain/blocks-domain.pddl\n",
      "/home/mappelgren/Desktop/correcting-agent/data/domain/blocks-domain.pddl\n",
      "/home/mappelgren/Desktop/correcting-agent/data/domain/blocks-domain.pddl\n",
      "/home/mappelgren/Desktop/correcting-agent/data/domain/blocks-domain.pddl\n",
      "/home/mappelgren/Desktop/correcting-agent/data/domain/blocks-domain.pddl\n",
      "/home/mappelgren/Desktop/correcting-agent/data/domain/blocks-domain.pddl\n",
      "/home/mappelgren/Desktop/correcting-agent/data/domain/blocks-domain.pddl\n",
      "/home/mappelgren/Desktop/correcting-agent/data/domain/blocks-domain.pddl\n",
      "/home/mappelgren/Desktop/correcting-agent/data/domain/blocks-domain.pddl\n",
      "/home/mappelgren/Desktop/correcting-agent/data/domain/blocks-domain.pddl\n",
      "/home/mappelgren/Desktop/correcting-agent/data/domain/blocks-domain.pddl\n",
      "/home/mappelgren/Desktop/correcting-agent/data/domain/blocks-domain.pddl\n",
      "/home/mappelgren/Desktop/correcting-agent/data/domain/blocks-domain.pddl\n",
      "/home/mappelgren/Desktop/correcting-agent/data/domain/blocks-domain.pddl\n",
      "/home/mappelgren/Desktop/correcting-agent/data/domain/blocks-domain.pddl\n",
      "/home/mappelgren/Desktop/correcting-agent/data/domain/blocks-domain.pddl\n",
      "/home/mappelgren/Desktop/correcting-agent/data/domain/blocks-domain.pddl\n",
      "/home/mappelgren/Desktop/correcting-agent/data/domain/blocks-domain.pddl\n",
      "/home/mappelgren/Desktop/correcting-agent/data/domain/blocks-domain.pddl\n",
      "/home/mappelgren/Desktop/correcting-agent/data/domain/blocks-domain.pddl\n",
      "/home/mappelgren/Desktop/correcting-agent/data/domain/blocks-domain.pddl\n",
      "/home/mappelgren/Desktop/correcting-agent/data/domain/blocks-domain.pddl\n",
      "/home/mappelgren/Desktop/correcting-agent/data/domain/blocks-domain.pddl\n",
      "/home/mappelgren/Desktop/correcting-agent/data/domain/blocks-domain.pddl\n",
      "/home/mappelgren/Desktop/correcting-agent/data/domain/blocks-domain.pddl\n",
      "/home/mappelgren/Desktop/correcting-agent/data/domain/blocks-domain.pddl\n",
      "/home/mappelgren/Desktop/correcting-agent/data/domain/blocks-domain.pddl\n",
      "/home/mappelgren/Desktop/correcting-agent/data/domain/blocks-domain.pddl\n",
      "/home/mappelgren/Desktop/correcting-agent/data/domain/blocks-domain.pddl\n",
      "/home/mappelgren/Desktop/correcting-agent/data/domain/blocks-domain.pddl\n"
     ]
    },
    {
     "name": "stderr",
     "output_type": "stream",
     "text": [
      "T: No, now you cannot put b1 in the tower because you must put red blocks on blue blocks\n"
     ]
    },
    {
     "name": "stdout",
     "output_type": "stream",
     "text": [
      "/home/mappelgren/Desktop/correcting-agent/data/domain/blocks-domain.pddl\n",
      "Message(rel='on', o1=['red'], o2=['blue'], T='table', o3='b1')\n",
      "No, now you cannot put b1 in the tower because you must put red blocks on blue blocks\n",
      "V_6(all x.(red(x) -> exists y. (blue(y) & on(x,y))))\n",
      "all x.(red(x) -> exists y. (blue(y) & on(x,y)))\n",
      "/home/mappelgren/Desktop/correcting-agent/data/domain/blocks-domain.pddl\n",
      "/home/mappelgren/Desktop/correcting-agent/data/domain/blocks-domain.pddl\n",
      "problem31.pddl reward: -14\n",
      "Parsing domain /home/mappelgren/Desktop/correcting-agent/data/domain/blocks-domain.pddl\n",
      "Parsing problem /home/mappelgren/Desktop/correcting-agent/data/triplicatered/problem27.pddl\n",
      "/home/mappelgren/Desktop/correcting-agent/data/domain/blocks-domain.pddl\n",
      "/home/mappelgren/Desktop/correcting-agent/data/domain/blocks-domain.pddl\n",
      "/home/mappelgren/Desktop/correcting-agent/data/domain/blocks-domain.pddl\n",
      "/home/mappelgren/Desktop/correcting-agent/data/domain/blocks-domain.pddl\n",
      "problem27.pddl reward: -10\n",
      "Parsing domain /home/mappelgren/Desktop/correcting-agent/data/domain/blocks-domain.pddl\n",
      "Parsing problem /home/mappelgren/Desktop/correcting-agent/data/triplicatered/problem37.pddl\n",
      "/home/mappelgren/Desktop/correcting-agent/data/domain/blocks-domain.pddl\n",
      "/home/mappelgren/Desktop/correcting-agent/data/domain/blocks-domain.pddl\n",
      "/home/mappelgren/Desktop/correcting-agent/data/domain/blocks-domain.pddl\n",
      "/home/mappelgren/Desktop/correcting-agent/data/domain/blocks-domain.pddl\n",
      "/home/mappelgren/Desktop/correcting-agent/data/domain/blocks-domain.pddl\n",
      "problem37.pddl reward: -10\n",
      "Parsing domain /home/mappelgren/Desktop/correcting-agent/data/domain/blocks-domain.pddl\n",
      "Parsing problem /home/mappelgren/Desktop/correcting-agent/data/triplicatered/problem33.pddl\n",
      "/home/mappelgren/Desktop/correcting-agent/data/domain/blocks-domain.pddl\n",
      "problem33.pddl reward: -10\n",
      "Parsing domain /home/mappelgren/Desktop/correcting-agent/data/domain/blocks-domain.pddl\n",
      "Parsing problem /home/mappelgren/Desktop/correcting-agent/data/triplicatered/problem34.pddl\n",
      "/home/mappelgren/Desktop/correcting-agent/data/domain/blocks-domain.pddl\n",
      "problem34.pddl reward: -10\n",
      "Parsing domain /home/mappelgren/Desktop/correcting-agent/data/domain/blocks-domain.pddl\n",
      "Parsing problem /home/mappelgren/Desktop/correcting-agent/data/triplicatered/problem46.pddl\n",
      "/home/mappelgren/Desktop/correcting-agent/data/domain/blocks-domain.pddl\n"
     ]
    },
    {
     "name": "stderr",
     "output_type": "stream",
     "text": [
      "T: no, put purple blocks on red blocks\n"
     ]
    },
    {
     "name": "stdout",
     "output_type": "stream",
     "text": [
      "Message(rel='on', o1=['purple'], o2=['red'], T='tower', o3=None)\n",
      "no, put purple blocks on red blocks\n",
      "V_3(all y.(red(y) -> exists x. (purple(x) & on(x,y))))\n",
      "all y.(red(y) -> exists x. (purple(x) & on(x,y)))\n",
      "/home/mappelgren/Desktop/correcting-agent/data/domain/blocks-domain.pddl\n",
      "/home/mappelgren/Desktop/correcting-agent/data/domain/blocks-domain.pddl\n",
      "/home/mappelgren/Desktop/correcting-agent/data/domain/blocks-domain.pddl\n",
      "/home/mappelgren/Desktop/correcting-agent/data/domain/blocks-domain.pddl\n",
      "/home/mappelgren/Desktop/correcting-agent/data/domain/blocks-domain.pddl\n",
      "/home/mappelgren/Desktop/correcting-agent/data/domain/blocks-domain.pddl\n",
      "/home/mappelgren/Desktop/correcting-agent/data/domain/blocks-domain.pddl\n",
      "/home/mappelgren/Desktop/correcting-agent/data/domain/blocks-domain.pddl\n",
      "/home/mappelgren/Desktop/correcting-agent/data/domain/blocks-domain.pddl\n",
      "/home/mappelgren/Desktop/correcting-agent/data/domain/blocks-domain.pddl\n",
      "/home/mappelgren/Desktop/correcting-agent/data/domain/blocks-domain.pddl\n",
      "/home/mappelgren/Desktop/correcting-agent/data/domain/blocks-domain.pddl\n",
      "/home/mappelgren/Desktop/correcting-agent/data/domain/blocks-domain.pddl\n",
      "/home/mappelgren/Desktop/correcting-agent/data/domain/blocks-domain.pddl\n",
      "/home/mappelgren/Desktop/correcting-agent/data/domain/blocks-domain.pddl\n",
      "/home/mappelgren/Desktop/correcting-agent/data/domain/blocks-domain.pddl\n",
      "/home/mappelgren/Desktop/correcting-agent/data/domain/blocks-domain.pddl\n",
      "/home/mappelgren/Desktop/correcting-agent/data/domain/blocks-domain.pddl\n",
      "/home/mappelgren/Desktop/correcting-agent/data/domain/blocks-domain.pddl\n",
      "/home/mappelgren/Desktop/correcting-agent/data/domain/blocks-domain.pddl\n",
      "/home/mappelgren/Desktop/correcting-agent/data/domain/blocks-domain.pddl\n",
      "/home/mappelgren/Desktop/correcting-agent/data/domain/blocks-domain.pddl\n",
      "/home/mappelgren/Desktop/correcting-agent/data/domain/blocks-domain.pddl\n",
      "/home/mappelgren/Desktop/correcting-agent/data/domain/blocks-domain.pddl\n",
      "/home/mappelgren/Desktop/correcting-agent/data/domain/blocks-domain.pddl\n",
      "/home/mappelgren/Desktop/correcting-agent/data/domain/blocks-domain.pddl\n",
      "/home/mappelgren/Desktop/correcting-agent/data/domain/blocks-domain.pddl\n",
      "/home/mappelgren/Desktop/correcting-agent/data/domain/blocks-domain.pddl\n",
      "/home/mappelgren/Desktop/correcting-agent/data/domain/blocks-domain.pddl\n",
      "/home/mappelgren/Desktop/correcting-agent/data/domain/blocks-domain.pddl\n",
      "/home/mappelgren/Desktop/correcting-agent/data/domain/blocks-domain.pddl\n",
      "/home/mappelgren/Desktop/correcting-agent/data/domain/blocks-domain.pddl\n",
      "/home/mappelgren/Desktop/correcting-agent/data/domain/blocks-domain.pddl\n",
      "/home/mappelgren/Desktop/correcting-agent/data/domain/blocks-domain.pddl\n",
      "/home/mappelgren/Desktop/correcting-agent/data/domain/blocks-domain.pddl\n",
      "/home/mappelgren/Desktop/correcting-agent/data/domain/blocks-domain.pddl\n",
      "/home/mappelgren/Desktop/correcting-agent/data/domain/blocks-domain.pddl\n",
      "/home/mappelgren/Desktop/correcting-agent/data/domain/blocks-domain.pddl\n",
      "/home/mappelgren/Desktop/correcting-agent/data/domain/blocks-domain.pddl\n",
      "/home/mappelgren/Desktop/correcting-agent/data/domain/blocks-domain.pddl\n",
      "/home/mappelgren/Desktop/correcting-agent/data/domain/blocks-domain.pddl\n",
      "/home/mappelgren/Desktop/correcting-agent/data/domain/blocks-domain.pddl\n",
      "/home/mappelgren/Desktop/correcting-agent/data/domain/blocks-domain.pddl\n",
      "/home/mappelgren/Desktop/correcting-agent/data/domain/blocks-domain.pddl\n",
      "/home/mappelgren/Desktop/correcting-agent/data/domain/blocks-domain.pddl\n",
      "/home/mappelgren/Desktop/correcting-agent/data/domain/blocks-domain.pddl\n",
      "/home/mappelgren/Desktop/correcting-agent/data/domain/blocks-domain.pddl\n",
      "/home/mappelgren/Desktop/correcting-agent/data/domain/blocks-domain.pddl\n",
      "/home/mappelgren/Desktop/correcting-agent/data/domain/blocks-domain.pddl\n"
     ]
    },
    {
     "name": "stderr",
     "output_type": "stream",
     "text": [
      "T: no, that is wrong for the same reason\n"
     ]
    },
    {
     "name": "stdout",
     "output_type": "stream",
     "text": [
      "/home/mappelgren/Desktop/correcting-agent/data/domain/blocks-domain.pddl\n",
      "Message(rel=None, o1=None, o2=None, T='same reason', o3=None)\n",
      "no, that is wrong for the same reason\n",
      "V_4(all y.(red(y) -> exists x. (purple(x) & on(x,y))))\n",
      "all y.(red(y) -> exists x. (purple(x) & on(x,y)))\n",
      "/home/mappelgren/Desktop/correcting-agent/data/domain/blocks-domain.pddl\n",
      "/home/mappelgren/Desktop/correcting-agent/data/domain/blocks-domain.pddl\n",
      "/home/mappelgren/Desktop/correcting-agent/data/domain/blocks-domain.pddl\n",
      "/home/mappelgren/Desktop/correcting-agent/data/domain/blocks-domain.pddl\n",
      "/home/mappelgren/Desktop/correcting-agent/data/domain/blocks-domain.pddl\n",
      "/home/mappelgren/Desktop/correcting-agent/data/domain/blocks-domain.pddl\n",
      "/home/mappelgren/Desktop/correcting-agent/data/domain/blocks-domain.pddl\n",
      "/home/mappelgren/Desktop/correcting-agent/data/domain/blocks-domain.pddl\n",
      "/home/mappelgren/Desktop/correcting-agent/data/domain/blocks-domain.pddl\n",
      "/home/mappelgren/Desktop/correcting-agent/data/domain/blocks-domain.pddl\n",
      "/home/mappelgren/Desktop/correcting-agent/data/domain/blocks-domain.pddl\n",
      "/home/mappelgren/Desktop/correcting-agent/data/domain/blocks-domain.pddl\n",
      "/home/mappelgren/Desktop/correcting-agent/data/domain/blocks-domain.pddl\n",
      "/home/mappelgren/Desktop/correcting-agent/data/domain/blocks-domain.pddl\n",
      "/home/mappelgren/Desktop/correcting-agent/data/domain/blocks-domain.pddl\n",
      "/home/mappelgren/Desktop/correcting-agent/data/domain/blocks-domain.pddl\n",
      "/home/mappelgren/Desktop/correcting-agent/data/domain/blocks-domain.pddl\n",
      "/home/mappelgren/Desktop/correcting-agent/data/domain/blocks-domain.pddl\n",
      "/home/mappelgren/Desktop/correcting-agent/data/domain/blocks-domain.pddl\n",
      "/home/mappelgren/Desktop/correcting-agent/data/domain/blocks-domain.pddl\n",
      "/home/mappelgren/Desktop/correcting-agent/data/domain/blocks-domain.pddl\n",
      "/home/mappelgren/Desktop/correcting-agent/data/domain/blocks-domain.pddl\n",
      "/home/mappelgren/Desktop/correcting-agent/data/domain/blocks-domain.pddl\n",
      "/home/mappelgren/Desktop/correcting-agent/data/domain/blocks-domain.pddl\n",
      "/home/mappelgren/Desktop/correcting-agent/data/domain/blocks-domain.pddl\n",
      "/home/mappelgren/Desktop/correcting-agent/data/domain/blocks-domain.pddl\n",
      "/home/mappelgren/Desktop/correcting-agent/data/domain/blocks-domain.pddl\n",
      "/home/mappelgren/Desktop/correcting-agent/data/domain/blocks-domain.pddl\n",
      "/home/mappelgren/Desktop/correcting-agent/data/domain/blocks-domain.pddl\n",
      "/home/mappelgren/Desktop/correcting-agent/data/domain/blocks-domain.pddl\n",
      "/home/mappelgren/Desktop/correcting-agent/data/domain/blocks-domain.pddl\n",
      "/home/mappelgren/Desktop/correcting-agent/data/domain/blocks-domain.pddl\n",
      "/home/mappelgren/Desktop/correcting-agent/data/domain/blocks-domain.pddl\n",
      "/home/mappelgren/Desktop/correcting-agent/data/domain/blocks-domain.pddl\n",
      "/home/mappelgren/Desktop/correcting-agent/data/domain/blocks-domain.pddl\n",
      "/home/mappelgren/Desktop/correcting-agent/data/domain/blocks-domain.pddl\n",
      "/home/mappelgren/Desktop/correcting-agent/data/domain/blocks-domain.pddl\n",
      "/home/mappelgren/Desktop/correcting-agent/data/domain/blocks-domain.pddl\n",
      "/home/mappelgren/Desktop/correcting-agent/data/domain/blocks-domain.pddl\n",
      "/home/mappelgren/Desktop/correcting-agent/data/domain/blocks-domain.pddl\n",
      "/home/mappelgren/Desktop/correcting-agent/data/domain/blocks-domain.pddl\n",
      "/home/mappelgren/Desktop/correcting-agent/data/domain/blocks-domain.pddl\n",
      "/home/mappelgren/Desktop/correcting-agent/data/domain/blocks-domain.pddl\n",
      "/home/mappelgren/Desktop/correcting-agent/data/domain/blocks-domain.pddl\n",
      "/home/mappelgren/Desktop/correcting-agent/data/domain/blocks-domain.pddl\n",
      "/home/mappelgren/Desktop/correcting-agent/data/domain/blocks-domain.pddl\n",
      "/home/mappelgren/Desktop/correcting-agent/data/domain/blocks-domain.pddl\n",
      "/home/mappelgren/Desktop/correcting-agent/data/domain/blocks-domain.pddl\n",
      "/home/mappelgren/Desktop/correcting-agent/data/domain/blocks-domain.pddl\n"
     ]
    },
    {
     "name": "stderr",
     "output_type": "stream",
     "text": [
      "T: no, that is not purple again\n"
     ]
    },
    {
     "name": "stdout",
     "output_type": "stream",
     "text": [
      "/home/mappelgren/Desktop/correcting-agent/data/domain/blocks-domain.pddl\n",
      "Message(rel=None, o1='purple', o2=None, T='partial.neg', o3=None)\n"
     ]
    },
    {
     "ename": "AssertionError",
     "evalue": "",
     "output_type": "error",
     "traceback": [
      "\u001b[0;31m---------------------------------------------------------------------------\u001b[0m",
      "\u001b[0;31mAssertionError\u001b[0m                            Traceback (most recent call last)",
      "\u001b[0;32m<ipython-input-4-89893ec943a0>\u001b[0m in \u001b[0;36m<module>\u001b[0;34m\u001b[0m\n\u001b[1;32m      1\u001b[0m \u001b[0;32mfor\u001b[0m \u001b[0mexperiment\u001b[0m \u001b[0;32min\u001b[0m \u001b[0mexperiments\u001b[0m\u001b[0;34m:\u001b[0m\u001b[0;34m\u001b[0m\u001b[0;34m\u001b[0m\u001b[0m\n\u001b[0;32m----> 2\u001b[0;31m     \u001b[0madd_experiment\u001b[0m\u001b[0;34m(\u001b[0m\u001b[0mexperiment\u001b[0m\u001b[0;34m,\u001b[0m \u001b[0;34m'fixed_bw'\u001b[0m\u001b[0;34m,\u001b[0m \u001b[0mnew_teacher\u001b[0m\u001b[0;34m=\u001b[0m\u001b[0;32mTrue\u001b[0m\u001b[0;34m)\u001b[0m\u001b[0;34m\u001b[0m\u001b[0;34m\u001b[0m\u001b[0m\n\u001b[0m",
      "\u001b[0;32m~/Desktop/correcting-agent/correctingagent/experiments/experiment.py\u001b[0m in \u001b[0;36madd_experiment\u001b[0;34m(config_name, neural_config, debug, new_teacher)\u001b[0m\n\u001b[1;32m    262\u001b[0m         \u001b[0mdf\u001b[0m\u001b[0;34m.\u001b[0m\u001b[0mat\u001b[0m\u001b[0;34m[\u001b[0m\u001b[0mlast_label\u001b[0m\u001b[0;34m,\u001b[0m \u001b[0;34m'experiment_file'\u001b[0m\u001b[0;34m]\u001b[0m \u001b[0;34m=\u001b[0m \u001b[0;32mNone\u001b[0m\u001b[0;34m\u001b[0m\u001b[0;34m\u001b[0m\u001b[0m\n\u001b[1;32m    263\u001b[0m         \u001b[0mdf\u001b[0m\u001b[0;34m.\u001b[0m\u001b[0mat\u001b[0m\u001b[0;34m[\u001b[0m\u001b[0mlast_label\u001b[0m\u001b[0;34m,\u001b[0m \u001b[0;34m'status'\u001b[0m\u001b[0;34m]\u001b[0m \u001b[0;34m=\u001b[0m \u001b[0;34m'ERROR'\u001b[0m\u001b[0;34m\u001b[0m\u001b[0;34m\u001b[0m\u001b[0m\n\u001b[0;32m--> 264\u001b[0;31m         \u001b[0;32mraise\u001b[0m \u001b[0me\u001b[0m\u001b[0;34m\u001b[0m\u001b[0;34m\u001b[0m\u001b[0m\n\u001b[0m\u001b[1;32m    265\u001b[0m     \u001b[0;32melse\u001b[0m\u001b[0;34m:\u001b[0m\u001b[0;34m\u001b[0m\u001b[0;34m\u001b[0m\u001b[0m\n\u001b[1;32m    266\u001b[0m         \u001b[0mdf\u001b[0m \u001b[0;34m=\u001b[0m \u001b[0mpd\u001b[0m\u001b[0;34m.\u001b[0m\u001b[0mread_sql\u001b[0m\u001b[0;34m(\u001b[0m\u001b[0;34m'experiments'\u001b[0m\u001b[0;34m,\u001b[0m \u001b[0mindex_col\u001b[0m\u001b[0;34m=\u001b[0m\u001b[0;34m'index'\u001b[0m\u001b[0;34m,\u001b[0m \u001b[0mcon\u001b[0m\u001b[0;34m=\u001b[0m\u001b[0mengine\u001b[0m\u001b[0;34m)\u001b[0m\u001b[0;34m\u001b[0m\u001b[0;34m\u001b[0m\u001b[0m\n",
      "\u001b[0;32m~/Desktop/correcting-agent/correctingagent/experiments/experiment.py\u001b[0m in \u001b[0;36madd_experiment\u001b[0;34m(config_name, neural_config, debug, new_teacher)\u001b[0m\n\u001b[1;32m    256\u001b[0m     \u001b[0mdf\u001b[0m\u001b[0;34m.\u001b[0m\u001b[0mto_sql\u001b[0m\u001b[0;34m(\u001b[0m\u001b[0;34m'experiments'\u001b[0m\u001b[0;34m,\u001b[0m \u001b[0mcon\u001b[0m\u001b[0;34m=\u001b[0m\u001b[0mengine\u001b[0m\u001b[0;34m,\u001b[0m \u001b[0mif_exists\u001b[0m\u001b[0;34m=\u001b[0m\u001b[0;34m'replace'\u001b[0m\u001b[0;34m)\u001b[0m\u001b[0;34m\u001b[0m\u001b[0;34m\u001b[0m\u001b[0m\n\u001b[1;32m    257\u001b[0m     \u001b[0;32mtry\u001b[0m\u001b[0;34m:\u001b[0m\u001b[0;34m\u001b[0m\u001b[0;34m\u001b[0m\u001b[0m\n\u001b[0;32m--> 258\u001b[0;31m         \u001b[0mresults_file\u001b[0m \u001b[0;34m=\u001b[0m \u001b[0mrun_experiment\u001b[0m\u001b[0;34m(\u001b[0m\u001b[0mconfig_name\u001b[0m\u001b[0;34m=\u001b[0m\u001b[0mconfig_name\u001b[0m\u001b[0;34m,\u001b[0m \u001b[0mneural_config\u001b[0m\u001b[0;34m=\u001b[0m\u001b[0mneural_config\u001b[0m\u001b[0;34m,\u001b[0m \u001b[0mdebug\u001b[0m\u001b[0;34m=\u001b[0m\u001b[0mdebug\u001b[0m\u001b[0;34m,\u001b[0m \u001b[0mnew_teacher\u001b[0m\u001b[0;34m=\u001b[0m\u001b[0mnew_teacher\u001b[0m\u001b[0;34m)\u001b[0m\u001b[0;34m\u001b[0m\u001b[0;34m\u001b[0m\u001b[0m\n\u001b[0m\u001b[1;32m    259\u001b[0m     \u001b[0;32mexcept\u001b[0m \u001b[0mException\u001b[0m \u001b[0;32mas\u001b[0m \u001b[0me\u001b[0m\u001b[0;34m:\u001b[0m\u001b[0;34m\u001b[0m\u001b[0;34m\u001b[0m\u001b[0m\n\u001b[1;32m    260\u001b[0m         \u001b[0mdf\u001b[0m \u001b[0;34m=\u001b[0m \u001b[0mpd\u001b[0m\u001b[0;34m.\u001b[0m\u001b[0mread_sql\u001b[0m\u001b[0;34m(\u001b[0m\u001b[0;34m'experiments'\u001b[0m\u001b[0;34m,\u001b[0m \u001b[0mindex_col\u001b[0m\u001b[0;34m=\u001b[0m\u001b[0;34m'index'\u001b[0m\u001b[0;34m,\u001b[0m \u001b[0mcon\u001b[0m\u001b[0;34m=\u001b[0m\u001b[0mengine\u001b[0m\u001b[0;34m)\u001b[0m\u001b[0;34m\u001b[0m\u001b[0;34m\u001b[0m\u001b[0m\n",
      "\u001b[0;32m~/Desktop/correcting-agent/correctingagent/experiments/experiment.py\u001b[0m in \u001b[0;36mrun_experiment\u001b[0;34m(config_name, debug, neural_config, new_teacher)\u001b[0m\n\u001b[1;32m    155\u001b[0m                 \u001b[0;32mif\u001b[0m \u001b[0mcorrection\u001b[0m\u001b[0;34m:\u001b[0m\u001b[0;34m\u001b[0m\u001b[0;34m\u001b[0m\u001b[0m\n\u001b[1;32m    156\u001b[0m                     \u001b[0mlogger\u001b[0m\u001b[0;34m.\u001b[0m\u001b[0minfo\u001b[0m\u001b[0;34m(\u001b[0m\u001b[0;34m\"T: \"\u001b[0m \u001b[0;34m+\u001b[0m \u001b[0mcorrection\u001b[0m\u001b[0;34m)\u001b[0m\u001b[0;34m\u001b[0m\u001b[0;34m\u001b[0m\u001b[0m\n\u001b[0;32m--> 157\u001b[0;31m                     \u001b[0magent\u001b[0m\u001b[0;34m.\u001b[0m\u001b[0mget_correction\u001b[0m\u001b[0;34m(\u001b[0m\u001b[0mcorrection\u001b[0m\u001b[0;34m,\u001b[0m \u001b[0ma\u001b[0m\u001b[0;34m,\u001b[0m \u001b[0margs\u001b[0m\u001b[0;34m)\u001b[0m\u001b[0;34m\u001b[0m\u001b[0;34m\u001b[0m\u001b[0m\n\u001b[0m\u001b[1;32m    158\u001b[0m                     \u001b[0;32mif\u001b[0m \u001b[0mvis\u001b[0m\u001b[0;34m:\u001b[0m\u001b[0;34m\u001b[0m\u001b[0;34m\u001b[0m\u001b[0m\n\u001b[1;32m    159\u001b[0m                         \u001b[0mw\u001b[0m\u001b[0;34m.\u001b[0m\u001b[0mdraw\u001b[0m\u001b[0;34m(\u001b[0m\u001b[0;34m)\u001b[0m\u001b[0;34m\u001b[0m\u001b[0;34m\u001b[0m\u001b[0m\n",
      "\u001b[0;32m~/Desktop/correcting-agent/correctingagent/agents/PGMAgent.py\u001b[0m in \u001b[0;36mget_correction\u001b[0;34m(self, user_input, actions, args, test)\u001b[0m\n\u001b[1;32m    287\u001b[0m             \u001b[0mviolations\u001b[0m \u001b[0;34m=\u001b[0m \u001b[0mself\u001b[0m\u001b[0;34m.\u001b[0m\u001b[0mbuild_pgm_model\u001b[0m\u001b[0;34m(\u001b[0m\u001b[0mprev_message\u001b[0m\u001b[0;34m,\u001b[0m \u001b[0margs\u001b[0m\u001b[0;34m)\u001b[0m\u001b[0;34m\u001b[0m\u001b[0;34m\u001b[0m\u001b[0m\n\u001b[1;32m    288\u001b[0m             \u001b[0mprev_args\u001b[0m\u001b[0;34m,\u001b[0m \u001b[0mprev_args_time\u001b[0m \u001b[0;34m=\u001b[0m \u001b[0mself\u001b[0m\u001b[0;34m.\u001b[0m\u001b[0mprevious_args\u001b[0m\u001b[0;34m[\u001b[0m\u001b[0mi\u001b[0m\u001b[0;34m]\u001b[0m\u001b[0;34m\u001b[0m\u001b[0;34m\u001b[0m\u001b[0m\n\u001b[0;32m--> 289\u001b[0;31m             \u001b[0;32massert\u001b[0m\u001b[0;34m(\u001b[0m\u001b[0mprev_args_time\u001b[0m \u001b[0;34m==\u001b[0m \u001b[0mprev_time\u001b[0m\u001b[0;34m)\u001b[0m\u001b[0;34m\u001b[0m\u001b[0;34m\u001b[0m\u001b[0m\n\u001b[0m\u001b[1;32m    290\u001b[0m \u001b[0;34m\u001b[0m\u001b[0m\n\u001b[1;32m    291\u001b[0m \u001b[0;34m\u001b[0m\u001b[0m\n",
      "\u001b[0;31mAssertionError\u001b[0m: "
     ]
    }
   ],
   "source": [
    "for experiment in experiments:\n",
    "    add_experiment(experiment, 'fixed_bw', new_teacher=True)"
   ]
  },
  {
   "cell_type": "code",
   "execution_count": 2,
   "metadata": {},
   "outputs": [
    {
     "name": "stdout",
     "output_type": "stream",
     "text": [
      "Parsing domain /home/mappelgren/Desktop/correcting-agent/data/domain/blocks-domain.pddl\n",
      "Parsing problem /home/mappelgren/Desktop/correcting-agent/data/onerule/problem48.pddl\n",
      "Parsing domain /home/mappelgren/Desktop/correcting-agent/data/domain/blocks-domain.pddl\n",
      "Parsing problem /home/mappelgren/Desktop/correcting-agent/data/onerule/problem48.pddl\n",
      "/home/mappelgren/Desktop/correcting-agent/data/domain/blocks-domain.pddl\n"
     ]
    },
    {
     "name": "stderr",
     "output_type": "stream",
     "text": [
      "T: no, put red blocks on blue blocks\n"
     ]
    },
    {
     "name": "stdout",
     "output_type": "stream",
     "text": [
      "problem48.pddl reward: -10\n",
      "Parsing domain /home/mappelgren/Desktop/correcting-agent/data/domain/blocks-domain.pddl\n",
      "Parsing problem /home/mappelgren/Desktop/correcting-agent/data/onerule/problem26.pddl\n",
      "/home/mappelgren/Desktop/correcting-agent/data/domain/blocks-domain.pddl\n",
      "Message(rel='on', o1=['red'], o2=['blue'], T='tower', o3=None)\n",
      "no, put red blocks on blue blocks\n",
      "Is the top object red\n",
      "yes\n",
      "V_1(all x.(red(x) -> exists y. (blue(y) & on(x,y))))\n",
      "all x.(red(x) -> exists y. (blue(y) & on(x,y)))\n"
     ]
    },
    {
     "name": "stderr",
     "output_type": "stream",
     "text": [
      "T: No, now you cannot put b5 in the tower because you must put red blocks on blue blocks\n"
     ]
    },
    {
     "name": "stdout",
     "output_type": "stream",
     "text": [
      "/home/mappelgren/Desktop/correcting-agent/data/domain/blocks-domain.pddl\n",
      "Message(rel='on', o1=['red'], o2=['blue'], T='table', o3='b5')\n"
     ]
    },
    {
     "name": "stderr",
     "output_type": "stream",
     "text": [
      "T: no, that is wrong for the same reason\n"
     ]
    },
    {
     "name": "stdout",
     "output_type": "stream",
     "text": [
      "No, now you cannot put b5 in the tower because you must put red blocks on blue blocks\n",
      "V_2(all x.(red(x) -> exists y. (blue(y) & on(x,y))))\n",
      "all x.(red(x) -> exists y. (blue(y) & on(x,y)))\n",
      "/home/mappelgren/Desktop/correcting-agent/data/domain/blocks-domain.pddl\n",
      "Message(rel=None, o1=None, o2=None, T='same reason', o3=None)\n",
      "no, that is wrong for the same reason\n",
      "V_3(all x.(red(x) -> exists y. (blue(y) & on(x,y))))\n",
      "all x.(red(x) -> exists y. (blue(y) & on(x,y)))\n",
      "/home/mappelgren/Desktop/correcting-agent/data/domain/blocks-domain.pddl\n",
      "problem26.pddl reward: -16\n",
      "Parsing domain /home/mappelgren/Desktop/correcting-agent/data/domain/blocks-domain.pddl\n",
      "Parsing problem /home/mappelgren/Desktop/correcting-agent/data/onerule/problem20.pddl\n",
      "/home/mappelgren/Desktop/correcting-agent/data/domain/blocks-domain.pddl\n"
     ]
    },
    {
     "name": "stderr",
     "output_type": "stream",
     "text": [
      "T: no, put red blocks on blue blocks\n"
     ]
    },
    {
     "name": "stdout",
     "output_type": "stream",
     "text": [
      "problem20.pddl reward: -10\n",
      "Parsing domain /home/mappelgren/Desktop/correcting-agent/data/domain/blocks-domain.pddl\n",
      "Parsing problem /home/mappelgren/Desktop/correcting-agent/data/onerule/problem45.pddl\n",
      "/home/mappelgren/Desktop/correcting-agent/data/domain/blocks-domain.pddl\n",
      "Message(rel='on', o1=['red'], o2=['blue'], T='tower', o3=None)\n"
     ]
    },
    {
     "name": "stderr",
     "output_type": "stream",
     "text": [
      "T: no, that is not blue again\n"
     ]
    },
    {
     "name": "stdout",
     "output_type": "stream",
     "text": [
      "no, put red blocks on blue blocks\n",
      "V_1(all y.(blue(y) -> exists x. (red(x) & on(x,y))))\n",
      "all y.(blue(y) -> exists x. (red(x) & on(x,y)))\n",
      "/home/mappelgren/Desktop/correcting-agent/data/domain/blocks-domain.pddl\n",
      "/home/mappelgren/Desktop/correcting-agent/data/domain/blocks-domain.pddl\n",
      "/home/mappelgren/Desktop/correcting-agent/data/domain/blocks-domain.pddl\n",
      "Message(rel=None, o1='blue', o2=None, T='partial.neg', o3=None)\n",
      "no, that is not blue again\n",
      "V_2(all x.(red(x) -> exists y. (blue(y) & on(x,y))))\n",
      "all x.(red(x) -> exists y. (blue(y) & on(x,y)))\n",
      "/home/mappelgren/Desktop/correcting-agent/data/domain/blocks-domain.pddl\n",
      "problem45.pddl reward: -14\n",
      "Parsing domain /home/mappelgren/Desktop/correcting-agent/data/domain/blocks-domain.pddl\n",
      "Parsing problem /home/mappelgren/Desktop/correcting-agent/data/onerule/problem18.pddl\n",
      "/home/mappelgren/Desktop/correcting-agent/data/domain/blocks-domain.pddl\n"
     ]
    },
    {
     "name": "stderr",
     "output_type": "stream",
     "text": [
      "T: no, put red blocks on blue blocks\n"
     ]
    },
    {
     "name": "stdout",
     "output_type": "stream",
     "text": [
      "problem18.pddl reward: -10\n",
      "Parsing domain /home/mappelgren/Desktop/correcting-agent/data/domain/blocks-domain.pddl\n",
      "Parsing problem /home/mappelgren/Desktop/correcting-agent/data/onerule/problem1.pddl\n",
      "/home/mappelgren/Desktop/correcting-agent/data/domain/blocks-domain.pddl\n",
      "Message(rel='on', o1=['red'], o2=['blue'], T='tower', o3=None)\n",
      "no, put red blocks on blue blocks\n",
      "V_1(all x.(red(x) -> exists y. (blue(y) & on(x,y))))\n",
      "all x.(red(x) -> exists y. (blue(y) & on(x,y)))\n",
      "/home/mappelgren/Desktop/correcting-agent/data/domain/blocks-domain.pddl\n",
      "/home/mappelgren/Desktop/correcting-agent/data/domain/blocks-domain.pddl\n",
      "problem1.pddl reward: -12\n",
      "Parsing domain /home/mappelgren/Desktop/correcting-agent/data/domain/blocks-domain.pddl\n",
      "Parsing problem /home/mappelgren/Desktop/correcting-agent/data/onerule/problem36.pddl\n",
      "/home/mappelgren/Desktop/correcting-agent/data/domain/blocks-domain.pddl\n",
      "problem36.pddl reward: -10\n",
      "Parsing domain /home/mappelgren/Desktop/correcting-agent/data/domain/blocks-domain.pddl\n",
      "Parsing problem /home/mappelgren/Desktop/correcting-agent/data/onerule/problem41.pddl\n",
      "/home/mappelgren/Desktop/correcting-agent/data/domain/blocks-domain.pddl\n",
      "problem41.pddl reward: -10\n",
      "Parsing domain /home/mappelgren/Desktop/correcting-agent/data/domain/blocks-domain.pddl\n",
      "Parsing problem /home/mappelgren/Desktop/correcting-agent/data/onerule/problem44.pddl\n",
      "/home/mappelgren/Desktop/correcting-agent/data/domain/blocks-domain.pddl\n",
      "problem44.pddl reward: -10\n",
      "Parsing domain /home/mappelgren/Desktop/correcting-agent/data/domain/blocks-domain.pddl\n",
      "Parsing problem /home/mappelgren/Desktop/correcting-agent/data/onerule/problem40.pddl\n",
      "/home/mappelgren/Desktop/correcting-agent/data/domain/blocks-domain.pddl\n",
      "problem40.pddl reward: -10\n",
      "Parsing domain /home/mappelgren/Desktop/correcting-agent/data/domain/blocks-domain.pddl\n",
      "Parsing problem /home/mappelgren/Desktop/correcting-agent/data/onerule/problem31.pddl\n",
      "/home/mappelgren/Desktop/correcting-agent/data/domain/blocks-domain.pddl\n"
     ]
    },
    {
     "name": "stderr",
     "output_type": "stream",
     "text": [
      "T: No, now you cannot put b3 in the tower because you must put red blocks on blue blocks\n"
     ]
    },
    {
     "name": "stdout",
     "output_type": "stream",
     "text": [
      "problem31.pddl reward: -10\n",
      "Parsing domain /home/mappelgren/Desktop/correcting-agent/data/domain/blocks-domain.pddl\n",
      "Parsing problem /home/mappelgren/Desktop/correcting-agent/data/onerule/problem27.pddl\n",
      "/home/mappelgren/Desktop/correcting-agent/data/domain/blocks-domain.pddl\n",
      "Message(rel='on', o1=['red'], o2=['blue'], T='table', o3='b3')\n",
      "No, now you cannot put b3 in the tower because you must put red blocks on blue blocks\n",
      "V_1(all x.(red(x) -> exists y. (blue(y) & on(x,y))))\n",
      "all x.(red(x) -> exists y. (blue(y) & on(x,y)))\n",
      "/home/mappelgren/Desktop/correcting-agent/data/domain/blocks-domain.pddl\n",
      "problem27.pddl reward: -12\n",
      "Parsing domain /home/mappelgren/Desktop/correcting-agent/data/domain/blocks-domain.pddl\n",
      "Parsing problem /home/mappelgren/Desktop/correcting-agent/data/onerule/problem37.pddl\n",
      "/home/mappelgren/Desktop/correcting-agent/data/domain/blocks-domain.pddl\n",
      "problem37.pddl reward: -10\n",
      "Parsing domain /home/mappelgren/Desktop/correcting-agent/data/domain/blocks-domain.pddl\n",
      "Parsing problem /home/mappelgren/Desktop/correcting-agent/data/onerule/problem33.pddl\n"
     ]
    },
    {
     "name": "stderr",
     "output_type": "stream",
     "text": [
      "T: No, now you cannot put b0 in the tower because you must put red blocks on blue blocks\n"
     ]
    },
    {
     "name": "stdout",
     "output_type": "stream",
     "text": [
      "/home/mappelgren/Desktop/correcting-agent/data/domain/blocks-domain.pddl\n",
      "Message(rel='on', o1=['red'], o2=['blue'], T='table', o3='b0')\n"
     ]
    },
    {
     "name": "stderr",
     "output_type": "stream",
     "text": [
      "T: No, now you cannot put b0 in the tower because you must put red blocks on blue blocks\n"
     ]
    },
    {
     "name": "stdout",
     "output_type": "stream",
     "text": [
      "No, now you cannot put b0 in the tower because you must put red blocks on blue blocks\n",
      "V_1(all x.(red(x) -> exists y. (blue(y) & on(x,y))))\n",
      "all x.(red(x) -> exists y. (blue(y) & on(x,y)))\n",
      "/home/mappelgren/Desktop/correcting-agent/data/domain/blocks-domain.pddl\n",
      "Message(rel='on', o1=['red'], o2=['blue'], T='table', o3='b0')\n"
     ]
    },
    {
     "name": "stderr",
     "output_type": "stream",
     "text": [
      "T: no, that is wrong for the same reason\n"
     ]
    },
    {
     "name": "stdout",
     "output_type": "stream",
     "text": [
      "No, now you cannot put b0 in the tower because you must put red blocks on blue blocks\n",
      "V_2(all x.(red(x) -> exists y. (blue(y) & on(x,y))))\n",
      "all x.(red(x) -> exists y. (blue(y) & on(x,y)))\n",
      "/home/mappelgren/Desktop/correcting-agent/data/domain/blocks-domain.pddl\n",
      "Message(rel=None, o1=None, o2=None, T='same reason', o3=None)\n"
     ]
    },
    {
     "name": "stderr",
     "output_type": "stream",
     "text": [
      "T: No, now you cannot put b0 in the tower because you must put red blocks on blue blocks\n"
     ]
    },
    {
     "name": "stdout",
     "output_type": "stream",
     "text": [
      "no, that is wrong for the same reason\n",
      "V_3(all x.(red(x) -> exists y. (blue(y) & on(x,y))))\n",
      "all x.(red(x) -> exists y. (blue(y) & on(x,y)))\n",
      "/home/mappelgren/Desktop/correcting-agent/data/domain/blocks-domain.pddl\n",
      "Message(rel='on', o1=['red'], o2=['blue'], T='table', o3='b0')\n"
     ]
    },
    {
     "name": "stderr",
     "output_type": "stream",
     "text": [
      "T: no, that is wrong for the same reason\n"
     ]
    },
    {
     "name": "stdout",
     "output_type": "stream",
     "text": [
      "No, now you cannot put b0 in the tower because you must put red blocks on blue blocks\n",
      "V_4(all x.(red(x) -> exists y. (blue(y) & on(x,y))))\n",
      "all x.(red(x) -> exists y. (blue(y) & on(x,y)))\n",
      "/home/mappelgren/Desktop/correcting-agent/data/domain/blocks-domain.pddl\n",
      "Message(rel=None, o1=None, o2=None, T='same reason', o3=None)\n",
      "no, that is wrong for the same reason\n",
      "V_5(all x.(red(x) -> exists y. (blue(y) & on(x,y))))\n",
      "all x.(red(x) -> exists y. (blue(y) & on(x,y)))\n",
      "/home/mappelgren/Desktop/correcting-agent/data/domain/blocks-domain.pddl\n",
      "/home/mappelgren/Desktop/correcting-agent/data/domain/blocks-domain.pddl\n",
      "problem33.pddl reward: -20\n",
      "Parsing domain /home/mappelgren/Desktop/correcting-agent/data/domain/blocks-domain.pddl\n",
      "Parsing problem /home/mappelgren/Desktop/correcting-agent/data/onerule/problem34.pddl\n",
      "/home/mappelgren/Desktop/correcting-agent/data/domain/blocks-domain.pddl\n",
      "problem34.pddl reward: -10\n",
      "Parsing domain /home/mappelgren/Desktop/correcting-agent/data/domain/blocks-domain.pddl\n",
      "Parsing problem /home/mappelgren/Desktop/correcting-agent/data/onerule/problem46.pddl\n",
      "/home/mappelgren/Desktop/correcting-agent/data/domain/blocks-domain.pddl\n",
      "problem46.pddl reward: -10\n",
      "Parsing domain /home/mappelgren/Desktop/correcting-agent/data/domain/blocks-domain.pddl\n",
      "Parsing problem /home/mappelgren/Desktop/correcting-agent/data/onerule/problem50.pddl\n",
      "/home/mappelgren/Desktop/correcting-agent/data/domain/blocks-domain.pddl\n",
      "problem50.pddl reward: -10\n",
      "Parsing domain /home/mappelgren/Desktop/correcting-agent/data/domain/blocks-domain.pddl\n",
      "Parsing problem /home/mappelgren/Desktop/correcting-agent/data/onerule/problem2.pddl\n",
      "/home/mappelgren/Desktop/correcting-agent/data/domain/blocks-domain.pddl\n",
      "problem2.pddl reward: -10\n",
      "Parsing domain /home/mappelgren/Desktop/correcting-agent/data/domain/blocks-domain.pddl\n",
      "Parsing problem /home/mappelgren/Desktop/correcting-agent/data/onerule/problem23.pddl\n",
      "/home/mappelgren/Desktop/correcting-agent/data/domain/blocks-domain.pddl\n",
      "problem23.pddl reward: -10\n",
      "Parsing domain /home/mappelgren/Desktop/correcting-agent/data/domain/blocks-domain.pddl\n",
      "Parsing problem /home/mappelgren/Desktop/correcting-agent/data/onerule/problem24.pddl\n",
      "/home/mappelgren/Desktop/correcting-agent/data/domain/blocks-domain.pddl\n",
      "problem24.pddl reward: -10\n",
      "Parsing domain /home/mappelgren/Desktop/correcting-agent/data/domain/blocks-domain.pddl\n",
      "Parsing problem /home/mappelgren/Desktop/correcting-agent/data/onerule/problem7.pddl\n",
      "/home/mappelgren/Desktop/correcting-agent/data/domain/blocks-domain.pddl\n",
      "problem7.pddl reward: -10\n",
      "Parsing domain /home/mappelgren/Desktop/correcting-agent/data/domain/blocks-domain.pddl\n",
      "Parsing problem /home/mappelgren/Desktop/correcting-agent/data/onerule/problem8.pddl\n",
      "/home/mappelgren/Desktop/correcting-agent/data/domain/blocks-domain.pddl\n",
      "problem8.pddl reward: -10\n",
      "Parsing domain /home/mappelgren/Desktop/correcting-agent/data/domain/blocks-domain.pddl\n",
      "Parsing problem /home/mappelgren/Desktop/correcting-agent/data/onerule/problem30.pddl\n",
      "/home/mappelgren/Desktop/correcting-agent/data/domain/blocks-domain.pddl\n"
     ]
    },
    {
     "name": "stderr",
     "output_type": "stream",
     "text": [
      "T: No, now you cannot put b1 in the tower because you must put red blocks on blue blocks\n"
     ]
    },
    {
     "name": "stdout",
     "output_type": "stream",
     "text": [
      "Message(rel='on', o1=['red'], o2=['blue'], T='table', o3='b1')\n",
      "No, now you cannot put b1 in the tower because you must put red blocks on blue blocks\n",
      "V_1(all x.(red(x) -> exists y. (blue(y) & on(x,y))))\n",
      "all x.(red(x) -> exists y. (blue(y) & on(x,y)))\n",
      "/home/mappelgren/Desktop/correcting-agent/data/domain/blocks-domain.pddl\n",
      "problem30.pddl reward: -12\n",
      "Parsing domain /home/mappelgren/Desktop/correcting-agent/data/domain/blocks-domain.pddl\n",
      "Parsing problem /home/mappelgren/Desktop/correcting-agent/data/onerule/problem42.pddl\n",
      "/home/mappelgren/Desktop/correcting-agent/data/domain/blocks-domain.pddl\n",
      "problem42.pddl reward: -10\n",
      "Parsing domain /home/mappelgren/Desktop/correcting-agent/data/domain/blocks-domain.pddl\n",
      "Parsing problem /home/mappelgren/Desktop/correcting-agent/data/onerule/problem43.pddl\n",
      "/home/mappelgren/Desktop/correcting-agent/data/domain/blocks-domain.pddl\n",
      "problem43.pddl reward: -10\n",
      "Parsing domain /home/mappelgren/Desktop/correcting-agent/data/domain/blocks-domain.pddl\n",
      "Parsing problem /home/mappelgren/Desktop/correcting-agent/data/onerule/problem28.pddl\n",
      "/home/mappelgren/Desktop/correcting-agent/data/domain/blocks-domain.pddl\n",
      "problem28.pddl reward: -10\n",
      "Parsing domain /home/mappelgren/Desktop/correcting-agent/data/domain/blocks-domain.pddl\n",
      "Parsing problem /home/mappelgren/Desktop/correcting-agent/data/onerule/problem29.pddl\n",
      "/home/mappelgren/Desktop/correcting-agent/data/domain/blocks-domain.pddl\n",
      "problem29.pddl reward: -10\n",
      "Parsing domain /home/mappelgren/Desktop/correcting-agent/data/domain/blocks-domain.pddl\n",
      "Parsing problem /home/mappelgren/Desktop/correcting-agent/data/onerule/problem17.pddl\n",
      "/home/mappelgren/Desktop/correcting-agent/data/domain/blocks-domain.pddl\n",
      "problem17.pddl reward: -10\n",
      "Parsing domain /home/mappelgren/Desktop/correcting-agent/data/domain/blocks-domain.pddl\n",
      "Parsing problem /home/mappelgren/Desktop/correcting-agent/data/onerule/problem10.pddl\n",
      "/home/mappelgren/Desktop/correcting-agent/data/domain/blocks-domain.pddl\n",
      "problem10.pddl reward: -10\n",
      "Parsing domain /home/mappelgren/Desktop/correcting-agent/data/domain/blocks-domain.pddl\n",
      "Parsing problem /home/mappelgren/Desktop/correcting-agent/data/onerule/problem25.pddl\n",
      "/home/mappelgren/Desktop/correcting-agent/data/domain/blocks-domain.pddl\n",
      "problem25.pddl reward: -10\n",
      "Parsing domain /home/mappelgren/Desktop/correcting-agent/data/domain/blocks-domain.pddl\n",
      "Parsing problem /home/mappelgren/Desktop/correcting-agent/data/onerule/problem39.pddl\n",
      "/home/mappelgren/Desktop/correcting-agent/data/domain/blocks-domain.pddl\n",
      "problem39.pddl reward: -10\n",
      "Parsing domain /home/mappelgren/Desktop/correcting-agent/data/domain/blocks-domain.pddl\n",
      "Parsing problem /home/mappelgren/Desktop/correcting-agent/data/onerule/problem19.pddl\n",
      "/home/mappelgren/Desktop/correcting-agent/data/domain/blocks-domain.pddl\n",
      "problem19.pddl reward: -10\n",
      "Parsing domain /home/mappelgren/Desktop/correcting-agent/data/domain/blocks-domain.pddl\n",
      "Parsing problem /home/mappelgren/Desktop/correcting-agent/data/onerule/problem6.pddl\n",
      "/home/mappelgren/Desktop/correcting-agent/data/domain/blocks-domain.pddl\n",
      "problem6.pddl reward: -10\n",
      "Parsing domain /home/mappelgren/Desktop/correcting-agent/data/domain/blocks-domain.pddl\n",
      "Parsing problem /home/mappelgren/Desktop/correcting-agent/data/onerule/problem12.pddl\n",
      "/home/mappelgren/Desktop/correcting-agent/data/domain/blocks-domain.pddl\n",
      "problem12.pddl reward: -10\n",
      "Parsing domain /home/mappelgren/Desktop/correcting-agent/data/domain/blocks-domain.pddl\n",
      "Parsing problem /home/mappelgren/Desktop/correcting-agent/data/onerule/problem22.pddl\n",
      "/home/mappelgren/Desktop/correcting-agent/data/domain/blocks-domain.pddl\n",
      "problem22.pddl reward: -10\n",
      "Parsing domain /home/mappelgren/Desktop/correcting-agent/data/domain/blocks-domain.pddl\n",
      "Parsing problem /home/mappelgren/Desktop/correcting-agent/data/onerule/problem9.pddl\n",
      "/home/mappelgren/Desktop/correcting-agent/data/domain/blocks-domain.pddl\n",
      "problem9.pddl reward: -10\n",
      "Parsing domain /home/mappelgren/Desktop/correcting-agent/data/domain/blocks-domain.pddl\n",
      "Parsing problem /home/mappelgren/Desktop/correcting-agent/data/onerule/problem15.pddl\n",
      "/home/mappelgren/Desktop/correcting-agent/data/domain/blocks-domain.pddl\n",
      "problem15.pddl reward: -10\n",
      "Parsing domain /home/mappelgren/Desktop/correcting-agent/data/domain/blocks-domain.pddl\n",
      "Parsing problem /home/mappelgren/Desktop/correcting-agent/data/onerule/problem14.pddl\n",
      "/home/mappelgren/Desktop/correcting-agent/data/domain/blocks-domain.pddl\n",
      "problem14.pddl reward: -10\n",
      "Parsing domain /home/mappelgren/Desktop/correcting-agent/data/domain/blocks-domain.pddl\n",
      "Parsing problem /home/mappelgren/Desktop/correcting-agent/data/onerule/problem38.pddl\n",
      "/home/mappelgren/Desktop/correcting-agent/data/domain/blocks-domain.pddl\n",
      "problem38.pddl reward: -10\n",
      "Parsing domain /home/mappelgren/Desktop/correcting-agent/data/domain/blocks-domain.pddl\n",
      "Parsing problem /home/mappelgren/Desktop/correcting-agent/data/onerule/problem11.pddl\n",
      "/home/mappelgren/Desktop/correcting-agent/data/domain/blocks-domain.pddl\n",
      "problem11.pddl reward: -10\n",
      "Parsing domain /home/mappelgren/Desktop/correcting-agent/data/domain/blocks-domain.pddl\n",
      "Parsing problem /home/mappelgren/Desktop/correcting-agent/data/onerule/problem49.pddl\n",
      "/home/mappelgren/Desktop/correcting-agent/data/domain/blocks-domain.pddl\n",
      "problem49.pddl reward: -10\n",
      "Parsing domain /home/mappelgren/Desktop/correcting-agent/data/domain/blocks-domain.pddl\n",
      "Parsing problem /home/mappelgren/Desktop/correcting-agent/data/onerule/problem16.pddl\n",
      "/home/mappelgren/Desktop/correcting-agent/data/domain/blocks-domain.pddl\n",
      "problem16.pddl reward: -10\n",
      "Parsing domain /home/mappelgren/Desktop/correcting-agent/data/domain/blocks-domain.pddl\n",
      "Parsing problem /home/mappelgren/Desktop/correcting-agent/data/onerule/problem35.pddl\n",
      "/home/mappelgren/Desktop/correcting-agent/data/domain/blocks-domain.pddl\n",
      "problem35.pddl reward: -10\n",
      "Parsing domain /home/mappelgren/Desktop/correcting-agent/data/domain/blocks-domain.pddl\n",
      "Parsing problem /home/mappelgren/Desktop/correcting-agent/data/onerule/problem3.pddl\n",
      "/home/mappelgren/Desktop/correcting-agent/data/domain/blocks-domain.pddl\n",
      "problem3.pddl reward: -10\n",
      "Parsing domain /home/mappelgren/Desktop/correcting-agent/data/domain/blocks-domain.pddl\n",
      "Parsing problem /home/mappelgren/Desktop/correcting-agent/data/onerule/problem47.pddl\n",
      "/home/mappelgren/Desktop/correcting-agent/data/domain/blocks-domain.pddl\n",
      "problem47.pddl reward: -10\n",
      "Parsing domain /home/mappelgren/Desktop/correcting-agent/data/domain/blocks-domain.pddl\n",
      "Parsing problem /home/mappelgren/Desktop/correcting-agent/data/onerule/problem21.pddl\n",
      "/home/mappelgren/Desktop/correcting-agent/data/domain/blocks-domain.pddl\n",
      "problem21.pddl reward: -10\n",
      "Parsing domain /home/mappelgren/Desktop/correcting-agent/data/domain/blocks-domain.pddl\n",
      "Parsing problem /home/mappelgren/Desktop/correcting-agent/data/onerule/problem4.pddl\n",
      "/home/mappelgren/Desktop/correcting-agent/data/domain/blocks-domain.pddl\n",
      "problem4.pddl reward: -10\n",
      "Parsing domain /home/mappelgren/Desktop/correcting-agent/data/domain/blocks-domain.pddl\n",
      "Parsing problem /home/mappelgren/Desktop/correcting-agent/data/onerule/problem32.pddl\n",
      "/home/mappelgren/Desktop/correcting-agent/data/domain/blocks-domain.pddl\n",
      "problem32.pddl reward: -10\n",
      "Parsing domain /home/mappelgren/Desktop/correcting-agent/data/domain/blocks-domain.pddl\n",
      "Parsing problem /home/mappelgren/Desktop/correcting-agent/data/onerule/problem13.pddl\n",
      "/home/mappelgren/Desktop/correcting-agent/data/domain/blocks-domain.pddl\n",
      "problem13.pddl reward: -10\n",
      "Parsing domain /home/mappelgren/Desktop/correcting-agent/data/domain/blocks-domain.pddl\n",
      "Parsing problem /home/mappelgren/Desktop/correcting-agent/data/onerule/problem5.pddl\n",
      "/home/mappelgren/Desktop/correcting-agent/data/domain/blocks-domain.pddl\n",
      "problem5.pddl reward: -10\n"
     ]
    }
   ],
   "source": [
    "add_experiment('onerule_pgm', 'fixed_bw', new_teacher=True)"
   ]
  },
  {
   "cell_type": "code",
   "execution_count": 6,
   "metadata": {
    "scrolled": true
   },
   "outputs": [
    {
     "name": "stderr",
     "output_type": "stream",
     "text": [
      "T: no, put green blocks on yellow blocks\n"
     ]
    },
    {
     "name": "stdout",
     "output_type": "stream",
     "text": [
      "Parsing domain /home/mappelgren/Desktop/correcting-agent/data/domain/blocks-domain.pddl\n",
      "Parsing problem /home/mappelgren/Desktop/correcting-agent/data/tworules/problem48.pddl\n",
      "Parsing domain /home/mappelgren/Desktop/correcting-agent/data/domain/blocks-domain.pddl\n",
      "Parsing problem /home/mappelgren/Desktop/correcting-agent/data/tworules/problem48.pddl\n",
      "/home/mappelgren/Desktop/correcting-agent/data/domain/blocks-domain.pddl\n",
      "no, put green blocks on yellow blocks\n",
      "Is the top object green\n",
      "no\n",
      "/home/mappelgren/Desktop/correcting-agent/data/domain/blocks-domain.pddl\n",
      "we did the thing\n",
      "problem48.pddl reward: -12\n",
      "Parsing domain /home/mappelgren/Desktop/correcting-agent/data/domain/blocks-domain.pddl\n",
      "Parsing problem /home/mappelgren/Desktop/correcting-agent/data/tworules/problem26.pddl\n",
      "/home/mappelgren/Desktop/correcting-agent/data/domain/blocks-domain.pddl\n"
     ]
    },
    {
     "name": "stderr",
     "output_type": "stream",
     "text": [
      "T: no, put green blocks on yellow blocks\n"
     ]
    },
    {
     "name": "stdout",
     "output_type": "stream",
     "text": [
      "problem26.pddl reward: -10\n",
      "Parsing domain /home/mappelgren/Desktop/correcting-agent/data/domain/blocks-domain.pddl\n",
      "Parsing problem /home/mappelgren/Desktop/correcting-agent/data/tworules/problem20.pddl\n",
      "/home/mappelgren/Desktop/correcting-agent/data/domain/blocks-domain.pddl\n",
      "no, put green blocks on yellow blocks\n",
      "/home/mappelgren/Desktop/correcting-agent/data/domain/blocks-domain.pddl\n",
      "we did the thing\n",
      "problem20.pddl reward: -12\n",
      "Parsing domain /home/mappelgren/Desktop/correcting-agent/data/domain/blocks-domain.pddl\n",
      "Parsing problem /home/mappelgren/Desktop/correcting-agent/data/tworules/problem45.pddl\n",
      "/home/mappelgren/Desktop/correcting-agent/data/domain/blocks-domain.pddl\n"
     ]
    },
    {
     "name": "stderr",
     "output_type": "stream",
     "text": [
      "T: no, put red blocks on blue blocks\n"
     ]
    },
    {
     "name": "stdout",
     "output_type": "stream",
     "text": [
      "problem45.pddl reward: -10\n",
      "Parsing domain /home/mappelgren/Desktop/correcting-agent/data/domain/blocks-domain.pddl\n",
      "Parsing problem /home/mappelgren/Desktop/correcting-agent/data/tworules/problem18.pddl\n",
      "/home/mappelgren/Desktop/correcting-agent/data/domain/blocks-domain.pddl\n",
      "no, put red blocks on blue blocks\n",
      "/home/mappelgren/Desktop/correcting-agent/data/domain/blocks-domain.pddl\n",
      "/home/mappelgren/Desktop/correcting-agent/data/domain/blocks-domain.pddl\n",
      "/home/mappelgren/Desktop/correcting-agent/data/domain/blocks-domain.pddl\n"
     ]
    },
    {
     "name": "stderr",
     "output_type": "stream",
     "text": [
      "T: No, now you cannot put b1 in the tower because you must put red blocks on blue blocks\n"
     ]
    },
    {
     "name": "stdout",
     "output_type": "stream",
     "text": [
      "/home/mappelgren/Desktop/correcting-agent/data/domain/blocks-domain.pddl\n",
      "No, now you cannot put b1 in the tower because you must put red blocks on blue blocks\n",
      "/home/mappelgren/Desktop/correcting-agent/data/domain/blocks-domain.pddl\n",
      "we did the thing\n",
      "we did the thing\n"
     ]
    },
    {
     "name": "stderr",
     "output_type": "stream",
     "text": [
      "T: no, put red blocks on blue blocks\n",
      "T: No, now you cannot put b2 in the tower because you must put red blocks on blue blocks\n"
     ]
    },
    {
     "name": "stdout",
     "output_type": "stream",
     "text": [
      "no, put red blocks on blue blocks\n",
      "/home/mappelgren/Desktop/correcting-agent/data/domain/blocks-domain.pddl\n",
      "No, now you cannot put b2 in the tower because you must put red blocks on blue blocks\n",
      "/home/mappelgren/Desktop/correcting-agent/data/domain/blocks-domain.pddl\n",
      "we did the thing\n",
      "we did the thing\n"
     ]
    },
    {
     "name": "stderr",
     "output_type": "stream",
     "text": [
      "T: No, now you cannot put b1 in the tower because you must put green blocks on yellow blocks\n"
     ]
    },
    {
     "name": "stdout",
     "output_type": "stream",
     "text": [
      "problem18.pddl reward: -18\n",
      "Parsing domain /home/mappelgren/Desktop/correcting-agent/data/domain/blocks-domain.pddl\n",
      "Parsing problem /home/mappelgren/Desktop/correcting-agent/data/tworules/problem1.pddl\n",
      "/home/mappelgren/Desktop/correcting-agent/data/domain/blocks-domain.pddl\n",
      "No, now you cannot put b1 in the tower because you must put green blocks on yellow blocks\n",
      "/home/mappelgren/Desktop/correcting-agent/data/domain/blocks-domain.pddl\n",
      "/home/mappelgren/Desktop/correcting-agent/data/domain/blocks-domain.pddl\n",
      "/home/mappelgren/Desktop/correcting-agent/data/domain/blocks-domain.pddl\n",
      "we did the thing\n",
      "we did the thing\n",
      "we did the thing\n",
      "problem1.pddl reward: -12\n",
      "Parsing domain /home/mappelgren/Desktop/correcting-agent/data/domain/blocks-domain.pddl\n",
      "Parsing problem /home/mappelgren/Desktop/correcting-agent/data/tworules/problem36.pddl\n",
      "/home/mappelgren/Desktop/correcting-agent/data/domain/blocks-domain.pddl\n",
      "problem36.pddl reward: -10\n",
      "Parsing domain /home/mappelgren/Desktop/correcting-agent/data/domain/blocks-domain.pddl\n",
      "Parsing problem /home/mappelgren/Desktop/correcting-agent/data/tworules/problem41.pddl\n",
      "/home/mappelgren/Desktop/correcting-agent/data/domain/blocks-domain.pddl\n",
      "/home/mappelgren/Desktop/correcting-agent/data/domain/blocks-domain.pddl\n"
     ]
    },
    {
     "name": "stderr",
     "output_type": "stream",
     "text": [
      "T: No, now you cannot put b6 in the tower because you must put red blocks on blue blocks\n"
     ]
    },
    {
     "name": "stdout",
     "output_type": "stream",
     "text": [
      "/home/mappelgren/Desktop/correcting-agent/data/domain/blocks-domain.pddl\n",
      "No, now you cannot put b6 in the tower because you must put red blocks on blue blocks\n",
      "/home/mappelgren/Desktop/correcting-agent/data/domain/blocks-domain.pddl\n",
      "we did the thing\n",
      "we did the thing\n",
      "problem41.pddl reward: -12\n",
      "Parsing domain /home/mappelgren/Desktop/correcting-agent/data/domain/blocks-domain.pddl\n",
      "Parsing problem /home/mappelgren/Desktop/correcting-agent/data/tworules/problem44.pddl\n",
      "/home/mappelgren/Desktop/correcting-agent/data/domain/blocks-domain.pddl\n",
      "problem44.pddl reward: -10\n",
      "Parsing domain /home/mappelgren/Desktop/correcting-agent/data/domain/blocks-domain.pddl\n",
      "Parsing problem /home/mappelgren/Desktop/correcting-agent/data/tworules/problem40.pddl\n",
      "/home/mappelgren/Desktop/correcting-agent/data/domain/blocks-domain.pddl\n",
      "problem40.pddl reward: -10\n",
      "Parsing domain /home/mappelgren/Desktop/correcting-agent/data/domain/blocks-domain.pddl\n",
      "Parsing problem /home/mappelgren/Desktop/correcting-agent/data/tworules/problem31.pddl\n",
      "/home/mappelgren/Desktop/correcting-agent/data/domain/blocks-domain.pddl\n",
      "problem31.pddl reward: -10\n",
      "Parsing domain /home/mappelgren/Desktop/correcting-agent/data/domain/blocks-domain.pddl\n",
      "Parsing problem /home/mappelgren/Desktop/correcting-agent/data/tworules/problem27.pddl\n",
      "/home/mappelgren/Desktop/correcting-agent/data/domain/blocks-domain.pddl\n"
     ]
    },
    {
     "name": "stderr",
     "output_type": "stream",
     "text": [
      "T: no, put green blocks on yellow blocks\n"
     ]
    },
    {
     "name": "stdout",
     "output_type": "stream",
     "text": [
      "no, put green blocks on yellow blocks\n",
      "/home/mappelgren/Desktop/correcting-agent/data/domain/blocks-domain.pddl\n",
      "we did the thing\n",
      "problem27.pddl reward: -12\n",
      "Parsing domain /home/mappelgren/Desktop/correcting-agent/data/domain/blocks-domain.pddl\n",
      "Parsing problem /home/mappelgren/Desktop/correcting-agent/data/tworules/problem37.pddl\n",
      "/home/mappelgren/Desktop/correcting-agent/data/domain/blocks-domain.pddl\n",
      "problem37.pddl reward: -10\n",
      "Parsing domain /home/mappelgren/Desktop/correcting-agent/data/domain/blocks-domain.pddl\n",
      "Parsing problem /home/mappelgren/Desktop/correcting-agent/data/tworules/problem33.pddl\n",
      "/home/mappelgren/Desktop/correcting-agent/data/domain/blocks-domain.pddl\n",
      "/home/mappelgren/Desktop/correcting-agent/data/domain/blocks-domain.pddl\n"
     ]
    },
    {
     "name": "stderr",
     "output_type": "stream",
     "text": [
      "T: No, now you cannot put b6 in the tower because you must put red blocks on blue blocks\n"
     ]
    },
    {
     "name": "stdout",
     "output_type": "stream",
     "text": [
      "/home/mappelgren/Desktop/correcting-agent/data/domain/blocks-domain.pddl\n",
      "No, now you cannot put b6 in the tower because you must put red blocks on blue blocks\n",
      "/home/mappelgren/Desktop/correcting-agent/data/domain/blocks-domain.pddl\n",
      "/home/mappelgren/Desktop/correcting-agent/data/domain/blocks-domain.pddl\n",
      "/home/mappelgren/Desktop/correcting-agent/data/domain/blocks-domain.pddl\n",
      "we did the thing\n",
      "we did the thing\n"
     ]
    },
    {
     "name": "stderr",
     "output_type": "stream",
     "text": [
      "T: no, put green blocks on yellow blocks\n"
     ]
    },
    {
     "name": "stdout",
     "output_type": "stream",
     "text": [
      "no, put green blocks on yellow blocks\n",
      "/home/mappelgren/Desktop/correcting-agent/data/domain/blocks-domain.pddl\n",
      "/home/mappelgren/Desktop/correcting-agent/data/domain/blocks-domain.pddl\n",
      "we did the thing\n",
      "problem33.pddl reward: -14\n",
      "Parsing domain /home/mappelgren/Desktop/correcting-agent/data/domain/blocks-domain.pddl\n",
      "Parsing problem /home/mappelgren/Desktop/correcting-agent/data/tworules/problem34.pddl\n",
      "/home/mappelgren/Desktop/correcting-agent/data/domain/blocks-domain.pddl\n",
      "problem34.pddl reward: -10\n",
      "Parsing domain /home/mappelgren/Desktop/correcting-agent/data/domain/blocks-domain.pddl\n",
      "Parsing problem /home/mappelgren/Desktop/correcting-agent/data/tworules/problem46.pddl\n",
      "/home/mappelgren/Desktop/correcting-agent/data/domain/blocks-domain.pddl\n",
      "problem46.pddl reward: -10\n",
      "Parsing domain /home/mappelgren/Desktop/correcting-agent/data/domain/blocks-domain.pddl\n",
      "Parsing problem /home/mappelgren/Desktop/correcting-agent/data/tworules/problem50.pddl\n",
      "/home/mappelgren/Desktop/correcting-agent/data/domain/blocks-domain.pddl\n",
      "problem50.pddl reward: -10\n",
      "Parsing domain /home/mappelgren/Desktop/correcting-agent/data/domain/blocks-domain.pddl\n",
      "Parsing problem /home/mappelgren/Desktop/correcting-agent/data/tworules/problem2.pddl\n",
      "/home/mappelgren/Desktop/correcting-agent/data/domain/blocks-domain.pddl\n"
     ]
    },
    {
     "name": "stderr",
     "output_type": "stream",
     "text": [
      "T: no, put green blocks on yellow blocks\n"
     ]
    },
    {
     "name": "stdout",
     "output_type": "stream",
     "text": [
      "no, put green blocks on yellow blocks\n",
      "/home/mappelgren/Desktop/correcting-agent/data/domain/blocks-domain.pddl\n",
      "we did the thing\n",
      "problem2.pddl reward: -12\n",
      "Parsing domain /home/mappelgren/Desktop/correcting-agent/data/domain/blocks-domain.pddl\n",
      "Parsing problem /home/mappelgren/Desktop/correcting-agent/data/tworules/problem23.pddl\n",
      "/home/mappelgren/Desktop/correcting-agent/data/domain/blocks-domain.pddl\n",
      "/home/mappelgren/Desktop/correcting-agent/data/domain/blocks-domain.pddl\n",
      "/home/mappelgren/Desktop/correcting-agent/data/domain/blocks-domain.pddl\n",
      "problem23.pddl reward: -10\n",
      "Parsing domain /home/mappelgren/Desktop/correcting-agent/data/domain/blocks-domain.pddl\n",
      "Parsing problem /home/mappelgren/Desktop/correcting-agent/data/tworules/problem24.pddl\n",
      "/home/mappelgren/Desktop/correcting-agent/data/domain/blocks-domain.pddl\n",
      "problem24.pddl reward: -10\n",
      "Parsing domain /home/mappelgren/Desktop/correcting-agent/data/domain/blocks-domain.pddl\n",
      "Parsing problem /home/mappelgren/Desktop/correcting-agent/data/tworules/problem7.pddl\n",
      "/home/mappelgren/Desktop/correcting-agent/data/domain/blocks-domain.pddl\n",
      "problem7.pddl reward: -10\n",
      "Parsing domain /home/mappelgren/Desktop/correcting-agent/data/domain/blocks-domain.pddl\n",
      "Parsing problem /home/mappelgren/Desktop/correcting-agent/data/tworules/problem8.pddl\n",
      "/home/mappelgren/Desktop/correcting-agent/data/domain/blocks-domain.pddl\n",
      "/home/mappelgren/Desktop/correcting-agent/data/domain/blocks-domain.pddl\n",
      "problem8.pddl reward: -10\n",
      "Parsing domain /home/mappelgren/Desktop/correcting-agent/data/domain/blocks-domain.pddl\n",
      "Parsing problem /home/mappelgren/Desktop/correcting-agent/data/tworules/problem30.pddl\n",
      "/home/mappelgren/Desktop/correcting-agent/data/domain/blocks-domain.pddl\n",
      "problem30.pddl reward: -10\n",
      "Parsing domain /home/mappelgren/Desktop/correcting-agent/data/domain/blocks-domain.pddl\n",
      "Parsing problem /home/mappelgren/Desktop/correcting-agent/data/tworules/problem42.pddl\n",
      "/home/mappelgren/Desktop/correcting-agent/data/domain/blocks-domain.pddl\n",
      "/home/mappelgren/Desktop/correcting-agent/data/domain/blocks-domain.pddl\n",
      "problem42.pddl reward: -10\n",
      "Parsing domain /home/mappelgren/Desktop/correcting-agent/data/domain/blocks-domain.pddl\n",
      "Parsing problem /home/mappelgren/Desktop/correcting-agent/data/tworules/problem43.pddl\n",
      "/home/mappelgren/Desktop/correcting-agent/data/domain/blocks-domain.pddl\n",
      "problem43.pddl reward: -10\n",
      "Parsing domain /home/mappelgren/Desktop/correcting-agent/data/domain/blocks-domain.pddl\n",
      "Parsing problem /home/mappelgren/Desktop/correcting-agent/data/tworules/problem28.pddl\n"
     ]
    },
    {
     "name": "stderr",
     "output_type": "stream",
     "text": [
      "T: No, now you cannot put b2 in the tower because you must put green blocks on yellow blocks\n"
     ]
    },
    {
     "name": "stdout",
     "output_type": "stream",
     "text": [
      "/home/mappelgren/Desktop/correcting-agent/data/domain/blocks-domain.pddl\n",
      "No, now you cannot put b2 in the tower because you must put green blocks on yellow blocks\n",
      "/home/mappelgren/Desktop/correcting-agent/data/domain/blocks-domain.pddl\n",
      "we did the thing\n",
      "we did the thing\n",
      "we did the thing\n",
      "problem28.pddl reward: -12\n",
      "Parsing domain /home/mappelgren/Desktop/correcting-agent/data/domain/blocks-domain.pddl\n",
      "Parsing problem /home/mappelgren/Desktop/correcting-agent/data/tworules/problem29.pddl\n",
      "/home/mappelgren/Desktop/correcting-agent/data/domain/blocks-domain.pddl\n",
      "problem29.pddl reward: -10\n",
      "Parsing domain /home/mappelgren/Desktop/correcting-agent/data/domain/blocks-domain.pddl\n",
      "Parsing problem /home/mappelgren/Desktop/correcting-agent/data/tworules/problem17.pddl\n"
     ]
    },
    {
     "name": "stderr",
     "output_type": "stream",
     "text": [
      "T: No, now you cannot put b5 in the tower because you must put green blocks on yellow blocks\n"
     ]
    },
    {
     "name": "stdout",
     "output_type": "stream",
     "text": [
      "/home/mappelgren/Desktop/correcting-agent/data/domain/blocks-domain.pddl\n",
      "No, now you cannot put b5 in the tower because you must put green blocks on yellow blocks\n",
      "/home/mappelgren/Desktop/correcting-agent/data/domain/blocks-domain.pddl\n",
      "we did the thing\n",
      "we did the thing\n",
      "we did the thing\n",
      "problem17.pddl reward: -12\n",
      "Parsing domain /home/mappelgren/Desktop/correcting-agent/data/domain/blocks-domain.pddl\n",
      "Parsing problem /home/mappelgren/Desktop/correcting-agent/data/tworules/problem10.pddl\n",
      "/home/mappelgren/Desktop/correcting-agent/data/domain/blocks-domain.pddl\n",
      "problem10.pddl reward: -10\n",
      "Parsing domain /home/mappelgren/Desktop/correcting-agent/data/domain/blocks-domain.pddl\n",
      "Parsing problem /home/mappelgren/Desktop/correcting-agent/data/tworules/problem25.pddl\n",
      "/home/mappelgren/Desktop/correcting-agent/data/domain/blocks-domain.pddl\n",
      "/home/mappelgren/Desktop/correcting-agent/data/domain/blocks-domain.pddl\n",
      "problem25.pddl reward: -10\n",
      "Parsing domain /home/mappelgren/Desktop/correcting-agent/data/domain/blocks-domain.pddl\n",
      "Parsing problem /home/mappelgren/Desktop/correcting-agent/data/tworules/problem39.pddl\n",
      "/home/mappelgren/Desktop/correcting-agent/data/domain/blocks-domain.pddl\n",
      "problem39.pddl reward: -10\n",
      "Parsing domain /home/mappelgren/Desktop/correcting-agent/data/domain/blocks-domain.pddl\n",
      "Parsing problem /home/mappelgren/Desktop/correcting-agent/data/tworules/problem19.pddl\n",
      "/home/mappelgren/Desktop/correcting-agent/data/domain/blocks-domain.pddl\n",
      "problem19.pddl reward: -10\n",
      "Parsing domain /home/mappelgren/Desktop/correcting-agent/data/domain/blocks-domain.pddl\n",
      "Parsing problem /home/mappelgren/Desktop/correcting-agent/data/tworules/problem6.pddl\n"
     ]
    },
    {
     "name": "stderr",
     "output_type": "stream",
     "text": [
      "T: no, put green blocks on yellow blocks\n"
     ]
    },
    {
     "name": "stdout",
     "output_type": "stream",
     "text": [
      "/home/mappelgren/Desktop/correcting-agent/data/domain/blocks-domain.pddl\n",
      "no, put green blocks on yellow blocks\n",
      "/home/mappelgren/Desktop/correcting-agent/data/domain/blocks-domain.pddl\n",
      "we did the thing\n",
      "problem6.pddl reward: -12\n",
      "Parsing domain /home/mappelgren/Desktop/correcting-agent/data/domain/blocks-domain.pddl\n",
      "Parsing problem /home/mappelgren/Desktop/correcting-agent/data/tworules/problem12.pddl\n",
      "/home/mappelgren/Desktop/correcting-agent/data/domain/blocks-domain.pddl\n",
      "problem12.pddl reward: -10\n",
      "Parsing domain /home/mappelgren/Desktop/correcting-agent/data/domain/blocks-domain.pddl\n",
      "Parsing problem /home/mappelgren/Desktop/correcting-agent/data/tworules/problem22.pddl\n",
      "/home/mappelgren/Desktop/correcting-agent/data/domain/blocks-domain.pddl\n",
      "problem22.pddl reward: -10\n",
      "Parsing domain /home/mappelgren/Desktop/correcting-agent/data/domain/blocks-domain.pddl\n",
      "Parsing problem /home/mappelgren/Desktop/correcting-agent/data/tworules/problem9.pddl\n",
      "/home/mappelgren/Desktop/correcting-agent/data/domain/blocks-domain.pddl\n",
      "problem9.pddl reward: -10\n",
      "Parsing domain /home/mappelgren/Desktop/correcting-agent/data/domain/blocks-domain.pddl\n",
      "Parsing problem /home/mappelgren/Desktop/correcting-agent/data/tworules/problem15.pddl\n",
      "/home/mappelgren/Desktop/correcting-agent/data/domain/blocks-domain.pddl\n",
      "problem15.pddl reward: -10\n",
      "Parsing domain /home/mappelgren/Desktop/correcting-agent/data/domain/blocks-domain.pddl\n",
      "Parsing problem /home/mappelgren/Desktop/correcting-agent/data/tworules/problem14.pddl\n"
     ]
    },
    {
     "name": "stderr",
     "output_type": "stream",
     "text": [
      "T: no, put green blocks on yellow blocks\n"
     ]
    },
    {
     "name": "stdout",
     "output_type": "stream",
     "text": [
      "/home/mappelgren/Desktop/correcting-agent/data/domain/blocks-domain.pddl\n",
      "no, put green blocks on yellow blocks\n",
      "/home/mappelgren/Desktop/correcting-agent/data/domain/blocks-domain.pddl\n",
      "we did the thing\n",
      "problem14.pddl reward: -12\n",
      "Parsing domain /home/mappelgren/Desktop/correcting-agent/data/domain/blocks-domain.pddl\n",
      "Parsing problem /home/mappelgren/Desktop/correcting-agent/data/tworules/problem38.pddl\n",
      "/home/mappelgren/Desktop/correcting-agent/data/domain/blocks-domain.pddl\n",
      "problem38.pddl reward: -10\n",
      "Parsing domain /home/mappelgren/Desktop/correcting-agent/data/domain/blocks-domain.pddl\n",
      "Parsing problem /home/mappelgren/Desktop/correcting-agent/data/tworules/problem11.pddl\n",
      "/home/mappelgren/Desktop/correcting-agent/data/domain/blocks-domain.pddl\n"
     ]
    },
    {
     "name": "stderr",
     "output_type": "stream",
     "text": [
      "T: No, now you cannot put b8 in the tower because you must put red blocks on blue blocks\n"
     ]
    },
    {
     "name": "stdout",
     "output_type": "stream",
     "text": [
      "/home/mappelgren/Desktop/correcting-agent/data/domain/blocks-domain.pddl\n",
      "No, now you cannot put b8 in the tower because you must put red blocks on blue blocks\n",
      "/home/mappelgren/Desktop/correcting-agent/data/domain/blocks-domain.pddl\n",
      "/home/mappelgren/Desktop/correcting-agent/data/domain/blocks-domain.pddl\n",
      "/home/mappelgren/Desktop/correcting-agent/data/domain/blocks-domain.pddl\n",
      "/home/mappelgren/Desktop/correcting-agent/data/domain/blocks-domain.pddl\n",
      "we did the thing\n",
      "we did the thing\n",
      "problem11.pddl reward: -12\n",
      "Parsing domain /home/mappelgren/Desktop/correcting-agent/data/domain/blocks-domain.pddl\n",
      "Parsing problem /home/mappelgren/Desktop/correcting-agent/data/tworules/problem49.pddl\n",
      "/home/mappelgren/Desktop/correcting-agent/data/domain/blocks-domain.pddl\n",
      "/home/mappelgren/Desktop/correcting-agent/data/domain/blocks-domain.pddl\n",
      "problem49.pddl reward: -10\n",
      "Parsing domain /home/mappelgren/Desktop/correcting-agent/data/domain/blocks-domain.pddl\n",
      "Parsing problem /home/mappelgren/Desktop/correcting-agent/data/tworules/problem16.pddl\n"
     ]
    },
    {
     "name": "stderr",
     "output_type": "stream",
     "text": [
      "T: no, put green blocks on yellow blocks\n"
     ]
    },
    {
     "name": "stdout",
     "output_type": "stream",
     "text": [
      "/home/mappelgren/Desktop/correcting-agent/data/domain/blocks-domain.pddl\n",
      "no, put green blocks on yellow blocks\n",
      "/home/mappelgren/Desktop/correcting-agent/data/domain/blocks-domain.pddl\n",
      "we did the thing\n",
      "problem16.pddl reward: -12\n",
      "Parsing domain /home/mappelgren/Desktop/correcting-agent/data/domain/blocks-domain.pddl\n",
      "Parsing problem /home/mappelgren/Desktop/correcting-agent/data/tworules/problem35.pddl\n",
      "/home/mappelgren/Desktop/correcting-agent/data/domain/blocks-domain.pddl\n",
      "problem35.pddl reward: -10\n",
      "Parsing domain /home/mappelgren/Desktop/correcting-agent/data/domain/blocks-domain.pddl\n",
      "Parsing problem /home/mappelgren/Desktop/correcting-agent/data/tworules/problem3.pddl\n",
      "/home/mappelgren/Desktop/correcting-agent/data/domain/blocks-domain.pddl\n",
      "problem3.pddl reward: -10\n",
      "Parsing domain /home/mappelgren/Desktop/correcting-agent/data/domain/blocks-domain.pddl\n",
      "Parsing problem /home/mappelgren/Desktop/correcting-agent/data/tworules/problem47.pddl\n",
      "/home/mappelgren/Desktop/correcting-agent/data/domain/blocks-domain.pddl\n",
      "problem47.pddl reward: -10\n",
      "Parsing domain /home/mappelgren/Desktop/correcting-agent/data/domain/blocks-domain.pddl\n",
      "Parsing problem /home/mappelgren/Desktop/correcting-agent/data/tworules/problem21.pddl\n",
      "/home/mappelgren/Desktop/correcting-agent/data/domain/blocks-domain.pddl\n",
      "problem21.pddl reward: -10\n",
      "Parsing domain /home/mappelgren/Desktop/correcting-agent/data/domain/blocks-domain.pddl\n",
      "Parsing problem /home/mappelgren/Desktop/correcting-agent/data/tworules/problem4.pddl\n",
      "/home/mappelgren/Desktop/correcting-agent/data/domain/blocks-domain.pddl\n",
      "problem4.pddl reward: -10\n",
      "Parsing domain /home/mappelgren/Desktop/correcting-agent/data/domain/blocks-domain.pddl\n",
      "Parsing problem /home/mappelgren/Desktop/correcting-agent/data/tworules/problem32.pddl\n",
      "/home/mappelgren/Desktop/correcting-agent/data/domain/blocks-domain.pddl\n",
      "problem32.pddl reward: -10\n",
      "Parsing domain /home/mappelgren/Desktop/correcting-agent/data/domain/blocks-domain.pddl\n",
      "Parsing problem /home/mappelgren/Desktop/correcting-agent/data/tworules/problem13.pddl\n",
      "/home/mappelgren/Desktop/correcting-agent/data/domain/blocks-domain.pddl\n",
      "problem13.pddl reward: -10\n",
      "Parsing domain /home/mappelgren/Desktop/correcting-agent/data/domain/blocks-domain.pddl\n",
      "Parsing problem /home/mappelgren/Desktop/correcting-agent/data/tworules/problem5.pddl\n",
      "/home/mappelgren/Desktop/correcting-agent/data/domain/blocks-domain.pddl\n",
      "problem5.pddl reward: -10\n"
     ]
    }
   ],
   "source": [
    "add_experiment('tworules_pgm_nocorr', 'fixed_bw')"
   ]
  },
  {
   "cell_type": "code",
   "execution_count": 8,
   "metadata": {
    "scrolled": true
   },
   "outputs": [],
   "source": [
    "df = read_experiments()\n",
    "\n"
   ]
  },
  {
   "cell_type": "code",
   "execution_count": 9,
   "metadata": {},
   "outputs": [
    {
     "data": {
      "text/html": [
       "<div>\n",
       "<style scoped>\n",
       "    .dataframe tbody tr th:only-of-type {\n",
       "        vertical-align: middle;\n",
       "    }\n",
       "\n",
       "    .dataframe tbody tr th {\n",
       "        vertical-align: top;\n",
       "    }\n",
       "\n",
       "    .dataframe thead th {\n",
       "        text-align: right;\n",
       "    }\n",
       "</style>\n",
       "<table border=\"1\" class=\"dataframe\">\n",
       "  <thead>\n",
       "    <tr style=\"text-align: right;\">\n",
       "      <th></th>\n",
       "      <th>config_name</th>\n",
       "      <th>experiment_file</th>\n",
       "      <th>neural_config</th>\n",
       "      <th>status</th>\n",
       "    </tr>\n",
       "    <tr>\n",
       "      <th>index</th>\n",
       "      <th></th>\n",
       "      <th></th>\n",
       "      <th></th>\n",
       "      <th></th>\n",
       "    </tr>\n",
       "  </thead>\n",
       "  <tbody>\n",
       "    <tr>\n",
       "      <th>0</th>\n",
       "      <td>None</td>\n",
       "      <td>None</td>\n",
       "      <td>None</td>\n",
       "      <td>None</td>\n",
       "    </tr>\n",
       "    <tr>\n",
       "      <th>1</th>\n",
       "      <td>simple_neural</td>\n",
       "      <td>results/simplecolours/agents.NeuralCorrectingA...</td>\n",
       "      <td>DEFAULT</td>\n",
       "      <td>done</td>\n",
       "    </tr>\n",
       "    <tr>\n",
       "      <th>2</th>\n",
       "      <td>neural_onerule5000</td>\n",
       "      <td>results/onerule5000/agents.NeuralCorrectingAge...</td>\n",
       "      <td>adam_lr:0.1</td>\n",
       "      <td>done</td>\n",
       "    </tr>\n",
       "    <tr>\n",
       "      <th>3</th>\n",
       "      <td>neural_onerule5000</td>\n",
       "      <td>results/onerule5000/agents.NeuralCorrectingAge...</td>\n",
       "      <td>adam_lr:1</td>\n",
       "      <td>done</td>\n",
       "    </tr>\n",
       "    <tr>\n",
       "      <th>4</th>\n",
       "      <td>neural_onerule5000</td>\n",
       "      <td>results/onerule5000/agents.NeuralCorrectingAge...</td>\n",
       "      <td>nesterov_lr:0.1mom:0</td>\n",
       "      <td>done</td>\n",
       "    </tr>\n",
       "    <tr>\n",
       "      <th>5</th>\n",
       "      <td>neural_onerule5000</td>\n",
       "      <td>results/onerule5000/agents.NeuralCorrectingAge...</td>\n",
       "      <td>nesterov_lr:0.1mom:0.4</td>\n",
       "      <td>done</td>\n",
       "    </tr>\n",
       "    <tr>\n",
       "      <th>6</th>\n",
       "      <td>tworules</td>\n",
       "      <td>results/tworules/agents.CorrectingAgent/0.7/ex...</td>\n",
       "      <td>None</td>\n",
       "      <td>done</td>\n",
       "    </tr>\n",
       "    <tr>\n",
       "      <th>7</th>\n",
       "      <td>tworules_no_update</td>\n",
       "      <td>results/tworules/agents.CorrectingAgent/0.7/ex...</td>\n",
       "      <td>None</td>\n",
       "      <td>done</td>\n",
       "    </tr>\n",
       "    <tr>\n",
       "      <th>8</th>\n",
       "      <td>tworules</td>\n",
       "      <td>results/tworules/agents.CorrectingAgent/0.7/ex...</td>\n",
       "      <td>None</td>\n",
       "      <td>done</td>\n",
       "    </tr>\n",
       "    <tr>\n",
       "      <th>9</th>\n",
       "      <td>tworules_no_update</td>\n",
       "      <td>results/tworules/agents.CorrectingAgent/0.7/ex...</td>\n",
       "      <td>None</td>\n",
       "      <td>done</td>\n",
       "    </tr>\n",
       "    <tr>\n",
       "      <th>10</th>\n",
       "      <td>tworules</td>\n",
       "      <td>results/tworules/agents.CorrectingAgent/0.7/ex...</td>\n",
       "      <td>None</td>\n",
       "      <td>done</td>\n",
       "    </tr>\n",
       "    <tr>\n",
       "      <th>11</th>\n",
       "      <td>onerule</td>\n",
       "      <td>results/onerule/agents.CorrectingAgent/0.7/exp...</td>\n",
       "      <td>None</td>\n",
       "      <td>done</td>\n",
       "    </tr>\n",
       "    <tr>\n",
       "      <th>12</th>\n",
       "      <td>onerule_update_negative</td>\n",
       "      <td>results/onerule/agents.CorrectingAgent/0.7/exp...</td>\n",
       "      <td>None</td>\n",
       "      <td>done</td>\n",
       "    </tr>\n",
       "    <tr>\n",
       "      <th>13</th>\n",
       "      <td>tworules</td>\n",
       "      <td>results/tworules/agents.CorrectingAgent/0.7/ex...</td>\n",
       "      <td>None</td>\n",
       "      <td>done</td>\n",
       "    </tr>\n",
       "    <tr>\n",
       "      <th>14</th>\n",
       "      <td>tworules_update_negative</td>\n",
       "      <td>None</td>\n",
       "      <td>None</td>\n",
       "      <td>running</td>\n",
       "    </tr>\n",
       "    <tr>\n",
       "      <th>15</th>\n",
       "      <td>tworules_perfect_colour</td>\n",
       "      <td>results/tworules/agents.PerfectColoursAgent/0....</td>\n",
       "      <td>None</td>\n",
       "      <td>done</td>\n",
       "    </tr>\n",
       "    <tr>\n",
       "      <th>16</th>\n",
       "      <td>tworules_perfect_colour_vis</td>\n",
       "      <td>results/tworules/agents.PerfectColoursAgent/0....</td>\n",
       "      <td>None</td>\n",
       "      <td>done</td>\n",
       "    </tr>\n",
       "    <tr>\n",
       "      <th>17</th>\n",
       "      <td>tworules_perfect_colour</td>\n",
       "      <td>None</td>\n",
       "      <td>None</td>\n",
       "      <td>running</td>\n",
       "    </tr>\n",
       "    <tr>\n",
       "      <th>18</th>\n",
       "      <td>tworules</td>\n",
       "      <td>results/tworules/agents.CorrectingAgent/0.7/ex...</td>\n",
       "      <td>None</td>\n",
       "      <td>done</td>\n",
       "    </tr>\n",
       "    <tr>\n",
       "      <th>19</th>\n",
       "      <td>tworules_update_negative</td>\n",
       "      <td>None</td>\n",
       "      <td>None</td>\n",
       "      <td>running</td>\n",
       "    </tr>\n",
       "    <tr>\n",
       "      <th>20</th>\n",
       "      <td>tworules</td>\n",
       "      <td>None</td>\n",
       "      <td>None</td>\n",
       "      <td>running</td>\n",
       "    </tr>\n",
       "    <tr>\n",
       "      <th>21</th>\n",
       "      <td>tworules</td>\n",
       "      <td>results/tworules/agents.CorrectingAgent/0.7/ex...</td>\n",
       "      <td>None</td>\n",
       "      <td>done</td>\n",
       "    </tr>\n",
       "    <tr>\n",
       "      <th>22</th>\n",
       "      <td>tworules_update_negative</td>\n",
       "      <td>results/tworules/agents.CorrectingAgent/0.7/ex...</td>\n",
       "      <td>None</td>\n",
       "      <td>done</td>\n",
       "    </tr>\n",
       "    <tr>\n",
       "      <th>23</th>\n",
       "      <td>tworules_update_once</td>\n",
       "      <td>None</td>\n",
       "      <td>None</td>\n",
       "      <td>running</td>\n",
       "    </tr>\n",
       "    <tr>\n",
       "      <th>24</th>\n",
       "      <td>tworules_update_once</td>\n",
       "      <td>results/tworules/agents.CorrectingAgent/0.7/ex...</td>\n",
       "      <td>None</td>\n",
       "      <td>done</td>\n",
       "    </tr>\n",
       "    <tr>\n",
       "      <th>25</th>\n",
       "      <td>tworules_update_once_with_negative</td>\n",
       "      <td>results/tworules/agents.CorrectingAgent/0.7/ex...</td>\n",
       "      <td>None</td>\n",
       "      <td>done</td>\n",
       "    </tr>\n",
       "    <tr>\n",
       "      <th>26</th>\n",
       "      <td>tworules</td>\n",
       "      <td>None</td>\n",
       "      <td>None</td>\n",
       "      <td>running</td>\n",
       "    </tr>\n",
       "    <tr>\n",
       "      <th>27</th>\n",
       "      <td>tworules</td>\n",
       "      <td>None</td>\n",
       "      <td>None</td>\n",
       "      <td>running</td>\n",
       "    </tr>\n",
       "    <tr>\n",
       "      <th>28</th>\n",
       "      <td>tworules</td>\n",
       "      <td>None</td>\n",
       "      <td>None</td>\n",
       "      <td>running</td>\n",
       "    </tr>\n",
       "    <tr>\n",
       "      <th>29</th>\n",
       "      <td>tworules</td>\n",
       "      <td>None</td>\n",
       "      <td>None</td>\n",
       "      <td>running</td>\n",
       "    </tr>\n",
       "    <tr>\n",
       "      <th>...</th>\n",
       "      <td>...</td>\n",
       "      <td>...</td>\n",
       "      <td>...</td>\n",
       "      <td>...</td>\n",
       "    </tr>\n",
       "    <tr>\n",
       "      <th>418</th>\n",
       "      <td>tworules_pgm</td>\n",
       "      <td>None</td>\n",
       "      <td>fixed_bw</td>\n",
       "      <td>running</td>\n",
       "    </tr>\n",
       "    <tr>\n",
       "      <th>419</th>\n",
       "      <td>tworules_pgm</td>\n",
       "      <td>None</td>\n",
       "      <td>fixed_bw</td>\n",
       "      <td>running</td>\n",
       "    </tr>\n",
       "    <tr>\n",
       "      <th>420</th>\n",
       "      <td>tworules_pgm</td>\n",
       "      <td>None</td>\n",
       "      <td>fixed_bw</td>\n",
       "      <td>running</td>\n",
       "    </tr>\n",
       "    <tr>\n",
       "      <th>421</th>\n",
       "      <td>tworules_pgm</td>\n",
       "      <td>None</td>\n",
       "      <td>fixed_bw</td>\n",
       "      <td>running</td>\n",
       "    </tr>\n",
       "    <tr>\n",
       "      <th>422</th>\n",
       "      <td>tworules_pgm</td>\n",
       "      <td>None</td>\n",
       "      <td>fixed_bw</td>\n",
       "      <td>running</td>\n",
       "    </tr>\n",
       "    <tr>\n",
       "      <th>423</th>\n",
       "      <td>tworules_pgm</td>\n",
       "      <td>None</td>\n",
       "      <td>fixed_bw</td>\n",
       "      <td>running</td>\n",
       "    </tr>\n",
       "    <tr>\n",
       "      <th>424</th>\n",
       "      <td>tworules_pgm</td>\n",
       "      <td>None</td>\n",
       "      <td>fixed_bw</td>\n",
       "      <td>running</td>\n",
       "    </tr>\n",
       "    <tr>\n",
       "      <th>425</th>\n",
       "      <td>tworules_pgm</td>\n",
       "      <td>None</td>\n",
       "      <td>fixed_bw</td>\n",
       "      <td>running</td>\n",
       "    </tr>\n",
       "    <tr>\n",
       "      <th>426</th>\n",
       "      <td>tworules_pgm</td>\n",
       "      <td>None</td>\n",
       "      <td>fixed_bw</td>\n",
       "      <td>running</td>\n",
       "    </tr>\n",
       "    <tr>\n",
       "      <th>427</th>\n",
       "      <td>tworules_pgm</td>\n",
       "      <td>None</td>\n",
       "      <td>fixed_bw</td>\n",
       "      <td>running</td>\n",
       "    </tr>\n",
       "    <tr>\n",
       "      <th>428</th>\n",
       "      <td>tworules_pgm</td>\n",
       "      <td>None</td>\n",
       "      <td>fixed_bw</td>\n",
       "      <td>running</td>\n",
       "    </tr>\n",
       "    <tr>\n",
       "      <th>429</th>\n",
       "      <td>tworules_pgm</td>\n",
       "      <td>None</td>\n",
       "      <td>fixed_bw</td>\n",
       "      <td>running</td>\n",
       "    </tr>\n",
       "    <tr>\n",
       "      <th>430</th>\n",
       "      <td>tworules_pgm</td>\n",
       "      <td>None</td>\n",
       "      <td>fixed_bw</td>\n",
       "      <td>running</td>\n",
       "    </tr>\n",
       "    <tr>\n",
       "      <th>431</th>\n",
       "      <td>tworules_pgm</td>\n",
       "      <td>None</td>\n",
       "      <td>fixed_bw</td>\n",
       "      <td>running</td>\n",
       "    </tr>\n",
       "    <tr>\n",
       "      <th>432</th>\n",
       "      <td>tworules_pgm</td>\n",
       "      <td>None</td>\n",
       "      <td>fixed_bw</td>\n",
       "      <td>running</td>\n",
       "    </tr>\n",
       "    <tr>\n",
       "      <th>433</th>\n",
       "      <td>tworules_pgm</td>\n",
       "      <td>None</td>\n",
       "      <td>fixed_bw</td>\n",
       "      <td>running</td>\n",
       "    </tr>\n",
       "    <tr>\n",
       "      <th>434</th>\n",
       "      <td>tworules_pgm</td>\n",
       "      <td>None</td>\n",
       "      <td>fixed_bw</td>\n",
       "      <td>running</td>\n",
       "    </tr>\n",
       "    <tr>\n",
       "      <th>435</th>\n",
       "      <td>maroon_pgm_nocorr</td>\n",
       "      <td>None</td>\n",
       "      <td>fixed_bw</td>\n",
       "      <td>running</td>\n",
       "    </tr>\n",
       "    <tr>\n",
       "      <th>436</th>\n",
       "      <td>maroon_pgm_nocorr</td>\n",
       "      <td>/home/mappelgren/Desktop/correcting-agent/resu...</td>\n",
       "      <td>fixed_bw</td>\n",
       "      <td>done</td>\n",
       "    </tr>\n",
       "    <tr>\n",
       "      <th>437</th>\n",
       "      <td>simplecolours_pgm_nocorr</td>\n",
       "      <td>/home/mappelgren/Desktop/correcting-agent/resu...</td>\n",
       "      <td>fixed_bw</td>\n",
       "      <td>done</td>\n",
       "    </tr>\n",
       "    <tr>\n",
       "      <th>438</th>\n",
       "      <td>triplicatered_pgm_nocorr</td>\n",
       "      <td>None</td>\n",
       "      <td>fixed_bw</td>\n",
       "      <td>running</td>\n",
       "    </tr>\n",
       "    <tr>\n",
       "      <th>439</th>\n",
       "      <td>triplicatered_pgm</td>\n",
       "      <td>None</td>\n",
       "      <td>fixed_bw</td>\n",
       "      <td>running</td>\n",
       "    </tr>\n",
       "    <tr>\n",
       "      <th>440</th>\n",
       "      <td>triplicatered_pgm</td>\n",
       "      <td>None</td>\n",
       "      <td>fixed_bw</td>\n",
       "      <td>running</td>\n",
       "    </tr>\n",
       "    <tr>\n",
       "      <th>441</th>\n",
       "      <td>triplicatered_pgm</td>\n",
       "      <td>None</td>\n",
       "      <td>fixed_bw</td>\n",
       "      <td>running</td>\n",
       "    </tr>\n",
       "    <tr>\n",
       "      <th>442</th>\n",
       "      <td>triplicatered_pgm</td>\n",
       "      <td>None</td>\n",
       "      <td>fixed_bw</td>\n",
       "      <td>running</td>\n",
       "    </tr>\n",
       "    <tr>\n",
       "      <th>443</th>\n",
       "      <td>maroon_pgm_nocorr</td>\n",
       "      <td>/home/mappelgren/Desktop/correcting-agent/resu...</td>\n",
       "      <td>fixed_bw</td>\n",
       "      <td>done</td>\n",
       "    </tr>\n",
       "    <tr>\n",
       "      <th>444</th>\n",
       "      <td>simplecolours_pgm_nocorr</td>\n",
       "      <td>/home/mappelgren/Desktop/correcting-agent/resu...</td>\n",
       "      <td>fixed_bw</td>\n",
       "      <td>done</td>\n",
       "    </tr>\n",
       "    <tr>\n",
       "      <th>445</th>\n",
       "      <td>triplicatered_pgm_nocorr</td>\n",
       "      <td>/home/mappelgren/Desktop/correcting-agent/resu...</td>\n",
       "      <td>fixed_bw</td>\n",
       "      <td>done</td>\n",
       "    </tr>\n",
       "    <tr>\n",
       "      <th>446</th>\n",
       "      <td>bijection_pgm_nocorr</td>\n",
       "      <td>/home/mappelgren/Desktop/correcting-agent/resu...</td>\n",
       "      <td>fixed_bw</td>\n",
       "      <td>done</td>\n",
       "    </tr>\n",
       "    <tr>\n",
       "      <th>447</th>\n",
       "      <td>onerule_pgm_nocorr</td>\n",
       "      <td>/home/mappelgren/Desktop/correcting-agent/resu...</td>\n",
       "      <td>fixed_bw</td>\n",
       "      <td>done</td>\n",
       "    </tr>\n",
       "  </tbody>\n",
       "</table>\n",
       "<p>448 rows × 4 columns</p>\n",
       "</div>"
      ],
      "text/plain": [
       "                              config_name  \\\n",
       "index                                       \n",
       "0                                    None   \n",
       "1                           simple_neural   \n",
       "2                      neural_onerule5000   \n",
       "3                      neural_onerule5000   \n",
       "4                      neural_onerule5000   \n",
       "5                      neural_onerule5000   \n",
       "6                                tworules   \n",
       "7                      tworules_no_update   \n",
       "8                                tworules   \n",
       "9                      tworules_no_update   \n",
       "10                               tworules   \n",
       "11                                onerule   \n",
       "12                onerule_update_negative   \n",
       "13                               tworules   \n",
       "14               tworules_update_negative   \n",
       "15                tworules_perfect_colour   \n",
       "16            tworules_perfect_colour_vis   \n",
       "17                tworules_perfect_colour   \n",
       "18                               tworules   \n",
       "19               tworules_update_negative   \n",
       "20                               tworules   \n",
       "21                               tworules   \n",
       "22               tworules_update_negative   \n",
       "23                   tworules_update_once   \n",
       "24                   tworules_update_once   \n",
       "25     tworules_update_once_with_negative   \n",
       "26                               tworules   \n",
       "27                               tworules   \n",
       "28                               tworules   \n",
       "29                               tworules   \n",
       "...                                   ...   \n",
       "418                          tworules_pgm   \n",
       "419                          tworules_pgm   \n",
       "420                          tworules_pgm   \n",
       "421                          tworules_pgm   \n",
       "422                          tworules_pgm   \n",
       "423                          tworules_pgm   \n",
       "424                          tworules_pgm   \n",
       "425                          tworules_pgm   \n",
       "426                          tworules_pgm   \n",
       "427                          tworules_pgm   \n",
       "428                          tworules_pgm   \n",
       "429                          tworules_pgm   \n",
       "430                          tworules_pgm   \n",
       "431                          tworules_pgm   \n",
       "432                          tworules_pgm   \n",
       "433                          tworules_pgm   \n",
       "434                          tworules_pgm   \n",
       "435                     maroon_pgm_nocorr   \n",
       "436                     maroon_pgm_nocorr   \n",
       "437              simplecolours_pgm_nocorr   \n",
       "438              triplicatered_pgm_nocorr   \n",
       "439                     triplicatered_pgm   \n",
       "440                     triplicatered_pgm   \n",
       "441                     triplicatered_pgm   \n",
       "442                     triplicatered_pgm   \n",
       "443                     maroon_pgm_nocorr   \n",
       "444              simplecolours_pgm_nocorr   \n",
       "445              triplicatered_pgm_nocorr   \n",
       "446                  bijection_pgm_nocorr   \n",
       "447                    onerule_pgm_nocorr   \n",
       "\n",
       "                                         experiment_file  \\\n",
       "index                                                      \n",
       "0                                                   None   \n",
       "1      results/simplecolours/agents.NeuralCorrectingA...   \n",
       "2      results/onerule5000/agents.NeuralCorrectingAge...   \n",
       "3      results/onerule5000/agents.NeuralCorrectingAge...   \n",
       "4      results/onerule5000/agents.NeuralCorrectingAge...   \n",
       "5      results/onerule5000/agents.NeuralCorrectingAge...   \n",
       "6      results/tworules/agents.CorrectingAgent/0.7/ex...   \n",
       "7      results/tworules/agents.CorrectingAgent/0.7/ex...   \n",
       "8      results/tworules/agents.CorrectingAgent/0.7/ex...   \n",
       "9      results/tworules/agents.CorrectingAgent/0.7/ex...   \n",
       "10     results/tworules/agents.CorrectingAgent/0.7/ex...   \n",
       "11     results/onerule/agents.CorrectingAgent/0.7/exp...   \n",
       "12     results/onerule/agents.CorrectingAgent/0.7/exp...   \n",
       "13     results/tworules/agents.CorrectingAgent/0.7/ex...   \n",
       "14                                                  None   \n",
       "15     results/tworules/agents.PerfectColoursAgent/0....   \n",
       "16     results/tworules/agents.PerfectColoursAgent/0....   \n",
       "17                                                  None   \n",
       "18     results/tworules/agents.CorrectingAgent/0.7/ex...   \n",
       "19                                                  None   \n",
       "20                                                  None   \n",
       "21     results/tworules/agents.CorrectingAgent/0.7/ex...   \n",
       "22     results/tworules/agents.CorrectingAgent/0.7/ex...   \n",
       "23                                                  None   \n",
       "24     results/tworules/agents.CorrectingAgent/0.7/ex...   \n",
       "25     results/tworules/agents.CorrectingAgent/0.7/ex...   \n",
       "26                                                  None   \n",
       "27                                                  None   \n",
       "28                                                  None   \n",
       "29                                                  None   \n",
       "...                                                  ...   \n",
       "418                                                 None   \n",
       "419                                                 None   \n",
       "420                                                 None   \n",
       "421                                                 None   \n",
       "422                                                 None   \n",
       "423                                                 None   \n",
       "424                                                 None   \n",
       "425                                                 None   \n",
       "426                                                 None   \n",
       "427                                                 None   \n",
       "428                                                 None   \n",
       "429                                                 None   \n",
       "430                                                 None   \n",
       "431                                                 None   \n",
       "432                                                 None   \n",
       "433                                                 None   \n",
       "434                                                 None   \n",
       "435                                                 None   \n",
       "436    /home/mappelgren/Desktop/correcting-agent/resu...   \n",
       "437    /home/mappelgren/Desktop/correcting-agent/resu...   \n",
       "438                                                 None   \n",
       "439                                                 None   \n",
       "440                                                 None   \n",
       "441                                                 None   \n",
       "442                                                 None   \n",
       "443    /home/mappelgren/Desktop/correcting-agent/resu...   \n",
       "444    /home/mappelgren/Desktop/correcting-agent/resu...   \n",
       "445    /home/mappelgren/Desktop/correcting-agent/resu...   \n",
       "446    /home/mappelgren/Desktop/correcting-agent/resu...   \n",
       "447    /home/mappelgren/Desktop/correcting-agent/resu...   \n",
       "\n",
       "                neural_config   status  \n",
       "index                                   \n",
       "0                        None     None  \n",
       "1                     DEFAULT     done  \n",
       "2                 adam_lr:0.1     done  \n",
       "3                   adam_lr:1     done  \n",
       "4        nesterov_lr:0.1mom:0     done  \n",
       "5      nesterov_lr:0.1mom:0.4     done  \n",
       "6                        None     done  \n",
       "7                        None     done  \n",
       "8                        None     done  \n",
       "9                        None     done  \n",
       "10                       None     done  \n",
       "11                       None     done  \n",
       "12                       None     done  \n",
       "13                       None     done  \n",
       "14                       None  running  \n",
       "15                       None     done  \n",
       "16                       None     done  \n",
       "17                       None  running  \n",
       "18                       None     done  \n",
       "19                       None  running  \n",
       "20                       None  running  \n",
       "21                       None     done  \n",
       "22                       None     done  \n",
       "23                       None  running  \n",
       "24                       None     done  \n",
       "25                       None     done  \n",
       "26                       None  running  \n",
       "27                       None  running  \n",
       "28                       None  running  \n",
       "29                       None  running  \n",
       "...                       ...      ...  \n",
       "418                  fixed_bw  running  \n",
       "419                  fixed_bw  running  \n",
       "420                  fixed_bw  running  \n",
       "421                  fixed_bw  running  \n",
       "422                  fixed_bw  running  \n",
       "423                  fixed_bw  running  \n",
       "424                  fixed_bw  running  \n",
       "425                  fixed_bw  running  \n",
       "426                  fixed_bw  running  \n",
       "427                  fixed_bw  running  \n",
       "428                  fixed_bw  running  \n",
       "429                  fixed_bw  running  \n",
       "430                  fixed_bw  running  \n",
       "431                  fixed_bw  running  \n",
       "432                  fixed_bw  running  \n",
       "433                  fixed_bw  running  \n",
       "434                  fixed_bw  running  \n",
       "435                  fixed_bw  running  \n",
       "436                  fixed_bw     done  \n",
       "437                  fixed_bw     done  \n",
       "438                  fixed_bw  running  \n",
       "439                  fixed_bw  running  \n",
       "440                  fixed_bw  running  \n",
       "441                  fixed_bw  running  \n",
       "442                  fixed_bw  running  \n",
       "443                  fixed_bw     done  \n",
       "444                  fixed_bw     done  \n",
       "445                  fixed_bw     done  \n",
       "446                  fixed_bw     done  \n",
       "447                  fixed_bw     done  \n",
       "\n",
       "[448 rows x 4 columns]"
      ]
     },
     "execution_count": 9,
     "metadata": {},
     "output_type": "execute_result"
    }
   ],
   "source": [
    "df"
   ]
  },
  {
   "cell_type": "code",
   "execution_count": 16,
   "metadata": {},
   "outputs": [
    {
     "data": {
      "text/html": [
       "<div>\n",
       "<style scoped>\n",
       "    .dataframe tbody tr th:only-of-type {\n",
       "        vertical-align: middle;\n",
       "    }\n",
       "\n",
       "    .dataframe tbody tr th {\n",
       "        vertical-align: top;\n",
       "    }\n",
       "\n",
       "    .dataframe thead th {\n",
       "        text-align: right;\n",
       "    }\n",
       "</style>\n",
       "<table border=\"1\" class=\"dataframe\">\n",
       "  <thead>\n",
       "    <tr style=\"text-align: right;\">\n",
       "      <th></th>\n",
       "      <th>config_name</th>\n",
       "      <th>experiment_file</th>\n",
       "      <th>neural_config</th>\n",
       "      <th>status</th>\n",
       "    </tr>\n",
       "    <tr>\n",
       "      <th>index</th>\n",
       "      <th></th>\n",
       "      <th></th>\n",
       "      <th></th>\n",
       "      <th></th>\n",
       "    </tr>\n",
       "  </thead>\n",
       "  <tbody>\n",
       "    <tr>\n",
       "      <th>65</th>\n",
       "      <td>maroon_kde</td>\n",
       "      <td>None</td>\n",
       "      <td>None</td>\n",
       "      <td>running</td>\n",
       "    </tr>\n",
       "    <tr>\n",
       "      <th>66</th>\n",
       "      <td>maroon_kde</td>\n",
       "      <td>results/maroon/agents.CorrectingAgent/0.7/expe...</td>\n",
       "      <td>None</td>\n",
       "      <td>done</td>\n",
       "    </tr>\n",
       "    <tr>\n",
       "      <th>94</th>\n",
       "      <td>maroon_kde</td>\n",
       "      <td>results/maroon/agents.CorrectingAgent/0.7/expe...</td>\n",
       "      <td>3d_default</td>\n",
       "      <td>done</td>\n",
       "    </tr>\n",
       "    <tr>\n",
       "      <th>102</th>\n",
       "      <td>maroon_kde</td>\n",
       "      <td>results/maroon/agents.CorrectingAgent/0.7/expe...</td>\n",
       "      <td>fixed_bw</td>\n",
       "      <td>done</td>\n",
       "    </tr>\n",
       "    <tr>\n",
       "      <th>115</th>\n",
       "      <td>maroon_kde</td>\n",
       "      <td>results/maroon/agents.CorrectingAgent/0.7/expe...</td>\n",
       "      <td>fixed_bw</td>\n",
       "      <td>done</td>\n",
       "    </tr>\n",
       "    <tr>\n",
       "      <th>128</th>\n",
       "      <td>maroon_kde</td>\n",
       "      <td>results/maroon/agents.CorrectingAgent/0.7/expe...</td>\n",
       "      <td>fixed_bw</td>\n",
       "      <td>done</td>\n",
       "    </tr>\n",
       "    <tr>\n",
       "      <th>167</th>\n",
       "      <td>maroon_kde</td>\n",
       "      <td>results/maroon/agents.CorrectingAgent/0.7/expe...</td>\n",
       "      <td>fixed_bw_0.2</td>\n",
       "      <td>done</td>\n",
       "    </tr>\n",
       "    <tr>\n",
       "      <th>196</th>\n",
       "      <td>maroon_kde</td>\n",
       "      <td>results/maroon/agents.CorrectingAgent/0.7/expe...</td>\n",
       "      <td>fixed_bw_0.2</td>\n",
       "      <td>done</td>\n",
       "    </tr>\n",
       "    <tr>\n",
       "      <th>207</th>\n",
       "      <td>maroon_kde</td>\n",
       "      <td>results/maroon/agents.CorrectingAgent/0.7/expe...</td>\n",
       "      <td>DEFAULT</td>\n",
       "      <td>done</td>\n",
       "    </tr>\n",
       "    <tr>\n",
       "      <th>227</th>\n",
       "      <td>maroon_kde</td>\n",
       "      <td>results/maroon/agents.CorrectingAgent/0.7/expe...</td>\n",
       "      <td>fixed_bw</td>\n",
       "      <td>done</td>\n",
       "    </tr>\n",
       "    <tr>\n",
       "      <th>232</th>\n",
       "      <td>maroon_kde</td>\n",
       "      <td>results/maroon/agents.CorrectingAgent/0.7/expe...</td>\n",
       "      <td>fixed_bw_0.2</td>\n",
       "      <td>done</td>\n",
       "    </tr>\n",
       "  </tbody>\n",
       "</table>\n",
       "</div>"
      ],
      "text/plain": [
       "      config_name                                    experiment_file  \\\n",
       "index                                                                  \n",
       "65     maroon_kde                                               None   \n",
       "66     maroon_kde  results/maroon/agents.CorrectingAgent/0.7/expe...   \n",
       "94     maroon_kde  results/maroon/agents.CorrectingAgent/0.7/expe...   \n",
       "102    maroon_kde  results/maroon/agents.CorrectingAgent/0.7/expe...   \n",
       "115    maroon_kde  results/maroon/agents.CorrectingAgent/0.7/expe...   \n",
       "128    maroon_kde  results/maroon/agents.CorrectingAgent/0.7/expe...   \n",
       "167    maroon_kde  results/maroon/agents.CorrectingAgent/0.7/expe...   \n",
       "196    maroon_kde  results/maroon/agents.CorrectingAgent/0.7/expe...   \n",
       "207    maroon_kde  results/maroon/agents.CorrectingAgent/0.7/expe...   \n",
       "227    maroon_kde  results/maroon/agents.CorrectingAgent/0.7/expe...   \n",
       "232    maroon_kde  results/maroon/agents.CorrectingAgent/0.7/expe...   \n",
       "\n",
       "      neural_config   status  \n",
       "index                         \n",
       "65             None  running  \n",
       "66             None     done  \n",
       "94       3d_default     done  \n",
       "102        fixed_bw     done  \n",
       "115        fixed_bw     done  \n",
       "128        fixed_bw     done  \n",
       "167    fixed_bw_0.2     done  \n",
       "196    fixed_bw_0.2     done  \n",
       "207         DEFAULT     done  \n",
       "227        fixed_bw     done  \n",
       "232    fixed_bw_0.2     done  "
      ]
     },
     "execution_count": 16,
     "metadata": {},
     "output_type": "execute_result"
    }
   ],
   "source": [
    "df[df.config_name == 'maroon_kde']"
   ]
  },
  {
   "cell_type": "code",
   "execution_count": 22,
   "metadata": {},
   "outputs": [
    {
     "data": {
      "text/plain": [
       "{'agents.RandomAgent_0': <correctingagent.experiments.evaluation.ResultsFile at 0x7f6e4dd56dd8>,\n",
       " 'agents.CorrectingAgent_0': <correctingagent.experiments.evaluation.ResultsFile at 0x7f6e4dcda0f0>,\n",
       " 'PGMAgent_0': <correctingagent.experiments.evaluation.ResultsFile at 0x7f6e4dcda2e8>,\n",
       " 'agents.NoLanguageAgent_0': <correctingagent.experiments.evaluation.ResultsFile at 0x7f6e4dcda4a8>}"
      ]
     },
     "execution_count": 22,
     "metadata": {},
     "output_type": "execute_result"
    }
   ],
   "source": [
    "exp.results_files"
   ]
  },
  {
   "cell_type": "code",
   "execution_count": 4,
   "metadata": {},
   "outputs": [
    {
     "data": {
      "image/png": "[encoded data removed]",
      "text/plain": [
       "<Figure size 432x288 with 1 Axes>"
      ]
     },
     "metadata": {
      "needs_background": "light"
     },
     "output_type": "display_data"
    }
   ],
   "source": [
    "exp = load_experiments([370, 381, 261, 232, 436], 'maroon')\n",
    "exp.plot(labels=['naive', 'pgm', 'pgm_nocorr', 'nolang', 'kde', 'extended'])"
   ]
  },
  {
   "cell_type": "code",
   "execution_count": 11,
   "metadata": {},
   "outputs": [
    {
     "data": {
      "image/png": "[encoded data removed]",
      "text/plain": [
       "<Figure size 432x288 with 1 Axes>"
      ]
     },
     "metadata": {
      "needs_background": "light"
     },
     "output_type": "display_data"
    }
   ],
   "source": [
    "exp = load_experiments([374, 383, 290, 268, 445], 'triplicatered')\n",
    "exp.plot(labels=['naive', 'pgm', 'pgm_nocorr', 'nolang', 'bijection_kde', 'new_teacher'])"
   ]
  },
  {
   "cell_type": "code",
   "execution_count": 12,
   "metadata": {},
   "outputs": [
    {
     "data": {
      "image/png": "[encoded data removed]",
      "text/plain": [
       "<Figure size 432x288 with 1 Axes>"
      ]
     },
     "metadata": {
      "needs_background": "light"
     },
     "output_type": "display_data"
    }
   ],
   "source": [
    "exp = load_experiments([376, 384, 260, 233, 446], 'bijection')\n",
    "exp.plot(labels=['naive', 'pgm', 'pgm_nocorr', 'nolang', 'bijection_kde', 'new_teacher'])"
   ]
  },
  {
   "cell_type": "markdown",
   "metadata": {},
   "source": [
    "At this stage pgm_nocorr is performing worse on onerule. The most likely reason for this is that in the first corrected scenario we are lucky and get a table correction. This means the agent gets to know about all the blue blocks in that first scenario without aid from the no-corr update. Beyond this, the agent gains some minor boost at the start but for some reason is unstable later on and basically fucks it. I'm not sure exactly why this may be. It's worth testing no-corr on other problems where we are not lucky in the first corrected scenario and see if we get improvements in them. "
   ]
  },
  {
   "cell_type": "code",
   "execution_count": 13,
   "metadata": {},
   "outputs": [
    {
     "data": {
      "image/png": "[encoded data removed]",
      "text/plain": [
       "<Figure size 432x288 with 1 Axes>"
      ]
     },
     "metadata": {
      "needs_background": "light"
     },
     "output_type": "display_data"
    }
   ],
   "source": [
    "exp = load_experiments([357, 368, 258, 447], 'onerule')\n",
    "exp.plot(labels=['naive', 'pgm', 'pgm_nocorr', 'nolang', 'new_teacher'])"
   ]
  },
  {
   "cell_type": "code",
   "execution_count": 9,
   "metadata": {},
   "outputs": [
    {
     "data": {
      "image/png": "[encoded data removed]",
      "text/plain": [
       "<Figure size 432x288 with 1 Axes>"
      ]
     },
     "metadata": {
      "needs_background": "light"
     },
     "output_type": "display_data"
    }
   ],
   "source": [
    "exp = load_experiments([367, 369 ,259 ], 'tworules')\n",
    "exp.plot(labels=['naive', 'pgm', 'pgm_nocorr', 'nolang'])"
   ]
  },
  {
   "cell_type": "code",
   "execution_count": 18,
   "metadata": {},
   "outputs": [],
   "source": [
    "import pickle\n",
    "from correctingagent.models import prob_model\n",
    "from correctingagent.experiments.evaluation import test_colour_model"
   ]
  },
  {
   "cell_type": "code",
   "execution_count": 8,
   "metadata": {},
   "outputs": [],
   "source": [
    "with open('/home/mappelgren/Desktop/correcting-agent/results/agents/results/onerule/PGMAgent/0.7/agent23.pickle', 'rb') as f:\n",
    "    results = pickle.load(f)"
   ]
  },
  {
   "cell_type": "code",
   "execution_count": 10,
   "metadata": {},
   "outputs": [],
   "source": [
    "agent_type, goal, colours = results"
   ]
  },
  {
   "cell_type": "code",
   "execution_count": 13,
   "metadata": {},
   "outputs": [],
   "source": [
    "out_cms = {}\n",
    "for colour, cm_data in colours.items():\n",
    "    data, weights, data_neg, weights_neg = cm_data\n",
    "    cm = prob_model.KDEColourModel(colour, data=data, weights=weights, data_neg=data_neg, weights_neg=weights_neg)\n",
    "    out_cms[colour] = cm"
   ]
  },
  {
   "cell_type": "code",
   "execution_count": 15,
   "metadata": {},
   "outputs": [],
   "source": [
    "red_cm = out_cms['red']\n",
    "blue_cm = out_cms['blue']"
   ]
  },
  {
   "cell_type": "code",
   "execution_count": 16,
   "metadata": {},
   "outputs": [
    {
     "ename": "FileNotFoundError",
     "evalue": "[Errno 2] No such file or directory: 'results/colours/red.png'",
     "output_type": "error",
     "traceback": [
      "\u001b[0;31m---------------------------------------------------------------------------\u001b[0m",
      "\u001b[0;31mFileNotFoundError\u001b[0m                         Traceback (most recent call last)",
      "\u001b[0;32m<ipython-input-16-8ba046dd345f>\u001b[0m in \u001b[0;36m<module>\u001b[0;34m\u001b[0m\n\u001b[0;32m----> 1\u001b[0;31m \u001b[0mred_cm\u001b[0m\u001b[0;34m.\u001b[0m\u001b[0mdraw\u001b[0m\u001b[0;34m(\u001b[0m\u001b[0;34m)\u001b[0m\u001b[0;34m\u001b[0m\u001b[0;34m\u001b[0m\u001b[0m\n\u001b[0m",
      "\u001b[0;32m~/Desktop/correcting-agent/correctingagent/models/prob_model.py\u001b[0m in \u001b[0;36mdraw\u001b[0;34m(self, show, save_location_basename, draw_both)\u001b[0m\n\u001b[1;32m    439\u001b[0m             \u001b[0;32melse\u001b[0m\u001b[0;34m:\u001b[0m\u001b[0;34m\u001b[0m\u001b[0;34m\u001b[0m\u001b[0m\n\u001b[1;32m    440\u001b[0m                 \u001b[0msave_location\u001b[0m \u001b[0;34m=\u001b[0m \u001b[0;34m'results/colours/plots/'\u001b[0m \u001b[0;34m+\u001b[0m \u001b[0msave_location_basename\u001b[0m \u001b[0;34m+\u001b[0m \u001b[0;34m'_'\u001b[0m \u001b[0;34m+\u001b[0m \u001b[0mself\u001b[0m\u001b[0;34m.\u001b[0m\u001b[0mname\u001b[0m \u001b[0;34m+\u001b[0m \u001b[0;34m'.png'\u001b[0m\u001b[0;34m\u001b[0m\u001b[0;34m\u001b[0m\u001b[0m\n\u001b[0;32m--> 441\u001b[0;31m             \u001b[0mplt\u001b[0m\u001b[0;34m.\u001b[0m\u001b[0msavefig\u001b[0m\u001b[0;34m(\u001b[0m\u001b[0msave_location\u001b[0m\u001b[0;34m)\u001b[0m\u001b[0;34m\u001b[0m\u001b[0;34m\u001b[0m\u001b[0m\n\u001b[0m\u001b[1;32m    442\u001b[0m \u001b[0;34m\u001b[0m\u001b[0m\n\u001b[1;32m    443\u001b[0m \u001b[0;34m\u001b[0m\u001b[0m\n",
      "\u001b[0;32m~/miniconda3/envs/phd/lib/python3.7/site-packages/matplotlib/pyplot.py\u001b[0m in \u001b[0;36msavefig\u001b[0;34m(*args, **kwargs)\u001b[0m\n\u001b[1;32m    687\u001b[0m \u001b[0;32mdef\u001b[0m \u001b[0msavefig\u001b[0m\u001b[0;34m(\u001b[0m\u001b[0;34m*\u001b[0m\u001b[0margs\u001b[0m\u001b[0;34m,\u001b[0m \u001b[0;34m**\u001b[0m\u001b[0mkwargs\u001b[0m\u001b[0;34m)\u001b[0m\u001b[0;34m:\u001b[0m\u001b[0;34m\u001b[0m\u001b[0;34m\u001b[0m\u001b[0m\n\u001b[1;32m    688\u001b[0m     \u001b[0mfig\u001b[0m \u001b[0;34m=\u001b[0m \u001b[0mgcf\u001b[0m\u001b[0;34m(\u001b[0m\u001b[0;34m)\u001b[0m\u001b[0;34m\u001b[0m\u001b[0;34m\u001b[0m\u001b[0m\n\u001b[0;32m--> 689\u001b[0;31m     \u001b[0mres\u001b[0m \u001b[0;34m=\u001b[0m \u001b[0mfig\u001b[0m\u001b[0;34m.\u001b[0m\u001b[0msavefig\u001b[0m\u001b[0;34m(\u001b[0m\u001b[0;34m*\u001b[0m\u001b[0margs\u001b[0m\u001b[0;34m,\u001b[0m \u001b[0;34m**\u001b[0m\u001b[0mkwargs\u001b[0m\u001b[0;34m)\u001b[0m\u001b[0;34m\u001b[0m\u001b[0;34m\u001b[0m\u001b[0m\n\u001b[0m\u001b[1;32m    690\u001b[0m     \u001b[0mfig\u001b[0m\u001b[0;34m.\u001b[0m\u001b[0mcanvas\u001b[0m\u001b[0;34m.\u001b[0m\u001b[0mdraw_idle\u001b[0m\u001b[0;34m(\u001b[0m\u001b[0;34m)\u001b[0m   \u001b[0;31m# need this if 'transparent=True' to reset colors\u001b[0m\u001b[0;34m\u001b[0m\u001b[0;34m\u001b[0m\u001b[0m\n\u001b[1;32m    691\u001b[0m     \u001b[0;32mreturn\u001b[0m \u001b[0mres\u001b[0m\u001b[0;34m\u001b[0m\u001b[0;34m\u001b[0m\u001b[0m\n",
      "\u001b[0;32m~/miniconda3/envs/phd/lib/python3.7/site-packages/matplotlib/figure.py\u001b[0m in \u001b[0;36msavefig\u001b[0;34m(self, fname, frameon, transparent, **kwargs)\u001b[0m\n\u001b[1;32m   2092\u001b[0m             \u001b[0mself\u001b[0m\u001b[0;34m.\u001b[0m\u001b[0mset_frameon\u001b[0m\u001b[0;34m(\u001b[0m\u001b[0mframeon\u001b[0m\u001b[0;34m)\u001b[0m\u001b[0;34m\u001b[0m\u001b[0;34m\u001b[0m\u001b[0m\n\u001b[1;32m   2093\u001b[0m \u001b[0;34m\u001b[0m\u001b[0m\n\u001b[0;32m-> 2094\u001b[0;31m         \u001b[0mself\u001b[0m\u001b[0;34m.\u001b[0m\u001b[0mcanvas\u001b[0m\u001b[0;34m.\u001b[0m\u001b[0mprint_figure\u001b[0m\u001b[0;34m(\u001b[0m\u001b[0mfname\u001b[0m\u001b[0;34m,\u001b[0m \u001b[0;34m**\u001b[0m\u001b[0mkwargs\u001b[0m\u001b[0;34m)\u001b[0m\u001b[0;34m\u001b[0m\u001b[0;34m\u001b[0m\u001b[0m\n\u001b[0m\u001b[1;32m   2095\u001b[0m \u001b[0;34m\u001b[0m\u001b[0m\n\u001b[1;32m   2096\u001b[0m         \u001b[0;32mif\u001b[0m \u001b[0mframeon\u001b[0m\u001b[0;34m:\u001b[0m\u001b[0;34m\u001b[0m\u001b[0;34m\u001b[0m\u001b[0m\n",
      "\u001b[0;32m~/miniconda3/envs/phd/lib/python3.7/site-packages/matplotlib/backend_bases.py\u001b[0m in \u001b[0;36mprint_figure\u001b[0;34m(self, filename, dpi, facecolor, edgecolor, orientation, format, bbox_inches, **kwargs)\u001b[0m\n\u001b[1;32m   2073\u001b[0m                     \u001b[0morientation\u001b[0m\u001b[0;34m=\u001b[0m\u001b[0morientation\u001b[0m\u001b[0;34m,\u001b[0m\u001b[0;34m\u001b[0m\u001b[0;34m\u001b[0m\u001b[0m\n\u001b[1;32m   2074\u001b[0m                     \u001b[0mbbox_inches_restore\u001b[0m\u001b[0;34m=\u001b[0m\u001b[0m_bbox_inches_restore\u001b[0m\u001b[0;34m,\u001b[0m\u001b[0;34m\u001b[0m\u001b[0;34m\u001b[0m\u001b[0m\n\u001b[0;32m-> 2075\u001b[0;31m                     **kwargs)\n\u001b[0m\u001b[1;32m   2076\u001b[0m             \u001b[0;32mfinally\u001b[0m\u001b[0;34m:\u001b[0m\u001b[0;34m\u001b[0m\u001b[0;34m\u001b[0m\u001b[0m\n\u001b[1;32m   2077\u001b[0m                 \u001b[0;32mif\u001b[0m \u001b[0mbbox_inches\u001b[0m \u001b[0;32mand\u001b[0m \u001b[0mrestore_bbox\u001b[0m\u001b[0;34m:\u001b[0m\u001b[0;34m\u001b[0m\u001b[0;34m\u001b[0m\u001b[0m\n",
      "\u001b[0;32m~/miniconda3/envs/phd/lib/python3.7/site-packages/matplotlib/backends/backend_agg.py\u001b[0m in \u001b[0;36mprint_png\u001b[0;34m(self, filename_or_obj, *args, **kwargs)\u001b[0m\n\u001b[1;32m    519\u001b[0m \u001b[0;34m\u001b[0m\u001b[0m\n\u001b[1;32m    520\u001b[0m         \u001b[0;32mwith\u001b[0m \u001b[0mcbook\u001b[0m\u001b[0;34m.\u001b[0m\u001b[0m_setattr_cm\u001b[0m\u001b[0;34m(\u001b[0m\u001b[0mrenderer\u001b[0m\u001b[0;34m,\u001b[0m \u001b[0mdpi\u001b[0m\u001b[0;34m=\u001b[0m\u001b[0mself\u001b[0m\u001b[0;34m.\u001b[0m\u001b[0mfigure\u001b[0m\u001b[0;34m.\u001b[0m\u001b[0mdpi\u001b[0m\u001b[0;34m)\u001b[0m\u001b[0;34m,\u001b[0m\u001b[0;31m \u001b[0m\u001b[0;31m\\\u001b[0m\u001b[0;34m\u001b[0m\u001b[0;34m\u001b[0m\u001b[0m\n\u001b[0;32m--> 521\u001b[0;31m                 \u001b[0mcbook\u001b[0m\u001b[0;34m.\u001b[0m\u001b[0mopen_file_cm\u001b[0m\u001b[0;34m(\u001b[0m\u001b[0mfilename_or_obj\u001b[0m\u001b[0;34m,\u001b[0m \u001b[0;34m\"wb\"\u001b[0m\u001b[0;34m)\u001b[0m \u001b[0;32mas\u001b[0m \u001b[0mfh\u001b[0m\u001b[0;34m:\u001b[0m\u001b[0;34m\u001b[0m\u001b[0;34m\u001b[0m\u001b[0m\n\u001b[0m\u001b[1;32m    522\u001b[0m             _png.write_png(renderer._renderer, fh,\n\u001b[1;32m    523\u001b[0m                             self.figure.dpi, metadata=metadata)\n",
      "\u001b[0;32m~/miniconda3/envs/phd/lib/python3.7/contextlib.py\u001b[0m in \u001b[0;36m__enter__\u001b[0;34m(self)\u001b[0m\n\u001b[1;32m    110\u001b[0m         \u001b[0;32mdel\u001b[0m \u001b[0mself\u001b[0m\u001b[0;34m.\u001b[0m\u001b[0margs\u001b[0m\u001b[0;34m,\u001b[0m \u001b[0mself\u001b[0m\u001b[0;34m.\u001b[0m\u001b[0mkwds\u001b[0m\u001b[0;34m,\u001b[0m \u001b[0mself\u001b[0m\u001b[0;34m.\u001b[0m\u001b[0mfunc\u001b[0m\u001b[0;34m\u001b[0m\u001b[0;34m\u001b[0m\u001b[0m\n\u001b[1;32m    111\u001b[0m         \u001b[0;32mtry\u001b[0m\u001b[0;34m:\u001b[0m\u001b[0;34m\u001b[0m\u001b[0;34m\u001b[0m\u001b[0m\n\u001b[0;32m--> 112\u001b[0;31m             \u001b[0;32mreturn\u001b[0m \u001b[0mnext\u001b[0m\u001b[0;34m(\u001b[0m\u001b[0mself\u001b[0m\u001b[0;34m.\u001b[0m\u001b[0mgen\u001b[0m\u001b[0;34m)\u001b[0m\u001b[0;34m\u001b[0m\u001b[0;34m\u001b[0m\u001b[0m\n\u001b[0m\u001b[1;32m    113\u001b[0m         \u001b[0;32mexcept\u001b[0m \u001b[0mStopIteration\u001b[0m\u001b[0;34m:\u001b[0m\u001b[0;34m\u001b[0m\u001b[0;34m\u001b[0m\u001b[0m\n\u001b[1;32m    114\u001b[0m             \u001b[0;32mraise\u001b[0m \u001b[0mRuntimeError\u001b[0m\u001b[0;34m(\u001b[0m\u001b[0;34m\"generator didn't yield\"\u001b[0m\u001b[0;34m)\u001b[0m \u001b[0;32mfrom\u001b[0m \u001b[0;32mNone\u001b[0m\u001b[0;34m\u001b[0m\u001b[0;34m\u001b[0m\u001b[0m\n",
      "\u001b[0;32m~/miniconda3/envs/phd/lib/python3.7/site-packages/matplotlib/cbook/__init__.py\u001b[0m in \u001b[0;36mopen_file_cm\u001b[0;34m(path_or_file, mode, encoding)\u001b[0m\n\u001b[1;32m    405\u001b[0m \u001b[0;32mdef\u001b[0m \u001b[0mopen_file_cm\u001b[0m\u001b[0;34m(\u001b[0m\u001b[0mpath_or_file\u001b[0m\u001b[0;34m,\u001b[0m \u001b[0mmode\u001b[0m\u001b[0;34m=\u001b[0m\u001b[0;34m\"r\"\u001b[0m\u001b[0;34m,\u001b[0m \u001b[0mencoding\u001b[0m\u001b[0;34m=\u001b[0m\u001b[0;32mNone\u001b[0m\u001b[0;34m)\u001b[0m\u001b[0;34m:\u001b[0m\u001b[0;34m\u001b[0m\u001b[0;34m\u001b[0m\u001b[0m\n\u001b[1;32m    406\u001b[0m     \u001b[0;34mr\"\"\"Pass through file objects and context-manage `.PathLike`\\s.\"\"\"\u001b[0m\u001b[0;34m\u001b[0m\u001b[0;34m\u001b[0m\u001b[0m\n\u001b[0;32m--> 407\u001b[0;31m     \u001b[0mfh\u001b[0m\u001b[0;34m,\u001b[0m \u001b[0mopened\u001b[0m \u001b[0;34m=\u001b[0m \u001b[0mto_filehandle\u001b[0m\u001b[0;34m(\u001b[0m\u001b[0mpath_or_file\u001b[0m\u001b[0;34m,\u001b[0m \u001b[0mmode\u001b[0m\u001b[0;34m,\u001b[0m \u001b[0;32mTrue\u001b[0m\u001b[0;34m,\u001b[0m \u001b[0mencoding\u001b[0m\u001b[0;34m)\u001b[0m\u001b[0;34m\u001b[0m\u001b[0;34m\u001b[0m\u001b[0m\n\u001b[0m\u001b[1;32m    408\u001b[0m     \u001b[0;32mif\u001b[0m \u001b[0mopened\u001b[0m\u001b[0;34m:\u001b[0m\u001b[0;34m\u001b[0m\u001b[0;34m\u001b[0m\u001b[0m\n\u001b[1;32m    409\u001b[0m         \u001b[0;32mwith\u001b[0m \u001b[0mfh\u001b[0m\u001b[0;34m:\u001b[0m\u001b[0;34m\u001b[0m\u001b[0;34m\u001b[0m\u001b[0m\n",
      "\u001b[0;32m~/miniconda3/envs/phd/lib/python3.7/site-packages/matplotlib/cbook/__init__.py\u001b[0m in \u001b[0;36mto_filehandle\u001b[0;34m(fname, flag, return_opened, encoding)\u001b[0m\n\u001b[1;32m    390\u001b[0m             \u001b[0mfh\u001b[0m \u001b[0;34m=\u001b[0m \u001b[0mbz2\u001b[0m\u001b[0;34m.\u001b[0m\u001b[0mBZ2File\u001b[0m\u001b[0;34m(\u001b[0m\u001b[0mfname\u001b[0m\u001b[0;34m,\u001b[0m \u001b[0mflag\u001b[0m\u001b[0;34m)\u001b[0m\u001b[0;34m\u001b[0m\u001b[0;34m\u001b[0m\u001b[0m\n\u001b[1;32m    391\u001b[0m         \u001b[0;32melse\u001b[0m\u001b[0;34m:\u001b[0m\u001b[0;34m\u001b[0m\u001b[0;34m\u001b[0m\u001b[0m\n\u001b[0;32m--> 392\u001b[0;31m             \u001b[0mfh\u001b[0m \u001b[0;34m=\u001b[0m \u001b[0mopen\u001b[0m\u001b[0;34m(\u001b[0m\u001b[0mfname\u001b[0m\u001b[0;34m,\u001b[0m \u001b[0mflag\u001b[0m\u001b[0;34m,\u001b[0m \u001b[0mencoding\u001b[0m\u001b[0;34m=\u001b[0m\u001b[0mencoding\u001b[0m\u001b[0;34m)\u001b[0m\u001b[0;34m\u001b[0m\u001b[0;34m\u001b[0m\u001b[0m\n\u001b[0m\u001b[1;32m    393\u001b[0m         \u001b[0mopened\u001b[0m \u001b[0;34m=\u001b[0m \u001b[0;32mTrue\u001b[0m\u001b[0;34m\u001b[0m\u001b[0;34m\u001b[0m\u001b[0m\n\u001b[1;32m    394\u001b[0m     \u001b[0;32melif\u001b[0m \u001b[0mhasattr\u001b[0m\u001b[0;34m(\u001b[0m\u001b[0mfname\u001b[0m\u001b[0;34m,\u001b[0m \u001b[0;34m'seek'\u001b[0m\u001b[0;34m)\u001b[0m\u001b[0;34m:\u001b[0m\u001b[0;34m\u001b[0m\u001b[0;34m\u001b[0m\u001b[0m\n",
      "\u001b[0;31mFileNotFoundError\u001b[0m: [Errno 2] No such file or directory: 'results/colours/red.png'"
     ]
    },
    {
     "data": {
      "image/png": "[encoded data removed]",
      "text/plain": [
       "<Figure size 432x288 with 1 Axes>"
      ]
     },
     "metadata": {
      "needs_background": "light"
     },
     "output_type": "display_data"
    }
   ],
   "source": [
    "red_cm.draw()"
   ]
  },
  {
   "cell_type": "code",
   "execution_count": 17,
   "metadata": {
    "scrolled": true
   },
   "outputs": [
    {
     "ename": "FileNotFoundError",
     "evalue": "[Errno 2] No such file or directory: 'results/colours/blue.png'",
     "output_type": "error",
     "traceback": [
      "\u001b[0;31m---------------------------------------------------------------------------\u001b[0m",
      "\u001b[0;31mFileNotFoundError\u001b[0m                         Traceback (most recent call last)",
      "\u001b[0;32m<ipython-input-17-006892cb5075>\u001b[0m in \u001b[0;36m<module>\u001b[0;34m\u001b[0m\n\u001b[0;32m----> 1\u001b[0;31m \u001b[0mblue_cm\u001b[0m\u001b[0;34m.\u001b[0m\u001b[0mdraw\u001b[0m\u001b[0;34m(\u001b[0m\u001b[0;34m)\u001b[0m\u001b[0;34m\u001b[0m\u001b[0;34m\u001b[0m\u001b[0m\n\u001b[0m",
      "\u001b[0;32m~/Desktop/correcting-agent/correctingagent/models/prob_model.py\u001b[0m in \u001b[0;36mdraw\u001b[0;34m(self, show, save_location_basename, draw_both)\u001b[0m\n\u001b[1;32m    439\u001b[0m             \u001b[0;32melse\u001b[0m\u001b[0;34m:\u001b[0m\u001b[0;34m\u001b[0m\u001b[0;34m\u001b[0m\u001b[0m\n\u001b[1;32m    440\u001b[0m                 \u001b[0msave_location\u001b[0m \u001b[0;34m=\u001b[0m \u001b[0;34m'results/colours/plots/'\u001b[0m \u001b[0;34m+\u001b[0m \u001b[0msave_location_basename\u001b[0m \u001b[0;34m+\u001b[0m \u001b[0;34m'_'\u001b[0m \u001b[0;34m+\u001b[0m \u001b[0mself\u001b[0m\u001b[0;34m.\u001b[0m\u001b[0mname\u001b[0m \u001b[0;34m+\u001b[0m \u001b[0;34m'.png'\u001b[0m\u001b[0;34m\u001b[0m\u001b[0;34m\u001b[0m\u001b[0m\n\u001b[0;32m--> 441\u001b[0;31m             \u001b[0mplt\u001b[0m\u001b[0;34m.\u001b[0m\u001b[0msavefig\u001b[0m\u001b[0;34m(\u001b[0m\u001b[0msave_location\u001b[0m\u001b[0;34m)\u001b[0m\u001b[0;34m\u001b[0m\u001b[0;34m\u001b[0m\u001b[0m\n\u001b[0m\u001b[1;32m    442\u001b[0m \u001b[0;34m\u001b[0m\u001b[0m\n\u001b[1;32m    443\u001b[0m \u001b[0;34m\u001b[0m\u001b[0m\n",
      "\u001b[0;32m~/miniconda3/envs/phd/lib/python3.7/site-packages/matplotlib/pyplot.py\u001b[0m in \u001b[0;36msavefig\u001b[0;34m(*args, **kwargs)\u001b[0m\n\u001b[1;32m    687\u001b[0m \u001b[0;32mdef\u001b[0m \u001b[0msavefig\u001b[0m\u001b[0;34m(\u001b[0m\u001b[0;34m*\u001b[0m\u001b[0margs\u001b[0m\u001b[0;34m,\u001b[0m \u001b[0;34m**\u001b[0m\u001b[0mkwargs\u001b[0m\u001b[0;34m)\u001b[0m\u001b[0;34m:\u001b[0m\u001b[0;34m\u001b[0m\u001b[0;34m\u001b[0m\u001b[0m\n\u001b[1;32m    688\u001b[0m     \u001b[0mfig\u001b[0m \u001b[0;34m=\u001b[0m \u001b[0mgcf\u001b[0m\u001b[0;34m(\u001b[0m\u001b[0;34m)\u001b[0m\u001b[0;34m\u001b[0m\u001b[0;34m\u001b[0m\u001b[0m\n\u001b[0;32m--> 689\u001b[0;31m     \u001b[0mres\u001b[0m \u001b[0;34m=\u001b[0m \u001b[0mfig\u001b[0m\u001b[0;34m.\u001b[0m\u001b[0msavefig\u001b[0m\u001b[0;34m(\u001b[0m\u001b[0;34m*\u001b[0m\u001b[0margs\u001b[0m\u001b[0;34m,\u001b[0m \u001b[0;34m**\u001b[0m\u001b[0mkwargs\u001b[0m\u001b[0;34m)\u001b[0m\u001b[0;34m\u001b[0m\u001b[0;34m\u001b[0m\u001b[0m\n\u001b[0m\u001b[1;32m    690\u001b[0m     \u001b[0mfig\u001b[0m\u001b[0;34m.\u001b[0m\u001b[0mcanvas\u001b[0m\u001b[0;34m.\u001b[0m\u001b[0mdraw_idle\u001b[0m\u001b[0;34m(\u001b[0m\u001b[0;34m)\u001b[0m   \u001b[0;31m# need this if 'transparent=True' to reset colors\u001b[0m\u001b[0;34m\u001b[0m\u001b[0;34m\u001b[0m\u001b[0m\n\u001b[1;32m    691\u001b[0m     \u001b[0;32mreturn\u001b[0m \u001b[0mres\u001b[0m\u001b[0;34m\u001b[0m\u001b[0;34m\u001b[0m\u001b[0m\n",
      "\u001b[0;32m~/miniconda3/envs/phd/lib/python3.7/site-packages/matplotlib/figure.py\u001b[0m in \u001b[0;36msavefig\u001b[0;34m(self, fname, frameon, transparent, **kwargs)\u001b[0m\n\u001b[1;32m   2092\u001b[0m             \u001b[0mself\u001b[0m\u001b[0;34m.\u001b[0m\u001b[0mset_frameon\u001b[0m\u001b[0;34m(\u001b[0m\u001b[0mframeon\u001b[0m\u001b[0;34m)\u001b[0m\u001b[0;34m\u001b[0m\u001b[0;34m\u001b[0m\u001b[0m\n\u001b[1;32m   2093\u001b[0m \u001b[0;34m\u001b[0m\u001b[0m\n\u001b[0;32m-> 2094\u001b[0;31m         \u001b[0mself\u001b[0m\u001b[0;34m.\u001b[0m\u001b[0mcanvas\u001b[0m\u001b[0;34m.\u001b[0m\u001b[0mprint_figure\u001b[0m\u001b[0;34m(\u001b[0m\u001b[0mfname\u001b[0m\u001b[0;34m,\u001b[0m \u001b[0;34m**\u001b[0m\u001b[0mkwargs\u001b[0m\u001b[0;34m)\u001b[0m\u001b[0;34m\u001b[0m\u001b[0;34m\u001b[0m\u001b[0m\n\u001b[0m\u001b[1;32m   2095\u001b[0m \u001b[0;34m\u001b[0m\u001b[0m\n\u001b[1;32m   2096\u001b[0m         \u001b[0;32mif\u001b[0m \u001b[0mframeon\u001b[0m\u001b[0;34m:\u001b[0m\u001b[0;34m\u001b[0m\u001b[0;34m\u001b[0m\u001b[0m\n",
      "\u001b[0;32m~/miniconda3/envs/phd/lib/python3.7/site-packages/matplotlib/backend_bases.py\u001b[0m in \u001b[0;36mprint_figure\u001b[0;34m(self, filename, dpi, facecolor, edgecolor, orientation, format, bbox_inches, **kwargs)\u001b[0m\n\u001b[1;32m   2073\u001b[0m                     \u001b[0morientation\u001b[0m\u001b[0;34m=\u001b[0m\u001b[0morientation\u001b[0m\u001b[0;34m,\u001b[0m\u001b[0;34m\u001b[0m\u001b[0;34m\u001b[0m\u001b[0m\n\u001b[1;32m   2074\u001b[0m                     \u001b[0mbbox_inches_restore\u001b[0m\u001b[0;34m=\u001b[0m\u001b[0m_bbox_inches_restore\u001b[0m\u001b[0;34m,\u001b[0m\u001b[0;34m\u001b[0m\u001b[0;34m\u001b[0m\u001b[0m\n\u001b[0;32m-> 2075\u001b[0;31m                     **kwargs)\n\u001b[0m\u001b[1;32m   2076\u001b[0m             \u001b[0;32mfinally\u001b[0m\u001b[0;34m:\u001b[0m\u001b[0;34m\u001b[0m\u001b[0;34m\u001b[0m\u001b[0m\n\u001b[1;32m   2077\u001b[0m                 \u001b[0;32mif\u001b[0m \u001b[0mbbox_inches\u001b[0m \u001b[0;32mand\u001b[0m \u001b[0mrestore_bbox\u001b[0m\u001b[0;34m:\u001b[0m\u001b[0;34m\u001b[0m\u001b[0;34m\u001b[0m\u001b[0m\n",
      "\u001b[0;32m~/miniconda3/envs/phd/lib/python3.7/site-packages/matplotlib/backends/backend_agg.py\u001b[0m in \u001b[0;36mprint_png\u001b[0;34m(self, filename_or_obj, *args, **kwargs)\u001b[0m\n\u001b[1;32m    519\u001b[0m \u001b[0;34m\u001b[0m\u001b[0m\n\u001b[1;32m    520\u001b[0m         \u001b[0;32mwith\u001b[0m \u001b[0mcbook\u001b[0m\u001b[0;34m.\u001b[0m\u001b[0m_setattr_cm\u001b[0m\u001b[0;34m(\u001b[0m\u001b[0mrenderer\u001b[0m\u001b[0;34m,\u001b[0m \u001b[0mdpi\u001b[0m\u001b[0;34m=\u001b[0m\u001b[0mself\u001b[0m\u001b[0;34m.\u001b[0m\u001b[0mfigure\u001b[0m\u001b[0;34m.\u001b[0m\u001b[0mdpi\u001b[0m\u001b[0;34m)\u001b[0m\u001b[0;34m,\u001b[0m\u001b[0;31m \u001b[0m\u001b[0;31m\\\u001b[0m\u001b[0;34m\u001b[0m\u001b[0;34m\u001b[0m\u001b[0m\n\u001b[0;32m--> 521\u001b[0;31m                 \u001b[0mcbook\u001b[0m\u001b[0;34m.\u001b[0m\u001b[0mopen_file_cm\u001b[0m\u001b[0;34m(\u001b[0m\u001b[0mfilename_or_obj\u001b[0m\u001b[0;34m,\u001b[0m \u001b[0;34m\"wb\"\u001b[0m\u001b[0;34m)\u001b[0m \u001b[0;32mas\u001b[0m \u001b[0mfh\u001b[0m\u001b[0;34m:\u001b[0m\u001b[0;34m\u001b[0m\u001b[0;34m\u001b[0m\u001b[0m\n\u001b[0m\u001b[1;32m    522\u001b[0m             _png.write_png(renderer._renderer, fh,\n\u001b[1;32m    523\u001b[0m                             self.figure.dpi, metadata=metadata)\n",
      "\u001b[0;32m~/miniconda3/envs/phd/lib/python3.7/contextlib.py\u001b[0m in \u001b[0;36m__enter__\u001b[0;34m(self)\u001b[0m\n\u001b[1;32m    110\u001b[0m         \u001b[0;32mdel\u001b[0m \u001b[0mself\u001b[0m\u001b[0;34m.\u001b[0m\u001b[0margs\u001b[0m\u001b[0;34m,\u001b[0m \u001b[0mself\u001b[0m\u001b[0;34m.\u001b[0m\u001b[0mkwds\u001b[0m\u001b[0;34m,\u001b[0m \u001b[0mself\u001b[0m\u001b[0;34m.\u001b[0m\u001b[0mfunc\u001b[0m\u001b[0;34m\u001b[0m\u001b[0;34m\u001b[0m\u001b[0m\n\u001b[1;32m    111\u001b[0m         \u001b[0;32mtry\u001b[0m\u001b[0;34m:\u001b[0m\u001b[0;34m\u001b[0m\u001b[0;34m\u001b[0m\u001b[0m\n\u001b[0;32m--> 112\u001b[0;31m             \u001b[0;32mreturn\u001b[0m \u001b[0mnext\u001b[0m\u001b[0;34m(\u001b[0m\u001b[0mself\u001b[0m\u001b[0;34m.\u001b[0m\u001b[0mgen\u001b[0m\u001b[0;34m)\u001b[0m\u001b[0;34m\u001b[0m\u001b[0;34m\u001b[0m\u001b[0m\n\u001b[0m\u001b[1;32m    113\u001b[0m         \u001b[0;32mexcept\u001b[0m \u001b[0mStopIteration\u001b[0m\u001b[0;34m:\u001b[0m\u001b[0;34m\u001b[0m\u001b[0;34m\u001b[0m\u001b[0m\n\u001b[1;32m    114\u001b[0m             \u001b[0;32mraise\u001b[0m \u001b[0mRuntimeError\u001b[0m\u001b[0;34m(\u001b[0m\u001b[0;34m\"generator didn't yield\"\u001b[0m\u001b[0;34m)\u001b[0m \u001b[0;32mfrom\u001b[0m \u001b[0;32mNone\u001b[0m\u001b[0;34m\u001b[0m\u001b[0;34m\u001b[0m\u001b[0m\n",
      "\u001b[0;32m~/miniconda3/envs/phd/lib/python3.7/site-packages/matplotlib/cbook/__init__.py\u001b[0m in \u001b[0;36mopen_file_cm\u001b[0;34m(path_or_file, mode, encoding)\u001b[0m\n\u001b[1;32m    405\u001b[0m \u001b[0;32mdef\u001b[0m \u001b[0mopen_file_cm\u001b[0m\u001b[0;34m(\u001b[0m\u001b[0mpath_or_file\u001b[0m\u001b[0;34m,\u001b[0m \u001b[0mmode\u001b[0m\u001b[0;34m=\u001b[0m\u001b[0;34m\"r\"\u001b[0m\u001b[0;34m,\u001b[0m \u001b[0mencoding\u001b[0m\u001b[0;34m=\u001b[0m\u001b[0;32mNone\u001b[0m\u001b[0;34m)\u001b[0m\u001b[0;34m:\u001b[0m\u001b[0;34m\u001b[0m\u001b[0;34m\u001b[0m\u001b[0m\n\u001b[1;32m    406\u001b[0m     \u001b[0;34mr\"\"\"Pass through file objects and context-manage `.PathLike`\\s.\"\"\"\u001b[0m\u001b[0;34m\u001b[0m\u001b[0;34m\u001b[0m\u001b[0m\n\u001b[0;32m--> 407\u001b[0;31m     \u001b[0mfh\u001b[0m\u001b[0;34m,\u001b[0m \u001b[0mopened\u001b[0m \u001b[0;34m=\u001b[0m \u001b[0mto_filehandle\u001b[0m\u001b[0;34m(\u001b[0m\u001b[0mpath_or_file\u001b[0m\u001b[0;34m,\u001b[0m \u001b[0mmode\u001b[0m\u001b[0;34m,\u001b[0m \u001b[0;32mTrue\u001b[0m\u001b[0;34m,\u001b[0m \u001b[0mencoding\u001b[0m\u001b[0;34m)\u001b[0m\u001b[0;34m\u001b[0m\u001b[0;34m\u001b[0m\u001b[0m\n\u001b[0m\u001b[1;32m    408\u001b[0m     \u001b[0;32mif\u001b[0m \u001b[0mopened\u001b[0m\u001b[0;34m:\u001b[0m\u001b[0;34m\u001b[0m\u001b[0;34m\u001b[0m\u001b[0m\n\u001b[1;32m    409\u001b[0m         \u001b[0;32mwith\u001b[0m \u001b[0mfh\u001b[0m\u001b[0;34m:\u001b[0m\u001b[0;34m\u001b[0m\u001b[0;34m\u001b[0m\u001b[0m\n",
      "\u001b[0;32m~/miniconda3/envs/phd/lib/python3.7/site-packages/matplotlib/cbook/__init__.py\u001b[0m in \u001b[0;36mto_filehandle\u001b[0;34m(fname, flag, return_opened, encoding)\u001b[0m\n\u001b[1;32m    390\u001b[0m             \u001b[0mfh\u001b[0m \u001b[0;34m=\u001b[0m \u001b[0mbz2\u001b[0m\u001b[0;34m.\u001b[0m\u001b[0mBZ2File\u001b[0m\u001b[0;34m(\u001b[0m\u001b[0mfname\u001b[0m\u001b[0;34m,\u001b[0m \u001b[0mflag\u001b[0m\u001b[0;34m)\u001b[0m\u001b[0;34m\u001b[0m\u001b[0;34m\u001b[0m\u001b[0m\n\u001b[1;32m    391\u001b[0m         \u001b[0;32melse\u001b[0m\u001b[0;34m:\u001b[0m\u001b[0;34m\u001b[0m\u001b[0;34m\u001b[0m\u001b[0m\n\u001b[0;32m--> 392\u001b[0;31m             \u001b[0mfh\u001b[0m \u001b[0;34m=\u001b[0m \u001b[0mopen\u001b[0m\u001b[0;34m(\u001b[0m\u001b[0mfname\u001b[0m\u001b[0;34m,\u001b[0m \u001b[0mflag\u001b[0m\u001b[0;34m,\u001b[0m \u001b[0mencoding\u001b[0m\u001b[0;34m=\u001b[0m\u001b[0mencoding\u001b[0m\u001b[0;34m)\u001b[0m\u001b[0;34m\u001b[0m\u001b[0;34m\u001b[0m\u001b[0m\n\u001b[0m\u001b[1;32m    393\u001b[0m         \u001b[0mopened\u001b[0m \u001b[0;34m=\u001b[0m \u001b[0;32mTrue\u001b[0m\u001b[0;34m\u001b[0m\u001b[0;34m\u001b[0m\u001b[0m\n\u001b[1;32m    394\u001b[0m     \u001b[0;32melif\u001b[0m \u001b[0mhasattr\u001b[0m\u001b[0;34m(\u001b[0m\u001b[0mfname\u001b[0m\u001b[0;34m,\u001b[0m \u001b[0;34m'seek'\u001b[0m\u001b[0;34m)\u001b[0m\u001b[0;34m:\u001b[0m\u001b[0;34m\u001b[0m\u001b[0;34m\u001b[0m\u001b[0m\n",
      "\u001b[0;31mFileNotFoundError\u001b[0m: [Errno 2] No such file or directory: 'results/colours/blue.png'"
     ]
    },
    {
     "data": {
      "image/png": "[encoded data removed]",
      "text/plain": [
       "<Figure size 432x288 with 1 Axes>"
      ]
     },
     "metadata": {
      "needs_background": "light"
     },
     "output_type": "display_data"
    }
   ],
   "source": [
    "blue_cm.draw()"
   ]
  },
  {
   "cell_type": "code",
   "execution_count": 20,
   "metadata": {},
   "outputs": [
    {
     "name": "stdout",
     "output_type": "stream",
     "text": [
      "True Label  R=1 R=0\n",
      "Predict R=1| 5 | 0 |\n",
      "        R=0| 0 | 37 |\n"
     ]
    },
    {
     "data": {
      "text/plain": [
       "{'tp': 5, 'fp': 0, 'fn': 0, 'tn': 37}"
      ]
     },
     "execution_count": 20,
     "metadata": {},
     "output_type": "execute_result"
    }
   ],
   "source": [
    "colour_thresh=0.5\n",
    "test_colour_model(red_cm, colour_thresh=colour_thresh)"
   ]
  },
  {
   "cell_type": "code",
   "execution_count": 22,
   "metadata": {},
   "outputs": [
    {
     "name": "stdout",
     "output_type": "stream",
     "text": [
      "True Label  B=1 B=0\n",
      "Predict B=1| 8 | 19 |\n",
      "        B=0| 1 | 14 |\n"
     ]
    },
    {
     "data": {
      "text/plain": [
       "{'tp': 8, 'fp': 19, 'fn': 1, 'tn': 14}"
      ]
     },
     "execution_count": 22,
     "metadata": {},
     "output_type": "execute_result"
    }
   ],
   "source": [
    "colour_thresh=0.5\n",
    "test_colour_model(blue_cm, colour_thresh=colour_thresh)"
   ]
  },
  {
   "cell_type": "code",
   "execution_count": 11,
   "metadata": {},
   "outputs": [],
   "source": [
    "def binary_flip(n):\n",
    "    out = []\n",
    "    def helper(n, l):\n",
    "        if n == 0:\n",
    "            out.append(l)\n",
    "        else:\n",
    "            l1 = l.copy()\n",
    "            l1.append(0)\n",
    "            l2 = l.copy()\n",
    "            l2.append(1)\n",
    "            helper(n-1, l1)\n",
    "            helper(n-1, l2)\n",
    "\n",
    "    helper(n-1, [0])\n",
    "    helper(n-1, [1])\n",
    "    return out"
   ]
  },
  {
   "cell_type": "code",
   "execution_count": null,
   "metadata": {},
   "outputs": [],
   "source": []
  }
 ],
 "metadata": {
  "kernelspec": {
   "display_name": "Python 3",
   "language": "python",
   "name": "python3"
  },
  "language_info": {
   "codemirror_mode": {
    "name": "ipython",
    "version": 3
   },
   "file_extension": ".py",
   "mimetype": "text/x-python",
   "name": "python",
   "nbconvert_exporter": "python",
   "pygments_lexer": "ipython3",
   "version": "3.7.1"
  }
 },
 "nbformat": 4,
 "nbformat_minor": 2
}

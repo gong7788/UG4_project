{
 "cells": [
  {
   "cell_type": "code",
   "execution_count": 1,
   "metadata": {},
   "outputs": [],
   "source": [
    "from correctingagent.world.world import *\n",
    "from correctingagent.agents.teacher import *\n",
    "from correctingagent.world.rules import Rule\n",
    "import os\n",
    "import correctingagent.pddl.ff as ff\n",
    "\n",
    "from pgmpy.factors.discrete import TabularCPD\n",
    "from pgmpy.sampling import GibbsSampling\n",
    "from pgmpy.models import FactorGraph\n",
    "\n",
    "from correctingagent.models.pgmmodels import *\n",
    "\n",
    "from correctingagent.models.pgmmodels import CorrectionPGMModel, PGMPYInference, InferenceType, get_scope, is_overlap, combine_models, SamplingType, to_CPD, reduce_model, get_non_zero_states\n",
    "from correctingagent.models.prob_model import KDEColourModel\n",
    "from correctingagent.world import rules\n",
    "from correctingagent.world.rules import RedOnBlueRule, CorrectionType\n",
    "from correctingagent.util.CPD_generation import variable_or_CPD, generate_neg_table_cpd, equals_CPD\n",
    "\n",
    "\n",
    "from collections import namedtuple\n",
    "import itertools\n",
    "\n",
    "import networkx as nx\n",
    "import numpy as np\n",
    "\n",
    "from pgmpy.factors import factor_product\n",
    "from pgmpy.inference import Inference\n",
    "from pgmpy.models import BayesianModel, MarkovChain, MarkovModel\n",
    "from pgmpy.utils.mathext import sample_discrete\n",
    "from pgmpy.extern.six.moves import map, range\n",
    "from pgmpy.sampling import _return_samples\n",
    "\n",
    "from pgmpy.models.BayesianModel import BayesianModel\n",
    "from pgmpy.factors.discrete import TabularCPD\n",
    "from pgmpy.sampling import BayesianModelSampling\n",
    "from pgmpy.factors.discrete import State\n",
    "from pgmpy.factors.continuous import ContinuousFactor\n",
    "from functools import reduce\n",
    "from operator import mul\n",
    "from queue import PriorityQueue\n",
    "import heapq"
   ]
  },
  {
   "cell_type": "code",
   "execution_count": 4,
   "metadata": {},
   "outputs": [
    {
     "name": "stdout",
     "output_type": "stream",
     "text": [
      "fix bw? False\n",
      "bw 0.5\n",
      "fix bw? False\n",
      "bw 0.5\n",
      "{'V_1(all x.(red(x) -> exists y. (blue(y) & on(x,y))))': 0.5, 'V_1(all y.(blue(y) -> exists x. (red(x) & on(x,y))))': 0.5}\n"
     ]
    }
   ],
   "source": [
    "pgm_model = CorrectionPGMModel(inference_type=InferenceType.SearchInference,\n",
    "                      max_inference_size=1, max_beam_size=2)\n",
    "\n",
    "red_cm = KDEColourModel('red')\n",
    "blue_cm = KDEColourModel('blue')\n",
    "\n",
    "time = 0\n",
    "red_on_blue_rules = rules.Rule.generate_red_on_blue_options('red', 'blue')\n",
    "\n",
    "violations = pgm_model.extend_model(red_on_blue_rules, red_cm, blue_cm, ['b1', 'b2'], time,\n",
    "                                     correction_type=CorrectionType.TOWER)\n",
    "\n",
    "pgm_model.observe({'F(b1)': [1, 1, 1], 'F(b2)': [0, 0, 0], f'corr_{time}': 1})\n",
    "\n",
    "\n",
    "q = pgm_model.query(violations)\n",
    "# inference = PGMPYInference(pgm_model)\n",
    "# inference.infer({'F(b1)':[1,1,1], 'F(b2)':[0,0,0], f'corr_{time}':1})\n",
    "# q = inference.query(violations)\n",
    "# #\n",
    "# q = pgm_model.query(violations, [1, 1])\n",
    "#\n",
    "# assert(q[violations[0]] - 0.5 < 0.2)\n",
    "# assert(q[violations[1]] - 0.5 < 0.2)\n",
    "#\n",
    "#\n",
    "\n",
    "\n",
    "time = 1\n",
    "violations = pgm_model.extend_model(red_on_blue_rules, red_cm, blue_cm, ['b3', 'b4'], time,\n",
    "                                    correction_type=CorrectionType.TOWER)\n",
    "\n",
    "pgm_model.observe({'F(b3)': [1, 1, 1], 'F(b4)': [0, 0, 0], f'corr_{time}': 1})\n",
    "\n",
    "q = pgm_model.query(violations)\n",
    "\n",
    "assert (q[violations[0]] - 0.5 < 0.2)\n",
    "assert (q[violations[1]] - 0.5 < 0.2)\n",
    "\n",
    "print(q)\n",
    "\n",
    "pgm_model.observe({'red(b3)': 1})\n",
    "\n",
    "q = pgm_model.query(violations)\n",
    "\n",
    "assert (q[violations[0]] == 1.0)\n",
    "assert (q[violations[1]] == 0.0)"
   ]
  },
  {
   "cell_type": "code",
   "execution_count": 3,
   "metadata": {},
   "outputs": [],
   "source": [
    "evidence = {'F(b3)': [1, 1, 1], 'F(b4)': [0, 0, 0], f'corr_0': 1, 'F(b1)': [1, 1, 1], 'F(b2)': [0, 0, 0], f'corr_1': 1, \"blue(b2)\":1}\n",
    "model, additional_vars = reduce_model(pgm_model.ordered_models[0], evidence=evidence)"
   ]
  },
  {
   "cell_type": "code",
   "execution_count": 70,
   "metadata": {},
   "outputs": [
    {
     "name": "stdout",
     "output_type": "stream",
     "text": [
      "[(0.10000000000000002, {'red(b1)': 0, 'V_0(all y.(blue(y) -> exists x. (red(x) & on(x,y))))': 1, 'V_0(all x.(red(x) -> exists y. (blue(y) & on(x,y))))': 0, 'all x.(red(x) -> exists y. (blue(y) & on(x,y)))': 1, 'all y.(blue(y) -> exists x. (red(x) & on(x,y)))': 1, 'F(b3)': [1, 1, 1], 'F(b4)': [0, 0, 0], 'corr_0': 1, 'F(b1)': [1, 1, 1], 'F(b2)': [0, 0, 0], 'corr_1': 1, 'blue(b2)': 1}), (0.9, {'red(b1)': 0, 'V_0(all y.(blue(y) -> exists x. (red(x) & on(x,y))))': 1, 'V_0(all x.(red(x) -> exists y. (blue(y) & on(x,y))))': 0, 'all x.(red(x) -> exists y. (blue(y) & on(x,y)))': 0, 'all y.(blue(y) -> exists x. (red(x) & on(x,y)))': 1, 'F(b3)': [1, 1, 1], 'F(b4)': [0, 0, 0], 'corr_0': 1, 'F(b1)': [1, 1, 1], 'F(b2)': [0, 0, 0], 'corr_1': 1, 'blue(b2)': 1})]\n",
      "[(0.10000000000000002, {'red(b1)': 0, 'V_0(all y.(blue(y) -> exists x. (red(x) & on(x,y))))': 1, 'V_0(all x.(red(x) -> exists y. (blue(y) & on(x,y))))': 0, 'all x.(red(x) -> exists y. (blue(y) & on(x,y)))': 1, 'all y.(blue(y) -> exists x. (red(x) & on(x,y)))': 1, 'F(b3)': [1, 1, 1], 'F(b4)': [0, 0, 0], 'corr_0': 1, 'F(b1)': [1, 1, 1], 'F(b2)': [0, 0, 0], 'corr_1': 1, 'blue(b2)': 1, 'V_1(all y.(blue(y) -> exists x. (red(x) & on(x,y))))': 0, 'V_1(all x.(red(x) -> exists y. (blue(y) & on(x,y))))': 1, 'red(b3)': 1, 'blue(b4)': 0}), (0.9, {'red(b1)': 0, 'V_0(all y.(blue(y) -> exists x. (red(x) & on(x,y))))': 1, 'V_0(all x.(red(x) -> exists y. (blue(y) & on(x,y))))': 0, 'all x.(red(x) -> exists y. (blue(y) & on(x,y)))': 0, 'all y.(blue(y) -> exists x. (red(x) & on(x,y)))': 1, 'F(b3)': [1, 1, 1], 'F(b4)': [0, 0, 0], 'corr_0': 1, 'F(b1)': [1, 1, 1], 'F(b2)': [0, 0, 0], 'corr_1': 1, 'blue(b2)': 1, 'V_1(all y.(blue(y) -> exists x. (red(x) & on(x,y))))': 1, 'V_1(all x.(red(x) -> exists y. (blue(y) & on(x,y))))': 0, 'red(b3)': 0, 'blue(b4)': 1})]\n"
     ]
    }
   ],
   "source": [
    "beams = get_non_zero_states(pgm_model.ordered_models[0], evidence)\n",
    "beams = update_beams([(1, SortableDict())], beams, evidence, pgm_model.ordered_models[:1])\n",
    "beams = normalise_beam(beams)\n",
    "print(beams)\n",
    "new_beams = get_non_zero_states(pgm_model.ordered_models[1], evidence)\n",
    "beams = update_beams(beams, new_beams, evidence, pgm_model.ordered_models, max_size=2)\n",
    "beams = normalise_beam(beams)\n",
    "print(beams)"
   ]
  },
  {
   "cell_type": "code",
   "execution_count": 71,
   "metadata": {},
   "outputs": [
    {
     "name": "stdout",
     "output_type": "stream",
     "text": [
      "0.10000000000000002 {'red(b1)': 0, 'V_0(all y.(blue(y) -> exists x. (red(x) & on(x,y))))': 1, 'V_0(all x.(red(x) -> exists y. (blue(y) & on(x,y))))': 0, 'all x.(red(x) -> exists y. (blue(y) & on(x,y)))': 1, 'all y.(blue(y) -> exists x. (red(x) & on(x,y)))': 1, 'F(b3)': [1, 1, 1], 'F(b4)': [0, 0, 0], 'corr_0': 1, 'F(b1)': [1, 1, 1], 'F(b2)': [0, 0, 0], 'corr_1': 1, 'blue(b2)': 1, 'V_1(all y.(blue(y) -> exists x. (red(x) & on(x,y))))': 0, 'V_1(all x.(red(x) -> exists y. (blue(y) & on(x,y))))': 1, 'red(b3)': 1, 'blue(b4)': 0}\n",
      "0.9 {'red(b1)': 0, 'V_0(all y.(blue(y) -> exists x. (red(x) & on(x,y))))': 1, 'V_0(all x.(red(x) -> exists y. (blue(y) & on(x,y))))': 0, 'all x.(red(x) -> exists y. (blue(y) & on(x,y)))': 0, 'all y.(blue(y) -> exists x. (red(x) & on(x,y)))': 1, 'F(b3)': [1, 1, 1], 'F(b4)': [0, 0, 0], 'corr_0': 1, 'F(b1)': [1, 1, 1], 'F(b2)': [0, 0, 0], 'corr_1': 1, 'blue(b2)': 1, 'V_1(all y.(blue(y) -> exists x. (red(x) & on(x,y))))': 1, 'V_1(all x.(red(x) -> exists y. (blue(y) & on(x,y))))': 0, 'red(b3)': 0, 'blue(b4)': 1}\n"
     ]
    }
   ],
   "source": [
    "for v, b in beams:\n",
    "    print(v, b)"
   ]
  },
  {
   "cell_type": "code",
   "execution_count": 40,
   "metadata": {},
   "outputs": [
    {
     "data": {
      "text/plain": [
       "1.0"
      ]
     },
     "execution_count": 40,
     "metadata": {},
     "output_type": "execute_result"
    }
   ],
   "source": [
    "sum([v for v, b in beams])"
   ]
  },
  {
   "cell_type": "code",
   "execution_count": 30,
   "metadata": {},
   "outputs": [
    {
     "data": {
      "text/plain": [
       "[({'red(b1)': 0,\n",
       "   'V_0(all y.(blue(y) -> exists x. (red(x) & on(x,y))))': 1,\n",
       "   'V_0(all x.(red(x) -> exists y. (blue(y) & on(x,y))))': 0,\n",
       "   'all x.(red(x) -> exists y. (blue(y) & on(x,y)))': 0,\n",
       "   'all y.(blue(y) -> exists x. (red(x) & on(x,y)))': 1,\n",
       "   'F(b3)': [1, 1, 1],\n",
       "   'F(b4)': [0, 0, 0],\n",
       "   'corr_0': 1,\n",
       "   'F(b1)': [1, 1, 1],\n",
       "   'F(b2)': [0, 0, 0],\n",
       "   'corr_1': 1,\n",
       "   'blue(b2)': 1},\n",
       "  0.9),\n",
       " ({'red(b1)': 0,\n",
       "   'V_0(all y.(blue(y) -> exists x. (red(x) & on(x,y))))': 1,\n",
       "   'V_0(all x.(red(x) -> exists y. (blue(y) & on(x,y))))': 0,\n",
       "   'all x.(red(x) -> exists y. (blue(y) & on(x,y)))': 1,\n",
       "   'all y.(blue(y) -> exists x. (red(x) & on(x,y)))': 1,\n",
       "   'F(b3)': [1, 1, 1],\n",
       "   'F(b4)': [0, 0, 0],\n",
       "   'corr_0': 1,\n",
       "   'F(b1)': [1, 1, 1],\n",
       "   'F(b2)': [0, 0, 0],\n",
       "   'corr_1': 1,\n",
       "   'blue(b2)': 1},\n",
       "  0.10000000000000002)]"
      ]
     },
     "execution_count": 30,
     "metadata": {},
     "output_type": "execute_result"
    }
   ],
   "source": [
    "normalise_beam(beams)"
   ]
  },
  {
   "cell_type": "code",
   "execution_count": 8,
   "metadata": {},
   "outputs": [
    {
     "ename": "IndexError",
     "evalue": "invalid index to scalar variable.",
     "output_type": "error",
     "traceback": [
      "\u001b[0;31m---------------------------------------------------------------------------\u001b[0m",
      "\u001b[0;31mIndexError\u001b[0m                                Traceback (most recent call last)",
      "\u001b[0;32m<ipython-input-8-7b292bcc1fbd>\u001b[0m in \u001b[0;36m<module>\u001b[0;34m\u001b[0m\n\u001b[1;32m      1\u001b[0m \u001b[0mb\u001b[0m \u001b[0;34m=\u001b[0m \u001b[0mbeams\u001b[0m\u001b[0;34m[\u001b[0m\u001b[0;36m0\u001b[0m\u001b[0;34m]\u001b[0m\u001b[0;34m[\u001b[0m\u001b[0;36m0\u001b[0m\u001b[0;34m]\u001b[0m\u001b[0;34m\u001b[0m\u001b[0;34m\u001b[0m\u001b[0m\n\u001b[0;32m----> 2\u001b[0;31m \u001b[0mevaluate_model\u001b[0m\u001b[0;34m(\u001b[0m\u001b[0mb\u001b[0m\u001b[0;34m,\u001b[0m \u001b[0mmodel\u001b[0m\u001b[0;34m)\u001b[0m\u001b[0;34m\u001b[0m\u001b[0;34m\u001b[0m\u001b[0m\n\u001b[0m",
      "\u001b[0;32m<ipython-input-5-4900d2673a40>\u001b[0m in \u001b[0;36mevaluate_model\u001b[0;34m(data, model)\u001b[0m\n\u001b[1;32m      8\u001b[0m \u001b[0;32mdef\u001b[0m \u001b[0mevaluate_model\u001b[0m\u001b[0;34m(\u001b[0m\u001b[0mdata\u001b[0m\u001b[0;34m,\u001b[0m \u001b[0mmodel\u001b[0m\u001b[0;34m)\u001b[0m\u001b[0;34m:\u001b[0m\u001b[0;34m\u001b[0m\u001b[0;34m\u001b[0m\u001b[0m\n\u001b[1;32m      9\u001b[0m \u001b[0;34m\u001b[0m\u001b[0m\n\u001b[0;32m---> 10\u001b[0;31m     \u001b[0;32mreturn\u001b[0m \u001b[0mproduct\u001b[0m\u001b[0;34m(\u001b[0m\u001b[0;34m[\u001b[0m\u001b[0mevaluate_factor\u001b[0m\u001b[0;34m(\u001b[0m\u001b[0mdata\u001b[0m\u001b[0;34m,\u001b[0m \u001b[0mfactor\u001b[0m\u001b[0;34m)\u001b[0m \u001b[0;32mfor\u001b[0m \u001b[0mfactor\u001b[0m \u001b[0;32min\u001b[0m \u001b[0mmodel\u001b[0m\u001b[0;34m.\u001b[0m\u001b[0mfactors\u001b[0m\u001b[0;34m]\u001b[0m\u001b[0;34m)\u001b[0m\u001b[0;34m\u001b[0m\u001b[0;34m\u001b[0m\u001b[0m\n\u001b[0m\u001b[1;32m     11\u001b[0m \u001b[0;34m\u001b[0m\u001b[0m\n",
      "\u001b[0;32m<ipython-input-5-4900d2673a40>\u001b[0m in \u001b[0;36m<listcomp>\u001b[0;34m(.0)\u001b[0m\n\u001b[1;32m      8\u001b[0m \u001b[0;32mdef\u001b[0m \u001b[0mevaluate_model\u001b[0m\u001b[0;34m(\u001b[0m\u001b[0mdata\u001b[0m\u001b[0;34m,\u001b[0m \u001b[0mmodel\u001b[0m\u001b[0;34m)\u001b[0m\u001b[0;34m:\u001b[0m\u001b[0;34m\u001b[0m\u001b[0;34m\u001b[0m\u001b[0m\n\u001b[1;32m      9\u001b[0m \u001b[0;34m\u001b[0m\u001b[0m\n\u001b[0;32m---> 10\u001b[0;31m     \u001b[0;32mreturn\u001b[0m \u001b[0mproduct\u001b[0m\u001b[0;34m(\u001b[0m\u001b[0;34m[\u001b[0m\u001b[0mevaluate_factor\u001b[0m\u001b[0;34m(\u001b[0m\u001b[0mdata\u001b[0m\u001b[0;34m,\u001b[0m \u001b[0mfactor\u001b[0m\u001b[0;34m)\u001b[0m \u001b[0;32mfor\u001b[0m \u001b[0mfactor\u001b[0m \u001b[0;32min\u001b[0m \u001b[0mmodel\u001b[0m\u001b[0;34m.\u001b[0m\u001b[0mfactors\u001b[0m\u001b[0;34m]\u001b[0m\u001b[0;34m)\u001b[0m\u001b[0;34m\u001b[0m\u001b[0;34m\u001b[0m\u001b[0m\n\u001b[0m\u001b[1;32m     11\u001b[0m \u001b[0;34m\u001b[0m\u001b[0m\n",
      "\u001b[0;32m<ipython-input-5-4900d2673a40>\u001b[0m in \u001b[0;36mevaluate_factor\u001b[0;34m(data, factor)\u001b[0m\n\u001b[1;32m      1\u001b[0m \u001b[0;32mdef\u001b[0m \u001b[0mevaluate_factor\u001b[0m\u001b[0;34m(\u001b[0m\u001b[0mdata\u001b[0m\u001b[0;34m,\u001b[0m \u001b[0mfactor\u001b[0m\u001b[0;34m)\u001b[0m\u001b[0;34m:\u001b[0m\u001b[0;34m\u001b[0m\u001b[0;34m\u001b[0m\u001b[0m\n\u001b[0;32m----> 2\u001b[0;31m     \u001b[0mfactor_data\u001b[0m \u001b[0;34m=\u001b[0m \u001b[0;34m{\u001b[0m\u001b[0mv\u001b[0m\u001b[0;34m:\u001b[0m\u001b[0mdata\u001b[0m\u001b[0;34m[\u001b[0m\u001b[0mv\u001b[0m\u001b[0;34m]\u001b[0m \u001b[0;32mfor\u001b[0m \u001b[0mv\u001b[0m \u001b[0;32min\u001b[0m \u001b[0mfactor\u001b[0m\u001b[0;34m.\u001b[0m\u001b[0mscope\u001b[0m\u001b[0;34m(\u001b[0m\u001b[0;34m)\u001b[0m\u001b[0;34m}\u001b[0m\u001b[0;34m\u001b[0m\u001b[0;34m\u001b[0m\u001b[0m\n\u001b[0m\u001b[1;32m      3\u001b[0m     \u001b[0;32mreturn\u001b[0m \u001b[0mfactor\u001b[0m\u001b[0;34m.\u001b[0m\u001b[0mp\u001b[0m\u001b[0;34m(\u001b[0m\u001b[0mfactor_data\u001b[0m\u001b[0;34m)\u001b[0m\u001b[0;34m\u001b[0m\u001b[0;34m\u001b[0m\u001b[0m\n\u001b[1;32m      4\u001b[0m \u001b[0;34m\u001b[0m\u001b[0m\n\u001b[1;32m      5\u001b[0m \u001b[0;32mdef\u001b[0m \u001b[0mproduct\u001b[0m\u001b[0;34m(\u001b[0m\u001b[0mx\u001b[0m\u001b[0;34m)\u001b[0m\u001b[0;34m:\u001b[0m\u001b[0;34m\u001b[0m\u001b[0;34m\u001b[0m\u001b[0m\n",
      "\u001b[0;32m<ipython-input-5-4900d2673a40>\u001b[0m in \u001b[0;36m<dictcomp>\u001b[0;34m(.0)\u001b[0m\n\u001b[1;32m      1\u001b[0m \u001b[0;32mdef\u001b[0m \u001b[0mevaluate_factor\u001b[0m\u001b[0;34m(\u001b[0m\u001b[0mdata\u001b[0m\u001b[0;34m,\u001b[0m \u001b[0mfactor\u001b[0m\u001b[0;34m)\u001b[0m\u001b[0;34m:\u001b[0m\u001b[0;34m\u001b[0m\u001b[0;34m\u001b[0m\u001b[0m\n\u001b[0;32m----> 2\u001b[0;31m     \u001b[0mfactor_data\u001b[0m \u001b[0;34m=\u001b[0m \u001b[0;34m{\u001b[0m\u001b[0mv\u001b[0m\u001b[0;34m:\u001b[0m\u001b[0mdata\u001b[0m\u001b[0;34m[\u001b[0m\u001b[0mv\u001b[0m\u001b[0;34m]\u001b[0m \u001b[0;32mfor\u001b[0m \u001b[0mv\u001b[0m \u001b[0;32min\u001b[0m \u001b[0mfactor\u001b[0m\u001b[0;34m.\u001b[0m\u001b[0mscope\u001b[0m\u001b[0;34m(\u001b[0m\u001b[0;34m)\u001b[0m\u001b[0;34m}\u001b[0m\u001b[0;34m\u001b[0m\u001b[0;34m\u001b[0m\u001b[0m\n\u001b[0m\u001b[1;32m      3\u001b[0m     \u001b[0;32mreturn\u001b[0m \u001b[0mfactor\u001b[0m\u001b[0;34m.\u001b[0m\u001b[0mp\u001b[0m\u001b[0;34m(\u001b[0m\u001b[0mfactor_data\u001b[0m\u001b[0;34m)\u001b[0m\u001b[0;34m\u001b[0m\u001b[0;34m\u001b[0m\u001b[0m\n\u001b[1;32m      4\u001b[0m \u001b[0;34m\u001b[0m\u001b[0m\n\u001b[1;32m      5\u001b[0m \u001b[0;32mdef\u001b[0m \u001b[0mproduct\u001b[0m\u001b[0;34m(\u001b[0m\u001b[0mx\u001b[0m\u001b[0;34m)\u001b[0m\u001b[0;34m:\u001b[0m\u001b[0;34m\u001b[0m\u001b[0;34m\u001b[0m\u001b[0m\n",
      "\u001b[0;31mIndexError\u001b[0m: invalid index to scalar variable."
     ]
    }
   ],
   "source": [
    "b = beams[0][0]\n",
    "evaluate_model(b, model)"
   ]
  },
  {
   "cell_type": "code",
   "execution_count": 9,
   "metadata": {},
   "outputs": [],
   "source": [
    "m = build_combined_model(pgm_model.ordered_models)"
   ]
  },
  {
   "cell_type": "code",
   "execution_count": 10,
   "metadata": {},
   "outputs": [
    {
     "data": {
      "text/plain": [
       "{'F(b1)',\n",
       " 'F(b2)',\n",
       " 'F(b3)',\n",
       " 'F(b4)',\n",
       " 'V_0(all x.(red(x) -> exists y. (blue(y) & on(x,y))))',\n",
       " 'V_0(all y.(blue(y) -> exists x. (red(x) & on(x,y))))',\n",
       " 'V_1(all x.(red(x) -> exists y. (blue(y) & on(x,y))))',\n",
       " 'V_1(all y.(blue(y) -> exists x. (red(x) & on(x,y))))',\n",
       " 'all x.(red(x) -> exists y. (blue(y) & on(x,y)))',\n",
       " 'all y.(blue(y) -> exists x. (red(x) & on(x,y)))',\n",
       " 'blue(b2)',\n",
       " 'blue(b4)',\n",
       " 'corr_0',\n",
       " 'corr_1',\n",
       " 'red(b1)',\n",
       " 'red(b3)'}"
      ]
     },
     "execution_count": 10,
     "metadata": {},
     "output_type": "execute_result"
    }
   ],
   "source": [
    "get_scope(m)"
   ]
  },
  {
   "cell_type": "code",
   "execution_count": 11,
   "metadata": {},
   "outputs": [
    {
     "data": {
      "text/plain": [
       "[<DiscreteFactor representing phi(V_1(all x.(red(x) -> exists y. (blue(y) & on(x,y)))):2, red(b3):2, blue(b4):2, all x.(red(x) -> exists y. (blue(y) & on(x,y))):2) at 0x7f15ee17cbd0>,\n",
       " <DiscreteFactor representing phi(V_1(all y.(blue(y) -> exists x. (red(x) & on(x,y)))):2, red(b3):2, blue(b4):2, all y.(blue(y) -> exists x. (red(x) & on(x,y))):2) at 0x7f15ee17c210>,\n",
       " <DiscreteFactor representing phi(corr_0:2, V_0(all x.(red(x) -> exists y. (blue(y) & on(x,y)))):2, V_0(all y.(blue(y) -> exists x. (red(x) & on(x,y)))):2) at 0x7f15ee17cc10>,\n",
       " <DiscreteFactor representing phi(V_0(all x.(red(x) -> exists y. (blue(y) & on(x,y)))):2, red(b1):2, blue(b2):2, all x.(red(x) -> exists y. (blue(y) & on(x,y))):2) at 0x7f15ee17ca90>,\n",
       " <DiscreteFactor representing phi(all x.(red(x) -> exists y. (blue(y) & on(x,y))):2) at 0x7f15ee17c750>,\n",
       " <pgmpy.factors.continuous.ContinuousFactor.ContinuousFactor at 0x7f15ee17c4d0>,\n",
       " <pgmpy.factors.continuous.ContinuousFactor.ContinuousFactor at 0x7f15ee17c510>,\n",
       " <pgmpy.factors.continuous.ContinuousFactor.ContinuousFactor at 0x7f15ee178d10>,\n",
       " <pgmpy.factors.continuous.ContinuousFactor.ContinuousFactor at 0x7f15ee178d50>,\n",
       " <DiscreteFactor representing phi(corr_1:2, V_1(all x.(red(x) -> exists y. (blue(y) & on(x,y)))):2, V_1(all y.(blue(y) -> exists x. (red(x) & on(x,y)))):2) at 0x7f15ee17c7d0>,\n",
       " <DiscreteFactor representing phi(V_0(all y.(blue(y) -> exists x. (red(x) & on(x,y)))):2, red(b1):2, blue(b2):2, all y.(blue(y) -> exists x. (red(x) & on(x,y))):2) at 0x7f15ee17ced0>,\n",
       " <DiscreteFactor representing phi(all y.(blue(y) -> exists x. (red(x) & on(x,y))):2) at 0x7f15ee17c790>]"
      ]
     },
     "execution_count": 11,
     "metadata": {},
     "output_type": "execute_result"
    }
   ],
   "source": [
    "m.factors"
   ]
  },
  {
   "cell_type": "code",
   "execution_count": 74,
   "metadata": {},
   "outputs": [
    {
     "data": {
      "text/plain": [
       "0.5"
      ]
     },
     "execution_count": 74,
     "metadata": {},
     "output_type": "execute_result"
    }
   ],
   "source": [
    "b.update(evidence)\n",
    "evaluate_factor(b, m.factors[5])"
   ]
  },
  {
   "cell_type": "code",
   "execution_count": 9,
   "metadata": {},
   "outputs": [],
   "source": [
    "q = PriorityQueue()\n"
   ]
  },
  {
   "cell_type": "code",
   "execution_count": null,
   "metadata": {},
   "outputs": [],
   "source": [
    "q.put"
   ]
  }
 ],
 "metadata": {
  "kernelspec": {
   "display_name": "Python 3",
   "language": "python",
   "name": "python3"
  },
  "language_info": {
   "codemirror_mode": {
    "name": "ipython",
    "version": 3
   },
   "file_extension": ".py",
   "mimetype": "text/x-python",
   "name": "python",
   "nbconvert_exporter": "python",
   "pygments_lexer": "ipython3",
   "version": "3.7.4"
  }
 },
 "nbformat": 4,
 "nbformat_minor": 2
}

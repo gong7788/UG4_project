{
 "cells": [
  {
   "cell_type": "code",
   "execution_count": 8,
   "metadata": {},
   "outputs": [],
   "source": [
    "import subprocess\n",
    "\n",
    "out = subprocess.run(\"ls\", stdout=subprocess.PIPE).stdout"
   ]
  },
  {
   "cell_type": "code",
   "execution_count": 12,
   "metadata": {},
   "outputs": [
    {
     "name": "stdout",
     "output_type": "stream",
     "text": [
      "candc-1.00\n",
      "delphin.ipynb\n",
      "DMRS analysis.ipynb\n",
      "essay\n",
      "functions.ipynb\n",
      "jars\n",
      "NLTK-semantics.ipynb\n",
      "paper_organiser\n",
      "parsing FF.ipynb\n",
      "pddl_functions.py\n",
      "pypddl.ipynb\n",
      "pythonpddl2\n",
      "Stanford-NLTKp2.ipynb\n",
      "stanford-parser-full-2017-06-09\n",
      "stanford-parser-NLTK.ipynb\n",
      "Untitled1.ipynb\n",
      "venv\n",
      "venv2\n",
      "\n"
     ]
    }
   ],
   "source": [
    "print(out.decode())"
   ]
  },
  {
   "cell_type": "code",
   "execution_count": 60,
   "metadata": {},
   "outputs": [],
   "source": [
    "out = subprocess.run(\n",
    "    ['/afs/inf.ed.ac.uk/user/s12/s1202144/Desktop/phd/FF-v2.3/ff', \n",
    "     '-o', '../FF-v2.3/blocks.pddl', \n",
    "     '-f', '../FF-v2.3/blocks1.pddl'], \n",
    "    stdout=subprocess.PIPE,\n",
    "    stderr=subprocess.PIPE)"
   ]
  },
  {
   "cell_type": "code",
   "execution_count": 33,
   "metadata": {
    "scrolled": true
   },
   "outputs": [
    {
     "name": "stdout",
     "output_type": "stream",
     "text": [
      "\n",
      "ff: parsing domain file\n",
      "domain 'BLOCKSWORLD' defined\n",
      " ... done.\n",
      "ff: parsing problem file\n",
      "problem 'BLOCKS-1' defined\n",
      " ... done.\n",
      "\n",
      "\n",
      "\n",
      "Cueing down from goal distance:    4 into depth [1]\n",
      "                                   3            [1]\n",
      "                                   2            [1]\n",
      "                                   1            [1]\n",
      "                                   0            \n",
      "\n",
      "Cueing down from goal distance:    4 into depth [1]\n",
      "                                   3            [1]\n",
      "                                   2            [1]\n",
      "                                   1            [1]\n",
      "                                   0            \n",
      "\n",
      "ff: found legal plan as follows\n",
      "\n",
      "step    0: PICKUP B3\n",
      "        1: STACK B3 B4\n",
      "        2: PICKUP B1\n",
      "        3: STACK B1 B3\n",
      "        4: PICKUP B5\n",
      "        5: STACK B5 B1\n",
      "        6: PICKUP B2\n",
      "        7: STACK B2 B5\n",
      "     \n",
      "\n",
      "time spent:    0.00 seconds instantiating 60 easy, 0 hard action templates\n",
      "               0.00 seconds reachability analysis, yielding 46 facts and 60 actions\n",
      "               0.00 seconds creating final representation with 46 relevant facts\n",
      "               0.00 seconds building connectivity graph\n",
      "               0.00 seconds searching, evaluating 17 states, to a max depth of 1\n",
      "               0.00 seconds total time\n",
      "\n",
      "\n",
      "\n"
     ]
    }
   ],
   "source": [
    "print(out.stdout.decode())\n",
    "print(out.stderr.decode())"
   ]
  },
  {
   "cell_type": "code",
   "execution_count": 61,
   "metadata": {},
   "outputs": [],
   "source": [
    "def run_ff(domain, problem):\n",
    "    ff_location = '/afs/inf.ed.ac.uk/user/s12/s1202144/Desktop/phd/FF-v2.3/ff'\n",
    "    out = subprocess.run(\n",
    "    ff_location,\n",
    "    '-o', domain,\n",
    "    '-f', problem,\n",
    "    stdout=subprocess.PIPE,\n",
    "    stderr=subprocess.PIPE)\n",
    "    return out.stdout.decode()"
   ]
  },
  {
   "cell_type": "code",
   "execution_count": 46,
   "metadata": {},
   "outputs": [],
   "source": [
    "result = out.stdout.decode()"
   ]
  },
  {
   "cell_type": "code",
   "execution_count": 47,
   "metadata": {},
   "outputs": [],
   "source": [
    "lines = list(filter(lambda x: len(x) > 0, result.split('\\n')))"
   ]
  },
  {
   "cell_type": "code",
   "execution_count": 50,
   "metadata": {},
   "outputs": [],
   "source": [
    "out = []\n",
    "for i, line in enumerate(lines):\n",
    "    if \"ff: found legal plan as follows\" in line:\n",
    "        out = lines[i+1:]\n",
    "        break"
   ]
  },
  {
   "cell_type": "code",
   "execution_count": 51,
   "metadata": {},
   "outputs": [
    {
     "data": {
      "text/plain": [
       "['step    0: PICKUP B3',\n",
       " '        1: STACK B3 B4',\n",
       " '        2: PICKUP B1',\n",
       " '        3: STACK B1 B3',\n",
       " '        4: PICKUP B5',\n",
       " '        5: STACK B5 B1',\n",
       " '        6: PICKUP B2',\n",
       " '        7: STACK B2 B5',\n",
       " '     ',\n",
       " 'time spent:    0.00 seconds instantiating 60 easy, 0 hard action templates',\n",
       " '               0.00 seconds reachability analysis, yielding 46 facts and 60 actions',\n",
       " '               0.00 seconds creating final representation with 46 relevant facts',\n",
       " '               0.00 seconds building connectivity graph',\n",
       " '               0.00 seconds searching, evaluating 17 states, to a max depth of 1',\n",
       " '               0.00 seconds total time']"
      ]
     },
     "execution_count": 51,
     "metadata": {},
     "output_type": "execute_result"
    }
   ],
   "source": [
    "out"
   ]
  },
  {
   "cell_type": "code",
   "execution_count": 55,
   "metadata": {},
   "outputs": [],
   "source": [
    "actions = []\n",
    "for line in out:\n",
    "    line = line.strip('step').strip()\n",
    "    try:\n",
    "        nr, action = line.split(':')\n",
    "        nr = int(nr)\n",
    "        actions.append((nr, action.strip()))\n",
    "    except ValueError:\n",
    "        break\n",
    "        "
   ]
  },
  {
   "cell_type": "code",
   "execution_count": 56,
   "metadata": {},
   "outputs": [
    {
     "data": {
      "text/plain": [
       "[(0, 'PICKUP B3'),\n",
       " (1, 'STACK B3 B4'),\n",
       " (2, 'PICKUP B1'),\n",
       " (3, 'STACK B1 B3'),\n",
       " (4, 'PICKUP B5'),\n",
       " (5, 'STACK B5 B1'),\n",
       " (6, 'PICKUP B2'),\n",
       " (7, 'STACK B2 B5')]"
      ]
     },
     "execution_count": 56,
     "metadata": {},
     "output_type": "execute_result"
    }
   ],
   "source": [
    "actions"
   ]
  },
  {
   "cell_type": "code",
   "execution_count": null,
   "metadata": {},
   "outputs": [],
   "source": []
  }
 ],
 "metadata": {
  "kernelspec": {
   "display_name": "Python 3",
   "language": "python",
   "name": "python3"
  },
  "language_info": {
   "codemirror_mode": {
    "name": "ipython",
    "version": 3
   },
   "file_extension": ".py",
   "mimetype": "text/x-python",
   "name": "python",
   "nbconvert_exporter": "python",
   "pygments_lexer": "ipython3",
   "version": "3.6.3"
  }
 },
 "nbformat": 4,
 "nbformat_minor": 2
}

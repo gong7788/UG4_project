{
 "cells": [
  {
   "cell_type": "code",
   "execution_count": 1,
   "metadata": {},
   "outputs": [],
   "source": [
    "from correctingagent.agents.PGMAgent import PGMCorrectingAgent, read_sentence\n",
    "from correctingagent.agents.teacher import TeacherAgent, FaultyTeacherAgent\n",
    "from correctingagent.world.world import RandomColoursWorld\n",
    "from correctingagent.models.pgmmodels import InferenceType\n",
    "from correctingagent.models.pgmmodels import *\n",
    "from correctingagent.util.CPD_generation import variable_or_CPD"
   ]
  },
  {
   "cell_type": "code",
   "execution_count": 3,
   "metadata": {},
   "outputs": [
    {
     "name": "stdout",
     "output_type": "stream",
     "text": [
      "Parsing domain /home/mappelgren/Desktop/correcting-agent/data/domain/blocks-domain-unstackable.pddl\n",
      "Parsing problem /home/mappelgren/Desktop/correcting-agent/data/big_onerule_faulty/big_onerule_faulty0/problem5.pddl\n",
      "Using approximate search inference\n",
      "p direct 0.9\n",
      "p indirect 1\n",
      "inference type InferenceType.SearchInference\n"
     ]
    }
   ],
   "source": [
    "w = RandomColoursWorld(problem_directory=\"big_onerule_faulty/big_onerule_faulty0\", \n",
    "                       problem_number=5, \n",
    "                       domain_file=\"blocks-domain-unstackable.pddl\")\n",
    "teacher = FaultyTeacherAgent()\n",
    "agent = PGMCorrectingAgent(w, teacher=teacher, inference_type=InferenceType.SearchInference, \n",
    "                           max_beam_size=1000, p_direct=0.9)"
   ]
  },
  {
   "cell_type": "code",
   "execution_count": 4,
   "metadata": {},
   "outputs": [
    {
     "name": "stdout",
     "output_type": "stream",
     "text": [
      "put ['b2', 'b3', 'tower0']\n",
      "fix bw? False\n",
      "bw 0.5\n",
      "fix bw? False\n",
      "bw 0.5\n",
      "table correction? False\n",
      "{'V_1(all x.(green(x) -> exists y. (blue(y) & on(x,y))))': 0.16071428571428575, 'V_1(all y.(blue(y) -> exists x. (green(x) & on(x,y))))': 0.16071428571428575}\n",
      "Is the top object green?\n",
      "no\n",
      "before clamp\n",
      "0.0017857142857142854 {'V_1(all y.(blue(y) -> exists x. (green(x) & on(x,y))))': 0, 'green(b2)': 1, 'blue(b3)': 1, 'all y.(blue(y) -> exists x. (green(x) & on(x,y)))': 1, 'V_1(all x.(green(x) -> exists y. (blue(y) & on(x,y))))': 0, 'all x.(green(x) -> exists y. (blue(y) & on(x,y)))': 1, 'F(b2)': array([0.91453825, 0.13029081, 0.5900521 ]), 'F(b3)': array([0.03339435, 0.35577726, 0.94918457]), 'corr_1': 1}\n",
      "0.016071428571428573 {'V_1(all y.(blue(y) -> exists x. (green(x) & on(x,y))))': 0, 'green(b2)': 1, 'blue(b3)': 0, 'all y.(blue(y) -> exists x. (green(x) & on(x,y)))': 1, 'V_1(all x.(green(x) -> exists y. (blue(y) & on(x,y))))': 0, 'all x.(green(x) -> exists y. (blue(y) & on(x,y)))': 0, 'F(b2)': array([0.91453825, 0.13029081, 0.5900521 ]), 'F(b3)': array([0.03339435, 0.35577726, 0.94918457]), 'corr_1': 1}\n",
      "0.0017857142857142854 {'V_1(all y.(blue(y) -> exists x. (green(x) & on(x,y))))': 0, 'green(b2)': 0, 'blue(b3)': 0, 'all y.(blue(y) -> exists x. (green(x) & on(x,y)))': 1, 'V_1(all x.(green(x) -> exists y. (blue(y) & on(x,y))))': 0, 'all x.(green(x) -> exists y. (blue(y) & on(x,y)))': 1, 'F(b2)': array([0.91453825, 0.13029081, 0.5900521 ]), 'F(b3)': array([0.03339435, 0.35577726, 0.94918457]), 'corr_1': 1}\n",
      "0.016071428571428573 {'V_1(all y.(blue(y) -> exists x. (green(x) & on(x,y))))': 0, 'green(b2)': 0, 'blue(b3)': 0, 'all y.(blue(y) -> exists x. (green(x) & on(x,y)))': 1, 'V_1(all x.(green(x) -> exists y. (blue(y) & on(x,y))))': 0, 'all x.(green(x) -> exists y. (blue(y) & on(x,y)))': 0, 'F(b2)': array([0.91453825, 0.13029081, 0.5900521 ]), 'F(b3)': array([0.03339435, 0.35577726, 0.94918457]), 'corr_1': 1}\n",
      "0.016071428571428573 {'V_1(all y.(blue(y) -> exists x. (green(x) & on(x,y))))': 0, 'green(b2)': 1, 'blue(b3)': 0, 'all y.(blue(y) -> exists x. (green(x) & on(x,y)))': 1, 'V_1(all x.(green(x) -> exists y. (blue(y) & on(x,y))))': 1, 'all x.(green(x) -> exists y. (blue(y) & on(x,y)))': 1, 'F(b2)': array([0.91453825, 0.13029081, 0.5900521 ]), 'F(b3)': array([0.03339435, 0.35577726, 0.94918457]), 'corr_1': 1}\n",
      "0.016071428571428573 {'V_1(all y.(blue(y) -> exists x. (green(x) & on(x,y))))': 0, 'green(b2)': 1, 'blue(b3)': 1, 'all y.(blue(y) -> exists x. (green(x) & on(x,y)))': 0, 'V_1(all x.(green(x) -> exists y. (blue(y) & on(x,y))))': 0, 'all x.(green(x) -> exists y. (blue(y) & on(x,y)))': 1, 'F(b2)': array([0.91453825, 0.13029081, 0.5900521 ]), 'F(b3)': array([0.03339435, 0.35577726, 0.94918457]), 'corr_1': 1}\n",
      "0.016071428571428573 {'V_1(all y.(blue(y) -> exists x. (green(x) & on(x,y))))': 0, 'green(b2)': 1, 'blue(b3)': 1, 'all y.(blue(y) -> exists x. (green(x) & on(x,y)))': 1, 'V_1(all x.(green(x) -> exists y. (blue(y) & on(x,y))))': 0, 'all x.(green(x) -> exists y. (blue(y) & on(x,y)))': 0, 'F(b2)': array([0.91453825, 0.13029081, 0.5900521 ]), 'F(b3)': array([0.03339435, 0.35577726, 0.94918457]), 'corr_1': 1}\n",
      "0.016071428571428573 {'V_1(all y.(blue(y) -> exists x. (green(x) & on(x,y))))': 1, 'green(b2)': 0, 'blue(b3)': 1, 'all y.(blue(y) -> exists x. (green(x) & on(x,y)))': 1, 'V_1(all x.(green(x) -> exists y. (blue(y) & on(x,y))))': 0, 'all x.(green(x) -> exists y. (blue(y) & on(x,y)))': 1, 'F(b2)': array([0.91453825, 0.13029081, 0.5900521 ]), 'F(b3)': array([0.03339435, 0.35577726, 0.94918457]), 'corr_1': 1}\n",
      "0.14464285714285713 {'V_1(all y.(blue(y) -> exists x. (green(x) & on(x,y))))': 0, 'green(b2)': 0, 'blue(b3)': 0, 'all y.(blue(y) -> exists x. (green(x) & on(x,y)))': 0, 'V_1(all x.(green(x) -> exists y. (blue(y) & on(x,y))))': 0, 'all x.(green(x) -> exists y. (blue(y) & on(x,y)))': 0, 'F(b2)': array([0.91453825, 0.13029081, 0.5900521 ]), 'F(b3)': array([0.03339435, 0.35577726, 0.94918457]), 'corr_1': 1}\n",
      "0.14464285714285713 {'V_1(all y.(blue(y) -> exists x. (green(x) & on(x,y))))': 0, 'green(b2)': 0, 'blue(b3)': 1, 'all y.(blue(y) -> exists x. (green(x) & on(x,y)))': 0, 'V_1(all x.(green(x) -> exists y. (blue(y) & on(x,y))))': 0, 'all x.(green(x) -> exists y. (blue(y) & on(x,y)))': 0, 'F(b2)': array([0.91453825, 0.13029081, 0.5900521 ]), 'F(b3)': array([0.03339435, 0.35577726, 0.94918457]), 'corr_1': 1}\n",
      "0.14464285714285713 {'V_1(all y.(blue(y) -> exists x. (green(x) & on(x,y))))': 0, 'green(b2)': 1, 'blue(b3)': 1, 'all y.(blue(y) -> exists x. (green(x) & on(x,y)))': 0, 'V_1(all x.(green(x) -> exists y. (blue(y) & on(x,y))))': 0, 'all x.(green(x) -> exists y. (blue(y) & on(x,y)))': 0, 'F(b2)': array([0.91453825, 0.13029081, 0.5900521 ]), 'F(b3)': array([0.03339435, 0.35577726, 0.94918457]), 'corr_1': 1}\n",
      "0.016071428571428573 {'V_1(all y.(blue(y) -> exists x. (green(x) & on(x,y))))': 0, 'green(b2)': 0, 'blue(b3)': 0, 'all y.(blue(y) -> exists x. (green(x) & on(x,y)))': 0, 'V_1(all x.(green(x) -> exists y. (blue(y) & on(x,y))))': 0, 'all x.(green(x) -> exists y. (blue(y) & on(x,y)))': 1, 'F(b2)': array([0.91453825, 0.13029081, 0.5900521 ]), 'F(b3)': array([0.03339435, 0.35577726, 0.94918457]), 'corr_1': 1}\n",
      "0.016071428571428573 {'V_1(all y.(blue(y) -> exists x. (green(x) & on(x,y))))': 0, 'green(b2)': 0, 'blue(b3)': 1, 'all y.(blue(y) -> exists x. (green(x) & on(x,y)))': 0, 'V_1(all x.(green(x) -> exists y. (blue(y) & on(x,y))))': 0, 'all x.(green(x) -> exists y. (blue(y) & on(x,y)))': 1, 'F(b2)': array([0.91453825, 0.13029081, 0.5900521 ]), 'F(b3)': array([0.03339435, 0.35577726, 0.94918457]), 'corr_1': 1}\n",
      "0.14464285714285713 {'V_1(all y.(blue(y) -> exists x. (green(x) & on(x,y))))': 0, 'green(b2)': 1, 'blue(b3)': 0, 'all y.(blue(y) -> exists x. (green(x) & on(x,y)))': 0, 'V_1(all x.(green(x) -> exists y. (blue(y) & on(x,y))))': 0, 'all x.(green(x) -> exists y. (blue(y) & on(x,y)))': 0, 'F(b2)': array([0.91453825, 0.13029081, 0.5900521 ]), 'F(b3)': array([0.03339435, 0.35577726, 0.94918457]), 'corr_1': 1}\n",
      "0.14464285714285718 {'V_1(all y.(blue(y) -> exists x. (green(x) & on(x,y))))': 1, 'green(b2)': 0, 'blue(b3)': 1, 'all y.(blue(y) -> exists x. (green(x) & on(x,y)))': 1, 'V_1(all x.(green(x) -> exists y. (blue(y) & on(x,y))))': 0, 'all x.(green(x) -> exists y. (blue(y) & on(x,y)))': 0, 'F(b2)': array([0.91453825, 0.13029081, 0.5900521 ]), 'F(b3)': array([0.03339435, 0.35577726, 0.94918457]), 'corr_1': 1}\n",
      "0.14464285714285718 {'V_1(all y.(blue(y) -> exists x. (green(x) & on(x,y))))': 0, 'green(b2)': 1, 'blue(b3)': 0, 'all y.(blue(y) -> exists x. (green(x) & on(x,y)))': 0, 'V_1(all x.(green(x) -> exists y. (blue(y) & on(x,y))))': 1, 'all x.(green(x) -> exists y. (blue(y) & on(x,y)))': 1, 'F(b2)': array([0.91453825, 0.13029081, 0.5900521 ]), 'F(b3)': array([0.03339435, 0.35577726, 0.94918457]), 'corr_1': 1}\n",
      "after clamp\n",
      "0.003571428571428571 {'V_1(all y.(blue(y) -> exists x. (green(x) & on(x,y))))': 0, 'green(b2)': 0, 'blue(b3)': 0, 'all y.(blue(y) -> exists x. (green(x) & on(x,y)))': 1, 'V_1(all x.(green(x) -> exists y. (blue(y) & on(x,y))))': 0, 'all x.(green(x) -> exists y. (blue(y) & on(x,y)))': 1, 'F(b2)': array([0.91453825, 0.13029081, 0.5900521 ]), 'F(b3)': array([0.03339435, 0.35577726, 0.94918457]), 'corr_1': 1}\n",
      "0.03214285714285715 {'V_1(all y.(blue(y) -> exists x. (green(x) & on(x,y))))': 0, 'green(b2)': 0, 'blue(b3)': 0, 'all y.(blue(y) -> exists x. (green(x) & on(x,y)))': 1, 'V_1(all x.(green(x) -> exists y. (blue(y) & on(x,y))))': 0, 'all x.(green(x) -> exists y. (blue(y) & on(x,y)))': 0, 'F(b2)': array([0.91453825, 0.13029081, 0.5900521 ]), 'F(b3)': array([0.03339435, 0.35577726, 0.94918457]), 'corr_1': 1}\n",
      "0.03214285714285715 {'V_1(all y.(blue(y) -> exists x. (green(x) & on(x,y))))': 1, 'green(b2)': 0, 'blue(b3)': 1, 'all y.(blue(y) -> exists x. (green(x) & on(x,y)))': 1, 'V_1(all x.(green(x) -> exists y. (blue(y) & on(x,y))))': 0, 'all x.(green(x) -> exists y. (blue(y) & on(x,y)))': 1, 'F(b2)': array([0.91453825, 0.13029081, 0.5900521 ]), 'F(b3)': array([0.03339435, 0.35577726, 0.94918457]), 'corr_1': 1}\n",
      "0.28928571428571426 {'V_1(all y.(blue(y) -> exists x. (green(x) & on(x,y))))': 0, 'green(b2)': 0, 'blue(b3)': 0, 'all y.(blue(y) -> exists x. (green(x) & on(x,y)))': 0, 'V_1(all x.(green(x) -> exists y. (blue(y) & on(x,y))))': 0, 'all x.(green(x) -> exists y. (blue(y) & on(x,y)))': 0, 'F(b2)': array([0.91453825, 0.13029081, 0.5900521 ]), 'F(b3)': array([0.03339435, 0.35577726, 0.94918457]), 'corr_1': 1}\n",
      "0.28928571428571426 {'V_1(all y.(blue(y) -> exists x. (green(x) & on(x,y))))': 0, 'green(b2)': 0, 'blue(b3)': 1, 'all y.(blue(y) -> exists x. (green(x) & on(x,y)))': 0, 'V_1(all x.(green(x) -> exists y. (blue(y) & on(x,y))))': 0, 'all x.(green(x) -> exists y. (blue(y) & on(x,y)))': 0, 'F(b2)': array([0.91453825, 0.13029081, 0.5900521 ]), 'F(b3)': array([0.03339435, 0.35577726, 0.94918457]), 'corr_1': 1}\n",
      "0.03214285714285715 {'V_1(all y.(blue(y) -> exists x. (green(x) & on(x,y))))': 0, 'green(b2)': 0, 'blue(b3)': 0, 'all y.(blue(y) -> exists x. (green(x) & on(x,y)))': 0, 'V_1(all x.(green(x) -> exists y. (blue(y) & on(x,y))))': 0, 'all x.(green(x) -> exists y. (blue(y) & on(x,y)))': 1, 'F(b2)': array([0.91453825, 0.13029081, 0.5900521 ]), 'F(b3)': array([0.03339435, 0.35577726, 0.94918457]), 'corr_1': 1}\n",
      "0.03214285714285715 {'V_1(all y.(blue(y) -> exists x. (green(x) & on(x,y))))': 0, 'green(b2)': 0, 'blue(b3)': 1, 'all y.(blue(y) -> exists x. (green(x) & on(x,y)))': 0, 'V_1(all x.(green(x) -> exists y. (blue(y) & on(x,y))))': 0, 'all x.(green(x) -> exists y. (blue(y) & on(x,y)))': 1, 'F(b2)': array([0.91453825, 0.13029081, 0.5900521 ]), 'F(b3)': array([0.03339435, 0.35577726, 0.94918457]), 'corr_1': 1}\n",
      "0.28928571428571437 {'V_1(all y.(blue(y) -> exists x. (green(x) & on(x,y))))': 1, 'green(b2)': 0, 'blue(b3)': 1, 'all y.(blue(y) -> exists x. (green(x) & on(x,y)))': 1, 'V_1(all x.(green(x) -> exists y. (blue(y) & on(x,y))))': 0, 'all x.(green(x) -> exists y. (blue(y) & on(x,y)))': 0, 'F(b2)': array([0.91453825, 0.13029081, 0.5900521 ]), 'F(b3)': array([0.03339435, 0.35577726, 0.94918457]), 'corr_1': 1}\n",
      "rule priors {}\n",
      "queried rules {'all x.(green(x) -> exists y. (blue(y) & on(x,y)))': 0.1, 'all y.(blue(y) -> exists x. (green(x) & on(x,y)))': 0.3571428571428572}\n",
      "new rule priors {'all x.(green(x) -> exists y. (blue(y) & on(x,y)))': 0.1, 'all y.(blue(y) -> exists x. (green(x) & on(x,y)))': 0.3571428571428572}\n"
     ]
    },
    {
     "name": "stderr",
     "output_type": "stream",
     "text": [
      "/home/mappelgren/Desktop/pgmpy/pgmpy/factors/discrete/DiscreteFactor.py:633: FutureWarning: Using a non-tuple sequence for multidimensional indexing is deprecated; use `arr[tuple(seq)]` instead of `arr[seq]`. In the future this will be interpreted as an array index, `arr[np.array(seq)]`, which will result either in an error or a different result.\n",
      "  phi1.values = phi1.values[slice_]\n",
      "/home/mappelgren/Desktop/pgmpy/pgmpy/factors/discrete/DiscreteFactor.py:621: FutureWarning: Using a non-tuple sequence for multidimensional indexing is deprecated; use `arr[tuple(seq)]` instead of `arr[seq]`. In the future this will be interpreted as an array index, `arr[np.array(seq)]`, which will result either in an error or a different result.\n",
      "  phi.values = phi.values[slice_]\n"
     ]
    }
   ],
   "source": [
    "plan = [('put', ['b9', 't0', 'tower0']), ('put', ['b8', 'b9', 'tower0']), \n",
    "        ('put', ['b7', 'b8', 'tower0']), ('put', ['b6', 'b7', 'tower0']), \n",
    "        ('put', ['b5', 'b6', 'tower0']), ('put', ['b4', 'b5', 'tower0']), \n",
    "        ('put', ['b3', 'b4', 'tower0']), ('put', ['b2', 'b3', 'tower0'])]\n",
    "\n",
    "    \n",
    "for action, args in plan:\n",
    "    w.update(action, args)\n",
    "\n",
    "print(action, args)\n",
    "agent.get_correction(\"no, put green blocks on blue blocks\", action, args)\n"
   ]
  },
  {
   "cell_type": "code",
   "execution_count": 5,
   "metadata": {},
   "outputs": [],
   "source": [
    "model = agent.pgm_model.ordered_models[0]"
   ]
  },
  {
   "cell_type": "code",
   "execution_count": 6,
   "metadata": {},
   "outputs": [
    {
     "data": {
      "text/plain": [
       "{'F(b2)',\n",
       " 'F(b3)',\n",
       " 'V_1(all x.(green(x) -> exists y. (blue(y) & on(x,y))))',\n",
       " 'V_1(all y.(blue(y) -> exists x. (green(x) & on(x,y))))',\n",
       " 'all x.(green(x) -> exists y. (blue(y) & on(x,y)))',\n",
       " 'all y.(blue(y) -> exists x. (green(x) & on(x,y)))',\n",
       " 'blue(b3)',\n",
       " 'corr_1',\n",
       " 'green(b2)'}"
      ]
     },
     "execution_count": 6,
     "metadata": {},
     "output_type": "execute_result"
    }
   ],
   "source": [
    "get_scope(model)"
   ]
  },
  {
   "cell_type": "code",
   "execution_count": 7,
   "metadata": {},
   "outputs": [
    {
     "data": {
      "text/plain": [
       "array([[0.9, 0.1, 0.1, 0.1],\n",
       "       [0.1, 0.9, 0.9, 0.9]])"
      ]
     },
     "execution_count": 7,
     "metadata": {},
     "output_type": "execute_result"
    }
   ],
   "source": [
    "variable_or_CPD(2, p=0.9)"
   ]
  },
  {
   "cell_type": "code",
   "execution_count": 8,
   "metadata": {},
   "outputs": [],
   "source": [
    "d = {'F(b2)': [0,0,0],\n",
    " 'F(b3)': [0,0,0],\n",
    " 'V_1(all x.(green(x) -> exists y. (blue(y) & on(x,y))))': 1,\n",
    " 'V_1(all y.(blue(y) -> exists x. (green(x) & on(x,y))))': 0,\n",
    " 'all x.(green(x) -> exists y. (blue(y) & on(x,y)))': 1,\n",
    " 'all y.(blue(y) -> exists x. (green(x) & on(x,y)))': 0,\n",
    " 'blue(b3)': 0,\n",
    " 'corr_1': 1,\n",
    " 'green(b2)': 1}"
   ]
  },
  {
   "cell_type": "code",
   "execution_count": 9,
   "metadata": {},
   "outputs": [
    {
     "name": "stdout",
     "output_type": "stream",
     "text": [
      "phi(V_1(all y.(blue(y) -> exists x. (green(x) & on(x,y)))):2, green(b2):2, blue(b3):2, all y.(blue(y) -> exists x. (green(x) & on(x,y))):2) 1.0\n",
      "phi(all y.(blue(y) -> exists x. (green(x) & on(x,y))):2) 0.9\n",
      "phi(corr_1:2, V_1(all x.(green(x) -> exists y. (blue(y) & on(x,y)))):2, V_1(all y.(blue(y) -> exists x. (green(x) & on(x,y)))):2) 0.9\n",
      "<pgmpy.factors.continuous.ContinuousFactor.ContinuousFactor object at 0x7fc0b3207910> 0.5\n",
      "phi(V_1(all x.(green(x) -> exists y. (blue(y) & on(x,y)))):2, green(b2):2, blue(b3):2, all x.(green(x) -> exists y. (blue(y) & on(x,y))):2) 1.0\n",
      "<pgmpy.factors.continuous.ContinuousFactor.ContinuousFactor object at 0x7fc0b3207950> 0.5\n",
      "phi(all x.(green(x) -> exists y. (blue(y) & on(x,y))):2) 0.1\n"
     ]
    }
   ],
   "source": [
    "for factor in model.factors:\n",
    "    print(factor, evaluate_factor(d, factor))"
   ]
  },
  {
   "cell_type": "code",
   "execution_count": 10,
   "metadata": {},
   "outputs": [
    {
     "data": {
      "text/plain": [
       "0.020250000000000004"
      ]
     },
     "execution_count": 10,
     "metadata": {},
     "output_type": "execute_result"
    }
   ],
   "source": [
    "evaluate_model(d, model)"
   ]
  },
  {
   "cell_type": "code",
   "execution_count": 11,
   "metadata": {},
   "outputs": [
    {
     "data": {
      "text/plain": [
       "array([[[[1., 1.],\n",
       "         [1., 1.]],\n",
       "\n",
       "        [[1., 0.],\n",
       "         [1., 1.]]],\n",
       "\n",
       "\n",
       "       [[[0., 0.],\n",
       "         [0., 0.]],\n",
       "\n",
       "        [[0., 1.],\n",
       "         [0., 0.]]]])"
      ]
     },
     "execution_count": 11,
     "metadata": {},
     "output_type": "execute_result"
    }
   ],
   "source": [
    "model.factors[4].values"
   ]
  },
  {
   "cell_type": "code",
   "execution_count": 4,
   "metadata": {},
   "outputs": [
    {
     "data": {
      "text/plain": [
       "Message(rel='on', o1=['green'], o2=['blue'], T='recover', o3=['b8', 'b0'])"
      ]
     },
     "execution_count": 4,
     "metadata": {},
     "output_type": "execute_result"
    }
   ],
   "source": [
    "read_sentence(\"sorry, b8 and b0 are wrong because you must put green blocks on blue blocks\")"
   ]
  },
  {
   "cell_type": "code",
   "execution_count": 27,
   "metadata": {},
   "outputs": [
    {
     "data": {
      "text/plain": [
       "{'all y.(blue(y) -> exists x. (b8(x) & on(x,y)))': 0.6666666666666666,\n",
       " 'all x.(b8(x) -> exists y. (blue(y) & on(x,y)))': 0.6666666666666666}"
      ]
     },
     "execution_count": 27,
     "metadata": {},
     "output_type": "execute_result"
    }
   ],
   "source": [
    "agent.pgm_model.get_rule_probs()"
   ]
  },
  {
   "cell_type": "code",
   "execution_count": 26,
   "metadata": {},
   "outputs": [
    {
     "data": {
      "text/plain": [
       "[<pgmpy.models.FactorGraph.FactorGraph at 0x7f6a83466b50>]"
      ]
     },
     "execution_count": 26,
     "metadata": {},
     "output_type": "execute_result"
    }
   ],
   "source": [
    "agent.pgm_model.ordered_models"
   ]
  },
  {
   "cell_type": "code",
   "execution_count": 8,
   "metadata": {},
   "outputs": [],
   "source": [
    "agent.update_goal()"
   ]
  },
  {
   "cell_type": "code",
   "execution_count": 17,
   "metadata": {},
   "outputs": [
    {
     "name": "stdout",
     "output_type": "stream",
     "text": [
      "\n"
     ]
    }
   ],
   "source": [
    "print(teacher.correction(w, args))"
   ]
  },
  {
   "cell_type": "code",
   "execution_count": 11,
   "metadata": {},
   "outputs": [
    {
     "data": {
      "text/plain": [
       "[<DiscreteFactor representing phi(corr_1:2, V_1(all x.(green(x) -> exists y. (blue(y) & on(x,y)))):2, V_1(all y.(blue(y) -> exists x. (green(x) & on(x,y)))):2) at 0x7fd09a6186d0>,\n",
       " <DiscreteFactor representing phi(V_1(all y.(blue(y) -> exists x. (green(x) & on(x,y)))):2, green(b6):2, green(b7):2, green(b8):2, green(b9):2, blue(b7):2, blue(b8):2, blue(b9):2, green(b0):2, blue(b0):2, all y.(blue(y) -> exists x. (green(x) & on(x,y))):2) at 0x7fd09a6f1210>,\n",
       " <DiscreteFactor representing phi(all x.(green(x) -> exists y. (blue(y) & on(x,y))):2) at 0x7fd09a5f9110>,\n",
       " <DiscreteFactor representing phi(all y.(blue(y) -> exists x. (green(x) & on(x,y))):2) at 0x7fd09a5f9350>,\n",
       " <DiscreteFactor representing phi(V_1(all x.(green(x) -> exists y. (blue(y) & on(x,y)))):2, green(b6):2, green(b7):2, green(b8):2, green(b9):2, blue(b7):2, blue(b8):2, blue(b9):2, green(b0):2, blue(b0):2, all x.(green(x) -> exists y. (blue(y) & on(x,y))):2) at 0x7fd09a6f17d0>]"
      ]
     },
     "execution_count": 11,
     "metadata": {},
     "output_type": "execute_result"
    }
   ],
   "source": [
    "agent.pgm_model.ordered_models[0].factors"
   ]
  },
  {
   "cell_type": "code",
   "execution_count": 4,
   "metadata": {},
   "outputs": [
    {
     "name": "stdout",
     "output_type": "stream",
     "text": [
      "no correction ['b0', 'b8'] 2 [all y.(yellow(y) -> exists x. (red(x) & on(x,y))), all x.(red(x) -> exists y. (yellow(y) & on(x,y)))]\n"
     ]
    }
   ],
   "source": [
    "w.update(\"put\", ['b0', 'b8'])\n",
    "agent.no_correction(\"put\", ['b0', 'b8'])"
   ]
  },
  {
   "cell_type": "code",
   "execution_count": 5,
   "metadata": {},
   "outputs": [
    {
     "name": "stdout",
     "output_type": "stream",
     "text": [
      "fix bw? False\n",
      "bw 0.5\n",
      "fix bw? False\n",
      "bw 0.5\n",
      "table correction? True\n",
      "{'V_3(all x.(orange(x) -> exists y. (purple(y) & on(x,y))))': 0.5, 'V_3(all y.(purple(y) -> exists x. (orange(x) & on(x,y))))': 0.5}\n",
      "Is the top object orange?\n",
      "yes\n"
     ]
    }
   ],
   "source": [
    "w.update(\"put\", ['b7', 'b0'])\n",
    "agent.get_correction(\"No, now you cannot put b2 in the tower because you must put orange blocks on purple blocks\", \"put\", ['b7', 'b0'])"
   ]
  },
  {
   "cell_type": "code",
   "execution_count": 8,
   "metadata": {},
   "outputs": [
    {
     "data": {
      "text/plain": [
       "[<DiscreteFactor representing phi(V_2(all y.(yellow(y) -> exists x. (red(x) & on(x,y)))):2, red(b0):2, yellow(b8):2, all y.(yellow(y) -> exists x. (red(x) & on(x,y))):2) at 0x7f74015a46d0>,\n",
       " <DiscreteFactor representing phi(V_2(all x.(red(x) -> exists y. (yellow(y) & on(x,y)))):2, red(b0):2, yellow(b8):2, all x.(red(x) -> exists y. (yellow(y) & on(x,y))):2) at 0x7f74015a4b90>,\n",
       " <DiscreteFactor representing phi(V_1(all y.(yellow(y) -> exists x. (red(x) & on(x,y)))):2, red(b7):2, yellow(b8):2, all y.(yellow(y) -> exists x. (red(x) & on(x,y))):2) at 0x7f74015f6910>,\n",
       " <DiscreteFactor representing phi(V_1(all x.(red(x) -> exists y. (yellow(y) & on(x,y)))):2, red(b7):2, yellow(b8):2, all x.(red(x) -> exists y. (yellow(y) & on(x,y))):2) at 0x7f74015f6fd0>,\n",
       " <pgmpy.factors.continuous.ContinuousFactor.ContinuousFactor at 0x7f74015f6d10>,\n",
       " <pgmpy.factors.continuous.ContinuousFactor.ContinuousFactor at 0x7f74015f6b90>,\n",
       " <pgmpy.factors.continuous.ContinuousFactor.ContinuousFactor at 0x7f74015f6b50>,\n",
       " <DiscreteFactor representing phi(corr_2:2, V_2(all x.(red(x) -> exists y. (yellow(y) & on(x,y)))):2, V_2(all y.(yellow(y) -> exists x. (red(x) & on(x,y)))):2) at 0x7f740155e2d0>,\n",
       " <DiscreteFactor representing phi(all x.(red(x) -> exists y. (yellow(y) & on(x,y))):2) at 0x7f74015f6dd0>,\n",
       " <DiscreteFactor representing phi(all y.(yellow(y) -> exists x. (red(x) & on(x,y))):2) at 0x7f74015f6e50>,\n",
       " <DiscreteFactor representing phi(corr_1:2, V_1(all x.(red(x) -> exists y. (yellow(y) & on(x,y)))):2, V_1(all y.(yellow(y) -> exists x. (red(x) & on(x,y)))):2) at 0x7f74015f6e90>]"
      ]
     },
     "execution_count": 8,
     "metadata": {},
     "output_type": "execute_result"
    }
   ],
   "source": [
    "agent.pgm_model.models[0].factors"
   ]
  },
  {
   "cell_type": "code",
   "execution_count": 9,
   "metadata": {},
   "outputs": [
    {
     "data": {
      "text/plain": [
       "[<pgmpy.factors.continuous.ContinuousFactor.ContinuousFactor at 0x7f74015f6810>,\n",
       " <pgmpy.factors.continuous.ContinuousFactor.ContinuousFactor at 0x7f7401576050>,\n",
       " <pgmpy.factors.continuous.ContinuousFactor.ContinuousFactor at 0x7f7401567e50>,\n",
       " <DiscreteFactor representing phi(V_3(all x.(orange(x) -> exists y. (purple(y) & on(x,y)))):2, orange(b7):2, purple(b0):2, orange(b2):2, purple(b2):2, all x.(orange(x) -> exists y. (purple(y) & on(x,y))):2) at 0x7f7401576910>,\n",
       " <DiscreteFactor representing phi(corr_3:2, V_3(all x.(orange(x) -> exists y. (purple(y) & on(x,y)))):2, V_3(all y.(purple(y) -> exists x. (orange(x) & on(x,y)))):2) at 0x7f7401567b90>,\n",
       " <DiscreteFactor representing phi(V_3(all y.(purple(y) -> exists x. (orange(x) & on(x,y)))):2, orange(b7):2, purple(b0):2, orange(b2):2, purple(b2):2, all y.(purple(y) -> exists x. (orange(x) & on(x,y))):2) at 0x7f74840dced0>,\n",
       " <DiscreteFactor representing phi(all x.(orange(x) -> exists y. (purple(y) & on(x,y))):2) at 0x7f7401576450>,\n",
       " <pgmpy.factors.continuous.ContinuousFactor.ContinuousFactor at 0x7f740155e1d0>,\n",
       " <DiscreteFactor representing phi(all y.(purple(y) -> exists x. (orange(x) & on(x,y))):2) at 0x7f7401576550>]"
      ]
     },
     "execution_count": 9,
     "metadata": {},
     "output_type": "execute_result"
    }
   ],
   "source": [
    "agent.pgm_model.models[1].factors"
   ]
  },
  {
   "cell_type": "code",
   "execution_count": 7,
   "metadata": {},
   "outputs": [
    {
     "name": "stdout",
     "output_type": "stream",
     "text": [
      "['F(b4)', 'purple(b4)']\n",
      "['V_2(all y.(purple(y) -> exists x. (orange(x) & on(x,y))))', 'orange(b3)', 'purple(b4)', 'all y.(purple(y) -> exists x. (orange(x) & on(x,y)))']\n",
      "['all x.(orange(x) -> exists y. (purple(y) & on(x,y)))']\n",
      "['F(b3)', 'orange(b3)']\n",
      "['F(b4)', 'purple(b4)']\n",
      "['F(b9)', 'orange(b9)']\n",
      "['V_2(all x.(orange(x) -> exists y. (purple(y) & on(x,y))))', 'orange(b3)', 'purple(b4)', 'all x.(orange(x) -> exists y. (purple(y) & on(x,y)))']\n",
      "['all y.(purple(y) -> exists x. (orange(x) & on(x,y)))']\n",
      "['corr_2', 'V_2(all x.(orange(x) -> exists y. (purple(y) & on(x,y))))', 'V_2(all y.(purple(y) -> exists x. (orange(x) & on(x,y))))']\n",
      "['corr_1', 'V_1(all x.(orange(x) -> exists y. (purple(y) & on(x,y))))', 'V_1(all y.(purple(y) -> exists x. (orange(x) & on(x,y))))']\n",
      "['V_1(all y.(purple(y) -> exists x. (orange(x) & on(x,y))))', 'orange(b9)', 'purple(b4)', 'all y.(purple(y) -> exists x. (orange(x) & on(x,y)))']\n",
      "['V_1(all x.(orange(x) -> exists y. (purple(y) & on(x,y))))', 'orange(b9)', 'purple(b4)', 'all x.(orange(x) -> exists y. (purple(y) & on(x,y)))']\n"
     ]
    }
   ],
   "source": [
    "for factor in agent.pgm_model.models[0].factors:\n",
    "    print(factor.scope())"
   ]
  },
  {
   "cell_type": "code",
   "execution_count": 8,
   "metadata": {},
   "outputs": [],
   "source": [
    "def is_equal(factor1, factor2):\n",
    "    if type(factor1) != type(factor2):\n",
    "        return False\n",
    "    scope1 = factor1.scope()\n",
    "    scope2 = factor2.scope()\n",
    "    \n",
    "    return len(scope1) == len(scope2) and all([n1 == n2 for n1, n2 in zip(scope1, scope2)])"
   ]
  },
  {
   "cell_type": "code",
   "execution_count": 9,
   "metadata": {},
   "outputs": [
    {
     "name": "stdout",
     "output_type": "stream",
     "text": [
      "False\n",
      "True\n"
     ]
    }
   ],
   "source": [
    "factors = agent.pgm_model.models[0].factors\n",
    "factor1 = factors[0]\n",
    "factor2 = factors[1]\n",
    "factor3 = factors[4]\n",
    "print(is_equal(factor1, factor2))\n",
    "print(is_equal(factor1, factor3))"
   ]
  },
  {
   "cell_type": "code",
   "execution_count": 11,
   "metadata": {},
   "outputs": [
    {
     "data": {
      "text/plain": [
       "False"
      ]
     },
     "execution_count": 11,
     "metadata": {},
     "output_type": "execute_result"
    }
   ],
   "source": [
    "any([])"
   ]
  },
  {
   "cell_type": "code",
   "execution_count": 3,
   "metadata": {},
   "outputs": [
    {
     "name": "stdout",
     "output_type": "stream",
     "text": [
      "Parsing domain /home/mappelgren/Desktop/correcting-agent/data/domain/blocks-domain.pddl\n",
      "Parsing problem /home/mappelgren/Desktop/correcting-agent/data/big_tworules_random_colours/big_tworules_random_colours41/problem1.pddl\n"
     ]
    }
   ],
   "source": [
    "w = RandomColoursWorld(problem_directory=\"big_tworules_random_colours/big_tworules_random_colours41\", problem_number=1)\n",
    "teacher = TeacherAgent()\n",
    "agent = PGMCorrectingAgent(w, teacher=teacher, inference_type=InferenceType.BeliefPropagation)\n",
    "\n"
   ]
  },
  {
   "cell_type": "code",
   "execution_count": 4,
   "metadata": {},
   "outputs": [
    {
     "name": "stdout",
     "output_type": "stream",
     "text": [
      "fix bw? False\n",
      "bw 0.5\n",
      "fix bw? False\n",
      "bw 0.5\n",
      "table correction? False\n",
      "{'V_1(all x.(blue(x) -> exists y. (green(y) & on(x,y))))': 1.0, 'V_1(all y.(green(y) -> exists x. (blue(x) & on(x,y))))': 0.0}\n"
     ]
    },
    {
     "name": "stderr",
     "output_type": "stream",
     "text": [
      "/home/mappelgren/Desktop/pgmpy/pgmpy/factors/discrete/DiscreteFactor.py:621: FutureWarning: Using a non-tuple sequence for multidimensional indexing is deprecated; use `arr[tuple(seq)]` instead of `arr[seq]`. In the future this will be interpreted as an array index, `arr[np.array(seq)]`, which will result either in an error or a different result.\n",
      "  phi.values = phi.values[slice_]\n",
      "/home/mappelgren/Desktop/pgmpy/pgmpy/factors/discrete/DiscreteFactor.py:633: FutureWarning: Using a non-tuple sequence for multidimensional indexing is deprecated; use `arr[tuple(seq)]` instead of `arr[seq]`. In the future this will be interpreted as an array index, `arr[np.array(seq)]`, which will result either in an error or a different result.\n",
      "  phi1.values = phi1.values[slice_]\n",
      "/home/mappelgren/Desktop/pgmpy/pgmpy/factors/discrete/DiscreteFactor.py:708: RuntimeWarning: invalid value encountered in true_divide\n",
      "  phi.values = phi.values / phi1.values\n",
      "/home/mappelgren/Desktop/pgmpy/pgmpy/factors/discrete/DiscreteFactor.py:698: FutureWarning: Using a non-tuple sequence for multidimensional indexing is deprecated; use `arr[tuple(seq)]` instead of `arr[seq]`. In the future this will be interpreted as an array index, `arr[np.array(seq)]`, which will result either in an error or a different result.\n",
      "  phi1.values = phi1.values[slice_]\n"
     ]
    }
   ],
   "source": [
    "w.update(\"put\", ['b9', 't0'])\n",
    "agent.get_correction(\"no, put blue blocks on green blocks\", \"put\", ['b9', 't0'])"
   ]
  },
  {
   "cell_type": "code",
   "execution_count": null,
   "metadata": {},
   "outputs": [],
   "source": []
  }
 ],
 "metadata": {
  "kernelspec": {
   "display_name": "Python 3",
   "language": "python",
   "name": "python3"
  },
  "language_info": {
   "codemirror_mode": {
    "name": "ipython",
    "version": 3
   },
   "file_extension": ".py",
   "mimetype": "text/x-python",
   "name": "python",
   "nbconvert_exporter": "python",
   "pygments_lexer": "ipython3",
   "version": "3.7.4"
  }
 },
 "nbformat": 4,
 "nbformat_minor": 2
}

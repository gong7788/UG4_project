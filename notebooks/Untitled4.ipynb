{
 "cells": [
  {
   "cell_type": "code",
   "execution_count": 82,
   "metadata": {},
   "outputs": [],
   "source": [
    "from correctingagent.world import world\n",
    "from correctingagent.agents import agents\n",
    "from correctingagent.agents.teacher import TeacherAgent\n",
    "from correctingagent.agents.agents import CorrectingAgent\n",
    "import os\n",
    "import pandas as pd\n",
    "import pickle\n",
    "from correctingagent.experiments.evaluation import test_colour_model, ResultsFile\n",
    "import configparser\n",
    "import logging\n",
    "from collections import defaultdict\n",
    "from correctingagent.models import prob_model\n",
    "import sqlalchemy\n",
    "from correctingagent.util.util import config_location, get_config, get_neural_config, get_kde_config\n",
    "from pgmpy.models import FactorGraph\n",
    "from pgmpy.factors.discrete import TabularCPD, DiscreteFactor\n",
    "from pgmpy.inference import VariableElimination\n",
    "from KDEpy import NaiveKDE\n",
    "from pgmpy.factors.continuous import ContinuousFactor\n",
    "from correctingagent.models.prob_model import KDEColourModel\n",
    "import nltk\n",
    "from nltk.sem import Valuation, Model\n",
    "import numpy as np\n",
    "from collections import defaultdict\n",
    "from pgmpy.factors import factor_product"
   ]
  },
  {
   "cell_type": "code",
   "execution_count": 2,
   "metadata": {},
   "outputs": [],
   "source": [
    "# def get_agent(config):\n",
    "#     if config['agent'] == 'agents.CorrectingAgent':\n",
    "#         agent = PGMCorrectingAgent\n",
    "#     elif config['agent'] == 'agents.RandomAgent':\n",
    "#         agent = agents.RandomAgent\n",
    "#     elif config['agent'] == 'agents.NeuralCorrectingAgent':\n",
    "#         agent = agents.NeuralCorrectingAgent\n",
    "#     elif config['agent'] == 'agents.PerfectColoursAgent':\n",
    "#         agent = agents.PerfectColoursAgent\n",
    "#     elif config['agent'] == 'agents.NoLanguageAgent':\n",
    "#         agent = agents.NoLanguageAgent\n",
    "#     else:\n",
    "#         raise ValueError('invalid agent name')\n",
    "#     return agent\n",
    "\n",
    "\n",
    "# class PGMCorrectingAgent(CorrectingAgent):\n",
    "#     pass"
   ]
  },
  {
   "cell_type": "code",
   "execution_count": 3,
   "metadata": {},
   "outputs": [],
   "source": [
    "# config = get_config()\n",
    "# data_location = config['data_location']\n",
    "# db_location = config['db_location']\n",
    "# handler = logging.StreamHandler()\n",
    "# logger = logging.getLogger('dialogue')\n",
    "# logger.setLevel(logging.INFO)\n",
    "# logger.addHandler(handler)\n",
    "\n",
    "# def run_experiment(config_name='DEFAULT', debug=False, neural_config='DEFAULT'):\n",
    "\n",
    "#     if debug:\n",
    "#         agent_logger.setLevel(logging.DEBUG)\n",
    "\n",
    "#     config = configparser.ConfigParser()\n",
    "#     config_file = os.path.join(config_location, 'experiments.ini')\n",
    "#     config.read(config_file)\n",
    "#     config = config[config_name]\n",
    "#     problem_name = config['scenario_suite']\n",
    "#     threshold = config.getfloat('threshold')\n",
    "#     update_negative = config.getboolean('update_negative')\n",
    "#     Agent = get_agent(config)\n",
    "#     vis = config.getboolean('visualise')\n",
    "#     update_once = config.getboolean('update_once')\n",
    "#     colour_model_type = config['colour_model_type']\n",
    "#     no_correction_update = config.getboolean('no_correction_update')\n",
    "\n",
    "\n",
    "\n",
    "#     if debug and not 'Random' in config['agent']:\n",
    "#         debugger = Debug(config)\n",
    "\n",
    "\n",
    "#     total_reward = 0\n",
    "#     problem_dir = os.path.join(data_location, problem_name)\n",
    "#     problems = os.listdir(problem_dir)\n",
    "#     w = world.PDDLWorld('blocks-domain.pddl', os.path.join(problem_dir, problems[0]))\n",
    "#     teacher = TeacherAgent()\n",
    "#     if Agent in [agents.NeuralCorrectingAgent]:\n",
    "#         config_dict = get_neural_config(neural_config)\n",
    "#         agent = Agent(w, teacher=teacher, **config_dict)\n",
    "#     elif Agent in [agents.CorrectingAgent, agents.NoLanguageAgent]:\n",
    "#         if colour_model_type == 'kde':\n",
    "#             if neural_config is None:\n",
    "#                 neural_config = 'DEFAULT'\n",
    "#             model_config = get_kde_config(neural_config)\n",
    "#         else:\n",
    "#             model_config = {}\n",
    "#         agent = Agent(w, teacher=teacher, threshold=threshold, update_negative=update_negative, update_once=update_once, colour_model_type=colour_model_type, model_config=model_config)\n",
    "#     else:\n",
    "#         agent = Agent(w, teacher=teacher, threshold=threshold)\n",
    "\n",
    "\n",
    "#     print('Results for {}\\n'.format(problem_name))\n",
    "#     for problem in problems:\n",
    "#         w = world.PDDLWorld('blocks-domain.pddl', os.path.join(problem_dir, problem))\n",
    "#         agent.new_world(w)\n",
    "#         while not w.test_success():\n",
    "#             plan = agent.plan()\n",
    "#             for a, args in plan:\n",
    "#                 if a == 'reach-goal':\n",
    "#                     break\n",
    "#                 w.update(a, args)\n",
    "#                 if vis:\n",
    "#                     w.draw()\n",
    "#                 correction = agent.teacher.correction(w)\n",
    "#                 if correction:\n",
    "#                     logger.info(\"T: \" + correction)\n",
    "#                     agent.get_correction(correction, a, args)\n",
    "#                     if vis:\n",
    "#                         w.draw()\n",
    "#                     break\n",
    "#                 elif no_correction_update:\n",
    "#                     agent.no_correction(a, args)\n",
    "#         if debug and not 'Random' in config['agent']:\n",
    "#             debugger.cm_confusion(agent)\n",
    "#             debugger.update_cm_params(agent)\n",
    "\n",
    "\n",
    "\n",
    "#         total_reward += w.reward\n",
    "#         print('{} reward: {}'.format(problem, w.reward))\n",
    "\n",
    "#         print('{} reward: {}\\n'.format(problem, w.reward))\n",
    "#         print('{} cumulative reward: {}\\n'.format(problem, total_reward))\n",
    "\n",
    "\n",
    "#     print('total reward: {}\\n'.format(total_reward))\n",
    "\n",
    "#     return results_file.name"
   ]
  },
  {
   "cell_type": "code",
   "execution_count": 4,
   "metadata": {},
   "outputs": [],
   "source": [
    "# run_experiment(config_name='simple_kde', neural_config='fixed_bw_0.2')"
   ]
  },
  {
   "cell_type": "code",
   "execution_count": 140,
   "metadata": {},
   "outputs": [],
   "source": [
    "cm = KDEColourModel('blue')\n",
    "cm2 = KDEColourModel('red')\n",
    "# cm.update([1,0,0], 0.9)\n",
    "# cm.update([0.7, 0.2, 0], 0.8)\n",
    "\n",
    "# cm2.update([0,0,1], 0.9)\n",
    "# cm2.update([0.5, 0.1, 0.9], 0.8)\n",
    "KDE_colour_model = lambda r,g,b,c: cm.p(c, [r,g,b])\n",
    "KDE_colour_model2 = lambda r,g,b,c:cm2.p(c, [r,g,b])\n",
    "\n",
    "blue_cm = ContinuousFactor(['r2', 'g2', 'b2', 'blue'], KDE_colour_model)\n",
    "red_cm = ContinuousFactor(['r1', 'g1', 'b1', 'red'], KDE_colour_model2)"
   ]
  },
  {
   "cell_type": "code",
   "execution_count": 93,
   "metadata": {},
   "outputs": [],
   "source": []
  },
  {
   "cell_type": "code",
   "execution_count": 7,
   "metadata": {},
   "outputs": [
    {
     "name": "stdout",
     "output_type": "stream",
     "text": [
      "0.9555148089163196\n",
      "0.0020056121625727052\n"
     ]
    }
   ],
   "source": [
    "print(blue_cm.assignment(1,0,0, 1))\n",
    "print(red_cm.assignment(1,0,0,1))\n"
   ]
  },
  {
   "cell_type": "code",
   "execution_count": 8,
   "metadata": {},
   "outputs": [],
   "source": [
    "def create_rules(colour1, colour2):\n",
    "    r1 = 'all x.({}(x) -> exists y. ({}(y) & on(x,y)))'.format(colour1, colour2)\n",
    "    r2 = 'all y.({}(y) -> exists x. ({}(x) & on(x,y)))'.format(colour2, colour1)\n",
    "    return r1, r2\n",
    "\n",
    "def evaluate_rule(colour1, value1, colour2, value2, rule):\n",
    "    c1_set = set()\n",
    "    c2_set = set()\n",
    "    if value1 == 1:\n",
    "        c1_set.add('o1')\n",
    "    if value2 == 1:\n",
    "        c2_set.add('o2')\n",
    "    v = [(colour1, c1_set), (colour2, c2_set),\n",
    "        ('on', set([('o1', 'o2')]))]\n",
    "    \n",
    "    val = Valuation(v)\n",
    "    dom = val.domain\n",
    "    m = Model(dom, val)\n",
    "    g = nltk.sem.Assignment(dom)\n",
    "    return m.evaluate(rule, g)"
   ]
  },
  {
   "cell_type": "code",
   "execution_count": 9,
   "metadata": {},
   "outputs": [],
   "source": [
    "r1, r2 = create_rules('red', 'blue')"
   ]
  },
  {
   "cell_type": "code",
   "execution_count": 10,
   "metadata": {},
   "outputs": [
    {
     "data": {
      "text/plain": [
       "False"
      ]
     },
     "execution_count": 10,
     "metadata": {},
     "output_type": "execute_result"
    }
   ],
   "source": [
    "evaluate_rule('red', 1, 'blue', 0, r1)"
   ]
  },
  {
   "cell_type": "code",
   "execution_count": 103,
   "metadata": {},
   "outputs": [],
   "source": [
    "def generate_CPD(rule, c1, c2):\n",
    "    cpd_line_corr0 = []\n",
    "    cpd_line_corr1 = []\n",
    "    \n",
    "    cpd = np.zeros((2,2))\n",
    "    for i in range(2):\n",
    "        for j in range(2):\n",
    "            for r in range(2):\n",
    "                result = r * (1-int(evaluate_rule(c1, i, c2, j, rule)))\n",
    "                cpd_line_corr1.append(result)\n",
    "                cpd_line_corr0.append(1-result)\n",
    "    \n",
    "    return [cpd_line_corr0, cpd_line_corr1]\n",
    "\n",
    "def or_CPD():\n",
    "    cpd_line1 = []\n",
    "    cpd_line0 = []\n",
    "    cpd = np.zeros((2,2))\n",
    "    for i in range(2):\n",
    "        for j in range(2):\n",
    "            cpd_line1.append(int(i or j))\n",
    "            cpd_line0.append(1-int(i or j))\n",
    "    return [cpd_line0, cpd_line1]"
   ]
  },
  {
   "cell_type": "code",
   "execution_count": 110,
   "metadata": {},
   "outputs": [
    {
     "data": {
      "text/plain": [
       "[[1, 0, 0, 0], [0, 1, 1, 1]]"
      ]
     },
     "execution_count": 110,
     "metadata": {},
     "output_type": "execute_result"
    }
   ],
   "source": [
    "table = generate_CPD(r1, 'red', 'blue')\n",
    "table\n",
    "table2 = generate_CPD(r2, 'red', 'blue')\n",
    "table2\n",
    "correction_table = or_CPD()\n",
    "correction_table"
   ]
  },
  {
   "cell_type": "code",
   "execution_count": 141,
   "metadata": {},
   "outputs": [],
   "source": [
    "violated_r1 = TabularCPD('violated_r1', 2, table, evidence=['red', 'blue', 'rule1'], evidence_card = [2,2,2])\n",
    "violated_r1_factor = violated_r1.to_factor()\n",
    "violated_r2 = TabularCPD('violated_r2', 2, table2, evidence=['red', 'blue', 'rule2'], evidence_card = [2,2,2])\n",
    "violated_r2_factor = violated_r2.to_factor()\n",
    "correction = TabularCPD('corr', 2, correction_table, evidence=['violated_r1', 'violated_r2'], evidence_card=[2,2])\n",
    "correction_factor = correction.to_factor()"
   ]
  },
  {
   "cell_type": "code",
   "execution_count": 14,
   "metadata": {},
   "outputs": [
    {
     "name": "stdout",
     "output_type": "stream",
     "text": [
      "+--------+--------+--------+--------+--------+--------+--------+--------+--------+\n",
      "| red    | red_0  | red_0  | red_0  | red_0  | red_1  | red_1  | red_1  | red_1  |\n",
      "+--------+--------+--------+--------+--------+--------+--------+--------+--------+\n",
      "| blue   | blue_0 | blue_0 | blue_1 | blue_1 | blue_0 | blue_0 | blue_1 | blue_1 |\n",
      "+--------+--------+--------+--------+--------+--------+--------+--------+--------+\n",
      "| r      | r_0    | r_1    | r_0    | r_1    | r_0    | r_1    | r_0    | r_1    |\n",
      "+--------+--------+--------+--------+--------+--------+--------+--------+--------+\n",
      "| corr_0 | 1.0    | 1.0    | 1.0    | 1.0    | 1.0    | 0.0    | 1.0    | 1.0    |\n",
      "+--------+--------+--------+--------+--------+--------+--------+--------+--------+\n",
      "| corr_1 | 0.0    | 0.0    | 0.0    | 0.0    | 0.0    | 1.0    | 0.0    | 0.0    |\n",
      "+--------+--------+--------+--------+--------+--------+--------+--------+--------+\n"
     ]
    }
   ],
   "source": [
    "print(corr)"
   ]
  },
  {
   "cell_type": "code",
   "execution_count": 155,
   "metadata": {},
   "outputs": [],
   "source": [
    "G = FactorGraph()\n",
    "G.add_nodes_from(['corr', 'violated_r1', 'violated_r2', \n",
    "                  'r1', 'g1', 'b1', 'r2', 'g2', 'b2', \n",
    "                  'red', 'blue', 'rule1', 'rule2'])\n",
    "G.add_factors(correction_factor)\n",
    "G.add_factors(violated_r1_factor)\n",
    "G.add_factors(violated_r2_factor)\n",
    "#red_cm.variables = ['r1', 'g1', 'b1', 'red']\n",
    "red_cm.cardinality = [1, 1, 1, 2]\n",
    "G.add_factors(red_cm)\n",
    "#blue_cm.variables = ['r2', 'g2', 'b2', 'blue']\n",
    "blue_cm.cardinality = [1,1,1,2]\n",
    "G.add_factors(blue_cm)\n",
    "#G.add_nodes_from([corr_factor, red_cm, blue_cm])\n",
    "G.add_edges_from([('corr', correction_factor), ('violated_r2', correction_factor), ('violated_r1', correction_factor)])\n",
    "\n",
    "G.add_edges_from([('red', violated_r1_factor), ('blue', violated_r1_factor), \n",
    "                  ('rule1', violated_r1_factor), ('violated_r1', violated_r1_factor)])\n",
    "\n",
    "G.add_edges_from([('violated_r2', violated_r2_factor), ('red', violated_r2_factor),\n",
    "                 ('blue', violated_r2_factor), ('rule2', violated_r2_factor)])\n",
    "\n",
    "G.add_edges_from([('r1', red_cm), ('g1', red_cm), ('b1', red_cm), ('red', red_cm)])\n",
    "G.add_edges_from([('r2', blue_cm), ('g2', blue_cm), ('b2', blue_cm), ('blue', blue_cm)])"
   ]
  },
  {
   "cell_type": "code",
   "execution_count": 156,
   "metadata": {},
   "outputs": [
    {
     "data": {
      "text/plain": [
       "['corr',\n",
       " 'violated_r1',\n",
       " 'violated_r2',\n",
       " 'r1',\n",
       " 'g1',\n",
       " 'b1',\n",
       " 'r2',\n",
       " 'g2',\n",
       " 'b2',\n",
       " 'red',\n",
       " 'blue',\n",
       " 'rule1',\n",
       " 'rule2',\n",
       " <DiscreteFactor representing phi(corr:2, violated_r1:2, violated_r2:2) at 0x7f70149c6860>,\n",
       " <DiscreteFactor representing phi(violated_r1:2, red:2, blue:2, rule1:2) at 0x7f7014955ef0>,\n",
       " <DiscreteFactor representing phi(violated_r2:2, red:2, blue:2, rule2:2) at 0x7f70149c6898>,\n",
       " <pgmpy.factors.continuous.ContinuousFactor.ContinuousFactor at 0x7f70149550b8>,\n",
       " <pgmpy.factors.continuous.ContinuousFactor.ContinuousFactor at 0x7f7014955a90>]"
      ]
     },
     "execution_count": 156,
     "metadata": {},
     "output_type": "execute_result"
    }
   ],
   "source": [
    "G.nodes()"
   ]
  },
  {
   "cell_type": "code",
   "execution_count": 157,
   "metadata": {},
   "outputs": [],
   "source": [
    "inference = VariableElimination(G)"
   ]
  },
  {
   "cell_type": "code",
   "execution_count": 159,
   "metadata": {},
   "outputs": [
    {
     "name": "stdout",
     "output_type": "stream",
     "text": [
      "0\n",
      "['violated_r1', 'red', 'blue', 'rule1']\n",
      "['violated_r1', 'violated_r2']\n",
      "1\n",
      "['red', 'blue', 'rule1', 'violated_r2']\n",
      "['violated_r2', 'red', 'blue', 'rule2']\n",
      "['red']\n",
      "['blue']\n",
      "['red', 'blue', 'rule1', 'rule2']\n",
      "['red']\n",
      "['blue']\n",
      "['red', 'blue', 'rule1', 'rule2']\n",
      "['red']\n",
      "['blue']\n",
      "['red', 'blue', 'rule1', 'rule2']\n",
      "['red']\n",
      "['blue']\n",
      "['red', 'blue', 'rule1', 'rule2']\n",
      "+-------+------------+\n",
      "| red   |   phi(red) |\n",
      "+=======+============+\n",
      "| red_0 |     0.5000 |\n",
      "+-------+------------+\n",
      "| red_1 |     0.5000 |\n",
      "+-------+------------+\n",
      "+--------+-------------+\n",
      "| blue   |   phi(blue) |\n",
      "+========+=============+\n",
      "| blue_0 |      0.5000 |\n",
      "+--------+-------------+\n",
      "| blue_1 |      0.5000 |\n",
      "+--------+-------------+\n",
      "+---------+--------------+\n",
      "| rule1   |   phi(rule1) |\n",
      "+=========+==============+\n",
      "| rule1_0 |       0.2500 |\n",
      "+---------+--------------+\n",
      "| rule1_1 |       0.7500 |\n",
      "+---------+--------------+\n",
      "+---------+--------------+\n",
      "| rule2   |   phi(rule2) |\n",
      "+=========+==============+\n",
      "| rule2_0 |       0.2500 |\n",
      "+---------+--------------+\n",
      "| rule2_1 |       0.7500 |\n",
      "+---------+--------------+\n"
     ]
    }
   ],
   "source": [
    "q = inference.query(variables=['rule1', 'rule2', 'red', 'blue'], \n",
    "                evidence={'r1':0, 'g1':0.5, 'b1':0.8, 'corr':1, 'r2':1, 'g2':0.8, 'b2':0.4}, \n",
    "                elimination_order=['violated_r1', 'violated_r2'])\n",
    "print(q['red'])\n",
    "print(q['blue'])\n",
    "print(q['rule1'])\n",
    "print(q['rule2'])"
   ]
  },
  {
   "cell_type": "code",
   "execution_count": null,
   "metadata": {},
   "outputs": [],
   "source": []
  }
 ],
 "metadata": {
  "kernelspec": {
   "display_name": "Python 3",
   "language": "python",
   "name": "python3"
  },
  "language_info": {
   "codemirror_mode": {
    "name": "ipython",
    "version": 3
   },
   "file_extension": ".py",
   "mimetype": "text/x-python",
   "name": "python",
   "nbconvert_exporter": "python",
   "pygments_lexer": "ipython3",
   "version": "3.7.1"
  }
 },
 "nbformat": 4,
 "nbformat_minor": 2
}

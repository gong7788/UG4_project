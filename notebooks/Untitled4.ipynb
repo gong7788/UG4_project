{
 "cells": [
  {
   "cell_type": "code",
   "execution_count": 1,
   "metadata": {},
   "outputs": [],
   "source": [
    "from correctingagent.world.world import *\n",
    "from correctingagent.agents.teacher import *\n",
    "from correctingagent.world.rules import Rule\n",
    "import os\n",
    "import correctingagent.pddl.ff as ff\n",
    "\n",
    "from pgmpy.factors.discrete import TabularCPD\n",
    "\n",
    "from correctingagent.models.pgmmodels import PGMModel, PGMPYInference\n",
    "from correctingagent.models.prob_model import KDEColourModel\n",
    "from correctingagent.world import rules\n",
    "from correctingagent.world.rules import RedOnBlueRule, CorrectionType\n"
   ]
  },
  {
   "cell_type": "code",
   "execution_count": 11,
   "metadata": {},
   "outputs": [
    {
     "name": "stdout",
     "output_type": "stream",
     "text": [
      "fix bw? False\n",
      "bw 0.5\n",
      "fix bw? False\n",
      "bw 0.5\n"
     ]
    }
   ],
   "source": [
    "pgm_model = PGMModel()\n",
    "\n",
    "red_cm = KDEColourModel('red')\n",
    "blue_cm = KDEColourModel('blue')\n",
    "\n",
    "time = 0\n",
    "red_on_blue_rules = rules.Rule.generate_red_on_blue_options('red', 'blue')\n",
    "\n",
    "violations = pgm_model.extend_model(red_on_blue_rules, red_cm, blue_cm, ['b1', 'b2'], time, correction_type=CorrectionType.TOWER)\n",
    "\n",
    "\n",
    "\n",
    "inference = PGMPYInference(pgm_model.model)\n",
    "new_model = inference.infer({}, {'F(b1)':[1,1,1], 'F(b2)':[0,0,0], f'corr_{time}':1})\n",
    "q = inference.query(violations)\n",
    "#\n",
    "# q = pgm_model.query(violations, [1, 1])\n",
    "\n",
    "assert(q[violations[0]] == 0.5)\n",
    "assert(q[violations[1]] == 0.5)\n"
   ]
  },
  {
   "cell_type": "code",
   "execution_count": 7,
   "metadata": {},
   "outputs": [],
   "source": [
    "f = q[violations[0]]"
   ]
  },
  {
   "cell_type": "code",
   "execution_count": 13,
   "metadata": {},
   "outputs": [
    {
     "data": {
      "text/plain": [
       "0.5"
      ]
     },
     "execution_count": 13,
     "metadata": {},
     "output_type": "execute_result"
    }
   ],
   "source": [
    "f.values[0]"
   ]
  },
  {
   "cell_type": "code",
   "execution_count": 3,
   "metadata": {},
   "outputs": [
    {
     "data": {
      "text/plain": [
       "{'V_0(all x.(red(x) -> exists y. (blue(y) & on(x,y))))': 0}"
      ]
     },
     "execution_count": 3,
     "metadata": {},
     "output_type": "execute_result"
    }
   ],
   "source": [
    "inference.belief_propagation.map_query(variables=['V_0(all x.(red(x) -> exists y. (blue(y) & on(x,y))))'], evidence=inference.evidence)"
   ]
  },
  {
   "cell_type": "code",
   "execution_count": 3,
   "metadata": {},
   "outputs": [
    {
     "ename": "AttributeError",
     "evalue": "'PGMPYInference' object has no attribute 'new_model'",
     "output_type": "error",
     "traceback": [
      "\u001b[0;31m---------------------------------------------------------------------------\u001b[0m",
      "\u001b[0;31mAttributeError\u001b[0m                            Traceback (most recent call last)",
      "\u001b[0;32m<ipython-input-3-a5c7c76be4b6>\u001b[0m in \u001b[0;36m<module>\u001b[0;34m\u001b[0m\n\u001b[0;32m----> 1\u001b[0;31m \u001b[0mmodel\u001b[0m \u001b[0;34m=\u001b[0m \u001b[0minference\u001b[0m\u001b[0;34m.\u001b[0m\u001b[0mnew_model\u001b[0m\u001b[0;34m\u001b[0m\u001b[0;34m\u001b[0m\u001b[0m\n\u001b[0m",
      "\u001b[0;31mAttributeError\u001b[0m: 'PGMPYInference' object has no attribute 'new_model'"
     ]
    }
   ],
   "source": [
    "model = inference.new_model"
   ]
  },
  {
   "cell_type": "code",
   "execution_count": 5,
   "metadata": {},
   "outputs": [
    {
     "data": {
      "text/plain": [
       "<pgmpy.models.FactorGraph.FactorGraph at 0x7f62a5170a50>"
      ]
     },
     "execution_count": 5,
     "metadata": {},
     "output_type": "execute_result"
    }
   ],
   "source": [
    "new_model"
   ]
  },
  {
   "cell_type": "code",
   "execution_count": 11,
   "metadata": {},
   "outputs": [],
   "source": []
  },
  {
   "cell_type": "code",
   "execution_count": 12,
   "metadata": {},
   "outputs": [
    {
     "name": "stdout",
     "output_type": "stream",
     "text": [
      "['F(b1)', 'red(b1)']\n",
      "['red(b1)']\n",
      "<class 'pgmpy.factors.continuous.ContinuousFactor.ContinuousFactor'>\n",
      "[]\n",
      "<class 'pgmpy.factors.continuous.ContinuousFactor.ContinuousFactor'>\n"
     ]
    }
   ],
   "source": [
    "a = pgm_model.model.factors[0]\n",
    "print(a.scope())\n",
    "b = a.reduce([('F(b1)', [1,1,1])], inplace=False)\n",
    "print(b.scope())\n",
    "print(type(b))\n",
    "c = b.reduce([('red(b1)', 1)], inplace=False)\n",
    "print(c.scope())\n",
    "print(type(c))\n",
    "g = a.reduce([('red(b1)', 1)], inplace=False)\n",
    "\n",
    "d = g.reduce([('F(b1)', [1,1,1])], inplace=False)"
   ]
  },
  {
   "cell_type": "code",
   "execution_count": 18,
   "metadata": {},
   "outputs": [
    {
     "ename": "TypeError",
     "evalue": "<lambda>() missing 2 required positional arguments: 'rgb' and 'c'",
     "output_type": "error",
     "traceback": [
      "\u001b[0;31m---------------------------------------------------------------------------\u001b[0m",
      "\u001b[0;31mTypeError\u001b[0m                                 Traceback (most recent call last)",
      "\u001b[0;32m<ipython-input-18-258d0dc5205a>\u001b[0m in \u001b[0;36m<module>\u001b[0;34m\u001b[0m\n\u001b[0;32m----> 1\u001b[0;31m \u001b[0md\u001b[0m\u001b[0;34m.\u001b[0m\u001b[0mdistribution\u001b[0m\u001b[0;34m.\u001b[0m\u001b[0m_pdf\u001b[0m\u001b[0;34m(\u001b[0m\u001b[0;34m)\u001b[0m\u001b[0;34m\u001b[0m\u001b[0;34m\u001b[0m\u001b[0m\n\u001b[0m",
      "\u001b[0;32m~/Desktop/pgmpy/pgmpy/factors/distributions/CustomDistribution.py\u001b[0m in \u001b[0;36mreduced_pdf\u001b[0;34m(*args, **kwargs)\u001b[0m\n\u001b[1;32m    250\u001b[0m                                 reduced_kwargs.values()]\n\u001b[1;32m    251\u001b[0m \u001b[0;34m\u001b[0m\u001b[0m\n\u001b[0;32m--> 252\u001b[0;31m             \u001b[0;32mreturn\u001b[0m \u001b[0mpdf\u001b[0m\u001b[0;34m(\u001b[0m\u001b[0;34m*\u001b[0m\u001b[0mreduced_args\u001b[0m\u001b[0;34m,\u001b[0m \u001b[0;34m**\u001b[0m\u001b[0mreduced_kwargs\u001b[0m\u001b[0;34m)\u001b[0m\u001b[0;34m\u001b[0m\u001b[0;34m\u001b[0m\u001b[0m\n\u001b[0m\u001b[1;32m    253\u001b[0m \u001b[0;34m\u001b[0m\u001b[0m\n\u001b[1;32m    254\u001b[0m         \u001b[0mphi\u001b[0m\u001b[0;34m.\u001b[0m\u001b[0mvariables\u001b[0m \u001b[0;34m=\u001b[0m \u001b[0mvar_to_keep\u001b[0m\u001b[0;34m\u001b[0m\u001b[0;34m\u001b[0m\u001b[0m\n",
      "\u001b[0;32m~/Desktop/pgmpy/pgmpy/factors/distributions/CustomDistribution.py\u001b[0m in \u001b[0;36mreduced_pdf\u001b[0;34m(*args, **kwargs)\u001b[0m\n\u001b[1;32m    250\u001b[0m                                 reduced_kwargs.values()]\n\u001b[1;32m    251\u001b[0m \u001b[0;34m\u001b[0m\u001b[0m\n\u001b[0;32m--> 252\u001b[0;31m             \u001b[0;32mreturn\u001b[0m \u001b[0mpdf\u001b[0m\u001b[0;34m(\u001b[0m\u001b[0;34m*\u001b[0m\u001b[0mreduced_args\u001b[0m\u001b[0;34m,\u001b[0m \u001b[0;34m**\u001b[0m\u001b[0mreduced_kwargs\u001b[0m\u001b[0;34m)\u001b[0m\u001b[0;34m\u001b[0m\u001b[0;34m\u001b[0m\u001b[0m\n\u001b[0m\u001b[1;32m    253\u001b[0m \u001b[0;34m\u001b[0m\u001b[0m\n\u001b[1;32m    254\u001b[0m         \u001b[0mphi\u001b[0m\u001b[0;34m.\u001b[0m\u001b[0mvariables\u001b[0m \u001b[0;34m=\u001b[0m \u001b[0mvar_to_keep\u001b[0m\u001b[0;34m\u001b[0m\u001b[0;34m\u001b[0m\u001b[0m\n",
      "\u001b[0;31mTypeError\u001b[0m: <lambda>() missing 2 required positional arguments: 'rgb' and 'c'"
     ]
    }
   ],
   "source": [
    "d.distribution._pdf()"
   ]
  },
  {
   "cell_type": "code",
   "execution_count": 27,
   "metadata": {},
   "outputs": [
    {
     "name": "stderr",
     "output_type": "stream",
     "text": [
      "/home/mappelgren/Desktop/pgmpy/pgmpy/factors/discrete/DiscreteFactor.py:621: FutureWarning: Using a non-tuple sequence for multidimensional indexing is deprecated; use `arr[tuple(seq)]` instead of `arr[seq]`. In the future this will be interpreted as an array index, `arr[np.array(seq)]`, which will result either in an error or a different result.\n",
      "  phi.values = phi.values[slice_]\n",
      "/home/mappelgren/Desktop/pgmpy/pgmpy/factors/discrete/DiscreteFactor.py:633: FutureWarning: Using a non-tuple sequence for multidimensional indexing is deprecated; use `arr[tuple(seq)]` instead of `arr[seq]`. In the future this will be interpreted as an array index, `arr[np.array(seq)]`, which will result either in an error or a different result.\n",
      "  phi1.values = phi1.values[slice_]\n"
     ]
    }
   ],
   "source": [
    "pgm_model.observe({'F(b1)':[1,1,1], 'F(b2)':[0,0,0], f'corr_{time}':1})\n",
    "pgm_model.infer()"
   ]
  },
  {
   "cell_type": "code",
   "execution_count": 13,
   "metadata": {},
   "outputs": [
    {
     "data": {
      "text/plain": [
       "{'V_0(all x.(red(x) -> exists y. (blue(y) & on(x,y))))': 0.5,\n",
       " 'V_0(all y.(blue(y) -> exists x. (red(x) & on(x,y))))': 0.5}"
      ]
     },
     "execution_count": 13,
     "metadata": {},
     "output_type": "execute_result"
    }
   ],
   "source": [
    "pgm_model.query(variables=violations)"
   ]
  },
  {
   "cell_type": "code",
   "execution_count": 14,
   "metadata": {},
   "outputs": [
    {
     "data": {
      "text/plain": [
       "{'corr_0': 1}"
      ]
     },
     "execution_count": 14,
     "metadata": {},
     "output_type": "execute_result"
    }
   ],
   "source": [
    "inference.evidence"
   ]
  },
  {
   "cell_type": "code",
   "execution_count": 5,
   "metadata": {},
   "outputs": [],
   "source": [
    "from pgmpy.factors.discrete import TabularCPD\n",
    "from pgmpy.models import BayesianModel\n",
    "from pgmpy.inference import BeliefPropagation\n",
    "bayesian_model = BayesianModel([('A', 'J'), ('R', 'J'), ('J', 'Q'),\n",
    "                                 ('J', 'L'), ('G', 'L')])\n",
    "cpd_a = TabularCPD('A', 2, [[0.2], [0.8]])\n",
    "cpd_r = TabularCPD('R', 2, [[0.4], [0.6]])\n",
    "cpd_j = TabularCPD('J', 2,\n",
    "                    [[0.9, 0.6, 0.7, 0.1],\n",
    "                     [0.1, 0.4, 0.3, 0.9]],\n",
    "                    ['R', 'A'], [2, 2])\n",
    "cpd_q = TabularCPD('Q', 2,\n",
    "                    [[0.9, 0.2],\n",
    "                     [0.1, 0.8]],\n",
    "                    ['J'], [2])\n",
    "cpd_l = TabularCPD('L', 2,\n",
    "                    [[0.9, 0.45, 0.8, 0.1],\n",
    "                     [0.1, 0.55, 0.2, 0.9]],\n",
    "                    ['G', 'J'], [2, 2])\n",
    "cpd_g = TabularCPD('G', 2, [[0.6], [0.4]])\n",
    "bayesian_model.add_cpds(cpd_a, cpd_r, cpd_j, cpd_q, cpd_l, cpd_g)\n",
    "belief_propagation = BeliefPropagation(bayesian_model)\n",
    "bp = belief_propagation.map_query(variables=['J', 'Q'],\n",
    "                              evidence={'A': 0, 'R': 0, 'G': 0, 'L': 1})\n"
   ]
  },
  {
   "cell_type": "code",
   "execution_count": 6,
   "metadata": {},
   "outputs": [
    {
     "data": {
      "text/plain": [
       "0"
      ]
     },
     "execution_count": 6,
     "metadata": {},
     "output_type": "execute_result"
    }
   ],
   "source": []
  },
  {
   "cell_type": "code",
   "execution_count": 3,
   "metadata": {},
   "outputs": [],
   "source": [
    "a = {1:2}"
   ]
  },
  {
   "cell_type": "code",
   "execution_count": 4,
   "metadata": {},
   "outputs": [],
   "source": [
    "a.update({2:3})"
   ]
  },
  {
   "cell_type": "code",
   "execution_count": 5,
   "metadata": {},
   "outputs": [
    {
     "data": {
      "text/plain": [
       "{1: 2, 2: 3}"
      ]
     },
     "execution_count": 5,
     "metadata": {},
     "output_type": "execute_result"
    }
   ],
   "source": [
    "a"
   ]
  },
  {
   "cell_type": "code",
   "execution_count": null,
   "metadata": {},
   "outputs": [],
   "source": []
  }
 ],
 "metadata": {
  "kernelspec": {
   "display_name": "Python 3",
   "language": "python",
   "name": "python3"
  },
  "language_info": {
   "codemirror_mode": {
    "name": "ipython",
    "version": 3
   },
   "file_extension": ".py",
   "mimetype": "text/x-python",
   "name": "python",
   "nbconvert_exporter": "python",
   "pygments_lexer": "ipython3",
   "version": "3.7.4"
  }
 },
 "nbformat": 4,
 "nbformat_minor": 2
}

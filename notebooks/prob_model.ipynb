{
 "cells": [
  {
   "cell_type": "code",
   "execution_count": 2,
   "metadata": {},
   "outputs": [],
   "source": [
    "import pgmpy\n",
    "from pgmpy.models import FactorGraph, BayesianModel\n",
    "from pgmpy.factors.discrete.CPD import TabularCPD"
   ]
  },
  {
   "cell_type": "code",
   "execution_count": null,
   "metadata": {},
   "outputs": [],
   "source": [
    "pgmpy.factors.distributions."
   ]
  },
  {
   "cell_type": "code",
   "execution_count": 33,
   "metadata": {},
   "outputs": [],
   "source": [
    "G = BayesianModel()\n",
    "\n",
    "G.add_nodes_from(['r', 'red', 'blue'])\n",
    "G.add_edges_from([('red', 'r'), ('blue', 'r')])\n",
    "r_cpd = TabularCPD('r', 3, [[0, 0, 1, 0], [0, 1, 0, 0], [1, 0, 0, 1]], \n",
    "                 evidence=['red', 'blue'], evidence_card=[2,2])\n",
    "\n",
    "red_cpd = TabularCPD('red', 2, [[0.3, 0.7]])\n",
    "blue_cpd = TabularCPD('blue', 2, [[0.5, 0.5]])\n",
    "\n",
    "G.add_cpds(r_cpd, red_cpd, blue_cpd)"
   ]
  },
  {
   "cell_type": "code",
   "execution_count": 2,
   "metadata": {},
   "outputs": [],
   "source": [
    "FG = FactorGraph()"
   ]
  },
  {
   "cell_type": "code",
   "execution_count": 3,
   "metadata": {},
   "outputs": [],
   "source": [
    "FG.add_nodes_from(['r', 'red', 'blue'])"
   ]
  },
  {
   "cell_type": "code",
   "execution_count": 31,
   "metadata": {},
   "outputs": [],
   "source": [
    "cpd = TabularCPD('r', 3, [[0, 0, 1, 0], [0, 1, 0, 0], [1, 0, 0, 1]], \n",
    "                 evidence=['red', 'blue'], evidence_card=[2,2])"
   ]
  },
  {
   "cell_type": "code",
   "execution_count": 52,
   "metadata": {},
   "outputs": [
    {
     "name": "stdout",
     "output_type": "stream",
     "text": [
      "╒══════╤════════╤════════╤════════╤════════╕\n",
      "│ red  │ red_0  │ red_0  │ red_1  │ red_1  │\n",
      "├──────┼────────┼────────┼────────┼────────┤\n",
      "│ blue │ blue_0 │ blue_1 │ blue_0 │ blue_1 │\n",
      "├──────┼────────┼────────┼────────┼────────┤\n",
      "│ r_0  │ 0.0    │ 0.0    │ 1.0    │ 0.0    │\n",
      "├──────┼────────┼────────┼────────┼────────┤\n",
      "│ r_1  │ 0.0    │ 1.0    │ 0.0    │ 0.0    │\n",
      "├──────┼────────┼────────┼────────┼────────┤\n",
      "│ r_2  │ 1.0    │ 0.0    │ 0.0    │ 1.0    │\n",
      "╘══════╧════════╧════════╧════════╧════════╛\n"
     ]
    }
   ],
   "source": [
    "print(r_cpd)"
   ]
  },
  {
   "cell_type": "code",
   "execution_count": 54,
   "metadata": {},
   "outputs": [
    {
     "data": {
      "text/plain": [
       "(red _|_ blue)\n",
       "(blue _|_ red)"
      ]
     },
     "execution_count": 54,
     "metadata": {},
     "output_type": "execute_result"
    }
   ],
   "source": [
    "G.get_independencies()"
   ]
  },
  {
   "cell_type": "code",
   "execution_count": 8,
   "metadata": {},
   "outputs": [],
   "source": [
    "import pandas as pd\n",
    "import numpy as np"
   ]
  },
  {
   "cell_type": "code",
   "execution_count": 64,
   "metadata": {},
   "outputs": [],
   "source": [
    "d = {'r':[0, 1]}\n",
    "df = pd.DataFrame(data=d)"
   ]
  },
  {
   "cell_type": "code",
   "execution_count": 61,
   "metadata": {},
   "outputs": [
    {
     "data": {
      "text/plain": [
       "<TabularCPD representing P(red:2) at 0x7f74aacc8ef0>"
      ]
     },
     "execution_count": 61,
     "metadata": {},
     "output_type": "execute_result"
    }
   ],
   "source": [
    "G.get_cpds('red')"
   ]
  },
  {
   "cell_type": "code",
   "execution_count": 65,
   "metadata": {},
   "outputs": [
    {
     "name": "stdout",
     "output_type": "stream",
     "text": [
      "   blue  red\n",
      "0     0    1\n",
      "1     1    0\n"
     ]
    },
    {
     "ename": "TypeError",
     "evalue": "'NoneType' object is not subscriptable",
     "output_type": "error",
     "traceback": [
      "\u001b[0;31m---------------------------------------------------------------------------\u001b[0m",
      "\u001b[0;31mTypeError\u001b[0m                                 Traceback (most recent call last)",
      "\u001b[0;32m<ipython-input-65-3d096412e73a>\u001b[0m in \u001b[0;36m<module>\u001b[0;34m()\u001b[0m\n\u001b[1;32m      1\u001b[0m \u001b[0mprint\u001b[0m\u001b[0;34m(\u001b[0m\u001b[0mG\u001b[0m\u001b[0;34m.\u001b[0m\u001b[0mpredict\u001b[0m\u001b[0;34m(\u001b[0m\u001b[0mdf\u001b[0m\u001b[0;34m)\u001b[0m\u001b[0;34m)\u001b[0m\u001b[0;34m\u001b[0m\u001b[0m\n\u001b[0;32m----> 2\u001b[0;31m \u001b[0mG\u001b[0m\u001b[0;34m.\u001b[0m\u001b[0mpredict_probability\u001b[0m\u001b[0;34m(\u001b[0m\u001b[0mdf\u001b[0m\u001b[0;34m)\u001b[0m\u001b[0;34m\u001b[0m\u001b[0m\n\u001b[0m",
      "\u001b[0;32m~/miniconda3/lib/python3.6/site-packages/pgmpy/models/BayesianModel.py\u001b[0m in \u001b[0;36mpredict_probability\u001b[0;34m(self, data)\u001b[0m\n\u001b[1;32m    818\u001b[0m             \u001b[0;32mfor\u001b[0m \u001b[0mk\u001b[0m\u001b[0;34m,\u001b[0m \u001b[0mv\u001b[0m \u001b[0;32min\u001b[0m \u001b[0mstates_dict\u001b[0m\u001b[0;34m.\u001b[0m\u001b[0mitems\u001b[0m\u001b[0;34m(\u001b[0m\u001b[0;34m)\u001b[0m\u001b[0;34m:\u001b[0m\u001b[0;34m\u001b[0m\u001b[0m\n\u001b[1;32m    819\u001b[0m                 \u001b[0;32mfor\u001b[0m \u001b[0ml\u001b[0m \u001b[0;32min\u001b[0m \u001b[0mrange\u001b[0m\u001b[0;34m(\u001b[0m\u001b[0mlen\u001b[0m\u001b[0;34m(\u001b[0m\u001b[0mv\u001b[0m\u001b[0;34m.\u001b[0m\u001b[0mvalues\u001b[0m\u001b[0;34m)\u001b[0m\u001b[0;34m)\u001b[0m\u001b[0;34m:\u001b[0m\u001b[0;34m\u001b[0m\u001b[0m\n\u001b[0;32m--> 820\u001b[0;31m                     \u001b[0mstate\u001b[0m \u001b[0;34m=\u001b[0m \u001b[0mself\u001b[0m\u001b[0;34m.\u001b[0m\u001b[0mget_cpds\u001b[0m\u001b[0;34m(\u001b[0m\u001b[0mk\u001b[0m\u001b[0;34m)\u001b[0m\u001b[0;34m.\u001b[0m\u001b[0mstate_names\u001b[0m\u001b[0;34m[\u001b[0m\u001b[0mk\u001b[0m\u001b[0;34m]\u001b[0m\u001b[0;34m[\u001b[0m\u001b[0ml\u001b[0m\u001b[0;34m]\u001b[0m\u001b[0;34m\u001b[0m\u001b[0m\n\u001b[0m\u001b[1;32m    821\u001b[0m                     \u001b[0mpred_values\u001b[0m\u001b[0;34m[\u001b[0m\u001b[0mk\u001b[0m \u001b[0;34m+\u001b[0m \u001b[0;34m'_'\u001b[0m \u001b[0;34m+\u001b[0m \u001b[0mstr\u001b[0m\u001b[0;34m(\u001b[0m\u001b[0mstate\u001b[0m\u001b[0;34m)\u001b[0m\u001b[0;34m]\u001b[0m\u001b[0;34m.\u001b[0m\u001b[0mappend\u001b[0m\u001b[0;34m(\u001b[0m\u001b[0mv\u001b[0m\u001b[0;34m.\u001b[0m\u001b[0mvalues\u001b[0m\u001b[0;34m[\u001b[0m\u001b[0ml\u001b[0m\u001b[0;34m]\u001b[0m\u001b[0;34m)\u001b[0m\u001b[0;34m\u001b[0m\u001b[0m\n\u001b[1;32m    822\u001b[0m         \u001b[0;32mreturn\u001b[0m \u001b[0mpd\u001b[0m\u001b[0;34m.\u001b[0m\u001b[0mDataFrame\u001b[0m\u001b[0;34m(\u001b[0m\u001b[0mpred_values\u001b[0m\u001b[0;34m,\u001b[0m \u001b[0mindex\u001b[0m\u001b[0;34m=\u001b[0m\u001b[0mdata\u001b[0m\u001b[0;34m.\u001b[0m\u001b[0mindex\u001b[0m\u001b[0;34m)\u001b[0m\u001b[0;34m\u001b[0m\u001b[0m\n",
      "\u001b[0;31mTypeError\u001b[0m: 'NoneType' object is not subscriptable"
     ]
    }
   ],
   "source": [
    "print(G.predict(df))\n",
    "G.predict_probability(df)"
   ]
  },
  {
   "cell_type": "code",
   "execution_count": 51,
   "metadata": {
    "scrolled": true
   },
   "outputs": [
    {
     "data": {
      "text/html": [
       "<div>\n",
       "<style scoped>\n",
       "    .dataframe tbody tr th:only-of-type {\n",
       "        vertical-align: middle;\n",
       "    }\n",
       "\n",
       "    .dataframe tbody tr th {\n",
       "        vertical-align: top;\n",
       "    }\n",
       "\n",
       "    .dataframe thead th {\n",
       "        text-align: right;\n",
       "    }\n",
       "</style>\n",
       "<table border=\"1\" class=\"dataframe\">\n",
       "  <thead>\n",
       "    <tr style=\"text-align: right;\">\n",
       "      <th></th>\n",
       "      <th>B_0</th>\n",
       "      <th>B_1</th>\n",
       "    </tr>\n",
       "  </thead>\n",
       "  <tbody>\n",
       "    <tr>\n",
       "      <th>80</th>\n",
       "      <td>0.555556</td>\n",
       "      <td>0.444444</td>\n",
       "    </tr>\n",
       "    <tr>\n",
       "      <th>81</th>\n",
       "      <td>0.555556</td>\n",
       "      <td>0.444444</td>\n",
       "    </tr>\n",
       "    <tr>\n",
       "      <th>82</th>\n",
       "      <td>0.454545</td>\n",
       "      <td>0.545455</td>\n",
       "    </tr>\n",
       "    <tr>\n",
       "      <th>83</th>\n",
       "      <td>0.454545</td>\n",
       "      <td>0.545455</td>\n",
       "    </tr>\n",
       "    <tr>\n",
       "      <th>84</th>\n",
       "      <td>0.481481</td>\n",
       "      <td>0.518519</td>\n",
       "    </tr>\n",
       "    <tr>\n",
       "      <th>85</th>\n",
       "      <td>0.555556</td>\n",
       "      <td>0.444444</td>\n",
       "    </tr>\n",
       "    <tr>\n",
       "      <th>86</th>\n",
       "      <td>0.481481</td>\n",
       "      <td>0.518519</td>\n",
       "    </tr>\n",
       "    <tr>\n",
       "      <th>87</th>\n",
       "      <td>0.454545</td>\n",
       "      <td>0.545455</td>\n",
       "    </tr>\n",
       "    <tr>\n",
       "      <th>88</th>\n",
       "      <td>0.481481</td>\n",
       "      <td>0.518519</td>\n",
       "    </tr>\n",
       "    <tr>\n",
       "      <th>89</th>\n",
       "      <td>0.458333</td>\n",
       "      <td>0.541667</td>\n",
       "    </tr>\n",
       "    <tr>\n",
       "      <th>90</th>\n",
       "      <td>0.481481</td>\n",
       "      <td>0.518519</td>\n",
       "    </tr>\n",
       "    <tr>\n",
       "      <th>91</th>\n",
       "      <td>0.481481</td>\n",
       "      <td>0.518519</td>\n",
       "    </tr>\n",
       "    <tr>\n",
       "      <th>92</th>\n",
       "      <td>0.481481</td>\n",
       "      <td>0.518519</td>\n",
       "    </tr>\n",
       "    <tr>\n",
       "      <th>93</th>\n",
       "      <td>0.555556</td>\n",
       "      <td>0.444444</td>\n",
       "    </tr>\n",
       "    <tr>\n",
       "      <th>94</th>\n",
       "      <td>0.458333</td>\n",
       "      <td>0.541667</td>\n",
       "    </tr>\n",
       "    <tr>\n",
       "      <th>95</th>\n",
       "      <td>0.481481</td>\n",
       "      <td>0.518519</td>\n",
       "    </tr>\n",
       "    <tr>\n",
       "      <th>96</th>\n",
       "      <td>0.454545</td>\n",
       "      <td>0.545455</td>\n",
       "    </tr>\n",
       "    <tr>\n",
       "      <th>97</th>\n",
       "      <td>0.555556</td>\n",
       "      <td>0.444444</td>\n",
       "    </tr>\n",
       "    <tr>\n",
       "      <th>98</th>\n",
       "      <td>0.555556</td>\n",
       "      <td>0.444444</td>\n",
       "    </tr>\n",
       "    <tr>\n",
       "      <th>99</th>\n",
       "      <td>0.454545</td>\n",
       "      <td>0.545455</td>\n",
       "    </tr>\n",
       "  </tbody>\n",
       "</table>\n",
       "</div>"
      ],
      "text/plain": [
       "         B_0       B_1\n",
       "80  0.555556  0.444444\n",
       "81  0.555556  0.444444\n",
       "82  0.454545  0.545455\n",
       "83  0.454545  0.545455\n",
       "84  0.481481  0.518519\n",
       "85  0.555556  0.444444\n",
       "86  0.481481  0.518519\n",
       "87  0.454545  0.545455\n",
       "88  0.481481  0.518519\n",
       "89  0.458333  0.541667\n",
       "90  0.481481  0.518519\n",
       "91  0.481481  0.518519\n",
       "92  0.481481  0.518519\n",
       "93  0.555556  0.444444\n",
       "94  0.458333  0.541667\n",
       "95  0.481481  0.518519\n",
       "96  0.454545  0.545455\n",
       "97  0.555556  0.444444\n",
       "98  0.555556  0.444444\n",
       "99  0.454545  0.545455"
      ]
     },
     "execution_count": 51,
     "metadata": {},
     "output_type": "execute_result"
    }
   ],
   "source": [
    "values = pd.DataFrame(np.random.randint(low=0, high =2, size=(100, 5)),\n",
    "                     columns=['A', 'B', 'C', 'D', 'E'])\n",
    "train_data = values[:80]\n",
    "predict_data = values[80:]\n",
    "model = BayesianModel([('A', 'B'), ('C', 'B'), ('C', 'D'), ('B', 'E')])\n",
    "model.fit(values)\n",
    "predict_data = predict_data.copy()\n",
    "predict_data.drop('B', axis=1, inplace=True)\n",
    "y_prob = model.predict_probability(predict_data)\n",
    "y_prob"
   ]
  },
  {
   "cell_type": "code",
   "execution_count": 70,
   "metadata": {
    "scrolled": true
   },
   "outputs": [
    {
     "data": {
      "text/plain": [
       "{'A': [0, 1], 'B': [0, 1], 'C': [0, 1], 'D': [0, 1], 'E': [0, 1]}"
      ]
     },
     "execution_count": 70,
     "metadata": {},
     "output_type": "execute_result"
    }
   ],
   "source": [
    "c = model.get_cpds('B')\n",
    "c.state_names"
   ]
  },
  {
   "cell_type": "code",
   "execution_count": 72,
   "metadata": {},
   "outputs": [
    {
     "name": "stdout",
     "output_type": "stream",
     "text": [
      "╒══════╤═════════════════════╤═════════════════════╤════════════════════╤════════════════════╕\n",
      "│ A    │ A(0)                │ A(0)                │ A(1)               │ A(1)               │\n",
      "├──────┼─────────────────────┼─────────────────────┼────────────────────┼────────────────────┤\n",
      "│ C    │ C(0)                │ C(1)                │ C(0)               │ C(1)               │\n",
      "├──────┼─────────────────────┼─────────────────────┼────────────────────┼────────────────────┤\n",
      "│ B(0) │ 0.45454545454545453 │ 0.48148148148148145 │ 0.5555555555555556 │ 0.4583333333333333 │\n",
      "├──────┼─────────────────────┼─────────────────────┼────────────────────┼────────────────────┤\n",
      "│ B(1) │ 0.5454545454545454  │ 0.5185185185185185  │ 0.4444444444444444 │ 0.5416666666666666 │\n",
      "╘══════╧═════════════════════╧═════════════════════╧════════════════════╧════════════════════╛\n"
     ]
    }
   ],
   "source": [
    "print(c)"
   ]
  },
  {
   "cell_type": "code",
   "execution_count": 4,
   "metadata": {},
   "outputs": [],
   "source": [
    "import data"
   ]
  },
  {
   "cell_type": "code",
   "execution_count": 5,
   "metadata": {},
   "outputs": [],
   "source": [
    "data_dict = {c:data.generate_data(c, 2) for c in ['red', 'green', 'blue', 'yellow']}"
   ]
  },
  {
   "cell_type": "code",
   "execution_count": 6,
   "metadata": {},
   "outputs": [
    {
     "data": {
      "text/plain": [
       "{'blue': [(0.014873142533296985, 0.095660808080570398, 0.87879563535289651),\n",
       "  (0.076807118790386875, 0.0053039525051971157, 0.94913488283783187)],\n",
       " 'green': [(0.026603177501389786, 0.80554215802813534, 0.04294167766748283),\n",
       "  (0.0074028526061128324, 0.7003192168627983, 0.045685555539905331)],\n",
       " 'red': [(0.84862318129058856, 0.11480864967409754, 0.096531346981178545),\n",
       "  (0.83569474366845387, 0.056798580513171708, 0.02193585406980619)],\n",
       " 'yellow': [(0.8395877710818096, 0.94314033423982102, 0.088615956245045063),\n",
       "  (0.92837660854875037, 0.97335743215229031, 0.018962754812304704)]}"
      ]
     },
     "execution_count": 6,
     "metadata": {},
     "output_type": "execute_result"
    }
   ],
   "source": [
    "data_dict"
   ]
  },
  {
   "cell_type": "code",
   "execution_count": 35,
   "metadata": {},
   "outputs": [],
   "source": [
    "G = BayesianModel()\n",
    "\n",
    "G.add_nodes_from(['r', 'red', 'blue', 'c'])\n",
    "G.add_edges_from([('red', 'c'), ('blue', 'c'), ('r', 'c')])\n",
    "\n",
    "tbl = np.zeros((2, 12))\n",
    "tbl[0] = 1\n",
    "tbl[1, 2] = 1\n",
    "tbl[0, 2] = 0\n",
    "tbl[1, 5] = 1\n",
    "tbl[0, 5] = 0\n",
    "\n",
    "state_names = {'c':[0, 1], 'r':[0, 1,2], 'red':['not_red', 'red'], 'blue':[0, 1]}\n",
    "\n",
    "c_cpd = TabularCPD('c', 2, tbl, \n",
    "                 evidence=['r', 'red', 'blue'], evidence_card=[3,2,2], \n",
    "                   state_names=state_names)\n",
    "r_cpd = TabularCPD('r', 3, [[1/3, 1/3, 1/3]], state_names=state_names)\n",
    "red_cpd = TabularCPD('red', 2, [[0.3, 0.7]], state_names=state_names)\n",
    "blue_cpd = TabularCPD('blue', 2, [[0.5, 0.5]], state_names=state_names)\n",
    "\n",
    "G.add_cpds(r_cpd, red_cpd, blue_cpd, c_cpd)"
   ]
  },
  {
   "cell_type": "code",
   "execution_count": 21,
   "metadata": {},
   "outputs": [
    {
     "name": "stdout",
     "output_type": "stream",
     "text": [
      "╒══════╤════════╤════════╤════════╤════════╤════════╤════════╤════════╤════════╤════════╤════════╤════════╤════════╕\n",
      "│ r    │ r_0    │ r_0    │ r_0    │ r_0    │ r_1    │ r_1    │ r_1    │ r_1    │ r_2    │ r_2    │ r_2    │ r_2    │\n",
      "├──────┼────────┼────────┼────────┼────────┼────────┼────────┼────────┼────────┼────────┼────────┼────────┼────────┤\n",
      "│ red  │ red_0  │ red_0  │ red_1  │ red_1  │ red_0  │ red_0  │ red_1  │ red_1  │ red_0  │ red_0  │ red_1  │ red_1  │\n",
      "├──────┼────────┼────────┼────────┼────────┼────────┼────────┼────────┼────────┼────────┼────────┼────────┼────────┤\n",
      "│ blue │ blue_0 │ blue_1 │ blue_0 │ blue_1 │ blue_0 │ blue_1 │ blue_0 │ blue_1 │ blue_0 │ blue_1 │ blue_0 │ blue_1 │\n",
      "├──────┼────────┼────────┼────────┼────────┼────────┼────────┼────────┼────────┼────────┼────────┼────────┼────────┤\n",
      "│ c_0  │ 1.0    │ 1.0    │ 0.0    │ 1.0    │ 1.0    │ 0.0    │ 1.0    │ 1.0    │ 1.0    │ 1.0    │ 1.0    │ 1.0    │\n",
      "├──────┼────────┼────────┼────────┼────────┼────────┼────────┼────────┼────────┼────────┼────────┼────────┼────────┤\n",
      "│ c_1  │ 0.0    │ 0.0    │ 1.0    │ 0.0    │ 0.0    │ 1.0    │ 0.0    │ 0.0    │ 0.0    │ 0.0    │ 0.0    │ 0.0    │\n",
      "╘══════╧════════╧════════╧════════╧════════╧════════╧════════╧════════╧════════╧════════╧════════╧════════╧════════╛\n"
     ]
    }
   ],
   "source": [
    "print(c_cpd)"
   ]
  },
  {
   "cell_type": "code",
   "execution_count": 36,
   "metadata": {},
   "outputs": [],
   "source": [
    "d = {'c':[0, 1]}\n",
    "df = pd.DataFrame(data=d)"
   ]
  },
  {
   "cell_type": "code",
   "execution_count": 37,
   "metadata": {},
   "outputs": [
    {
     "data": {
      "text/html": [
       "<div>\n",
       "<style scoped>\n",
       "    .dataframe tbody tr th:only-of-type {\n",
       "        vertical-align: middle;\n",
       "    }\n",
       "\n",
       "    .dataframe tbody tr th {\n",
       "        vertical-align: top;\n",
       "    }\n",
       "\n",
       "    .dataframe thead th {\n",
       "        text-align: right;\n",
       "    }\n",
       "</style>\n",
       "<table border=\"1\" class=\"dataframe\">\n",
       "  <thead>\n",
       "    <tr style=\"text-align: right;\">\n",
       "      <th></th>\n",
       "      <th>blue_0</th>\n",
       "      <th>blue_1</th>\n",
       "      <th>r_0</th>\n",
       "      <th>r_1</th>\n",
       "      <th>r_2</th>\n",
       "      <th>red_not_red</th>\n",
       "      <th>red_red</th>\n",
       "    </tr>\n",
       "  </thead>\n",
       "  <tbody>\n",
       "    <tr>\n",
       "      <th>0</th>\n",
       "      <td>0.46</td>\n",
       "      <td>0.54</td>\n",
       "      <td>0.26</td>\n",
       "      <td>0.34</td>\n",
       "      <td>0.4</td>\n",
       "      <td>0.3</td>\n",
       "      <td>0.7</td>\n",
       "    </tr>\n",
       "    <tr>\n",
       "      <th>1</th>\n",
       "      <td>0.70</td>\n",
       "      <td>0.30</td>\n",
       "      <td>0.70</td>\n",
       "      <td>0.30</td>\n",
       "      <td>0.0</td>\n",
       "      <td>0.3</td>\n",
       "      <td>0.7</td>\n",
       "    </tr>\n",
       "  </tbody>\n",
       "</table>\n",
       "</div>"
      ],
      "text/plain": [
       "   blue_0  blue_1   r_0   r_1  r_2  red_not_red  red_red\n",
       "0    0.46    0.54  0.26  0.34  0.4          0.3      0.7\n",
       "1    0.70    0.30  0.70  0.30  0.0          0.3      0.7"
      ]
     },
     "execution_count": 37,
     "metadata": {},
     "output_type": "execute_result"
    }
   ],
   "source": [
    "G.predict_probability(df)"
   ]
  },
  {
   "cell_type": "code",
   "execution_count": 38,
   "metadata": {},
   "outputs": [],
   "source": [
    "from scipy.stats import multivariate_normal\n",
    "\n",
    "normal_pdf = lambda x1, x2: multivariate_normal.pdf((x1, x2), [0,0], )"
   ]
  },
  {
   "cell_type": "code",
   "execution_count": null,
   "metadata": {},
   "outputs": [],
   "source": [
    "red_classifier = BayesianModel()\n",
    "\n",
    "G.add_nodes_from(['red', 'o1'])\n",
    "G.add_edge('o1', 'red')\n",
    "\n",
    "state_names = {'red': ['not_red', 'red'], 'o1':[0,1]}\n",
    "\n",
    "red_cpd = TabularCPD('red', 2, [[0.5, 0.5]], state_names=state_names)\n"
   ]
  }
 ],
 "metadata": {
  "kernelspec": {
   "display_name": "Python 3",
   "language": "python",
   "name": "python3"
  },
  "language_info": {
   "codemirror_mode": {
    "name": "ipython",
    "version": 3
   },
   "file_extension": ".py",
   "mimetype": "text/x-python",
   "name": "python",
   "nbconvert_exporter": "python",
   "pygments_lexer": "ipython3",
   "version": "3.6.3"
  }
 },
 "nbformat": 4,
 "nbformat_minor": 2
}

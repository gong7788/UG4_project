{
 "cells": [
  {
   "cell_type": "code",
   "execution_count": 1,
   "metadata": {},
   "outputs": [],
   "source": [
    "from correctingagent.pddl import pddl_functions\n",
    "from pathlib import Path\n",
    "from correctingagent.util.util import get_config\n",
    "from correctingagent.world import world\n",
    "import copy\n",
    "import random\n",
    "import numpy as np\n",
    "from correctingagent.agents.teacher import *\n",
    "from correctingagent.world.rules import *"
   ]
  },
  {
   "cell_type": "code",
   "execution_count": 11,
   "metadata": {},
   "outputs": [
    {
     "data": {
      "text/plain": [
       "0.8074904066925097"
      ]
     },
     "execution_count": 11,
     "metadata": {},
     "output_type": "execute_result"
    }
   ],
   "source": [
    "np.random.rand()"
   ]
  },
  {
   "cell_type": "code",
   "execution_count": 2,
   "metadata": {},
   "outputs": [
    {
     "name": "stdout",
     "output_type": "stream",
     "text": [
      "Parsing domain /home/mappelgren/Desktop/correcting-agent/data/domain/blocks-domain-unstackable.pddl\n",
      "Parsing problem /home/mappelgren/Desktop/correcting-agent/data/multitower/problem8.pddl\n"
     ]
    }
   ],
   "source": [
    "w = world.PDDLWorld(\n",
    "    domain_file='blocks-domain-unstackable.pddl',\n",
    "    problem_directory='multitower', problem_number=8)\n",
    "\n",
    "s = copy.deepcopy(w.state)\n",
    "\n",
    "w.update('put', ['b0', 't0', 'tower0'])\n",
    "w.update('unstack', ['b0', 't0', 'tower0'])\n",
    "\n",
    "assert(s == w.state)"
   ]
  },
  {
   "cell_type": "code",
   "execution_count": 2,
   "metadata": {},
   "outputs": [
    {
     "name": "stdout",
     "output_type": "stream",
     "text": [
      "Parsing domain /home/mappelgren/Desktop/correcting-agent/data/domain/blocks-domain-unstackable.pddl\n",
      "Parsing problem /home/mappelgren/Desktop/correcting-agent/data/multitower/problem8.pddl\n"
     ]
    },
    {
     "data": {
      "text/plain": [
       "True"
      ]
     },
     "execution_count": 2,
     "metadata": {},
     "output_type": "execute_result"
    }
   ],
   "source": [
    "w = world.PDDLWorld(\n",
    "    domain_file='blocks-domain-unstackable.pddl',\n",
    "    problem_directory='multitower', problem_number=8)\n",
    "\n",
    "s = copy.deepcopy(w.state)\n",
    "\n",
    "w.update('put', ['b0', 't0', 'tower0'])\n",
    "w.update('unstack', ['b0', 't0', 'tower0'])\n",
    "\n",
    "assert(s == w.state)\n",
    "\n",
    "w.update('put', ['b8', 't0', 'tower0'])\n",
    "w.update('put', ['b4', 'b8', 'tower0'])\n",
    "w.update('put', ['b0', 'b4', 'tower0'])\n",
    "\n",
    "assert(w.find_plan())\n",
    "w.find_plan()\n",
    "w.test_failure()"
   ]
  },
  {
   "cell_type": "code",
   "execution_count": 4,
   "metadata": {},
   "outputs": [
    {
     "name": "stdout",
     "output_type": "stream",
     "text": [
      "(arm-empty )\n",
      "(clear b0)\n",
      "(on-table b1)\n",
      "(clear b1)\n",
      "(on-table b2)\n",
      "(clear b2)\n",
      "(on-table b3)\n",
      "(clear b3)\n",
      "(on-table b4)\n",
      "(clear b4)\n",
      "(on-table b5)\n",
      "(clear b5)\n",
      "(on-table b6)\n",
      "(clear b6)\n",
      "(on-table b7)\n",
      "(clear b7)\n",
      "(on-table b8)\n",
      "(clear b8)\n",
      "(on-table b9)\n",
      "(clear b9)\n",
      "(done t0)\n",
      "(in-tower t0 tower0)\n",
      "(done t1)\n",
      "(in-tower t1 tower1)\n",
      "(clear t1)\n",
      "(done tower0)\n",
      "(done tower1)\n",
      "(tower tower0)\n",
      "(tower tower1)\n",
      "(pink b0)\n",
      "(blue b1)\n",
      "(orange b2)\n",
      "(red b3)\n",
      "(yellow b4)\n",
      "(purple b5)\n",
      "(orange b6)\n",
      "(blue b7)\n",
      "(yellow b8)\n",
      "(green b9)\n",
      "(on-table b0)\n",
      "(clear t0)\n",
      "(= (red-count tower0) 0)\n",
      "(= (blue-count tower0) 0)\n",
      "(= (green-count tower0) 0)\n",
      "(= (yellow-count tower0) 0)\n",
      "(= (purple-count tower0) 0)\n",
      "(= (orange-count tower0) 0)\n",
      "(= (pink-count tower0) 0)\n",
      "(= (red-count tower1) 0)\n",
      "(= (blue-count tower1) 0)\n",
      "(= (green-count tower1) 0)\n",
      "(= (yellow-count tower1) 0)\n",
      "(= (purple-count tower1) 0)\n",
      "(= (orange-count tower1) 0)\n",
      "(= (pink-count tower1) 0)\n"
     ]
    }
   ],
   "source": [
    "w.state.print()"
   ]
  },
  {
   "cell_type": "code",
   "execution_count": 7,
   "metadata": {},
   "outputs": [],
   "source": [
    "for p in s.predicates:\n",
    "    assert(p in w.state.predicates)"
   ]
  },
  {
   "cell_type": "code",
   "execution_count": 6,
   "metadata": {},
   "outputs": [],
   "source": [
    "for p in w.state.predicates:\n",
    "    assert(p in w.state.predicates)"
   ]
  },
  {
   "cell_type": "code",
   "execution_count": 10,
   "metadata": {},
   "outputs": [
    {
     "name": "stdout",
     "output_type": "stream",
     "text": [
      "(arm-empty ) (arm-empty )\n",
      "(on-table b0) (clear b0)\n",
      "(clear b0) (on-table b1)\n",
      "(on-table b1) (clear b1)\n",
      "(clear b1) (on-table b2)\n",
      "(on-table b2) (clear b2)\n",
      "(clear b2) (on-table b3)\n",
      "(on-table b3) (clear b3)\n",
      "(clear b3) (on-table b4)\n",
      "(on-table b4) (clear b4)\n",
      "(clear b4) (on-table b5)\n",
      "(on-table b5) (clear b5)\n",
      "(clear b5) (on-table b6)\n",
      "(on-table b6) (clear b6)\n",
      "(clear b6) (on-table b7)\n",
      "(on-table b7) (clear b7)\n",
      "(clear b7) (on-table b8)\n",
      "(on-table b8) (clear b8)\n",
      "(clear b8) (on-table b9)\n",
      "(on-table b9) (clear b9)\n",
      "(clear b9) (done t0)\n",
      "(done t0) (in-tower t0 tower0)\n",
      "(in-tower t0 tower0) (done t1)\n",
      "(clear t0) (in-tower t1 tower1)\n",
      "(done t1) (clear t1)\n",
      "(in-tower t1 tower1) (done tower0)\n",
      "(clear t1) (done tower1)\n",
      "(done tower0) (tower tower0)\n",
      "(done tower1) (tower tower1)\n",
      "(tower tower0) (pink b0)\n",
      "(tower tower1) (blue b1)\n",
      "(pink b0) (orange b2)\n",
      "(blue b1) (red b3)\n",
      "(orange b2) (yellow b4)\n",
      "(red b3) (purple b5)\n",
      "(yellow b4) (orange b6)\n",
      "(purple b5) (blue b7)\n",
      "(orange b6) (yellow b8)\n",
      "(blue b7) (green b9)\n",
      "(yellow b8) (on-table b0)\n",
      "(green b9) (clear t0)\n"
     ]
    }
   ],
   "source": [
    "for s1, s2 in zip(s.predicates, w.state.predicates):\n",
    "    print(s1, s2)"
   ]
  },
  {
   "cell_type": "code",
   "execution_count": 15,
   "metadata": {},
   "outputs": [],
   "source": [
    "a = w.actions['unstack'].effects[-1]"
   ]
  },
  {
   "cell_type": "code",
   "execution_count": 18,
   "metadata": {},
   "outputs": [
    {
     "data": {
      "text/plain": [
       "(when (yellow ?ob) (decrease (yellow-count ?tower)))"
      ]
     },
     "execution_count": 18,
     "metadata": {},
     "output_type": "execute_result"
    }
   ],
   "source": []
  },
  {
   "cell_type": "code",
   "execution_count": 9,
   "metadata": {},
   "outputs": [
    {
     "name": "stdout",
     "output_type": "stream",
     "text": [
      "Parsing domain /home/mappelgren/Desktop/correcting-agent/data/domain/blocks-domain-updated.pddl\n",
      "Parsing problem /home/mappelgren/Desktop/correcting-agent/data/multitower/problem3.pddl\n",
      "[('No, now you cannot put b4 in the tower because you must put blue blocks on red blocks', Correction(rule=all y.(red(y) -> exists x. (blue(x) & on(x,y))), args=['b0', 't0', 'b4'], sentence='No, now you cannot put b4 in the tower because you must put blue blocks on red blocks'))]\n",
      "faulty teacher correction:\n",
      "\n",
      "teacher_correction\n"
     ]
    },
    {
     "ename": "ValueError",
     "evalue": "not enough values to unpack (expected 2, got 0)",
     "output_type": "error",
     "traceback": [
      "\u001b[0;31m---------------------------------------------------------------------------\u001b[0m",
      "\u001b[0;31mValueError\u001b[0m                                Traceback (most recent call last)",
      "\u001b[0;32m<ipython-input-9-26ea7f445fb1>\u001b[0m in \u001b[0;36m<module>\u001b[0;34m\u001b[0m\n\u001b[1;32m     23\u001b[0m \u001b[0mprint\u001b[0m\u001b[0;34m(\u001b[0m\u001b[0;34m'teacher_correction'\u001b[0m\u001b[0;34m)\u001b[0m\u001b[0;34m\u001b[0m\u001b[0;34m\u001b[0m\u001b[0m\n\u001b[1;32m     24\u001b[0m correction, possible_corrections = teacher.correction(\n\u001b[0;32m---> 25\u001b[0;31m     w, return_possible_corrections=True, args=['b8', 'b0', 'tower0'])\n\u001b[0m\u001b[1;32m     26\u001b[0m \u001b[0;31m#possible_corrections = [s for s, c in possible_corrections]\u001b[0m\u001b[0;34m\u001b[0m\u001b[0;34m\u001b[0m\u001b[0;34m\u001b[0m\u001b[0m\n\u001b[1;32m     27\u001b[0m \u001b[0mprint\u001b[0m\u001b[0;34m(\u001b[0m\u001b[0mpossible_corrections\u001b[0m\u001b[0;34m)\u001b[0m\u001b[0;34m\u001b[0m\u001b[0;34m\u001b[0m\u001b[0m\n",
      "\u001b[0;31mValueError\u001b[0m: not enough values to unpack (expected 2, got 0)"
     ]
    }
   ],
   "source": [
    "w = world.PDDLWorld(domain_file='blocks-domain-updated.pddl',\n",
    "                    problem_directory=\"multitower\", problem_number=3)\n",
    "\n",
    "w.update('put', ['b1', 't1', 'tower1'])  # red\n",
    "w.update('put', ['b0', 't0', 'tower0'])  # blue\n",
    "\n",
    "assert(w.test_failure())\n",
    "\n",
    "teacher = ExtendedTeacherAgent()\n",
    "faulty_teacher = FaultyTeacherAgent(recall_failure_prob=1.0)\n",
    "\n",
    "correction, possible_corrections = teacher.correction(w, return_possible_corrections=True,\n",
    "                                                      args=['b0', 't0', 'tower0'])\n",
    "possible_corrections = [s for s, c in possible_corrections]\n",
    "\n",
    "assert (\"No, now you cannot put b4 in the tower because you must put blue blocks on red blocks\" in possible_corrections)\n",
    "assert (\"\" == faulty_teacher.correction(w, args=['b0', 't0', 'tower0']))\n",
    "\n",
    "\n",
    "w.update('put', ['b8', 'b0', 'tower0'])\n",
    "print('faulty teacher correction:')\n",
    "print(faulty_teacher.correction(w, args=['b8', 'b0', 'tower0']))\n",
    "print('teacher_correction')\n",
    "correction, possible_corrections = teacher.correction(\n",
    "    w, return_possible_corrections=True, args=['b8', 'b0', 'tower0'])\n",
    "possible_corrections = [s for s, c in possible_corrections]\n",
    "print(possible_corrections)"
   ]
  },
  {
   "cell_type": "code",
   "execution_count": 10,
   "metadata": {},
   "outputs": [
    {
     "ename": "AttributeError",
     "evalue": "'set' object has no attribute 'extend'",
     "output_type": "error",
     "traceback": [
      "\u001b[0;31m---------------------------------------------------------------------------\u001b[0m",
      "\u001b[0;31mAttributeError\u001b[0m                            Traceback (most recent call last)",
      "\u001b[0;32m<ipython-input-10-4226d661938d>\u001b[0m in \u001b[0;36m<module>\u001b[0;34m\u001b[0m\n\u001b[0;32m----> 1\u001b[0;31m \u001b[0mset\u001b[0m\u001b[0;34m(\u001b[0m\u001b[0;34m)\u001b[0m\u001b[0;34m.\u001b[0m\u001b[0mextend\u001b[0m\u001b[0;34m(\u001b[0m\u001b[0;34m[\u001b[0m\u001b[0;36m1\u001b[0m\u001b[0;34m,\u001b[0m \u001b[0;36m2\u001b[0m\u001b[0;34m]\u001b[0m\u001b[0;34m)\u001b[0m\u001b[0;34m\u001b[0m\u001b[0;34m\u001b[0m\u001b[0m\n\u001b[0m",
      "\u001b[0;31mAttributeError\u001b[0m: 'set' object has no attribute 'extend'"
     ]
    }
   ],
   "source": [
    "set().extend([1, 2])"
   ]
  },
  {
   "cell_type": "code",
   "execution_count": 11,
   "metadata": {},
   "outputs": [
    {
     "data": {
      "text/plain": [
       "{1, 2}"
      ]
     },
     "execution_count": 11,
     "metadata": {},
     "output_type": "execute_result"
    }
   ],
   "source": [
    "set().union([1,2,])"
   ]
  },
  {
   "cell_type": "code",
   "execution_count": 12,
   "metadata": {},
   "outputs": [
    {
     "data": {
      "text/plain": [
       "set()"
      ]
     },
     "execution_count": 12,
     "metadata": {},
     "output_type": "execute_result"
    }
   ],
   "source": [
    "a = set()\n",
    "a.union([1, 2])\n",
    "a"
   ]
  },
  {
   "cell_type": "code",
   "execution_count": 15,
   "metadata": {},
   "outputs": [],
   "source": [
    "rule1 = ColourCountRule('green', 2)\n",
    "rule2 = ColourCountRule('orange', 1)\n",
    "rule3 = RedOnBlueRule('green', 'purple', 1)\n",
    "rule4 = RedOnBlueRule('red', 'blue', 2)\n",
    "rules = [rule1, rule2, rule3, rule4]\n",
    "violations = [f\"V_{i}({rule})\" for i, rule in enumerate(rules)]\n",
    "new_rules = [Rule.rule_from_violation(violation) for violation in violations]\n",
    "#for original, new in zip(rules, new_rules):\n",
    "#    assert(original == new)\n"
   ]
  },
  {
   "cell_type": "code",
   "execution_count": 16,
   "metadata": {},
   "outputs": [
    {
     "name": "stdout",
     "output_type": "stream",
     "text": [
      "V_0(all t. tower(t) -> green-count >= 2)\n",
      "V_0(all t. tower(t) -> orange-count >= 1)\n",
      "V_0(all x.(green(x) -> exists y. (purple(y) & on(x,y))))\n",
      "V_0(all y.(blue(y) -> exists x. (red(x) & on(x,y))))\n"
     ]
    }
   ],
   "source": [
    "for rule in rules:\n",
    "    print(f\"V_0({rule})\")"
   ]
  },
  {
   "cell_type": "code",
   "execution_count": 18,
   "metadata": {},
   "outputs": [],
   "source": [
    "r = Rule.rule_from_violation(\"V_0(all t. tower(t) -> green-count >= 2)\")"
   ]
  },
  {
   "cell_type": "code",
   "execution_count": 19,
   "metadata": {},
   "outputs": [
    {
     "data": {
      "text/plain": [
       "all t. tower(t) -> all t. tower(t)-count >= 2"
      ]
     },
     "execution_count": 19,
     "metadata": {},
     "output_type": "execute_result"
    }
   ],
   "source": [
    "r"
   ]
  },
  {
   "cell_type": "code",
   "execution_count": 20,
   "metadata": {},
   "outputs": [],
   "source": [
    "r = Rule.rule_from_violation(\"V_0(all t. tower(t) -> green-count >= 2)\")"
   ]
  },
  {
   "cell_type": "code",
   "execution_count": 21,
   "metadata": {},
   "outputs": [
    {
     "data": {
      "text/plain": [
       "all t. tower(t) -> all t. tower(t)-count >= 2"
      ]
     },
     "execution_count": 21,
     "metadata": {},
     "output_type": "execute_result"
    }
   ],
   "source": [
    "r"
   ]
  },
  {
   "cell_type": "code",
   "execution_count": 26,
   "metadata": {},
   "outputs": [],
   "source": [
    "_, right = \"all t. tower(t) -> green-count >= 2\".split(\"->\")\n",
    "colour_count, count = right.split(\">=\")\n",
    "count = int(count.strip())\n",
    "colour_name = colour_count.split('-')[0].strip()"
   ]
  },
  {
   "cell_type": "code",
   "execution_count": 23,
   "metadata": {},
   "outputs": [
    {
     "data": {
      "text/plain": [
       "' green-count >= 2'"
      ]
     },
     "execution_count": 23,
     "metadata": {},
     "output_type": "execute_result"
    }
   ],
   "source": [
    "right"
   ]
  },
  {
   "cell_type": "code",
   "execution_count": 27,
   "metadata": {},
   "outputs": [
    {
     "data": {
      "text/plain": [
       "'green'"
      ]
     },
     "execution_count": 27,
     "metadata": {},
     "output_type": "execute_result"
    }
   ],
   "source": [
    "colour_name"
   ]
  },
  {
   "cell_type": "code",
   "execution_count": 3,
   "metadata": {},
   "outputs": [],
   "source": [
    "r1 = RedOnBlueRule('red', 'blue', 1)\n",
    "r2 = RedOnBlueRule('red', 'blue', 2)"
   ]
  },
  {
   "cell_type": "code",
   "execution_count": 7,
   "metadata": {},
   "outputs": [],
   "source": [
    "a = r1.generateCPD(correction_type=CorrectionType.UNCERTAIN_TABLE, num_blocks_in_tower=3)"
   ]
  },
  {
   "cell_type": "code",
   "execution_count": null,
   "metadata": {},
   "outputs": [],
   "source": []
  }
 ],
 "metadata": {
  "kernelspec": {
   "display_name": "Python 3",
   "language": "python",
   "name": "python3"
  },
  "language_info": {
   "codemirror_mode": {
    "name": "ipython",
    "version": 3
   },
   "file_extension": ".py",
   "mimetype": "text/x-python",
   "name": "python",
   "nbconvert_exporter": "python",
   "pygments_lexer": "ipython3",
   "version": "3.7.4"
  }
 },
 "nbformat": 4,
 "nbformat_minor": 2
}

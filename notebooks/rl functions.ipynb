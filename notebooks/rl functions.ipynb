{
 "cells": [
  {
   "cell_type": "code",
   "execution_count": 1,
   "metadata": {},
   "outputs": [],
   "source": [
    "import copy\n",
    "import ff\n",
    "import dmrs_functions\n",
    "from collections import namedtuple, defaultdict\n",
    "import goal_updates\n",
    "import prob_model\n",
    "import pddl_functions\n",
    "import numpy as np\n",
    "import multiprocessing as mp\n",
    "import time\n",
    "from ff import NoPlanError, IDontKnowWhatIsGoingOnError\n",
    "import logging\n",
    "import world\n",
    "import os\n",
    "import torch"
   ]
  },
  {
   "cell_type": "code",
   "execution_count": 2,
   "metadata": {},
   "outputs": [
    {
     "name": "stdout",
     "output_type": "stream",
     "text": [
      "Parsing domain blocks-domain.pddl\n",
      "Parsing problem onerule/problem1.pddl\n"
     ]
    }
   ],
   "source": [
    "problem_dir = 'onerule'\n",
    "problems = os.listdir(problem_dir)\n",
    "w = world.PDDLWorld('blocks-domain.pddl', '{}/{}'.format(problem_dir, problems[0]))"
   ]
  },
  {
   "cell_type": "code",
   "execution_count": 9,
   "metadata": {},
   "outputs": [],
   "source": [
    "\n",
    "w.update(*put_on_top('b0', w))\n",
    "w.update(*put_on_top('b2', w))\n",
    "obs = w.sense()"
   ]
  },
  {
   "cell_type": "code",
   "execution_count": 6,
   "metadata": {},
   "outputs": [],
   "source": [
    "def get_top(relations):\n",
    "    stuff = list(filter(lambda x: 'in-tower' in x[1], relations.items()))\n",
    "    if len(stuff) == 1:\n",
    "        return stuff[0][0]\n",
    "    stuff = dict(stuff)\n",
    "    bottom = 't0'\n",
    "    while True:\n",
    "        on = stuff.pop(bottom)['on']\n",
    "        bottom = on.args.args[0].arg_name\n",
    "        if len(stuff) == 1:\n",
    "            return bottom\n",
    "\n"
   ]
  },
  {
   "cell_type": "code",
   "execution_count": 8,
   "metadata": {},
   "outputs": [],
   "source": [
    "def put_on_top(obj, w):\n",
    "    obs = w.sense()\n",
    "    top = get_top(obs.relations)\n",
    "    return 'put', [obj, top]"
   ]
  },
  {
   "cell_type": "code",
   "execution_count": 5,
   "metadata": {},
   "outputs": [],
   "source": [
    "def select_action(action_id, w):\n",
    "    obs = w.sense()\n",
    "    objs = obs.objects\n",
    "    obj = objs[action_id]\n",
    "    return put_on_top(obj, obs)"
   ]
  },
  {
   "cell_type": "code",
   "execution_count": 34,
   "metadata": {},
   "outputs": [
    {
     "data": {
      "text/plain": [
       "('put', ['t0', 'b2'])"
      ]
     },
     "execution_count": 34,
     "metadata": {},
     "output_type": "execute_result"
    }
   ],
   "source": [
    "put_on_top('b2', w)"
   ]
  },
  {
   "cell_type": "code",
   "execution_count": 10,
   "metadata": {},
   "outputs": [
    {
     "data": {
      "text/plain": [
       "['b1', 'b3', 'b4', 'b5', 'b6', 'b7', 'b8', 'b9']"
      ]
     },
     "execution_count": 10,
     "metadata": {},
     "output_type": "execute_result"
    }
   ],
   "source": [
    "def objects_not_in_tower(w):\n",
    "    observation = w.sense()\n",
    "    objects = observation.objects\n",
    "    rels = observation.relations\n",
    "    \n",
    "    out_objects = []\n",
    "    \n",
    "    for o in objects:\n",
    "        if 'in-tower' not in rels[o]:\n",
    "            out_objects.append(o)\n",
    "    return out_objects\n",
    "objects_not_in_tower(w)"
   ]
  },
  {
   "cell_type": "code",
   "execution_count": 15,
   "metadata": {},
   "outputs": [
    {
     "data": {
      "text/plain": [
       "array([1.        , 0.        , 0.        , 1.        , 0.64705884,\n",
       "       0.        ], dtype=float32)"
      ]
     },
     "execution_count": 15,
     "metadata": {},
     "output_type": "execute_result"
    }
   ],
   "source": [
    "def get_state(o1, o2, obs):\n",
    "    return np.concatenate([obs.colours[o1], obs.colours[o2]])\n",
    "get_state('b1', 'b2', w.sense())"
   ]
  },
  {
   "cell_type": "code",
   "execution_count": null,
   "metadata": {},
   "outputs": [],
   "source": []
  }
 ],
 "metadata": {
  "kernelspec": {
   "display_name": "Python 3",
   "language": "python",
   "name": "python3"
  },
  "language_info": {
   "codemirror_mode": {
    "name": "ipython",
    "version": 3
   },
   "file_extension": ".py",
   "mimetype": "text/x-python",
   "name": "python",
   "nbconvert_exporter": "python",
   "pygments_lexer": "ipython3",
   "version": "3.6.3"
  }
 },
 "nbformat": 4,
 "nbformat_minor": 2
}

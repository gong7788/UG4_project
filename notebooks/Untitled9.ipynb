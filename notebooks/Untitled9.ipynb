{
 "cells": [
  {
   "cell_type": "code",
   "execution_count": 1,
   "metadata": {},
   "outputs": [],
   "source": [
    "from correctingagent.pddl.goal_updates import *\n",
    "from correctingagent.agents.PGMAgent import read_sentence\n",
    "from correctingagent.models.pgmmodels import evaluate_rule"
   ]
  },
  {
   "cell_type": "code",
   "execution_count": 2,
   "metadata": {},
   "outputs": [],
   "source": [
    "neg_rule =create_negative_goal(['red'], ['blue'])"
   ]
  },
  {
   "cell_type": "code",
   "execution_count": 3,
   "metadata": {},
   "outputs": [
    {
     "data": {
      "text/plain": [
       "Message(rel='on', o1=['red'], o2=['blue'], T='neg', o3=None)"
      ]
     },
     "execution_count": 3,
     "metadata": {},
     "output_type": "execute_result"
    }
   ],
   "source": [
    "read_sentence(\"no, don't put red blocks on blue blocks\", use_dmrs=False)"
   ]
  },
  {
   "cell_type": "code",
   "execution_count": 9,
   "metadata": {},
   "outputs": [],
   "source": [
    "rule = create_neg_rule('red', 'blue')"
   ]
  },
  {
   "cell_type": "code",
   "execution_count": 5,
   "metadata": {},
   "outputs": [
    {
     "data": {
      "text/plain": [
       "'Undefined'"
      ]
     },
     "execution_count": 5,
     "metadata": {},
     "output_type": "execute_result"
    }
   ],
   "source": [
    "evaluate_rule('red', 1, 'blue', 1, rule)"
   ]
  },
  {
   "cell_type": "code",
   "execution_count": 6,
   "metadata": {},
   "outputs": [
    {
     "data": {
      "text/plain": [
       "'- (exists x. exists y. red(x) and blue(y) and on(x,y))'"
      ]
     },
     "execution_count": 6,
     "metadata": {},
     "output_type": "execute_result"
    }
   ],
   "source": [
    "rule"
   ]
  },
  {
   "cell_type": "code",
   "execution_count": 19,
   "metadata": {},
   "outputs": [
    {
     "data": {
      "text/plain": [
       "True"
      ]
     },
     "execution_count": 19,
     "metadata": {},
     "output_type": "execute_result"
    }
   ],
   "source": [
    "rule = '- exists x. exists y. (red(x) and blue(y) and on(x,y))'\n",
    "evaluate_rule('red', 0, 'blue', 1, rule)"
   ]
  },
  {
   "cell_type": "code",
   "execution_count": 17,
   "metadata": {},
   "outputs": [
    {
     "data": {
      "text/plain": [
       "'Undefined'"
      ]
     },
     "execution_count": 17,
     "metadata": {},
     "output_type": "execute_result"
    }
   ],
   "source": [
    "evaluate_rule('red', 1, 'blue', 0, rule)"
   ]
  },
  {
   "cell_type": "code",
   "execution_count": 18,
   "metadata": {},
   "outputs": [
    {
     "name": "stdout",
     "output_type": "stream",
     "text": [
      "True\n",
      "True\n",
      "True\n",
      "False\n"
     ]
    }
   ],
   "source": [
    "rule = 'all x. all y. - (red(x) and blue(y) and on(x,y))'\n",
    "print(evaluate_rule('red', 0, 'blue', 0, rule))\n",
    "print(evaluate_rule('red', 1, 'blue', 0, rule))\n",
    "print(evaluate_rule('red', 0, 'blue', 1, rule))\n",
    "print(evaluate_rule('red', 1, 'blue', 1, rule))"
   ]
  },
  {
   "cell_type": "code",
   "execution_count": 21,
   "metadata": {},
   "outputs": [
    {
     "name": "stdout",
     "output_type": "stream",
     "text": [
      "True\n",
      "True\n",
      "True\n",
      "False\n"
     ]
    }
   ],
   "source": [
    "rule = '- exists x. exists y. (red(x) and blue(y) and on(x,y))'\n",
    "print(evaluate_rule('red', 0, 'blue', 0, rule))\n",
    "print(evaluate_rule('red', 1, 'blue', 0, rule))\n",
    "print(evaluate_rule('red', 0, 'blue', 1, rule))\n",
    "print(evaluate_rule('red', 1, 'blue', 1, rule))"
   ]
  },
  {
   "cell_type": "code",
   "execution_count": 23,
   "metadata": {},
   "outputs": [
    {
     "data": {
      "text/plain": [
       "'(not (exists (?x ?y) (and (red ?x) (blue ?y) (on ?x ?y))))'"
      ]
     },
     "execution_count": 23,
     "metadata": {},
     "output_type": "execute_result"
    }
   ],
   "source": [
    "neg_rule"
   ]
  },
  {
   "cell_type": "code",
   "execution_count": 24,
   "metadata": {},
   "outputs": [],
   "source": [
    "def get_relevant_colours(rule):\n",
    "    if rule.op == 'not':\n",
    "        exists = neg_rule.subformulas[0]\n",
    "        and_ = exists.subformulas[0]\n",
    "        c1, c2, on = and_.subformulas\n",
    "        return get_name(c1), get_name(c2), 'not'\n",
    "    else:\n",
    "    \n",
    "        or_ = rule.subformulas[0]\n",
    "        r1, r2 = or_.subformulas\n",
    "        colour1 = (r1.subformulas[0])\n",
    "        colour2 = (list(filter(lambda x: get_name(x) != 'on', r2.subformulas[0].subformulas))[0])\n",
    "        on = list(filter(lambda x: get_name(x) == 'on', r2.subformulas[0].subformulas))[0]\n",
    "        o1, o2 = on.get_predicates(True)[0].args.args\n",
    "        out = (o1, o2)\n",
    "        c1 = list(filter(lambda x: get_args(x)[0] == o1.arg_name, [colour1, colour2]))[0]\n",
    "        c2 = list(filter(lambda x: get_args(x)[0] == o2.arg_name, [colour1, colour2]))[0]\n",
    "        return get_name(c1), get_name(c2), get_name(colour1) # on(c1, c2) colour1 -> colour2"
   ]
  },
  {
   "cell_type": "code",
   "execution_count": 28,
   "metadata": {},
   "outputs": [
    {
     "ename": "ValueError",
     "evalue": "not enough values to unpack (expected 2, got 1)",
     "output_type": "error",
     "traceback": [
      "\u001b[0;31m---------------------------------------------------------------------------\u001b[0m",
      "\u001b[0;31mValueError\u001b[0m                                Traceback (most recent call last)",
      "\u001b[0;32m<ipython-input-28-05ae8c5e2922>\u001b[0m in \u001b[0;36m<module>\u001b[0;34m\u001b[0m\n\u001b[0;32m----> 1\u001b[0;31m \u001b[0mget_relevant_colours\u001b[0m\u001b[0;34m(\u001b[0m\u001b[0mneg_rule\u001b[0m\u001b[0;34m)\u001b[0m\u001b[0;34m\u001b[0m\u001b[0;34m\u001b[0m\u001b[0m\n\u001b[0m",
      "\u001b[0;32m<ipython-input-24-4531661b3fa9>\u001b[0m in \u001b[0;36mget_relevant_colours\u001b[0;34m(rule)\u001b[0m\n\u001b[1;32m      1\u001b[0m \u001b[0;32mdef\u001b[0m \u001b[0mget_relevant_colours\u001b[0m\u001b[0;34m(\u001b[0m\u001b[0mrule\u001b[0m\u001b[0;34m)\u001b[0m\u001b[0;34m:\u001b[0m\u001b[0;34m\u001b[0m\u001b[0;34m\u001b[0m\u001b[0m\n\u001b[1;32m      2\u001b[0m     \u001b[0mor_\u001b[0m \u001b[0;34m=\u001b[0m \u001b[0mrule\u001b[0m\u001b[0;34m.\u001b[0m\u001b[0msubformulas\u001b[0m\u001b[0;34m[\u001b[0m\u001b[0;36m0\u001b[0m\u001b[0;34m]\u001b[0m\u001b[0;34m\u001b[0m\u001b[0;34m\u001b[0m\u001b[0m\n\u001b[0;32m----> 3\u001b[0;31m     \u001b[0mr1\u001b[0m\u001b[0;34m,\u001b[0m \u001b[0mr2\u001b[0m \u001b[0;34m=\u001b[0m \u001b[0mor_\u001b[0m\u001b[0;34m.\u001b[0m\u001b[0msubformulas\u001b[0m\u001b[0;34m\u001b[0m\u001b[0;34m\u001b[0m\u001b[0m\n\u001b[0m\u001b[1;32m      4\u001b[0m     \u001b[0mcolour1\u001b[0m \u001b[0;34m=\u001b[0m \u001b[0;34m(\u001b[0m\u001b[0mr1\u001b[0m\u001b[0;34m.\u001b[0m\u001b[0msubformulas\u001b[0m\u001b[0;34m[\u001b[0m\u001b[0;36m0\u001b[0m\u001b[0;34m]\u001b[0m\u001b[0;34m)\u001b[0m\u001b[0;34m\u001b[0m\u001b[0;34m\u001b[0m\u001b[0m\n\u001b[1;32m      5\u001b[0m     \u001b[0mcolour2\u001b[0m \u001b[0;34m=\u001b[0m \u001b[0;34m(\u001b[0m\u001b[0mlist\u001b[0m\u001b[0;34m(\u001b[0m\u001b[0mfilter\u001b[0m\u001b[0;34m(\u001b[0m\u001b[0;32mlambda\u001b[0m \u001b[0mx\u001b[0m\u001b[0;34m:\u001b[0m \u001b[0mget_name\u001b[0m\u001b[0;34m(\u001b[0m\u001b[0mx\u001b[0m\u001b[0;34m)\u001b[0m \u001b[0;34m!=\u001b[0m \u001b[0;34m'on'\u001b[0m\u001b[0;34m,\u001b[0m \u001b[0mr2\u001b[0m\u001b[0;34m.\u001b[0m\u001b[0msubformulas\u001b[0m\u001b[0;34m[\u001b[0m\u001b[0;36m0\u001b[0m\u001b[0;34m]\u001b[0m\u001b[0;34m.\u001b[0m\u001b[0msubformulas\u001b[0m\u001b[0;34m)\u001b[0m\u001b[0;34m)\u001b[0m\u001b[0;34m[\u001b[0m\u001b[0;36m0\u001b[0m\u001b[0;34m]\u001b[0m\u001b[0;34m)\u001b[0m\u001b[0;34m\u001b[0m\u001b[0;34m\u001b[0m\u001b[0m\n",
      "\u001b[0;31mValueError\u001b[0m: not enough values to unpack (expected 2, got 1)"
     ]
    }
   ],
   "source": [
    "get_relevant_colours(neg_rule)"
   ]
  },
  {
   "cell_type": "code",
   "execution_count": 30,
   "metadata": {},
   "outputs": [
    {
     "data": {
      "text/plain": [
       "'not'"
      ]
     },
     "execution_count": 30,
     "metadata": {},
     "output_type": "execute_result"
    }
   ],
   "source": [
    "neg_rule.op"
   ]
  },
  {
   "cell_type": "code",
   "execution_count": 31,
   "metadata": {},
   "outputs": [
    {
     "data": {
      "text/plain": [
       "'(not (exists (?x ?y) (and (red ?x) (blue ?y) (on ?x ?y))))'"
      ]
     },
     "execution_count": 31,
     "metadata": {},
     "output_type": "execute_result"
    }
   ],
   "source": [
    "neg_rule.asPDDL()"
   ]
  },
  {
   "cell_type": "code",
   "execution_count": 44,
   "metadata": {},
   "outputs": [],
   "source": [
    "exists = neg_rule.subformulas[0]\n",
    "and_ = exists.subformulas[0]\n",
    "c1, c2, on = and_.subformulas"
   ]
  },
  {
   "cell_type": "code",
   "execution_count": 55,
   "metadata": {},
   "outputs": [
    {
     "data": {
      "text/plain": [
       "'red'"
      ]
     },
     "execution_count": 55,
     "metadata": {},
     "output_type": "execute_result"
    }
   ],
   "source": [
    "c1.get_predicates(True)[0].name"
   ]
  },
  {
   "cell_type": "code",
   "execution_count": 14,
   "metadata": {},
   "outputs": [
    {
     "name": "stdout",
     "output_type": "stream",
     "text": [
      "True\n",
      "True\n",
      "True\n",
      "False\n",
      "True\n",
      "False\n",
      "False\n",
      "True\n",
      "False\n",
      "True\n"
     ]
    }
   ],
   "source": [
    "beam = {'r':1, 'b':0, 'c':1, 'g':1}\n",
    "worlds = [{'r':1}, {'b':0}] #True \n",
    "worlds2 = [{'r':1}, {'b':1}] #True\n",
    "worlds3 = [{'r':1}, {'b':0, 'c':1}] # True\n",
    "worlds4 = [{'r':0}, {'b':1}] # False\n",
    "worlds5 = [{'r':0}, {'b':0, 'c':1}] # True\n",
    "worlds6 = [{'r':0}, {'b':1, 'c':1}] # False\n",
    "worlds7 = [{'r':0}] # False\n",
    "worlds8 = []\n",
    "worlds9 = [{'q':1}]\n",
    "worlds10 = [{'q':1}, {'r':1}]\n",
    "def check_beam_holds(beam, worlds):\n",
    "    if not worlds:\n",
    "        return True\n",
    "    return any([all([beam[var] == w[var] if var in beam.keys() else False for var in w.keys()]) for w in worlds])\n",
    "\n",
    "print(check_beam_holds(beam, worlds))\n",
    "print(check_beam_holds(beam, worlds2))\n",
    "print(check_beam_holds(beam, worlds3))\n",
    "print(check_beam_holds(beam, worlds4))\n",
    "print(check_beam_holds(beam, worlds5))\n",
    "print(check_beam_holds(beam, worlds6))\n",
    "print(check_beam_holds(beam, worlds7))\n",
    "print(check_beam_holds(beam, worlds8))\n",
    "print(check_beam_holds(beam, worlds9))\n",
    "print(check_beam_holds(beam, worlds10))"
   ]
  },
  {
   "cell_type": "code",
   "execution_count": null,
   "metadata": {},
   "outputs": [],
   "source": [
    "\n"
   ]
  }
 ],
 "metadata": {
  "kernelspec": {
   "display_name": "Python 3",
   "language": "python",
   "name": "python3"
  },
  "language_info": {
   "codemirror_mode": {
    "name": "ipython",
    "version": 3
   },
   "file_extension": ".py",
   "mimetype": "text/x-python",
   "name": "python",
   "nbconvert_exporter": "python",
   "pygments_lexer": "ipython3",
   "version": "3.7.1"
  }
 },
 "nbformat": 4,
 "nbformat_minor": 2
}

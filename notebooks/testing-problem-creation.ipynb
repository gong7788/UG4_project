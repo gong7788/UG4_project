{
 "cells": [
  {
   "cell_type": "code",
   "execution_count": 1,
   "metadata": {},
   "outputs": [],
   "source": [
    "\n",
    "import problem_def\n",
    "import world"
   ]
  },
  {
   "cell_type": "code",
   "execution_count": 2,
   "metadata": {},
   "outputs": [],
   "source": [
    "\n",
    "rule1 = problem_def.Ruledef(['red'], ['blue'], 'first')\n",
    "rule2 = problem_def.Ruledef(['green'], ['pink'], 'second')\n",
    "print(problem_def.create_problem(['red', 'pink', 'green', 'darkred', 'greenyellow'], []).asPDDL(), file=open('tmp/blocks_test.pddl', 'w'))\n"
   ]
  },
  {
   "cell_type": "code",
   "execution_count": 12,
   "metadata": {},
   "outputs": [
    {
     "name": "stdout",
     "output_type": "stream",
     "text": [
      "Parsing domain blocks-domain.pddl\n",
      "Parsing problem tmp/blocks_test2.pddl\n",
      "running ff with blocks-domain.pddl tmp/world_problem.pddl\n",
      "no plan\n",
      "True True\n",
      "Parsing domain blocks-domain.pddl\n",
      "Parsing problem tmp/blocks_test3.pddl\n",
      "running ff with blocks-domain.pddl tmp/world_problem.pddl\n",
      "default\n",
      "False False\n"
     ]
    }
   ],
   "source": [
    "rule1 = problem_def.Ruledef(['red'], ['blue'], 'first')\n",
    "print(problem_def.create_problem(['red', 'pink', 'green', 'darkred', 'greenyellow'], [rule1]).asPDDL(), file=open('tmp/blocks_test2.pddl', 'w'))\n",
    "w2 = world.PDDLWorld('blocks-domain.pddl', 'tmp/blocks_test2.pddl')\n",
    "print(w2.test_failure(), 'True')\n",
    "print(problem_def.create_problem(['red', 'pink', 'green', 'navy', 'greenyellow'], [rule1]).asPDDL(), file=open('tmp/blocks_test3.pddl', 'w'))\n",
    "w3 = world.PDDLWorld('blocks-domain.pddl', 'tmp/blocks_test3.pddl')\n",
    "print(w3.test_failure(), 'False')"
   ]
  },
  {
   "cell_type": "code",
   "execution_count": 4,
   "metadata": {},
   "outputs": [
    {
     "name": "stdout",
     "output_type": "stream",
     "text": [
      "(define (problem block-problem)\r\n",
      "\t(:domain blocksworld)\r\n",
      "\t(:objects b0 b1 b2 b3 b4 t0)\r\n",
      "\t(:init \r\n",
      "\t\t(arm-empty )\r\n",
      "\t\t(on-table b0)\r\n",
      "\t\t(clear b0)\r\n",
      "\t\t(on-table b1)\r\n",
      "\t\t(clear b1)\r\n",
      "\t\t(on-table b2)\r\n",
      "\t\t(clear b2)\r\n",
      "\t\t(on-table b3)\r\n",
      "\t\t(clear b3)\r\n",
      "\t\t(on-table b4)\r\n",
      "\t\t(clear b4)\r\n",
      "\t\t(in-tower t0)\r\n",
      "\t\t(clear t0)\r\n",
      "\t\t(red b0)\r\n",
      "\t\t(pink b1)\r\n",
      "\t\t(green b2)\r\n",
      "\t\t(darkred b3)\r\n",
      "\t\t(red b3)\r\n",
      "\t\t(greenyellow b4)\r\n",
      "\t\t(green b4)\r\n",
      "\t)\r\n",
      "\t(:goal (and (forall (?x) (in-tower ?x)) (forall (?x) (or (not (red ?x)) (exists (?y) (and (blue ?y) (on ?x ?y)))))))\r\n",
      ")"
     ]
    }
   ],
   "source": [
    "cat 'tmp/world_problem.pddl'"
   ]
  },
  {
   "cell_type": "code",
   "execution_count": 8,
   "metadata": {},
   "outputs": [
    {
     "name": "stdout",
     "output_type": "stream",
     "text": [
      "(define (problem block-problem)\r\n",
      "\t(:domain blocksworld)\r\n",
      "\t(:objects b0 b1 b2 b3 b4 t0)\r\n",
      "\t(:init \r\n",
      "\t\t(arm-empty )\r\n",
      "\t\t(on-table b0)\r\n",
      "\t\t(clear b0)\r\n",
      "\t\t(on-table b1)\r\n",
      "\t\t(clear b1)\r\n",
      "\t\t(on-table b2)\r\n",
      "\t\t(clear b2)\r\n",
      "\t\t(on-table b3)\r\n",
      "\t\t(clear b3)\r\n",
      "\t\t(on-table b4)\r\n",
      "\t\t(clear b4)\r\n",
      "\t\t(in-tower t0)\r\n",
      "\t\t(clear t0)\r\n",
      "\t\t(red b0)\r\n",
      "\t\t(pink b1)\r\n",
      "\t\t(green b2)\r\n",
      "\t\t(navy b3)\r\n",
      "\t\t(blue b3)\r\n",
      "\t\t(greenyellow b4)\r\n",
      "\t\t(green b4)\r\n",
      "\t)\r\n",
      "\t(:goal (and (forall (?x) (in-tower ?x)) (forall (?x) (or (not (red ?x)) (exists (?y) (and (blue ?y) (on ?x ?y)))))))\r\n",
      ")\r\n"
     ]
    }
   ],
   "source": [
    "cat 'tmp/blocks_test3.pddl'"
   ]
  },
  {
   "cell_type": "code",
   "execution_count": 3,
   "metadata": {},
   "outputs": [
    {
     "name": "stdout",
     "output_type": "stream",
     "text": [
      "Parsing domain tmp/domain.pddl\n",
      "Parsing problem tmp/blocks_test.pddl\n"
     ]
    }
   ],
   "source": [
    "import pddl_functions\n",
    "domain, problem = pddl_functions.parse('tmp/domain.pddl', 'tmp/blocks_test.pddl')"
   ]
  },
  {
   "cell_type": "code",
   "execution_count": 4,
   "metadata": {},
   "outputs": [],
   "source": []
  },
  {
   "cell_type": "code",
   "execution_count": 10,
   "metadata": {},
   "outputs": [
    {
     "data": {
      "text/plain": [
       "\"\\nff: parsing domain file\\ndomain 'BLOCKSWORLD' defined\\n ... done.\\nff: parsing problem file\\nproblem 'BLOCK-PROBLEM' defined\\n ... done.\\n\\n\\n\\nCueing down from goal distance:    6 into depth [1]\\n                                   5            [1]\\n                                   3            [1]\\n                                   2            [1]\\n                                   1            [1]\\n                                   0            \\n\\nff: found legal plan as follows\\n\\nstep    0: PUT B4 T0\\n        1: PUT B3 B4\\n        2: PUT B0 B3\\n        3: PUT B2 B0\\n        4: PUT B1 B2\\n     \\n\\ntime spent:    0.00 seconds instantiating 36 easy, 0 hard action templates\\n               0.00 seconds reachability analysis, yielding 47 facts and 30 actions\\n               0.00 seconds creating final representation with 46 relevant facts\\n               0.00 seconds building connectivity graph\\n               0.00 seconds searching, evaluating 8 states, to a max depth of 1\\n               0.00 seconds total time\\n\\n\""
      ]
     },
     "execution_count": 10,
     "metadata": {},
     "output_type": "execute_result"
    }
   ],
   "source": [
    "import ff\n",
    "ff.ff('blocks-domain.pddl', 'tmp/blocks_test3.pddl')"
   ]
  },
  {
   "cell_type": "code",
   "execution_count": 11,
   "metadata": {},
   "outputs": [
    {
     "data": {
      "text/plain": [
       "\"\\nff: parsing domain file\\ndomain 'BLOCKSWORLD' defined\\n ... done.\\nff: parsing problem file\\nproblem 'BLOCK-PROBLEM' defined\\n ... done.\\n\\n\\nff: goal can be simplified to FALSE. No plan will solve it\\n\\n\""
      ]
     },
     "execution_count": 11,
     "metadata": {},
     "output_type": "execute_result"
    }
   ],
   "source": [
    "ff.ff('blocks-domain.pddl', 'tmp/world_problem.pddl')"
   ]
  },
  {
   "cell_type": "code",
   "execution_count": 9,
   "metadata": {},
   "outputs": [
    {
     "name": "stdout",
     "output_type": "stream",
     "text": [
      "Parsing domain blocks-domain.pddl\n",
      "Parsing problem tmp/blocks_test.pddl\n",
      "False\n",
      "[(0.2, 0), (0.6000000000000001, 0), (1.0, 0), (1.4, 0), (1.7999999999999998, 0), (2.1999999999999997, 0)]\n"
     ]
    },
    {
     "data": {
      "image/png": "[encoded data removed]",
      "text/plain": [
       "<Figure size 432x288 with 1 Axes>"
      ]
     },
     "metadata": {},
     "output_type": "display_data"
    },
    {
     "name": "stdout",
     "output_type": "stream",
     "text": [
      "[(0.2, 0), (0.6000000000000001, 0), (1.0, 0), (0.2, 0.4), (0.2, 0.2), (0.2, 0)]\n"
     ]
    },
    {
     "data": {
      "image/png": "[encoded data removed]",
      "text/plain": [
       "<Figure size 432x288 with 1 Axes>"
      ]
     },
     "metadata": {},
     "output_type": "display_data"
    }
   ],
   "source": [
    "w = world.PDDLWorld('blocks-domain.pddl', 'tmp/blocks_test.pddl')\n",
    "print(w.test_failure())\n",
    "\n",
    "w.draw()\n",
    "w.update('put', ['b4', 't0'])\n",
    "w.update('put', ['b3', 'b4'])\n",
    "w.update('put', ['b2', 'b3'])\n",
    "w.draw()"
   ]
  },
  {
   "cell_type": "code",
   "execution_count": 7,
   "metadata": {},
   "outputs": [
    {
     "data": {
      "text/plain": [
       "True"
      ]
     },
     "execution_count": 7,
     "metadata": {},
     "output_type": "execute_result"
    }
   ],
   "source": [
    "w.test_failure()"
   ]
  },
  {
   "cell_type": "code",
   "execution_count": 12,
   "metadata": {},
   "outputs": [
    {
     "name": "stdout",
     "output_type": "stream",
     "text": [
      "(define (problem block-problem)\n",
      "\t(:domain blocksworld)\n",
      "\t(:objects b0 b1 b2 b3 b4 t0)\n",
      "\t(:init \n",
      "\t\t(arm-empty )\n",
      "\t\t(on-table b0)\n",
      "\t\t(clear b0)\n",
      "\t\t(on-table b1)\n",
      "\t\t(clear b1)\n",
      "\t\t(on-table b2)\n",
      "\t\t(clear b2)\n",
      "\t\t(on-table b3)\n",
      "\t\t(clear b3)\n",
      "\t\t(on-table b4)\n",
      "\t\t(clear b4)\n",
      "\t\t(in-tower t0)\n",
      "\t\t(clear t0)\n",
      "\t\t(red b0)\n",
      "\t\t(pink b1)\n",
      "\t\t(green b2)\n",
      "\t\t(navy b3)\n",
      "\t\t(blues b3)\n",
      "\t\t(greenyellow b4)\n",
      "\t\t(green b4)\n",
      "\t)\n",
      "\t(:goal (and (forall (?x) (in-tower ?x)) (forall (?x) (or (not (red ?x)) (exists (?y) (and (blue ?y) (on ?x ?y)))))))\n",
      ")\n"
     ]
    }
   ],
   "source": [
    "print(w3.problem.asPDDL())"
   ]
  },
  {
   "cell_type": "code",
   "execution_count": 10,
   "metadata": {},
   "outputs": [
    {
     "name": "stdout",
     "output_type": "stream",
     "text": [
      "(define (problem block-problem)\n",
      "\t(:domain blocksworld)\n",
      "\t(:objects b0 b1 b2 b3 b4 t0)\n",
      "\t(:init \n",
      "\t\t(arm-empty )\n",
      "\t\t(on-table b0)\n",
      "\t\t(clear b0)\n",
      "\t\t(on-table b1)\n",
      "\t\t(clear b1)\n",
      "\t\t(on-table b2)\n",
      "\t\t(clear b2)\n",
      "\t\t(on-table b3)\n",
      "\t\t(clear b3)\n",
      "\t\t(on-table b4)\n",
      "\t\t(clear b4)\n",
      "\t\t(in-tower t0)\n",
      "\t\t(clear t0)\n",
      "\t\t(red b0)\n",
      "\t\t(pink b1)\n",
      "\t\t(green b2)\n",
      "\t\t(darkred b3)\n",
      "\t\t(red b3)\n",
      "\t\t(greenyellow b4)\n",
      "\t\t(green b4)\n",
      "\t)\n",
      "\t(:goal (forall (?x) (in-tower ?x)))\n",
      ")\n"
     ]
    }
   ],
   "source": [
    "print(problem.asPDDL())"
   ]
  },
  {
   "cell_type": "code",
   "execution_count": 3,
   "metadata": {},
   "outputs": [
    {
     "data": {
      "text/plain": [
       "[('put', ['b4', 't0']),\n",
       " ('put', ['b3', 'b4']),\n",
       " ('put', ['b2', 'b3']),\n",
       " ('put', ['b1', 'b2']),\n",
       " ('put', ['b0', 'b1'])]"
      ]
     },
     "execution_count": 3,
     "metadata": {},
     "output_type": "execute_result"
    }
   ],
   "source": [
    "import ff\n",
    "ff.run('blocks-domain.pddl', 'tmp/blocks_test.pddl')"
   ]
  },
  {
   "cell_type": "code",
   "execution_count": 5,
   "metadata": {},
   "outputs": [],
   "source": [
    "from  block_plotting import colour_names"
   ]
  },
  {
   "cell_type": "code",
   "execution_count": 6,
   "metadata": {},
   "outputs": [
    {
     "data": {
      "text/plain": [
       "{'aliceblue',\n",
       " 'antiquewhite',\n",
       " 'aqua',\n",
       " 'aquamarine',\n",
       " 'azure',\n",
       " 'beige',\n",
       " 'bisque',\n",
       " 'black',\n",
       " 'blanchedalmond',\n",
       " 'blue',\n",
       " 'blueviolet',\n",
       " 'brown',\n",
       " 'burlywood',\n",
       " 'cadetblue',\n",
       " 'chartreuse',\n",
       " 'chocolate',\n",
       " 'coral',\n",
       " 'cornflowerblue',\n",
       " 'cornsilk',\n",
       " 'crimson',\n",
       " 'cyan',\n",
       " 'darkblue',\n",
       " 'darkcyan',\n",
       " 'darkgoldenrod',\n",
       " 'darkgray',\n",
       " 'darkgreen',\n",
       " 'darkgrey',\n",
       " 'darkkhaki',\n",
       " 'darkmagenta',\n",
       " 'darkolivegreen',\n",
       " 'darkorange',\n",
       " 'darkorchid',\n",
       " 'darkred',\n",
       " 'darksalmon',\n",
       " 'darkseagreen',\n",
       " 'darkslateblue',\n",
       " 'darkslategray',\n",
       " 'darkslategrey',\n",
       " 'darkturquoise',\n",
       " 'darkviolet',\n",
       " 'deeppink',\n",
       " 'deepskyblue',\n",
       " 'dimgray',\n",
       " 'dimgrey',\n",
       " 'dodgerblue',\n",
       " 'firebrick',\n",
       " 'floralwhite',\n",
       " 'forestgreen',\n",
       " 'fuchsia',\n",
       " 'gainsboro',\n",
       " 'ghostwhite',\n",
       " 'gold',\n",
       " 'goldenrod',\n",
       " 'gray',\n",
       " 'green',\n",
       " 'greenyellow',\n",
       " 'grey',\n",
       " 'honeydew',\n",
       " 'hotpink',\n",
       " 'indianred',\n",
       " 'indigo',\n",
       " 'ivory',\n",
       " 'khaki',\n",
       " 'lavender',\n",
       " 'lavenderblush',\n",
       " 'lawngreen',\n",
       " 'lemonchiffon',\n",
       " 'lightblue',\n",
       " 'lightcoral',\n",
       " 'lightcyan',\n",
       " 'lightgoldenrodyellow',\n",
       " 'lightgray',\n",
       " 'lightgreen',\n",
       " 'lightgrey',\n",
       " 'lightpink',\n",
       " 'lightsalmon',\n",
       " 'lightseagreen',\n",
       " 'lightskyblue',\n",
       " 'lightslategray',\n",
       " 'lightslategrey',\n",
       " 'lightsteelblue',\n",
       " 'lightyellow',\n",
       " 'lime',\n",
       " 'limegreen',\n",
       " 'linen',\n",
       " 'magenta',\n",
       " 'maroon',\n",
       " 'mediumaquamarine',\n",
       " 'mediumblue',\n",
       " 'mediumorchid',\n",
       " 'mediumpurple',\n",
       " 'mediumseagreen',\n",
       " 'mediumslateblue',\n",
       " 'mediumspringgreen',\n",
       " 'mediumturquoise',\n",
       " 'mediumvioletred',\n",
       " 'midnightblue',\n",
       " 'mintcream',\n",
       " 'mistyrose',\n",
       " 'moccasin',\n",
       " 'navajowhite',\n",
       " 'navy',\n",
       " 'oldlace',\n",
       " 'olive',\n",
       " 'olivedrab',\n",
       " 'orange',\n",
       " 'orangered',\n",
       " 'orchid',\n",
       " 'palegoldenrod',\n",
       " 'palegreen',\n",
       " 'paleturquoise',\n",
       " 'palevioletred',\n",
       " 'papayawhip',\n",
       " 'peachpuff',\n",
       " 'peru',\n",
       " 'pink',\n",
       " 'plum',\n",
       " 'powderblue',\n",
       " 'purple',\n",
       " 'rebeccapurple',\n",
       " 'red',\n",
       " 'rosybrown',\n",
       " 'royalblue',\n",
       " 'saddlebrown',\n",
       " 'salmon',\n",
       " 'sandybrown',\n",
       " 'seagreen',\n",
       " 'seashell',\n",
       " 'sienna',\n",
       " 'silver',\n",
       " 'skyblue',\n",
       " 'slateblue',\n",
       " 'slategray',\n",
       " 'slategrey',\n",
       " 'snow',\n",
       " 'springgreen',\n",
       " 'steelblue',\n",
       " 'tan',\n",
       " 'teal',\n",
       " 'thistle',\n",
       " 'tomato',\n",
       " 'turquoise',\n",
       " 'violet',\n",
       " 'wheat',\n",
       " 'white',\n",
       " 'whitesmoke',\n",
       " 'yellow',\n",
       " 'yellowgreen'}"
      ]
     },
     "execution_count": 6,
     "metadata": {},
     "output_type": "execute_result"
    }
   ],
   "source": [
    "colour_names"
   ]
  },
  {
   "cell_type": "code",
   "execution_count": 15,
   "metadata": {},
   "outputs": [],
   "source": [
    "colour_dict = {'red': ['red', 'darkred', 'maroon', 'firebrick', 'crimson'],\n",
    "'green': ['olivedrab', 'yellowgreen', 'darkolivegreen', 'greenyellow', 'charteuse', 'lawngreen', 'palegreen', 'forestgreen', 'limegreen', 'green', 'seagreen'],\n",
    "'blues': ['cornflowerblue', 'royalblue', 'midnightblue', 'navy', 'darkblue', 'blue', 'mediumblue', 'dodgerblue', 'deepskyblue'],\n",
    "'yellow': ['yellow', 'lightyellow', 'lightgoldenrodyellow'],\n",
    "'purple': ['indigo', 'darkorchid', 'darkviolet', 'rebeccapurple', 'purple', 'blueviolet', 'darkmagenta'],\n",
    "'pink': ['fuchsia', 'hotpink', 'deeppink', 'pink', 'lightpink', 'magenta'],\n",
    "'orange': ['orange', 'darkorange', 'bisque']}\n"
   ]
  },
  {
   "cell_type": "code",
   "execution_count": 16,
   "metadata": {},
   "outputs": [
    {
     "name": "stdout",
     "output_type": "stream",
     "text": [
      "(red ?x)\n",
      "(darkred ?x)\n",
      "(maroon ?x)\n",
      "(firebrick ?x)\n",
      "(crimson ?x)\n",
      "(olivedrab ?x)\n",
      "(yellowgreen ?x)\n",
      "(darkolivegreen ?x)\n",
      "(greenyellow ?x)\n",
      "(charteuse ?x)\n",
      "(lawngreen ?x)\n",
      "(palegreen ?x)\n",
      "(forestgreen ?x)\n",
      "(limegreen ?x)\n",
      "(green ?x)\n",
      "(seagreen ?x)\n",
      "(cornflowerblue ?x)\n",
      "(royalblue ?x)\n",
      "(midnightblue ?x)\n",
      "(navy ?x)\n",
      "(darkblue ?x)\n",
      "(blue ?x)\n",
      "(mediumblue ?x)\n",
      "(dodgerblue ?x)\n",
      "(deepskyblue ?x)\n",
      "(yellow ?x)\n",
      "(lightyellow ?x)\n",
      "(lightgoldenrodyellow ?x)\n",
      "(indigo ?x)\n",
      "(darkorchid ?x)\n",
      "(darkviolet ?x)\n",
      "(rebeccapurple ?x)\n",
      "(purple ?x)\n",
      "(blueviolet ?x)\n",
      "(darkmagenta ?x)\n",
      "(fuchsia ?x)\n",
      "(hotpink ?x)\n",
      "(deeppink ?x)\n",
      "(pink ?x)\n",
      "(lightpink ?x)\n",
      "(magenta ?x)\n",
      "(orange ?x)\n",
      "(darkorange ?x)\n",
      "(bisque ?x)\n"
     ]
    }
   ],
   "source": [
    "for key in colour_dict.keys():\n",
    "    for value in colour_dict[key]:\n",
    "        print('({} ?x)'.format(value))"
   ]
  },
  {
   "cell_type": "code",
   "execution_count": null,
   "metadata": {},
   "outputs": [],
   "source": []
  }
 ],
 "metadata": {
  "kernelspec": {
   "display_name": "Python 3",
   "language": "python",
   "name": "python3"
  },
  "language_info": {
   "codemirror_mode": {
    "name": "ipython",
    "version": 3
   },
   "file_extension": ".py",
   "mimetype": "text/x-python",
   "name": "python",
   "nbconvert_exporter": "python",
   "pygments_lexer": "ipython3",
   "version": "3.6.3"
  }
 },
 "nbformat": 4,
 "nbformat_minor": 2
}

{
 "cells": [
  {
   "cell_type": "code",
   "execution_count": 1,
   "metadata": {},
   "outputs": [],
   "source": [
    "import dmrs_functions\n",
    "from collections import namedtuple\n",
    "import goal_updates\n",
    "import ff\n",
    "import prob_model\n",
    "import world\n",
    "import copy"
   ]
  },
  {
   "cell_type": "code",
   "execution_count": 2,
   "metadata": {},
   "outputs": [],
   "source": [
    "correction_type1 = 'No, put red blocks on blue blocks'\n",
    "correction_type2 = 'No, now you cannot put b3 in the tower because you must put red blocks on blue blocks'"
   ]
  },
  {
   "cell_type": "code",
   "execution_count": 3,
   "metadata": {},
   "outputs": [],
   "source": [
    "Message = namedtuple('Message', ['rel', 'o1', 'o2', 'T', 'o3'])\n",
    "\n",
    "def get_adjectives(obj):\n",
    "    return [dmrs_functions.get_pred(node['predicate']) for node in obj if dmrs_functions.get_pos(node['predicate']) == 'a']\n",
    "\n",
    "def read_sentence(sentence):\n",
    "    sentence = sentence.lower().strip('no,')\n",
    "    o3 = None\n",
    "    T = 'tower'\n",
    "    if 'tower because you must' in sentence:\n",
    "        T = 'table'\n",
    "        o3 = sentence.split('put')[1].split('in')[0].strip()\n",
    "        sentence = sentence.split('because you must')[1].strip()\n",
    "    rel, o1, o2= dmrs_functions.sent_to_tripple(sentence)\n",
    "    o1 = get_adjectives(o1)\n",
    "    o2 = get_adjectives(o2)\n",
    "    rel = dmrs_functions.get_pred(rel['predicate'])\n",
    "    return Message(rel, o1, o2, T, o3)\n",
    "\n",
    "    "
   ]
  },
  {
   "cell_type": "code",
   "execution_count": 4,
   "metadata": {},
   "outputs": [
    {
     "data": {
      "text/plain": [
       "Message(rel='on', o1=['red'], o2=['blue'], T='tower', o3=None)"
      ]
     },
     "execution_count": 4,
     "metadata": {},
     "output_type": "execute_result"
    }
   ],
   "source": [
    "read_sentence(correction_type1)"
   ]
  },
  {
   "cell_type": "code",
   "execution_count": 5,
   "metadata": {},
   "outputs": [
    {
     "data": {
      "text/plain": [
       "Message(rel='on', o1=['red'], o2=['blue'], T='table', o3='b3')"
      ]
     },
     "execution_count": 5,
     "metadata": {},
     "output_type": "execute_result"
    }
   ],
   "source": [
    "read_sentence(correction_type2)"
   ]
  },
  {
   "cell_type": "code",
   "execution_count": 6,
   "metadata": {},
   "outputs": [
    {
     "data": {
      "text/plain": [
       "{(<pythonpddl2.pddl.Formula at 0x7f5303d0df60>,\n",
       "  <pythonpddl2.pddl.Formula at 0x7f53340d0668>): 1}"
      ]
     },
     "execution_count": 6,
     "metadata": {},
     "output_type": "execute_result"
    }
   ],
   "source": [
    "rules = goal_updates.create_goal_options(['red'], ['blue'])\n",
    "{tuple(rules): 1}"
   ]
  },
  {
   "cell_type": "code",
   "execution_count": 7,
   "metadata": {},
   "outputs": [
    {
     "data": {
      "text/plain": [
       "'(forall (?x ?y) (or (not (red ?x)) (blue ?y)))'"
      ]
     },
     "execution_count": 7,
     "metadata": {},
     "output_type": "execute_result"
    }
   ],
   "source": [
    "r1 = rules[0]\n",
    "r1.asPDDL()"
   ]
  },
  {
   "cell_type": "code",
   "execution_count": 8,
   "metadata": {},
   "outputs": [
    {
     "data": {
      "text/plain": [
       "[<pythonpddl2.pddl.Formula at 0x7f5303ce4d30>,\n",
       " <pythonpddl2.pddl.Formula at 0x7f5303d0e208>]"
      ]
     },
     "execution_count": 8,
     "metadata": {},
     "output_type": "execute_result"
    }
   ],
   "source": [
    "rules = goal_updates.create_goal_options(['red'], ['blue'])\n",
    "rules"
   ]
  },
  {
   "cell_type": "code",
   "execution_count": null,
   "metadata": {},
   "outputs": [],
   "source": []
  },
  {
   "cell_type": "code",
   "execution_count": 9,
   "metadata": {},
   "outputs": [],
   "source": [
    "class Agent(object):\n",
    "\n",
    "\n",
    "    def plan(self):\n",
    "        raise NotImplementedError()\n",
    "\n",
    "    def act(self, action):\n",
    "        raise NotImplementedError()\n"
   ]
  },
  {
   "cell_type": "code",
   "execution_count": 22,
   "metadata": {},
   "outputs": [],
   "source": [
    "\n",
    "\n",
    "class CorrectingAgent(Agent):\n",
    "\n",
    "    def __init__(self, world, colour_models = {}, rule_beliefs = {}, domain_file='blocks-domain.pddl'):\n",
    "        self.world = world\n",
    "        self.domain = world.domain\n",
    "        self.domain_file = domain_file\n",
    "        observation = world.sense()\n",
    "        self.problem = copy.deepcopy(world.problem)\n",
    "        self.goal = self.problem.goal\n",
    "        self.problem.initialstate = observation.state\n",
    "        self.colour_models = colour_models\n",
    "        self.rule_beliefs = rule_beliefs\n",
    "        self.threshold = 0.7\n",
    "\n",
    "    def plan(self):\n",
    "        with open('tmp/problem.pddl', 'w') as f:\n",
    "            f.write(self.problem.asPDDL())\n",
    "\n",
    "        plan = ff.run(self.domain_file, 'tmp/problem.pddl')\n",
    "        return plan\n",
    "\n",
    "    def get_correction(self, user_input, action, args):\n",
    "        message = read_sentence(user_input)\n",
    "        rule_model, rules = self.build_model(message)\n",
    "        \n",
    "        data = self.get_data(message, args)\n",
    "        \n",
    "        rule_beliefs = rule_model.update_belief_r(data)\n",
    "        print(rule_beliefs)\n",
    "        \n",
    "        self.rule_beliefs[rule_model.rules] = rule_beliefs\n",
    "        if rule_beliefs[0] > self.threshold:\n",
    "            self.goal = goal_updates.update_goal(self.goal, rules[0])\n",
    "            self.problem.goal = self.goal\n",
    "            \n",
    "        elif rule_beliefs[1] > self.threshold:\n",
    "            self.goal = goal_updates.update_goal(self.goal, rules[1])\n",
    "            self.problem.goal = self.goal\n",
    "        \n",
    "        else:\n",
    "            answer = input('Is the top object {}?'.format(message.o1[0]))\n",
    "            bin_answer = int(answer.lower() == 'yes')\n",
    "            rule_beliefs = rule_model.update_belief_r(data, visible={message.o1[0]:bin_answer})\n",
    "            if rule_beliefs[0] > self.threshold:\n",
    "                self.goal = goal_updates.update_goal(self.goal, rules[0])\n",
    "                self.problem.goal = self.goal\n",
    "\n",
    "            elif rule_beliefs[1] > self.threshold:\n",
    "                self.goal = goal_updates.update_goal(self.goal, rules[1])\n",
    "                self.problem.goal = self.goal\n",
    "       \n",
    "        rule_model.update_c(data)\n",
    "        \n",
    "        \n",
    "        \n",
    "        \n",
    "    def get_data(self, message, args):\n",
    "        observation = self.sense()\n",
    "        \n",
    "        c1 = message.o1[0]\n",
    "        c2 = message.o2[0]\n",
    "        c3 = '{}/{}'.format(c1, c2)\n",
    "        o1 = args[0]\n",
    "        o2 = args[1]\n",
    "        o3 = message.o3\n",
    "        colour_data = observation.colours\n",
    "        try:\n",
    "            data_dict = {c1:colour_data[o1], c2:colour_data[o2], c3:colour_data[o3]}\n",
    "        except KeyError:\n",
    "            data_dict = {c1:colour_data[o1], c2:colour_data[o2]}\n",
    "        return data_dict\n",
    "        \n",
    "        \n",
    "\n",
    "    def build_model(self, message):\n",
    "        rules = goal_updates.create_goal_options(message.o1, message.o2)\n",
    "        rule_names = tuple(map(lambda x: x.asPDDL(), rules))\n",
    "        \n",
    "        if rule_names in self.rule_beliefs.keys():\n",
    "            rule_probs = self.rule_beliefs[rule_names] # this will probably have to change\n",
    "        \n",
    "        else:\n",
    "            rule_probs = (0.5, 0.5)\n",
    "        \n",
    "        c1 = message.o1[0]\n",
    "        c2 = message.o2[0]\n",
    "        try:\n",
    "            colour_model1 = self.colour_models[c1]\n",
    "        except KeyError:\n",
    "            colour_model1 = prob_model.ColourModel(c1)\n",
    "            self.colour_models[c1] = colour_model1\n",
    "        try:\n",
    "            colour_model2 = self.colour_models[c2]\n",
    "        except KeyError:\n",
    "            colour_model2 = prob_model.ColourModel(c2)\n",
    "            self.colour_models[c2] = colour_model2\n",
    "        \n",
    "        if message.T == 'tower':\n",
    "            rule_model = prob_model.CorrectionModel(rule_names, colour_model1, colour_model2, rule_belief=rule_probs)\n",
    "            \n",
    "        else:\n",
    "            rule_model = prob_model.TableCorrectionModel(rule_names, colour_model1, colour_model2, rule_belief=rule_probs)\n",
    "        return rule_model, rules\n",
    "    \n",
    "    def sense(self):\n",
    "        return self.world.sense()"
   ]
  },
  {
   "cell_type": "code",
   "execution_count": null,
   "metadata": {},
   "outputs": [],
   "source": []
  },
  {
   "cell_type": "code",
   "execution_count": 26,
   "metadata": {
    "scrolled": true
   },
   "outputs": [
    {
     "name": "stdout",
     "output_type": "stream",
     "text": [
      "Parsing domain blocks-domain.pddl\n",
      "Parsing problem blocks_problem_default.pddl\n"
     ]
    },
    {
     "data": {
      "image/png": "[encoded data removed]",
      "text/plain": [
       "<Figure size 432x288 with 1 Axes>"
      ]
     },
     "metadata": {},
     "output_type": "display_data"
    },
    {
     "data": {
      "image/png": "[encoded data removed]",
      "text/plain": [
       "<Figure size 432x288 with 1 Axes>"
      ]
     },
     "metadata": {},
     "output_type": "display_data"
    },
    {
     "data": {
      "image/png": "[encoded data removed]",
      "text/plain": [
       "<Figure size 432x288 with 1 Axes>"
      ]
     },
     "metadata": {},
     "output_type": "display_data"
    },
    {
     "data": {
      "image/png": "[encoded data removed]",
      "text/plain": [
       "<Figure size 432x288 with 1 Axes>"
      ]
     },
     "metadata": {},
     "output_type": "display_data"
    }
   ],
   "source": [
    "w = world.PDDLWorld('blocks-domain.pddl', 'blocks_problem_default.pddl')\n",
    "agent = CorrectingAgent(w)\n",
    "plan = agent.plan()\n",
    "for a, args in plan:\n",
    "    w.update(a, args)\n",
    "    w.draw()"
   ]
  },
  {
   "cell_type": "code",
   "execution_count": 12,
   "metadata": {},
   "outputs": [
    {
     "ename": "NameError",
     "evalue": "name 'model' is not defined",
     "output_type": "error",
     "traceback": [
      "\u001b[0;31m---------------------------------------------------------------------------\u001b[0m",
      "\u001b[0;31mNameError\u001b[0m                                 Traceback (most recent call last)",
      "\u001b[0;32m<ipython-input-12-d077fddf498d>\u001b[0m in \u001b[0;36m<module>\u001b[0;34m()\u001b[0m\n\u001b[0;32m----> 1\u001b[0;31m \u001b[0mmodel\u001b[0m\u001b[0;34m.\u001b[0m\u001b[0mrule_belief\u001b[0m\u001b[0;34m\u001b[0m\u001b[0m\n\u001b[0m",
      "\u001b[0;31mNameError\u001b[0m: name 'model' is not defined"
     ]
    }
   ],
   "source": [
    "model.rule_belief"
   ]
  },
  {
   "cell_type": "code",
   "execution_count": 25,
   "metadata": {},
   "outputs": [
    {
     "name": "stdout",
     "output_type": "stream",
     "text": [
      "(0.5000000000000001, 0.49999999999999994)\n",
      "Is the top object red?no\n"
     ]
    }
   ],
   "source": [
    "agent.get_correction(correction_type2, args, args)"
   ]
  },
  {
   "cell_type": "code",
   "execution_count": 15,
   "metadata": {},
   "outputs": [
    {
     "data": {
      "text/plain": [
       "'(and (forall (?x) (in-tower ?x)) (forall (?x ?y) (or (not (red ?x)) (blue ?y))))'"
      ]
     },
     "execution_count": 15,
     "metadata": {},
     "output_type": "execute_result"
    }
   ],
   "source": [
    "agent.goal.asPDDL()"
   ]
  },
  {
   "cell_type": "code",
   "execution_count": null,
   "metadata": {},
   "outputs": [],
   "source": [
    "model, rules = agent.build_model(message)"
   ]
  },
  {
   "cell_type": "code",
   "execution_count": null,
   "metadata": {},
   "outputs": [],
   "source": [
    "data = agent.get_data(message, args)"
   ]
  },
  {
   "cell_type": "code",
   "execution_count": null,
   "metadata": {},
   "outputs": [],
   "source": [
    "blue = agent.colour_models['blue']"
   ]
  },
  {
   "cell_type": "code",
   "execution_count": null,
   "metadata": {},
   "outputs": [],
   "source": [
    "import numpy as np"
   ]
  },
  {
   "cell_type": "code",
   "execution_count": null,
   "metadata": {},
   "outputs": [],
   "source": [
    "blue.update_mu(data['blue'], np.array(0.5))"
   ]
  },
  {
   "cell_type": "code",
   "execution_count": null,
   "metadata": {},
   "outputs": [],
   "source": [
    "data"
   ]
  },
  {
   "cell_type": "code",
   "execution_count": null,
   "metadata": {},
   "outputs": [],
   "source": [
    "model.update_c(data)"
   ]
  },
  {
   "cell_type": "code",
   "execution_count": null,
   "metadata": {},
   "outputs": [],
   "source": [
    "args"
   ]
  },
  {
   "cell_type": "code",
   "execution_count": null,
   "metadata": {},
   "outputs": [],
   "source": [
    "message = read_sentence(correction_type1)"
   ]
  },
  {
   "cell_type": "code",
   "execution_count": null,
   "metadata": {},
   "outputs": [],
   "source": [
    "agent.get_data(message, args)"
   ]
  },
  {
   "cell_type": "code",
   "execution_count": null,
   "metadata": {},
   "outputs": [],
   "source": [
    "g = agent.problem.goal"
   ]
  },
  {
   "cell_type": "code",
   "execution_count": null,
   "metadata": {},
   "outputs": [],
   "source": [
    "g.subformulas[0].asPDDL()"
   ]
  },
  {
   "cell_type": "code",
   "execution_count": null,
   "metadata": {},
   "outputs": [],
   "source": [
    "from pythonpddl2.pddl import Predicate, TypedArg, TypedArgList, Formula\n"
   ]
  },
  {
   "cell_type": "code",
   "execution_count": null,
   "metadata": {},
   "outputs": [],
   "source": [
    "g = update_goal(g, r1)"
   ]
  },
  {
   "cell_type": "code",
   "execution_count": null,
   "metadata": {},
   "outputs": [],
   "source": [
    "g.asPDDL()"
   ]
  },
  {
   "cell_type": "code",
   "execution_count": null,
   "metadata": {},
   "outputs": [],
   "source": []
  }
 ],
 "metadata": {
  "kernelspec": {
   "display_name": "Python 3",
   "language": "python",
   "name": "python3"
  },
  "language_info": {
   "codemirror_mode": {
    "name": "ipython",
    "version": 3
   },
   "file_extension": ".py",
   "mimetype": "text/x-python",
   "name": "python",
   "nbconvert_exporter": "python",
   "pygments_lexer": "ipython3",
   "version": "3.6.3"
  }
 },
 "nbformat": 4,
 "nbformat_minor": 2
}

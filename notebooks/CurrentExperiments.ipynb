{
 "cells": [
  {
   "cell_type": "code",
   "execution_count": null,
   "metadata": {},
   "outputs": [],
   "source": [
    "from correctingagent.world import world\n",
    "from pathlib import Path\n",
    "from correctingagent.pddl import block_plotting\n",
    "from correctingagent.pddl.pddl_functions import *\n",
    "from correctingagent.util.util import get_config\n",
    "from correctingagent.pddl.ff import run\n",
    "from correctingagent.agents.teacher import *\n",
    "import pythonpddl\n",
    "from correctingagent.world import world_generation, problem_def\n",
    "from correctingagent.experiments import experiment, exper\n",
    "from correctingagent.agents import teacher\n",
    "from correctingagent.agents.PGMAgent import *\n",
    "from correctingagent.world import world\n",
    "from correctingagent.world.rules import ColourCountRule\n",
    "from correctingagent.util.database import BigExperimentDB"
   ]
  },
  {
   "cell_type": "code",
   "execution_count": null,
   "metadata": {},
   "outputs": [],
   "source": [
    "df = experiment_tracking.read_big()"
   ]
  },
  {
   "cell_type": "code",
   "execution_count": null,
   "metadata": {},
   "outputs": [],
   "source": [
    "\n",
    "#experiment.add_big_experiment('colour_count_mix_simpler_old_teacher', 'fixed_bw_0.05', vis=True)\n",
    "# experiment.add_big_experiment('colour_count_mix_simpler_new_teacher', 'fixed_bw_0.05')\n",
    "# experiment.add_big_experiment('colour_count_mix_simpler_old_teacher_full', 'fixed_bw_0.05')\n",
    "# experiment.add_big_experiment('colour_count_mix_simpler_new_teacher_full', 'fixed_bw_0.05')\n",
    "done = []\n",
    "for dataset in ['threerules', 'fourrules']:\n",
    "    for teacher in ['old_teacher', 'new_teacher']:\n",
    "        for no_corr in ['', '_no_correction']:\n",
    "            \n",
    "            config = f'big_{dataset}_random_colours_{teacher}{no_corr}'\n",
    "            if config not in done:\n",
    "                experiment.add_big_experiment(config, 'fixed_bw_0.05')\n",
    "                done.append(config)"
   ]
  },
  {
   "cell_type": "code",
   "execution_count": null,
   "metadata": {},
   "outputs": [],
   "source": [
    "db = BigExperimentDB()\n",
    "db.get_df()"
   ]
  }
 ],
 "metadata": {
  "kernelspec": {
   "display_name": "Python 3",
   "language": "python",
   "name": "python3"
  },
  "language_info": {
   "codemirror_mode": {
    "name": "ipython",
    "version": 3
   },
   "file_extension": ".py",
   "mimetype": "text/x-python",
   "name": "python",
   "nbconvert_exporter": "python",
   "pygments_lexer": "ipython3",
   "version": "3.7.4"
  }
 },
 "nbformat": 4,
 "nbformat_minor": 2
}

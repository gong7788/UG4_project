{
 "cells": [
  {
   "cell_type": "code",
   "execution_count": 8,
   "metadata": {},
   "outputs": [],
   "source": [
    "import pddl_functions\n",
    "import ff\n",
    "import block_plotting\n",
    "    "
   ]
  },
  {
   "cell_type": "code",
   "execution_count": 2,
   "metadata": {},
   "outputs": [
    {
     "name": "stdout",
     "output_type": "stream",
     "text": [
      "Parsing domain blocks-domain.pddl\n",
      "Parsing problem blocks_problem_colour1.pddl\n"
     ]
    }
   ],
   "source": [
    "domain, problem = pddl_functions.parse('blocks-domain.pddl', 'blocks_problem_colour1.pddl')"
   ]
  },
  {
   "cell_type": "code",
   "execution_count": 4,
   "metadata": {},
   "outputs": [
    {
     "name": "stdout",
     "output_type": "stream",
     "text": [
      "(and (forall (?x) (in-tower ?x)) (forall (?x ?y) (or (not (and (blue ?x) (red ?y))) (on ?x ?y))))\n"
     ]
    },
    {
     "data": {
      "text/plain": [
       "[<pythonpddl2.pddl.Formula at 0x7f503e15b8d0>,\n",
       " <pythonpddl2.pddl.Formula at 0x7f503e15bb70>]"
      ]
     },
     "execution_count": 4,
     "metadata": {},
     "output_type": "execute_result"
    }
   ],
   "source": [
    "goal = problem.goal\n",
    "print(goal.asPDDL())\n",
    "goal.subformulas"
   ]
  },
  {
   "cell_type": "code",
   "execution_count": 9,
   "metadata": {},
   "outputs": [],
   "source": [
    "from pythonpddl2.pddl import Predicate, TypedArg, TypedArgList, Formula"
   ]
  },
  {
   "cell_type": "code",
   "execution_count": 13,
   "metadata": {},
   "outputs": [],
   "source": [
    "arg = TypedArg('b3')\n",
    "args = TypedArgList([arg])\n",
    "pred = Predicate('in-tower', args)\n",
    "form = Formula([pred])"
   ]
  },
  {
   "cell_type": "code",
   "execution_count": 14,
   "metadata": {},
   "outputs": [
    {
     "data": {
      "text/plain": [
       "'(in-tower b3)'"
      ]
     },
     "execution_count": 14,
     "metadata": {},
     "output_type": "execute_result"
    }
   ],
   "source": [
    "def create_formula():"
   ]
  },
  {
   "cell_type": "code",
   "execution_count": 7,
   "metadata": {},
   "outputs": [],
   "source": [
    "def make_variable_list(variables):\n",
    "    var_list = [TypedArg(arg) for arg in variables]\n",
    "    return TypedArgList(var_list)"
   ]
  },
  {
   "cell_type": "code",
   "execution_count": 15,
   "metadata": {},
   "outputs": [],
   "source": [
    "def create_goal(obj1, obj2, variables=(\"?x\", \"?y\")):\n",
    "    variables = make_variable_list(variables)\n",
    "    obj1_preds = [Predicate(p, TypedArgList([variables.args[0]])) for p in obj1]\n",
    "    obj2_preds = [Predicate(p, TypedArgList([variables.args[1]])) for p in obj2]\n",
    "    on = Predicate('on', make_variable_list(['?x', '?y']))\n",
    "    \n",
    "    if len(obj1_preds) > 1:\n",
    "        obj1_formula = Formula(obj1_preds, op='and')\n",
    "    else:\n",
    "        obj1_formula = Formula(obj1_preds)\n",
    "    \n",
    "    if len(obj2_preds) > 1:\n",
    "        obj2_formula = Formula(obj2_preds, op='and')\n",
    "    else:\n",
    "        obj2_formula = Formula(obj2_preds)\n",
    "    neg_o1 = Formula([obj1_formula], op='not')\n",
    "    subformula = Formula([neg_o1, obj2_formula], op='or')\n",
    "    \n",
    "    return Formula([subformula], op='forall', variables=variables)"
   ]
  },
  {
   "cell_type": "code",
   "execution_count": 17,
   "metadata": {},
   "outputs": [],
   "source": [
    "a = goal.subformulas[0]"
   ]
  },
  {
   "cell_type": "code",
   "execution_count": 19,
   "metadata": {},
   "outputs": [
    {
     "name": "stdout",
     "output_type": "stream",
     "text": [
      "(forall (?x ?y) (or (not (and (blue ?x) (block ?x))) (red ?y)))\n"
     ]
    }
   ],
   "source": [
    "updated_goal = create_goal(['blue', 'block'], ['red'])\n",
    "print(updated_goal.asPDDL())"
   ]
  },
  {
   "cell_type": "code",
   "execution_count": 24,
   "metadata": {
    "scrolled": true
   },
   "outputs": [],
   "source": [
    "def create_goal_options(obj1, obj2):\n",
    "    return [create_goal(obj1, obj2), create_goal(obj2, obj1, variables=(\"?y\", \"?x\"))]"
   ]
  },
  {
   "cell_type": "code",
   "execution_count": 25,
   "metadata": {},
   "outputs": [
    {
     "name": "stdout",
     "output_type": "stream",
     "text": [
      "(forall (?x ?y) (or (not (red ?x)) (blue ?y)))\n",
      "(forall (?y ?x) (or (not (blue ?y)) (red ?x)))\n"
     ]
    }
   ],
   "source": [
    "for goal in create_goal_options(['red'], ['blue']):\n",
    "    print(goal.asPDDL())"
   ]
  },
  {
   "cell_type": "code",
   "execution_count": null,
   "metadata": {},
   "outputs": [],
   "source": [
    "def "
   ]
  }
 ],
 "metadata": {
  "kernelspec": {
   "display_name": "Python 3",
   "language": "python",
   "name": "python3"
  },
  "language_info": {
   "codemirror_mode": {
    "name": "ipython",
    "version": 3
   },
   "file_extension": ".py",
   "mimetype": "text/x-python",
   "name": "python",
   "nbconvert_exporter": "python",
   "pygments_lexer": "ipython3",
   "version": "3.6.3"
  }
 },
 "nbformat": 4,
 "nbformat_minor": 2
}

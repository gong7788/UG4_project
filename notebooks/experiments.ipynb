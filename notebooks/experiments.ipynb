{
 "cells": [
  {
   "cell_type": "code",
   "execution_count": 5,
   "metadata": {},
   "outputs": [],
   "source": [
    "import pdb"
   ]
  },
  {
   "cell_type": "code",
   "execution_count": 1,
   "metadata": {},
   "outputs": [],
   "source": [
    "from experiment import run_experiment"
   ]
  },
  {
   "cell_type": "code",
   "execution_count": 6,
   "metadata": {},
   "outputs": [],
   "source": [
    "import os\n",
    "os.mkdir('simplecolours/agents.CorrectingAgent/0.7')"
   ]
  },
  {
   "cell_type": "code",
   "execution_count": 2,
   "metadata": {
    "scrolled": true
   },
   "outputs": [
    {
     "name": "stdout",
     "output_type": "stream",
     "text": [
      "problem9.pddl reward: -10\n"
     ]
    }
   ],
   "source": [
    "run_experiment()"
   ]
  },
  {
   "cell_type": "code",
   "execution_count": 4,
   "metadata": {},
   "outputs": [
    {
     "data": {
      "text/plain": [
       "'1,2,3'"
      ]
     },
     "execution_count": 4,
     "metadata": {},
     "output_type": "execute_result"
    }
   ],
   "source": [
    "','.join(map(str, [1,2,3]))"
   ]
  },
  {
   "cell_type": "code",
   "execution_count": 3,
   "metadata": {},
   "outputs": [
    {
     "name": "stdout",
     "output_type": "stream",
     "text": [
      "problem9.pddl reward: -10\n",
      "total reward: -720\n"
     ]
    },
    {
     "data": {
      "image/png": "[encoded data removed]",
      "text/plain": [
       "<Figure size 432x288 with 1 Axes>"
      ]
     },
     "metadata": {},
     "output_type": "display_data"
    },
    {
     "data": {
      "image/png": "[encoded data removed]",
      "text/plain": [
       "<Figure size 432x288 with 1 Axes>"
      ]
     },
     "metadata": {},
     "output_type": "display_data"
    }
   ],
   "source": [
    "run_experiment('simplecolours')"
   ]
  },
  {
   "cell_type": "code",
   "execution_count": 3,
   "metadata": {},
   "outputs": [],
   "source": [
    "from colour_dict import colour_dict\n",
    "colour_names = []\n",
    "for v in colour_dict.values():\n",
    "    colour_names.extend(v)"
   ]
  },
  {
   "cell_type": "code",
   "execution_count": 4,
   "metadata": {},
   "outputs": [
    {
     "data": {
      "text/plain": [
       "['red',\n",
       " 'darkred',\n",
       " 'maroon',\n",
       " 'firebrick',\n",
       " 'crimson',\n",
       " 'olivedrab',\n",
       " 'yellowgreen',\n",
       " 'darkolivegreen',\n",
       " 'greenyellow',\n",
       " 'charteuse',\n",
       " 'lawngreen',\n",
       " 'palegreen',\n",
       " 'forestgreen',\n",
       " 'limegreen',\n",
       " 'green',\n",
       " 'seagreen',\n",
       " 'cornflowerblue',\n",
       " 'royalblue',\n",
       " 'midnightblue',\n",
       " 'navy',\n",
       " 'darkblue',\n",
       " 'blue',\n",
       " 'mediumblue',\n",
       " 'dodgerblue',\n",
       " 'deepskyblue',\n",
       " 'yellow',\n",
       " 'lightyellow',\n",
       " 'lightgoldenrodyellow',\n",
       " 'indigo',\n",
       " 'darkorchid',\n",
       " 'darkviolet',\n",
       " 'purple',\n",
       " 'blueviolet',\n",
       " 'darkmagenta',\n",
       " 'fuchsia',\n",
       " 'hotpink',\n",
       " 'deeppink',\n",
       " 'pink',\n",
       " 'lightpink',\n",
       " 'magenta',\n",
       " 'orange',\n",
       " 'darkorange',\n",
       " 'bisque']"
      ]
     },
     "execution_count": 4,
     "metadata": {},
     "output_type": "execute_result"
    }
   ],
   "source": [
    "colour_names"
   ]
  },
  {
   "cell_type": "code",
   "execution_count": 8,
   "metadata": {},
   "outputs": [],
   "source": [
    "import webcolors\n",
    "import numpy as np"
   ]
  },
  {
   "cell_type": "code",
   "execution_count": 5,
   "metadata": {},
   "outputs": [
    {
     "name": "stdout",
     "output_type": "stream",
     "text": [
      "IntegerRGB(red=255, green=0, blue=0)\n",
      "IntegerRGB(red=0, green=128, blue=0)\n",
      "IntegerRGB(red=0, green=0, blue=255)\n"
     ]
    }
   ],
   "source": [
    "print(webcolors.name_to_rgb('red'))\n",
    "print(webcolors.name_to_rgb('green'))\n",
    "print(webcolors.name_to_rgb('blue'))"
   ]
  },
  {
   "cell_type": "code",
   "execution_count": 6,
   "metadata": {},
   "outputs": [],
   "source": [
    "def namedtuple_to_rgb(rgb):\n",
    "    return np.array(rgb, dtype=np.float32)/255"
   ]
  },
  {
   "cell_type": "code",
   "execution_count": 11,
   "metadata": {},
   "outputs": [
    {
     "data": {
      "text/plain": [
       "array([0., 0., 1.], dtype=float32)"
      ]
     },
     "execution_count": 11,
     "metadata": {},
     "output_type": "execute_result"
    }
   ],
   "source": [
    "namedtuple_to_rgb(webcolors.name_to_rgb('blue'))"
   ]
  },
  {
   "cell_type": "code",
   "execution_count": 12,
   "metadata": {},
   "outputs": [],
   "source": [
    "colours = ['cornflowerblue', 'royalblue', 'midnightblue', 'navy', 'darkblue', 'blue', 'mediumblue', 'dodgerblue', 'deepskyblue']"
   ]
  },
  {
   "cell_type": "code",
   "execution_count": 13,
   "metadata": {},
   "outputs": [
    {
     "name": "stdout",
     "output_type": "stream",
     "text": [
      "cornflowerblue [0.39215687 0.58431375 0.92941177]\n",
      "royalblue [0.25490198 0.4117647  0.88235295]\n",
      "midnightblue [0.09803922 0.09803922 0.4392157 ]\n",
      "navy [0.        0.        0.5019608]\n",
      "darkblue [0.         0.         0.54509807]\n",
      "blue [0. 0. 1.]\n",
      "mediumblue [0.        0.        0.8039216]\n",
      "dodgerblue [0.11764706 0.5647059  1.        ]\n",
      "deepskyblue [0.        0.7490196 1.       ]\n"
     ]
    }
   ],
   "source": [
    "for c in colours:\n",
    "    print(c, namedtuple_to_rgb(webcolors.name_to_rgb(c)))"
   ]
  },
  {
   "cell_type": "code",
   "execution_count": null,
   "metadata": {},
   "outputs": [],
   "source": []
  }
 ],
 "metadata": {
  "kernelspec": {
   "display_name": "Python 3",
   "language": "python",
   "name": "python3"
  },
  "language_info": {
   "codemirror_mode": {
    "name": "ipython",
    "version": 3
   },
   "file_extension": ".py",
   "mimetype": "text/x-python",
   "name": "python",
   "nbconvert_exporter": "python",
   "pygments_lexer": "ipython3",
   "version": "3.6.3"
  }
 },
 "nbformat": 4,
 "nbformat_minor": 1
}

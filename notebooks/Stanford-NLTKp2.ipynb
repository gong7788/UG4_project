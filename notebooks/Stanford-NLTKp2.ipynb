{
 "cells": [
  {
   "cell_type": "code",
   "execution_count": 1,
   "metadata": {},
   "outputs": [
    {
     "data": {
      "text/plain": [
       "'3.2.5'"
      ]
     },
     "execution_count": 1,
     "metadata": {},
     "output_type": "execute_result"
    }
   ],
   "source": [
    "import nltk\n",
    "nltk.__version__"
   ]
  },
  {
   "cell_type": "code",
   "execution_count": 6,
   "metadata": {},
   "outputs": [
    {
     "data": {
      "text/plain": [
       "'/afs/inf.ed.ac.uk/user/s12/s1202144/.local/bin:/afs/inf.ed.ac.uk/user/s12/s1202144/Desktop/phd/src/venv2/bin:/afs/inf.ed.ac.uk/user/s12/s1202144/Desktop/srilm/bin/i686-m64:/afs/inf.ed.ac.uk/user/s12/s1202144/Desktop/srilm/bin:/usr/lib64/qt-3.3/bin:/opt/mendeleydesktop/bin:/usr/local/bin/:/usr/lib/jvm/java-1.8.0/bin/:/opt/texlive/2017/bin/x86_64-linux:/opt/matlab-R2015a/bin/:/usr/local/sbin:/usr/bin:/sbin:/afs/inf.ed.ac.uk/user/s12/s1202144/.local/bin:/opt/sicstus-4.0.1/bin:/afs/inf.ed.ac.uk/user/s12/s1202144/.local/bin'"
      ]
     },
     "execution_count": 6,
     "metadata": {},
     "output_type": "execute_result"
    }
   ],
   "source": []
  },
  {
   "cell_type": "code",
   "execution_count": 1,
   "metadata": {},
   "outputs": [
    {
     "data": {
      "text/plain": [
       "['',\n",
       " '/afs/inf.ed.ac.uk/user/s12/s1202144/Desktop/phd/src/venv2/lib64/python27.zip',\n",
       " '/afs/inf.ed.ac.uk/user/s12/s1202144/Desktop/phd/src/venv2/lib64/python2.7',\n",
       " '/afs/inf.ed.ac.uk/user/s12/s1202144/Desktop/phd/src/venv2/lib64/python2.7/plat-linux2',\n",
       " '/afs/inf.ed.ac.uk/user/s12/s1202144/Desktop/phd/src/venv2/lib64/python2.7/lib-tk',\n",
       " '/afs/inf.ed.ac.uk/user/s12/s1202144/Desktop/phd/src/venv2/lib64/python2.7/lib-old',\n",
       " '/afs/inf.ed.ac.uk/user/s12/s1202144/Desktop/phd/src/venv2/lib64/python2.7/lib-dynload',\n",
       " '/usr/lib64/python2.7',\n",
       " '/usr/lib/python2.7',\n",
       " '/usr/lib64/python2.7/lib-tk',\n",
       " '/afs/inf.ed.ac.uk/user/s12/s1202144/Desktop/phd/src/venv2/lib/python2.7/site-packages',\n",
       " '/afs/inf.ed.ac.uk/user/s12/s1202144/Desktop/phd/src/venv2/lib/python2.7/site-packages/IPython/extensions',\n",
       " '/afs/inf.ed.ac.uk/user/s12/s1202144/.ipython']"
      ]
     },
     "execution_count": 1,
     "metadata": {},
     "output_type": "execute_result"
    }
   ],
   "source": [
    "import sys\n",
    "sys.path"
   ]
  },
  {
   "cell_type": "code",
   "execution_count": null,
   "metadata": {
    "collapsed": true
   },
   "outputs": [],
   "source": []
  }
 ],
 "metadata": {
  "kernelspec": {
   "display_name": "Python 2",
   "language": "python",
   "name": "python2"
  },
  "language_info": {
   "codemirror_mode": {
    "name": "ipython",
    "version": 3
   },
   "file_extension": ".py",
   "mimetype": "text/x-python",
   "name": "python",
   "nbconvert_exporter": "python",
   "pygments_lexer": "ipython3",
   "version": "3.4.2"
  }
 },
 "nbformat": 4,
 "nbformat_minor": 2
}

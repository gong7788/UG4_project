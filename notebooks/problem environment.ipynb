{
 "cells": [
  {
   "cell_type": "code",
   "execution_count": 6,
   "metadata": {},
   "outputs": [],
   "source": [
    "import numpy as np\n",
    "import pytest"
   ]
  },
  {
   "cell_type": "code",
   "execution_count": 75,
   "metadata": {},
   "outputs": [],
   "source": [
    "class OverlapError(Exception):\n",
    "    pass\n",
    "\n",
    "\n",
    "class Box(object):\n",
    "    def __init__(self, height, width):\n",
    "        self.layout = np.empty((height, width), dtype=np.object)\n",
    "        self.contains = []\n",
    "        \n",
    "    def insert(self, item, x, y):\n",
    "        \"\"\"x corresponds to the width and y the height\"\"\"\n",
    "        new = np.empty_like(self.layout, dtype=np.object)\n",
    "        new[y:y + item.height, x:x + item.width] =  item\n",
    "        \n",
    "        if np.any(np.logical_and(new, self.layout)):\n",
    "            raise OverlapError('The item cannot be placed there, it does not fit')\n",
    "        self.layout[y:y + item.height, x:x + item.width] = item\n",
    "        self.contains.append(item)\n",
    "        \n",
    "    \n",
    "        \n",
    "class Item(object):\n",
    "    def __init__(self, name, height, width):\n",
    "        self.name = name\n",
    "        self.height = height\n",
    "        self.width = width\n",
    "        \n",
    "    def __str__(self):\n",
    "        return self.name\n",
    "    \n",
    "    def __repr__(self):\n",
    "        return self.name\n",
    "        \n",
    "class Vase(Item):\n",
    "    def __init__(self, height, width):\n",
    "        super().__init__('Vase', height, width)\n",
    "        \n",
    "class Apple(Item):\n",
    "    def __init__(self):\n",
    "        super().__init__('Apple', 1, 1)"
   ]
  },
  {
   "cell_type": "code",
   "execution_count": 76,
   "metadata": {},
   "outputs": [],
   "source": [
    "\n",
    "def test_box_overlap_fail():\n",
    "    b = Box(10,10)\n",
    "    v = Vase(2,1)\n",
    "    b.insert(v, 3, 4)\n",
    "    with pytest.raises(OverlapError) as excinfo:\n",
    "        b.insert(v, 3, 5)\n",
    "    b.layout\n",
    "    \n",
    "\n",
    "    \n",
    "def test_box_overlap_different_objects():\n",
    "    b = Box(10,10)\n",
    "    v = Vase(2,1)\n",
    "    a = Apple()\n",
    "    b.insert(v, 3, 4)\n",
    "    with pytest.raises(OverlapError) as excinfo:\n",
    "        b.insert(a, 3, 4)\n",
    "    b.layout\n",
    "    \n",
    "test_box_overlap_fail()\n",
    "test_box_overlap_different_objects()"
   ]
  },
  {
   "cell_type": "code",
   "execution_count": 78,
   "metadata": {},
   "outputs": [
    {
     "data": {
      "text/plain": [
       "array([[None, None, None, None, None, None, None, None, None, None],\n",
       "       [None, None, None, None, None, None, None, None, None, None],\n",
       "       [None, None, None, None, None, None, None, None, None, None],\n",
       "       [None, None, None, None, None, None, None, None, None, None],\n",
       "       [None, None, None, Vase, None, None, None, None, None, None],\n",
       "       [None, None, None, Vase, None, Apple, None, None, None, None],\n",
       "       [None, None, None, None, None, None, None, None, None, None],\n",
       "       [None, None, None, None, None, None, None, None, None, None],\n",
       "       [None, None, None, None, None, None, None, None, None, None],\n",
       "       [None, None, None, None, None, None, None, None, None, None]],\n",
       "      dtype=object)"
      ]
     },
     "execution_count": 78,
     "metadata": {},
     "output_type": "execute_result"
    }
   ],
   "source": [
    "b = Box(10,10)\n",
    "v = Vase(2,1)\n",
    "a = Apple()\n",
    "b.insert(v, 3, 4)\n",
    "b.insert(a, 5,5)\n",
    "b.layout"
   ]
  },
  {
   "cell_type": "code",
   "execution_count": null,
   "metadata": {},
   "outputs": [],
   "source": []
  }
 ],
 "metadata": {
  "kernelspec": {
   "display_name": "Python 3",
   "language": "python",
   "name": "python3"
  },
  "language_info": {
   "codemirror_mode": {
    "name": "ipython",
    "version": 3
   },
   "file_extension": ".py",
   "mimetype": "text/x-python",
   "name": "python",
   "nbconvert_exporter": "python",
   "pygments_lexer": "ipython3",
   "version": "3.7.1"
  }
 },
 "nbformat": 4,
 "nbformat_minor": 2
}

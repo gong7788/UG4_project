{
 "cells": [
  {
   "cell_type": "code",
   "execution_count": 11,
   "metadata": {},
   "outputs": [
    {
     "name": "stdout",
     "output_type": "stream",
     "text": [
      "True Label  C=1 C=0\n",
      "Predict C=1| 1 | 0 |\n",
      "        C=0| 0 | 6 |\n"
     ]
    }
   ],
   "source": [
    "def print_confusion(confusion_dict):\n",
    "    print('True Label  C=1 C=0')\n",
    "    #print('_____________________')\n",
    "    print('Predict C=1| {tp} | {fp} |'.format(**confusion_dict))\n",
    "    print('        C=0| {fn} | {tn} |'.format(**confusion_dict))\n",
    "print_confusion({'fn': 0, 'fp': 0, 'tn': 6, 'tp': 1})"
   ]
  },
  {
   "cell_type": "code",
   "execution_count": null,
   "metadata": {},
   "outputs": [],
   "source": []
  }
 ],
 "metadata": {
  "kernelspec": {
   "display_name": "Python 3",
   "language": "python",
   "name": "python3"
  },
  "language_info": {
   "codemirror_mode": {
    "name": "ipython",
    "version": 3
   },
   "file_extension": ".py",
   "mimetype": "text/x-python",
   "name": "python",
   "nbconvert_exporter": "python",
   "pygments_lexer": "ipython3",
   "version": "3.6.3"
  }
 },
 "nbformat": 4,
 "nbformat_minor": 2
}

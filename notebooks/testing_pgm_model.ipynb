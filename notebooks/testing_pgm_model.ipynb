{
 "cells": [
  {
   "cell_type": "code",
   "execution_count": 1,
   "metadata": {},
   "outputs": [],
   "source": [
    "from correctingagent.world.world import *\n",
    "from correctingagent.agents.teacher import *\n",
    "from correctingagent.world.rules import Rule\n",
    "import os\n",
    "import correctingagent.pddl.ff as ff\n",
    "\n",
    "from pgmpy.factors.discrete import TabularCPD\n",
    "from pgmpy.sampling import GibbsSampling\n",
    "\n",
    "from correctingagent.models.pgmmodels import PGMModel, PGMPYInference, InferenceType, get_scope, is_overlap, combine_models, SamplingType\n",
    "from correctingagent.models.prob_model import KDEColourModel\n",
    "from correctingagent.world import rules\n",
    "from correctingagent.world.rules import RedOnBlueRule, CorrectionType\n",
    "from correctingagent.util.CPD_generation import variable_or_CPD, generate_neg_table_cpd, equals_CPD\n",
    "\n",
    "from collections import namedtuple\n",
    "import itertools\n",
    "\n",
    "import networkx as nx\n",
    "import numpy as np\n",
    "\n",
    "from pgmpy.factors import factor_product\n",
    "from pgmpy.inference import Inference\n",
    "from pgmpy.models import BayesianModel, MarkovChain, MarkovModel\n",
    "from pgmpy.utils.mathext import sample_discrete\n",
    "from pgmpy.extern.six.moves import map, range\n",
    "from pgmpy.sampling import _return_samples\n",
    "\n",
    "from pgmpy.models.BayesianModel import BayesianModel\n",
    "from pgmpy.factors.discrete import TabularCPD\n",
    "from pgmpy.sampling import BayesianModelSampling\n",
    "from pgmpy.factors.discrete import State"
   ]
  },
  {
   "cell_type": "code",
   "execution_count": 6,
   "metadata": {},
   "outputs": [
    {
     "name": "stdout",
     "output_type": "stream",
     "text": [
      "fix bw? False\n",
      "bw 0.5\n",
      "fix bw? False\n",
      "bw 0.5\n",
      "{'V_1(all x.(red(x) -> exists y. (blue(y) & on(x,y))))': 0.5, 'V_1(all y.(blue(y) -> exists x. (red(x) & on(x,y))))': 0.5}\n"
     ]
    }
   ],
   "source": [
    "pgm_model = PGMModel(inference_type=InferenceType.BeliefPropagation,\n",
    "                      max_inference_size=1)\n",
    "\n",
    "red_cm = KDEColourModel('red')\n",
    "blue_cm = KDEColourModel('blue')\n",
    "\n",
    "time = 0\n",
    "red_on_blue_rules = rules.Rule.generate_red_on_blue_options('red', 'blue')\n",
    "\n",
    "violations = pgm_model.extend_model(red_on_blue_rules, red_cm, blue_cm, ['b1', 'b2'], time,\n",
    "                                     correction_type=CorrectionType.TOWER)\n",
    "\n",
    "pgm_model.observe({'F(b1)': [1, 1, 1], 'F(b2)': [0, 0, 0], f'corr_{time}': 1})\n",
    "\n",
    "\n",
    "q = pgm_model.query(violations)\n",
    "# inference = PGMPYInference(pgm_model)\n",
    "# inference.infer({'F(b1)':[1,1,1], 'F(b2)':[0,0,0], f'corr_{time}':1})\n",
    "# q = inference.query(violations)\n",
    "# #\n",
    "# q = pgm_model.query(violations, [1, 1])\n",
    "#\n",
    "# assert(q[violations[0]] - 0.5 < 0.2)\n",
    "# assert(q[violations[1]] - 0.5 < 0.2)\n",
    "#\n",
    "#\n",
    "\n",
    "\n",
    "time = 1\n",
    "violations = pgm_model.extend_model(red_on_blue_rules, red_cm, blue_cm, ['b3', 'b4'], time,\n",
    "                                    correction_type=CorrectionType.TOWER)\n",
    "\n",
    "pgm_model.observe({'F(b3)': [1, 1, 1], 'F(b4)': [0, 0, 0], f'corr_{time}': 1})\n",
    "\n",
    "q = pgm_model.query(violations)\n",
    "\n",
    "assert (q[violations[0]] - 0.5 < 0.2)\n",
    "assert (q[violations[1]] - 0.5 < 0.2)\n",
    "\n",
    "print(q)\n",
    "\n",
    "pgm_model.observe({'red(b3)': 1})\n",
    "\n",
    "q = pgm_model.query(violations)\n",
    "\n",
    "assert (q[violations[0]] == 1.0)\n",
    "assert (q[violations[1]] == 0.0)\n"
   ]
  },
  {
   "cell_type": "code",
   "execution_count": null,
   "metadata": {},
   "outputs": [],
   "source": []
  },
  {
   "cell_type": "code",
   "execution_count": null,
   "metadata": {},
   "outputs": [],
   "source": []
  },
  {
   "cell_type": "code",
   "execution_count": 9,
   "metadata": {},
   "outputs": [
    {
     "data": {
      "text/plain": [
       "[<pgmpy.models.FactorGraph.FactorGraph at 0x7f0f83a68ad0>,\n",
       " <pgmpy.models.FactorGraph.FactorGraph at 0x7f0f83a47b90>]"
      ]
     },
     "execution_count": 9,
     "metadata": {},
     "output_type": "execute_result"
    }
   ],
   "source": [
    "pgm_model.ordered_models[-2:]"
   ]
  },
  {
   "cell_type": "code",
   "execution_count": 5,
   "metadata": {},
   "outputs": [],
   "source": [
    "red_cm_factor = TabularCPD(\"red(b1)\", 2, [[1, 0]])"
   ]
  },
  {
   "cell_type": "code",
   "execution_count": 9,
   "metadata": {},
   "outputs": [
    {
     "name": "stdout",
     "output_type": "stream",
     "text": [
      "+-----------+---+\n",
      "| red(b1)_0 | 1 |\n",
      "+-----------+---+\n",
      "| red(b1)_1 | 0 |\n",
      "+-----------+---+\n"
     ]
    }
   ],
   "source": [
    "print(red_cm_factor)"
   ]
  },
  {
   "cell_type": "code",
   "execution_count": 10,
   "metadata": {},
   "outputs": [
    {
     "data": {
      "text/plain": [
       "(2,)"
      ]
     },
     "execution_count": 10,
     "metadata": {},
     "output_type": "execute_result"
    }
   ],
   "source": [
    "red_cm_factor.values.shape"
   ]
  },
  {
   "cell_type": "code",
   "execution_count": 5,
   "metadata": {},
   "outputs": [
    {
     "data": {
      "text/plain": [
       "all y.(blue(y) -> exists x. (red(x) & on(x,y)))         0.576271\n",
       "all x.(red(x) -> exists y. (blue(y) & on(x,y)))         0.508475\n",
       "blue(b2)                                                0.559322\n",
       "red(b1)                                                 0.440678\n",
       "V_0(all y.(blue(y) -> exists x. (red(x) & on(x,y))))    0.559322\n",
       "V_0(all x.(red(x) -> exists y. (blue(y) & on(x,y))))    0.440678\n",
       "corr_0                                                  1.000000\n",
       "_weight                                                 1.000000\n",
       "dtype: float64"
      ]
     },
     "execution_count": 5,
     "metadata": {},
     "output_type": "execute_result"
    }
   ],
   "source": [
    "q2 = q[q._weight > 0]\n",
    "q2.sum(axis=0)/len(q2)"
   ]
  },
  {
   "cell_type": "code",
   "execution_count": 3,
   "metadata": {},
   "outputs": [
    {
     "data": {
      "text/plain": [
       "0.485"
      ]
     },
     "execution_count": 3,
     "metadata": {},
     "output_type": "execute_result"
    }
   ],
   "source": [
    "q[violations[0]]"
   ]
  },
  {
   "cell_type": "code",
   "execution_count": 4,
   "metadata": {},
   "outputs": [
    {
     "data": {
      "text/plain": [
       "0.485"
      ]
     },
     "execution_count": 4,
     "metadata": {},
     "output_type": "execute_result"
    }
   ],
   "source": [
    "q[violations[1]]"
   ]
  },
  {
   "cell_type": "code",
   "execution_count": 3,
   "metadata": {},
   "outputs": [],
   "source": [
    "sampler = BayesianModelSampling(model)"
   ]
  },
  {
   "cell_type": "code",
   "execution_count": 12,
   "metadata": {},
   "outputs": [],
   "source": [
    "# sampler.forward_sample(size=100, return_type=\"dataframe\")\n",
    "sampler.likelihood_weighted_sample(evidence=[State(var=\"corr_0\", state=1)], size=100)\n",
    "s = sampler.rejection_sample(evidence=[State(var=\"corr_0\", state=1)], size=100)"
   ]
  },
  {
   "cell_type": "code",
   "execution_count": 15,
   "metadata": {},
   "outputs": [
    {
     "data": {
      "text/html": [
       "<div>\n",
       "<style scoped>\n",
       "    .dataframe tbody tr th:only-of-type {\n",
       "        vertical-align: middle;\n",
       "    }\n",
       "\n",
       "    .dataframe tbody tr th {\n",
       "        vertical-align: top;\n",
       "    }\n",
       "\n",
       "    .dataframe thead th {\n",
       "        text-align: right;\n",
       "    }\n",
       "</style>\n",
       "<table border=\"1\" class=\"dataframe\">\n",
       "  <thead>\n",
       "    <tr style=\"text-align: right;\">\n",
       "      <th></th>\n",
       "      <th>red(b1)</th>\n",
       "      <th>all x.(red(x) -&gt; exists y. (blue(y) &amp; on(x,y)))</th>\n",
       "      <th>blue(b2)</th>\n",
       "      <th>V_0(all x.(red(x) -&gt; exists y. (blue(y) &amp; on(x,y))))</th>\n",
       "      <th>all y.(blue(y) -&gt; exists x. (red(x) &amp; on(x,y)))</th>\n",
       "      <th>V_0(all y.(blue(y) -&gt; exists x. (red(x) &amp; on(x,y))))</th>\n",
       "      <th>corr_0</th>\n",
       "    </tr>\n",
       "  </thead>\n",
       "  <tbody>\n",
       "    <tr>\n",
       "      <th>0</th>\n",
       "      <td>1</td>\n",
       "      <td>1</td>\n",
       "      <td>0</td>\n",
       "      <td>1</td>\n",
       "      <td>0</td>\n",
       "      <td>0</td>\n",
       "      <td>1</td>\n",
       "    </tr>\n",
       "    <tr>\n",
       "      <th>1</th>\n",
       "      <td>1</td>\n",
       "      <td>1</td>\n",
       "      <td>0</td>\n",
       "      <td>1</td>\n",
       "      <td>0</td>\n",
       "      <td>0</td>\n",
       "      <td>1</td>\n",
       "    </tr>\n",
       "    <tr>\n",
       "      <th>2</th>\n",
       "      <td>1</td>\n",
       "      <td>1</td>\n",
       "      <td>0</td>\n",
       "      <td>1</td>\n",
       "      <td>0</td>\n",
       "      <td>0</td>\n",
       "      <td>1</td>\n",
       "    </tr>\n",
       "    <tr>\n",
       "      <th>3</th>\n",
       "      <td>0</td>\n",
       "      <td>0</td>\n",
       "      <td>1</td>\n",
       "      <td>0</td>\n",
       "      <td>1</td>\n",
       "      <td>1</td>\n",
       "      <td>1</td>\n",
       "    </tr>\n",
       "    <tr>\n",
       "      <th>4</th>\n",
       "      <td>1</td>\n",
       "      <td>1</td>\n",
       "      <td>0</td>\n",
       "      <td>1</td>\n",
       "      <td>1</td>\n",
       "      <td>0</td>\n",
       "      <td>1</td>\n",
       "    </tr>\n",
       "    <tr>\n",
       "      <th>5</th>\n",
       "      <td>0</td>\n",
       "      <td>0</td>\n",
       "      <td>1</td>\n",
       "      <td>0</td>\n",
       "      <td>1</td>\n",
       "      <td>1</td>\n",
       "      <td>1</td>\n",
       "    </tr>\n",
       "    <tr>\n",
       "      <th>6</th>\n",
       "      <td>1</td>\n",
       "      <td>1</td>\n",
       "      <td>0</td>\n",
       "      <td>1</td>\n",
       "      <td>0</td>\n",
       "      <td>0</td>\n",
       "      <td>1</td>\n",
       "    </tr>\n",
       "    <tr>\n",
       "      <th>7</th>\n",
       "      <td>1</td>\n",
       "      <td>1</td>\n",
       "      <td>0</td>\n",
       "      <td>1</td>\n",
       "      <td>1</td>\n",
       "      <td>0</td>\n",
       "      <td>1</td>\n",
       "    </tr>\n",
       "    <tr>\n",
       "      <th>8</th>\n",
       "      <td>0</td>\n",
       "      <td>0</td>\n",
       "      <td>1</td>\n",
       "      <td>0</td>\n",
       "      <td>1</td>\n",
       "      <td>1</td>\n",
       "      <td>1</td>\n",
       "    </tr>\n",
       "    <tr>\n",
       "      <th>9</th>\n",
       "      <td>1</td>\n",
       "      <td>1</td>\n",
       "      <td>0</td>\n",
       "      <td>1</td>\n",
       "      <td>0</td>\n",
       "      <td>0</td>\n",
       "      <td>1</td>\n",
       "    </tr>\n",
       "    <tr>\n",
       "      <th>10</th>\n",
       "      <td>1</td>\n",
       "      <td>1</td>\n",
       "      <td>0</td>\n",
       "      <td>1</td>\n",
       "      <td>0</td>\n",
       "      <td>0</td>\n",
       "      <td>1</td>\n",
       "    </tr>\n",
       "    <tr>\n",
       "      <th>11</th>\n",
       "      <td>1</td>\n",
       "      <td>1</td>\n",
       "      <td>0</td>\n",
       "      <td>1</td>\n",
       "      <td>0</td>\n",
       "      <td>0</td>\n",
       "      <td>1</td>\n",
       "    </tr>\n",
       "    <tr>\n",
       "      <th>12</th>\n",
       "      <td>0</td>\n",
       "      <td>0</td>\n",
       "      <td>1</td>\n",
       "      <td>0</td>\n",
       "      <td>1</td>\n",
       "      <td>1</td>\n",
       "      <td>1</td>\n",
       "    </tr>\n",
       "    <tr>\n",
       "      <th>13</th>\n",
       "      <td>1</td>\n",
       "      <td>1</td>\n",
       "      <td>0</td>\n",
       "      <td>1</td>\n",
       "      <td>0</td>\n",
       "      <td>0</td>\n",
       "      <td>1</td>\n",
       "    </tr>\n",
       "    <tr>\n",
       "      <th>14</th>\n",
       "      <td>1</td>\n",
       "      <td>1</td>\n",
       "      <td>0</td>\n",
       "      <td>1</td>\n",
       "      <td>0</td>\n",
       "      <td>0</td>\n",
       "      <td>1</td>\n",
       "    </tr>\n",
       "    <tr>\n",
       "      <th>15</th>\n",
       "      <td>1</td>\n",
       "      <td>1</td>\n",
       "      <td>0</td>\n",
       "      <td>1</td>\n",
       "      <td>0</td>\n",
       "      <td>0</td>\n",
       "      <td>1</td>\n",
       "    </tr>\n",
       "    <tr>\n",
       "      <th>16</th>\n",
       "      <td>1</td>\n",
       "      <td>1</td>\n",
       "      <td>0</td>\n",
       "      <td>1</td>\n",
       "      <td>0</td>\n",
       "      <td>0</td>\n",
       "      <td>1</td>\n",
       "    </tr>\n",
       "    <tr>\n",
       "      <th>17</th>\n",
       "      <td>0</td>\n",
       "      <td>1</td>\n",
       "      <td>1</td>\n",
       "      <td>0</td>\n",
       "      <td>1</td>\n",
       "      <td>1</td>\n",
       "      <td>1</td>\n",
       "    </tr>\n",
       "    <tr>\n",
       "      <th>18</th>\n",
       "      <td>1</td>\n",
       "      <td>1</td>\n",
       "      <td>0</td>\n",
       "      <td>1</td>\n",
       "      <td>0</td>\n",
       "      <td>0</td>\n",
       "      <td>1</td>\n",
       "    </tr>\n",
       "    <tr>\n",
       "      <th>19</th>\n",
       "      <td>0</td>\n",
       "      <td>0</td>\n",
       "      <td>1</td>\n",
       "      <td>0</td>\n",
       "      <td>1</td>\n",
       "      <td>1</td>\n",
       "      <td>1</td>\n",
       "    </tr>\n",
       "    <tr>\n",
       "      <th>20</th>\n",
       "      <td>0</td>\n",
       "      <td>0</td>\n",
       "      <td>1</td>\n",
       "      <td>0</td>\n",
       "      <td>1</td>\n",
       "      <td>1</td>\n",
       "      <td>1</td>\n",
       "    </tr>\n",
       "    <tr>\n",
       "      <th>21</th>\n",
       "      <td>1</td>\n",
       "      <td>1</td>\n",
       "      <td>0</td>\n",
       "      <td>1</td>\n",
       "      <td>0</td>\n",
       "      <td>0</td>\n",
       "      <td>1</td>\n",
       "    </tr>\n",
       "    <tr>\n",
       "      <th>22</th>\n",
       "      <td>1</td>\n",
       "      <td>1</td>\n",
       "      <td>0</td>\n",
       "      <td>1</td>\n",
       "      <td>0</td>\n",
       "      <td>0</td>\n",
       "      <td>1</td>\n",
       "    </tr>\n",
       "    <tr>\n",
       "      <th>23</th>\n",
       "      <td>1</td>\n",
       "      <td>1</td>\n",
       "      <td>0</td>\n",
       "      <td>1</td>\n",
       "      <td>0</td>\n",
       "      <td>0</td>\n",
       "      <td>1</td>\n",
       "    </tr>\n",
       "    <tr>\n",
       "      <th>24</th>\n",
       "      <td>0</td>\n",
       "      <td>0</td>\n",
       "      <td>1</td>\n",
       "      <td>0</td>\n",
       "      <td>1</td>\n",
       "      <td>1</td>\n",
       "      <td>1</td>\n",
       "    </tr>\n",
       "    <tr>\n",
       "      <th>25</th>\n",
       "      <td>1</td>\n",
       "      <td>1</td>\n",
       "      <td>0</td>\n",
       "      <td>1</td>\n",
       "      <td>0</td>\n",
       "      <td>0</td>\n",
       "      <td>1</td>\n",
       "    </tr>\n",
       "    <tr>\n",
       "      <th>26</th>\n",
       "      <td>0</td>\n",
       "      <td>0</td>\n",
       "      <td>1</td>\n",
       "      <td>0</td>\n",
       "      <td>1</td>\n",
       "      <td>1</td>\n",
       "      <td>1</td>\n",
       "    </tr>\n",
       "    <tr>\n",
       "      <th>27</th>\n",
       "      <td>1</td>\n",
       "      <td>1</td>\n",
       "      <td>0</td>\n",
       "      <td>1</td>\n",
       "      <td>0</td>\n",
       "      <td>0</td>\n",
       "      <td>1</td>\n",
       "    </tr>\n",
       "    <tr>\n",
       "      <th>28</th>\n",
       "      <td>0</td>\n",
       "      <td>0</td>\n",
       "      <td>1</td>\n",
       "      <td>0</td>\n",
       "      <td>1</td>\n",
       "      <td>1</td>\n",
       "      <td>1</td>\n",
       "    </tr>\n",
       "    <tr>\n",
       "      <th>29</th>\n",
       "      <td>0</td>\n",
       "      <td>0</td>\n",
       "      <td>1</td>\n",
       "      <td>0</td>\n",
       "      <td>1</td>\n",
       "      <td>1</td>\n",
       "      <td>1</td>\n",
       "    </tr>\n",
       "    <tr>\n",
       "      <th>...</th>\n",
       "      <td>...</td>\n",
       "      <td>...</td>\n",
       "      <td>...</td>\n",
       "      <td>...</td>\n",
       "      <td>...</td>\n",
       "      <td>...</td>\n",
       "      <td>...</td>\n",
       "    </tr>\n",
       "    <tr>\n",
       "      <th>70</th>\n",
       "      <td>0</td>\n",
       "      <td>0</td>\n",
       "      <td>1</td>\n",
       "      <td>0</td>\n",
       "      <td>1</td>\n",
       "      <td>1</td>\n",
       "      <td>1</td>\n",
       "    </tr>\n",
       "    <tr>\n",
       "      <th>71</th>\n",
       "      <td>1</td>\n",
       "      <td>1</td>\n",
       "      <td>0</td>\n",
       "      <td>1</td>\n",
       "      <td>0</td>\n",
       "      <td>0</td>\n",
       "      <td>1</td>\n",
       "    </tr>\n",
       "    <tr>\n",
       "      <th>72</th>\n",
       "      <td>0</td>\n",
       "      <td>0</td>\n",
       "      <td>1</td>\n",
       "      <td>0</td>\n",
       "      <td>1</td>\n",
       "      <td>1</td>\n",
       "      <td>1</td>\n",
       "    </tr>\n",
       "    <tr>\n",
       "      <th>73</th>\n",
       "      <td>0</td>\n",
       "      <td>1</td>\n",
       "      <td>1</td>\n",
       "      <td>0</td>\n",
       "      <td>1</td>\n",
       "      <td>1</td>\n",
       "      <td>1</td>\n",
       "    </tr>\n",
       "    <tr>\n",
       "      <th>74</th>\n",
       "      <td>0</td>\n",
       "      <td>0</td>\n",
       "      <td>1</td>\n",
       "      <td>0</td>\n",
       "      <td>1</td>\n",
       "      <td>1</td>\n",
       "      <td>1</td>\n",
       "    </tr>\n",
       "    <tr>\n",
       "      <th>75</th>\n",
       "      <td>0</td>\n",
       "      <td>0</td>\n",
       "      <td>1</td>\n",
       "      <td>0</td>\n",
       "      <td>1</td>\n",
       "      <td>1</td>\n",
       "      <td>1</td>\n",
       "    </tr>\n",
       "    <tr>\n",
       "      <th>76</th>\n",
       "      <td>0</td>\n",
       "      <td>0</td>\n",
       "      <td>1</td>\n",
       "      <td>0</td>\n",
       "      <td>1</td>\n",
       "      <td>1</td>\n",
       "      <td>1</td>\n",
       "    </tr>\n",
       "    <tr>\n",
       "      <th>77</th>\n",
       "      <td>1</td>\n",
       "      <td>1</td>\n",
       "      <td>0</td>\n",
       "      <td>1</td>\n",
       "      <td>0</td>\n",
       "      <td>0</td>\n",
       "      <td>1</td>\n",
       "    </tr>\n",
       "    <tr>\n",
       "      <th>78</th>\n",
       "      <td>1</td>\n",
       "      <td>1</td>\n",
       "      <td>0</td>\n",
       "      <td>1</td>\n",
       "      <td>0</td>\n",
       "      <td>0</td>\n",
       "      <td>1</td>\n",
       "    </tr>\n",
       "    <tr>\n",
       "      <th>79</th>\n",
       "      <td>0</td>\n",
       "      <td>0</td>\n",
       "      <td>1</td>\n",
       "      <td>0</td>\n",
       "      <td>1</td>\n",
       "      <td>1</td>\n",
       "      <td>1</td>\n",
       "    </tr>\n",
       "    <tr>\n",
       "      <th>80</th>\n",
       "      <td>0</td>\n",
       "      <td>0</td>\n",
       "      <td>1</td>\n",
       "      <td>0</td>\n",
       "      <td>1</td>\n",
       "      <td>1</td>\n",
       "      <td>1</td>\n",
       "    </tr>\n",
       "    <tr>\n",
       "      <th>81</th>\n",
       "      <td>1</td>\n",
       "      <td>1</td>\n",
       "      <td>0</td>\n",
       "      <td>1</td>\n",
       "      <td>0</td>\n",
       "      <td>0</td>\n",
       "      <td>1</td>\n",
       "    </tr>\n",
       "    <tr>\n",
       "      <th>82</th>\n",
       "      <td>1</td>\n",
       "      <td>1</td>\n",
       "      <td>0</td>\n",
       "      <td>1</td>\n",
       "      <td>1</td>\n",
       "      <td>0</td>\n",
       "      <td>1</td>\n",
       "    </tr>\n",
       "    <tr>\n",
       "      <th>83</th>\n",
       "      <td>1</td>\n",
       "      <td>1</td>\n",
       "      <td>0</td>\n",
       "      <td>1</td>\n",
       "      <td>0</td>\n",
       "      <td>0</td>\n",
       "      <td>1</td>\n",
       "    </tr>\n",
       "    <tr>\n",
       "      <th>84</th>\n",
       "      <td>1</td>\n",
       "      <td>1</td>\n",
       "      <td>0</td>\n",
       "      <td>1</td>\n",
       "      <td>0</td>\n",
       "      <td>0</td>\n",
       "      <td>1</td>\n",
       "    </tr>\n",
       "    <tr>\n",
       "      <th>85</th>\n",
       "      <td>0</td>\n",
       "      <td>0</td>\n",
       "      <td>1</td>\n",
       "      <td>0</td>\n",
       "      <td>1</td>\n",
       "      <td>1</td>\n",
       "      <td>1</td>\n",
       "    </tr>\n",
       "    <tr>\n",
       "      <th>86</th>\n",
       "      <td>1</td>\n",
       "      <td>1</td>\n",
       "      <td>0</td>\n",
       "      <td>1</td>\n",
       "      <td>0</td>\n",
       "      <td>0</td>\n",
       "      <td>1</td>\n",
       "    </tr>\n",
       "    <tr>\n",
       "      <th>87</th>\n",
       "      <td>0</td>\n",
       "      <td>0</td>\n",
       "      <td>1</td>\n",
       "      <td>0</td>\n",
       "      <td>1</td>\n",
       "      <td>1</td>\n",
       "      <td>1</td>\n",
       "    </tr>\n",
       "    <tr>\n",
       "      <th>88</th>\n",
       "      <td>0</td>\n",
       "      <td>0</td>\n",
       "      <td>1</td>\n",
       "      <td>0</td>\n",
       "      <td>1</td>\n",
       "      <td>1</td>\n",
       "      <td>1</td>\n",
       "    </tr>\n",
       "    <tr>\n",
       "      <th>89</th>\n",
       "      <td>1</td>\n",
       "      <td>1</td>\n",
       "      <td>0</td>\n",
       "      <td>1</td>\n",
       "      <td>0</td>\n",
       "      <td>0</td>\n",
       "      <td>1</td>\n",
       "    </tr>\n",
       "    <tr>\n",
       "      <th>90</th>\n",
       "      <td>1</td>\n",
       "      <td>1</td>\n",
       "      <td>0</td>\n",
       "      <td>1</td>\n",
       "      <td>0</td>\n",
       "      <td>0</td>\n",
       "      <td>1</td>\n",
       "    </tr>\n",
       "    <tr>\n",
       "      <th>91</th>\n",
       "      <td>1</td>\n",
       "      <td>1</td>\n",
       "      <td>0</td>\n",
       "      <td>1</td>\n",
       "      <td>0</td>\n",
       "      <td>0</td>\n",
       "      <td>1</td>\n",
       "    </tr>\n",
       "    <tr>\n",
       "      <th>92</th>\n",
       "      <td>0</td>\n",
       "      <td>0</td>\n",
       "      <td>1</td>\n",
       "      <td>0</td>\n",
       "      <td>1</td>\n",
       "      <td>1</td>\n",
       "      <td>1</td>\n",
       "    </tr>\n",
       "    <tr>\n",
       "      <th>93</th>\n",
       "      <td>0</td>\n",
       "      <td>0</td>\n",
       "      <td>1</td>\n",
       "      <td>0</td>\n",
       "      <td>1</td>\n",
       "      <td>1</td>\n",
       "      <td>1</td>\n",
       "    </tr>\n",
       "    <tr>\n",
       "      <th>94</th>\n",
       "      <td>0</td>\n",
       "      <td>0</td>\n",
       "      <td>1</td>\n",
       "      <td>0</td>\n",
       "      <td>1</td>\n",
       "      <td>1</td>\n",
       "      <td>1</td>\n",
       "    </tr>\n",
       "    <tr>\n",
       "      <th>95</th>\n",
       "      <td>0</td>\n",
       "      <td>0</td>\n",
       "      <td>1</td>\n",
       "      <td>0</td>\n",
       "      <td>1</td>\n",
       "      <td>1</td>\n",
       "      <td>1</td>\n",
       "    </tr>\n",
       "    <tr>\n",
       "      <th>96</th>\n",
       "      <td>1</td>\n",
       "      <td>1</td>\n",
       "      <td>0</td>\n",
       "      <td>1</td>\n",
       "      <td>0</td>\n",
       "      <td>0</td>\n",
       "      <td>1</td>\n",
       "    </tr>\n",
       "    <tr>\n",
       "      <th>97</th>\n",
       "      <td>1</td>\n",
       "      <td>1</td>\n",
       "      <td>0</td>\n",
       "      <td>1</td>\n",
       "      <td>0</td>\n",
       "      <td>0</td>\n",
       "      <td>1</td>\n",
       "    </tr>\n",
       "    <tr>\n",
       "      <th>98</th>\n",
       "      <td>0</td>\n",
       "      <td>0</td>\n",
       "      <td>1</td>\n",
       "      <td>0</td>\n",
       "      <td>1</td>\n",
       "      <td>1</td>\n",
       "      <td>1</td>\n",
       "    </tr>\n",
       "    <tr>\n",
       "      <th>99</th>\n",
       "      <td>0</td>\n",
       "      <td>0</td>\n",
       "      <td>1</td>\n",
       "      <td>0</td>\n",
       "      <td>1</td>\n",
       "      <td>1</td>\n",
       "      <td>1</td>\n",
       "    </tr>\n",
       "  </tbody>\n",
       "</table>\n",
       "<p>100 rows × 7 columns</p>\n",
       "</div>"
      ],
      "text/plain": [
       "    red(b1)  all x.(red(x) -> exists y. (blue(y) & on(x,y)))  blue(b2)  \\\n",
       "0         1                                                1         0   \n",
       "1         1                                                1         0   \n",
       "2         1                                                1         0   \n",
       "3         0                                                0         1   \n",
       "4         1                                                1         0   \n",
       "5         0                                                0         1   \n",
       "6         1                                                1         0   \n",
       "7         1                                                1         0   \n",
       "8         0                                                0         1   \n",
       "9         1                                                1         0   \n",
       "10        1                                                1         0   \n",
       "11        1                                                1         0   \n",
       "12        0                                                0         1   \n",
       "13        1                                                1         0   \n",
       "14        1                                                1         0   \n",
       "15        1                                                1         0   \n",
       "16        1                                                1         0   \n",
       "17        0                                                1         1   \n",
       "18        1                                                1         0   \n",
       "19        0                                                0         1   \n",
       "20        0                                                0         1   \n",
       "21        1                                                1         0   \n",
       "22        1                                                1         0   \n",
       "23        1                                                1         0   \n",
       "24        0                                                0         1   \n",
       "25        1                                                1         0   \n",
       "26        0                                                0         1   \n",
       "27        1                                                1         0   \n",
       "28        0                                                0         1   \n",
       "29        0                                                0         1   \n",
       "..      ...                                              ...       ...   \n",
       "70        0                                                0         1   \n",
       "71        1                                                1         0   \n",
       "72        0                                                0         1   \n",
       "73        0                                                1         1   \n",
       "74        0                                                0         1   \n",
       "75        0                                                0         1   \n",
       "76        0                                                0         1   \n",
       "77        1                                                1         0   \n",
       "78        1                                                1         0   \n",
       "79        0                                                0         1   \n",
       "80        0                                                0         1   \n",
       "81        1                                                1         0   \n",
       "82        1                                                1         0   \n",
       "83        1                                                1         0   \n",
       "84        1                                                1         0   \n",
       "85        0                                                0         1   \n",
       "86        1                                                1         0   \n",
       "87        0                                                0         1   \n",
       "88        0                                                0         1   \n",
       "89        1                                                1         0   \n",
       "90        1                                                1         0   \n",
       "91        1                                                1         0   \n",
       "92        0                                                0         1   \n",
       "93        0                                                0         1   \n",
       "94        0                                                0         1   \n",
       "95        0                                                0         1   \n",
       "96        1                                                1         0   \n",
       "97        1                                                1         0   \n",
       "98        0                                                0         1   \n",
       "99        0                                                0         1   \n",
       "\n",
       "    V_0(all x.(red(x) -> exists y. (blue(y) & on(x,y))))  \\\n",
       "0                                                   1      \n",
       "1                                                   1      \n",
       "2                                                   1      \n",
       "3                                                   0      \n",
       "4                                                   1      \n",
       "5                                                   0      \n",
       "6                                                   1      \n",
       "7                                                   1      \n",
       "8                                                   0      \n",
       "9                                                   1      \n",
       "10                                                  1      \n",
       "11                                                  1      \n",
       "12                                                  0      \n",
       "13                                                  1      \n",
       "14                                                  1      \n",
       "15                                                  1      \n",
       "16                                                  1      \n",
       "17                                                  0      \n",
       "18                                                  1      \n",
       "19                                                  0      \n",
       "20                                                  0      \n",
       "21                                                  1      \n",
       "22                                                  1      \n",
       "23                                                  1      \n",
       "24                                                  0      \n",
       "25                                                  1      \n",
       "26                                                  0      \n",
       "27                                                  1      \n",
       "28                                                  0      \n",
       "29                                                  0      \n",
       "..                                                ...      \n",
       "70                                                  0      \n",
       "71                                                  1      \n",
       "72                                                  0      \n",
       "73                                                  0      \n",
       "74                                                  0      \n",
       "75                                                  0      \n",
       "76                                                  0      \n",
       "77                                                  1      \n",
       "78                                                  1      \n",
       "79                                                  0      \n",
       "80                                                  0      \n",
       "81                                                  1      \n",
       "82                                                  1      \n",
       "83                                                  1      \n",
       "84                                                  1      \n",
       "85                                                  0      \n",
       "86                                                  1      \n",
       "87                                                  0      \n",
       "88                                                  0      \n",
       "89                                                  1      \n",
       "90                                                  1      \n",
       "91                                                  1      \n",
       "92                                                  0      \n",
       "93                                                  0      \n",
       "94                                                  0      \n",
       "95                                                  0      \n",
       "96                                                  1      \n",
       "97                                                  1      \n",
       "98                                                  0      \n",
       "99                                                  0      \n",
       "\n",
       "    all y.(blue(y) -> exists x. (red(x) & on(x,y)))  \\\n",
       "0                                                 0   \n",
       "1                                                 0   \n",
       "2                                                 0   \n",
       "3                                                 1   \n",
       "4                                                 1   \n",
       "5                                                 1   \n",
       "6                                                 0   \n",
       "7                                                 1   \n",
       "8                                                 1   \n",
       "9                                                 0   \n",
       "10                                                0   \n",
       "11                                                0   \n",
       "12                                                1   \n",
       "13                                                0   \n",
       "14                                                0   \n",
       "15                                                0   \n",
       "16                                                0   \n",
       "17                                                1   \n",
       "18                                                0   \n",
       "19                                                1   \n",
       "20                                                1   \n",
       "21                                                0   \n",
       "22                                                0   \n",
       "23                                                0   \n",
       "24                                                1   \n",
       "25                                                0   \n",
       "26                                                1   \n",
       "27                                                0   \n",
       "28                                                1   \n",
       "29                                                1   \n",
       "..                                              ...   \n",
       "70                                                1   \n",
       "71                                                0   \n",
       "72                                                1   \n",
       "73                                                1   \n",
       "74                                                1   \n",
       "75                                                1   \n",
       "76                                                1   \n",
       "77                                                0   \n",
       "78                                                0   \n",
       "79                                                1   \n",
       "80                                                1   \n",
       "81                                                0   \n",
       "82                                                1   \n",
       "83                                                0   \n",
       "84                                                0   \n",
       "85                                                1   \n",
       "86                                                0   \n",
       "87                                                1   \n",
       "88                                                1   \n",
       "89                                                0   \n",
       "90                                                0   \n",
       "91                                                0   \n",
       "92                                                1   \n",
       "93                                                1   \n",
       "94                                                1   \n",
       "95                                                1   \n",
       "96                                                0   \n",
       "97                                                0   \n",
       "98                                                1   \n",
       "99                                                1   \n",
       "\n",
       "    V_0(all y.(blue(y) -> exists x. (red(x) & on(x,y))))  corr_0  \n",
       "0                                                   0          1  \n",
       "1                                                   0          1  \n",
       "2                                                   0          1  \n",
       "3                                                   1          1  \n",
       "4                                                   0          1  \n",
       "5                                                   1          1  \n",
       "6                                                   0          1  \n",
       "7                                                   0          1  \n",
       "8                                                   1          1  \n",
       "9                                                   0          1  \n",
       "10                                                  0          1  \n",
       "11                                                  0          1  \n",
       "12                                                  1          1  \n",
       "13                                                  0          1  \n",
       "14                                                  0          1  \n",
       "15                                                  0          1  \n",
       "16                                                  0          1  \n",
       "17                                                  1          1  \n",
       "18                                                  0          1  \n",
       "19                                                  1          1  \n",
       "20                                                  1          1  \n",
       "21                                                  0          1  \n",
       "22                                                  0          1  \n",
       "23                                                  0          1  \n",
       "24                                                  1          1  \n",
       "25                                                  0          1  \n",
       "26                                                  1          1  \n",
       "27                                                  0          1  \n",
       "28                                                  1          1  \n",
       "29                                                  1          1  \n",
       "..                                                ...        ...  \n",
       "70                                                  1          1  \n",
       "71                                                  0          1  \n",
       "72                                                  1          1  \n",
       "73                                                  1          1  \n",
       "74                                                  1          1  \n",
       "75                                                  1          1  \n",
       "76                                                  1          1  \n",
       "77                                                  0          1  \n",
       "78                                                  0          1  \n",
       "79                                                  1          1  \n",
       "80                                                  1          1  \n",
       "81                                                  0          1  \n",
       "82                                                  0          1  \n",
       "83                                                  0          1  \n",
       "84                                                  0          1  \n",
       "85                                                  1          1  \n",
       "86                                                  0          1  \n",
       "87                                                  1          1  \n",
       "88                                                  1          1  \n",
       "89                                                  0          1  \n",
       "90                                                  0          1  \n",
       "91                                                  0          1  \n",
       "92                                                  1          1  \n",
       "93                                                  1          1  \n",
       "94                                                  1          1  \n",
       "95                                                  1          1  \n",
       "96                                                  0          1  \n",
       "97                                                  0          1  \n",
       "98                                                  1          1  \n",
       "99                                                  1          1  \n",
       "\n",
       "[100 rows x 7 columns]"
      ]
     },
     "execution_count": 15,
     "metadata": {},
     "output_type": "execute_result"
    }
   ],
   "source": [
    "s"
   ]
  },
  {
   "cell_type": "code",
   "execution_count": 16,
   "metadata": {},
   "outputs": [
    {
     "data": {
      "text/plain": [
       "0.5"
      ]
     },
     "execution_count": 16,
     "metadata": {},
     "output_type": "execute_result"
    }
   ],
   "source": [
    "sum(s[\"red(b1)\"])/len(s[\"red(b1)\"])\n",
    "sum(s[\"blue(b2)\"])/100\n"
   ]
  },
  {
   "cell_type": "code",
   "execution_count": 20,
   "metadata": {},
   "outputs": [
    {
     "data": {
      "text/plain": [
       "0.5"
      ]
     },
     "execution_count": 20,
     "metadata": {},
     "output_type": "execute_result"
    }
   ],
   "source": [
    "(s.sum(axis=0)/100)['red(b1)']"
   ]
  },
  {
   "cell_type": "code",
   "execution_count": 5,
   "metadata": {},
   "outputs": [
    {
     "name": "stdout",
     "output_type": "stream",
     "text": [
      "[('intel', 'int'), ('diff', 'int'), ('grade', 'int')]\n"
     ]
    },
    {
     "data": {
      "text/plain": [
       "rec.array([(0, 0, 2), (0, 0, 1)],\n",
       "          dtype=[('intel', '<i8'), ('diff', '<i8'), ('grade', '<i8')])"
      ]
     },
     "execution_count": 5,
     "metadata": {},
     "output_type": "execute_result"
    }
   ],
   "source": [
    "\n",
    "student = BayesianModel([('diff', 'grade'), ('intel', 'grade')])\n",
    "cpd_d = TabularCPD('diff', 2, [[0.6], [0.4]])\n",
    "cpd_i = TabularCPD('intel', 2, [[0.7], [0.3]])\n",
    "cpd_g = TabularCPD('grade', 3, [[0.3, 0.05, 0.9, 0.5], [0.4, 0.25,\n",
    "               0.08, 0.3], [0.3, 0.7, 0.02, 0.2]],\n",
    "               ['intel', 'diff'], [2, 2])\n",
    "student.add_cpds(cpd_d, cpd_i, cpd_g)\n",
    "inference = BayesianModelSampling(student)\n",
    "inference.forward_sample(size=2, return_type='recarray')\n"
   ]
  },
  {
   "cell_type": "code",
   "execution_count": 12,
   "metadata": {},
   "outputs": [
    {
     "data": {
      "text/plain": [
       "[[], []]"
      ]
     },
     "execution_count": 12,
     "metadata": {},
     "output_type": "execute_result"
    }
   ],
   "source": [
    "from pgmpy.factors.discrete import DiscreteFactor\n",
    "from pgmpy.sampling import GibbsSampling\n",
    "from pgmpy.models import MarkovModel, FactorGraph\n",
    "model = FactorGraph([('A', 'B'), ('C', 'B')])\n",
    "factor_ab = DiscreteFactor(['A', 'B'], [2, 2], [1, 2, 3, 4])\n",
    "factor_cb = DiscreteFactor(['C', 'B'], [2, 2], [5, 6, 7, 8])\n",
    "model.add_factors(factor_ab, factor_cb)\n",
    "\n",
    "gibbs = GibbsSampling(model)\n",
    "gen = gibbs.generate_sample(size=2)\n",
    "[sample for sample in gen]"
   ]
  },
  {
   "cell_type": "code",
   "execution_count": 21,
   "metadata": {},
   "outputs": [],
   "source": [
    "model = FactorGraph([('A', 'B'), ('C', 'B')])\n",
    "factor_ab = DiscreteFactor(['A', 'B'], [2, 2], [1, 2, 3, 4])\n",
    "factor_cb = DiscreteFactor(['C', 'B'], [2, 2], [5, 6, 7, 8])\n",
    "model.add_factors(factor_ab, factor_cb)\n"
   ]
  },
  {
   "cell_type": "code",
   "execution_count": null,
   "metadata": {},
   "outputs": [],
   "source": [
    "model."
   ]
  },
  {
   "cell_type": "code",
   "execution_count": 5,
   "metadata": {},
   "outputs": [
    {
     "data": {
      "text/plain": [
       "[<DiscreteFactor representing phi(corr_1:2, V_1(all x.(green(x) -> exists y. (orange(y) & on(x,y)))):2, V_1(all y.(orange(y) -> exists x. (green(x) & on(x,y)))):2) at 0x7ffa24559ad0>,\n",
       " <DiscreteFactor representing phi(all x.(green(x) -> exists y. (orange(y) & on(x,y))):2) at 0x7ffa24542c10>,\n",
       " <DiscreteFactor representing phi(V_1(all x.(green(x) -> exists y. (orange(y) & on(x,y)))):2, green(b2):2, orange(b4):2, all x.(green(x) -> exists y. (orange(y) & on(x,y))):2) at 0x7ffa24542990>,\n",
       " <pgmpy.factors.continuous.ContinuousFactor.ContinuousFactor at 0x7ffa24542890>,\n",
       " <DiscreteFactor representing phi(all y.(orange(y) -> exists x. (green(x) & on(x,y))):2) at 0x7ffa24542290>,\n",
       " <pgmpy.factors.continuous.ContinuousFactor.ContinuousFactor at 0x7ffa24542310>,\n",
       " <DiscreteFactor representing phi(V_1(all y.(orange(y) -> exists x. (green(x) & on(x,y)))):2, green(b2):2, orange(b4):2, all y.(orange(y) -> exists x. (green(x) & on(x,y))):2) at 0x7ffa244e3f50>]"
      ]
     },
     "execution_count": 5,
     "metadata": {},
     "output_type": "execute_result"
    }
   ],
   "source": [
    "pgm_model.models[1].factors"
   ]
  },
  {
   "cell_type": "code",
   "execution_count": 5,
   "metadata": {},
   "outputs": [
    {
     "data": {
      "text/plain": [
       "[<DiscreteFactor representing phi(V_1(all y.(orange(y) -> exists x. (green(x) & on(x,y)))):2, green(b3):2, orange(b4):2, all y.(orange(y) -> exists x. (green(x) & on(x,y))):2) at 0x7ff4eae59a50>,\n",
       " <DiscreteFactor representing phi(all x.(green(x) -> exists y. (orange(y) & on(x,y))):2) at 0x7ff4eadf6a90>,\n",
       " <pgmpy.factors.continuous.ContinuousFactor.ContinuousFactor at 0x7ff4eae59210>,\n",
       " <DiscreteFactor representing phi(V_1(all x.(green(x) -> exists y. (orange(y) & on(x,y)))):2, green(b3):2, orange(b4):2, all x.(green(x) -> exists y. (orange(y) & on(x,y))):2) at 0x7ff4eae598d0>,\n",
       " <pgmpy.factors.continuous.ContinuousFactor.ContinuousFactor at 0x7ff4eae59890>,\n",
       " <DiscreteFactor representing phi(V_3(all x.(green(x) -> exists y. (orange(y) & on(x,y)))):2, green(b3):2, orange(b5):2, all x.(green(x) -> exists y. (orange(y) & on(x,y))):2) at 0x7ff4eadf6c10>,\n",
       " <DiscreteFactor representing phi(corr_3:2, V_3(all x.(green(x) -> exists y. (orange(y) & on(x,y)))):2, V_3(all y.(orange(y) -> exists x. (green(x) & on(x,y)))):2) at 0x7ff4eaddfd50>,\n",
       " <pgmpy.factors.continuous.ContinuousFactor.ContinuousFactor at 0x7ff4eadbc710>,\n",
       " <pgmpy.factors.continuous.ContinuousFactor.ContinuousFactor at 0x7ff4eaddff50>,\n",
       " <DiscreteFactor representing phi(corr_1:2, V_1(all x.(green(x) -> exists y. (orange(y) & on(x,y)))):2, V_1(all y.(orange(y) -> exists x. (green(x) & on(x,y)))):2) at 0x7ff4eadf6ed0>,\n",
       " <pgmpy.factors.continuous.ContinuousFactor.ContinuousFactor at 0x7ff4eadf6d90>,\n",
       " <DiscreteFactor representing phi(V_3(all y.(orange(y) -> exists x. (green(x) & on(x,y)))):2, green(b3):2, orange(b5):2, all y.(orange(y) -> exists x. (green(x) & on(x,y))):2) at 0x7ff4eaddf7d0>,\n",
       " <pgmpy.factors.continuous.ContinuousFactor.ContinuousFactor at 0x7ff4eadf69d0>,\n",
       " <DiscreteFactor representing phi(all y.(orange(y) -> exists x. (green(x) & on(x,y))):2) at 0x7ff4eadf6b10>]"
      ]
     },
     "execution_count": 5,
     "metadata": {},
     "output_type": "execute_result"
    }
   ],
   "source": [
    "pgm_model.models[1].factors"
   ]
  },
  {
   "cell_type": "code",
   "execution_count": 3,
   "metadata": {},
   "outputs": [
    {
     "data": {
      "text/plain": [
       "{'green(b3)': 1, 'orange(b4)': 0.0, 'red(b1)': None, 'blue(b2)': None}"
      ]
     },
     "execution_count": 3,
     "metadata": {},
     "output_type": "execute_result"
    }
   ],
   "source": [
    "q"
   ]
  },
  {
   "cell_type": "code",
   "execution_count": 5,
   "metadata": {},
   "outputs": [
    {
     "name": "stdout",
     "output_type": "stream",
     "text": [
      "fix bw? False\n",
      "bw 0.5\n",
      "fix bw? False\n",
      "bw 0.5\n",
      "variable_nodes\n",
      "V_0(all y.(blue(y) -> exists x. (red(x) & on(x,y))))\n",
      "corr_0\n",
      "all y.(blue(y) -> exists x. (red(x) & on(x,y)))\n",
      "blue(b2)\n",
      "all x.(red(x) -> exists y. (blue(y) & on(x,y)))\n",
      "V_0(all x.(red(x) -> exists y. (blue(y) & on(x,y))))\n",
      "red(b1)\n",
      "\n",
      "factor nodes\n",
      "phi(corr_0:2, V_0(all x.(red(x) -> exists y. (blue(y) & on(x,y)))):2, V_0(all y.(blue(y) -> exists x. (red(x) & on(x,y)))):2)\n",
      "phi(blue(b2):2)\n",
      "phi(V_0(all y.(blue(y) -> exists x. (red(x) & on(x,y)))):2, red(b1):2, blue(b2):2, all y.(blue(y) -> exists x. (red(x) & on(x,y))):2)\n",
      "phi(V_0(all x.(red(x) -> exists y. (blue(y) & on(x,y)))):2, red(b1):2, blue(b2):2, all x.(red(x) -> exists y. (blue(y) & on(x,y))):2)\n",
      "phi(all y.(blue(y) -> exists x. (red(x) & on(x,y))):2)\n",
      "phi(red(b1):2)\n",
      "phi(all x.(red(x) -> exists y. (blue(y) & on(x,y))):2)\n",
      "factor nodes of model\n",
      "phi(red(b1):2)\n",
      "phi(V_0(all y.(blue(y) -> exists x. (red(x) & on(x,y)))):2, red(b1):2, blue(b2):2, all y.(blue(y) -> exists x. (red(x) & on(x,y))):2)\n",
      "phi(all y.(blue(y) -> exists x. (red(x) & on(x,y))):2)\n",
      "phi(V_0(all x.(red(x) -> exists y. (blue(y) & on(x,y)))):2, red(b1):2, blue(b2):2, all x.(red(x) -> exists y. (blue(y) & on(x,y))):2)\n",
      "phi(blue(b2):2)\n",
      "phi(all x.(red(x) -> exists y. (blue(y) & on(x,y))):2)\n",
      "phi(corr_0:2, V_0(all x.(red(x) -> exists y. (blue(y) & on(x,y)))):2, V_0(all y.(blue(y) -> exists x. (red(x) & on(x,y)))):2)\n",
      "variable_nodes\n",
      "V_0(all y.(blue(y) -> exists x. (red(x) & on(x,y))))\n",
      "corr_0\n",
      "all y.(blue(y) -> exists x. (red(x) & on(x,y)))\n",
      "blue(b2)\n",
      "all x.(red(x) -> exists y. (blue(y) & on(x,y)))\n",
      "V_0(all x.(red(x) -> exists y. (blue(y) & on(x,y))))\n",
      "red(b1)\n",
      "\n",
      "factor nodes\n",
      "phi(corr_0:2, V_0(all x.(red(x) -> exists y. (blue(y) & on(x,y)))):2, V_0(all y.(blue(y) -> exists x. (red(x) & on(x,y)))):2)\n",
      "phi(blue(b2):2)\n",
      "phi(V_0(all y.(blue(y) -> exists x. (red(x) & on(x,y)))):2, red(b1):2, blue(b2):2, all y.(blue(y) -> exists x. (red(x) & on(x,y))):2)\n",
      "phi(V_0(all x.(red(x) -> exists y. (blue(y) & on(x,y)))):2, red(b1):2, blue(b2):2, all x.(red(x) -> exists y. (blue(y) & on(x,y))):2)\n",
      "phi(all y.(blue(y) -> exists x. (red(x) & on(x,y))):2)\n",
      "phi(red(b1):2)\n",
      "phi(all x.(red(x) -> exists y. (blue(y) & on(x,y))):2)\n",
      "factor nodes of model\n",
      "phi(red(b1):2)\n",
      "phi(V_0(all y.(blue(y) -> exists x. (red(x) & on(x,y)))):2, red(b1):2, blue(b2):2, all y.(blue(y) -> exists x. (red(x) & on(x,y))):2)\n",
      "phi(all y.(blue(y) -> exists x. (red(x) & on(x,y))):2)\n",
      "phi(V_0(all x.(red(x) -> exists y. (blue(y) & on(x,y)))):2, red(b1):2, blue(b2):2, all x.(red(x) -> exists y. (blue(y) & on(x,y))):2)\n",
      "phi(blue(b2):2)\n",
      "phi(all x.(red(x) -> exists y. (blue(y) & on(x,y))):2)\n",
      "phi(corr_0:2, V_0(all x.(red(x) -> exists y. (blue(y) & on(x,y)))):2, V_0(all y.(blue(y) -> exists x. (red(x) & on(x,y)))):2)\n"
     ]
    }
   ],
   "source": [
    "pgm_model = PGMModel(inference_type=InferenceType.BeliefPropagation)\n",
    "\n",
    "red_cm = KDEColourModel('red')\n",
    "blue_cm = KDEColourModel('blue')\n",
    "\n",
    "time = 0\n",
    "red_on_blue_rules = rules.Rule.generate_red_on_blue_options('red', 'blue')\n",
    "\n",
    "violations = pgm_model.extend_model(red_on_blue_rules, red_cm, blue_cm, ['b1', 'b2'], time, correction_type=CorrectionType.TOWER)\n",
    "\n",
    "pgm_model.observe({'F(b1)':[1,1,1], 'F(b2)':[0,0,0], f'corr_{time}':1})\n",
    "\n",
    "\n",
    "q = pgm_model.query(violations)\n",
    "# # inference = PGMPYInference(pgm_model)\n",
    "# # inference.infer({'F(b1)':[1,1,1], 'F(b2)':[0,0,0], f'corr_{time}':1})\n",
    "# # q = inference.query(violations)\n",
    "# # #\n",
    "# # q = pgm_model.query(violations, [1, 1])\n",
    "\n",
    "assert(q[violations[0]] == 0.5)\n",
    "assert(q[violations[1]] == 0.5)\n",
    "\n",
    "pgm_model.observe({'red(b1)': 1})\n",
    "\n",
    "q = pgm_model.query(violations)\n",
    "\n",
    "assert(q[violations[0]] == 1.0)\n",
    "assert(q[violations[1]] == 0.0)"
   ]
  },
  {
   "cell_type": "code",
   "execution_count": 7,
   "metadata": {},
   "outputs": [
    {
     "data": {
      "text/plain": [
       "{<pgmpy.factors.continuous.ContinuousFactor.ContinuousFactor at 0x7feba5f04d90>,\n",
       " <pgmpy.factors.continuous.ContinuousFactor.ContinuousFactor at 0x7feba5f04dd0>,\n",
       " <DiscreteFactor representing phi(V_0(all x.(red(x) -> exists y. (blue(y) & on(x,y)))):2, red(b1):2, blue(b2):2, all x.(red(x) -> exists y. (blue(y) & on(x,y))):2) at 0x7feba5f16250>,\n",
       " <DiscreteFactor representing phi(V_0(all y.(blue(y) -> exists x. (red(x) & on(x,y)))):2, red(b1):2, blue(b2):2, all y.(blue(y) -> exists x. (red(x) & on(x,y))):2) at 0x7feba5f04ed0>,\n",
       " <DiscreteFactor representing phi(all x.(red(x) -> exists y. (blue(y) & on(x,y))):2) at 0x7feba5f04fd0>,\n",
       " <DiscreteFactor representing phi(all y.(blue(y) -> exists x. (red(x) & on(x,y))):2) at 0x7feba5f16090>,\n",
       " <DiscreteFactor representing phi(corr_0:2, V_0(all x.(red(x) -> exists y. (blue(y) & on(x,y)))):2, V_0(all y.(blue(y) -> exists x. (red(x) & on(x,y)))):2) at 0x7feba5f16b50>}"
      ]
     },
     "execution_count": 7,
     "metadata": {},
     "output_type": "execute_result"
    }
   ],
   "source": [
    "set(pgm_model.models[0].factors)"
   ]
  },
  {
   "cell_type": "code",
   "execution_count": 3,
   "metadata": {},
   "outputs": [
    {
     "name": "stdout",
     "output_type": "stream",
     "text": [
      "['F(b1)', 'red(b1)', <pgmpy.factors.continuous.ContinuousFactor.ContinuousFactor object at 0x7f14214a4950>]\n",
      "{'red(b1)', 'F(b1)'}\n",
      "['F(b2)', 'blue(b2)', <pgmpy.factors.continuous.ContinuousFactor.ContinuousFactor object at 0x7f14214a4910>]\n",
      "{'F(b2)', 'blue(b2)'}\n",
      "[all x.(red(x) -> exists y. (blue(y) & on(x,y))), <DiscreteFactor representing phi(all x.(red(x) -> exists y. (blue(y) & on(x,y))):2) at 0x7f14214b7090>]\n",
      "{all x.(red(x) -> exists y. (blue(y) & on(x,y)))}\n",
      "[all y.(blue(y) -> exists x. (red(x) & on(x,y))), <DiscreteFactor representing phi(all y.(blue(y) -> exists x. (red(x) & on(x,y))):2) at 0x7f14214b7650>]\n",
      "{all y.(blue(y) -> exists x. (red(x) & on(x,y)))}\n",
      "['V_0(all x.(red(x) -> exists y. (blue(y) & on(x,y))))', all x.(red(x) -> exists y. (blue(y) & on(x,y))), <DiscreteFactor representing phi(V_0(all x.(red(x) -> exists y. (blue(y) & on(x,y)))):2, red(b1):2, blue(b2):2, all x.(red(x) -> exists y. (blue(y) & on(x,y))):2) at 0x7f1421490610>, 'red(b1)', 'blue(b2)']\n",
      "{'red(b1)', 'V_0(all x.(red(x) -> exists y. (blue(y) & on(x,y))))', 'blue(b2)', all x.(red(x) -> exists y. (blue(y) & on(x,y)))}\n",
      "['V_0(all y.(blue(y) -> exists x. (red(x) & on(x,y))))', all y.(blue(y) -> exists x. (red(x) & on(x,y))), <DiscreteFactor representing phi(V_0(all y.(blue(y) -> exists x. (red(x) & on(x,y)))):2, red(b1):2, blue(b2):2, all y.(blue(y) -> exists x. (red(x) & on(x,y))):2) at 0x7f1421490210>, 'red(b1)', 'blue(b2)']\n",
      "{'red(b1)', 'V_0(all y.(blue(y) -> exists x. (red(x) & on(x,y))))', 'blue(b2)', all y.(blue(y) -> exists x. (red(x) & on(x,y)))}\n",
      "['corr_0', <DiscreteFactor representing phi(corr_0:2, V_0(all x.(red(x) -> exists y. (blue(y) & on(x,y)))):2, V_0(all y.(blue(y) -> exists x. (red(x) & on(x,y)))):2) at 0x7f1421442f90>, 'V_0(all x.(red(x) -> exists y. (blue(y) & on(x,y))))', 'V_0(all y.(blue(y) -> exists x. (red(x) & on(x,y))))']\n",
      "{'V_0(all y.(blue(y) -> exists x. (red(x) & on(x,y))))', 'V_0(all x.(red(x) -> exists y. (blue(y) & on(x,y))))', 'corr_0'}\n"
     ]
    }
   ],
   "source": [
    "for model in pgm_model.models:\n",
    "    print(model.nodes)\n",
    "    print(get_scope(model))\n",
    "    "
   ]
  },
  {
   "cell_type": "code",
   "execution_count": 15,
   "metadata": {},
   "outputs": [
    {
     "name": "stdout",
     "output_type": "stream",
     "text": [
      "{all y.(blue(y) -> exists x. (red(x) & on(x,y)))}\n",
      "{'F(b2)', 'F(b1)', all y.(blue(y) -> exists x. (red(x) & on(x,y))), 'corr_0', 'blue(b2)', all x.(red(x) -> exists y. (blue(y) & on(x,y))), 'red(b1)', 'V_0(all y.(blue(y) -> exists x. (red(x) & on(x,y))))', 'V_0(all x.(red(x) -> exists y. (blue(y) & on(x,y))))'}\n",
      "True\n"
     ]
    }
   ],
   "source": [
    "idx1 = 0\n",
    "idx2 = 1\n",
    "print(get_scope(pgm_model.models[idx1]))\n",
    "print(get_scope(pgm_model.models[idx2]))\n",
    "\n",
    "print(is_overlap(get_scope(pgm_model.models[idx1]), get_scope(pgm_model.models[idx2])))\n",
    "\n",
    "\n",
    "model3 = combine_models(pgm_model.models[idx1], pgm_model.models[idx2])\n",
    "\n",
    "model1 = pgm_model.models[idx1]\n",
    "model2 = pgm_model.models[idx2]\n",
    "\n",
    "pgm_model.models.remove(model1)\n",
    "pgm_model.models.remove(model2)\n",
    "pgm_model.models.append(model3)\n",
    "# get_scope(combine_models(pgm_model.models[2], pgm_model.models[3]))\n",
    "# get_scope(pgm_model.models[3])"
   ]
  },
  {
   "cell_type": "code",
   "execution_count": 16,
   "metadata": {},
   "outputs": [
    {
     "name": "stdout",
     "output_type": "stream",
     "text": [
      "[all y.(blue(y) -> exists x. (red(x) & on(x,y))), <DiscreteFactor representing phi(all y.(blue(y) -> exists x. (red(x) & on(x,y))):2) at 0x7f14214b7650>, all x.(red(x) -> exists y. (blue(y) & on(x,y))), <DiscreteFactor representing phi(all x.(red(x) -> exists y. (blue(y) & on(x,y))):2) at 0x7f14214b7090>, 'F(b2)', 'blue(b2)', <pgmpy.factors.continuous.ContinuousFactor.ContinuousFactor object at 0x7f14214a4910>, 'V_0(all x.(red(x) -> exists y. (blue(y) & on(x,y))))', 'red(b1)', <DiscreteFactor representing phi(V_0(all x.(red(x) -> exists y. (blue(y) & on(x,y)))):2, red(b1):2, blue(b2):2, all x.(red(x) -> exists y. (blue(y) & on(x,y))):2) at 0x7f1421490610>, 'corr_0', 'V_0(all y.(blue(y) -> exists x. (red(x) & on(x,y))))', <DiscreteFactor representing phi(corr_0:2, V_0(all x.(red(x) -> exists y. (blue(y) & on(x,y)))):2, V_0(all y.(blue(y) -> exists x. (red(x) & on(x,y)))):2) at 0x7f1421442f90>, 'F(b1)', <pgmpy.factors.continuous.ContinuousFactor.ContinuousFactor object at 0x7f14214a4950>, <DiscreteFactor representing phi(V_0(all y.(blue(y) -> exists x. (red(x) & on(x,y)))):2, red(b1):2, blue(b2):2, all y.(blue(y) -> exists x. (red(x) & on(x,y))):2) at 0x7f1421490210>]\n",
      "{'F(b2)', 'F(b1)', all y.(blue(y) -> exists x. (red(x) & on(x,y))), 'corr_0', 'blue(b2)', all x.(red(x) -> exists y. (blue(y) & on(x,y))), 'red(b1)', 'V_0(all y.(blue(y) -> exists x. (red(x) & on(x,y))))', 'V_0(all x.(red(x) -> exists y. (blue(y) & on(x,y))))'}\n"
     ]
    }
   ],
   "source": [
    "for model in pgm_model.models:\n",
    "    print(model.nodes)\n",
    "    print(get_scope(model))"
   ]
  },
  {
   "cell_type": "code",
   "execution_count": 11,
   "metadata": {},
   "outputs": [
    {
     "name": "stdout",
     "output_type": "stream",
     "text": [
      "fix bw? False\n",
      "bw 0.5\n",
      "fix bw? False\n",
      "bw 0.5\n"
     ]
    }
   ],
   "source": [
    "pgm_model = PGMModel()\n",
    "\n",
    "red_cm = KDEColourModel('red')\n",
    "blue_cm = KDEColourModel('blue')\n",
    "\n",
    "time = 0\n",
    "red_on_blue_rules = rules.Rule.generate_red_on_blue_options('red', 'blue')\n",
    "\n",
    "violations = pgm_model.extend_model(red_on_blue_rules, red_cm, blue_cm, ['b1', 'b2'], time, correction_type=CorrectionType.TOWER)\n",
    "\n",
    "\n",
    "\n",
    "inference = PGMPYInference(pgm_model.model)\n",
    "new_model = inference.infer({}, {'F(b1)':[1,1,1], 'F(b2)':[0,0,0], f'corr_{time}':1})\n",
    "q = inference.query(violations)\n",
    "#\n",
    "# q = pgm_model.query(violations, [1, 1])\n",
    "\n",
    "assert(q[violations[0]] == 0.5)\n",
    "assert(q[violations[1]] == 0.5)\n"
   ]
  },
  {
   "cell_type": "code",
   "execution_count": 7,
   "metadata": {},
   "outputs": [],
   "source": [
    "f = q[violations[0]]"
   ]
  },
  {
   "cell_type": "code",
   "execution_count": 13,
   "metadata": {},
   "outputs": [
    {
     "data": {
      "text/plain": [
       "0.5"
      ]
     },
     "execution_count": 13,
     "metadata": {},
     "output_type": "execute_result"
    }
   ],
   "source": [
    "f.values[0]"
   ]
  },
  {
   "cell_type": "code",
   "execution_count": 3,
   "metadata": {},
   "outputs": [
    {
     "data": {
      "text/plain": [
       "{'V_0(all x.(red(x) -> exists y. (blue(y) & on(x,y))))': 0}"
      ]
     },
     "execution_count": 3,
     "metadata": {},
     "output_type": "execute_result"
    }
   ],
   "source": [
    "inference.belief_propagation.map_query(variables=['V_0(all x.(red(x) -> exists y. (blue(y) & on(x,y))))'], evidence=inference.evidence)"
   ]
  },
  {
   "cell_type": "code",
   "execution_count": 3,
   "metadata": {},
   "outputs": [
    {
     "ename": "AttributeError",
     "evalue": "'PGMPYInference' object has no attribute 'new_model'",
     "output_type": "error",
     "traceback": [
      "\u001b[0;31m---------------------------------------------------------------------------\u001b[0m",
      "\u001b[0;31mAttributeError\u001b[0m                            Traceback (most recent call last)",
      "\u001b[0;32m<ipython-input-3-a5c7c76be4b6>\u001b[0m in \u001b[0;36m<module>\u001b[0;34m\u001b[0m\n\u001b[0;32m----> 1\u001b[0;31m \u001b[0mmodel\u001b[0m \u001b[0;34m=\u001b[0m \u001b[0minference\u001b[0m\u001b[0;34m.\u001b[0m\u001b[0mnew_model\u001b[0m\u001b[0;34m\u001b[0m\u001b[0;34m\u001b[0m\u001b[0m\n\u001b[0m",
      "\u001b[0;31mAttributeError\u001b[0m: 'PGMPYInference' object has no attribute 'new_model'"
     ]
    }
   ],
   "source": [
    "model = inference.new_model"
   ]
  },
  {
   "cell_type": "code",
   "execution_count": 5,
   "metadata": {},
   "outputs": [
    {
     "data": {
      "text/plain": [
       "<pgmpy.models.FactorGraph.FactorGraph at 0x7f62a5170a50>"
      ]
     },
     "execution_count": 5,
     "metadata": {},
     "output_type": "execute_result"
    }
   ],
   "source": [
    "new_model"
   ]
  },
  {
   "cell_type": "code",
   "execution_count": 27,
   "metadata": {},
   "outputs": [
    {
     "name": "stderr",
     "output_type": "stream",
     "text": [
      "/home/mappelgren/Desktop/pgmpy/pgmpy/factors/discrete/DiscreteFactor.py:621: FutureWarning: Using a non-tuple sequence for multidimensional indexing is deprecated; use `arr[tuple(seq)]` instead of `arr[seq]`. In the future this will be interpreted as an array index, `arr[np.array(seq)]`, which will result either in an error or a different result.\n",
      "  phi.values = phi.values[slice_]\n",
      "/home/mappelgren/Desktop/pgmpy/pgmpy/factors/discrete/DiscreteFactor.py:633: FutureWarning: Using a non-tuple sequence for multidimensional indexing is deprecated; use `arr[tuple(seq)]` instead of `arr[seq]`. In the future this will be interpreted as an array index, `arr[np.array(seq)]`, which will result either in an error or a different result.\n",
      "  phi1.values = phi1.values[slice_]\n"
     ]
    }
   ],
   "source": [
    "pgm_model.observe({'F(b1)':[1,1,1], 'F(b2)':[0,0,0], f'corr_{time}':1})\n",
    "pgm_model.infer()"
   ]
  },
  {
   "cell_type": "code",
   "execution_count": 13,
   "metadata": {},
   "outputs": [
    {
     "data": {
      "text/plain": [
       "{'V_0(all x.(red(x) -> exists y. (blue(y) & on(x,y))))': 0.5,\n",
       " 'V_0(all y.(blue(y) -> exists x. (red(x) & on(x,y))))': 0.5}"
      ]
     },
     "execution_count": 13,
     "metadata": {},
     "output_type": "execute_result"
    }
   ],
   "source": [
    "pgm_model.query(variables=violations)"
   ]
  },
  {
   "cell_type": "code",
   "execution_count": 14,
   "metadata": {},
   "outputs": [
    {
     "data": {
      "text/plain": [
       "{'corr_0': 1}"
      ]
     },
     "execution_count": 14,
     "metadata": {},
     "output_type": "execute_result"
    }
   ],
   "source": [
    "inference.evidence"
   ]
  },
  {
   "cell_type": "code",
   "execution_count": 5,
   "metadata": {},
   "outputs": [],
   "source": [
    "from pgmpy.factors.discrete import TabularCPD\n",
    "from pgmpy.models import BayesianModel\n",
    "from pgmpy.inference import BeliefPropagation\n",
    "bayesian_model = BayesianModel([('A', 'J'), ('R', 'J'), ('J', 'Q'),\n",
    "                                 ('J', 'L'), ('G', 'L')])\n",
    "cpd_a = TabularCPD('A', 2, [[0.2], [0.8]])\n",
    "cpd_r = TabularCPD('R', 2, [[0.4], [0.6]])\n",
    "cpd_j = TabularCPD('J', 2,\n",
    "                    [[0.9, 0.6, 0.7, 0.1],\n",
    "                     [0.1, 0.4, 0.3, 0.9]],\n",
    "                    ['R', 'A'], [2, 2])\n",
    "cpd_q = TabularCPD('Q', 2,\n",
    "                    [[0.9, 0.2],\n",
    "                     [0.1, 0.8]],\n",
    "                    ['J'], [2])\n",
    "cpd_l = TabularCPD('L', 2,\n",
    "                    [[0.9, 0.45, 0.8, 0.1],\n",
    "                     [0.1, 0.55, 0.2, 0.9]],\n",
    "                    ['G', 'J'], [2, 2])\n",
    "cpd_g = TabularCPD('G', 2, [[0.6], [0.4]])\n",
    "bayesian_model.add_cpds(cpd_a, cpd_r, cpd_j, cpd_q, cpd_l, cpd_g)\n",
    "belief_propagation = BeliefPropagation(bayesian_model)\n",
    "bp = belief_propagation.map_query(variables=['J', 'Q'],\n",
    "                              evidence={'A': 0, 'R': 0, 'G': 0, 'L': 1})\n"
   ]
  },
  {
   "cell_type": "code",
   "execution_count": 6,
   "metadata": {},
   "outputs": [
    {
     "data": {
      "text/plain": [
       "0"
      ]
     },
     "execution_count": 6,
     "metadata": {},
     "output_type": "execute_result"
    }
   ],
   "source": []
  },
  {
   "cell_type": "code",
   "execution_count": 3,
   "metadata": {},
   "outputs": [],
   "source": [
    "a = {1:2}"
   ]
  },
  {
   "cell_type": "code",
   "execution_count": 4,
   "metadata": {},
   "outputs": [],
   "source": [
    "a.update({2:3})"
   ]
  },
  {
   "cell_type": "code",
   "execution_count": 5,
   "metadata": {},
   "outputs": [
    {
     "data": {
      "text/plain": [
       "{1: 2, 2: 3}"
      ]
     },
     "execution_count": 5,
     "metadata": {},
     "output_type": "execute_result"
    }
   ],
   "source": [
    "a"
   ]
  },
  {
   "cell_type": "code",
   "execution_count": null,
   "metadata": {},
   "outputs": [],
   "source": []
  }
 ],
 "metadata": {
  "kernelspec": {
   "display_name": "Python 3",
   "language": "python",
   "name": "python3"
  },
  "language_info": {
   "codemirror_mode": {
    "name": "ipython",
    "version": 3
   },
   "file_extension": ".py",
   "mimetype": "text/x-python",
   "name": "python",
   "nbconvert_exporter": "python",
   "pygments_lexer": "ipython3",
   "version": "3.7.4"
  }
 },
 "nbformat": 4,
 "nbformat_minor": 2
}

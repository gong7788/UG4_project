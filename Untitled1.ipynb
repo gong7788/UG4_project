{
 "cells": [
  {
   "cell_type": "code",
   "execution_count": 1,
   "metadata": {},
   "outputs": [],
   "source": [
    "import world\n",
    "import agents\n",
    "from ff import Solved\n",
    "import ff\n",
    "import pddl_functions\n",
    "from teacher import TeacherAgent\n",
    "import os\n",
    "import numpy as np\n",
    "from scipy.stats import norm\n",
    "from IPython.display import clear_output\n",
    "import matplotlib.pyplot as plt\n",
    "import pandas as pd\n",
    "import gc\n",
    "import pickle\n",
    "from evaluation import plot_cumsum, test_colour_model, ResultsFile, get_agent\n",
    "import configparser\n",
    "import logging\n",
    "from collections import defaultdict\n",
    "import prob_model\n",
    "import sqlalchemy"
   ]
  },
  {
   "cell_type": "code",
   "execution_count": null,
   "metadata": {},
   "outputs": [],
   "source": [
    "\n",
    "results_file.write('Results for {}\\n'.format(problem_dir))\n",
    "for problem in problems:\n",
    "    w = world.PDDLWorld('blocks-domain.pddl', '{}/{}'.format(problem_dir, problem))\n",
    "    agent.new_world(w)\n",
    "    while not w.test_success():\n",
    "        plan = agent.plan()\n",
    "        for a, args in plan:\n",
    "            if a == 'reach-goal':\n",
    "                break\n",
    "            w.update(a, args)\n",
    "            if vis:\n",
    "                w.draw()\n",
    "            correction = agent.teacher.correction(w)\n",
    "            if correction:\n",
    "                logger.info(\"T: \" + correction)\n",
    "                agent.get_correction(correction, a, args)\n",
    "                if vis:\n",
    "                    w.draw()\n",
    "                break\n",
    "    if debug and not 'Random' in config['agent']:\n",
    "        debugger.cm_confusion(agent)\n",
    "        debugger.update_cm_params(agent)\n"
   ]
  }
 ],
 "metadata": {
  "kernelspec": {
   "display_name": "Python 3",
   "language": "python",
   "name": "python3"
  },
  "language_info": {
   "codemirror_mode": {
    "name": "ipython",
    "version": 3
   },
   "file_extension": ".py",
   "mimetype": "text/x-python",
   "name": "python",
   "nbconvert_exporter": "python",
   "pygments_lexer": "ipython3",
   "version": "3.6.3"
  }
 },
 "nbformat": 4,
 "nbformat_minor": 2
}

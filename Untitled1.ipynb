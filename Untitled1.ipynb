{
 "cells": [
  {
   "cell_type": "code",
   "execution_count": null,
   "metadata": {},
   "outputs": [],
   "source": [
    "# %load goal_updates.py\n",
    "import pddl_functions\n",
    "import ff\n",
    "import block_plotting\n",
    "from pythonpddl.pddl import Predicate, TypedArg, TypedArgList, Formula\n",
    "import copy\n",
    "\n",
    "\n",
    "def create_goal(obj1, obj2, variables=(\"?x\", \"?y\")):\n",
    "    variables = pddl_functions.make_variable_list(variables)\n",
    "    obj1_preds = [Predicate(p, TypedArgList([variables.args[0]])) for p in obj1]\n",
    "    obj2_preds = [Predicate(p, TypedArgList([variables.args[1]])) for p in obj2]\n",
    "    on = Predicate('on', pddl_functions.make_variable_list(['?x', '?y']))\n",
    "\n",
    "    if len(obj1_preds) > 1:\n",
    "        obj1_formula = Formula(obj1_preds, op='and')\n",
    "    else:\n",
    "        obj1_formula = Formula(obj1_preds)\n",
    "\n",
    "    if len(obj2_preds) > 1:\n",
    "        obj2_formula = Formula(obj2_preds, op='and')\n",
    "    else:\n",
    "        obj2_formula = Formula(obj2_preds)\n",
    "\n",
    "    second_part = Formula([obj2_formula, on], op='and')\n",
    "    existential = Formula([second_part], op='exists', variables=pddl_functions.make_variable_list([variables.args[1].arg_name]))\n",
    "    neg_o1 = Formula([obj1_formula], op='not')\n",
    "    subformula = Formula([neg_o1, existential], op='or')\n",
    "\n",
    "    return Formula([subformula], op='forall', variables=pddl_functions.make_variable_list([variables.args[0].arg_name]))\n",
    "\n",
    "def create_default_goal():\n",
    "    var = pddl_functions.make_variable_list(['?x'])\n",
    "    pred = Predicate('in-tower', var)\n",
    "    goal = Formula([pred], op='forall', variables=var)\n",
    "    return goal\n",
    "\n",
    "def create_goal_options(obj1, obj2):\n",
    "    return [create_goal(obj1, obj2), create_goal(obj2, obj1, variables=(\"?y\", \"?x\"))]\n",
    "\n",
    "\n",
    "def update_goal(goal, rule):\n",
    "    goal = copy.deepcopy(goal)\n",
    "    if rule is None:\n",
    "        return goal\n",
    "    if goal is None:\n",
    "        goal = rule\n",
    "    elif goal.op == 'and':\n",
    "        goal.subformulas.append(rule)\n",
    "    else:\n",
    "        goal = Formula([goal, rule], op='and')\n",
    "    return goal\n",
    "\n",
    "def goal_from_list(rules):\n",
    "    goal = create_default_goal()\n",
    "    for rule in rules:\n",
    "        goal = update_goal(goal, rule)\n",
    "    return goal\n",
    "    \n"
   ]
  },
  {
   "cell_type": "code",
   "execution_count": 2,
   "metadata": {},
   "outputs": [],
   "source": [
    "import pddl_functions\n",
    "import ff\n",
    "import block_plotting\n",
    "from pythonpddl.pddl import Predicate, TypedArg, TypedArgList, Formula\n",
    "import copy"
   ]
  },
  {
   "cell_type": "code",
   "execution_count": 6,
   "metadata": {},
   "outputs": [],
   "source": [
    "def create_negative_goal(obj1, obj2, variables=(\"?x\", \"?y\")):\n",
    "    variables = pddl_functions.make_variable_list(variables)\n",
    "    obj1_preds = [Predicate(p, TypedArgList([variables.args[0]])) for p in obj1]\n",
    "    obj2_preds = [Predicate(p, TypedArgList([variables.args[1]])) for p in obj2]\n",
    "    on = Predicate('on', pddl_functions.make_variable_list(['?x', '?y']))\n",
    "\n",
    "    if len(obj1_preds) > 1:\n",
    "        obj1_formula = Formula(obj1_preds, op='and')\n",
    "    else:\n",
    "        obj1_formula = Formula(obj1_preds)\n",
    "\n",
    "    if len(obj2_preds) > 1:\n",
    "        obj2_formula = Formula(obj2_preds, op='and')\n",
    "    else:\n",
    "        obj2_formula = Formula(obj2_preds)\n",
    "\n",
    "    conjunction_part = Formula([obj1_formula, obj2_formula, on], op='and')\n",
    "    existential = Formula([conjunction_part], op='exists', variables=variables)\n",
    "    neg_formula = Formula([existential], op='not')\n",
    "\n",
    "\n",
    "    return neg_formula"
   ]
  },
  {
   "cell_type": "code",
   "execution_count": 7,
   "metadata": {},
   "outputs": [
    {
     "data": {
      "text/plain": [
       "'(not (exists (?x ?y) (and (red ?x) (blue ?y) (on ?x ?y))))'"
      ]
     },
     "execution_count": 7,
     "metadata": {},
     "output_type": "execute_result"
    }
   ],
   "source": [
    "create_negative_goal(['red'], ['blue']).asPDDL()"
   ]
  },
  {
   "cell_type": "code",
   "execution_count": null,
   "metadata": {},
   "outputs": [],
   "source": []
  }
 ],
 "metadata": {
  "kernelspec": {
   "display_name": "Python 3",
   "language": "python",
   "name": "python3"
  },
  "language_info": {
   "codemirror_mode": {
    "name": "ipython",
    "version": 3
   },
   "file_extension": ".py",
   "mimetype": "text/x-python",
   "name": "python",
   "nbconvert_exporter": "python",
   "pygments_lexer": "ipython3",
   "version": "3.6.3"
  }
 },
 "nbformat": 4,
 "nbformat_minor": 2
}

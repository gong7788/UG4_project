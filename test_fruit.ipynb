{
 "metadata": {
  "language_info": {
   "codemirror_mode": {
    "name": "ipython",
    "version": 3
   },
   "file_extension": ".py",
   "mimetype": "text/x-python",
   "name": "python",
   "nbconvert_exporter": "python",
   "pygments_lexer": "ipython3",
   "version": "3.6.12-final"
  },
  "orig_nbformat": 2,
  "kernelspec": {
   "name": "Python 3.6.12 64-bit ('project': conda)",
   "display_name": "Python 3.6.12 64-bit ('project': conda)",
   "metadata": {
    "interpreter": {
     "hash": "cab2a85f98424baa3ee9755c87a8333b57a3c02ba1de25e97492887dab4fe3fb"
    }
   }
  }
 },
 "nbformat": 4,
 "nbformat_minor": 2,
 "cells": [
  {
   "cell_type": "code",
   "execution_count": 1,
   "metadata": {},
   "outputs": [],
   "source": [
    "from correctingagent.world import world\n",
    "from correctingagent.agents.PGMAgent import PGMCorrectingAgent, read_sentence\n",
    "from correctingagent.agents.teacher import TeacherAgent, FaultyTeacherAgent\n",
    "from correctingagent.world.world import RandomColoursWorld\n",
    "from correctingagent.models.pgmmodels import InferenceType\n",
    "from correctingagent.models.pgmmodels import *\n",
    "from correctingagent.util.CPD_generation import variable_or_CPD"
   ]
  },
  {
   "cell_type": "code",
   "execution_count": 2,
   "metadata": {},
   "outputs": [],
   "source": [
    "import pythonpddl.pddl"
   ]
  },
  {
   "cell_type": "code",
   "execution_count": 3,
   "metadata": {},
   "outputs": [
    {
     "output_type": "stream",
     "name": "stdout",
     "text": [
      "Parsing domain /home/yucheng/Desktop/project/correcting-agent/data/domain/fruits-domain-updated.pddl\n",
      "Parsing problem /home/yucheng/Desktop/project/correcting-agent/data/fruit-4/fruit-4-1c0r-4/problem5.pddl\n"
     ]
    }
   ],
   "source": [
    "# The RandomColoursWorld represents a situation where we use the \"colours.json\" files to identify the rgp value of individual objects\n",
    "# The problem directory is the full directory information starting from correctingagent/data\n",
    "# The problem number is simply the number of the problem: problem5.pddl\n",
    "# The domain file is assumed to be located in correctingagent/data/domain\n",
    "w = RandomColoursWorld(problem_directory=\"fruit-4/fruit-4-1c0r-4\", \n",
    "                       problem_number=5, \n",
    "                       domain_file=\"fruits-domain-updated.pddl\")\n",
    "\n",
    "teacher = TeacherAgent()\n",
    "\n",
    "# \n",
    "agent = PGMCorrectingAgent(w, teacher=teacher)\n",
    "\n",
    "# plan =[('put', ['b9', 't0']), ('put', ['b8', 'b9']), \n",
    "#        ('put', ['b7', 'b8']), ('put', ['b6', 'b7'])]\n",
    "    \n",
    "# for action, args in plan:\n",
    "#     w.update(action, args)\n",
    "\n",
    "\n",
    "# agent.get_correction(\"no, now you cannot put b0 in the tower because you must put green blocks on blue blocks\", action, args)\n",
    "# action, args = ('put', ['b0', 'b7'])\n",
    "# print()\n",
    "# print()\n",
    "# w.update(action, args)\n",
    "# agent.no_correction(action, args)\n",
    "\n",
    "\n",
    "\n",
    "# action, args = ('put', ['b6', 'b0'])\n",
    "# print()\n",
    "# print()\n",
    "# w.update(action, args)\n",
    "# agent.no_correction(action, args)"
   ]
  },
  {
   "cell_type": "code",
   "execution_count": 7,
   "metadata": {},
   "outputs": [],
   "source": [
    "import json\n",
    "from skimage.color import hsv2rgb"
   ]
  },
  {
   "cell_type": "code",
   "execution_count": 8,
   "metadata": {},
   "outputs": [],
   "source": [
    "json_file = \"/home/yucheng/Desktop/project/correcting-agent/data/fruit-4/fruit-4-1c0r-4/colours1.json\""
   ]
  },
  {
   "cell_type": "code",
   "execution_count": 9,
   "metadata": {},
   "outputs": [],
   "source": [
    "colours = json.load(open(json_file))"
   ]
  },
  {
   "cell_type": "code",
   "execution_count": 19,
   "metadata": {},
   "outputs": [
    {
     "output_type": "execute_result",
     "data": {
      "text/plain": [
       "{'b0': [-3.739983558654785,\n",
       "  2.005704402923584,\n",
       "  0.9698567390441895,\n",
       "  1.3633809089660645],\n",
       " 'b1': [1.2112971544265747,\n",
       "  -0.0682644248008728,\n",
       "  -1.5374571084976196,\n",
       "  1.1713473796844482],\n",
       " 'b2': [0.4020228087902069,\n",
       "  -0.23382242023944855,\n",
       "  0.10056497156620026,\n",
       "  -1.3091031312942505],\n",
       " 'b3': [-0.03449419140815735,\n",
       "  0.12984932959079742,\n",
       "  -0.3385618329048157,\n",
       "  -0.13123032450675964],\n",
       " 'b4': [5.298080921173096,\n",
       "  0.9436495304107666,\n",
       "  0.9007065296173096,\n",
       "  0.4469115436077118],\n",
       " 'b5': [-1.0387004613876343,\n",
       "  1.100032091140747,\n",
       "  0.2446412891149521,\n",
       "  0.40075406432151794],\n",
       " 'b6': [-1.9145232439041138,\n",
       "  -0.573814868927002,\n",
       "  -0.510688304901123,\n",
       "  -0.7168629765510559],\n",
       " 'b7': [-2.633091926574707,\n",
       "  -2.0054943561553955,\n",
       "  -1.3342911005020142,\n",
       "  1.9996987581253052],\n",
       " 'b8': [-0.45657414197921753,\n",
       "  0.09106317907571793,\n",
       "  0.9304306507110596,\n",
       "  -0.1505139321088791],\n",
       " 'b9': [-0.8475639224052429,\n",
       "  0.46786144375801086,\n",
       "  1.8686623573303223,\n",
       "  1.305012583732605]}"
      ]
     },
     "metadata": {},
     "execution_count": 19
    }
   ],
   "source": [
    "def load_data(colour_file):\n",
    "    all_data = json.load(open(colour_file))\n",
    "    mydata = {}\n",
    "    for (obj, data) in all_data.items():\n",
    "        mydata.update({obj: data[:4]}) \n",
    "    return mydata\n",
    "data = load_data(json_file)\n",
    "data"
   ]
  },
  {
   "cell_type": "code",
   "execution_count": 14,
   "metadata": {},
   "outputs": [
    {
     "output_type": "execute_result",
     "data": {
      "text/plain": [
       "{'b0': [-3.739983558654785,\n",
       "  2.005704402923584,\n",
       "  0.9698567390441895,\n",
       "  1.3633809089660645],\n",
       " 'b1': [1.2112971544265747,\n",
       "  -0.0682644248008728,\n",
       "  -1.5374571084976196,\n",
       "  1.1713473796844482],\n",
       " 'b2': [0.4020228087902069,\n",
       "  -0.23382242023944855,\n",
       "  0.10056497156620026,\n",
       "  -1.3091031312942505],\n",
       " 'b3': [-0.03449419140815735,\n",
       "  0.12984932959079742,\n",
       "  -0.3385618329048157,\n",
       "  -0.13123032450675964],\n",
       " 'b4': [5.298080921173096,\n",
       "  0.9436495304107666,\n",
       "  0.9007065296173096,\n",
       "  0.4469115436077118],\n",
       " 'b5': [-1.0387004613876343,\n",
       "  1.100032091140747,\n",
       "  0.2446412891149521,\n",
       "  0.40075406432151794],\n",
       " 'b6': [-1.9145232439041138,\n",
       "  -0.573814868927002,\n",
       "  -0.510688304901123,\n",
       "  -0.7168629765510559],\n",
       " 'b7': [-2.633091926574707,\n",
       "  -2.0054943561553955,\n",
       "  -1.3342911005020142,\n",
       "  1.9996987581253052],\n",
       " 'b8': [-0.45657414197921753,\n",
       "  0.09106317907571793,\n",
       "  0.9304306507110596,\n",
       "  -0.1505139321088791],\n",
       " 'b9': [-0.8475639224052429,\n",
       "  0.46786144375801086,\n",
       "  1.8686623573303223,\n",
       "  1.305012583732605]}"
      ]
     },
     "metadata": {},
     "execution_count": 14
    }
   ],
   "source": [
    "dict1 = {}\n",
    "for (obj, data) in colours.items():\n",
    "    dict1[obj] = data[:4]\n",
    "dict1"
   ]
  },
  {
   "cell_type": "code",
   "execution_count": 11,
   "metadata": {},
   "outputs": [
    {
     "output_type": "stream",
     "name": "stdout",
     "text": [
      "Parsing domain /home/yucheng/Desktop/project/correcting-agent/data/domain/fruits-domain-updated.pddl\nParsing problem /home/yucheng/Desktop/project/correcting-agent/data/fruit-4/fruit-4-1c0r-4/problem5.pddl\n"
     ]
    },
    {
     "output_type": "display_data",
     "data": {
      "text/plain": "<Figure size 576x720 with 1 Axes>",
      "image/svg+xml": "<?xml version=\"1.0\" encoding=\"utf-8\" standalone=\"no\"?>\n<!DOCTYPE svg PUBLIC \"-//W3C//DTD SVG 1.1//EN\"\n  \"http://www.w3.org/Graphics/SVG/1.1/DTD/svg11.dtd\">\n<!-- Created with matplotlib (https://matplotlib.org/) -->\n<svg height=\"574.81675pt\" version=\"1.1\" viewBox=\"0 0 491.49325 574.81675\" width=\"491.49325pt\" xmlns=\"http://www.w3.org/2000/svg\" xmlns:xlink=\"http://www.w3.org/1999/xlink\">\n <defs>\n  <style type=\"text/css\">\n*{stroke-linecap:butt;stroke-linejoin:round;}\n  </style>\n </defs>\n <g id=\"figure_1\">\n  <g id=\"patch_1\">\n   <path d=\"M 0 574.81675 \nL 491.49325 574.81675 \nL 491.49325 0 \nL 0 0 \nz\n\" style=\"fill:#ffffff;\"/>\n  </g>\n  <g id=\"axes_1\">\n   <g id=\"patch_2\">\n    <path clip-path=\"url(#p2369aaf6f7)\" d=\"M 109.49375 550.8 \nL 124.37375 550.8 \nL 124.37375 499.028571 \nL 109.49375 499.028571 \nz\n\" style=\"fill:#2258fe;stroke:#000000;stroke-linejoin:miter;stroke-width:0.8;\"/>\n   </g>\n   <g id=\"patch_3\">\n    <path clip-path=\"url(#p2369aaf6f7)\" d=\"M 139.25375 550.8 \nL 154.13375 550.8 \nL 154.13375 499.028571 \nL 139.25375 499.028571 \nz\n\" style=\"fill:#990aeb;stroke:#000000;stroke-linejoin:miter;stroke-width:0.8;\"/>\n   </g>\n   <g id=\"patch_4\">\n    <path clip-path=\"url(#p2369aaf6f7)\" d=\"M 169.01375 550.8 \nL 183.89375 550.8 \nL 183.89375 499.028571 \nL 169.01375 499.028571 \nz\n\" style=\"fill:#8617d9;stroke:#000000;stroke-linejoin:miter;stroke-width:0.8;\"/>\n   </g>\n   <g id=\"patch_5\">\n    <path clip-path=\"url(#p2369aaf6f7)\" d=\"M 198.77375 550.8 \nL 213.65375 550.8 \nL 213.65375 499.028571 \nL 198.77375 499.028571 \nz\n\" style=\"fill:#0244d0;stroke:#000000;stroke-linejoin:miter;stroke-width:0.8;\"/>\n   </g>\n   <g id=\"patch_6\">\n    <path clip-path=\"url(#p2369aaf6f7)\" d=\"M 228.53375 550.8 \nL 243.41375 550.8 \nL 243.41375 499.028571 \nL 228.53375 499.028571 \nz\n\" style=\"fill:#f20bb8;stroke:#000000;stroke-linejoin:miter;stroke-width:0.8;\"/>\n   </g>\n   <g id=\"patch_7\">\n    <path clip-path=\"url(#p2369aaf6f7)\" d=\"M 258.29375 550.8 \nL 273.17375 550.8 \nL 273.17375 499.028571 \nL 258.29375 499.028571 \nz\n\" style=\"fill:#d7550c;stroke:#000000;stroke-linejoin:miter;stroke-width:0.8;\"/>\n   </g>\n   <g id=\"patch_8\">\n    <path clip-path=\"url(#p2369aaf6f7)\" d=\"M 288.05375 550.8 \nL 302.93375 550.8 \nL 302.93375 499.028571 \nL 288.05375 499.028571 \nz\n\" style=\"fill:#e2de12;stroke:#000000;stroke-linejoin:miter;stroke-width:0.8;\"/>\n   </g>\n   <g id=\"patch_9\">\n    <path clip-path=\"url(#p2369aaf6f7)\" d=\"M 317.81375 550.8 \nL 332.69375 550.8 \nL 332.69375 499.028571 \nL 317.81375 499.028571 \nz\n\" style=\"fill:#d77506;stroke:#000000;stroke-linejoin:miter;stroke-width:0.8;\"/>\n   </g>\n   <g id=\"patch_10\">\n    <path clip-path=\"url(#p2369aaf6f7)\" d=\"M 347.57375 550.8 \nL 362.45375 550.8 \nL 362.45375 499.028571 \nL 347.57375 499.028571 \nz\n\" style=\"fill:#24f02f;stroke:#000000;stroke-linejoin:miter;stroke-width:0.8;\"/>\n   </g>\n   <g id=\"patch_11\">\n    <path clip-path=\"url(#p2369aaf6f7)\" d=\"M 377.33375 550.8 \nL 392.21375 550.8 \nL 392.21375 499.028571 \nL 377.33375 499.028571 \nz\n\" style=\"fill:#20e139;stroke:#000000;stroke-linejoin:miter;stroke-width:0.8;\"/>\n   </g>\n  </g>\n </g>\n <defs>\n  <clipPath id=\"p2369aaf6f7\">\n   <rect height=\"543.6\" width=\"446.4\" x=\"35.09375\" y=\"7.2\"/>\n  </clipPath>\n </defs>\n</svg>\n",
      "image/png": "[encoded data removed]"
     },
     "metadata": {}
    }
   ],
   "source": [
    "w.reset()\n",
    "\n",
    "# w.update('put', ['b9', 't1', 'tower1'])\n",
    "# w.update('put', ['b0', 'b1'])\n",
    "w.draw()"
   ]
  },
  {
   "cell_type": "code",
   "execution_count": 19,
   "metadata": {},
   "outputs": [
    {
     "output_type": "stream",
     "name": "stdout",
     "text": [
      "Parsing domain /home/yucheng/Desktop/project/correcting-agent/data/domain/fruits-domain-updated.pddl\nParsing problem /home/yucheng/Desktop/project/correcting-agent/data/fruit-4/fruit-4-1c0r-4/problem1.pddl\n"
     ]
    }
   ],
   "source": [
    "# This is the basic loop for the agent solving a particular problem\n",
    "w = RandomColoursWorld(problem_directory=\"fruit-4/fruit-4-1c0r-4\", \n",
    "                       problem_number=1, \n",
    "                       domain_file=\"fruits-domain-updated.pddl\")\n",
    "\n",
    "teacher = TeacherAgent()\n",
    "\n",
    "agent = PGMCorrectingAgent(w, domain_file='fruits-domain-updated.pddl', teacher=teacher, model_config={\"fix_bw\":True, \"bw\":0.05})"
   ]
  },
  {
   "cell_type": "code",
   "execution_count": 20,
   "metadata": {},
   "outputs": [
    {
     "output_type": "stream",
     "name": "stdout",
     "text": [
      "fruits-domain-updated.pddl True\n",
      "planning 0.025923728942871094 time\n",
      "put ['b9', 't1', 'tower1']\n",
      "put ['b8', 'b9', 'tower1']\n",
      "put ['b7', 'b8', 'tower1']\n",
      "put ['b6', 'b7', 'tower1']\n",
      "put ['b5', 'b6', 'tower1']\n",
      "put ['b4', 'b5', 'tower1']\n",
      "put ['b3', 'b4', 'tower1']\n",
      "put ['b2', 'b3', 'tower1']\n",
      "put ['b1', 'b2', 'tower1']\n",
      "put ['b0', 'b1', 'tower1']\n"
     ]
    }
   ],
   "source": [
    "while w.test_success() is False:\n",
    "    for a, args, in agent.plan():\n",
    "        print(a, args)\n",
    "        w.update(a, args)\n",
    "        u = teacher.correction(w, a, args)\n",
    "        if u != '':\n",
    "            agent.get_correction(u, a, args)\n",
    "            break\n",
    "        else:\n",
    "            agent.no_correction(a, args)"
   ]
  },
  {
   "cell_type": "code",
   "execution_count": null,
   "metadata": {},
   "outputs": [],
   "source": []
  }
 ]
}
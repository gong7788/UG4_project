{
 "cells": [
  {
   "cell_type": "code",
   "execution_count": 6,
   "metadata": {},
   "outputs": [],
   "source": [
    "from search import *\n",
    "import pddl_functions"
   ]
  },
  {
   "cell_type": "code",
   "execution_count": 4,
   "metadata": {},
   "outputs": [
    {
     "name": "stdout",
     "output_type": "stream",
     "text": [
      "Parsing domain blocks-domain.pddl\n",
      "Parsing problem onerule/problem1.pddl\n"
     ]
    }
   ],
   "source": [
    "\n",
    "f1, f2 = goal_updates.create_goal_options(['red'], ['blue'])\n",
    "f3, f4 = goal_updates.create_goal_options(['green'], ['yellow'])\n",
    "\n",
    "rule1 = Rule(f1)\n",
    "rule2 = Rule(f2)\n",
    "rule3 = Rule(f3)\n",
    "rule4 = Rule(f4)\n",
    "\n",
    "cc = ConstraintCollection([rule2.constraint, rule4.constraint])\n",
    "problem_dir = 'onerule'\n",
    "problems = os.listdir(problem_dir)\n",
    "w = world.PDDLWorld('blocks-domain.pddl', '{}/{}'.format(problem_dir, problems[0]))\n",
    "w.update('put', ['b3', 't0'])\n",
    "w.update('put', ['b2', 'b3'])\n",
    "\n",
    "\n",
    "\n",
    "colour_choices = {'b0':{'red':0.4, 'blue':0.3}, \n",
    "                  'b1':{'red':0.4, 'blue':0.4}, \n",
    "                  'b2':{'red':0.9, 'blue':0.3}, \n",
    "                  'b3':{'red':0.61, 'blue':0.3}, \n",
    "                  'b4':{'red':0.4, 'blue':0.3}, \n",
    "                  'b5':{'red':0.4, 'blue':0.3}, \n",
    "                  'b6':{'red':0.4, 'blue':0.3}, \n",
    "                  'b7':{'red':0.8, 'blue':0.7}, \n",
    "                  'b8':{'red':0.4, 'blue':0.3}, \n",
    "                  'b9':{'red':0.4, 'blue':0.55}, \n",
    "                  't0':{'red':0.0, 'blue':0.0}}\n",
    "\n",
    "colour_choices2 = {'b0':{'red':0.5, 'blue':0.5}, \n",
    "                  'b1':{'red':0.5, 'blue':0.5}, \n",
    "                  'b2':{'red':0.5, 'blue':0.5}, \n",
    "                  'b3':{'red':0.5, 'blue':0.5}, \n",
    "                  'b4':{'red':0.6, 'blue':0.5}, \n",
    "                  'b5':{'red':0.5, 'blue':0.9}, \n",
    "                  'b6':{'red':0.5, 'blue':0.5}, \n",
    "                  'b7':{'red':0.4, 'blue':0.5}, \n",
    "                  'b8':{'red':0.5, 'blue':0.5}, \n",
    "                  'b9':{'red':0.01, 'blue':0.55}, \n",
    "                  't0':{'red':0.0, 'blue':0.0}}\n",
    "\n",
    "colour_choices3 = {'b0':{'red':0.5, 'blue':0.5, 'green':0.5, 'yellow':0.5}, \n",
    "                  'b1':{'red':0.7, 'blue':0.5, 'green':0.5, 'yellow':0.5}, \n",
    "                  'b2':{'red':0.5, 'blue':0.5, 'green':0.5, 'yellow':0.5}, \n",
    "                  'b3':{'red':0.5, 'blue':0.5, 'green':0.5, 'yellow':0.5}, \n",
    "                  'b4':{'red':0.6, 'blue':0.5, 'green':0.5, 'yellow':0.5}, \n",
    "                  'b5':{'red':0.5, 'blue':0.9, 'green':0.5, 'yellow':0.5}, \n",
    "                  'b6':{'red':0.8, 'blue':0.5, 'green':0.5, 'yellow':0.8}, \n",
    "                  'b7':{'red':0.4, 'blue':0.5, 'green':0.9, 'yellow':0.9}, \n",
    "                  'b8':{'red':0.5, 'blue':0.5, 'green':0.8, 'yellow':1.0}, \n",
    "                  'b9':{'red':0.01, 'blue':0.55, 'green':0.5, 'yellow':0.5}, \n",
    "                  't0':{'red':0.0, 'blue':0.0, 'green':0.5, 'yellow':0.5}}\n"
   ]
  },
  {
   "cell_type": "code",
   "execution_count": 15,
   "metadata": {},
   "outputs": [
    {
     "data": {
      "text/plain": [
       "['b0', 'b1', 'b2', 'b4', 'b5', 'b6', 'b7', 'b8', 'b9']"
      ]
     },
     "execution_count": 15,
     "metadata": {},
     "output_type": "execute_result"
    }
   ],
   "source": [
    "obs = w.sense()\n",
    "# f = pddl_functions.create_formula('clear', ['t0'])\n",
    "# print(f)\n",
    "# pddl_functions.predicate_holds(f, obs.state)\n",
    "\n",
    "clear_objs = get_clear_objs(obs)\n",
    "clear_objs"
   ]
  },
  {
   "cell_type": "code",
   "execution_count": 10,
   "metadata": {},
   "outputs": [
    {
     "name": "stderr",
     "output_type": "stream",
     "text": [
      "/afs/inf.ed.ac.uk/user/s12/s1202144/Desktop/phd/src/search.py:36: RuntimeWarning: divide by zero encountered in log\n",
      "  delta_p = np.log(p1) - np.log(p2)\n",
      "/afs/inf.ed.ac.uk/user/s12/s1202144/Desktop/phd/src/search.py:43: RuntimeWarning: divide by zero encountered in log\n",
      "  delta_p = -np.log(p1) + np.log(p2)\n"
     ]
    },
    {
     "name": "stdout",
     "output_type": "stream",
     "text": [
      "[('b1', 'red'), ('b4', 'red'), ('b5', 'blue'), ('b6', 'red'), ('b6', 'yellow'), ('b7', 'green'), ('b7', 'yellow'), ('b8', 'green'), ('b8', 'yellow'), ('b9', 'blue')]\n",
      "False\n",
      "[('b1', 'red'), ('b4', 'red'), ('b5', 'blue'), ('b6', 'red'), ('b6', 'yellow'), ('b7', 'green'), ('b7', 'yellow'), ('b8', 'green'), ('b8', 'yellow'), ('b9', 'blue'), ('b0', 'green')]\n",
      "False\n",
      "[('b1', 'red'), ('b4', 'red'), ('b5', 'blue'), ('b6', 'red'), ('b6', 'yellow'), ('b7', 'green'), ('b7', 'yellow'), ('b8', 'green'), ('b8', 'yellow'), ('b9', 'blue'), ('b0', 'blue')]\n",
      "False\n",
      "[('b1', 'red'), ('b4', 'red'), ('b5', 'blue'), ('b6', 'red'), ('b6', 'yellow'), ('b7', 'green'), ('b7', 'yellow'), ('b8', 'green'), ('b8', 'yellow'), ('b9', 'blue'), ('b0', 'green'), ('b0', 'blue')]\n",
      "True\n"
     ]
    },
    {
     "data": {
      "text/plain": [
       "[('put', ['b9', 't0']),\n",
       " ('put', ['b6', 'b9']),\n",
       " ('put', ['b8', 'b6']),\n",
       " ('put', ['b7', 'b8']),\n",
       " ('put', ['b0', 'b7']),\n",
       " ('put', ['b4', 'b0']),\n",
       " ('put', ['b5', 'b4']),\n",
       " ('put', ['b1', 'b5']),\n",
       " ('put', ['b3', 'b1']),\n",
       " ('put', ['b2', 'b3']),\n",
       " ('reach-goal', [])]"
      ]
     },
     "execution_count": 10,
     "metadata": {},
     "output_type": "execute_result"
    }
   ],
   "source": [
    "\n",
    "goal = goal_updates.goal_from_list([f1, f4])\n",
    "planner = Planner(colour_choices3, w.sense(), goal,  None, copy.deepcopy(w.problem))\n",
    "planner.plan()"
   ]
  },
  {
   "cell_type": "code",
   "execution_count": 16,
   "metadata": {},
   "outputs": [
    {
     "data": {
      "text/plain": [
       "(0.4054651081081643, 'b1')"
      ]
     },
     "execution_count": 16,
     "metadata": {},
     "output_type": "execute_result"
    }
   ],
   "source": [
    "planner.current_state._pop('blue', True)"
   ]
  },
  {
   "cell_type": "code",
   "execution_count": 11,
   "metadata": {},
   "outputs": [
    {
     "name": "stdout",
     "output_type": "stream",
     "text": [
      "[('b2', 'red'), ('b3', 'red'), ('b5', 'blue'), ('b7', 'red'), ('b9', 'blue')]\n",
      "False\n"
     ]
    }
   ],
   "source": [
    "planner.evaluate_current_state()"
   ]
  },
  {
   "cell_type": "code",
   "execution_count": 12,
   "metadata": {},
   "outputs": [
    {
     "name": "stdout",
     "output_type": "stream",
     "text": [
      "[('b2', 'red'), ('b3', 'red'), ('b5', 'blue'), ('b7', 'red'), ('b9', 'blue'), ('b1', 'blue')]\n",
      "True\n"
     ]
    },
    {
     "data": {
      "text/plain": [
       "[('put', ['b1', 't0']),\n",
       " ('put', ['b7', 'b1']),\n",
       " ('put', ['b5', 'b7']),\n",
       " ('put', ['b3', 'b5']),\n",
       " ('put', ['b9', 'b3']),\n",
       " ('put', ['b2', 'b9']),\n",
       " ('put', ['b8', 'b2']),\n",
       " ('put', ['b6', 'b8']),\n",
       " ('put', ['b4', 'b6']),\n",
       " ('put', ['b0', 'b4']),\n",
       " ('reach-goal', [])]"
      ]
     },
     "execution_count": 12,
     "metadata": {},
     "output_type": "execute_result"
    }
   ],
   "source": [
    "planner.evaluate_current_state()"
   ]
  },
  {
   "cell_type": "code",
   "execution_count": 5,
   "metadata": {},
   "outputs": [
    {
     "name": "stderr",
     "output_type": "stream",
     "text": [
      "/afs/inf.ed.ac.uk/user/s12/s1202144/Desktop/phd/src/search.py:43: RuntimeWarning: divide by zero encountered in log\n",
      "  delta_p = -np.log(p1) + np.log(p2)\n",
      "/afs/inf.ed.ac.uk/user/s12/s1202144/Desktop/phd/src/search.py:36: RuntimeWarning: divide by zero encountered in log\n",
      "  delta_p = np.log(p1) - np.log(p2)\n"
     ]
    }
   ],
   "source": [
    "s1 = State(w, colour_choices)\n",
    "s1_prim = State(w, colour_choices)\n",
    "s2 = State(w, colour_choices2)\n",
    "s3 = State(w, colour_choices3)"
   ]
  },
  {
   "cell_type": "code",
   "execution_count": null,
   "metadata": {},
   "outputs": [],
   "source": []
  },
  {
   "cell_type": "code",
   "execution_count": 6,
   "metadata": {},
   "outputs": [
    {
     "data": {
      "text/plain": [
       "(False, {'green', 'red'}, {'blue', 'yellow'})"
      ]
     },
     "execution_count": 6,
     "metadata": {},
     "output_type": "execute_result"
    }
   ],
   "source": [
    "cc.evaluate(s3)"
   ]
  },
  {
   "cell_type": "code",
   "execution_count": 7,
   "metadata": {},
   "outputs": [
    {
     "name": "stdout",
     "output_type": "stream",
     "text": [
      "1\n",
      "red blue\n",
      "1 2\n"
     ]
    }
   ],
   "source": [
    "ccount = s2.colour_counts\n",
    "c1 = rule1.constraint.c1\n",
    "c2 = rule1.constraint.c2\n",
    "rt = rule1.constraint.rule_type\n",
    "print(rt)\n",
    "print(c1, c2)\n",
    "print(ccount[c1], ccount[c2])"
   ]
  },
  {
   "cell_type": "code",
   "execution_count": 8,
   "metadata": {},
   "outputs": [
    {
     "name": "stdout",
     "output_type": "stream",
     "text": [
      "[('b2', 'red'), ('b5', 'blue'), ('b7', 'red'), ('b9', 'blue')] 11.939734915550654\n"
     ]
    },
    {
     "ename": "TypeError",
     "evalue": "flip_colour() got an unexpected keyword argument 'flip_positive'",
     "output_type": "error",
     "traceback": [
      "\u001b[0;31m---------------------------------------------------------------------------\u001b[0m",
      "\u001b[0;31mTypeError\u001b[0m                                 Traceback (most recent call last)",
      "\u001b[0;32m<ipython-input-8-7a25a8ac4980>\u001b[0m in \u001b[0;36m<module>\u001b[0;34m()\u001b[0m\n\u001b[1;32m      1\u001b[0m \u001b[0mprint\u001b[0m\u001b[0;34m(\u001b[0m\u001b[0ms1\u001b[0m\u001b[0;34m.\u001b[0m\u001b[0mstate\u001b[0m\u001b[0;34m,\u001b[0m \u001b[0ms1\u001b[0m\u001b[0;34m.\u001b[0m\u001b[0mscore\u001b[0m\u001b[0;34m)\u001b[0m\u001b[0;34m\u001b[0m\u001b[0m\n\u001b[0;32m----> 2\u001b[0;31m \u001b[0ms1\u001b[0m\u001b[0;34m.\u001b[0m\u001b[0mflip_colour\u001b[0m\u001b[0;34m(\u001b[0m\u001b[0;34m'red'\u001b[0m\u001b[0;34m,\u001b[0m \u001b[0mflip_positive\u001b[0m\u001b[0;34m=\u001b[0m\u001b[0;32mTrue\u001b[0m\u001b[0;34m)\u001b[0m\u001b[0;34m\u001b[0m\u001b[0m\n\u001b[0m\u001b[1;32m      3\u001b[0m \u001b[0mprint\u001b[0m\u001b[0;34m(\u001b[0m\u001b[0ms1\u001b[0m\u001b[0;34m.\u001b[0m\u001b[0mstate\u001b[0m\u001b[0;34m,\u001b[0m \u001b[0ms1\u001b[0m\u001b[0;34m.\u001b[0m\u001b[0mscore\u001b[0m\u001b[0;34m)\u001b[0m\u001b[0;34m\u001b[0m\u001b[0m\n\u001b[1;32m      4\u001b[0m \u001b[0ms1\u001b[0m\u001b[0;34m.\u001b[0m\u001b[0mflip_colour\u001b[0m\u001b[0;34m(\u001b[0m\u001b[0;34m'blue'\u001b[0m\u001b[0;34m,\u001b[0m \u001b[0mflip_positive\u001b[0m\u001b[0;34m=\u001b[0m\u001b[0;32mFalse\u001b[0m\u001b[0;34m)\u001b[0m\u001b[0;34m\u001b[0m\u001b[0m\n\u001b[1;32m      5\u001b[0m \u001b[0mprint\u001b[0m\u001b[0;34m(\u001b[0m\u001b[0ms1\u001b[0m\u001b[0;34m.\u001b[0m\u001b[0mstate\u001b[0m\u001b[0;34m,\u001b[0m \u001b[0ms1\u001b[0m\u001b[0;34m.\u001b[0m\u001b[0mscore\u001b[0m\u001b[0;34m)\u001b[0m\u001b[0;34m\u001b[0m\u001b[0m\n",
      "\u001b[0;31mTypeError\u001b[0m: flip_colour() got an unexpected keyword argument 'flip_positive'"
     ]
    }
   ],
   "source": [
    "print(s1.state, s1.score)\n",
    "s1.flip_colour('red', flip_positive=True)\n",
    "print(s1.state, s1.score)\n",
    "s1.flip_colour('blue', flip_positive=False)\n",
    "print(s1.state, s1.score)"
   ]
  },
  {
   "cell_type": "code",
   "execution_count": 9,
   "metadata": {},
   "outputs": [
    {
     "name": "stdout",
     "output_type": "stream",
     "text": [
      "[('b4', 'red'), ('b5', 'blue'), ('b9', 'blue')]\n",
      "12.132106808198108\n",
      "defaultdict(<class 'int'>, {'red': 1, 'blue': 2})\n"
     ]
    }
   ],
   "source": [
    "print(s2.state)\n",
    "print(s2.score)\n",
    "print(s2.colour_counts)"
   ]
  },
  {
   "cell_type": "code",
   "execution_count": null,
   "metadata": {},
   "outputs": [],
   "source": []
  }
 ],
 "metadata": {
  "kernelspec": {
   "display_name": "Python 3",
   "language": "python",
   "name": "python3"
  },
  "language_info": {
   "codemirror_mode": {
    "name": "ipython",
    "version": 3
   },
   "file_extension": ".py",
   "mimetype": "text/x-python",
   "name": "python",
   "nbconvert_exporter": "python",
   "pygments_lexer": "ipython3",
   "version": "3.6.3"
  }
 },
 "nbformat": 4,
 "nbformat_minor": 2
}

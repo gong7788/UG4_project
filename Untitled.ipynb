{
 "cells": [
  {
   "cell_type": "code",
   "execution_count": 2,
   "metadata": {},
   "outputs": [],
   "source": [
    "import nltk\n",
    "from nltk.sem import Valuation, Model"
   ]
  },
  {
   "cell_type": "code",
   "execution_count": 3,
   "metadata": {},
   "outputs": [],
   "source": [
    "v = [('adam', 'b1'), ('betty', 'g1'), ('fido', 'd1'),\n",
    " ('girl', set(['g1', 'g2'])), ('boy', set(['b1', 'b2'])),\n",
    " ('dog', set(['d1'])),\n",
    " ('love', set([('b1', 'g1'), ('b2', 'g2'), ('g1', 'b1'), ('g2', 'b1')]))]"
   ]
  },
  {
   "cell_type": "code",
   "execution_count": 5,
   "metadata": {},
   "outputs": [],
   "source": [
    "val = Valuation(v)\n",
    "dom = val.domain\n",
    "m = Model(dom, val)"
   ]
  },
  {
   "cell_type": "code",
   "execution_count": 6,
   "metadata": {},
   "outputs": [
    {
     "data": {
      "text/plain": [
       "True"
      ]
     },
     "execution_count": 6,
     "metadata": {},
     "output_type": "execute_result"
    }
   ],
   "source": [
    "dom = val.domain\n",
    "g = nltk.sem.Assignment(dom)\n",
    "m.evaluate('all x.(boy(x) -> - girl(x))', g)"
   ]
  },
  {
   "cell_type": "code",
   "execution_count": 9,
   "metadata": {},
   "outputs": [
    {
     "name": "stdout",
     "output_type": "stream",
     "text": [
      "\n",
      "'walk(adam)' is undefined under M, g\n"
     ]
    },
    {
     "data": {
      "text/plain": [
       "'Undefined'"
      ]
     },
     "execution_count": 9,
     "metadata": {},
     "output_type": "execute_result"
    }
   ],
   "source": [
    "m.evaluate('walk(adam)', g, trace=2)"
   ]
  },
  {
   "cell_type": "code",
   "execution_count": 10,
   "metadata": {},
   "outputs": [],
   "source": [
    "from delphin.interfaces import rest"
   ]
  },
  {
   "cell_type": "code",
   "execution_count": 24,
   "metadata": {},
   "outputs": [
    {
     "data": {
      "text/plain": [
       "['pronoun_q',\n",
       " 'pron',\n",
       " '_put_v_1',\n",
       " 'udef_q',\n",
       " '_red_a_1',\n",
       " '_block_n_of',\n",
       " '_on_p',\n",
       " 'udef_q',\n",
       " '_blue_a_1',\n",
       " '_block_n_of']"
      ]
     },
     "execution_count": 24,
     "metadata": {},
     "output_type": "execute_result"
    }
   ],
   "source": [
    "response = rest.parse('Put red blocks on blue blocks', params={'mrs':'json'})\n",
    "x = response.result(0).mrs()\n",
    "[ep.pred.string for ep in x.eps()]"
   ]
  },
  {
   "cell_type": "code",
   "execution_count": 29,
   "metadata": {},
   "outputs": [
    {
     "data": {
      "text/plain": [
       "['udef_q',\n",
       " '_red_a_1',\n",
       " '_block_n_of',\n",
       " '_go_v_1',\n",
       " '_on_p',\n",
       " 'udef_q',\n",
       " '_blue_a_1',\n",
       " '_block_n_of']"
      ]
     },
     "execution_count": 29,
     "metadata": {},
     "output_type": "execute_result"
    }
   ],
   "source": [
    "response = rest.parse('red blocks go on blue blocks', params={'mrs':'json'})\n",
    "x = response.result(0).mrs()\n",
    "[ep.pred.string for ep in x.eps()]"
   ]
  },
  {
   "cell_type": "code",
   "execution_count": 36,
   "metadata": {},
   "outputs": [
    {
     "data": {
      "text/plain": [
       "['pronoun_q',\n",
       " 'pron',\n",
       " '_put_v_1',\n",
       " '_a_q',\n",
       " '_red_a_1',\n",
       " '_pen_n_1',\n",
       " '_on_p',\n",
       " '_a_q',\n",
       " '_blue_a_1',\n",
       " '_pen_n_1']"
      ]
     },
     "execution_count": 36,
     "metadata": {},
     "output_type": "execute_result"
    }
   ],
   "source": [
    "response = rest.parse('put a red pen on a blue pen', params={'mrs':'json'})\n",
    "x = response.result(0).mrs()\n",
    "[ep.pred.string for ep in x.eps()]\n"
   ]
  },
  {
   "cell_type": "code",
   "execution_count": 39,
   "metadata": {},
   "outputs": [
    {
     "data": {
      "text/plain": [
       "['pronoun_q',\n",
       " 'pron',\n",
       " '_put_v_1',\n",
       " 'udef_q',\n",
       " '_red_a_1',\n",
       " '_pen_n_1',\n",
       " '_on_p',\n",
       " 'udef_q',\n",
       " '_blue_a_1',\n",
       " '_pen_n_1']"
      ]
     },
     "execution_count": 39,
     "metadata": {},
     "output_type": "execute_result"
    }
   ],
   "source": [
    "response = rest.parse('put red pens on blue pens', params={'mrs':'json'})\n",
    "x = response.result(0).mrs()\n",
    "[ep.pred.string for ep in x.eps()]\n"
   ]
  },
  {
   "cell_type": "code",
   "execution_count": 43,
   "metadata": {},
   "outputs": [
    {
     "data": {
      "text/plain": [
       "['x18', 'x9', 'x6']"
      ]
     },
     "execution_count": 43,
     "metadata": {},
     "output_type": "execute_result"
    }
   ],
   "source": [
    "[id_ for id_ in x.variables() if 'x' in id_]"
   ]
  },
  {
   "cell_type": "code",
   "execution_count": 17,
   "metadata": {},
   "outputs": [
    {
     "ename": "KeyError",
     "evalue": "'x3'",
     "output_type": "error",
     "traceback": [
      "\u001b[0;31m---------------------------------------------------------------------------\u001b[0m",
      "\u001b[0;31mKeyError\u001b[0m                                  Traceback (most recent call last)",
      "\u001b[0;32m<ipython-input-17-d389b0b699de>\u001b[0m in \u001b[0;36m<module>\u001b[0;34m\u001b[0m\n\u001b[0;32m----> 1\u001b[0;31m \u001b[0mx\u001b[0m\u001b[0;34m.\u001b[0m\u001b[0mnodeid\u001b[0m\u001b[0;34m(\u001b[0m\u001b[0;34m'x3'\u001b[0m\u001b[0;34m)\u001b[0m\u001b[0;34m\u001b[0m\u001b[0;34m\u001b[0m\u001b[0m\n\u001b[0m",
      "\u001b[0;32m~/miniconda3/envs/phd/lib/python3.7/site-packages/delphin/mrs/xmrs.py\u001b[0m in \u001b[0;36mnodeid\u001b[0;34m(self, iv, quantifier)\u001b[0m\n\u001b[1;32m    263\u001b[0m                 \u001b[0mbe\u001b[0m \u001b[0mreturned\u001b[0m\u001b[0;34m\u001b[0m\u001b[0;34m\u001b[0m\u001b[0m\n\u001b[1;32m    264\u001b[0m         \"\"\"\n\u001b[0;32m--> 265\u001b[0;31m         \u001b[0;32mreturn\u001b[0m \u001b[0mnext\u001b[0m\u001b[0;34m(\u001b[0m\u001b[0miter\u001b[0m\u001b[0;34m(\u001b[0m\u001b[0mself\u001b[0m\u001b[0;34m.\u001b[0m\u001b[0mnodeids\u001b[0m\u001b[0;34m(\u001b[0m\u001b[0mivs\u001b[0m\u001b[0;34m=\u001b[0m\u001b[0;34m[\u001b[0m\u001b[0miv\u001b[0m\u001b[0;34m]\u001b[0m\u001b[0;34m,\u001b[0m \u001b[0mquantifier\u001b[0m\u001b[0;34m=\u001b[0m\u001b[0mquantifier\u001b[0m\u001b[0;34m)\u001b[0m\u001b[0;34m)\u001b[0m\u001b[0;34m,\u001b[0m \u001b[0;32mNone\u001b[0m\u001b[0;34m)\u001b[0m\u001b[0;34m\u001b[0m\u001b[0;34m\u001b[0m\u001b[0m\n\u001b[0m\u001b[1;32m    266\u001b[0m \u001b[0;34m\u001b[0m\u001b[0m\n\u001b[1;32m    267\u001b[0m     \u001b[0;32mdef\u001b[0m \u001b[0mnodeids\u001b[0m\u001b[0;34m(\u001b[0m\u001b[0mself\u001b[0m\u001b[0;34m,\u001b[0m \u001b[0mivs\u001b[0m\u001b[0;34m=\u001b[0m\u001b[0;32mNone\u001b[0m\u001b[0;34m,\u001b[0m \u001b[0mquantifier\u001b[0m\u001b[0;34m=\u001b[0m\u001b[0;32mNone\u001b[0m\u001b[0;34m)\u001b[0m\u001b[0;34m:\u001b[0m\u001b[0;34m\u001b[0m\u001b[0;34m\u001b[0m\u001b[0m\n",
      "\u001b[0;32m~/miniconda3/envs/phd/lib/python3.7/site-packages/delphin/mrs/xmrs.py\u001b[0m in \u001b[0;36mnodeids\u001b[0;34m(self, ivs, quantifier)\u001b[0m\n\u001b[1;32m    285\u001b[0m                     \u001b[0mnids\u001b[0m\u001b[0;34m.\u001b[0m\u001b[0mextend\u001b[0m\u001b[0;34m(\u001b[0m\u001b[0m_vars\u001b[0m\u001b[0;34m[\u001b[0m\u001b[0miv\u001b[0m\u001b[0;34m]\u001b[0m\u001b[0;34m[\u001b[0m\u001b[0;34m'refs'\u001b[0m\u001b[0;34m]\u001b[0m\u001b[0;34m[\u001b[0m\u001b[0mIVARG_ROLE\u001b[0m\u001b[0;34m]\u001b[0m\u001b[0;34m)\u001b[0m\u001b[0;34m\u001b[0m\u001b[0;34m\u001b[0m\u001b[0m\n\u001b[1;32m    286\u001b[0m                 \u001b[0;32melse\u001b[0m\u001b[0;34m:\u001b[0m\u001b[0;34m\u001b[0m\u001b[0;34m\u001b[0m\u001b[0m\n\u001b[0;32m--> 287\u001b[0;31m                     \u001b[0;32mraise\u001b[0m \u001b[0mKeyError\u001b[0m\u001b[0;34m(\u001b[0m\u001b[0miv\u001b[0m\u001b[0;34m)\u001b[0m\u001b[0;34m\u001b[0m\u001b[0;34m\u001b[0m\u001b[0m\n\u001b[0m\u001b[1;32m    288\u001b[0m         \u001b[0;32mif\u001b[0m \u001b[0mquantifier\u001b[0m \u001b[0;32mis\u001b[0m \u001b[0;32mnot\u001b[0m \u001b[0;32mNone\u001b[0m\u001b[0;34m:\u001b[0m\u001b[0;34m\u001b[0m\u001b[0;34m\u001b[0m\u001b[0m\n\u001b[1;32m    289\u001b[0m             \u001b[0mnids\u001b[0m \u001b[0;34m=\u001b[0m \u001b[0;34m[\u001b[0m\u001b[0mn\u001b[0m \u001b[0;32mfor\u001b[0m \u001b[0mn\u001b[0m \u001b[0;32min\u001b[0m \u001b[0mnids\u001b[0m \u001b[0;32mif\u001b[0m \u001b[0mself\u001b[0m\u001b[0;34m.\u001b[0m\u001b[0mep\u001b[0m\u001b[0;34m(\u001b[0m\u001b[0mn\u001b[0m\u001b[0;34m)\u001b[0m\u001b[0;34m.\u001b[0m\u001b[0mis_quantifier\u001b[0m\u001b[0;34m(\u001b[0m\u001b[0;34m)\u001b[0m\u001b[0;34m==\u001b[0m\u001b[0mquantifier\u001b[0m\u001b[0;34m]\u001b[0m\u001b[0;34m\u001b[0m\u001b[0;34m\u001b[0m\u001b[0m\n",
      "\u001b[0;31mKeyError\u001b[0m: 'x3'"
     ]
    }
   ],
   "source": [
    "x.nodeid('x3')"
   ]
  },
  {
   "cell_type": "code",
   "execution_count": 68,
   "metadata": {},
   "outputs": [],
   "source": [
    "from delphin.mrs import simplemrs, mrx, dmrx, eds"
   ]
  },
  {
   "cell_type": "code",
   "execution_count": 69,
   "metadata": {},
   "outputs": [
    {
     "name": "stdout",
     "output_type": "stream",
     "text": [
      "{e3:\n",
      " _1:pronoun_q<0:25>[BV x6]\n",
      " x6:pron<0:25>[]\n",
      " e3:_put_v_1<0:3>[ARG1 x6, ARG2 x9, ARG3 e17]\n",
      " _2:udef_q<4:12>[BV x9]\n",
      " e15:_red_a_1<4:7>[ARG1 x9]\n",
      " x9:_pen_n_1<8:12>[]\n",
      " e17:_on_p<13:15>[ARG1 x9, ARG2 x18]\n",
      " _3:udef_q<16:25>[BV x18]\n",
      " e23:_blue_a_1<16:20>[ARG1 x18]\n",
      " x18:_pen_n_1<21:25>[]\n",
      "}\n"
     ]
    }
   ],
   "source": [
    "print(eds.dumps([x], pretty_print=True))"
   ]
  },
  {
   "cell_type": "code",
   "execution_count": 48,
   "metadata": {},
   "outputs": [
    {
     "data": {
      "text/plain": [
       "<ElementaryPredication object (_pen_n_1 (x18)) at 140607090085464>"
      ]
     },
     "execution_count": 48,
     "metadata": {},
     "output_type": "execute_result"
    }
   ],
   "source": [
    "x.ep(x.nodeid('x18'))"
   ]
  },
  {
   "cell_type": "code",
   "execution_count": 51,
   "metadata": {},
   "outputs": [
    {
     "data": {
      "text/plain": [
       "{'ARG0': 'x18'}"
      ]
     },
     "execution_count": 51,
     "metadata": {},
     "output_type": "execute_result"
    }
   ],
   "source": [
    "x.ep(x.nodeid('x18')).args"
   ]
  },
  {
   "cell_type": "code",
   "execution_count": 40,
   "metadata": {},
   "outputs": [],
   "source": [
    "from delphin.mrs.simpledmrs import dump, dumps, serialize\n",
    "from delphin.mrs import convert\n",
    "from delphin.mrs.dmrx import loads\n",
    "from delphin.extra.latex import dmrs_tikz_dependency\n",
    "from collections import defaultdict\n",
    "from delphin.interfaces import ace\n",
    "from correctingagent.language.dmrs_functions import get_pos"
   ]
  },
  {
   "cell_type": "code",
   "execution_count": 14,
   "metadata": {},
   "outputs": [],
   "source": [
    "def parse_sentence2(sentence, grammar = '/home/mappelgren/Desktop/ace-0.9.30/erg-2018-x86-64-0.9.30.dat'):#'../ace-0.9.26/erg-1214-x86-64-0.9.26.dat'):\n",
    "    p = ace.parse(grammar, sentence)\n",
    "    top_result = p['results'][0]['mrs']\n",
    "    dmrx = convert(p['results'][0]['mrs'], 'simplemrs', 'dmrx')\n",
    "    dmrxx = loads(dmrx, single=True)\n",
    "    return dmrxx.to_dict()"
   ]
  },
  {
   "cell_type": "code",
   "execution_count": 91,
   "metadata": {},
   "outputs": [],
   "source": [
    "def parse_sentence(sentence, grammar = '/home/mappelgren/Desktop/ace-0.9.30/erg-2018-x86-64-0.9.30.dat'):#'../ace-0.9.26/erg-1214-x86-64-0.9.26.dat'):\n",
    "    p = ace.parse(grammar, sentence)\n",
    "    top_result = p.result(0).mrs()\n",
    "#     dmrx = convert(p['results'][0]['mrs'], 'simplemrs', 'dmrx')\n",
    "#     dmrxx = loads(dmrx, single=True)\n",
    "    return top_result\n",
    "\n",
    "def get_variables(mrs):\n",
    "    return [v for v in mrs.variables() if 'x' in v]\n",
    "\n",
    "def get_relevant_relations(mrs):\n",
    "    variables = set(get_variables(mrs))\n",
    "    mrs_dict = mrs.to_dict()\n",
    "    for node in mrs_dict['relations']:\n",
    "        if len(set(node['arguments'].values()).intersection(variables)) > 0:\n",
    "            if node['predicate'][0] == '_':\n",
    "                yield node\n",
    "\n",
    "def is_negated(mrs):\n",
    "    mrs_dict = mrs.to_dict()\n",
    "    for node in mrs_dict['relations']:\n",
    "        if node['predicate'] == 'neg':\n",
    "            return True\n",
    "    return False\n",
    "                \n",
    "def split_predicate(node):\n",
    "    pred, pos = node['predicate'].strip('_').split('_')[:2]\n",
    "    return pred, pos\n",
    "    \n",
    "def get_predicates(var, nodes, test=False):\n",
    "    for n in nodes:\n",
    "        pred, pos = split_predicate(n)\n",
    "        if pos == 'a':\n",
    "            if n['arguments']['ARG1'] == var:\n",
    "                if test:\n",
    "                    yield pred\n",
    "                else:\n",
    "                    yield n\n",
    "        elif pos == 'n':\n",
    "            if n['arguments']['ARG0'] == var:\n",
    "                if test:\n",
    "                    yield pred\n",
    "                else:\n",
    "                    yield n\n",
    "                \n",
    "#         elif pos == 'v':\n",
    "#             event = n['arguments']['ARG0']\n",
    "#             obj = n['arguments']['ARG1']\n",
    "#             for n_again in nodes:\n",
    "#                 pred2, pos2, mod2 = split_predicate(n)\n",
    "#                 if n_again['arguments']['ARG1'] == event:\n",
    "#                     obj2 = n_again['arguments']['ARG2']\n",
    "#                     if obj == var or obj2 == var:\n",
    "#                         yield (n, n_again)\n",
    "        elif pos == 'p':\n",
    "            arg1 = n['arguments']['ARG1']\n",
    "            obj = n['arguments']['ARG2']\n",
    "            if arg1[0] == 'x':\n",
    "                if arg1 == var or obj == var:\n",
    "                    if test:\n",
    "                        yield pred\n",
    "                    else:\n",
    "                        yield n\n",
    "            else:\n",
    "                for n_again in nodes:\n",
    "                    pred2, pos2 = split_predicate(n_again)\n",
    "                    if n_again['arguments']['ARG0'] == arg1:\n",
    "                        obj2 = n_again['arguments']['ARG1']\n",
    "                        if obj == var or obj2 == var:\n",
    "                            if test:\n",
    "                                yield pred\n",
    "                            else:\n",
    "                                yield (n_again, n)\n"
   ]
  },
  {
   "cell_type": "code",
   "execution_count": 62,
   "metadata": {},
   "outputs": [],
   "source": [
    "from correctingagent.language import dmrs_functions"
   ]
  },
  {
   "cell_type": "code",
   "execution_count": 95,
   "metadata": {},
   "outputs": [
    {
     "name": "stdout",
     "output_type": "stream",
     "text": [
      "{'relations': [{'label': 'h4', 'predicate': 'pronoun_q', 'arguments': {'ARG0': 'x5', 'RSTR': 'h6', 'BODY': 'h7'}, 'lnk': {'from': 0, 'to': 5}}, {'label': 'h8', 'predicate': 'pron', 'arguments': {'ARG0': 'x5'}, 'lnk': {'from': 0, 'to': 5}}, {'label': 'h1', 'predicate': 'neg', 'arguments': {'ARG0': 'i9', 'ARG1': 'h10'}, 'lnk': {'from': 0, 'to': 5}}, {'label': 'h11', 'predicate': '_forget_v_1', 'arguments': {'ARG0': 'e2', 'ARG1': 'x5', 'ARG2': 'h12'}, 'lnk': {'from': 6, 'to': 12}}, {'label': 'h13', 'predicate': '_put_v_1', 'arguments': {'ARG0': 'e14', 'ARG1': 'x5', 'ARG2': 'x15', 'ARG3': 'h16'}, 'lnk': {'from': 16, 'to': 19}}, {'label': 'h17', 'predicate': 'udef_q', 'arguments': {'ARG0': 'x15', 'RSTR': 'h18', 'BODY': 'h19'}, 'lnk': {'from': 20, 'to': 30}}, {'label': 'h20', 'predicate': '_red_a_1', 'arguments': {'ARG0': 'e21', 'ARG1': 'x15'}, 'lnk': {'from': 20, 'to': 23}}, {'label': 'h20', 'predicate': '_block_n_of', 'arguments': {'ARG0': 'x15', 'ARG1': 'i22'}, 'lnk': {'from': 24, 'to': 30}}, {'label': 'h23', 'predicate': '_on_p_loc', 'arguments': {'ARG0': 'e24', 'ARG1': 'x15', 'ARG2': 'x25'}, 'lnk': {'from': 31, 'to': 33}}, {'label': 'h26', 'predicate': 'udef_q', 'arguments': {'ARG0': 'x25', 'RSTR': 'h27', 'BODY': 'h28'}, 'lnk': {'from': 34, 'to': 45}}, {'label': 'h29', 'predicate': '_blue_a_1', 'arguments': {'ARG0': 'e30', 'ARG1': 'x25'}, 'lnk': {'from': 34, 'to': 38}}, {'label': 'h29', 'predicate': '_block_n_of', 'arguments': {'ARG0': 'x25', 'ARG1': 'i31'}, 'lnk': {'from': 39, 'to': 45}}], 'constraints': [{'relation': 'qeq', 'high': 'h0', 'low': 'h1'}, {'relation': 'qeq', 'high': 'h6', 'low': 'h8'}, {'relation': 'qeq', 'high': 'h10', 'low': 'h11'}, {'relation': 'qeq', 'high': 'h12', 'low': 'h13'}, {'relation': 'qeq', 'high': 'h16', 'low': 'h23'}, {'relation': 'qeq', 'high': 'h18', 'low': 'h20'}, {'relation': 'qeq', 'high': 'h27', 'low': 'h29'}], 'variables': {'h0': {'type': 'h'}, 'e2': {'type': 'e', 'properties': {'SF': 'comm', 'TENSE': 'pres', 'MOOD': 'indicative', 'PROG': '-', 'PERF': '-'}}, 'h4': {'type': 'h'}, 'x5': {'type': 'x', 'properties': {'PERS': '2', 'PT': 'zero'}}, 'h6': {'type': 'h'}, 'h7': {'type': 'h'}, 'h8': {'type': 'h'}, 'h1': {'type': 'h'}, 'i9': {'type': 'i'}, 'h10': {'type': 'h'}, 'h11': {'type': 'h'}, 'h12': {'type': 'h'}, 'h13': {'type': 'h'}, 'e14': {'type': 'e', 'properties': {'SF': 'prop', 'TENSE': 'untensed', 'MOOD': 'indicative', 'PROG': '-', 'PERF': '-'}}, 'x15': {'type': 'x', 'properties': {'PERS': '3', 'NUM': 'pl', 'IND': '+'}}, 'h16': {'type': 'h'}, 'h17': {'type': 'h'}, 'h18': {'type': 'h'}, 'h19': {'type': 'h'}, 'h20': {'type': 'h'}, 'e21': {'type': 'e', 'properties': {'SF': 'prop', 'TENSE': 'untensed', 'MOOD': 'indicative', 'PROG': 'bool', 'PERF': '-'}}, 'i22': {'type': 'i'}, 'h23': {'type': 'h'}, 'e24': {'type': 'e', 'properties': {'SF': 'prop', 'TENSE': 'untensed', 'MOOD': 'indicative', 'PROG': '-', 'PERF': '-'}}, 'x25': {'type': 'x', 'properties': {'PERS': '3', 'NUM': 'pl', 'IND': '+'}}, 'h26': {'type': 'h'}, 'h27': {'type': 'h'}, 'h28': {'type': 'h'}, 'h29': {'type': 'h'}, 'e30': {'type': 'e', 'properties': {'SF': 'prop', 'TENSE': 'untensed', 'MOOD': 'indicative', 'PROG': 'bool', 'PERF': '-'}}, 'i31': {'type': 'i'}}, 'top': 'h0', 'index': 'e2'}\n",
      "True\n",
      "[]\n",
      "['red', 'block', 'on']\n",
      "['on', 'blue', 'block']\n"
     ]
    }
   ],
   "source": [
    "sentence = 'put red blocks on blue blocks'\n",
    "#sentence = 'red blocks go on blue blocks'\n",
    "sentence = 'place red blocks on blue blocks'\n",
    "sentence = 'place red blocks above blue blocks'\n",
    "sentence = 'red blocks go under blue blocks'\n",
    "sentence = 'red blocks should be on blue blocks'\n",
    "sentence = 'always put red blocks on blue blocks'\n",
    "sentence = 'you should put red blocks on blue blocks'\n",
    "sentence = 'don\\'t forget to put red blocks on blue blocks'\n",
    "#sentence = 'put oranges on salad'\n",
    "#sentence = 'put big black boxes above small plants'\n",
    "#sentence = 'don\\'t put red blocks on blue blocks'\n",
    "mrs = parse_sentence(sentence)\n",
    "var = get_variables(mrs)\n",
    "nodes = list(get_relevant_relations(mrs))\n",
    "print(mrs.to_dict())\n",
    "#print(nodes)\n",
    "print(is_negated(mrs))\n",
    "for v in var:\n",
    "    print(list(get_predicates(v, nodes, test=True)))"
   ]
  },
  {
   "cell_type": "code",
   "execution_count": 58,
   "metadata": {},
   "outputs": [
    {
     "name": "stdout",
     "output_type": "stream",
     "text": [
      "{'label': 'h1', 'predicate': '_put_v_1', 'arguments': {'ARG0': 'e2', 'ARG1': 'x3', 'ARG2': 'x8', 'ARG3': 'h9'}, 'lnk': {'from': 0, 'to': 3}}\n",
      "{'label': 'h13', 'predicate': '_red_a_1', 'arguments': {'ARG0': 'e14', 'ARG1': 'x8'}, 'lnk': {'from': 4, 'to': 7}}\n",
      "{'label': 'h13', 'predicate': '_block_n_of', 'arguments': {'ARG0': 'x8', 'ARG1': 'i15'}, 'lnk': {'from': 8, 'to': 14}}\n",
      "{'label': 'h16', 'predicate': '_on_p_loc', 'arguments': {'ARG0': 'e17', 'ARG1': 'x8', 'ARG2': 'x18'}, 'lnk': {'from': 15, 'to': 17}}\n",
      "{'label': 'h22', 'predicate': '_blue_a_1', 'arguments': {'ARG0': 'e23', 'ARG1': 'x18'}, 'lnk': {'from': 18, 'to': 22}}\n",
      "{'label': 'h22', 'predicate': '_block_n_of', 'arguments': {'ARG0': 'x18', 'ARG1': 'i24'}, 'lnk': {'from': 23, 'to': 29}}\n"
     ]
    }
   ],
   "source": [
    "for n in get_relevant_relations(mrs):\n",
    "    print(n)"
   ]
  },
  {
   "cell_type": "code",
   "execution_count": 29,
   "metadata": {},
   "outputs": [
    {
     "data": {
      "text/plain": [
       "{'relations': [{'label': 'h4',\n",
       "   'predicate': 'udef_q',\n",
       "   'arguments': {'ARG0': 'x3', 'RSTR': 'h5', 'BODY': 'h6'},\n",
       "   'lnk': {'from': 0, 'to': 10}},\n",
       "  {'label': 'h7',\n",
       "   'predicate': '_red_a_1',\n",
       "   'arguments': {'ARG0': 'e8', 'ARG1': 'x3'},\n",
       "   'lnk': {'from': 0, 'to': 3}},\n",
       "  {'label': 'h7',\n",
       "   'predicate': '_block_n_of',\n",
       "   'arguments': {'ARG0': 'x3', 'ARG1': 'i9'},\n",
       "   'lnk': {'from': 4, 'to': 10}},\n",
       "  {'label': 'h1',\n",
       "   'predicate': '_go_v_1',\n",
       "   'arguments': {'ARG0': 'e2', 'ARG1': 'x3'},\n",
       "   'lnk': {'from': 11, 'to': 13}},\n",
       "  {'label': 'h1',\n",
       "   'predicate': '_on_p_loc',\n",
       "   'arguments': {'ARG0': 'e10', 'ARG1': 'e2', 'ARG2': 'x11'},\n",
       "   'lnk': {'from': 14, 'to': 16}},\n",
       "  {'label': 'h12',\n",
       "   'predicate': 'udef_q',\n",
       "   'arguments': {'ARG0': 'x11', 'RSTR': 'h13', 'BODY': 'h14'},\n",
       "   'lnk': {'from': 17, 'to': 28}},\n",
       "  {'label': 'h15',\n",
       "   'predicate': '_blue_a_1',\n",
       "   'arguments': {'ARG0': 'e16', 'ARG1': 'x11'},\n",
       "   'lnk': {'from': 17, 'to': 21}},\n",
       "  {'label': 'h15',\n",
       "   'predicate': '_block_n_of',\n",
       "   'arguments': {'ARG0': 'x11', 'ARG1': 'i17'},\n",
       "   'lnk': {'from': 22, 'to': 28}}],\n",
       " 'constraints': [{'relation': 'qeq', 'high': 'h0', 'low': 'h1'},\n",
       "  {'relation': 'qeq', 'high': 'h5', 'low': 'h7'},\n",
       "  {'relation': 'qeq', 'high': 'h13', 'low': 'h15'}],\n",
       " 'variables': {'h0': {'type': 'h'},\n",
       "  'e2': {'type': 'e',\n",
       "   'properties': {'SF': 'prop',\n",
       "    'TENSE': 'pres',\n",
       "    'MOOD': 'indicative',\n",
       "    'PROG': '-',\n",
       "    'PERF': '-'}},\n",
       "  'h4': {'type': 'h'},\n",
       "  'x3': {'type': 'x', 'properties': {'PERS': '3', 'NUM': 'pl', 'IND': '+'}},\n",
       "  'h5': {'type': 'h'},\n",
       "  'h6': {'type': 'h'},\n",
       "  'h7': {'type': 'h'},\n",
       "  'e8': {'type': 'e',\n",
       "   'properties': {'SF': 'prop',\n",
       "    'TENSE': 'untensed',\n",
       "    'MOOD': 'indicative',\n",
       "    'PROG': 'bool',\n",
       "    'PERF': '-'}},\n",
       "  'i9': {'type': 'i'},\n",
       "  'h1': {'type': 'h'},\n",
       "  'e10': {'type': 'e',\n",
       "   'properties': {'SF': 'prop',\n",
       "    'TENSE': 'untensed',\n",
       "    'MOOD': 'indicative',\n",
       "    'PROG': '-',\n",
       "    'PERF': '-'}},\n",
       "  'x11': {'type': 'x', 'properties': {'PERS': '3', 'NUM': 'pl', 'IND': '+'}},\n",
       "  'h12': {'type': 'h'},\n",
       "  'h13': {'type': 'h'},\n",
       "  'h14': {'type': 'h'},\n",
       "  'h15': {'type': 'h'},\n",
       "  'e16': {'type': 'e',\n",
       "   'properties': {'SF': 'prop',\n",
       "    'TENSE': 'untensed',\n",
       "    'MOOD': 'indicative',\n",
       "    'PROG': 'bool',\n",
       "    'PERF': '-'}},\n",
       "  'i17': {'type': 'i'}},\n",
       " 'top': 'h0',\n",
       " 'index': 'e2'}"
      ]
     },
     "execution_count": 29,
     "metadata": {},
     "output_type": "execute_result"
    }
   ],
   "source": [
    "mrs = parse_sentence(sentence)\n",
    "mrs.to_dict()"
   ]
  },
  {
   "cell_type": "code",
   "execution_count": 5,
   "metadata": {},
   "outputs": [
    {
     "ename": "KeyError",
     "evalue": "'ARG3'",
     "output_type": "error",
     "traceback": [
      "\u001b[0;31m---------------------------------------------------------------------------\u001b[0m",
      "\u001b[0;31mKeyError\u001b[0m                                  Traceback (most recent call last)",
      "\u001b[0;32m<ipython-input-5-dab9e7daabc2>\u001b[0m in \u001b[0;36m<module>\u001b[0;34m\u001b[0m\n\u001b[1;32m      1\u001b[0m \u001b[0msentence\u001b[0m \u001b[0;34m=\u001b[0m \u001b[0;34m'red blocks go on blue blocks'\u001b[0m\u001b[0;34m\u001b[0m\u001b[0;34m\u001b[0m\u001b[0m\n\u001b[0;32m----> 2\u001b[0;31m \u001b[0mdmrs_functions\u001b[0m\u001b[0;34m.\u001b[0m\u001b[0msent_to_tripple\u001b[0m\u001b[0;34m(\u001b[0m\u001b[0msentence\u001b[0m\u001b[0;34m)\u001b[0m\u001b[0;34m\u001b[0m\u001b[0;34m\u001b[0m\u001b[0m\n\u001b[0m",
      "\u001b[0;32m~/Desktop/correcting-agent/correctingagent/language/dmrs_functions.py\u001b[0m in \u001b[0;36msent_to_tripple\u001b[0;34m(sentence)\u001b[0m\n\u001b[1;32m     87\u001b[0m \u001b[0;32mdef\u001b[0m \u001b[0msent_to_tripple\u001b[0m\u001b[0;34m(\u001b[0m\u001b[0msentence\u001b[0m\u001b[0;34m)\u001b[0m\u001b[0;34m:\u001b[0m\u001b[0;34m\u001b[0m\u001b[0;34m\u001b[0m\u001b[0m\n\u001b[1;32m     88\u001b[0m     \u001b[0mlinks\u001b[0m\u001b[0;34m,\u001b[0m \u001b[0mnodes\u001b[0m \u001b[0;34m=\u001b[0m \u001b[0mfull_parse\u001b[0m\u001b[0;34m(\u001b[0m\u001b[0msentence\u001b[0m\u001b[0;34m)\u001b[0m\u001b[0;34m\u001b[0m\u001b[0;34m\u001b[0m\u001b[0m\n\u001b[0;32m---> 89\u001b[0;31m     \u001b[0;32mreturn\u001b[0m \u001b[0mget_tripple\u001b[0m\u001b[0;34m(\u001b[0m\u001b[0mlinks\u001b[0m\u001b[0;34m,\u001b[0m \u001b[0mnodes\u001b[0m\u001b[0;34m)\u001b[0m\u001b[0;34m\u001b[0m\u001b[0;34m\u001b[0m\u001b[0m\n\u001b[0m\u001b[1;32m     90\u001b[0m \u001b[0;34m\u001b[0m\u001b[0m\n\u001b[1;32m     91\u001b[0m \u001b[0;32mdef\u001b[0m \u001b[0mget_adjectives\u001b[0m\u001b[0;34m(\u001b[0m\u001b[0mobj\u001b[0m\u001b[0;34m)\u001b[0m\u001b[0;34m:\u001b[0m\u001b[0;34m\u001b[0m\u001b[0;34m\u001b[0m\u001b[0m\n",
      "\u001b[0;32m~/Desktop/correcting-agent/correctingagent/language/dmrs_functions.py\u001b[0m in \u001b[0;36mget_tripple\u001b[0;34m(links, nodes)\u001b[0m\n\u001b[1;32m     79\u001b[0m \u001b[0;34m\u001b[0m\u001b[0m\n\u001b[1;32m     80\u001b[0m \u001b[0;32mdef\u001b[0m \u001b[0mget_tripple\u001b[0m\u001b[0;34m(\u001b[0m\u001b[0mlinks\u001b[0m\u001b[0;34m,\u001b[0m \u001b[0mnodes\u001b[0m\u001b[0;34m)\u001b[0m\u001b[0;34m:\u001b[0m\u001b[0;34m\u001b[0m\u001b[0;34m\u001b[0m\u001b[0m\n\u001b[0;32m---> 81\u001b[0;31m     \u001b[0mrel\u001b[0m \u001b[0;34m=\u001b[0m \u001b[0mfind_rel\u001b[0m\u001b[0;34m(\u001b[0m\u001b[0mlinks\u001b[0m\u001b[0;34m,\u001b[0m \u001b[0mnodes\u001b[0m\u001b[0;34m)\u001b[0m\u001b[0;34m\u001b[0m\u001b[0;34m\u001b[0m\u001b[0m\n\u001b[0m\u001b[1;32m     82\u001b[0m     \u001b[0mobj1\u001b[0m \u001b[0;34m=\u001b[0m \u001b[0mfind_open_class\u001b[0m\u001b[0;34m(\u001b[0m\u001b[0mlinks\u001b[0m\u001b[0;34m,\u001b[0m \u001b[0mnodes\u001b[0m\u001b[0;34m,\u001b[0m \u001b[0marg\u001b[0m\u001b[0;34m=\u001b[0m\u001b[0;34m'ARG1'\u001b[0m\u001b[0;34m)\u001b[0m\u001b[0;34m\u001b[0m\u001b[0;34m\u001b[0m\u001b[0m\n\u001b[1;32m     83\u001b[0m     \u001b[0mobj2\u001b[0m \u001b[0;34m=\u001b[0m \u001b[0mfind_open_class\u001b[0m\u001b[0;34m(\u001b[0m\u001b[0mlinks\u001b[0m\u001b[0;34m,\u001b[0m \u001b[0mnodes\u001b[0m\u001b[0;34m,\u001b[0m \u001b[0marg\u001b[0m\u001b[0;34m=\u001b[0m\u001b[0;34m'ARG2'\u001b[0m\u001b[0;34m)\u001b[0m\u001b[0;34m\u001b[0m\u001b[0;34m\u001b[0m\u001b[0m\n",
      "\u001b[0;32m~/Desktop/correcting-agent/correctingagent/language/dmrs_functions.py\u001b[0m in \u001b[0;36mfind_rel\u001b[0;34m(links, nodes)\u001b[0m\n\u001b[1;32m     58\u001b[0m     \u001b[0mverb\u001b[0m \u001b[0;34m=\u001b[0m \u001b[0mfind_verb\u001b[0m\u001b[0;34m(\u001b[0m\u001b[0mlinks\u001b[0m\u001b[0;34m,\u001b[0m \u001b[0mnodes\u001b[0m\u001b[0;34m)\u001b[0m\u001b[0;34m\u001b[0m\u001b[0;34m\u001b[0m\u001b[0m\n\u001b[1;32m     59\u001b[0m     \u001b[0mnodeid\u001b[0m \u001b[0;34m=\u001b[0m \u001b[0mverb\u001b[0m\u001b[0;34m[\u001b[0m\u001b[0;34m'nodeid'\u001b[0m\u001b[0;34m]\u001b[0m\u001b[0;34m\u001b[0m\u001b[0;34m\u001b[0m\u001b[0m\n\u001b[0;32m---> 60\u001b[0;31m     \u001b[0mrel\u001b[0m \u001b[0;34m=\u001b[0m \u001b[0mlinks\u001b[0m\u001b[0;34m[\u001b[0m\u001b[0mnodeid\u001b[0m\u001b[0;34m]\u001b[0m\u001b[0;34m[\u001b[0m\u001b[0;34m'ARG3'\u001b[0m\u001b[0;34m]\u001b[0m\u001b[0;34m\u001b[0m\u001b[0;34m\u001b[0m\u001b[0m\n\u001b[0m\u001b[1;32m     61\u001b[0m     \u001b[0;32mreturn\u001b[0m \u001b[0mget_node\u001b[0m\u001b[0;34m(\u001b[0m\u001b[0mrel\u001b[0m\u001b[0;34m,\u001b[0m \u001b[0mnodes\u001b[0m\u001b[0;34m)\u001b[0m\u001b[0;34m\u001b[0m\u001b[0;34m\u001b[0m\u001b[0m\n\u001b[1;32m     62\u001b[0m \u001b[0;34m\u001b[0m\u001b[0m\n",
      "\u001b[0;31mKeyError\u001b[0m: 'ARG3'"
     ]
    }
   ],
   "source": [
    "sentence = 'red blocks go on blue blocks'\n",
    "dmrs_functions.sent_to_tripple(sentence)"
   ]
  },
  {
   "cell_type": "code",
   "execution_count": 67,
   "metadata": {},
   "outputs": [
    {
     "ename": "TypeError",
     "evalue": "expected string or bytes-like object",
     "output_type": "error",
     "traceback": [
      "\u001b[0;31m---------------------------------------------------------------------------\u001b[0m",
      "\u001b[0;31mTypeError\u001b[0m                                 Traceback (most recent call last)",
      "\u001b[0;32m<ipython-input-67-82662267274a>\u001b[0m in \u001b[0;36m<module>\u001b[0;34m\u001b[0m\n\u001b[1;32m      1\u001b[0m \u001b[0mp\u001b[0m \u001b[0;34m=\u001b[0m \u001b[0mrest\u001b[0m\u001b[0;34m.\u001b[0m\u001b[0mparse\u001b[0m\u001b[0;34m(\u001b[0m\u001b[0;34m'put red blocks on blue blocks'\u001b[0m\u001b[0;34m,\u001b[0m \u001b[0mparams\u001b[0m\u001b[0;34m=\u001b[0m\u001b[0;34m{\u001b[0m\u001b[0;34m'mrs'\u001b[0m\u001b[0;34m:\u001b[0m\u001b[0;34m'json'\u001b[0m\u001b[0;34m}\u001b[0m\u001b[0;34m)\u001b[0m\u001b[0;34m\u001b[0m\u001b[0;34m\u001b[0m\u001b[0m\n\u001b[1;32m      2\u001b[0m \u001b[0mtop_result\u001b[0m \u001b[0;34m=\u001b[0m \u001b[0mp\u001b[0m\u001b[0;34m.\u001b[0m\u001b[0mresult\u001b[0m\u001b[0;34m(\u001b[0m\u001b[0;36m0\u001b[0m\u001b[0;34m)\u001b[0m\u001b[0;34m.\u001b[0m\u001b[0mmrs\u001b[0m\u001b[0;34m(\u001b[0m\u001b[0;34m)\u001b[0m\u001b[0;31m#p['results'][0]['mrs']\u001b[0m\u001b[0;34m\u001b[0m\u001b[0;34m\u001b[0m\u001b[0m\n\u001b[0;32m----> 3\u001b[0;31m \u001b[0mdmrx\u001b[0m \u001b[0;34m=\u001b[0m \u001b[0mconvert\u001b[0m\u001b[0;34m(\u001b[0m\u001b[0mtop_result\u001b[0m\u001b[0;34m,\u001b[0m \u001b[0;34m'simplemrs'\u001b[0m\u001b[0;34m,\u001b[0m \u001b[0;34m'dmrx'\u001b[0m\u001b[0;34m)\u001b[0m\u001b[0;34m\u001b[0m\u001b[0;34m\u001b[0m\u001b[0m\n\u001b[0m",
      "\u001b[0;32m~/miniconda3/envs/phd/lib/python3.7/site-packages/delphin/mrs/__init__.py\u001b[0m in \u001b[0;36mconvert\u001b[0;34m(txt, src_fmt, tgt_fmt, single, **kwargs)\u001b[0m\n\u001b[1;32m     89\u001b[0m     \u001b[0mwriter\u001b[0m \u001b[0;34m=\u001b[0m \u001b[0mimport_module\u001b[0m\u001b[0;34m(\u001b[0m\u001b[0;34m'{}.{}'\u001b[0m\u001b[0;34m.\u001b[0m\u001b[0mformat\u001b[0m\u001b[0;34m(\u001b[0m\u001b[0;34m'delphin.mrs'\u001b[0m\u001b[0;34m,\u001b[0m \u001b[0mtgt_fmt\u001b[0m\u001b[0;34m.\u001b[0m\u001b[0mlower\u001b[0m\u001b[0;34m(\u001b[0m\u001b[0;34m)\u001b[0m\u001b[0;34m)\u001b[0m\u001b[0;34m)\u001b[0m\u001b[0;34m\u001b[0m\u001b[0;34m\u001b[0m\u001b[0m\n\u001b[1;32m     90\u001b[0m     return writer.dumps(\n\u001b[0;32m---> 91\u001b[0;31m         \u001b[0mreader\u001b[0m\u001b[0;34m.\u001b[0m\u001b[0mloads\u001b[0m\u001b[0;34m(\u001b[0m\u001b[0mtxt\u001b[0m\u001b[0;34m,\u001b[0m \u001b[0msingle\u001b[0m\u001b[0;34m=\u001b[0m\u001b[0msingle\u001b[0m\u001b[0;34m)\u001b[0m\u001b[0;34m,\u001b[0m\u001b[0;34m\u001b[0m\u001b[0;34m\u001b[0m\u001b[0m\n\u001b[0m\u001b[1;32m     92\u001b[0m         \u001b[0msingle\u001b[0m\u001b[0;34m=\u001b[0m\u001b[0msingle\u001b[0m\u001b[0;34m,\u001b[0m\u001b[0;34m\u001b[0m\u001b[0;34m\u001b[0m\u001b[0m\n\u001b[1;32m     93\u001b[0m         \u001b[0;34m**\u001b[0m\u001b[0mkwargs\u001b[0m\u001b[0;34m\u001b[0m\u001b[0;34m\u001b[0m\u001b[0m\n",
      "\u001b[0;32m~/miniconda3/envs/phd/lib/python3.7/site-packages/delphin/mrs/simplemrs.py\u001b[0m in \u001b[0;36mloads\u001b[0;34m(s, single, version, strict, errors)\u001b[0m\n\u001b[1;32m     95\u001b[0m     \u001b[0mms\u001b[0m \u001b[0;34m=\u001b[0m \u001b[0mdeserialize\u001b[0m\u001b[0;34m(\u001b[0m\u001b[0ms\u001b[0m\u001b[0;34m,\u001b[0m \u001b[0mversion\u001b[0m\u001b[0;34m=\u001b[0m\u001b[0mversion\u001b[0m\u001b[0;34m,\u001b[0m \u001b[0mstrict\u001b[0m\u001b[0;34m=\u001b[0m\u001b[0mstrict\u001b[0m\u001b[0;34m,\u001b[0m \u001b[0merrors\u001b[0m\u001b[0;34m=\u001b[0m\u001b[0merrors\u001b[0m\u001b[0;34m)\u001b[0m\u001b[0;34m\u001b[0m\u001b[0;34m\u001b[0m\u001b[0m\n\u001b[1;32m     96\u001b[0m     \u001b[0;32mif\u001b[0m \u001b[0msingle\u001b[0m\u001b[0;34m:\u001b[0m\u001b[0;34m\u001b[0m\u001b[0;34m\u001b[0m\u001b[0m\n\u001b[0;32m---> 97\u001b[0;31m         \u001b[0;32mreturn\u001b[0m \u001b[0mnext\u001b[0m\u001b[0;34m(\u001b[0m\u001b[0mms\u001b[0m\u001b[0;34m)\u001b[0m\u001b[0;34m\u001b[0m\u001b[0;34m\u001b[0m\u001b[0m\n\u001b[0m\u001b[1;32m     98\u001b[0m     \u001b[0;32melse\u001b[0m\u001b[0;34m:\u001b[0m\u001b[0;34m\u001b[0m\u001b[0;34m\u001b[0m\u001b[0m\n\u001b[1;32m     99\u001b[0m         \u001b[0;32mreturn\u001b[0m \u001b[0mms\u001b[0m\u001b[0;34m\u001b[0m\u001b[0;34m\u001b[0m\u001b[0m\n",
      "\u001b[0;32m~/miniconda3/envs/phd/lib/python3.7/site-packages/delphin/mrs/simplemrs.py\u001b[0m in \u001b[0;36mdeserialize\u001b[0;34m(string, version, strict, errors)\u001b[0m\n\u001b[1;32m    194\u001b[0m         \u001b[0merrors\u001b[0m \u001b[0;34m=\u001b[0m \u001b[0;34m'strict'\u001b[0m\u001b[0;34m\u001b[0m\u001b[0;34m\u001b[0m\u001b[0m\n\u001b[1;32m    195\u001b[0m     \u001b[0;31m# FIXME: consider buffering this so we don't read the whole string at once\u001b[0m\u001b[0;34m\u001b[0m\u001b[0;34m\u001b[0m\u001b[0;34m\u001b[0m\u001b[0m\n\u001b[0;32m--> 196\u001b[0;31m     \u001b[0mtokens\u001b[0m \u001b[0;34m=\u001b[0m \u001b[0mtokenize\u001b[0m\u001b[0;34m(\u001b[0m\u001b[0mstring\u001b[0m\u001b[0;34m)\u001b[0m\u001b[0;34m\u001b[0m\u001b[0;34m\u001b[0m\u001b[0m\n\u001b[0m\u001b[1;32m    197\u001b[0m     \u001b[0;32mwhile\u001b[0m \u001b[0mtokens\u001b[0m\u001b[0;34m:\u001b[0m\u001b[0;34m\u001b[0m\u001b[0;34m\u001b[0m\u001b[0m\n\u001b[1;32m    198\u001b[0m         \u001b[0;32myield\u001b[0m \u001b[0m_read_mrs\u001b[0m\u001b[0;34m(\u001b[0m\u001b[0mtokens\u001b[0m\u001b[0;34m,\u001b[0m \u001b[0mversion\u001b[0m\u001b[0;34m,\u001b[0m \u001b[0merrors\u001b[0m\u001b[0;34m)\u001b[0m\u001b[0;34m\u001b[0m\u001b[0;34m\u001b[0m\u001b[0m\n",
      "\u001b[0;32m~/miniconda3/envs/phd/lib/python3.7/site-packages/delphin/mrs/simplemrs.py\u001b[0m in \u001b[0;36mtokenize\u001b[0;34m(string)\u001b[0m\n\u001b[1;32m    179\u001b[0m \u001b[0;32mdef\u001b[0m \u001b[0mtokenize\u001b[0m\u001b[0;34m(\u001b[0m\u001b[0mstring\u001b[0m\u001b[0;34m)\u001b[0m\u001b[0;34m:\u001b[0m\u001b[0;34m\u001b[0m\u001b[0;34m\u001b[0m\u001b[0m\n\u001b[1;32m    180\u001b[0m     \u001b[0;34m\"\"\"Split the SimpleMrs string into tokens.\"\"\"\u001b[0m\u001b[0;34m\u001b[0m\u001b[0;34m\u001b[0m\u001b[0m\n\u001b[0;32m--> 181\u001b[0;31m     \u001b[0;32mreturn\u001b[0m \u001b[0mdeque\u001b[0m\u001b[0;34m(\u001b[0m\u001b[0m_tokenizer\u001b[0m\u001b[0;34m.\u001b[0m\u001b[0mfindall\u001b[0m\u001b[0;34m(\u001b[0m\u001b[0mstring\u001b[0m\u001b[0;34m)\u001b[0m\u001b[0;34m)\u001b[0m\u001b[0;34m\u001b[0m\u001b[0;34m\u001b[0m\u001b[0m\n\u001b[0m\u001b[1;32m    182\u001b[0m \u001b[0;34m\u001b[0m\u001b[0m\n\u001b[1;32m    183\u001b[0m \u001b[0;34m\u001b[0m\u001b[0m\n",
      "\u001b[0;31mTypeError\u001b[0m: expected string or bytes-like object"
     ]
    }
   ],
   "source": [
    "p = rest.parse('put red blocks on blue blocks', params={'mrs':'json'})\n",
    "top_result = p.result(0).mrs()#p['results'][0]['mrs']\n",
    "dmrx = convert(top_result, 'simplemrs', 'dmrx')"
   ]
  },
  {
   "cell_type": "code",
   "execution_count": 63,
   "metadata": {},
   "outputs": [
    {
     "data": {
      "text/plain": [
       "{'top': 'h1',\n",
       " 'index': 'e3',\n",
       " 'relations': [{'label': 'h4',\n",
       "   'predicate': 'pronoun_q',\n",
       "   'lnk': {'from': 0, 'to': 29},\n",
       "   'arguments': {'ARG0': 'x6', 'RSTR': 'h5', 'BODY': 'h7'}},\n",
       "  {'label': 'h8',\n",
       "   'predicate': 'pron',\n",
       "   'lnk': {'from': 0, 'to': 29},\n",
       "   'arguments': {'ARG0': 'x6'}},\n",
       "  {'label': 'h2',\n",
       "   'predicate': '_put_v_1',\n",
       "   'lnk': {'from': 0, 'to': 3},\n",
       "   'arguments': {'ARG0': 'e3', 'ARG1': 'x6', 'ARG2': 'x9', 'ARG3': 'h10'}},\n",
       "  {'label': 'h11',\n",
       "   'predicate': 'udef_q',\n",
       "   'lnk': {'from': 4, 'to': 14},\n",
       "   'arguments': {'ARG0': 'x9', 'RSTR': 'h12', 'BODY': 'h13'}},\n",
       "  {'label': 'h14',\n",
       "   'predicate': '_red_a_1',\n",
       "   'lnk': {'from': 4, 'to': 7},\n",
       "   'arguments': {'ARG0': 'e15', 'ARG1': 'x9'}},\n",
       "  {'label': 'h14',\n",
       "   'predicate': '_block_n_of',\n",
       "   'lnk': {'from': 8, 'to': 14},\n",
       "   'arguments': {'ARG0': 'x9', 'ARG1': 'i16'}},\n",
       "  {'label': 'h17',\n",
       "   'predicate': '_on_p',\n",
       "   'lnk': {'from': 15, 'to': 17},\n",
       "   'arguments': {'ARG0': 'e18', 'ARG1': 'x9', 'ARG2': 'x19'}},\n",
       "  {'label': 'h20',\n",
       "   'predicate': 'udef_q',\n",
       "   'lnk': {'from': 18, 'to': 29},\n",
       "   'arguments': {'ARG0': 'x19', 'RSTR': 'h21', 'BODY': 'h22'}},\n",
       "  {'label': 'h23',\n",
       "   'predicate': '_blue_a_1',\n",
       "   'lnk': {'from': 18, 'to': 22},\n",
       "   'arguments': {'ARG0': 'e24', 'ARG1': 'x19'}},\n",
       "  {'label': 'h23',\n",
       "   'predicate': '_block_n_of',\n",
       "   'lnk': {'from': 23, 'to': 29},\n",
       "   'arguments': {'ARG0': 'x19', 'ARG1': 'i25'}}],\n",
       " 'constraints': [{'relation': 'qeq', 'high': 'h1', 'low': 'h2'},\n",
       "  {'relation': 'qeq', 'high': 'h5', 'low': 'h8'},\n",
       "  {'relation': 'qeq', 'high': 'h10', 'low': 'h17'},\n",
       "  {'relation': 'qeq', 'high': 'h12', 'low': 'h14'},\n",
       "  {'relation': 'qeq', 'high': 'h21', 'low': 'h23'}],\n",
       " 'variables': {'i25': {'type': 'i'},\n",
       "  'e24': {'type': 'e',\n",
       "   'properties': {'SF': 'prop',\n",
       "    'TENSE': 'untensed',\n",
       "    'MOOD': 'indicative',\n",
       "    'PROG': '-',\n",
       "    'PERF': '-'}},\n",
       "  'h23': {'type': 'h'},\n",
       "  'h22': {'type': 'h'},\n",
       "  'h21': {'type': 'h'},\n",
       "  'h20': {'type': 'h'},\n",
       "  'x19': {'type': 'x', 'properties': {'PERS': '3', 'NUM': 'pl', 'IND': '+'}},\n",
       "  'e18': {'type': 'e',\n",
       "   'properties': {'SF': 'prop',\n",
       "    'TENSE': 'untensed',\n",
       "    'MOOD': 'indicative',\n",
       "    'PROG': '-',\n",
       "    'PERF': '-'}},\n",
       "  'h17': {'type': 'h'},\n",
       "  'i16': {'type': 'i'},\n",
       "  'e15': {'type': 'e',\n",
       "   'properties': {'SF': 'prop',\n",
       "    'TENSE': 'untensed',\n",
       "    'MOOD': 'indicative',\n",
       "    'PROG': '-',\n",
       "    'PERF': '-'}},\n",
       "  'h14': {'type': 'h'},\n",
       "  'h13': {'type': 'h'},\n",
       "  'h12': {'type': 'h'},\n",
       "  'h11': {'type': 'h'},\n",
       "  'h10': {'type': 'h'},\n",
       "  'x9': {'type': 'x', 'properties': {'PERS': '3', 'NUM': 'pl', 'IND': '+'}},\n",
       "  'h2': {'type': 'h'},\n",
       "  'h8': {'type': 'h'},\n",
       "  'h7': {'type': 'h'},\n",
       "  'h5': {'type': 'h'},\n",
       "  'x6': {'type': 'x', 'properties': {'PERS': '2', 'PT': 'zero'}},\n",
       "  'h4': {'type': 'h'},\n",
       "  'e3': {'type': 'e',\n",
       "   'properties': {'SF': 'comm',\n",
       "    'TENSE': 'pres',\n",
       "    'MOOD': 'indicative',\n",
       "    'PROG': '-',\n",
       "    'PERF': '-'}},\n",
       "  'h1': {'type': 'h'}}}"
      ]
     },
     "execution_count": 63,
     "metadata": {},
     "output_type": "execute_result"
    }
   ],
   "source": [
    "top_result"
   ]
  },
  {
   "cell_type": "code",
   "execution_count": 75,
   "metadata": {},
   "outputs": [],
   "source": [
    "a = x.to_dict()"
   ]
  },
  {
   "cell_type": "code",
   "execution_count": 76,
   "metadata": {},
   "outputs": [
    {
     "data": {
      "text/plain": [
       "{'relations': [{'label': 'h4',\n",
       "   'predicate': 'pronoun_q',\n",
       "   'arguments': {'ARG0': 'x6', 'RSTR': 'h5', 'BODY': 'h7'},\n",
       "   'lnk': {'from': 0, 'to': 25}},\n",
       "  {'label': 'h8',\n",
       "   'predicate': 'pron',\n",
       "   'arguments': {'ARG0': 'x6'},\n",
       "   'lnk': {'from': 0, 'to': 25}},\n",
       "  {'label': 'h2',\n",
       "   'predicate': '_put_v_1',\n",
       "   'arguments': {'ARG0': 'e3', 'ARG1': 'x6', 'ARG2': 'x9', 'ARG3': 'h10'},\n",
       "   'lnk': {'from': 0, 'to': 3}},\n",
       "  {'label': 'h11',\n",
       "   'predicate': 'udef_q',\n",
       "   'arguments': {'ARG0': 'x9', 'RSTR': 'h12', 'BODY': 'h13'},\n",
       "   'lnk': {'from': 4, 'to': 12}},\n",
       "  {'label': 'h14',\n",
       "   'predicate': '_red_a_1',\n",
       "   'arguments': {'ARG0': 'e15', 'ARG1': 'x9'},\n",
       "   'lnk': {'from': 4, 'to': 7}},\n",
       "  {'label': 'h14',\n",
       "   'predicate': '_pen_n_1',\n",
       "   'arguments': {'ARG0': 'x9'},\n",
       "   'lnk': {'from': 8, 'to': 12}},\n",
       "  {'label': 'h16',\n",
       "   'predicate': '_on_p',\n",
       "   'arguments': {'ARG0': 'e17', 'ARG1': 'x9', 'ARG2': 'x18'},\n",
       "   'lnk': {'from': 13, 'to': 15}},\n",
       "  {'label': 'h19',\n",
       "   'predicate': 'udef_q',\n",
       "   'arguments': {'ARG0': 'x18', 'RSTR': 'h20', 'BODY': 'h21'},\n",
       "   'lnk': {'from': 16, 'to': 25}},\n",
       "  {'label': 'h22',\n",
       "   'predicate': '_blue_a_1',\n",
       "   'arguments': {'ARG0': 'e23', 'ARG1': 'x18'},\n",
       "   'lnk': {'from': 16, 'to': 20}},\n",
       "  {'label': 'h22',\n",
       "   'predicate': '_pen_n_1',\n",
       "   'arguments': {'ARG0': 'x18'},\n",
       "   'lnk': {'from': 21, 'to': 25}}],\n",
       " 'constraints': [{'relation': 'qeq', 'high': 'h1', 'low': 'h2'},\n",
       "  {'relation': 'qeq', 'high': 'h5', 'low': 'h8'},\n",
       "  {'relation': 'qeq', 'high': 'h10', 'low': 'h16'},\n",
       "  {'relation': 'qeq', 'high': 'h12', 'low': 'h14'},\n",
       "  {'relation': 'qeq', 'high': 'h20', 'low': 'h22'}],\n",
       " 'variables': {'h1': {'type': 'h'},\n",
       "  'e3': {'type': 'e',\n",
       "   'properties': {'SF': 'comm',\n",
       "    'TENSE': 'pres',\n",
       "    'MOOD': 'indicative',\n",
       "    'PROG': '-',\n",
       "    'PERF': '-'}},\n",
       "  'e23': {'type': 'e',\n",
       "   'properties': {'SF': 'prop',\n",
       "    'TENSE': 'untensed',\n",
       "    'MOOD': 'indicative',\n",
       "    'PROG': '-',\n",
       "    'PERF': '-'}},\n",
       "  'h22': {'type': 'h'},\n",
       "  'h21': {'type': 'h'},\n",
       "  'h20': {'type': 'h'},\n",
       "  'h19': {'type': 'h'},\n",
       "  'x18': {'type': 'x', 'properties': {'PERS': '3', 'NUM': 'pl', 'IND': '+'}},\n",
       "  'e17': {'type': 'e',\n",
       "   'properties': {'SF': 'prop',\n",
       "    'TENSE': 'untensed',\n",
       "    'MOOD': 'indicative',\n",
       "    'PROG': '-',\n",
       "    'PERF': '-'}},\n",
       "  'h16': {'type': 'h'},\n",
       "  'e15': {'type': 'e',\n",
       "   'properties': {'SF': 'prop',\n",
       "    'TENSE': 'untensed',\n",
       "    'MOOD': 'indicative',\n",
       "    'PROG': '-',\n",
       "    'PERF': '-'}},\n",
       "  'h14': {'type': 'h'},\n",
       "  'h13': {'type': 'h'},\n",
       "  'h12': {'type': 'h'},\n",
       "  'h11': {'type': 'h'},\n",
       "  'h10': {'type': 'h'},\n",
       "  'x9': {'type': 'x', 'properties': {'PERS': '3', 'NUM': 'pl', 'IND': '+'}},\n",
       "  'h2': {'type': 'h'},\n",
       "  'h8': {'type': 'h'},\n",
       "  'h7': {'type': 'h'},\n",
       "  'h5': {'type': 'h'},\n",
       "  'x6': {'type': 'x', 'properties': {'PERS': '2', 'PT': 'zero'}},\n",
       "  'h4': {'type': 'h'}},\n",
       " 'top': 'h1',\n",
       " 'index': 'e3'}"
      ]
     },
     "execution_count": 76,
     "metadata": {},
     "output_type": "execute_result"
    }
   ],
   "source": [
    "a"
   ]
  },
  {
   "cell_type": "code",
   "execution_count": 81,
   "metadata": {},
   "outputs": [
    {
     "data": {
      "text/plain": [
       "{'top': 'e3',\n",
       " 'nodes': {'_1': {'label': 'pronoun_q',\n",
       "   'edges': {'BV': 'x6'},\n",
       "   'lnk': {'from': 0, 'to': 25},\n",
       "   'type': 'x',\n",
       "   'properties': {'PERS': '2', 'PT': 'zero'}},\n",
       "  'x6': {'label': 'pron',\n",
       "   'edges': {},\n",
       "   'lnk': {'from': 0, 'to': 25},\n",
       "   'type': 'x',\n",
       "   'properties': {'PERS': '2', 'PT': 'zero'}},\n",
       "  'e3': {'label': '_put_v_1',\n",
       "   'edges': {'ARG1': 'x6', 'ARG2': 'x9', 'ARG3': 'e17'},\n",
       "   'lnk': {'from': 0, 'to': 3},\n",
       "   'type': 'e',\n",
       "   'properties': {'SF': 'comm',\n",
       "    'TENSE': 'pres',\n",
       "    'MOOD': 'indicative',\n",
       "    'PROG': '-',\n",
       "    'PERF': '-'}},\n",
       "  '_2': {'label': 'udef_q',\n",
       "   'edges': {'BV': 'x9'},\n",
       "   'lnk': {'from': 4, 'to': 12},\n",
       "   'type': 'x',\n",
       "   'properties': {'PERS': '3', 'NUM': 'pl', 'IND': '+'}},\n",
       "  'e15': {'label': '_red_a_1',\n",
       "   'edges': {'ARG1': 'x9'},\n",
       "   'lnk': {'from': 4, 'to': 7},\n",
       "   'type': 'e',\n",
       "   'properties': {'SF': 'prop',\n",
       "    'TENSE': 'untensed',\n",
       "    'MOOD': 'indicative',\n",
       "    'PROG': '-',\n",
       "    'PERF': '-'}},\n",
       "  'x9': {'label': '_pen_n_1',\n",
       "   'edges': {},\n",
       "   'lnk': {'from': 8, 'to': 12},\n",
       "   'type': 'x',\n",
       "   'properties': {'PERS': '3', 'NUM': 'pl', 'IND': '+'}},\n",
       "  'e17': {'label': '_on_p',\n",
       "   'edges': {'ARG1': 'x9', 'ARG2': 'x18'},\n",
       "   'lnk': {'from': 13, 'to': 15},\n",
       "   'type': 'e',\n",
       "   'properties': {'SF': 'prop',\n",
       "    'TENSE': 'untensed',\n",
       "    'MOOD': 'indicative',\n",
       "    'PROG': '-',\n",
       "    'PERF': '-'}},\n",
       "  '_3': {'label': 'udef_q',\n",
       "   'edges': {'BV': 'x18'},\n",
       "   'lnk': {'from': 16, 'to': 25},\n",
       "   'type': 'x',\n",
       "   'properties': {'PERS': '3', 'NUM': 'pl', 'IND': '+'}},\n",
       "  'e23': {'label': '_blue_a_1',\n",
       "   'edges': {'ARG1': 'x18'},\n",
       "   'lnk': {'from': 16, 'to': 20},\n",
       "   'type': 'e',\n",
       "   'properties': {'SF': 'prop',\n",
       "    'TENSE': 'untensed',\n",
       "    'MOOD': 'indicative',\n",
       "    'PROG': '-',\n",
       "    'PERF': '-'}},\n",
       "  'x18': {'label': '_pen_n_1',\n",
       "   'edges': {},\n",
       "   'lnk': {'from': 21, 'to': 25},\n",
       "   'type': 'x',\n",
       "   'properties': {'PERS': '3', 'NUM': 'pl', 'IND': '+'}}}}"
      ]
     },
     "execution_count": 81,
     "metadata": {},
     "output_type": "execute_result"
    }
   ],
   "source": [
    "eds.Eds.from_xmrs(x).to_dict()"
   ]
  },
  {
   "cell_type": "code",
   "execution_count": null,
   "metadata": {},
   "outputs": [],
   "source": []
  }
 ],
 "metadata": {
  "kernelspec": {
   "display_name": "Python 3",
   "language": "python",
   "name": "python3"
  },
  "language_info": {
   "codemirror_mode": {
    "name": "ipython",
    "version": 3
   },
   "file_extension": ".py",
   "mimetype": "text/x-python",
   "name": "python",
   "nbconvert_exporter": "python",
   "pygments_lexer": "ipython3",
   "version": "3.7.1"
  }
 },
 "nbformat": 4,
 "nbformat_minor": 2
}

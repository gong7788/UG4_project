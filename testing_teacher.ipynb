{
 "cells": [
  {
   "cell_type": "code",
   "execution_count": 1,
   "metadata": {},
   "outputs": [
    {
     "name": "stdout",
     "output_type": "stream",
     "text": [
      "Parsing domain blocks-domain.pddl\n",
      "Parsing problem pddl/blocks_problem_colour1.pddl\n"
     ]
    }
   ],
   "source": [
    "import world\n",
    "import agents\n",
    "from ff import Solved\n",
    "import ff\n",
    "import pddl_functions\n",
    "from teacher import TeacherAgent\n",
    "\n",
    "w = world.PDDLWorld('blocks-domain.pddl', 'pddl/blocks_problem_colour1.pddl')\n",
    "teacher = TeacherAgent()\n",
    "agent = agents.CorrectingAgent(w, teacher=teacher)"
   ]
  },
  {
   "cell_type": "code",
   "execution_count": 1,
   "metadata": {},
   "outputs": [
    {
     "ename": "NameError",
     "evalue": "name 'w' is not defined",
     "output_type": "error",
     "traceback": [
      "\u001b[0;31m---------------------------------------------------------------------------\u001b[0m",
      "\u001b[0;31mNameError\u001b[0m                                 Traceback (most recent call last)",
      "\u001b[0;32m<ipython-input-1-987a50989ac7>\u001b[0m in \u001b[0;36m<module>\u001b[0;34m()\u001b[0m\n\u001b[0;32m----> 1\u001b[0;31m \u001b[0mw\u001b[0m\u001b[0;34m.\u001b[0m\u001b[0mtest_success\u001b[0m\u001b[0;34m(\u001b[0m\u001b[0;34m)\u001b[0m\u001b[0;34m\u001b[0m\u001b[0m\n\u001b[0m",
      "\u001b[0;31mNameError\u001b[0m: name 'w' is not defined"
     ]
    }
   ],
   "source": [
    "w.test_success()"
   ]
  },
  {
   "cell_type": "code",
   "execution_count": 2,
   "metadata": {},
   "outputs": [
    {
     "name": "stdout",
     "output_type": "stream",
     "text": [
      "[(0.2, 0), (0.6000000000000001, 0), (1.0, 0), (1.4, 0), (1.7999999999999998, 0), (2.1999999999999997, 0), (2.5999999999999996, 0)]\n"
     ]
    },
    {
     "data": {
      "image/png": "[encoded data removed]",
      "text/plain": [
       "<Figure size 432x288 with 1 Axes>"
      ]
     },
     "metadata": {},
     "output_type": "display_data"
    }
   ],
   "source": [
    "w.draw()"
   ]
  },
  {
   "cell_type": "code",
   "execution_count": 2,
   "metadata": {},
   "outputs": [
    {
     "name": "stdout",
     "output_type": "stream",
     "text": [
      "[(0.2, 0), (0.6000000000000001, 0), (1.0, 0), (1.4, 0), (1.7999999999999998, 0), (2.1999999999999997, 0), (2.5999999999999996, 0)]\n"
     ]
    },
    {
     "data": {
      "image/png": "[encoded data removed]",
      "text/plain": [
       "<Figure size 432x288 with 1 Axes>"
      ]
     },
     "metadata": {},
     "output_type": "display_data"
    },
    {
     "name": "stdout",
     "output_type": "stream",
     "text": [
      "put ['b6', 't0']\n",
      "[(0.2, 0), (0.6000000000000001, 0), (1.0, 0), (1.4, 0), (1.7999999999999998, 0), (2.1999999999999997, 0), (0.2, 0)]\n"
     ]
    },
    {
     "data": {
      "image/png": "[encoded data removed]",
      "text/plain": [
       "<Figure size 432x288 with 1 Axes>"
      ]
     },
     "metadata": {},
     "output_type": "display_data"
    },
    {
     "name": "stdout",
     "output_type": "stream",
     "text": [
      "(forall (?x) (or (not (red ?x)) (exists (?y) (and (blue ?y) (on ?x ?y)))))\n",
      "T: no, put red blocks on blue blocks\n",
      "(1.0, 0.0)\n",
      "[(0.2, 0), (0.6000000000000001, 0), (1.0, 0), (1.4, 0), (1.7999999999999998, 0), (2.1999999999999997, 0), (2.5999999999999996, 0)]\n"
     ]
    },
    {
     "data": {
      "image/png": "[encoded data removed]",
      "text/plain": [
       "<Figure size 432x288 with 1 Axes>"
      ]
     },
     "metadata": {},
     "output_type": "display_data"
    },
    {
     "name": "stdout",
     "output_type": "stream",
     "text": [
      "put ['b5', 't0']\n",
      "[(0.2, 0), (0.6000000000000001, 0), (1.0, 0), (1.4, 0), (1.7999999999999998, 0), (0.2, 0), (2.5999999999999996, 0)]\n"
     ]
    },
    {
     "data": {
      "image/png": "[encoded data removed]",
      "text/plain": [
       "<Figure size 432x288 with 1 Axes>"
      ]
     },
     "metadata": {},
     "output_type": "display_data"
    },
    {
     "name": "stdout",
     "output_type": "stream",
     "text": [
      "(forall (?x) (or (not (red ?x)) (exists (?y) (and (blue ?y) (on ?x ?y)))))\n",
      "T: no, put red blocks on blue blocks\n",
      "(1.0, 0.0)\n",
      "[(0.2, 0), (0.6000000000000001, 0), (1.0, 0), (1.4, 0), (1.7999999999999998, 0), (2.1999999999999997, 0), (2.5999999999999996, 0)]\n"
     ]
    },
    {
     "data": {
      "image/png": "[encoded data removed]",
      "text/plain": [
       "<Figure size 432x288 with 1 Axes>"
      ]
     },
     "metadata": {},
     "output_type": "display_data"
    },
    {
     "name": "stdout",
     "output_type": "stream",
     "text": [
      "put ['b4', 't0']\n",
      "[(0.2, 0), (0.6000000000000001, 0), (1.0, 0), (1.4, 0), (0.2, 0), (2.1999999999999997, 0), (2.5999999999999996, 0)]\n"
     ]
    },
    {
     "data": {
      "image/png": "[encoded data removed]",
      "text/plain": [
       "<Figure size 432x288 with 1 Axes>"
      ]
     },
     "metadata": {},
     "output_type": "display_data"
    },
    {
     "name": "stdout",
     "output_type": "stream",
     "text": [
      "0.0 0.0\n",
      "0.4436302924187764\n",
      "put ['b6', 'b4']\n",
      "[(0.2, 0), (0.6000000000000001, 0), (1.0, 0), (1.4, 0), (0.2, 0), (2.1999999999999997, 0), (0.2, 0.2)]\n"
     ]
    },
    {
     "data": {
      "image/png": "[encoded data removed]",
      "text/plain": [
       "<Figure size 432x288 with 1 Axes>"
      ]
     },
     "metadata": {},
     "output_type": "display_data"
    },
    {
     "name": "stdout",
     "output_type": "stream",
     "text": [
      "0.521861054740636 0.7609305273703181\n",
      "0.6858195800661637\n",
      "put ['b5', 'b6']\n",
      "[(0.2, 0), (0.6000000000000001, 0), (1.0, 0), (1.4, 0), (0.2, 0), (0.2, 0.4), (0.2, 0.2)]\n"
     ]
    },
    {
     "data": {
      "image/png": "[encoded data removed]",
      "text/plain": [
       "<Figure size 432x288 with 1 Axes>"
      ]
     },
     "metadata": {},
     "output_type": "display_data"
    },
    {
     "name": "stdout",
     "output_type": "stream",
     "text": [
      "(forall (?x) (or (not (red ?x)) (exists (?y) (and (blue ?y) (on ?x ?y)))))\n",
      "T: no, put red blocks on blue blocks\n",
      "(1.0, 0.0)\n",
      "[(0.2, 0), (0.6000000000000001, 0), (1.0, 0), (1.4, 0), (0.2, 0), (2.1999999999999997, 0), (0.2, 0.2)]\n"
     ]
    },
    {
     "data": {
      "image/png": "[encoded data removed]",
      "text/plain": [
       "<Figure size 432x288 with 1 Axes>"
      ]
     },
     "metadata": {},
     "output_type": "display_data"
    },
    {
     "name": "stdout",
     "output_type": "stream",
     "text": [
      "put ['b1', 'b6']\n",
      "[(0.2, 0), (0.2, 0.4), (1.0, 0), (1.4, 0), (0.2, 0), (2.1999999999999997, 0), (0.2, 0.2)]\n"
     ]
    },
    {
     "data": {
      "image/png": "[encoded data removed]",
      "text/plain": [
       "<Figure size 432x288 with 1 Axes>"
      ]
     },
     "metadata": {},
     "output_type": "display_data"
    },
    {
     "name": "stdout",
     "output_type": "stream",
     "text": [
      "0.26337081419747116 0.5957834125598922\n",
      "0.44205798390030765\n",
      "put ['b5', 'b1']\n",
      "[(0.2, 0), (0.2, 0.4), (1.0, 0), (1.4, 0), (0.2, 0), (0.2, 0.6000000000000001), (0.2, 0.2)]\n"
     ]
    },
    {
     "data": {
      "image/png": "[encoded data removed]",
      "text/plain": [
       "<Figure size 432x288 with 1 Axes>"
      ]
     },
     "metadata": {},
     "output_type": "display_data"
    },
    {
     "name": "stdout",
     "output_type": "stream",
     "text": [
      "0.5971358316580214 0.8705248883101195\n",
      "0.685949178107008\n",
      "put ['b3', 'b5']\n",
      "[(0.2, 0), (0.2, 0.4), (1.0, 0), (0.2, 0.8), (0.2, 0), (0.2, 0.6000000000000001), (0.2, 0.2)]\n"
     ]
    },
    {
     "data": {
      "image/png": "[encoded data removed]",
      "text/plain": [
       "<Figure size 432x288 with 1 Axes>"
      ]
     },
     "metadata": {},
     "output_type": "display_data"
    },
    {
     "name": "stdout",
     "output_type": "stream",
     "text": [
      "0.2602968288176131 0.5889090896580087\n",
      "0.4419983209441931\n",
      "put ['b2', 'b3']\n",
      "[(0.2, 0), (0.2, 0.4), (0.2, 1.0), (0.2, 0.8), (0.2, 0), (0.2, 0.6000000000000001), (0.2, 0.2)]\n"
     ]
    },
    {
     "data": {
      "image/png": "[encoded data removed]",
      "text/plain": [
       "<Figure size 432x288 with 1 Axes>"
      ]
     },
     "metadata": {},
     "output_type": "display_data"
    },
    {
     "name": "stdout",
     "output_type": "stream",
     "text": [
      "0.5996309101234204 0.874161967739868\n",
      "0.685949437578206\n",
      "DONE\n"
     ]
    }
   ],
   "source": [
    "w.draw()\n",
    "while not w.test_success():\n",
    "\n",
    "    plan = agent.plan()\n",
    "    for a, args in plan:\n",
    "        if a == 'reach-goal':\n",
    "            break\n",
    "        w.update(a, args)\n",
    "        print(a, args)\n",
    "        w.draw()\n",
    "        correction = agent.teacher.correction(w)\n",
    "        if correction:\n",
    "            print(\"T:\", correction)\n",
    "            agent.get_correction(correction, a, args)\n",
    "            w.draw()\n",
    "            break\n",
    "        else:\n",
    "            agent.no_correction(a, args)\n",
    "            \n",
    "print('DONE')    "
   ]
  },
  {
   "cell_type": "code",
   "execution_count": 4,
   "metadata": {},
   "outputs": [
    {
     "data": {
      "text/plain": [
       "[('put', ['b6', 't0']),\n",
       " ('put', ['b5', 'b6']),\n",
       " ('put', ['b4', 'b5']),\n",
       " ('put', ['b3', 'b4']),\n",
       " ('put', ['b2', 'b3']),\n",
       " ('put', ['b1', 'b2'])]"
      ]
     },
     "execution_count": 4,
     "metadata": {},
     "output_type": "execute_result"
    }
   ],
   "source": [
    "plan"
   ]
  },
  {
   "cell_type": "code",
   "execution_count": null,
   "metadata": {},
   "outputs": [],
   "source": []
  }
 ],
 "metadata": {
  "kernelspec": {
   "display_name": "Python 3",
   "language": "python",
   "name": "python3"
  },
  "language_info": {
   "codemirror_mode": {
    "name": "ipython",
    "version": 3
   },
   "file_extension": ".py",
   "mimetype": "text/x-python",
   "name": "python",
   "nbconvert_exporter": "python",
   "pygments_lexer": "ipython3",
   "version": "3.6.3"
  }
 },
 "nbformat": 4,
 "nbformat_minor": 2
}

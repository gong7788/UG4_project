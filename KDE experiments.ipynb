{
 "cells": [
  {
   "cell_type": "code",
   "execution_count": 1,
   "metadata": {},
   "outputs": [],
   "source": [
    "from experiment import add_experiment\n",
    "from experiment_tracking import read_experiments, get_results_file, get_baseline, load_experiments\n",
    "from evaluation import test_colour_model, colour_probs, colour_dict, name_to_rgb\n",
    "from util import add_config_option, create_experiment\n",
    "\n",
    "%matplotlib inline"
   ]
  },
  {
   "cell_type": "code",
   "execution_count": 2,
   "metadata": {},
   "outputs": [],
   "source": [
    "create_experiment('simple_kde', {'scenario_suite':'simplecolours', 'colour_model_type':'kde', 'update_once':'True'})"
   ]
  },
  {
   "cell_type": "code",
   "execution_count": 2,
   "metadata": {},
   "outputs": [
    {
     "name": "stdout",
     "output_type": "stream",
     "text": [
      "Parsing domain blocks-domain.pddl\n",
      "Parsing problem simplecolours/problem1.pddl\n",
      "Parsing domain blocks-domain.pddl\n",
      "Parsing problem simplecolours/problem1.pddl\n",
      "problem1.pddl reward: -10\n",
      "Parsing domain blocks-domain.pddl\n",
      "Parsing problem simplecolours/problem10.pddl\n",
      "problem10.pddl reward: -10\n",
      "Parsing domain blocks-domain.pddl\n",
      "Parsing problem simplecolours/problem11.pddl\n",
      "problem11.pddl reward: -10\n",
      "Parsing domain blocks-domain.pddl\n"
     ]
    },
    {
     "name": "stderr",
     "output_type": "stream",
     "text": [
      "T: no, put red blocks on blue blocks\n",
      "T: no, put red blocks on blue blocks\n"
     ]
    },
    {
     "name": "stdout",
     "output_type": "stream",
     "text": [
      "Parsing problem simplecolours/problem12.pddl\n",
      "(forall (?x) (or (not (red ?x)) (exists (?y) (and (blue ?y) (on ?x ?y)))))\n",
      "bw 1.0\n",
      "(forall (?x) (or (not (red ?x)) (exists (?y) (and (blue ?y) (on ?x ?y)))))\n"
     ]
    },
    {
     "name": "stderr",
     "output_type": "stream",
     "text": [
      "T: no, put red blocks on blue blocks\n"
     ]
    },
    {
     "name": "stdout",
     "output_type": "stream",
     "text": [
      "(forall (?x) (or (not (red ?x)) (exists (?y) (and (blue ?y) (on ?x ?y)))))\n",
      "problem12.pddl reward: -16\n",
      "Parsing domain blocks-domain.pddl\n",
      "Parsing problem simplecolours/problem13.pddl\n"
     ]
    },
    {
     "name": "stderr",
     "output_type": "stream",
     "text": [
      "T: No, now you cannot put b5 in the tower because you must put red blocks on blue blocks\n"
     ]
    },
    {
     "name": "stdout",
     "output_type": "stream",
     "text": [
      "problem13.pddl reward: -10\n",
      "Parsing domain blocks-domain.pddl\n",
      "Parsing problem simplecolours/problem14.pddl\n",
      "bw 1.0\n",
      "bw 0.5\n",
      "bw 1.0\n",
      "bw 0.3333333333333333\n",
      "bw 0.5\n",
      "problem14.pddl reward: -12\n",
      "Parsing domain blocks-domain.pddl\n",
      "Parsing problem simplecolours/problem15.pddl\n",
      "problem15.pddl reward: -10\n",
      "Parsing domain blocks-domain.pddl\n",
      "Parsing problem simplecolours/problem16.pddl\n",
      "problem16.pddl reward: -10\n",
      "Parsing domain blocks-domain.pddl\n",
      "Parsing problem simplecolours/problem17.pddl\n",
      "problem17.pddl reward: -10\n",
      "Parsing domain blocks-domain.pddl\n",
      "Parsing problem simplecolours/problem18.pddl\n",
      "problem18.pddl reward: -10\n",
      "Parsing domain blocks-domain.pddl\n",
      "Parsing problem simplecolours/problem19.pddl\n",
      "problem19.pddl reward: -10\n",
      "Parsing domain blocks-domain.pddl\n",
      "Parsing problem simplecolours/problem2.pddl\n",
      "problem2.pddl reward: -10\n",
      "Parsing domain blocks-domain.pddl\n",
      "Parsing problem simplecolours/problem20.pddl\n"
     ]
    },
    {
     "name": "stderr",
     "output_type": "stream",
     "text": [
      "T: No, now you cannot put b0 in the tower because you must put red blocks on blue blocks\n"
     ]
    },
    {
     "name": "stdout",
     "output_type": "stream",
     "text": [
      "problem20.pddl reward: -10\n",
      "Parsing domain blocks-domain.pddl\n",
      "Parsing problem simplecolours/problem21.pddl\n",
      "bw 0.25\n",
      "bw 0.3333333333333333\n",
      "bw 0.2\n",
      "bw 0.25\n",
      "problem21.pddl reward: -12\n",
      "Parsing domain blocks-domain.pddl\n",
      "Parsing problem simplecolours/problem22.pddl\n",
      "problem22.pddl reward: -10\n",
      "Parsing domain blocks-domain.pddl\n",
      "Parsing problem simplecolours/problem23.pddl\n",
      "problem23.pddl reward: -10\n",
      "Parsing domain blocks-domain.pddl\n",
      "Parsing problem simplecolours/problem24.pddl\n",
      "problem24.pddl reward: -10\n",
      "Parsing domain blocks-domain.pddl\n",
      "Parsing problem simplecolours/problem25.pddl\n",
      "problem25.pddl reward: -10\n",
      "Parsing domain blocks-domain.pddl\n",
      "Parsing problem simplecolours/problem26.pddl\n",
      "problem26.pddl reward: -10\n",
      "Parsing domain blocks-domain.pddl\n",
      "Parsing problem simplecolours/problem27.pddl\n",
      "problem27.pddl reward: -10\n",
      "Parsing domain blocks-domain.pddl\n",
      "Parsing problem simplecolours/problem28.pddl\n",
      "problem28.pddl reward: -10\n",
      "Parsing domain blocks-domain.pddl\n",
      "Parsing problem simplecolours/problem29.pddl\n",
      "problem29.pddl reward: -10\n",
      "Parsing domain blocks-domain.pddl\n",
      "Parsing problem simplecolours/problem3.pddl\n",
      "problem3.pddl reward: -10\n",
      "Parsing domain blocks-domain.pddl\n",
      "Parsing problem simplecolours/problem30.pddl\n",
      "problem30.pddl reward: -10\n",
      "Parsing domain blocks-domain.pddl\n",
      "Parsing problem simplecolours/problem31.pddl\n",
      "problem31.pddl reward: -10\n",
      "Parsing domain blocks-domain.pddl\n",
      "Parsing problem simplecolours/problem32.pddl\n",
      "problem32.pddl reward: -10\n",
      "Parsing domain blocks-domain.pddl\n",
      "Parsing problem simplecolours/problem33.pddl\n",
      "problem33.pddl reward: -10\n",
      "Parsing domain blocks-domain.pddl\n",
      "Parsing problem simplecolours/problem34.pddl\n",
      "problem34.pddl reward: -10\n",
      "Parsing domain blocks-domain.pddl\n",
      "Parsing problem simplecolours/problem35.pddl\n",
      "problem35.pddl reward: -10\n",
      "Parsing domain blocks-domain.pddl\n",
      "Parsing problem simplecolours/problem36.pddl\n",
      "problem36.pddl reward: -10\n",
      "Parsing domain blocks-domain.pddl\n",
      "Parsing problem simplecolours/problem37.pddl\n",
      "problem37.pddl reward: -10\n",
      "Parsing domain blocks-domain.pddl\n",
      "Parsing problem simplecolours/problem38.pddl\n",
      "problem38.pddl reward: -10\n",
      "Parsing domain blocks-domain.pddl\n",
      "Parsing problem simplecolours/problem39.pddl\n",
      "problem39.pddl reward: -10\n",
      "Parsing domain blocks-domain.pddl\n",
      "Parsing problem simplecolours/problem4.pddl\n",
      "problem4.pddl reward: -10\n",
      "Parsing domain blocks-domain.pddl\n",
      "Parsing problem simplecolours/problem40.pddl\n",
      "problem40.pddl reward: -10\n",
      "Parsing domain blocks-domain.pddl\n",
      "Parsing problem simplecolours/problem41.pddl\n",
      "problem41.pddl reward: -10\n",
      "Parsing domain blocks-domain.pddl\n",
      "Parsing problem simplecolours/problem42.pddl\n",
      "problem42.pddl reward: -10\n",
      "Parsing domain blocks-domain.pddl\n",
      "Parsing problem simplecolours/problem43.pddl\n",
      "problem43.pddl reward: -10\n",
      "Parsing domain blocks-domain.pddl\n",
      "Parsing problem simplecolours/problem44.pddl\n",
      "problem44.pddl reward: -10\n",
      "Parsing domain blocks-domain.pddl\n",
      "Parsing problem simplecolours/problem45.pddl\n",
      "problem45.pddl reward: -10\n",
      "Parsing domain blocks-domain.pddl\n",
      "Parsing problem simplecolours/problem46.pddl\n",
      "problem46.pddl reward: -10\n",
      "Parsing domain blocks-domain.pddl\n",
      "Parsing problem simplecolours/problem47.pddl\n",
      "problem47.pddl reward: -10\n",
      "Parsing domain blocks-domain.pddl\n",
      "Parsing problem simplecolours/problem48.pddl\n",
      "problem48.pddl reward: -10\n",
      "Parsing domain blocks-domain.pddl\n",
      "Parsing problem simplecolours/problem49.pddl\n",
      "problem49.pddl reward: -10\n",
      "Parsing domain blocks-domain.pddl\n",
      "Parsing problem simplecolours/problem5.pddl\n",
      "problem5.pddl reward: -10\n",
      "Parsing domain blocks-domain.pddl\n",
      "Parsing problem simplecolours/problem50.pddl\n",
      "problem50.pddl reward: -10\n",
      "Parsing domain blocks-domain.pddl\n",
      "Parsing problem simplecolours/problem6.pddl\n",
      "problem6.pddl reward: -10\n",
      "Parsing domain blocks-domain.pddl\n",
      "Parsing problem simplecolours/problem7.pddl\n",
      "problem7.pddl reward: -10\n",
      "Parsing domain blocks-domain.pddl\n",
      "Parsing problem simplecolours/problem8.pddl\n",
      "problem8.pddl reward: -10\n",
      "Parsing domain blocks-domain.pddl\n",
      "Parsing problem simplecolours/problem9.pddl\n",
      "problem9.pddl reward: -10\n"
     ]
    }
   ],
   "source": [
    "add_experiment('simple_kde', None)"
   ]
  },
  {
   "cell_type": "code",
   "execution_count": 7,
   "metadata": {},
   "outputs": [
    {
     "name": "stdout",
     "output_type": "stream",
     "text": [
      "Parsing domain blocks-domain.pddl\n",
      "Parsing problem simplecolours/problem1.pddl\n",
      "Parsing domain blocks-domain.pddl\n",
      "Parsing problem simplecolours/problem1.pddl\n",
      "problem1.pddl reward: -10\n",
      "Parsing domain blocks-domain.pddl\n",
      "Parsing problem simplecolours/problem10.pddl\n",
      "problem10.pddl reward: -10\n",
      "Parsing domain blocks-domain.pddl\n",
      "Parsing problem simplecolours/problem11.pddl\n"
     ]
    },
    {
     "name": "stderr",
     "output_type": "stream",
     "text": [
      "T: no, put red blocks on blue blocks\n",
      "T: no, put red blocks on blue blocks\n",
      "T: no, put red blocks on blue blocks\n"
     ]
    },
    {
     "name": "stdout",
     "output_type": "stream",
     "text": [
      "problem11.pddl reward: -10\n",
      "Parsing domain blocks-domain.pddl\n",
      "Parsing problem simplecolours/problem12.pddl\n",
      "(forall (?x) (or (not (red ?x)) (exists (?y) (and (blue ?y) (on ?x ?y)))))\n",
      "(forall (?x) (or (not (red ?x)) (exists (?y) (and (blue ?y) (on ?x ?y)))))\n",
      "(forall (?x) (or (not (red ?x)) (exists (?y) (and (blue ?y) (on ?x ?y)))))\n",
      "problem12.pddl reward: -16\n",
      "Parsing domain blocks-domain.pddl\n",
      "Parsing problem simplecolours/problem13.pddl\n"
     ]
    },
    {
     "name": "stderr",
     "output_type": "stream",
     "text": [
      "T: No, now you cannot put b5 in the tower because you must put red blocks on blue blocks\n"
     ]
    },
    {
     "name": "stdout",
     "output_type": "stream",
     "text": [
      "problem13.pddl reward: -10\n",
      "Parsing domain blocks-domain.pddl\n",
      "Parsing problem simplecolours/problem14.pddl\n"
     ]
    },
    {
     "name": "stderr",
     "output_type": "stream",
     "text": [
      "T: no, put red blocks on blue blocks\n",
      "T: no, put red blocks on blue blocks\n",
      "T: no, put red blocks on blue blocks\n",
      "T: no, put red blocks on blue blocks\n"
     ]
    },
    {
     "name": "stdout",
     "output_type": "stream",
     "text": [
      "(forall (?x) (or (not (red ?x)) (exists (?y) (and (blue ?y) (on ?x ?y)))))\n",
      "(forall (?x) (or (not (red ?x)) (exists (?y) (and (blue ?y) (on ?x ?y)))))\n",
      "(forall (?x) (or (not (red ?x)) (exists (?y) (and (blue ?y) (on ?x ?y)))))\n",
      "(forall (?x) (or (not (red ?x)) (exists (?y) (and (blue ?y) (on ?x ?y)))))\n"
     ]
    },
    {
     "name": "stderr",
     "output_type": "stream",
     "text": [
      "T: no, put red blocks on blue blocks\n"
     ]
    },
    {
     "name": "stdout",
     "output_type": "stream",
     "text": [
      "(forall (?x) (or (not (red ?x)) (exists (?y) (and (blue ?y) (on ?x ?y)))))\n",
      "problem14.pddl reward: -22\n",
      "Parsing domain blocks-domain.pddl\n",
      "Parsing problem simplecolours/problem15.pddl\n",
      "problem15.pddl reward: -10\n",
      "Parsing domain blocks-domain.pddl\n",
      "Parsing problem simplecolours/problem16.pddl\n",
      "problem16.pddl reward: -10\n"
     ]
    },
    {
     "name": "stderr",
     "output_type": "stream",
     "text": [
      "T: no, put red blocks on blue blocks\n",
      "T: no, put red blocks on blue blocks\n"
     ]
    },
    {
     "name": "stdout",
     "output_type": "stream",
     "text": [
      "Parsing domain blocks-domain.pddl\n",
      "Parsing problem simplecolours/problem17.pddl\n",
      "(forall (?x) (or (not (red ?x)) (exists (?y) (and (blue ?y) (on ?x ?y)))))\n",
      "(forall (?x) (or (not (red ?x)) (exists (?y) (and (blue ?y) (on ?x ?y)))))\n"
     ]
    },
    {
     "name": "stderr",
     "output_type": "stream",
     "text": [
      "T: no, put red blocks on blue blocks\n"
     ]
    },
    {
     "name": "stdout",
     "output_type": "stream",
     "text": [
      "(forall (?x) (or (not (red ?x)) (exists (?y) (and (blue ?y) (on ?x ?y)))))\n",
      "problem17.pddl reward: -16\n",
      "Parsing domain blocks-domain.pddl\n",
      "Parsing problem simplecolours/problem18.pddl\n"
     ]
    },
    {
     "name": "stderr",
     "output_type": "stream",
     "text": [
      "T: no, put red blocks on blue blocks\n",
      "T: no, put red blocks on blue blocks\n"
     ]
    },
    {
     "name": "stdout",
     "output_type": "stream",
     "text": [
      "(forall (?x) (or (not (red ?x)) (exists (?y) (and (blue ?y) (on ?x ?y)))))\n",
      "(forall (?x) (or (not (red ?x)) (exists (?y) (and (blue ?y) (on ?x ?y)))))\n",
      "problem18.pddl reward: -14\n",
      "Parsing domain blocks-domain.pddl\n",
      "Parsing problem simplecolours/problem19.pddl\n",
      "problem19.pddl reward: -10\n",
      "Parsing domain blocks-domain.pddl\n",
      "Parsing problem simplecolours/problem2.pddl\n",
      "problem2.pddl reward: -10\n",
      "Parsing domain blocks-domain.pddl"
     ]
    },
    {
     "name": "stderr",
     "output_type": "stream",
     "text": [
      "T: No, now you cannot put b2 in the tower because you must put red blocks on blue blocks\n",
      "T: No, now you cannot put b2 in the tower because you must put red blocks on blue blocks\n",
      "T: No, now you cannot put b2 in the tower because you must put red blocks on blue blocks\n"
     ]
    },
    {
     "name": "stdout",
     "output_type": "stream",
     "text": [
      "\n",
      "Parsing problem simplecolours/problem20.pddl\n"
     ]
    },
    {
     "name": "stderr",
     "output_type": "stream",
     "text": [
      "T: No, now you cannot put b0 in the tower because you must put red blocks on blue blocks\n",
      "T: No, now you cannot put b0 in the tower because you must put red blocks on blue blocks\n"
     ]
    },
    {
     "name": "stdout",
     "output_type": "stream",
     "text": [
      "problem20.pddl reward: -16\n",
      "Parsing domain blocks-domain.pddl\n",
      "Parsing problem simplecolours/problem21.pddl\n"
     ]
    },
    {
     "name": "stderr",
     "output_type": "stream",
     "text": [
      "T: No, now you cannot put b0 in the tower because you must put red blocks on blue blocks\n",
      "T: No, now you cannot put b0 in the tower because you must put red blocks on blue blocks\n",
      "T: No, now you cannot put b0 in the tower because you must put red blocks on blue blocks\n",
      "T: No, now you cannot put b0 in the tower because you must put red blocks on blue blocks\n",
      "T: No, now you cannot put b0 in the tower because you must put red blocks on blue blocks\n",
      "T: No, now you cannot put b0 in the tower because you must put red blocks on blue blocks\n",
      "T: No, now you cannot put b0 in the tower because you must put red blocks on blue blocks\n",
      "T: No, now you cannot put b0 in the tower because you must put red blocks on blue blocks\n"
     ]
    },
    {
     "name": "stdout",
     "output_type": "stream",
     "text": [
      "problem21.pddl reward: -30\n",
      "Parsing domain blocks-domain.pddl\n",
      "Parsing problem simplecolours/problem22.pddl\n",
      "problem22.pddl reward: -10\n",
      "Parsing domain blocks-domain.pddl\n",
      "Parsing problem simplecolours/problem23.pddl\n"
     ]
    },
    {
     "name": "stderr",
     "output_type": "stream",
     "text": [
      "T: no, put red blocks on blue blocks\n",
      "T: no, put red blocks on blue blocks\n"
     ]
    },
    {
     "name": "stdout",
     "output_type": "stream",
     "text": [
      "problem23.pddl reward: -10\n",
      "Parsing domain blocks-domain.pddl\n",
      "Parsing problem simplecolours/problem24.pddl\n",
      "(forall (?x) (or (not (red ?x)) (exists (?y) (and (blue ?y) (on ?x ?y)))))\n",
      "(forall (?x) (or (not (red ?x)) (exists (?y) (and (blue ?y) (on ?x ?y)))))\n"
     ]
    },
    {
     "name": "stderr",
     "output_type": "stream",
     "text": [
      "T: No, now you cannot put b0 in the tower because you must put red blocks on blue blocks\n",
      "T: No, now you cannot put b0 in the tower because you must put red blocks on blue blocks\n"
     ]
    },
    {
     "name": "stdout",
     "output_type": "stream",
     "text": [
      "problem24.pddl reward: -14\n",
      "Parsing domain blocks-domain.pddl\n",
      "Parsing problem simplecolours/problem25.pddl\n"
     ]
    },
    {
     "name": "stderr",
     "output_type": "stream",
     "text": [
      "T: No, now you cannot put b0 in the tower because you must put red blocks on blue blocks\n",
      "T: No, now you cannot put b0 in the tower because you must put red blocks on blue blocks\n",
      "T: No, now you cannot put b0 in the tower because you must put red blocks on blue blocks\n",
      "T: No, now you cannot put b0 in the tower because you must put red blocks on blue blocks\n",
      "T: No, now you cannot put b0 in the tower because you must put red blocks on blue blocks\n",
      "T: no, put red blocks on blue blocks\n",
      "T: no, put red blocks on blue blocks\n"
     ]
    },
    {
     "name": "stdout",
     "output_type": "stream",
     "text": [
      "problem25.pddl reward: -24\n",
      "Parsing domain blocks-domain.pddl\n",
      "Parsing problem simplecolours/problem26.pddl\n",
      "(forall (?x) (or (not (red ?x)) (exists (?y) (and (blue ?y) (on ?x ?y)))))\n",
      "(forall (?x) (or (not (red ?x)) (exists (?y) (and (blue ?y) (on ?x ?y)))))\n"
     ]
    },
    {
     "name": "stderr",
     "output_type": "stream",
     "text": [
      "T: no, put red blocks on blue blocks\n"
     ]
    },
    {
     "name": "stdout",
     "output_type": "stream",
     "text": [
      "(forall (?x) (or (not (red ?x)) (exists (?y) (and (blue ?y) (on ?x ?y)))))\n",
      "problem26.pddl reward: -16\n",
      "Parsing domain blocks-domain.pddl\n",
      "Parsing problem simplecolours/problem27.pddl\n"
     ]
    },
    {
     "name": "stderr",
     "output_type": "stream",
     "text": [
      "T: no, put red blocks on blue blocks\n",
      "T: no, put red blocks on blue blocks\n"
     ]
    },
    {
     "name": "stdout",
     "output_type": "stream",
     "text": [
      "(forall (?x) (or (not (red ?x)) (exists (?y) (and (blue ?y) (on ?x ?y)))))\n",
      "(forall (?x) (or (not (red ?x)) (exists (?y) (and (blue ?y) (on ?x ?y)))))\n"
     ]
    },
    {
     "name": "stderr",
     "output_type": "stream",
     "text": [
      "T: no, put red blocks on blue blocks\n"
     ]
    },
    {
     "name": "stdout",
     "output_type": "stream",
     "text": [
      "(forall (?x) (or (not (red ?x)) (exists (?y) (and (blue ?y) (on ?x ?y)))))\n",
      "problem27.pddl reward: -16\n",
      "Parsing domain blocks-domain.pddl\n",
      "Parsing problem simplecolours/problem28.pddl\n",
      "problem28.pddl reward: -10\n",
      "Parsing domain blocks-domain.pddl\n",
      "Parsing problem simplecolours/problem29.pddl\n"
     ]
    },
    {
     "name": "stderr",
     "output_type": "stream",
     "text": [
      "T: no, put red blocks on blue blocks\n"
     ]
    },
    {
     "name": "stdout",
     "output_type": "stream",
     "text": [
      "problem29.pddl reward: -10\n",
      "Parsing domain blocks-domain.pddl\n",
      "Parsing problem simplecolours/problem3.pddl\n",
      "(forall (?x) (or (not (red ?x)) (exists (?y) (and (blue ?y) (on ?x ?y)))))\n"
     ]
    },
    {
     "name": "stderr",
     "output_type": "stream",
     "text": [
      "T: No, now you cannot put b1 in the tower because you must put red blocks on blue blocks\n",
      "T: No, now you cannot put b1 in the tower because you must put red blocks on blue blocks\n"
     ]
    },
    {
     "name": "stdout",
     "output_type": "stream",
     "text": [
      "problem3.pddl reward: -16\n",
      "Parsing domain blocks-domain.pddl\n",
      "Parsing problem simplecolours/problem30.pddl\n",
      "problem30.pddl reward: -10\n",
      "Parsing domain blocks-domain.pddl\n",
      "Parsing problem simplecolours/problem31.pddl\n"
     ]
    },
    {
     "name": "stderr",
     "output_type": "stream",
     "text": [
      "T: No, now you cannot put b0 in the tower because you must put red blocks on blue blocks\n",
      "T: No, now you cannot put b0 in the tower because you must put red blocks on blue blocks\n"
     ]
    },
    {
     "name": "stdout",
     "output_type": "stream",
     "text": [
      "problem31.pddl reward: -10\n",
      "Parsing domain blocks-domain.pddl\n",
      "Parsing problem simplecolours/problem32.pddl\n"
     ]
    },
    {
     "name": "stderr",
     "output_type": "stream",
     "text": [
      "T: No, now you cannot put b0 in the tower because you must put red blocks on blue blocks\n",
      "T: No, now you cannot put b0 in the tower because you must put red blocks on blue blocks\n",
      "T: No, now you cannot put b0 in the tower because you must put red blocks on blue blocks\n"
     ]
    },
    {
     "name": "stdout",
     "output_type": "stream",
     "text": [
      "problem32.pddl reward: -20\n",
      "Parsing domain blocks-domain.pddl\n",
      "Parsing problem simplecolours/problem33.pddl\n"
     ]
    },
    {
     "name": "stderr",
     "output_type": "stream",
     "text": [
      "T: no, put red blocks on blue blocks\n"
     ]
    },
    {
     "name": "stdout",
     "output_type": "stream",
     "text": [
      "(forall (?x) (or (not (red ?x)) (exists (?y) (and (blue ?y) (on ?x ?y)))))\n",
      "problem33.pddl reward: -12\n",
      "Parsing domain blocks-domain.pddl\n",
      "Parsing problem simplecolours/problem34.pddl\n"
     ]
    },
    {
     "name": "stderr",
     "output_type": "stream",
     "text": [
      "T: No, now you cannot put b1 in the tower because you must put red blocks on blue blocks\n",
      "T: No, now you cannot put b1 in the tower because you must put red blocks on blue blocks\n",
      "T: No, now you cannot put b1 in the tower because you must put red blocks on blue blocks\n",
      "T: No, now you cannot put b1 in the tower because you must put red blocks on blue blocks\n",
      "T: No, now you cannot put b1 in the tower because you must put red blocks on blue blocks\n",
      "T: No, now you cannot put b1 in the tower because you must put red blocks on blue blocks\n",
      "T: No, now you cannot put b1 in the tower because you must put red blocks on blue blocks\n"
     ]
    },
    {
     "name": "stdout",
     "output_type": "stream",
     "text": [
      "problem34.pddl reward: -24\n",
      "Parsing domain blocks-domain.pddl\n",
      "Parsing problem simplecolours/problem35.pddl\n"
     ]
    },
    {
     "name": "stderr",
     "output_type": "stream",
     "text": [
      "T: no, put red blocks on blue blocks\n"
     ]
    },
    {
     "name": "stdout",
     "output_type": "stream",
     "text": [
      "problem35.pddl reward: -10\n",
      "Parsing domain blocks-domain.pddl\n",
      "Parsing problem simplecolours/problem36.pddl\n",
      "(forall (?x) (or (not (red ?x)) (exists (?y) (and (blue ?y) (on ?x ?y)))))\n"
     ]
    },
    {
     "name": "stderr",
     "output_type": "stream",
     "text": [
      "T: no, put red blocks on blue blocks\n"
     ]
    },
    {
     "name": "stdout",
     "output_type": "stream",
     "text": [
      "(forall (?x) (or (not (red ?x)) (exists (?y) (and (blue ?y) (on ?x ?y)))))\n",
      "problem36.pddl reward: -14\n",
      "Parsing domain blocks-domain.pddl\n",
      "Parsing problem simplecolours/problem37.pddl\n"
     ]
    },
    {
     "name": "stderr",
     "output_type": "stream",
     "text": [
      "T: no, put red blocks on blue blocks\n"
     ]
    },
    {
     "name": "stdout",
     "output_type": "stream",
     "text": [
      "problem37.pddl reward: -10\n",
      "Parsing domain blocks-domain.pddl\n",
      "Parsing problem simplecolours/problem38.pddl\n",
      "(forall (?x) (or (not (red ?x)) (exists (?y) (and (blue ?y) (on ?x ?y)))))\n",
      "problem38.pddl reward: -12\n",
      "Parsing domain blocks-domain.pddl\n",
      "Parsing problem simplecolours/problem39.pddl\n"
     ]
    },
    {
     "name": "stderr",
     "output_type": "stream",
     "text": [
      "T: no, put red blocks on blue blocks\n",
      "T: no, put red blocks on blue blocks\n"
     ]
    },
    {
     "name": "stdout",
     "output_type": "stream",
     "text": [
      "problem39.pddl reward: -10\n",
      "Parsing domain blocks-domain.pddl\n",
      "Parsing problem simplecolours/problem4.pddl\n",
      "(forall (?x) (or (not (red ?x)) (exists (?y) (and (blue ?y) (on ?x ?y)))))\n",
      "(forall (?x) (or (not (red ?x)) (exists (?y) (and (blue ?y) (on ?x ?y)))))\n"
     ]
    },
    {
     "name": "stderr",
     "output_type": "stream",
     "text": [
      "T: no, put red blocks on blue blocks\n",
      "T: no, put red blocks on blue blocks\n"
     ]
    },
    {
     "name": "stdout",
     "output_type": "stream",
     "text": [
      "(forall (?x) (or (not (red ?x)) (exists (?y) (and (blue ?y) (on ?x ?y)))))\n",
      "(forall (?x) (or (not (red ?x)) (exists (?y) (and (blue ?y) (on ?x ?y)))))\n",
      "problem4.pddl reward: -18\n",
      "Parsing domain blocks-domain.pddl\n",
      "Parsing problem simplecolours/problem40.pddl\n"
     ]
    },
    {
     "name": "stderr",
     "output_type": "stream",
     "text": [
      "T: No, now you cannot put b2 in the tower because you must put red blocks on blue blocks\n",
      "T: No, now you cannot put b2 in the tower because you must put red blocks on blue blocks\n",
      "T: No, now you cannot put b2 in the tower because you must put red blocks on blue blocks\n"
     ]
    },
    {
     "name": "stdout",
     "output_type": "stream",
     "text": [
      "problem40.pddl reward: -16\n",
      "Parsing domain blocks-domain.pddl\n",
      "Parsing problem simplecolours/problem41.pddl\n"
     ]
    },
    {
     "name": "stderr",
     "output_type": "stream",
     "text": [
      "T: no, put red blocks on blue blocks\n",
      "T: no, put red blocks on blue blocks\n",
      "T: no, put red blocks on blue blocks\n"
     ]
    },
    {
     "name": "stdout",
     "output_type": "stream",
     "text": [
      "problem41.pddl reward: -10\n",
      "Parsing domain blocks-domain.pddl\n",
      "Parsing problem simplecolours/problem42.pddl\n",
      "(forall (?x) (or (not (red ?x)) (exists (?y) (and (blue ?y) (on ?x ?y)))))\n",
      "(forall (?x) (or (not (red ?x)) (exists (?y) (and (blue ?y) (on ?x ?y)))))\n",
      "(forall (?x) (or (not (red ?x)) (exists (?y) (and (blue ?y) (on ?x ?y)))))\n"
     ]
    },
    {
     "name": "stderr",
     "output_type": "stream",
     "text": [
      "T: no, put red blocks on blue blocks\n",
      "T: no, put red blocks on blue blocks\n",
      "T: no, put red blocks on blue blocks\n"
     ]
    },
    {
     "name": "stdout",
     "output_type": "stream",
     "text": [
      "(forall (?x) (or (not (red ?x)) (exists (?y) (and (blue ?y) (on ?x ?y)))))\n",
      "(forall (?x) (or (not (red ?x)) (exists (?y) (and (blue ?y) (on ?x ?y)))))\n",
      "(forall (?x) (or (not (red ?x)) (exists (?y) (and (blue ?y) (on ?x ?y)))))\n"
     ]
    },
    {
     "name": "stderr",
     "output_type": "stream",
     "text": [
      "T: no, put red blocks on blue blocks\n"
     ]
    },
    {
     "name": "stdout",
     "output_type": "stream",
     "text": [
      "problem42.pddl reward: -22\n",
      "Parsing domain blocks-domain.pddl\n",
      "Parsing problem simplecolours/problem43.pddl\n",
      "(forall (?x) (or (not (red ?x)) (exists (?y) (and (blue ?y) (on ?x ?y)))))\n"
     ]
    },
    {
     "name": "stderr",
     "output_type": "stream",
     "text": [
      "T: No, now you cannot put b1 in the tower because you must put red blocks on blue blocks\n"
     ]
    },
    {
     "name": "stdout",
     "output_type": "stream",
     "text": [
      "problem43.pddl reward: -12\n",
      "Parsing domain blocks-domain.pddl\n",
      "Parsing problem simplecolours/problem44.pddl\n"
     ]
    },
    {
     "name": "stderr",
     "output_type": "stream",
     "text": [
      "T: No, now you cannot put b1 in the tower because you must put red blocks on blue blocks\n"
     ]
    },
    {
     "name": "stdout",
     "output_type": "stream",
     "text": [
      "problem44.pddl reward: -14\n",
      "Parsing domain blocks-domain.pddl\n",
      "Parsing problem simplecolours/problem45.pddl\n"
     ]
    },
    {
     "name": "stderr",
     "output_type": "stream",
     "text": [
      "T: no, put red blocks on blue blocks\n",
      "T: no, put red blocks on blue blocks\n"
     ]
    },
    {
     "name": "stdout",
     "output_type": "stream",
     "text": [
      "problem45.pddl reward: -10\n",
      "Parsing domain blocks-domain.pddl\n",
      "Parsing problem simplecolours/problem46.pddl\n",
      "(forall (?x) (or (not (red ?x)) (exists (?y) (and (blue ?y) (on ?x ?y)))))\n",
      "(forall (?x) (or (not (red ?x)) (exists (?y) (and (blue ?y) (on ?x ?y)))))\n"
     ]
    },
    {
     "name": "stderr",
     "output_type": "stream",
     "text": [
      "T: no, put red blocks on blue blocks\n",
      "T: no, put red blocks on blue blocks\n",
      "T: no, put red blocks on blue blocks\n",
      "T: no, put red blocks on blue blocks\n"
     ]
    },
    {
     "name": "stdout",
     "output_type": "stream",
     "text": [
      "(forall (?x) (or (not (red ?x)) (exists (?y) (and (blue ?y) (on ?x ?y)))))\n",
      "(forall (?x) (or (not (red ?x)) (exists (?y) (and (blue ?y) (on ?x ?y)))))\n",
      "(forall (?x) (or (not (red ?x)) (exists (?y) (and (blue ?y) (on ?x ?y)))))\n",
      "(forall (?x) (or (not (red ?x)) (exists (?y) (and (blue ?y) (on ?x ?y)))))\n"
     ]
    },
    {
     "name": "stderr",
     "output_type": "stream",
     "text": [
      "T: No, now you cannot put b3 in the tower because you must put red blocks on blue blocks\n",
      "T: No, now you cannot put b3 in the tower because you must put red blocks on blue blocks\n",
      "T: No, now you cannot put b3 in the tower because you must put red blocks on blue blocks\n"
     ]
    },
    {
     "name": "stdout",
     "output_type": "stream",
     "text": [
      "problem46.pddl reward: -22\n",
      "Parsing domain blocks-domain.pddl\n",
      "Parsing problem simplecolours/problem47.pddl\n"
     ]
    },
    {
     "name": "stderr",
     "output_type": "stream",
     "text": [
      "T: No, now you cannot put b3 in the tower because you must put red blocks on blue blocks\n",
      "T: No, now you cannot put b3 in the tower because you must put red blocks on blue blocks\n"
     ]
    },
    {
     "name": "stdout",
     "output_type": "stream",
     "text": [
      "problem47.pddl reward: -20\n",
      "Parsing domain blocks-domain.pddl\n",
      "Parsing problem simplecolours/problem48.pddl\n"
     ]
    },
    {
     "name": "stderr",
     "output_type": "stream",
     "text": [
      "T: no, put red blocks on blue blocks\n",
      "T: no, put red blocks on blue blocks\n"
     ]
    },
    {
     "name": "stdout",
     "output_type": "stream",
     "text": [
      "(forall (?x) (or (not (red ?x)) (exists (?y) (and (blue ?y) (on ?x ?y)))))\n",
      "problem48.pddl reward: -12\n",
      "Parsing domain blocks-domain.pddl\n",
      "Parsing problem simplecolours/problem49.pddl\n",
      "(forall (?x) (or (not (red ?x)) (exists (?y) (and (blue ?y) (on ?x ?y)))))\n",
      "problem49.pddl reward: -12\n",
      "Parsing domain blocks-domain.pddl\n",
      "Parsing problem simplecolours/problem5.pddl\n",
      "problem5.pddl reward: -10\n",
      "Parsing domain blocks-domain.pddl\n",
      "Parsing problem simplecolours/problem50.pddl\n"
     ]
    },
    {
     "name": "stderr",
     "output_type": "stream",
     "text": [
      "T: no, put red blocks on blue blocks\n",
      "T: no, put red blocks on blue blocks\n"
     ]
    },
    {
     "name": "stdout",
     "output_type": "stream",
     "text": [
      "problem50.pddl reward: -10\n",
      "Parsing domain blocks-domain.pddl\n",
      "Parsing problem simplecolours/problem6.pddl\n",
      "(forall (?x) (or (not (red ?x)) (exists (?y) (and (blue ?y) (on ?x ?y)))))\n",
      "(forall (?x) (or (not (red ?x)) (exists (?y) (and (blue ?y) (on ?x ?y)))))\n"
     ]
    },
    {
     "name": "stderr",
     "output_type": "stream",
     "text": [
      "T: No, now you cannot put b0 in the tower because you must put red blocks on blue blocks\n",
      "T: No, now you cannot put b0 in the tower because you must put red blocks on blue blocks\n"
     ]
    },
    {
     "name": "stdout",
     "output_type": "stream",
     "text": [
      "problem6.pddl reward: -14\n",
      "Parsing domain blocks-domain.pddl\n",
      "Parsing problem simplecolours/problem7.pddl\n"
     ]
    },
    {
     "name": "stderr",
     "output_type": "stream",
     "text": [
      "T: No, now you cannot put b0 in the tower because you must put red blocks on blue blocks\n",
      "T: No, now you cannot put b0 in the tower because you must put red blocks on blue blocks\n",
      "T: No, now you cannot put b0 in the tower because you must put red blocks on blue blocks\n",
      "T: No, now you cannot put b0 in the tower because you must put red blocks on blue blocks\n",
      "T: no, put red blocks on blue blocks\n",
      "T: no, put red blocks on blue blocks\n",
      "T: no, put red blocks on blue blocks\n"
     ]
    },
    {
     "name": "stdout",
     "output_type": "stream",
     "text": [
      "problem7.pddl reward: -22\n",
      "Parsing domain blocks-domain.pddl\n",
      "Parsing problem simplecolours/problem8.pddl\n",
      "(forall (?x) (or (not (red ?x)) (exists (?y) (and (blue ?y) (on ?x ?y)))))\n",
      "(forall (?x) (or (not (red ?x)) (exists (?y) (and (blue ?y) (on ?x ?y)))))\n",
      "(forall (?x) (or (not (red ?x)) (exists (?y) (and (blue ?y) (on ?x ?y)))))\n"
     ]
    },
    {
     "name": "stderr",
     "output_type": "stream",
     "text": [
      "T: no, put red blocks on blue blocks\n",
      "T: no, put red blocks on blue blocks\n",
      "T: no, put red blocks on blue blocks\n"
     ]
    },
    {
     "name": "stdout",
     "output_type": "stream",
     "text": [
      "(forall (?x) (or (not (red ?x)) (exists (?y) (and (blue ?y) (on ?x ?y)))))\n",
      "(forall (?x) (or (not (red ?x)) (exists (?y) (and (blue ?y) (on ?x ?y)))))\n",
      "(forall (?x) (or (not (red ?x)) (exists (?y) (and (blue ?y) (on ?x ?y)))))\n"
     ]
    },
    {
     "name": "stderr",
     "output_type": "stream",
     "text": [
      "T: no, put red blocks on blue blocks\n",
      "T: no, put red blocks on blue blocks\n",
      "T: no, put red blocks on blue blocks\n"
     ]
    },
    {
     "name": "stdout",
     "output_type": "stream",
     "text": [
      "(forall (?x) (or (not (red ?x)) (exists (?y) (and (blue ?y) (on ?x ?y)))))\n",
      "(forall (?x) (or (not (red ?x)) (exists (?y) (and (blue ?y) (on ?x ?y)))))\n",
      "(forall (?x) (or (not (red ?x)) (exists (?y) (and (blue ?y) (on ?x ?y)))))\n"
     ]
    },
    {
     "name": "stderr",
     "output_type": "stream",
     "text": [
      "T: no, put red blocks on blue blocks\n",
      "T: no, put red blocks on blue blocks\n",
      "T: no, put red blocks on blue blocks\n"
     ]
    },
    {
     "name": "stdout",
     "output_type": "stream",
     "text": [
      "(forall (?x) (or (not (red ?x)) (exists (?y) (and (blue ?y) (on ?x ?y)))))\n",
      "(forall (?x) (or (not (red ?x)) (exists (?y) (and (blue ?y) (on ?x ?y)))))\n",
      "(forall (?x) (or (not (red ?x)) (exists (?y) (and (blue ?y) (on ?x ?y)))))\n",
      "problem8.pddl reward: -34\n",
      "Parsing domain blocks-domain.pddl\n",
      "Parsing problem simplecolours/problem9.pddl\n",
      "problem9.pddl reward: -10\n"
     ]
    }
   ],
   "source": [
    "add_experiment('simple_random', None)"
   ]
  },
  {
   "cell_type": "code",
   "execution_count": 5,
   "metadata": {
    "scrolled": true
   },
   "outputs": [
    {
     "data": {
      "text/html": [
       "<div>\n",
       "<style scoped>\n",
       "    .dataframe tbody tr th:only-of-type {\n",
       "        vertical-align: middle;\n",
       "    }\n",
       "\n",
       "    .dataframe tbody tr th {\n",
       "        vertical-align: top;\n",
       "    }\n",
       "\n",
       "    .dataframe thead th {\n",
       "        text-align: right;\n",
       "    }\n",
       "</style>\n",
       "<table border=\"1\" class=\"dataframe\">\n",
       "  <thead>\n",
       "    <tr style=\"text-align: right;\">\n",
       "      <th></th>\n",
       "      <th>config_name</th>\n",
       "      <th>experiment_file</th>\n",
       "      <th>neural_config</th>\n",
       "      <th>status</th>\n",
       "    </tr>\n",
       "    <tr>\n",
       "      <th>index</th>\n",
       "      <th></th>\n",
       "      <th></th>\n",
       "      <th></th>\n",
       "      <th></th>\n",
       "    </tr>\n",
       "  </thead>\n",
       "  <tbody>\n",
       "    <tr>\n",
       "      <th>0</th>\n",
       "      <td>None</td>\n",
       "      <td>None</td>\n",
       "      <td>None</td>\n",
       "      <td>None</td>\n",
       "    </tr>\n",
       "    <tr>\n",
       "      <th>1</th>\n",
       "      <td>simple_neural</td>\n",
       "      <td>results/simplecolours/agents.NeuralCorrectingA...</td>\n",
       "      <td>DEFAULT</td>\n",
       "      <td>done</td>\n",
       "    </tr>\n",
       "    <tr>\n",
       "      <th>2</th>\n",
       "      <td>neural_onerule5000</td>\n",
       "      <td>results/onerule5000/agents.NeuralCorrectingAge...</td>\n",
       "      <td>adam_lr:0.1</td>\n",
       "      <td>done</td>\n",
       "    </tr>\n",
       "    <tr>\n",
       "      <th>3</th>\n",
       "      <td>neural_onerule5000</td>\n",
       "      <td>results/onerule5000/agents.NeuralCorrectingAge...</td>\n",
       "      <td>adam_lr:1</td>\n",
       "      <td>done</td>\n",
       "    </tr>\n",
       "    <tr>\n",
       "      <th>4</th>\n",
       "      <td>neural_onerule5000</td>\n",
       "      <td>results/onerule5000/agents.NeuralCorrectingAge...</td>\n",
       "      <td>nesterov_lr:0.1mom:0</td>\n",
       "      <td>done</td>\n",
       "    </tr>\n",
       "    <tr>\n",
       "      <th>5</th>\n",
       "      <td>neural_onerule5000</td>\n",
       "      <td>results/onerule5000/agents.NeuralCorrectingAge...</td>\n",
       "      <td>nesterov_lr:0.1mom:0.4</td>\n",
       "      <td>done</td>\n",
       "    </tr>\n",
       "    <tr>\n",
       "      <th>6</th>\n",
       "      <td>tworules</td>\n",
       "      <td>results/tworules/agents.CorrectingAgent/0.7/ex...</td>\n",
       "      <td>None</td>\n",
       "      <td>done</td>\n",
       "    </tr>\n",
       "    <tr>\n",
       "      <th>7</th>\n",
       "      <td>tworules_no_update</td>\n",
       "      <td>results/tworules/agents.CorrectingAgent/0.7/ex...</td>\n",
       "      <td>None</td>\n",
       "      <td>done</td>\n",
       "    </tr>\n",
       "    <tr>\n",
       "      <th>8</th>\n",
       "      <td>tworules</td>\n",
       "      <td>results/tworules/agents.CorrectingAgent/0.7/ex...</td>\n",
       "      <td>None</td>\n",
       "      <td>done</td>\n",
       "    </tr>\n",
       "    <tr>\n",
       "      <th>9</th>\n",
       "      <td>tworules_no_update</td>\n",
       "      <td>results/tworules/agents.CorrectingAgent/0.7/ex...</td>\n",
       "      <td>None</td>\n",
       "      <td>done</td>\n",
       "    </tr>\n",
       "    <tr>\n",
       "      <th>10</th>\n",
       "      <td>tworules</td>\n",
       "      <td>results/tworules/agents.CorrectingAgent/0.7/ex...</td>\n",
       "      <td>None</td>\n",
       "      <td>done</td>\n",
       "    </tr>\n",
       "    <tr>\n",
       "      <th>11</th>\n",
       "      <td>onerule</td>\n",
       "      <td>results/onerule/agents.CorrectingAgent/0.7/exp...</td>\n",
       "      <td>None</td>\n",
       "      <td>done</td>\n",
       "    </tr>\n",
       "    <tr>\n",
       "      <th>12</th>\n",
       "      <td>onerule_update_negative</td>\n",
       "      <td>results/onerule/agents.CorrectingAgent/0.7/exp...</td>\n",
       "      <td>None</td>\n",
       "      <td>done</td>\n",
       "    </tr>\n",
       "    <tr>\n",
       "      <th>13</th>\n",
       "      <td>tworules</td>\n",
       "      <td>results/tworules/agents.CorrectingAgent/0.7/ex...</td>\n",
       "      <td>None</td>\n",
       "      <td>done</td>\n",
       "    </tr>\n",
       "    <tr>\n",
       "      <th>14</th>\n",
       "      <td>tworules_update_negative</td>\n",
       "      <td>None</td>\n",
       "      <td>None</td>\n",
       "      <td>running</td>\n",
       "    </tr>\n",
       "    <tr>\n",
       "      <th>15</th>\n",
       "      <td>tworules_perfect_colour</td>\n",
       "      <td>results/tworules/agents.PerfectColoursAgent/0....</td>\n",
       "      <td>None</td>\n",
       "      <td>done</td>\n",
       "    </tr>\n",
       "    <tr>\n",
       "      <th>16</th>\n",
       "      <td>tworules_perfect_colour_vis</td>\n",
       "      <td>results/tworules/agents.PerfectColoursAgent/0....</td>\n",
       "      <td>None</td>\n",
       "      <td>done</td>\n",
       "    </tr>\n",
       "    <tr>\n",
       "      <th>17</th>\n",
       "      <td>tworules_perfect_colour</td>\n",
       "      <td>None</td>\n",
       "      <td>None</td>\n",
       "      <td>running</td>\n",
       "    </tr>\n",
       "    <tr>\n",
       "      <th>18</th>\n",
       "      <td>tworules</td>\n",
       "      <td>results/tworules/agents.CorrectingAgent/0.7/ex...</td>\n",
       "      <td>None</td>\n",
       "      <td>done</td>\n",
       "    </tr>\n",
       "    <tr>\n",
       "      <th>19</th>\n",
       "      <td>tworules_update_negative</td>\n",
       "      <td>None</td>\n",
       "      <td>None</td>\n",
       "      <td>running</td>\n",
       "    </tr>\n",
       "    <tr>\n",
       "      <th>20</th>\n",
       "      <td>tworules</td>\n",
       "      <td>None</td>\n",
       "      <td>None</td>\n",
       "      <td>running</td>\n",
       "    </tr>\n",
       "    <tr>\n",
       "      <th>21</th>\n",
       "      <td>tworules</td>\n",
       "      <td>results/tworules/agents.CorrectingAgent/0.7/ex...</td>\n",
       "      <td>None</td>\n",
       "      <td>done</td>\n",
       "    </tr>\n",
       "    <tr>\n",
       "      <th>22</th>\n",
       "      <td>tworules_update_negative</td>\n",
       "      <td>results/tworules/agents.CorrectingAgent/0.7/ex...</td>\n",
       "      <td>None</td>\n",
       "      <td>done</td>\n",
       "    </tr>\n",
       "    <tr>\n",
       "      <th>23</th>\n",
       "      <td>tworules_update_once</td>\n",
       "      <td>None</td>\n",
       "      <td>None</td>\n",
       "      <td>running</td>\n",
       "    </tr>\n",
       "    <tr>\n",
       "      <th>24</th>\n",
       "      <td>tworules_update_once</td>\n",
       "      <td>results/tworules/agents.CorrectingAgent/0.7/ex...</td>\n",
       "      <td>None</td>\n",
       "      <td>done</td>\n",
       "    </tr>\n",
       "    <tr>\n",
       "      <th>25</th>\n",
       "      <td>tworules_update_once_with_negative</td>\n",
       "      <td>results/tworules/agents.CorrectingAgent/0.7/ex...</td>\n",
       "      <td>None</td>\n",
       "      <td>done</td>\n",
       "    </tr>\n",
       "    <tr>\n",
       "      <th>26</th>\n",
       "      <td>tworules</td>\n",
       "      <td>None</td>\n",
       "      <td>None</td>\n",
       "      <td>running</td>\n",
       "    </tr>\n",
       "    <tr>\n",
       "      <th>27</th>\n",
       "      <td>tworules</td>\n",
       "      <td>None</td>\n",
       "      <td>None</td>\n",
       "      <td>running</td>\n",
       "    </tr>\n",
       "    <tr>\n",
       "      <th>28</th>\n",
       "      <td>tworules</td>\n",
       "      <td>None</td>\n",
       "      <td>None</td>\n",
       "      <td>running</td>\n",
       "    </tr>\n",
       "    <tr>\n",
       "      <th>29</th>\n",
       "      <td>tworules</td>\n",
       "      <td>None</td>\n",
       "      <td>None</td>\n",
       "      <td>running</td>\n",
       "    </tr>\n",
       "    <tr>\n",
       "      <th>30</th>\n",
       "      <td>tworules</td>\n",
       "      <td>None</td>\n",
       "      <td>None</td>\n",
       "      <td>running</td>\n",
       "    </tr>\n",
       "    <tr>\n",
       "      <th>31</th>\n",
       "      <td>tworules_update_once</td>\n",
       "      <td>None</td>\n",
       "      <td>None</td>\n",
       "      <td>running</td>\n",
       "    </tr>\n",
       "    <tr>\n",
       "      <th>32</th>\n",
       "      <td>tworules</td>\n",
       "      <td>None</td>\n",
       "      <td>None</td>\n",
       "      <td>running</td>\n",
       "    </tr>\n",
       "    <tr>\n",
       "      <th>33</th>\n",
       "      <td>tworules</td>\n",
       "      <td>None</td>\n",
       "      <td>None</td>\n",
       "      <td>running</td>\n",
       "    </tr>\n",
       "    <tr>\n",
       "      <th>34</th>\n",
       "      <td>tworules</td>\n",
       "      <td>None</td>\n",
       "      <td>None</td>\n",
       "      <td>running</td>\n",
       "    </tr>\n",
       "    <tr>\n",
       "      <th>35</th>\n",
       "      <td>tworules</td>\n",
       "      <td>results/tworules/agents.CorrectingAgent/0.7/ex...</td>\n",
       "      <td>None</td>\n",
       "      <td>done</td>\n",
       "    </tr>\n",
       "    <tr>\n",
       "      <th>36</th>\n",
       "      <td>tworules_update_negative</td>\n",
       "      <td>None</td>\n",
       "      <td>None</td>\n",
       "      <td>running</td>\n",
       "    </tr>\n",
       "    <tr>\n",
       "      <th>37</th>\n",
       "      <td>tworules</td>\n",
       "      <td>None</td>\n",
       "      <td>None</td>\n",
       "      <td>running</td>\n",
       "    </tr>\n",
       "    <tr>\n",
       "      <th>38</th>\n",
       "      <td>tworules</td>\n",
       "      <td>results/tworules/agents.CorrectingAgent/0.7/ex...</td>\n",
       "      <td>None</td>\n",
       "      <td>done</td>\n",
       "    </tr>\n",
       "    <tr>\n",
       "      <th>39</th>\n",
       "      <td>tworules_update_negative</td>\n",
       "      <td>results/tworules/agents.CorrectingAgent/0.7/ex...</td>\n",
       "      <td>None</td>\n",
       "      <td>done</td>\n",
       "    </tr>\n",
       "    <tr>\n",
       "      <th>40</th>\n",
       "      <td>tworules_update_once</td>\n",
       "      <td>results/tworules/agents.CorrectingAgent/0.7/ex...</td>\n",
       "      <td>None</td>\n",
       "      <td>done</td>\n",
       "    </tr>\n",
       "    <tr>\n",
       "      <th>41</th>\n",
       "      <td>tworules_update_once_with_negative</td>\n",
       "      <td>results/tworules/agents.CorrectingAgent/0.7/ex...</td>\n",
       "      <td>None</td>\n",
       "      <td>done</td>\n",
       "    </tr>\n",
       "    <tr>\n",
       "      <th>42</th>\n",
       "      <td>simple_kde</td>\n",
       "      <td>None</td>\n",
       "      <td>None</td>\n",
       "      <td>running</td>\n",
       "    </tr>\n",
       "    <tr>\n",
       "      <th>43</th>\n",
       "      <td>simple_kde</td>\n",
       "      <td>None</td>\n",
       "      <td>None</td>\n",
       "      <td>running</td>\n",
       "    </tr>\n",
       "    <tr>\n",
       "      <th>44</th>\n",
       "      <td>simple_kde</td>\n",
       "      <td>None</td>\n",
       "      <td>None</td>\n",
       "      <td>running</td>\n",
       "    </tr>\n",
       "    <tr>\n",
       "      <th>45</th>\n",
       "      <td>simple_kde</td>\n",
       "      <td>None</td>\n",
       "      <td>None</td>\n",
       "      <td>running</td>\n",
       "    </tr>\n",
       "    <tr>\n",
       "      <th>46</th>\n",
       "      <td>simple_kde</td>\n",
       "      <td>None</td>\n",
       "      <td>None</td>\n",
       "      <td>running</td>\n",
       "    </tr>\n",
       "    <tr>\n",
       "      <th>47</th>\n",
       "      <td>simple_kde</td>\n",
       "      <td>None</td>\n",
       "      <td>None</td>\n",
       "      <td>running</td>\n",
       "    </tr>\n",
       "    <tr>\n",
       "      <th>48</th>\n",
       "      <td>simple_kde</td>\n",
       "      <td>None</td>\n",
       "      <td>None</td>\n",
       "      <td>running</td>\n",
       "    </tr>\n",
       "    <tr>\n",
       "      <th>49</th>\n",
       "      <td>simple_kde</td>\n",
       "      <td>None</td>\n",
       "      <td>None</td>\n",
       "      <td>running</td>\n",
       "    </tr>\n",
       "    <tr>\n",
       "      <th>50</th>\n",
       "      <td>simple_kde</td>\n",
       "      <td>None</td>\n",
       "      <td>None</td>\n",
       "      <td>running</td>\n",
       "    </tr>\n",
       "    <tr>\n",
       "      <th>51</th>\n",
       "      <td>simple_kde</td>\n",
       "      <td>None</td>\n",
       "      <td>None</td>\n",
       "      <td>running</td>\n",
       "    </tr>\n",
       "    <tr>\n",
       "      <th>52</th>\n",
       "      <td>simple_kde</td>\n",
       "      <td>None</td>\n",
       "      <td>None</td>\n",
       "      <td>running</td>\n",
       "    </tr>\n",
       "    <tr>\n",
       "      <th>53</th>\n",
       "      <td>simple_kde</td>\n",
       "      <td>results/simplecolours/agents.CorrectingAgent/0...</td>\n",
       "      <td>None</td>\n",
       "      <td>done</td>\n",
       "    </tr>\n",
       "  </tbody>\n",
       "</table>\n",
       "</div>"
      ],
      "text/plain": [
       "                              config_name  \\\n",
       "index                                       \n",
       "0                                    None   \n",
       "1                           simple_neural   \n",
       "2                      neural_onerule5000   \n",
       "3                      neural_onerule5000   \n",
       "4                      neural_onerule5000   \n",
       "5                      neural_onerule5000   \n",
       "6                                tworules   \n",
       "7                      tworules_no_update   \n",
       "8                                tworules   \n",
       "9                      tworules_no_update   \n",
       "10                               tworules   \n",
       "11                                onerule   \n",
       "12                onerule_update_negative   \n",
       "13                               tworules   \n",
       "14               tworules_update_negative   \n",
       "15                tworules_perfect_colour   \n",
       "16            tworules_perfect_colour_vis   \n",
       "17                tworules_perfect_colour   \n",
       "18                               tworules   \n",
       "19               tworules_update_negative   \n",
       "20                               tworules   \n",
       "21                               tworules   \n",
       "22               tworules_update_negative   \n",
       "23                   tworules_update_once   \n",
       "24                   tworules_update_once   \n",
       "25     tworules_update_once_with_negative   \n",
       "26                               tworules   \n",
       "27                               tworules   \n",
       "28                               tworules   \n",
       "29                               tworules   \n",
       "30                               tworules   \n",
       "31                   tworules_update_once   \n",
       "32                               tworules   \n",
       "33                               tworules   \n",
       "34                               tworules   \n",
       "35                               tworules   \n",
       "36               tworules_update_negative   \n",
       "37                               tworules   \n",
       "38                               tworules   \n",
       "39               tworules_update_negative   \n",
       "40                   tworules_update_once   \n",
       "41     tworules_update_once_with_negative   \n",
       "42                             simple_kde   \n",
       "43                             simple_kde   \n",
       "44                             simple_kde   \n",
       "45                             simple_kde   \n",
       "46                             simple_kde   \n",
       "47                             simple_kde   \n",
       "48                             simple_kde   \n",
       "49                             simple_kde   \n",
       "50                             simple_kde   \n",
       "51                             simple_kde   \n",
       "52                             simple_kde   \n",
       "53                             simple_kde   \n",
       "\n",
       "                                         experiment_file  \\\n",
       "index                                                      \n",
       "0                                                   None   \n",
       "1      results/simplecolours/agents.NeuralCorrectingA...   \n",
       "2      results/onerule5000/agents.NeuralCorrectingAge...   \n",
       "3      results/onerule5000/agents.NeuralCorrectingAge...   \n",
       "4      results/onerule5000/agents.NeuralCorrectingAge...   \n",
       "5      results/onerule5000/agents.NeuralCorrectingAge...   \n",
       "6      results/tworules/agents.CorrectingAgent/0.7/ex...   \n",
       "7      results/tworules/agents.CorrectingAgent/0.7/ex...   \n",
       "8      results/tworules/agents.CorrectingAgent/0.7/ex...   \n",
       "9      results/tworules/agents.CorrectingAgent/0.7/ex...   \n",
       "10     results/tworules/agents.CorrectingAgent/0.7/ex...   \n",
       "11     results/onerule/agents.CorrectingAgent/0.7/exp...   \n",
       "12     results/onerule/agents.CorrectingAgent/0.7/exp...   \n",
       "13     results/tworules/agents.CorrectingAgent/0.7/ex...   \n",
       "14                                                  None   \n",
       "15     results/tworules/agents.PerfectColoursAgent/0....   \n",
       "16     results/tworules/agents.PerfectColoursAgent/0....   \n",
       "17                                                  None   \n",
       "18     results/tworules/agents.CorrectingAgent/0.7/ex...   \n",
       "19                                                  None   \n",
       "20                                                  None   \n",
       "21     results/tworules/agents.CorrectingAgent/0.7/ex...   \n",
       "22     results/tworules/agents.CorrectingAgent/0.7/ex...   \n",
       "23                                                  None   \n",
       "24     results/tworules/agents.CorrectingAgent/0.7/ex...   \n",
       "25     results/tworules/agents.CorrectingAgent/0.7/ex...   \n",
       "26                                                  None   \n",
       "27                                                  None   \n",
       "28                                                  None   \n",
       "29                                                  None   \n",
       "30                                                  None   \n",
       "31                                                  None   \n",
       "32                                                  None   \n",
       "33                                                  None   \n",
       "34                                                  None   \n",
       "35     results/tworules/agents.CorrectingAgent/0.7/ex...   \n",
       "36                                                  None   \n",
       "37                                                  None   \n",
       "38     results/tworules/agents.CorrectingAgent/0.7/ex...   \n",
       "39     results/tworules/agents.CorrectingAgent/0.7/ex...   \n",
       "40     results/tworules/agents.CorrectingAgent/0.7/ex...   \n",
       "41     results/tworules/agents.CorrectingAgent/0.7/ex...   \n",
       "42                                                  None   \n",
       "43                                                  None   \n",
       "44                                                  None   \n",
       "45                                                  None   \n",
       "46                                                  None   \n",
       "47                                                  None   \n",
       "48                                                  None   \n",
       "49                                                  None   \n",
       "50                                                  None   \n",
       "51                                                  None   \n",
       "52                                                  None   \n",
       "53     results/simplecolours/agents.CorrectingAgent/0...   \n",
       "\n",
       "                neural_config   status  \n",
       "index                                   \n",
       "0                        None     None  \n",
       "1                     DEFAULT     done  \n",
       "2                 adam_lr:0.1     done  \n",
       "3                   adam_lr:1     done  \n",
       "4        nesterov_lr:0.1mom:0     done  \n",
       "5      nesterov_lr:0.1mom:0.4     done  \n",
       "6                        None     done  \n",
       "7                        None     done  \n",
       "8                        None     done  \n",
       "9                        None     done  \n",
       "10                       None     done  \n",
       "11                       None     done  \n",
       "12                       None     done  \n",
       "13                       None     done  \n",
       "14                       None  running  \n",
       "15                       None     done  \n",
       "16                       None     done  \n",
       "17                       None  running  \n",
       "18                       None     done  \n",
       "19                       None  running  \n",
       "20                       None  running  \n",
       "21                       None     done  \n",
       "22                       None     done  \n",
       "23                       None  running  \n",
       "24                       None     done  \n",
       "25                       None     done  \n",
       "26                       None  running  \n",
       "27                       None  running  \n",
       "28                       None  running  \n",
       "29                       None  running  \n",
       "30                       None  running  \n",
       "31                       None  running  \n",
       "32                       None  running  \n",
       "33                       None  running  \n",
       "34                       None  running  \n",
       "35                       None     done  \n",
       "36                       None  running  \n",
       "37                       None  running  \n",
       "38                       None     done  \n",
       "39                       None     done  \n",
       "40                       None     done  \n",
       "41                       None     done  \n",
       "42                       None  running  \n",
       "43                       None  running  \n",
       "44                       None  running  \n",
       "45                       None  running  \n",
       "46                       None  running  \n",
       "47                       None  running  \n",
       "48                       None  running  \n",
       "49                       None  running  \n",
       "50                       None  running  \n",
       "51                       None  running  \n",
       "52                       None  running  \n",
       "53                       None     done  "
      ]
     },
     "execution_count": 5,
     "metadata": {},
     "output_type": "execute_result"
    }
   ],
   "source": [
    "read_experiments()"
   ]
  },
  {
   "cell_type": "code",
   "execution_count": 3,
   "metadata": {},
   "outputs": [
    {
     "name": "stdout",
     "output_type": "stream",
     "text": [
      "bw 0.2\n",
      "bw 0.25\n",
      "bw 0.2\n",
      "bw 0.25\n"
     ]
    }
   ],
   "source": [
    "exp = load_experiments([1, 53], 'simple')"
   ]
  },
  {
   "cell_type": "code",
   "execution_count": 4,
   "metadata": {},
   "outputs": [
    {
     "data": {
      "image/png": "[encoded data removed]",
      "text/plain": [
       "<Figure size 432x288 with 1 Axes>"
      ]
     },
     "metadata": {},
     "output_type": "display_data"
    }
   ],
   "source": [
    "exp.plot()"
   ]
  },
  {
   "cell_type": "code",
   "execution_count": 5,
   "metadata": {},
   "outputs": [
    {
     "data": {
      "text/plain": [
       "{'agents.CorrectingAgent_0': <evaluation.ResultsFile at 0x7fd55b201b00>,\n",
       " 'agents.NeuralCorrectingAgent_0': <evaluation.ResultsFile at 0x7fd55b201c88>,\n",
       " 'agents.RandomAgent_0': <evaluation.ResultsFile at 0x7fd55b256550>}"
      ]
     },
     "execution_count": 5,
     "metadata": {},
     "output_type": "execute_result"
    }
   ],
   "source": [
    "exp.results_files"
   ]
  },
  {
   "cell_type": "code",
   "execution_count": null,
   "metadata": {},
   "outputs": [],
   "source": []
  }
 ],
 "metadata": {
  "kernelspec": {
   "display_name": "Python 3",
   "language": "python",
   "name": "python3"
  },
  "language_info": {
   "codemirror_mode": {
    "name": "ipython",
    "version": 3
   },
   "file_extension": ".py",
   "mimetype": "text/x-python",
   "name": "python",
   "nbconvert_exporter": "python",
   "pygments_lexer": "ipython3",
   "version": "3.6.3"
  }
 },
 "nbformat": 4,
 "nbformat_minor": 2
}

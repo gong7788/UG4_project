{
 "cells": [
  {
   "cell_type": "code",
   "execution_count": 1,
   "metadata": {},
   "outputs": [],
   "source": [
    "from experiment import add_experiment\n",
    "from experiment_tracking import read_experiments, get_results_file, get_baseline, load_experiments\n",
    "from evaluation import test_colour_model, colour_probs, colour_dict, name_to_rgb\n",
    "from util import add_config_option, create_experiment, create_kde_experiment\n",
    "\n",
    "%matplotlib inline"
   ]
  },
  {
   "cell_type": "code",
   "execution_count": 3,
   "metadata": {},
   "outputs": [
    {
     "name": "stdout",
     "output_type": "stream",
     "text": [
      "Parsing domain blocks-domain.pddl\n",
      "Parsing problem onerule/problem1.pddl\n",
      "Parsing domain blocks-domain.pddl\n",
      "Parsing problem onerule/problem1.pddl\n"
     ]
    },
    {
     "name": "stderr",
     "output_type": "stream",
     "text": [
      "T: No, now you cannot put b1 in the tower because you must put red blocks on blue blocks\n",
      "R: Is the top object red?\n",
      "T: no\n",
      "T: No, now you cannot put b1 in the tower because you must put red blocks on blue blocks\n",
      "T: No, now you cannot put b1 in the tower because you must put red blocks on blue blocks\n",
      "T: no, put red blocks on blue blocks\n"
     ]
    },
    {
     "name": "stdout",
     "output_type": "stream",
     "text": [
      "problem1.pddl reward: -16\n",
      "Parsing domain blocks-domain.pddl\n",
      "Parsing problem onerule/problem2.pddl\n",
      "(forall (?x) (or (not (red ?x)) (exists (?y) (and (blue ?y) (on ?x ?y)))))\n"
     ]
    },
    {
     "name": "stderr",
     "output_type": "stream",
     "text": [
      "T: no, put red blocks on blue blocks\n"
     ]
    },
    {
     "name": "stdout",
     "output_type": "stream",
     "text": [
      "(forall (?x) (or (not (red ?x)) (exists (?y) (and (blue ?y) (on ?x ?y)))))\n",
      "problem2.pddl reward: -14\n",
      "Parsing domain blocks-domain.pddl\n",
      "Parsing problem onerule/problem3.pddl\n"
     ]
    },
    {
     "name": "stderr",
     "output_type": "stream",
     "text": [
      "T: no, put red blocks on blue blocks\n"
     ]
    },
    {
     "name": "stdout",
     "output_type": "stream",
     "text": [
      "(forall (?x) (or (not (red ?x)) (exists (?y) (and (blue ?y) (on ?x ?y)))))\n"
     ]
    },
    {
     "name": "stderr",
     "output_type": "stream",
     "text": [
      "T: no, put red blocks on blue blocks\n"
     ]
    },
    {
     "name": "stdout",
     "output_type": "stream",
     "text": [
      "(forall (?x) (or (not (red ?x)) (exists (?y) (and (blue ?y) (on ?x ?y)))))\n"
     ]
    },
    {
     "name": "stderr",
     "output_type": "stream",
     "text": [
      "T: No, now you cannot put b0 in the tower because you must put red blocks on blue blocks\n"
     ]
    },
    {
     "name": "stdout",
     "output_type": "stream",
     "text": [
      "problem3.pddl reward: -14\n",
      "Parsing domain blocks-domain.pddl\n",
      "Parsing problem onerule/problem4.pddl\n"
     ]
    },
    {
     "name": "stderr",
     "output_type": "stream",
     "text": [
      "T: No, now you cannot put b0 in the tower because you must put red blocks on blue blocks\n",
      "T: No, now you cannot put b0 in the tower because you must put red blocks on blue blocks\n",
      "T: No, now you cannot put b0 in the tower because you must put red blocks on blue blocks\n",
      "T: No, now you cannot put b0 in the tower because you must put red blocks on blue blocks\n",
      "T: No, now you cannot put b0 in the tower because you must put red blocks on blue blocks\n",
      "T: No, now you cannot put b0 in the tower because you must put red blocks on blue blocks\n",
      "T: No, now you cannot put b0 in the tower because you must put red blocks on blue blocks\n",
      "T: No, now you cannot put b0 in the tower because you must put red blocks on blue blocks\n",
      "T: No, now you cannot put b0 in the tower because you must put red blocks on blue blocks\n"
     ]
    },
    {
     "name": "stdout",
     "output_type": "stream",
     "text": [
      "problem4.pddl reward: -30\n",
      "Parsing domain blocks-domain.pddl\n",
      "Parsing problem onerule/problem5.pddl\n"
     ]
    },
    {
     "name": "stderr",
     "output_type": "stream",
     "text": [
      "T: no, put red blocks on blue blocks\n"
     ]
    },
    {
     "name": "stdout",
     "output_type": "stream",
     "text": [
      "(forall (?x) (or (not (red ?x)) (exists (?y) (and (blue ?y) (on ?x ?y)))))\n"
     ]
    },
    {
     "name": "stderr",
     "output_type": "stream",
     "text": [
      "T: No, now you cannot put b0 in the tower because you must put red blocks on blue blocks\n",
      "T: No, now you cannot put b0 in the tower because you must put red blocks on blue blocks\n",
      "T: No, now you cannot put b0 in the tower because you must put red blocks on blue blocks\n"
     ]
    },
    {
     "name": "stdout",
     "output_type": "stream",
     "text": [
      "problem5.pddl reward: -18\n",
      "Parsing domain blocks-domain.pddl\n",
      "Parsing problem onerule/problem6.pddl\n"
     ]
    },
    {
     "name": "stderr",
     "output_type": "stream",
     "text": [
      "T: No, now you cannot put b0 in the tower because you must put red blocks on blue blocks\n"
     ]
    },
    {
     "name": "stdout",
     "output_type": "stream",
     "text": [
      "problem6.pddl reward: -12\n",
      "Parsing domain blocks-domain.pddl\n",
      "Parsing problem onerule/problem7.pddl\n"
     ]
    },
    {
     "name": "stderr",
     "output_type": "stream",
     "text": [
      "T: No, now you cannot put b9 in the tower because you must put red blocks on blue blocks\n"
     ]
    },
    {
     "name": "stdout",
     "output_type": "stream",
     "text": [
      "problem7.pddl reward: -12\n",
      "Parsing domain blocks-domain.pddl\n",
      "Parsing problem onerule/problem8.pddl\n"
     ]
    },
    {
     "name": "stderr",
     "output_type": "stream",
     "text": [
      "T: no, put red blocks on blue blocks\n"
     ]
    },
    {
     "name": "stdout",
     "output_type": "stream",
     "text": [
      "(forall (?x) (or (not (red ?x)) (exists (?y) (and (blue ?y) (on ?x ?y)))))\n"
     ]
    },
    {
     "name": "stderr",
     "output_type": "stream",
     "text": [
      "T: no, put red blocks on blue blocks\n"
     ]
    },
    {
     "name": "stdout",
     "output_type": "stream",
     "text": [
      "(forall (?x) (or (not (red ?x)) (exists (?y) (and (blue ?y) (on ?x ?y)))))\n"
     ]
    },
    {
     "name": "stderr",
     "output_type": "stream",
     "text": [
      "T: no, put red blocks on blue blocks\n"
     ]
    },
    {
     "name": "stdout",
     "output_type": "stream",
     "text": [
      "(forall (?x) (or (not (red ?x)) (exists (?y) (and (blue ?y) (on ?x ?y)))))\n",
      "problem8.pddl reward: -16\n",
      "Parsing domain blocks-domain.pddl\n",
      "Parsing problem onerule/problem9.pddl\n"
     ]
    },
    {
     "name": "stderr",
     "output_type": "stream",
     "text": [
      "T: no, put red blocks on blue blocks\n"
     ]
    },
    {
     "name": "stdout",
     "output_type": "stream",
     "text": [
      "(forall (?x) (or (not (red ?x)) (exists (?y) (and (blue ?y) (on ?x ?y)))))\n"
     ]
    },
    {
     "name": "stderr",
     "output_type": "stream",
     "text": [
      "T: no, put red blocks on blue blocks\n"
     ]
    },
    {
     "name": "stdout",
     "output_type": "stream",
     "text": [
      "(forall (?x) (or (not (red ?x)) (exists (?y) (and (blue ?y) (on ?x ?y)))))\n"
     ]
    },
    {
     "name": "stderr",
     "output_type": "stream",
     "text": [
      "T: no, put red blocks on blue blocks\n"
     ]
    },
    {
     "name": "stdout",
     "output_type": "stream",
     "text": [
      "(forall (?x) (or (not (red ?x)) (exists (?y) (and (blue ?y) (on ?x ?y)))))\n"
     ]
    },
    {
     "name": "stderr",
     "output_type": "stream",
     "text": [
      "T: no, put red blocks on blue blocks\n"
     ]
    },
    {
     "name": "stdout",
     "output_type": "stream",
     "text": [
      "(forall (?x) (or (not (red ?x)) (exists (?y) (and (blue ?y) (on ?x ?y)))))\n"
     ]
    },
    {
     "name": "stderr",
     "output_type": "stream",
     "text": [
      "T: no, put red blocks on blue blocks\n"
     ]
    },
    {
     "name": "stdout",
     "output_type": "stream",
     "text": [
      "(forall (?x) (or (not (red ?x)) (exists (?y) (and (blue ?y) (on ?x ?y)))))\n",
      "problem9.pddl reward: -20\n",
      "Parsing domain blocks-domain.pddl\n",
      "Parsing problem onerule/problem10.pddl\n"
     ]
    },
    {
     "name": "stderr",
     "output_type": "stream",
     "text": [
      "T: no, put red blocks on blue blocks\n"
     ]
    },
    {
     "name": "stdout",
     "output_type": "stream",
     "text": [
      "(forall (?x) (or (not (red ?x)) (exists (?y) (and (blue ?y) (on ?x ?y)))))\n"
     ]
    },
    {
     "name": "stderr",
     "output_type": "stream",
     "text": [
      "R: Is the top object red?\n",
      "T: yes\n"
     ]
    },
    {
     "name": "stdout",
     "output_type": "stream",
     "text": [
      "problem10.pddl reward: -12\n",
      "Parsing domain blocks-domain.pddl\n",
      "Parsing problem onerule/problem11.pddl\n"
     ]
    },
    {
     "name": "stderr",
     "output_type": "stream",
     "text": [
      "T: no, put red blocks on blue blocks\n"
     ]
    },
    {
     "name": "stdout",
     "output_type": "stream",
     "text": [
      "(forall (?x) (or (not (red ?x)) (exists (?y) (and (blue ?y) (on ?x ?y)))))\n"
     ]
    },
    {
     "name": "stderr",
     "output_type": "stream",
     "text": [
      "T: no, put red blocks on blue blocks\n"
     ]
    },
    {
     "name": "stdout",
     "output_type": "stream",
     "text": [
      "(forall (?x) (or (not (red ?x)) (exists (?y) (and (blue ?y) (on ?x ?y)))))\n"
     ]
    },
    {
     "name": "stderr",
     "output_type": "stream",
     "text": [
      "T: no, put red blocks on blue blocks\n"
     ]
    },
    {
     "name": "stdout",
     "output_type": "stream",
     "text": [
      "(forall (?x) (or (not (red ?x)) (exists (?y) (and (blue ?y) (on ?x ?y)))))\n"
     ]
    },
    {
     "name": "stderr",
     "output_type": "stream",
     "text": [
      "R: Is the top object red?\n",
      "T: yes\n"
     ]
    },
    {
     "name": "stdout",
     "output_type": "stream",
     "text": [
      "problem11.pddl reward: -16\n",
      "Parsing domain blocks-domain.pddl\n",
      "Parsing problem onerule/problem12.pddl\n"
     ]
    },
    {
     "name": "stderr",
     "output_type": "stream",
     "text": [
      "T: No, now you cannot put b2 in the tower because you must put red blocks on blue blocks\n"
     ]
    },
    {
     "name": "stdout",
     "output_type": "stream",
     "text": [
      "problem12.pddl reward: -12\n",
      "Parsing domain blocks-domain.pddl\n",
      "Parsing problem onerule/problem13.pddl\n"
     ]
    },
    {
     "name": "stderr",
     "output_type": "stream",
     "text": [
      "T: no, put red blocks on blue blocks\n"
     ]
    },
    {
     "name": "stdout",
     "output_type": "stream",
     "text": [
      "(forall (?x) (or (not (red ?x)) (exists (?y) (and (blue ?y) (on ?x ?y)))))\n",
      "problem13.pddl reward: -12\n",
      "Parsing domain blocks-domain.pddl\n",
      "Parsing problem onerule/problem14.pddl\n"
     ]
    },
    {
     "name": "stderr",
     "output_type": "stream",
     "text": [
      "T: no, put red blocks on blue blocks\n"
     ]
    },
    {
     "name": "stdout",
     "output_type": "stream",
     "text": [
      "(forall (?x) (or (not (red ?x)) (exists (?y) (and (blue ?y) (on ?x ?y)))))\n"
     ]
    },
    {
     "name": "stderr",
     "output_type": "stream",
     "text": [
      "T: no, put red blocks on blue blocks\n"
     ]
    },
    {
     "name": "stdout",
     "output_type": "stream",
     "text": [
      "(forall (?x) (or (not (red ?x)) (exists (?y) (and (blue ?y) (on ?x ?y)))))\n",
      "problem14.pddl reward: -14\n",
      "Parsing domain blocks-domain.pddl\n",
      "Parsing problem onerule/problem15.pddl\n",
      "problem15.pddl reward: -10\n",
      "Parsing domain blocks-domain.pddl\n",
      "Parsing problem onerule/problem16.pddl\n"
     ]
    },
    {
     "name": "stderr",
     "output_type": "stream",
     "text": [
      "T: No, now you cannot put b2 in the tower because you must put red blocks on blue blocks\n",
      "T: No, now you cannot put b2 in the tower because you must put red blocks on blue blocks\n",
      "T: No, now you cannot put b2 in the tower because you must put red blocks on blue blocks\n",
      "T: No, now you cannot put b2 in the tower because you must put red blocks on blue blocks\n",
      "T: No, now you cannot put b2 in the tower because you must put red blocks on blue blocks\n",
      "T: No, now you cannot put b2 in the tower because you must put red blocks on blue blocks\n"
     ]
    },
    {
     "name": "stdout",
     "output_type": "stream",
     "text": [
      "problem16.pddl reward: -22\n",
      "Parsing domain blocks-domain.pddl\n",
      "Parsing problem onerule/problem17.pddl\n"
     ]
    },
    {
     "name": "stderr",
     "output_type": "stream",
     "text": [
      "T: no, put red blocks on blue blocks\n"
     ]
    },
    {
     "name": "stdout",
     "output_type": "stream",
     "text": [
      "(forall (?x) (or (not (red ?x)) (exists (?y) (and (blue ?y) (on ?x ?y)))))\n"
     ]
    },
    {
     "name": "stderr",
     "output_type": "stream",
     "text": [
      "T: no, put red blocks on blue blocks\n"
     ]
    },
    {
     "name": "stdout",
     "output_type": "stream",
     "text": [
      "(forall (?x) (or (not (red ?x)) (exists (?y) (and (blue ?y) (on ?x ?y)))))\n"
     ]
    },
    {
     "name": "stderr",
     "output_type": "stream",
     "text": [
      "T: no, put red blocks on blue blocks\n"
     ]
    },
    {
     "name": "stdout",
     "output_type": "stream",
     "text": [
      "(forall (?x) (or (not (red ?x)) (exists (?y) (and (blue ?y) (on ?x ?y)))))\n"
     ]
    },
    {
     "name": "stderr",
     "output_type": "stream",
     "text": [
      "T: no, put red blocks on blue blocks\n"
     ]
    },
    {
     "name": "stdout",
     "output_type": "stream",
     "text": [
      "(forall (?x) (or (not (red ?x)) (exists (?y) (and (blue ?y) (on ?x ?y)))))\n"
     ]
    },
    {
     "name": "stderr",
     "output_type": "stream",
     "text": [
      "T: no, put red blocks on blue blocks\n"
     ]
    },
    {
     "name": "stdout",
     "output_type": "stream",
     "text": [
      "(forall (?x) (or (not (red ?x)) (exists (?y) (and (blue ?y) (on ?x ?y)))))\n",
      "problem17.pddl reward: -20\n",
      "Parsing domain blocks-domain.pddl\n",
      "Parsing problem onerule/problem18.pddl\n",
      "problem18.pddl reward: -10\n",
      "Parsing domain blocks-domain.pddl\n",
      "Parsing problem onerule/problem19.pddl\n",
      "problem19.pddl reward: -10\n",
      "Parsing domain blocks-domain.pddl\n",
      "Parsing problem onerule/problem20.pddl\n",
      "problem20.pddl reward: -10\n",
      "Parsing domain blocks-domain.pddl\n",
      "Parsing problem onerule/problem21.pddl\n",
      "problem21.pddl reward: -10\n",
      "Parsing domain blocks-domain.pddl\n",
      "Parsing problem onerule/problem22.pddl\n",
      "problem22.pddl reward: -10\n",
      "Parsing domain blocks-domain.pddl\n",
      "Parsing problem onerule/problem23.pddl\n"
     ]
    },
    {
     "name": "stderr",
     "output_type": "stream",
     "text": [
      "T: no, put red blocks on blue blocks\n"
     ]
    },
    {
     "name": "stdout",
     "output_type": "stream",
     "text": [
      "(forall (?x) (or (not (red ?x)) (exists (?y) (and (blue ?y) (on ?x ?y)))))\n"
     ]
    },
    {
     "name": "stderr",
     "output_type": "stream",
     "text": [
      "T: no, put red blocks on blue blocks\n"
     ]
    },
    {
     "name": "stdout",
     "output_type": "stream",
     "text": [
      "(forall (?x) (or (not (red ?x)) (exists (?y) (and (blue ?y) (on ?x ?y)))))\n"
     ]
    },
    {
     "name": "stderr",
     "output_type": "stream",
     "text": [
      "T: no, put red blocks on blue blocks\n"
     ]
    },
    {
     "name": "stdout",
     "output_type": "stream",
     "text": [
      "(forall (?x) (or (not (red ?x)) (exists (?y) (and (blue ?y) (on ?x ?y)))))\n"
     ]
    },
    {
     "name": "stderr",
     "output_type": "stream",
     "text": [
      "T: no, put red blocks on blue blocks\n"
     ]
    },
    {
     "name": "stdout",
     "output_type": "stream",
     "text": [
      "(forall (?x) (or (not (red ?x)) (exists (?y) (and (blue ?y) (on ?x ?y)))))\n",
      "problem23.pddl reward: -18\n",
      "Parsing domain blocks-domain.pddl\n",
      "Parsing problem onerule/problem24.pddl\n"
     ]
    },
    {
     "name": "stderr",
     "output_type": "stream",
     "text": [
      "T: no, put red blocks on blue blocks\n"
     ]
    },
    {
     "name": "stdout",
     "output_type": "stream",
     "text": [
      "(forall (?x) (or (not (red ?x)) (exists (?y) (and (blue ?y) (on ?x ?y)))))\n"
     ]
    },
    {
     "name": "stderr",
     "output_type": "stream",
     "text": [
      "T: no, put red blocks on blue blocks\n"
     ]
    },
    {
     "name": "stdout",
     "output_type": "stream",
     "text": [
      "(forall (?x) (or (not (red ?x)) (exists (?y) (and (blue ?y) (on ?x ?y)))))\n"
     ]
    },
    {
     "name": "stderr",
     "output_type": "stream",
     "text": [
      "T: no, put red blocks on blue blocks\n"
     ]
    },
    {
     "name": "stdout",
     "output_type": "stream",
     "text": [
      "(forall (?x) (or (not (red ?x)) (exists (?y) (and (blue ?y) (on ?x ?y)))))\n",
      "problem24.pddl reward: -16\n",
      "Parsing domain blocks-domain.pddl\n",
      "Parsing problem onerule/problem25.pddl\n",
      "problem25.pddl reward: -10\n",
      "Parsing domain blocks-domain.pddl\n",
      "Parsing problem onerule/problem26.pddl\n"
     ]
    },
    {
     "name": "stderr",
     "output_type": "stream",
     "text": [
      "T: no, put red blocks on blue blocks\n"
     ]
    },
    {
     "name": "stdout",
     "output_type": "stream",
     "text": [
      "(forall (?x) (or (not (red ?x)) (exists (?y) (and (blue ?y) (on ?x ?y)))))\n",
      "problem26.pddl reward: -12\n",
      "Parsing domain blocks-domain.pddl\n",
      "Parsing problem onerule/problem27.pddl\n"
     ]
    },
    {
     "name": "stderr",
     "output_type": "stream",
     "text": [
      "T: no, put red blocks on blue blocks\n"
     ]
    },
    {
     "name": "stdout",
     "output_type": "stream",
     "text": [
      "(forall (?x) (or (not (red ?x)) (exists (?y) (and (blue ?y) (on ?x ?y)))))\n"
     ]
    },
    {
     "name": "stderr",
     "output_type": "stream",
     "text": [
      "T: No, now you cannot put b3 in the tower because you must put red blocks on blue blocks\n",
      "T: No, now you cannot put b3 in the tower because you must put red blocks on blue blocks\n"
     ]
    },
    {
     "name": "stdout",
     "output_type": "stream",
     "text": [
      "problem27.pddl reward: -16\n",
      "Parsing domain blocks-domain.pddl\n",
      "Parsing problem onerule/problem28.pddl\n",
      "problem28.pddl reward: -10\n",
      "Parsing domain blocks-domain.pddl\n",
      "Parsing problem onerule/problem29.pddl\n"
     ]
    },
    {
     "name": "stderr",
     "output_type": "stream",
     "text": [
      "T: No, now you cannot put b4 in the tower because you must put red blocks on blue blocks\n",
      "R: Is the top object red?\n",
      "T: no\n"
     ]
    },
    {
     "name": "stdout",
     "output_type": "stream",
     "text": [
      "problem29.pddl reward: -12\n",
      "Parsing domain blocks-domain.pddl\n",
      "Parsing problem onerule/problem30.pddl\n"
     ]
    },
    {
     "name": "stderr",
     "output_type": "stream",
     "text": [
      "T: no, put red blocks on blue blocks\n"
     ]
    },
    {
     "name": "stdout",
     "output_type": "stream",
     "text": [
      "(forall (?x) (or (not (red ?x)) (exists (?y) (and (blue ?y) (on ?x ?y)))))\n"
     ]
    },
    {
     "name": "stderr",
     "output_type": "stream",
     "text": [
      "T: No, now you cannot put b1 in the tower because you must put red blocks on blue blocks\n",
      "T: No, now you cannot put b1 in the tower because you must put red blocks on blue blocks\n",
      "T: No, now you cannot put b1 in the tower because you must put red blocks on blue blocks\n",
      "T: No, now you cannot put b1 in the tower because you must put red blocks on blue blocks\n"
     ]
    },
    {
     "name": "stdout",
     "output_type": "stream",
     "text": [
      "problem30.pddl reward: -20\n",
      "Parsing domain blocks-domain.pddl\n",
      "Parsing problem onerule/problem31.pddl\n",
      "problem31.pddl reward: -10\n",
      "Parsing domain blocks-domain.pddl\n",
      "Parsing problem onerule/problem32.pddl\n"
     ]
    },
    {
     "name": "stderr",
     "output_type": "stream",
     "text": [
      "T: No, now you cannot put b1 in the tower because you must put red blocks on blue blocks\n",
      "T: No, now you cannot put b1 in the tower because you must put red blocks on blue blocks\n",
      "T: No, now you cannot put b1 in the tower because you must put red blocks on blue blocks\n"
     ]
    },
    {
     "name": "stdout",
     "output_type": "stream",
     "text": [
      "problem32.pddl reward: -16\n",
      "Parsing domain blocks-domain.pddl\n",
      "Parsing problem onerule/problem33.pddl\n"
     ]
    },
    {
     "name": "stderr",
     "output_type": "stream",
     "text": [
      "T: No, now you cannot put b0 in the tower because you must put red blocks on blue blocks\n",
      "T: No, now you cannot put b0 in the tower because you must put red blocks on blue blocks\n",
      "T: No, now you cannot put b0 in the tower because you must put red blocks on blue blocks\n",
      "T: No, now you cannot put b0 in the tower because you must put red blocks on blue blocks\n",
      "T: No, now you cannot put b0 in the tower because you must put red blocks on blue blocks\n"
     ]
    },
    {
     "name": "stdout",
     "output_type": "stream",
     "text": [
      "problem33.pddl reward: -20\n",
      "Parsing domain blocks-domain.pddl\n",
      "Parsing problem onerule/problem34.pddl\n",
      "problem34.pddl reward: -10\n",
      "Parsing domain blocks-domain.pddl\n",
      "Parsing problem onerule/problem35.pddl\n"
     ]
    },
    {
     "name": "stderr",
     "output_type": "stream",
     "text": [
      "T: No, now you cannot put b1 in the tower because you must put red blocks on blue blocks\n",
      "T: No, now you cannot put b1 in the tower because you must put red blocks on blue blocks\n"
     ]
    },
    {
     "name": "stdout",
     "output_type": "stream",
     "text": [
      "problem35.pddl reward: -14\n",
      "Parsing domain blocks-domain.pddl\n",
      "Parsing problem onerule/problem36.pddl\n",
      "problem36.pddl reward: -10\n",
      "Parsing domain blocks-domain.pddl\n",
      "Parsing problem onerule/problem37.pddl\n"
     ]
    },
    {
     "name": "stderr",
     "output_type": "stream",
     "text": [
      "T: No, now you cannot put b1 in the tower because you must put red blocks on blue blocks\n",
      "T: No, now you cannot put b1 in the tower because you must put red blocks on blue blocks\n",
      "T: No, now you cannot put b1 in the tower because you must put red blocks on blue blocks\n",
      "T: No, now you cannot put b1 in the tower because you must put red blocks on blue blocks\n",
      "T: No, now you cannot put b1 in the tower because you must put red blocks on blue blocks\n",
      "T: No, now you cannot put b1 in the tower because you must put red blocks on blue blocks\n"
     ]
    },
    {
     "name": "stdout",
     "output_type": "stream",
     "text": [
      "problem37.pddl reward: -22\n",
      "Parsing domain blocks-domain.pddl\n",
      "Parsing problem onerule/problem38.pddl\n",
      "problem38.pddl reward: -10\n",
      "Parsing domain blocks-domain.pddl\n",
      "Parsing problem onerule/problem39.pddl\n"
     ]
    },
    {
     "name": "stderr",
     "output_type": "stream",
     "text": [
      "T: no, put red blocks on blue blocks\n"
     ]
    },
    {
     "name": "stdout",
     "output_type": "stream",
     "text": [
      "(forall (?x) (or (not (red ?x)) (exists (?y) (and (blue ?y) (on ?x ?y)))))\n"
     ]
    },
    {
     "name": "stderr",
     "output_type": "stream",
     "text": [
      "T: no, put red blocks on blue blocks\n"
     ]
    },
    {
     "name": "stdout",
     "output_type": "stream",
     "text": [
      "(forall (?x) (or (not (red ?x)) (exists (?y) (and (blue ?y) (on ?x ?y)))))\n",
      "problem39.pddl reward: -14\n",
      "Parsing domain blocks-domain.pddl\n",
      "Parsing problem onerule/problem40.pddl\n",
      "problem40.pddl reward: -10\n",
      "Parsing domain blocks-domain.pddl\n",
      "Parsing problem onerule/problem41.pddl\n"
     ]
    },
    {
     "name": "stderr",
     "output_type": "stream",
     "text": [
      "T: no, put red blocks on blue blocks\n"
     ]
    },
    {
     "name": "stdout",
     "output_type": "stream",
     "text": [
      "(forall (?x) (or (not (red ?x)) (exists (?y) (and (blue ?y) (on ?x ?y)))))\n"
     ]
    },
    {
     "name": "stderr",
     "output_type": "stream",
     "text": [
      "T: no, put red blocks on blue blocks\n"
     ]
    },
    {
     "name": "stdout",
     "output_type": "stream",
     "text": [
      "(forall (?x) (or (not (red ?x)) (exists (?y) (and (blue ?y) (on ?x ?y)))))\n"
     ]
    },
    {
     "name": "stderr",
     "output_type": "stream",
     "text": [
      "T: no, put red blocks on blue blocks\n"
     ]
    },
    {
     "name": "stdout",
     "output_type": "stream",
     "text": [
      "(forall (?x) (or (not (red ?x)) (exists (?y) (and (blue ?y) (on ?x ?y)))))\n"
     ]
    },
    {
     "name": "stderr",
     "output_type": "stream",
     "text": [
      "T: no, put red blocks on blue blocks\n"
     ]
    },
    {
     "name": "stdout",
     "output_type": "stream",
     "text": [
      "(forall (?x) (or (not (red ?x)) (exists (?y) (and (blue ?y) (on ?x ?y)))))\n"
     ]
    },
    {
     "name": "stderr",
     "output_type": "stream",
     "text": [
      "T: no, put red blocks on blue blocks\n"
     ]
    },
    {
     "name": "stdout",
     "output_type": "stream",
     "text": [
      "(forall (?x) (or (not (red ?x)) (exists (?y) (and (blue ?y) (on ?x ?y)))))\n",
      "problem41.pddl reward: -20\n",
      "Parsing domain blocks-domain.pddl\n",
      "Parsing problem onerule/problem42.pddl\n",
      "problem42.pddl reward: -10\n",
      "Parsing domain blocks-domain.pddl\n",
      "Parsing problem onerule/problem43.pddl\n"
     ]
    },
    {
     "name": "stderr",
     "output_type": "stream",
     "text": [
      "T: No, now you cannot put b6 in the tower because you must put red blocks on blue blocks\n",
      "T: No, now you cannot put b6 in the tower because you must put red blocks on blue blocks\n",
      "T: No, now you cannot put b6 in the tower because you must put red blocks on blue blocks\n",
      "T: No, now you cannot put b6 in the tower because you must put red blocks on blue blocks\n"
     ]
    },
    {
     "name": "stdout",
     "output_type": "stream",
     "text": [
      "problem43.pddl reward: -18\n",
      "Parsing domain blocks-domain.pddl\n",
      "Parsing problem onerule/problem44.pddl\n",
      "problem44.pddl reward: -10\n",
      "Parsing domain blocks-domain.pddl\n",
      "Parsing problem onerule/problem45.pddl\n"
     ]
    },
    {
     "name": "stderr",
     "output_type": "stream",
     "text": [
      "T: no, put red blocks on blue blocks\n"
     ]
    },
    {
     "name": "stdout",
     "output_type": "stream",
     "text": [
      "(forall (?x) (or (not (red ?x)) (exists (?y) (and (blue ?y) (on ?x ?y)))))\n"
     ]
    },
    {
     "name": "stderr",
     "output_type": "stream",
     "text": [
      "T: no, put red blocks on blue blocks\n"
     ]
    },
    {
     "name": "stdout",
     "output_type": "stream",
     "text": [
      "(forall (?x) (or (not (red ?x)) (exists (?y) (and (blue ?y) (on ?x ?y)))))\n"
     ]
    },
    {
     "name": "stderr",
     "output_type": "stream",
     "text": [
      "T: no, put red blocks on blue blocks\n"
     ]
    },
    {
     "name": "stdout",
     "output_type": "stream",
     "text": [
      "(forall (?x) (or (not (red ?x)) (exists (?y) (and (blue ?y) (on ?x ?y)))))\n",
      "problem45.pddl reward: -16\n",
      "Parsing domain blocks-domain.pddl\n",
      "Parsing problem onerule/problem46.pddl\n",
      "problem46.pddl reward: -10\n",
      "Parsing domain blocks-domain.pddl\n",
      "Parsing problem onerule/problem47.pddl\n",
      "problem47.pddl reward: -10\n",
      "Parsing domain blocks-domain.pddl\n",
      "Parsing problem onerule/problem48.pddl\n",
      "problem48.pddl reward: -10\n",
      "Parsing domain blocks-domain.pddl\n",
      "Parsing problem onerule/problem49.pddl\n"
     ]
    },
    {
     "name": "stderr",
     "output_type": "stream",
     "text": [
      "T: no, put red blocks on blue blocks\n"
     ]
    },
    {
     "name": "stdout",
     "output_type": "stream",
     "text": [
      "(forall (?x) (or (not (red ?x)) (exists (?y) (and (blue ?y) (on ?x ?y)))))\n"
     ]
    },
    {
     "name": "stderr",
     "output_type": "stream",
     "text": [
      "T: no, put red blocks on blue blocks\n"
     ]
    },
    {
     "name": "stdout",
     "output_type": "stream",
     "text": [
      "(forall (?x) (or (not (red ?x)) (exists (?y) (and (blue ?y) (on ?x ?y)))))\n",
      "problem49.pddl reward: -14\n",
      "Parsing domain blocks-domain.pddl\n",
      "Parsing problem onerule/problem50.pddl\n"
     ]
    },
    {
     "name": "stderr",
     "output_type": "stream",
     "text": [
      "T: no, put red blocks on blue blocks\n"
     ]
    },
    {
     "name": "stdout",
     "output_type": "stream",
     "text": [
      "(forall (?x) (or (not (red ?x)) (exists (?y) (and (blue ?y) (on ?x ?y)))))\n"
     ]
    },
    {
     "name": "stderr",
     "output_type": "stream",
     "text": [
      "T: no, put red blocks on blue blocks\n"
     ]
    },
    {
     "name": "stdout",
     "output_type": "stream",
     "text": [
      "(forall (?x) (or (not (red ?x)) (exists (?y) (and (blue ?y) (on ?x ?y)))))\n"
     ]
    },
    {
     "name": "stderr",
     "output_type": "stream",
     "text": [
      "T: no, put red blocks on blue blocks\n"
     ]
    },
    {
     "name": "stdout",
     "output_type": "stream",
     "text": [
      "(forall (?x) (or (not (red ?x)) (exists (?y) (and (blue ?y) (on ?x ?y)))))\n"
     ]
    },
    {
     "name": "stderr",
     "output_type": "stream",
     "text": [
      "T: no, put red blocks on blue blocks\n"
     ]
    },
    {
     "name": "stdout",
     "output_type": "stream",
     "text": [
      "(forall (?x) (or (not (red ?x)) (exists (?y) (and (blue ?y) (on ?x ?y)))))\n"
     ]
    },
    {
     "name": "stderr",
     "output_type": "stream",
     "text": [
      "T: no, put red blocks on blue blocks\n"
     ]
    },
    {
     "name": "stdout",
     "output_type": "stream",
     "text": [
      "(forall (?x) (or (not (red ?x)) (exists (?y) (and (blue ?y) (on ?x ?y)))))\n",
      "problem50.pddl reward: -20\n"
     ]
    }
   ],
   "source": [
    "add_experiment('onerule_kde', '3d_default')"
   ]
  },
  {
   "cell_type": "code",
   "execution_count": 2,
   "metadata": {},
   "outputs": [],
   "source": [
    "create_kde_experiment('3d_default', \n",
    "    options={\n",
    "        'use_3d':'True',\n",
    "        'fix_dw':'True',\n",
    "        'dw':'0.2'\n",
    "    })"
   ]
  },
  {
   "cell_type": "code",
   "execution_count": 36,
   "metadata": {},
   "outputs": [],
   "source": [
    "create_experiment('onerule_kde', {'scenario_suite':'onerule', \n",
    "                                 'colour_model_type':'kde', \n",
    "                                 'update_once':'True',\n",
    "                                 'update_negative':'False'})\n",
    "\n",
    "create_experiment('onerule_kde_update_negative', {'scenario_suite':'onerule', \n",
    "                                 'colour_model_type':'kde', \n",
    "                                 'update_once':'True',\n",
    "                                 'update_negative':'True'})\n",
    "\n",
    "create_experiment('tworules_kde', {'scenario_suite':'tworules', \n",
    "                                 'colour_model_type':'kde', \n",
    "                                 'update_once':'True',\n",
    "                                 'update_negative':'False'})\n",
    "\n",
    "create_experiment('tworules_kde_update_negative', {'scenario_suite':'tworules', \n",
    "                                 'colour_model_type':'kde', \n",
    "                                 'update_once':'True',\n",
    "                                 'update_negative':'True'})\n",
    "\n",
    "create_experiment('maroon_kde', {'scenario_suite':'maroon', \n",
    "                                 'colour_model_type':'kde', \n",
    "                                 'update_once':'True',\n",
    "                                 'update_negative':'False'})\n",
    "\n",
    "create_experiment('maroon_kde_update_negative', {'scenario_suite':'maroon', \n",
    "                                 'colour_model_type':'kde', \n",
    "                                 'update_once':'True',\n",
    "                                 'update_negative':'True'})\n",
    "\n",
    "create_experiment('bijection_kde', {'scenario_suite':'bijection', \n",
    "                                 'colour_model_type':'kde', \n",
    "                                 'update_once':'True',\n",
    "                                 'update_negative':'False'})\n",
    "\n",
    "create_experiment('bijection_kde_update_negative', {'scenario_suite':'bijection', \n",
    "                                 'colour_model_type':'kde', \n",
    "                                 'update_once':'True',\n",
    "                                 'update_negative':'True'})\n",
    "\n",
    "create_experiment('onerule_update_once', {'scenario_suite':'onerule', \n",
    "                                 'update_once':'True',\n",
    "                                 'update_negative':'False'})\n",
    "create_experiment('onerule_update_once_with_negative', {'scenario_suite':'onerule', \n",
    "                                 'update_once':'True',\n",
    "                                 'update_negative':'True'})\n",
    "\n",
    "create_experiment('bijection_update_once', {'scenario_suite':'bijection', \n",
    "                                 'update_once':'True',\n",
    "                                 'update_negative':'True'})\n",
    "create_experiment('bijection_update_once_with_negative', {'scenario_suite':'bijection', \n",
    "                                 'update_once':'True',\n",
    "                                 'update_negative':'False'})\n",
    "\n",
    "create_experiment('maroon_update_once', {'scenario_suite':'maroon', \n",
    "                                 'update_once':'True',\n",
    "                                 'update_negative':'True'})\n",
    "create_experiment('maroon_update_once_with_negative', {'scenario_suite':'maroon', \n",
    "                                 'update_once':'True',\n",
    "                                 'update_negative':'False'})\n",
    "\n",
    "\n",
    "create_experiment('maroon_random', {'scenario_suite':'maroon', \n",
    "                                 'agent':'agents.RandomAgent'})\n",
    "create_experiment('bijection_random', {'scenario_suite':'bijection', \n",
    "                                 'agent':'agents.RandomAgent'})\n",
    "# create_experiment('simple_update_negative', {'scenario_suite':'simplecolours',\n",
    "#                                  'update_once':'True',\n",
    "#                                  'update_negative':'True'})"
   ]
  },
  {
   "cell_type": "code",
   "execution_count": 13,
   "metadata": {
    "scrolled": true
   },
   "outputs": [
    {
     "name": "stderr",
     "output_type": "stream",
     "text": [
      "T: No, now you cannot put b1 in the tower because you must put green blocks on yellow blocks\n",
      "R: Is the top object green?\n",
      "T: yes\n"
     ]
    },
    {
     "name": "stdout",
     "output_type": "stream",
     "text": [
      "Parsing domain blocks-domain.pddl\n",
      "Parsing problem tworules/problem1.pddl\n",
      "Parsing domain blocks-domain.pddl\n",
      "Parsing problem tworules/problem1.pddl\n",
      "bw 1.0\n",
      "bw 1.0\n"
     ]
    },
    {
     "name": "stderr",
     "output_type": "stream",
     "text": [
      "T: No, now you cannot put b1 in the tower because you must put green blocks on yellow blocks\n",
      "T: No, now you cannot put b1 in the tower because you must put green blocks on yellow blocks\n",
      "T: No, now you cannot put b1 in the tower because you must put green blocks on yellow blocks\n",
      "T: No, now you cannot put b1 in the tower because you must put green blocks on yellow blocks\n",
      "T: No, now you cannot put b4 in the tower because you must put red blocks on blue blocks\n"
     ]
    },
    {
     "name": "stdout",
     "output_type": "stream",
     "text": [
      "problem1.pddl reward: -20\n",
      "Parsing domain blocks-domain.pddl\n",
      "Parsing problem tworules/problem10.pddl\n"
     ]
    },
    {
     "name": "stderr",
     "output_type": "stream",
     "text": [
      "R: Is the top object red?\n",
      "T: no\n"
     ]
    },
    {
     "name": "stdout",
     "output_type": "stream",
     "text": [
      "bw 1.0\n",
      "bw 1.0\n"
     ]
    },
    {
     "name": "stderr",
     "output_type": "stream",
     "text": [
      "T: no, put red blocks on blue blocks\n"
     ]
    },
    {
     "name": "stdout",
     "output_type": "stream",
     "text": [
      "problem10.pddl reward: -12\n",
      "Parsing domain blocks-domain.pddl\n",
      "Parsing problem tworules/problem11.pddl\n",
      "(forall (?x) (or (not (red ?x)) (exists (?y) (and (blue ?y) (on ?x ?y)))))\n",
      "bw 0.5\n"
     ]
    },
    {
     "name": "stderr",
     "output_type": "stream",
     "text": [
      "T: no, put red blocks on blue blocks\n"
     ]
    },
    {
     "name": "stdout",
     "output_type": "stream",
     "text": [
      "(forall (?x) (or (not (red ?x)) (exists (?y) (and (blue ?y) (on ?x ?y)))))\n",
      "bw 0.3333333333333333\n"
     ]
    },
    {
     "name": "stderr",
     "output_type": "stream",
     "text": [
      "T: no, put red blocks on blue blocks\n"
     ]
    },
    {
     "name": "stdout",
     "output_type": "stream",
     "text": [
      "(forall (?x) (or (not (red ?x)) (exists (?y) (and (blue ?y) (on ?x ?y)))))\n"
     ]
    },
    {
     "name": "stderr",
     "output_type": "stream",
     "text": [
      "T: no, put red blocks on blue blocks\n"
     ]
    },
    {
     "name": "stdout",
     "output_type": "stream",
     "text": [
      "(forall (?x) (or (not (red ?x)) (exists (?y) (and (blue ?y) (on ?x ?y)))))\n"
     ]
    },
    {
     "name": "stderr",
     "output_type": "stream",
     "text": [
      "T: no, put red blocks on blue blocks\n"
     ]
    },
    {
     "name": "stdout",
     "output_type": "stream",
     "text": [
      "(forall (?x) (or (not (red ?x)) (exists (?y) (and (blue ?y) (on ?x ?y)))))\n"
     ]
    },
    {
     "name": "stderr",
     "output_type": "stream",
     "text": [
      "T: no, put red blocks on blue blocks\n"
     ]
    },
    {
     "name": "stdout",
     "output_type": "stream",
     "text": [
      "(forall (?x) (or (not (red ?x)) (exists (?y) (and (blue ?y) (on ?x ?y)))))\n"
     ]
    },
    {
     "name": "stderr",
     "output_type": "stream",
     "text": [
      "T: no, put red blocks on blue blocks\n"
     ]
    },
    {
     "name": "stdout",
     "output_type": "stream",
     "text": [
      "(forall (?x) (or (not (red ?x)) (exists (?y) (and (blue ?y) (on ?x ?y)))))\n"
     ]
    },
    {
     "name": "stderr",
     "output_type": "stream",
     "text": [
      "T: no, put red blocks on blue blocks\n"
     ]
    },
    {
     "name": "stdout",
     "output_type": "stream",
     "text": [
      "(forall (?x) (or (not (red ?x)) (exists (?y) (and (blue ?y) (on ?x ?y)))))\n"
     ]
    },
    {
     "name": "stderr",
     "output_type": "stream",
     "text": [
      "T: no, put red blocks on blue blocks\n"
     ]
    },
    {
     "name": "stdout",
     "output_type": "stream",
     "text": [
      "(forall (?x) (or (not (red ?x)) (exists (?y) (and (blue ?y) (on ?x ?y)))))\n"
     ]
    },
    {
     "name": "stderr",
     "output_type": "stream",
     "text": [
      "T: no, put red blocks on blue blocks\n"
     ]
    },
    {
     "name": "stdout",
     "output_type": "stream",
     "text": [
      "(forall (?x) (or (not (red ?x)) (exists (?y) (and (blue ?y) (on ?x ?y)))))\n"
     ]
    },
    {
     "name": "stderr",
     "output_type": "stream",
     "text": [
      "T: no, put red blocks on blue blocks\n"
     ]
    },
    {
     "name": "stdout",
     "output_type": "stream",
     "text": [
      "(forall (?x) (or (not (red ?x)) (exists (?y) (and (blue ?y) (on ?x ?y)))))\n"
     ]
    },
    {
     "name": "stderr",
     "output_type": "stream",
     "text": [
      "T: no, put red blocks on blue blocks\n"
     ]
    },
    {
     "name": "stdout",
     "output_type": "stream",
     "text": [
      "(forall (?x) (or (not (red ?x)) (exists (?y) (and (blue ?y) (on ?x ?y)))))\n",
      "problem11.pddl reward: -34\n",
      "Parsing domain blocks-domain.pddl\n",
      "Parsing problem tworules/problem12.pddl\n"
     ]
    },
    {
     "name": "stderr",
     "output_type": "stream",
     "text": [
      "T: No, now you cannot put b4 in the tower because you must put red blocks on blue blocks\n",
      "R: Is the top object red?\n",
      "T: no\n"
     ]
    },
    {
     "name": "stdout",
     "output_type": "stream",
     "text": [
      "bw 0.5\n",
      "bw 0.25\n"
     ]
    },
    {
     "name": "stderr",
     "output_type": "stream",
     "text": [
      "T: No, now you cannot put b4 in the tower because you must put red blocks on blue blocks\n",
      "T: no, put red blocks on blue blocks\n"
     ]
    },
    {
     "name": "stdout",
     "output_type": "stream",
     "text": [
      "(forall (?x) (or (not (red ?x)) (exists (?y) (and (blue ?y) (on ?x ?y)))))\n",
      "problem12.pddl reward: -16\n",
      "Parsing domain blocks-domain.pddl\n",
      "Parsing problem tworules/problem13.pddl\n"
     ]
    },
    {
     "name": "stderr",
     "output_type": "stream",
     "text": [
      "T: no, put red blocks on blue blocks\n"
     ]
    },
    {
     "name": "stdout",
     "output_type": "stream",
     "text": [
      "(forall (?x) (or (not (red ?x)) (exists (?y) (and (blue ?y) (on ?x ?y)))))\n",
      "bw 0.2\n",
      "bw 0.3333333333333333\n"
     ]
    },
    {
     "name": "stderr",
     "output_type": "stream",
     "text": [
      "T: no, put red blocks on blue blocks\n"
     ]
    },
    {
     "name": "stdout",
     "output_type": "stream",
     "text": [
      "(forall (?x) (or (not (red ?x)) (exists (?y) (and (blue ?y) (on ?x ?y)))))\n",
      "bw 0.25\n"
     ]
    },
    {
     "name": "stderr",
     "output_type": "stream",
     "text": [
      "T: no, put red blocks on blue blocks\n"
     ]
    },
    {
     "name": "stdout",
     "output_type": "stream",
     "text": [
      "(forall (?x) (or (not (red ?x)) (exists (?y) (and (blue ?y) (on ?x ?y)))))\n",
      "bw 0.16666666666666666\n"
     ]
    },
    {
     "name": "stderr",
     "output_type": "stream",
     "text": [
      "T: no, put red blocks on blue blocks\n"
     ]
    },
    {
     "name": "stdout",
     "output_type": "stream",
     "text": [
      "(forall (?x) (or (not (red ?x)) (exists (?y) (and (blue ?y) (on ?x ?y)))))\n",
      "bw 0.2\n"
     ]
    },
    {
     "name": "stderr",
     "output_type": "stream",
     "text": [
      "T: no, put red blocks on blue blocks\n"
     ]
    },
    {
     "name": "stdout",
     "output_type": "stream",
     "text": [
      "(forall (?x) (or (not (red ?x)) (exists (?y) (and (blue ?y) (on ?x ?y)))))\n"
     ]
    },
    {
     "name": "stderr",
     "output_type": "stream",
     "text": [
      "T: no, put red blocks on blue blocks\n"
     ]
    },
    {
     "name": "stdout",
     "output_type": "stream",
     "text": [
      "(forall (?x) (or (not (red ?x)) (exists (?y) (and (blue ?y) (on ?x ?y)))))\n",
      "bw 0.16666666666666666\n"
     ]
    },
    {
     "name": "stderr",
     "output_type": "stream",
     "text": [
      "T: no, put red blocks on blue blocks\n"
     ]
    },
    {
     "name": "stdout",
     "output_type": "stream",
     "text": [
      "(forall (?x) (or (not (red ?x)) (exists (?y) (and (blue ?y) (on ?x ?y)))))\n"
     ]
    },
    {
     "name": "stderr",
     "output_type": "stream",
     "text": [
      "T: no, put red blocks on blue blocks\n"
     ]
    },
    {
     "name": "stdout",
     "output_type": "stream",
     "text": [
      "(forall (?x) (or (not (red ?x)) (exists (?y) (and (blue ?y) (on ?x ?y)))))\n",
      "bw 0.15\n"
     ]
    },
    {
     "name": "stderr",
     "output_type": "stream",
     "text": [
      "T: no, put red blocks on blue blocks\n"
     ]
    },
    {
     "name": "stdout",
     "output_type": "stream",
     "text": [
      "(forall (?x) (or (not (red ?x)) (exists (?y) (and (blue ?y) (on ?x ?y)))))\n"
     ]
    },
    {
     "name": "stderr",
     "output_type": "stream",
     "text": [
      "T: no, put red blocks on blue blocks\n"
     ]
    },
    {
     "name": "stdout",
     "output_type": "stream",
     "text": [
      "(forall (?x) (or (not (red ?x)) (exists (?y) (and (blue ?y) (on ?x ?y)))))\n",
      "problem13.pddl reward: -30\n",
      "Parsing domain blocks-domain.pddl\n",
      "Parsing problem tworules/problem14.pddl\n"
     ]
    },
    {
     "name": "stderr",
     "output_type": "stream",
     "text": [
      "T: no, put red blocks on blue blocks\n"
     ]
    },
    {
     "name": "stdout",
     "output_type": "stream",
     "text": [
      "(forall (?x) (or (not (red ?x)) (exists (?y) (and (blue ?y) (on ?x ?y)))))\n",
      "bw 0.15\n"
     ]
    },
    {
     "name": "stderr",
     "output_type": "stream",
     "text": [
      "T: no, put red blocks on blue blocks\n"
     ]
    },
    {
     "name": "stdout",
     "output_type": "stream",
     "text": [
      "(forall (?x) (or (not (red ?x)) (exists (?y) (and (blue ?y) (on ?x ?y)))))\n"
     ]
    },
    {
     "name": "stderr",
     "output_type": "stream",
     "text": [
      "T: no, put red blocks on blue blocks\n"
     ]
    },
    {
     "name": "stdout",
     "output_type": "stream",
     "text": [
      "(forall (?x) (or (not (red ?x)) (exists (?y) (and (blue ?y) (on ?x ?y)))))\n"
     ]
    },
    {
     "name": "stderr",
     "output_type": "stream",
     "text": [
      "T: no, put red blocks on blue blocks\n"
     ]
    },
    {
     "name": "stdout",
     "output_type": "stream",
     "text": [
      "(forall (?x) (or (not (red ?x)) (exists (?y) (and (blue ?y) (on ?x ?y)))))\n"
     ]
    },
    {
     "name": "stderr",
     "output_type": "stream",
     "text": [
      "T: No, now you cannot put b2 in the tower because you must put green blocks on yellow blocks\n"
     ]
    },
    {
     "name": "stdout",
     "output_type": "stream",
     "text": [
      "bw 0.5\n",
      "bw 0.3333333333333333\n",
      "bw 0.5\n"
     ]
    },
    {
     "name": "stderr",
     "output_type": "stream",
     "text": [
      "T: No, now you cannot put b2 in the tower because you must put green blocks on yellow blocks\n",
      "T: No, now you cannot put b2 in the tower because you must put green blocks on yellow blocks\n"
     ]
    },
    {
     "name": "stdout",
     "output_type": "stream",
     "text": [
      "bw 0.3333333333333333\n",
      "problem14.pddl reward: -24\n",
      "Parsing domain blocks-domain.pddl\n",
      "Parsing problem tworules/problem15.pddl\n",
      "problem15.pddl reward: -10\n",
      "Parsing domain blocks-domain.pddl\n",
      "Parsing problem tworules/problem16.pddl\n"
     ]
    },
    {
     "name": "stderr",
     "output_type": "stream",
     "text": [
      "T: No, now you cannot put b1 in the tower because you must put green blocks on yellow blocks\n"
     ]
    },
    {
     "name": "stdout",
     "output_type": "stream",
     "text": [
      "bw 0.25\n",
      "bw 0.25\n",
      "bw 0.2\n",
      "bw 0.2\n"
     ]
    },
    {
     "name": "stderr",
     "output_type": "stream",
     "text": [
      "T: no, put red blocks on blue blocks\n"
     ]
    },
    {
     "name": "stdout",
     "output_type": "stream",
     "text": [
      "(forall (?x) (or (not (red ?x)) (exists (?y) (and (blue ?y) (on ?x ?y)))))\n",
      "bw 0.15\n"
     ]
    },
    {
     "name": "stderr",
     "output_type": "stream",
     "text": [
      "T: No, now you cannot put b1 in the tower because you must put green blocks on yellow blocks\n"
     ]
    },
    {
     "name": "stdout",
     "output_type": "stream",
     "text": [
      "bw 0.16666666666666666\n"
     ]
    },
    {
     "name": "stderr",
     "output_type": "stream",
     "text": [
      "T: no, put red blocks on blue blocks\n"
     ]
    },
    {
     "name": "stdout",
     "output_type": "stream",
     "text": [
      "(forall (?x) (or (not (red ?x)) (exists (?y) (and (blue ?y) (on ?x ?y)))))\n"
     ]
    },
    {
     "name": "stderr",
     "output_type": "stream",
     "text": [
      "T: No, now you cannot put b0 in the tower because you must put red blocks on blue blocks\n"
     ]
    },
    {
     "name": "stdout",
     "output_type": "stream",
     "text": [
      "bw 0.15\n",
      "bw 0.15\n",
      "bw 0.15\n"
     ]
    },
    {
     "name": "stderr",
     "output_type": "stream",
     "text": [
      "T: No, now you cannot put b1 in the tower because you must put green blocks on yellow blocks\n",
      "T: No, now you cannot put b1 in the tower because you must put green blocks on yellow blocks\n"
     ]
    },
    {
     "name": "stdout",
     "output_type": "stream",
     "text": [
      "bw 0.15\n"
     ]
    },
    {
     "name": "stderr",
     "output_type": "stream",
     "text": [
      "T: No, now you cannot put b0 in the tower because you must put red blocks on blue blocks\n"
     ]
    },
    {
     "name": "stdout",
     "output_type": "stream",
     "text": [
      "bw 0.15\n"
     ]
    },
    {
     "name": "stderr",
     "output_type": "stream",
     "text": [
      "T: No, now you cannot put b0 in the tower because you must put red blocks on blue blocks\n",
      "T: No, now you cannot put b1 in the tower because you must put green blocks on yellow blocks\n"
     ]
    },
    {
     "name": "stdout",
     "output_type": "stream",
     "text": [
      "problem16.pddl reward: -30\n",
      "Parsing domain blocks-domain.pddl\n",
      "Parsing problem tworules/problem17.pddl\n"
     ]
    },
    {
     "name": "stderr",
     "output_type": "stream",
     "text": [
      "T: No, now you cannot put b5 in the tower because you must put green blocks on yellow blocks\n"
     ]
    },
    {
     "name": "stdout",
     "output_type": "stream",
     "text": [
      "bw 0.16666666666666666\n",
      "bw 0.15\n",
      "bw 0.15\n",
      "bw 0.15\n",
      "problem17.pddl reward: -12\n",
      "Parsing domain blocks-domain.pddl\n",
      "Parsing problem tworules/problem18.pddl\n"
     ]
    },
    {
     "name": "stderr",
     "output_type": "stream",
     "text": [
      "T: no, put green blocks on yellow blocks\n"
     ]
    },
    {
     "name": "stdout",
     "output_type": "stream",
     "text": [
      "(forall (?y) (or (not (yellow ?y)) (exists (?x) (and (green ?x) (on ?x ?y)))))\n",
      "bw 0.15\n",
      "bw 0.15\n",
      "problem18.pddl reward: -12\n",
      "Parsing domain blocks-domain.pddl\n",
      "Parsing problem tworules/problem19.pddl\n",
      "problem19.pddl reward: -10\n",
      "Parsing domain blocks-domain.pddl\n",
      "Parsing problem tworules/problem2.pddl\n"
     ]
    },
    {
     "name": "stderr",
     "output_type": "stream",
     "text": [
      "T: No, now you cannot put b0 in the tower because you must put green blocks on yellow blocks\n"
     ]
    },
    {
     "name": "stdout",
     "output_type": "stream",
     "text": [
      "bw 0.15\n",
      "bw 0.15\n",
      "bw 0.15\n",
      "bw 0.15\n"
     ]
    },
    {
     "name": "stderr",
     "output_type": "stream",
     "text": [
      "T: No, now you cannot put b0 in the tower because you must put green blocks on yellow blocks\n"
     ]
    },
    {
     "name": "stdout",
     "output_type": "stream",
     "text": [
      "bw 0.15\n"
     ]
    },
    {
     "name": "stderr",
     "output_type": "stream",
     "text": [
      "T: No, now you cannot put b0 in the tower because you must put green blocks on yellow blocks\n"
     ]
    },
    {
     "name": "stdout",
     "output_type": "stream",
     "text": [
      "bw 0.15\n"
     ]
    },
    {
     "name": "stderr",
     "output_type": "stream",
     "text": [
      "T: No, now you cannot put b0 in the tower because you must put green blocks on yellow blocks\n"
     ]
    },
    {
     "name": "stdout",
     "output_type": "stream",
     "text": [
      "problem2.pddl reward: -18\n",
      "Parsing domain blocks-domain.pddl\n",
      "Parsing problem tworules/problem20.pddl\n"
     ]
    },
    {
     "name": "stderr",
     "output_type": "stream",
     "text": [
      "T: no, put green blocks on yellow blocks\n"
     ]
    },
    {
     "name": "stdout",
     "output_type": "stream",
     "text": [
      "(forall (?y) (or (not (yellow ?y)) (exists (?x) (and (green ?x) (on ?x ?y)))))\n",
      "bw 0.15\n",
      "bw 0.15\n"
     ]
    },
    {
     "name": "stderr",
     "output_type": "stream",
     "text": [
      "T: no, put green blocks on yellow blocks\n"
     ]
    },
    {
     "name": "stdout",
     "output_type": "stream",
     "text": [
      "(forall (?y) (or (not (yellow ?y)) (exists (?x) (and (green ?x) (on ?x ?y)))))\n",
      "bw 0.15\n",
      "problem20.pddl reward: -14\n",
      "Parsing domain blocks-domain.pddl\n",
      "Parsing problem tworules/problem21.pddl\n",
      "problem21.pddl reward: -10\n",
      "Parsing domain blocks-domain.pddl\n",
      "Parsing problem tworules/problem22.pddl\n",
      "problem22.pddl reward: -10\n",
      "Parsing domain blocks-domain.pddl\n",
      "Parsing problem tworules/problem23.pddl\n"
     ]
    },
    {
     "name": "stderr",
     "output_type": "stream",
     "text": [
      "T: no, put red blocks on blue blocks\n"
     ]
    },
    {
     "name": "stdout",
     "output_type": "stream",
     "text": [
      "(forall (?x) (or (not (red ?x)) (exists (?y) (and (blue ?y) (on ?x ?y)))))\n",
      "bw 0.15\n"
     ]
    },
    {
     "name": "stderr",
     "output_type": "stream",
     "text": [
      "T: no, put red blocks on blue blocks\n"
     ]
    },
    {
     "name": "stdout",
     "output_type": "stream",
     "text": [
      "(forall (?x) (or (not (red ?x)) (exists (?y) (and (blue ?y) (on ?x ?y)))))\n",
      "bw 0.15\n",
      "bw 0.15\n",
      "problem23.pddl reward: -14\n",
      "Parsing domain blocks-domain.pddl\n",
      "Parsing problem tworules/problem24.pddl\n"
     ]
    },
    {
     "name": "stderr",
     "output_type": "stream",
     "text": [
      "T: no, put green blocks on yellow blocks\n"
     ]
    },
    {
     "name": "stdout",
     "output_type": "stream",
     "text": [
      "(forall (?y) (or (not (yellow ?y)) (exists (?x) (and (green ?x) (on ?x ?y)))))\n",
      "bw 0.15\n",
      "bw 0.15\n"
     ]
    },
    {
     "name": "stderr",
     "output_type": "stream",
     "text": [
      "T: no, put green blocks on yellow blocks\n"
     ]
    },
    {
     "name": "stdout",
     "output_type": "stream",
     "text": [
      "(forall (?y) (or (not (yellow ?y)) (exists (?x) (and (green ?x) (on ?x ?y)))))\n",
      "bw 0.15\n"
     ]
    },
    {
     "name": "stderr",
     "output_type": "stream",
     "text": [
      "T: No, now you cannot put b1 in the tower because you must put green blocks on yellow blocks\n",
      "R: Is the top object green?\n",
      "T: yes\n"
     ]
    },
    {
     "name": "stdout",
     "output_type": "stream",
     "text": [
      "bw 0.15\n",
      "bw 0.15\n"
     ]
    },
    {
     "name": "stderr",
     "output_type": "stream",
     "text": [
      "T: No, now you cannot put b1 in the tower because you must put green blocks on yellow blocks\n"
     ]
    },
    {
     "name": "stdout",
     "output_type": "stream",
     "text": [
      "problem24.pddl reward: -18\n",
      "Parsing domain blocks-domain.pddl\n",
      "Parsing problem tworules/problem25.pddl\n"
     ]
    },
    {
     "name": "stderr",
     "output_type": "stream",
     "text": [
      "T: no, put red blocks on blue blocks\n"
     ]
    },
    {
     "name": "stdout",
     "output_type": "stream",
     "text": [
      "(forall (?x) (or (not (red ?x)) (exists (?y) (and (blue ?y) (on ?x ?y)))))\n",
      "bw 0.15\n",
      "bw 0.15\n"
     ]
    },
    {
     "name": "stderr",
     "output_type": "stream",
     "text": [
      "T: no, put red blocks on blue blocks\n"
     ]
    },
    {
     "name": "stdout",
     "output_type": "stream",
     "text": [
      "(forall (?x) (or (not (red ?x)) (exists (?y) (and (blue ?y) (on ?x ?y)))))\n",
      "bw 0.15\n"
     ]
    },
    {
     "name": "stderr",
     "output_type": "stream",
     "text": [
      "T: no, put red blocks on blue blocks\n"
     ]
    },
    {
     "name": "stdout",
     "output_type": "stream",
     "text": [
      "(forall (?x) (or (not (red ?x)) (exists (?y) (and (blue ?y) (on ?x ?y)))))\n",
      "bw 0.15\n",
      "bw 0.15\n"
     ]
    },
    {
     "name": "stderr",
     "output_type": "stream",
     "text": [
      "T: no, put red blocks on blue blocks\n"
     ]
    },
    {
     "name": "stdout",
     "output_type": "stream",
     "text": [
      "(forall (?x) (or (not (red ?x)) (exists (?y) (and (blue ?y) (on ?x ?y)))))\n",
      "bw 0.15\n",
      "problem25.pddl reward: -18\n",
      "Parsing domain blocks-domain.pddl\n",
      "Parsing problem tworules/problem26.pddl\n",
      "problem26.pddl reward: -10\n",
      "Parsing domain blocks-domain.pddl\n",
      "Parsing problem tworules/problem27.pddl\n"
     ]
    },
    {
     "name": "stderr",
     "output_type": "stream",
     "text": [
      "T: No, now you cannot put b2 in the tower because you must put green blocks on yellow blocks\n"
     ]
    },
    {
     "name": "stdout",
     "output_type": "stream",
     "text": [
      "bw 0.15\n",
      "bw 0.15\n",
      "bw 0.15\n",
      "bw 0.15\n"
     ]
    },
    {
     "name": "stderr",
     "output_type": "stream",
     "text": [
      "T: No, now you cannot put b2 in the tower because you must put green blocks on yellow blocks\n"
     ]
    },
    {
     "name": "stdout",
     "output_type": "stream",
     "text": [
      "bw 0.15\n"
     ]
    },
    {
     "name": "stderr",
     "output_type": "stream",
     "text": [
      "T: No, now you cannot put b2 in the tower because you must put green blocks on yellow blocks\n"
     ]
    },
    {
     "name": "stdout",
     "output_type": "stream",
     "text": [
      "bw 0.15\n"
     ]
    },
    {
     "name": "stderr",
     "output_type": "stream",
     "text": [
      "T: No, now you cannot put b2 in the tower because you must put green blocks on yellow blocks\n"
     ]
    },
    {
     "name": "stdout",
     "output_type": "stream",
     "text": [
      "problem27.pddl reward: -18\n",
      "Parsing domain blocks-domain.pddl\n",
      "Parsing problem tworules/problem28.pddl\n"
     ]
    },
    {
     "name": "stderr",
     "output_type": "stream",
     "text": [
      "T: No, now you cannot put b2 in the tower because you must put green blocks on yellow blocks\n"
     ]
    },
    {
     "name": "stdout",
     "output_type": "stream",
     "text": [
      "bw 0.15\n",
      "bw 0.15\n",
      "bw 0.15\n",
      "bw 0.15\n"
     ]
    },
    {
     "name": "stderr",
     "output_type": "stream",
     "text": [
      "T: No, now you cannot put b2 in the tower because you must put green blocks on yellow blocks\n"
     ]
    },
    {
     "name": "stdout",
     "output_type": "stream",
     "text": [
      "bw 0.15\n"
     ]
    },
    {
     "name": "stderr",
     "output_type": "stream",
     "text": [
      "T: No, now you cannot put b2 in the tower because you must put green blocks on yellow blocks\n"
     ]
    },
    {
     "name": "stdout",
     "output_type": "stream",
     "text": [
      "bw 0.15\n"
     ]
    },
    {
     "name": "stderr",
     "output_type": "stream",
     "text": [
      "T: No, now you cannot put b2 in the tower because you must put green blocks on yellow blocks\n",
      "T: No, now you cannot put b2 in the tower because you must put green blocks on yellow blocks\n",
      "T: No, now you cannot put b2 in the tower because you must put green blocks on yellow blocks\n"
     ]
    },
    {
     "name": "stdout",
     "output_type": "stream",
     "text": [
      "problem28.pddl reward: -22\n",
      "Parsing domain blocks-domain.pddl\n",
      "Parsing problem tworules/problem29.pddl\n"
     ]
    },
    {
     "name": "stderr",
     "output_type": "stream",
     "text": [
      "T: no, put red blocks on blue blocks\n"
     ]
    },
    {
     "name": "stdout",
     "output_type": "stream",
     "text": [
      "(forall (?x) (or (not (red ?x)) (exists (?y) (and (blue ?y) (on ?x ?y)))))\n",
      "bw 0.15\n",
      "bw 0.15\n"
     ]
    },
    {
     "name": "stderr",
     "output_type": "stream",
     "text": [
      "T: No, now you cannot put b2 in the tower because you must put green blocks on yellow blocks\n"
     ]
    },
    {
     "name": "stdout",
     "output_type": "stream",
     "text": [
      "bw 0.15\n",
      "bw 0.15\n",
      "bw 0.15\n"
     ]
    },
    {
     "name": "stderr",
     "output_type": "stream",
     "text": [
      "T: No, now you cannot put b2 in the tower because you must put green blocks on yellow blocks\n",
      "T: No, now you cannot put b2 in the tower because you must put green blocks on yellow blocks\n"
     ]
    },
    {
     "name": "stdout",
     "output_type": "stream",
     "text": [
      "bw 0.15\n",
      "problem29.pddl reward: -18\n",
      "Parsing domain blocks-domain.pddl\n",
      "Parsing problem tworules/problem3.pddl\n",
      "problem3.pddl reward: -10\n",
      "Parsing domain blocks-domain.pddl\n",
      "Parsing problem tworules/problem30.pddl\n",
      "problem30.pddl reward: -10\n",
      "Parsing domain blocks-domain.pddl\n",
      "Parsing problem tworules/problem31.pddl\n"
     ]
    },
    {
     "name": "stderr",
     "output_type": "stream",
     "text": [
      "T: no, put green blocks on yellow blocks\n"
     ]
    },
    {
     "name": "stdout",
     "output_type": "stream",
     "text": [
      "(forall (?y) (or (not (yellow ?y)) (exists (?x) (and (green ?x) (on ?x ?y)))))\n",
      "bw 0.15\n",
      "bw 0.15\n"
     ]
    },
    {
     "name": "stderr",
     "output_type": "stream",
     "text": [
      "T: no, put green blocks on yellow blocks\n"
     ]
    },
    {
     "name": "stdout",
     "output_type": "stream",
     "text": [
      "(forall (?y) (or (not (yellow ?y)) (exists (?x) (and (green ?x) (on ?x ?y)))))\n",
      "bw 0.15\n"
     ]
    },
    {
     "name": "stderr",
     "output_type": "stream",
     "text": [
      "T: no, put green blocks on yellow blocks\n"
     ]
    },
    {
     "name": "stdout",
     "output_type": "stream",
     "text": [
      "(forall (?y) (or (not (yellow ?y)) (exists (?x) (and (green ?x) (on ?x ?y)))))\n",
      "bw 0.15\n"
     ]
    },
    {
     "name": "stderr",
     "output_type": "stream",
     "text": [
      "T: no, put green blocks on yellow blocks\n"
     ]
    },
    {
     "name": "stdout",
     "output_type": "stream",
     "text": [
      "(forall (?y) (or (not (yellow ?y)) (exists (?x) (and (green ?x) (on ?x ?y)))))\n",
      "bw 0.15\n"
     ]
    },
    {
     "name": "stderr",
     "output_type": "stream",
     "text": [
      "T: no, put red blocks on blue blocks\n"
     ]
    },
    {
     "name": "stdout",
     "output_type": "stream",
     "text": [
      "(forall (?x) (or (not (red ?x)) (exists (?y) (and (blue ?y) (on ?x ?y)))))\n",
      "bw 0.15\n"
     ]
    },
    {
     "name": "stderr",
     "output_type": "stream",
     "text": [
      "T: no, put green blocks on yellow blocks\n"
     ]
    },
    {
     "name": "stdout",
     "output_type": "stream",
     "text": [
      "(forall (?y) (or (not (yellow ?y)) (exists (?x) (and (green ?x) (on ?x ?y)))))\n",
      "bw 0.15\n"
     ]
    },
    {
     "name": "stderr",
     "output_type": "stream",
     "text": [
      "T: no, put red blocks on blue blocks\n"
     ]
    },
    {
     "name": "stdout",
     "output_type": "stream",
     "text": [
      "(forall (?x) (or (not (red ?x)) (exists (?y) (and (blue ?y) (on ?x ?y)))))\n",
      "problem31.pddl reward: -24\n",
      "Parsing domain blocks-domain.pddl\n",
      "Parsing problem tworules/problem32.pddl\n"
     ]
    },
    {
     "name": "stderr",
     "output_type": "stream",
     "text": [
      "T: no, put red blocks on blue blocks\n"
     ]
    },
    {
     "name": "stdout",
     "output_type": "stream",
     "text": [
      "(forall (?x) (or (not (red ?x)) (exists (?y) (and (blue ?y) (on ?x ?y)))))\n",
      "bw 0.15\n",
      "bw 0.15\n"
     ]
    },
    {
     "name": "stderr",
     "output_type": "stream",
     "text": [
      "T: no, put red blocks on blue blocks\n"
     ]
    },
    {
     "name": "stdout",
     "output_type": "stream",
     "text": [
      "(forall (?x) (or (not (red ?x)) (exists (?y) (and (blue ?y) (on ?x ?y)))))\n",
      "bw 0.15\n",
      "problem32.pddl reward: -14\n",
      "Parsing domain blocks-domain.pddl\n",
      "Parsing problem tworules/problem33.pddl\n"
     ]
    },
    {
     "name": "stderr",
     "output_type": "stream",
     "text": [
      "T: no, put red blocks on blue blocks\n"
     ]
    },
    {
     "name": "stdout",
     "output_type": "stream",
     "text": [
      "(forall (?x) (or (not (red ?x)) (exists (?y) (and (blue ?y) (on ?x ?y)))))\n",
      "bw 0.15\n"
     ]
    },
    {
     "name": "stderr",
     "output_type": "stream",
     "text": [
      "T: no, put red blocks on blue blocks\n"
     ]
    },
    {
     "name": "stdout",
     "output_type": "stream",
     "text": [
      "(forall (?x) (or (not (red ?x)) (exists (?y) (and (blue ?y) (on ?x ?y)))))\n",
      "bw 0.15\n",
      "bw 0.15\n"
     ]
    },
    {
     "name": "stderr",
     "output_type": "stream",
     "text": [
      "T: no, put red blocks on blue blocks\n"
     ]
    },
    {
     "name": "stdout",
     "output_type": "stream",
     "text": [
      "(forall (?x) (or (not (red ?x)) (exists (?y) (and (blue ?y) (on ?x ?y)))))\n",
      "bw 0.15\n"
     ]
    },
    {
     "name": "stderr",
     "output_type": "stream",
     "text": [
      "T: No, now you cannot put b1 in the tower because you must put green blocks on yellow blocks\n"
     ]
    },
    {
     "name": "stdout",
     "output_type": "stream",
     "text": [
      "bw 0.15\n",
      "bw 0.15\n",
      "bw 0.15\n"
     ]
    },
    {
     "name": "stderr",
     "output_type": "stream",
     "text": [
      "T: no, put red blocks on blue blocks\n"
     ]
    },
    {
     "name": "stdout",
     "output_type": "stream",
     "text": [
      "(forall (?x) (or (not (red ?x)) (exists (?y) (and (blue ?y) (on ?x ?y)))))\n",
      "bw 0.15\n"
     ]
    },
    {
     "name": "stderr",
     "output_type": "stream",
     "text": [
      "T: No, now you cannot put b1 in the tower because you must put green blocks on yellow blocks\n",
      "T: no, put red blocks on blue blocks\n"
     ]
    },
    {
     "name": "stdout",
     "output_type": "stream",
     "text": [
      "(forall (?x) (or (not (red ?x)) (exists (?y) (and (blue ?y) (on ?x ?y)))))\n",
      "bw 0.15\n"
     ]
    },
    {
     "name": "stderr",
     "output_type": "stream",
     "text": [
      "T: No, now you cannot put b1 in the tower because you must put green blocks on yellow blocks\n",
      "T: no, put red blocks on blue blocks\n"
     ]
    },
    {
     "name": "stdout",
     "output_type": "stream",
     "text": [
      "(forall (?x) (or (not (red ?x)) (exists (?y) (and (blue ?y) (on ?x ?y)))))\n"
     ]
    },
    {
     "name": "stderr",
     "output_type": "stream",
     "text": [
      "T: no, put red blocks on blue blocks\n"
     ]
    },
    {
     "name": "stdout",
     "output_type": "stream",
     "text": [
      "(forall (?x) (or (not (red ?x)) (exists (?y) (and (blue ?y) (on ?x ?y)))))\n",
      "problem33.pddl reward: -30\n",
      "Parsing domain blocks-domain.pddl\n",
      "Parsing problem tworules/problem34.pddl\n"
     ]
    },
    {
     "name": "stderr",
     "output_type": "stream",
     "text": [
      "T: no, put red blocks on blue blocks\n"
     ]
    },
    {
     "name": "stdout",
     "output_type": "stream",
     "text": [
      "(forall (?x) (or (not (red ?x)) (exists (?y) (and (blue ?y) (on ?x ?y)))))\n",
      "bw 0.15\n"
     ]
    },
    {
     "name": "stderr",
     "output_type": "stream",
     "text": [
      "T: No, now you cannot put b3 in the tower because you must put green blocks on yellow blocks\n"
     ]
    },
    {
     "name": "stdout",
     "output_type": "stream",
     "text": [
      "bw 0.15\n",
      "bw 0.15\n"
     ]
    },
    {
     "name": "stderr",
     "output_type": "stream",
     "text": [
      "T: no, put red blocks on blue blocks\n"
     ]
    },
    {
     "name": "stdout",
     "output_type": "stream",
     "text": [
      "(forall (?x) (or (not (red ?x)) (exists (?y) (and (blue ?y) (on ?x ?y)))))\n"
     ]
    },
    {
     "name": "stderr",
     "output_type": "stream",
     "text": [
      "T: No, now you cannot put b3 in the tower because you must put green blocks on yellow blocks\n",
      "T: No, now you cannot put b3 in the tower because you must put green blocks on yellow blocks\n",
      "T: No, now you cannot put b3 in the tower because you must put green blocks on yellow blocks\n"
     ]
    },
    {
     "name": "stdout",
     "output_type": "stream",
     "text": [
      "bw 0.15\n"
     ]
    },
    {
     "name": "stderr",
     "output_type": "stream",
     "text": [
      "T: No, now you cannot put b3 in the tower because you must put green blocks on yellow blocks\n"
     ]
    },
    {
     "name": "stdout",
     "output_type": "stream",
     "text": [
      "problem34.pddl reward: -24\n",
      "Parsing domain blocks-domain.pddl\n",
      "Parsing problem tworules/problem35.pddl\n",
      "problem35.pddl reward: -10\n",
      "Parsing domain blocks-domain.pddl\n",
      "Parsing problem tworules/problem36.pddl\n",
      "problem36.pddl reward: -10\n",
      "Parsing domain blocks-domain.pddl\n",
      "Parsing problem tworules/problem37.pddl\n"
     ]
    },
    {
     "name": "stderr",
     "output_type": "stream",
     "text": [
      "T: no, put green blocks on yellow blocks\n"
     ]
    },
    {
     "name": "stdout",
     "output_type": "stream",
     "text": [
      "(forall (?y) (or (not (yellow ?y)) (exists (?x) (and (green ?x) (on ?x ?y)))))\n",
      "bw 0.15\n",
      "bw 0.15\n"
     ]
    },
    {
     "name": "stderr",
     "output_type": "stream",
     "text": [
      "T: no, put green blocks on yellow blocks\n"
     ]
    },
    {
     "name": "stdout",
     "output_type": "stream",
     "text": [
      "(forall (?y) (or (not (yellow ?y)) (exists (?x) (and (green ?x) (on ?x ?y)))))\n",
      "bw 0.15\n",
      "problem37.pddl reward: -14\n",
      "Parsing domain blocks-domain.pddl\n",
      "Parsing problem tworules/problem38.pddl\n"
     ]
    },
    {
     "name": "stderr",
     "output_type": "stream",
     "text": [
      "T: No, now you cannot put b0 in the tower because you must put red blocks on blue blocks\n"
     ]
    },
    {
     "name": "stdout",
     "output_type": "stream",
     "text": [
      "bw 0.15\n",
      "bw 0.15\n",
      "bw 0.15\n",
      "bw 0.15\n"
     ]
    },
    {
     "name": "stderr",
     "output_type": "stream",
     "text": [
      "T: No, now you cannot put b0 in the tower because you must put red blocks on blue blocks\n"
     ]
    },
    {
     "name": "stdout",
     "output_type": "stream",
     "text": [
      "bw 0.15\n"
     ]
    },
    {
     "name": "stderr",
     "output_type": "stream",
     "text": [
      "T: No, now you cannot put b0 in the tower because you must put red blocks on blue blocks\n",
      "T: No, now you cannot put b0 in the tower because you must put red blocks on blue blocks\n"
     ]
    },
    {
     "name": "stdout",
     "output_type": "stream",
     "text": [
      "problem38.pddl reward: -18\n",
      "Parsing domain blocks-domain.pddl\n",
      "Parsing problem tworules/problem39.pddl\n",
      "problem39.pddl reward: -10\n",
      "Parsing domain blocks-domain.pddl\n",
      "Parsing problem tworules/problem4.pddl\n"
     ]
    },
    {
     "name": "stderr",
     "output_type": "stream",
     "text": [
      "T: no, put green blocks on yellow blocks\n"
     ]
    },
    {
     "name": "stdout",
     "output_type": "stream",
     "text": [
      "(forall (?y) (or (not (yellow ?y)) (exists (?x) (and (green ?x) (on ?x ?y)))))\n",
      "bw 0.15\n",
      "bw 0.15\n"
     ]
    },
    {
     "name": "stderr",
     "output_type": "stream",
     "text": [
      "T: no, put red blocks on blue blocks\n"
     ]
    },
    {
     "name": "stdout",
     "output_type": "stream",
     "text": [
      "(forall (?x) (or (not (red ?x)) (exists (?y) (and (blue ?y) (on ?x ?y)))))\n",
      "bw 0.15\n"
     ]
    },
    {
     "name": "stderr",
     "output_type": "stream",
     "text": [
      "T: no, put green blocks on yellow blocks\n"
     ]
    },
    {
     "name": "stdout",
     "output_type": "stream",
     "text": [
      "(forall (?y) (or (not (yellow ?y)) (exists (?x) (and (green ?x) (on ?x ?y)))))\n",
      "bw 0.15\n"
     ]
    },
    {
     "name": "stderr",
     "output_type": "stream",
     "text": [
      "T: no, put green blocks on yellow blocks\n"
     ]
    },
    {
     "name": "stdout",
     "output_type": "stream",
     "text": [
      "(forall (?y) (or (not (yellow ?y)) (exists (?x) (and (green ?x) (on ?x ?y)))))\n",
      "bw 0.15\n"
     ]
    },
    {
     "name": "stderr",
     "output_type": "stream",
     "text": [
      "T: no, put red blocks on blue blocks\n"
     ]
    },
    {
     "name": "stdout",
     "output_type": "stream",
     "text": [
      "(forall (?x) (or (not (red ?x)) (exists (?y) (and (blue ?y) (on ?x ?y)))))\n"
     ]
    },
    {
     "name": "stderr",
     "output_type": "stream",
     "text": [
      "T: no, put red blocks on blue blocks\n"
     ]
    },
    {
     "name": "stdout",
     "output_type": "stream",
     "text": [
      "(forall (?x) (or (not (red ?x)) (exists (?y) (and (blue ?y) (on ?x ?y)))))\n"
     ]
    },
    {
     "name": "stderr",
     "output_type": "stream",
     "text": [
      "T: no, put red blocks on blue blocks\n"
     ]
    },
    {
     "name": "stdout",
     "output_type": "stream",
     "text": [
      "(forall (?x) (or (not (red ?x)) (exists (?y) (and (blue ?y) (on ?x ?y)))))\n"
     ]
    },
    {
     "name": "stderr",
     "output_type": "stream",
     "text": [
      "T: no, put red blocks on blue blocks\n"
     ]
    },
    {
     "name": "stdout",
     "output_type": "stream",
     "text": [
      "(forall (?x) (or (not (red ?x)) (exists (?y) (and (blue ?y) (on ?x ?y)))))\n"
     ]
    },
    {
     "name": "stderr",
     "output_type": "stream",
     "text": [
      "T: no, put red blocks on blue blocks\n"
     ]
    },
    {
     "name": "stdout",
     "output_type": "stream",
     "text": [
      "(forall (?x) (or (not (red ?x)) (exists (?y) (and (blue ?y) (on ?x ?y)))))\n",
      "problem4.pddl reward: -28\n",
      "Parsing domain blocks-domain.pddl\n",
      "Parsing problem tworules/problem40.pddl\n"
     ]
    },
    {
     "name": "stderr",
     "output_type": "stream",
     "text": [
      "T: no, put red blocks on blue blocks\n"
     ]
    },
    {
     "name": "stdout",
     "output_type": "stream",
     "text": [
      "(forall (?x) (or (not (red ?x)) (exists (?y) (and (blue ?y) (on ?x ?y)))))\n",
      "bw 0.15\n",
      "bw 0.15\n"
     ]
    },
    {
     "name": "stderr",
     "output_type": "stream",
     "text": [
      "T: no, put red blocks on blue blocks\n"
     ]
    },
    {
     "name": "stdout",
     "output_type": "stream",
     "text": [
      "(forall (?x) (or (not (red ?x)) (exists (?y) (and (blue ?y) (on ?x ?y)))))\n",
      "bw 0.15\n"
     ]
    },
    {
     "name": "stderr",
     "output_type": "stream",
     "text": [
      "T: no, put red blocks on blue blocks\n"
     ]
    },
    {
     "name": "stdout",
     "output_type": "stream",
     "text": [
      "(forall (?x) (or (not (red ?x)) (exists (?y) (and (blue ?y) (on ?x ?y)))))\n",
      "bw 0.15\n",
      "problem40.pddl reward: -16\n",
      "Parsing domain blocks-domain.pddl\n",
      "Parsing problem tworules/problem41.pddl\n"
     ]
    },
    {
     "name": "stderr",
     "output_type": "stream",
     "text": [
      "T: no, put red blocks on blue blocks\n"
     ]
    },
    {
     "name": "stdout",
     "output_type": "stream",
     "text": [
      "(forall (?x) (or (not (red ?x)) (exists (?y) (and (blue ?y) (on ?x ?y)))))\n",
      "bw 0.15\n",
      "bw 0.15\n"
     ]
    },
    {
     "name": "stderr",
     "output_type": "stream",
     "text": [
      "T: No, now you cannot put b4 in the tower because you must put green blocks on yellow blocks\n"
     ]
    },
    {
     "name": "stdout",
     "output_type": "stream",
     "text": [
      "bw 0.15\n",
      "bw 0.15\n",
      "bw 0.15\n"
     ]
    },
    {
     "name": "stderr",
     "output_type": "stream",
     "text": [
      "T: no, put red blocks on blue blocks\n"
     ]
    },
    {
     "name": "stdout",
     "output_type": "stream",
     "text": [
      "(forall (?x) (or (not (red ?x)) (exists (?y) (and (blue ?y) (on ?x ?y)))))\n"
     ]
    },
    {
     "name": "stderr",
     "output_type": "stream",
     "text": [
      "T: no, put red blocks on blue blocks\n"
     ]
    },
    {
     "name": "stdout",
     "output_type": "stream",
     "text": [
      "(forall (?x) (or (not (red ?x)) (exists (?y) (and (blue ?y) (on ?x ?y)))))\n"
     ]
    },
    {
     "name": "stderr",
     "output_type": "stream",
     "text": [
      "T: No, now you cannot put b0 in the tower because you must put red blocks on blue blocks\n"
     ]
    },
    {
     "name": "stdout",
     "output_type": "stream",
     "text": [
      "bw 0.15\n",
      "bw 0.15\n",
      "bw 0.15\n",
      "bw 0.15\n",
      "problem41.pddl reward: -20\n",
      "Parsing domain blocks-domain.pddl\n",
      "Parsing problem tworules/problem42.pddl\n"
     ]
    },
    {
     "name": "stderr",
     "output_type": "stream",
     "text": [
      "T: No, now you cannot put b1 in the tower because you must put red blocks on blue blocks\n"
     ]
    },
    {
     "name": "stdout",
     "output_type": "stream",
     "text": [
      "bw 0.15\n",
      "bw 0.15\n",
      "bw 0.15\n",
      "bw 0.15\n"
     ]
    },
    {
     "name": "stderr",
     "output_type": "stream",
     "text": [
      "T: No, now you cannot put b1 in the tower because you must put red blocks on blue blocks\n"
     ]
    },
    {
     "name": "stdout",
     "output_type": "stream",
     "text": [
      "bw 0.15\n"
     ]
    },
    {
     "name": "stderr",
     "output_type": "stream",
     "text": [
      "T: No, now you cannot put b0 in the tower because you must put green blocks on yellow blocks\n"
     ]
    },
    {
     "name": "stdout",
     "output_type": "stream",
     "text": [
      "bw 0.15\n",
      "bw 0.15\n",
      "bw 0.15\n"
     ]
    },
    {
     "name": "stderr",
     "output_type": "stream",
     "text": [
      "T: No, now you cannot put b0 in the tower because you must put green blocks on yellow blocks\n",
      "T: No, now you cannot put b0 in the tower because you must put green blocks on yellow blocks\n"
     ]
    },
    {
     "name": "stdout",
     "output_type": "stream",
     "text": [
      "bw 0.15\n"
     ]
    },
    {
     "name": "stderr",
     "output_type": "stream",
     "text": [
      "T: No, now you cannot put b0 in the tower because you must put green blocks on yellow blocks\n",
      "T: No, now you cannot put b1 in the tower because you must put red blocks on blue blocks\n"
     ]
    },
    {
     "name": "stdout",
     "output_type": "stream",
     "text": [
      "bw 0.15\n"
     ]
    },
    {
     "name": "stderr",
     "output_type": "stream",
     "text": [
      "T: No, now you cannot put b0 in the tower because you must put green blocks on yellow blocks\n"
     ]
    },
    {
     "name": "stdout",
     "output_type": "stream",
     "text": [
      "problem42.pddl reward: -26\n",
      "Parsing domain blocks-domain.pddl\n",
      "Parsing problem tworules/problem43.pddl\n"
     ]
    },
    {
     "name": "stderr",
     "output_type": "stream",
     "text": [
      "T: no, put red blocks on blue blocks\n"
     ]
    },
    {
     "name": "stdout",
     "output_type": "stream",
     "text": [
      "(forall (?x) (or (not (red ?x)) (exists (?y) (and (blue ?y) (on ?x ?y)))))\n",
      "bw 0.15\n",
      "bw 0.15\n"
     ]
    },
    {
     "name": "stderr",
     "output_type": "stream",
     "text": [
      "T: no, put red blocks on blue blocks\n"
     ]
    },
    {
     "name": "stdout",
     "output_type": "stream",
     "text": [
      "(forall (?x) (or (not (red ?x)) (exists (?y) (and (blue ?y) (on ?x ?y)))))\n",
      "bw 0.15\n"
     ]
    },
    {
     "name": "stderr",
     "output_type": "stream",
     "text": [
      "T: no, put green blocks on yellow blocks\n"
     ]
    },
    {
     "name": "stdout",
     "output_type": "stream",
     "text": [
      "(forall (?y) (or (not (yellow ?y)) (exists (?x) (and (green ?x) (on ?x ?y)))))\n",
      "bw 0.15\n"
     ]
    },
    {
     "name": "stderr",
     "output_type": "stream",
     "text": [
      "T: no, put green blocks on yellow blocks\n"
     ]
    },
    {
     "name": "stdout",
     "output_type": "stream",
     "text": [
      "(forall (?y) (or (not (yellow ?y)) (exists (?x) (and (green ?x) (on ?x ?y)))))\n",
      "bw 0.15\n"
     ]
    },
    {
     "name": "stderr",
     "output_type": "stream",
     "text": [
      "T: no, put green blocks on yellow blocks\n"
     ]
    },
    {
     "name": "stdout",
     "output_type": "stream",
     "text": [
      "(forall (?y) (or (not (yellow ?y)) (exists (?x) (and (green ?x) (on ?x ?y)))))\n",
      "bw 0.15\n"
     ]
    },
    {
     "name": "stderr",
     "output_type": "stream",
     "text": [
      "T: no, put red blocks on blue blocks\n"
     ]
    },
    {
     "name": "stdout",
     "output_type": "stream",
     "text": [
      "(forall (?x) (or (not (red ?x)) (exists (?y) (and (blue ?y) (on ?x ?y)))))\n",
      "bw 0.15\n"
     ]
    },
    {
     "name": "stderr",
     "output_type": "stream",
     "text": [
      "T: no, put red blocks on blue blocks\n"
     ]
    },
    {
     "name": "stdout",
     "output_type": "stream",
     "text": [
      "(forall (?x) (or (not (red ?x)) (exists (?y) (and (blue ?y) (on ?x ?y)))))\n"
     ]
    },
    {
     "name": "stderr",
     "output_type": "stream",
     "text": [
      "T: no, put red blocks on blue blocks\n"
     ]
    },
    {
     "name": "stdout",
     "output_type": "stream",
     "text": [
      "(forall (?x) (or (not (red ?x)) (exists (?y) (and (blue ?y) (on ?x ?y)))))\n",
      "problem43.pddl reward: -26\n",
      "Parsing domain blocks-domain.pddl\n",
      "Parsing problem tworules/problem44.pddl\n",
      "problem44.pddl reward: -10\n",
      "Parsing domain blocks-domain.pddl\n",
      "Parsing problem tworules/problem45.pddl\n"
     ]
    },
    {
     "name": "stderr",
     "output_type": "stream",
     "text": [
      "T: No, now you cannot put b4 in the tower because you must put green blocks on yellow blocks\n"
     ]
    },
    {
     "name": "stdout",
     "output_type": "stream",
     "text": [
      "bw 0.15\n",
      "bw 0.15\n",
      "bw 0.15\n",
      "bw 0.15\n",
      "problem45.pddl reward: -12\n",
      "Parsing domain blocks-domain.pddl\n",
      "Parsing problem tworules/problem46.pddl\n",
      "problem46.pddl reward: -10\n",
      "Parsing domain blocks-domain.pddl\n",
      "Parsing problem tworules/problem47.pddl\n",
      "problem47.pddl reward: -10\n",
      "Parsing domain blocks-domain.pddl\n",
      "Parsing problem tworules/problem48.pddl\n"
     ]
    },
    {
     "name": "stderr",
     "output_type": "stream",
     "text": [
      "T: no, put green blocks on yellow blocks\n"
     ]
    },
    {
     "name": "stdout",
     "output_type": "stream",
     "text": [
      "(forall (?y) (or (not (yellow ?y)) (exists (?x) (and (green ?x) (on ?x ?y)))))\n",
      "bw 0.15\n",
      "bw 0.15\n"
     ]
    },
    {
     "name": "stderr",
     "output_type": "stream",
     "text": [
      "T: no, put green blocks on yellow blocks\n"
     ]
    },
    {
     "name": "stdout",
     "output_type": "stream",
     "text": [
      "(forall (?y) (or (not (yellow ?y)) (exists (?x) (and (green ?x) (on ?x ?y)))))\n",
      "bw 0.15\n"
     ]
    },
    {
     "name": "stderr",
     "output_type": "stream",
     "text": [
      "T: no, put green blocks on yellow blocks\n"
     ]
    },
    {
     "name": "stdout",
     "output_type": "stream",
     "text": [
      "(forall (?y) (or (not (yellow ?y)) (exists (?x) (and (green ?x) (on ?x ?y)))))\n",
      "bw 0.15\n"
     ]
    },
    {
     "name": "stderr",
     "output_type": "stream",
     "text": [
      "T: no, put green blocks on yellow blocks\n"
     ]
    },
    {
     "name": "stdout",
     "output_type": "stream",
     "text": [
      "(forall (?y) (or (not (yellow ?y)) (exists (?x) (and (green ?x) (on ?x ?y)))))\n",
      "bw 0.15\n"
     ]
    },
    {
     "name": "stderr",
     "output_type": "stream",
     "text": [
      "T: no, put green blocks on yellow blocks\n"
     ]
    },
    {
     "name": "stdout",
     "output_type": "stream",
     "text": [
      "(forall (?y) (or (not (yellow ?y)) (exists (?x) (and (green ?x) (on ?x ?y)))))\n"
     ]
    },
    {
     "name": "stderr",
     "output_type": "stream",
     "text": [
      "T: no, put green blocks on yellow blocks\n"
     ]
    },
    {
     "name": "stdout",
     "output_type": "stream",
     "text": [
      "(forall (?y) (or (not (yellow ?y)) (exists (?x) (and (green ?x) (on ?x ?y)))))\n"
     ]
    },
    {
     "name": "stderr",
     "output_type": "stream",
     "text": [
      "T: no, put green blocks on yellow blocks\n"
     ]
    },
    {
     "name": "stdout",
     "output_type": "stream",
     "text": [
      "(forall (?y) (or (not (yellow ?y)) (exists (?x) (and (green ?x) (on ?x ?y)))))\n",
      "problem48.pddl reward: -24\n",
      "Parsing domain blocks-domain.pddl\n",
      "Parsing problem tworules/problem49.pddl\n"
     ]
    },
    {
     "name": "stderr",
     "output_type": "stream",
     "text": [
      "T: No, now you cannot put b1 in the tower because you must put green blocks on yellow blocks\n"
     ]
    },
    {
     "name": "stdout",
     "output_type": "stream",
     "text": [
      "bw 0.15\n",
      "bw 0.15\n",
      "bw 0.15\n",
      "bw 0.15\n"
     ]
    },
    {
     "name": "stderr",
     "output_type": "stream",
     "text": [
      "T: No, now you cannot put b1 in the tower because you must put green blocks on yellow blocks\n"
     ]
    },
    {
     "name": "stdout",
     "output_type": "stream",
     "text": [
      "bw 0.15\n",
      "problem49.pddl reward: -14\n",
      "Parsing domain blocks-domain.pddl\n",
      "Parsing problem tworules/problem5.pddl\n"
     ]
    },
    {
     "name": "stderr",
     "output_type": "stream",
     "text": [
      "T: No, now you cannot put b3 in the tower because you must put red blocks on blue blocks\n"
     ]
    },
    {
     "name": "stdout",
     "output_type": "stream",
     "text": [
      "bw 0.15\n",
      "bw 0.15\n",
      "bw 0.15\n",
      "bw 0.15\n"
     ]
    },
    {
     "name": "stderr",
     "output_type": "stream",
     "text": [
      "T: No, now you cannot put b3 in the tower because you must put red blocks on blue blocks\n"
     ]
    },
    {
     "name": "stdout",
     "output_type": "stream",
     "text": [
      "bw 0.15\n"
     ]
    },
    {
     "name": "stderr",
     "output_type": "stream",
     "text": [
      "T: No, now you cannot put b3 in the tower because you must put red blocks on blue blocks\n"
     ]
    },
    {
     "name": "stdout",
     "output_type": "stream",
     "text": [
      "bw 0.15\n"
     ]
    },
    {
     "name": "stderr",
     "output_type": "stream",
     "text": [
      "T: No, now you cannot put b3 in the tower because you must put red blocks on blue blocks\n",
      "T: No, now you cannot put b3 in the tower because you must put red blocks on blue blocks\n",
      "T: No, now you cannot put b4 in the tower because you must put green blocks on yellow blocks\n",
      "R: Is the top object green?\n",
      "T: yes\n"
     ]
    },
    {
     "name": "stdout",
     "output_type": "stream",
     "text": [
      "problem5.pddl reward: -22\n",
      "Parsing domain blocks-domain.pddl\n",
      "Parsing problem tworules/problem50.pddl\n",
      "problem50.pddl reward: -10\n",
      "Parsing domain blocks-domain.pddl\n",
      "Parsing problem tworules/problem6.pddl\n"
     ]
    },
    {
     "name": "stderr",
     "output_type": "stream",
     "text": [
      "T: No, now you cannot put b0 in the tower because you must put green blocks on yellow blocks\n"
     ]
    },
    {
     "name": "stdout",
     "output_type": "stream",
     "text": [
      "bw 0.15\n",
      "bw 0.15\n"
     ]
    },
    {
     "name": "stderr",
     "output_type": "stream",
     "text": [
      "T: No, now you cannot put b0 in the tower because you must put green blocks on yellow blocks\n",
      "T: No, now you cannot put b0 in the tower because you must put green blocks on yellow blocks\n",
      "T: No, now you cannot put b0 in the tower because you must put green blocks on yellow blocks\n",
      "T: No, now you cannot put b0 in the tower because you must put green blocks on yellow blocks\n",
      "T: No, now you cannot put b0 in the tower because you must put green blocks on yellow blocks\n",
      "T: No, now you cannot put b0 in the tower because you must put green blocks on yellow blocks\n"
     ]
    },
    {
     "name": "stdout",
     "output_type": "stream",
     "text": [
      "bw 0.15\n",
      "problem6.pddl reward: -24\n",
      "Parsing domain blocks-domain.pddl\n",
      "Parsing problem tworules/problem7.pddl\n",
      "problem7.pddl reward: -10\n",
      "Parsing domain blocks-domain.pddl\n",
      "Parsing problem tworules/problem8.pddl\n"
     ]
    },
    {
     "name": "stderr",
     "output_type": "stream",
     "text": [
      "T: no, put red blocks on blue blocks\n"
     ]
    },
    {
     "name": "stdout",
     "output_type": "stream",
     "text": [
      "(forall (?x) (or (not (red ?x)) (exists (?y) (and (blue ?y) (on ?x ?y)))))\n",
      "bw 0.15\n"
     ]
    },
    {
     "name": "stderr",
     "output_type": "stream",
     "text": [
      "T: No, now you cannot put b5 in the tower because you must put green blocks on yellow blocks\n"
     ]
    },
    {
     "name": "stdout",
     "output_type": "stream",
     "text": [
      "bw 0.15\n",
      "bw 0.15\n"
     ]
    },
    {
     "name": "stderr",
     "output_type": "stream",
     "text": [
      "T: No, now you cannot put b5 in the tower because you must put green blocks on yellow blocks\n",
      "T: No, now you cannot put b5 in the tower because you must put green blocks on yellow blocks\n"
     ]
    },
    {
     "name": "stdout",
     "output_type": "stream",
     "text": [
      "problem8.pddl reward: -18\n",
      "Parsing domain blocks-domain.pddl\n",
      "Parsing problem tworules/problem9.pddl\n",
      "problem9.pddl reward: -10\n"
     ]
    }
   ],
   "source": [
    "add_experiment('tworules_kde', None)"
   ]
  },
  {
   "cell_type": "code",
   "execution_count": 14,
   "metadata": {
    "scrolled": true
   },
   "outputs": [
    {
     "name": "stdout",
     "output_type": "stream",
     "text": [
      "Parsing domain blocks-domain.pddl\n",
      "Parsing problem tworules/problem1.pddl\n",
      "Parsing domain blocks-domain.pddl\n",
      "Parsing problem tworules/problem1.pddl\n"
     ]
    },
    {
     "name": "stderr",
     "output_type": "stream",
     "text": [
      "T: No, now you cannot put b1 in the tower because you must put green blocks on yellow blocks\n",
      "R: Is the top object green?\n",
      "T: yes\n",
      "T: No, now you cannot put b1 in the tower because you must put green blocks on yellow blocks\n"
     ]
    },
    {
     "name": "stdout",
     "output_type": "stream",
     "text": [
      "bw 1.0\n",
      "bw 1.0\n",
      "bw 1.0\n"
     ]
    },
    {
     "name": "stderr",
     "output_type": "stream",
     "text": [
      "T: No, now you cannot put b1 in the tower because you must put green blocks on yellow blocks\n"
     ]
    },
    {
     "name": "stdout",
     "output_type": "stream",
     "text": [
      "bw 0.5\n",
      "bw 0.3333333333333333\n"
     ]
    },
    {
     "name": "stderr",
     "output_type": "stream",
     "text": [
      "T: No, now you cannot put b1 in the tower because you must put green blocks on yellow blocks\n",
      "T: No, now you cannot put b1 in the tower because you must put green blocks on yellow blocks\n"
     ]
    },
    {
     "name": "stdout",
     "output_type": "stream",
     "text": [
      "bw 0.25\n",
      "bw 0.2\n",
      "problem1.pddl reward: -20\n",
      "Parsing domain blocks-domain.pddl\n",
      "Parsing problem tworules/problem10.pddl"
     ]
    },
    {
     "name": "stderr",
     "output_type": "stream",
     "text": [
      "T: No, now you cannot put b4 in the tower because you must put red blocks on blue blocks\n",
      "R: Is the top object red?\n",
      "T: no\n"
     ]
    },
    {
     "name": "stdout",
     "output_type": "stream",
     "text": [
      "\n",
      "bw 1.0\n",
      "bw 1.0\n",
      "bw 1.0\n",
      "problem10.pddl reward: -12\n",
      "Parsing domain blocks-domain.pddl\n",
      "Parsing problem tworules/problem11.pddl\n"
     ]
    },
    {
     "name": "stderr",
     "output_type": "stream",
     "text": [
      "T: no, put red blocks on blue blocks\n"
     ]
    },
    {
     "name": "stdout",
     "output_type": "stream",
     "text": [
      "(forall (?x) (or (not (red ?x)) (exists (?y) (and (blue ?y) (on ?x ?y)))))\n",
      "bw 0.5\n"
     ]
    },
    {
     "name": "stderr",
     "output_type": "stream",
     "text": [
      "T: no, put red blocks on blue blocks\n"
     ]
    },
    {
     "name": "stdout",
     "output_type": "stream",
     "text": [
      "(forall (?x) (or (not (red ?x)) (exists (?y) (and (blue ?y) (on ?x ?y)))))\n",
      "bw 0.3333333333333333\n"
     ]
    },
    {
     "name": "stderr",
     "output_type": "stream",
     "text": [
      "T: no, put red blocks on blue blocks\n"
     ]
    },
    {
     "name": "stdout",
     "output_type": "stream",
     "text": [
      "(forall (?x) (or (not (red ?x)) (exists (?y) (and (blue ?y) (on ?x ?y)))))\n",
      "bw 1.0\n"
     ]
    },
    {
     "name": "stderr",
     "output_type": "stream",
     "text": [
      "T: no, put red blocks on blue blocks\n"
     ]
    },
    {
     "name": "stdout",
     "output_type": "stream",
     "text": [
      "(forall (?x) (or (not (red ?x)) (exists (?y) (and (blue ?y) (on ?x ?y)))))\n"
     ]
    },
    {
     "name": "stderr",
     "output_type": "stream",
     "text": [
      "T: no, put red blocks on blue blocks\n"
     ]
    },
    {
     "name": "stdout",
     "output_type": "stream",
     "text": [
      "(forall (?x) (or (not (red ?x)) (exists (?y) (and (blue ?y) (on ?x ?y)))))\n",
      "bw 0.5\n"
     ]
    },
    {
     "name": "stderr",
     "output_type": "stream",
     "text": [
      "T: no, put red blocks on blue blocks\n"
     ]
    },
    {
     "name": "stdout",
     "output_type": "stream",
     "text": [
      "(forall (?x) (or (not (red ?x)) (exists (?y) (and (blue ?y) (on ?x ?y)))))\n"
     ]
    },
    {
     "name": "stderr",
     "output_type": "stream",
     "text": [
      "T: no, put red blocks on blue blocks\n"
     ]
    },
    {
     "name": "stdout",
     "output_type": "stream",
     "text": [
      "(forall (?x) (or (not (red ?x)) (exists (?y) (and (blue ?y) (on ?x ?y)))))\n",
      "bw 0.3333333333333333\n"
     ]
    },
    {
     "name": "stderr",
     "output_type": "stream",
     "text": [
      "T: no, put red blocks on blue blocks\n"
     ]
    },
    {
     "name": "stdout",
     "output_type": "stream",
     "text": [
      "(forall (?x) (or (not (red ?x)) (exists (?y) (and (blue ?y) (on ?x ?y)))))\n"
     ]
    },
    {
     "name": "stderr",
     "output_type": "stream",
     "text": [
      "T: no, put red blocks on blue blocks\n"
     ]
    },
    {
     "name": "stdout",
     "output_type": "stream",
     "text": [
      "(forall (?x) (or (not (red ?x)) (exists (?y) (and (blue ?y) (on ?x ?y)))))\n",
      "bw 0.25\n"
     ]
    },
    {
     "name": "stderr",
     "output_type": "stream",
     "text": [
      "T: no, put red blocks on blue blocks\n"
     ]
    },
    {
     "name": "stdout",
     "output_type": "stream",
     "text": [
      "(forall (?x) (or (not (red ?x)) (exists (?y) (and (blue ?y) (on ?x ?y)))))\n"
     ]
    },
    {
     "name": "stderr",
     "output_type": "stream",
     "text": [
      "T: no, put red blocks on blue blocks\n"
     ]
    },
    {
     "name": "stdout",
     "output_type": "stream",
     "text": [
      "(forall (?x) (or (not (red ?x)) (exists (?y) (and (blue ?y) (on ?x ?y)))))\n"
     ]
    },
    {
     "name": "stderr",
     "output_type": "stream",
     "text": [
      "T: no, put red blocks on blue blocks\n"
     ]
    },
    {
     "name": "stdout",
     "output_type": "stream",
     "text": [
      "(forall (?x) (or (not (red ?x)) (exists (?y) (and (blue ?y) (on ?x ?y)))))\n",
      "bw 0.2\n",
      "problem11.pddl reward: -34\n",
      "Parsing domain blocks-domain.pddl\n",
      "Parsing problem tworules/problem12.pddl\n"
     ]
    },
    {
     "name": "stderr",
     "output_type": "stream",
     "text": [
      "T: No, now you cannot put b4 in the tower because you must put red blocks on blue blocks\n",
      "R: Is the top object red?\n",
      "T: no\n"
     ]
    },
    {
     "name": "stdout",
     "output_type": "stream",
     "text": [
      "bw 0.5\n",
      "bw 0.25\n",
      "bw 0.5\n"
     ]
    },
    {
     "name": "stderr",
     "output_type": "stream",
     "text": [
      "T: No, now you cannot put b4 in the tower because you must put red blocks on blue blocks\n"
     ]
    },
    {
     "name": "stdout",
     "output_type": "stream",
     "text": [
      "bw 0.3333333333333333\n"
     ]
    },
    {
     "name": "stderr",
     "output_type": "stream",
     "text": [
      "T: no, put red blocks on blue blocks\n"
     ]
    },
    {
     "name": "stdout",
     "output_type": "stream",
     "text": [
      "(forall (?x) (or (not (red ?x)) (exists (?y) (and (blue ?y) (on ?x ?y)))))\n",
      "bw 0.16666666666666666\n",
      "problem12.pddl reward: -16\n",
      "Parsing domain blocks-domain.pddl\n",
      "Parsing problem tworules/problem13.pddl\n"
     ]
    },
    {
     "name": "stderr",
     "output_type": "stream",
     "text": [
      "T: no, put red blocks on blue blocks\n"
     ]
    },
    {
     "name": "stdout",
     "output_type": "stream",
     "text": [
      "(forall (?x) (or (not (red ?x)) (exists (?y) (and (blue ?y) (on ?x ?y)))))\n",
      "bw 0.2\n",
      "bw 0.3333333333333333\n",
      "bw 0.25\n",
      "bw 0.15\n"
     ]
    },
    {
     "name": "stderr",
     "output_type": "stream",
     "text": [
      "T: no, put red blocks on blue blocks\n"
     ]
    },
    {
     "name": "stdout",
     "output_type": "stream",
     "text": [
      "(forall (?x) (or (not (red ?x)) (exists (?y) (and (blue ?y) (on ?x ?y)))))\n",
      "bw 0.25\n",
      "bw 0.15\n"
     ]
    },
    {
     "name": "stderr",
     "output_type": "stream",
     "text": [
      "T: no, put red blocks on blue blocks\n"
     ]
    },
    {
     "name": "stdout",
     "output_type": "stream",
     "text": [
      "(forall (?x) (or (not (red ?x)) (exists (?y) (and (blue ?y) (on ?x ?y)))))\n",
      "bw 0.16666666666666666\n",
      "bw 0.2\n"
     ]
    },
    {
     "name": "stderr",
     "output_type": "stream",
     "text": [
      "T: no, put red blocks on blue blocks\n"
     ]
    },
    {
     "name": "stdout",
     "output_type": "stream",
     "text": [
      "(forall (?x) (or (not (red ?x)) (exists (?y) (and (blue ?y) (on ?x ?y)))))\n",
      "bw 0.2\n",
      "bw 0.15\n"
     ]
    },
    {
     "name": "stderr",
     "output_type": "stream",
     "text": [
      "T: no, put red blocks on blue blocks\n"
     ]
    },
    {
     "name": "stdout",
     "output_type": "stream",
     "text": [
      "(forall (?x) (or (not (red ?x)) (exists (?y) (and (blue ?y) (on ?x ?y)))))\n"
     ]
    },
    {
     "name": "stderr",
     "output_type": "stream",
     "text": [
      "T: no, put red blocks on blue blocks\n"
     ]
    },
    {
     "name": "stdout",
     "output_type": "stream",
     "text": [
      "(forall (?x) (or (not (red ?x)) (exists (?y) (and (blue ?y) (on ?x ?y)))))\n",
      "bw 0.16666666666666666\n",
      "bw 0.15\n"
     ]
    },
    {
     "name": "stderr",
     "output_type": "stream",
     "text": [
      "T: no, put red blocks on blue blocks\n"
     ]
    },
    {
     "name": "stdout",
     "output_type": "stream",
     "text": [
      "(forall (?x) (or (not (red ?x)) (exists (?y) (and (blue ?y) (on ?x ?y)))))\n"
     ]
    },
    {
     "name": "stderr",
     "output_type": "stream",
     "text": [
      "T: no, put red blocks on blue blocks\n"
     ]
    },
    {
     "name": "stdout",
     "output_type": "stream",
     "text": [
      "(forall (?x) (or (not (red ?x)) (exists (?y) (and (blue ?y) (on ?x ?y)))))\n",
      "bw 0.15\n",
      "bw 0.15\n"
     ]
    },
    {
     "name": "stderr",
     "output_type": "stream",
     "text": [
      "T: no, put red blocks on blue blocks\n"
     ]
    },
    {
     "name": "stdout",
     "output_type": "stream",
     "text": [
      "(forall (?x) (or (not (red ?x)) (exists (?y) (and (blue ?y) (on ?x ?y)))))\n"
     ]
    },
    {
     "name": "stderr",
     "output_type": "stream",
     "text": [
      "T: no, put red blocks on blue blocks\n"
     ]
    },
    {
     "name": "stdout",
     "output_type": "stream",
     "text": [
      "(forall (?x) (or (not (red ?x)) (exists (?y) (and (blue ?y) (on ?x ?y)))))\n",
      "problem13.pddl reward: -30\n",
      "Parsing domain blocks-domain.pddl\n",
      "Parsing problem tworules/problem14.pddl\n"
     ]
    },
    {
     "name": "stderr",
     "output_type": "stream",
     "text": [
      "T: no, put red blocks on blue blocks\n"
     ]
    },
    {
     "name": "stdout",
     "output_type": "stream",
     "text": [
      "(forall (?x) (or (not (red ?x)) (exists (?y) (and (blue ?y) (on ?x ?y)))))\n",
      "bw 0.15\n"
     ]
    },
    {
     "name": "stderr",
     "output_type": "stream",
     "text": [
      "T: no, put red blocks on blue blocks\n"
     ]
    },
    {
     "name": "stdout",
     "output_type": "stream",
     "text": [
      "(forall (?x) (or (not (red ?x)) (exists (?y) (and (blue ?y) (on ?x ?y)))))\n",
      "bw 0.15\n"
     ]
    },
    {
     "name": "stderr",
     "output_type": "stream",
     "text": [
      "T: no, put red blocks on blue blocks\n"
     ]
    },
    {
     "name": "stdout",
     "output_type": "stream",
     "text": [
      "(forall (?x) (or (not (red ?x)) (exists (?y) (and (blue ?y) (on ?x ?y)))))\n",
      "bw 0.15\n"
     ]
    },
    {
     "name": "stderr",
     "output_type": "stream",
     "text": [
      "T: no, put red blocks on blue blocks\n"
     ]
    },
    {
     "name": "stdout",
     "output_type": "stream",
     "text": [
      "(forall (?x) (or (not (red ?x)) (exists (?y) (and (blue ?y) (on ?x ?y)))))\n",
      "bw 0.15\n"
     ]
    },
    {
     "name": "stderr",
     "output_type": "stream",
     "text": [
      "T: No, now you cannot put b2 in the tower because you must put green blocks on yellow blocks\n",
      "R: Is the top object green?\n",
      "T: yes\n"
     ]
    },
    {
     "name": "stdout",
     "output_type": "stream",
     "text": [
      "bw 0.5\n",
      "bw 0.5\n"
     ]
    },
    {
     "name": "stderr",
     "output_type": "stream",
     "text": [
      "T: No, now you cannot put b2 in the tower because you must put green blocks on yellow blocks\n",
      "T: No, now you cannot put b2 in the tower because you must put green blocks on yellow blocks\n"
     ]
    },
    {
     "name": "stdout",
     "output_type": "stream",
     "text": [
      "bw 0.16666666666666666\n",
      "problem14.pddl reward: -24\n",
      "Parsing domain blocks-domain.pddl\n",
      "Parsing problem tworules/problem15.pddl\n"
     ]
    },
    {
     "name": "stderr",
     "output_type": "stream",
     "text": [
      "T: no, put red blocks on blue blocks\n"
     ]
    },
    {
     "name": "stdout",
     "output_type": "stream",
     "text": [
      "(forall (?x) (or (not (red ?x)) (exists (?y) (and (blue ?y) (on ?x ?y)))))\n",
      "bw 0.15\n",
      "bw 0.15\n",
      "bw 0.16666666666666666\n",
      "bw 0.15\n"
     ]
    },
    {
     "name": "stderr",
     "output_type": "stream",
     "text": [
      "T: no, put red blocks on blue blocks\n"
     ]
    },
    {
     "name": "stdout",
     "output_type": "stream",
     "text": [
      "(forall (?x) (or (not (red ?x)) (exists (?y) (and (blue ?y) (on ?x ?y)))))\n",
      "bw 0.15\n",
      "bw 0.15\n",
      "problem15.pddl reward: -14\n",
      "Parsing domain blocks-domain.pddl\n",
      "Parsing problem tworules/problem16.pddl\n"
     ]
    },
    {
     "name": "stderr",
     "output_type": "stream",
     "text": [
      "T: No, now you cannot put b1 in the tower because you must put green blocks on yellow blocks\n"
     ]
    },
    {
     "name": "stdout",
     "output_type": "stream",
     "text": [
      "bw 0.3333333333333333\n",
      "bw 0.3333333333333333\n",
      "bw 0.25\n",
      "bw 0.25\n",
      "bw 1.0\n",
      "bw 0.15\n"
     ]
    },
    {
     "name": "stderr",
     "output_type": "stream",
     "text": [
      "T: no, put red blocks on blue blocks\n"
     ]
    },
    {
     "name": "stdout",
     "output_type": "stream",
     "text": [
      "(forall (?x) (or (not (red ?x)) (exists (?y) (and (blue ?y) (on ?x ?y)))))\n",
      "bw 0.15\n",
      "bw 0.15\n"
     ]
    },
    {
     "name": "stderr",
     "output_type": "stream",
     "text": [
      "T: No, now you cannot put b1 in the tower because you must put green blocks on yellow blocks\n"
     ]
    },
    {
     "name": "stdout",
     "output_type": "stream",
     "text": [
      "bw 0.2\n",
      "bw 0.15\n"
     ]
    },
    {
     "name": "stderr",
     "output_type": "stream",
     "text": [
      "T: no, put red blocks on blue blocks\n"
     ]
    },
    {
     "name": "stdout",
     "output_type": "stream",
     "text": [
      "(forall (?x) (or (not (red ?x)) (exists (?y) (and (blue ?y) (on ?x ?y)))))\n"
     ]
    },
    {
     "name": "stderr",
     "output_type": "stream",
     "text": [
      "T: No, now you cannot put b0 in the tower because you must put red blocks on blue blocks\n"
     ]
    },
    {
     "name": "stdout",
     "output_type": "stream",
     "text": [
      "bw 0.15\n",
      "bw 0.15\n",
      "bw 0.15\n",
      "bw 0.15\n"
     ]
    },
    {
     "name": "stderr",
     "output_type": "stream",
     "text": [
      "T: No, now you cannot put b1 in the tower because you must put green blocks on yellow blocks\n",
      "T: No, now you cannot put b1 in the tower because you must put green blocks on yellow blocks\n"
     ]
    },
    {
     "name": "stdout",
     "output_type": "stream",
     "text": [
      "bw 0.16666666666666666\n",
      "bw 0.15\n"
     ]
    },
    {
     "name": "stderr",
     "output_type": "stream",
     "text": [
      "T: No, now you cannot put b0 in the tower because you must put red blocks on blue blocks\n"
     ]
    },
    {
     "name": "stdout",
     "output_type": "stream",
     "text": [
      "bw 0.15\n"
     ]
    },
    {
     "name": "stderr",
     "output_type": "stream",
     "text": [
      "T: No, now you cannot put b0 in the tower because you must put red blocks on blue blocks\n",
      "T: No, now you cannot put b1 in the tower because you must put green blocks on yellow blocks\n"
     ]
    },
    {
     "name": "stdout",
     "output_type": "stream",
     "text": [
      "problem16.pddl reward: -30\n",
      "Parsing domain blocks-domain.pddl\n",
      "Parsing problem tworules/problem17.pddl\n"
     ]
    },
    {
     "name": "stderr",
     "output_type": "stream",
     "text": [
      "T: No, now you cannot put b5 in the tower because you must put green blocks on yellow blocks\n"
     ]
    },
    {
     "name": "stdout",
     "output_type": "stream",
     "text": [
      "bw 0.2\n",
      "bw 0.15\n",
      "bw 0.16666666666666666\n",
      "bw 0.15\n",
      "bw 0.5\n",
      "bw 0.15\n",
      "problem17.pddl reward: -12\n",
      "Parsing domain blocks-domain.pddl\n",
      "Parsing problem tworules/problem18.pddl\n"
     ]
    },
    {
     "name": "stderr",
     "output_type": "stream",
     "text": [
      "T: No, now you cannot put b1 in the tower because you must put red blocks on blue blocks\n"
     ]
    },
    {
     "name": "stdout",
     "output_type": "stream",
     "text": [
      "bw 0.15\n",
      "bw 0.15\n",
      "bw 0.15\n",
      "bw 0.15\n",
      "bw 0.15\n",
      "bw 0.15\n"
     ]
    },
    {
     "name": "stderr",
     "output_type": "stream",
     "text": [
      "T: No, now you cannot put b1 in the tower because you must put red blocks on blue blocks\n"
     ]
    },
    {
     "name": "stdout",
     "output_type": "stream",
     "text": [
      "bw 0.15\n",
      "bw 0.15\n"
     ]
    },
    {
     "name": "stderr",
     "output_type": "stream",
     "text": [
      "T: No, now you cannot put b1 in the tower because you must put red blocks on blue blocks\n"
     ]
    },
    {
     "name": "stdout",
     "output_type": "stream",
     "text": [
      "bw 0.15\n",
      "bw 0.15\n"
     ]
    },
    {
     "name": "stderr",
     "output_type": "stream",
     "text": [
      "T: No, now you cannot put b1 in the tower because you must put red blocks on blue blocks\n"
     ]
    },
    {
     "name": "stdout",
     "output_type": "stream",
     "text": [
      "bw 0.15\n"
     ]
    },
    {
     "name": "stderr",
     "output_type": "stream",
     "text": [
      "T: No, now you cannot put b1 in the tower because you must put red blocks on blue blocks\n"
     ]
    },
    {
     "name": "stdout",
     "output_type": "stream",
     "text": [
      "bw 0.15\n"
     ]
    },
    {
     "name": "stderr",
     "output_type": "stream",
     "text": [
      "T: no, put green blocks on yellow blocks\n"
     ]
    },
    {
     "name": "stdout",
     "output_type": "stream",
     "text": [
      "(forall (?y) (or (not (yellow ?y)) (exists (?x) (and (green ?x) (on ?x ?y)))))\n"
     ]
    },
    {
     "name": "stderr",
     "output_type": "stream",
     "text": [
      "T: no, put green blocks on yellow blocks\n"
     ]
    },
    {
     "name": "stdout",
     "output_type": "stream",
     "text": [
      "(forall (?y) (or (not (yellow ?y)) (exists (?x) (and (green ?x) (on ?x ?y)))))\n"
     ]
    },
    {
     "name": "stderr",
     "output_type": "stream",
     "text": [
      "T: no, put red blocks on blue blocks\n"
     ]
    },
    {
     "name": "stdout",
     "output_type": "stream",
     "text": [
      "(forall (?x) (or (not (red ?x)) (exists (?y) (and (blue ?y) (on ?x ?y)))))\n",
      "problem18.pddl reward: -26\n",
      "Parsing domain blocks-domain.pddl\n",
      "Parsing problem tworules/problem19.pddl\n",
      "problem19.pddl reward: -10\n",
      "Parsing domain blocks-domain.pddl\n",
      "Parsing problem tworules/problem2.pddl\n"
     ]
    },
    {
     "name": "stderr",
     "output_type": "stream",
     "text": [
      "T: No, now you cannot put b0 in the tower because you must put green blocks on yellow blocks\n"
     ]
    },
    {
     "name": "stdout",
     "output_type": "stream",
     "text": [
      "bw 0.15\n",
      "bw 0.15\n",
      "bw 0.15\n",
      "bw 0.15\n",
      "bw 0.3333333333333333\n",
      "bw 0.15\n"
     ]
    },
    {
     "name": "stderr",
     "output_type": "stream",
     "text": [
      "T: No, now you cannot put b0 in the tower because you must put green blocks on yellow blocks\n"
     ]
    },
    {
     "name": "stdout",
     "output_type": "stream",
     "text": [
      "bw 0.15\n",
      "bw 0.15\n"
     ]
    },
    {
     "name": "stderr",
     "output_type": "stream",
     "text": [
      "T: No, now you cannot put b0 in the tower because you must put green blocks on yellow blocks\n"
     ]
    },
    {
     "name": "stdout",
     "output_type": "stream",
     "text": [
      "bw 0.15\n",
      "bw 0.15\n"
     ]
    },
    {
     "name": "stderr",
     "output_type": "stream",
     "text": [
      "T: No, now you cannot put b0 in the tower because you must put green blocks on yellow blocks\n"
     ]
    },
    {
     "name": "stdout",
     "output_type": "stream",
     "text": [
      "bw 0.15\n",
      "problem2.pddl reward: -18\n",
      "Parsing domain blocks-domain.pddl\n",
      "Parsing problem tworules/problem20.pddl\n",
      "problem20.pddl reward: -10\n",
      "Parsing domain blocks-domain.pddl\n",
      "Parsing problem tworules/problem21.pddl\n",
      "problem21.pddl reward: -10\n",
      "Parsing domain blocks-domain.pddl\n",
      "Parsing problem tworules/problem22.pddl\n",
      "problem22.pddl reward: -10\n",
      "Parsing domain blocks-domain.pddl\n",
      "Parsing problem tworules/problem23.pddl\n"
     ]
    },
    {
     "name": "stderr",
     "output_type": "stream",
     "text": [
      "T: no, put red blocks on blue blocks\n"
     ]
    },
    {
     "name": "stdout",
     "output_type": "stream",
     "text": [
      "(forall (?x) (or (not (red ?x)) (exists (?y) (and (blue ?y) (on ?x ?y)))))\n",
      "bw 0.15\n"
     ]
    },
    {
     "name": "stderr",
     "output_type": "stream",
     "text": [
      "T: no, put red blocks on blue blocks\n"
     ]
    },
    {
     "name": "stdout",
     "output_type": "stream",
     "text": [
      "(forall (?x) (or (not (red ?x)) (exists (?y) (and (blue ?y) (on ?x ?y)))))\n",
      "bw 0.15\n",
      "bw 0.15\n",
      "bw 0.15\n",
      "bw 0.15\n",
      "problem23.pddl reward: -14\n",
      "Parsing domain blocks-domain.pddl\n",
      "Parsing problem tworules/problem24.pddl\n"
     ]
    },
    {
     "name": "stderr",
     "output_type": "stream",
     "text": [
      "T: no, put green blocks on yellow blocks\n"
     ]
    },
    {
     "name": "stdout",
     "output_type": "stream",
     "text": [
      "(forall (?y) (or (not (yellow ?y)) (exists (?x) (and (green ?x) (on ?x ?y)))))\n",
      "bw 0.15\n",
      "bw 0.15\n",
      "bw 0.25\n",
      "bw 0.15\n"
     ]
    },
    {
     "name": "stderr",
     "output_type": "stream",
     "text": [
      "T: no, put green blocks on yellow blocks\n"
     ]
    },
    {
     "name": "stdout",
     "output_type": "stream",
     "text": [
      "(forall (?y) (or (not (yellow ?y)) (exists (?x) (and (green ?x) (on ?x ?y)))))\n",
      "bw 0.15\n",
      "bw 0.2\n"
     ]
    },
    {
     "name": "stderr",
     "output_type": "stream",
     "text": [
      "T: No, now you cannot put b1 in the tower because you must put green blocks on yellow blocks\n"
     ]
    },
    {
     "name": "stdout",
     "output_type": "stream",
     "text": [
      "bw 0.15\n",
      "bw 0.15\n",
      "bw 0.15\n",
      "bw 0.16666666666666666\n"
     ]
    },
    {
     "name": "stderr",
     "output_type": "stream",
     "text": [
      "T: No, now you cannot put b1 in the tower because you must put green blocks on yellow blocks\n"
     ]
    },
    {
     "name": "stdout",
     "output_type": "stream",
     "text": [
      "bw 0.15\n",
      "bw 0.15\n",
      "problem24.pddl reward: -18\n",
      "Parsing domain blocks-domain.pddl\n",
      "Parsing problem tworules/problem25.pddl\n"
     ]
    },
    {
     "name": "stderr",
     "output_type": "stream",
     "text": [
      "T: no, put red blocks on blue blocks\n"
     ]
    },
    {
     "name": "stdout",
     "output_type": "stream",
     "text": [
      "(forall (?x) (or (not (red ?x)) (exists (?y) (and (blue ?y) (on ?x ?y)))))\n",
      "bw 0.15\n",
      "bw 0.15\n",
      "bw 0.15\n",
      "bw 0.15\n"
     ]
    },
    {
     "name": "stderr",
     "output_type": "stream",
     "text": [
      "T: no, put red blocks on blue blocks\n"
     ]
    },
    {
     "name": "stdout",
     "output_type": "stream",
     "text": [
      "(forall (?x) (or (not (red ?x)) (exists (?y) (and (blue ?y) (on ?x ?y)))))\n",
      "bw 0.15\n",
      "bw 0.15\n"
     ]
    },
    {
     "name": "stderr",
     "output_type": "stream",
     "text": [
      "T: no, put red blocks on blue blocks\n"
     ]
    },
    {
     "name": "stdout",
     "output_type": "stream",
     "text": [
      "(forall (?x) (or (not (red ?x)) (exists (?y) (and (blue ?y) (on ?x ?y)))))\n",
      "bw 0.15\n",
      "bw 0.15\n",
      "bw 0.15\n",
      "bw 0.15\n"
     ]
    },
    {
     "name": "stderr",
     "output_type": "stream",
     "text": [
      "T: no, put red blocks on blue blocks\n"
     ]
    },
    {
     "name": "stdout",
     "output_type": "stream",
     "text": [
      "(forall (?x) (or (not (red ?x)) (exists (?y) (and (blue ?y) (on ?x ?y)))))\n",
      "bw 0.15\n",
      "bw 0.15\n",
      "problem25.pddl reward: -18\n",
      "Parsing domain blocks-domain.pddl\n",
      "Parsing problem tworules/problem26.pddl\n",
      "problem26.pddl reward: -10\n",
      "Parsing domain blocks-domain.pddl\n",
      "Parsing problem tworules/problem27.pddl\n"
     ]
    },
    {
     "name": "stderr",
     "output_type": "stream",
     "text": [
      "T: No, now you cannot put b2 in the tower because you must put green blocks on yellow blocks\n"
     ]
    },
    {
     "name": "stdout",
     "output_type": "stream",
     "text": [
      "bw 0.15\n",
      "bw 0.15\n",
      "bw 0.15\n",
      "bw 0.15\n",
      "bw 0.15\n",
      "bw 0.15\n"
     ]
    },
    {
     "name": "stderr",
     "output_type": "stream",
     "text": [
      "T: No, now you cannot put b2 in the tower because you must put green blocks on yellow blocks\n"
     ]
    },
    {
     "name": "stdout",
     "output_type": "stream",
     "text": [
      "bw 0.15\n",
      "bw 0.15\n"
     ]
    },
    {
     "name": "stderr",
     "output_type": "stream",
     "text": [
      "T: No, now you cannot put b2 in the tower because you must put green blocks on yellow blocks\n"
     ]
    },
    {
     "name": "stdout",
     "output_type": "stream",
     "text": [
      "bw 0.15\n"
     ]
    },
    {
     "name": "stderr",
     "output_type": "stream",
     "text": [
      "T: No, now you cannot put b2 in the tower because you must put green blocks on yellow blocks\n"
     ]
    },
    {
     "name": "stdout",
     "output_type": "stream",
     "text": [
      "bw 0.15\n",
      "problem27.pddl reward: -18\n",
      "Parsing domain blocks-domain.pddl\n",
      "Parsing problem tworules/problem28.pddl\n"
     ]
    },
    {
     "name": "stderr",
     "output_type": "stream",
     "text": [
      "T: No, now you cannot put b2 in the tower because you must put green blocks on yellow blocks\n"
     ]
    },
    {
     "name": "stdout",
     "output_type": "stream",
     "text": [
      "bw 0.15\n",
      "bw 0.15\n",
      "bw 0.15\n",
      "bw 0.15\n",
      "bw 0.15\n",
      "bw 0.15\n"
     ]
    },
    {
     "name": "stderr",
     "output_type": "stream",
     "text": [
      "T: No, now you cannot put b2 in the tower because you must put green blocks on yellow blocks\n"
     ]
    },
    {
     "name": "stdout",
     "output_type": "stream",
     "text": [
      "bw 0.15\n",
      "bw 0.15\n"
     ]
    },
    {
     "name": "stderr",
     "output_type": "stream",
     "text": [
      "T: No, now you cannot put b2 in the tower because you must put green blocks on yellow blocks\n"
     ]
    },
    {
     "name": "stdout",
     "output_type": "stream",
     "text": [
      "bw 0.15\n",
      "bw 0.15\n"
     ]
    },
    {
     "name": "stderr",
     "output_type": "stream",
     "text": [
      "T: No, now you cannot put b2 in the tower because you must put green blocks on yellow blocks\n"
     ]
    },
    {
     "name": "stdout",
     "output_type": "stream",
     "text": [
      "bw 0.15\n"
     ]
    },
    {
     "name": "stderr",
     "output_type": "stream",
     "text": [
      "T: No, now you cannot put b2 in the tower because you must put green blocks on yellow blocks\n"
     ]
    },
    {
     "name": "stdout",
     "output_type": "stream",
     "text": [
      "bw 0.15\n"
     ]
    },
    {
     "name": "stderr",
     "output_type": "stream",
     "text": [
      "T: No, now you cannot put b2 in the tower because you must put green blocks on yellow blocks\n"
     ]
    },
    {
     "name": "stdout",
     "output_type": "stream",
     "text": [
      "bw 0.15\n",
      "problem28.pddl reward: -22\n",
      "Parsing domain blocks-domain.pddl\n",
      "Parsing problem tworules/problem29.pddl\n"
     ]
    },
    {
     "name": "stderr",
     "output_type": "stream",
     "text": [
      "T: no, put red blocks on blue blocks\n"
     ]
    },
    {
     "name": "stdout",
     "output_type": "stream",
     "text": [
      "(forall (?x) (or (not (red ?x)) (exists (?y) (and (blue ?y) (on ?x ?y)))))\n",
      "bw 0.15\n",
      "bw 0.15\n",
      "bw 0.15\n",
      "bw 0.15\n"
     ]
    },
    {
     "name": "stderr",
     "output_type": "stream",
     "text": [
      "T: No, now you cannot put b2 in the tower because you must put green blocks on yellow blocks\n"
     ]
    },
    {
     "name": "stdout",
     "output_type": "stream",
     "text": [
      "bw 0.15\n",
      "bw 0.15\n",
      "bw 0.15\n",
      "bw 0.15\n"
     ]
    },
    {
     "name": "stderr",
     "output_type": "stream",
     "text": [
      "T: No, now you cannot put b2 in the tower because you must put green blocks on yellow blocks\n",
      "T: No, now you cannot put b2 in the tower because you must put green blocks on yellow blocks\n"
     ]
    },
    {
     "name": "stdout",
     "output_type": "stream",
     "text": [
      "bw 0.15\n",
      "problem29.pddl reward: -18\n",
      "Parsing domain blocks-domain.pddl\n",
      "Parsing problem tworules/problem3.pddl\n"
     ]
    },
    {
     "name": "stderr",
     "output_type": "stream",
     "text": [
      "T: No, now you cannot put b1 in the tower because you must put red blocks on blue blocks\n"
     ]
    },
    {
     "name": "stdout",
     "output_type": "stream",
     "text": [
      "bw 0.15\n",
      "bw 0.15\n",
      "bw 0.15\n",
      "bw 0.15\n",
      "bw 0.15\n",
      "bw 0.15\n"
     ]
    },
    {
     "name": "stderr",
     "output_type": "stream",
     "text": [
      "T: No, now you cannot put b1 in the tower because you must put red blocks on blue blocks\n"
     ]
    },
    {
     "name": "stdout",
     "output_type": "stream",
     "text": [
      "bw 0.15\n",
      "bw 0.15\n",
      "bw 0.15\n",
      "bw 0.15\n"
     ]
    },
    {
     "name": "stderr",
     "output_type": "stream",
     "text": [
      "T: no, put red blocks on blue blocks\n"
     ]
    },
    {
     "name": "stdout",
     "output_type": "stream",
     "text": [
      "(forall (?x) (or (not (red ?x)) (exists (?y) (and (blue ?y) (on ?x ?y)))))\n",
      "problem3.pddl reward: -16\n",
      "Parsing domain blocks-domain.pddl\n",
      "Parsing problem tworules/problem30.pddl\n",
      "problem30.pddl reward: -10\n",
      "Parsing domain blocks-domain.pddl\n",
      "Parsing problem tworules/problem31.pddl\n"
     ]
    },
    {
     "name": "stderr",
     "output_type": "stream",
     "text": [
      "T: no, put green blocks on yellow blocks\n"
     ]
    },
    {
     "name": "stdout",
     "output_type": "stream",
     "text": [
      "(forall (?y) (or (not (yellow ?y)) (exists (?x) (and (green ?x) (on ?x ?y)))))\n",
      "bw 0.15\n",
      "bw 0.15\n",
      "bw 0.15\n",
      "bw 0.15\n"
     ]
    },
    {
     "name": "stderr",
     "output_type": "stream",
     "text": [
      "T: no, put green blocks on yellow blocks\n"
     ]
    },
    {
     "name": "stdout",
     "output_type": "stream",
     "text": [
      "(forall (?y) (or (not (yellow ?y)) (exists (?x) (and (green ?x) (on ?x ?y)))))\n",
      "bw 0.15\n",
      "bw 0.15\n"
     ]
    },
    {
     "name": "stderr",
     "output_type": "stream",
     "text": [
      "T: no, put green blocks on yellow blocks\n"
     ]
    },
    {
     "name": "stdout",
     "output_type": "stream",
     "text": [
      "(forall (?y) (or (not (yellow ?y)) (exists (?x) (and (green ?x) (on ?x ?y)))))\n",
      "bw 0.15\n",
      "bw 0.15\n"
     ]
    },
    {
     "name": "stderr",
     "output_type": "stream",
     "text": [
      "T: no, put green blocks on yellow blocks\n"
     ]
    },
    {
     "name": "stdout",
     "output_type": "stream",
     "text": [
      "(forall (?y) (or (not (yellow ?y)) (exists (?x) (and (green ?x) (on ?x ?y)))))\n",
      "bw 0.15\n",
      "bw 0.15\n"
     ]
    },
    {
     "name": "stderr",
     "output_type": "stream",
     "text": [
      "T: no, put red blocks on blue blocks\n"
     ]
    },
    {
     "name": "stdout",
     "output_type": "stream",
     "text": [
      "(forall (?x) (or (not (red ?x)) (exists (?y) (and (blue ?y) (on ?x ?y)))))\n",
      "bw 0.15\n",
      "bw 0.15\n"
     ]
    },
    {
     "name": "stderr",
     "output_type": "stream",
     "text": [
      "T: no, put green blocks on yellow blocks\n"
     ]
    },
    {
     "name": "stdout",
     "output_type": "stream",
     "text": [
      "(forall (?y) (or (not (yellow ?y)) (exists (?x) (and (green ?x) (on ?x ?y)))))\n",
      "bw 0.15\n",
      "bw 0.15\n"
     ]
    },
    {
     "name": "stderr",
     "output_type": "stream",
     "text": [
      "T: no, put red blocks on blue blocks\n"
     ]
    },
    {
     "name": "stdout",
     "output_type": "stream",
     "text": [
      "(forall (?x) (or (not (red ?x)) (exists (?y) (and (blue ?y) (on ?x ?y)))))\n",
      "problem31.pddl reward: -24\n",
      "Parsing domain blocks-domain.pddl\n",
      "Parsing problem tworules/problem32.pddl\n"
     ]
    },
    {
     "name": "stderr",
     "output_type": "stream",
     "text": [
      "T: no, put red blocks on blue blocks\n"
     ]
    },
    {
     "name": "stdout",
     "output_type": "stream",
     "text": [
      "(forall (?x) (or (not (red ?x)) (exists (?y) (and (blue ?y) (on ?x ?y)))))\n",
      "bw 0.15\n",
      "bw 0.15\n",
      "bw 0.15\n",
      "bw 0.15\n"
     ]
    },
    {
     "name": "stderr",
     "output_type": "stream",
     "text": [
      "T: no, put red blocks on blue blocks\n"
     ]
    },
    {
     "name": "stdout",
     "output_type": "stream",
     "text": [
      "(forall (?x) (or (not (red ?x)) (exists (?y) (and (blue ?y) (on ?x ?y)))))\n",
      "bw 0.15\n",
      "bw 0.15\n",
      "problem32.pddl reward: -14\n",
      "Parsing domain blocks-domain.pddl\n",
      "Parsing problem tworules/problem33.pddl\n"
     ]
    },
    {
     "name": "stderr",
     "output_type": "stream",
     "text": [
      "T: no, put red blocks on blue blocks\n"
     ]
    },
    {
     "name": "stdout",
     "output_type": "stream",
     "text": [
      "(forall (?x) (or (not (red ?x)) (exists (?y) (and (blue ?y) (on ?x ?y)))))\n",
      "bw 0.15\n"
     ]
    },
    {
     "name": "stderr",
     "output_type": "stream",
     "text": [
      "T: no, put red blocks on blue blocks\n"
     ]
    },
    {
     "name": "stdout",
     "output_type": "stream",
     "text": [
      "(forall (?x) (or (not (red ?x)) (exists (?y) (and (blue ?y) (on ?x ?y)))))\n",
      "bw 0.15\n",
      "bw 0.15\n",
      "bw 0.15\n",
      "bw 0.15\n"
     ]
    },
    {
     "name": "stderr",
     "output_type": "stream",
     "text": [
      "T: no, put red blocks on blue blocks\n"
     ]
    },
    {
     "name": "stdout",
     "output_type": "stream",
     "text": [
      "(forall (?x) (or (not (red ?x)) (exists (?y) (and (blue ?y) (on ?x ?y)))))\n",
      "bw 0.15\n",
      "bw 0.15\n"
     ]
    },
    {
     "name": "stderr",
     "output_type": "stream",
     "text": [
      "T: No, now you cannot put b1 in the tower because you must put green blocks on yellow blocks\n",
      "R: Is the top object green?\n",
      "T: yes\n"
     ]
    },
    {
     "name": "stdout",
     "output_type": "stream",
     "text": [
      "bw 0.15\n",
      "bw 0.15\n"
     ]
    },
    {
     "name": "stderr",
     "output_type": "stream",
     "text": [
      "T: no, put red blocks on blue blocks\n"
     ]
    },
    {
     "name": "stdout",
     "output_type": "stream",
     "text": [
      "(forall (?x) (or (not (red ?x)) (exists (?y) (and (blue ?y) (on ?x ?y)))))\n",
      "bw 0.15\n",
      "bw 0.15\n"
     ]
    },
    {
     "name": "stderr",
     "output_type": "stream",
     "text": [
      "T: No, now you cannot put b1 in the tower because you must put green blocks on yellow blocks\n",
      "T: no, put red blocks on blue blocks\n"
     ]
    },
    {
     "name": "stdout",
     "output_type": "stream",
     "text": [
      "(forall (?x) (or (not (red ?x)) (exists (?y) (and (blue ?y) (on ?x ?y)))))\n",
      "bw 0.15\n",
      "bw 0.15\n"
     ]
    },
    {
     "name": "stderr",
     "output_type": "stream",
     "text": [
      "T: No, now you cannot put b1 in the tower because you must put green blocks on yellow blocks\n",
      "T: no, put red blocks on blue blocks\n"
     ]
    },
    {
     "name": "stdout",
     "output_type": "stream",
     "text": [
      "(forall (?x) (or (not (red ?x)) (exists (?y) (and (blue ?y) (on ?x ?y)))))\n"
     ]
    },
    {
     "name": "stderr",
     "output_type": "stream",
     "text": [
      "T: no, put red blocks on blue blocks\n"
     ]
    },
    {
     "name": "stdout",
     "output_type": "stream",
     "text": [
      "(forall (?x) (or (not (red ?x)) (exists (?y) (and (blue ?y) (on ?x ?y)))))\n",
      "problem33.pddl reward: -30\n",
      "Parsing domain blocks-domain.pddl\n",
      "Parsing problem tworules/problem34.pddl\n"
     ]
    },
    {
     "name": "stderr",
     "output_type": "stream",
     "text": [
      "T: no, put red blocks on blue blocks\n"
     ]
    },
    {
     "name": "stdout",
     "output_type": "stream",
     "text": [
      "(forall (?x) (or (not (red ?x)) (exists (?y) (and (blue ?y) (on ?x ?y)))))\n",
      "bw 0.15\n"
     ]
    },
    {
     "name": "stderr",
     "output_type": "stream",
     "text": [
      "T: No, now you cannot put b3 in the tower because you must put green blocks on yellow blocks\n"
     ]
    },
    {
     "name": "stdout",
     "output_type": "stream",
     "text": [
      "bw 0.15\n",
      "bw 0.15\n"
     ]
    },
    {
     "name": "stderr",
     "output_type": "stream",
     "text": [
      "T: no, put red blocks on blue blocks\n"
     ]
    },
    {
     "name": "stdout",
     "output_type": "stream",
     "text": [
      "(forall (?x) (or (not (red ?x)) (exists (?y) (and (blue ?y) (on ?x ?y)))))\n",
      "bw 0.15\n"
     ]
    },
    {
     "name": "stderr",
     "output_type": "stream",
     "text": [
      "T: No, now you cannot put b3 in the tower because you must put green blocks on yellow blocks\n",
      "T: No, now you cannot put b3 in the tower because you must put green blocks on yellow blocks\n",
      "T: No, now you cannot put b3 in the tower because you must put green blocks on yellow blocks\n"
     ]
    },
    {
     "name": "stdout",
     "output_type": "stream",
     "text": [
      "bw 0.15\n"
     ]
    },
    {
     "name": "stderr",
     "output_type": "stream",
     "text": [
      "T: No, now you cannot put b3 in the tower because you must put green blocks on yellow blocks\n"
     ]
    },
    {
     "name": "stdout",
     "output_type": "stream",
     "text": [
      "problem34.pddl reward: -24\n",
      "Parsing domain blocks-domain.pddl\n",
      "Parsing problem tworules/problem35.pddl\n",
      "problem35.pddl reward: -10\n",
      "Parsing domain blocks-domain.pddl\n",
      "Parsing problem tworules/problem36.pddl\n",
      "problem36.pddl reward: -10\n",
      "Parsing domain blocks-domain.pddl\n",
      "Parsing problem tworules/problem37.pddl\n"
     ]
    },
    {
     "name": "stderr",
     "output_type": "stream",
     "text": [
      "T: no, put green blocks on yellow blocks\n"
     ]
    },
    {
     "name": "stdout",
     "output_type": "stream",
     "text": [
      "(forall (?y) (or (not (yellow ?y)) (exists (?x) (and (green ?x) (on ?x ?y)))))\n",
      "bw 0.15\n",
      "bw 0.15\n",
      "bw 0.15\n",
      "bw 0.15\n"
     ]
    },
    {
     "name": "stderr",
     "output_type": "stream",
     "text": [
      "T: no, put green blocks on yellow blocks\n"
     ]
    },
    {
     "name": "stdout",
     "output_type": "stream",
     "text": [
      "(forall (?y) (or (not (yellow ?y)) (exists (?x) (and (green ?x) (on ?x ?y)))))\n",
      "bw 0.15\n",
      "bw 0.15\n",
      "problem37.pddl reward: -14\n",
      "Parsing domain blocks-domain.pddl\n",
      "Parsing problem tworules/problem38.pddl\n",
      "problem38.pddl reward: -10\n",
      "Parsing domain blocks-domain.pddl\n",
      "Parsing problem tworules/problem39.pddl\n",
      "problem39.pddl reward: -10\n",
      "Parsing domain blocks-domain.pddl\n",
      "Parsing problem tworules/problem4.pddl\n",
      "problem4.pddl reward: -10\n",
      "Parsing domain blocks-domain.pddl\n",
      "Parsing problem tworules/problem40.pddl\n"
     ]
    },
    {
     "name": "stderr",
     "output_type": "stream",
     "text": [
      "T: no, put red blocks on blue blocks\n"
     ]
    },
    {
     "name": "stdout",
     "output_type": "stream",
     "text": [
      "(forall (?x) (or (not (red ?x)) (exists (?y) (and (blue ?y) (on ?x ?y)))))\n",
      "bw 0.15\n",
      "bw 0.15\n",
      "bw 0.15\n",
      "bw 0.15\n"
     ]
    },
    {
     "name": "stderr",
     "output_type": "stream",
     "text": [
      "T: no, put red blocks on blue blocks\n"
     ]
    },
    {
     "name": "stdout",
     "output_type": "stream",
     "text": [
      "(forall (?x) (or (not (red ?x)) (exists (?y) (and (blue ?y) (on ?x ?y)))))\n",
      "bw 0.15\n",
      "bw 0.15\n"
     ]
    },
    {
     "name": "stderr",
     "output_type": "stream",
     "text": [
      "T: no, put red blocks on blue blocks\n"
     ]
    },
    {
     "name": "stdout",
     "output_type": "stream",
     "text": [
      "(forall (?x) (or (not (red ?x)) (exists (?y) (and (blue ?y) (on ?x ?y)))))\n",
      "bw 0.15\n",
      "bw 0.15\n",
      "problem40.pddl reward: -16\n",
      "Parsing domain blocks-domain.pddl\n",
      "Parsing problem tworules/problem41.pddl\n"
     ]
    },
    {
     "name": "stderr",
     "output_type": "stream",
     "text": [
      "T: no, put red blocks on blue blocks\n"
     ]
    },
    {
     "name": "stdout",
     "output_type": "stream",
     "text": [
      "(forall (?x) (or (not (red ?x)) (exists (?y) (and (blue ?y) (on ?x ?y)))))\n",
      "bw 0.15\n",
      "bw 0.15\n",
      "bw 0.15\n",
      "bw 0.15\n"
     ]
    },
    {
     "name": "stderr",
     "output_type": "stream",
     "text": [
      "T: No, now you cannot put b4 in the tower because you must put green blocks on yellow blocks\n"
     ]
    },
    {
     "name": "stdout",
     "output_type": "stream",
     "text": [
      "bw 0.15\n",
      "bw 0.15\n",
      "bw 0.15\n",
      "bw 0.15\n"
     ]
    },
    {
     "name": "stderr",
     "output_type": "stream",
     "text": [
      "T: no, put red blocks on blue blocks\n"
     ]
    },
    {
     "name": "stdout",
     "output_type": "stream",
     "text": [
      "(forall (?x) (or (not (red ?x)) (exists (?y) (and (blue ?y) (on ?x ?y)))))\n"
     ]
    },
    {
     "name": "stderr",
     "output_type": "stream",
     "text": [
      "T: no, put red blocks on blue blocks\n"
     ]
    },
    {
     "name": "stdout",
     "output_type": "stream",
     "text": [
      "(forall (?x) (or (not (red ?x)) (exists (?y) (and (blue ?y) (on ?x ?y)))))\n"
     ]
    },
    {
     "name": "stderr",
     "output_type": "stream",
     "text": [
      "T: No, now you cannot put b0 in the tower because you must put red blocks on blue blocks\n"
     ]
    },
    {
     "name": "stdout",
     "output_type": "stream",
     "text": [
      "bw 0.15\n",
      "bw 0.15\n",
      "bw 0.15\n",
      "bw 0.15\n",
      "bw 0.15\n",
      "bw 0.15\n",
      "problem41.pddl reward: -20\n",
      "Parsing domain blocks-domain.pddl\n",
      "Parsing problem tworules/problem42.pddl\n"
     ]
    },
    {
     "name": "stderr",
     "output_type": "stream",
     "text": [
      "T: No, now you cannot put b1 in the tower because you must put red blocks on blue blocks\n"
     ]
    },
    {
     "name": "stdout",
     "output_type": "stream",
     "text": [
      "bw 0.15\n",
      "bw 0.15\n",
      "bw 0.15\n",
      "bw 0.15\n",
      "bw 0.15\n",
      "bw 0.15\n"
     ]
    },
    {
     "name": "stderr",
     "output_type": "stream",
     "text": [
      "T: No, now you cannot put b1 in the tower because you must put red blocks on blue blocks\n"
     ]
    },
    {
     "name": "stdout",
     "output_type": "stream",
     "text": [
      "bw 0.15\n",
      "bw 0.15\n"
     ]
    },
    {
     "name": "stderr",
     "output_type": "stream",
     "text": [
      "T: No, now you cannot put b0 in the tower because you must put green blocks on yellow blocks\n"
     ]
    },
    {
     "name": "stdout",
     "output_type": "stream",
     "text": [
      "bw 0.15\n",
      "bw 0.15\n",
      "bw 0.15\n",
      "bw 0.15\n"
     ]
    },
    {
     "name": "stderr",
     "output_type": "stream",
     "text": [
      "T: No, now you cannot put b0 in the tower because you must put green blocks on yellow blocks\n",
      "T: No, now you cannot put b0 in the tower because you must put green blocks on yellow blocks\n"
     ]
    },
    {
     "name": "stdout",
     "output_type": "stream",
     "text": [
      "bw 0.15\n",
      "bw 0.15\n"
     ]
    },
    {
     "name": "stderr",
     "output_type": "stream",
     "text": [
      "T: No, now you cannot put b0 in the tower because you must put green blocks on yellow blocks\n"
     ]
    },
    {
     "name": "stdout",
     "output_type": "stream",
     "text": [
      "bw 0.15\n"
     ]
    },
    {
     "name": "stderr",
     "output_type": "stream",
     "text": [
      "T: No, now you cannot put b1 in the tower because you must put red blocks on blue blocks\n"
     ]
    },
    {
     "name": "stdout",
     "output_type": "stream",
     "text": [
      "bw 0.15\n",
      "bw 0.15\n"
     ]
    },
    {
     "name": "stderr",
     "output_type": "stream",
     "text": [
      "T: No, now you cannot put b0 in the tower because you must put green blocks on yellow blocks\n"
     ]
    },
    {
     "name": "stdout",
     "output_type": "stream",
     "text": [
      "problem42.pddl reward: -26\n",
      "Parsing domain blocks-domain.pddl\n",
      "Parsing problem tworules/problem43.pddl\n",
      "problem43.pddl reward: -10\n",
      "Parsing domain blocks-domain.pddl\n",
      "Parsing problem tworules/problem44.pddl\n"
     ]
    },
    {
     "name": "stderr",
     "output_type": "stream",
     "text": [
      "T: no, put red blocks on blue blocks\n"
     ]
    },
    {
     "name": "stdout",
     "output_type": "stream",
     "text": [
      "(forall (?x) (or (not (red ?x)) (exists (?y) (and (blue ?y) (on ?x ?y)))))\n",
      "bw 0.15\n"
     ]
    },
    {
     "name": "stderr",
     "output_type": "stream",
     "text": [
      "T: no, put red blocks on blue blocks\n"
     ]
    },
    {
     "name": "stdout",
     "output_type": "stream",
     "text": [
      "(forall (?x) (or (not (red ?x)) (exists (?y) (and (blue ?y) (on ?x ?y)))))\n",
      "bw 0.15\n"
     ]
    },
    {
     "name": "stderr",
     "output_type": "stream",
     "text": [
      "T: no, put red blocks on blue blocks\n"
     ]
    },
    {
     "name": "stdout",
     "output_type": "stream",
     "text": [
      "(forall (?x) (or (not (red ?x)) (exists (?y) (and (blue ?y) (on ?x ?y)))))\n",
      "bw 0.15\n"
     ]
    },
    {
     "name": "stderr",
     "output_type": "stream",
     "text": [
      "T: no, put red blocks on blue blocks\n"
     ]
    },
    {
     "name": "stdout",
     "output_type": "stream",
     "text": [
      "(forall (?x) (or (not (red ?x)) (exists (?y) (and (blue ?y) (on ?x ?y)))))\n",
      "bw 0.15\n"
     ]
    },
    {
     "name": "stderr",
     "output_type": "stream",
     "text": [
      "T: no, put red blocks on blue blocks\n"
     ]
    },
    {
     "name": "stdout",
     "output_type": "stream",
     "text": [
      "(forall (?x) (or (not (red ?x)) (exists (?y) (and (blue ?y) (on ?x ?y)))))\n",
      "bw 0.15\n"
     ]
    },
    {
     "name": "stderr",
     "output_type": "stream",
     "text": [
      "T: No, now you cannot put b2 in the tower because you must put green blocks on yellow blocks\n"
     ]
    },
    {
     "name": "stdout",
     "output_type": "stream",
     "text": [
      "bw 0.15\n",
      "bw 0.15\n",
      "bw 0.15\n",
      "bw 0.15\n"
     ]
    },
    {
     "name": "stderr",
     "output_type": "stream",
     "text": [
      "T: no, put red blocks on blue blocks\n"
     ]
    },
    {
     "name": "stdout",
     "output_type": "stream",
     "text": [
      "(forall (?x) (or (not (red ?x)) (exists (?y) (and (blue ?y) (on ?x ?y)))))\n",
      "bw 0.15\n"
     ]
    },
    {
     "name": "stderr",
     "output_type": "stream",
     "text": [
      "T: No, now you cannot put b2 in the tower because you must put green blocks on yellow blocks\n",
      "T: no, put red blocks on blue blocks\n"
     ]
    },
    {
     "name": "stdout",
     "output_type": "stream",
     "text": [
      "(forall (?x) (or (not (red ?x)) (exists (?y) (and (blue ?y) (on ?x ?y)))))\n"
     ]
    },
    {
     "name": "stderr",
     "output_type": "stream",
     "text": [
      "T: no, put red blocks on blue blocks\n"
     ]
    },
    {
     "name": "stdout",
     "output_type": "stream",
     "text": [
      "(forall (?x) (or (not (red ?x)) (exists (?y) (and (blue ?y) (on ?x ?y)))))\n"
     ]
    },
    {
     "name": "stderr",
     "output_type": "stream",
     "text": [
      "T: no, put red blocks on blue blocks\n"
     ]
    },
    {
     "name": "stdout",
     "output_type": "stream",
     "text": [
      "(forall (?x) (or (not (red ?x)) (exists (?y) (and (blue ?y) (on ?x ?y)))))\n",
      "bw 0.15\n",
      "problem44.pddl reward: -32\n",
      "Parsing domain blocks-domain.pddl\n",
      "Parsing problem tworules/problem45.pddl\n"
     ]
    },
    {
     "name": "stderr",
     "output_type": "stream",
     "text": [
      "T: No, now you cannot put b4 in the tower because you must put green blocks on yellow blocks\n"
     ]
    },
    {
     "name": "stdout",
     "output_type": "stream",
     "text": [
      "bw 0.15\n",
      "bw 0.15\n",
      "bw 0.15\n",
      "bw 0.15\n",
      "bw 0.15\n",
      "bw 0.15\n",
      "problem45.pddl reward: -12\n",
      "Parsing domain blocks-domain.pddl\n",
      "Parsing problem tworules/problem46.pddl\n"
     ]
    },
    {
     "name": "stderr",
     "output_type": "stream",
     "text": [
      "T: No, now you cannot put b2 in the tower because you must put red blocks on blue blocks\n"
     ]
    },
    {
     "name": "stdout",
     "output_type": "stream",
     "text": [
      "bw 0.15\n",
      "bw 0.15\n",
      "bw 0.15\n",
      "bw 0.15\n",
      "bw 0.15\n",
      "bw 0.15\n"
     ]
    },
    {
     "name": "stderr",
     "output_type": "stream",
     "text": [
      "T: No, now you cannot put b2 in the tower because you must put red blocks on blue blocks\n"
     ]
    },
    {
     "name": "stdout",
     "output_type": "stream",
     "text": [
      "bw 0.15\n",
      "bw 0.15\n"
     ]
    },
    {
     "name": "stderr",
     "output_type": "stream",
     "text": [
      "T: No, now you cannot put b2 in the tower because you must put red blocks on blue blocks\n"
     ]
    },
    {
     "name": "stdout",
     "output_type": "stream",
     "text": [
      "bw 0.15\n",
      "problem46.pddl reward: -16\n",
      "Parsing domain blocks-domain.pddl\n",
      "Parsing problem tworules/problem47.pddl\n",
      "problem47.pddl reward: -10\n",
      "Parsing domain blocks-domain.pddl\n",
      "Parsing problem tworules/problem48.pddl\n"
     ]
    },
    {
     "name": "stderr",
     "output_type": "stream",
     "text": [
      "T: no, put green blocks on yellow blocks\n"
     ]
    },
    {
     "name": "stdout",
     "output_type": "stream",
     "text": [
      "(forall (?y) (or (not (yellow ?y)) (exists (?x) (and (green ?x) (on ?x ?y)))))\n",
      "bw 0.15\n",
      "bw 0.15\n",
      "bw 0.15\n",
      "bw 0.15\n"
     ]
    },
    {
     "name": "stderr",
     "output_type": "stream",
     "text": [
      "T: no, put green blocks on yellow blocks\n"
     ]
    },
    {
     "name": "stdout",
     "output_type": "stream",
     "text": [
      "(forall (?y) (or (not (yellow ?y)) (exists (?x) (and (green ?x) (on ?x ?y)))))\n",
      "bw 0.15\n",
      "bw 0.15\n"
     ]
    },
    {
     "name": "stderr",
     "output_type": "stream",
     "text": [
      "T: no, put green blocks on yellow blocks\n"
     ]
    },
    {
     "name": "stdout",
     "output_type": "stream",
     "text": [
      "(forall (?y) (or (not (yellow ?y)) (exists (?x) (and (green ?x) (on ?x ?y)))))\n",
      "bw 0.15\n",
      "bw 0.15\n"
     ]
    },
    {
     "name": "stderr",
     "output_type": "stream",
     "text": [
      "T: no, put green blocks on yellow blocks\n"
     ]
    },
    {
     "name": "stdout",
     "output_type": "stream",
     "text": [
      "(forall (?y) (or (not (yellow ?y)) (exists (?x) (and (green ?x) (on ?x ?y)))))\n",
      "bw 0.15\n",
      "bw 0.15\n"
     ]
    },
    {
     "name": "stderr",
     "output_type": "stream",
     "text": [
      "T: no, put green blocks on yellow blocks\n"
     ]
    },
    {
     "name": "stdout",
     "output_type": "stream",
     "text": [
      "(forall (?y) (or (not (yellow ?y)) (exists (?x) (and (green ?x) (on ?x ?y)))))\n"
     ]
    },
    {
     "name": "stderr",
     "output_type": "stream",
     "text": [
      "T: no, put green blocks on yellow blocks\n"
     ]
    },
    {
     "name": "stdout",
     "output_type": "stream",
     "text": [
      "(forall (?y) (or (not (yellow ?y)) (exists (?x) (and (green ?x) (on ?x ?y)))))\n"
     ]
    },
    {
     "name": "stderr",
     "output_type": "stream",
     "text": [
      "T: no, put green blocks on yellow blocks\n"
     ]
    },
    {
     "name": "stdout",
     "output_type": "stream",
     "text": [
      "(forall (?y) (or (not (yellow ?y)) (exists (?x) (and (green ?x) (on ?x ?y)))))\n",
      "problem48.pddl reward: -24\n",
      "Parsing domain blocks-domain.pddl\n",
      "Parsing problem tworules/problem49.pddl\n"
     ]
    },
    {
     "name": "stderr",
     "output_type": "stream",
     "text": [
      "T: No, now you cannot put b1 in the tower because you must put green blocks on yellow blocks\n"
     ]
    },
    {
     "name": "stdout",
     "output_type": "stream",
     "text": [
      "bw 0.15\n",
      "bw 0.15\n",
      "bw 0.15\n",
      "bw 0.15\n",
      "bw 0.15\n",
      "bw 0.15\n"
     ]
    },
    {
     "name": "stderr",
     "output_type": "stream",
     "text": [
      "T: No, now you cannot put b1 in the tower because you must put green blocks on yellow blocks\n"
     ]
    },
    {
     "name": "stdout",
     "output_type": "stream",
     "text": [
      "bw 0.15\n",
      "bw 0.15\n",
      "problem49.pddl reward: -14\n",
      "Parsing domain blocks-domain.pddl\n",
      "Parsing problem tworules/problem5.pddl\n"
     ]
    },
    {
     "name": "stderr",
     "output_type": "stream",
     "text": [
      "T: No, now you cannot put b3 in the tower because you must put red blocks on blue blocks\n"
     ]
    },
    {
     "name": "stdout",
     "output_type": "stream",
     "text": [
      "bw 0.15\n",
      "bw 0.15\n",
      "bw 0.15\n",
      "bw 0.15\n",
      "bw 0.15\n",
      "bw 0.15\n"
     ]
    },
    {
     "name": "stderr",
     "output_type": "stream",
     "text": [
      "T: No, now you cannot put b3 in the tower because you must put red blocks on blue blocks\n"
     ]
    },
    {
     "name": "stdout",
     "output_type": "stream",
     "text": [
      "bw 0.15\n",
      "bw 0.15\n"
     ]
    },
    {
     "name": "stderr",
     "output_type": "stream",
     "text": [
      "T: No, now you cannot put b3 in the tower because you must put red blocks on blue blocks\n"
     ]
    },
    {
     "name": "stdout",
     "output_type": "stream",
     "text": [
      "bw 0.15\n",
      "bw 0.15\n"
     ]
    },
    {
     "name": "stderr",
     "output_type": "stream",
     "text": [
      "T: No, now you cannot put b3 in the tower because you must put red blocks on blue blocks\n"
     ]
    },
    {
     "name": "stdout",
     "output_type": "stream",
     "text": [
      "bw 0.15\n"
     ]
    },
    {
     "name": "stderr",
     "output_type": "stream",
     "text": [
      "T: No, now you cannot put b3 in the tower because you must put red blocks on blue blocks\n"
     ]
    },
    {
     "name": "stdout",
     "output_type": "stream",
     "text": [
      "bw 0.15\n"
     ]
    },
    {
     "name": "stderr",
     "output_type": "stream",
     "text": [
      "T: No, now you cannot put b4 in the tower because you must put green blocks on yellow blocks\n"
     ]
    },
    {
     "name": "stdout",
     "output_type": "stream",
     "text": [
      "problem5.pddl reward: -22\n",
      "Parsing domain blocks-domain.pddl\n",
      "Parsing problem tworules/problem50.pddl\n",
      "problem50.pddl reward: -10\n",
      "Parsing domain blocks-domain.pddl\n",
      "Parsing problem tworules/problem6.pddl\n"
     ]
    },
    {
     "name": "stderr",
     "output_type": "stream",
     "text": [
      "T: No, now you cannot put b0 in the tower because you must put green blocks on yellow blocks\n"
     ]
    },
    {
     "name": "stdout",
     "output_type": "stream",
     "text": [
      "bw 0.15\n",
      "bw 0.15\n"
     ]
    },
    {
     "name": "stderr",
     "output_type": "stream",
     "text": [
      "T: No, now you cannot put b0 in the tower because you must put green blocks on yellow blocks\n"
     ]
    },
    {
     "name": "stdout",
     "output_type": "stream",
     "text": [
      "bw 0.15\n"
     ]
    },
    {
     "name": "stderr",
     "output_type": "stream",
     "text": [
      "T: No, now you cannot put b0 in the tower because you must put green blocks on yellow blocks\n"
     ]
    },
    {
     "name": "stdout",
     "output_type": "stream",
     "text": [
      "bw 0.15\n"
     ]
    },
    {
     "name": "stderr",
     "output_type": "stream",
     "text": [
      "T: No, now you cannot put b0 in the tower because you must put green blocks on yellow blocks\n"
     ]
    },
    {
     "name": "stdout",
     "output_type": "stream",
     "text": [
      "bw 0.15\n"
     ]
    },
    {
     "name": "stderr",
     "output_type": "stream",
     "text": [
      "T: No, now you cannot put b0 in the tower because you must put green blocks on yellow blocks\n"
     ]
    },
    {
     "name": "stdout",
     "output_type": "stream",
     "text": [
      "bw 0.15\n"
     ]
    },
    {
     "name": "stderr",
     "output_type": "stream",
     "text": [
      "T: No, now you cannot put b0 in the tower because you must put green blocks on yellow blocks\n"
     ]
    },
    {
     "name": "stdout",
     "output_type": "stream",
     "text": [
      "bw 0.15\n"
     ]
    },
    {
     "name": "stderr",
     "output_type": "stream",
     "text": [
      "T: No, now you cannot put b0 in the tower because you must put green blocks on yellow blocks\n"
     ]
    },
    {
     "name": "stdout",
     "output_type": "stream",
     "text": [
      "bw 0.15\n",
      "bw 0.15\n",
      "problem6.pddl reward: -24\n",
      "Parsing domain blocks-domain.pddl\n",
      "Parsing problem tworules/problem7.pddl\n"
     ]
    },
    {
     "name": "stderr",
     "output_type": "stream",
     "text": [
      "T: no, put red blocks on blue blocks\n"
     ]
    },
    {
     "name": "stdout",
     "output_type": "stream",
     "text": [
      "(forall (?x) (or (not (red ?x)) (exists (?y) (and (blue ?y) (on ?x ?y)))))\n",
      "bw 0.15\n",
      "bw 0.15\n",
      "bw 0.15\n",
      "bw 0.15\n"
     ]
    },
    {
     "name": "stderr",
     "output_type": "stream",
     "text": [
      "T: no, put red blocks on blue blocks\n"
     ]
    },
    {
     "name": "stdout",
     "output_type": "stream",
     "text": [
      "(forall (?x) (or (not (red ?x)) (exists (?y) (and (blue ?y) (on ?x ?y)))))\n",
      "bw 0.15\n",
      "bw 0.15\n"
     ]
    },
    {
     "name": "stderr",
     "output_type": "stream",
     "text": [
      "T: no, put red blocks on blue blocks\n"
     ]
    },
    {
     "name": "stdout",
     "output_type": "stream",
     "text": [
      "(forall (?x) (or (not (red ?x)) (exists (?y) (and (blue ?y) (on ?x ?y)))))\n",
      "bw 0.15\n",
      "bw 0.15\n"
     ]
    },
    {
     "name": "stderr",
     "output_type": "stream",
     "text": [
      "T: no, put red blocks on blue blocks\n"
     ]
    },
    {
     "name": "stdout",
     "output_type": "stream",
     "text": [
      "(forall (?x) (or (not (red ?x)) (exists (?y) (and (blue ?y) (on ?x ?y)))))\n",
      "bw 0.15\n",
      "bw 0.15\n"
     ]
    },
    {
     "name": "stderr",
     "output_type": "stream",
     "text": [
      "T: no, put red blocks on blue blocks\n"
     ]
    },
    {
     "name": "stdout",
     "output_type": "stream",
     "text": [
      "(forall (?x) (or (not (red ?x)) (exists (?y) (and (blue ?y) (on ?x ?y)))))\n",
      "bw 0.15\n"
     ]
    },
    {
     "name": "stderr",
     "output_type": "stream",
     "text": [
      "T: no, put red blocks on blue blocks\n"
     ]
    },
    {
     "name": "stdout",
     "output_type": "stream",
     "text": [
      "(forall (?x) (or (not (red ?x)) (exists (?y) (and (blue ?y) (on ?x ?y)))))\n",
      "bw 0.15\n",
      "problem7.pddl reward: -22\n",
      "Parsing domain blocks-domain.pddl\n",
      "Parsing problem tworules/problem8.pddl\n"
     ]
    },
    {
     "name": "stderr",
     "output_type": "stream",
     "text": [
      "T: no, put red blocks on blue blocks\n"
     ]
    },
    {
     "name": "stdout",
     "output_type": "stream",
     "text": [
      "(forall (?x) (or (not (red ?x)) (exists (?y) (and (blue ?y) (on ?x ?y)))))\n",
      "bw 0.15\n"
     ]
    },
    {
     "name": "stderr",
     "output_type": "stream",
     "text": [
      "T: No, now you cannot put b5 in the tower because you must put green blocks on yellow blocks\n"
     ]
    },
    {
     "name": "stdout",
     "output_type": "stream",
     "text": [
      "bw 0.15\n",
      "bw 0.15\n"
     ]
    },
    {
     "name": "stderr",
     "output_type": "stream",
     "text": [
      "T: No, now you cannot put b5 in the tower because you must put green blocks on yellow blocks\n",
      "T: No, now you cannot put b5 in the tower because you must put green blocks on yellow blocks\n"
     ]
    },
    {
     "name": "stdout",
     "output_type": "stream",
     "text": [
      "bw 0.15\n",
      "problem8.pddl reward: -18\n",
      "Parsing domain blocks-domain.pddl\n",
      "Parsing problem tworules/problem9.pddl\n"
     ]
    },
    {
     "name": "stderr",
     "output_type": "stream",
     "text": [
      "T: No, now you cannot put b0 in the tower because you must put red blocks on blue blocks\n"
     ]
    },
    {
     "name": "stdout",
     "output_type": "stream",
     "text": [
      "bw 0.15\n",
      "bw 0.15\n",
      "bw 0.15\n",
      "bw 0.15\n",
      "bw 0.15\n",
      "bw 0.15\n",
      "problem9.pddl reward: -12\n"
     ]
    }
   ],
   "source": [
    "add_experiment('tworules_kde_update_negative', None)"
   ]
  },
  {
   "cell_type": "code",
   "execution_count": 16,
   "metadata": {
    "scrolled": true
   },
   "outputs": [
    {
     "name": "stdout",
     "output_type": "stream",
     "text": [
      "Parsing domain blocks-domain.pddl\n",
      "Parsing problem maroon/problem1.pddl\n",
      "Parsing domain blocks-domain.pddl\n",
      "Parsing problem maroon/problem1.pddl\n"
     ]
    },
    {
     "name": "stderr",
     "output_type": "stream",
     "text": [
      "T: no, put red blocks on blue blocks\n",
      "R: Is the top object red?\n",
      "T: yes\n",
      "T: no, put red blocks on blue blocks\n"
     ]
    },
    {
     "name": "stdout",
     "output_type": "stream",
     "text": [
      "(forall (?x) (or (not (red ?x)) (exists (?y) (and (blue ?y) (on ?x ?y)))))\n",
      "bw 1.0\n",
      "(forall (?x) (or (not (red ?x)) (exists (?y) (and (blue ?y) (on ?x ?y)))))\n",
      "bw 0.5\n"
     ]
    },
    {
     "name": "stderr",
     "output_type": "stream",
     "text": [
      "T: no, put red blocks on blue blocks\n"
     ]
    },
    {
     "name": "stdout",
     "output_type": "stream",
     "text": [
      "(forall (?x) (or (not (red ?x)) (exists (?y) (and (blue ?y) (on ?x ?y)))))\n",
      "bw 0.3333333333333333\n"
     ]
    },
    {
     "name": "stderr",
     "output_type": "stream",
     "text": [
      "T: no, put red blocks on blue blocks\n"
     ]
    },
    {
     "name": "stdout",
     "output_type": "stream",
     "text": [
      "(forall (?x) (or (not (red ?x)) (exists (?y) (and (blue ?y) (on ?x ?y)))))\n"
     ]
    },
    {
     "name": "stderr",
     "output_type": "stream",
     "text": [
      "T: no, put red blocks on blue blocks\n"
     ]
    },
    {
     "name": "stdout",
     "output_type": "stream",
     "text": [
      "(forall (?x) (or (not (red ?x)) (exists (?y) (and (blue ?y) (on ?x ?y)))))\n"
     ]
    },
    {
     "name": "stderr",
     "output_type": "stream",
     "text": [
      "T: no, put red blocks on blue blocks\n"
     ]
    },
    {
     "name": "stdout",
     "output_type": "stream",
     "text": [
      "(forall (?x) (or (not (red ?x)) (exists (?y) (and (blue ?y) (on ?x ?y)))))\n",
      "problem1.pddl reward: -22\n",
      "Parsing domain blocks-domain.pddl\n",
      "Parsing problem maroon/problem10.pddl\n"
     ]
    },
    {
     "name": "stderr",
     "output_type": "stream",
     "text": [
      "T: no, put green blocks on maroon blocks\n",
      "R: Is the top object green?\n",
      "T: yes\n"
     ]
    },
    {
     "name": "stdout",
     "output_type": "stream",
     "text": [
      "(forall (?x) (or (not (green ?x)) (exists (?y) (and (maroon ?y) (on ?x ?y)))))\n",
      "bw 1.0\n"
     ]
    },
    {
     "name": "stderr",
     "output_type": "stream",
     "text": [
      "T: no, put red blocks on blue blocks\n"
     ]
    },
    {
     "name": "stdout",
     "output_type": "stream",
     "text": [
      "(forall (?x) (or (not (red ?x)) (exists (?y) (and (blue ?y) (on ?x ?y)))))\n",
      "bw 0.25\n"
     ]
    },
    {
     "name": "stderr",
     "output_type": "stream",
     "text": [
      "T: no, put green blocks on maroon blocks\n"
     ]
    },
    {
     "name": "stdout",
     "output_type": "stream",
     "text": [
      "(forall (?x) (or (not (green ?x)) (exists (?y) (and (maroon ?y) (on ?x ?y)))))\n"
     ]
    },
    {
     "name": "stderr",
     "output_type": "stream",
     "text": [
      "T: no, put red blocks on blue blocks\n"
     ]
    },
    {
     "name": "stdout",
     "output_type": "stream",
     "text": [
      "(forall (?x) (or (not (red ?x)) (exists (?y) (and (blue ?y) (on ?x ?y)))))\n"
     ]
    },
    {
     "name": "stderr",
     "output_type": "stream",
     "text": [
      "T: no, put green blocks on maroon blocks\n"
     ]
    },
    {
     "name": "stdout",
     "output_type": "stream",
     "text": [
      "(forall (?x) (or (not (green ?x)) (exists (?y) (and (maroon ?y) (on ?x ?y)))))\n"
     ]
    },
    {
     "name": "stderr",
     "output_type": "stream",
     "text": [
      "T: no, put red blocks on blue blocks\n"
     ]
    },
    {
     "name": "stdout",
     "output_type": "stream",
     "text": [
      "(forall (?x) (or (not (red ?x)) (exists (?y) (and (blue ?y) (on ?x ?y)))))\n"
     ]
    },
    {
     "name": "stderr",
     "output_type": "stream",
     "text": [
      "T: no, put green blocks on maroon blocks\n"
     ]
    },
    {
     "name": "stdout",
     "output_type": "stream",
     "text": [
      "(forall (?x) (or (not (green ?x)) (exists (?y) (and (maroon ?y) (on ?x ?y)))))\n"
     ]
    },
    {
     "name": "stderr",
     "output_type": "stream",
     "text": [
      "T: no, put red blocks on blue blocks\n"
     ]
    },
    {
     "name": "stdout",
     "output_type": "stream",
     "text": [
      "(forall (?x) (or (not (red ?x)) (exists (?y) (and (blue ?y) (on ?x ?y)))))\n"
     ]
    },
    {
     "name": "stderr",
     "output_type": "stream",
     "text": [
      "T: no, put green blocks on maroon blocks\n"
     ]
    },
    {
     "name": "stdout",
     "output_type": "stream",
     "text": [
      "(forall (?x) (or (not (green ?x)) (exists (?y) (and (maroon ?y) (on ?x ?y)))))\n"
     ]
    },
    {
     "name": "stderr",
     "output_type": "stream",
     "text": [
      "T: no, put red blocks on blue blocks\n"
     ]
    },
    {
     "name": "stdout",
     "output_type": "stream",
     "text": [
      "(forall (?x) (or (not (red ?x)) (exists (?y) (and (blue ?y) (on ?x ?y)))))\n"
     ]
    },
    {
     "name": "stderr",
     "output_type": "stream",
     "text": [
      "T: no, put green blocks on maroon blocks\n"
     ]
    },
    {
     "name": "stdout",
     "output_type": "stream",
     "text": [
      "(forall (?x) (or (not (green ?x)) (exists (?y) (and (maroon ?y) (on ?x ?y)))))\n",
      "problem10.pddl reward: -32\n",
      "Parsing domain blocks-domain.pddl\n",
      "Parsing problem maroon/problem11.pddl\n",
      "problem11.pddl reward: -10\n",
      "Parsing domain blocks-domain.pddl\n",
      "Parsing problem maroon/problem12.pddl\n"
     ]
    },
    {
     "name": "stderr",
     "output_type": "stream",
     "text": [
      "T: no, put red blocks on blue blocks\n"
     ]
    },
    {
     "name": "stdout",
     "output_type": "stream",
     "text": [
      "(forall (?x) (or (not (red ?x)) (exists (?y) (and (blue ?y) (on ?x ?y)))))\n",
      "bw 0.2\n",
      "bw 1.0\n"
     ]
    },
    {
     "name": "stderr",
     "output_type": "stream",
     "text": [
      "T: no, put green blocks on maroon blocks\n",
      "R: Is the top object green?\n",
      "T: yes\n"
     ]
    },
    {
     "name": "stdout",
     "output_type": "stream",
     "text": [
      "(forall (?x) (or (not (green ?x)) (exists (?y) (and (maroon ?y) (on ?x ?y)))))\n",
      "bw 0.5\n"
     ]
    },
    {
     "name": "stderr",
     "output_type": "stream",
     "text": [
      "T: no, put green blocks on maroon blocks\n"
     ]
    },
    {
     "name": "stdout",
     "output_type": "stream",
     "text": [
      "(forall (?x) (or (not (green ?x)) (exists (?y) (and (maroon ?y) (on ?x ?y)))))\n"
     ]
    },
    {
     "name": "stderr",
     "output_type": "stream",
     "text": [
      "T: no, put green blocks on maroon blocks\n"
     ]
    },
    {
     "name": "stdout",
     "output_type": "stream",
     "text": [
      "(forall (?x) (or (not (green ?x)) (exists (?y) (and (maroon ?y) (on ?x ?y)))))\n"
     ]
    },
    {
     "name": "stderr",
     "output_type": "stream",
     "text": [
      "T: No, now you cannot put b0 in the tower because you must put red blocks on blue blocks\n"
     ]
    },
    {
     "name": "stdout",
     "output_type": "stream",
     "text": [
      "bw 0.2\n",
      "bw 1.0\n",
      "bw 0.16666666666666666\n",
      "bw 0.15\n",
      "bw 0.5\n",
      "problem12.pddl reward: -20\n",
      "Parsing domain blocks-domain.pddl\n",
      "Parsing problem maroon/problem13.pddl\n"
     ]
    },
    {
     "name": "stderr",
     "output_type": "stream",
     "text": [
      "T: no, put red blocks on blue blocks\n"
     ]
    },
    {
     "name": "stdout",
     "output_type": "stream",
     "text": [
      "(forall (?x) (or (not (red ?x)) (exists (?y) (and (blue ?y) (on ?x ?y)))))\n",
      "bw 0.15\n",
      "bw 0.3333333333333333\n"
     ]
    },
    {
     "name": "stderr",
     "output_type": "stream",
     "text": [
      "T: no, put red blocks on blue blocks\n"
     ]
    },
    {
     "name": "stdout",
     "output_type": "stream",
     "text": [
      "(forall (?x) (or (not (red ?x)) (exists (?y) (and (blue ?y) (on ?x ?y)))))\n",
      "bw 0.25\n",
      "problem13.pddl reward: -14\n",
      "Parsing domain blocks-domain.pddl\n",
      "Parsing problem maroon/problem14.pddl\n"
     ]
    },
    {
     "name": "stderr",
     "output_type": "stream",
     "text": [
      "T: no, put red blocks on blue blocks\n"
     ]
    },
    {
     "name": "stdout",
     "output_type": "stream",
     "text": [
      "(forall (?x) (or (not (red ?x)) (exists (?y) (and (blue ?y) (on ?x ?y)))))\n",
      "bw 0.15\n",
      "bw 0.2\n"
     ]
    },
    {
     "name": "stderr",
     "output_type": "stream",
     "text": [
      "T: no, put red blocks on blue blocks\n"
     ]
    },
    {
     "name": "stdout",
     "output_type": "stream",
     "text": [
      "(forall (?x) (or (not (red ?x)) (exists (?y) (and (blue ?y) (on ?x ?y)))))\n",
      "bw 0.16666666666666666\n"
     ]
    },
    {
     "name": "stderr",
     "output_type": "stream",
     "text": [
      "T: no, put red blocks on blue blocks\n"
     ]
    },
    {
     "name": "stdout",
     "output_type": "stream",
     "text": [
      "(forall (?x) (or (not (red ?x)) (exists (?y) (and (blue ?y) (on ?x ?y)))))\n",
      "bw 0.15\n",
      "problem14.pddl reward: -16\n",
      "Parsing domain blocks-domain.pddl\n",
      "Parsing problem maroon/problem15.pddl\n",
      "problem15.pddl reward: -10\n",
      "Parsing domain blocks-domain.pddl\n",
      "Parsing problem maroon/problem16.pddl\n",
      "problem16.pddl reward: -10\n",
      "Parsing domain blocks-domain.pddl\n",
      "Parsing problem maroon/problem17.pddl\n"
     ]
    },
    {
     "name": "stderr",
     "output_type": "stream",
     "text": [
      "T: No, now you cannot put b5 in the tower because you must put red blocks on blue blocks\n",
      "R: Is the top object red?\n",
      "T: no\n"
     ]
    },
    {
     "name": "stdout",
     "output_type": "stream",
     "text": [
      "bw 0.15\n",
      "bw 0.15\n"
     ]
    },
    {
     "name": "stderr",
     "output_type": "stream",
     "text": [
      "T: No, now you cannot put b3 in the tower because you must put green blocks on maroon blocks\n"
     ]
    },
    {
     "name": "stdout",
     "output_type": "stream",
     "text": [
      "bw 0.5\n"
     ]
    },
    {
     "name": "stderr",
     "output_type": "stream",
     "text": [
      "R: Is the top object green?\n",
      "T: no\n"
     ]
    },
    {
     "name": "stdout",
     "output_type": "stream",
     "text": [
      "bw 0.3333333333333333\n"
     ]
    },
    {
     "name": "stderr",
     "output_type": "stream",
     "text": [
      "T: No, now you cannot put b3 in the tower because you must put green blocks on maroon blocks\n"
     ]
    },
    {
     "name": "stdout",
     "output_type": "stream",
     "text": [
      "problem17.pddl reward: -16\n",
      "Parsing domain blocks-domain.pddl\n",
      "Parsing problem maroon/problem18.pddl\n",
      "problem18.pddl reward: -10\n",
      "Parsing domain blocks-domain.pddl\n",
      "Parsing problem maroon/problem19.pddl\n",
      "problem19.pddl reward: -10\n",
      "Parsing domain blocks-domain.pddl\n",
      "Parsing problem maroon/problem2.pddl\n"
     ]
    },
    {
     "name": "stderr",
     "output_type": "stream",
     "text": [
      "T: no, put red blocks on blue blocks\n"
     ]
    },
    {
     "name": "stdout",
     "output_type": "stream",
     "text": [
      "(forall (?x) (or (not (red ?x)) (exists (?y) (and (blue ?y) (on ?x ?y)))))\n",
      "bw 0.15\n",
      "bw 0.15\n"
     ]
    },
    {
     "name": "stderr",
     "output_type": "stream",
     "text": [
      "T: no, put red blocks on blue blocks\n"
     ]
    },
    {
     "name": "stdout",
     "output_type": "stream",
     "text": [
      "(forall (?x) (or (not (red ?x)) (exists (?y) (and (blue ?y) (on ?x ?y)))))\n",
      "bw 0.15\n"
     ]
    },
    {
     "name": "stderr",
     "output_type": "stream",
     "text": [
      "T: no, put red blocks on blue blocks\n"
     ]
    },
    {
     "name": "stdout",
     "output_type": "stream",
     "text": [
      "(forall (?x) (or (not (red ?x)) (exists (?y) (and (blue ?y) (on ?x ?y)))))\n",
      "bw 0.15\n"
     ]
    },
    {
     "name": "stderr",
     "output_type": "stream",
     "text": [
      "T: no, put red blocks on blue blocks\n"
     ]
    },
    {
     "name": "stdout",
     "output_type": "stream",
     "text": [
      "(forall (?x) (or (not (red ?x)) (exists (?y) (and (blue ?y) (on ?x ?y)))))\n",
      "bw 0.15\n"
     ]
    },
    {
     "name": "stderr",
     "output_type": "stream",
     "text": [
      "T: no, put red blocks on blue blocks\n"
     ]
    },
    {
     "name": "stdout",
     "output_type": "stream",
     "text": [
      "(forall (?x) (or (not (red ?x)) (exists (?y) (and (blue ?y) (on ?x ?y)))))\n",
      "bw 0.15\n"
     ]
    },
    {
     "name": "stderr",
     "output_type": "stream",
     "text": [
      "T: no, put red blocks on blue blocks\n"
     ]
    },
    {
     "name": "stdout",
     "output_type": "stream",
     "text": [
      "(forall (?x) (or (not (red ?x)) (exists (?y) (and (blue ?y) (on ?x ?y)))))\n",
      "bw 0.15\n",
      "problem2.pddl reward: -22\n",
      "Parsing domain blocks-domain.pddl\n",
      "Parsing problem maroon/problem20.pddl\n"
     ]
    },
    {
     "name": "stderr",
     "output_type": "stream",
     "text": [
      "T: no, put red blocks on blue blocks\n"
     ]
    },
    {
     "name": "stdout",
     "output_type": "stream",
     "text": [
      "(forall (?x) (or (not (red ?x)) (exists (?y) (and (blue ?y) (on ?x ?y)))))\n",
      "bw 0.15\n",
      "bw 0.15\n",
      "problem20.pddl reward: -12\n",
      "Parsing domain blocks-domain.pddl\n",
      "Parsing problem maroon/problem21.pddl\n",
      "problem21.pddl reward: -10\n",
      "Parsing domain blocks-domain.pddl\n",
      "Parsing problem maroon/problem22.pddl\n"
     ]
    },
    {
     "name": "stderr",
     "output_type": "stream",
     "text": [
      "T: No, now you cannot put b2 in the tower because you must put red blocks on blue blocks\n"
     ]
    },
    {
     "name": "stdout",
     "output_type": "stream",
     "text": [
      "bw 0.15\n",
      "bw 0.15\n",
      "bw 0.15\n",
      "bw 0.15\n"
     ]
    },
    {
     "name": "stderr",
     "output_type": "stream",
     "text": [
      "T: No, now you cannot put b2 in the tower because you must put red blocks on blue blocks\n"
     ]
    },
    {
     "name": "stdout",
     "output_type": "stream",
     "text": [
      "bw 0.15\n"
     ]
    },
    {
     "name": "stderr",
     "output_type": "stream",
     "text": [
      "T: No, now you cannot put b2 in the tower because you must put red blocks on blue blocks\n",
      "T: No, now you cannot put b3 in the tower because you must put green blocks on maroon blocks\n"
     ]
    },
    {
     "name": "stdout",
     "output_type": "stream",
     "text": [
      "bw 1.0\n",
      "bw 0.25\n",
      "bw 0.5\n"
     ]
    },
    {
     "name": "stderr",
     "output_type": "stream",
     "text": [
      "T: No, now you cannot put b3 in the tower because you must put green blocks on maroon blocks\n",
      "T: No, now you cannot put b3 in the tower because you must put green blocks on maroon blocks\n",
      "T: No, now you cannot put b3 in the tower because you must put green blocks on maroon blocks\n"
     ]
    },
    {
     "name": "stdout",
     "output_type": "stream",
     "text": [
      "bw 0.2\n"
     ]
    },
    {
     "name": "stderr",
     "output_type": "stream",
     "text": [
      "T: no, put red blocks on blue blocks\n"
     ]
    },
    {
     "name": "stdout",
     "output_type": "stream",
     "text": [
      "(forall (?x) (or (not (red ?x)) (exists (?y) (and (blue ?y) (on ?x ?y)))))\n",
      "problem22.pddl reward: -26\n",
      "Parsing domain blocks-domain.pddl\n",
      "Parsing problem maroon/problem23.pddl\n",
      "problem23.pddl reward: -10\n",
      "Parsing domain blocks-domain.pddl\n",
      "Parsing problem maroon/problem24.pddl\n"
     ]
    },
    {
     "name": "stderr",
     "output_type": "stream",
     "text": [
      "T: no, put red blocks on blue blocks\n"
     ]
    },
    {
     "name": "stdout",
     "output_type": "stream",
     "text": [
      "(forall (?x) (or (not (red ?x)) (exists (?y) (and (blue ?y) (on ?x ?y)))))\n",
      "bw 0.15\n"
     ]
    },
    {
     "name": "stderr",
     "output_type": "stream",
     "text": [
      "T: no, put red blocks on blue blocks\n"
     ]
    },
    {
     "name": "stdout",
     "output_type": "stream",
     "text": [
      "(forall (?x) (or (not (red ?x)) (exists (?y) (and (blue ?y) (on ?x ?y)))))\n"
     ]
    },
    {
     "name": "stderr",
     "output_type": "stream",
     "text": [
      "T: no, put red blocks on blue blocks\n"
     ]
    },
    {
     "name": "stdout",
     "output_type": "stream",
     "text": [
      "(forall (?x) (or (not (red ?x)) (exists (?y) (and (blue ?y) (on ?x ?y)))))\n",
      "bw 0.15\n"
     ]
    },
    {
     "name": "stderr",
     "output_type": "stream",
     "text": [
      "T: no, put red blocks on blue blocks\n"
     ]
    },
    {
     "name": "stdout",
     "output_type": "stream",
     "text": [
      "(forall (?x) (or (not (red ?x)) (exists (?y) (and (blue ?y) (on ?x ?y)))))\n"
     ]
    },
    {
     "name": "stderr",
     "output_type": "stream",
     "text": [
      "T: no, put red blocks on blue blocks\n"
     ]
    },
    {
     "name": "stdout",
     "output_type": "stream",
     "text": [
      "(forall (?x) (or (not (red ?x)) (exists (?y) (and (blue ?y) (on ?x ?y)))))\n"
     ]
    },
    {
     "name": "stderr",
     "output_type": "stream",
     "text": [
      "T: no, put red blocks on blue blocks\n"
     ]
    },
    {
     "name": "stdout",
     "output_type": "stream",
     "text": [
      "(forall (?x) (or (not (red ?x)) (exists (?y) (and (blue ?y) (on ?x ?y)))))\n"
     ]
    },
    {
     "name": "stderr",
     "output_type": "stream",
     "text": [
      "T: no, put red blocks on blue blocks\n"
     ]
    },
    {
     "name": "stdout",
     "output_type": "stream",
     "text": [
      "(forall (?x) (or (not (red ?x)) (exists (?y) (and (blue ?y) (on ?x ?y)))))\n"
     ]
    },
    {
     "name": "stderr",
     "output_type": "stream",
     "text": [
      "T: no, put green blocks on maroon blocks\n"
     ]
    },
    {
     "name": "stdout",
     "output_type": "stream",
     "text": [
      "(forall (?x) (or (not (green ?x)) (exists (?y) (and (maroon ?y) (on ?x ?y)))))\n",
      "bw 0.16666666666666666\n"
     ]
    },
    {
     "name": "stderr",
     "output_type": "stream",
     "text": [
      "T: no, put red blocks on blue blocks\n"
     ]
    },
    {
     "name": "stdout",
     "output_type": "stream",
     "text": [
      "(forall (?x) (or (not (red ?x)) (exists (?y) (and (blue ?y) (on ?x ?y)))))\n"
     ]
    },
    {
     "name": "stderr",
     "output_type": "stream",
     "text": [
      "T: no, put red blocks on blue blocks\n"
     ]
    },
    {
     "name": "stdout",
     "output_type": "stream",
     "text": [
      "(forall (?x) (or (not (red ?x)) (exists (?y) (and (blue ?y) (on ?x ?y)))))\n",
      "problem24.pddl reward: -30\n",
      "Parsing domain blocks-domain.pddl\n",
      "Parsing problem maroon/problem25.pddl\n"
     ]
    },
    {
     "name": "stderr",
     "output_type": "stream",
     "text": [
      "T: No, now you cannot put b0 in the tower because you must put red blocks on blue blocks\n"
     ]
    },
    {
     "name": "stdout",
     "output_type": "stream",
     "text": [
      "bw 0.15\n",
      "bw 0.15\n",
      "bw 0.15\n",
      "bw 0.15\n"
     ]
    },
    {
     "name": "stderr",
     "output_type": "stream",
     "text": [
      "T: No, now you cannot put b0 in the tower because you must put red blocks on blue blocks\n"
     ]
    },
    {
     "name": "stdout",
     "output_type": "stream",
     "text": [
      "bw 0.15\n"
     ]
    },
    {
     "name": "stderr",
     "output_type": "stream",
     "text": [
      "T: No, now you cannot put b0 in the tower because you must put red blocks on blue blocks\n"
     ]
    },
    {
     "name": "stdout",
     "output_type": "stream",
     "text": [
      "bw 0.15\n"
     ]
    },
    {
     "name": "stderr",
     "output_type": "stream",
     "text": [
      "T: No, now you cannot put b0 in the tower because you must put red blocks on blue blocks\n",
      "T: No, now you cannot put b0 in the tower because you must put red blocks on blue blocks\n"
     ]
    },
    {
     "name": "stdout",
     "output_type": "stream",
     "text": [
      "problem25.pddl reward: -20\n",
      "Parsing domain blocks-domain.pddl\n",
      "Parsing problem maroon/problem26.pddl\n",
      "problem26.pddl reward: -10\n",
      "Parsing domain blocks-domain.pddl\n",
      "Parsing problem maroon/problem27.pddl\n"
     ]
    },
    {
     "name": "stderr",
     "output_type": "stream",
     "text": [
      "T: no, put red blocks on blue blocks\n"
     ]
    },
    {
     "name": "stdout",
     "output_type": "stream",
     "text": [
      "(forall (?x) (or (not (red ?x)) (exists (?y) (and (blue ?y) (on ?x ?y)))))\n",
      "bw 0.15\n",
      "bw 0.15\n",
      "problem27.pddl reward: -12\n",
      "Parsing domain blocks-domain.pddl\n",
      "Parsing problem maroon/problem28.pddl\n",
      "problem28.pddl reward: -10\n",
      "Parsing domain blocks-domain.pddl\n",
      "Parsing problem maroon/problem29.pddl\n",
      "problem29.pddl reward: -10\n",
      "Parsing domain blocks-domain.pddl\n",
      "Parsing problem maroon/problem3.pddl\n"
     ]
    },
    {
     "name": "stderr",
     "output_type": "stream",
     "text": [
      "T: No, now you cannot put b1 in the tower because you must put red blocks on blue blocks\n"
     ]
    },
    {
     "name": "stdout",
     "output_type": "stream",
     "text": [
      "bw 0.15\n",
      "bw 0.15\n",
      "bw 0.15\n",
      "bw 0.15\n"
     ]
    },
    {
     "name": "stderr",
     "output_type": "stream",
     "text": [
      "T: No, now you cannot put b1 in the tower because you must put red blocks on blue blocks\n"
     ]
    },
    {
     "name": "stdout",
     "output_type": "stream",
     "text": [
      "bw 0.15\n"
     ]
    },
    {
     "name": "stderr",
     "output_type": "stream",
     "text": [
      "T: No, now you cannot put b1 in the tower because you must put red blocks on blue blocks\n",
      "T: No, now you cannot put b1 in the tower because you must put red blocks on blue blocks\n",
      "T: No, now you cannot put b1 in the tower because you must put red blocks on blue blocks\n",
      "T: No, now you cannot put b1 in the tower because you must put red blocks on blue blocks\n",
      "T: No, now you cannot put b1 in the tower because you must put red blocks on blue blocks\n"
     ]
    },
    {
     "name": "stdout",
     "output_type": "stream",
     "text": [
      "problem3.pddl reward: -24\n",
      "Parsing domain blocks-domain.pddl\n",
      "Parsing problem maroon/problem30.pddl\n"
     ]
    },
    {
     "name": "stderr",
     "output_type": "stream",
     "text": [
      "T: no, put green blocks on maroon blocks\n"
     ]
    },
    {
     "name": "stdout",
     "output_type": "stream",
     "text": [
      "(forall (?x) (or (not (green ?x)) (exists (?y) (and (maroon ?y) (on ?x ?y)))))\n"
     ]
    },
    {
     "name": "stderr",
     "output_type": "stream",
     "text": [
      "R: Is the top object green?\n",
      "T: yes\n"
     ]
    },
    {
     "name": "stdout",
     "output_type": "stream",
     "text": [
      "bw 0.15\n"
     ]
    },
    {
     "name": "stderr",
     "output_type": "stream",
     "text": [
      "T: no, put green blocks on maroon blocks\n"
     ]
    },
    {
     "name": "stdout",
     "output_type": "stream",
     "text": [
      "(forall (?x) (or (not (green ?x)) (exists (?y) (and (maroon ?y) (on ?x ?y)))))\n",
      "problem30.pddl reward: -14\n",
      "Parsing domain blocks-domain.pddl\n",
      "Parsing problem maroon/problem31.pddl\n"
     ]
    },
    {
     "name": "stderr",
     "output_type": "stream",
     "text": [
      "T: no, put red blocks on blue blocks\n"
     ]
    },
    {
     "name": "stdout",
     "output_type": "stream",
     "text": [
      "(forall (?x) (or (not (red ?x)) (exists (?y) (and (blue ?y) (on ?x ?y)))))\n",
      "bw 0.15\n"
     ]
    },
    {
     "name": "stderr",
     "output_type": "stream",
     "text": [
      "T: no, put green blocks on maroon blocks\n"
     ]
    },
    {
     "name": "stdout",
     "output_type": "stream",
     "text": [
      "(forall (?x) (or (not (green ?x)) (exists (?y) (and (maroon ?y) (on ?x ?y)))))\n",
      "bw 0.15\n",
      "bw 0.3333333333333333\n",
      "problem31.pddl reward: -14\n",
      "Parsing domain blocks-domain.pddl\n",
      "Parsing problem maroon/problem32.pddl\n",
      "problem32.pddl reward: -10\n",
      "Parsing domain blocks-domain.pddl\n",
      "Parsing problem maroon/problem33.pddl\n"
     ]
    },
    {
     "name": "stderr",
     "output_type": "stream",
     "text": [
      "T: no, put red blocks on blue blocks\n"
     ]
    },
    {
     "name": "stdout",
     "output_type": "stream",
     "text": [
      "(forall (?x) (or (not (red ?x)) (exists (?y) (and (blue ?y) (on ?x ?y)))))\n",
      "bw 0.15\n",
      "bw 0.15\n",
      "problem33.pddl reward: -12\n",
      "Parsing domain blocks-domain.pddl\n",
      "Parsing problem maroon/problem34.pddl\n",
      "problem34.pddl reward: -10\n",
      "Parsing domain blocks-domain.pddl\n",
      "Parsing problem maroon/problem35.pddl\n"
     ]
    },
    {
     "name": "stderr",
     "output_type": "stream",
     "text": [
      "T: no, put red blocks on blue blocks\n"
     ]
    },
    {
     "name": "stdout",
     "output_type": "stream",
     "text": [
      "(forall (?x) (or (not (red ?x)) (exists (?y) (and (blue ?y) (on ?x ?y)))))\n",
      "bw 0.15\n"
     ]
    },
    {
     "name": "stderr",
     "output_type": "stream",
     "text": [
      "T: no, put red blocks on blue blocks\n"
     ]
    },
    {
     "name": "stdout",
     "output_type": "stream",
     "text": [
      "(forall (?x) (or (not (red ?x)) (exists (?y) (and (blue ?y) (on ?x ?y)))))\n"
     ]
    },
    {
     "name": "stderr",
     "output_type": "stream",
     "text": [
      "T: no, put red blocks on blue blocks\n"
     ]
    },
    {
     "name": "stdout",
     "output_type": "stream",
     "text": [
      "(forall (?x) (or (not (red ?x)) (exists (?y) (and (blue ?y) (on ?x ?y)))))\n",
      "bw 0.15\n",
      "bw 0.15\n"
     ]
    },
    {
     "name": "stderr",
     "output_type": "stream",
     "text": [
      "T: no, put red blocks on blue blocks\n"
     ]
    },
    {
     "name": "stdout",
     "output_type": "stream",
     "text": [
      "(forall (?x) (or (not (red ?x)) (exists (?y) (and (blue ?y) (on ?x ?y)))))\n",
      "bw 0.15\n"
     ]
    },
    {
     "name": "stderr",
     "output_type": "stream",
     "text": [
      "T: no, put red blocks on blue blocks\n"
     ]
    },
    {
     "name": "stdout",
     "output_type": "stream",
     "text": [
      "(forall (?x) (or (not (red ?x)) (exists (?y) (and (blue ?y) (on ?x ?y)))))\n",
      "bw 0.15\n"
     ]
    },
    {
     "name": "stderr",
     "output_type": "stream",
     "text": [
      "T: no, put red blocks on blue blocks\n"
     ]
    },
    {
     "name": "stdout",
     "output_type": "stream",
     "text": [
      "(forall (?x) (or (not (red ?x)) (exists (?y) (and (blue ?y) (on ?x ?y)))))\n",
      "bw 0.15\n",
      "problem35.pddl reward: -22\n",
      "Parsing domain blocks-domain.pddl\n",
      "Parsing problem maroon/problem36.pddl\n"
     ]
    },
    {
     "name": "stderr",
     "output_type": "stream",
     "text": [
      "T: no, put red blocks on blue blocks\n"
     ]
    },
    {
     "name": "stdout",
     "output_type": "stream",
     "text": [
      "(forall (?x) (or (not (red ?x)) (exists (?y) (and (blue ?y) (on ?x ?y)))))\n",
      "bw 0.15\n",
      "bw 0.15\n"
     ]
    },
    {
     "name": "stderr",
     "output_type": "stream",
     "text": [
      "T: no, put red blocks on blue blocks\n"
     ]
    },
    {
     "name": "stdout",
     "output_type": "stream",
     "text": [
      "(forall (?x) (or (not (red ?x)) (exists (?y) (and (blue ?y) (on ?x ?y)))))\n",
      "bw 0.15\n"
     ]
    },
    {
     "name": "stderr",
     "output_type": "stream",
     "text": [
      "T: no, put red blocks on blue blocks\n"
     ]
    },
    {
     "name": "stdout",
     "output_type": "stream",
     "text": [
      "(forall (?x) (or (not (red ?x)) (exists (?y) (and (blue ?y) (on ?x ?y)))))\n",
      "bw 0.15\n"
     ]
    },
    {
     "name": "stderr",
     "output_type": "stream",
     "text": [
      "T: no, put red blocks on blue blocks\n"
     ]
    },
    {
     "name": "stdout",
     "output_type": "stream",
     "text": [
      "(forall (?x) (or (not (red ?x)) (exists (?y) (and (blue ?y) (on ?x ?y)))))\n"
     ]
    },
    {
     "name": "stderr",
     "output_type": "stream",
     "text": [
      "T: no, put green blocks on maroon blocks\n"
     ]
    },
    {
     "name": "stdout",
     "output_type": "stream",
     "text": [
      "(forall (?x) (or (not (green ?x)) (exists (?y) (and (maroon ?y) (on ?x ?y)))))\n",
      "bw 0.15\n"
     ]
    },
    {
     "name": "stderr",
     "output_type": "stream",
     "text": [
      "T: no, put red blocks on blue blocks\n"
     ]
    },
    {
     "name": "stdout",
     "output_type": "stream",
     "text": [
      "(forall (?x) (or (not (red ?x)) (exists (?y) (and (blue ?y) (on ?x ?y)))))\n",
      "bw 0.15\n"
     ]
    },
    {
     "name": "stderr",
     "output_type": "stream",
     "text": [
      "T: no, put red blocks on blue blocks\n"
     ]
    },
    {
     "name": "stdout",
     "output_type": "stream",
     "text": [
      "(forall (?x) (or (not (red ?x)) (exists (?y) (and (blue ?y) (on ?x ?y)))))\n"
     ]
    },
    {
     "name": "stderr",
     "output_type": "stream",
     "text": [
      "T: no, put green blocks on maroon blocks\n"
     ]
    },
    {
     "name": "stdout",
     "output_type": "stream",
     "text": [
      "(forall (?x) (or (not (green ?x)) (exists (?y) (and (maroon ?y) (on ?x ?y)))))\n"
     ]
    },
    {
     "name": "stderr",
     "output_type": "stream",
     "text": [
      "T: no, put red blocks on blue blocks\n"
     ]
    },
    {
     "name": "stdout",
     "output_type": "stream",
     "text": [
      "(forall (?x) (or (not (red ?x)) (exists (?y) (and (blue ?y) (on ?x ?y)))))\n"
     ]
    },
    {
     "name": "stderr",
     "output_type": "stream",
     "text": [
      "T: no, put green blocks on maroon blocks\n"
     ]
    },
    {
     "name": "stdout",
     "output_type": "stream",
     "text": [
      "(forall (?x) (or (not (green ?x)) (exists (?y) (and (maroon ?y) (on ?x ?y)))))\n"
     ]
    },
    {
     "name": "stderr",
     "output_type": "stream",
     "text": [
      "T: no, put red blocks on blue blocks\n"
     ]
    },
    {
     "name": "stdout",
     "output_type": "stream",
     "text": [
      "(forall (?x) (or (not (red ?x)) (exists (?y) (and (blue ?y) (on ?x ?y)))))\n"
     ]
    },
    {
     "name": "stderr",
     "output_type": "stream",
     "text": [
      "T: no, put green blocks on maroon blocks\n"
     ]
    },
    {
     "name": "stdout",
     "output_type": "stream",
     "text": [
      "(forall (?x) (or (not (green ?x)) (exists (?y) (and (maroon ?y) (on ?x ?y)))))\n"
     ]
    },
    {
     "name": "stderr",
     "output_type": "stream",
     "text": [
      "T: no, put red blocks on blue blocks\n"
     ]
    },
    {
     "name": "stdout",
     "output_type": "stream",
     "text": [
      "(forall (?x) (or (not (red ?x)) (exists (?y) (and (blue ?y) (on ?x ?y)))))\n"
     ]
    },
    {
     "name": "stderr",
     "output_type": "stream",
     "text": [
      "T: no, put green blocks on maroon blocks\n"
     ]
    },
    {
     "name": "stdout",
     "output_type": "stream",
     "text": [
      "(forall (?x) (or (not (green ?x)) (exists (?y) (and (maroon ?y) (on ?x ?y)))))\n",
      "problem36.pddl reward: -38\n",
      "Parsing domain blocks-domain.pddl\n",
      "Parsing problem maroon/problem37.pddl\n",
      "problem37.pddl reward: -10\n",
      "Parsing domain blocks-domain.pddl\n",
      "Parsing problem maroon/problem38.pddl\n"
     ]
    },
    {
     "name": "stderr",
     "output_type": "stream",
     "text": [
      "T: no, put red blocks on blue blocks\n"
     ]
    },
    {
     "name": "stdout",
     "output_type": "stream",
     "text": [
      "(forall (?x) (or (not (red ?x)) (exists (?y) (and (blue ?y) (on ?x ?y)))))\n",
      "bw 0.15\n",
      "bw 0.15\n"
     ]
    },
    {
     "name": "stderr",
     "output_type": "stream",
     "text": [
      "T: no, put red blocks on blue blocks\n"
     ]
    },
    {
     "name": "stdout",
     "output_type": "stream",
     "text": [
      "(forall (?x) (or (not (red ?x)) (exists (?y) (and (blue ?y) (on ?x ?y)))))\n",
      "bw 0.15\n"
     ]
    },
    {
     "name": "stderr",
     "output_type": "stream",
     "text": [
      "T: no, put red blocks on blue blocks\n"
     ]
    },
    {
     "name": "stdout",
     "output_type": "stream",
     "text": [
      "(forall (?x) (or (not (red ?x)) (exists (?y) (and (blue ?y) (on ?x ?y)))))\n",
      "bw 0.15\n"
     ]
    },
    {
     "name": "stderr",
     "output_type": "stream",
     "text": [
      "T: no, put red blocks on blue blocks\n"
     ]
    },
    {
     "name": "stdout",
     "output_type": "stream",
     "text": [
      "(forall (?x) (or (not (red ?x)) (exists (?y) (and (blue ?y) (on ?x ?y)))))\n",
      "bw 0.15\n"
     ]
    },
    {
     "name": "stderr",
     "output_type": "stream",
     "text": [
      "T: no, put red blocks on blue blocks\n"
     ]
    },
    {
     "name": "stdout",
     "output_type": "stream",
     "text": [
      "(forall (?x) (or (not (red ?x)) (exists (?y) (and (blue ?y) (on ?x ?y)))))\n",
      "bw 0.15\n"
     ]
    },
    {
     "name": "stderr",
     "output_type": "stream",
     "text": [
      "T: no, put red blocks on blue blocks\n"
     ]
    },
    {
     "name": "stdout",
     "output_type": "stream",
     "text": [
      "(forall (?x) (or (not (red ?x)) (exists (?y) (and (blue ?y) (on ?x ?y)))))\n",
      "bw 0.15\n",
      "problem38.pddl reward: -22\n",
      "Parsing domain blocks-domain.pddl\n",
      "Parsing problem maroon/problem39.pddl\n",
      "problem39.pddl reward: -10\n",
      "Parsing domain blocks-domain.pddl\n",
      "Parsing problem maroon/problem4.pddl\n",
      "problem4.pddl reward: -10\n",
      "Parsing domain blocks-domain.pddl\n",
      "Parsing problem maroon/problem40.pddl\n"
     ]
    },
    {
     "name": "stderr",
     "output_type": "stream",
     "text": [
      "T: no, put red blocks on blue blocks\n"
     ]
    },
    {
     "name": "stdout",
     "output_type": "stream",
     "text": [
      "(forall (?x) (or (not (red ?x)) (exists (?y) (and (blue ?y) (on ?x ?y)))))\n",
      "bw 0.15\n",
      "bw 0.15\n"
     ]
    },
    {
     "name": "stderr",
     "output_type": "stream",
     "text": [
      "T: no, put red blocks on blue blocks\n"
     ]
    },
    {
     "name": "stdout",
     "output_type": "stream",
     "text": [
      "(forall (?x) (or (not (red ?x)) (exists (?y) (and (blue ?y) (on ?x ?y)))))\n",
      "bw 0.15\n",
      "problem40.pddl reward: -14\n",
      "Parsing domain blocks-domain.pddl\n",
      "Parsing problem maroon/problem41.pddl\n"
     ]
    },
    {
     "name": "stderr",
     "output_type": "stream",
     "text": [
      "T: no, put red blocks on blue blocks\n"
     ]
    },
    {
     "name": "stdout",
     "output_type": "stream",
     "text": [
      "(forall (?x) (or (not (red ?x)) (exists (?y) (and (blue ?y) (on ?x ?y)))))\n",
      "bw 0.15\n",
      "bw 0.15\n",
      "problem41.pddl reward: -12\n",
      "Parsing domain blocks-domain.pddl\n",
      "Parsing problem maroon/problem42.pddl\n"
     ]
    },
    {
     "name": "stderr",
     "output_type": "stream",
     "text": [
      "T: no, put red blocks on blue blocks\n"
     ]
    },
    {
     "name": "stdout",
     "output_type": "stream",
     "text": [
      "(forall (?x) (or (not (red ?x)) (exists (?y) (and (blue ?y) (on ?x ?y)))))\n"
     ]
    },
    {
     "name": "stderr",
     "output_type": "stream",
     "text": [
      "R: Is the top object red?\n",
      "T: yes\n"
     ]
    },
    {
     "name": "stdout",
     "output_type": "stream",
     "text": [
      "bw 0.15\n",
      "problem42.pddl reward: -12\n",
      "Parsing domain blocks-domain.pddl\n",
      "Parsing problem maroon/problem43.pddl\n",
      "problem43.pddl reward: -10\n",
      "Parsing domain blocks-domain.pddl\n",
      "Parsing problem maroon/problem44.pddl\n"
     ]
    },
    {
     "name": "stderr",
     "output_type": "stream",
     "text": [
      "T: No, now you cannot put b5 in the tower because you must put red blocks on blue blocks\n"
     ]
    },
    {
     "name": "stdout",
     "output_type": "stream",
     "text": [
      "bw 0.15\n",
      "bw 0.15\n",
      "bw 0.15\n",
      "bw 0.15\n"
     ]
    },
    {
     "name": "stderr",
     "output_type": "stream",
     "text": [
      "T: No, now you cannot put b5 in the tower because you must put red blocks on blue blocks\n"
     ]
    },
    {
     "name": "stdout",
     "output_type": "stream",
     "text": [
      "bw 0.15\n"
     ]
    },
    {
     "name": "stderr",
     "output_type": "stream",
     "text": [
      "T: no, put red blocks on blue blocks\n"
     ]
    },
    {
     "name": "stdout",
     "output_type": "stream",
     "text": [
      "(forall (?x) (or (not (red ?x)) (exists (?y) (and (blue ?y) (on ?x ?y)))))\n",
      "problem44.pddl reward: -16\n",
      "Parsing domain blocks-domain.pddl\n",
      "Parsing problem maroon/problem45.pddl\n"
     ]
    },
    {
     "name": "stderr",
     "output_type": "stream",
     "text": [
      "T: no, put red blocks on blue blocks\n"
     ]
    },
    {
     "name": "stdout",
     "output_type": "stream",
     "text": [
      "(forall (?x) (or (not (red ?x)) (exists (?y) (and (blue ?y) (on ?x ?y)))))\n",
      "bw 0.15\n",
      "bw 0.15\n"
     ]
    },
    {
     "name": "stderr",
     "output_type": "stream",
     "text": [
      "T: no, put red blocks on blue blocks\n"
     ]
    },
    {
     "name": "stdout",
     "output_type": "stream",
     "text": [
      "(forall (?x) (or (not (red ?x)) (exists (?y) (and (blue ?y) (on ?x ?y)))))\n",
      "bw 0.15\n"
     ]
    },
    {
     "name": "stderr",
     "output_type": "stream",
     "text": [
      "T: no, put red blocks on blue blocks\n"
     ]
    },
    {
     "name": "stdout",
     "output_type": "stream",
     "text": [
      "(forall (?x) (or (not (red ?x)) (exists (?y) (and (blue ?y) (on ?x ?y)))))\n",
      "bw 0.15\n"
     ]
    },
    {
     "name": "stderr",
     "output_type": "stream",
     "text": [
      "T: no, put red blocks on blue blocks\n"
     ]
    },
    {
     "name": "stdout",
     "output_type": "stream",
     "text": [
      "(forall (?x) (or (not (red ?x)) (exists (?y) (and (blue ?y) (on ?x ?y)))))\n",
      "bw 0.15\n",
      "problem45.pddl reward: -18\n",
      "Parsing domain blocks-domain.pddl\n",
      "Parsing problem maroon/problem46.pddl\n"
     ]
    },
    {
     "name": "stderr",
     "output_type": "stream",
     "text": [
      "T: No, now you cannot put b2 in the tower because you must put red blocks on blue blocks\n"
     ]
    },
    {
     "name": "stdout",
     "output_type": "stream",
     "text": [
      "bw 0.15\n",
      "bw 0.15\n",
      "bw 0.15\n",
      "bw 0.15\n",
      "problem46.pddl reward: -12\n",
      "Parsing domain blocks-domain.pddl\n",
      "Parsing problem maroon/problem47.pddl\n",
      "problem47.pddl reward: -10\n",
      "Parsing domain blocks-domain.pddl\n",
      "Parsing problem maroon/problem48.pddl\n",
      "problem48.pddl reward: -10\n",
      "Parsing domain blocks-domain.pddl\n",
      "Parsing problem maroon/problem49.pddl\n",
      "problem49.pddl reward: -10\n",
      "Parsing domain blocks-domain.pddl\n",
      "Parsing problem maroon/problem5.pddl\n",
      "problem5.pddl reward: -10\n",
      "Parsing domain blocks-domain.pddl\n",
      "Parsing problem maroon/problem50.pddl\n",
      "problem50.pddl reward: -10\n",
      "Parsing domain blocks-domain.pddl\n",
      "Parsing problem maroon/problem6.pddl\n",
      "problem6.pddl reward: -10\n",
      "Parsing domain blocks-domain.pddl\n",
      "Parsing problem maroon/problem7.pddl\n"
     ]
    },
    {
     "name": "stderr",
     "output_type": "stream",
     "text": [
      "T: no, put red blocks on blue blocks\n"
     ]
    },
    {
     "name": "stdout",
     "output_type": "stream",
     "text": [
      "(forall (?x) (or (not (red ?x)) (exists (?y) (and (blue ?y) (on ?x ?y)))))\n",
      "bw 0.15\n",
      "problem7.pddl reward: -12\n",
      "Parsing domain blocks-domain.pddl\n",
      "Parsing problem maroon/problem8.pddl\n"
     ]
    },
    {
     "name": "stderr",
     "output_type": "stream",
     "text": [
      "T: No, now you cannot put b2 in the tower because you must put red blocks on blue blocks\n"
     ]
    },
    {
     "name": "stdout",
     "output_type": "stream",
     "text": [
      "bw 0.15\n",
      "bw 0.15\n",
      "bw 0.15\n",
      "bw 0.15\n"
     ]
    },
    {
     "name": "stderr",
     "output_type": "stream",
     "text": [
      "T: No, now you cannot put b2 in the tower because you must put red blocks on blue blocks\n"
     ]
    },
    {
     "name": "stdout",
     "output_type": "stream",
     "text": [
      "bw 0.15\n"
     ]
    },
    {
     "name": "stderr",
     "output_type": "stream",
     "text": [
      "T: No, now you cannot put b2 in the tower because you must put red blocks on blue blocks\n"
     ]
    },
    {
     "name": "stdout",
     "output_type": "stream",
     "text": [
      "problem8.pddl reward: -16\n",
      "Parsing domain blocks-domain.pddl\n",
      "Parsing problem maroon/problem9.pddl\n"
     ]
    },
    {
     "name": "stderr",
     "output_type": "stream",
     "text": [
      "T: no, put red blocks on blue blocks\n"
     ]
    },
    {
     "name": "stdout",
     "output_type": "stream",
     "text": [
      "(forall (?x) (or (not (red ?x)) (exists (?y) (and (blue ?y) (on ?x ?y)))))\n",
      "bw 0.15\n",
      "problem9.pddl reward: -12\n"
     ]
    }
   ],
   "source": [
    "add_experiment('maroon_kde', None)"
   ]
  },
  {
   "cell_type": "code",
   "execution_count": 17,
   "metadata": {},
   "outputs": [
    {
     "name": "stdout",
     "output_type": "stream",
     "text": [
      "Parsing domain blocks-domain.pddl\n",
      "Parsing problem maroon/problem1.pddl\n",
      "Parsing domain blocks-domain.pddl\n",
      "Parsing problem maroon/problem1.pddl\n"
     ]
    },
    {
     "name": "stderr",
     "output_type": "stream",
     "text": [
      "T: no, put red blocks on blue blocks\n",
      "R: Is the top object red?\n",
      "T: yes\n",
      "T: no, put red blocks on blue blocks\n"
     ]
    },
    {
     "name": "stdout",
     "output_type": "stream",
     "text": [
      "(forall (?x) (or (not (red ?x)) (exists (?y) (and (blue ?y) (on ?x ?y)))))\n",
      "bw 1.0\n",
      "bw 1.0\n",
      "(forall (?x) (or (not (red ?x)) (exists (?y) (and (blue ?y) (on ?x ?y)))))\n",
      "bw 0.5\n"
     ]
    },
    {
     "name": "stderr",
     "output_type": "stream",
     "text": [
      "T: no, put red blocks on blue blocks\n"
     ]
    },
    {
     "name": "stdout",
     "output_type": "stream",
     "text": [
      "(forall (?x) (or (not (red ?x)) (exists (?y) (and (blue ?y) (on ?x ?y)))))\n",
      "bw 0.3333333333333333\n"
     ]
    },
    {
     "name": "stderr",
     "output_type": "stream",
     "text": [
      "T: no, put red blocks on blue blocks\n"
     ]
    },
    {
     "name": "stdout",
     "output_type": "stream",
     "text": [
      "(forall (?x) (or (not (red ?x)) (exists (?y) (and (blue ?y) (on ?x ?y)))))\n"
     ]
    },
    {
     "name": "stderr",
     "output_type": "stream",
     "text": [
      "T: no, put red blocks on blue blocks\n"
     ]
    },
    {
     "name": "stdout",
     "output_type": "stream",
     "text": [
      "(forall (?x) (or (not (red ?x)) (exists (?y) (and (blue ?y) (on ?x ?y)))))\n"
     ]
    },
    {
     "name": "stderr",
     "output_type": "stream",
     "text": [
      "T: no, put red blocks on blue blocks\n"
     ]
    },
    {
     "name": "stdout",
     "output_type": "stream",
     "text": [
      "(forall (?x) (or (not (red ?x)) (exists (?y) (and (blue ?y) (on ?x ?y)))))\n",
      "problem1.pddl reward: -22\n",
      "Parsing domain blocks-domain.pddl\n",
      "Parsing problem maroon/problem10.pddl\n"
     ]
    },
    {
     "name": "stderr",
     "output_type": "stream",
     "text": [
      "T: no, put green blocks on maroon blocks\n",
      "R: Is the top object green?\n",
      "T: yes\n"
     ]
    },
    {
     "name": "stdout",
     "output_type": "stream",
     "text": [
      "(forall (?x) (or (not (green ?x)) (exists (?y) (and (maroon ?y) (on ?x ?y)))))\n",
      "bw 1.0\n",
      "bw 1.0\n"
     ]
    },
    {
     "name": "stderr",
     "output_type": "stream",
     "text": [
      "T: no, put red blocks on blue blocks\n"
     ]
    },
    {
     "name": "stdout",
     "output_type": "stream",
     "text": [
      "(forall (?x) (or (not (red ?x)) (exists (?y) (and (blue ?y) (on ?x ?y)))))\n",
      "bw 0.25\n",
      "bw 1.0\n"
     ]
    },
    {
     "name": "stderr",
     "output_type": "stream",
     "text": [
      "T: no, put green blocks on maroon blocks\n"
     ]
    },
    {
     "name": "stdout",
     "output_type": "stream",
     "text": [
      "(forall (?x) (or (not (green ?x)) (exists (?y) (and (maroon ?y) (on ?x ?y)))))\n",
      "bw 0.5\n"
     ]
    },
    {
     "name": "stderr",
     "output_type": "stream",
     "text": [
      "T: no, put red blocks on blue blocks\n"
     ]
    },
    {
     "name": "stdout",
     "output_type": "stream",
     "text": [
      "(forall (?x) (or (not (red ?x)) (exists (?y) (and (blue ?y) (on ?x ?y)))))\n"
     ]
    },
    {
     "name": "stderr",
     "output_type": "stream",
     "text": [
      "T: no, put green blocks on maroon blocks\n"
     ]
    },
    {
     "name": "stdout",
     "output_type": "stream",
     "text": [
      "(forall (?x) (or (not (green ?x)) (exists (?y) (and (maroon ?y) (on ?x ?y)))))\n",
      "bw 0.3333333333333333\n"
     ]
    },
    {
     "name": "stderr",
     "output_type": "stream",
     "text": [
      "T: no, put red blocks on blue blocks\n"
     ]
    },
    {
     "name": "stdout",
     "output_type": "stream",
     "text": [
      "(forall (?x) (or (not (red ?x)) (exists (?y) (and (blue ?y) (on ?x ?y)))))\n"
     ]
    },
    {
     "name": "stderr",
     "output_type": "stream",
     "text": [
      "T: no, put green blocks on maroon blocks\n"
     ]
    },
    {
     "name": "stdout",
     "output_type": "stream",
     "text": [
      "(forall (?x) (or (not (green ?x)) (exists (?y) (and (maroon ?y) (on ?x ?y)))))\n",
      "bw 0.25\n"
     ]
    },
    {
     "name": "stderr",
     "output_type": "stream",
     "text": [
      "T: no, put red blocks on blue blocks\n"
     ]
    },
    {
     "name": "stdout",
     "output_type": "stream",
     "text": [
      "(forall (?x) (or (not (red ?x)) (exists (?y) (and (blue ?y) (on ?x ?y)))))\n"
     ]
    },
    {
     "name": "stderr",
     "output_type": "stream",
     "text": [
      "T: no, put green blocks on maroon blocks\n"
     ]
    },
    {
     "name": "stdout",
     "output_type": "stream",
     "text": [
      "(forall (?x) (or (not (green ?x)) (exists (?y) (and (maroon ?y) (on ?x ?y)))))\n",
      "bw 0.2\n"
     ]
    },
    {
     "name": "stderr",
     "output_type": "stream",
     "text": [
      "T: no, put red blocks on blue blocks\n"
     ]
    },
    {
     "name": "stdout",
     "output_type": "stream",
     "text": [
      "(forall (?x) (or (not (red ?x)) (exists (?y) (and (blue ?y) (on ?x ?y)))))\n"
     ]
    },
    {
     "name": "stderr",
     "output_type": "stream",
     "text": [
      "T: no, put green blocks on maroon blocks\n"
     ]
    },
    {
     "name": "stdout",
     "output_type": "stream",
     "text": [
      "(forall (?x) (or (not (green ?x)) (exists (?y) (and (maroon ?y) (on ?x ?y)))))\n",
      "bw 0.16666666666666666\n",
      "problem10.pddl reward: -32\n",
      "Parsing domain blocks-domain.pddl\n",
      "Parsing problem maroon/problem11.pddl\n",
      "problem11.pddl reward: -10\n",
      "Parsing domain blocks-domain.pddl\n",
      "Parsing problem maroon/problem12.pddl\n"
     ]
    },
    {
     "name": "stderr",
     "output_type": "stream",
     "text": [
      "T: no, put red blocks on blue blocks\n"
     ]
    },
    {
     "name": "stdout",
     "output_type": "stream",
     "text": [
      "(forall (?x) (or (not (red ?x)) (exists (?y) (and (blue ?y) (on ?x ?y)))))\n",
      "bw 0.2\n",
      "bw 1.0\n",
      "bw 0.5\n",
      "bw 0.5\n"
     ]
    },
    {
     "name": "stderr",
     "output_type": "stream",
     "text": [
      "T: no, put green blocks on maroon blocks\n"
     ]
    },
    {
     "name": "stdout",
     "output_type": "stream",
     "text": [
      "(forall (?x) (or (not (green ?x)) (exists (?y) (and (maroon ?y) (on ?x ?y)))))\n",
      "bw 0.5\n",
      "bw 1.0\n",
      "bw 1.0\n",
      "bw 0.15\n"
     ]
    },
    {
     "name": "stderr",
     "output_type": "stream",
     "text": [
      "T: no, put green blocks on maroon blocks\n"
     ]
    },
    {
     "name": "stdout",
     "output_type": "stream",
     "text": [
      "(forall (?x) (or (not (green ?x)) (exists (?y) (and (maroon ?y) (on ?x ?y)))))\n",
      "bw 0.5\n",
      "bw 0.15\n"
     ]
    },
    {
     "name": "stderr",
     "output_type": "stream",
     "text": [
      "T: no, put green blocks on maroon blocks\n"
     ]
    },
    {
     "name": "stdout",
     "output_type": "stream",
     "text": [
      "(forall (?x) (or (not (green ?x)) (exists (?y) (and (maroon ?y) (on ?x ?y)))))\n",
      "bw 0.3333333333333333\n",
      "bw 0.15\n"
     ]
    },
    {
     "name": "stderr",
     "output_type": "stream",
     "text": [
      "T: No, now you cannot put b0 in the tower because you must put red blocks on blue blocks\n"
     ]
    },
    {
     "name": "stdout",
     "output_type": "stream",
     "text": [
      "bw 0.2\n",
      "bw 1.0\n",
      "bw 0.16666666666666666\n",
      "bw 0.15\n",
      "bw 0.5\n",
      "bw 0.3333333333333333\n",
      "problem12.pddl reward: -20\n",
      "Parsing domain blocks-domain.pddl\n",
      "Parsing problem maroon/problem13.pddl\n"
     ]
    },
    {
     "name": "stderr",
     "output_type": "stream",
     "text": [
      "T: no, put red blocks on blue blocks\n"
     ]
    },
    {
     "name": "stdout",
     "output_type": "stream",
     "text": [
      "(forall (?x) (or (not (red ?x)) (exists (?y) (and (blue ?y) (on ?x ?y)))))\n",
      "bw 0.15\n",
      "bw 0.3333333333333333\n",
      "bw 0.25\n",
      "bw 0.3333333333333333\n",
      "problem13.pddl reward: -12\n",
      "Parsing domain blocks-domain.pddl\n",
      "Parsing problem maroon/problem14.pddl\n"
     ]
    },
    {
     "name": "stderr",
     "output_type": "stream",
     "text": [
      "T: no, put red blocks on blue blocks\n"
     ]
    },
    {
     "name": "stdout",
     "output_type": "stream",
     "text": [
      "(forall (?x) (or (not (red ?x)) (exists (?y) (and (blue ?y) (on ?x ?y)))))\n",
      "bw 0.15\n"
     ]
    },
    {
     "name": "stderr",
     "output_type": "stream",
     "text": [
      "T: no, put red blocks on blue blocks\n"
     ]
    },
    {
     "name": "stdout",
     "output_type": "stream",
     "text": [
      "(forall (?x) (or (not (red ?x)) (exists (?y) (and (blue ?y) (on ?x ?y)))))\n",
      "bw 0.25\n"
     ]
    },
    {
     "name": "stderr",
     "output_type": "stream",
     "text": [
      "T: no, put red blocks on blue blocks\n"
     ]
    },
    {
     "name": "stdout",
     "output_type": "stream",
     "text": [
      "(forall (?x) (or (not (red ?x)) (exists (?y) (and (blue ?y) (on ?x ?y)))))\n",
      "bw 0.2\n"
     ]
    },
    {
     "name": "stderr",
     "output_type": "stream",
     "text": [
      "T: no, put red blocks on blue blocks\n"
     ]
    },
    {
     "name": "stdout",
     "output_type": "stream",
     "text": [
      "(forall (?x) (or (not (red ?x)) (exists (?y) (and (blue ?y) (on ?x ?y)))))\n",
      "bw 0.16666666666666666\n"
     ]
    },
    {
     "name": "stderr",
     "output_type": "stream",
     "text": [
      "T: no, put red blocks on blue blocks\n"
     ]
    },
    {
     "name": "stdout",
     "output_type": "stream",
     "text": [
      "(forall (?x) (or (not (red ?x)) (exists (?y) (and (blue ?y) (on ?x ?y)))))\n",
      "bw 0.15\n"
     ]
    },
    {
     "name": "stderr",
     "output_type": "stream",
     "text": [
      "T: no, put red blocks on blue blocks\n"
     ]
    },
    {
     "name": "stdout",
     "output_type": "stream",
     "text": [
      "(forall (?x) (or (not (red ?x)) (exists (?y) (and (blue ?y) (on ?x ?y)))))\n",
      "bw 0.15\n",
      "problem14.pddl reward: -22\n",
      "Parsing domain blocks-domain.pddl\n",
      "Parsing problem maroon/problem15.pddl\n",
      "problem15.pddl reward: -10\n",
      "Parsing domain blocks-domain.pddl\n",
      "Parsing problem maroon/problem16.pddl\n",
      "problem16.pddl reward: -10\n",
      "Parsing domain blocks-domain.pddl\n",
      "Parsing problem maroon/problem17.pddl\n"
     ]
    },
    {
     "name": "stderr",
     "output_type": "stream",
     "text": [
      "T: No, now you cannot put b5 in the tower because you must put red blocks on blue blocks\n"
     ]
    },
    {
     "name": "stdout",
     "output_type": "stream",
     "text": [
      "bw 0.15\n",
      "bw 0.25\n",
      "bw 0.15\n",
      "bw 0.2\n",
      "bw 0.2\n",
      "bw 0.15\n"
     ]
    },
    {
     "name": "stderr",
     "output_type": "stream",
     "text": [
      "T: No, now you cannot put b3 in the tower because you must put green blocks on maroon blocks\n"
     ]
    },
    {
     "name": "stdout",
     "output_type": "stream",
     "text": [
      "bw 0.5\n",
      "bw 0.3333333333333333\n",
      "bw 0.3333333333333333\n",
      "bw 0.25\n"
     ]
    },
    {
     "name": "stderr",
     "output_type": "stream",
     "text": [
      "T: No, now you cannot put b3 in the tower because you must put green blocks on maroon blocks\n"
     ]
    },
    {
     "name": "stdout",
     "output_type": "stream",
     "text": [
      "bw 0.25\n",
      "bw 0.5\n",
      "problem17.pddl reward: -16\n",
      "Parsing domain blocks-domain.pddl\n",
      "Parsing problem maroon/problem18.pddl\n",
      "problem18.pddl reward: -10\n",
      "Parsing domain blocks-domain.pddl\n",
      "Parsing problem maroon/problem19.pddl\n",
      "problem19.pddl reward: -10\n",
      "Parsing domain blocks-domain.pddl\n",
      "Parsing problem maroon/problem2.pddl\n"
     ]
    },
    {
     "name": "stderr",
     "output_type": "stream",
     "text": [
      "T: No, now you cannot put b9 in the tower because you must put red blocks on blue blocks\n"
     ]
    },
    {
     "name": "stdout",
     "output_type": "stream",
     "text": [
      "bw 0.15\n",
      "bw 0.16666666666666666\n",
      "bw 0.15\n",
      "bw 0.15\n",
      "bw 0.16666666666666666\n",
      "bw 0.15\n"
     ]
    },
    {
     "name": "stderr",
     "output_type": "stream",
     "text": [
      "T: No, now you cannot put b9 in the tower because you must put red blocks on blue blocks\n"
     ]
    },
    {
     "name": "stdout",
     "output_type": "stream",
     "text": [
      "bw 0.15\n",
      "bw 0.15\n",
      "problem2.pddl reward: -14\n",
      "Parsing domain blocks-domain.pddl\n",
      "Parsing problem maroon/problem20.pddl\n"
     ]
    },
    {
     "name": "stderr",
     "output_type": "stream",
     "text": [
      "T: no, put red blocks on blue blocks\n"
     ]
    },
    {
     "name": "stdout",
     "output_type": "stream",
     "text": [
      "(forall (?x) (or (not (red ?x)) (exists (?y) (and (blue ?y) (on ?x ?y)))))\n",
      "bw 0.15\n",
      "bw 0.15\n",
      "bw 0.15\n",
      "bw 0.15\n",
      "problem20.pddl reward: -12\n",
      "Parsing domain blocks-domain.pddl\n",
      "Parsing problem maroon/problem21.pddl\n",
      "problem21.pddl reward: -10\n",
      "Parsing domain blocks-domain.pddl\n",
      "Parsing problem maroon/problem22.pddl\n",
      "problem22.pddl reward: -10\n",
      "Parsing domain blocks-domain.pddl\n",
      "Parsing problem maroon/problem23.pddl\n",
      "problem23.pddl reward: -10\n",
      "Parsing domain blocks-domain.pddl\n",
      "Parsing problem maroon/problem24.pddl\n"
     ]
    },
    {
     "name": "stderr",
     "output_type": "stream",
     "text": [
      "T: no, put red blocks on blue blocks\n"
     ]
    },
    {
     "name": "stdout",
     "output_type": "stream",
     "text": [
      "(forall (?x) (or (not (red ?x)) (exists (?y) (and (blue ?y) (on ?x ?y)))))\n",
      "bw 0.15\n"
     ]
    },
    {
     "name": "stderr",
     "output_type": "stream",
     "text": [
      "T: no, put red blocks on blue blocks\n"
     ]
    },
    {
     "name": "stdout",
     "output_type": "stream",
     "text": [
      "(forall (?x) (or (not (red ?x)) (exists (?y) (and (blue ?y) (on ?x ?y)))))\n",
      "bw 0.15\n"
     ]
    },
    {
     "name": "stderr",
     "output_type": "stream",
     "text": [
      "T: no, put red blocks on blue blocks\n"
     ]
    },
    {
     "name": "stdout",
     "output_type": "stream",
     "text": [
      "(forall (?x) (or (not (red ?x)) (exists (?y) (and (blue ?y) (on ?x ?y)))))\n",
      "bw 0.15\n"
     ]
    },
    {
     "name": "stderr",
     "output_type": "stream",
     "text": [
      "T: no, put red blocks on blue blocks\n"
     ]
    },
    {
     "name": "stdout",
     "output_type": "stream",
     "text": [
      "(forall (?x) (or (not (red ?x)) (exists (?y) (and (blue ?y) (on ?x ?y)))))\n",
      "bw 0.15\n"
     ]
    },
    {
     "name": "stderr",
     "output_type": "stream",
     "text": [
      "T: no, put red blocks on blue blocks\n"
     ]
    },
    {
     "name": "stdout",
     "output_type": "stream",
     "text": [
      "(forall (?x) (or (not (red ?x)) (exists (?y) (and (blue ?y) (on ?x ?y)))))\n"
     ]
    },
    {
     "name": "stderr",
     "output_type": "stream",
     "text": [
      "T: no, put red blocks on blue blocks\n"
     ]
    },
    {
     "name": "stdout",
     "output_type": "stream",
     "text": [
      "(forall (?x) (or (not (red ?x)) (exists (?y) (and (blue ?y) (on ?x ?y)))))\n",
      "bw 0.15\n"
     ]
    },
    {
     "name": "stderr",
     "output_type": "stream",
     "text": [
      "T: no, put red blocks on blue blocks\n"
     ]
    },
    {
     "name": "stdout",
     "output_type": "stream",
     "text": [
      "(forall (?x) (or (not (red ?x)) (exists (?y) (and (blue ?y) (on ?x ?y)))))\n"
     ]
    },
    {
     "name": "stderr",
     "output_type": "stream",
     "text": [
      "T: no, put green blocks on maroon blocks\n"
     ]
    },
    {
     "name": "stdout",
     "output_type": "stream",
     "text": [
      "(forall (?x) (or (not (green ?x)) (exists (?y) (and (maroon ?y) (on ?x ?y)))))\n",
      "bw 0.2\n",
      "bw 0.3333333333333333\n"
     ]
    },
    {
     "name": "stderr",
     "output_type": "stream",
     "text": [
      "T: no, put red blocks on blue blocks\n"
     ]
    },
    {
     "name": "stdout",
     "output_type": "stream",
     "text": [
      "(forall (?x) (or (not (red ?x)) (exists (?y) (and (blue ?y) (on ?x ?y)))))\n"
     ]
    },
    {
     "name": "stderr",
     "output_type": "stream",
     "text": [
      "T: no, put red blocks on blue blocks\n"
     ]
    },
    {
     "name": "stdout",
     "output_type": "stream",
     "text": [
      "(forall (?x) (or (not (red ?x)) (exists (?y) (and (blue ?y) (on ?x ?y)))))\n",
      "problem24.pddl reward: -30\n",
      "Parsing domain blocks-domain.pddl\n",
      "Parsing problem maroon/problem25.pddl\n"
     ]
    },
    {
     "name": "stderr",
     "output_type": "stream",
     "text": [
      "T: No, now you cannot put b0 in the tower because you must put red blocks on blue blocks\n"
     ]
    },
    {
     "name": "stdout",
     "output_type": "stream",
     "text": [
      "bw 0.15\n",
      "bw 0.15\n",
      "bw 0.15\n",
      "bw 0.15\n",
      "bw 0.15\n",
      "bw 0.15\n"
     ]
    },
    {
     "name": "stderr",
     "output_type": "stream",
     "text": [
      "T: No, now you cannot put b0 in the tower because you must put red blocks on blue blocks\n"
     ]
    },
    {
     "name": "stdout",
     "output_type": "stream",
     "text": [
      "bw 0.15\n",
      "bw 0.15\n"
     ]
    },
    {
     "name": "stderr",
     "output_type": "stream",
     "text": [
      "T: No, now you cannot put b0 in the tower because you must put red blocks on blue blocks\n"
     ]
    },
    {
     "name": "stdout",
     "output_type": "stream",
     "text": [
      "bw 0.15\n"
     ]
    },
    {
     "name": "stderr",
     "output_type": "stream",
     "text": [
      "T: No, now you cannot put b0 in the tower because you must put red blocks on blue blocks\n"
     ]
    },
    {
     "name": "stdout",
     "output_type": "stream",
     "text": [
      "bw 0.15\n"
     ]
    },
    {
     "name": "stderr",
     "output_type": "stream",
     "text": [
      "T: No, now you cannot put b0 in the tower because you must put red blocks on blue blocks\n"
     ]
    },
    {
     "name": "stdout",
     "output_type": "stream",
     "text": [
      "bw 0.15\n",
      "problem25.pddl reward: -20\n",
      "Parsing domain blocks-domain.pddl\n",
      "Parsing problem maroon/problem26.pddl\n",
      "problem26.pddl reward: -10\n",
      "Parsing domain blocks-domain.pddl\n",
      "Parsing problem maroon/problem27.pddl\n"
     ]
    },
    {
     "name": "stderr",
     "output_type": "stream",
     "text": [
      "T: no, put red blocks on blue blocks\n"
     ]
    },
    {
     "name": "stdout",
     "output_type": "stream",
     "text": [
      "(forall (?x) (or (not (red ?x)) (exists (?y) (and (blue ?y) (on ?x ?y)))))\n",
      "bw 0.15\n",
      "bw 0.15\n",
      "bw 0.15\n",
      "bw 0.15\n",
      "problem27.pddl reward: -12\n",
      "Parsing domain blocks-domain.pddl\n",
      "Parsing problem maroon/problem28.pddl\n"
     ]
    },
    {
     "name": "stderr",
     "output_type": "stream",
     "text": [
      "T: no, put red blocks on blue blocks\n"
     ]
    },
    {
     "name": "stdout",
     "output_type": "stream",
     "text": [
      "(forall (?x) (or (not (red ?x)) (exists (?y) (and (blue ?y) (on ?x ?y)))))\n",
      "bw 0.15\n",
      "bw 0.15\n",
      "bw 0.15\n",
      "bw 0.15\n"
     ]
    },
    {
     "name": "stderr",
     "output_type": "stream",
     "text": [
      "T: no, put red blocks on blue blocks\n"
     ]
    },
    {
     "name": "stdout",
     "output_type": "stream",
     "text": [
      "(forall (?x) (or (not (red ?x)) (exists (?y) (and (blue ?y) (on ?x ?y)))))\n",
      "bw 0.15\n",
      "bw 0.15\n"
     ]
    },
    {
     "name": "stderr",
     "output_type": "stream",
     "text": [
      "T: no, put red blocks on blue blocks\n"
     ]
    },
    {
     "name": "stdout",
     "output_type": "stream",
     "text": [
      "(forall (?x) (or (not (red ?x)) (exists (?y) (and (blue ?y) (on ?x ?y)))))\n",
      "bw 0.15\n",
      "bw 0.15\n"
     ]
    },
    {
     "name": "stderr",
     "output_type": "stream",
     "text": [
      "T: no, put red blocks on blue blocks\n"
     ]
    },
    {
     "name": "stdout",
     "output_type": "stream",
     "text": [
      "(forall (?x) (or (not (red ?x)) (exists (?y) (and (blue ?y) (on ?x ?y)))))\n",
      "bw 0.15\n",
      "bw 0.15\n"
     ]
    },
    {
     "name": "stderr",
     "output_type": "stream",
     "text": [
      "T: no, put red blocks on blue blocks\n"
     ]
    },
    {
     "name": "stdout",
     "output_type": "stream",
     "text": [
      "(forall (?x) (or (not (red ?x)) (exists (?y) (and (blue ?y) (on ?x ?y)))))\n",
      "bw 0.15\n",
      "bw 0.15\n"
     ]
    },
    {
     "name": "stderr",
     "output_type": "stream",
     "text": [
      "T: no, put red blocks on blue blocks\n"
     ]
    },
    {
     "name": "stdout",
     "output_type": "stream",
     "text": [
      "(forall (?x) (or (not (red ?x)) (exists (?y) (and (blue ?y) (on ?x ?y)))))\n",
      "bw 0.15\n",
      "bw 0.15\n",
      "problem28.pddl reward: -22\n",
      "Parsing domain blocks-domain.pddl\n",
      "Parsing problem maroon/problem29.pddl\n",
      "problem29.pddl reward: -10\n",
      "Parsing domain blocks-domain.pddl\n",
      "Parsing problem maroon/problem3.pddl\n"
     ]
    },
    {
     "name": "stderr",
     "output_type": "stream",
     "text": [
      "T: No, now you cannot put b1 in the tower because you must put red blocks on blue blocks\n"
     ]
    },
    {
     "name": "stdout",
     "output_type": "stream",
     "text": [
      "bw 0.15\n",
      "bw 0.15\n",
      "bw 0.15\n",
      "bw 0.15\n",
      "bw 0.15\n",
      "bw 0.15\n"
     ]
    },
    {
     "name": "stderr",
     "output_type": "stream",
     "text": [
      "T: No, now you cannot put b1 in the tower because you must put red blocks on blue blocks\n"
     ]
    },
    {
     "name": "stdout",
     "output_type": "stream",
     "text": [
      "bw 0.15\n",
      "bw 0.15\n"
     ]
    },
    {
     "name": "stderr",
     "output_type": "stream",
     "text": [
      "T: No, now you cannot put b1 in the tower because you must put red blocks on blue blocks\n"
     ]
    },
    {
     "name": "stdout",
     "output_type": "stream",
     "text": [
      "bw 0.15\n"
     ]
    },
    {
     "name": "stderr",
     "output_type": "stream",
     "text": [
      "T: No, now you cannot put b1 in the tower because you must put red blocks on blue blocks\n"
     ]
    },
    {
     "name": "stdout",
     "output_type": "stream",
     "text": [
      "bw 0.15\n"
     ]
    },
    {
     "name": "stderr",
     "output_type": "stream",
     "text": [
      "T: No, now you cannot put b1 in the tower because you must put red blocks on blue blocks\n"
     ]
    },
    {
     "name": "stdout",
     "output_type": "stream",
     "text": [
      "bw 0.15\n"
     ]
    },
    {
     "name": "stderr",
     "output_type": "stream",
     "text": [
      "T: No, now you cannot put b1 in the tower because you must put red blocks on blue blocks\n"
     ]
    },
    {
     "name": "stdout",
     "output_type": "stream",
     "text": [
      "bw 0.15\n",
      "problem3.pddl reward: -22\n",
      "Parsing domain blocks-domain.pddl\n",
      "Parsing problem maroon/problem30.pddl\n"
     ]
    },
    {
     "name": "stderr",
     "output_type": "stream",
     "text": [
      "T: no, put green blocks on maroon blocks\n"
     ]
    },
    {
     "name": "stdout",
     "output_type": "stream",
     "text": [
      "(forall (?x) (or (not (green ?x)) (exists (?y) (and (maroon ?y) (on ?x ?y)))))\n",
      "bw 0.16666666666666666\n",
      "bw 0.2\n",
      "bw 0.25\n",
      "bw 0.15\n"
     ]
    },
    {
     "name": "stderr",
     "output_type": "stream",
     "text": [
      "T: no, put green blocks on maroon blocks\n"
     ]
    },
    {
     "name": "stdout",
     "output_type": "stream",
     "text": [
      "(forall (?x) (or (not (green ?x)) (exists (?y) (and (maroon ?y) (on ?x ?y)))))\n",
      "bw 0.16666666666666666\n",
      "bw 0.15\n"
     ]
    },
    {
     "name": "stderr",
     "output_type": "stream",
     "text": [
      "T: no, put green blocks on maroon blocks\n"
     ]
    },
    {
     "name": "stdout",
     "output_type": "stream",
     "text": [
      "(forall (?x) (or (not (green ?x)) (exists (?y) (and (maroon ?y) (on ?x ?y)))))\n",
      "bw 0.15\n",
      "bw 0.15\n"
     ]
    },
    {
     "name": "stderr",
     "output_type": "stream",
     "text": [
      "T: No, now you cannot put b2 in the tower because you must put red blocks on blue blocks\n"
     ]
    },
    {
     "name": "stdout",
     "output_type": "stream",
     "text": [
      "bw 0.15\n",
      "bw 0.15\n",
      "bw 0.15\n",
      "bw 0.15\n",
      "problem30.pddl reward: -18\n",
      "Parsing domain blocks-domain.pddl\n",
      "Parsing problem maroon/problem31.pddl\n"
     ]
    },
    {
     "name": "stderr",
     "output_type": "stream",
     "text": [
      "T: no, put red blocks on blue blocks\n"
     ]
    },
    {
     "name": "stdout",
     "output_type": "stream",
     "text": [
      "(forall (?x) (or (not (red ?x)) (exists (?y) (and (blue ?y) (on ?x ?y)))))\n",
      "bw 0.15\n"
     ]
    },
    {
     "name": "stderr",
     "output_type": "stream",
     "text": [
      "T: no, put green blocks on maroon blocks\n"
     ]
    },
    {
     "name": "stdout",
     "output_type": "stream",
     "text": [
      "(forall (?x) (or (not (green ?x)) (exists (?y) (and (maroon ?y) (on ?x ?y)))))\n",
      "bw 0.15\n",
      "bw 0.15\n",
      "bw 0.2\n",
      "bw 0.15\n",
      "problem31.pddl reward: -14\n",
      "Parsing domain blocks-domain.pddl\n",
      "Parsing problem maroon/problem32.pddl\n"
     ]
    },
    {
     "name": "stderr",
     "output_type": "stream",
     "text": [
      "T: no, put red blocks on blue blocks\n"
     ]
    },
    {
     "name": "stdout",
     "output_type": "stream",
     "text": [
      "(forall (?x) (or (not (red ?x)) (exists (?y) (and (blue ?y) (on ?x ?y)))))\n",
      "bw 0.15\n",
      "problem32.pddl reward: -12\n",
      "Parsing domain blocks-domain.pddl\n",
      "Parsing problem maroon/problem33.pddl\n"
     ]
    },
    {
     "name": "stderr",
     "output_type": "stream",
     "text": [
      "T: no, put red blocks on blue blocks\n"
     ]
    },
    {
     "name": "stdout",
     "output_type": "stream",
     "text": [
      "(forall (?x) (or (not (red ?x)) (exists (?y) (and (blue ?y) (on ?x ?y)))))\n",
      "bw 0.15\n",
      "bw 0.15\n",
      "bw 0.15\n",
      "bw 0.15\n",
      "problem33.pddl reward: -12\n",
      "Parsing domain blocks-domain.pddl\n",
      "Parsing problem maroon/problem34.pddl\n"
     ]
    },
    {
     "name": "stderr",
     "output_type": "stream",
     "text": [
      "T: no, put red blocks on blue blocks\n"
     ]
    },
    {
     "name": "stdout",
     "output_type": "stream",
     "text": [
      "(forall (?x) (or (not (red ?x)) (exists (?y) (and (blue ?y) (on ?x ?y)))))\n",
      "bw 0.15\n",
      "bw 0.15\n",
      "bw 0.15\n",
      "bw 0.15\n"
     ]
    },
    {
     "name": "stderr",
     "output_type": "stream",
     "text": [
      "T: no, put red blocks on blue blocks\n"
     ]
    },
    {
     "name": "stdout",
     "output_type": "stream",
     "text": [
      "(forall (?x) (or (not (red ?x)) (exists (?y) (and (blue ?y) (on ?x ?y)))))\n",
      "bw 0.15\n",
      "bw 0.15\n"
     ]
    },
    {
     "name": "stderr",
     "output_type": "stream",
     "text": [
      "T: no, put red blocks on blue blocks\n"
     ]
    },
    {
     "name": "stdout",
     "output_type": "stream",
     "text": [
      "(forall (?x) (or (not (red ?x)) (exists (?y) (and (blue ?y) (on ?x ?y)))))\n",
      "bw 0.15\n",
      "bw 0.15\n"
     ]
    },
    {
     "name": "stderr",
     "output_type": "stream",
     "text": [
      "T: no, put red blocks on blue blocks\n"
     ]
    },
    {
     "name": "stdout",
     "output_type": "stream",
     "text": [
      "(forall (?x) (or (not (red ?x)) (exists (?y) (and (blue ?y) (on ?x ?y)))))\n",
      "bw 0.15\n",
      "bw 0.15\n"
     ]
    },
    {
     "name": "stderr",
     "output_type": "stream",
     "text": [
      "T: no, put red blocks on blue blocks\n"
     ]
    },
    {
     "name": "stdout",
     "output_type": "stream",
     "text": [
      "(forall (?x) (or (not (red ?x)) (exists (?y) (and (blue ?y) (on ?x ?y)))))\n",
      "bw 0.15\n",
      "bw 0.15\n"
     ]
    },
    {
     "name": "stderr",
     "output_type": "stream",
     "text": [
      "T: no, put red blocks on blue blocks\n"
     ]
    },
    {
     "name": "stdout",
     "output_type": "stream",
     "text": [
      "(forall (?x) (or (not (red ?x)) (exists (?y) (and (blue ?y) (on ?x ?y)))))\n",
      "bw 0.15\n",
      "bw 0.15\n",
      "problem34.pddl reward: -22\n",
      "Parsing domain blocks-domain.pddl\n",
      "Parsing problem maroon/problem35.pddl\n"
     ]
    },
    {
     "name": "stderr",
     "output_type": "stream",
     "text": [
      "T: no, put red blocks on blue blocks\n"
     ]
    },
    {
     "name": "stdout",
     "output_type": "stream",
     "text": [
      "(forall (?x) (or (not (red ?x)) (exists (?y) (and (blue ?y) (on ?x ?y)))))\n",
      "bw 0.15\n"
     ]
    },
    {
     "name": "stderr",
     "output_type": "stream",
     "text": [
      "T: no, put red blocks on blue blocks\n"
     ]
    },
    {
     "name": "stdout",
     "output_type": "stream",
     "text": [
      "(forall (?x) (or (not (red ?x)) (exists (?y) (and (blue ?y) (on ?x ?y)))))\n",
      "bw 0.15\n"
     ]
    },
    {
     "name": "stderr",
     "output_type": "stream",
     "text": [
      "T: no, put red blocks on blue blocks\n"
     ]
    },
    {
     "name": "stdout",
     "output_type": "stream",
     "text": [
      "(forall (?x) (or (not (red ?x)) (exists (?y) (and (blue ?y) (on ?x ?y)))))\n",
      "bw 0.15\n",
      "bw 0.15\n",
      "bw 0.15\n",
      "bw 0.15\n"
     ]
    },
    {
     "name": "stderr",
     "output_type": "stream",
     "text": [
      "T: no, put red blocks on blue blocks\n"
     ]
    },
    {
     "name": "stdout",
     "output_type": "stream",
     "text": [
      "(forall (?x) (or (not (red ?x)) (exists (?y) (and (blue ?y) (on ?x ?y)))))\n",
      "bw 0.15\n",
      "bw 0.15\n"
     ]
    },
    {
     "name": "stderr",
     "output_type": "stream",
     "text": [
      "T: no, put red blocks on blue blocks\n"
     ]
    },
    {
     "name": "stdout",
     "output_type": "stream",
     "text": [
      "(forall (?x) (or (not (red ?x)) (exists (?y) (and (blue ?y) (on ?x ?y)))))\n",
      "bw 0.15\n",
      "bw 0.15\n"
     ]
    },
    {
     "name": "stderr",
     "output_type": "stream",
     "text": [
      "T: no, put red blocks on blue blocks\n"
     ]
    },
    {
     "name": "stdout",
     "output_type": "stream",
     "text": [
      "(forall (?x) (or (not (red ?x)) (exists (?y) (and (blue ?y) (on ?x ?y)))))\n",
      "bw 0.15\n",
      "bw 0.15\n",
      "problem35.pddl reward: -22\n",
      "Parsing domain blocks-domain.pddl\n",
      "Parsing problem maroon/problem36.pddl\n"
     ]
    },
    {
     "name": "stderr",
     "output_type": "stream",
     "text": [
      "T: No, now you cannot put b5 in the tower because you must put green blocks on maroon blocks\n"
     ]
    },
    {
     "name": "stdout",
     "output_type": "stream",
     "text": [
      "bw 0.15\n",
      "bw 0.15\n",
      "bw 0.15\n",
      "bw 0.15\n",
      "bw 0.16666666666666666\n",
      "bw 0.15\n"
     ]
    },
    {
     "name": "stderr",
     "output_type": "stream",
     "text": [
      "T: No, now you cannot put b5 in the tower because you must put green blocks on maroon blocks\n"
     ]
    },
    {
     "name": "stdout",
     "output_type": "stream",
     "text": [
      "bw 0.15\n",
      "bw 0.15\n"
     ]
    },
    {
     "name": "stderr",
     "output_type": "stream",
     "text": [
      "T: no, put red blocks on blue blocks\n"
     ]
    },
    {
     "name": "stdout",
     "output_type": "stream",
     "text": [
      "(forall (?x) (or (not (red ?x)) (exists (?y) (and (blue ?y) (on ?x ?y)))))\n",
      "bw 0.15\n",
      "bw 0.15\n"
     ]
    },
    {
     "name": "stderr",
     "output_type": "stream",
     "text": [
      "T: No, now you cannot put b5 in the tower because you must put green blocks on maroon blocks\n"
     ]
    },
    {
     "name": "stdout",
     "output_type": "stream",
     "text": [
      "bw 0.15\n",
      "bw 0.15\n"
     ]
    },
    {
     "name": "stderr",
     "output_type": "stream",
     "text": [
      "T: no, put red blocks on blue blocks\n"
     ]
    },
    {
     "name": "stdout",
     "output_type": "stream",
     "text": [
      "(forall (?x) (or (not (red ?x)) (exists (?y) (and (blue ?y) (on ?x ?y)))))\n"
     ]
    },
    {
     "name": "stderr",
     "output_type": "stream",
     "text": [
      "T: no, put red blocks on blue blocks\n"
     ]
    },
    {
     "name": "stdout",
     "output_type": "stream",
     "text": [
      "(forall (?x) (or (not (red ?x)) (exists (?y) (and (blue ?y) (on ?x ?y)))))\n"
     ]
    },
    {
     "name": "stderr",
     "output_type": "stream",
     "text": [
      "T: no, put red blocks on blue blocks\n"
     ]
    },
    {
     "name": "stdout",
     "output_type": "stream",
     "text": [
      "(forall (?x) (or (not (red ?x)) (exists (?y) (and (blue ?y) (on ?x ?y)))))\n",
      "bw 0.15\n",
      "bw 0.15\n",
      "problem36.pddl reward: -24\n",
      "Parsing domain blocks-domain.pddl\n",
      "Parsing problem maroon/problem37.pddl\n"
     ]
    },
    {
     "name": "stderr",
     "output_type": "stream",
     "text": [
      "T: no, put red blocks on blue blocks\n"
     ]
    },
    {
     "name": "stdout",
     "output_type": "stream",
     "text": [
      "(forall (?x) (or (not (red ?x)) (exists (?y) (and (blue ?y) (on ?x ?y)))))\n",
      "bw 0.15\n",
      "bw 0.15\n",
      "bw 0.15\n",
      "bw 0.15\n"
     ]
    },
    {
     "name": "stderr",
     "output_type": "stream",
     "text": [
      "T: no, put red blocks on blue blocks\n"
     ]
    },
    {
     "name": "stdout",
     "output_type": "stream",
     "text": [
      "(forall (?x) (or (not (red ?x)) (exists (?y) (and (blue ?y) (on ?x ?y)))))\n",
      "bw 0.15\n",
      "bw 0.15\n"
     ]
    },
    {
     "name": "stderr",
     "output_type": "stream",
     "text": [
      "T: no, put red blocks on blue blocks\n"
     ]
    },
    {
     "name": "stdout",
     "output_type": "stream",
     "text": [
      "(forall (?x) (or (not (red ?x)) (exists (?y) (and (blue ?y) (on ?x ?y)))))\n",
      "bw 0.15\n",
      "bw 0.15\n"
     ]
    },
    {
     "name": "stderr",
     "output_type": "stream",
     "text": [
      "T: No, now you cannot put b1 in the tower because you must put green blocks on maroon blocks\n"
     ]
    },
    {
     "name": "stdout",
     "output_type": "stream",
     "text": [
      "bw 0.15\n",
      "bw 0.15\n",
      "bw 0.15\n",
      "bw 0.15\n"
     ]
    },
    {
     "name": "stderr",
     "output_type": "stream",
     "text": [
      "T: no, put red blocks on blue blocks\n"
     ]
    },
    {
     "name": "stdout",
     "output_type": "stream",
     "text": [
      "(forall (?x) (or (not (red ?x)) (exists (?y) (and (blue ?y) (on ?x ?y)))))\n"
     ]
    },
    {
     "name": "stderr",
     "output_type": "stream",
     "text": [
      "T: no, put red blocks on blue blocks\n"
     ]
    },
    {
     "name": "stdout",
     "output_type": "stream",
     "text": [
      "(forall (?x) (or (not (red ?x)) (exists (?y) (and (blue ?y) (on ?x ?y)))))\n",
      "problem37.pddl reward: -22\n",
      "Parsing domain blocks-domain.pddl\n",
      "Parsing problem maroon/problem38.pddl\n"
     ]
    },
    {
     "name": "stderr",
     "output_type": "stream",
     "text": [
      "T: no, put red blocks on blue blocks\n"
     ]
    },
    {
     "name": "stdout",
     "output_type": "stream",
     "text": [
      "(forall (?x) (or (not (red ?x)) (exists (?y) (and (blue ?y) (on ?x ?y)))))\n",
      "bw 0.15\n",
      "bw 0.15\n",
      "bw 0.15\n",
      "bw 0.15\n"
     ]
    },
    {
     "name": "stderr",
     "output_type": "stream",
     "text": [
      "T: no, put red blocks on blue blocks\n"
     ]
    },
    {
     "name": "stdout",
     "output_type": "stream",
     "text": [
      "(forall (?x) (or (not (red ?x)) (exists (?y) (and (blue ?y) (on ?x ?y)))))\n",
      "bw 0.15\n",
      "bw 0.15\n"
     ]
    },
    {
     "name": "stderr",
     "output_type": "stream",
     "text": [
      "T: no, put red blocks on blue blocks\n"
     ]
    },
    {
     "name": "stdout",
     "output_type": "stream",
     "text": [
      "(forall (?x) (or (not (red ?x)) (exists (?y) (and (blue ?y) (on ?x ?y)))))\n",
      "bw 0.15\n",
      "bw 0.15\n"
     ]
    },
    {
     "name": "stderr",
     "output_type": "stream",
     "text": [
      "T: no, put red blocks on blue blocks\n"
     ]
    },
    {
     "name": "stdout",
     "output_type": "stream",
     "text": [
      "(forall (?x) (or (not (red ?x)) (exists (?y) (and (blue ?y) (on ?x ?y)))))\n",
      "bw 0.15\n",
      "bw 0.15\n"
     ]
    },
    {
     "name": "stderr",
     "output_type": "stream",
     "text": [
      "T: no, put red blocks on blue blocks\n"
     ]
    },
    {
     "name": "stdout",
     "output_type": "stream",
     "text": [
      "(forall (?x) (or (not (red ?x)) (exists (?y) (and (blue ?y) (on ?x ?y)))))\n",
      "bw 0.15\n",
      "bw 0.15\n"
     ]
    },
    {
     "name": "stderr",
     "output_type": "stream",
     "text": [
      "T: no, put red blocks on blue blocks\n"
     ]
    },
    {
     "name": "stdout",
     "output_type": "stream",
     "text": [
      "(forall (?x) (or (not (red ?x)) (exists (?y) (and (blue ?y) (on ?x ?y)))))\n",
      "bw 0.15\n",
      "bw 0.15\n",
      "problem38.pddl reward: -22\n",
      "Parsing domain blocks-domain.pddl\n",
      "Parsing problem maroon/problem39.pddl\n",
      "problem39.pddl reward: -10\n",
      "Parsing domain blocks-domain.pddl\n",
      "Parsing problem maroon/problem4.pddl\n",
      "problem4.pddl reward: -10\n",
      "Parsing domain blocks-domain.pddl\n",
      "Parsing problem maroon/problem40.pddl\n"
     ]
    },
    {
     "name": "stderr",
     "output_type": "stream",
     "text": [
      "T: no, put red blocks on blue blocks\n"
     ]
    },
    {
     "name": "stdout",
     "output_type": "stream",
     "text": [
      "(forall (?x) (or (not (red ?x)) (exists (?y) (and (blue ?y) (on ?x ?y)))))\n"
     ]
    },
    {
     "name": "stderr",
     "output_type": "stream",
     "text": [
      "R: Is the top object red?\n",
      "T: yes\n"
     ]
    },
    {
     "name": "stdout",
     "output_type": "stream",
     "text": [
      "bw 0.15\n",
      "bw 0.15\n"
     ]
    },
    {
     "name": "stderr",
     "output_type": "stream",
     "text": [
      "T: no, put red blocks on blue blocks\n"
     ]
    },
    {
     "name": "stdout",
     "output_type": "stream",
     "text": [
      "(forall (?x) (or (not (red ?x)) (exists (?y) (and (blue ?y) (on ?x ?y)))))\n",
      "bw 0.15\n",
      "problem40.pddl reward: -14\n",
      "Parsing domain blocks-domain.pddl\n",
      "Parsing problem maroon/problem41.pddl\n"
     ]
    },
    {
     "name": "stderr",
     "output_type": "stream",
     "text": [
      "T: no, put red blocks on blue blocks\n"
     ]
    },
    {
     "name": "stdout",
     "output_type": "stream",
     "text": [
      "(forall (?x) (or (not (red ?x)) (exists (?y) (and (blue ?y) (on ?x ?y)))))\n",
      "bw 0.15\n",
      "bw 0.15\n",
      "bw 0.15\n",
      "bw 0.15\n",
      "problem41.pddl reward: -12\n",
      "Parsing domain blocks-domain.pddl\n",
      "Parsing problem maroon/problem42.pddl\n"
     ]
    },
    {
     "name": "stderr",
     "output_type": "stream",
     "text": [
      "T: no, put red blocks on blue blocks\n"
     ]
    },
    {
     "name": "stdout",
     "output_type": "stream",
     "text": [
      "(forall (?x) (or (not (red ?x)) (exists (?y) (and (blue ?y) (on ?x ?y)))))\n",
      "bw 0.15\n",
      "bw 0.15\n",
      "bw 0.15\n",
      "bw 0.15\n",
      "problem42.pddl reward: -12\n",
      "Parsing domain blocks-domain.pddl\n",
      "Parsing problem maroon/problem43.pddl\n",
      "problem43.pddl reward: -10\n",
      "Parsing domain blocks-domain.pddl\n",
      "Parsing problem maroon/problem44.pddl\n"
     ]
    },
    {
     "name": "stderr",
     "output_type": "stream",
     "text": [
      "T: No, now you cannot put b5 in the tower because you must put red blocks on blue blocks\n"
     ]
    },
    {
     "name": "stdout",
     "output_type": "stream",
     "text": [
      "bw 0.15\n",
      "bw 0.15\n",
      "bw 0.15\n",
      "bw 0.15\n",
      "bw 0.15\n",
      "bw 0.15\n"
     ]
    },
    {
     "name": "stderr",
     "output_type": "stream",
     "text": [
      "T: No, now you cannot put b5 in the tower because you must put red blocks on blue blocks\n"
     ]
    },
    {
     "name": "stdout",
     "output_type": "stream",
     "text": [
      "bw 0.15\n",
      "bw 0.15\n"
     ]
    },
    {
     "name": "stderr",
     "output_type": "stream",
     "text": [
      "T: no, put red blocks on blue blocks\n"
     ]
    },
    {
     "name": "stdout",
     "output_type": "stream",
     "text": [
      "(forall (?x) (or (not (red ?x)) (exists (?y) (and (blue ?y) (on ?x ?y)))))\n",
      "problem44.pddl reward: -16\n",
      "Parsing domain blocks-domain.pddl\n",
      "Parsing problem maroon/problem45.pddl\n"
     ]
    },
    {
     "name": "stderr",
     "output_type": "stream",
     "text": [
      "T: no, put red blocks on blue blocks\n"
     ]
    },
    {
     "name": "stdout",
     "output_type": "stream",
     "text": [
      "(forall (?x) (or (not (red ?x)) (exists (?y) (and (blue ?y) (on ?x ?y)))))\n",
      "bw 0.15\n",
      "bw 0.15\n",
      "bw 0.15\n",
      "bw 0.15\n"
     ]
    },
    {
     "name": "stderr",
     "output_type": "stream",
     "text": [
      "T: no, put red blocks on blue blocks\n"
     ]
    },
    {
     "name": "stdout",
     "output_type": "stream",
     "text": [
      "(forall (?x) (or (not (red ?x)) (exists (?y) (and (blue ?y) (on ?x ?y)))))\n",
      "bw 0.15\n",
      "bw 0.15\n"
     ]
    },
    {
     "name": "stderr",
     "output_type": "stream",
     "text": [
      "T: no, put red blocks on blue blocks\n"
     ]
    },
    {
     "name": "stdout",
     "output_type": "stream",
     "text": [
      "(forall (?x) (or (not (red ?x)) (exists (?y) (and (blue ?y) (on ?x ?y)))))\n",
      "bw 0.15\n",
      "bw 0.15\n"
     ]
    },
    {
     "name": "stderr",
     "output_type": "stream",
     "text": [
      "T: no, put red blocks on blue blocks\n"
     ]
    },
    {
     "name": "stdout",
     "output_type": "stream",
     "text": [
      "(forall (?x) (or (not (red ?x)) (exists (?y) (and (blue ?y) (on ?x ?y)))))\n",
      "bw 0.15\n",
      "bw 0.15\n",
      "problem45.pddl reward: -18\n",
      "Parsing domain blocks-domain.pddl\n",
      "Parsing problem maroon/problem46.pddl\n",
      "problem46.pddl reward: -10\n",
      "Parsing domain blocks-domain.pddl\n",
      "Parsing problem maroon/problem47.pddl\n"
     ]
    },
    {
     "name": "stderr",
     "output_type": "stream",
     "text": [
      "T: no, put green blocks on maroon blocks\n"
     ]
    },
    {
     "name": "stdout",
     "output_type": "stream",
     "text": [
      "(forall (?x) (or (not (green ?x)) (exists (?y) (and (maroon ?y) (on ?x ?y)))))\n",
      "bw 0.15\n",
      "bw 0.15\n",
      "bw 0.15\n",
      "bw 0.15\n"
     ]
    },
    {
     "name": "stderr",
     "output_type": "stream",
     "text": [
      "T: No, now you cannot put b0 in the tower because you must put red blocks on blue blocks\n"
     ]
    },
    {
     "name": "stdout",
     "output_type": "stream",
     "text": [
      "bw 0.15\n",
      "bw 0.15\n",
      "bw 0.15\n",
      "bw 0.15\n",
      "problem47.pddl reward: -14\n",
      "Parsing domain blocks-domain.pddl\n",
      "Parsing problem maroon/problem48.pddl\n"
     ]
    },
    {
     "name": "stderr",
     "output_type": "stream",
     "text": [
      "T: No, now you cannot put b2 in the tower because you must put red blocks on blue blocks\n"
     ]
    },
    {
     "name": "stdout",
     "output_type": "stream",
     "text": [
      "bw 0.15\n",
      "bw 0.15\n",
      "bw 0.15\n",
      "bw 0.15\n",
      "bw 0.15\n",
      "bw 0.15\n"
     ]
    },
    {
     "name": "stderr",
     "output_type": "stream",
     "text": [
      "T: No, now you cannot put b2 in the tower because you must put red blocks on blue blocks\n"
     ]
    },
    {
     "name": "stdout",
     "output_type": "stream",
     "text": [
      "bw 0.15\n",
      "bw 0.15\n"
     ]
    },
    {
     "name": "stderr",
     "output_type": "stream",
     "text": [
      "T: No, now you cannot put b2 in the tower because you must put red blocks on blue blocks\n"
     ]
    },
    {
     "name": "stdout",
     "output_type": "stream",
     "text": [
      "bw 0.15\n"
     ]
    },
    {
     "name": "stderr",
     "output_type": "stream",
     "text": [
      "T: No, now you cannot put b2 in the tower because you must put red blocks on blue blocks\n"
     ]
    },
    {
     "name": "stdout",
     "output_type": "stream",
     "text": [
      "bw 0.15\n",
      "problem48.pddl reward: -18\n",
      "Parsing domain blocks-domain.pddl\n",
      "Parsing problem maroon/problem49.pddl\n",
      "problem49.pddl reward: -10\n",
      "Parsing domain blocks-domain.pddl\n",
      "Parsing problem maroon/problem5.pddl\n",
      "problem5.pddl reward: -10\n",
      "Parsing domain blocks-domain.pddl\n",
      "Parsing problem maroon/problem50.pddl\n",
      "problem50.pddl reward: -10\n",
      "Parsing domain blocks-domain.pddl\n",
      "Parsing problem maroon/problem6.pddl\n",
      "problem6.pddl reward: -10\n",
      "Parsing domain blocks-domain.pddl\n",
      "Parsing problem maroon/problem7.pddl\n"
     ]
    },
    {
     "name": "stderr",
     "output_type": "stream",
     "text": [
      "T: no, put red blocks on blue blocks\n"
     ]
    },
    {
     "name": "stdout",
     "output_type": "stream",
     "text": [
      "(forall (?x) (or (not (red ?x)) (exists (?y) (and (blue ?y) (on ?x ?y)))))\n",
      "bw 0.15\n",
      "problem7.pddl reward: -12\n",
      "Parsing domain blocks-domain.pddl\n",
      "Parsing problem maroon/problem8.pddl\n"
     ]
    },
    {
     "name": "stderr",
     "output_type": "stream",
     "text": [
      "T: No, now you cannot put b2 in the tower because you must put red blocks on blue blocks\n"
     ]
    },
    {
     "name": "stdout",
     "output_type": "stream",
     "text": [
      "bw 0.15\n",
      "bw 0.15\n",
      "bw 0.15\n",
      "bw 0.15\n",
      "bw 0.15\n",
      "bw 0.15\n"
     ]
    },
    {
     "name": "stderr",
     "output_type": "stream",
     "text": [
      "T: No, now you cannot put b2 in the tower because you must put red blocks on blue blocks\n"
     ]
    },
    {
     "name": "stdout",
     "output_type": "stream",
     "text": [
      "bw 0.15\n",
      "bw 0.15\n"
     ]
    },
    {
     "name": "stderr",
     "output_type": "stream",
     "text": [
      "T: No, now you cannot put b2 in the tower because you must put red blocks on blue blocks\n"
     ]
    },
    {
     "name": "stdout",
     "output_type": "stream",
     "text": [
      "bw 0.15\n",
      "problem8.pddl reward: -16\n",
      "Parsing domain blocks-domain.pddl\n",
      "Parsing problem maroon/problem9.pddl\n"
     ]
    },
    {
     "name": "stderr",
     "output_type": "stream",
     "text": [
      "T: no, put red blocks on blue blocks\n"
     ]
    },
    {
     "name": "stdout",
     "output_type": "stream",
     "text": [
      "(forall (?x) (or (not (red ?x)) (exists (?y) (and (blue ?y) (on ?x ?y)))))\n",
      "bw 0.15\n",
      "problem9.pddl reward: -12\n"
     ]
    }
   ],
   "source": [
    "add_experiment('maroon_kde_update_negative', None)"
   ]
  },
  {
   "cell_type": "code",
   "execution_count": 18,
   "metadata": {},
   "outputs": [
    {
     "name": "stderr",
     "output_type": "stream",
     "text": [
      "T: no, put red blocks on blue blocks\n"
     ]
    },
    {
     "name": "stdout",
     "output_type": "stream",
     "text": [
      "Parsing domain blocks-domain.pddl\n",
      "Parsing problem bijection/problem1.pddl\n",
      "Parsing domain blocks-domain.pddl\n",
      "Parsing problem bijection/problem1.pddl\n",
      "(forall (?x) (or (not (red ?x)) (exists (?y) (and (blue ?y) (on ?x ?y)))))\n",
      "bw 1.0\n"
     ]
    },
    {
     "name": "stderr",
     "output_type": "stream",
     "text": [
      "T: no, put red blocks on blue blocks\n",
      "T: no, put red blocks on blue blocks\n"
     ]
    },
    {
     "name": "stdout",
     "output_type": "stream",
     "text": [
      "(forall (?x) (or (not (red ?x)) (exists (?y) (and (blue ?y) (on ?x ?y)))))\n",
      "(forall (?x) (or (not (red ?x)) (exists (?y) (and (blue ?y) (on ?x ?y)))))\n",
      "problem1.pddl reward: -16\n",
      "Parsing domain blocks-domain.pddl\n",
      "Parsing problem bijection/problem10.pddl\n"
     ]
    },
    {
     "name": "stderr",
     "output_type": "stream",
     "text": [
      "T: no, put red blocks on blue blocks\n"
     ]
    },
    {
     "name": "stdout",
     "output_type": "stream",
     "text": [
      "problem10.pddl reward: -10\n",
      "Parsing domain blocks-domain.pddl\n",
      "Parsing problem bijection/problem11.pddl\n",
      "(forall (?x) (or (not (red ?x)) (exists (?y) (and (blue ?y) (on ?x ?y)))))\n",
      "bw 0.5\n"
     ]
    },
    {
     "name": "stderr",
     "output_type": "stream",
     "text": [
      "T: no, put red blocks on blue blocks\n"
     ]
    },
    {
     "name": "stdout",
     "output_type": "stream",
     "text": [
      "(forall (?x) (or (not (red ?x)) (exists (?y) (and (blue ?y) (on ?x ?y)))))\n"
     ]
    },
    {
     "name": "stderr",
     "output_type": "stream",
     "text": [
      "T: no, put red blocks on blue blocks\n"
     ]
    },
    {
     "name": "stdout",
     "output_type": "stream",
     "text": [
      "(forall (?x) (or (not (red ?x)) (exists (?y) (and (blue ?y) (on ?x ?y)))))\n"
     ]
    },
    {
     "name": "stderr",
     "output_type": "stream",
     "text": [
      "T: no, put red blocks on blue blocks\n"
     ]
    },
    {
     "name": "stdout",
     "output_type": "stream",
     "text": [
      "(forall (?x) (or (not (red ?x)) (exists (?y) (and (blue ?y) (on ?x ?y)))))\n"
     ]
    },
    {
     "name": "stderr",
     "output_type": "stream",
     "text": [
      "T: no, put red blocks on blue blocks\n"
     ]
    },
    {
     "name": "stdout",
     "output_type": "stream",
     "text": [
      "(forall (?x) (or (not (red ?x)) (exists (?y) (and (blue ?y) (on ?x ?y)))))\n"
     ]
    },
    {
     "name": "stderr",
     "output_type": "stream",
     "text": [
      "T: no, put red blocks on blue blocks\n"
     ]
    },
    {
     "name": "stdout",
     "output_type": "stream",
     "text": [
      "(forall (?x) (or (not (red ?x)) (exists (?y) (and (blue ?y) (on ?x ?y)))))\n"
     ]
    },
    {
     "name": "stderr",
     "output_type": "stream",
     "text": [
      "T: no, put red blocks on blue blocks\n"
     ]
    },
    {
     "name": "stdout",
     "output_type": "stream",
     "text": [
      "(forall (?x) (or (not (red ?x)) (exists (?y) (and (blue ?y) (on ?x ?y)))))\n"
     ]
    },
    {
     "name": "stderr",
     "output_type": "stream",
     "text": [
      "T: no, put red blocks on blue blocks\n"
     ]
    },
    {
     "name": "stdout",
     "output_type": "stream",
     "text": [
      "(forall (?x) (or (not (red ?x)) (exists (?y) (and (blue ?y) (on ?x ?y)))))\n"
     ]
    },
    {
     "name": "stderr",
     "output_type": "stream",
     "text": [
      "T: no, put red blocks on blue blocks\n"
     ]
    },
    {
     "name": "stdout",
     "output_type": "stream",
     "text": [
      "(forall (?x) (or (not (red ?x)) (exists (?y) (and (blue ?y) (on ?x ?y)))))\n",
      "problem11.pddl reward: -28\n",
      "Parsing domain blocks-domain.pddl\n",
      "Parsing problem bijection/problem12.pddl\n",
      "problem12.pddl reward: -10\n",
      "Parsing domain blocks-domain.pddl\n",
      "Parsing problem bijection/problem13.pddl\n"
     ]
    },
    {
     "name": "stderr",
     "output_type": "stream",
     "text": [
      "T: no, put red blocks on blue blocks\n"
     ]
    },
    {
     "name": "stdout",
     "output_type": "stream",
     "text": [
      "(forall (?x) (or (not (red ?x)) (exists (?y) (and (blue ?y) (on ?x ?y)))))\n",
      "bw 0.3333333333333333\n",
      "bw 1.0\n"
     ]
    },
    {
     "name": "stderr",
     "output_type": "stream",
     "text": [
      "T: no, put red blocks on blue blocks\n"
     ]
    },
    {
     "name": "stdout",
     "output_type": "stream",
     "text": [
      "(forall (?x) (or (not (red ?x)) (exists (?y) (and (blue ?y) (on ?x ?y)))))\n",
      "bw 0.5\n"
     ]
    },
    {
     "name": "stderr",
     "output_type": "stream",
     "text": [
      "T: no, put red blocks on blue blocks\n"
     ]
    },
    {
     "name": "stdout",
     "output_type": "stream",
     "text": [
      "(forall (?x) (or (not (red ?x)) (exists (?y) (and (blue ?y) (on ?x ?y)))))\n",
      "bw 0.3333333333333333\n"
     ]
    },
    {
     "name": "stderr",
     "output_type": "stream",
     "text": [
      "T: no, put red blocks on blue blocks\n"
     ]
    },
    {
     "name": "stdout",
     "output_type": "stream",
     "text": [
      "(forall (?x) (or (not (red ?x)) (exists (?y) (and (blue ?y) (on ?x ?y)))))\n",
      "bw 0.25\n"
     ]
    },
    {
     "name": "stderr",
     "output_type": "stream",
     "text": [
      "T: no, put red blocks on blue blocks\n"
     ]
    },
    {
     "name": "stdout",
     "output_type": "stream",
     "text": [
      "problem13.pddl reward: -18\n",
      "Parsing domain blocks-domain.pddl\n",
      "Parsing problem bijection/problem14.pddl\n",
      "(forall (?x) (or (not (red ?x)) (exists (?y) (and (blue ?y) (on ?x ?y)))))\n",
      "bw 0.2\n",
      "bw 0.25\n"
     ]
    },
    {
     "name": "stderr",
     "output_type": "stream",
     "text": [
      "T: no, put red blocks on blue blocks\n"
     ]
    },
    {
     "name": "stdout",
     "output_type": "stream",
     "text": [
      "(forall (?y) (or (not (blue ?y)) (exists (?x) (and (red ?x) (on ?x ?y)))))\n",
      "bw 0.16666666666666666\n",
      "bw 0.2\n",
      "problem14.pddl reward: -14\n",
      "Parsing domain blocks-domain.pddl\n",
      "Parsing problem bijection/problem15.pddl\n",
      "problem15.pddl reward: -10\n",
      "Parsing domain blocks-domain.pddl\n",
      "Parsing problem bijection/problem16.pddl\n"
     ]
    },
    {
     "name": "stderr",
     "output_type": "stream",
     "text": [
      "T: no, put red blocks on blue blocks\n"
     ]
    },
    {
     "name": "stdout",
     "output_type": "stream",
     "text": [
      "(forall (?x) (or (not (red ?x)) (exists (?y) (and (blue ?y) (on ?x ?y)))))\n",
      "bw 0.15\n",
      "bw 0.16666666666666666\n"
     ]
    },
    {
     "name": "stderr",
     "output_type": "stream",
     "text": [
      "T: no, put red blocks on blue blocks\n"
     ]
    },
    {
     "name": "stdout",
     "output_type": "stream",
     "text": [
      "(forall (?x) (or (not (red ?x)) (exists (?y) (and (blue ?y) (on ?x ?y)))))\n",
      "bw 0.15\n"
     ]
    },
    {
     "name": "stderr",
     "output_type": "stream",
     "text": [
      "T: no, put red blocks on blue blocks\n"
     ]
    },
    {
     "name": "stdout",
     "output_type": "stream",
     "text": [
      "(forall (?x) (or (not (red ?x)) (exists (?y) (and (blue ?y) (on ?x ?y)))))\n",
      "bw 0.15\n",
      "problem16.pddl reward: -16\n",
      "Parsing domain blocks-domain.pddl\n",
      "Parsing problem bijection/problem17.pddl\n"
     ]
    },
    {
     "name": "stderr",
     "output_type": "stream",
     "text": [
      "T: no, put red blocks on blue blocks\n"
     ]
    },
    {
     "name": "stdout",
     "output_type": "stream",
     "text": [
      "(forall (?x) (or (not (red ?x)) (exists (?y) (and (blue ?y) (on ?x ?y)))))\n",
      "bw 0.15\n"
     ]
    },
    {
     "name": "stderr",
     "output_type": "stream",
     "text": [
      "T: no, put red blocks on blue blocks\n"
     ]
    },
    {
     "name": "stdout",
     "output_type": "stream",
     "text": [
      "(forall (?x) (or (not (red ?x)) (exists (?y) (and (blue ?y) (on ?x ?y)))))\n"
     ]
    },
    {
     "name": "stderr",
     "output_type": "stream",
     "text": [
      "T: no, put red blocks on blue blocks\n"
     ]
    },
    {
     "name": "stdout",
     "output_type": "stream",
     "text": [
      "(forall (?x) (or (not (red ?x)) (exists (?y) (and (blue ?y) (on ?x ?y)))))\n"
     ]
    },
    {
     "name": "stderr",
     "output_type": "stream",
     "text": [
      "T: no, put red blocks on blue blocks\n"
     ]
    },
    {
     "name": "stdout",
     "output_type": "stream",
     "text": [
      "(forall (?x) (or (not (red ?x)) (exists (?y) (and (blue ?y) (on ?x ?y)))))\n",
      "problem17.pddl reward: -18\n",
      "Parsing domain blocks-domain.pddl\n",
      "Parsing problem bijection/problem18.pddl\n",
      "problem18.pddl reward: -10\n",
      "Parsing domain blocks-domain.pddl\n",
      "Parsing problem bijection/problem19.pddl\n"
     ]
    },
    {
     "name": "stderr",
     "output_type": "stream",
     "text": [
      "T: no, put red blocks on blue blocks\n"
     ]
    },
    {
     "name": "stdout",
     "output_type": "stream",
     "text": [
      "(forall (?y) (or (not (blue ?y)) (exists (?x) (and (red ?x) (on ?x ?y)))))\n",
      "bw 0.15\n",
      "bw 0.15\n",
      "problem19.pddl reward: -12\n",
      "Parsing domain blocks-domain.pddl\n",
      "Parsing problem bijection/problem2.pddl\n"
     ]
    },
    {
     "name": "stderr",
     "output_type": "stream",
     "text": [
      "T: no, put red blocks on blue blocks\n"
     ]
    },
    {
     "name": "stdout",
     "output_type": "stream",
     "text": [
      "(forall (?y) (or (not (blue ?y)) (exists (?x) (and (red ?x) (on ?x ?y)))))\n",
      "bw 0.15\n",
      "bw 0.15\n"
     ]
    },
    {
     "name": "stderr",
     "output_type": "stream",
     "text": [
      "T: no, put red blocks on blue blocks\n"
     ]
    },
    {
     "name": "stdout",
     "output_type": "stream",
     "text": [
      "(forall (?y) (or (not (blue ?y)) (exists (?x) (and (red ?x) (on ?x ?y)))))\n",
      "bw 0.15\n"
     ]
    },
    {
     "name": "stderr",
     "output_type": "stream",
     "text": [
      "T: no, put red blocks on blue blocks\n"
     ]
    },
    {
     "name": "stdout",
     "output_type": "stream",
     "text": [
      "(forall (?y) (or (not (blue ?y)) (exists (?x) (and (red ?x) (on ?x ?y)))))\n",
      "bw 0.15\n"
     ]
    },
    {
     "name": "stderr",
     "output_type": "stream",
     "text": [
      "T: no, put red blocks on blue blocks\n"
     ]
    },
    {
     "name": "stdout",
     "output_type": "stream",
     "text": [
      "(forall (?y) (or (not (blue ?y)) (exists (?x) (and (red ?x) (on ?x ?y)))))\n",
      "bw 0.15\n"
     ]
    },
    {
     "name": "stderr",
     "output_type": "stream",
     "text": [
      "T: no, put red blocks on blue blocks\n"
     ]
    },
    {
     "name": "stdout",
     "output_type": "stream",
     "text": [
      "(forall (?y) (or (not (blue ?y)) (exists (?x) (and (red ?x) (on ?x ?y)))))\n",
      "bw 0.15\n"
     ]
    },
    {
     "name": "stderr",
     "output_type": "stream",
     "text": [
      "T: no, put red blocks on blue blocks\n"
     ]
    },
    {
     "name": "stdout",
     "output_type": "stream",
     "text": [
      "(forall (?y) (or (not (blue ?y)) (exists (?x) (and (red ?x) (on ?x ?y)))))\n",
      "bw 0.15\n"
     ]
    },
    {
     "name": "stderr",
     "output_type": "stream",
     "text": [
      "T: no, put red blocks on blue blocks\n"
     ]
    },
    {
     "name": "stdout",
     "output_type": "stream",
     "text": [
      "(forall (?y) (or (not (blue ?y)) (exists (?x) (and (red ?x) (on ?x ?y)))))\n",
      "bw 0.15\n"
     ]
    },
    {
     "name": "stderr",
     "output_type": "stream",
     "text": [
      "T: no, put red blocks on blue blocks\n"
     ]
    },
    {
     "name": "stdout",
     "output_type": "stream",
     "text": [
      "(forall (?y) (or (not (blue ?y)) (exists (?x) (and (red ?x) (on ?x ?y)))))\n"
     ]
    },
    {
     "name": "stderr",
     "output_type": "stream",
     "text": [
      "T: no, put red blocks on blue blocks\n"
     ]
    },
    {
     "name": "stdout",
     "output_type": "stream",
     "text": [
      "(forall (?y) (or (not (blue ?y)) (exists (?x) (and (red ?x) (on ?x ?y)))))\n"
     ]
    },
    {
     "name": "stderr",
     "output_type": "stream",
     "text": [
      "T: no, put red blocks on blue blocks\n"
     ]
    },
    {
     "name": "stdout",
     "output_type": "stream",
     "text": [
      "(forall (?y) (or (not (blue ?y)) (exists (?x) (and (red ?x) (on ?x ?y)))))\n"
     ]
    },
    {
     "name": "stderr",
     "output_type": "stream",
     "text": [
      "T: no, put red blocks on blue blocks\n"
     ]
    },
    {
     "name": "stdout",
     "output_type": "stream",
     "text": [
      "(forall (?y) (or (not (blue ?y)) (exists (?x) (and (red ?x) (on ?x ?y)))))\n"
     ]
    },
    {
     "name": "stderr",
     "output_type": "stream",
     "text": [
      "T: no, put red blocks on blue blocks\n"
     ]
    },
    {
     "name": "stdout",
     "output_type": "stream",
     "text": [
      "(forall (?y) (or (not (blue ?y)) (exists (?x) (and (red ?x) (on ?x ?y)))))\n",
      "problem2.pddl reward: -34\n",
      "Parsing domain blocks-domain.pddl\n",
      "Parsing problem bijection/problem20.pddl\n"
     ]
    },
    {
     "name": "stderr",
     "output_type": "stream",
     "text": [
      "T: no, put red blocks on blue blocks\n"
     ]
    },
    {
     "name": "stdout",
     "output_type": "stream",
     "text": [
      "(forall (?x) (or (not (red ?x)) (exists (?y) (and (blue ?y) (on ?x ?y)))))\n",
      "bw 0.15\n",
      "bw 0.15\n"
     ]
    },
    {
     "name": "stderr",
     "output_type": "stream",
     "text": [
      "T: no, put red blocks on blue blocks\n"
     ]
    },
    {
     "name": "stdout",
     "output_type": "stream",
     "text": [
      "(forall (?x) (or (not (red ?x)) (exists (?y) (and (blue ?y) (on ?x ?y)))))\n",
      "bw 0.15\n"
     ]
    },
    {
     "name": "stderr",
     "output_type": "stream",
     "text": [
      "T: no, put red blocks on blue blocks\n"
     ]
    },
    {
     "name": "stdout",
     "output_type": "stream",
     "text": [
      "(forall (?x) (or (not (red ?x)) (exists (?y) (and (blue ?y) (on ?x ?y)))))\n",
      "bw 0.15\n"
     ]
    },
    {
     "name": "stderr",
     "output_type": "stream",
     "text": [
      "T: no, put red blocks on blue blocks\n"
     ]
    },
    {
     "name": "stdout",
     "output_type": "stream",
     "text": [
      "(forall (?x) (or (not (red ?x)) (exists (?y) (and (blue ?y) (on ?x ?y)))))\n"
     ]
    },
    {
     "name": "stderr",
     "output_type": "stream",
     "text": [
      "T: no, put red blocks on blue blocks\n"
     ]
    },
    {
     "name": "stdout",
     "output_type": "stream",
     "text": [
      "(forall (?x) (or (not (red ?x)) (exists (?y) (and (blue ?y) (on ?x ?y)))))\n"
     ]
    },
    {
     "name": "stderr",
     "output_type": "stream",
     "text": [
      "T: no, put red blocks on blue blocks\n"
     ]
    },
    {
     "name": "stdout",
     "output_type": "stream",
     "text": [
      "(forall (?x) (or (not (red ?x)) (exists (?y) (and (blue ?y) (on ?x ?y)))))\n",
      "problem20.pddl reward: -22\n",
      "Parsing domain blocks-domain.pddl\n",
      "Parsing problem bijection/problem21.pddl\n"
     ]
    },
    {
     "name": "stderr",
     "output_type": "stream",
     "text": [
      "T: no, put red blocks on blue blocks\n"
     ]
    },
    {
     "name": "stdout",
     "output_type": "stream",
     "text": [
      "(forall (?y) (or (not (blue ?y)) (exists (?x) (and (red ?x) (on ?x ?y)))))\n",
      "bw 0.15\n",
      "bw 0.15\n"
     ]
    },
    {
     "name": "stderr",
     "output_type": "stream",
     "text": [
      "T: no, put red blocks on blue blocks\n"
     ]
    },
    {
     "name": "stdout",
     "output_type": "stream",
     "text": [
      "(forall (?y) (or (not (blue ?y)) (exists (?x) (and (red ?x) (on ?x ?y)))))\n",
      "bw 0.15\n"
     ]
    },
    {
     "name": "stderr",
     "output_type": "stream",
     "text": [
      "T: no, put red blocks on blue blocks\n"
     ]
    },
    {
     "name": "stdout",
     "output_type": "stream",
     "text": [
      "(forall (?y) (or (not (blue ?y)) (exists (?x) (and (red ?x) (on ?x ?y)))))\n",
      "bw 0.15\n"
     ]
    },
    {
     "name": "stderr",
     "output_type": "stream",
     "text": [
      "T: no, put red blocks on blue blocks\n"
     ]
    },
    {
     "name": "stdout",
     "output_type": "stream",
     "text": [
      "(forall (?y) (or (not (blue ?y)) (exists (?x) (and (red ?x) (on ?x ?y)))))\n",
      "bw 0.15\n"
     ]
    },
    {
     "name": "stderr",
     "output_type": "stream",
     "text": [
      "T: no, put red blocks on blue blocks\n"
     ]
    },
    {
     "name": "stdout",
     "output_type": "stream",
     "text": [
      "(forall (?y) (or (not (blue ?y)) (exists (?x) (and (red ?x) (on ?x ?y)))))\n",
      "bw 0.15\n",
      "problem21.pddl reward: -20\n",
      "Parsing domain blocks-domain.pddl\n",
      "Parsing problem bijection/problem22.pddl\n"
     ]
    },
    {
     "name": "stderr",
     "output_type": "stream",
     "text": [
      "T: no, put red blocks on blue blocks\n"
     ]
    },
    {
     "name": "stdout",
     "output_type": "stream",
     "text": [
      "(forall (?y) (or (not (blue ?y)) (exists (?x) (and (red ?x) (on ?x ?y)))))\n",
      "bw 0.15\n",
      "bw 0.15\n"
     ]
    },
    {
     "name": "stderr",
     "output_type": "stream",
     "text": [
      "T: no, put red blocks on blue blocks\n"
     ]
    },
    {
     "name": "stdout",
     "output_type": "stream",
     "text": [
      "(forall (?x) (or (not (red ?x)) (exists (?y) (and (blue ?y) (on ?x ?y)))))\n",
      "bw 0.15\n",
      "bw 0.15\n"
     ]
    },
    {
     "name": "stderr",
     "output_type": "stream",
     "text": [
      "T: no, put red blocks on blue blocks\n"
     ]
    },
    {
     "name": "stdout",
     "output_type": "stream",
     "text": [
      "(forall (?x) (or (not (red ?x)) (exists (?y) (and (blue ?y) (on ?x ?y)))))\n",
      "bw 0.15\n"
     ]
    },
    {
     "name": "stderr",
     "output_type": "stream",
     "text": [
      "T: no, put red blocks on blue blocks\n"
     ]
    },
    {
     "name": "stdout",
     "output_type": "stream",
     "text": [
      "(forall (?x) (or (not (red ?x)) (exists (?y) (and (blue ?y) (on ?x ?y)))))\n",
      "bw 0.15\n"
     ]
    },
    {
     "name": "stderr",
     "output_type": "stream",
     "text": [
      "T: no, put red blocks on blue blocks\n"
     ]
    },
    {
     "name": "stdout",
     "output_type": "stream",
     "text": [
      "(forall (?x) (or (not (red ?x)) (exists (?y) (and (blue ?y) (on ?x ?y)))))\n",
      "bw 0.15\n",
      "problem22.pddl reward: -20\n",
      "Parsing domain blocks-domain.pddl\n",
      "Parsing problem bijection/problem23.pddl\n",
      "problem23.pddl reward: -10\n",
      "Parsing domain blocks-domain.pddl\n",
      "Parsing problem bijection/problem24.pddl\n"
     ]
    },
    {
     "name": "stderr",
     "output_type": "stream",
     "text": [
      "T: no, put red blocks on blue blocks\n"
     ]
    },
    {
     "name": "stdout",
     "output_type": "stream",
     "text": [
      "(forall (?x) (or (not (red ?x)) (exists (?y) (and (blue ?y) (on ?x ?y)))))\n",
      "bw 0.15\n"
     ]
    },
    {
     "name": "stderr",
     "output_type": "stream",
     "text": [
      "T: no, put red blocks on blue blocks\n"
     ]
    },
    {
     "name": "stdout",
     "output_type": "stream",
     "text": [
      "(forall (?x) (or (not (red ?x)) (exists (?y) (and (blue ?y) (on ?x ?y)))))\n"
     ]
    },
    {
     "name": "stderr",
     "output_type": "stream",
     "text": [
      "T: no, put red blocks on blue blocks\n"
     ]
    },
    {
     "name": "stdout",
     "output_type": "stream",
     "text": [
      "(forall (?x) (or (not (red ?x)) (exists (?y) (and (blue ?y) (on ?x ?y)))))\n"
     ]
    },
    {
     "name": "stderr",
     "output_type": "stream",
     "text": [
      "T: no, put red blocks on blue blocks\n"
     ]
    },
    {
     "name": "stdout",
     "output_type": "stream",
     "text": [
      "(forall (?x) (or (not (red ?x)) (exists (?y) (and (blue ?y) (on ?x ?y)))))\n"
     ]
    },
    {
     "name": "stderr",
     "output_type": "stream",
     "text": [
      "T: no, put red blocks on blue blocks\n"
     ]
    },
    {
     "name": "stdout",
     "output_type": "stream",
     "text": [
      "(forall (?x) (or (not (red ?x)) (exists (?y) (and (blue ?y) (on ?x ?y)))))\n"
     ]
    },
    {
     "name": "stderr",
     "output_type": "stream",
     "text": [
      "T: no, put red blocks on blue blocks\n"
     ]
    },
    {
     "name": "stdout",
     "output_type": "stream",
     "text": [
      "(forall (?y) (or (not (blue ?y)) (exists (?x) (and (red ?x) (on ?x ?y)))))\n"
     ]
    },
    {
     "name": "stderr",
     "output_type": "stream",
     "text": [
      "R: Is the top object red?\n",
      "T: no\n"
     ]
    },
    {
     "name": "stdout",
     "output_type": "stream",
     "text": [
      "bw 0.15\n",
      "problem24.pddl reward: -22\n",
      "Parsing domain blocks-domain.pddl\n",
      "Parsing problem bijection/problem25.pddl\n"
     ]
    },
    {
     "name": "stderr",
     "output_type": "stream",
     "text": [
      "T: no, put red blocks on blue blocks\n"
     ]
    },
    {
     "name": "stdout",
     "output_type": "stream",
     "text": [
      "(forall (?y) (or (not (blue ?y)) (exists (?x) (and (red ?x) (on ?x ?y)))))\n",
      "bw 0.15\n",
      "bw 0.15\n"
     ]
    },
    {
     "name": "stderr",
     "output_type": "stream",
     "text": [
      "T: no, put red blocks on blue blocks\n"
     ]
    },
    {
     "name": "stdout",
     "output_type": "stream",
     "text": [
      "(forall (?y) (or (not (blue ?y)) (exists (?x) (and (red ?x) (on ?x ?y)))))\n",
      "bw 0.15\n"
     ]
    },
    {
     "name": "stderr",
     "output_type": "stream",
     "text": [
      "T: no, put red blocks on blue blocks\n"
     ]
    },
    {
     "name": "stdout",
     "output_type": "stream",
     "text": [
      "(forall (?y) (or (not (blue ?y)) (exists (?x) (and (red ?x) (on ?x ?y)))))\n",
      "bw 0.15\n"
     ]
    },
    {
     "name": "stderr",
     "output_type": "stream",
     "text": [
      "T: no, put red blocks on blue blocks\n"
     ]
    },
    {
     "name": "stdout",
     "output_type": "stream",
     "text": [
      "(forall (?y) (or (not (blue ?y)) (exists (?x) (and (red ?x) (on ?x ?y)))))\n",
      "bw 0.15\n",
      "problem25.pddl reward: -18\n",
      "Parsing domain blocks-domain.pddl\n",
      "Parsing problem bijection/problem26.pddl\n"
     ]
    },
    {
     "name": "stderr",
     "output_type": "stream",
     "text": [
      "T: no, put red blocks on blue blocks\n"
     ]
    },
    {
     "name": "stdout",
     "output_type": "stream",
     "text": [
      "(forall (?y) (or (not (blue ?y)) (exists (?x) (and (red ?x) (on ?x ?y)))))\n",
      "bw 0.15\n",
      "bw 0.15\n"
     ]
    },
    {
     "name": "stderr",
     "output_type": "stream",
     "text": [
      "T: no, put red blocks on blue blocks\n"
     ]
    },
    {
     "name": "stdout",
     "output_type": "stream",
     "text": [
      "(forall (?y) (or (not (blue ?y)) (exists (?x) (and (red ?x) (on ?x ?y)))))\n",
      "bw 0.15\n"
     ]
    },
    {
     "name": "stderr",
     "output_type": "stream",
     "text": [
      "T: no, put red blocks on blue blocks\n"
     ]
    },
    {
     "name": "stdout",
     "output_type": "stream",
     "text": [
      "(forall (?y) (or (not (blue ?y)) (exists (?x) (and (red ?x) (on ?x ?y)))))\n",
      "problem26.pddl reward: -16\n",
      "Parsing domain blocks-domain.pddl\n",
      "Parsing problem bijection/problem27.pddl\n",
      "problem27.pddl reward: -10\n",
      "Parsing domain blocks-domain.pddl\n",
      "Parsing problem bijection/problem28.pddl\n"
     ]
    },
    {
     "name": "stderr",
     "output_type": "stream",
     "text": [
      "T: no, put red blocks on blue blocks\n"
     ]
    },
    {
     "name": "stdout",
     "output_type": "stream",
     "text": [
      "(forall (?x) (or (not (red ?x)) (exists (?y) (and (blue ?y) (on ?x ?y)))))\n",
      "bw 0.15\n",
      "bw 0.15\n"
     ]
    },
    {
     "name": "stderr",
     "output_type": "stream",
     "text": [
      "T: no, put red blocks on blue blocks\n"
     ]
    },
    {
     "name": "stdout",
     "output_type": "stream",
     "text": [
      "(forall (?x) (or (not (red ?x)) (exists (?y) (and (blue ?y) (on ?x ?y)))))\n",
      "bw 0.15\n"
     ]
    },
    {
     "name": "stderr",
     "output_type": "stream",
     "text": [
      "T: no, put red blocks on blue blocks\n"
     ]
    },
    {
     "name": "stdout",
     "output_type": "stream",
     "text": [
      "(forall (?y) (or (not (blue ?y)) (exists (?x) (and (red ?x) (on ?x ?y)))))\n",
      "bw 0.15\n",
      "bw 0.15\n",
      "problem28.pddl reward: -16\n",
      "Parsing domain blocks-domain.pddl\n",
      "Parsing problem bijection/problem29.pddl\n"
     ]
    },
    {
     "name": "stderr",
     "output_type": "stream",
     "text": [
      "T: no, put red blocks on blue blocks\n"
     ]
    },
    {
     "name": "stdout",
     "output_type": "stream",
     "text": [
      "(forall (?x) (or (not (red ?x)) (exists (?y) (and (blue ?y) (on ?x ?y)))))\n",
      "bw 0.15\n"
     ]
    },
    {
     "name": "stderr",
     "output_type": "stream",
     "text": [
      "T: no, put red blocks on blue blocks\n"
     ]
    },
    {
     "name": "stdout",
     "output_type": "stream",
     "text": [
      "(forall (?x) (or (not (red ?x)) (exists (?y) (and (blue ?y) (on ?x ?y)))))\n"
     ]
    },
    {
     "name": "stderr",
     "output_type": "stream",
     "text": [
      "T: no, put red blocks on blue blocks\n"
     ]
    },
    {
     "name": "stdout",
     "output_type": "stream",
     "text": [
      "(forall (?x) (or (not (red ?x)) (exists (?y) (and (blue ?y) (on ?x ?y)))))\n"
     ]
    },
    {
     "name": "stderr",
     "output_type": "stream",
     "text": [
      "T: no, put red blocks on blue blocks\n"
     ]
    },
    {
     "name": "stdout",
     "output_type": "stream",
     "text": [
      "(forall (?x) (or (not (red ?x)) (exists (?y) (and (blue ?y) (on ?x ?y)))))\n"
     ]
    },
    {
     "name": "stderr",
     "output_type": "stream",
     "text": [
      "T: no, put red blocks on blue blocks\n"
     ]
    },
    {
     "name": "stdout",
     "output_type": "stream",
     "text": [
      "(forall (?x) (or (not (red ?x)) (exists (?y) (and (blue ?y) (on ?x ?y)))))\n",
      "bw 0.15\n"
     ]
    },
    {
     "name": "stderr",
     "output_type": "stream",
     "text": [
      "T: no, put red blocks on blue blocks\n"
     ]
    },
    {
     "name": "stdout",
     "output_type": "stream",
     "text": [
      "(forall (?x) (or (not (red ?x)) (exists (?y) (and (blue ?y) (on ?x ?y)))))\n"
     ]
    },
    {
     "name": "stderr",
     "output_type": "stream",
     "text": [
      "T: no, put red blocks on blue blocks\n"
     ]
    },
    {
     "name": "stdout",
     "output_type": "stream",
     "text": [
      "(forall (?x) (or (not (red ?x)) (exists (?y) (and (blue ?y) (on ?x ?y)))))\n"
     ]
    },
    {
     "name": "stderr",
     "output_type": "stream",
     "text": [
      "T: no, put red blocks on blue blocks\n"
     ]
    },
    {
     "name": "stdout",
     "output_type": "stream",
     "text": [
      "(forall (?x) (or (not (red ?x)) (exists (?y) (and (blue ?y) (on ?x ?y)))))\n",
      "problem29.pddl reward: -26\n",
      "Parsing domain blocks-domain.pddl\n",
      "Parsing problem bijection/problem3.pddl\n"
     ]
    },
    {
     "name": "stderr",
     "output_type": "stream",
     "text": [
      "T: no, put red blocks on blue blocks\n"
     ]
    },
    {
     "name": "stdout",
     "output_type": "stream",
     "text": [
      "(forall (?y) (or (not (blue ?y)) (exists (?x) (and (red ?x) (on ?x ?y)))))\n",
      "bw 0.15\n",
      "bw 0.15\n"
     ]
    },
    {
     "name": "stderr",
     "output_type": "stream",
     "text": [
      "T: no, put red blocks on blue blocks\n"
     ]
    },
    {
     "name": "stdout",
     "output_type": "stream",
     "text": [
      "(forall (?y) (or (not (blue ?y)) (exists (?x) (and (red ?x) (on ?x ?y)))))\n",
      "bw 0.15\n"
     ]
    },
    {
     "name": "stderr",
     "output_type": "stream",
     "text": [
      "T: no, put red blocks on blue blocks\n"
     ]
    },
    {
     "name": "stdout",
     "output_type": "stream",
     "text": [
      "(forall (?y) (or (not (blue ?y)) (exists (?x) (and (red ?x) (on ?x ?y)))))\n",
      "bw 0.15\n"
     ]
    },
    {
     "name": "stderr",
     "output_type": "stream",
     "text": [
      "T: no, put red blocks on blue blocks\n"
     ]
    },
    {
     "name": "stdout",
     "output_type": "stream",
     "text": [
      "(forall (?y) (or (not (blue ?y)) (exists (?x) (and (red ?x) (on ?x ?y)))))\n"
     ]
    },
    {
     "name": "stderr",
     "output_type": "stream",
     "text": [
      "T: no, put red blocks on blue blocks\n"
     ]
    },
    {
     "name": "stdout",
     "output_type": "stream",
     "text": [
      "(forall (?y) (or (not (blue ?y)) (exists (?x) (and (red ?x) (on ?x ?y)))))\n"
     ]
    },
    {
     "name": "stderr",
     "output_type": "stream",
     "text": [
      "T: no, put red blocks on blue blocks\n"
     ]
    },
    {
     "name": "stdout",
     "output_type": "stream",
     "text": [
      "(forall (?y) (or (not (blue ?y)) (exists (?x) (and (red ?x) (on ?x ?y)))))\n",
      "bw 0.15\n"
     ]
    },
    {
     "name": "stderr",
     "output_type": "stream",
     "text": [
      "T: no, put red blocks on blue blocks\n"
     ]
    },
    {
     "name": "stdout",
     "output_type": "stream",
     "text": [
      "(forall (?y) (or (not (blue ?y)) (exists (?x) (and (red ?x) (on ?x ?y)))))\n",
      "bw 0.15\n"
     ]
    },
    {
     "name": "stderr",
     "output_type": "stream",
     "text": [
      "T: no, put red blocks on blue blocks\n"
     ]
    },
    {
     "name": "stdout",
     "output_type": "stream",
     "text": [
      "(forall (?y) (or (not (blue ?y)) (exists (?x) (and (red ?x) (on ?x ?y)))))\n"
     ]
    },
    {
     "name": "stderr",
     "output_type": "stream",
     "text": [
      "R: Is the top object red?\n",
      "T: no\n",
      "T: no, put red blocks on blue blocks\n"
     ]
    },
    {
     "name": "stdout",
     "output_type": "stream",
     "text": [
      "(forall (?y) (or (not (blue ?y)) (exists (?x) (and (red ?x) (on ?x ?y)))))\n",
      "problem3.pddl reward: -28\n",
      "Parsing domain blocks-domain.pddl\n",
      "Parsing problem bijection/problem30.pddl\n"
     ]
    },
    {
     "name": "stderr",
     "output_type": "stream",
     "text": [
      "T: no, put red blocks on blue blocks\n"
     ]
    },
    {
     "name": "stdout",
     "output_type": "stream",
     "text": [
      "(forall (?y) (or (not (blue ?y)) (exists (?x) (and (red ?x) (on ?x ?y)))))\n",
      "bw 0.15\n",
      "bw 0.15\n"
     ]
    },
    {
     "name": "stderr",
     "output_type": "stream",
     "text": [
      "T: no, put red blocks on blue blocks\n"
     ]
    },
    {
     "name": "stdout",
     "output_type": "stream",
     "text": [
      "(forall (?y) (or (not (blue ?y)) (exists (?x) (and (red ?x) (on ?x ?y)))))\n"
     ]
    },
    {
     "name": "stderr",
     "output_type": "stream",
     "text": [
      "R: Is the top object red?\n",
      "T: no\n",
      "T: no, put red blocks on blue blocks\n"
     ]
    },
    {
     "name": "stdout",
     "output_type": "stream",
     "text": [
      "(forall (?y) (or (not (blue ?y)) (exists (?x) (and (red ?x) (on ?x ?y)))))\n"
     ]
    },
    {
     "name": "stderr",
     "output_type": "stream",
     "text": [
      "T: no, put red blocks on blue blocks\n"
     ]
    },
    {
     "name": "stdout",
     "output_type": "stream",
     "text": [
      "(forall (?y) (or (not (blue ?y)) (exists (?x) (and (red ?x) (on ?x ?y)))))\n"
     ]
    },
    {
     "name": "stderr",
     "output_type": "stream",
     "text": [
      "T: no, put red blocks on blue blocks\n"
     ]
    },
    {
     "name": "stdout",
     "output_type": "stream",
     "text": [
      "(forall (?y) (or (not (blue ?y)) (exists (?x) (and (red ?x) (on ?x ?y)))))\n"
     ]
    },
    {
     "name": "stderr",
     "output_type": "stream",
     "text": [
      "T: no, put red blocks on blue blocks\n"
     ]
    },
    {
     "name": "stdout",
     "output_type": "stream",
     "text": [
      "(forall (?y) (or (not (blue ?y)) (exists (?x) (and (red ?x) (on ?x ?y)))))\n"
     ]
    },
    {
     "name": "stderr",
     "output_type": "stream",
     "text": [
      "T: no, put red blocks on blue blocks\n"
     ]
    },
    {
     "name": "stdout",
     "output_type": "stream",
     "text": [
      "(forall (?y) (or (not (blue ?y)) (exists (?x) (and (red ?x) (on ?x ?y)))))\n",
      "problem30.pddl reward: -24\n",
      "Parsing domain blocks-domain.pddl\n",
      "Parsing problem bijection/problem31.pddl\n"
     ]
    },
    {
     "name": "stderr",
     "output_type": "stream",
     "text": [
      "T: no, put red blocks on blue blocks\n"
     ]
    },
    {
     "name": "stdout",
     "output_type": "stream",
     "text": [
      "(forall (?x) (or (not (red ?x)) (exists (?y) (and (blue ?y) (on ?x ?y)))))\n",
      "bw 0.15\n",
      "bw 0.15\n"
     ]
    },
    {
     "name": "stderr",
     "output_type": "stream",
     "text": [
      "T: no, put red blocks on blue blocks\n"
     ]
    },
    {
     "name": "stdout",
     "output_type": "stream",
     "text": [
      "(forall (?x) (or (not (red ?x)) (exists (?y) (and (blue ?y) (on ?x ?y)))))\n",
      "bw 0.15\n"
     ]
    },
    {
     "name": "stderr",
     "output_type": "stream",
     "text": [
      "T: no, put red blocks on blue blocks\n"
     ]
    },
    {
     "name": "stdout",
     "output_type": "stream",
     "text": [
      "(forall (?x) (or (not (red ?x)) (exists (?y) (and (blue ?y) (on ?x ?y)))))\n",
      "bw 0.15\n",
      "problem31.pddl reward: -16\n",
      "Parsing domain blocks-domain.pddl\n",
      "Parsing problem bijection/problem32.pddl\n"
     ]
    },
    {
     "name": "stderr",
     "output_type": "stream",
     "text": [
      "T: no, put red blocks on blue blocks\n"
     ]
    },
    {
     "name": "stdout",
     "output_type": "stream",
     "text": [
      "(forall (?y) (or (not (blue ?y)) (exists (?x) (and (red ?x) (on ?x ?y)))))\n",
      "bw 0.15\n",
      "bw 0.15\n"
     ]
    },
    {
     "name": "stderr",
     "output_type": "stream",
     "text": [
      "T: no, put red blocks on blue blocks\n"
     ]
    },
    {
     "name": "stdout",
     "output_type": "stream",
     "text": [
      "(forall (?y) (or (not (blue ?y)) (exists (?x) (and (red ?x) (on ?x ?y)))))\n",
      "bw 0.15\n",
      "problem32.pddl reward: -14\n",
      "Parsing domain blocks-domain.pddl\n",
      "Parsing problem bijection/problem33.pddl\n",
      "problem33.pddl reward: -10\n",
      "Parsing domain blocks-domain.pddl\n",
      "Parsing problem bijection/problem34.pddl\n"
     ]
    },
    {
     "name": "stderr",
     "output_type": "stream",
     "text": [
      "T: no, put red blocks on blue blocks\n"
     ]
    },
    {
     "name": "stdout",
     "output_type": "stream",
     "text": [
      "(forall (?y) (or (not (blue ?y)) (exists (?x) (and (red ?x) (on ?x ?y)))))\n",
      "bw 0.15\n",
      "bw 0.15\n"
     ]
    },
    {
     "name": "stderr",
     "output_type": "stream",
     "text": [
      "T: no, put red blocks on blue blocks\n"
     ]
    },
    {
     "name": "stdout",
     "output_type": "stream",
     "text": [
      "(forall (?y) (or (not (blue ?y)) (exists (?x) (and (red ?x) (on ?x ?y)))))\n",
      "bw 0.15\n"
     ]
    },
    {
     "name": "stderr",
     "output_type": "stream",
     "text": [
      "T: no, put red blocks on blue blocks\n"
     ]
    },
    {
     "name": "stdout",
     "output_type": "stream",
     "text": [
      "(forall (?y) (or (not (blue ?y)) (exists (?x) (and (red ?x) (on ?x ?y)))))\n",
      "bw 0.15\n"
     ]
    },
    {
     "name": "stderr",
     "output_type": "stream",
     "text": [
      "T: no, put red blocks on blue blocks\n"
     ]
    },
    {
     "name": "stdout",
     "output_type": "stream",
     "text": [
      "(forall (?y) (or (not (blue ?y)) (exists (?x) (and (red ?x) (on ?x ?y)))))\n",
      "bw 0.15\n"
     ]
    },
    {
     "name": "stderr",
     "output_type": "stream",
     "text": [
      "T: no, put red blocks on blue blocks\n"
     ]
    },
    {
     "name": "stdout",
     "output_type": "stream",
     "text": [
      "(forall (?y) (or (not (blue ?y)) (exists (?x) (and (red ?x) (on ?x ?y)))))\n",
      "bw 0.15\n",
      "problem34.pddl reward: -20\n",
      "Parsing domain blocks-domain.pddl\n",
      "Parsing problem bijection/problem35.pddl\n",
      "problem35.pddl reward: -10\n",
      "Parsing domain blocks-domain.pddl\n",
      "Parsing problem bijection/problem36.pddl\n"
     ]
    },
    {
     "name": "stderr",
     "output_type": "stream",
     "text": [
      "T: no, put red blocks on blue blocks\n"
     ]
    },
    {
     "name": "stdout",
     "output_type": "stream",
     "text": [
      "(forall (?x) (or (not (red ?x)) (exists (?y) (and (blue ?y) (on ?x ?y)))))\n",
      "bw 0.15\n"
     ]
    },
    {
     "name": "stderr",
     "output_type": "stream",
     "text": [
      "T: no, put red blocks on blue blocks\n"
     ]
    },
    {
     "name": "stdout",
     "output_type": "stream",
     "text": [
      "(forall (?x) (or (not (red ?x)) (exists (?y) (and (blue ?y) (on ?x ?y)))))\n"
     ]
    },
    {
     "name": "stderr",
     "output_type": "stream",
     "text": [
      "T: no, put red blocks on blue blocks\n"
     ]
    },
    {
     "name": "stdout",
     "output_type": "stream",
     "text": [
      "(forall (?x) (or (not (red ?x)) (exists (?y) (and (blue ?y) (on ?x ?y)))))\n"
     ]
    },
    {
     "name": "stderr",
     "output_type": "stream",
     "text": [
      "T: no, put red blocks on blue blocks\n"
     ]
    },
    {
     "name": "stdout",
     "output_type": "stream",
     "text": [
      "(forall (?x) (or (not (red ?x)) (exists (?y) (and (blue ?y) (on ?x ?y)))))\n"
     ]
    },
    {
     "name": "stderr",
     "output_type": "stream",
     "text": [
      "T: no, put red blocks on blue blocks\n"
     ]
    },
    {
     "name": "stdout",
     "output_type": "stream",
     "text": [
      "(forall (?x) (or (not (red ?x)) (exists (?y) (and (blue ?y) (on ?x ?y)))))\n",
      "problem36.pddl reward: -20\n",
      "Parsing domain blocks-domain.pddl\n",
      "Parsing problem bijection/problem37.pddl\n"
     ]
    },
    {
     "name": "stderr",
     "output_type": "stream",
     "text": [
      "T: no, put red blocks on blue blocks\n"
     ]
    },
    {
     "name": "stdout",
     "output_type": "stream",
     "text": [
      "(forall (?y) (or (not (blue ?y)) (exists (?x) (and (red ?x) (on ?x ?y)))))\n",
      "bw 0.15\n",
      "bw 0.15\n"
     ]
    },
    {
     "name": "stderr",
     "output_type": "stream",
     "text": [
      "T: no, put red blocks on blue blocks\n"
     ]
    },
    {
     "name": "stdout",
     "output_type": "stream",
     "text": [
      "(forall (?y) (or (not (blue ?y)) (exists (?x) (and (red ?x) (on ?x ?y)))))\n",
      "bw 0.15\n"
     ]
    },
    {
     "name": "stderr",
     "output_type": "stream",
     "text": [
      "T: no, put red blocks on blue blocks\n"
     ]
    },
    {
     "name": "stdout",
     "output_type": "stream",
     "text": [
      "(forall (?y) (or (not (blue ?y)) (exists (?x) (and (red ?x) (on ?x ?y)))))\n",
      "bw 0.15\n",
      "problem37.pddl reward: -16\n",
      "Parsing domain blocks-domain.pddl\n",
      "Parsing problem bijection/problem38.pddl\n"
     ]
    },
    {
     "name": "stderr",
     "output_type": "stream",
     "text": [
      "T: no, put red blocks on blue blocks\n"
     ]
    },
    {
     "name": "stdout",
     "output_type": "stream",
     "text": [
      "(forall (?x) (or (not (red ?x)) (exists (?y) (and (blue ?y) (on ?x ?y)))))\n",
      "bw 0.15\n",
      "bw 0.15\n"
     ]
    },
    {
     "name": "stderr",
     "output_type": "stream",
     "text": [
      "T: no, put red blocks on blue blocks\n"
     ]
    },
    {
     "name": "stdout",
     "output_type": "stream",
     "text": [
      "(forall (?x) (or (not (red ?x)) (exists (?y) (and (blue ?y) (on ?x ?y)))))\n",
      "bw 0.15\n"
     ]
    },
    {
     "name": "stderr",
     "output_type": "stream",
     "text": [
      "T: no, put red blocks on blue blocks\n"
     ]
    },
    {
     "name": "stdout",
     "output_type": "stream",
     "text": [
      "(forall (?x) (or (not (red ?x)) (exists (?y) (and (blue ?y) (on ?x ?y)))))\n",
      "bw 0.15\n"
     ]
    },
    {
     "name": "stderr",
     "output_type": "stream",
     "text": [
      "T: no, put red blocks on blue blocks\n"
     ]
    },
    {
     "name": "stdout",
     "output_type": "stream",
     "text": [
      "(forall (?x) (or (not (red ?x)) (exists (?y) (and (blue ?y) (on ?x ?y)))))\n",
      "bw 0.15\n"
     ]
    },
    {
     "name": "stderr",
     "output_type": "stream",
     "text": [
      "T: no, put red blocks on blue blocks\n"
     ]
    },
    {
     "name": "stdout",
     "output_type": "stream",
     "text": [
      "(forall (?x) (or (not (red ?x)) (exists (?y) (and (blue ?y) (on ?x ?y)))))\n"
     ]
    },
    {
     "name": "stderr",
     "output_type": "stream",
     "text": [
      "T: no, put red blocks on blue blocks\n"
     ]
    },
    {
     "name": "stdout",
     "output_type": "stream",
     "text": [
      "(forall (?x) (or (not (red ?x)) (exists (?y) (and (blue ?y) (on ?x ?y)))))\n",
      "bw 0.15\n"
     ]
    },
    {
     "name": "stderr",
     "output_type": "stream",
     "text": [
      "T: no, put red blocks on blue blocks\n"
     ]
    },
    {
     "name": "stdout",
     "output_type": "stream",
     "text": [
      "(forall (?x) (or (not (red ?x)) (exists (?y) (and (blue ?y) (on ?x ?y)))))\n"
     ]
    },
    {
     "name": "stderr",
     "output_type": "stream",
     "text": [
      "T: no, put red blocks on blue blocks\n"
     ]
    },
    {
     "name": "stdout",
     "output_type": "stream",
     "text": [
      "(forall (?x) (or (not (red ?x)) (exists (?y) (and (blue ?y) (on ?x ?y)))))\n"
     ]
    },
    {
     "name": "stderr",
     "output_type": "stream",
     "text": [
      "T: no, put red blocks on blue blocks\n"
     ]
    },
    {
     "name": "stdout",
     "output_type": "stream",
     "text": [
      "(forall (?x) (or (not (red ?x)) (exists (?y) (and (blue ?y) (on ?x ?y)))))\n",
      "problem38.pddl reward: -28\n",
      "Parsing domain blocks-domain.pddl\n",
      "Parsing problem bijection/problem39.pddl\n"
     ]
    },
    {
     "name": "stderr",
     "output_type": "stream",
     "text": [
      "T: no, put red blocks on blue blocks\n"
     ]
    },
    {
     "name": "stdout",
     "output_type": "stream",
     "text": [
      "(forall (?y) (or (not (blue ?y)) (exists (?x) (and (red ?x) (on ?x ?y)))))\n"
     ]
    },
    {
     "name": "stderr",
     "output_type": "stream",
     "text": [
      "R: Is the top object red?\n",
      "T: no\n"
     ]
    },
    {
     "name": "stdout",
     "output_type": "stream",
     "text": [
      "bw 0.15\n"
     ]
    },
    {
     "name": "stderr",
     "output_type": "stream",
     "text": [
      "T: no, put red blocks on blue blocks\n"
     ]
    },
    {
     "name": "stdout",
     "output_type": "stream",
     "text": [
      "(forall (?y) (or (not (blue ?y)) (exists (?x) (and (red ?x) (on ?x ?y)))))\n"
     ]
    },
    {
     "name": "stderr",
     "output_type": "stream",
     "text": [
      "T: no, put red blocks on blue blocks\n"
     ]
    },
    {
     "name": "stdout",
     "output_type": "stream",
     "text": [
      "(forall (?y) (or (not (blue ?y)) (exists (?x) (and (red ?x) (on ?x ?y)))))\n"
     ]
    },
    {
     "name": "stderr",
     "output_type": "stream",
     "text": [
      "T: no, put red blocks on blue blocks\n"
     ]
    },
    {
     "name": "stdout",
     "output_type": "stream",
     "text": [
      "(forall (?y) (or (not (blue ?y)) (exists (?x) (and (red ?x) (on ?x ?y)))))\n"
     ]
    },
    {
     "name": "stderr",
     "output_type": "stream",
     "text": [
      "T: no, put red blocks on blue blocks\n"
     ]
    },
    {
     "name": "stdout",
     "output_type": "stream",
     "text": [
      "(forall (?y) (or (not (blue ?y)) (exists (?x) (and (red ?x) (on ?x ?y)))))\n",
      "problem39.pddl reward: -20\n",
      "Parsing domain blocks-domain.pddl\n",
      "Parsing problem bijection/problem4.pddl\n"
     ]
    },
    {
     "name": "stderr",
     "output_type": "stream",
     "text": [
      "T: no, put red blocks on blue blocks\n"
     ]
    },
    {
     "name": "stdout",
     "output_type": "stream",
     "text": [
      "(forall (?x) (or (not (red ?x)) (exists (?y) (and (blue ?y) (on ?x ?y)))))\n",
      "bw 0.15\n",
      "bw 0.15\n",
      "problem4.pddl reward: -12\n",
      "Parsing domain blocks-domain.pddl\n",
      "Parsing problem bijection/problem40.pddl\n"
     ]
    },
    {
     "name": "stderr",
     "output_type": "stream",
     "text": [
      "T: no, put red blocks on blue blocks\n"
     ]
    },
    {
     "name": "stdout",
     "output_type": "stream",
     "text": [
      "(forall (?y) (or (not (blue ?y)) (exists (?x) (and (red ?x) (on ?x ?y)))))\n",
      "bw 0.15\n",
      "bw 0.15\n"
     ]
    },
    {
     "name": "stderr",
     "output_type": "stream",
     "text": [
      "T: no, put red blocks on blue blocks\n"
     ]
    },
    {
     "name": "stdout",
     "output_type": "stream",
     "text": [
      "(forall (?x) (or (not (red ?x)) (exists (?y) (and (blue ?y) (on ?x ?y)))))\n",
      "bw 0.15\n",
      "bw 0.15\n"
     ]
    },
    {
     "name": "stderr",
     "output_type": "stream",
     "text": [
      "T: no, put red blocks on blue blocks\n"
     ]
    },
    {
     "name": "stdout",
     "output_type": "stream",
     "text": [
      "(forall (?x) (or (not (red ?x)) (exists (?y) (and (blue ?y) (on ?x ?y)))))\n",
      "bw 0.15\n"
     ]
    },
    {
     "name": "stderr",
     "output_type": "stream",
     "text": [
      "T: no, put red blocks on blue blocks\n"
     ]
    },
    {
     "name": "stdout",
     "output_type": "stream",
     "text": [
      "(forall (?x) (or (not (red ?x)) (exists (?y) (and (blue ?y) (on ?x ?y)))))\n"
     ]
    },
    {
     "name": "stderr",
     "output_type": "stream",
     "text": [
      "T: no, put red blocks on blue blocks\n"
     ]
    },
    {
     "name": "stdout",
     "output_type": "stream",
     "text": [
      "(forall (?x) (or (not (red ?x)) (exists (?y) (and (blue ?y) (on ?x ?y)))))\n",
      "bw 0.15\n",
      "problem40.pddl reward: -20\n",
      "Parsing domain blocks-domain.pddl\n",
      "Parsing problem bijection/problem41.pddl\n"
     ]
    },
    {
     "name": "stderr",
     "output_type": "stream",
     "text": [
      "T: no, put red blocks on blue blocks\n"
     ]
    },
    {
     "name": "stdout",
     "output_type": "stream",
     "text": [
      "(forall (?y) (or (not (blue ?y)) (exists (?x) (and (red ?x) (on ?x ?y)))))\n",
      "bw 0.15\n",
      "bw 0.15\n"
     ]
    },
    {
     "name": "stderr",
     "output_type": "stream",
     "text": [
      "T: no, put red blocks on blue blocks\n"
     ]
    },
    {
     "name": "stdout",
     "output_type": "stream",
     "text": [
      "(forall (?y) (or (not (blue ?y)) (exists (?x) (and (red ?x) (on ?x ?y)))))\n",
      "bw 0.15\n",
      "problem41.pddl reward: -14\n",
      "Parsing domain blocks-domain.pddl\n",
      "Parsing problem bijection/problem42.pddl\n",
      "problem42.pddl reward: -10\n",
      "Parsing domain blocks-domain.pddl\n",
      "Parsing problem bijection/problem43.pddl\n"
     ]
    },
    {
     "name": "stderr",
     "output_type": "stream",
     "text": [
      "T: no, put red blocks on blue blocks\n"
     ]
    },
    {
     "name": "stdout",
     "output_type": "stream",
     "text": [
      "(forall (?x) (or (not (red ?x)) (exists (?y) (and (blue ?y) (on ?x ?y)))))\n",
      "bw 0.15\n",
      "bw 0.15\n"
     ]
    },
    {
     "name": "stderr",
     "output_type": "stream",
     "text": [
      "T: no, put red blocks on blue blocks\n"
     ]
    },
    {
     "name": "stdout",
     "output_type": "stream",
     "text": [
      "(forall (?x) (or (not (red ?x)) (exists (?y) (and (blue ?y) (on ?x ?y)))))\n",
      "bw 0.15\n"
     ]
    },
    {
     "name": "stderr",
     "output_type": "stream",
     "text": [
      "T: no, put red blocks on blue blocks\n"
     ]
    },
    {
     "name": "stdout",
     "output_type": "stream",
     "text": [
      "(forall (?x) (or (not (red ?x)) (exists (?y) (and (blue ?y) (on ?x ?y)))))\n",
      "bw 0.15\n",
      "problem43.pddl reward: -16\n",
      "Parsing domain blocks-domain.pddl\n",
      "Parsing problem bijection/problem44.pddl\n"
     ]
    },
    {
     "name": "stderr",
     "output_type": "stream",
     "text": [
      "T: no, put red blocks on blue blocks\n"
     ]
    },
    {
     "name": "stdout",
     "output_type": "stream",
     "text": [
      "(forall (?y) (or (not (blue ?y)) (exists (?x) (and (red ?x) (on ?x ?y)))))\n",
      "bw 0.15\n",
      "bw 0.15\n"
     ]
    },
    {
     "name": "stderr",
     "output_type": "stream",
     "text": [
      "T: no, put red blocks on blue blocks\n"
     ]
    },
    {
     "name": "stdout",
     "output_type": "stream",
     "text": [
      "(forall (?y) (or (not (blue ?y)) (exists (?x) (and (red ?x) (on ?x ?y)))))\n",
      "bw 0.15\n"
     ]
    },
    {
     "name": "stderr",
     "output_type": "stream",
     "text": [
      "T: no, put red blocks on blue blocks\n"
     ]
    },
    {
     "name": "stdout",
     "output_type": "stream",
     "text": [
      "(forall (?y) (or (not (blue ?y)) (exists (?x) (and (red ?x) (on ?x ?y)))))\n",
      "bw 0.15\n"
     ]
    },
    {
     "name": "stderr",
     "output_type": "stream",
     "text": [
      "T: no, put red blocks on blue blocks\n"
     ]
    },
    {
     "name": "stdout",
     "output_type": "stream",
     "text": [
      "(forall (?y) (or (not (blue ?y)) (exists (?x) (and (red ?x) (on ?x ?y)))))\n",
      "bw 0.15\n"
     ]
    },
    {
     "name": "stderr",
     "output_type": "stream",
     "text": [
      "T: no, put red blocks on blue blocks\n"
     ]
    },
    {
     "name": "stdout",
     "output_type": "stream",
     "text": [
      "(forall (?y) (or (not (blue ?y)) (exists (?x) (and (red ?x) (on ?x ?y)))))\n",
      "bw 0.15\n"
     ]
    },
    {
     "name": "stderr",
     "output_type": "stream",
     "text": [
      "T: no, put red blocks on blue blocks\n"
     ]
    },
    {
     "name": "stdout",
     "output_type": "stream",
     "text": [
      "(forall (?y) (or (not (blue ?y)) (exists (?x) (and (red ?x) (on ?x ?y)))))\n",
      "bw 0.15\n"
     ]
    },
    {
     "name": "stderr",
     "output_type": "stream",
     "text": [
      "T: no, put red blocks on blue blocks\n"
     ]
    },
    {
     "name": "stdout",
     "output_type": "stream",
     "text": [
      "(forall (?y) (or (not (blue ?y)) (exists (?x) (and (red ?x) (on ?x ?y)))))\n",
      "bw 0.15\n"
     ]
    },
    {
     "name": "stderr",
     "output_type": "stream",
     "text": [
      "T: no, put red blocks on blue blocks\n"
     ]
    },
    {
     "name": "stdout",
     "output_type": "stream",
     "text": [
      "(forall (?y) (or (not (blue ?y)) (exists (?x) (and (red ?x) (on ?x ?y)))))\n",
      "bw 0.15\n",
      "problem44.pddl reward: -26\n",
      "Parsing domain blocks-domain.pddl\n",
      "Parsing problem bijection/problem45.pddl\n"
     ]
    },
    {
     "name": "stderr",
     "output_type": "stream",
     "text": [
      "T: no, put red blocks on blue blocks\n"
     ]
    },
    {
     "name": "stdout",
     "output_type": "stream",
     "text": [
      "(forall (?y) (or (not (blue ?y)) (exists (?x) (and (red ?x) (on ?x ?y)))))\n",
      "bw 0.15\n",
      "bw 0.15\n"
     ]
    },
    {
     "name": "stderr",
     "output_type": "stream",
     "text": [
      "T: no, put red blocks on blue blocks\n"
     ]
    },
    {
     "name": "stdout",
     "output_type": "stream",
     "text": [
      "(forall (?x) (or (not (red ?x)) (exists (?y) (and (blue ?y) (on ?x ?y)))))\n",
      "bw 0.15\n"
     ]
    },
    {
     "name": "stderr",
     "output_type": "stream",
     "text": [
      "T: no, put red blocks on blue blocks\n"
     ]
    },
    {
     "name": "stdout",
     "output_type": "stream",
     "text": [
      "(forall (?x) (or (not (red ?x)) (exists (?y) (and (blue ?y) (on ?x ?y)))))\n",
      "bw 0.15\n"
     ]
    },
    {
     "name": "stderr",
     "output_type": "stream",
     "text": [
      "T: no, put red blocks on blue blocks\n"
     ]
    },
    {
     "name": "stdout",
     "output_type": "stream",
     "text": [
      "(forall (?x) (or (not (red ?x)) (exists (?y) (and (blue ?y) (on ?x ?y)))))\n",
      "bw 0.15\n"
     ]
    },
    {
     "name": "stderr",
     "output_type": "stream",
     "text": [
      "T: no, put red blocks on blue blocks\n"
     ]
    },
    {
     "name": "stdout",
     "output_type": "stream",
     "text": [
      "(forall (?x) (or (not (red ?x)) (exists (?y) (and (blue ?y) (on ?x ?y)))))\n",
      "bw 0.15\n",
      "problem45.pddl reward: -20\n",
      "Parsing domain blocks-domain.pddl\n",
      "Parsing problem bijection/problem46.pddl\n"
     ]
    },
    {
     "name": "stderr",
     "output_type": "stream",
     "text": [
      "T: no, put red blocks on blue blocks\n"
     ]
    },
    {
     "name": "stdout",
     "output_type": "stream",
     "text": [
      "(forall (?y) (or (not (blue ?y)) (exists (?x) (and (red ?x) (on ?x ?y)))))\n",
      "bw 0.15\n",
      "bw 0.15\n"
     ]
    },
    {
     "name": "stderr",
     "output_type": "stream",
     "text": [
      "T: no, put red blocks on blue blocks\n"
     ]
    },
    {
     "name": "stdout",
     "output_type": "stream",
     "text": [
      "(forall (?y) (or (not (blue ?y)) (exists (?x) (and (red ?x) (on ?x ?y)))))\n",
      "bw 0.15\n"
     ]
    },
    {
     "name": "stderr",
     "output_type": "stream",
     "text": [
      "T: no, put red blocks on blue blocks\n"
     ]
    },
    {
     "name": "stdout",
     "output_type": "stream",
     "text": [
      "(forall (?y) (or (not (blue ?y)) (exists (?x) (and (red ?x) (on ?x ?y)))))\n",
      "bw 0.15\n"
     ]
    },
    {
     "name": "stderr",
     "output_type": "stream",
     "text": [
      "T: no, put red blocks on blue blocks\n"
     ]
    },
    {
     "name": "stdout",
     "output_type": "stream",
     "text": [
      "(forall (?y) (or (not (blue ?y)) (exists (?x) (and (red ?x) (on ?x ?y)))))\n",
      "bw 0.15\n"
     ]
    },
    {
     "name": "stderr",
     "output_type": "stream",
     "text": [
      "T: no, put red blocks on blue blocks\n"
     ]
    },
    {
     "name": "stdout",
     "output_type": "stream",
     "text": [
      "(forall (?y) (or (not (blue ?y)) (exists (?x) (and (red ?x) (on ?x ?y)))))\n",
      "bw 0.15\n",
      "problem46.pddl reward: -20\n",
      "Parsing domain blocks-domain.pddl\n",
      "Parsing problem bijection/problem47.pddl\n"
     ]
    },
    {
     "name": "stderr",
     "output_type": "stream",
     "text": [
      "T: no, put red blocks on blue blocks\n"
     ]
    },
    {
     "name": "stdout",
     "output_type": "stream",
     "text": [
      "(forall (?x) (or (not (red ?x)) (exists (?y) (and (blue ?y) (on ?x ?y)))))\n",
      "bw 0.15\n",
      "bw 0.15\n"
     ]
    },
    {
     "name": "stderr",
     "output_type": "stream",
     "text": [
      "T: no, put red blocks on blue blocks\n"
     ]
    },
    {
     "name": "stdout",
     "output_type": "stream",
     "text": [
      "(forall (?x) (or (not (red ?x)) (exists (?y) (and (blue ?y) (on ?x ?y)))))\n",
      "bw 0.15\n"
     ]
    },
    {
     "name": "stderr",
     "output_type": "stream",
     "text": [
      "T: no, put red blocks on blue blocks\n"
     ]
    },
    {
     "name": "stdout",
     "output_type": "stream",
     "text": [
      "(forall (?x) (or (not (red ?x)) (exists (?y) (and (blue ?y) (on ?x ?y)))))\n",
      "bw 0.15\n",
      "problem47.pddl reward: -16\n",
      "Parsing domain blocks-domain.pddl\n",
      "Parsing problem bijection/problem48.pddl\n"
     ]
    },
    {
     "name": "stderr",
     "output_type": "stream",
     "text": [
      "T: no, put red blocks on blue blocks\n"
     ]
    },
    {
     "name": "stdout",
     "output_type": "stream",
     "text": [
      "(forall (?x) (or (not (red ?x)) (exists (?y) (and (blue ?y) (on ?x ?y)))))\n",
      "bw 0.15\n",
      "bw 0.15\n",
      "problem48.pddl reward: -12\n",
      "Parsing domain blocks-domain.pddl\n",
      "Parsing problem bijection/problem49.pddl\n",
      "problem49.pddl reward: -10\n",
      "Parsing domain blocks-domain.pddl\n",
      "Parsing problem bijection/problem5.pddl\n"
     ]
    },
    {
     "name": "stderr",
     "output_type": "stream",
     "text": [
      "T: no, put red blocks on blue blocks\n"
     ]
    },
    {
     "name": "stdout",
     "output_type": "stream",
     "text": [
      "(forall (?y) (or (not (blue ?y)) (exists (?x) (and (red ?x) (on ?x ?y)))))\n",
      "bw 0.15\n",
      "bw 0.15\n"
     ]
    },
    {
     "name": "stderr",
     "output_type": "stream",
     "text": [
      "T: no, put red blocks on blue blocks\n"
     ]
    },
    {
     "name": "stdout",
     "output_type": "stream",
     "text": [
      "(forall (?y) (or (not (blue ?y)) (exists (?x) (and (red ?x) (on ?x ?y)))))\n",
      "bw 0.15\n",
      "problem5.pddl reward: -14\n",
      "Parsing domain blocks-domain.pddl\n",
      "Parsing problem bijection/problem50.pddl\n"
     ]
    },
    {
     "name": "stderr",
     "output_type": "stream",
     "text": [
      "T: no, put red blocks on blue blocks\n"
     ]
    },
    {
     "name": "stdout",
     "output_type": "stream",
     "text": [
      "(forall (?y) (or (not (blue ?y)) (exists (?x) (and (red ?x) (on ?x ?y)))))\n",
      "bw 0.15\n",
      "bw 0.15\n",
      "problem50.pddl reward: -12\n",
      "Parsing domain blocks-domain.pddl\n",
      "Parsing problem bijection/problem6.pddl\n"
     ]
    },
    {
     "name": "stderr",
     "output_type": "stream",
     "text": [
      "T: no, put red blocks on blue blocks\n"
     ]
    },
    {
     "name": "stdout",
     "output_type": "stream",
     "text": [
      "(forall (?y) (or (not (blue ?y)) (exists (?x) (and (red ?x) (on ?x ?y)))))\n",
      "bw 0.15\n",
      "bw 0.15\n"
     ]
    },
    {
     "name": "stderr",
     "output_type": "stream",
     "text": [
      "T: no, put red blocks on blue blocks\n"
     ]
    },
    {
     "name": "stdout",
     "output_type": "stream",
     "text": [
      "(forall (?y) (or (not (blue ?y)) (exists (?x) (and (red ?x) (on ?x ?y)))))\n",
      "bw 0.15\n"
     ]
    },
    {
     "name": "stderr",
     "output_type": "stream",
     "text": [
      "T: no, put red blocks on blue blocks\n"
     ]
    },
    {
     "name": "stdout",
     "output_type": "stream",
     "text": [
      "(forall (?y) (or (not (blue ?y)) (exists (?x) (and (red ?x) (on ?x ?y)))))\n",
      "bw 0.15\n",
      "problem6.pddl reward: -16\n",
      "Parsing domain blocks-domain.pddl\n",
      "Parsing problem bijection/problem7.pddl\n"
     ]
    },
    {
     "name": "stderr",
     "output_type": "stream",
     "text": [
      "T: no, put red blocks on blue blocks\n"
     ]
    },
    {
     "name": "stdout",
     "output_type": "stream",
     "text": [
      "(forall (?y) (or (not (blue ?y)) (exists (?x) (and (red ?x) (on ?x ?y)))))\n",
      "bw 0.15\n",
      "bw 0.15\n"
     ]
    },
    {
     "name": "stderr",
     "output_type": "stream",
     "text": [
      "T: no, put red blocks on blue blocks\n"
     ]
    },
    {
     "name": "stdout",
     "output_type": "stream",
     "text": [
      "(forall (?y) (or (not (blue ?y)) (exists (?x) (and (red ?x) (on ?x ?y)))))\n",
      "bw 0.15\n"
     ]
    },
    {
     "name": "stderr",
     "output_type": "stream",
     "text": [
      "T: no, put red blocks on blue blocks\n"
     ]
    },
    {
     "name": "stdout",
     "output_type": "stream",
     "text": [
      "(forall (?y) (or (not (blue ?y)) (exists (?x) (and (red ?x) (on ?x ?y)))))\n",
      "bw 0.15\n"
     ]
    },
    {
     "name": "stderr",
     "output_type": "stream",
     "text": [
      "T: no, put red blocks on blue blocks\n"
     ]
    },
    {
     "name": "stdout",
     "output_type": "stream",
     "text": [
      "(forall (?y) (or (not (blue ?y)) (exists (?x) (and (red ?x) (on ?x ?y)))))\n",
      "bw 0.15\n",
      "problem7.pddl reward: -18\n",
      "Parsing domain blocks-domain.pddl\n",
      "Parsing problem bijection/problem8.pddl\n"
     ]
    },
    {
     "name": "stderr",
     "output_type": "stream",
     "text": [
      "T: no, put red blocks on blue blocks\n"
     ]
    },
    {
     "name": "stdout",
     "output_type": "stream",
     "text": [
      "(forall (?x) (or (not (red ?x)) (exists (?y) (and (blue ?y) (on ?x ?y)))))\n",
      "bw 0.15\n",
      "bw 0.15\n"
     ]
    },
    {
     "name": "stderr",
     "output_type": "stream",
     "text": [
      "T: no, put red blocks on blue blocks\n"
     ]
    },
    {
     "name": "stdout",
     "output_type": "stream",
     "text": [
      "(forall (?x) (or (not (red ?x)) (exists (?y) (and (blue ?y) (on ?x ?y)))))\n",
      "bw 0.15\n"
     ]
    },
    {
     "name": "stderr",
     "output_type": "stream",
     "text": [
      "T: no, put red blocks on blue blocks\n"
     ]
    },
    {
     "name": "stdout",
     "output_type": "stream",
     "text": [
      "(forall (?x) (or (not (red ?x)) (exists (?y) (and (blue ?y) (on ?x ?y)))))\n",
      "bw 0.15\n",
      "problem8.pddl reward: -16\n",
      "Parsing domain blocks-domain.pddl\n",
      "Parsing problem bijection/problem9.pddl\n"
     ]
    },
    {
     "name": "stderr",
     "output_type": "stream",
     "text": [
      "T: no, put red blocks on blue blocks\n"
     ]
    },
    {
     "name": "stdout",
     "output_type": "stream",
     "text": [
      "(forall (?x) (or (not (red ?x)) (exists (?y) (and (blue ?y) (on ?x ?y)))))\n",
      "bw 0.15\n",
      "bw 0.15\n"
     ]
    },
    {
     "name": "stderr",
     "output_type": "stream",
     "text": [
      "T: no, put red blocks on blue blocks\n"
     ]
    },
    {
     "name": "stdout",
     "output_type": "stream",
     "text": [
      "(forall (?x) (or (not (red ?x)) (exists (?y) (and (blue ?y) (on ?x ?y)))))\n",
      "bw 0.15\n"
     ]
    },
    {
     "name": "stderr",
     "output_type": "stream",
     "text": [
      "T: no, put red blocks on blue blocks\n"
     ]
    },
    {
     "name": "stdout",
     "output_type": "stream",
     "text": [
      "(forall (?x) (or (not (red ?x)) (exists (?y) (and (blue ?y) (on ?x ?y)))))\n",
      "bw 0.15\n"
     ]
    },
    {
     "name": "stderr",
     "output_type": "stream",
     "text": [
      "T: no, put red blocks on blue blocks\n"
     ]
    },
    {
     "name": "stdout",
     "output_type": "stream",
     "text": [
      "(forall (?x) (or (not (red ?x)) (exists (?y) (and (blue ?y) (on ?x ?y)))))\n"
     ]
    },
    {
     "name": "stderr",
     "output_type": "stream",
     "text": [
      "T: no, put red blocks on blue blocks\n"
     ]
    },
    {
     "name": "stdout",
     "output_type": "stream",
     "text": [
      "(forall (?x) (or (not (red ?x)) (exists (?y) (and (blue ?y) (on ?x ?y)))))\n"
     ]
    },
    {
     "name": "stderr",
     "output_type": "stream",
     "text": [
      "T: no, put red blocks on blue blocks\n"
     ]
    },
    {
     "name": "stdout",
     "output_type": "stream",
     "text": [
      "(forall (?x) (or (not (red ?x)) (exists (?y) (and (blue ?y) (on ?x ?y)))))\n"
     ]
    },
    {
     "name": "stderr",
     "output_type": "stream",
     "text": [
      "T: no, put red blocks on blue blocks\n"
     ]
    },
    {
     "name": "stdout",
     "output_type": "stream",
     "text": [
      "(forall (?x) (or (not (red ?x)) (exists (?y) (and (blue ?y) (on ?x ?y)))))\n",
      "problem9.pddl reward: -24\n"
     ]
    }
   ],
   "source": [
    "add_experiment('bijection_kde', None)"
   ]
  },
  {
   "cell_type": "code",
   "execution_count": 19,
   "metadata": {},
   "outputs": [
    {
     "name": "stderr",
     "output_type": "stream",
     "text": [
      "T: no, put red blocks on blue blocks\n"
     ]
    },
    {
     "name": "stdout",
     "output_type": "stream",
     "text": [
      "Parsing domain blocks-domain.pddl\n",
      "Parsing problem bijection/problem1.pddl\n",
      "Parsing domain blocks-domain.pddl\n",
      "Parsing problem bijection/problem1.pddl\n",
      "(forall (?x) (or (not (red ?x)) (exists (?y) (and (blue ?y) (on ?x ?y)))))\n",
      "bw 1.0\n",
      "(forall (?x) (or (not (red ?x)) (exists (?y) (and (blue ?y) (on ?x ?y)))))"
     ]
    },
    {
     "name": "stderr",
     "output_type": "stream",
     "text": [
      "T: no, put red blocks on blue blocks\n",
      "T: no, put red blocks on blue blocks\n"
     ]
    },
    {
     "name": "stdout",
     "output_type": "stream",
     "text": [
      "\n",
      "bw 1.0\n",
      "(forall (?x) (or (not (red ?x)) (exists (?y) (and (blue ?y) (on ?x ?y)))))\n",
      "bw 0.5\n",
      "problem1.pddl reward: -16\n",
      "Parsing domain blocks-domain.pddl\n",
      "Parsing problem bijection/problem10.pddl\n"
     ]
    },
    {
     "name": "stderr",
     "output_type": "stream",
     "text": [
      "T: no, put red blocks on blue blocks\n"
     ]
    },
    {
     "name": "stdout",
     "output_type": "stream",
     "text": [
      "problem10.pddl reward: -10\n",
      "Parsing domain blocks-domain.pddl\n",
      "Parsing problem bijection/problem11.pddl\n",
      "(forall (?x) (or (not (red ?x)) (exists (?y) (and (blue ?y) (on ?x ?y)))))\n",
      "bw 0.5\n"
     ]
    },
    {
     "name": "stderr",
     "output_type": "stream",
     "text": [
      "T: no, put red blocks on blue blocks\n"
     ]
    },
    {
     "name": "stdout",
     "output_type": "stream",
     "text": [
      "(forall (?x) (or (not (red ?x)) (exists (?y) (and (blue ?y) (on ?x ?y)))))\n",
      "bw 0.3333333333333333\n",
      "problem11.pddl reward: -14\n",
      "Parsing domain blocks-domain.pddl\n",
      "Parsing problem bijection/problem12.pddl\n",
      "problem12.pddl reward: -10\n",
      "Parsing domain blocks-domain.pddl\n",
      "Parsing problem bijection/problem13.pddl\n",
      "problem13.pddl reward: -10\n",
      "Parsing domain blocks-domain.pddl\n",
      "Parsing problem bijection/problem14.pddl\n",
      "problem14.pddl reward: -10\n",
      "Parsing domain blocks-domain.pddl\n",
      "Parsing problem bijection/problem15.pddl\n",
      "problem15.pddl reward: -10\n",
      "Parsing domain blocks-domain.pddl\n",
      "Parsing problem bijection/problem16.pddl\n"
     ]
    },
    {
     "name": "stderr",
     "output_type": "stream",
     "text": [
      "T: no, put red blocks on blue blocks\n"
     ]
    },
    {
     "name": "stdout",
     "output_type": "stream",
     "text": [
      "(forall (?y) (or (not (blue ?y)) (exists (?x) (and (red ?x) (on ?x ?y)))))\n",
      "bw 0.3333333333333333\n",
      "bw 1.0\n",
      "bw 1.0\n",
      "bw 0.25\n"
     ]
    },
    {
     "name": "stderr",
     "output_type": "stream",
     "text": [
      "T: no, put red blocks on blue blocks\n"
     ]
    },
    {
     "name": "stdout",
     "output_type": "stream",
     "text": [
      "(forall (?y) (or (not (blue ?y)) (exists (?x) (and (red ?x) (on ?x ?y)))))\n",
      "bw 0.25\n",
      "bw 0.5\n"
     ]
    },
    {
     "name": "stderr",
     "output_type": "stream",
     "text": [
      "T: no, put red blocks on blue blocks\n"
     ]
    },
    {
     "name": "stdout",
     "output_type": "stream",
     "text": [
      "(forall (?y) (or (not (blue ?y)) (exists (?x) (and (red ?x) (on ?x ?y)))))\n",
      "bw 0.2\n",
      "bw 0.3333333333333333\n"
     ]
    },
    {
     "name": "stderr",
     "output_type": "stream",
     "text": [
      "T: no, put red blocks on blue blocks\n"
     ]
    },
    {
     "name": "stdout",
     "output_type": "stream",
     "text": [
      "(forall (?y) (or (not (blue ?y)) (exists (?x) (and (red ?x) (on ?x ?y)))))\n",
      "bw 0.16666666666666666\n",
      "bw 0.25\n"
     ]
    },
    {
     "name": "stderr",
     "output_type": "stream",
     "text": [
      "T: no, put red blocks on blue blocks\n"
     ]
    },
    {
     "name": "stdout",
     "output_type": "stream",
     "text": [
      "(forall (?y) (or (not (blue ?y)) (exists (?x) (and (red ?x) (on ?x ?y)))))\n",
      "bw 0.15\n",
      "bw 0.2\n"
     ]
    },
    {
     "name": "stderr",
     "output_type": "stream",
     "text": [
      "T: no, put red blocks on blue blocks\n"
     ]
    },
    {
     "name": "stdout",
     "output_type": "stream",
     "text": [
      "(forall (?y) (or (not (blue ?y)) (exists (?x) (and (red ?x) (on ?x ?y)))))\n",
      "bw 0.15\n",
      "problem16.pddl reward: -22\n",
      "Parsing domain blocks-domain.pddl\n",
      "Parsing problem bijection/problem17.pddl\n"
     ]
    },
    {
     "name": "stderr",
     "output_type": "stream",
     "text": [
      "T: no, put red blocks on blue blocks\n"
     ]
    },
    {
     "name": "stdout",
     "output_type": "stream",
     "text": [
      "(forall (?x) (or (not (red ?x)) (exists (?y) (and (blue ?y) (on ?x ?y)))))\n",
      "bw 0.15\n"
     ]
    },
    {
     "name": "stderr",
     "output_type": "stream",
     "text": [
      "T: no, put red blocks on blue blocks\n"
     ]
    },
    {
     "name": "stdout",
     "output_type": "stream",
     "text": [
      "(forall (?x) (or (not (red ?x)) (exists (?y) (and (blue ?y) (on ?x ?y)))))\n",
      "bw 0.2\n"
     ]
    },
    {
     "name": "stderr",
     "output_type": "stream",
     "text": [
      "T: no, put red blocks on blue blocks\n"
     ]
    },
    {
     "name": "stdout",
     "output_type": "stream",
     "text": [
      "(forall (?x) (or (not (red ?x)) (exists (?y) (and (blue ?y) (on ?x ?y)))))\n",
      "bw 0.16666666666666666\n"
     ]
    },
    {
     "name": "stderr",
     "output_type": "stream",
     "text": [
      "T: no, put red blocks on blue blocks\n"
     ]
    },
    {
     "name": "stdout",
     "output_type": "stream",
     "text": [
      "(forall (?x) (or (not (red ?x)) (exists (?y) (and (blue ?y) (on ?x ?y)))))\n",
      "bw 0.15\n",
      "problem17.pddl reward: -18\n",
      "Parsing domain blocks-domain.pddl\n",
      "Parsing problem bijection/problem18.pddl\n"
     ]
    },
    {
     "name": "stderr",
     "output_type": "stream",
     "text": [
      "T: no, put red blocks on blue blocks\n"
     ]
    },
    {
     "name": "stdout",
     "output_type": "stream",
     "text": [
      "(forall (?x) (or (not (red ?x)) (exists (?y) (and (blue ?y) (on ?x ?y)))))\n",
      "bw 0.15\n",
      "bw 0.5\n",
      "bw 0.16666666666666666\n",
      "bw 0.15\n"
     ]
    },
    {
     "name": "stderr",
     "output_type": "stream",
     "text": [
      "T: no, put red blocks on blue blocks\n"
     ]
    },
    {
     "name": "stdout",
     "output_type": "stream",
     "text": [
      "(forall (?x) (or (not (red ?x)) (exists (?y) (and (blue ?y) (on ?x ?y)))))\n",
      "bw 0.3333333333333333\n",
      "bw 0.15\n"
     ]
    },
    {
     "name": "stderr",
     "output_type": "stream",
     "text": [
      "T: no, put red blocks on blue blocks\n"
     ]
    },
    {
     "name": "stdout",
     "output_type": "stream",
     "text": [
      "(forall (?x) (or (not (red ?x)) (exists (?y) (and (blue ?y) (on ?x ?y)))))\n",
      "bw 0.25\n",
      "bw 0.15\n"
     ]
    },
    {
     "name": "stderr",
     "output_type": "stream",
     "text": [
      "T: no, put red blocks on blue blocks\n"
     ]
    },
    {
     "name": "stdout",
     "output_type": "stream",
     "text": [
      "(forall (?x) (or (not (red ?x)) (exists (?y) (and (blue ?y) (on ?x ?y)))))\n",
      "bw 0.15\n"
     ]
    },
    {
     "name": "stderr",
     "output_type": "stream",
     "text": [
      "T: no, put red blocks on blue blocks\n"
     ]
    },
    {
     "name": "stdout",
     "output_type": "stream",
     "text": [
      "(forall (?x) (or (not (red ?x)) (exists (?y) (and (blue ?y) (on ?x ?y)))))\n",
      "bw 0.15\n",
      "problem18.pddl reward: -20\n",
      "Parsing domain blocks-domain.pddl\n",
      "Parsing problem bijection/problem19.pddl\n"
     ]
    },
    {
     "name": "stderr",
     "output_type": "stream",
     "text": [
      "T: no, put red blocks on blue blocks\n"
     ]
    },
    {
     "name": "stdout",
     "output_type": "stream",
     "text": [
      "(forall (?y) (or (not (blue ?y)) (exists (?x) (and (red ?x) (on ?x ?y)))))\n",
      "bw 0.15\n",
      "bw 0.2\n",
      "bw 0.15\n",
      "bw 0.15\n",
      "problem19.pddl reward: -12\n",
      "Parsing domain blocks-domain.pddl\n",
      "Parsing problem bijection/problem2.pddl\n"
     ]
    },
    {
     "name": "stderr",
     "output_type": "stream",
     "text": [
      "T: no, put red blocks on blue blocks\n"
     ]
    },
    {
     "name": "stdout",
     "output_type": "stream",
     "text": [
      "(forall (?y) (or (not (blue ?y)) (exists (?x) (and (red ?x) (on ?x ?y)))))\n",
      "bw 0.15\n",
      "bw 0.16666666666666666\n",
      "bw 0.15\n",
      "bw 0.15\n"
     ]
    },
    {
     "name": "stderr",
     "output_type": "stream",
     "text": [
      "T: no, put red blocks on blue blocks\n"
     ]
    },
    {
     "name": "stdout",
     "output_type": "stream",
     "text": [
      "(forall (?y) (or (not (blue ?y)) (exists (?x) (and (red ?x) (on ?x ?y)))))\n",
      "bw 0.15\n",
      "bw 0.15\n"
     ]
    },
    {
     "name": "stderr",
     "output_type": "stream",
     "text": [
      "T: no, put red blocks on blue blocks\n"
     ]
    },
    {
     "name": "stdout",
     "output_type": "stream",
     "text": [
      "(forall (?y) (or (not (blue ?y)) (exists (?x) (and (red ?x) (on ?x ?y)))))\n",
      "bw 0.15\n"
     ]
    },
    {
     "name": "stderr",
     "output_type": "stream",
     "text": [
      "T: no, put red blocks on blue blocks\n"
     ]
    },
    {
     "name": "stdout",
     "output_type": "stream",
     "text": [
      "(forall (?y) (or (not (blue ?y)) (exists (?x) (and (red ?x) (on ?x ?y)))))\n",
      "bw 0.15\n"
     ]
    },
    {
     "name": "stderr",
     "output_type": "stream",
     "text": [
      "T: no, put red blocks on blue blocks\n"
     ]
    },
    {
     "name": "stdout",
     "output_type": "stream",
     "text": [
      "(forall (?y) (or (not (blue ?y)) (exists (?x) (and (red ?x) (on ?x ?y)))))\n",
      "bw 0.15\n"
     ]
    },
    {
     "name": "stderr",
     "output_type": "stream",
     "text": [
      "T: no, put red blocks on blue blocks\n"
     ]
    },
    {
     "name": "stdout",
     "output_type": "stream",
     "text": [
      "(forall (?y) (or (not (blue ?y)) (exists (?x) (and (red ?x) (on ?x ?y)))))\n",
      "bw 0.15\n"
     ]
    },
    {
     "name": "stderr",
     "output_type": "stream",
     "text": [
      "T: no, put red blocks on blue blocks\n"
     ]
    },
    {
     "name": "stdout",
     "output_type": "stream",
     "text": [
      "(forall (?y) (or (not (blue ?y)) (exists (?x) (and (red ?x) (on ?x ?y)))))\n",
      "bw 0.15\n"
     ]
    },
    {
     "name": "stderr",
     "output_type": "stream",
     "text": [
      "T: no, put red blocks on blue blocks\n"
     ]
    },
    {
     "name": "stdout",
     "output_type": "stream",
     "text": [
      "(forall (?y) (or (not (blue ?y)) (exists (?x) (and (red ?x) (on ?x ?y)))))\n"
     ]
    },
    {
     "name": "stderr",
     "output_type": "stream",
     "text": [
      "T: no, put red blocks on blue blocks\n"
     ]
    },
    {
     "name": "stdout",
     "output_type": "stream",
     "text": [
      "(forall (?y) (or (not (blue ?y)) (exists (?x) (and (red ?x) (on ?x ?y)))))\n"
     ]
    },
    {
     "name": "stderr",
     "output_type": "stream",
     "text": [
      "T: no, put red blocks on blue blocks\n"
     ]
    },
    {
     "name": "stdout",
     "output_type": "stream",
     "text": [
      "(forall (?y) (or (not (blue ?y)) (exists (?x) (and (red ?x) (on ?x ?y)))))\n"
     ]
    },
    {
     "name": "stderr",
     "output_type": "stream",
     "text": [
      "T: no, put red blocks on blue blocks\n"
     ]
    },
    {
     "name": "stdout",
     "output_type": "stream",
     "text": [
      "(forall (?y) (or (not (blue ?y)) (exists (?x) (and (red ?x) (on ?x ?y)))))\n"
     ]
    },
    {
     "name": "stderr",
     "output_type": "stream",
     "text": [
      "T: no, put red blocks on blue blocks\n"
     ]
    },
    {
     "name": "stdout",
     "output_type": "stream",
     "text": [
      "(forall (?y) (or (not (blue ?y)) (exists (?x) (and (red ?x) (on ?x ?y)))))\n",
      "problem2.pddl reward: -34\n",
      "Parsing domain blocks-domain.pddl\n",
      "Parsing problem bijection/problem20.pddl\n"
     ]
    },
    {
     "name": "stderr",
     "output_type": "stream",
     "text": [
      "T: no, put red blocks on blue blocks\n"
     ]
    },
    {
     "name": "stdout",
     "output_type": "stream",
     "text": [
      "(forall (?x) (or (not (red ?x)) (exists (?y) (and (blue ?y) (on ?x ?y)))))\n",
      "bw 0.15\n",
      "bw 0.15\n",
      "bw 0.15\n",
      "bw 0.15\n"
     ]
    },
    {
     "name": "stderr",
     "output_type": "stream",
     "text": [
      "T: no, put red blocks on blue blocks\n"
     ]
    },
    {
     "name": "stdout",
     "output_type": "stream",
     "text": [
      "(forall (?x) (or (not (red ?x)) (exists (?y) (and (blue ?y) (on ?x ?y)))))\n",
      "bw 0.15\n",
      "bw 0.15\n"
     ]
    },
    {
     "name": "stderr",
     "output_type": "stream",
     "text": [
      "T: no, put red blocks on blue blocks\n"
     ]
    },
    {
     "name": "stdout",
     "output_type": "stream",
     "text": [
      "(forall (?x) (or (not (red ?x)) (exists (?y) (and (blue ?y) (on ?x ?y)))))\n",
      "bw 0.15\n"
     ]
    },
    {
     "name": "stderr",
     "output_type": "stream",
     "text": [
      "T: no, put red blocks on blue blocks\n"
     ]
    },
    {
     "name": "stdout",
     "output_type": "stream",
     "text": [
      "(forall (?x) (or (not (red ?x)) (exists (?y) (and (blue ?y) (on ?x ?y)))))\n",
      "bw 0.15\n"
     ]
    },
    {
     "name": "stderr",
     "output_type": "stream",
     "text": [
      "T: no, put red blocks on blue blocks\n"
     ]
    },
    {
     "name": "stdout",
     "output_type": "stream",
     "text": [
      "(forall (?x) (or (not (red ?x)) (exists (?y) (and (blue ?y) (on ?x ?y)))))\n",
      "bw 0.15\n"
     ]
    },
    {
     "name": "stderr",
     "output_type": "stream",
     "text": [
      "T: no, put red blocks on blue blocks\n"
     ]
    },
    {
     "name": "stdout",
     "output_type": "stream",
     "text": [
      "(forall (?x) (or (not (red ?x)) (exists (?y) (and (blue ?y) (on ?x ?y)))))\n",
      "bw 0.15\n",
      "problem20.pddl reward: -22\n",
      "Parsing domain blocks-domain.pddl\n",
      "Parsing problem bijection/problem21.pddl\n"
     ]
    },
    {
     "name": "stderr",
     "output_type": "stream",
     "text": [
      "T: no, put red blocks on blue blocks\n"
     ]
    },
    {
     "name": "stdout",
     "output_type": "stream",
     "text": [
      "(forall (?y) (or (not (blue ?y)) (exists (?x) (and (red ?x) (on ?x ?y)))))\n",
      "bw 0.15\n",
      "bw 0.15\n",
      "bw 0.15\n",
      "bw 0.15\n"
     ]
    },
    {
     "name": "stderr",
     "output_type": "stream",
     "text": [
      "T: no, put red blocks on blue blocks\n"
     ]
    },
    {
     "name": "stdout",
     "output_type": "stream",
     "text": [
      "(forall (?y) (or (not (blue ?y)) (exists (?x) (and (red ?x) (on ?x ?y)))))\n",
      "bw 0.15\n",
      "bw 0.15\n"
     ]
    },
    {
     "name": "stderr",
     "output_type": "stream",
     "text": [
      "T: no, put red blocks on blue blocks\n"
     ]
    },
    {
     "name": "stdout",
     "output_type": "stream",
     "text": [
      "(forall (?y) (or (not (blue ?y)) (exists (?x) (and (red ?x) (on ?x ?y)))))\n",
      "bw 0.15\n",
      "bw 0.15\n"
     ]
    },
    {
     "name": "stderr",
     "output_type": "stream",
     "text": [
      "T: no, put red blocks on blue blocks\n"
     ]
    },
    {
     "name": "stdout",
     "output_type": "stream",
     "text": [
      "(forall (?y) (or (not (blue ?y)) (exists (?x) (and (red ?x) (on ?x ?y)))))\n",
      "bw 0.15\n",
      "bw 0.15\n"
     ]
    },
    {
     "name": "stderr",
     "output_type": "stream",
     "text": [
      "T: no, put red blocks on blue blocks\n"
     ]
    },
    {
     "name": "stdout",
     "output_type": "stream",
     "text": [
      "(forall (?y) (or (not (blue ?y)) (exists (?x) (and (red ?x) (on ?x ?y)))))\n",
      "bw 0.15\n",
      "problem21.pddl reward: -20\n",
      "Parsing domain blocks-domain.pddl\n",
      "Parsing problem bijection/problem22.pddl\n"
     ]
    },
    {
     "name": "stderr",
     "output_type": "stream",
     "text": [
      "T: no, put red blocks on blue blocks\n"
     ]
    },
    {
     "name": "stdout",
     "output_type": "stream",
     "text": [
      "(forall (?y) (or (not (blue ?y)) (exists (?x) (and (red ?x) (on ?x ?y)))))\n",
      "bw 0.15\n",
      "bw 0.15\n",
      "bw 0.15\n",
      "bw 0.15\n"
     ]
    },
    {
     "name": "stderr",
     "output_type": "stream",
     "text": [
      "T: no, put red blocks on blue blocks\n"
     ]
    },
    {
     "name": "stdout",
     "output_type": "stream",
     "text": [
      "(forall (?x) (or (not (red ?x)) (exists (?y) (and (blue ?y) (on ?x ?y)))))\n",
      "bw 0.15\n",
      "bw 0.15\n",
      "bw 0.15\n",
      "bw 0.15\n"
     ]
    },
    {
     "name": "stderr",
     "output_type": "stream",
     "text": [
      "T: no, put red blocks on blue blocks\n"
     ]
    },
    {
     "name": "stdout",
     "output_type": "stream",
     "text": [
      "(forall (?x) (or (not (red ?x)) (exists (?y) (and (blue ?y) (on ?x ?y)))))\n",
      "bw 0.15\n",
      "bw 0.15\n"
     ]
    },
    {
     "name": "stderr",
     "output_type": "stream",
     "text": [
      "T: no, put red blocks on blue blocks\n"
     ]
    },
    {
     "name": "stdout",
     "output_type": "stream",
     "text": [
      "(forall (?x) (or (not (red ?x)) (exists (?y) (and (blue ?y) (on ?x ?y)))))\n",
      "bw 0.15\n"
     ]
    },
    {
     "name": "stderr",
     "output_type": "stream",
     "text": [
      "T: no, put red blocks on blue blocks\n"
     ]
    },
    {
     "name": "stdout",
     "output_type": "stream",
     "text": [
      "(forall (?x) (or (not (red ?x)) (exists (?y) (and (blue ?y) (on ?x ?y)))))\n",
      "bw 0.15\n",
      "problem22.pddl reward: -20\n",
      "Parsing domain blocks-domain.pddl\n",
      "Parsing problem bijection/problem23.pddl\n"
     ]
    },
    {
     "name": "stderr",
     "output_type": "stream",
     "text": [
      "T: no, put red blocks on blue blocks\n"
     ]
    },
    {
     "name": "stdout",
     "output_type": "stream",
     "text": [
      "(forall (?x) (or (not (red ?x)) (exists (?y) (and (blue ?y) (on ?x ?y)))))\n",
      "bw 0.15\n",
      "bw 0.15\n",
      "bw 0.15\n",
      "bw 0.15\n"
     ]
    },
    {
     "name": "stderr",
     "output_type": "stream",
     "text": [
      "T: no, put red blocks on blue blocks\n"
     ]
    },
    {
     "name": "stdout",
     "output_type": "stream",
     "text": [
      "(forall (?x) (or (not (red ?x)) (exists (?y) (and (blue ?y) (on ?x ?y)))))\n",
      "bw 0.15\n",
      "bw 0.15\n",
      "problem23.pddl reward: -14\n",
      "Parsing domain blocks-domain.pddl\n",
      "Parsing problem bijection/problem24.pddl\n"
     ]
    },
    {
     "name": "stderr",
     "output_type": "stream",
     "text": [
      "T: no, put red blocks on blue blocks\n"
     ]
    },
    {
     "name": "stdout",
     "output_type": "stream",
     "text": [
      "(forall (?x) (or (not (red ?x)) (exists (?y) (and (blue ?y) (on ?x ?y)))))\n",
      "bw 0.15\n"
     ]
    },
    {
     "name": "stderr",
     "output_type": "stream",
     "text": [
      "T: no, put red blocks on blue blocks\n"
     ]
    },
    {
     "name": "stdout",
     "output_type": "stream",
     "text": [
      "(forall (?x) (or (not (red ?x)) (exists (?y) (and (blue ?y) (on ?x ?y)))))\n",
      "bw 0.15\n"
     ]
    },
    {
     "name": "stderr",
     "output_type": "stream",
     "text": [
      "T: no, put red blocks on blue blocks\n"
     ]
    },
    {
     "name": "stdout",
     "output_type": "stream",
     "text": [
      "(forall (?x) (or (not (red ?x)) (exists (?y) (and (blue ?y) (on ?x ?y)))))\n",
      "bw 0.15\n"
     ]
    },
    {
     "name": "stderr",
     "output_type": "stream",
     "text": [
      "T: no, put red blocks on blue blocks\n"
     ]
    },
    {
     "name": "stdout",
     "output_type": "stream",
     "text": [
      "(forall (?x) (or (not (red ?x)) (exists (?y) (and (blue ?y) (on ?x ?y)))))\n",
      "bw 0.15\n"
     ]
    },
    {
     "name": "stderr",
     "output_type": "stream",
     "text": [
      "T: no, put red blocks on blue blocks\n"
     ]
    },
    {
     "name": "stdout",
     "output_type": "stream",
     "text": [
      "(forall (?x) (or (not (red ?x)) (exists (?y) (and (blue ?y) (on ?x ?y)))))\n",
      "bw 0.15\n"
     ]
    },
    {
     "name": "stderr",
     "output_type": "stream",
     "text": [
      "T: no, put red blocks on blue blocks\n"
     ]
    },
    {
     "name": "stdout",
     "output_type": "stream",
     "text": [
      "(forall (?y) (or (not (blue ?y)) (exists (?x) (and (red ?x) (on ?x ?y)))))\n",
      "bw 0.15\n",
      "bw 0.15\n",
      "bw 0.15\n",
      "bw 0.15\n"
     ]
    },
    {
     "name": "stderr",
     "output_type": "stream",
     "text": [
      "T: no, put red blocks on blue blocks\n"
     ]
    },
    {
     "name": "stdout",
     "output_type": "stream",
     "text": [
      "(forall (?y) (or (not (blue ?y)) (exists (?x) (and (red ?x) (on ?x ?y)))))\n",
      "bw 0.15\n",
      "bw 0.15\n",
      "problem24.pddl reward: -24\n",
      "Parsing domain blocks-domain.pddl\n",
      "Parsing problem bijection/problem25.pddl\n"
     ]
    },
    {
     "name": "stderr",
     "output_type": "stream",
     "text": [
      "T: no, put red blocks on blue blocks\n"
     ]
    },
    {
     "name": "stdout",
     "output_type": "stream",
     "text": [
      "(forall (?y) (or (not (blue ?y)) (exists (?x) (and (red ?x) (on ?x ?y)))))\n",
      "bw 0.15\n",
      "bw 0.15\n",
      "bw 0.15\n",
      "bw 0.15\n"
     ]
    },
    {
     "name": "stderr",
     "output_type": "stream",
     "text": [
      "T: no, put red blocks on blue blocks\n"
     ]
    },
    {
     "name": "stdout",
     "output_type": "stream",
     "text": [
      "(forall (?y) (or (not (blue ?y)) (exists (?x) (and (red ?x) (on ?x ?y)))))\n",
      "bw 0.15\n",
      "bw 0.15\n"
     ]
    },
    {
     "name": "stderr",
     "output_type": "stream",
     "text": [
      "T: no, put red blocks on blue blocks\n"
     ]
    },
    {
     "name": "stdout",
     "output_type": "stream",
     "text": [
      "(forall (?y) (or (not (blue ?y)) (exists (?x) (and (red ?x) (on ?x ?y)))))\n",
      "bw 0.15\n",
      "bw 0.15\n"
     ]
    },
    {
     "name": "stderr",
     "output_type": "stream",
     "text": [
      "T: no, put red blocks on blue blocks\n"
     ]
    },
    {
     "name": "stdout",
     "output_type": "stream",
     "text": [
      "(forall (?y) (or (not (blue ?y)) (exists (?x) (and (red ?x) (on ?x ?y)))))\n",
      "bw 0.15\n",
      "bw 0.15\n",
      "problem25.pddl reward: -18\n",
      "Parsing domain blocks-domain.pddl\n",
      "Parsing problem bijection/problem26.pddl\n"
     ]
    },
    {
     "name": "stderr",
     "output_type": "stream",
     "text": [
      "T: no, put red blocks on blue blocks\n"
     ]
    },
    {
     "name": "stdout",
     "output_type": "stream",
     "text": [
      "(forall (?y) (or (not (blue ?y)) (exists (?x) (and (red ?x) (on ?x ?y)))))\n",
      "bw 0.15\n",
      "bw 0.15\n",
      "bw 0.15\n",
      "bw 0.15\n"
     ]
    },
    {
     "name": "stderr",
     "output_type": "stream",
     "text": [
      "T: no, put red blocks on blue blocks\n"
     ]
    },
    {
     "name": "stdout",
     "output_type": "stream",
     "text": [
      "(forall (?y) (or (not (blue ?y)) (exists (?x) (and (red ?x) (on ?x ?y)))))\n",
      "bw 0.15\n"
     ]
    },
    {
     "name": "stderr",
     "output_type": "stream",
     "text": [
      "T: no, put red blocks on blue blocks\n"
     ]
    },
    {
     "name": "stdout",
     "output_type": "stream",
     "text": [
      "(forall (?y) (or (not (blue ?y)) (exists (?x) (and (red ?x) (on ?x ?y)))))\n",
      "problem26.pddl reward: -16\n",
      "Parsing domain blocks-domain.pddl\n",
      "Parsing problem bijection/problem27.pddl\n"
     ]
    },
    {
     "name": "stderr",
     "output_type": "stream",
     "text": [
      "T: no, put red blocks on blue blocks\n"
     ]
    },
    {
     "name": "stdout",
     "output_type": "stream",
     "text": [
      "(forall (?y) (or (not (blue ?y)) (exists (?x) (and (red ?x) (on ?x ?y)))))\n",
      "bw 0.15\n",
      "bw 0.15\n",
      "bw 0.15\n",
      "bw 0.15\n"
     ]
    },
    {
     "name": "stderr",
     "output_type": "stream",
     "text": [
      "T: no, put red blocks on blue blocks\n"
     ]
    },
    {
     "name": "stdout",
     "output_type": "stream",
     "text": [
      "(forall (?y) (or (not (blue ?y)) (exists (?x) (and (red ?x) (on ?x ?y)))))\n",
      "bw 0.15\n",
      "problem27.pddl reward: -14\n",
      "Parsing domain blocks-domain.pddl\n",
      "Parsing problem bijection/problem28.pddl\n"
     ]
    },
    {
     "name": "stderr",
     "output_type": "stream",
     "text": [
      "T: no, put red blocks on blue blocks\n"
     ]
    },
    {
     "name": "stdout",
     "output_type": "stream",
     "text": [
      "(forall (?x) (or (not (red ?x)) (exists (?y) (and (blue ?y) (on ?x ?y)))))\n",
      "bw 0.15\n",
      "bw 0.15\n",
      "bw 0.15\n"
     ]
    },
    {
     "name": "stderr",
     "output_type": "stream",
     "text": [
      "T: no, put red blocks on blue blocks\n"
     ]
    },
    {
     "name": "stdout",
     "output_type": "stream",
     "text": [
      "(forall (?x) (or (not (red ?x)) (exists (?y) (and (blue ?y) (on ?x ?y)))))\n",
      "bw 0.15\n"
     ]
    },
    {
     "name": "stderr",
     "output_type": "stream",
     "text": [
      "T: no, put red blocks on blue blocks\n"
     ]
    },
    {
     "name": "stdout",
     "output_type": "stream",
     "text": [
      "(forall (?y) (or (not (blue ?y)) (exists (?x) (and (red ?x) (on ?x ?y)))))\n",
      "bw 0.15\n",
      "bw 0.15\n",
      "bw 0.15\n",
      "bw 0.15\n",
      "problem28.pddl reward: -16\n",
      "Parsing domain blocks-domain.pddl\n",
      "Parsing problem bijection/problem29.pddl\n"
     ]
    },
    {
     "name": "stderr",
     "output_type": "stream",
     "text": [
      "T: no, put red blocks on blue blocks\n"
     ]
    },
    {
     "name": "stdout",
     "output_type": "stream",
     "text": [
      "(forall (?x) (or (not (red ?x)) (exists (?y) (and (blue ?y) (on ?x ?y)))))\n",
      "bw 0.15\n"
     ]
    },
    {
     "name": "stderr",
     "output_type": "stream",
     "text": [
      "T: no, put red blocks on blue blocks\n"
     ]
    },
    {
     "name": "stdout",
     "output_type": "stream",
     "text": [
      "(forall (?x) (or (not (red ?x)) (exists (?y) (and (blue ?y) (on ?x ?y)))))\n",
      "bw 0.15\n"
     ]
    },
    {
     "name": "stderr",
     "output_type": "stream",
     "text": [
      "T: no, put red blocks on blue blocks\n"
     ]
    },
    {
     "name": "stdout",
     "output_type": "stream",
     "text": [
      "(forall (?x) (or (not (red ?x)) (exists (?y) (and (blue ?y) (on ?x ?y)))))\n",
      "bw 0.15\n"
     ]
    },
    {
     "name": "stderr",
     "output_type": "stream",
     "text": [
      "T: no, put red blocks on blue blocks\n"
     ]
    },
    {
     "name": "stdout",
     "output_type": "stream",
     "text": [
      "(forall (?x) (or (not (red ?x)) (exists (?y) (and (blue ?y) (on ?x ?y)))))\n",
      "bw 0.15\n"
     ]
    },
    {
     "name": "stderr",
     "output_type": "stream",
     "text": [
      "T: no, put red blocks on blue blocks\n"
     ]
    },
    {
     "name": "stdout",
     "output_type": "stream",
     "text": [
      "(forall (?x) (or (not (red ?x)) (exists (?y) (and (blue ?y) (on ?x ?y)))))\n",
      "bw 0.15\n"
     ]
    },
    {
     "name": "stderr",
     "output_type": "stream",
     "text": [
      "T: no, put red blocks on blue blocks\n"
     ]
    },
    {
     "name": "stdout",
     "output_type": "stream",
     "text": [
      "(forall (?x) (or (not (red ?x)) (exists (?y) (and (blue ?y) (on ?x ?y)))))\n",
      "bw 0.15\n"
     ]
    },
    {
     "name": "stderr",
     "output_type": "stream",
     "text": [
      "T: no, put red blocks on blue blocks\n"
     ]
    },
    {
     "name": "stdout",
     "output_type": "stream",
     "text": [
      "(forall (?x) (or (not (red ?x)) (exists (?y) (and (blue ?y) (on ?x ?y)))))\n"
     ]
    },
    {
     "name": "stderr",
     "output_type": "stream",
     "text": [
      "T: no, put red blocks on blue blocks\n"
     ]
    },
    {
     "name": "stdout",
     "output_type": "stream",
     "text": [
      "(forall (?x) (or (not (red ?x)) (exists (?y) (and (blue ?y) (on ?x ?y)))))\n",
      "problem29.pddl reward: -26\n",
      "Parsing domain blocks-domain.pddl\n",
      "Parsing problem bijection/problem3.pddl\n"
     ]
    },
    {
     "name": "stderr",
     "output_type": "stream",
     "text": [
      "T: no, put red blocks on blue blocks\n"
     ]
    },
    {
     "name": "stdout",
     "output_type": "stream",
     "text": [
      "(forall (?y) (or (not (blue ?y)) (exists (?x) (and (red ?x) (on ?x ?y)))))\n",
      "bw 0.15\n",
      "bw 0.15\n",
      "bw 0.15\n",
      "bw 0.15\n"
     ]
    },
    {
     "name": "stderr",
     "output_type": "stream",
     "text": [
      "T: no, put red blocks on blue blocks\n"
     ]
    },
    {
     "name": "stdout",
     "output_type": "stream",
     "text": [
      "(forall (?y) (or (not (blue ?y)) (exists (?x) (and (red ?x) (on ?x ?y)))))\n",
      "bw 0.15\n"
     ]
    },
    {
     "name": "stderr",
     "output_type": "stream",
     "text": [
      "T: no, put red blocks on blue blocks\n"
     ]
    },
    {
     "name": "stdout",
     "output_type": "stream",
     "text": [
      "(forall (?y) (or (not (blue ?y)) (exists (?x) (and (red ?x) (on ?x ?y)))))\n",
      "bw 0.15\n"
     ]
    },
    {
     "name": "stderr",
     "output_type": "stream",
     "text": [
      "T: no, put red blocks on blue blocks\n"
     ]
    },
    {
     "name": "stdout",
     "output_type": "stream",
     "text": [
      "(forall (?y) (or (not (blue ?y)) (exists (?x) (and (red ?x) (on ?x ?y)))))\n"
     ]
    },
    {
     "name": "stderr",
     "output_type": "stream",
     "text": [
      "T: no, put red blocks on blue blocks\n"
     ]
    },
    {
     "name": "stdout",
     "output_type": "stream",
     "text": [
      "(forall (?y) (or (not (blue ?y)) (exists (?x) (and (red ?x) (on ?x ?y)))))\n"
     ]
    },
    {
     "name": "stderr",
     "output_type": "stream",
     "text": [
      "T: no, put red blocks on blue blocks\n"
     ]
    },
    {
     "name": "stdout",
     "output_type": "stream",
     "text": [
      "(forall (?y) (or (not (blue ?y)) (exists (?x) (and (red ?x) (on ?x ?y)))))\n",
      "bw 0.15\n"
     ]
    },
    {
     "name": "stderr",
     "output_type": "stream",
     "text": [
      "T: no, put red blocks on blue blocks\n"
     ]
    },
    {
     "name": "stdout",
     "output_type": "stream",
     "text": [
      "(forall (?y) (or (not (blue ?y)) (exists (?x) (and (red ?x) (on ?x ?y)))))\n",
      "bw 0.15\n"
     ]
    },
    {
     "name": "stderr",
     "output_type": "stream",
     "text": [
      "T: no, put red blocks on blue blocks\n"
     ]
    },
    {
     "name": "stdout",
     "output_type": "stream",
     "text": [
      "(forall (?y) (or (not (blue ?y)) (exists (?x) (and (red ?x) (on ?x ?y)))))\n",
      "bw 0.15\n"
     ]
    },
    {
     "name": "stderr",
     "output_type": "stream",
     "text": [
      "T: no, put red blocks on blue blocks\n"
     ]
    },
    {
     "name": "stdout",
     "output_type": "stream",
     "text": [
      "(forall (?y) (or (not (blue ?y)) (exists (?x) (and (red ?x) (on ?x ?y)))))\n",
      "bw 0.15\n",
      "problem3.pddl reward: -28\n",
      "Parsing domain blocks-domain.pddl\n",
      "Parsing problem bijection/problem30.pddl\n"
     ]
    },
    {
     "name": "stderr",
     "output_type": "stream",
     "text": [
      "T: no, put red blocks on blue blocks\n"
     ]
    },
    {
     "name": "stdout",
     "output_type": "stream",
     "text": [
      "(forall (?y) (or (not (blue ?y)) (exists (?x) (and (red ?x) (on ?x ?y)))))\n",
      "bw 0.15\n",
      "bw 0.15\n",
      "bw 0.15\n",
      "bw 0.15\n"
     ]
    },
    {
     "name": "stderr",
     "output_type": "stream",
     "text": [
      "T: no, put red blocks on blue blocks\n"
     ]
    },
    {
     "name": "stdout",
     "output_type": "stream",
     "text": [
      "(forall (?y) (or (not (blue ?y)) (exists (?x) (and (red ?x) (on ?x ?y)))))\n",
      "bw 0.15\n",
      "bw 0.15\n"
     ]
    },
    {
     "name": "stderr",
     "output_type": "stream",
     "text": [
      "T: no, put red blocks on blue blocks\n"
     ]
    },
    {
     "name": "stdout",
     "output_type": "stream",
     "text": [
      "(forall (?y) (or (not (blue ?y)) (exists (?x) (and (red ?x) (on ?x ?y)))))\n",
      "bw 0.15\n",
      "bw 0.15\n"
     ]
    },
    {
     "name": "stderr",
     "output_type": "stream",
     "text": [
      "T: no, put red blocks on blue blocks\n"
     ]
    },
    {
     "name": "stdout",
     "output_type": "stream",
     "text": [
      "(forall (?y) (or (not (blue ?y)) (exists (?x) (and (red ?x) (on ?x ?y)))))\n"
     ]
    },
    {
     "name": "stderr",
     "output_type": "stream",
     "text": [
      "T: no, put red blocks on blue blocks\n"
     ]
    },
    {
     "name": "stdout",
     "output_type": "stream",
     "text": [
      "(forall (?y) (or (not (blue ?y)) (exists (?x) (and (red ?x) (on ?x ?y)))))\n"
     ]
    },
    {
     "name": "stderr",
     "output_type": "stream",
     "text": [
      "T: no, put red blocks on blue blocks\n"
     ]
    },
    {
     "name": "stdout",
     "output_type": "stream",
     "text": [
      "(forall (?y) (or (not (blue ?y)) (exists (?x) (and (red ?x) (on ?x ?y)))))\n",
      "bw 0.15\n"
     ]
    },
    {
     "name": "stderr",
     "output_type": "stream",
     "text": [
      "T: no, put red blocks on blue blocks\n"
     ]
    },
    {
     "name": "stdout",
     "output_type": "stream",
     "text": [
      "(forall (?y) (or (not (blue ?y)) (exists (?x) (and (red ?x) (on ?x ?y)))))\n",
      "bw 0.15\n",
      "problem30.pddl reward: -24\n",
      "Parsing domain blocks-domain.pddl\n",
      "Parsing problem bijection/problem31.pddl\n"
     ]
    },
    {
     "name": "stderr",
     "output_type": "stream",
     "text": [
      "T: no, put red blocks on blue blocks\n"
     ]
    },
    {
     "name": "stdout",
     "output_type": "stream",
     "text": [
      "(forall (?x) (or (not (red ?x)) (exists (?y) (and (blue ?y) (on ?x ?y)))))\n",
      "bw 0.15\n",
      "bw 0.15\n",
      "bw 0.15\n",
      "bw 0.15\n"
     ]
    },
    {
     "name": "stderr",
     "output_type": "stream",
     "text": [
      "T: no, put red blocks on blue blocks\n"
     ]
    },
    {
     "name": "stdout",
     "output_type": "stream",
     "text": [
      "(forall (?x) (or (not (red ?x)) (exists (?y) (and (blue ?y) (on ?x ?y)))))\n",
      "bw 0.15\n",
      "bw 0.15\n"
     ]
    },
    {
     "name": "stderr",
     "output_type": "stream",
     "text": [
      "T: no, put red blocks on blue blocks\n"
     ]
    },
    {
     "name": "stdout",
     "output_type": "stream",
     "text": [
      "(forall (?x) (or (not (red ?x)) (exists (?y) (and (blue ?y) (on ?x ?y)))))\n",
      "bw 0.15\n",
      "problem31.pddl reward: -16\n",
      "Parsing domain blocks-domain.pddl\n",
      "Parsing problem bijection/problem32.pddl\n"
     ]
    },
    {
     "name": "stderr",
     "output_type": "stream",
     "text": [
      "T: no, put red blocks on blue blocks\n"
     ]
    },
    {
     "name": "stdout",
     "output_type": "stream",
     "text": [
      "(forall (?y) (or (not (blue ?y)) (exists (?x) (and (red ?x) (on ?x ?y)))))\n",
      "bw 0.15\n",
      "bw 0.15\n",
      "bw 0.15\n",
      "bw 0.15\n"
     ]
    },
    {
     "name": "stderr",
     "output_type": "stream",
     "text": [
      "T: no, put red blocks on blue blocks\n"
     ]
    },
    {
     "name": "stdout",
     "output_type": "stream",
     "text": [
      "(forall (?y) (or (not (blue ?y)) (exists (?x) (and (red ?x) (on ?x ?y)))))\n",
      "bw 0.15\n",
      "bw 0.15\n",
      "problem32.pddl reward: -14\n",
      "Parsing domain blocks-domain.pddl\n",
      "Parsing problem bijection/problem33.pddl\n"
     ]
    },
    {
     "name": "stderr",
     "output_type": "stream",
     "text": [
      "T: no, put red blocks on blue blocks\n"
     ]
    },
    {
     "name": "stdout",
     "output_type": "stream",
     "text": [
      "(forall (?x) (or (not (red ?x)) (exists (?y) (and (blue ?y) (on ?x ?y)))))\n",
      "bw 0.15\n",
      "bw 0.15\n",
      "bw 0.15\n",
      "bw 0.15\n"
     ]
    },
    {
     "name": "stderr",
     "output_type": "stream",
     "text": [
      "T: no, put red blocks on blue blocks\n"
     ]
    },
    {
     "name": "stdout",
     "output_type": "stream",
     "text": [
      "(forall (?x) (or (not (red ?x)) (exists (?y) (and (blue ?y) (on ?x ?y)))))\n",
      "bw 0.15\n",
      "bw 0.15\n"
     ]
    },
    {
     "name": "stderr",
     "output_type": "stream",
     "text": [
      "T: no, put red blocks on blue blocks\n"
     ]
    },
    {
     "name": "stdout",
     "output_type": "stream",
     "text": [
      "(forall (?x) (or (not (red ?x)) (exists (?y) (and (blue ?y) (on ?x ?y)))))\n",
      "bw 0.15\n",
      "bw 0.15\n"
     ]
    },
    {
     "name": "stderr",
     "output_type": "stream",
     "text": [
      "T: no, put red blocks on blue blocks\n"
     ]
    },
    {
     "name": "stdout",
     "output_type": "stream",
     "text": [
      "(forall (?x) (or (not (red ?x)) (exists (?y) (and (blue ?y) (on ?x ?y)))))\n",
      "bw 0.15\n",
      "bw 0.15\n"
     ]
    },
    {
     "name": "stderr",
     "output_type": "stream",
     "text": [
      "T: no, put red blocks on blue blocks\n"
     ]
    },
    {
     "name": "stdout",
     "output_type": "stream",
     "text": [
      "(forall (?x) (or (not (red ?x)) (exists (?y) (and (blue ?y) (on ?x ?y)))))\n",
      "bw 0.15\n"
     ]
    },
    {
     "name": "stderr",
     "output_type": "stream",
     "text": [
      "T: no, put red blocks on blue blocks\n"
     ]
    },
    {
     "name": "stdout",
     "output_type": "stream",
     "text": [
      "(forall (?x) (or (not (red ?x)) (exists (?y) (and (blue ?y) (on ?x ?y)))))\n",
      "bw 0.15\n",
      "problem33.pddl reward: -22\n",
      "Parsing domain blocks-domain.pddl\n",
      "Parsing problem bijection/problem34.pddl\n"
     ]
    },
    {
     "name": "stderr",
     "output_type": "stream",
     "text": [
      "T: no, put red blocks on blue blocks\n"
     ]
    },
    {
     "name": "stdout",
     "output_type": "stream",
     "text": [
      "(forall (?y) (or (not (blue ?y)) (exists (?x) (and (red ?x) (on ?x ?y)))))\n",
      "bw 0.15\n",
      "bw 0.15\n",
      "bw 0.15\n",
      "bw 0.15\n"
     ]
    },
    {
     "name": "stderr",
     "output_type": "stream",
     "text": [
      "T: no, put red blocks on blue blocks\n"
     ]
    },
    {
     "name": "stdout",
     "output_type": "stream",
     "text": [
      "(forall (?y) (or (not (blue ?y)) (exists (?x) (and (red ?x) (on ?x ?y)))))\n",
      "bw 0.15\n",
      "bw 0.15\n"
     ]
    },
    {
     "name": "stderr",
     "output_type": "stream",
     "text": [
      "T: no, put red blocks on blue blocks\n"
     ]
    },
    {
     "name": "stdout",
     "output_type": "stream",
     "text": [
      "(forall (?y) (or (not (blue ?y)) (exists (?x) (and (red ?x) (on ?x ?y)))))\n",
      "bw 0.15\n"
     ]
    },
    {
     "name": "stderr",
     "output_type": "stream",
     "text": [
      "T: no, put red blocks on blue blocks\n"
     ]
    },
    {
     "name": "stdout",
     "output_type": "stream",
     "text": [
      "(forall (?y) (or (not (blue ?y)) (exists (?x) (and (red ?x) (on ?x ?y)))))\n",
      "bw 0.15\n"
     ]
    },
    {
     "name": "stderr",
     "output_type": "stream",
     "text": [
      "T: no, put red blocks on blue blocks\n"
     ]
    },
    {
     "name": "stdout",
     "output_type": "stream",
     "text": [
      "(forall (?y) (or (not (blue ?y)) (exists (?x) (and (red ?x) (on ?x ?y)))))\n",
      "bw 0.15\n",
      "problem34.pddl reward: -20\n",
      "Parsing domain blocks-domain.pddl\n",
      "Parsing problem bijection/problem35.pddl\n"
     ]
    },
    {
     "name": "stderr",
     "output_type": "stream",
     "text": [
      "T: no, put red blocks on blue blocks\n"
     ]
    },
    {
     "name": "stdout",
     "output_type": "stream",
     "text": [
      "(forall (?y) (or (not (blue ?y)) (exists (?x) (and (red ?x) (on ?x ?y)))))\n",
      "bw 0.15\n",
      "bw 0.15\n",
      "bw 0.15\n",
      "bw 0.15\n"
     ]
    },
    {
     "name": "stderr",
     "output_type": "stream",
     "text": [
      "T: no, put red blocks on blue blocks\n"
     ]
    },
    {
     "name": "stdout",
     "output_type": "stream",
     "text": [
      "(forall (?y) (or (not (blue ?y)) (exists (?x) (and (red ?x) (on ?x ?y)))))\n",
      "bw 0.15\n",
      "bw 0.15\n"
     ]
    },
    {
     "name": "stderr",
     "output_type": "stream",
     "text": [
      "T: no, put red blocks on blue blocks\n"
     ]
    },
    {
     "name": "stdout",
     "output_type": "stream",
     "text": [
      "(forall (?y) (or (not (blue ?y)) (exists (?x) (and (red ?x) (on ?x ?y)))))\n",
      "bw 0.15\n",
      "bw 0.15\n"
     ]
    },
    {
     "name": "stderr",
     "output_type": "stream",
     "text": [
      "T: no, put red blocks on blue blocks\n"
     ]
    },
    {
     "name": "stdout",
     "output_type": "stream",
     "text": [
      "(forall (?x) (or (not (red ?x)) (exists (?y) (and (blue ?y) (on ?x ?y)))))\n",
      "bw 0.15\n",
      "bw 0.15\n",
      "bw 0.15\n",
      "bw 0.15\n",
      "problem35.pddl reward: -18\n",
      "Parsing domain blocks-domain.pddl\n",
      "Parsing problem bijection/problem36.pddl\n"
     ]
    },
    {
     "name": "stderr",
     "output_type": "stream",
     "text": [
      "T: no, put red blocks on blue blocks\n"
     ]
    },
    {
     "name": "stdout",
     "output_type": "stream",
     "text": [
      "(forall (?x) (or (not (red ?x)) (exists (?y) (and (blue ?y) (on ?x ?y)))))\n",
      "bw 0.15\n"
     ]
    },
    {
     "name": "stderr",
     "output_type": "stream",
     "text": [
      "T: no, put red blocks on blue blocks\n"
     ]
    },
    {
     "name": "stdout",
     "output_type": "stream",
     "text": [
      "(forall (?x) (or (not (red ?x)) (exists (?y) (and (blue ?y) (on ?x ?y)))))\n",
      "bw 0.15\n"
     ]
    },
    {
     "name": "stderr",
     "output_type": "stream",
     "text": [
      "T: no, put red blocks on blue blocks\n"
     ]
    },
    {
     "name": "stdout",
     "output_type": "stream",
     "text": [
      "(forall (?x) (or (not (red ?x)) (exists (?y) (and (blue ?y) (on ?x ?y)))))\n",
      "bw 0.15\n"
     ]
    },
    {
     "name": "stderr",
     "output_type": "stream",
     "text": [
      "T: no, put red blocks on blue blocks\n"
     ]
    },
    {
     "name": "stdout",
     "output_type": "stream",
     "text": [
      "(forall (?x) (or (not (red ?x)) (exists (?y) (and (blue ?y) (on ?x ?y)))))\n",
      "bw 0.15\n"
     ]
    },
    {
     "name": "stderr",
     "output_type": "stream",
     "text": [
      "T: no, put red blocks on blue blocks\n"
     ]
    },
    {
     "name": "stdout",
     "output_type": "stream",
     "text": [
      "(forall (?y) (or (not (blue ?y)) (exists (?x) (and (red ?x) (on ?x ?y)))))\n",
      "bw 0.15\n",
      "bw 0.15\n",
      "bw 0.15\n",
      "bw 0.15\n",
      "problem36.pddl reward: -20\n",
      "Parsing domain blocks-domain.pddl\n",
      "Parsing problem bijection/problem37.pddl\n"
     ]
    },
    {
     "name": "stderr",
     "output_type": "stream",
     "text": [
      "T: no, put red blocks on blue blocks\n"
     ]
    },
    {
     "name": "stdout",
     "output_type": "stream",
     "text": [
      "(forall (?y) (or (not (blue ?y)) (exists (?x) (and (red ?x) (on ?x ?y)))))\n",
      "bw 0.15\n",
      "bw 0.15\n",
      "bw 0.15\n",
      "bw 0.15\n"
     ]
    },
    {
     "name": "stderr",
     "output_type": "stream",
     "text": [
      "T: no, put red blocks on blue blocks\n"
     ]
    },
    {
     "name": "stdout",
     "output_type": "stream",
     "text": [
      "(forall (?y) (or (not (blue ?y)) (exists (?x) (and (red ?x) (on ?x ?y)))))\n",
      "bw 0.15\n",
      "bw 0.15\n"
     ]
    },
    {
     "name": "stderr",
     "output_type": "stream",
     "text": [
      "T: no, put red blocks on blue blocks\n"
     ]
    },
    {
     "name": "stdout",
     "output_type": "stream",
     "text": [
      "(forall (?y) (or (not (blue ?y)) (exists (?x) (and (red ?x) (on ?x ?y)))))\n",
      "bw 0.15\n",
      "problem37.pddl reward: -16\n",
      "Parsing domain blocks-domain.pddl\n",
      "Parsing problem bijection/problem38.pddl\n"
     ]
    },
    {
     "name": "stderr",
     "output_type": "stream",
     "text": [
      "T: no, put red blocks on blue blocks\n"
     ]
    },
    {
     "name": "stdout",
     "output_type": "stream",
     "text": [
      "(forall (?x) (or (not (red ?x)) (exists (?y) (and (blue ?y) (on ?x ?y)))))\n",
      "bw 0.15\n",
      "bw 0.15\n",
      "bw 0.15\n",
      "bw 0.15\n"
     ]
    },
    {
     "name": "stderr",
     "output_type": "stream",
     "text": [
      "T: no, put red blocks on blue blocks\n"
     ]
    },
    {
     "name": "stdout",
     "output_type": "stream",
     "text": [
      "(forall (?x) (or (not (red ?x)) (exists (?y) (and (blue ?y) (on ?x ?y)))))\n",
      "bw 0.15\n",
      "bw 0.15\n"
     ]
    },
    {
     "name": "stderr",
     "output_type": "stream",
     "text": [
      "T: no, put red blocks on blue blocks\n"
     ]
    },
    {
     "name": "stdout",
     "output_type": "stream",
     "text": [
      "(forall (?x) (or (not (red ?x)) (exists (?y) (and (blue ?y) (on ?x ?y)))))\n",
      "bw 0.15\n"
     ]
    },
    {
     "name": "stderr",
     "output_type": "stream",
     "text": [
      "T: no, put red blocks on blue blocks\n"
     ]
    },
    {
     "name": "stdout",
     "output_type": "stream",
     "text": [
      "(forall (?x) (or (not (red ?x)) (exists (?y) (and (blue ?y) (on ?x ?y)))))\n",
      "bw 0.15\n"
     ]
    },
    {
     "name": "stderr",
     "output_type": "stream",
     "text": [
      "T: no, put red blocks on blue blocks\n"
     ]
    },
    {
     "name": "stdout",
     "output_type": "stream",
     "text": [
      "(forall (?x) (or (not (red ?x)) (exists (?y) (and (blue ?y) (on ?x ?y)))))\n",
      "bw 0.15\n"
     ]
    },
    {
     "name": "stderr",
     "output_type": "stream",
     "text": [
      "T: no, put red blocks on blue blocks\n"
     ]
    },
    {
     "name": "stdout",
     "output_type": "stream",
     "text": [
      "(forall (?x) (or (not (red ?x)) (exists (?y) (and (blue ?y) (on ?x ?y)))))\n",
      "bw 0.15\n"
     ]
    },
    {
     "name": "stderr",
     "output_type": "stream",
     "text": [
      "T: no, put red blocks on blue blocks\n"
     ]
    },
    {
     "name": "stdout",
     "output_type": "stream",
     "text": [
      "(forall (?x) (or (not (red ?x)) (exists (?y) (and (blue ?y) (on ?x ?y)))))\n",
      "bw 0.15\n"
     ]
    },
    {
     "name": "stderr",
     "output_type": "stream",
     "text": [
      "T: no, put red blocks on blue blocks\n"
     ]
    },
    {
     "name": "stdout",
     "output_type": "stream",
     "text": [
      "(forall (?x) (or (not (red ?x)) (exists (?y) (and (blue ?y) (on ?x ?y)))))\n"
     ]
    },
    {
     "name": "stderr",
     "output_type": "stream",
     "text": [
      "T: no, put red blocks on blue blocks\n"
     ]
    },
    {
     "name": "stdout",
     "output_type": "stream",
     "text": [
      "(forall (?x) (or (not (red ?x)) (exists (?y) (and (blue ?y) (on ?x ?y)))))\n",
      "problem38.pddl reward: -28\n",
      "Parsing domain blocks-domain.pddl\n",
      "Parsing problem bijection/problem39.pddl\n"
     ]
    },
    {
     "name": "stderr",
     "output_type": "stream",
     "text": [
      "T: no, put red blocks on blue blocks\n"
     ]
    },
    {
     "name": "stdout",
     "output_type": "stream",
     "text": [
      "(forall (?y) (or (not (blue ?y)) (exists (?x) (and (red ?x) (on ?x ?y)))))\n",
      "bw 0.15\n",
      "bw 0.15\n",
      "bw 0.15\n",
      "bw 0.15\n"
     ]
    },
    {
     "name": "stderr",
     "output_type": "stream",
     "text": [
      "T: no, put red blocks on blue blocks\n"
     ]
    },
    {
     "name": "stdout",
     "output_type": "stream",
     "text": [
      "(forall (?y) (or (not (blue ?y)) (exists (?x) (and (red ?x) (on ?x ?y)))))\n",
      "bw 0.15\n"
     ]
    },
    {
     "name": "stderr",
     "output_type": "stream",
     "text": [
      "T: no, put red blocks on blue blocks\n"
     ]
    },
    {
     "name": "stdout",
     "output_type": "stream",
     "text": [
      "(forall (?y) (or (not (blue ?y)) (exists (?x) (and (red ?x) (on ?x ?y)))))\n",
      "bw 0.15\n"
     ]
    },
    {
     "name": "stderr",
     "output_type": "stream",
     "text": [
      "T: no, put red blocks on blue blocks\n"
     ]
    },
    {
     "name": "stdout",
     "output_type": "stream",
     "text": [
      "(forall (?y) (or (not (blue ?y)) (exists (?x) (and (red ?x) (on ?x ?y)))))\n",
      "bw 0.15\n"
     ]
    },
    {
     "name": "stderr",
     "output_type": "stream",
     "text": [
      "T: no, put red blocks on blue blocks\n"
     ]
    },
    {
     "name": "stdout",
     "output_type": "stream",
     "text": [
      "(forall (?y) (or (not (blue ?y)) (exists (?x) (and (red ?x) (on ?x ?y)))))\n",
      "bw 0.15\n",
      "problem39.pddl reward: -20\n",
      "Parsing domain blocks-domain.pddl\n",
      "Parsing problem bijection/problem4.pddl\n"
     ]
    },
    {
     "name": "stderr",
     "output_type": "stream",
     "text": [
      "T: no, put red blocks on blue blocks\n"
     ]
    },
    {
     "name": "stdout",
     "output_type": "stream",
     "text": [
      "(forall (?x) (or (not (red ?x)) (exists (?y) (and (blue ?y) (on ?x ?y)))))\n",
      "bw 0.15\n",
      "bw 0.15\n",
      "bw 0.15\n",
      "bw 0.15\n",
      "problem4.pddl reward: -12\n",
      "Parsing domain blocks-domain.pddl\n",
      "Parsing problem bijection/problem40.pddl\n"
     ]
    },
    {
     "name": "stderr",
     "output_type": "stream",
     "text": [
      "T: no, put red blocks on blue blocks\n"
     ]
    },
    {
     "name": "stdout",
     "output_type": "stream",
     "text": [
      "(forall (?y) (or (not (blue ?y)) (exists (?x) (and (red ?x) (on ?x ?y)))))\n",
      "bw 0.15\n",
      "bw 0.15\n",
      "bw 0.15\n",
      "bw 0.15\n"
     ]
    },
    {
     "name": "stderr",
     "output_type": "stream",
     "text": [
      "T: no, put red blocks on blue blocks\n"
     ]
    },
    {
     "name": "stdout",
     "output_type": "stream",
     "text": [
      "(forall (?x) (or (not (red ?x)) (exists (?y) (and (blue ?y) (on ?x ?y)))))\n",
      "bw 0.15\n",
      "bw 0.15\n",
      "bw 0.15\n",
      "bw 0.15\n"
     ]
    },
    {
     "name": "stderr",
     "output_type": "stream",
     "text": [
      "T: no, put red blocks on blue blocks\n"
     ]
    },
    {
     "name": "stdout",
     "output_type": "stream",
     "text": [
      "(forall (?x) (or (not (red ?x)) (exists (?y) (and (blue ?y) (on ?x ?y)))))\n",
      "bw 0.15\n",
      "bw 0.15\n"
     ]
    },
    {
     "name": "stderr",
     "output_type": "stream",
     "text": [
      "T: no, put red blocks on blue blocks\n"
     ]
    },
    {
     "name": "stdout",
     "output_type": "stream",
     "text": [
      "(forall (?x) (or (not (red ?x)) (exists (?y) (and (blue ?y) (on ?x ?y)))))\n"
     ]
    },
    {
     "name": "stderr",
     "output_type": "stream",
     "text": [
      "T: no, put red blocks on blue blocks\n"
     ]
    },
    {
     "name": "stdout",
     "output_type": "stream",
     "text": [
      "(forall (?x) (or (not (red ?x)) (exists (?y) (and (blue ?y) (on ?x ?y)))))\n",
      "bw 0.15\n",
      "problem40.pddl reward: -20\n",
      "Parsing domain blocks-domain.pddl\n",
      "Parsing problem bijection/problem41.pddl\n"
     ]
    },
    {
     "name": "stderr",
     "output_type": "stream",
     "text": [
      "T: no, put red blocks on blue blocks\n"
     ]
    },
    {
     "name": "stdout",
     "output_type": "stream",
     "text": [
      "(forall (?y) (or (not (blue ?y)) (exists (?x) (and (red ?x) (on ?x ?y)))))\n",
      "bw 0.15\n",
      "bw 0.15\n",
      "bw 0.15\n",
      "bw 0.15\n"
     ]
    },
    {
     "name": "stderr",
     "output_type": "stream",
     "text": [
      "T: no, put red blocks on blue blocks\n"
     ]
    },
    {
     "name": "stdout",
     "output_type": "stream",
     "text": [
      "(forall (?y) (or (not (blue ?y)) (exists (?x) (and (red ?x) (on ?x ?y)))))\n",
      "bw 0.15\n",
      "bw 0.15\n",
      "problem41.pddl reward: -14\n",
      "Parsing domain blocks-domain.pddl\n",
      "Parsing problem bijection/problem42.pddl\n",
      "problem42.pddl reward: -10\n",
      "Parsing domain blocks-domain.pddl\n",
      "Parsing problem bijection/problem43.pddl\n"
     ]
    },
    {
     "name": "stderr",
     "output_type": "stream",
     "text": [
      "T: no, put red blocks on blue blocks\n"
     ]
    },
    {
     "name": "stdout",
     "output_type": "stream",
     "text": [
      "(forall (?x) (or (not (red ?x)) (exists (?y) (and (blue ?y) (on ?x ?y)))))\n",
      "bw 0.15\n",
      "bw 0.15\n",
      "bw 0.15\n",
      "bw 0.15\n"
     ]
    },
    {
     "name": "stderr",
     "output_type": "stream",
     "text": [
      "T: no, put red blocks on blue blocks\n"
     ]
    },
    {
     "name": "stdout",
     "output_type": "stream",
     "text": [
      "(forall (?x) (or (not (red ?x)) (exists (?y) (and (blue ?y) (on ?x ?y)))))\n",
      "bw 0.15\n",
      "bw 0.15\n"
     ]
    },
    {
     "name": "stderr",
     "output_type": "stream",
     "text": [
      "T: no, put red blocks on blue blocks\n"
     ]
    },
    {
     "name": "stdout",
     "output_type": "stream",
     "text": [
      "(forall (?x) (or (not (red ?x)) (exists (?y) (and (blue ?y) (on ?x ?y)))))\n",
      "bw 0.15\n",
      "problem43.pddl reward: -16\n",
      "Parsing domain blocks-domain.pddl\n",
      "Parsing problem bijection/problem44.pddl\n"
     ]
    },
    {
     "name": "stderr",
     "output_type": "stream",
     "text": [
      "T: no, put red blocks on blue blocks\n"
     ]
    },
    {
     "name": "stdout",
     "output_type": "stream",
     "text": [
      "(forall (?y) (or (not (blue ?y)) (exists (?x) (and (red ?x) (on ?x ?y)))))\n",
      "bw 0.15\n",
      "bw 0.15\n",
      "bw 0.15\n",
      "bw 0.15\n"
     ]
    },
    {
     "name": "stderr",
     "output_type": "stream",
     "text": [
      "T: no, put red blocks on blue blocks\n"
     ]
    },
    {
     "name": "stdout",
     "output_type": "stream",
     "text": [
      "(forall (?y) (or (not (blue ?y)) (exists (?x) (and (red ?x) (on ?x ?y)))))\n",
      "bw 0.15\n",
      "bw 0.15\n"
     ]
    },
    {
     "name": "stderr",
     "output_type": "stream",
     "text": [
      "T: no, put red blocks on blue blocks\n"
     ]
    },
    {
     "name": "stdout",
     "output_type": "stream",
     "text": [
      "(forall (?y) (or (not (blue ?y)) (exists (?x) (and (red ?x) (on ?x ?y)))))\n",
      "bw 0.15\n",
      "bw 0.15\n"
     ]
    },
    {
     "name": "stderr",
     "output_type": "stream",
     "text": [
      "T: no, put red blocks on blue blocks\n"
     ]
    },
    {
     "name": "stdout",
     "output_type": "stream",
     "text": [
      "(forall (?y) (or (not (blue ?y)) (exists (?x) (and (red ?x) (on ?x ?y)))))\n",
      "bw 0.15\n",
      "bw 0.15\n"
     ]
    },
    {
     "name": "stderr",
     "output_type": "stream",
     "text": [
      "T: no, put red blocks on blue blocks\n"
     ]
    },
    {
     "name": "stdout",
     "output_type": "stream",
     "text": [
      "(forall (?y) (or (not (blue ?y)) (exists (?x) (and (red ?x) (on ?x ?y)))))\n",
      "bw 0.15\n",
      "bw 0.15\n"
     ]
    },
    {
     "name": "stderr",
     "output_type": "stream",
     "text": [
      "T: no, put red blocks on blue blocks\n"
     ]
    },
    {
     "name": "stdout",
     "output_type": "stream",
     "text": [
      "(forall (?y) (or (not (blue ?y)) (exists (?x) (and (red ?x) (on ?x ?y)))))\n",
      "bw 0.15\n"
     ]
    },
    {
     "name": "stderr",
     "output_type": "stream",
     "text": [
      "T: no, put red blocks on blue blocks\n"
     ]
    },
    {
     "name": "stdout",
     "output_type": "stream",
     "text": [
      "(forall (?y) (or (not (blue ?y)) (exists (?x) (and (red ?x) (on ?x ?y)))))\n",
      "bw 0.15\n"
     ]
    },
    {
     "name": "stderr",
     "output_type": "stream",
     "text": [
      "T: no, put red blocks on blue blocks\n"
     ]
    },
    {
     "name": "stdout",
     "output_type": "stream",
     "text": [
      "(forall (?y) (or (not (blue ?y)) (exists (?x) (and (red ?x) (on ?x ?y)))))\n",
      "bw 0.15\n",
      "problem44.pddl reward: -26\n",
      "Parsing domain blocks-domain.pddl\n",
      "Parsing problem bijection/problem45.pddl\n"
     ]
    },
    {
     "name": "stderr",
     "output_type": "stream",
     "text": [
      "T: no, put red blocks on blue blocks\n"
     ]
    },
    {
     "name": "stdout",
     "output_type": "stream",
     "text": [
      "(forall (?y) (or (not (blue ?y)) (exists (?x) (and (red ?x) (on ?x ?y)))))\n",
      "bw 0.15\n",
      "bw 0.15\n",
      "bw 0.15\n",
      "bw 0.15\n"
     ]
    },
    {
     "name": "stderr",
     "output_type": "stream",
     "text": [
      "T: no, put red blocks on blue blocks\n"
     ]
    },
    {
     "name": "stdout",
     "output_type": "stream",
     "text": [
      "(forall (?x) (or (not (red ?x)) (exists (?y) (and (blue ?y) (on ?x ?y)))))\n",
      "bw 0.15\n",
      "bw 0.15\n"
     ]
    },
    {
     "name": "stderr",
     "output_type": "stream",
     "text": [
      "T: no, put red blocks on blue blocks\n"
     ]
    },
    {
     "name": "stdout",
     "output_type": "stream",
     "text": [
      "(forall (?x) (or (not (red ?x)) (exists (?y) (and (blue ?y) (on ?x ?y)))))\n",
      "bw 0.15\n",
      "bw 0.15\n"
     ]
    },
    {
     "name": "stderr",
     "output_type": "stream",
     "text": [
      "T: no, put red blocks on blue blocks\n"
     ]
    },
    {
     "name": "stdout",
     "output_type": "stream",
     "text": [
      "(forall (?x) (or (not (red ?x)) (exists (?y) (and (blue ?y) (on ?x ?y)))))\n",
      "bw 0.15\n"
     ]
    },
    {
     "name": "stderr",
     "output_type": "stream",
     "text": [
      "T: no, put red blocks on blue blocks\n"
     ]
    },
    {
     "name": "stdout",
     "output_type": "stream",
     "text": [
      "(forall (?x) (or (not (red ?x)) (exists (?y) (and (blue ?y) (on ?x ?y)))))\n",
      "bw 0.15\n",
      "problem45.pddl reward: -20\n",
      "Parsing domain blocks-domain.pddl\n",
      "Parsing problem bijection/problem46.pddl\n"
     ]
    },
    {
     "name": "stderr",
     "output_type": "stream",
     "text": [
      "T: no, put red blocks on blue blocks\n"
     ]
    },
    {
     "name": "stdout",
     "output_type": "stream",
     "text": [
      "(forall (?y) (or (not (blue ?y)) (exists (?x) (and (red ?x) (on ?x ?y)))))\n",
      "bw 0.15\n",
      "bw 0.15\n",
      "bw 0.15\n",
      "bw 0.15\n"
     ]
    },
    {
     "name": "stderr",
     "output_type": "stream",
     "text": [
      "T: no, put red blocks on blue blocks\n"
     ]
    },
    {
     "name": "stdout",
     "output_type": "stream",
     "text": [
      "(forall (?y) (or (not (blue ?y)) (exists (?x) (and (red ?x) (on ?x ?y)))))\n",
      "bw 0.15\n"
     ]
    },
    {
     "name": "stderr",
     "output_type": "stream",
     "text": [
      "T: no, put red blocks on blue blocks\n"
     ]
    },
    {
     "name": "stdout",
     "output_type": "stream",
     "text": [
      "(forall (?y) (or (not (blue ?y)) (exists (?x) (and (red ?x) (on ?x ?y)))))\n",
      "bw 0.15\n"
     ]
    },
    {
     "name": "stderr",
     "output_type": "stream",
     "text": [
      "T: no, put red blocks on blue blocks\n"
     ]
    },
    {
     "name": "stdout",
     "output_type": "stream",
     "text": [
      "(forall (?y) (or (not (blue ?y)) (exists (?x) (and (red ?x) (on ?x ?y)))))\n",
      "bw 0.15\n"
     ]
    },
    {
     "name": "stderr",
     "output_type": "stream",
     "text": [
      "T: no, put red blocks on blue blocks\n"
     ]
    },
    {
     "name": "stdout",
     "output_type": "stream",
     "text": [
      "(forall (?y) (or (not (blue ?y)) (exists (?x) (and (red ?x) (on ?x ?y)))))\n",
      "bw 0.15\n",
      "problem46.pddl reward: -20\n",
      "Parsing domain blocks-domain.pddl\n",
      "Parsing problem bijection/problem47.pddl\n"
     ]
    },
    {
     "name": "stderr",
     "output_type": "stream",
     "text": [
      "T: no, put red blocks on blue blocks\n"
     ]
    },
    {
     "name": "stdout",
     "output_type": "stream",
     "text": [
      "(forall (?x) (or (not (red ?x)) (exists (?y) (and (blue ?y) (on ?x ?y)))))\n",
      "bw 0.15\n",
      "bw 0.15\n",
      "bw 0.15\n",
      "bw 0.15\n"
     ]
    },
    {
     "name": "stderr",
     "output_type": "stream",
     "text": [
      "T: no, put red blocks on blue blocks\n"
     ]
    },
    {
     "name": "stdout",
     "output_type": "stream",
     "text": [
      "(forall (?x) (or (not (red ?x)) (exists (?y) (and (blue ?y) (on ?x ?y)))))\n",
      "bw 0.15\n",
      "bw 0.15\n"
     ]
    },
    {
     "name": "stderr",
     "output_type": "stream",
     "text": [
      "T: no, put red blocks on blue blocks\n"
     ]
    },
    {
     "name": "stdout",
     "output_type": "stream",
     "text": [
      "(forall (?x) (or (not (red ?x)) (exists (?y) (and (blue ?y) (on ?x ?y)))))\n",
      "bw 0.15\n",
      "bw 0.15\n",
      "problem47.pddl reward: -16\n",
      "Parsing domain blocks-domain.pddl\n",
      "Parsing problem bijection/problem48.pddl\n"
     ]
    },
    {
     "name": "stderr",
     "output_type": "stream",
     "text": [
      "T: no, put red blocks on blue blocks\n"
     ]
    },
    {
     "name": "stdout",
     "output_type": "stream",
     "text": [
      "(forall (?x) (or (not (red ?x)) (exists (?y) (and (blue ?y) (on ?x ?y)))))\n",
      "bw 0.15\n",
      "bw 0.15\n",
      "bw 0.15\n",
      "bw 0.15\n",
      "problem48.pddl reward: -12\n",
      "Parsing domain blocks-domain.pddl\n",
      "Parsing problem bijection/problem49.pddl\n",
      "problem49.pddl reward: -10\n",
      "Parsing domain blocks-domain.pddl\n",
      "Parsing problem bijection/problem5.pddl\n"
     ]
    },
    {
     "name": "stderr",
     "output_type": "stream",
     "text": [
      "T: no, put red blocks on blue blocks\n"
     ]
    },
    {
     "name": "stdout",
     "output_type": "stream",
     "text": [
      "(forall (?y) (or (not (blue ?y)) (exists (?x) (and (red ?x) (on ?x ?y)))))\n",
      "bw 0.15\n",
      "bw 0.15\n",
      "bw 0.15\n",
      "bw 0.15\n"
     ]
    },
    {
     "name": "stderr",
     "output_type": "stream",
     "text": [
      "T: no, put red blocks on blue blocks\n"
     ]
    },
    {
     "name": "stdout",
     "output_type": "stream",
     "text": [
      "(forall (?y) (or (not (blue ?y)) (exists (?x) (and (red ?x) (on ?x ?y)))))\n",
      "bw 0.15\n",
      "bw 0.15\n",
      "problem5.pddl reward: -14\n",
      "Parsing domain blocks-domain.pddl\n",
      "Parsing problem bijection/problem50.pddl\n"
     ]
    },
    {
     "name": "stderr",
     "output_type": "stream",
     "text": [
      "T: no, put red blocks on blue blocks\n"
     ]
    },
    {
     "name": "stdout",
     "output_type": "stream",
     "text": [
      "(forall (?y) (or (not (blue ?y)) (exists (?x) (and (red ?x) (on ?x ?y)))))\n",
      "bw 0.15\n",
      "bw 0.15\n",
      "bw 0.15\n",
      "bw 0.15\n",
      "problem50.pddl reward: -12\n",
      "Parsing domain blocks-domain.pddl\n",
      "Parsing problem bijection/problem6.pddl\n"
     ]
    },
    {
     "name": "stderr",
     "output_type": "stream",
     "text": [
      "T: no, put red blocks on blue blocks\n"
     ]
    },
    {
     "name": "stdout",
     "output_type": "stream",
     "text": [
      "(forall (?y) (or (not (blue ?y)) (exists (?x) (and (red ?x) (on ?x ?y)))))\n",
      "bw 0.15\n",
      "bw 0.15\n",
      "bw 0.15\n",
      "bw 0.15\n"
     ]
    },
    {
     "name": "stderr",
     "output_type": "stream",
     "text": [
      "T: no, put red blocks on blue blocks\n"
     ]
    },
    {
     "name": "stdout",
     "output_type": "stream",
     "text": [
      "(forall (?y) (or (not (blue ?y)) (exists (?x) (and (red ?x) (on ?x ?y)))))\n",
      "bw 0.15\n",
      "bw 0.15\n"
     ]
    },
    {
     "name": "stderr",
     "output_type": "stream",
     "text": [
      "T: no, put red blocks on blue blocks\n"
     ]
    },
    {
     "name": "stdout",
     "output_type": "stream",
     "text": [
      "(forall (?y) (or (not (blue ?y)) (exists (?x) (and (red ?x) (on ?x ?y)))))\n",
      "bw 0.15\n",
      "bw 0.15\n",
      "problem6.pddl reward: -16\n",
      "Parsing domain blocks-domain.pddl\n",
      "Parsing problem bijection/problem7.pddl\n"
     ]
    },
    {
     "name": "stderr",
     "output_type": "stream",
     "text": [
      "T: no, put red blocks on blue blocks\n"
     ]
    },
    {
     "name": "stdout",
     "output_type": "stream",
     "text": [
      "(forall (?y) (or (not (blue ?y)) (exists (?x) (and (red ?x) (on ?x ?y)))))\n",
      "bw 0.15\n",
      "bw 0.15\n",
      "bw 0.15\n",
      "bw 0.15\n"
     ]
    },
    {
     "name": "stderr",
     "output_type": "stream",
     "text": [
      "T: no, put red blocks on blue blocks\n"
     ]
    },
    {
     "name": "stdout",
     "output_type": "stream",
     "text": [
      "(forall (?y) (or (not (blue ?y)) (exists (?x) (and (red ?x) (on ?x ?y)))))\n",
      "bw 0.15\n",
      "bw 0.15\n"
     ]
    },
    {
     "name": "stderr",
     "output_type": "stream",
     "text": [
      "T: no, put red blocks on blue blocks\n"
     ]
    },
    {
     "name": "stdout",
     "output_type": "stream",
     "text": [
      "(forall (?y) (or (not (blue ?y)) (exists (?x) (and (red ?x) (on ?x ?y)))))\n",
      "bw 0.15\n",
      "bw 0.15\n"
     ]
    },
    {
     "name": "stderr",
     "output_type": "stream",
     "text": [
      "T: no, put red blocks on blue blocks\n"
     ]
    },
    {
     "name": "stdout",
     "output_type": "stream",
     "text": [
      "(forall (?y) (or (not (blue ?y)) (exists (?x) (and (red ?x) (on ?x ?y)))))\n",
      "bw 0.15\n",
      "bw 0.15\n",
      "problem7.pddl reward: -18\n",
      "Parsing domain blocks-domain.pddl\n",
      "Parsing problem bijection/problem8.pddl\n"
     ]
    },
    {
     "name": "stderr",
     "output_type": "stream",
     "text": [
      "T: no, put red blocks on blue blocks\n"
     ]
    },
    {
     "name": "stdout",
     "output_type": "stream",
     "text": [
      "(forall (?x) (or (not (red ?x)) (exists (?y) (and (blue ?y) (on ?x ?y)))))\n",
      "bw 0.15\n",
      "bw 0.15\n",
      "bw 0.15\n",
      "bw 0.15\n"
     ]
    },
    {
     "name": "stderr",
     "output_type": "stream",
     "text": [
      "T: no, put red blocks on blue blocks\n"
     ]
    },
    {
     "name": "stdout",
     "output_type": "stream",
     "text": [
      "(forall (?x) (or (not (red ?x)) (exists (?y) (and (blue ?y) (on ?x ?y)))))\n",
      "bw 0.15\n",
      "bw 0.15\n"
     ]
    },
    {
     "name": "stderr",
     "output_type": "stream",
     "text": [
      "T: no, put red blocks on blue blocks\n"
     ]
    },
    {
     "name": "stdout",
     "output_type": "stream",
     "text": [
      "(forall (?x) (or (not (red ?x)) (exists (?y) (and (blue ?y) (on ?x ?y)))))\n",
      "bw 0.15\n",
      "problem8.pddl reward: -16\n",
      "Parsing domain blocks-domain.pddl\n",
      "Parsing problem bijection/problem9.pddl\n"
     ]
    },
    {
     "name": "stderr",
     "output_type": "stream",
     "text": [
      "T: no, put red blocks on blue blocks\n"
     ]
    },
    {
     "name": "stdout",
     "output_type": "stream",
     "text": [
      "(forall (?x) (or (not (red ?x)) (exists (?y) (and (blue ?y) (on ?x ?y)))))\n",
      "bw 0.15\n",
      "bw 0.15\n",
      "bw 0.15\n",
      "bw 0.15\n"
     ]
    },
    {
     "name": "stderr",
     "output_type": "stream",
     "text": [
      "T: no, put red blocks on blue blocks\n"
     ]
    },
    {
     "name": "stdout",
     "output_type": "stream",
     "text": [
      "(forall (?x) (or (not (red ?x)) (exists (?y) (and (blue ?y) (on ?x ?y)))))\n",
      "bw 0.15\n"
     ]
    },
    {
     "name": "stderr",
     "output_type": "stream",
     "text": [
      "T: no, put red blocks on blue blocks\n"
     ]
    },
    {
     "name": "stdout",
     "output_type": "stream",
     "text": [
      "(forall (?x) (or (not (red ?x)) (exists (?y) (and (blue ?y) (on ?x ?y)))))\n",
      "bw 0.15\n",
      "bw 0.15\n"
     ]
    },
    {
     "name": "stderr",
     "output_type": "stream",
     "text": [
      "T: no, put red blocks on blue blocks\n"
     ]
    },
    {
     "name": "stdout",
     "output_type": "stream",
     "text": [
      "(forall (?x) (or (not (red ?x)) (exists (?y) (and (blue ?y) (on ?x ?y)))))\n"
     ]
    },
    {
     "name": "stderr",
     "output_type": "stream",
     "text": [
      "T: no, put red blocks on blue blocks\n"
     ]
    },
    {
     "name": "stdout",
     "output_type": "stream",
     "text": [
      "(forall (?x) (or (not (red ?x)) (exists (?y) (and (blue ?y) (on ?x ?y)))))\n"
     ]
    },
    {
     "name": "stderr",
     "output_type": "stream",
     "text": [
      "T: no, put red blocks on blue blocks\n"
     ]
    },
    {
     "name": "stdout",
     "output_type": "stream",
     "text": [
      "(forall (?x) (or (not (red ?x)) (exists (?y) (and (blue ?y) (on ?x ?y)))))\n",
      "bw 0.15\n"
     ]
    },
    {
     "name": "stderr",
     "output_type": "stream",
     "text": [
      "T: no, put red blocks on blue blocks\n"
     ]
    },
    {
     "name": "stdout",
     "output_type": "stream",
     "text": [
      "(forall (?x) (or (not (red ?x)) (exists (?y) (and (blue ?y) (on ?x ?y)))))\n",
      "bw 0.15\n",
      "problem9.pddl reward: -24\n"
     ]
    }
   ],
   "source": [
    "add_experiment('bijection_kde_update_negative', None)"
   ]
  },
  {
   "cell_type": "code",
   "execution_count": 21,
   "metadata": {},
   "outputs": [
    {
     "name": "stdout",
     "output_type": "stream",
     "text": [
      "Parsing domain blocks-domain.pddl\n",
      "Parsing problem tworules/problem1.pddl\n",
      "Parsing domain blocks-domain.pddl\n",
      "Parsing problem tworules/problem1.pddl\n"
     ]
    },
    {
     "name": "stderr",
     "output_type": "stream",
     "text": [
      "T: No, now you cannot put b1 in the tower because you must put green blocks on yellow blocks\n",
      "T: No, now you cannot put b1 in the tower because you must put green blocks on yellow blocks\n",
      "T: No, now you cannot put b1 in the tower because you must put green blocks on yellow blocks\n",
      "T: No, now you cannot put b1 in the tower because you must put green blocks on yellow blocks\n",
      "T: No, now you cannot put b1 in the tower because you must put green blocks on yellow blocks\n",
      "T: No, now you cannot put b4 in the tower because you must put red blocks on blue blocks\n"
     ]
    },
    {
     "name": "stdout",
     "output_type": "stream",
     "text": [
      "problem1.pddl reward: -20\n",
      "Parsing domain blocks-domain.pddl\n",
      "Parsing problem tworules/problem10.pddl\n"
     ]
    },
    {
     "name": "stderr",
     "output_type": "stream",
     "text": [
      "T: no, put red blocks on blue blocks\n",
      "T: no, put red blocks on blue blocks\n"
     ]
    },
    {
     "name": "stdout",
     "output_type": "stream",
     "text": [
      "problem10.pddl reward: -12\n",
      "Parsing domain blocks-domain.pddl\n",
      "Parsing problem tworules/problem11.pddl\n",
      "(forall (?x) (or (not (red ?x)) (exists (?y) (and (blue ?y) (on ?x ?y)))))\n",
      "(forall (?x) (or (not (red ?x)) (exists (?y) (and (blue ?y) (on ?x ?y)))))\n",
      "(forall (?x) (or (not (red ?x)) (exists (?y) (and (blue ?y) (on ?x ?y)))))\n"
     ]
    },
    {
     "name": "stderr",
     "output_type": "stream",
     "text": [
      "T: no, put red blocks on blue blocks\n",
      "T: no, put red blocks on blue blocks\n",
      "T: no, put red blocks on blue blocks\n",
      "T: no, put red blocks on blue blocks\n",
      "T: no, put red blocks on blue blocks\n"
     ]
    },
    {
     "name": "stdout",
     "output_type": "stream",
     "text": [
      "(forall (?x) (or (not (red ?x)) (exists (?y) (and (blue ?y) (on ?x ?y)))))\n",
      "(forall (?x) (or (not (red ?x)) (exists (?y) (and (blue ?y) (on ?x ?y)))))\n",
      "(forall (?x) (or (not (red ?x)) (exists (?y) (and (blue ?y) (on ?x ?y)))))\n",
      "(forall (?x) (or (not (red ?x)) (exists (?y) (and (blue ?y) (on ?x ?y)))))\n"
     ]
    },
    {
     "name": "stderr",
     "output_type": "stream",
     "text": [
      "T: no, put red blocks on blue blocks\n",
      "T: no, put red blocks on blue blocks\n",
      "T: no, put red blocks on blue blocks\n",
      "T: no, put red blocks on blue blocks\n"
     ]
    },
    {
     "name": "stdout",
     "output_type": "stream",
     "text": [
      "(forall (?x) (or (not (red ?x)) (exists (?y) (and (blue ?y) (on ?x ?y)))))\n",
      "(forall (?x) (or (not (red ?x)) (exists (?y) (and (blue ?y) (on ?x ?y)))))\n",
      "(forall (?x) (or (not (red ?x)) (exists (?y) (and (blue ?y) (on ?x ?y)))))\n",
      "(forall (?x) (or (not (red ?x)) (exists (?y) (and (blue ?y) (on ?x ?y)))))\n"
     ]
    },
    {
     "name": "stderr",
     "output_type": "stream",
     "text": [
      "T: no, put red blocks on blue blocks\n"
     ]
    },
    {
     "name": "stdout",
     "output_type": "stream",
     "text": [
      "(forall (?x) (or (not (red ?x)) (exists (?y) (and (blue ?y) (on ?x ?y)))))\n",
      "problem11.pddl reward: -34\n",
      "Parsing domain blocks-domain.pddl\n",
      "Parsing problem tworules/problem12.pddl\n"
     ]
    },
    {
     "name": "stderr",
     "output_type": "stream",
     "text": [
      "T: No, now you cannot put b4 in the tower because you must put red blocks on blue blocks\n",
      "T: No, now you cannot put b4 in the tower because you must put red blocks on blue blocks\n",
      "T: no, put red blocks on blue blocks\n"
     ]
    },
    {
     "name": "stdout",
     "output_type": "stream",
     "text": [
      "(forall (?x) (or (not (red ?x)) (exists (?y) (and (blue ?y) (on ?x ?y)))))\n",
      "problem12.pddl reward: -16\n",
      "Parsing domain blocks-domain.pddl\n",
      "Parsing problem tworules/problem13.pddl\n"
     ]
    },
    {
     "name": "stderr",
     "output_type": "stream",
     "text": [
      "T: no, put red blocks on blue blocks\n",
      "T: no, put red blocks on blue blocks\n",
      "T: no, put red blocks on blue blocks\n",
      "T: no, put red blocks on blue blocks\n"
     ]
    },
    {
     "name": "stdout",
     "output_type": "stream",
     "text": [
      "(forall (?x) (or (not (red ?x)) (exists (?y) (and (blue ?y) (on ?x ?y)))))\n",
      "(forall (?x) (or (not (red ?x)) (exists (?y) (and (blue ?y) (on ?x ?y)))))\n",
      "(forall (?x) (or (not (red ?x)) (exists (?y) (and (blue ?y) (on ?x ?y)))))\n",
      "(forall (?x) (or (not (red ?x)) (exists (?y) (and (blue ?y) (on ?x ?y)))))\n"
     ]
    },
    {
     "name": "stderr",
     "output_type": "stream",
     "text": [
      "T: no, put red blocks on blue blocks\n",
      "T: no, put red blocks on blue blocks\n",
      "T: no, put red blocks on blue blocks\n",
      "T: no, put red blocks on blue blocks\n"
     ]
    },
    {
     "name": "stdout",
     "output_type": "stream",
     "text": [
      "(forall (?x) (or (not (red ?x)) (exists (?y) (and (blue ?y) (on ?x ?y)))))\n",
      "(forall (?x) (or (not (red ?x)) (exists (?y) (and (blue ?y) (on ?x ?y)))))\n",
      "(forall (?x) (or (not (red ?x)) (exists (?y) (and (blue ?y) (on ?x ?y)))))\n",
      "(forall (?x) (or (not (red ?x)) (exists (?y) (and (blue ?y) (on ?x ?y)))))\n"
     ]
    },
    {
     "name": "stderr",
     "output_type": "stream",
     "text": [
      "T: no, put red blocks on blue blocks\n",
      "T: no, put red blocks on blue blocks\n"
     ]
    },
    {
     "name": "stdout",
     "output_type": "stream",
     "text": [
      "(forall (?x) (or (not (red ?x)) (exists (?y) (and (blue ?y) (on ?x ?y)))))\n",
      "(forall (?x) (or (not (red ?x)) (exists (?y) (and (blue ?y) (on ?x ?y)))))\n",
      "problem13.pddl reward: -30\n",
      "Parsing domain blocks-domain.pddl\n",
      "Parsing problem tworules/problem14.pddl\n"
     ]
    },
    {
     "name": "stderr",
     "output_type": "stream",
     "text": [
      "T: no, put red blocks on blue blocks\n",
      "T: no, put red blocks on blue blocks\n",
      "T: no, put red blocks on blue blocks\n"
     ]
    },
    {
     "name": "stdout",
     "output_type": "stream",
     "text": [
      "(forall (?x) (or (not (red ?x)) (exists (?y) (and (blue ?y) (on ?x ?y)))))\n",
      "(forall (?x) (or (not (red ?x)) (exists (?y) (and (blue ?y) (on ?x ?y)))))\n",
      "(forall (?x) (or (not (red ?x)) (exists (?y) (and (blue ?y) (on ?x ?y)))))\n"
     ]
    },
    {
     "name": "stderr",
     "output_type": "stream",
     "text": [
      "T: no, put red blocks on blue blocks\n",
      "T: No, now you cannot put b2 in the tower because you must put green blocks on yellow blocks\n",
      "T: No, now you cannot put b2 in the tower because you must put green blocks on yellow blocks\n"
     ]
    },
    {
     "name": "stdout",
     "output_type": "stream",
     "text": [
      "(forall (?x) (or (not (red ?x)) (exists (?y) (and (blue ?y) (on ?x ?y)))))\n"
     ]
    },
    {
     "name": "stderr",
     "output_type": "stream",
     "text": [
      "T: No, now you cannot put b2 in the tower because you must put green blocks on yellow blocks\n",
      "T: no, put red blocks on blue blocks\n",
      "T: no, put red blocks on blue blocks\n"
     ]
    },
    {
     "name": "stdout",
     "output_type": "stream",
     "text": [
      "problem14.pddl reward: -24\n",
      "Parsing domain blocks-domain.pddl\n",
      "Parsing problem tworules/problem15.pddl\n",
      "(forall (?x) (or (not (red ?x)) (exists (?y) (and (blue ?y) (on ?x ?y)))))\n",
      "(forall (?x) (or (not (red ?x)) (exists (?y) (and (blue ?y) (on ?x ?y)))))\n"
     ]
    },
    {
     "name": "stderr",
     "output_type": "stream",
     "text": [
      "T: No, now you cannot put b1 in the tower because you must put green blocks on yellow blocks\n",
      "T: no, put red blocks on blue blocks\n"
     ]
    },
    {
     "name": "stdout",
     "output_type": "stream",
     "text": [
      "problem15.pddl reward: -14\n",
      "Parsing domain blocks-domain.pddl\n",
      "Parsing problem tworules/problem16.pddl\n",
      "(forall (?x) (or (not (red ?x)) (exists (?y) (and (blue ?y) (on ?x ?y)))))\n"
     ]
    },
    {
     "name": "stderr",
     "output_type": "stream",
     "text": [
      "T: No, now you cannot put b1 in the tower because you must put green blocks on yellow blocks\n",
      "T: no, put red blocks on blue blocks\n",
      "T: No, now you cannot put b0 in the tower because you must put red blocks on blue blocks\n",
      "T: No, now you cannot put b1 in the tower because you must put green blocks on yellow blocks\n",
      "T: No, now you cannot put b1 in the tower because you must put green blocks on yellow blocks\n"
     ]
    },
    {
     "name": "stdout",
     "output_type": "stream",
     "text": [
      "(forall (?x) (or (not (red ?x)) (exists (?y) (and (blue ?y) (on ?x ?y)))))\n"
     ]
    },
    {
     "name": "stderr",
     "output_type": "stream",
     "text": [
      "T: No, now you cannot put b0 in the tower because you must put red blocks on blue blocks\n",
      "T: No, now you cannot put b0 in the tower because you must put red blocks on blue blocks\n",
      "T: No, now you cannot put b1 in the tower because you must put green blocks on yellow blocks\n",
      "T: No, now you cannot put b5 in the tower because you must put green blocks on yellow blocks\n"
     ]
    },
    {
     "name": "stdout",
     "output_type": "stream",
     "text": [
      "problem16.pddl reward: -30\n",
      "Parsing domain blocks-domain.pddl\n",
      "Parsing problem tworules/problem17.pddl\n"
     ]
    },
    {
     "name": "stderr",
     "output_type": "stream",
     "text": [
      "T: No, now you cannot put b1 in the tower because you must put red blocks on blue blocks\n",
      "T: No, now you cannot put b1 in the tower because you must put red blocks on blue blocks\n"
     ]
    },
    {
     "name": "stdout",
     "output_type": "stream",
     "text": [
      "problem17.pddl reward: -12\n",
      "Parsing domain blocks-domain.pddl\n",
      "Parsing problem tworules/problem18.pddl\n"
     ]
    },
    {
     "name": "stderr",
     "output_type": "stream",
     "text": [
      "T: No, now you cannot put b1 in the tower because you must put red blocks on blue blocks\n",
      "T: No, now you cannot put b1 in the tower because you must put red blocks on blue blocks\n",
      "T: No, now you cannot put b1 in the tower because you must put red blocks on blue blocks\n",
      "T: no, put green blocks on yellow blocks\n",
      "T: no, put green blocks on yellow blocks\n",
      "T: no, put red blocks on blue blocks\n"
     ]
    },
    {
     "name": "stdout",
     "output_type": "stream",
     "text": [
      "(forall (?y) (or (not (yellow ?y)) (exists (?x) (and (green ?x) (on ?x ?y)))))\n",
      "(forall (?y) (or (not (yellow ?y)) (exists (?x) (and (green ?x) (on ?x ?y)))))\n",
      "(forall (?x) (or (not (red ?x)) (exists (?y) (and (blue ?y) (on ?x ?y)))))\n",
      "problem18.pddl reward: -26\n",
      "Parsing domain blocks-domain.pddl\n",
      "Parsing problem tworules/problem19.pddl\n"
     ]
    },
    {
     "name": "stderr",
     "output_type": "stream",
     "text": [
      "T: No, now you cannot put b0 in the tower because you must put green blocks on yellow blocks\n"
     ]
    },
    {
     "name": "stdout",
     "output_type": "stream",
     "text": [
      "problem19.pddl reward: -10\n",
      "Parsing domain blocks-domain.pddl\n",
      "Parsing problem tworules/problem2.pddl\n"
     ]
    },
    {
     "name": "stderr",
     "output_type": "stream",
     "text": [
      "T: No, now you cannot put b0 in the tower because you must put green blocks on yellow blocks\n",
      "T: No, now you cannot put b0 in the tower because you must put green blocks on yellow blocks\n",
      "T: No, now you cannot put b0 in the tower because you must put green blocks on yellow blocks\n",
      "T: no, put green blocks on yellow blocks\n",
      "T: no, put green blocks on yellow blocks\n"
     ]
    },
    {
     "name": "stdout",
     "output_type": "stream",
     "text": [
      "problem2.pddl reward: -18\n",
      "Parsing domain blocks-domain.pddl\n",
      "Parsing problem tworules/problem20.pddl\n",
      "(forall (?y) (or (not (yellow ?y)) (exists (?x) (and (green ?x) (on ?x ?y)))))\n",
      "(forall (?y) (or (not (yellow ?y)) (exists (?x) (and (green ?x) (on ?x ?y)))))\n",
      "problem20.pddl reward: -14\n",
      "Parsing domain blocks-domain.pddl\n",
      "Parsing problem tworules/problem21.pddl\n",
      "problem21.pddl reward: -10\n",
      "Parsing domain blocks-domain.pddl\n",
      "Parsing problem tworules/problem22.pddl\n"
     ]
    },
    {
     "name": "stderr",
     "output_type": "stream",
     "text": [
      "T: no, put red blocks on blue blocks\n",
      "T: no, put red blocks on blue blocks\n"
     ]
    },
    {
     "name": "stdout",
     "output_type": "stream",
     "text": [
      "problem22.pddl reward: -10\n",
      "Parsing domain blocks-domain.pddl\n",
      "Parsing problem tworules/problem23.pddl\n",
      "(forall (?x) (or (not (red ?x)) (exists (?y) (and (blue ?y) (on ?x ?y)))))\n",
      "(forall (?x) (or (not (red ?x)) (exists (?y) (and (blue ?y) (on ?x ?y)))))\n"
     ]
    },
    {
     "name": "stderr",
     "output_type": "stream",
     "text": [
      "T: no, put green blocks on yellow blocks\n",
      "T: no, put green blocks on yellow blocks\n"
     ]
    },
    {
     "name": "stdout",
     "output_type": "stream",
     "text": [
      "problem23.pddl reward: -14\n",
      "Parsing domain blocks-domain.pddl\n",
      "Parsing problem tworules/problem24.pddl\n",
      "(forall (?y) (or (not (yellow ?y)) (exists (?x) (and (green ?x) (on ?x ?y)))))\n",
      "(forall (?y) (or (not (yellow ?y)) (exists (?x) (and (green ?x) (on ?x ?y)))))\n"
     ]
    },
    {
     "name": "stderr",
     "output_type": "stream",
     "text": [
      "T: No, now you cannot put b1 in the tower because you must put green blocks on yellow blocks\n",
      "T: No, now you cannot put b1 in the tower because you must put green blocks on yellow blocks\n",
      "T: no, put red blocks on blue blocks\n",
      "T: no, put red blocks on blue blocks\n"
     ]
    },
    {
     "name": "stdout",
     "output_type": "stream",
     "text": [
      "problem24.pddl reward: -18\n",
      "Parsing domain blocks-domain.pddl\n",
      "Parsing problem tworules/problem25.pddl\n",
      "(forall (?x) (or (not (red ?x)) (exists (?y) (and (blue ?y) (on ?x ?y)))))\n",
      "(forall (?x) (or (not (red ?x)) (exists (?y) (and (blue ?y) (on ?x ?y)))))\n"
     ]
    },
    {
     "name": "stderr",
     "output_type": "stream",
     "text": [
      "T: no, put red blocks on blue blocks\n",
      "T: no, put red blocks on blue blocks\n"
     ]
    },
    {
     "name": "stdout",
     "output_type": "stream",
     "text": [
      "(forall (?x) (or (not (red ?x)) (exists (?y) (and (blue ?y) (on ?x ?y)))))\n",
      "(forall (?x) (or (not (red ?x)) (exists (?y) (and (blue ?y) (on ?x ?y)))))\n",
      "problem25.pddl reward: -18\n",
      "Parsing domain blocks-domain.pddl\n"
     ]
    },
    {
     "name": "stderr",
     "output_type": "stream",
     "text": [
      "T: No, now you cannot put b2 in the tower because you must put green blocks on yellow blocks\n",
      "T: No, now you cannot put b2 in the tower because you must put green blocks on yellow blocks\n"
     ]
    },
    {
     "name": "stdout",
     "output_type": "stream",
     "text": [
      "Parsing problem tworules/problem26.pddl\n",
      "problem26.pddl reward: -10\n",
      "Parsing domain blocks-domain.pddl\n",
      "Parsing problem tworules/problem27.pddl\n"
     ]
    },
    {
     "name": "stderr",
     "output_type": "stream",
     "text": [
      "T: No, now you cannot put b2 in the tower because you must put green blocks on yellow blocks\n",
      "T: No, now you cannot put b2 in the tower because you must put green blocks on yellow blocks\n",
      "T: No, now you cannot put b2 in the tower because you must put green blocks on yellow blocks\n",
      "T: No, now you cannot put b2 in the tower because you must put green blocks on yellow blocks\n"
     ]
    },
    {
     "name": "stdout",
     "output_type": "stream",
     "text": [
      "problem27.pddl reward: -18\n",
      "Parsing domain blocks-domain.pddl\n",
      "Parsing problem tworules/problem28.pddl\n"
     ]
    },
    {
     "name": "stderr",
     "output_type": "stream",
     "text": [
      "T: No, now you cannot put b2 in the tower because you must put green blocks on yellow blocks\n",
      "T: No, now you cannot put b2 in the tower because you must put green blocks on yellow blocks\n",
      "T: No, now you cannot put b2 in the tower because you must put green blocks on yellow blocks\n",
      "T: No, now you cannot put b2 in the tower because you must put green blocks on yellow blocks\n",
      "T: no, put red blocks on blue blocks\n",
      "T: No, now you cannot put b2 in the tower because you must put green blocks on yellow blocks\n"
     ]
    },
    {
     "name": "stdout",
     "output_type": "stream",
     "text": [
      "problem28.pddl reward: -22\n",
      "Parsing domain blocks-domain.pddl\n",
      "Parsing problem tworules/problem29.pddl\n",
      "(forall (?x) (or (not (red ?x)) (exists (?y) (and (blue ?y) (on ?x ?y)))))\n"
     ]
    },
    {
     "name": "stderr",
     "output_type": "stream",
     "text": [
      "T: No, now you cannot put b2 in the tower because you must put green blocks on yellow blocks\n",
      "T: No, now you cannot put b2 in the tower because you must put green blocks on yellow blocks\n",
      "T: No, now you cannot put b1 in the tower because you must put red blocks on blue blocks\n"
     ]
    },
    {
     "name": "stdout",
     "output_type": "stream",
     "text": [
      "problem29.pddl reward: -18\n",
      "Parsing domain blocks-domain.pddl\n",
      "Parsing problem tworules/problem3.pddl\n"
     ]
    },
    {
     "name": "stderr",
     "output_type": "stream",
     "text": [
      "T: No, now you cannot put b1 in the tower because you must put red blocks on blue blocks\n",
      "T: no, put red blocks on blue blocks\n"
     ]
    },
    {
     "name": "stdout",
     "output_type": "stream",
     "text": [
      "(forall (?x) (or (not (red ?x)) (exists (?y) (and (blue ?y) (on ?x ?y)))))\n",
      "problem3.pddl reward: -16\n",
      "Parsing domain blocks-domain.pddl\n",
      "Parsing problem tworules/problem30.pddl\n"
     ]
    },
    {
     "name": "stderr",
     "output_type": "stream",
     "text": [
      "T: no, put green blocks on yellow blocks\n",
      "T: no, put green blocks on yellow blocks\n",
      "T: no, put green blocks on yellow blocks\n"
     ]
    },
    {
     "name": "stdout",
     "output_type": "stream",
     "text": [
      "problem30.pddl reward: -10\n",
      "Parsing domain blocks-domain.pddl\n",
      "Parsing problem tworules/problem31.pddl\n",
      "(forall (?y) (or (not (yellow ?y)) (exists (?x) (and (green ?x) (on ?x ?y)))))\n",
      "(forall (?y) (or (not (yellow ?y)) (exists (?x) (and (green ?x) (on ?x ?y)))))\n",
      "(forall (?y) (or (not (yellow ?y)) (exists (?x) (and (green ?x) (on ?x ?y)))))\n"
     ]
    },
    {
     "name": "stderr",
     "output_type": "stream",
     "text": [
      "T: no, put green blocks on yellow blocks\n",
      "T: no, put red blocks on blue blocks\n",
      "T: no, put green blocks on yellow blocks\n"
     ]
    },
    {
     "name": "stdout",
     "output_type": "stream",
     "text": [
      "(forall (?y) (or (not (yellow ?y)) (exists (?x) (and (green ?x) (on ?x ?y)))))\n",
      "(forall (?x) (or (not (red ?x)) (exists (?y) (and (blue ?y) (on ?x ?y)))))\n",
      "(forall (?y) (or (not (yellow ?y)) (exists (?x) (and (green ?x) (on ?x ?y)))))\n"
     ]
    },
    {
     "name": "stderr",
     "output_type": "stream",
     "text": [
      "T: no, put red blocks on blue blocks\n"
     ]
    },
    {
     "name": "stdout",
     "output_type": "stream",
     "text": [
      "(forall (?x) (or (not (red ?x)) (exists (?y) (and (blue ?y) (on ?x ?y)))))\n",
      "problem31.pddl reward: -24\n",
      "Parsing domain blocks-domain.pddl\n",
      "Parsing problem tworules/problem32.pddl\n"
     ]
    },
    {
     "name": "stderr",
     "output_type": "stream",
     "text": [
      "T: no, put red blocks on blue blocks\n",
      "T: no, put red blocks on blue blocks\n"
     ]
    },
    {
     "name": "stdout",
     "output_type": "stream",
     "text": [
      "(forall (?x) (or (not (red ?x)) (exists (?y) (and (blue ?y) (on ?x ?y)))))\n",
      "(forall (?x) (or (not (red ?x)) (exists (?y) (and (blue ?y) (on ?x ?y)))))\n",
      "problem32.pddl reward: -14\n",
      "Parsing domain blocks-domain.pddl\n",
      "Parsing problem tworules/problem33.pddl\n"
     ]
    },
    {
     "name": "stderr",
     "output_type": "stream",
     "text": [
      "T: no, put red blocks on blue blocks\n",
      "T: no, put red blocks on blue blocks\n",
      "T: no, put red blocks on blue blocks\n",
      "T: No, now you cannot put b1 in the tower because you must put green blocks on yellow blocks\n"
     ]
    },
    {
     "name": "stdout",
     "output_type": "stream",
     "text": [
      "(forall (?x) (or (not (red ?x)) (exists (?y) (and (blue ?y) (on ?x ?y)))))\n",
      "(forall (?x) (or (not (red ?x)) (exists (?y) (and (blue ?y) (on ?x ?y)))))\n",
      "(forall (?x) (or (not (red ?x)) (exists (?y) (and (blue ?y) (on ?x ?y)))))\n"
     ]
    },
    {
     "name": "stderr",
     "output_type": "stream",
     "text": [
      "T: no, put red blocks on blue blocks\n",
      "T: No, now you cannot put b1 in the tower because you must put green blocks on yellow blocks\n",
      "T: no, put red blocks on blue blocks\n",
      "T: No, now you cannot put b1 in the tower because you must put green blocks on yellow blocks\n"
     ]
    },
    {
     "name": "stdout",
     "output_type": "stream",
     "text": [
      "(forall (?x) (or (not (red ?x)) (exists (?y) (and (blue ?y) (on ?x ?y)))))\n",
      "(forall (?x) (or (not (red ?x)) (exists (?y) (and (blue ?y) (on ?x ?y)))))\n"
     ]
    },
    {
     "name": "stderr",
     "output_type": "stream",
     "text": [
      "T: no, put red blocks on blue blocks\n",
      "T: no, put red blocks on blue blocks\n"
     ]
    },
    {
     "name": "stdout",
     "output_type": "stream",
     "text": [
      "(forall (?x) (or (not (red ?x)) (exists (?y) (and (blue ?y) (on ?x ?y)))))\n",
      "(forall (?x) (or (not (red ?x)) (exists (?y) (and (blue ?y) (on ?x ?y)))))\n",
      "problem33.pddl reward: -30\n",
      "Parsing domain blocks-domain.pddl\n",
      "Parsing problem tworules/problem34.pddl\n"
     ]
    },
    {
     "name": "stderr",
     "output_type": "stream",
     "text": [
      "T: no, put red blocks on blue blocks\n",
      "T: No, now you cannot put b3 in the tower because you must put green blocks on yellow blocks\n"
     ]
    },
    {
     "name": "stdout",
     "output_type": "stream",
     "text": [
      "(forall (?x) (or (not (red ?x)) (exists (?y) (and (blue ?y) (on ?x ?y)))))\n"
     ]
    },
    {
     "name": "stderr",
     "output_type": "stream",
     "text": [
      "T: no, put red blocks on blue blocks\n",
      "T: No, now you cannot put b3 in the tower because you must put green blocks on yellow blocks\n",
      "T: No, now you cannot put b3 in the tower because you must put green blocks on yellow blocks\n",
      "T: No, now you cannot put b3 in the tower because you must put green blocks on yellow blocks\n"
     ]
    },
    {
     "name": "stdout",
     "output_type": "stream",
     "text": [
      "(forall (?x) (or (not (red ?x)) (exists (?y) (and (blue ?y) (on ?x ?y)))))\n"
     ]
    },
    {
     "name": "stderr",
     "output_type": "stream",
     "text": [
      "T: No, now you cannot put b3 in the tower because you must put green blocks on yellow blocks\n",
      "T: No, now you cannot put b4 in the tower because you must put green blocks on yellow blocks\n"
     ]
    },
    {
     "name": "stdout",
     "output_type": "stream",
     "text": [
      "problem34.pddl reward: -24\n",
      "Parsing domain blocks-domain.pddl\n",
      "Parsing problem tworules/problem35.pddl\n"
     ]
    },
    {
     "name": "stderr",
     "output_type": "stream",
     "text": [
      "T: No, now you cannot put b4 in the tower because you must put green blocks on yellow blocks\n",
      "T: No, now you cannot put b4 in the tower because you must put green blocks on yellow blocks\n",
      "T: No, now you cannot put b4 in the tower because you must put green blocks on yellow blocks\n",
      "T: No, now you cannot put b3 in the tower because you must put red blocks on blue blocks\n",
      "T: No, now you cannot put b3 in the tower because you must put red blocks on blue blocks\n",
      "T: No, now you cannot put b4 in the tower because you must put green blocks on yellow blocks\n"
     ]
    },
    {
     "name": "stdout",
     "output_type": "stream",
     "text": [
      "problem35.pddl reward: -24\n",
      "Parsing domain blocks-domain.pddl\n",
      "Parsing problem tworules/problem36.pddl\n"
     ]
    },
    {
     "name": "stderr",
     "output_type": "stream",
     "text": [
      "T: no, put green blocks on yellow blocks\n",
      "T: no, put green blocks on yellow blocks\n"
     ]
    },
    {
     "name": "stdout",
     "output_type": "stream",
     "text": [
      "problem36.pddl reward: -10\n",
      "Parsing domain blocks-domain.pddl\n",
      "Parsing problem tworules/problem37.pddl\n",
      "(forall (?y) (or (not (yellow ?y)) (exists (?x) (and (green ?x) (on ?x ?y)))))\n",
      "(forall (?y) (or (not (yellow ?y)) (exists (?x) (and (green ?x) (on ?x ?y)))))\n"
     ]
    },
    {
     "name": "stderr",
     "output_type": "stream",
     "text": [
      "T: No, now you cannot put b0 in the tower because you must put red blocks on blue blocks\n"
     ]
    },
    {
     "name": "stdout",
     "output_type": "stream",
     "text": [
      "problem37.pddl reward: -14\n",
      "Parsing domain blocks-domain.pddl\n",
      "Parsing problem tworules/problem38.pddl\n"
     ]
    },
    {
     "name": "stderr",
     "output_type": "stream",
     "text": [
      "T: No, now you cannot put b0 in the tower because you must put red blocks on blue blocks\n",
      "T: No, now you cannot put b0 in the tower because you must put red blocks on blue blocks\n",
      "T: No, now you cannot put b0 in the tower because you must put red blocks on blue blocks\n"
     ]
    },
    {
     "name": "stdout",
     "output_type": "stream",
     "text": [
      "problem38.pddl reward: -18\n",
      "Parsing domain blocks-domain.pddl\n",
      "Parsing problem tworules/problem39.pddl\n"
     ]
    },
    {
     "name": "stderr",
     "output_type": "stream",
     "text": [
      "T: no, put green blocks on yellow blocks\n",
      "T: no, put red blocks on blue blocks\n",
      "T: no, put green blocks on yellow blocks\n"
     ]
    },
    {
     "name": "stdout",
     "output_type": "stream",
     "text": [
      "problem39.pddl reward: -10\n",
      "Parsing domain blocks-domain.pddl\n",
      "Parsing problem tworules/problem4.pddl\n",
      "(forall (?y) (or (not (yellow ?y)) (exists (?x) (and (green ?x) (on ?x ?y)))))\n",
      "(forall (?x) (or (not (red ?x)) (exists (?y) (and (blue ?y) (on ?x ?y)))))\n",
      "(forall (?y) (or (not (yellow ?y)) (exists (?x) (and (green ?x) (on ?x ?y)))))\n"
     ]
    },
    {
     "name": "stderr",
     "output_type": "stream",
     "text": [
      "T: no, put green blocks on yellow blocks\n",
      "T: no, put red blocks on blue blocks\n",
      "T: no, put red blocks on blue blocks\n",
      "T: no, put red blocks on blue blocks\n"
     ]
    },
    {
     "name": "stdout",
     "output_type": "stream",
     "text": [
      "(forall (?y) (or (not (yellow ?y)) (exists (?x) (and (green ?x) (on ?x ?y)))))\n",
      "(forall (?x) (or (not (red ?x)) (exists (?y) (and (blue ?y) (on ?x ?y)))))\n",
      "(forall (?x) (or (not (red ?x)) (exists (?y) (and (blue ?y) (on ?x ?y)))))\n",
      "(forall (?x) (or (not (red ?x)) (exists (?y) (and (blue ?y) (on ?x ?y)))))\n"
     ]
    },
    {
     "name": "stderr",
     "output_type": "stream",
     "text": [
      "T: no, put red blocks on blue blocks\n",
      "T: no, put red blocks on blue blocks\n"
     ]
    },
    {
     "name": "stdout",
     "output_type": "stream",
     "text": [
      "(forall (?x) (or (not (red ?x)) (exists (?y) (and (blue ?y) (on ?x ?y)))))\n",
      "(forall (?x) (or (not (red ?x)) (exists (?y) (and (blue ?y) (on ?x ?y)))))\n",
      "problem4.pddl reward: -28\n",
      "Parsing domain blocks-domain.pddl\n",
      "Parsing problem tworules/problem40.pddl\n"
     ]
    },
    {
     "name": "stderr",
     "output_type": "stream",
     "text": [
      "T: no, put red blocks on blue blocks\n",
      "T: no, put red blocks on blue blocks\n",
      "T: no, put red blocks on blue blocks\n"
     ]
    },
    {
     "name": "stdout",
     "output_type": "stream",
     "text": [
      "(forall (?x) (or (not (red ?x)) (exists (?y) (and (blue ?y) (on ?x ?y)))))\n",
      "(forall (?x) (or (not (red ?x)) (exists (?y) (and (blue ?y) (on ?x ?y)))))\n",
      "(forall (?x) (or (not (red ?x)) (exists (?y) (and (blue ?y) (on ?x ?y)))))\n"
     ]
    },
    {
     "name": "stderr",
     "output_type": "stream",
     "text": [
      "T: no, put red blocks on blue blocks\n",
      "T: No, now you cannot put b4 in the tower because you must put green blocks on yellow blocks\n"
     ]
    },
    {
     "name": "stdout",
     "output_type": "stream",
     "text": [
      "problem40.pddl reward: -16\n",
      "Parsing domain blocks-domain.pddl\n",
      "Parsing problem tworules/problem41.pddl\n",
      "(forall (?x) (or (not (red ?x)) (exists (?y) (and (blue ?y) (on ?x ?y)))))\n"
     ]
    },
    {
     "name": "stderr",
     "output_type": "stream",
     "text": [
      "T: no, put red blocks on blue blocks\n",
      "T: no, put red blocks on blue blocks\n",
      "T: No, now you cannot put b0 in the tower because you must put red blocks on blue blocks\n"
     ]
    },
    {
     "name": "stdout",
     "output_type": "stream",
     "text": [
      "(forall (?x) (or (not (red ?x)) (exists (?y) (and (blue ?y) (on ?x ?y)))))\n",
      "(forall (?x) (or (not (red ?x)) (exists (?y) (and (blue ?y) (on ?x ?y)))))\n"
     ]
    },
    {
     "name": "stderr",
     "output_type": "stream",
     "text": [
      "T: No, now you cannot put b1 in the tower because you must put red blocks on blue blocks\n",
      "T: No, now you cannot put b1 in the tower because you must put red blocks on blue blocks\n"
     ]
    },
    {
     "name": "stdout",
     "output_type": "stream",
     "text": [
      "problem41.pddl reward: -20\n",
      "Parsing domain blocks-domain.pddl\n",
      "Parsing problem tworules/problem42.pddl\n"
     ]
    },
    {
     "name": "stderr",
     "output_type": "stream",
     "text": [
      "T: No, now you cannot put b0 in the tower because you must put green blocks on yellow blocks\n",
      "T: No, now you cannot put b0 in the tower because you must put green blocks on yellow blocks\n",
      "T: No, now you cannot put b0 in the tower because you must put green blocks on yellow blocks\n",
      "T: No, now you cannot put b0 in the tower because you must put green blocks on yellow blocks\n",
      "T: No, now you cannot put b1 in the tower because you must put red blocks on blue blocks\n",
      "T: No, now you cannot put b0 in the tower because you must put green blocks on yellow blocks\n",
      "T: no, put red blocks on blue blocks\n",
      "T: no, put red blocks on blue blocks\n"
     ]
    },
    {
     "name": "stdout",
     "output_type": "stream",
     "text": [
      "problem42.pddl reward: -26\n",
      "Parsing domain blocks-domain.pddl\n",
      "Parsing problem tworules/problem43.pddl\n",
      "(forall (?x) (or (not (red ?x)) (exists (?y) (and (blue ?y) (on ?x ?y)))))\n",
      "(forall (?x) (or (not (red ?x)) (exists (?y) (and (blue ?y) (on ?x ?y)))))\n"
     ]
    },
    {
     "name": "stderr",
     "output_type": "stream",
     "text": [
      "T: no, put green blocks on yellow blocks\n",
      "T: no, put green blocks on yellow blocks\n",
      "T: no, put green blocks on yellow blocks\n",
      "T: no, put red blocks on blue blocks\n",
      "T: no, put red blocks on blue blocks\n"
     ]
    },
    {
     "name": "stdout",
     "output_type": "stream",
     "text": [
      "(forall (?y) (or (not (yellow ?y)) (exists (?x) (and (green ?x) (on ?x ?y)))))\n",
      "(forall (?y) (or (not (yellow ?y)) (exists (?x) (and (green ?x) (on ?x ?y)))))\n",
      "(forall (?y) (or (not (yellow ?y)) (exists (?x) (and (green ?x) (on ?x ?y)))))\n",
      "(forall (?x) (or (not (red ?x)) (exists (?y) (and (blue ?y) (on ?x ?y)))))\n",
      "(forall (?x) (or (not (red ?x)) (exists (?y) (and (blue ?y) (on ?x ?y)))))\n"
     ]
    },
    {
     "name": "stderr",
     "output_type": "stream",
     "text": [
      "T: no, put red blocks on blue blocks\n",
      "T: no, put red blocks on blue blocks\n"
     ]
    },
    {
     "name": "stdout",
     "output_type": "stream",
     "text": [
      "(forall (?x) (or (not (red ?x)) (exists (?y) (and (blue ?y) (on ?x ?y)))))\n",
      "problem43.pddl reward: -26\n",
      "Parsing domain blocks-domain.pddl\n",
      "Parsing problem tworules/problem44.pddl\n",
      "(forall (?x) (or (not (red ?x)) (exists (?y) (and (blue ?y) (on ?x ?y)))))\n"
     ]
    },
    {
     "name": "stderr",
     "output_type": "stream",
     "text": [
      "T: no, put red blocks on blue blocks\n",
      "T: no, put red blocks on blue blocks\n",
      "T: no, put red blocks on blue blocks\n",
      "T: no, put red blocks on blue blocks\n"
     ]
    },
    {
     "name": "stdout",
     "output_type": "stream",
     "text": [
      "(forall (?x) (or (not (red ?x)) (exists (?y) (and (blue ?y) (on ?x ?y)))))\n",
      "(forall (?x) (or (not (red ?x)) (exists (?y) (and (blue ?y) (on ?x ?y)))))\n",
      "(forall (?x) (or (not (red ?x)) (exists (?y) (and (blue ?y) (on ?x ?y)))))\n",
      "(forall (?x) (or (not (red ?x)) (exists (?y) (and (blue ?y) (on ?x ?y)))))\n"
     ]
    },
    {
     "name": "stderr",
     "output_type": "stream",
     "text": [
      "T: No, now you cannot put b2 in the tower because you must put green blocks on yellow blocks\n",
      "T: no, put red blocks on blue blocks\n",
      "T: No, now you cannot put b2 in the tower because you must put green blocks on yellow blocks\n",
      "T: no, put red blocks on blue blocks\n",
      "T: no, put red blocks on blue blocks\n"
     ]
    },
    {
     "name": "stdout",
     "output_type": "stream",
     "text": [
      "(forall (?x) (or (not (red ?x)) (exists (?y) (and (blue ?y) (on ?x ?y)))))\n",
      "(forall (?x) (or (not (red ?x)) (exists (?y) (and (blue ?y) (on ?x ?y)))))\n",
      "(forall (?x) (or (not (red ?x)) (exists (?y) (and (blue ?y) (on ?x ?y)))))\n"
     ]
    },
    {
     "name": "stderr",
     "output_type": "stream",
     "text": [
      "T: no, put red blocks on blue blocks\n"
     ]
    },
    {
     "name": "stdout",
     "output_type": "stream",
     "text": [
      "(forall (?x) (or (not (red ?x)) (exists (?y) (and (blue ?y) (on ?x ?y)))))\n",
      "problem44.pddl reward: -32\n",
      "Parsing domain blocks-domain.pddl\n",
      "Parsing problem tworules/problem45.pddl\n"
     ]
    },
    {
     "name": "stderr",
     "output_type": "stream",
     "text": [
      "T: No, now you cannot put b4 in the tower because you must put green blocks on yellow blocks\n"
     ]
    },
    {
     "name": "stdout",
     "output_type": "stream",
     "text": [
      "problem45.pddl reward: -12\n",
      "Parsing domain blocks-domain.pddl\n",
      "Parsing problem tworules/problem46.pddl\n"
     ]
    },
    {
     "name": "stderr",
     "output_type": "stream",
     "text": [
      "T: No, now you cannot put b2 in the tower because you must put red blocks on blue blocks\n",
      "T: No, now you cannot put b2 in the tower because you must put red blocks on blue blocks\n",
      "T: No, now you cannot put b2 in the tower because you must put red blocks on blue blocks\n",
      "T: no, put red blocks on blue blocks\n",
      "T: no, put green blocks on yellow blocks\n"
     ]
    },
    {
     "name": "stdout",
     "output_type": "stream",
     "text": [
      "problem46.pddl reward: -16\n",
      "Parsing domain blocks-domain.pddl\n",
      "Parsing problem tworules/problem47.pddl\n",
      "(forall (?x) (or (not (red ?x)) (exists (?y) (and (blue ?y) (on ?x ?y)))))\n",
      "(forall (?y) (or (not (yellow ?y)) (exists (?x) (and (green ?x) (on ?x ?y)))))\n"
     ]
    },
    {
     "name": "stderr",
     "output_type": "stream",
     "text": [
      "T: no, put red blocks on blue blocks\n"
     ]
    },
    {
     "name": "stdout",
     "output_type": "stream",
     "text": [
      "(forall (?x) (or (not (red ?x)) (exists (?y) (and (blue ?y) (on ?x ?y)))))\n",
      "problem47.pddl reward: -16\n",
      "Parsing domain blocks-domain.pddl\n",
      "Parsing problem tworules/problem48.pddl\n"
     ]
    },
    {
     "name": "stderr",
     "output_type": "stream",
     "text": [
      "T: no, put green blocks on yellow blocks\n",
      "T: no, put green blocks on yellow blocks\n",
      "T: no, put green blocks on yellow blocks\n",
      "T: no, put green blocks on yellow blocks\n"
     ]
    },
    {
     "name": "stdout",
     "output_type": "stream",
     "text": [
      "(forall (?y) (or (not (yellow ?y)) (exists (?x) (and (green ?x) (on ?x ?y)))))\n",
      "(forall (?y) (or (not (yellow ?y)) (exists (?x) (and (green ?x) (on ?x ?y)))))\n",
      "(forall (?y) (or (not (yellow ?y)) (exists (?x) (and (green ?x) (on ?x ?y)))))\n",
      "(forall (?y) (or (not (yellow ?y)) (exists (?x) (and (green ?x) (on ?x ?y)))))\n"
     ]
    },
    {
     "name": "stderr",
     "output_type": "stream",
     "text": [
      "T: no, put green blocks on yellow blocks\n",
      "T: no, put green blocks on yellow blocks\n",
      "T: no, put green blocks on yellow blocks\n"
     ]
    },
    {
     "name": "stdout",
     "output_type": "stream",
     "text": [
      "(forall (?y) (or (not (yellow ?y)) (exists (?x) (and (green ?x) (on ?x ?y)))))\n",
      "(forall (?y) (or (not (yellow ?y)) (exists (?x) (and (green ?x) (on ?x ?y)))))\n",
      "(forall (?y) (or (not (yellow ?y)) (exists (?x) (and (green ?x) (on ?x ?y)))))\n",
      "problem48.pddl reward: -24\n",
      "Parsing domain blocks-domain.pddl\n",
      "Parsing problem tworules/problem49.pddl\n"
     ]
    },
    {
     "name": "stderr",
     "output_type": "stream",
     "text": [
      "T: No, now you cannot put b1 in the tower because you must put green blocks on yellow blocks\n",
      "T: No, now you cannot put b1 in the tower because you must put green blocks on yellow blocks\n",
      "T: No, now you cannot put b3 in the tower because you must put red blocks on blue blocks\n",
      "T: No, now you cannot put b3 in the tower because you must put red blocks on blue blocks\n",
      "T: No, now you cannot put b3 in the tower because you must put red blocks on blue blocks\n"
     ]
    },
    {
     "name": "stdout",
     "output_type": "stream",
     "text": [
      "problem49.pddl reward: -14\n",
      "Parsing domain blocks-domain.pddl\n",
      "Parsing problem tworules/problem5.pddl\n"
     ]
    },
    {
     "name": "stderr",
     "output_type": "stream",
     "text": [
      "T: No, now you cannot put b3 in the tower because you must put red blocks on blue blocks\n",
      "T: No, now you cannot put b3 in the tower because you must put red blocks on blue blocks\n",
      "T: No, now you cannot put b4 in the tower because you must put green blocks on yellow blocks\n"
     ]
    },
    {
     "name": "stdout",
     "output_type": "stream",
     "text": [
      "problem5.pddl reward: -22\n",
      "Parsing domain blocks-domain.pddl\n",
      "Parsing problem tworules/problem50.pddl\n",
      "problem50.pddl reward: -10\n",
      "Parsing domain blocks-domain.pddl\n",
      "Parsing problem tworules/problem6.pddl\n"
     ]
    },
    {
     "name": "stderr",
     "output_type": "stream",
     "text": [
      "T: No, now you cannot put b0 in the tower because you must put green blocks on yellow blocks\n",
      "T: No, now you cannot put b0 in the tower because you must put green blocks on yellow blocks\n",
      "T: No, now you cannot put b0 in the tower because you must put green blocks on yellow blocks\n",
      "T: No, now you cannot put b0 in the tower because you must put green blocks on yellow blocks\n",
      "T: No, now you cannot put b0 in the tower because you must put green blocks on yellow blocks\n",
      "T: No, now you cannot put b0 in the tower because you must put green blocks on yellow blocks\n",
      "T: No, now you cannot put b0 in the tower because you must put green blocks on yellow blocks\n",
      "T: no, put red blocks on blue blocks\n",
      "T: no, put red blocks on blue blocks\n"
     ]
    },
    {
     "name": "stdout",
     "output_type": "stream",
     "text": [
      "problem6.pddl reward: -24\n",
      "Parsing domain blocks-domain.pddl\n",
      "Parsing problem tworules/problem7.pddl\n",
      "(forall (?x) (or (not (red ?x)) (exists (?y) (and (blue ?y) (on ?x ?y)))))\n",
      "(forall (?x) (or (not (red ?x)) (exists (?y) (and (blue ?y) (on ?x ?y)))))\n"
     ]
    },
    {
     "name": "stderr",
     "output_type": "stream",
     "text": [
      "T: no, put red blocks on blue blocks\n",
      "T: no, put red blocks on blue blocks\n",
      "T: no, put red blocks on blue blocks\n",
      "T: no, put red blocks on blue blocks\n"
     ]
    },
    {
     "name": "stdout",
     "output_type": "stream",
     "text": [
      "(forall (?x) (or (not (red ?x)) (exists (?y) (and (blue ?y) (on ?x ?y)))))\n",
      "(forall (?x) (or (not (red ?x)) (exists (?y) (and (blue ?y) (on ?x ?y)))))\n",
      "(forall (?x) (or (not (red ?x)) (exists (?y) (and (blue ?y) (on ?x ?y)))))\n",
      "(forall (?x) (or (not (red ?x)) (exists (?y) (and (blue ?y) (on ?x ?y)))))\n"
     ]
    },
    {
     "name": "stderr",
     "output_type": "stream",
     "text": [
      "T: no, put red blocks on blue blocks\n",
      "T: No, now you cannot put b5 in the tower because you must put green blocks on yellow blocks\n"
     ]
    },
    {
     "name": "stdout",
     "output_type": "stream",
     "text": [
      "problem7.pddl reward: -22\n",
      "Parsing domain blocks-domain.pddl\n",
      "Parsing problem tworules/problem8.pddl\n",
      "(forall (?x) (or (not (red ?x)) (exists (?y) (and (blue ?y) (on ?x ?y)))))\n"
     ]
    },
    {
     "name": "stderr",
     "output_type": "stream",
     "text": [
      "T: No, now you cannot put b5 in the tower because you must put green blocks on yellow blocks\n",
      "T: No, now you cannot put b5 in the tower because you must put green blocks on yellow blocks\n"
     ]
    },
    {
     "name": "stdout",
     "output_type": "stream",
     "text": [
      "problem8.pddl reward: -18\n",
      "Parsing domain blocks-domain.pddl\n",
      "Parsing problem tworules/problem9.pddl\n"
     ]
    },
    {
     "name": "stderr",
     "output_type": "stream",
     "text": [
      "T: No, now you cannot put b0 in the tower because you must put red blocks on blue blocks\n"
     ]
    },
    {
     "name": "stdout",
     "output_type": "stream",
     "text": [
      "problem9.pddl reward: -12\n"
     ]
    }
   ],
   "source": [
    "add_experiment('tworules_random', None)"
   ]
  },
  {
   "cell_type": "code",
   "execution_count": 24,
   "metadata": {},
   "outputs": [
    {
     "name": "stdout",
     "output_type": "stream",
     "text": [
      "Parsing domain blocks-domain.pddl\n",
      "Parsing problem onerule/problem1.pddl\n",
      "Parsing domain blocks-domain.pddl\n",
      "Parsing problem onerule/problem1.pddl\n"
     ]
    },
    {
     "name": "stderr",
     "output_type": "stream",
     "text": [
      "T: No, now you cannot put b1 in the tower because you must put red blocks on blue blocks\n",
      "R: Is the top object red?\n",
      "T: no\n",
      "T: No, now you cannot put b1 in the tower because you must put red blocks on blue blocks\n"
     ]
    },
    {
     "name": "stdout",
     "output_type": "stream",
     "text": [
      "[1. 1. 1.]\n",
      "[0.825 0.825 0.825]\n",
      "[0.825 0.825 0.825]\n",
      "[0.825 0.825 0.825]\n",
      "[0.825 0.825 0.825]\n"
     ]
    },
    {
     "name": "stderr",
     "output_type": "stream",
     "text": [
      "T: No, now you cannot put b1 in the tower because you must put red blocks on blue blocks\n"
     ]
    },
    {
     "name": "stdout",
     "output_type": "stream",
     "text": [
      "[0.825 0.825 0.825]\n",
      "problem1.pddl reward: -16\n",
      "Parsing domain blocks-domain.pddl\n",
      "Parsing problem onerule/problem2.pddl\n"
     ]
    },
    {
     "name": "stderr",
     "output_type": "stream",
     "text": [
      "T: no, put red blocks on blue blocks\n"
     ]
    },
    {
     "name": "stdout",
     "output_type": "stream",
     "text": [
      "(forall (?x) (or (not (red ?x)) (exists (?y) (and (blue ?y) (on ?x ?y)))))\n",
      "[0.72119894 0.72314728 0.72314728]\n",
      "[0.80962393 0.8034061  0.78594454]\n"
     ]
    },
    {
     "name": "stderr",
     "output_type": "stream",
     "text": [
      "T: no, put red blocks on blue blocks\n"
     ]
    },
    {
     "name": "stdout",
     "output_type": "stream",
     "text": [
      "(forall (?x) (or (not (red ?x)) (exists (?y) (and (blue ?y) (on ?x ?y)))))\n",
      "[0.80462429 0.79699133 0.77555566]\n",
      "problem2.pddl reward: -14\n",
      "Parsing domain blocks-domain.pddl\n",
      "Parsing problem onerule/problem3.pddl\n"
     ]
    },
    {
     "name": "stderr",
     "output_type": "stream",
     "text": [
      "T: no, put red blocks on blue blocks\n"
     ]
    },
    {
     "name": "stdout",
     "output_type": "stream",
     "text": [
      "(forall (?x) (or (not (red ?x)) (exists (?y) (and (blue ?y) (on ?x ?y)))))\n",
      "[0.64589018 0.64609697 0.64542565]\n",
      "[0.78104615 0.75926857 0.73643574]\n"
     ]
    },
    {
     "name": "stderr",
     "output_type": "stream",
     "text": [
      "T: no, put red blocks on blue blocks\n"
     ]
    },
    {
     "name": "stdout",
     "output_type": "stream",
     "text": [
      "(forall (?x) (or (not (red ?x)) (exists (?y) (and (blue ?y) (on ?x ?y)))))\n",
      "[0.77033707 0.74390452 0.72068652]\n",
      "problem3.pddl reward: -14\n",
      "Parsing domain blocks-domain.pddl\n",
      "Parsing problem onerule/problem4.pddl\n"
     ]
    },
    {
     "name": "stderr",
     "output_type": "stream",
     "text": [
      "T: No, now you cannot put b0 in the tower because you must put red blocks on blue blocks\n",
      "R: Is the top object red?\n",
      "T: no\n"
     ]
    },
    {
     "name": "stdout",
     "output_type": "stream",
     "text": [
      "[0.64589018 0.64609697 0.64542565]\n",
      "[0.67883731 0.65716671 0.61870878]\n",
      "[0.55924649 0.55941074 0.55911523]\n",
      "[0.67883731 0.65716671 0.61870878]\n"
     ]
    },
    {
     "name": "stderr",
     "output_type": "stream",
     "text": [
      "T: No, now you cannot put b0 in the tower because you must put red blocks on blue blocks\n"
     ]
    },
    {
     "name": "stdout",
     "output_type": "stream",
     "text": [
      "[0.55924649 0.55941074 0.55911523]\n"
     ]
    },
    {
     "name": "stderr",
     "output_type": "stream",
     "text": [
      "T: No, now you cannot put b0 in the tower because you must put red blocks on blue blocks\n"
     ]
    },
    {
     "name": "stdout",
     "output_type": "stream",
     "text": [
      "[0.55924649 0.55941074 0.55911523]\n"
     ]
    },
    {
     "name": "stderr",
     "output_type": "stream",
     "text": [
      "T: No, now you cannot put b0 in the tower because you must put red blocks on blue blocks\n"
     ]
    },
    {
     "name": "stdout",
     "output_type": "stream",
     "text": [
      "[0.55924649 0.55941074 0.55911523]\n"
     ]
    },
    {
     "name": "stderr",
     "output_type": "stream",
     "text": [
      "T: No, now you cannot put b0 in the tower because you must put red blocks on blue blocks\n",
      "T: No, now you cannot put b0 in the tower because you must put red blocks on blue blocks\n"
     ]
    },
    {
     "name": "stdout",
     "output_type": "stream",
     "text": [
      "[0.55924649 0.55941074 0.55911523]\n"
     ]
    },
    {
     "name": "stderr",
     "output_type": "stream",
     "text": [
      "T: No, now you cannot put b0 in the tower because you must put red blocks on blue blocks\n"
     ]
    },
    {
     "name": "stdout",
     "output_type": "stream",
     "text": [
      "[0.55924649 0.55941074 0.55911523]\n",
      "problem4.pddl reward: -24\n",
      "Parsing domain blocks-domain.pddl\n",
      "Parsing problem onerule/problem5.pddl\n"
     ]
    },
    {
     "name": "stderr",
     "output_type": "stream",
     "text": [
      "T: No, now you cannot put b0 in the tower because you must put red blocks on blue blocks\n",
      "R: Is the top object red?\n",
      "T: no\n"
     ]
    },
    {
     "name": "stdout",
     "output_type": "stream",
     "text": [
      "[0.55924649 0.55941074 0.55911523]\n",
      "[0.60267734 0.58942341 0.54130478]\n",
      "[0.49308832 0.49322489 0.49312373]\n",
      "[0.60267734 0.58942341 0.54130478]\n"
     ]
    },
    {
     "name": "stderr",
     "output_type": "stream",
     "text": [
      "T: No, now you cannot put b0 in the tower because you must put red blocks on blue blocks\n"
     ]
    },
    {
     "name": "stdout",
     "output_type": "stream",
     "text": [
      "[0.49308832 0.49322489 0.49312373]\n"
     ]
    },
    {
     "name": "stderr",
     "output_type": "stream",
     "text": [
      "T: No, now you cannot put b0 in the tower because you must put red blocks on blue blocks\n"
     ]
    },
    {
     "name": "stdout",
     "output_type": "stream",
     "text": [
      "[0.49308832 0.49322489 0.49312373]\n"
     ]
    },
    {
     "name": "stderr",
     "output_type": "stream",
     "text": [
      "T: No, now you cannot put b0 in the tower because you must put red blocks on blue blocks\n"
     ]
    },
    {
     "name": "stdout",
     "output_type": "stream",
     "text": [
      "[0.49308832 0.49322489 0.49312373]\n"
     ]
    },
    {
     "name": "stderr",
     "output_type": "stream",
     "text": [
      "T: No, now you cannot put b0 in the tower because you must put red blocks on blue blocks\n"
     ]
    },
    {
     "name": "stdout",
     "output_type": "stream",
     "text": [
      "[0.49308832 0.49322489 0.49312373]\n",
      "problem5.pddl reward: -20\n",
      "Parsing domain blocks-domain.pddl\n",
      "Parsing problem onerule/problem6.pddl\n",
      "problem6.pddl reward: -10\n",
      "Parsing domain blocks-domain.pddl\n",
      "Parsing problem onerule/problem7.pddl\n"
     ]
    },
    {
     "name": "stderr",
     "output_type": "stream",
     "text": [
      "T: no, put red blocks on blue blocks\n"
     ]
    },
    {
     "name": "stdout",
     "output_type": "stream",
     "text": [
      "(forall (?x) (or (not (red ?x)) (exists (?y) (and (blue ?y) (on ?x ?y)))))\n",
      "[0.44092257 0.44103959 0.44104742]\n"
     ]
    },
    {
     "name": "stderr",
     "output_type": "stream",
     "text": [
      "T: no, put red blocks on blue blocks\n"
     ]
    },
    {
     "name": "stdout",
     "output_type": "stream",
     "text": [
      "(forall (?x) (or (not (red ?x)) (exists (?y) (and (blue ?y) (on ?x ?y)))))\n",
      "[0.60267734 0.58942341 0.54130478]\n"
     ]
    },
    {
     "name": "stderr",
     "output_type": "stream",
     "text": [
      "T: no, put red blocks on blue blocks\n"
     ]
    },
    {
     "name": "stdout",
     "output_type": "stream",
     "text": [
      "(forall (?x) (or (not (red ?x)) (exists (?y) (and (blue ?y) (on ?x ?y)))))\n",
      "[0.60267734 0.58942341 0.54130478]\n"
     ]
    },
    {
     "name": "stderr",
     "output_type": "stream",
     "text": [
      "T: no, put red blocks on blue blocks\n"
     ]
    },
    {
     "name": "stdout",
     "output_type": "stream",
     "text": [
      "(forall (?x) (or (not (red ?x)) (exists (?y) (and (blue ?y) (on ?x ?y)))))\n",
      "[0.60267734 0.58942341 0.54130478]\n"
     ]
    },
    {
     "name": "stderr",
     "output_type": "stream",
     "text": [
      "T: no, put red blocks on blue blocks\n"
     ]
    },
    {
     "name": "stdout",
     "output_type": "stream",
     "text": [
      "(forall (?x) (or (not (red ?x)) (exists (?y) (and (blue ?y) (on ?x ?y)))))\n",
      "[0.60267734 0.58942341 0.54130478]\n"
     ]
    },
    {
     "name": "stderr",
     "output_type": "stream",
     "text": [
      "T: no, put red blocks on blue blocks\n"
     ]
    },
    {
     "name": "stdout",
     "output_type": "stream",
     "text": [
      "(forall (?x) (or (not (red ?x)) (exists (?y) (and (blue ?y) (on ?x ?y)))))\n",
      "[0.60267734 0.58942341 0.54130478]\n",
      "problem7.pddl reward: -22\n",
      "Parsing domain blocks-domain.pddl\n",
      "Parsing problem onerule/problem8.pddl\n"
     ]
    },
    {
     "name": "stderr",
     "output_type": "stream",
     "text": [
      "T: no, put red blocks on blue blocks\n"
     ]
    },
    {
     "name": "stdout",
     "output_type": "stream",
     "text": [
      "(forall (?x) (or (not (red ?x)) (exists (?y) (and (blue ?y) (on ?x ?y)))))\n",
      "[0.40814345 0.40778625 0.40816454]\n",
      "[0.58834956 0.57639678 0.53498483]\n",
      "problem8.pddl reward: -12\n",
      "Parsing domain blocks-domain.pddl\n",
      "Parsing problem onerule/problem9.pddl\n"
     ]
    },
    {
     "name": "stderr",
     "output_type": "stream",
     "text": [
      "T: no, put red blocks on blue blocks\n"
     ]
    },
    {
     "name": "stdout",
     "output_type": "stream",
     "text": [
      "(forall (?x) (or (not (red ?x)) (exists (?y) (and (blue ?y) (on ?x ?y)))))\n",
      "[0.37364203 0.3729076  0.37357864]\n",
      "problem9.pddl reward: -12\n",
      "Parsing domain blocks-domain.pddl\n",
      "Parsing problem onerule/problem10.pddl\n"
     ]
    },
    {
     "name": "stderr",
     "output_type": "stream",
     "text": [
      "T: no, put red blocks on blue blocks\n"
     ]
    },
    {
     "name": "stdout",
     "output_type": "stream",
     "text": [
      "(forall (?x) (or (not (red ?x)) (exists (?y) (and (blue ?y) (on ?x ?y)))))\n",
      "[0.34658309 0.34356736 0.34488883]\n",
      "[0.58814743 0.57428434 0.53585614]\n",
      "problem10.pddl reward: -12\n",
      "Parsing domain blocks-domain.pddl\n",
      "Parsing problem onerule/problem11.pddl\n"
     ]
    },
    {
     "name": "stderr",
     "output_type": "stream",
     "text": [
      "T: no, put red blocks on blue blocks\n"
     ]
    },
    {
     "name": "stdout",
     "output_type": "stream",
     "text": [
      "(forall (?x) (or (not (red ?x)) (exists (?y) (and (blue ?y) (on ?x ?y)))))\n",
      "[0.32665311 0.31843108 0.3201376 ]\n"
     ]
    },
    {
     "name": "stderr",
     "output_type": "stream",
     "text": [
      "T: no, put red blocks on blue blocks\n"
     ]
    },
    {
     "name": "stdout",
     "output_type": "stream",
     "text": [
      "(forall (?x) (or (not (red ?x)) (exists (?y) (and (blue ?y) (on ?x ?y)))))\n",
      "[0.58814743 0.57428434 0.53585614]\n"
     ]
    },
    {
     "name": "stderr",
     "output_type": "stream",
     "text": [
      "T: no, put red blocks on blue blocks\n"
     ]
    },
    {
     "name": "stdout",
     "output_type": "stream",
     "text": [
      "(forall (?x) (or (not (red ?x)) (exists (?y) (and (blue ?y) (on ?x ?y)))))\n",
      "[0.30422535 0.29658582 0.29811155]\n",
      "problem11.pddl reward: -16\n",
      "Parsing domain blocks-domain.pddl\n",
      "Parsing problem onerule/problem12.pddl\n"
     ]
    },
    {
     "name": "stderr",
     "output_type": "stream",
     "text": [
      "T: No, now you cannot put b2 in the tower because you must put red blocks on blue blocks\n",
      "R: Is the top object red?\n",
      "T: no\n"
     ]
    },
    {
     "name": "stdout",
     "output_type": "stream",
     "text": [
      "[0.30422535 0.29658582 0.29811155]\n",
      "[0.52267357 0.51091114 0.476276  ]\n",
      "[0.28881725 0.27771863 0.27946776]\n",
      "[0.52267357 0.51091114 0.476276  ]\n",
      "problem12.pddl reward: -12\n",
      "Parsing domain blocks-domain.pddl\n",
      "Parsing problem onerule/problem13.pddl\n"
     ]
    },
    {
     "name": "stderr",
     "output_type": "stream",
     "text": [
      "T: no, put red blocks on blue blocks\n"
     ]
    },
    {
     "name": "stdout",
     "output_type": "stream",
     "text": [
      "(forall (?x) (or (not (red ?x)) (exists (?y) (and (blue ?y) (on ?x ?y)))))\n",
      "[0.27478307 0.26123528 0.26313304]\n",
      "[0.52269232 0.51082314 0.4765442 ]\n",
      "problem13.pddl reward: -12\n",
      "Parsing domain blocks-domain.pddl\n",
      "Parsing problem onerule/problem14.pddl\n"
     ]
    },
    {
     "name": "stderr",
     "output_type": "stream",
     "text": [
      "T: no, put red blocks on blue blocks\n"
     ]
    },
    {
     "name": "stdout",
     "output_type": "stream",
     "text": [
      "(forall (?x) (or (not (red ?x)) (exists (?y) (and (blue ?y) (on ?x ?y)))))\n",
      "[0.26431794 0.24855359 0.25053785]\n",
      "[0.51594583 0.50285144 0.46881662]\n",
      "problem14.pddl reward: -12\n",
      "Parsing domain blocks-domain.pddl\n",
      "Parsing problem onerule/problem15.pddl\n",
      "problem15.pddl reward: -10\n",
      "Parsing domain blocks-domain.pddl\n",
      "Parsing problem onerule/problem16.pddl\n"
     ]
    },
    {
     "name": "stderr",
     "output_type": "stream",
     "text": [
      "T: no, put red blocks on blue blocks\n"
     ]
    },
    {
     "name": "stdout",
     "output_type": "stream",
     "text": [
      "(forall (?x) (or (not (red ?x)) (exists (?y) (and (blue ?y) (on ?x ?y)))))\n",
      "[0.25241173 0.23575115 0.23779934]\n",
      "[0.5159876  0.50105849 0.46633948]\n"
     ]
    },
    {
     "name": "stderr",
     "output_type": "stream",
     "text": [
      "T: no, put red blocks on blue blocks\n"
     ]
    },
    {
     "name": "stdout",
     "output_type": "stream",
     "text": [
      "(forall (?x) (or (not (red ?x)) (exists (?y) (and (blue ?y) (on ?x ?y)))))\n",
      "[0.24117013 0.2238855  0.22597285]\n",
      "problem16.pddl reward: -14\n",
      "Parsing domain blocks-domain.pddl\n",
      "Parsing problem onerule/problem17.pddl\n"
     ]
    },
    {
     "name": "stderr",
     "output_type": "stream",
     "text": [
      "T: no, put red blocks on blue blocks\n"
     ]
    },
    {
     "name": "stdout",
     "output_type": "stream",
     "text": [
      "(forall (?x) (or (not (red ?x)) (exists (?y) (and (blue ?y) (on ?x ?y)))))\n",
      "[0.22972561 0.21339669 0.21530779]\n",
      "[0.51334688 0.4988997  0.46439752]\n",
      "problem17.pddl reward: -12\n",
      "Parsing domain blocks-domain.pddl\n",
      "Parsing problem onerule/problem18.pddl\n",
      "problem18.pddl reward: -10\n",
      "Parsing domain blocks-domain.pddl\n",
      "Parsing problem onerule/problem19.pddl\n",
      "problem19.pddl reward: -10\n",
      "Parsing domain blocks-domain.pddl\n",
      "Parsing problem onerule/problem20.pddl\n",
      "problem20.pddl reward: -10\n",
      "Parsing domain blocks-domain.pddl\n",
      "Parsing problem onerule/problem21.pddl\n",
      "problem21.pddl reward: -10\n",
      "Parsing domain blocks-domain.pddl\n",
      "Parsing problem onerule/problem22.pddl\n",
      "problem22.pddl reward: -10\n",
      "Parsing domain blocks-domain.pddl\n",
      "Parsing problem onerule/problem23.pddl\n"
     ]
    },
    {
     "name": "stderr",
     "output_type": "stream",
     "text": [
      "T: no, put red blocks on blue blocks\n"
     ]
    },
    {
     "name": "stdout",
     "output_type": "stream",
     "text": [
      "(forall (?x) (or (not (red ?x)) (exists (?y) (and (blue ?y) (on ?x ?y)))))\n",
      "[0.22023964 0.20381655 0.20652166]\n",
      "[0.51029666 0.49627987 0.46184667]\n"
     ]
    },
    {
     "name": "stderr",
     "output_type": "stream",
     "text": [
      "T: no, put red blocks on blue blocks\n"
     ]
    },
    {
     "name": "stdout",
     "output_type": "stream",
     "text": [
      "(forall (?x) (or (not (red ?x)) (exists (?y) (and (blue ?y) (on ?x ?y)))))\n",
      "[0.51000568 0.49597405 0.46154497]\n"
     ]
    },
    {
     "name": "stderr",
     "output_type": "stream",
     "text": [
      "T: no, put red blocks on blue blocks\n"
     ]
    },
    {
     "name": "stdout",
     "output_type": "stream",
     "text": [
      "(forall (?x) (or (not (red ?x)) (exists (?y) (and (blue ?y) (on ?x ?y)))))\n",
      "[0.51000568 0.49597389 0.46154565]\n"
     ]
    },
    {
     "name": "stderr",
     "output_type": "stream",
     "text": [
      "T: no, put red blocks on blue blocks\n"
     ]
    },
    {
     "name": "stdout",
     "output_type": "stream",
     "text": [
      "(forall (?x) (or (not (red ?x)) (exists (?y) (and (blue ?y) (on ?x ?y)))))\n",
      "[0.51000565 0.49597387 0.46154564]\n",
      "problem23.pddl reward: -18\n",
      "Parsing domain blocks-domain.pddl\n",
      "Parsing problem onerule/problem24.pddl\n"
     ]
    },
    {
     "name": "stderr",
     "output_type": "stream",
     "text": [
      "T: no, put red blocks on blue blocks\n"
     ]
    },
    {
     "name": "stdout",
     "output_type": "stream",
     "text": [
      "(forall (?x) (or (not (red ?x)) (exists (?y) (and (blue ?y) (on ?x ?y)))))\n",
      "[0.21198769 0.19509307 0.19784601]\n",
      "[0.51000343 0.49432338 0.45964395]\n"
     ]
    },
    {
     "name": "stderr",
     "output_type": "stream",
     "text": [
      "T: no, put red blocks on blue blocks\n"
     ]
    },
    {
     "name": "stdout",
     "output_type": "stream",
     "text": [
      "(forall (?x) (or (not (red ?x)) (exists (?y) (and (blue ?y) (on ?x ?y)))))\n",
      "[0.50985741 0.49421461 0.45954532]\n"
     ]
    },
    {
     "name": "stderr",
     "output_type": "stream",
     "text": [
      "T: no, put red blocks on blue blocks\n"
     ]
    },
    {
     "name": "stdout",
     "output_type": "stream",
     "text": [
      "(forall (?x) (or (not (red ?x)) (exists (?y) (and (blue ?y) (on ?x ?y)))))\n",
      "[0.50985512 0.49421306 0.45954513]\n",
      "problem24.pddl reward: -16\n",
      "Parsing domain blocks-domain.pddl\n",
      "Parsing problem onerule/problem25.pddl\n",
      "problem25.pddl reward: -10\n",
      "Parsing domain blocks-domain.pddl\n",
      "Parsing problem onerule/problem26.pddl\n"
     ]
    },
    {
     "name": "stderr",
     "output_type": "stream",
     "text": [
      "T: no, put red blocks on blue blocks\n"
     ]
    },
    {
     "name": "stdout",
     "output_type": "stream",
     "text": [
      "(forall (?x) (or (not (red ?x)) (exists (?y) (and (blue ?y) (on ?x ?y)))))\n",
      "[0.20433425 0.1871201  0.18990124]\n",
      "[0.50745533 0.49203733 0.4585655 ]\n"
     ]
    },
    {
     "name": "stderr",
     "output_type": "stream",
     "text": [
      "T: no, put red blocks on blue blocks\n"
     ]
    },
    {
     "name": "stdout",
     "output_type": "stream",
     "text": [
      "(forall (?x) (or (not (red ?x)) (exists (?y) (and (blue ?y) (on ?x ?y)))))\n",
      "[0.50731111 0.49193026 0.45846718]\n"
     ]
    },
    {
     "name": "stderr",
     "output_type": "stream",
     "text": [
      "T: no, put red blocks on blue blocks\n"
     ]
    },
    {
     "name": "stdout",
     "output_type": "stream",
     "text": [
      "(forall (?x) (or (not (red ?x)) (exists (?y) (and (blue ?y) (on ?x ?y)))))\n",
      "[0.50731111 0.49192999 0.45846497]\n",
      "problem26.pddl reward: -16\n",
      "Parsing domain blocks-domain.pddl\n",
      "Parsing problem onerule/problem27.pddl\n"
     ]
    },
    {
     "name": "stderr",
     "output_type": "stream",
     "text": [
      "T: No, now you cannot put b3 in the tower because you must put red blocks on blue blocks\n"
     ]
    },
    {
     "name": "stdout",
     "output_type": "stream",
     "text": [
      "[0.20401796 0.18749926 0.18942956]\n",
      "[0.46773198 0.45632917 0.41689888]\n",
      "[0.19904396 0.18026471 0.1822309 ]\n",
      "[0.46823811 0.4542279  0.41850961]\n"
     ]
    },
    {
     "name": "stderr",
     "output_type": "stream",
     "text": [
      "T: No, now you cannot put b3 in the tower because you must put red blocks on blue blocks\n"
     ]
    },
    {
     "name": "stdout",
     "output_type": "stream",
     "text": [
      "[0.19902986 0.18024805 0.18223009]\n",
      "problem27.pddl reward: -14\n",
      "Parsing domain blocks-domain.pddl\n",
      "Parsing problem onerule/problem28.pddl\n",
      "problem28.pddl reward: -10\n",
      "Parsing domain blocks-domain.pddl\n",
      "Parsing problem onerule/problem29.pddl\n",
      "problem29.pddl reward: -10\n",
      "Parsing domain blocks-domain.pddl\n",
      "Parsing problem onerule/problem30.pddl\n"
     ]
    },
    {
     "name": "stderr",
     "output_type": "stream",
     "text": [
      "T: No, now you cannot put b1 in the tower because you must put red blocks on blue blocks\n",
      "T: No, now you cannot put b1 in the tower because you must put red blocks on blue blocks\n"
     ]
    },
    {
     "name": "stdout",
     "output_type": "stream",
     "text": [
      "[0.19897702 0.17953345 0.18221893]\n",
      "[0.43214294 0.42396049 0.38574039]\n",
      "[0.19345245 0.17314524 0.17584113]\n",
      "[0.42891156 0.42124247 0.38844682]\n",
      "[0.19345245 0.17314524 0.17584113]\n"
     ]
    },
    {
     "name": "stderr",
     "output_type": "stream",
     "text": [
      "T: No, now you cannot put b1 in the tower because you must put red blocks on blue blocks\n",
      "T: No, now you cannot put b1 in the tower because you must put red blocks on blue blocks\n"
     ]
    },
    {
     "name": "stdout",
     "output_type": "stream",
     "text": [
      "[0.19345245 0.17314524 0.17584113]\n",
      "[0.19345245 0.17314524 0.17584113]\n"
     ]
    },
    {
     "name": "stderr",
     "output_type": "stream",
     "text": [
      "T: No, now you cannot put b1 in the tower because you must put red blocks on blue blocks\n",
      "T: No, now you cannot put b1 in the tower because you must put red blocks on blue blocks\n"
     ]
    },
    {
     "name": "stdout",
     "output_type": "stream",
     "text": [
      "[0.19345245 0.17314524 0.17584113]\n",
      "[0.19345245 0.17314524 0.17584113]\n",
      "problem30.pddl reward: -22\n",
      "Parsing domain blocks-domain.pddl\n",
      "Parsing problem onerule/problem31.pddl\n",
      "problem31.pddl reward: -10\n",
      "Parsing domain blocks-domain.pddl\n",
      "Parsing problem onerule/problem32.pddl\n"
     ]
    },
    {
     "name": "stderr",
     "output_type": "stream",
     "text": [
      "T: No, now you cannot put b1 in the tower because you must put red blocks on blue blocks\n",
      "T: No, now you cannot put b1 in the tower because you must put red blocks on blue blocks\n"
     ]
    },
    {
     "name": "stdout",
     "output_type": "stream",
     "text": [
      "[0.19344644 0.17314243 0.17585245]\n",
      "[0.39613551 0.39157492 0.35914723]\n",
      "[0.18596007 0.1666088  0.16912885]\n",
      "[0.3961139  0.39153795 0.359164  ]\n",
      "[0.18596007 0.1666088  0.16912885]\n"
     ]
    },
    {
     "name": "stderr",
     "output_type": "stream",
     "text": [
      "T: No, now you cannot put b1 in the tower because you must put red blocks on blue blocks\n"
     ]
    },
    {
     "name": "stdout",
     "output_type": "stream",
     "text": [
      "[0.18596007 0.1666088  0.16912885]\n",
      "problem32.pddl reward: -16\n",
      "Parsing domain blocks-domain.pddl\n",
      "Parsing problem"
     ]
    },
    {
     "name": "stderr",
     "output_type": "stream",
     "text": [
      "T: No, now you cannot put b0 in the tower because you must put red blocks on blue blocks\n",
      "T: No, now you cannot put b0 in the tower because you must put red blocks on blue blocks\n"
     ]
    },
    {
     "name": "stdout",
     "output_type": "stream",
     "text": [
      " onerule/problem33.pddl\n",
      "[0.18571056 0.16676335 0.16874309]\n",
      "[0.36940741 0.36758787 0.33428732]\n",
      "[0.18073168 0.16107549 0.16307358]\n",
      "[0.36795606 0.36652028 0.33611881]\n",
      "[0.18073111 0.16107592 0.16307264]\n"
     ]
    },
    {
     "name": "stderr",
     "output_type": "stream",
     "text": [
      "T: No, now you cannot put b0 in the tower because you must put red blocks on blue blocks\n",
      "T: No, now you cannot put b0 in the tower because you must put red blocks on blue blocks\n"
     ]
    },
    {
     "name": "stdout",
     "output_type": "stream",
     "text": [
      "[0.18073111 0.16107592 0.16307264]\n",
      "[0.18073111 0.16107592 0.16307264]\n"
     ]
    },
    {
     "name": "stderr",
     "output_type": "stream",
     "text": [
      "T: No, now you cannot put b0 in the tower because you must put red blocks on blue blocks\n"
     ]
    },
    {
     "name": "stdout",
     "output_type": "stream",
     "text": [
      "[0.18073111 0.16107592 0.16307264]\n",
      "problem33.pddl reward: -20\n",
      "Parsing domain blocks-domain.pddl\n",
      "Parsing problem onerule/problem34.pddl\n",
      "problem34.pddl reward: -10\n",
      "Parsing domain blocks-domain.pddl\n",
      "Parsing problem onerule/problem35.pddl\n"
     ]
    },
    {
     "name": "stderr",
     "output_type": "stream",
     "text": [
      "T: No, now you cannot put b1 in the tower because you must put red blocks on blue blocks\n",
      "T: No, now you cannot put b1 in the tower because you must put red blocks on blue blocks\n"
     ]
    },
    {
     "name": "stdout",
     "output_type": "stream",
     "text": [
      "[0.18073111 0.16107593 0.16307264]\n",
      "[0.34706807 0.34958794 0.31880751]\n",
      "[0.17719305 0.15542521 0.15743309]\n",
      "[0.34706808 0.34958794 0.31880753]\n",
      "[0.17719305 0.15542521 0.15743309]\n",
      "problem35.pddl reward: -14\n",
      "Parsing domain blocks-domain.pddl\n",
      "Parsing problem onerule/problem36.pddl\n",
      "problem36.pddl reward: -10\n",
      "Parsing domain blocks-domain.pddl\n",
      "Parsing problem onerule/problem37.pddl\n"
     ]
    },
    {
     "name": "stderr",
     "output_type": "stream",
     "text": [
      "T: No, now you cannot put b1 in the tower because you must put red blocks on blue blocks\n",
      "T: No, now you cannot put b1 in the tower because you must put red blocks on blue blocks\n"
     ]
    },
    {
     "name": "stdout",
     "output_type": "stream",
     "text": [
      "[0.1771728  0.15546349 0.15740186]\n",
      "[0.32829264 0.33365912 0.30292325]\n",
      "[0.17367841 0.15022388 0.15216815]\n",
      "[0.32839246 0.33357009 0.30305102]\n",
      "[0.17367841 0.15022388 0.15216815]\n"
     ]
    },
    {
     "name": "stderr",
     "output_type": "stream",
     "text": [
      "T: No, now you cannot put b1 in the tower because you must put red blocks on blue blocks\n",
      "T: No, now you cannot put b1 in the tower because you must put red blocks on blue blocks\n"
     ]
    },
    {
     "name": "stdout",
     "output_type": "stream",
     "text": [
      "[0.17367841 0.15022388 0.15216815]\n",
      "[0.17367841 0.15022388 0.15216815]\n"
     ]
    },
    {
     "name": "stderr",
     "output_type": "stream",
     "text": [
      "T: No, now you cannot put b1 in the tower because you must put red blocks on blue blocks\n",
      "T: No, now you cannot put b1 in the tower because you must put red blocks on blue blocks\n"
     ]
    },
    {
     "name": "stdout",
     "output_type": "stream",
     "text": [
      "[0.17367841 0.15022388 0.15216815]\n",
      "[0.17367841 0.15022388 0.15216815]\n",
      "problem37.pddl reward: -22\n",
      "Parsing domain blocks-domain.pddl\n",
      "Parsing problem onerule/problem38.pddl\n",
      "problem38.pddl reward: -10\n",
      "Parsing domain blocks-domain.pddl\n",
      "Parsing problem onerule/problem39.pddl\n"
     ]
    },
    {
     "name": "stderr",
     "output_type": "stream",
     "text": [
      "T: no, put red blocks on blue blocks\n",
      "T: no, put red blocks on blue blocks\n"
     ]
    },
    {
     "name": "stdout",
     "output_type": "stream",
     "text": [
      "(forall (?x) (or (not (red ?x)) (exists (?y) (and (blue ?y) (on ?x ?y)))))\n",
      "[0.16946531 0.14583555 0.14778029]\n",
      "[0.32671611 0.33128988 0.30090261]\n",
      "(forall (?x) (or (not (red ?x)) (exists (?y) (and (blue ?y) (on ?x ?y)))))\n",
      "[0.32671487 0.33129051 0.30090426]\n",
      "problem39.pddl reward: -14\n",
      "Parsing domain blocks-domain.pddl\n",
      "Parsing problem onerule/problem40.pddl\n",
      "problem40.pddl reward: -10\n",
      "Parsing domain blocks-domain.pddl\n",
      "Parsing problem onerule/problem41.pddl\n"
     ]
    },
    {
     "name": "stderr",
     "output_type": "stream",
     "text": [
      "T: no, put red blocks on blue blocks\n"
     ]
    },
    {
     "name": "stdout",
     "output_type": "stream",
     "text": [
      "(forall (?x) (or (not (red ?x)) (exists (?y) (and (blue ?y) (on ?x ?y)))))\n",
      "[0.16634221 0.14118736 0.14312825]\n"
     ]
    },
    {
     "name": "stderr",
     "output_type": "stream",
     "text": [
      "T: no, put red blocks on blue blocks\n"
     ]
    },
    {
     "name": "stdout",
     "output_type": "stream",
     "text": [
      "(forall (?x) (or (not (red ?x)) (exists (?y) (and (blue ?y) (on ?x ?y)))))\n",
      "[0.32671487 0.33129051 0.30090426]\n"
     ]
    },
    {
     "name": "stderr",
     "output_type": "stream",
     "text": [
      "T: no, put red blocks on blue blocks\n"
     ]
    },
    {
     "name": "stdout",
     "output_type": "stream",
     "text": [
      "(forall (?x) (or (not (red ?x)) (exists (?y) (and (blue ?y) (on ?x ?y)))))\n",
      "[0.32671487 0.33129051 0.30090426]\n"
     ]
    },
    {
     "name": "stderr",
     "output_type": "stream",
     "text": [
      "T: no, put red blocks on blue blocks\n",
      "T: no, put red blocks on blue blocks\n"
     ]
    },
    {
     "name": "stdout",
     "output_type": "stream",
     "text": [
      "(forall (?x) (or (not (red ?x)) (exists (?y) (and (blue ?y) (on ?x ?y)))))\n",
      "[0.32671487 0.33129051 0.30090426]\n",
      "(forall (?x) (or (not (red ?x)) (exists (?y) (and (blue ?y) (on ?x ?y)))))\n",
      "[0.32671487 0.33129051 0.30090426]\n",
      "problem41.pddl reward: -20\n",
      "Parsing domain blocks-domain.pddl\n",
      "Parsing problem onerule/problem42.pddl\n",
      "problem42.pddl reward: -10\n",
      "Parsing domain blocks-domain.pddl\n",
      "Parsing problem onerule/problem43.pddl\n"
     ]
    },
    {
     "name": "stderr",
     "output_type": "stream",
     "text": [
      "T: no, put red blocks on blue blocks\n",
      "T: no, put red blocks on blue blocks\n"
     ]
    },
    {
     "name": "stdout",
     "output_type": "stream",
     "text": [
      "(forall (?x) (or (not (red ?x)) (exists (?y) (and (blue ?y) (on ?x ?y)))))\n",
      "[0.16247558 0.13714358 0.13907751]\n",
      "[0.32572669 0.3301443  0.29945787]\n",
      "(forall (?x) (or (not (red ?x)) (exists (?y) (and (blue ?y) (on ?x ?y)))))\n",
      "[0.32572699 0.33014406 0.29945826]\n"
     ]
    },
    {
     "name": "stderr",
     "output_type": "stream",
     "text": [
      "T: no, put red blocks on blue blocks\n",
      "T: no, put red blocks on blue blocks\n"
     ]
    },
    {
     "name": "stdout",
     "output_type": "stream",
     "text": [
      "(forall (?x) (or (not (red ?x)) (exists (?y) (and (blue ?y) (on ?x ?y)))))\n",
      "[0.32572696 0.33014402 0.29945822]\n",
      "(forall (?x) (or (not (red ?x)) (exists (?y) (and (blue ?y) (on ?x ?y)))))\n",
      "[0.32572696 0.33014402 0.29945822]\n"
     ]
    },
    {
     "name": "stderr",
     "output_type": "stream",
     "text": [
      "T: no, put red blocks on blue blocks\n"
     ]
    },
    {
     "name": "stdout",
     "output_type": "stream",
     "text": [
      "(forall (?x) (or (not (red ?x)) (exists (?y) (and (blue ?y) (on ?x ?y)))))\n",
      "[0.32572696 0.33014402 0.29945822]\n",
      "problem43.pddl reward: -20\n",
      "Parsing domain blocks-domain.pddl\n",
      "Parsing problem onerule/problem44.pddl\n",
      "problem44.pddl reward: -10\n",
      "Parsing domain blocks-domain.pddl\n",
      "Parsing problem onerule/problem45.pddl\n"
     ]
    },
    {
     "name": "stderr",
     "output_type": "stream",
     "text": [
      "T: no, put red blocks on blue blocks\n"
     ]
    },
    {
     "name": "stdout",
     "output_type": "stream",
     "text": [
      "(forall (?x) (or (not (red ?x)) (exists (?y) (and (blue ?y) (on ?x ?y)))))\n",
      "[0.15969345 0.13302367 0.13494712]\n"
     ]
    },
    {
     "name": "stderr",
     "output_type": "stream",
     "text": [
      "T: no, put red blocks on blue blocks\n"
     ]
    },
    {
     "name": "stdout",
     "output_type": "stream",
     "text": [
      "(forall (?x) (or (not (red ?x)) (exists (?y) (and (blue ?y) (on ?x ?y)))))\n",
      "[0.32572696 0.33014402 0.29945822]\n"
     ]
    },
    {
     "name": "stderr",
     "output_type": "stream",
     "text": [
      "T: no, put red blocks on blue blocks\n"
     ]
    },
    {
     "name": "stdout",
     "output_type": "stream",
     "text": [
      "(forall (?x) (or (not (red ?x)) (exists (?y) (and (blue ?y) (on ?x ?y)))))\n",
      "[0.32572696 0.33014402 0.29945822]\n",
      "problem45.pddl reward: -16\n",
      "Parsing domain blocks-domain.pddl\n",
      "Parsing problem onerule/problem46.pddl\n",
      "problem46.pddl reward: -10\n",
      "Parsing domain blocks-domain.pddl\n",
      "Parsing problem onerule/problem47.pddl\n",
      "problem47.pddl reward: -10\n",
      "Parsing domain blocks-domain.pddl\n",
      "Parsing problem onerule/problem48.pddl\n",
      "problem48.pddl reward: -10\n",
      "Parsing domain blocks-domain.pddl\n",
      "Parsing problem onerule/problem49.pddl\n"
     ]
    },
    {
     "name": "stderr",
     "output_type": "stream",
     "text": [
      "T: no, put red blocks on blue blocks\n",
      "T: no, put red blocks on blue blocks\n"
     ]
    },
    {
     "name": "stdout",
     "output_type": "stream",
     "text": [
      "(forall (?x) (or (not (red ?x)) (exists (?y) (and (blue ?y) (on ?x ?y)))))\n",
      "[0.15618037 0.12933752 0.13124873]\n",
      "[0.32489302 0.329362   0.29877313]\n",
      "(forall (?x) (or (not (red ?x)) (exists (?y) (and (blue ?y) (on ?x ?y)))))\n",
      "[0.32489306 0.32936202 0.29877318]\n",
      "problem49.pddl reward: -14\n",
      "Parsing domain blocks-domain.pddl\n",
      "Parsing problem onerule/problem50.pddl\n"
     ]
    },
    {
     "name": "stderr",
     "output_type": "stream",
     "text": [
      "T: no, put red blocks on blue blocks\n",
      "T: no, put red blocks on blue blocks\n"
     ]
    },
    {
     "name": "stdout",
     "output_type": "stream",
     "text": [
      "(forall (?x) (or (not (red ?x)) (exists (?y) (and (blue ?y) (on ?x ?y)))))\n",
      "[0.15313392 0.12567856 0.12757499]\n",
      "[0.32495239 0.32936649 0.29870573]\n",
      "(forall (?x) (or (not (red ?x)) (exists (?y) (and (blue ?y) (on ?x ?y)))))\n",
      "[0.32495295 0.32936589 0.2987052 ]\n"
     ]
    },
    {
     "name": "stderr",
     "output_type": "stream",
     "text": [
      "T: no, put red blocks on blue blocks\n",
      "T: no, put red blocks on blue blocks\n"
     ]
    },
    {
     "name": "stdout",
     "output_type": "stream",
     "text": [
      "(forall (?x) (or (not (red ?x)) (exists (?y) (and (blue ?y) (on ?x ?y)))))\n",
      "[0.32495291 0.32936584 0.29870514]\n",
      "(forall (?x) (or (not (red ?x)) (exists (?y) (and (blue ?y) (on ?x ?y)))))\n",
      "[0.32495291 0.32936584 0.29870514]\n"
     ]
    },
    {
     "name": "stderr",
     "output_type": "stream",
     "text": [
      "T: no, put red blocks on blue blocks\n"
     ]
    },
    {
     "name": "stdout",
     "output_type": "stream",
     "text": [
      "(forall (?x) (or (not (red ?x)) (exists (?y) (and (blue ?y) (on ?x ?y)))))\n",
      "[0.32495291 0.32936584 0.29870514]\n",
      "problem50.pddl reward: -20\n"
     ]
    }
   ],
   "source": [
    "add_experiment('onerule_update_once', None)"
   ]
  },
  {
   "cell_type": "code",
   "execution_count": 26,
   "metadata": {},
   "outputs": [
    {
     "name": "stderr",
     "output_type": "stream",
     "text": [
      "T: No, now you cannot put b1 in the tower because you must put red blocks on blue blocks\n"
     ]
    },
    {
     "name": "stdout",
     "output_type": "stream",
     "text": [
      "Parsing domain blocks-domain.pddl\n",
      "Parsing problem onerule/problem1.pddl\n",
      "Parsing domain blocks-domain.pddl\n",
      "Parsing problem onerule/problem1.pddl\n"
     ]
    },
    {
     "name": "stderr",
     "output_type": "stream",
     "text": [
      "R: Is the top object red?\n",
      "T: no\n"
     ]
    },
    {
     "name": "stdout",
     "output_type": "stream",
     "text": [
      "[1. 1. 1.]\n",
      "[0.825 0.825 0.825]\n",
      "[0.825 0.825 0.825]\n",
      "[0.825 0.825 0.825]\n",
      "problem1.pddl reward: -12\n",
      "Parsing domain blocks-domain.pddl\n",
      "Parsing problem onerule/problem2.pddl\n"
     ]
    },
    {
     "name": "stderr",
     "output_type": "stream",
     "text": [
      "T: no, put red blocks on blue blocks\n",
      "R: Is the top object red?\n",
      "T: yes\n"
     ]
    },
    {
     "name": "stdout",
     "output_type": "stream",
     "text": [
      "problem2.pddl reward: -10\n",
      "Parsing domain blocks-domain.pddl\n",
      "Parsing problem onerule/problem3.pddl\n",
      "(forall (?x) (or (not (red ?x)) (exists (?y) (and (blue ?y) (on ?x ?y)))))\n",
      "[0.68891238 0.69077064 0.68752403]\n",
      "[0.825 0.825 0.825]\n"
     ]
    },
    {
     "name": "stderr",
     "output_type": "stream",
     "text": [
      "T: no, put red blocks on blue blocks\n"
     ]
    },
    {
     "name": "stdout",
     "output_type": "stream",
     "text": [
      "(forall (?x) (or (not (red ?x)) (exists (?y) (and (blue ?y) (on ?x ?y)))))\n",
      "[0.825 0.825 0.825]\n",
      "problem3.pddl reward: -14\n",
      "Parsing domain blocks-domain.pddl\n",
      "Parsing problem onerule/problem4.pddl\n"
     ]
    },
    {
     "name": "stderr",
     "output_type": "stream",
     "text": [
      "T: No, now you cannot put b0 in the tower because you must put red blocks on blue blocks\n",
      "R: Is the top object red?\n",
      "T: no\n"
     ]
    },
    {
     "name": "stdout",
     "output_type": "stream",
     "text": [
      "[0.68891238 0.69077064 0.68752403]\n",
      "[0.69444444 0.71516895 0.69444444]\n",
      "[0.59135539 0.59246814 0.59064467]\n",
      "[0.69444444 0.71516895 0.69444444]\n"
     ]
    },
    {
     "name": "stderr",
     "output_type": "stream",
     "text": [
      "T: No, now you cannot put b0 in the tower because you must put red blocks on blue blocks\n"
     ]
    },
    {
     "name": "stdout",
     "output_type": "stream",
     "text": [
      "[0.59135539 0.59246814 0.59064467]\n"
     ]
    },
    {
     "name": "stderr",
     "output_type": "stream",
     "text": [
      "T: No, now you cannot put b0 in the tower because you must put red blocks on blue blocks\n"
     ]
    },
    {
     "name": "stdout",
     "output_type": "stream",
     "text": [
      "[0.59135539 0.59246814 0.59064467]\n"
     ]
    },
    {
     "name": "stderr",
     "output_type": "stream",
     "text": [
      "T: No, now you cannot put b0 in the tower because you must put red blocks on blue blocks\n"
     ]
    },
    {
     "name": "stdout",
     "output_type": "stream",
     "text": [
      "[0.59135539 0.59246814 0.59064467]\n"
     ]
    },
    {
     "name": "stderr",
     "output_type": "stream",
     "text": [
      "T: No, now you cannot put b0 in the tower because you must put red blocks on blue blocks\n",
      "T: No, now you cannot put b0 in the tower because you must put red blocks on blue blocks\n",
      "T: No, now you cannot put b0 in the tower because you must put red blocks on blue blocks\n"
     ]
    },
    {
     "name": "stdout",
     "output_type": "stream",
     "text": [
      "[0.59135539 0.59246814 0.59064467]\n",
      "[0.59135539 0.59246814 0.59064467]\n",
      "problem4.pddl reward: -24\n",
      "Parsing domain blocks-domain.pddl\n",
      "Parsing problem onerule/problem5.pddl\n",
      "problem5.pddl reward: -10\n",
      "Parsing domain blocks-domain.pddl\n",
      "Parsing problem onerule/problem6.pddl\n"
     ]
    },
    {
     "name": "stderr",
     "output_type": "stream",
     "text": [
      "T: No, now you cannot put b0 in the tower because you must put red blocks on blue blocks\n"
     ]
    },
    {
     "name": "stdout",
     "output_type": "stream",
     "text": [
      "[0.57840653 0.57948194 0.58194804]\n",
      "[0.61510471 0.63116741 0.61115132]\n",
      "[0.52294925 0.52257776 0.52661384]\n",
      "[0.61446217 0.62044708 0.6132922 ]\n",
      "problem6.pddl reward: -12\n",
      "Parsing domain blocks-domain.pddl\n",
      "Parsing problem onerule/problem7.pddl\n"
     ]
    },
    {
     "name": "stderr",
     "output_type": "stream",
     "text": [
      "T: no, put red blocks on blue blocks\n"
     ]
    },
    {
     "name": "stdout",
     "output_type": "stream",
     "text": [
      "(forall (?x) (or (not (red ?x)) (exists (?y) (and (blue ?y) (on ?x ?y)))))\n",
      "[0.4660496  0.4645635  0.46848928]\n"
     ]
    },
    {
     "name": "stderr",
     "output_type": "stream",
     "text": [
      "T: no, put red blocks on blue blocks\n",
      "T: no, put red blocks on blue blocks\n"
     ]
    },
    {
     "name": "stdout",
     "output_type": "stream",
     "text": [
      "(forall (?x) (or (not (red ?x)) (exists (?y) (and (blue ?y) (on ?x ?y)))))\n",
      "[0.61446217 0.62044708 0.6132922 ]\n",
      "(forall (?x) (or (not (red ?x)) (exists (?y) (and (blue ?y) (on ?x ?y)))))\n",
      "[0.61446217 0.62044708 0.6132922 ]\n"
     ]
    },
    {
     "name": "stderr",
     "output_type": "stream",
     "text": [
      "T: no, put red blocks on blue blocks\n",
      "T: no, put red blocks on blue blocks\n"
     ]
    },
    {
     "name": "stdout",
     "output_type": "stream",
     "text": [
      "(forall (?x) (or (not (red ?x)) (exists (?y) (and (blue ?y) (on ?x ?y)))))\n",
      "[0.61446217 0.62044708 0.6132922 ]\n",
      "(forall (?x) (or (not (red ?x)) (exists (?y) (and (blue ?y) (on ?x ?y)))))\n",
      "[0.61446217 0.62044708 0.6132922 ]\n"
     ]
    },
    {
     "name": "stderr",
     "output_type": "stream",
     "text": [
      "T: no, put red blocks on blue blocks\n"
     ]
    },
    {
     "name": "stdout",
     "output_type": "stream",
     "text": [
      "(forall (?x) (or (not (red ?x)) (exists (?y) (and (blue ?y) (on ?x ?y)))))\n",
      "[0.61446217 0.62044708 0.6132922 ]\n",
      "problem7.pddl reward: -22\n",
      "Parsing domain blocks-domain.pddl\n",
      "Parsing problem onerule/problem8.pddl\n"
     ]
    },
    {
     "name": "stderr",
     "output_type": "stream",
     "text": [
      "T: no, put red blocks on blue blocks\n",
      "T: no, put red blocks on blue blocks\n"
     ]
    },
    {
     "name": "stdout",
     "output_type": "stream",
     "text": [
      "(forall (?x) (or (not (red ?x)) (exists (?y) (and (blue ?y) (on ?x ?y)))))\n",
      "[0.42953284 0.42522497 0.42971224]\n",
      "[0.60371688 0.60972947 0.60635878]\n",
      "(forall (?x) (or (not (red ?x)) (exists (?y) (and (blue ?y) (on ?x ?y)))))\n",
      "[0.60369905 0.60959005 0.6060725 ]\n",
      "problem8.pddl reward: -14\n",
      "Parsing domain blocks-domain.pddl\n",
      "Parsing problem onerule/problem9.pddl\n",
      "problem9.pddl reward: -10\n",
      "Parsing domain blocks-domain.pddl\n",
      "Parsing problem onerule/problem10.pddl\n"
     ]
    },
    {
     "name": "stderr",
     "output_type": "stream",
     "text": [
      "T: no, put red blocks on blue blocks\n"
     ]
    },
    {
     "name": "stdout",
     "output_type": "stream",
     "text": [
      "(forall (?x) (or (not (red ?x)) (exists (?y) (and (blue ?y) (on ?x ?y)))))\n",
      "[0.39249635 0.38800896 0.39226759]\n",
      "[0.60341362 0.60593028 0.60627514]\n",
      "problem10.pddl reward: -12\n",
      "Parsing domain blocks-domain.pddl\n",
      "Parsing problem onerule/problem11.pddl\n",
      "problem11.pddl reward: -10\n",
      "Parsing domain blocks-domain.pddl\n",
      "Parsing problem onerule/problem12.pddl\n"
     ]
    },
    {
     "name": "stderr",
     "output_type": "stream",
     "text": [
      "T: No, now you cannot put b2 in the tower because you must put red blocks on blue blocks\n"
     ]
    },
    {
     "name": "stdout",
     "output_type": "stream",
     "text": [
      "[0.36786081 0.37188395 0.3662678 ]\n",
      "[0.58939674 0.59187188 0.59236625]\n",
      "[0.36314499 0.36691363 0.36132673]\n",
      "[0.57674949 0.54819129 0.58644066]\n",
      "problem12.pddl reward: -12\n",
      "Parsing domain blocks-domain.pddl\n",
      "Parsing problem onerule/problem13.pddl\n",
      "problem13.pddl reward: -10\n",
      "Parsing domain blocks-domain.pddl\n",
      "Parsing problem onerule/problem14.pddl\n",
      "problem14.pddl reward: -10\n",
      "Parsing domain blocks-domain.pddl\n",
      "Parsing problem onerule/problem15.pddl\n",
      "problem15.pddl reward: -10\n",
      "Parsing domain blocks-domain.pddl\n",
      "Parsing problem onerule/problem16.pddl\n"
     ]
    },
    {
     "name": "stderr",
     "output_type": "stream",
     "text": [
      "T: no, put red blocks on blue blocks\n"
     ]
    },
    {
     "name": "stdout",
     "output_type": "stream",
     "text": [
      "problem16.pddl reward: -10\n",
      "Parsing domain blocks-domain.pddl\n",
      "Parsing problem onerule/problem17.pddl\n",
      "(forall (?x) (or (not (red ?x)) (exists (?y) (and (blue ?y) (on ?x ?y)))))\n",
      "[0.33836219 0.34127074 0.33603992]\n",
      "[0.56936491 0.54272178 0.57908405]\n"
     ]
    },
    {
     "name": "stderr",
     "output_type": "stream",
     "text": [
      "T: no, put red blocks on blue blocks\n",
      "T: no, put red blocks on blue blocks\n"
     ]
    },
    {
     "name": "stdout",
     "output_type": "stream",
     "text": [
      "(forall (?x) (or (not (red ?x)) (exists (?y) (and (blue ?y) (on ?x ?y)))))\n",
      "[0.56862141 0.54201518 0.57862883]\n",
      "(forall (?x) (or (not (red ?x)) (exists (?y) (and (blue ?y) (on ?x ?y)))))\n",
      "[0.5686142  0.54200496 0.57860629]\n"
     ]
    },
    {
     "name": "stderr",
     "output_type": "stream",
     "text": [
      "T: no, put red blocks on blue blocks\n",
      "T: no, put red blocks on blue blocks\n"
     ]
    },
    {
     "name": "stdout",
     "output_type": "stream",
     "text": [
      "(forall (?x) (or (not (red ?x)) (exists (?y) (and (blue ?y) (on ?x ?y)))))\n",
      "[0.56861384 0.5420047  0.57860601]\n",
      "(forall (?x) (or (not (red ?x)) (exists (?y) (and (blue ?y) (on ?x ?y)))))\n",
      "[0.56861383 0.54200467 0.57860599]\n"
     ]
    },
    {
     "name": "stderr",
     "output_type": "stream",
     "text": [
      "T: no, put red blocks on blue blocks\n"
     ]
    },
    {
     "name": "stdout",
     "output_type": "stream",
     "text": [
      "(forall (?x) (or (not (red ?x)) (exists (?y) (and (blue ?y) (on ?x ?y)))))\n",
      "[0.56861383 0.54200467 0.57860599]\n",
      "problem17.pddl reward: -22\n",
      "Parsing domain blocks-domain.pddl\n",
      "Parsing problem onerule/problem18.pddl\n",
      "problem18.pddl reward: -10\n",
      "Parsing domain blocks-domain.pddl\n",
      "Parsing problem onerule/problem19.pddl\n",
      "problem19.pddl reward: -10\n",
      "Parsing domain blocks-domain.pddl\n",
      "Parsing problem onerule/problem20.pddl\n",
      "problem20.pddl reward: -10\n",
      "Parsing domain blocks-domain.pddl\n",
      "Parsing problem onerule/problem21.pddl\n",
      "problem21.pddl reward: -10\n",
      "Parsing domain blocks-domain.pddl\n",
      "Parsing problem onerule/problem22.pddl\n",
      "problem22.pddl reward: -10\n",
      "Parsing domain blocks-domain.pddl\n",
      "Parsing problem onerule/problem23.pddl\n",
      "problem23.pddl reward: -10\n",
      "Parsing domain blocks-domain.pddl\n",
      "Parsing problem onerule/problem24.pddl\n"
     ]
    },
    {
     "name": "stderr",
     "output_type": "stream",
     "text": [
      "T: no, put red blocks on blue blocks\n"
     ]
    },
    {
     "name": "stdout",
     "output_type": "stream",
     "text": [
      "(forall (?x) (or (not (red ?x)) (exists (?y) (and (blue ?y) (on ?x ?y)))))\n",
      "[0.31912591 0.31972132 0.31465023]\n",
      "[0.56695748 0.53833774 0.57445809]\n"
     ]
    },
    {
     "name": "stderr",
     "output_type": "stream",
     "text": [
      "T: no, put red blocks on blue blocks\n"
     ]
    },
    {
     "name": "stdout",
     "output_type": "stream",
     "text": [
      "(forall (?x) (or (not (red ?x)) (exists (?y) (and (blue ?y) (on ?x ?y)))))\n",
      "[0.56582845 0.53750424 0.5733483 ]\n"
     ]
    },
    {
     "name": "stderr",
     "output_type": "stream",
     "text": [
      "T: no, put red blocks on blue blocks\n"
     ]
    },
    {
     "name": "stdout",
     "output_type": "stream",
     "text": [
      "(forall (?x) (or (not (red ?x)) (exists (?y) (and (blue ?y) (on ?x ?y)))))\n",
      "[0.56581014 0.53749239 0.57333596]\n",
      "problem24.pddl reward: -16\n",
      "Parsing domain blocks-domain.pddl\n",
      "Parsing problem onerule/problem25.pddl\n",
      "problem25.pddl reward: -10\n",
      "Parsing domain blocks-domain.pddl\n",
      "Parsing problem onerule/problem26.pddl\n",
      "problem26.pddl reward: -10\n",
      "Parsing domain blocks-domain.pddl\n",
      "Parsing problem onerule/problem27.pddl\n"
     ]
    },
    {
     "name": "stderr",
     "output_type": "stream",
     "text": [
      "T: No, now you cannot put b3 in the tower because you must put red blocks on blue blocks\n",
      "T: No, now you cannot put b3 in the tower because you must put red blocks on blue blocks\n"
     ]
    },
    {
     "name": "stdout",
     "output_type": "stream",
     "text": [
      "[0.31758674 0.31930756 0.31293935]\n",
      "[0.52244347 0.49494576 0.51815886]\n",
      "[0.30066862 0.30055009 0.29435013]\n",
      "[0.5217765  0.49152593 0.51774074]\n",
      "[0.30066731 0.3005484  0.29434921]\n",
      "problem27.pddl reward: -14\n",
      "Parsing domain blocks-domain.pddl\n",
      "Parsing problem onerule/problem28.pddl\n",
      "problem28.pddl reward: -10\n",
      "Parsing domain blocks-domain.pddl\n",
      "Parsing problem onerule/problem29.pddl\n",
      "problem29.pddl reward: -10\n",
      "Parsing domain blocks-domain.pddl\n",
      "Parsing problem onerule/problem30.pddl\n"
     ]
    },
    {
     "name": "stderr",
     "output_type": "stream",
     "text": [
      "T: No, now you cannot put b1 in the tower because you must put red blocks on blue blocks\n",
      "R: Is the top object red?\n",
      "T: no\n",
      "T: No, now you cannot put b1 in the tower because you must put red blocks on blue blocks\n"
     ]
    },
    {
     "name": "stdout",
     "output_type": "stream",
     "text": [
      "[0.30066731 0.3005484  0.29434921]\n",
      "[0.4717859  0.45098046 0.47305899]\n",
      "[0.28629023 0.28247195 0.27646894]\n",
      "[0.4717859  0.45098046 0.47305899]\n",
      "[0.28629023 0.28247195 0.27646894]\n"
     ]
    },
    {
     "name": "stderr",
     "output_type": "stream",
     "text": [
      "T: No, now you cannot put b1 in the tower because you must put red blocks on blue blocks\n",
      "T: No, now you cannot put b1 in the tower because you must put red blocks on blue blocks\n"
     ]
    },
    {
     "name": "stdout",
     "output_type": "stream",
     "text": [
      "[0.28629023 0.28247195 0.27646894]\n",
      "[0.28629023 0.28247195 0.27646894]\n"
     ]
    },
    {
     "name": "stderr",
     "output_type": "stream",
     "text": [
      "T: No, now you cannot put b1 in the tower because you must put red blocks on blue blocks\n",
      "T: No, now you cannot put b1 in the tower because you must put red blocks on blue blocks\n"
     ]
    },
    {
     "name": "stdout",
     "output_type": "stream",
     "text": [
      "[0.28629023 0.28247195 0.27646894]\n",
      "[0.28629023 0.28247195 0.27646894]\n"
     ]
    },
    {
     "name": "stderr",
     "output_type": "stream",
     "text": [
      "T: No, now you cannot put b1 in the tower because you must put red blocks on blue blocks\n"
     ]
    },
    {
     "name": "stdout",
     "output_type": "stream",
     "text": [
      "[0.28629023 0.28247195 0.27646894]\n",
      "problem30.pddl reward: -24\n",
      "Parsing domain blocks-domain.pddl\n",
      "Parsing problem onerule/problem31.pddl\n",
      "problem31.pddl reward: -10\n",
      "Parsing domain blocks-domain.pddl\n",
      "Parsing problem onerule/problem32.pddl\n"
     ]
    },
    {
     "name": "stderr",
     "output_type": "stream",
     "text": [
      "T: No, now you cannot put b1 in the tower because you must put red blocks on blue blocks\n",
      "T: No, now you cannot put b1 in the tower because you must put red blocks on blue blocks\n"
     ]
    },
    {
     "name": "stdout",
     "output_type": "stream",
     "text": [
      "[0.28621222 0.28240394 0.27649297]\n",
      "[0.4345506  0.41553781 0.43801222]\n",
      "[0.26936481 0.26552863 0.25998546]\n",
      "[0.43441609 0.41537017 0.43798424]\n",
      "[0.26936481 0.26552863 0.25998546]\n"
     ]
    },
    {
     "name": "stderr",
     "output_type": "stream",
     "text": [
      "T: No, now you cannot put b1 in the tower because you must put red blocks on blue blocks\n"
     ]
    },
    {
     "name": "stdout",
     "output_type": "stream",
     "text": [
      "[0.26936481 0.26552863 0.25998546]\n",
      "problem32.pddl reward: -16\n",
      "Parsing domain blocks-domain.pddl\n",
      "Parsing problem onerule/problem33.pddl\n"
     ]
    },
    {
     "name": "stderr",
     "output_type": "stream",
     "text": [
      "T: No, now you cannot put b0 in the tower because you must put red blocks on blue blocks\n"
     ]
    },
    {
     "name": "stdout",
     "output_type": "stream",
     "text": [
      "[0.25823431 0.26039533 0.24724866]\n",
      "[0.43085979 0.41232366 0.43462492]\n",
      "[0.25724406 0.25911879 0.24598018]\n",
      "[0.4015848  0.39109029 0.43997158]\n"
     ]
    },
    {
     "name": "stderr",
     "output_type": "stream",
     "text": [
      "T: No, now you cannot put b0 in the tower because you must put red blocks on blue blocks\n"
     ]
    },
    {
     "name": "stdout",
     "output_type": "stream",
     "text": [
      "[0.24601436 0.25308045 0.23339895]\n"
     ]
    },
    {
     "name": "stderr",
     "output_type": "stream",
     "text": [
      "T: No, now you cannot put b0 in the tower because you must put red blocks on blue blocks\n"
     ]
    },
    {
     "name": "stdout",
     "output_type": "stream",
     "text": [
      "[0.24519391 0.24172617 0.22945592]\n"
     ]
    },
    {
     "name": "stderr",
     "output_type": "stream",
     "text": [
      "T: No, now you cannot put b0 in the tower because you must put red blocks on blue blocks\n"
     ]
    },
    {
     "name": "stdout",
     "output_type": "stream",
     "text": [
      "[0.25963822 0.23511266 0.21907758]\n"
     ]
    },
    {
     "name": "stderr",
     "output_type": "stream",
     "text": [
      "T: No, now you cannot put b0 in the tower because you must put red blocks on blue blocks\n"
     ]
    },
    {
     "name": "stdout",
     "output_type": "stream",
     "text": [
      "[0.24823027 0.22425364 0.2291879 ]\n",
      "problem33.pddl reward: -20\n",
      "Parsing domain blocks-domain.pddl\n",
      "Parsing problem onerule/problem34.pddl\n",
      "problem34.pddl reward: -10\n",
      "Parsing domain blocks-domain.pddl\n",
      "Parsing problem onerule/problem35.pddl\n"
     ]
    },
    {
     "name": "stderr",
     "output_type": "stream",
     "text": [
      "T: No, now you cannot put b1 in the tower because you must put red blocks on blue blocks\n"
     ]
    },
    {
     "name": "stdout",
     "output_type": "stream",
     "text": [
      "[0.24814463 0.2244811  0.22908096]\n",
      "[0.37949881 0.36953258 0.40862077]\n",
      "[0.24079946 0.21614416 0.22008982]\n",
      "[0.37958587 0.36929635 0.40864851]\n",
      "problem35.pddl reward: -12\n",
      "Parsing domain blocks-domain.pddl\n",
      "Parsing problem onerule/problem36.pddl\n",
      "problem36.pddl reward: -10\n",
      "Parsing domain blocks-domain.pddl\n",
      "Parsing problem onerule/problem37.pddl\n",
      "problem37.pddl reward: -10\n",
      "Parsing domain blocks-domain.pddl\n",
      "Parsing problem onerule/problem38.pddl\n",
      "problem38.pddl reward: -10\n",
      "Parsing domain blocks-domain.pddl\n",
      "Parsing problem onerule/problem39.pddl\n",
      "problem39.pddl reward: -10\n",
      "Parsing domain blocks-domain.pddl\n",
      "Parsing problem onerule/problem40.pddl\n",
      "problem40.pddl reward: -10\n",
      "Parsing domain blocks-domain.pddl\n",
      "Parsing problem onerule/problem41.pddl\n",
      "problem41.pddl reward: -10\n",
      "Parsing domain blocks-domain.pddl\n",
      "Parsing problem onerule/problem42.pddl\n",
      "problem42.pddl reward: -10\n",
      "Parsing domain blocks-domain.pddl\n",
      "Parsing problem onerule/problem43.pddl\n"
     ]
    },
    {
     "name": "stderr",
     "output_type": "stream",
     "text": [
      "T: No, now you cannot put b6 in the tower because you must put red blocks on blue blocks\n"
     ]
    },
    {
     "name": "stdout",
     "output_type": "stream",
     "text": [
      "[0.240528   0.21614912 0.21976393]\n",
      "[0.35985825 0.35003271 0.38210212]\n",
      "[0.23199138 0.20859711 0.21166639]\n",
      "[0.35910708 0.3493194  0.38221668]\n",
      "problem43.pddl reward: -12\n",
      "Parsing domain blocks-domain.pddl\n",
      "Parsing problem onerule/problem44.pddl\n",
      "problem44.pddl reward: -10\n",
      "Parsing domain blocks-domain.pddl\n",
      "Parsing problem onerule/problem45.pddl\n"
     ]
    },
    {
     "name": "stderr",
     "output_type": "stream",
     "text": [
      "T: no, put red blocks on blue blocks\n"
     ]
    },
    {
     "name": "stdout",
     "output_type": "stream",
     "text": [
      "(forall (?x) (or (not (red ?x)) (exists (?y) (and (blue ?y) (on ?x ?y)))))\n",
      "[0.22568528 0.20126435 0.20384811]\n"
     ]
    },
    {
     "name": "stderr",
     "output_type": "stream",
     "text": [
      "T: no, put red blocks on blue blocks\n"
     ]
    },
    {
     "name": "stdout",
     "output_type": "stream",
     "text": [
      "(forall (?x) (or (not (red ?x)) (exists (?y) (and (blue ?y) (on ?x ?y)))))\n",
      "[0.35910708 0.3493194  0.38221668]\n"
     ]
    },
    {
     "name": "stderr",
     "output_type": "stream",
     "text": [
      "T: no, put red blocks on blue blocks\n"
     ]
    },
    {
     "name": "stdout",
     "output_type": "stream",
     "text": [
      "(forall (?x) (or (not (red ?x)) (exists (?y) (and (blue ?y) (on ?x ?y)))))\n",
      "[0.35910708 0.3493194  0.38221668]\n",
      "problem45.pddl reward: -16\n",
      "Parsing domain blocks-domain.pddl\n",
      "Parsing problem onerule/problem46.pddl\n",
      "problem46.pddl reward: -10\n",
      "Parsing domain blocks-domain.pddl\n",
      "Parsing problem onerule/problem47.pddl\n",
      "problem47.pddl reward: -10\n",
      "Parsing domain blocks-domain.pddl\n",
      "Parsing problem onerule/problem48.pddl\n",
      "problem48.pddl reward: -10\n",
      "Parsing domain blocks-domain.pddl\n",
      "Parsing problem onerule/problem49.pddl\n",
      "problem49.pddl reward: -10\n",
      "Parsing domain blocks-domain.pddl\n",
      "Parsing problem onerule/problem50.pddl\n"
     ]
    },
    {
     "name": "stderr",
     "output_type": "stream",
     "text": [
      "T: no, put red blocks on blue blocks\n",
      "T: no, put red blocks on blue blocks\n"
     ]
    },
    {
     "name": "stdout",
     "output_type": "stream",
     "text": [
      "(forall (?x) (or (not (red ?x)) (exists (?y) (and (blue ?y) (on ?x ?y)))))\n",
      "[0.21882513 0.19441419 0.19658131]\n",
      "[0.35911828 0.34932195 0.38219061]\n",
      "(forall (?x) (or (not (red ?x)) (exists (?y) (and (blue ?y) (on ?x ?y)))))\n",
      "[0.35911832 0.34932187 0.38219051]\n"
     ]
    },
    {
     "name": "stderr",
     "output_type": "stream",
     "text": [
      "T: no, put red blocks on blue blocks\n",
      "T: no, put red blocks on blue blocks\n"
     ]
    },
    {
     "name": "stdout",
     "output_type": "stream",
     "text": [
      "(forall (?x) (or (not (red ?x)) (exists (?y) (and (blue ?y) (on ?x ?y)))))\n",
      "[0.35911832 0.34932187 0.38219051]\n",
      "(forall (?x) (or (not (red ?x)) (exists (?y) (and (blue ?y) (on ?x ?y)))))\n",
      "[0.35911832 0.34932187 0.38219051]\n"
     ]
    },
    {
     "name": "stderr",
     "output_type": "stream",
     "text": [
      "T: no, put red blocks on blue blocks\n"
     ]
    },
    {
     "name": "stdout",
     "output_type": "stream",
     "text": [
      "(forall (?x) (or (not (red ?x)) (exists (?y) (and (blue ?y) (on ?x ?y)))))\n",
      "[0.35911832 0.34932187 0.38219051]\n",
      "problem50.pddl reward: -20\n"
     ]
    }
   ],
   "source": [
    "add_experiment('onerule_update_once_with_negative', None)"
   ]
  },
  {
   "cell_type": "code",
   "execution_count": 31,
   "metadata": {
    "scrolled": true
   },
   "outputs": [
    {
     "name": "stderr",
     "output_type": "stream",
     "text": [
      "T: no, put red blocks on blue blocks\n"
     ]
    },
    {
     "name": "stdout",
     "output_type": "stream",
     "text": [
      "Parsing domain blocks-domain.pddl\n",
      "Parsing problem bijection/problem1.pddl\n",
      "Parsing domain blocks-domain.pddl\n",
      "Parsing problem bijection/problem1.pddl\n",
      "(forall (?x) (or (not (red ?x)) (exists (?y) (and (blue ?y) (on ?x ?y)))))\n",
      "[0.80392195 0.81344444 0.81344444]\n"
     ]
    },
    {
     "name": "stderr",
     "output_type": "stream",
     "text": [
      "T: no, put red blocks on blue blocks\n",
      "T: no, put red blocks on blue blocks\n"
     ]
    },
    {
     "name": "stdout",
     "output_type": "stream",
     "text": [
      "(forall (?x) (or (not (red ?x)) (exists (?y) (and (blue ?y) (on ?x ?y)))))\n",
      "[1. 1. 1.]\n",
      "(forall (?x) (or (not (red ?x)) (exists (?y) (and (blue ?y) (on ?x ?y)))))\n",
      "[1. 1. 1.]\n",
      "problem1.pddl reward: -16\n",
      "Parsing domain blocks-domain.pddl\n",
      "Parsing problem bijection/problem10.pddl\n"
     ]
    },
    {
     "name": "stderr",
     "output_type": "stream",
     "text": [
      "T: no, put red blocks on blue blocks\n"
     ]
    },
    {
     "name": "stdout",
     "output_type": "stream",
     "text": [
      "problem10.pddl reward: -10\n",
      "Parsing domain blocks-domain.pddl\n",
      "Parsing problem bijection/problem11.pddl\n",
      "(forall (?x) (or (not (red ?x)) (exists (?y) (and (blue ?y) (on ?x ?y)))))\n",
      "[0.67025802 0.68901235 0.68901235]\n"
     ]
    },
    {
     "name": "stderr",
     "output_type": "stream",
     "text": [
      "T: no, put red blocks on blue blocks\n",
      "T: no, put red blocks on blue blocks\n"
     ]
    },
    {
     "name": "stdout",
     "output_type": "stream",
     "text": [
      "(forall (?x) (or (not (red ?x)) (exists (?y) (and (blue ?y) (on ?x ?y)))))\n",
      "[1. 1. 1.]\n",
      "(forall (?x) (or (not (red ?x)) (exists (?y) (and (blue ?y) (on ?x ?y)))))\n",
      "[1. 1. 1.]\n"
     ]
    },
    {
     "name": "stderr",
     "output_type": "stream",
     "text": [
      "T: no, put red blocks on blue blocks\n",
      "T: no, put red blocks on blue blocks\n"
     ]
    },
    {
     "name": "stdout",
     "output_type": "stream",
     "text": [
      "(forall (?x) (or (not (red ?x)) (exists (?y) (and (blue ?y) (on ?x ?y)))))\n",
      "[1. 1. 1.]\n",
      "(forall (?x) (or (not (red ?x)) (exists (?y) (and (blue ?y) (on ?x ?y)))))\n",
      "[1. 1. 1.]\n"
     ]
    },
    {
     "name": "stderr",
     "output_type": "stream",
     "text": [
      "T: no, put red blocks on blue blocks\n",
      "T: no, put red blocks on blue blocks\n"
     ]
    },
    {
     "name": "stdout",
     "output_type": "stream",
     "text": [
      "(forall (?x) (or (not (red ?x)) (exists (?y) (and (blue ?y) (on ?x ?y)))))\n",
      "[1. 1. 1.]\n",
      "(forall (?x) (or (not (red ?x)) (exists (?y) (and (blue ?y) (on ?x ?y)))))\n",
      "[1. 1. 1.]\n"
     ]
    },
    {
     "name": "stderr",
     "output_type": "stream",
     "text": [
      "T: no, put red blocks on blue blocks\n",
      "T: no, put red blocks on blue blocks\n"
     ]
    },
    {
     "name": "stdout",
     "output_type": "stream",
     "text": [
      "(forall (?x) (or (not (red ?x)) (exists (?y) (and (blue ?y) (on ?x ?y)))))\n",
      "[1. 1. 1.]\n",
      "(forall (?x) (or (not (red ?x)) (exists (?y) (and (blue ?y) (on ?x ?y)))))\n",
      "[1. 1. 1.]\n",
      "problem11.pddl reward: -28\n",
      "Parsing domain blocks-domain.pddl\n",
      "Parsing problem bijection/problem12.pddl\n",
      "problem12.pddl reward: -10\n",
      "Parsing domain blocks-domain.pddl\n",
      "Parsing problem bijection/problem13.pddl\n"
     ]
    },
    {
     "name": "stderr",
     "output_type": "stream",
     "text": [
      "T: no, put red blocks on blue blocks\n",
      "T: no, put red blocks on blue blocks\n"
     ]
    },
    {
     "name": "stdout",
     "output_type": "stream",
     "text": [
      "(forall (?x) (or (not (red ?x)) (exists (?y) (and (blue ?y) (on ?x ?y)))))\n",
      "[0.58301058 0.5924697  0.59064624]\n",
      "[0.9999965  0.99999538 0.99999554]\n",
      "(forall (?x) (or (not (red ?x)) (exists (?y) (and (blue ?y) (on ?x ?y)))))\n",
      "[0.9999965  0.99999538 0.99999554]\n"
     ]
    },
    {
     "name": "stderr",
     "output_type": "stream",
     "text": [
      "T: no, put red blocks on blue blocks\n",
      "T: no, put red blocks on blue blocks\n"
     ]
    },
    {
     "name": "stdout",
     "output_type": "stream",
     "text": [
      "(forall (?x) (or (not (red ?x)) (exists (?y) (and (blue ?y) (on ?x ?y)))))\n",
      "[0.9999965  0.99999538 0.99999554]\n",
      "(forall (?x) (or (not (red ?x)) (exists (?y) (and (blue ?y) (on ?x ?y)))))\n",
      "[0.51035191 0.51861077 0.51751888]\n",
      "problem13.pddl reward: -18\n",
      "Parsing domain blocks-domain.pddl\n",
      "Parsing problem bijection/problem14.pddl\n"
     ]
    },
    {
     "name": "stderr",
     "output_type": "stream",
     "text": [
      "T: no, put red blocks on blue blocks\n"
     ]
    },
    {
     "name": "stdout",
     "output_type": "stream",
     "text": [
      "(forall (?y) (or (not (blue ?y)) (exists (?x) (and (red ?x) (on ?x ?y)))))\n",
      "[0.45394841 0.4983128  0.46002145]\n",
      "[0.99998125 0.99998005 0.99998295]\n",
      "problem14.pddl reward: -12\n",
      "Parsing domain blocks-domain.pddl\n",
      "Parsing problem bijection/problem15.pddl\n",
      "problem15.pddl reward: -10\n",
      "Parsing domain blocks-domain.pddl\n",
      "Parsing problem bijection/problem16.pddl\n"
     ]
    },
    {
     "name": "stderr",
     "output_type": "stream",
     "text": [
      "T: no, put red blocks on blue blocks\n",
      "T: no, put red blocks on blue blocks\n"
     ]
    },
    {
     "name": "stdout",
     "output_type": "stream",
     "text": [
      "(forall (?x) (or (not (red ?x)) (exists (?y) (and (blue ?y) (on ?x ?y)))))\n",
      "[0.41046649 0.4549569  0.4174378 ]\n",
      "[0.99997386 0.99997266 0.99997556]\n",
      "(forall (?x) (or (not (red ?x)) (exists (?y) (and (blue ?y) (on ?x ?y)))))\n",
      "[0.99997386 0.99997266 0.99997556]\n"
     ]
    },
    {
     "name": "stderr",
     "output_type": "stream",
     "text": [
      "T: no, put red blocks on blue blocks\n"
     ]
    },
    {
     "name": "stdout",
     "output_type": "stream",
     "text": [
      "(forall (?x) (or (not (red ?x)) (exists (?y) (and (blue ?y) (on ?x ?y)))))\n",
      "[0.99997386 0.99997266 0.99997556]\n",
      "problem16.pddl reward: -16\n",
      "Parsing domain blocks-domain.pddl\n",
      "Parsing problem bijection/problem17.pddl\n"
     ]
    },
    {
     "name": "stderr",
     "output_type": "stream",
     "text": [
      "T: no, put red blocks on blue blocks\n"
     ]
    },
    {
     "name": "stdout",
     "output_type": "stream",
     "text": [
      "(forall (?x) (or (not (red ?x)) (exists (?y) (and (blue ?y) (on ?x ?y)))))\n",
      "[0.38404242 0.41801099 0.38181851]\n"
     ]
    },
    {
     "name": "stderr",
     "output_type": "stream",
     "text": [
      "T: no, put red blocks on blue blocks\n"
     ]
    },
    {
     "name": "stdout",
     "output_type": "stream",
     "text": [
      "(forall (?x) (or (not (red ?x)) (exists (?y) (and (blue ?y) (on ?x ?y)))))\n",
      "[0.99997386 0.99997266 0.99997556]\n"
     ]
    },
    {
     "name": "stderr",
     "output_type": "stream",
     "text": [
      "T: no, put red blocks on blue blocks\n",
      "T: no, put red blocks on blue blocks\n"
     ]
    },
    {
     "name": "stdout",
     "output_type": "stream",
     "text": [
      "(forall (?x) (or (not (red ?x)) (exists (?y) (and (blue ?y) (on ?x ?y)))))\n",
      "[0.99997386 0.99997266 0.99997556]\n",
      "(forall (?x) (or (not (red ?x)) (exists (?y) (and (blue ?y) (on ?x ?y)))))\n",
      "[0.99997386 0.99997266 0.99997556]\n",
      "problem17.pddl reward: -18\n",
      "Parsing domain blocks-domain.pddl\n",
      "Parsing problem bijection/problem18.pddl\n"
     ]
    },
    {
     "name": "stderr",
     "output_type": "stream",
     "text": [
      "T: no, put red blocks on blue blocks\n",
      "T: no, put red blocks on blue blocks\n"
     ]
    },
    {
     "name": "stdout",
     "output_type": "stream",
     "text": [
      "(forall (?x) (or (not (red ?x)) (exists (?y) (and (blue ?y) (on ?x ?y)))))\n",
      "[0.35331238 0.38632376 0.35166136]\n",
      "[0.99997238 0.99997131 0.9999742 ]\n",
      "(forall (?x) (or (not (red ?x)) (exists (?y) (and (blue ?y) (on ?x ?y)))))\n",
      "[0.99997238 0.99997131 0.9999742 ]\n"
     ]
    },
    {
     "name": "stderr",
     "output_type": "stream",
     "text": [
      "T: no, put red blocks on blue blocks\n",
      "T: no, put red blocks on blue blocks\n"
     ]
    },
    {
     "name": "stdout",
     "output_type": "stream",
     "text": [
      "(forall (?x) (or (not (red ?x)) (exists (?y) (and (blue ?y) (on ?x ?y)))))\n",
      "[0.99997238 0.99997131 0.9999742 ]\n",
      "(forall (?x) (or (not (red ?x)) (exists (?y) (and (blue ?y) (on ?x ?y)))))\n",
      "[0.99997238 0.99997131 0.9999742 ]\n"
     ]
    },
    {
     "name": "stderr",
     "output_type": "stream",
     "text": [
      "T: no, put red blocks on blue blocks\n"
     ]
    },
    {
     "name": "stdout",
     "output_type": "stream",
     "text": [
      "(forall (?x) (or (not (red ?x)) (exists (?y) (and (blue ?y) (on ?x ?y)))))\n",
      "[0.99997238 0.99997131 0.9999742 ]\n",
      "problem18.pddl reward: -20\n",
      "Parsing domain blocks-domain.pddl\n"
     ]
    },
    {
     "name": "stderr",
     "output_type": "stream",
     "text": [
      "T: no, put red blocks on blue blocks\n"
     ]
    },
    {
     "name": "stdout",
     "output_type": "stream",
     "text": [
      "Parsing problem bijection/problem19.pddl\n",
      "(forall (?y) (or (not (blue ?y)) (exists (?x) (and (red ?x) (on ?x ?y)))))\n",
      "[0.32693305 0.3592831  0.35795162]\n",
      "[0.99708017 0.99707899 0.99654613]\n",
      "problem19.pddl reward: -12\n",
      "Parsing domain blocks-domain.pddl\n",
      "Parsing problem bijection/problem2.pddl\n"
     ]
    },
    {
     "name": "stderr",
     "output_type": "stream",
     "text": [
      "T: no, put red blocks on blue blocks\n",
      "R: Is the top object red?\n",
      "T: no\n"
     ]
    },
    {
     "name": "stdout",
     "output_type": "stream",
     "text": [
      "(forall (?y) (or (not (blue ?y)) (exists (?x) (and (red ?x) (on ?x ?y)))))\n",
      "[0.32693305 0.3592831  0.35795162]\n",
      "[0.82277695 0.822772   0.80711327]\n"
     ]
    },
    {
     "name": "stderr",
     "output_type": "stream",
     "text": [
      "T: no, put red blocks on blue blocks\n"
     ]
    },
    {
     "name": "stdout",
     "output_type": "stream",
     "text": [
      "(forall (?y) (or (not (blue ?y)) (exists (?x) (and (red ?x) (on ?x ?y)))))\n",
      "[0.32693305 0.3592831  0.35795162]\n"
     ]
    },
    {
     "name": "stderr",
     "output_type": "stream",
     "text": [
      "T: no, put red blocks on blue blocks\n"
     ]
    },
    {
     "name": "stdout",
     "output_type": "stream",
     "text": [
      "(forall (?y) (or (not (blue ?y)) (exists (?x) (and (red ?x) (on ?x ?y)))))\n",
      "[0.32693305 0.3592831  0.35795162]\n"
     ]
    },
    {
     "name": "stderr",
     "output_type": "stream",
     "text": [
      "T: no, put red blocks on blue blocks\n"
     ]
    },
    {
     "name": "stdout",
     "output_type": "stream",
     "text": [
      "(forall (?y) (or (not (blue ?y)) (exists (?x) (and (red ?x) (on ?x ?y)))))\n",
      "[0.32693305 0.3592831  0.35795162]\n"
     ]
    },
    {
     "name": "stderr",
     "output_type": "stream",
     "text": [
      "T: no, put red blocks on blue blocks\n",
      "T: no, put red blocks on blue blocks\n"
     ]
    },
    {
     "name": "stdout",
     "output_type": "stream",
     "text": [
      "(forall (?y) (or (not (blue ?y)) (exists (?x) (and (red ?x) (on ?x ?y)))))\n",
      "(forall (?y) (or (not (blue ?y)) (exists (?x) (and (red ?x) (on ?x ?y)))))\n"
     ]
    },
    {
     "name": "stderr",
     "output_type": "stream",
     "text": [
      "T: no, put red blocks on blue blocks\n",
      "T: no, put red blocks on blue blocks\n"
     ]
    },
    {
     "name": "stdout",
     "output_type": "stream",
     "text": [
      "(forall (?y) (or (not (blue ?y)) (exists (?x) (and (red ?x) (on ?x ?y)))))\n",
      "[0.32693305 0.3592831  0.35795162]\n",
      "(forall (?y) (or (not (blue ?y)) (exists (?x) (and (red ?x) (on ?x ?y)))))\n",
      "[0.32693305 0.3592831  0.35795162]\n"
     ]
    },
    {
     "name": "stderr",
     "output_type": "stream",
     "text": [
      "T: no, put red blocks on blue blocks\n"
     ]
    },
    {
     "name": "stdout",
     "output_type": "stream",
     "text": [
      "(forall (?y) (or (not (blue ?y)) (exists (?x) (and (red ?x) (on ?x ?y)))))\n",
      "[0.32693305 0.3592831  0.35795162]\n",
      "problem2.pddl reward: -28\n",
      "Parsing domain blocks-domain.pddl\n",
      "Parsing problem bijection/problem20.pddl\n"
     ]
    },
    {
     "name": "stderr",
     "output_type": "stream",
     "text": [
      "T: no, put red blocks on blue blocks\n"
     ]
    },
    {
     "name": "stdout",
     "output_type": "stream",
     "text": [
      "(forall (?x) (or (not (red ?x)) (exists (?y) (and (blue ?y) (on ?x ?y)))))\n",
      "[0.30536706 0.33571061 0.33533329]\n",
      "[0.82197328 0.82073857 0.80593034]\n"
     ]
    },
    {
     "name": "stderr",
     "output_type": "stream",
     "text": [
      "T: no, put red blocks on blue blocks\n"
     ]
    },
    {
     "name": "stdout",
     "output_type": "stream",
     "text": [
      "(forall (?x) (or (not (red ?x)) (exists (?y) (and (blue ?y) (on ?x ?y)))))\n",
      "[0.81151646 0.81026724 0.80037911]\n"
     ]
    },
    {
     "name": "stderr",
     "output_type": "stream",
     "text": [
      "T: no, put red blocks on blue blocks\n"
     ]
    },
    {
     "name": "stdout",
     "output_type": "stream",
     "text": [
      "(forall (?x) (or (not (red ?x)) (exists (?y) (and (blue ?y) (on ?x ?y)))))\n",
      "[0.81148185 0.81018653 0.80026952]\n"
     ]
    },
    {
     "name": "stderr",
     "output_type": "stream",
     "text": [
      "T: no, put red blocks on blue blocks\n"
     ]
    },
    {
     "name": "stdout",
     "output_type": "stream",
     "text": [
      "(forall (?x) (or (not (red ?x)) (exists (?y) (and (blue ?y) (on ?x ?y)))))\n",
      "[0.81146042 0.81016688 0.80024868]\n"
     ]
    },
    {
     "name": "stderr",
     "output_type": "stream",
     "text": [
      "T: no, put red blocks on blue blocks\n"
     ]
    },
    {
     "name": "stdout",
     "output_type": "stream",
     "text": [
      "(forall (?x) (or (not (red ?x)) (exists (?y) (and (blue ?y) (on ?x ?y)))))\n",
      "[0.81146036 0.81016672 0.80024847]\n"
     ]
    },
    {
     "name": "stderr",
     "output_type": "stream",
     "text": [
      "T: no, put red blocks on blue blocks\n"
     ]
    },
    {
     "name": "stdout",
     "output_type": "stream",
     "text": [
      "(forall (?x) (or (not (red ?x)) (exists (?y) (and (blue ?y) (on ?x ?y)))))\n",
      "[0.81146035 0.81016672 0.80024847]\n"
     ]
    },
    {
     "name": "stderr",
     "output_type": "stream",
     "text": [
      "T: no, put red blocks on blue blocks\n"
     ]
    },
    {
     "name": "stdout",
     "output_type": "stream",
     "text": [
      "problem20.pddl reward: -22\n",
      "Parsing domain blocks-domain.pddl\n",
      "Parsing problem bijection/problem21.pddl\n",
      "(forall (?x) (or (not (red ?x)) (exists (?y) (and (blue ?y) (on ?x ?y)))))\n",
      "[0.28910712 0.317921   0.31814854]\n",
      "[0.78640454 0.79356459 0.78073049]\n",
      "problem21.pddl reward: -12\n",
      "Parsing domain blocks-domain.pddl\n",
      "Parsing problem bijection/problem22.pddl\n"
     ]
    },
    {
     "name": "stderr",
     "output_type": "stream",
     "text": [
      "T: no, put red blocks on blue blocks\n"
     ]
    },
    {
     "name": "stdout",
     "output_type": "stream",
     "text": [
      "(forall (?y) (or (not (blue ?y)) (exists (?x) (and (red ?x) (on ?x ?y)))))\n",
      "[0.28938177 0.31715343 0.31835861]\n",
      "[0.66717346 0.67536164 0.66267609]\n"
     ]
    },
    {
     "name": "stderr",
     "output_type": "stream",
     "text": [
      "T: no, put red blocks on blue blocks\n",
      "T: no, put red blocks on blue blocks\n"
     ]
    },
    {
     "name": "stdout",
     "output_type": "stream",
     "text": [
      "(forall (?x) (or (not (red ?x)) (exists (?y) (and (blue ?y) (on ?x ?y)))))\n",
      "[0.27645328 0.30275666 0.30397174]\n",
      "[0.64202103 0.64727829 0.64517279]\n",
      "(forall (?x) (or (not (red ?x)) (exists (?y) (and (blue ?y) (on ?x ?y)))))\n"
     ]
    },
    {
     "name": "stderr",
     "output_type": "stream",
     "text": [
      "T: no, put red blocks on blue blocks\n"
     ]
    },
    {
     "name": "stdout",
     "output_type": "stream",
     "text": [
      "[0.64053321 0.64713687 0.6433329 ]\n",
      "(forall (?x) (or (not (red ?x)) (exists (?y) (and (blue ?y) (on ?x ?y)))))\n",
      "[0.64032641 0.64484143 0.64181565]\n"
     ]
    },
    {
     "name": "stderr",
     "output_type": "stream",
     "text": [
      "T: no, put red blocks on blue blocks\n"
     ]
    },
    {
     "name": "stdout",
     "output_type": "stream",
     "text": [
      "(forall (?x) (or (not (red ?x)) (exists (?y) (and (blue ?y) (on ?x ?y)))))\n",
      "[0.64013964 0.64301865 0.64060247]\n",
      "problem22.pddl reward: -20\n",
      "Parsing domain blocks-domain.pddl\n",
      "Parsing problem bijection/problem23.pddl\n"
     ]
    },
    {
     "name": "stderr",
     "output_type": "stream",
     "text": [
      "T: no, put red blocks on blue blocks\n"
     ]
    },
    {
     "name": "stdout",
     "output_type": "stream",
     "text": [
      "(forall (?x) (or (not (red ?x)) (exists (?y) (and (blue ?y) (on ?x ?y)))))\n",
      "[0.26139316 0.28630279 0.28797124]\n",
      "[0.63570738 0.63877892 0.6368244 ]\n"
     ]
    },
    {
     "name": "stderr",
     "output_type": "stream",
     "text": [
      "T: no, put red blocks on blue blocks\n"
     ]
    },
    {
     "name": "stdout",
     "output_type": "stream",
     "text": [
      "(forall (?x) (or (not (red ?x)) (exists (?y) (and (blue ?y) (on ?x ?y)))))\n",
      "[0.63538118 0.63841071 0.63649229]\n",
      "problem23.pddl reward: -14\n",
      "Parsing domain blocks-domain.pddl\n",
      "Parsing problem bijection/problem24.pddl\n"
     ]
    },
    {
     "name": "stderr",
     "output_type": "stream",
     "text": [
      "T: no, put red blocks on blue blocks\n"
     ]
    },
    {
     "name": "stdout",
     "output_type": "stream",
     "text": [
      "(forall (?x) (or (not (red ?x)) (exists (?y) (and (blue ?y) (on ?x ?y)))))\n",
      "[0.24676095 0.26994861 0.27155412]\n"
     ]
    },
    {
     "name": "stderr",
     "output_type": "stream",
     "text": [
      "T: no, put red blocks on blue blocks\n"
     ]
    },
    {
     "name": "stdout",
     "output_type": "stream",
     "text": [
      "(forall (?x) (or (not (red ?x)) (exists (?y) (and (blue ?y) (on ?x ?y)))))\n",
      "[0.63538118 0.63841071 0.63649229]\n"
     ]
    },
    {
     "name": "stderr",
     "output_type": "stream",
     "text": [
      "T: no, put red blocks on blue blocks\n"
     ]
    },
    {
     "name": "stdout",
     "output_type": "stream",
     "text": [
      "(forall (?x) (or (not (red ?x)) (exists (?y) (and (blue ?y) (on ?x ?y)))))\n",
      "[0.63538118 0.63841071 0.63649229]\n"
     ]
    },
    {
     "name": "stderr",
     "output_type": "stream",
     "text": [
      "T: no, put red blocks on blue blocks\n"
     ]
    },
    {
     "name": "stdout",
     "output_type": "stream",
     "text": [
      "(forall (?x) (or (not (red ?x)) (exists (?y) (and (blue ?y) (on ?x ?y)))))\n",
      "[0.63538118 0.63841071 0.63649229]\n"
     ]
    },
    {
     "name": "stderr",
     "output_type": "stream",
     "text": [
      "T: no, put red blocks on blue blocks\n"
     ]
    },
    {
     "name": "stdout",
     "output_type": "stream",
     "text": [
      "(forall (?x) (or (not (red ?x)) (exists (?y) (and (blue ?y) (on ?x ?y)))))\n",
      "[0.63538118 0.63841071 0.63649229]\n"
     ]
    },
    {
     "name": "stderr",
     "output_type": "stream",
     "text": [
      "T: no, put red blocks on blue blocks\n"
     ]
    },
    {
     "name": "stdout",
     "output_type": "stream",
     "text": [
      "(forall (?y) (or (not (blue ?y)) (exists (?x) (and (red ?x) (on ?x ?y)))))\n",
      "[0.24676033 0.26994729 0.27155091]\n",
      "[0.55824721 0.58316231 0.57861678]\n"
     ]
    },
    {
     "name": "stderr",
     "output_type": "stream",
     "text": [
      "T: no, put red blocks on blue blocks\n"
     ]
    },
    {
     "name": "stdout",
     "output_type": "stream",
     "text": [
      "(forall (?y) (or (not (blue ?y)) (exists (?x) (and (red ?x) (on ?x ?y)))))\n",
      "[0.24676033 0.26994729 0.27155091]\n",
      "problem24.pddl reward: -24\n",
      "Parsing domain blocks-domain.pddl\n",
      "Parsing problem bijection/problem25.pddl\n"
     ]
    },
    {
     "name": "stderr",
     "output_type": "stream",
     "text": [
      "T: no, put red blocks on blue blocks\n"
     ]
    },
    {
     "name": "stdout",
     "output_type": "stream",
     "text": [
      "(forall (?y) (or (not (blue ?y)) (exists (?x) (and (red ?x) (on ?x ?y)))))\n",
      "[0.24675698 0.2699495  0.27155365]\n",
      "[0.49445466 0.52111482 0.51441806]\n"
     ]
    },
    {
     "name": "stderr",
     "output_type": "stream",
     "text": [
      "T: no, put red blocks on blue blocks\n"
     ]
    },
    {
     "name": "stdout",
     "output_type": "stream",
     "text": [
      "(forall (?y) (or (not (blue ?y)) (exists (?x) (and (red ?x) (on ?x ?y)))))\n",
      "[0.24675698 0.26994951 0.27155363]\n"
     ]
    },
    {
     "name": "stderr",
     "output_type": "stream",
     "text": [
      "T: no, put red blocks on blue blocks\n"
     ]
    },
    {
     "name": "stdout",
     "output_type": "stream",
     "text": [
      "(forall (?y) (or (not (blue ?y)) (exists (?x) (and (red ?x) (on ?x ?y)))))\n",
      "[0.24675698 0.26994951 0.27155363]\n"
     ]
    },
    {
     "name": "stderr",
     "output_type": "stream",
     "text": [
      "T: no, put red blocks on blue blocks\n"
     ]
    },
    {
     "name": "stdout",
     "output_type": "stream",
     "text": [
      "(forall (?y) (or (not (blue ?y)) (exists (?x) (and (red ?x) (on ?x ?y)))))\n",
      "[0.24675698 0.26994951 0.27155363]\n",
      "problem25.pddl reward: -18\n",
      "Parsing domain blocks-domain.pddl\n",
      "Parsing problem bijection/problem26.pddl\n"
     ]
    },
    {
     "name": "stderr",
     "output_type": "stream",
     "text": [
      "T: no, put red blocks on blue blocks\n"
     ]
    },
    {
     "name": "stdout",
     "output_type": "stream",
     "text": [
      "(forall (?y) (or (not (blue ?y)) (exists (?x) (and (red ?x) (on ?x ?y)))))\n",
      "[0.24676176 0.26994131 0.2715487 ]\n",
      "[0.44583557 0.4852522  0.4766541 ]\n"
     ]
    },
    {
     "name": "stderr",
     "output_type": "stream",
     "text": [
      "T: no, put red blocks on blue blocks\n"
     ]
    },
    {
     "name": "stdout",
     "output_type": "stream",
     "text": [
      "(forall (?y) (or (not (blue ?y)) (exists (?x) (and (red ?x) (on ?x ?y)))))\n",
      "[0.24676176 0.26994131 0.2715487 ]\n"
     ]
    },
    {
     "name": "stderr",
     "output_type": "stream",
     "text": [
      "T: no, put red blocks on blue blocks\n"
     ]
    },
    {
     "name": "stdout",
     "output_type": "stream",
     "text": [
      "(forall (?y) (or (not (blue ?y)) (exists (?x) (and (red ?x) (on ?x ?y)))))\n",
      "problem26.pddl reward: -16\n",
      "Parsing domain blocks-domain.pddl\n",
      "Parsing problem bijection/problem27.pddl\n"
     ]
    },
    {
     "name": "stderr",
     "output_type": "stream",
     "text": [
      "T: no, put red blocks on blue blocks\n",
      "R: Is the top object red?\n",
      "T: no\n",
      "T: no, put red blocks on blue blocks\n"
     ]
    },
    {
     "name": "stdout",
     "output_type": "stream",
     "text": [
      "(forall (?y) (or (not (blue ?y)) (exists (?x) (and (red ?x) (on ?x ?y)))))\n",
      "[0.24676176 0.26994131 0.2715487 ]\n",
      "[0.40879944 0.44362725 0.43855665]\n",
      "(forall (?y) (or (not (blue ?y)) (exists (?x) (and (red ?x) (on ?x ?y)))))\n",
      "[0.24676176 0.26994131 0.2715487 ]\n"
     ]
    },
    {
     "name": "stderr",
     "output_type": "stream",
     "text": [
      "T: no, put red blocks on blue blocks\n",
      "T: no, put red blocks on blue blocks\n"
     ]
    },
    {
     "name": "stdout",
     "output_type": "stream",
     "text": [
      "(forall (?y) (or (not (blue ?y)) (exists (?x) (and (red ?x) (on ?x ?y)))))\n",
      "[0.24676176 0.26994131 0.2715487 ]\n",
      "(forall (?y) (or (not (blue ?y)) (exists (?x) (and (red ?x) (on ?x ?y)))))\n",
      "[0.24676176 0.26994131 0.2715487 ]\n"
     ]
    },
    {
     "name": "stderr",
     "output_type": "stream",
     "text": [
      "T: no, put red blocks on blue blocks\n"
     ]
    },
    {
     "name": "stdout",
     "output_type": "stream",
     "text": [
      "(forall (?y) (or (not (blue ?y)) (exists (?x) (and (red ?x) (on ?x ?y)))))\n",
      "[0.24676176 0.26994131 0.2715487 ]\n",
      "problem27.pddl reward: -20\n",
      "Parsing domain blocks-domain.pddl\n",
      "Parsing problem bijection/problem28.pddl\n"
     ]
    },
    {
     "name": "stderr",
     "output_type": "stream",
     "text": [
      "T: no, put red blocks on blue blocks\n"
     ]
    },
    {
     "name": "stdout",
     "output_type": "stream",
     "text": [
      "(forall (?x) (or (not (red ?x)) (exists (?y) (and (blue ?y) (on ?x ?y)))))\n",
      "[0.23844527 0.25850552 0.26018954]\n",
      "[0.41372891 0.44193336 0.43878381]\n"
     ]
    },
    {
     "name": "stderr",
     "output_type": "stream",
     "text": [
      "T: no, put red blocks on blue blocks\n"
     ]
    },
    {
     "name": "stdout",
     "output_type": "stream",
     "text": [
      "(forall (?x) (or (not (red ?x)) (exists (?y) (and (blue ?y) (on ?x ?y)))))\n",
      "[0.4138641  0.44169844 0.43878272]\n"
     ]
    },
    {
     "name": "stderr",
     "output_type": "stream",
     "text": [
      "T: no, put red blocks on blue blocks\n"
     ]
    },
    {
     "name": "stdout",
     "output_type": "stream",
     "text": [
      "(forall (?y) (or (not (blue ?y)) (exists (?x) (and (red ?x) (on ?x ?y)))))\n",
      "[0.23844508 0.25850638 0.26018914]\n",
      "[0.38205943 0.41697977 0.40367582]\n",
      "problem28.pddl reward: -16\n",
      "Parsing domain blocks-domain.pddl\n",
      "Parsing problem bijection/problem29.pddl\n",
      "problem29.pddl reward: -10\n",
      "Parsing domain blocks-domain.pddl\n",
      "Parsing problem bijection/problem3.pddl\n",
      "problem3.pddl reward: -10\n",
      "Parsing domain blocks-domain.pddl\n",
      "Parsing problem bijection/problem30.pddl\n"
     ]
    },
    {
     "name": "stderr",
     "output_type": "stream",
     "text": [
      "T: no, put red blocks on blue blocks\n"
     ]
    },
    {
     "name": "stdout",
     "output_type": "stream",
     "text": [
      "(forall (?y) (or (not (blue ?y)) (exists (?x) (and (red ?x) (on ?x ?y)))))\n",
      "[0.23844526 0.25850613 0.2601896 ]\n",
      "[0.35462271 0.39376278 0.3741005 ]\n"
     ]
    },
    {
     "name": "stderr",
     "output_type": "stream",
     "text": [
      "T: no, put red blocks on blue blocks\n"
     ]
    },
    {
     "name": "stdout",
     "output_type": "stream",
     "text": [
      "(forall (?y) (or (not (blue ?y)) (exists (?x) (and (red ?x) (on ?x ?y)))))\n",
      "[0.23844526 0.25850613 0.2601896 ]\n"
     ]
    },
    {
     "name": "stderr",
     "output_type": "stream",
     "text": [
      "T: no, put red blocks on blue blocks\n"
     ]
    },
    {
     "name": "stdout",
     "output_type": "stream",
     "text": [
      "(forall (?y) (or (not (blue ?y)) (exists (?x) (and (red ?x) (on ?x ?y)))))\n",
      "[0.23844526 0.25850613 0.2601896 ]\n"
     ]
    },
    {
     "name": "stderr",
     "output_type": "stream",
     "text": [
      "T: no, put red blocks on blue blocks\n"
     ]
    },
    {
     "name": "stdout",
     "output_type": "stream",
     "text": [
      "(forall (?y) (or (not (blue ?y)) (exists (?x) (and (red ?x) (on ?x ?y)))))\n"
     ]
    },
    {
     "name": "stderr",
     "output_type": "stream",
     "text": [
      "T: no, put red blocks on blue blocks\n"
     ]
    },
    {
     "name": "stdout",
     "output_type": "stream",
     "text": [
      "(forall (?y) (or (not (blue ?y)) (exists (?x) (and (red ?x) (on ?x ?y)))))\n"
     ]
    },
    {
     "name": "stderr",
     "output_type": "stream",
     "text": [
      "T: no, put red blocks on blue blocks\n"
     ]
    },
    {
     "name": "stdout",
     "output_type": "stream",
     "text": [
      "(forall (?y) (or (not (blue ?y)) (exists (?x) (and (red ?x) (on ?x ?y)))))\n",
      "[0.23844526 0.25850613 0.2601896 ]\n"
     ]
    },
    {
     "name": "stderr",
     "output_type": "stream",
     "text": [
      "T: no, put red blocks on blue blocks\n"
     ]
    },
    {
     "name": "stdout",
     "output_type": "stream",
     "text": [
      "(forall (?y) (or (not (blue ?y)) (exists (?x) (and (red ?x) (on ?x ?y)))))\n",
      "[0.23844526 0.25850613 0.2601896 ]\n",
      "problem30.pddl reward: -24\n",
      "Parsing domain blocks-domain.pddl\n",
      "Parsing problem bijection/problem31.pddl\n"
     ]
    },
    {
     "name": "stderr",
     "output_type": "stream",
     "text": [
      "T: no, put red blocks on blue blocks\n"
     ]
    },
    {
     "name": "stdout",
     "output_type": "stream",
     "text": [
      "(forall (?x) (or (not (red ?x)) (exists (?y) (and (blue ?y) (on ?x ?y)))))\n",
      "[0.22631364 0.24517974 0.24681061]\n",
      "[0.35477878 0.3935891  0.37393334]\n"
     ]
    },
    {
     "name": "stderr",
     "output_type": "stream",
     "text": [
      "T: no, put red blocks on blue blocks\n"
     ]
    },
    {
     "name": "stdout",
     "output_type": "stream",
     "text": [
      "(forall (?x) (or (not (red ?x)) (exists (?y) (and (blue ?y) (on ?x ?y)))))\n",
      "[0.35477942 0.39358846 0.37393346]\n"
     ]
    },
    {
     "name": "stderr",
     "output_type": "stream",
     "text": [
      "T: no, put red blocks on blue blocks\n"
     ]
    },
    {
     "name": "stdout",
     "output_type": "stream",
     "text": [
      "(forall (?x) (or (not (red ?x)) (exists (?y) (and (blue ?y) (on ?x ?y)))))\n",
      "[0.3547778  0.39358771 0.37393273]\n",
      "problem31.pddl reward: -16\n",
      "Parsing domain blocks-domain.pddl\n",
      "Parsing problem bijection/problem32.pddl\n"
     ]
    },
    {
     "name": "stderr",
     "output_type": "stream",
     "text": [
      "T: no, put red blocks on blue blocks\n"
     ]
    },
    {
     "name": "stdout",
     "output_type": "stream",
     "text": [
      "(forall (?y) (or (not (blue ?y)) (exists (?x) (and (red ?x) (on ?x ?y)))))\n",
      "[0.22623546 0.24509708 0.2467753 ]\n",
      "[0.32962826 0.36877649 0.35029122]\n",
      "problem32.pddl reward: -12\n",
      "Parsing domain blocks-domain.pddl\n",
      "Parsing problem bijection/problem33.pddl\n"
     ]
    },
    {
     "name": "stderr",
     "output_type": "stream",
     "text": [
      "T: no, put red blocks on blue blocks\n",
      "R: Is the top object red?\n",
      "T: yes\n"
     ]
    },
    {
     "name": "stdout",
     "output_type": "stream",
     "text": [
      "(forall (?x) (or (not (red ?x)) (exists (?y) (and (blue ?y) (on ?x ?y)))))\n",
      "[0.21601678 0.23376774 0.23578967]\n",
      "[0.32962826 0.36877649 0.35029122]\n"
     ]
    },
    {
     "name": "stderr",
     "output_type": "stream",
     "text": [
      "T: no, put red blocks on blue blocks\n"
     ]
    },
    {
     "name": "stdout",
     "output_type": "stream",
     "text": [
      "(forall (?x) (or (not (red ?x)) (exists (?y) (and (blue ?y) (on ?x ?y)))))\n",
      "[0.32962826 0.36877649 0.35029122]\n"
     ]
    },
    {
     "name": "stderr",
     "output_type": "stream",
     "text": [
      "T: no, put red blocks on blue blocks\n"
     ]
    },
    {
     "name": "stdout",
     "output_type": "stream",
     "text": [
      "(forall (?x) (or (not (red ?x)) (exists (?y) (and (blue ?y) (on ?x ?y)))))\n",
      "[0.32962826 0.36877649 0.35029122]\n"
     ]
    },
    {
     "name": "stderr",
     "output_type": "stream",
     "text": [
      "T: no, put red blocks on blue blocks\n"
     ]
    },
    {
     "name": "stdout",
     "output_type": "stream",
     "text": [
      "(forall (?x) (or (not (red ?x)) (exists (?y) (and (blue ?y) (on ?x ?y)))))\n",
      "[0.32962826 0.36877649 0.35029122]\n"
     ]
    },
    {
     "name": "stderr",
     "output_type": "stream",
     "text": [
      "T: no, put red blocks on blue blocks\n"
     ]
    },
    {
     "name": "stdout",
     "output_type": "stream",
     "text": [
      "(forall (?x) (or (not (red ?x)) (exists (?y) (and (blue ?y) (on ?x ?y)))))\n",
      "[0.32962826 0.36877649 0.35029122]\n"
     ]
    },
    {
     "name": "stderr",
     "output_type": "stream",
     "text": [
      "T: no, put red blocks on blue blocks\n"
     ]
    },
    {
     "name": "stdout",
     "output_type": "stream",
     "text": [
      "(forall (?x) (or (not (red ?x)) (exists (?y) (and (blue ?y) (on ?x ?y)))))\n",
      "[0.32962826 0.36877649 0.35029122]\n",
      "problem33.pddl reward: -22\n",
      "Parsing domain blocks-domain.pddl\n",
      "Parsing problem bijection/problem34.pddl\n"
     ]
    },
    {
     "name": "stderr",
     "output_type": "stream",
     "text": [
      "T: no, put red blocks on blue blocks\n"
     ]
    },
    {
     "name": "stdout",
     "output_type": "stream",
     "text": [
      "(forall (?y) (or (not (blue ?y)) (exists (?x) (and (red ?x) (on ?x ?y)))))\n",
      "[0.21601677 0.23376772 0.23578968]\n",
      "[0.30895624 0.34970472 0.32726232]\n"
     ]
    },
    {
     "name": "stderr",
     "output_type": "stream",
     "text": [
      "T: no, put red blocks on blue blocks\n",
      "T: no, put red blocks on blue blocks\n"
     ]
    },
    {
     "name": "stdout",
     "output_type": "stream",
     "text": [
      "(forall (?y) (or (not (blue ?y)) (exists (?x) (and (red ?x) (on ?x ?y)))))\n",
      "[0.21601677 0.23376772 0.23578968]\n",
      "(forall (?y) (or (not (blue ?y)) (exists (?x) (and (red ?x) (on ?x ?y)))))\n",
      "[0.21601677 0.23376772 0.23578968]\n"
     ]
    },
    {
     "name": "stderr",
     "output_type": "stream",
     "text": [
      "T: no, put red blocks on blue blocks\n",
      "T: no, put red blocks on blue blocks\n"
     ]
    },
    {
     "name": "stdout",
     "output_type": "stream",
     "text": [
      "(forall (?y) (or (not (blue ?y)) (exists (?x) (and (red ?x) (on ?x ?y)))))\n",
      "[0.21601677 0.23376772 0.23578968]\n",
      "(forall (?y) (or (not (blue ?y)) (exists (?x) (and (red ?x) (on ?x ?y)))))\n",
      "[0.21601677 0.23376772 0.23578968]\n",
      "problem34.pddl reward: -20\n",
      "Parsing domain blocks-domain.pddl\n",
      "Parsing problem bijection/problem35.pddl\n"
     ]
    },
    {
     "name": "stderr",
     "output_type": "stream",
     "text": [
      "T: no, put red blocks on blue blocks\n"
     ]
    },
    {
     "name": "stdout",
     "output_type": "stream",
     "text": [
      "(forall (?y) (or (not (blue ?y)) (exists (?x) (and (red ?x) (on ?x ?y)))))\n",
      "[0.2160167  0.23376765 0.23578966]\n",
      "[0.290671   0.33220083 0.31453779]\n"
     ]
    },
    {
     "name": "stderr",
     "output_type": "stream",
     "text": [
      "T: no, put red blocks on blue blocks\n"
     ]
    },
    {
     "name": "stdout",
     "output_type": "stream",
     "text": [
      "(forall (?y) (or (not (blue ?y)) (exists (?x) (and (red ?x) (on ?x ?y)))))\n",
      "[0.2160167  0.23376765 0.23578966]\n"
     ]
    },
    {
     "name": "stderr",
     "output_type": "stream",
     "text": [
      "T: no, put red blocks on blue blocks\n"
     ]
    },
    {
     "name": "stdout",
     "output_type": "stream",
     "text": [
      "(forall (?y) (or (not (blue ?y)) (exists (?x) (and (red ?x) (on ?x ?y)))))\n",
      "[0.2160167  0.23376765 0.23578966]\n"
     ]
    },
    {
     "name": "stderr",
     "output_type": "stream",
     "text": [
      "T: no, put red blocks on blue blocks\n"
     ]
    },
    {
     "name": "stdout",
     "output_type": "stream",
     "text": [
      "(forall (?x) (or (not (red ?x)) (exists (?y) (and (blue ?y) (on ?x ?y)))))\n",
      "[0.21594829 0.23369231 0.23571369]\n",
      "[0.27449325 0.31587873 0.31982212]\n",
      "problem35.pddl reward: -18\n",
      "Parsing domain blocks-domain.pddl\n",
      "Parsing problem bijection/problem36.pddl\n"
     ]
    },
    {
     "name": "stderr",
     "output_type": "stream",
     "text": [
      "T: no, put red blocks on blue blocks\n"
     ]
    },
    {
     "name": "stdout",
     "output_type": "stream",
     "text": [
      "(forall (?x) (or (not (red ?x)) (exists (?y) (and (blue ?y) (on ?x ?y)))))\n",
      "[0.2089525  0.22395915 0.22611787]\n",
      "[0.27770614 0.31429733 0.31869918]\n",
      "problem36.pddl reward: -12\n",
      "Parsing domain blocks-domain.pddl\n",
      "Parsing problem bijection/problem37.pddl\n",
      "problem37.pddl reward: -10\n",
      "Parsing domain blocks-domain.pddl\n",
      "Parsing problem bijection/problem38.pddl\n"
     ]
    },
    {
     "name": "stderr",
     "output_type": "stream",
     "text": [
      "T: no, put red blocks on blue blocks\n"
     ]
    },
    {
     "name": "stdout",
     "output_type": "stream",
     "text": [
      "(forall (?x) (or (not (red ?x)) (exists (?y) (and (blue ?y) (on ?x ?y)))))\n",
      "[0.1999742  0.21445732 0.21694155]\n",
      "[0.2777086  0.3142961  0.31869949]\n"
     ]
    },
    {
     "name": "stderr",
     "output_type": "stream",
     "text": [
      "T: no, put red blocks on blue blocks\n"
     ]
    },
    {
     "name": "stdout",
     "output_type": "stream",
     "text": [
      "(forall (?x) (or (not (red ?x)) (exists (?y) (and (blue ?y) (on ?x ?y)))))\n",
      "[0.27770717 0.31429486 0.31869905]\n"
     ]
    },
    {
     "name": "stderr",
     "output_type": "stream",
     "text": [
      "T: no, put red blocks on blue blocks\n"
     ]
    },
    {
     "name": "stdout",
     "output_type": "stream",
     "text": [
      "(forall (?x) (or (not (red ?x)) (exists (?y) (and (blue ?y) (on ?x ?y)))))\n",
      "[0.27770717 0.31429486 0.31869905]\n"
     ]
    },
    {
     "name": "stderr",
     "output_type": "stream",
     "text": [
      "T: no, put red blocks on blue blocks\n"
     ]
    },
    {
     "name": "stdout",
     "output_type": "stream",
     "text": [
      "(forall (?x) (or (not (red ?x)) (exists (?y) (and (blue ?y) (on ?x ?y)))))\n",
      "[0.27770717 0.31429486 0.31869905]\n"
     ]
    },
    {
     "name": "stderr",
     "output_type": "stream",
     "text": [
      "T: no, put red blocks on blue blocks\n"
     ]
    },
    {
     "name": "stdout",
     "output_type": "stream",
     "text": [
      "(forall (?x) (or (not (red ?x)) (exists (?y) (and (blue ?y) (on ?x ?y)))))\n",
      "[0.27770717 0.31429486 0.31869905]\n"
     ]
    },
    {
     "name": "stderr",
     "output_type": "stream",
     "text": [
      "T: no, put red blocks on blue blocks\n"
     ]
    },
    {
     "name": "stdout",
     "output_type": "stream",
     "text": [
      "(forall (?x) (or (not (red ?x)) (exists (?y) (and (blue ?y) (on ?x ?y)))))\n",
      "[0.19148121 0.20522676 0.2075912 ]\n"
     ]
    },
    {
     "name": "stderr",
     "output_type": "stream",
     "text": [
      "T: no, put red blocks on blue blocks\n"
     ]
    },
    {
     "name": "stdout",
     "output_type": "stream",
     "text": [
      "(forall (?x) (or (not (red ?x)) (exists (?y) (and (blue ?y) (on ?x ?y)))))\n",
      "[0.27770717 0.31429486 0.31869905]\n"
     ]
    },
    {
     "name": "stderr",
     "output_type": "stream",
     "text": [
      "T: no, put red blocks on blue blocks\n"
     ]
    },
    {
     "name": "stdout",
     "output_type": "stream",
     "text": [
      "(forall (?x) (or (not (red ?x)) (exists (?y) (and (blue ?y) (on ?x ?y)))))\n"
     ]
    },
    {
     "name": "stderr",
     "output_type": "stream",
     "text": [
      "T: no, put red blocks on blue blocks\n"
     ]
    },
    {
     "name": "stdout",
     "output_type": "stream",
     "text": [
      "(forall (?x) (or (not (red ?x)) (exists (?y) (and (blue ?y) (on ?x ?y)))))\n",
      "problem38.pddl reward: -28\n",
      "Parsing domain blocks-domain.pddl\n",
      "Parsing problem bijection/problem39.pddl\n",
      "problem39.pddl reward: -10\n",
      "Parsing domain blocks-domain.pddl\n",
      "Parsing problem bijection/problem4.pddl\n"
     ]
    },
    {
     "name": "stderr",
     "output_type": "stream",
     "text": [
      "T: no, put red blocks on blue blocks\n"
     ]
    },
    {
     "name": "stdout",
     "output_type": "stream",
     "text": [
      "(forall (?x) (or (not (red ?x)) (exists (?y) (and (blue ?y) (on ?x ?y)))))\n",
      "[0.1885611  0.19725664 0.19985642]\n",
      "[0.27776344 0.31426673 0.31870611]\n",
      "problem4.pddl reward: -12\n",
      "Parsing domain blocks-domain.pddl\n",
      "Parsing problem bijection/problem40.pddl\n",
      "problem40.pddl reward: -10\n",
      "Parsing domain blocks-domain.pddl\n",
      "Parsing problem bijection/problem41.pddl\n"
     ]
    },
    {
     "name": "stderr",
     "output_type": "stream",
     "text": [
      "T: no, put red blocks on blue blocks\n"
     ]
    },
    {
     "name": "stdout",
     "output_type": "stream",
     "text": [
      "(forall (?y) (or (not (blue ?y)) (exists (?x) (and (red ?x) (on ?x ?y)))))\n",
      "[0.18852427 0.19721146 0.1997669 ]\n",
      "[0.26326753 0.29794468 0.30481313]\n"
     ]
    },
    {
     "name": "stderr",
     "output_type": "stream",
     "text": [
      "T: no, put red blocks on blue blocks\n"
     ]
    },
    {
     "name": "stdout",
     "output_type": "stream",
     "text": [
      "(forall (?y) (or (not (blue ?y)) (exists (?x) (and (red ?x) (on ?x ?y)))))\n",
      "[0.18852422 0.1972114  0.19976698]\n",
      "problem41.pddl reward: -14\n",
      "Parsing domain blocks-domain.pddl\n",
      "Parsing problem bijection/problem42.pddl\n",
      "problem42.pddl reward: -10\n",
      "Parsing domain blocks-domain.pddl\n",
      "Parsing problem bijection/problem43.pddl\n",
      "problem43.pddl reward: -10\n",
      "Parsing domain blocks-domain.pddl\n",
      "Parsing problem bijection/problem44.pddl\n"
     ]
    },
    {
     "name": "stderr",
     "output_type": "stream",
     "text": [
      "T: no, put red blocks on blue blocks\n",
      "T: no, put red blocks on blue blocks\n"
     ]
    },
    {
     "name": "stdout",
     "output_type": "stream",
     "text": [
      "(forall (?y) (or (not (blue ?y)) (exists (?x) (and (red ?x) (on ?x ?y)))))\n",
      "[0.18852382 0.19721191 0.19976601]\n",
      "[0.24940146 0.28617186 0.2953878 ]\n",
      "(forall (?y) (or (not (blue ?y)) (exists (?x) (and (red ?x) (on ?x ?y)))))\n"
     ]
    },
    {
     "name": "stderr",
     "output_type": "stream",
     "text": [
      "T: no, put red blocks on blue blocks\n"
     ]
    },
    {
     "name": "stdout",
     "output_type": "stream",
     "text": [
      "[0.18852382 0.19721191 0.19976601]\n",
      "(forall (?y) (or (not (blue ?y)) (exists (?x) (and (red ?x) (on ?x ?y)))))\n",
      "[0.18852382 0.19721191 0.19976601]\n"
     ]
    },
    {
     "name": "stderr",
     "output_type": "stream",
     "text": [
      "T: no, put red blocks on blue blocks\n",
      "T: no, put red blocks on blue blocks\n"
     ]
    },
    {
     "name": "stdout",
     "output_type": "stream",
     "text": [
      "(forall (?y) (or (not (blue ?y)) (exists (?x) (and (red ?x) (on ?x ?y)))))\n",
      "[0.18852382 0.19721191 0.19976601]\n",
      "(forall (?y) (or (not (blue ?y)) (exists (?x) (and (red ?x) (on ?x ?y)))))\n",
      "[0.18852382 0.19721191 0.19976601]\n"
     ]
    },
    {
     "name": "stderr",
     "output_type": "stream",
     "text": [
      "T: no, put red blocks on blue blocks\n",
      "T: no, put red blocks on blue blocks\n"
     ]
    },
    {
     "name": "stdout",
     "output_type": "stream",
     "text": [
      "(forall (?y) (or (not (blue ?y)) (exists (?x) (and (red ?x) (on ?x ?y)))))\n",
      "[0.18852382 0.19721191 0.19976601]\n",
      "(forall (?y) (or (not (blue ?y)) (exists (?x) (and (red ?x) (on ?x ?y)))))\n",
      "[0.18852382 0.19721191 0.19976601]\n"
     ]
    },
    {
     "name": "stderr",
     "output_type": "stream",
     "text": [
      "T: no, put red blocks on blue blocks\n"
     ]
    },
    {
     "name": "stdout",
     "output_type": "stream",
     "text": [
      "(forall (?y) (or (not (blue ?y)) (exists (?x) (and (red ?x) (on ?x ?y)))))\n",
      "[0.18852382 0.19721191 0.19976601]\n",
      "problem44.pddl reward: -26\n",
      "Parsing domain blocks-domain.pddl\n",
      "Parsing problem bijection/problem45.pddl\n"
     ]
    },
    {
     "name": "stderr",
     "output_type": "stream",
     "text": [
      "T: no, put red blocks on blue blocks\n"
     ]
    },
    {
     "name": "stdout",
     "output_type": "stream",
     "text": [
      "(forall (?y) (or (not (blue ?y)) (exists (?x) (and (red ?x) (on ?x ?y)))))\n",
      "[0.18852382 0.19721191 0.19976601]\n",
      "[0.23692104 0.27513563 0.28616045]\n"
     ]
    },
    {
     "name": "stderr",
     "output_type": "stream",
     "text": [
      "T: no, put red blocks on blue blocks\n",
      "T: no, put red blocks on blue blocks\n"
     ]
    },
    {
     "name": "stdout",
     "output_type": "stream",
     "text": [
      "(forall (?x) (or (not (red ?x)) (exists (?y) (and (blue ?y) (on ?x ?y)))))\n",
      "[0.18110183 0.18941772 0.19184645]\n",
      "(forall (?x) (or (not (red ?x)) (exists (?y) (and (blue ?y) (on ?x ?y)))))\n",
      "[0.23692106 0.27513564 0.28616044]\n"
     ]
    },
    {
     "name": "stderr",
     "output_type": "stream",
     "text": [
      "T: no, put red blocks on blue blocks\n"
     ]
    },
    {
     "name": "stdout",
     "output_type": "stream",
     "text": [
      "(forall (?x) (or (not (red ?x)) (exists (?y) (and (blue ?y) (on ?x ?y)))))\n",
      "[0.23692106 0.27513564 0.28616044]\n"
     ]
    },
    {
     "name": "stderr",
     "output_type": "stream",
     "text": [
      "T: no, put red blocks on blue blocks\n"
     ]
    },
    {
     "name": "stdout",
     "output_type": "stream",
     "text": [
      "(forall (?x) (or (not (red ?x)) (exists (?y) (and (blue ?y) (on ?x ?y)))))\n",
      "[0.23692106 0.27513564 0.28616044]\n",
      "problem45.pddl reward: -20\n",
      "Parsing domain blocks-domain.pddl\n",
      "Parsing problem bijection/problem46.pddl\n",
      "problem46.pddl reward: -10\n",
      "Parsing domain blocks-domain.pddl\n",
      "Parsing problem bijection/problem47.pddl\n",
      "problem47.pddl reward: -10\n",
      "Parsing domain blocks-domain.pddl\n",
      "Parsing problem bijection/problem48.pddl\n"
     ]
    },
    {
     "name": "stderr",
     "output_type": "stream",
     "text": [
      "T: no, put red blocks on blue blocks\n"
     ]
    },
    {
     "name": "stdout",
     "output_type": "stream",
     "text": [
      "(forall (?x) (or (not (red ?x)) (exists (?y) (and (blue ?y) (on ?x ?y)))))\n",
      "[0.1805521  0.1886834  0.19113551]\n",
      "[0.2277105  0.26733176 0.2749317 ]\n",
      "problem48.pddl reward: -12\n",
      "Parsing domain blocks-domain.pddl\n",
      "Parsing problem bijection/problem49.pddl\n",
      "problem49.pddl reward: -10\n",
      "Parsing domain blocks-domain.pddl\n",
      "Parsing problem bijection/problem5.pddl\n"
     ]
    },
    {
     "name": "stderr",
     "output_type": "stream",
     "text": [
      "T: no, put red blocks on blue blocks\n",
      "T: no, put red blocks on blue blocks\n"
     ]
    },
    {
     "name": "stdout",
     "output_type": "stream",
     "text": [
      "(forall (?y) (or (not (blue ?y)) (exists (?x) (and (red ?x) (on ?x ?y)))))\n",
      "[0.18055209 0.18868347 0.19113549]\n",
      "[0.21738278 0.2568624  0.26462146]\n",
      "(forall (?y) (or (not (blue ?y)) (exists (?x) (and (red ?x) (on ?x ?y)))))\n",
      "[0.18055209 0.18868347 0.19113549]\n",
      "problem5.pddl reward: -14\n",
      "Parsing domain blocks-domain.pddl\n",
      "Parsing problem bijection/problem50.pddl\n"
     ]
    },
    {
     "name": "stderr",
     "output_type": "stream",
     "text": [
      "T: no, put red blocks on blue blocks\n"
     ]
    },
    {
     "name": "stdout",
     "output_type": "stream",
     "text": [
      "(forall (?y) (or (not (blue ?y)) (exists (?x) (and (red ?x) (on ?x ?y)))))\n",
      "[0.18055209 0.18868347 0.19113549]\n",
      "[0.20870178 0.25441731 0.25796369]\n",
      "problem50.pddl reward: -12\n",
      "Parsing domain blocks-domain.pddl\n",
      "Parsing problem bijection/problem6.pddl\n"
     ]
    },
    {
     "name": "stderr",
     "output_type": "stream",
     "text": [
      "T: no, put red blocks on blue blocks\n"
     ]
    },
    {
     "name": "stdout",
     "output_type": "stream",
     "text": [
      "problem6.pddl reward: -10\n",
      "Parsing domain blocks-domain.pddl\n",
      "Parsing problem bijection/problem7.pddl\n",
      "(forall (?y) (or (not (blue ?y)) (exists (?x) (and (red ?x) (on ?x ?y)))))\n",
      "[0.18055167 0.1886835  0.1911344 ]\n",
      "[0.19996603 0.24629973 0.25141315]\n"
     ]
    },
    {
     "name": "stderr",
     "output_type": "stream",
     "text": [
      "T: no, put red blocks on blue blocks\n"
     ]
    },
    {
     "name": "stdout",
     "output_type": "stream",
     "text": [
      "problem7.pddl reward: -12\n",
      "Parsing domain blocks-domain.pddl\n",
      "Parsing problem bijection/problem8.pddl\n",
      "(forall (?y) (or (not (blue ?y)) (exists (?x) (and (red ?x) (on ?x ?y)))))\n",
      "[0.18055167 0.1886835  0.1911344 ]\n",
      "[0.19260443 0.24042745 0.24501444]\n",
      "problem8.pddl reward: -12\n",
      "Parsing domain blocks-domain.pddl\n",
      "Parsing problem bijection/problem9.pddl\n",
      "problem9.pddl reward: -10\n"
     ]
    }
   ],
   "source": [
    "add_experiment('bijection_update_once', None)"
   ]
  },
  {
   "cell_type": "code",
   "execution_count": 32,
   "metadata": {},
   "outputs": [
    {
     "name": "stderr",
     "output_type": "stream",
     "text": [
      "T: no, put red blocks on blue blocks\n"
     ]
    },
    {
     "name": "stdout",
     "output_type": "stream",
     "text": [
      "Parsing domain blocks-domain.pddl\n",
      "Parsing problem bijection/problem1.pddl\n",
      "Parsing domain blocks-domain.pddl\n",
      "Parsing problem bijection/problem1.pddl\n",
      "(forall (?x) (or (not (red ?x)) (exists (?y) (and (blue ?y) (on ?x ?y)))))\n",
      "[0.80392195 0.81344444 0.81344444]\n"
     ]
    },
    {
     "name": "stderr",
     "output_type": "stream",
     "text": [
      "T: no, put red blocks on blue blocks\n",
      "T: no, put red blocks on blue blocks\n"
     ]
    },
    {
     "name": "stdout",
     "output_type": "stream",
     "text": [
      "(forall (?x) (or (not (red ?x)) (exists (?y) (and (blue ?y) (on ?x ?y)))))\n",
      "[1. 1. 1.]\n",
      "(forall (?x) (or (not (red ?x)) (exists (?y) (and (blue ?y) (on ?x ?y)))))\n",
      "[1. 1. 1.]\n",
      "problem1.pddl reward: -16\n",
      "Parsing domain blocks-domain.pddl\n",
      "Parsing problem bijection/problem10.pddl\n"
     ]
    },
    {
     "name": "stderr",
     "output_type": "stream",
     "text": [
      "T: no, put red blocks on blue blocks\n"
     ]
    },
    {
     "name": "stdout",
     "output_type": "stream",
     "text": [
      "problem10.pddl reward: -10\n",
      "Parsing domain blocks-domain.pddl\n",
      "Parsing problem bijection/problem11.pddl\n",
      "(forall (?x) (or (not (red ?x)) (exists (?y) (and (blue ?y) (on ?x ?y)))))\n",
      "[0.67025802 0.68901235 0.68901235]\n"
     ]
    },
    {
     "name": "stderr",
     "output_type": "stream",
     "text": [
      "T: no, put red blocks on blue blocks\n",
      "T: no, put red blocks on blue blocks\n"
     ]
    },
    {
     "name": "stdout",
     "output_type": "stream",
     "text": [
      "(forall (?x) (or (not (red ?x)) (exists (?y) (and (blue ?y) (on ?x ?y)))))\n",
      "[1. 1. 1.]\n",
      "(forall (?x) (or (not (red ?x)) (exists (?y) (and (blue ?y) (on ?x ?y)))))\n",
      "[1. 1. 1.]\n"
     ]
    },
    {
     "name": "stderr",
     "output_type": "stream",
     "text": [
      "T: no, put red blocks on blue blocks\n",
      "T: no, put red blocks on blue blocks\n"
     ]
    },
    {
     "name": "stdout",
     "output_type": "stream",
     "text": [
      "(forall (?x) (or (not (red ?x)) (exists (?y) (and (blue ?y) (on ?x ?y)))))\n",
      "[1. 1. 1.]\n",
      "(forall (?x) (or (not (red ?x)) (exists (?y) (and (blue ?y) (on ?x ?y)))))\n",
      "[1. 1. 1.]\n"
     ]
    },
    {
     "name": "stderr",
     "output_type": "stream",
     "text": [
      "T: no, put red blocks on blue blocks\n",
      "T: no, put red blocks on blue blocks\n"
     ]
    },
    {
     "name": "stdout",
     "output_type": "stream",
     "text": [
      "(forall (?x) (or (not (red ?x)) (exists (?y) (and (blue ?y) (on ?x ?y)))))\n",
      "[1. 1. 1.]\n",
      "(forall (?x) (or (not (red ?x)) (exists (?y) (and (blue ?y) (on ?x ?y)))))\n",
      "[1. 1. 1.]\n"
     ]
    },
    {
     "name": "stderr",
     "output_type": "stream",
     "text": [
      "T: no, put red blocks on blue blocks\n",
      "T: no, put red blocks on blue blocks\n"
     ]
    },
    {
     "name": "stdout",
     "output_type": "stream",
     "text": [
      "(forall (?x) (or (not (red ?x)) (exists (?y) (and (blue ?y) (on ?x ?y)))))\n",
      "[1. 1. 1.]\n",
      "(forall (?x) (or (not (red ?x)) (exists (?y) (and (blue ?y) (on ?x ?y)))))\n",
      "[1. 1. 1.]\n",
      "problem11.pddl reward: -28\n",
      "Parsing domain blocks-domain.pddl\n",
      "Parsing problem bijection/problem12.pddl\n",
      "problem12.pddl reward: -10\n",
      "Parsing domain blocks-domain.pddl\n",
      "Parsing problem bijection/problem13.pddl\n"
     ]
    },
    {
     "name": "stderr",
     "output_type": "stream",
     "text": [
      "T: no, put red blocks on blue blocks\n",
      "T: no, put red blocks on blue blocks\n"
     ]
    },
    {
     "name": "stdout",
     "output_type": "stream",
     "text": [
      "(forall (?x) (or (not (red ?x)) (exists (?y) (and (blue ?y) (on ?x ?y)))))\n",
      "[0.58303827 0.59249966 0.59067661]\n",
      "[0.99992899 0.99990606 0.99990934]\n",
      "(forall (?x) (or (not (red ?x)) (exists (?y) (and (blue ?y) (on ?x ?y)))))\n",
      "[0.99992897 0.99990605 0.99990932]\n"
     ]
    },
    {
     "name": "stderr",
     "output_type": "stream",
     "text": [
      "T: no, put red blocks on blue blocks\n",
      "T: no, put red blocks on blue blocks\n"
     ]
    },
    {
     "name": "stdout",
     "output_type": "stream",
     "text": [
      "(forall (?x) (or (not (red ?x)) (exists (?y) (and (blue ?y) (on ?x ?y)))))\n",
      "[0.99992897 0.99990605 0.99990932]\n",
      "(forall (?x) (or (not (red ?x)) (exists (?y) (and (blue ?y) (on ?x ?y)))))\n",
      "[0.51038931 0.51865028 0.51755852]\n",
      "problem13.pddl reward: -18\n",
      "Parsing domain blocks-domain.pddl\n",
      "Parsing problem bijection/problem14.pddl\n"
     ]
    },
    {
     "name": "stderr",
     "output_type": "stream",
     "text": [
      "T: no, put red blocks on blue blocks\n"
     ]
    },
    {
     "name": "stdout",
     "output_type": "stream",
     "text": [
      "(forall (?y) (or (not (blue ?y)) (exists (?x) (and (red ?x) (on ?x ?y)))))\n",
      "[0.45400006 0.49835563 0.4600756 ]\n",
      "[0.9998033 0.9997798 0.9998056]\n",
      "problem14.pddl reward: -12\n",
      "Parsing domain blocks-domain.pddl\n",
      "Parsing problem bijection/problem15.pddl\n",
      "problem15.pddl reward: -10\n",
      "Parsing domain blocks-domain.pddl\n",
      "Parsing problem bijection/problem16.pddl\n"
     ]
    },
    {
     "name": "stderr",
     "output_type": "stream",
     "text": [
      "T: no, put red blocks on blue blocks\n",
      "T: no, put red blocks on blue blocks\n"
     ]
    },
    {
     "name": "stdout",
     "output_type": "stream",
     "text": [
      "(forall (?x) (or (not (red ?x)) (exists (?y) (and (blue ?y) (on ?x ?y)))))\n",
      "[0.41051568 0.45499742 0.4174895 ]\n",
      "[0.99975948 0.99973599 0.99976177]\n",
      "(forall (?x) (or (not (red ?x)) (exists (?y) (and (blue ?y) (on ?x ?y)))))\n"
     ]
    },
    {
     "name": "stderr",
     "output_type": "stream",
     "text": [
      "T: no, put red blocks on blue blocks\n"
     ]
    },
    {
     "name": "stdout",
     "output_type": "stream",
     "text": [
      "[0.99975948 0.99973598 0.99976176]\n",
      "(forall (?x) (or (not (red ?x)) (exists (?y) (and (blue ?y) (on ?x ?y)))))\n",
      "[0.99975948 0.99973598 0.99976176]\n"
     ]
    },
    {
     "name": "stderr",
     "output_type": "stream",
     "text": [
      "T: no, put red blocks on blue blocks\n"
     ]
    },
    {
     "name": "stdout",
     "output_type": "stream",
     "text": [
      "problem16.pddl reward: -16\n",
      "Parsing domain blocks-domain.pddl\n",
      "Parsing problem bijection/problem17.pddl\n",
      "(forall (?x) (or (not (red ?x)) (exists (?y) (and (blue ?y) (on ?x ?y)))))\n",
      "[0.38408441 0.41804284 0.38186143]\n"
     ]
    },
    {
     "name": "stderr",
     "output_type": "stream",
     "text": [
      "T: no, put red blocks on blue blocks\n",
      "T: no, put red blocks on blue blocks\n"
     ]
    },
    {
     "name": "stdout",
     "output_type": "stream",
     "text": [
      "(forall (?x) (or (not (red ?x)) (exists (?y) (and (blue ?y) (on ?x ?y)))))\n",
      "[0.99975948 0.99973598 0.99976176]\n",
      "(forall (?x) (or (not (red ?x)) (exists (?y) (and (blue ?y) (on ?x ?y)))))\n"
     ]
    },
    {
     "name": "stderr",
     "output_type": "stream",
     "text": [
      "T: no, put red blocks on blue blocks\n"
     ]
    },
    {
     "name": "stdout",
     "output_type": "stream",
     "text": [
      "[0.99975948 0.99973598 0.99976176]\n",
      "(forall (?x) (or (not (red ?x)) (exists (?y) (and (blue ?y) (on ?x ?y)))))\n",
      "[0.99975948 0.99973598 0.99976176]\n"
     ]
    },
    {
     "name": "stderr",
     "output_type": "stream",
     "text": [
      "T: no, put red blocks on blue blocks\n"
     ]
    },
    {
     "name": "stdout",
     "output_type": "stream",
     "text": [
      "problem17.pddl reward: -18\n",
      "Parsing domain blocks-domain.pddl\n",
      "Parsing problem bijection/problem18.pddl\n",
      "(forall (?x) (or (not (red ?x)) (exists (?y) (and (blue ?y) (on ?x ?y)))))\n"
     ]
    },
    {
     "name": "stderr",
     "output_type": "stream",
     "text": [
      "T: no, put red blocks on blue blocks\n"
     ]
    },
    {
     "name": "stdout",
     "output_type": "stream",
     "text": [
      "[0.35335141 0.38635289 0.35170118]\n",
      "[0.99972488 0.99970427 0.99972996]\n",
      "(forall (?x) (or (not (red ?x)) (exists (?y) (and (blue ?y) (on ?x ?y)))))\n",
      "[0.99972488 0.99970427 0.99972996]\n"
     ]
    },
    {
     "name": "stderr",
     "output_type": "stream",
     "text": [
      "T: no, put red blocks on blue blocks\n",
      "T: no, put red blocks on blue blocks\n"
     ]
    },
    {
     "name": "stdout",
     "output_type": "stream",
     "text": [
      "(forall (?x) (or (not (red ?x)) (exists (?y) (and (blue ?y) (on ?x ?y)))))\n",
      "[0.99972488 0.99970427 0.99972996]\n",
      "(forall (?x) (or (not (red ?x)) (exists (?y) (and (blue ?y) (on ?x ?y)))))\n",
      "[0.99972488 0.99970427 0.99972996]\n"
     ]
    },
    {
     "name": "stderr",
     "output_type": "stream",
     "text": [
      "T: no, put red blocks on blue blocks\n"
     ]
    },
    {
     "name": "stdout",
     "output_type": "stream",
     "text": [
      "(forall (?x) (or (not (red ?x)) (exists (?y) (and (blue ?y) (on ?x ?y)))))\n",
      "[0.99972488 0.99970427 0.99972996]\n"
     ]
    },
    {
     "name": "stderr",
     "output_type": "stream",
     "text": [
      "T: no, put red blocks on blue blocks\n"
     ]
    },
    {
     "name": "stdout",
     "output_type": "stream",
     "text": [
      "problem18.pddl reward: -20\n",
      "Parsing domain blocks-domain.pddl\n",
      "Parsing problem bijection/problem19.pddl\n",
      "(forall (?y) (or (not (blue ?y)) (exists (?x) (and (red ?x) (on ?x ?y)))))\n",
      "[0.32664846 0.35897847 0.35802151]\n",
      "[0.99952237 0.99950168 0.99948929]\n"
     ]
    },
    {
     "name": "stderr",
     "output_type": "stream",
     "text": [
      "T: no, put red blocks on blue blocks\n"
     ]
    },
    {
     "name": "stdout",
     "output_type": "stream",
     "text": [
      "problem19.pddl reward: -12\n",
      "Parsing domain blocks-domain.pddl\n",
      "Parsing problem bijection/problem2.pddl\n",
      "(forall (?y) (or (not (blue ?y)) (exists (?x) (and (red ?x) (on ?x ?y)))))\n",
      "[0.31082998 0.37606632 0.35759063]\n",
      "[0.9926714  0.99264729 0.9912637 ]\n"
     ]
    },
    {
     "name": "stderr",
     "output_type": "stream",
     "text": [
      "T: no, put red blocks on blue blocks\n",
      "T: no, put red blocks on blue blocks\n"
     ]
    },
    {
     "name": "stdout",
     "output_type": "stream",
     "text": [
      "(forall (?y) (or (not (blue ?y)) (exists (?x) (and (red ?x) (on ?x ?y)))))\n",
      "[0.29521014 0.35833747 0.3613762 ]\n",
      "(forall (?y) (or (not (blue ?y)) (exists (?x) (and (red ?x) (on ?x ?y)))))\n",
      "[0.28347656 0.34749491 0.35011097]\n"
     ]
    },
    {
     "name": "stderr",
     "output_type": "stream",
     "text": [
      "T: no, put red blocks on blue blocks\n",
      "T: no, put red blocks on blue blocks\n"
     ]
    },
    {
     "name": "stdout",
     "output_type": "stream",
     "text": [
      "(forall (?y) (or (not (blue ?y)) (exists (?x) (and (red ?x) (on ?x ?y)))))\n",
      "[0.28338493 0.33028916 0.33197981]\n",
      "(forall (?y) (or (not (blue ?y)) (exists (?x) (and (red ?x) (on ?x ?y)))))\n",
      "[0.26891485 0.33525533 0.31922915]\n"
     ]
    },
    {
     "name": "stderr",
     "output_type": "stream",
     "text": [
      "T: no, put red blocks on blue blocks\n",
      "T: no, put red blocks on blue blocks\n"
     ]
    },
    {
     "name": "stdout",
     "output_type": "stream",
     "text": [
      "(forall (?y) (or (not (blue ?y)) (exists (?x) (and (red ?x) (on ?x ?y)))))\n",
      "[0.2613428  0.33766005 0.31836787]\n",
      "(forall (?y) (or (not (blue ?y)) (exists (?x) (and (red ?x) (on ?x ?y)))))\n",
      "[0.24884291 0.32838219 0.30429486]\n"
     ]
    },
    {
     "name": "stderr",
     "output_type": "stream",
     "text": [
      "T: no, put red blocks on blue blocks\n"
     ]
    },
    {
     "name": "stdout",
     "output_type": "stream",
     "text": [
      "(forall (?y) (or (not (blue ?y)) (exists (?x) (and (red ?x) (on ?x ?y)))))\n"
     ]
    },
    {
     "name": "stderr",
     "output_type": "stream",
     "text": [
      "T: no, put red blocks on blue blocks\n",
      "T: no, put red blocks on blue blocks\n"
     ]
    },
    {
     "name": "stdout",
     "output_type": "stream",
     "text": [
      "(forall (?y) (or (not (blue ?y)) (exists (?x) (and (red ?x) (on ?x ?y)))))\n",
      "(forall (?y) (or (not (blue ?y)) (exists (?x) (and (red ?x) (on ?x ?y)))))\n"
     ]
    },
    {
     "name": "stderr",
     "output_type": "stream",
     "text": [
      "T: no, put red blocks on blue blocks\n",
      "T: no, put red blocks on blue blocks\n"
     ]
    },
    {
     "name": "stdout",
     "output_type": "stream",
     "text": [
      "(forall (?y) (or (not (blue ?y)) (exists (?x) (and (red ?x) (on ?x ?y)))))\n",
      "(forall (?y) (or (not (blue ?y)) (exists (?x) (and (red ?x) (on ?x ?y)))))\n"
     ]
    },
    {
     "name": "stderr",
     "output_type": "stream",
     "text": [
      "T: no, put red blocks on blue blocks\n"
     ]
    },
    {
     "name": "stdout",
     "output_type": "stream",
     "text": [
      "problem2.pddl reward: -34\n",
      "Parsing domain blocks-domain.pddl\n",
      "Parsing problem bijection/problem20.pddl\n",
      "(forall (?x) (or (not (red ?x)) (exists (?y) (and (blue ?y) (on ?x ?y)))))\n",
      "[0.2379793  0.31919055 0.29554111]\n",
      "[0.99245657 0.99236121 0.99104726]\n"
     ]
    },
    {
     "name": "stderr",
     "output_type": "stream",
     "text": [
      "T: no, put red blocks on blue blocks\n",
      "T: no, put red blocks on blue blocks\n"
     ]
    },
    {
     "name": "stdout",
     "output_type": "stream",
     "text": [
      "(forall (?x) (or (not (red ?x)) (exists (?y) (and (blue ?y) (on ?x ?y)))))\n",
      "[0.99245636 0.99236094 0.99104706]\n",
      "(forall (?x) (or (not (red ?x)) (exists (?y) (and (blue ?y) (on ?x ?y)))))\n",
      "[0.99245635 0.99236094 0.99104706]\n"
     ]
    },
    {
     "name": "stderr",
     "output_type": "stream",
     "text": [
      "T: no, put red blocks on blue blocks\n",
      "T: no, put red blocks on blue blocks\n"
     ]
    },
    {
     "name": "stdout",
     "output_type": "stream",
     "text": [
      "(forall (?x) (or (not (red ?x)) (exists (?y) (and (blue ?y) (on ?x ?y)))))\n",
      "[0.99245635 0.99236094 0.99104706]\n",
      "(forall (?x) (or (not (red ?x)) (exists (?y) (and (blue ?y) (on ?x ?y)))))\n",
      "[0.99245635 0.99236094 0.99104706]\n"
     ]
    },
    {
     "name": "stderr",
     "output_type": "stream",
     "text": [
      "T: no, put red blocks on blue blocks\n"
     ]
    },
    {
     "name": "stdout",
     "output_type": "stream",
     "text": [
      "(forall (?x) (or (not (red ?x)) (exists (?y) (and (blue ?y) (on ?x ?y)))))\n",
      "[0.99245635 0.99236094 0.99104706]\n",
      "problem20.pddl reward: -22\n",
      "Parsing domain blocks-domain.pddl\n"
     ]
    },
    {
     "name": "stderr",
     "output_type": "stream",
     "text": [
      "T: no, put red blocks on blue blocks\n"
     ]
    },
    {
     "name": "stdout",
     "output_type": "stream",
     "text": [
      "Parsing problem bijection/problem21.pddl\n",
      "(forall (?y) (or (not (blue ?y)) (exists (?x) (and (red ?x) (on ?x ?y)))))\n",
      "[0.23574955 0.31328195 0.28302074]\n",
      "[0.99128085 0.99118438 0.98951559]\n"
     ]
    },
    {
     "name": "stderr",
     "output_type": "stream",
     "text": [
      "T: no, put red blocks on blue blocks\n",
      "T: no, put red blocks on blue blocks\n"
     ]
    },
    {
     "name": "stdout",
     "output_type": "stream",
     "text": [
      "(forall (?y) (or (not (blue ?y)) (exists (?x) (and (red ?x) (on ?x ?y)))))\n",
      "[0.23148743 0.30342484 0.27320329]\n",
      "(forall (?y) (or (not (blue ?y)) (exists (?x) (and (red ?x) (on ?x ?y)))))\n",
      "[0.2218697  0.29838365 0.26264904]\n"
     ]
    },
    {
     "name": "stderr",
     "output_type": "stream",
     "text": [
      "T: no, put red blocks on blue blocks\n",
      "T: no, put red blocks on blue blocks\n"
     ]
    },
    {
     "name": "stdout",
     "output_type": "stream",
     "text": [
      "(forall (?y) (or (not (blue ?y)) (exists (?x) (and (red ?x) (on ?x ?y)))))\n",
      "[0.21803444 0.28743204 0.25642702]\n",
      "(forall (?y) (or (not (blue ?y)) (exists (?x) (and (red ?x) (on ?x ?y)))))\n",
      "[0.21407115 0.27871277 0.25032395]\n"
     ]
    },
    {
     "name": "stderr",
     "output_type": "stream",
     "text": [
      "T: no, put red blocks on blue blocks\n"
     ]
    },
    {
     "name": "stdout",
     "output_type": "stream",
     "text": [
      "problem21.pddl reward: -20\n",
      "Parsing domain blocks-domain.pddl\n",
      "Parsing problem bijection/problem22.pddl\n",
      "(forall (?y) (or (not (blue ?y)) (exists (?x) (and (red ?x) (on ?x ?y)))))\n"
     ]
    },
    {
     "name": "stderr",
     "output_type": "stream",
     "text": [
      "R: Is the top object red?\n",
      "T: no\n",
      "T: no, put red blocks on blue blocks\n"
     ]
    },
    {
     "name": "stdout",
     "output_type": "stream",
     "text": [
      "[0.21407115 0.27871277 0.25032395]\n",
      "[0.80962261 0.80948339 0.79393653]\n",
      "(forall (?y) (or (not (blue ?y)) (exists (?x) (and (red ?x) (on ?x ?y)))))\n",
      "[0.21407115 0.27871277 0.25032395]\n"
     ]
    },
    {
     "name": "stderr",
     "output_type": "stream",
     "text": [
      "T: no, put red blocks on blue blocks\n"
     ]
    },
    {
     "name": "stdout",
     "output_type": "stream",
     "text": [
      "(forall (?x) (or (not (red ?x)) (exists (?y) (and (blue ?y) (on ?x ?y)))))\n",
      "[0.20651488 0.27135092 0.24246922]\n",
      "[0.8028102  0.80287208 0.78871785]\n"
     ]
    },
    {
     "name": "stderr",
     "output_type": "stream",
     "text": [
      "T: no, put red blocks on blue blocks\n",
      "T: no, put red blocks on blue blocks\n"
     ]
    },
    {
     "name": "stdout",
     "output_type": "stream",
     "text": [
      "(forall (?x) (or (not (red ?x)) (exists (?y) (and (blue ?y) (on ?x ?y)))))\n",
      "[0.80261042 0.80278292 0.78850259]\n",
      "(forall (?x) (or (not (red ?x)) (exists (?y) (and (blue ?y) (on ?x ?y)))))\n",
      "[0.80260717 0.80277539 0.78849735]\n"
     ]
    },
    {
     "name": "stderr",
     "output_type": "stream",
     "text": [
      "T: no, put red blocks on blue blocks\n"
     ]
    },
    {
     "name": "stdout",
     "output_type": "stream",
     "text": [
      "(forall (?x) (or (not (red ?x)) (exists (?y) (and (blue ?y) (on ?x ?y)))))\n",
      "[0.80260706 0.80277513 0.78849716]\n",
      "problem22.pddl reward: -22\n",
      "Parsing domain blocks-domain.pddl\n",
      "Parsing problem bijection/problem23.pddl\n"
     ]
    },
    {
     "name": "stderr",
     "output_type": "stream",
     "text": [
      "T: no, put red blocks on blue blocks\n"
     ]
    },
    {
     "name": "stdout",
     "output_type": "stream",
     "text": [
      "(forall (?x) (or (not (red ?x)) (exists (?y) (and (blue ?y) (on ?x ?y)))))\n",
      "[0.20101785 0.26764058 0.2376924 ]\n",
      "[0.77970478 0.78030625 0.76806607]\n"
     ]
    },
    {
     "name": "stderr",
     "output_type": "stream",
     "text": [
      "T: no, put red blocks on blue blocks\n"
     ]
    },
    {
     "name": "stdout",
     "output_type": "stream",
     "text": [
      "(forall (?x) (or (not (red ?x)) (exists (?y) (and (blue ?y) (on ?x ?y)))))\n",
      "[0.77611187 0.77675938 0.76487419]\n",
      "problem23.pddl reward: -14\n",
      "Parsing domain blocks-domain.pddl\n",
      "Parsing problem bijection/problem24.pddl\n"
     ]
    },
    {
     "name": "stderr",
     "output_type": "stream",
     "text": [
      "T: no, put red blocks on blue blocks\n"
     ]
    },
    {
     "name": "stdout",
     "output_type": "stream",
     "text": [
      "(forall (?x) (or (not (red ?x)) (exists (?y) (and (blue ?y) (on ?x ?y)))))\n",
      "[0.19406744 0.2603815  0.23023715]\n"
     ]
    },
    {
     "name": "stderr",
     "output_type": "stream",
     "text": [
      "T: no, put red blocks on blue blocks\n"
     ]
    },
    {
     "name": "stdout",
     "output_type": "stream",
     "text": [
      "(forall (?x) (or (not (red ?x)) (exists (?y) (and (blue ?y) (on ?x ?y)))))\n",
      "[0.77611187 0.77675938 0.76487419]\n"
     ]
    },
    {
     "name": "stderr",
     "output_type": "stream",
     "text": [
      "T: no, put red blocks on blue blocks\n"
     ]
    },
    {
     "name": "stdout",
     "output_type": "stream",
     "text": [
      "(forall (?x) (or (not (red ?x)) (exists (?y) (and (blue ?y) (on ?x ?y)))))\n",
      "[0.77611187 0.77675938 0.76487419]\n"
     ]
    },
    {
     "name": "stderr",
     "output_type": "stream",
     "text": [
      "T: no, put red blocks on blue blocks\n"
     ]
    },
    {
     "name": "stdout",
     "output_type": "stream",
     "text": [
      "(forall (?x) (or (not (red ?x)) (exists (?y) (and (blue ?y) (on ?x ?y)))))\n",
      "[0.77611187 0.77675938 0.76487419]\n"
     ]
    },
    {
     "name": "stderr",
     "output_type": "stream",
     "text": [
      "T: no, put red blocks on blue blocks\n"
     ]
    },
    {
     "name": "stdout",
     "output_type": "stream",
     "text": [
      "(forall (?x) (or (not (red ?x)) (exists (?y) (and (blue ?y) (on ?x ?y)))))\n",
      "[0.77611187 0.77675938 0.76487419]\n"
     ]
    },
    {
     "name": "stderr",
     "output_type": "stream",
     "text": [
      "T: no, put red blocks on blue blocks\n",
      "R: Is the top object red?\n",
      "T: no\n"
     ]
    },
    {
     "name": "stdout",
     "output_type": "stream",
     "text": [
      "(forall (?y) (or (not (blue ?y)) (exists (?x) (and (red ?x) (on ?x ?y)))))\n",
      "[0.19406744 0.2603815  0.23023715]\n",
      "[0.66263511 0.67598663 0.67631248]\n"
     ]
    },
    {
     "name": "stderr",
     "output_type": "stream",
     "text": [
      "T: no, put red blocks on blue blocks\n"
     ]
    },
    {
     "name": "stdout",
     "output_type": "stream",
     "text": [
      "(forall (?y) (or (not (blue ?y)) (exists (?x) (and (red ?x) (on ?x ?y)))))\n",
      "[0.19406744 0.2603815  0.23023715]\n",
      "problem24.pddl reward: -24\n",
      "Parsing domain blocks-domain.pddl\n",
      "Parsing problem bijection/problem25.pddl\n"
     ]
    },
    {
     "name": "stderr",
     "output_type": "stream",
     "text": [
      "T: no, put red blocks on blue blocks\n"
     ]
    },
    {
     "name": "stdout",
     "output_type": "stream",
     "text": [
      "(forall (?y) (or (not (blue ?y)) (exists (?x) (and (red ?x) (on ?x ?y)))))\n",
      "[0.19331317 0.25906888 0.23016478]\n",
      "[0.5941413  0.61454324 0.60803532]\n"
     ]
    },
    {
     "name": "stderr",
     "output_type": "stream",
     "text": [
      "T: no, put red blocks on blue blocks\n"
     ]
    },
    {
     "name": "stdout",
     "output_type": "stream",
     "text": [
      "(forall (?y) (or (not (blue ?y)) (exists (?x) (and (red ?x) (on ?x ?y)))))\n",
      "[0.19339685 0.25885081 0.22952378]\n"
     ]
    },
    {
     "name": "stderr",
     "output_type": "stream",
     "text": [
      "T: no, put red blocks on blue blocks\n"
     ]
    },
    {
     "name": "stdout",
     "output_type": "stream",
     "text": [
      "(forall (?y) (or (not (blue ?y)) (exists (?x) (and (red ?x) (on ?x ?y)))))\n",
      "[0.193357   0.25891376 0.22945275]\n"
     ]
    },
    {
     "name": "stderr",
     "output_type": "stream",
     "text": [
      "T: no, put red blocks on blue blocks\n"
     ]
    },
    {
     "name": "stdout",
     "output_type": "stream",
     "text": [
      "(forall (?y) (or (not (blue ?y)) (exists (?x) (and (red ?x) (on ?x ?y)))))\n",
      "[0.1932779  0.25869417 0.22931192]\n",
      "problem25.pddl reward: -18\n",
      "Parsing domain blocks-domain.pddl\n",
      "Parsing problem bijection/problem26.pddl\n"
     ]
    },
    {
     "name": "stderr",
     "output_type": "stream",
     "text": [
      "T: no, put red blocks on blue blocks\n"
     ]
    },
    {
     "name": "stdout",
     "output_type": "stream",
     "text": [
      "(forall (?x) (or (not (red ?x)) (exists (?y) (and (blue ?y) (on ?x ?y)))))\n",
      "[0.18868691 0.25362307 0.22265358]\n",
      "[0.58446484 0.60656807 0.5980492 ]\n"
     ]
    },
    {
     "name": "stderr",
     "output_type": "stream",
     "text": [
      "T: no, put red blocks on blue blocks\n"
     ]
    },
    {
     "name": "stdout",
     "output_type": "stream",
     "text": [
      "(forall (?x) (or (not (red ?x)) (exists (?y) (and (blue ?y) (on ?x ?y)))))\n",
      "[0.18379842 0.24812792 0.21567141]\n"
     ]
    },
    {
     "name": "stderr",
     "output_type": "stream",
     "text": [
      "T: no, put red blocks on blue blocks\n"
     ]
    },
    {
     "name": "stdout",
     "output_type": "stream",
     "text": [
      "(forall (?y) (or (not (blue ?y)) (exists (?x) (and (red ?x) (on ?x ?y)))))\n",
      "[0.18386799 0.24809777 0.2156295 ]\n",
      "[0.51671739 0.54733367 0.54203777]\n"
     ]
    },
    {
     "name": "stderr",
     "output_type": "stream",
     "text": [
      "T: no, put red blocks on blue blocks\n"
     ]
    },
    {
     "name": "stdout",
     "output_type": "stream",
     "text": [
      "(forall (?y) (or (not (blue ?y)) (exists (?x) (and (red ?x) (on ?x ?y)))))\n",
      "[0.18386772 0.24809817 0.21562972]\n"
     ]
    },
    {
     "name": "stderr",
     "output_type": "stream",
     "text": [
      "T: no, put red blocks on blue blocks\n"
     ]
    },
    {
     "name": "stdout",
     "output_type": "stream",
     "text": [
      "(forall (?y) (or (not (blue ?y)) (exists (?x) (and (red ?x) (on ?x ?y)))))\n",
      "problem26.pddl reward: -20\n",
      "Parsing domain blocks-domain.pddl\n",
      "Parsing problem bijection/problem27.pddl\n"
     ]
    },
    {
     "name": "stderr",
     "output_type": "stream",
     "text": [
      "T: no, put red blocks on blue blocks\n",
      "R: Is the top object red?\n",
      "T: no\n"
     ]
    },
    {
     "name": "stdout",
     "output_type": "stream",
     "text": [
      "(forall (?y) (or (not (blue ?y)) (exists (?x) (and (red ?x) (on ?x ?y)))))\n",
      "[0.18386772 0.24809817 0.21562972]\n",
      "[0.46515314 0.48933505 0.48903716]\n"
     ]
    },
    {
     "name": "stderr",
     "output_type": "stream",
     "text": [
      "T: no, put red blocks on blue blocks\n"
     ]
    },
    {
     "name": "stdout",
     "output_type": "stream",
     "text": [
      "(forall (?y) (or (not (blue ?y)) (exists (?x) (and (red ?x) (on ?x ?y)))))\n",
      "[0.18386772 0.24809817 0.21562972]\n",
      "problem27.pddl reward: -14\n",
      "Parsing domain blocks-domain.pddl\n",
      "Parsing problem bijection/problem28.pddl\n"
     ]
    },
    {
     "name": "stderr",
     "output_type": "stream",
     "text": [
      "T: no, put red blocks on blue blocks\n"
     ]
    },
    {
     "name": "stdout",
     "output_type": "stream",
     "text": [
      "(forall (?x) (or (not (red ?x)) (exists (?y) (and (blue ?y) (on ?x ?y)))))\n",
      "[0.17919624 0.24275957 0.20905709]\n",
      "[0.4654336  0.48902938 0.48905337]\n"
     ]
    },
    {
     "name": "stderr",
     "output_type": "stream",
     "text": [
      "T: no, put red blocks on blue blocks\n"
     ]
    },
    {
     "name": "stdout",
     "output_type": "stream",
     "text": [
      "(forall (?x) (or (not (red ?x)) (exists (?y) (and (blue ?y) (on ?x ?y)))))\n",
      "[0.46543921 0.48901521 0.48905366]\n"
     ]
    },
    {
     "name": "stderr",
     "output_type": "stream",
     "text": [
      "T: no, put red blocks on blue blocks\n"
     ]
    },
    {
     "name": "stdout",
     "output_type": "stream",
     "text": [
      "(forall (?y) (or (not (blue ?y)) (exists (?x) (and (red ?x) (on ?x ?y)))))\n",
      "[0.17905235 0.24308379 0.20882673]\n",
      "[0.42500808 0.46048332 0.44665115]\n",
      "problem28.pddl reward: -16\n",
      "Parsing domain blocks-domain.pddl\n",
      "Parsing problem bijection/problem29.pddl\n"
     ]
    },
    {
     "name": "stderr",
     "output_type": "stream",
     "text": [
      "T: no, put red blocks on blue blocks\n"
     ]
    },
    {
     "name": "stdout",
     "output_type": "stream",
     "text": [
      "(forall (?x) (or (not (red ?x)) (exists (?y) (and (blue ?y) (on ?x ?y)))))\n",
      "[0.17364049 0.23708534 0.20315225]\n"
     ]
    },
    {
     "name": "stderr",
     "output_type": "stream",
     "text": [
      "T: no, put red blocks on blue blocks\n"
     ]
    },
    {
     "name": "stdout",
     "output_type": "stream",
     "text": [
      "(forall (?x) (or (not (red ?x)) (exists (?y) (and (blue ?y) (on ?x ?y)))))\n",
      "[0.42500808 0.46048332 0.44665115]\n"
     ]
    },
    {
     "name": "stderr",
     "output_type": "stream",
     "text": [
      "T: no, put red blocks on blue blocks\n"
     ]
    },
    {
     "name": "stdout",
     "output_type": "stream",
     "text": [
      "(forall (?x) (or (not (red ?x)) (exists (?y) (and (blue ?y) (on ?x ?y)))))\n",
      "[0.42500808 0.46048332 0.44665115]\n"
     ]
    },
    {
     "name": "stderr",
     "output_type": "stream",
     "text": [
      "T: no, put red blocks on blue blocks\n"
     ]
    },
    {
     "name": "stdout",
     "output_type": "stream",
     "text": [
      "(forall (?x) (or (not (red ?x)) (exists (?y) (and (blue ?y) (on ?x ?y)))))\n",
      "[0.42500808 0.46048332 0.44665115]\n"
     ]
    },
    {
     "name": "stderr",
     "output_type": "stream",
     "text": [
      "T: no, put red blocks on blue blocks\n"
     ]
    },
    {
     "name": "stdout",
     "output_type": "stream",
     "text": [
      "(forall (?x) (or (not (red ?x)) (exists (?y) (and (blue ?y) (on ?x ?y)))))\n",
      "[0.16911758 0.23343556 0.1993609 ]\n"
     ]
    },
    {
     "name": "stderr",
     "output_type": "stream",
     "text": [
      "T: no, put red blocks on blue blocks\n"
     ]
    },
    {
     "name": "stdout",
     "output_type": "stream",
     "text": [
      "(forall (?x) (or (not (red ?x)) (exists (?y) (and (blue ?y) (on ?x ?y)))))\n",
      "[0.42500808 0.46048332 0.44665115]\n"
     ]
    },
    {
     "name": "stderr",
     "output_type": "stream",
     "text": [
      "T: no, put red blocks on blue blocks\n"
     ]
    },
    {
     "name": "stdout",
     "output_type": "stream",
     "text": [
      "(forall (?x) (or (not (red ?x)) (exists (?y) (and (blue ?y) (on ?x ?y)))))\n"
     ]
    },
    {
     "name": "stderr",
     "output_type": "stream",
     "text": [
      "T: no, put red blocks on blue blocks\n"
     ]
    },
    {
     "name": "stdout",
     "output_type": "stream",
     "text": [
      "(forall (?x) (or (not (red ?x)) (exists (?y) (and (blue ?y) (on ?x ?y)))))\n",
      "problem29.pddl reward: -26\n",
      "Parsing domain blocks-domain.pddl\n",
      "Parsing problem bijection/problem3.pddl\n"
     ]
    },
    {
     "name": "stderr",
     "output_type": "stream",
     "text": [
      "T: no, put red blocks on blue blocks\n"
     ]
    },
    {
     "name": "stdout",
     "output_type": "stream",
     "text": [
      "(forall (?y) (or (not (blue ?y)) (exists (?x) (and (red ?x) (on ?x ?y)))))\n",
      "[0.16911807 0.23343535 0.19936104]\n",
      "[0.39052339 0.42160594 0.41129304]\n"
     ]
    },
    {
     "name": "stderr",
     "output_type": "stream",
     "text": [
      "T: no, put red blocks on blue blocks\n"
     ]
    },
    {
     "name": "stdout",
     "output_type": "stream",
     "text": [
      "(forall (?y) (or (not (blue ?y)) (exists (?x) (and (red ?x) (on ?x ?y)))))\n",
      "[0.16911807 0.23343535 0.19936104]\n"
     ]
    },
    {
     "name": "stderr",
     "output_type": "stream",
     "text": [
      "T: no, put red blocks on blue blocks\n"
     ]
    },
    {
     "name": "stdout",
     "output_type": "stream",
     "text": [
      "(forall (?y) (or (not (blue ?y)) (exists (?x) (and (red ?x) (on ?x ?y)))))\n",
      "[0.16911807 0.23343535 0.19936104]\n"
     ]
    },
    {
     "name": "stderr",
     "output_type": "stream",
     "text": [
      "T: no, put red blocks on blue blocks\n"
     ]
    },
    {
     "name": "stdout",
     "output_type": "stream",
     "text": [
      "(forall (?y) (or (not (blue ?y)) (exists (?x) (and (red ?x) (on ?x ?y)))))\n"
     ]
    },
    {
     "name": "stderr",
     "output_type": "stream",
     "text": [
      "T: no, put red blocks on blue blocks\n"
     ]
    },
    {
     "name": "stdout",
     "output_type": "stream",
     "text": [
      "(forall (?y) (or (not (blue ?y)) (exists (?x) (and (red ?x) (on ?x ?y)))))\n"
     ]
    },
    {
     "name": "stderr",
     "output_type": "stream",
     "text": [
      "T: no, put red blocks on blue blocks\n"
     ]
    },
    {
     "name": "stdout",
     "output_type": "stream",
     "text": [
      "(forall (?y) (or (not (blue ?y)) (exists (?x) (and (red ?x) (on ?x ?y)))))\n",
      "[0.16911807 0.23343535 0.19936104]\n"
     ]
    },
    {
     "name": "stderr",
     "output_type": "stream",
     "text": [
      "T: no, put red blocks on blue blocks\n"
     ]
    },
    {
     "name": "stdout",
     "output_type": "stream",
     "text": [
      "(forall (?y) (or (not (blue ?y)) (exists (?x) (and (red ?x) (on ?x ?y)))))\n",
      "[0.16911807 0.23343535 0.19936104]\n"
     ]
    },
    {
     "name": "stderr",
     "output_type": "stream",
     "text": [
      "T: no, put red blocks on blue blocks\n"
     ]
    },
    {
     "name": "stdout",
     "output_type": "stream",
     "text": [
      "(forall (?y) (or (not (blue ?y)) (exists (?x) (and (red ?x) (on ?x ?y)))))\n",
      "[0.16911807 0.23343535 0.19936104]\n"
     ]
    },
    {
     "name": "stderr",
     "output_type": "stream",
     "text": [
      "T: no, put red blocks on blue blocks\n"
     ]
    },
    {
     "name": "stdout",
     "output_type": "stream",
     "text": [
      "(forall (?y) (or (not (blue ?y)) (exists (?x) (and (red ?x) (on ?x ?y)))))\n",
      "[0.16911807 0.23343535 0.19936104]\n",
      "problem3.pddl reward: -28\n",
      "Parsing domain blocks-domain.pddl\n",
      "Parsing problem bijection/problem30.pddl\n"
     ]
    },
    {
     "name": "stderr",
     "output_type": "stream",
     "text": [
      "T: no, put red blocks on blue blocks\n"
     ]
    },
    {
     "name": "stdout",
     "output_type": "stream",
     "text": [
      "(forall (?y) (or (not (blue ?y)) (exists (?x) (and (red ?x) (on ?x ?y)))))\n",
      "[0.16911809 0.23343535 0.19936107]\n",
      "[0.36106637 0.39984021 0.37788353]\n"
     ]
    },
    {
     "name": "stderr",
     "output_type": "stream",
     "text": [
      "T: no, put red blocks on blue blocks\n"
     ]
    },
    {
     "name": "stdout",
     "output_type": "stream",
     "text": [
      "(forall (?x) (or (not (red ?x)) (exists (?y) (and (blue ?y) (on ?x ?y)))))\n",
      "[0.16485757 0.22849875 0.19477428]\n",
      "[0.35769201 0.39731056 0.37463653]\n",
      "problem30.pddl reward: -14\n",
      "Parsing domain blocks-domain.pddl\n",
      "Parsing problem bijection/problem31.pddl\n"
     ]
    },
    {
     "name": "stderr",
     "output_type": "stream",
     "text": [
      "T: no, put red blocks on blue blocks\n"
     ]
    },
    {
     "name": "stdout",
     "output_type": "stream",
     "text": [
      "(forall (?x) (or (not (red ?x)) (exists (?y) (and (blue ?y) (on ?x ?y)))))\n",
      "[0.16035309 0.22322142 0.18989807]\n",
      "[0.35813522 0.39675811 0.37411361]\n"
     ]
    },
    {
     "name": "stderr",
     "output_type": "stream",
     "text": [
      "T: no, put red blocks on blue blocks\n"
     ]
    },
    {
     "name": "stdout",
     "output_type": "stream",
     "text": [
      "(forall (?x) (or (not (red ?x)) (exists (?y) (and (blue ?y) (on ?x ?y)))))\n",
      "[0.35813638 0.39675676 0.37411413]\n"
     ]
    },
    {
     "name": "stderr",
     "output_type": "stream",
     "text": [
      "T: no, put red blocks on blue blocks\n"
     ]
    },
    {
     "name": "stdout",
     "output_type": "stream",
     "text": [
      "(forall (?x) (or (not (red ?x)) (exists (?y) (and (blue ?y) (on ?x ?y)))))\n",
      "[0.35813632 0.39675672 0.37411411]\n",
      "problem31.pddl reward: -16\n",
      "Parsing domain blocks-domain.pddl\n",
      "Parsing problem bijection/problem32.pddl\n"
     ]
    },
    {
     "name": "stderr",
     "output_type": "stream",
     "text": [
      "T: no, put red blocks on blue blocks\n",
      "R: Is the top object red?\n",
      "T: no\n"
     ]
    },
    {
     "name": "stdout",
     "output_type": "stream",
     "text": [
      "(forall (?y) (or (not (blue ?y)) (exists (?x) (and (red ?x) (on ?x ?y)))))\n",
      "[0.16035309 0.22322142 0.18989807]\n",
      "[0.33147462 0.37181495 0.35107944]\n"
     ]
    },
    {
     "name": "stderr",
     "output_type": "stream",
     "text": [
      "T: no, put red blocks on blue blocks\n"
     ]
    },
    {
     "name": "stdout",
     "output_type": "stream",
     "text": [
      "(forall (?y) (or (not (blue ?y)) (exists (?x) (and (red ?x) (on ?x ?y)))))\n",
      "[0.16035309 0.22322142 0.18989807]\n",
      "problem32.pddl reward: -14\n",
      "Parsing domain blocks-domain.pddl\n",
      "Parsing problem bijection/problem33.pddl\n"
     ]
    },
    {
     "name": "stderr",
     "output_type": "stream",
     "text": [
      "T: no, put red blocks on blue blocks\n",
      "R: Is the top object red?\n",
      "T: yes\n"
     ]
    },
    {
     "name": "stdout",
     "output_type": "stream",
     "text": [
      "(forall (?x) (or (not (red ?x)) (exists (?y) (and (blue ?y) (on ?x ?y)))))\n",
      "[0.15687791 0.21985433 0.18653261]\n",
      "[0.33147462 0.37181495 0.35107944]\n"
     ]
    },
    {
     "name": "stderr",
     "output_type": "stream",
     "text": [
      "T: no, put red blocks on blue blocks\n"
     ]
    },
    {
     "name": "stdout",
     "output_type": "stream",
     "text": [
      "(forall (?x) (or (not (red ?x)) (exists (?y) (and (blue ?y) (on ?x ?y)))))\n",
      "[0.33147462 0.37181495 0.35107944]\n"
     ]
    },
    {
     "name": "stderr",
     "output_type": "stream",
     "text": [
      "T: no, put red blocks on blue blocks\n"
     ]
    },
    {
     "name": "stdout",
     "output_type": "stream",
     "text": [
      "(forall (?x) (or (not (red ?x)) (exists (?y) (and (blue ?y) (on ?x ?y)))))\n",
      "[0.33147462 0.37181495 0.35107944]\n"
     ]
    },
    {
     "name": "stderr",
     "output_type": "stream",
     "text": [
      "T: no, put red blocks on blue blocks\n",
      "T: no, put red blocks on blue blocks\n"
     ]
    },
    {
     "name": "stdout",
     "output_type": "stream",
     "text": [
      "(forall (?x) (or (not (red ?x)) (exists (?y) (and (blue ?y) (on ?x ?y)))))\n",
      "[0.33147462 0.37181495 0.35107944]\n",
      "(forall (?x) (or (not (red ?x)) (exists (?y) (and (blue ?y) (on ?x ?y)))))\n",
      "[0.33147462 0.37181495 0.35107944]\n"
     ]
    },
    {
     "name": "stderr",
     "output_type": "stream",
     "text": [
      "T: no, put red blocks on blue blocks\n"
     ]
    },
    {
     "name": "stdout",
     "output_type": "stream",
     "text": [
      "(forall (?x) (or (not (red ?x)) (exists (?y) (and (blue ?y) (on ?x ?y)))))\n",
      "[0.33147462 0.37181495 0.35107944]\n"
     ]
    },
    {
     "name": "stderr",
     "output_type": "stream",
     "text": [
      "T: no, put red blocks on blue blocks\n"
     ]
    },
    {
     "name": "stdout",
     "output_type": "stream",
     "text": [
      "problem33.pddl reward: -22\n",
      "Parsing domain blocks-domain.pddl\n",
      "Parsing problem bijection/problem34.pddl\n",
      "(forall (?y) (or (not (blue ?y)) (exists (?x) (and (red ?x) (on ?x ?y)))))\n",
      "[0.15646035 0.21928115 0.18684411]\n",
      "[0.31210152 0.35509706 0.32997664]\n",
      "problem34.pddl reward: -12\n",
      "Parsing domain blocks-domain.pddl\n",
      "Parsing problem bijection/problem35.pddl\n"
     ]
    },
    {
     "name": "stderr",
     "output_type": "stream",
     "text": [
      "T: no, put red blocks on blue blocks\n",
      "R: Is the top object red?\n",
      "T: no\n"
     ]
    },
    {
     "name": "stdout",
     "output_type": "stream",
     "text": [
      "(forall (?y) (or (not (blue ?y)) (exists (?x) (and (red ?x) (on ?x ?y)))))\n",
      "[0.15646035 0.21928115 0.18684411]\n",
      "[0.29294641 0.33767756 0.31441325]\n"
     ]
    },
    {
     "name": "stderr",
     "output_type": "stream",
     "text": [
      "T: no, put red blocks on blue blocks\n"
     ]
    },
    {
     "name": "stdout",
     "output_type": "stream",
     "text": [
      "(forall (?y) (or (not (blue ?y)) (exists (?x) (and (red ?x) (on ?x ?y)))))\n",
      "[0.15646035 0.21928115 0.18684411]\n"
     ]
    },
    {
     "name": "stderr",
     "output_type": "stream",
     "text": [
      "T: no, put red blocks on blue blocks\n"
     ]
    },
    {
     "name": "stdout",
     "output_type": "stream",
     "text": [
      "(forall (?y) (or (not (blue ?y)) (exists (?x) (and (red ?x) (on ?x ?y)))))\n",
      "[0.15646035 0.21928115 0.18684411]\n"
     ]
    },
    {
     "name": "stderr",
     "output_type": "stream",
     "text": [
      "T: no, put red blocks on blue blocks\n"
     ]
    },
    {
     "name": "stdout",
     "output_type": "stream",
     "text": [
      "(forall (?x) (or (not (red ?x)) (exists (?y) (and (blue ?y) (on ?x ?y)))))\n",
      "[0.15244608 0.21441652 0.18240243]\n",
      "[0.2925434  0.33724366 0.31468234]\n",
      "problem35.pddl reward: -18\n",
      "Parsing domain blocks-domain.pddl\n",
      "Parsing problem bijection/problem36.pddl\n"
     ]
    },
    {
     "name": "stderr",
     "output_type": "stream",
     "text": [
      "T: no, put red blocks on blue blocks\n"
     ]
    },
    {
     "name": "stdout",
     "output_type": "stream",
     "text": [
      "(forall (?x) (or (not (red ?x)) (exists (?y) (and (blue ?y) (on ?x ?y)))))\n",
      "[0.14931545 0.21123112 0.17929212]\n"
     ]
    },
    {
     "name": "stderr",
     "output_type": "stream",
     "text": [
      "T: no, put red blocks on blue blocks\n"
     ]
    },
    {
     "name": "stdout",
     "output_type": "stream",
     "text": [
      "(forall (?x) (or (not (red ?x)) (exists (?y) (and (blue ?y) (on ?x ?y)))))\n",
      "[0.2925434  0.33724366 0.31468234]\n"
     ]
    },
    {
     "name": "stderr",
     "output_type": "stream",
     "text": [
      "T: no, put red blocks on blue blocks\n"
     ]
    },
    {
     "name": "stdout",
     "output_type": "stream",
     "text": [
      "(forall (?x) (or (not (red ?x)) (exists (?y) (and (blue ?y) (on ?x ?y)))))\n",
      "[0.2925434  0.33724366 0.31468234]\n"
     ]
    },
    {
     "name": "stderr",
     "output_type": "stream",
     "text": [
      "T: no, put red blocks on blue blocks\n"
     ]
    },
    {
     "name": "stdout",
     "output_type": "stream",
     "text": [
      "(forall (?x) (or (not (red ?x)) (exists (?y) (and (blue ?y) (on ?x ?y)))))\n",
      "[0.2925434  0.33724366 0.31468234]\n",
      "problem36.pddl reward: -18\n",
      "Parsing domain blocks-domain.pddl\n",
      "Parsing problem bijection/problem37.pddl\n"
     ]
    },
    {
     "name": "stderr",
     "output_type": "stream",
     "text": [
      "T: no, put red blocks on blue blocks\n",
      "R: Is the top object red?\n",
      "T: no\n"
     ]
    },
    {
     "name": "stdout",
     "output_type": "stream",
     "text": [
      "(forall (?y) (or (not (blue ?y)) (exists (?x) (and (red ?x) (on ?x ?y)))))\n",
      "[0.14931545 0.21123112 0.17929212]\n",
      "[0.27559588 0.32117922 0.29574842]\n",
      "problem37.pddl reward: -12\n",
      "Parsing domain blocks-domain.pddl\n",
      "Parsing problem bijection/problem38.pddl\n"
     ]
    },
    {
     "name": "stderr",
     "output_type": "stream",
     "text": [
      "T: no, put red blocks on blue blocks\n"
     ]
    },
    {
     "name": "stdout",
     "output_type": "stream",
     "text": [
      "(forall (?x) (or (not (red ?x)) (exists (?y) (and (blue ?y) (on ?x ?y)))))\n",
      "[0.14598717 0.20808494 0.17625649]\n",
      "[0.27561258 0.32117071 0.29575579]\n"
     ]
    },
    {
     "name": "stderr",
     "output_type": "stream",
     "text": [
      "T: no, put red blocks on blue blocks\n"
     ]
    },
    {
     "name": "stdout",
     "output_type": "stream",
     "text": [
      "(forall (?x) (or (not (red ?x)) (exists (?y) (and (blue ?y) (on ?x ?y)))))\n",
      "[0.2756109  0.32116922 0.29575603]\n"
     ]
    },
    {
     "name": "stderr",
     "output_type": "stream",
     "text": [
      "T: no, put red blocks on blue blocks\n"
     ]
    },
    {
     "name": "stdout",
     "output_type": "stream",
     "text": [
      "(forall (?x) (or (not (red ?x)) (exists (?y) (and (blue ?y) (on ?x ?y)))))\n",
      "[0.2756109  0.32116922 0.29575603]\n"
     ]
    },
    {
     "name": "stderr",
     "output_type": "stream",
     "text": [
      "T: no, put red blocks on blue blocks\n"
     ]
    },
    {
     "name": "stdout",
     "output_type": "stream",
     "text": [
      "(forall (?x) (or (not (red ?x)) (exists (?y) (and (blue ?y) (on ?x ?y)))))\n",
      "[0.2756109  0.32116922 0.29575603]\n"
     ]
    },
    {
     "name": "stderr",
     "output_type": "stream",
     "text": [
      "T: no, put red blocks on blue blocks\n"
     ]
    },
    {
     "name": "stdout",
     "output_type": "stream",
     "text": [
      "(forall (?x) (or (not (red ?x)) (exists (?y) (and (blue ?y) (on ?x ?y)))))\n",
      "[0.2756109  0.32116922 0.29575603]\n"
     ]
    },
    {
     "name": "stderr",
     "output_type": "stream",
     "text": [
      "T: no, put red blocks on blue blocks\n"
     ]
    },
    {
     "name": "stdout",
     "output_type": "stream",
     "text": [
      "(forall (?x) (or (not (red ?x)) (exists (?y) (and (blue ?y) (on ?x ?y)))))\n",
      "[0.14244555 0.20357915 0.17221398]\n"
     ]
    },
    {
     "name": "stderr",
     "output_type": "stream",
     "text": [
      "T: no, put red blocks on blue blocks\n"
     ]
    },
    {
     "name": "stdout",
     "output_type": "stream",
     "text": [
      "(forall (?x) (or (not (red ?x)) (exists (?y) (and (blue ?y) (on ?x ?y)))))\n",
      "[0.2756109  0.32116922 0.29575603]\n"
     ]
    },
    {
     "name": "stderr",
     "output_type": "stream",
     "text": [
      "T: no, put red blocks on blue blocks\n"
     ]
    },
    {
     "name": "stdout",
     "output_type": "stream",
     "text": [
      "(forall (?x) (or (not (red ?x)) (exists (?y) (and (blue ?y) (on ?x ?y)))))\n"
     ]
    },
    {
     "name": "stderr",
     "output_type": "stream",
     "text": [
      "T: no, put red blocks on blue blocks\n"
     ]
    },
    {
     "name": "stdout",
     "output_type": "stream",
     "text": [
      "(forall (?x) (or (not (red ?x)) (exists (?y) (and (blue ?y) (on ?x ?y)))))\n",
      "problem38.pddl reward: -28\n",
      "Parsing domain blocks-domain.pddl\n",
      "Parsing problem bijection/problem39.pddl\n"
     ]
    },
    {
     "name": "stderr",
     "output_type": "stream",
     "text": [
      "T: no, put red blocks on blue blocks\n"
     ]
    },
    {
     "name": "stdout",
     "output_type": "stream",
     "text": [
      "(forall (?y) (or (not (blue ?y)) (exists (?x) (and (red ?x) (on ?x ?y)))))\n",
      "[0.14232047 0.20385021 0.17206491]\n",
      "[0.26359372 0.30829288 0.28157759]\n"
     ]
    },
    {
     "name": "stderr",
     "output_type": "stream",
     "text": [
      "T: no, put red blocks on blue blocks\n"
     ]
    },
    {
     "name": "stdout",
     "output_type": "stream",
     "text": [
      "(forall (?y) (or (not (blue ?y)) (exists (?x) (and (red ?x) (on ?x ?y)))))\n",
      "[0.14231764 0.20383679 0.17206033]\n"
     ]
    },
    {
     "name": "stderr",
     "output_type": "stream",
     "text": [
      "T: no, put red blocks on blue blocks\n"
     ]
    },
    {
     "name": "stdout",
     "output_type": "stream",
     "text": [
      "(forall (?y) (or (not (blue ?y)) (exists (?x) (and (red ?x) (on ?x ?y)))))\n",
      "[0.14230996 0.2038285  0.17205355]\n"
     ]
    },
    {
     "name": "stderr",
     "output_type": "stream",
     "text": [
      "T: no, put red blocks on blue blocks\n"
     ]
    },
    {
     "name": "stdout",
     "output_type": "stream",
     "text": [
      "(forall (?y) (or (not (blue ?y)) (exists (?x) (and (red ?x) (on ?x ?y)))))\n",
      "[0.14230874 0.20382052 0.17204626]\n"
     ]
    },
    {
     "name": "stderr",
     "output_type": "stream",
     "text": [
      "T: no, put red blocks on blue blocks\n"
     ]
    },
    {
     "name": "stdout",
     "output_type": "stream",
     "text": [
      "(forall (?y) (or (not (blue ?y)) (exists (?x) (and (red ?x) (on ?x ?y)))))\n",
      "[0.1423086  0.20382023 0.17204579]\n",
      "problem39.pddl reward: -20\n",
      "Parsing domain blocks-domain.pddl\n",
      "Parsing problem bijection/problem4.pddl\n"
     ]
    },
    {
     "name": "stderr",
     "output_type": "stream",
     "text": [
      "T: no, put red blocks on blue blocks\n"
     ]
    },
    {
     "name": "stdout",
     "output_type": "stream",
     "text": [
      "(forall (?x) (or (not (red ?x)) (exists (?y) (and (blue ?y) (on ?x ?y)))))\n",
      "[0.14143594 0.2008588  0.16923482]\n",
      "[0.26366647 0.30825723 0.28161668]\n",
      "problem4.pddl reward: -12\n",
      "Parsing domain blocks-domain.pddl\n",
      "Parsing problem bijection/problem40.pddl\n"
     ]
    },
    {
     "name": "stderr",
     "output_type": "stream",
     "text": [
      "T: no, put red blocks on blue blocks\n"
     ]
    },
    {
     "name": "stdout",
     "output_type": "stream",
     "text": [
      "(forall (?y) (or (not (blue ?y)) (exists (?x) (and (red ?x) (on ?x ?y)))))\n",
      "[0.14143569 0.20085896 0.16923581]\n",
      "[0.25210027 0.29569067 0.26819209]\n"
     ]
    },
    {
     "name": "stderr",
     "output_type": "stream",
     "text": [
      "T: no, put red blocks on blue blocks\n",
      "R: Is the top object red?\n",
      "T: yes\n"
     ]
    },
    {
     "name": "stdout",
     "output_type": "stream",
     "text": [
      "(forall (?x) (or (not (red ?x)) (exists (?y) (and (blue ?y) (on ?x ?y)))))\n",
      "[0.14047899 0.19793581 0.16648597]\n",
      "[0.25210027 0.29569067 0.26819209]\n"
     ]
    },
    {
     "name": "stderr",
     "output_type": "stream",
     "text": [
      "T: no, put red blocks on blue blocks\n"
     ]
    },
    {
     "name": "stdout",
     "output_type": "stream",
     "text": [
      "(forall (?x) (or (not (red ?x)) (exists (?y) (and (blue ?y) (on ?x ?y)))))\n",
      "[0.13945484 0.1950624  0.16380473]\n"
     ]
    },
    {
     "name": "stderr",
     "output_type": "stream",
     "text": [
      "T: no, put red blocks on blue blocks\n",
      "T: no, put red blocks on blue blocks\n"
     ]
    },
    {
     "name": "stdout",
     "output_type": "stream",
     "text": [
      "(forall (?x) (or (not (red ?x)) (exists (?y) (and (blue ?y) (on ?x ?y)))))\n",
      "(forall (?x) (or (not (red ?x)) (exists (?y) (and (blue ?y) (on ?x ?y)))))\n",
      "[0.25210027 0.29569067 0.26819209]\n",
      "problem40.pddl reward: -20\n",
      "Parsing domain blocks-domain.pddl\n",
      "Parsing problem bijection/problem41.pddl\n"
     ]
    },
    {
     "name": "stderr",
     "output_type": "stream",
     "text": [
      "T: no, put red blocks on blue blocks\n"
     ]
    },
    {
     "name": "stdout",
     "output_type": "stream",
     "text": [
      "(forall (?y) (or (not (blue ?y)) (exists (?x) (and (red ?x) (on ?x ?y)))))\n",
      "[0.13942992 0.1945923  0.16335707]\n",
      "[0.24076727 0.28245752 0.25666819]\n",
      "problem41.pddl reward: -12\n",
      "Parsing domain blocks-domain.pddl\n",
      "Parsing problem bijection/problem42.pddl\n",
      "problem42.pddl reward: -10\n",
      "Parsing domain blocks-domain.pddl\n",
      "Parsing problem bijection/problem43.pddl\n",
      "problem43.pddl reward: -10\n",
      "Parsing domain blocks-domain.pddl\n",
      "Parsing problem bijection/problem44.pddl\n"
     ]
    },
    {
     "name": "stderr",
     "output_type": "stream",
     "text": [
      "T: no, put red blocks on blue blocks\n"
     ]
    },
    {
     "name": "stdout",
     "output_type": "stream",
     "text": [
      "(forall (?y) (or (not (blue ?y)) (exists (?x) (and (red ?x) (on ?x ?y)))))\n",
      "[0.13937568 0.19453517 0.16321955]\n",
      "[0.22944655 0.27181533 0.24732437]\n"
     ]
    },
    {
     "name": "stderr",
     "output_type": "stream",
     "text": [
      "T: no, put red blocks on blue blocks\n"
     ]
    },
    {
     "name": "stdout",
     "output_type": "stream",
     "text": [
      "(forall (?y) (or (not (blue ?y)) (exists (?x) (and (red ?x) (on ?x ?y)))))\n",
      "[0.13937572 0.19453521 0.16321949]\n"
     ]
    },
    {
     "name": "stderr",
     "output_type": "stream",
     "text": [
      "T: no, put red blocks on blue blocks\n"
     ]
    },
    {
     "name": "stdout",
     "output_type": "stream",
     "text": [
      "(forall (?y) (or (not (blue ?y)) (exists (?x) (and (red ?x) (on ?x ?y)))))\n",
      "[0.13937572 0.19453521 0.16321949]\n"
     ]
    },
    {
     "name": "stderr",
     "output_type": "stream",
     "text": [
      "T: no, put red blocks on blue blocks\n"
     ]
    },
    {
     "name": "stdout",
     "output_type": "stream",
     "text": [
      "(forall (?y) (or (not (blue ?y)) (exists (?x) (and (red ?x) (on ?x ?y)))))\n",
      "[0.13937572 0.19453521 0.16321949]\n"
     ]
    },
    {
     "name": "stderr",
     "output_type": "stream",
     "text": [
      "T: no, put red blocks on blue blocks\n"
     ]
    },
    {
     "name": "stdout",
     "output_type": "stream",
     "text": [
      "(forall (?y) (or (not (blue ?y)) (exists (?x) (and (red ?x) (on ?x ?y)))))\n",
      "[0.13937572 0.19453521 0.16321949]\n"
     ]
    },
    {
     "name": "stderr",
     "output_type": "stream",
     "text": [
      "T: no, put red blocks on blue blocks\n"
     ]
    },
    {
     "name": "stdout",
     "output_type": "stream",
     "text": [
      "(forall (?y) (or (not (blue ?y)) (exists (?x) (and (red ?x) (on ?x ?y)))))\n",
      "[0.13937572 0.19453521 0.16321949]\n"
     ]
    },
    {
     "name": "stderr",
     "output_type": "stream",
     "text": [
      "T: no, put red blocks on blue blocks\n"
     ]
    },
    {
     "name": "stdout",
     "output_type": "stream",
     "text": [
      "(forall (?y) (or (not (blue ?y)) (exists (?x) (and (red ?x) (on ?x ?y)))))\n",
      "[0.13937572 0.19453521 0.16321949]\n"
     ]
    },
    {
     "name": "stderr",
     "output_type": "stream",
     "text": [
      "T: no, put red blocks on blue blocks\n"
     ]
    },
    {
     "name": "stdout",
     "output_type": "stream",
     "text": [
      "(forall (?y) (or (not (blue ?y)) (exists (?x) (and (red ?x) (on ?x ?y)))))\n",
      "[0.13937572 0.19453521 0.16321949]\n",
      "problem44.pddl reward: -26\n",
      "Parsing domain blocks-domain.pddl\n",
      "Parsing problem bijection/problem45.pddl\n"
     ]
    },
    {
     "name": "stderr",
     "output_type": "stream",
     "text": [
      "T: no, put red blocks on blue blocks\n"
     ]
    },
    {
     "name": "stdout",
     "output_type": "stream",
     "text": [
      "problem45.pddl reward: -10\n",
      "Parsing domain blocks-domain.pddl\n",
      "Parsing problem bijection/problem46.pddl\n",
      "(forall (?y) (or (not (blue ?y)) (exists (?x) (and (red ?x) (on ?x ?y)))))\n",
      "[0.13890632 0.19396427 0.16284261]\n",
      "[0.22072038 0.26339977 0.2399027 ]\n"
     ]
    },
    {
     "name": "stderr",
     "output_type": "stream",
     "text": [
      "T: no, put red blocks on blue blocks\n"
     ]
    },
    {
     "name": "stdout",
     "output_type": "stream",
     "text": [
      "(forall (?y) (or (not (blue ?y)) (exists (?x) (and (red ?x) (on ?x ?y)))))\n",
      "[0.13877542 0.19382481 0.16277975]\n",
      "problem46.pddl reward: -14\n",
      "Parsing domain blocks-domain.pddl\n",
      "Parsing problem bijection/problem47.pddl\n"
     ]
    },
    {
     "name": "stderr",
     "output_type": "stream",
     "text": [
      "T: no, put red blocks on blue blocks\n"
     ]
    },
    {
     "name": "stdout",
     "output_type": "stream",
     "text": [
      "(forall (?x) (or (not (red ?x)) (exists (?y) (and (blue ?y) (on ?x ?y)))))\n",
      "[0.13572432 0.1899248  0.15935668]\n",
      "[0.22072042 0.26339975 0.23990273]\n"
     ]
    },
    {
     "name": "stderr",
     "output_type": "stream",
     "text": [
      "T: no, put red blocks on blue blocks\n"
     ]
    },
    {
     "name": "stdout",
     "output_type": "stream",
     "text": [
      "(forall (?x) (or (not (red ?x)) (exists (?y) (and (blue ?y) (on ?x ?y)))))\n",
      "[0.13327439 0.18727046 0.1569235 ]\n"
     ]
    },
    {
     "name": "stderr",
     "output_type": "stream",
     "text": [
      "T: no, put red blocks on blue blocks\n"
     ]
    },
    {
     "name": "stdout",
     "output_type": "stream",
     "text": [
      "(forall (?x) (or (not (red ?x)) (exists (?y) (and (blue ?y) (on ?x ?y)))))\n",
      "[0.22072042 0.26339975 0.23990273]\n",
      "problem47.pddl reward: -16\n",
      "Parsing domain blocks-domain.pddl\n",
      "Parsing problem bijection/problem48.pddl\n"
     ]
    },
    {
     "name": "stderr",
     "output_type": "stream",
     "text": [
      "T: no, put red blocks on blue blocks\n"
     ]
    },
    {
     "name": "stdout",
     "output_type": "stream",
     "text": [
      "(forall (?x) (or (not (red ?x)) (exists (?y) (and (blue ?y) (on ?x ?y)))))\n",
      "[0.13144031 0.18450119 0.1541646 ]\n",
      "[0.21910041 0.26222006 0.23854348]\n",
      "problem48.pddl reward: -12\n",
      "Parsing domain blocks-domain.pddl\n",
      "Parsing problem bijection/problem49.pddl\n",
      "problem49.pddl reward: -10\n",
      "Parsing domain blocks-domain.pddl\n",
      "Parsing problem bijection/problem5.pddl\n"
     ]
    },
    {
     "name": "stderr",
     "output_type": "stream",
     "text": [
      "T: no, put red blocks on blue blocks\n",
      "T: no, put red blocks on blue blocks\n"
     ]
    },
    {
     "name": "stdout",
     "output_type": "stream",
     "text": [
      "(forall (?y) (or (not (blue ?y)) (exists (?x) (and (red ?x) (on ?x ?y)))))\n",
      "[0.13144022 0.18450219 0.15416431]\n",
      "[0.20930013 0.25270444 0.2323749 ]\n",
      "(forall (?y) (or (not (blue ?y)) (exists (?x) (and (red ?x) (on ?x ?y)))))\n",
      "[0.13144022 0.18450219 0.15416431]\n"
     ]
    },
    {
     "name": "stderr",
     "output_type": "stream",
     "text": [
      "T: no, put red blocks on blue blocks\n"
     ]
    },
    {
     "name": "stdout",
     "output_type": "stream",
     "text": [
      "problem5.pddl reward: -14\n",
      "Parsing domain blocks-domain.pddl\n",
      "Parsing problem bijection/problem50.pddl\n",
      "(forall (?y) (or (not (blue ?y)) (exists (?x) (and (red ?x) (on ?x ?y)))))\n",
      "[0.13142338 0.18356449 0.15324353]\n",
      "[0.20350369 0.25021703 0.22689818]\n"
     ]
    },
    {
     "name": "stderr",
     "output_type": "stream",
     "text": [
      "T: no, put red blocks on blue blocks\n"
     ]
    },
    {
     "name": "stdout",
     "output_type": "stream",
     "text": [
      "(forall (?y) (or (not (blue ?y)) (exists (?x) (and (red ?x) (on ?x ?y)))))\n",
      "[0.19647583 0.24473683 0.22015011]\n",
      "problem50.pddl reward: -14\n",
      "Parsing domain blocks-domain.pddl\n",
      "Parsing problem bijection/problem6.pddl\n"
     ]
    },
    {
     "name": "stderr",
     "output_type": "stream",
     "text": [
      "T: no, put red blocks on blue blocks\n"
     ]
    },
    {
     "name": "stdout",
     "output_type": "stream",
     "text": [
      "(forall (?x) (or (not (red ?x)) (exists (?y) (and (blue ?y) (on ?x ?y)))))\n",
      "[0.12940816 0.18053479 0.15024087]\n",
      "[0.19645184 0.24446725 0.21973145]\n",
      "problem6.pddl reward: -12\n",
      "Parsing domain blocks-domain.pddl\n",
      "Parsing problem bijection/problem7.pddl\n"
     ]
    },
    {
     "name": "stderr",
     "output_type": "stream",
     "text": [
      "T: no, put red blocks on blue blocks\n"
     ]
    },
    {
     "name": "stdout",
     "output_type": "stream",
     "text": [
      "(forall (?y) (or (not (blue ?y)) (exists (?x) (and (red ?x) (on ?x ?y)))))\n",
      "[0.12937234 0.18044539 0.15013667]\n",
      "[0.18886828 0.237133   0.21312642]\n",
      "problem7.pddl reward: -12\n",
      "Parsing domain blocks-domain.pddl\n",
      "Parsing problem bijection/problem8.pddl\n"
     ]
    },
    {
     "name": "stderr",
     "output_type": "stream",
     "text": [
      "T: no, put red blocks on blue blocks\n"
     ]
    },
    {
     "name": "stdout",
     "output_type": "stream",
     "text": [
      "(forall (?x) (or (not (red ?x)) (exists (?y) (and (blue ?y) (on ?x ?y)))))\n",
      "[0.12796    0.17862476 0.14852614]\n",
      "[0.18897882 0.23493866 0.21098676]\n"
     ]
    },
    {
     "name": "stderr",
     "output_type": "stream",
     "text": [
      "T: no, put red blocks on blue blocks\n"
     ]
    },
    {
     "name": "stdout",
     "output_type": "stream",
     "text": [
      "(forall (?x) (or (not (red ?x)) (exists (?y) (and (blue ?y) (on ?x ?y)))))\n",
      "[0.18897882 0.23493866 0.21098676]\n"
     ]
    },
    {
     "name": "stderr",
     "output_type": "stream",
     "text": [
      "T: no, put red blocks on blue blocks\n"
     ]
    },
    {
     "name": "stdout",
     "output_type": "stream",
     "text": [
      "(forall (?x) (or (not (red ?x)) (exists (?y) (and (blue ?y) (on ?x ?y)))))\n",
      "[0.18897882 0.23493866 0.21098676]\n",
      "problem8.pddl reward: -16\n",
      "Parsing domain blocks-domain.pddl\n",
      "Parsing problem bijection/problem9.pddl\n",
      "problem9.pddl reward: -10\n"
     ]
    }
   ],
   "source": [
    "add_experiment('bijection_update_once_with_negative', None)"
   ]
  },
  {
   "cell_type": "code",
   "execution_count": 33,
   "metadata": {},
   "outputs": [
    {
     "name": "stdout",
     "output_type": "stream",
     "text": [
      "Parsing domain blocks-domain.pddl\n",
      "Parsing problem maroon/problem1.pddl\n",
      "Parsing domain blocks-domain.pddl\n",
      "Parsing problem maroon/problem1.pddl\n"
     ]
    },
    {
     "name": "stderr",
     "output_type": "stream",
     "text": [
      "T: no, put red blocks on blue blocks\n",
      "R: Is the top object red?\n",
      "T: yes\n",
      "T: no, put red blocks on blue blocks\n",
      "T: no, put red blocks on blue blocks\n"
     ]
    },
    {
     "name": "stdout",
     "output_type": "stream",
     "text": [
      "(forall (?x) (or (not (red ?x)) (exists (?y) (and (blue ?y) (on ?x ?y)))))\n",
      "[0.80000038 0.825      0.825     ]\n",
      "[1. 1. 1.]\n",
      "(forall (?x) (or (not (red ?x)) (exists (?y) (and (blue ?y) (on ?x ?y)))))\n",
      "[0.68120851 0.69077064 0.68752403]\n",
      "(forall (?x) (or (not (red ?x)) (exists (?y) (and (blue ?y) (on ?x ?y)))))\n"
     ]
    },
    {
     "name": "stderr",
     "output_type": "stream",
     "text": [
      "T: no, put red blocks on blue blocks\n"
     ]
    },
    {
     "name": "stdout",
     "output_type": "stream",
     "text": [
      "[0.59012509 0.59349083 0.58931661]\n",
      "(forall (?x) (or (not (red ?x)) (exists (?y) (and (blue ?y) (on ?x ?y)))))\n"
     ]
    },
    {
     "name": "stderr",
     "output_type": "stream",
     "text": [
      "T: no, put red blocks on blue blocks\n",
      "T: no, put red blocks on blue blocks\n"
     ]
    },
    {
     "name": "stdout",
     "output_type": "stream",
     "text": [
      "(forall (?x) (or (not (red ?x)) (exists (?y) (and (blue ?y) (on ?x ?y)))))\n",
      "(forall (?x) (or (not (red ?x)) (exists (?y) (and (blue ?y) (on ?x ?y)))))\n"
     ]
    },
    {
     "name": "stderr",
     "output_type": "stream",
     "text": [
      "T: no, put green blocks on maroon blocks\n",
      "R: Is the top object green?\n",
      "T: yes\n"
     ]
    },
    {
     "name": "stdout",
     "output_type": "stream",
     "text": [
      "problem1.pddl reward: -22\n",
      "Parsing domain blocks-domain.pddl\n",
      "Parsing problem maroon/problem10.pddl\n",
      "(forall (?x) (or (not (green ?x)) (exists (?y) (and (maroon ?y) (on ?x ?y)))))\n",
      "[0.80277778 0.80064629 0.80996578]\n",
      "[1. 1. 1.]\n"
     ]
    },
    {
     "name": "stderr",
     "output_type": "stream",
     "text": [
      "T: no, put red blocks on blue blocks\n",
      "T: no, put green blocks on maroon blocks\n"
     ]
    },
    {
     "name": "stdout",
     "output_type": "stream",
     "text": [
      "(forall (?x) (or (not (red ?x)) (exists (?y) (and (blue ?y) (on ?x ?y)))))\n",
      "[0.52232018 0.52475758 0.52418116]\n",
      "(forall (?x) (or (not (green ?x)) (exists (?y) (and (maroon ?y) (on ?x ?y)))))\n",
      "[1. 1. 1.]\n"
     ]
    },
    {
     "name": "stderr",
     "output_type": "stream",
     "text": [
      "T: no, put red blocks on blue blocks\n",
      "T: no, put green blocks on maroon blocks\n"
     ]
    },
    {
     "name": "stdout",
     "output_type": "stream",
     "text": [
      "(forall (?x) (or (not (red ?x)) (exists (?y) (and (blue ?y) (on ?x ?y)))))\n",
      "(forall (?x) (or (not (green ?x)) (exists (?y) (and (maroon ?y) (on ?x ?y)))))\n"
     ]
    },
    {
     "name": "stderr",
     "output_type": "stream",
     "text": [
      "T: no, put red blocks on blue blocks\n"
     ]
    },
    {
     "name": "stdout",
     "output_type": "stream",
     "text": [
      "[1. 1. 1.]\n",
      "(forall (?x) (or (not (red ?x)) (exists (?y) (and (blue ?y) (on ?x ?y)))))\n"
     ]
    },
    {
     "name": "stderr",
     "output_type": "stream",
     "text": [
      "T: no, put green blocks on maroon blocks\n",
      "T: no, put red blocks on blue blocks\n"
     ]
    },
    {
     "name": "stdout",
     "output_type": "stream",
     "text": [
      "(forall (?x) (or (not (green ?x)) (exists (?y) (and (maroon ?y) (on ?x ?y)))))\n",
      "[1. 1. 1.]\n",
      "(forall (?x) (or (not (red ?x)) (exists (?y) (and (blue ?y) (on ?x ?y)))))\n"
     ]
    },
    {
     "name": "stderr",
     "output_type": "stream",
     "text": [
      "T: no, put green blocks on maroon blocks\n",
      "T: no, put red blocks on blue blocks\n"
     ]
    },
    {
     "name": "stdout",
     "output_type": "stream",
     "text": [
      "(forall (?x) (or (not (green ?x)) (exists (?y) (and (maroon ?y) (on ?x ?y)))))\n",
      "[1. 1. 1.]\n",
      "(forall (?x) (or (not (red ?x)) (exists (?y) (and (blue ?y) (on ?x ?y)))))\n"
     ]
    },
    {
     "name": "stderr",
     "output_type": "stream",
     "text": [
      "T: no, put green blocks on maroon blocks\n"
     ]
    },
    {
     "name": "stdout",
     "output_type": "stream",
     "text": [
      "(forall (?x) (or (not (green ?x)) (exists (?y) (and (maroon ?y) (on ?x ?y)))))\n",
      "[1. 1. 1.]\n",
      "problem10.pddl reward: -32\n",
      "Parsing domain blocks-domain.pddl\n",
      "Parsing problem maroon/problem11.pddl\n"
     ]
    },
    {
     "name": "stderr",
     "output_type": "stream",
     "text": [
      "T: no, put red blocks on blue blocks\n"
     ]
    },
    {
     "name": "stdout",
     "output_type": "stream",
     "text": [
      "problem11.pddl reward: -10\n",
      "Parsing domain blocks-domain.pddl\n",
      "Parsing problem maroon/problem12.pddl\n",
      "(forall (?x) (or (not (red ?x)) (exists (?y) (and (blue ?y) (on ?x ?y)))))\n",
      "[0.46632961 0.46827111 0.46810879]\n",
      "[0.99243756 0.99243756 0.99243756]\n"
     ]
    },
    {
     "name": "stderr",
     "output_type": "stream",
     "text": [
      "T: no, put green blocks on maroon blocks\n",
      "T: no, put green blocks on maroon blocks\n"
     ]
    },
    {
     "name": "stdout",
     "output_type": "stream",
     "text": [
      "(forall (?x) (or (not (green ?x)) (exists (?y) (and (maroon ?y) (on ?x ?y)))))\n",
      "[0.68279892 0.70508191 0.68414465]\n",
      "[0.98925178 0.98595457 0.98925178]\n",
      "(forall (?x) (or (not (green ?x)) (exists (?y) (and (maroon ?y) (on ?x ?y)))))\n",
      "[0.98892398 0.98559807 0.98886574]\n"
     ]
    },
    {
     "name": "stderr",
     "output_type": "stream",
     "text": [
      "T: no, put green blocks on maroon blocks\n",
      "T: No, now you cannot put b0 in the tower because you must put red blocks on blue blocks\n",
      "R: Is the top object red?\n",
      "T: no\n"
     ]
    },
    {
     "name": "stdout",
     "output_type": "stream",
     "text": [
      "(forall (?x) (or (not (green ?x)) (exists (?y) (and (maroon ?y) (on ?x ?y)))))\n",
      "[0.98887194 0.98554442 0.98879336]\n",
      "[0.46632961 0.46827111 0.46810879]\n",
      "[0.42133408 0.42256685 0.42387707]\n",
      "[0.99243756 0.99243756 0.99243756]\n",
      "problem12.pddl reward: -20\n",
      "Parsing domain blocks-domain.pddl\n",
      "Parsing problem maroon/problem13.pddl\n"
     ]
    },
    {
     "name": "stderr",
     "output_type": "stream",
     "text": [
      "T: no, put red blocks on blue blocks\n"
     ]
    },
    {
     "name": "stdout",
     "output_type": "stream",
     "text": [
      "(forall (?x) (or (not (red ?x)) (exists (?y) (and (blue ?y) (on ?x ?y)))))\n",
      "[0.38486403 0.38569674 0.38691222]\n",
      "[0.98009306 0.98126198 0.98123192]\n",
      "problem13.pddl reward: -12\n",
      "Parsing domain blocks-domain.pddl\n",
      "Parsing problem maroon/problem14.pddl\n"
     ]
    },
    {
     "name": "stderr",
     "output_type": "stream",
     "text": [
      "T: no, put red blocks on blue blocks\n",
      "T: no, put red blocks on blue blocks\n"
     ]
    },
    {
     "name": "stdout",
     "output_type": "stream",
     "text": [
      "(forall (?x) (or (not (red ?x)) (exists (?y) (and (blue ?y) (on ?x ?y)))))\n",
      "[0.35267037 0.35321273 0.35434057]\n",
      "(forall (?x) (or (not (red ?x)) (exists (?y) (and (blue ?y) (on ?x ?y)))))\n",
      "[0.98009306 0.98126198 0.98123192]\n"
     ]
    },
    {
     "name": "stderr",
     "output_type": "stream",
     "text": [
      "T: no, put red blocks on blue blocks\n",
      "T: no, put red blocks on blue blocks\n"
     ]
    },
    {
     "name": "stdout",
     "output_type": "stream",
     "text": [
      "(forall (?x) (or (not (red ?x)) (exists (?y) (and (blue ?y) (on ?x ?y)))))\n",
      "[0.98009306 0.98126198 0.98123192]\n",
      "(forall (?x) (or (not (red ?x)) (exists (?y) (and (blue ?y) (on ?x ?y)))))\n",
      "[0.98009306 0.98126198 0.98123192]"
     ]
    },
    {
     "name": "stderr",
     "output_type": "stream",
     "text": [
      "T: no, put red blocks on blue blocks\n",
      "T: no, put red blocks on blue blocks\n"
     ]
    },
    {
     "name": "stdout",
     "output_type": "stream",
     "text": [
      "\n",
      "(forall (?x) (or (not (red ?x)) (exists (?y) (and (blue ?y) (on ?x ?y)))))\n",
      "[0.98009306 0.98126198 0.98123192]\n",
      "(forall (?x) (or (not (red ?x)) (exists (?y) (and (blue ?y) (on ?x ?y)))))\n",
      "[0.98009306 0.98126198 0.98123192]\n"
     ]
    },
    {
     "name": "stderr",
     "output_type": "stream",
     "text": [
      "T: no, put red blocks on blue blocks\n",
      "T: no, put red blocks on blue blocks\n"
     ]
    },
    {
     "name": "stdout",
     "output_type": "stream",
     "text": [
      "(forall (?x) (or (not (red ?x)) (exists (?y) (and (blue ?y) (on ?x ?y)))))\n",
      "[0.98009306 0.98126198 0.98123192]\n",
      "(forall (?x) (or (not (red ?x)) (exists (?y) (and (blue ?y) (on ?x ?y)))))\n",
      "[0.98009306 0.98126198 0.98123192]\n"
     ]
    },
    {
     "name": "stderr",
     "output_type": "stream",
     "text": [
      "T: no, put red blocks on blue blocks\n"
     ]
    },
    {
     "name": "stdout",
     "output_type": "stream",
     "text": [
      "(forall (?x) (or (not (red ?x)) (exists (?y) (and (blue ?y) (on ?x ?y)))))\n",
      "[0.98009306 0.98126198 0.98123192]\n",
      "problem14.pddl reward: -28\n",
      "Parsing domain blocks-domain.pddl\n",
      "Parsing problem maroon/problem15.pddl\n",
      "problem15.pddl reward: -10\n",
      "Parsing domain blocks-domain.pddl\n",
      "Parsing problem maroon/problem16.pddl\n",
      "problem16.pddl reward: -10\n",
      "Parsing domain blocks-domain.pddl\n",
      "Parsing problem maroon/problem17.pddl\n"
     ]
    },
    {
     "name": "stderr",
     "output_type": "stream",
     "text": [
      "T: No, now you cannot put b3 in the tower because you must put green blocks on maroon blocks\n",
      "T: No, now you cannot put b3 in the tower because you must put green blocks on maroon blocks\n"
     ]
    },
    {
     "name": "stdout",
     "output_type": "stream",
     "text": [
      "[0.61950178 0.62752354 0.60434661]\n",
      "[0.96049529 0.96377558 0.96618388]\n",
      "[0.61174268 0.61680329 0.59391496]\n",
      "[0.80420205 0.80847345 0.80335629]\n",
      "[0.55116913 0.58090932 0.53224519]\n",
      "problem17.pddl reward: -14\n",
      "Parsing domain blocks-domain.pddl\n",
      "Parsing problem maroon/problem18.pddl\n",
      "problem18.pddl reward: -10\n",
      "Parsing domain blocks-domain.pddl\n",
      "Parsing problem maroon/problem19.pddl\n"
     ]
    },
    {
     "name": "stderr",
     "output_type": "stream",
     "text": [
      "T: No, now you cannot put b0 in the tower because you must put red blocks on blue blocks\n",
      "T: No, now you cannot put b0 in the tower because you must put red blocks on blue blocks\n"
     ]
    },
    {
     "name": "stdout",
     "output_type": "stream",
     "text": [
      "[0.34820817 0.34863154 0.35660922]\n",
      "[0.83007914 0.82952993 0.81391395]\n",
      "[0.32599838 0.32663322 0.33489458]\n",
      "[0.80569885 0.80699574 0.79513803]\n"
     ]
    },
    {
     "name": "stderr",
     "output_type": "stream",
     "text": [
      "T: No, now you cannot put b0 in the tower because you must put red blocks on blue blocks\n"
     ]
    },
    {
     "name": "stdout",
     "output_type": "stream",
     "text": [
      "[0.32583193 0.32651945 0.33462753]\n"
     ]
    },
    {
     "name": "stderr",
     "output_type": "stream",
     "text": [
      "T: No, now you cannot put b0 in the tower because you must put red blocks on blue blocks\n"
     ]
    },
    {
     "name": "stdout",
     "output_type": "stream",
     "text": [
      "[0.32583189 0.32651939 0.33462761]\n",
      "[0.32583189 0.32651939 0.33462761]\n"
     ]
    },
    {
     "name": "stderr",
     "output_type": "stream",
     "text": [
      "T: No, now you cannot put b0 in the tower because you must put red blocks on blue blocks\n"
     ]
    },
    {
     "name": "stdout",
     "output_type": "stream",
     "text": [
      "[0.32583189 0.32651939 0.33462761]\n"
     ]
    },
    {
     "name": "stderr",
     "output_type": "stream",
     "text": [
      "T: no, put red blocks on blue blocks\n"
     ]
    },
    {
     "name": "stdout",
     "output_type": "stream",
     "text": [
      "problem19.pddl reward: -20\n",
      "Parsing domain blocks-domain.pddl\n",
      "Parsing problem maroon/problem2.pddl\n",
      "(forall (?x) (or (not (red ?x)) (exists (?y) (and (blue ?y) (on ?x ?y)))))\n"
     ]
    },
    {
     "name": "stderr",
     "output_type": "stream",
     "text": [
      "T: no, put red blocks on blue blocks\n"
     ]
    },
    {
     "name": "stdout",
     "output_type": "stream",
     "text": [
      "[0.31108235 0.30395484 0.31220435]\n",
      "[0.8050219  0.80588547 0.79393438]\n",
      "(forall (?x) (or (not (red ?x)) (exists (?y) (and (blue ?y) (on ?x ?y)))))\n",
      "[0.80501688 0.80588125 0.79392658]\n"
     ]
    },
    {
     "name": "stderr",
     "output_type": "stream",
     "text": [
      "T: no, put red blocks on blue blocks\n",
      "T: no, put red blocks on blue blocks\n"
     ]
    },
    {
     "name": "stdout",
     "output_type": "stream",
     "text": [
      "(forall (?x) (or (not (red ?x)) (exists (?y) (and (blue ?y) (on ?x ?y)))))\n",
      "[0.80501684 0.80588117 0.79392651]\n",
      "(forall (?x) (or (not (red ?x)) (exists (?y) (and (blue ?y) (on ?x ?y)))))\n",
      "[0.29112697 0.28411547 0.29237464]"
     ]
    },
    {
     "name": "stderr",
     "output_type": "stream",
     "text": [
      "T: no, put red blocks on blue blocks\n"
     ]
    },
    {
     "name": "stdout",
     "output_type": "stream",
     "text": [
      "\n",
      "(forall (?x) (or (not (red ?x)) (exists (?y) (and (blue ?y) (on ?x ?y)))))\n",
      "(forall (?x) (or (not (red ?x)) (exists (?y) (and (blue ?y) (on ?x ?y)))))\n"
     ]
    },
    {
     "name": "stderr",
     "output_type": "stream",
     "text": [
      "T: no, put red blocks on blue blocks\n"
     ]
    },
    {
     "name": "stdout",
     "output_type": "stream",
     "text": [
      "[0.80501684 0.80588117 0.79392651]\n",
      "problem2.pddl reward: -22\n",
      "Parsing domain blocks-domain.pddl\n",
      "Parsing problem maroon/problem20.pddl\n"
     ]
    },
    {
     "name": "stderr",
     "output_type": "stream",
     "text": [
      "T: no, put red blocks on blue blocks\n"
     ]
    },
    {
     "name": "stdout",
     "output_type": "stream",
     "text": [
      "(forall (?x) (or (not (red ?x)) (exists (?y) (and (blue ?y) (on ?x ?y)))))\n",
      "[0.27427873 0.26673882 0.27492453]\n",
      "[0.80478183 0.80568728 0.79356637]\n",
      "problem20.pddl reward: -12\n",
      "Parsing domain blocks-domain.pddl\n",
      "Parsing problem maroon/problem21.pddl\n",
      "problem21.pddl reward: -10\n",
      "Parsing domain blocks-domain.pddl\n",
      "Parsing problem maroon/problem22.pddl\n"
     ]
    },
    {
     "name": "stderr",
     "output_type": "stream",
     "text": [
      "T: No, now you cannot put b2 in the tower because you must put red blocks on blue blocks\n"
     ]
    },
    {
     "name": "stdout",
     "output_type": "stream",
     "text": [
      "[0.27427872 0.26673885 0.27492454]\n",
      "[0.68708771 0.68403814 0.66482766]\n",
      "[0.25815426 0.25105733 0.25863804]\n",
      "[0.68708763 0.68403803 0.66482756]\n"
     ]
    },
    {
     "name": "stderr",
     "output_type": "stream",
     "text": [
      "T: No, now you cannot put b2 in the tower because you must put red blocks on blue blocks\n"
     ]
    },
    {
     "name": "stdout",
     "output_type": "stream",
     "text": [
      "[0.25815426 0.25105733 0.25863804]\n"
     ]
    },
    {
     "name": "stderr",
     "output_type": "stream",
     "text": [
      "T: No, now you cannot put b2 in the tower because you must put red blocks on blue blocks\n"
     ]
    },
    {
     "name": "stdout",
     "output_type": "stream",
     "text": [
      "[0.25815426 0.25105733 0.25863804]\n"
     ]
    },
    {
     "name": "stderr",
     "output_type": "stream",
     "text": [
      "T: No, now you cannot put b3 in the tower because you must put green blocks on maroon blocks\n",
      "T: No, now you cannot put b3 in the tower because you must put green blocks on maroon blocks\n"
     ]
    },
    {
     "name": "stdout",
     "output_type": "stream",
     "text": [
      "[0.78792674 0.79893885 0.78892449]\n",
      "[0.54396239 0.57381461 0.52533392]\n",
      "[0.67647551 0.68667188 0.67394313]\n"
     ]
    },
    {
     "name": "stderr",
     "output_type": "stream",
     "text": [
      "T: No, now you cannot put b3 in the tower because you must put green blocks on maroon blocks\n",
      "T: No, now you cannot put b3 in the tower because you must put green blocks on maroon blocks\n"
     ]
    },
    {
     "name": "stdout",
     "output_type": "stream",
     "text": [
      "[0.49318749 0.51161404 0.4871349 ]\n"
     ]
    },
    {
     "name": "stderr",
     "output_type": "stream",
     "text": [
      "T: no, put red blocks on blue blocks\n"
     ]
    },
    {
     "name": "stdout",
     "output_type": "stream",
     "text": [
      "(forall (?x) (or (not (red ?x)) (exists (?y) (and (blue ?y) (on ?x ?y)))))\n",
      "problem22.pddl reward: -26\n",
      "Parsing domain blocks-domain.pddl\n",
      "Parsing problem maroon/problem23.pddl\n",
      "problem23.pddl reward: -10\n",
      "Parsing domain blocks-domain.pddl\n",
      "Parsing problem maroon/problem24.pddl\n"
     ]
    },
    {
     "name": "stderr",
     "output_type": "stream",
     "text": [
      "T: no, put red blocks on blue blocks\n"
     ]
    },
    {
     "name": "stdout",
     "output_type": "stream",
     "text": [
      "(forall (?x) (or (not (red ?x)) (exists (?y) (and (blue ?y) (on ?x ?y)))))\n",
      "[0.24486811 0.23740173 0.24488256]\n"
     ]
    },
    {
     "name": "stderr",
     "output_type": "stream",
     "text": [
      "T: no, put red blocks on blue blocks\n"
     ]
    },
    {
     "name": "stdout",
     "output_type": "stream",
     "text": [
      "(forall (?x) (or (not (red ?x)) (exists (?y) (and (blue ?y) (on ?x ?y)))))\n",
      "[0.68708763 0.68403803 0.66482756]\n"
     ]
    },
    {
     "name": "stderr",
     "output_type": "stream",
     "text": [
      "T: no, put red blocks on blue blocks\n"
     ]
    },
    {
     "name": "stdout",
     "output_type": "stream",
     "text": [
      "(forall (?x) (or (not (red ?x)) (exists (?y) (and (blue ?y) (on ?x ?y)))))\n",
      "[0.23204759 0.2249507  0.23192891]\n"
     ]
    },
    {
     "name": "stderr",
     "output_type": "stream",
     "text": [
      "T: no, put red blocks on blue blocks\n"
     ]
    },
    {
     "name": "stdout",
     "output_type": "stream",
     "text": [
      "(forall (?x) (or (not (red ?x)) (exists (?y) (and (blue ?y) (on ?x ?y)))))\n",
      "[0.68708763 0.68403803 0.66482756]\n"
     ]
    },
    {
     "name": "stderr",
     "output_type": "stream",
     "text": [
      "T: no, put red blocks on blue blocks\n"
     ]
    },
    {
     "name": "stdout",
     "output_type": "stream",
     "text": [
      "(forall (?x) (or (not (red ?x)) (exists (?y) (and (blue ?y) (on ?x ?y)))))\n"
     ]
    },
    {
     "name": "stderr",
     "output_type": "stream",
     "text": [
      "T: no, put red blocks on blue blocks\n"
     ]
    },
    {
     "name": "stdout",
     "output_type": "stream",
     "text": [
      "(forall (?x) (or (not (red ?x)) (exists (?y) (and (blue ?y) (on ?x ?y)))))\n",
      "[0.68708763 0.68403803 0.66482756]\n"
     ]
    },
    {
     "name": "stderr",
     "output_type": "stream",
     "text": [
      "T: no, put red blocks on blue blocks\n"
     ]
    },
    {
     "name": "stdout",
     "output_type": "stream",
     "text": [
      "(forall (?x) (or (not (red ?x)) (exists (?y) (and (blue ?y) (on ?x ?y)))))\n"
     ]
    },
    {
     "name": "stderr",
     "output_type": "stream",
     "text": [
      "T: no, put green blocks on maroon blocks\n"
     ]
    },
    {
     "name": "stdout",
     "output_type": "stream",
     "text": [
      "(forall (?x) (or (not (green ?x)) (exists (?y) (and (maroon ?y) (on ?x ?y)))))\n",
      "[0.4585841  0.46833101 0.44970006]\n"
     ]
    },
    {
     "name": "stderr",
     "output_type": "stream",
     "text": [
      "T: no, put red blocks on blue blocks\n",
      "T: no, put red blocks on blue blocks\n"
     ]
    },
    {
     "name": "stdout",
     "output_type": "stream",
     "text": [
      "(forall (?x) (or (not (red ?x)) (exists (?y) (and (blue ?y) (on ?x ?y)))))\n",
      "(forall (?x) (or (not (red ?x)) (exists (?y) (and (blue ?y) (on ?x ?y)))))\n",
      "problem24.pddl reward: -30\n",
      "Parsing domain blocks-domain.pddl\n",
      "Parsing problem maroon/problem25.pddl\n"
     ]
    },
    {
     "name": "stderr",
     "output_type": "stream",
     "text": [
      "T: No, now you cannot put b0 in the tower because you must put red blocks on blue blocks\n"
     ]
    },
    {
     "name": "stdout",
     "output_type": "stream",
     "text": [
      "[0.23204758 0.2249507  0.23192892]\n",
      "[0.59659946 0.61902232 0.60088315]\n",
      "[0.22633901 0.21396611 0.22083889]\n",
      "[0.59659946 0.61902229 0.60088314]\n"
     ]
    },
    {
     "name": "stderr",
     "output_type": "stream",
     "text": [
      "T: No, now you cannot put b0 in the tower because you must put red blocks on blue blocks\n"
     ]
    },
    {
     "name": "stdout",
     "output_type": "stream",
     "text": [
      "[0.22633901 0.21396611 0.22083889]\n"
     ]
    },
    {
     "name": "stderr",
     "output_type": "stream",
     "text": [
      "T: No, now you cannot put b0 in the tower because you must put red blocks on blue blocks\n"
     ]
    },
    {
     "name": "stdout",
     "output_type": "stream",
     "text": [
      "[0.22633901 0.21396611 0.22083889]\n"
     ]
    },
    {
     "name": "stderr",
     "output_type": "stream",
     "text": [
      "T: No, now you cannot put b0 in the tower because you must put red blocks on blue blocks\n"
     ]
    },
    {
     "name": "stdout",
     "output_type": "stream",
     "text": [
      "[0.22633901 0.21396611 0.22083889]\n"
     ]
    },
    {
     "name": "stderr",
     "output_type": "stream",
     "text": [
      "T: No, now you cannot put b0 in the tower because you must put red blocks on blue blocks\n"
     ]
    },
    {
     "name": "stdout",
     "output_type": "stream",
     "text": [
      "[0.22633901 0.21396611 0.22083889]\n",
      "problem25.pddl reward: -20\n",
      "Parsing domain blocks-domain.pddl\n",
      "Parsing problem maroon/problem26.pddl\n",
      "problem26.pddl reward: -10\n",
      "Parsing domain blocks-domain.pddl\n",
      "Parsing problem maroon/problem27.pddl\n"
     ]
    },
    {
     "name": "stderr",
     "output_type": "stream",
     "text": [
      "T: no, put red blocks on blue blocks\n"
     ]
    },
    {
     "name": "stdout",
     "output_type": "stream",
     "text": [
      "(forall (?x) (or (not (red ?x)) (exists (?y) (and (blue ?y) (on ?x ?y)))))\n",
      "[0.21842404 0.20576682 0.21254139]\n",
      "[0.58396283 0.60613977 0.58591205]\n",
      "problem27.pddl reward: -12\n",
      "Parsing domain blocks-domain.pddl\n",
      "Parsing problem maroon/problem28.pddl\n"
     ]
    },
    {
     "name": "stderr",
     "output_type": "stream",
     "text": [
      "T: no, put red blocks on blue blocks\n",
      "T: no, put red blocks on blue blocks\n"
     ]
    },
    {
     "name": "stdout",
     "output_type": "stream",
     "text": [
      "(forall (?x) (or (not (red ?x)) (exists (?y) (and (blue ?y) (on ?x ?y)))))\n",
      "[0.21019694 0.19630318 0.20356533]\n",
      "[0.58398795 0.60602317 0.58568193]\n",
      "(forall (?x) (or (not (red ?x)) (exists (?y) (and (blue ?y) (on ?x ?y)))))\n"
     ]
    },
    {
     "name": "stderr",
     "output_type": "stream",
     "text": [
      "T: no, put red blocks on blue blocks\n"
     ]
    },
    {
     "name": "stdout",
     "output_type": "stream",
     "text": [
      "[0.58375089 0.60575188 0.58539332]\n",
      "(forall (?x) (or (not (red ?x)) (exists (?y) (and (blue ?y) (on ?x ?y)))))\n",
      "[0.58375137 0.60574746 0.5853915 ]\n"
     ]
    },
    {
     "name": "stderr",
     "output_type": "stream",
     "text": [
      "T: no, put red blocks on blue blocks\n",
      "T: no, put red blocks on blue blocks\n"
     ]
    },
    {
     "name": "stdout",
     "output_type": "stream",
     "text": [
      "(forall (?x) (or (not (red ?x)) (exists (?y) (and (blue ?y) (on ?x ?y)))))\n",
      "[0.58375137 0.60574745 0.58539148]\n",
      "(forall (?x) (or (not (red ?x)) (exists (?y) (and (blue ?y) (on ?x ?y)))))\n",
      "[0.58375137 0.60574745 0.58539148]\n"
     ]
    },
    {
     "name": "stderr",
     "output_type": "stream",
     "text": [
      "T: no, put red blocks on blue blocks\n"
     ]
    },
    {
     "name": "stdout",
     "output_type": "stream",
     "text": [
      "(forall (?x) (or (not (red ?x)) (exists (?y) (and (blue ?y) (on ?x ?y)))))\n",
      "[0.58375137 0.60574745 0.58539148]\n",
      "problem28.pddl reward: -22\n",
      "Parsing domain blocks-domain.pddl\n",
      "Parsing problem maroon/problem29.pddl\n",
      "problem29.pddl reward: -10\n",
      "Parsing domain blocks-domain.pddl\n",
      "Parsing problem maroon/problem3.pddl\n"
     ]
    },
    {
     "name": "stderr",
     "output_type": "stream",
     "text": [
      "T: No, now you cannot put b1 in the tower because you must put red blocks on blue blocks\n",
      "T: No, now you cannot put b1 in the tower because you must put red blocks on blue blocks\n"
     ]
    },
    {
     "name": "stdout",
     "output_type": "stream",
     "text": [
      "[0.21019694 0.19630318 0.20356534]\n",
      "[0.51369657 0.53346409 0.52278322]\n",
      "[0.20550638 0.18788926 0.19506793]\n",
      "[0.51369657 0.53346408 0.52278322]\n",
      "[0.20550638 0.18788926 0.19506793]\n"
     ]
    },
    {
     "name": "stderr",
     "output_type": "stream",
     "text": [
      "T: No, now you cannot put b1 in the tower because you must put red blocks on blue blocks\n"
     ]
    },
    {
     "name": "stdout",
     "output_type": "stream",
     "text": [
      "[0.20550638 0.18788926 0.19506793]\n"
     ]
    },
    {
     "name": "stderr",
     "output_type": "stream",
     "text": [
      "T: No, now you cannot put b1 in the tower because you must put red blocks on blue blocks\n",
      "T: No, now you cannot put b1 in the tower because you must put red blocks on blue blocks\n"
     ]
    },
    {
     "name": "stdout",
     "output_type": "stream",
     "text": [
      "[0.20550638 0.18788926 0.19506793]\n",
      "[0.20550638 0.18788926 0.19506793]\n"
     ]
    },
    {
     "name": "stderr",
     "output_type": "stream",
     "text": [
      "T: No, now you cannot put b1 in the tower because you must put red blocks on blue blocks\n"
     ]
    },
    {
     "name": "stdout",
     "output_type": "stream",
     "text": [
      "[0.20550638 0.18788926 0.19506793]\n",
      "problem3.pddl reward: -22\n",
      "Parsing domain blocks-domain.pddl\n",
      "Parsing problem maroon/problem30.pddl\n"
     ]
    },
    {
     "name": "stderr",
     "output_type": "stream",
     "text": [
      "T: no, put green blocks on maroon blocks\n"
     ]
    },
    {
     "name": "stdout",
     "output_type": "stream",
     "text": [
      "(forall (?x) (or (not (green ?x)) (exists (?y) (and (maroon ?y) (on ?x ?y)))))\n",
      "[0.45584926 0.42932956 0.42015972]\n",
      "[0.66755798 0.68287181 0.66567634]\n"
     ]
    },
    {
     "name": "stderr",
     "output_type": "stream",
     "text": [
      "T: no, put green blocks on maroon blocks\n"
     ]
    },
    {
     "name": "stdout",
     "output_type": "stream",
     "text": [
      "(forall (?x) (or (not (green ?x)) (exists (?y) (and (maroon ?y) (on ?x ?y)))))\n",
      "[0.66701542 0.68262665 0.6653681 ]\n"
     ]
    },
    {
     "name": "stderr",
     "output_type": "stream",
     "text": [
      "T: no, put green blocks on maroon blocks\n"
     ]
    },
    {
     "name": "stdout",
     "output_type": "stream",
     "text": [
      "(forall (?x) (or (not (green ?x)) (exists (?y) (and (maroon ?y) (on ?x ?y)))))\n",
      "[0.66687625 0.68253757 0.66532176]\n"
     ]
    },
    {
     "name": "stderr",
     "output_type": "stream",
     "text": [
      "T: No, now you cannot put b2 in the tower because you must put red blocks on blue blocks\n"
     ]
    },
    {
     "name": "stdout",
     "output_type": "stream",
     "text": [
      "[0.20550638 0.18788926 0.19506793]\n",
      "[0.19818905 0.18016358 0.18724389]\n",
      "[0.51369657 0.53346408 0.52278322]\n",
      "problem30.pddl reward: -18\n",
      "Parsing domain blocks-domain.pddl\n",
      "Parsing problem maroon/problem31.pddl\n"
     ]
    },
    {
     "name": "stderr",
     "output_type": "stream",
     "text": [
      "T: no, put red blocks on blue blocks\n"
     ]
    },
    {
     "name": "stdout",
     "output_type": "stream",
     "text": [
      "(forall (?x) (or (not (red ?x)) (exists (?y) (and (blue ?y) (on ?x ?y)))))\n",
      "[0.19134418 0.17304548 0.18001726]\n"
     ]
    },
    {
     "name": "stderr",
     "output_type": "stream",
     "text": [
      "T: no, put green blocks on maroon blocks\n"
     ]
    },
    {
     "name": "stdout",
     "output_type": "stream",
     "text": [
      "(forall (?x) (or (not (green ?x)) (exists (?y) (and (maroon ?y) (on ?x ?y)))))\n",
      "[0.43335812 0.39598833 0.38747007]\n",
      "[0.66047658 0.67834607 0.65979274]\n",
      "problem31.pddl reward: -14\n",
      "Parsing domain blocks-domain.pddl\n",
      "Parsing problem maroon/problem32.pddl\n"
     ]
    },
    {
     "name": "stderr",
     "output_type": "stream",
     "text": [
      "T: no, put red blocks on blue blocks\n"
     ]
    },
    {
     "name": "stdout",
     "output_type": "stream",
     "text": [
      "(forall (?x) (or (not (red ?x)) (exists (?y) (and (blue ?y) (on ?x ?y)))))\n",
      "[0.1844644  0.16646631 0.1733229 ]\n",
      "problem32.pddl reward: -12\n",
      "Parsing domain blocks-domain.pddl\n",
      "Parsing problem maroon/problem33.pddl\n"
     ]
    },
    {
     "name": "stderr",
     "output_type": "stream",
     "text": [
      "T: no, put red blocks on blue blocks\n"
     ]
    },
    {
     "name": "stdout",
     "output_type": "stream",
     "text": [
      "(forall (?x) (or (not (red ?x)) (exists (?y) (and (blue ?y) (on ?x ?y)))))\n",
      "[0.17912428 0.16101349 0.16776401]\n",
      "[0.50876833 0.52799772 0.5163691 ]\n",
      "problem33.pddl reward: -12\n",
      "Parsing domain blocks-domain.pddl\n",
      "Parsing problem maroon/problem34.pddl\n"
     ]
    },
    {
     "name": "stderr",
     "output_type": "stream",
     "text": [
      "T: no, put red blocks on blue blocks\n",
      "R: Is the top object red?\n",
      "T: yes\n"
     ]
    },
    {
     "name": "stdout",
     "output_type": "stream",
     "text": [
      "(forall (?x) (or (not (red ?x)) (exists (?y) (and (blue ?y) (on ?x ?y)))))\n",
      "[0.17268372 0.15535814 0.16176029]\n",
      "[0.50876833 0.52799772 0.5163691 ]\n",
      "(forall (?x) (or (not (red ?x)) (exists (?y) (and (blue ?y) (on ?x ?y)))))\n"
     ]
    },
    {
     "name": "stderr",
     "output_type": "stream",
     "text": [
      "T: no, put red blocks on blue blocks\n",
      "T: no, put red blocks on blue blocks\n"
     ]
    },
    {
     "name": "stdout",
     "output_type": "stream",
     "text": [
      "[0.50876833 0.52799772 0.5163691 ]\n",
      "(forall (?x) (or (not (red ?x)) (exists (?y) (and (blue ?y) (on ?x ?y)))))\n",
      "[0.50876833 0.52799772 0.5163691 ]"
     ]
    },
    {
     "name": "stderr",
     "output_type": "stream",
     "text": [
      "T: no, put red blocks on blue blocks\n",
      "T: no, put red blocks on blue blocks\n"
     ]
    },
    {
     "name": "stdout",
     "output_type": "stream",
     "text": [
      "\n",
      "(forall (?x) (or (not (red ?x)) (exists (?y) (and (blue ?y) (on ?x ?y)))))\n",
      "[0.50876833 0.52799772 0.5163691 ]\n",
      "(forall (?x) (or (not (red ?x)) (exists (?y) (and (blue ?y) (on ?x ?y)))))\n"
     ]
    },
    {
     "name": "stderr",
     "output_type": "stream",
     "text": [
      "T: no, put red blocks on blue blocks\n"
     ]
    },
    {
     "name": "stdout",
     "output_type": "stream",
     "text": [
      "[0.50876833 0.52799772 0.5163691 ]\n",
      "(forall (?x) (or (not (red ?x)) (exists (?y) (and (blue ?y) (on ?x ?y)))))\n",
      "[0.16894181 0.15097838 0.1577965 ]\n",
      "problem34.pddl reward: -22\n",
      "Parsing domain blocks-domain.pddl\n",
      "Parsing problem maroon/problem35.pddl\n"
     ]
    },
    {
     "name": "stderr",
     "output_type": "stream",
     "text": [
      "T: no, put red blocks on blue blocks\n"
     ]
    },
    {
     "name": "stdout",
     "output_type": "stream",
     "text": [
      "(forall (?x) (or (not (red ?x)) (exists (?y) (and (blue ?y) (on ?x ?y)))))\n",
      "[0.16406628 0.14597078 0.15269757]\n"
     ]
    },
    {
     "name": "stderr",
     "output_type": "stream",
     "text": [
      "T: no, put red blocks on blue blocks\n"
     ]
    },
    {
     "name": "stdout",
     "output_type": "stream",
     "text": [
      "(forall (?x) (or (not (red ?x)) (exists (?y) (and (blue ?y) (on ?x ?y)))))\n",
      "[0.50876833 0.52799772 0.5163691 ]\n"
     ]
    },
    {
     "name": "stderr",
     "output_type": "stream",
     "text": [
      "T: no, put red blocks on blue blocks\n"
     ]
    },
    {
     "name": "stdout",
     "output_type": "stream",
     "text": [
      "(forall (?x) (or (not (red ?x)) (exists (?y) (and (blue ?y) (on ?x ?y)))))\n",
      "[0.15945066 0.14128436 0.1479159 ]\n",
      "[0.50877055 0.52799594 0.51635931]\n"
     ]
    },
    {
     "name": "stderr",
     "output_type": "stream",
     "text": [
      "T: no, put red blocks on blue blocks\n"
     ]
    },
    {
     "name": "stdout",
     "output_type": "stream",
     "text": [
      "(forall (?x) (or (not (red ?x)) (exists (?y) (and (blue ?y) (on ?x ?y)))))\n",
      "[0.50877055 0.52799594 0.51635931]\n"
     ]
    },
    {
     "name": "stderr",
     "output_type": "stream",
     "text": [
      "T: no, put red blocks on blue blocks\n"
     ]
    },
    {
     "name": "stdout",
     "output_type": "stream",
     "text": [
      "(forall (?x) (or (not (red ?x)) (exists (?y) (and (blue ?y) (on ?x ?y)))))\n",
      "[0.50877055 0.52799594 0.51635931]\n"
     ]
    },
    {
     "name": "stderr",
     "output_type": "stream",
     "text": [
      "T: no, put red blocks on blue blocks\n"
     ]
    },
    {
     "name": "stdout",
     "output_type": "stream",
     "text": [
      "(forall (?x) (or (not (red ?x)) (exists (?y) (and (blue ?y) (on ?x ?y)))))\n",
      "[0.50877055 0.52799594 0.51635931]\n",
      "problem35.pddl reward: -22\n",
      "Parsing domain blocks-domain.pddl\n",
      "Parsing problem maroon/problem36.pddl\n"
     ]
    },
    {
     "name": "stderr",
     "output_type": "stream",
     "text": [
      "T: no, put red blocks on blue blocks\n"
     ]
    },
    {
     "name": "stdout",
     "output_type": "stream",
     "text": [
      "(forall (?x) (or (not (red ?x)) (exists (?y) (and (blue ?y) (on ?x ?y)))))\n",
      "[0.15484861 0.13699834 0.14353464]\n",
      "[0.50753705 0.52671376 0.51480769]\n"
     ]
    },
    {
     "name": "stderr",
     "output_type": "stream",
     "text": [
      "T: no, put red blocks on blue blocks\n"
     ]
    },
    {
     "name": "stdout",
     "output_type": "stream",
     "text": [
      "(forall (?x) (or (not (red ?x)) (exists (?y) (and (blue ?y) (on ?x ?y)))))\n",
      "[0.15071617 0.13286156 0.13929867]\n"
     ]
    },
    {
     "name": "stderr",
     "output_type": "stream",
     "text": [
      "T: no, put red blocks on blue blocks\n"
     ]
    },
    {
     "name": "stdout",
     "output_type": "stream",
     "text": [
      "(forall (?x) (or (not (red ?x)) (exists (?y) (and (blue ?y) (on ?x ?y)))))\n",
      "[0.50753761 0.52671149 0.51480723]\n"
     ]
    },
    {
     "name": "stderr",
     "output_type": "stream",
     "text": [
      "T: no, put red blocks on blue blocks\n"
     ]
    },
    {
     "name": "stdout",
     "output_type": "stream",
     "text": [
      "(forall (?x) (or (not (red ?x)) (exists (?y) (and (blue ?y) (on ?x ?y)))))\n"
     ]
    },
    {
     "name": "stderr",
     "output_type": "stream",
     "text": [
      "T: no, put green blocks on maroon blocks\n"
     ]
    },
    {
     "name": "stdout",
     "output_type": "stream",
     "text": [
      "(forall (?x) (or (not (green ?x)) (exists (?y) (and (maroon ?y) (on ?x ?y)))))\n",
      "[0.40435034 0.37889417 0.36691664]\n"
     ]
    },
    {
     "name": "stderr",
     "output_type": "stream",
     "text": [
      "T: no, put red blocks on blue blocks\n"
     ]
    },
    {
     "name": "stdout",
     "output_type": "stream",
     "text": [
      "(forall (?x) (or (not (red ?x)) (exists (?y) (and (blue ?y) (on ?x ?y)))))\n",
      "[0.50753761 0.52671149 0.51480723]\n"
     ]
    },
    {
     "name": "stderr",
     "output_type": "stream",
     "text": [
      "T: no, put red blocks on blue blocks\n"
     ]
    },
    {
     "name": "stdout",
     "output_type": "stream",
     "text": [
      "(forall (?x) (or (not (red ?x)) (exists (?y) (and (blue ?y) (on ?x ?y)))))\n"
     ]
    },
    {
     "name": "stderr",
     "output_type": "stream",
     "text": [
      "T: no, put green blocks on maroon blocks\n"
     ]
    },
    {
     "name": "stdout",
     "output_type": "stream",
     "text": [
      "(forall (?x) (or (not (green ?x)) (exists (?y) (and (maroon ?y) (on ?x ?y)))))\n"
     ]
    },
    {
     "name": "stderr",
     "output_type": "stream",
     "text": [
      "T: no, put red blocks on blue blocks\n"
     ]
    },
    {
     "name": "stdout",
     "output_type": "stream",
     "text": [
      "(forall (?x) (or (not (red ?x)) (exists (?y) (and (blue ?y) (on ?x ?y)))))\n"
     ]
    },
    {
     "name": "stderr",
     "output_type": "stream",
     "text": [
      "T: no, put green blocks on maroon blocks\n"
     ]
    },
    {
     "name": "stdout",
     "output_type": "stream",
     "text": [
      "(forall (?x) (or (not (green ?x)) (exists (?y) (and (maroon ?y) (on ?x ?y)))))\n"
     ]
    },
    {
     "name": "stderr",
     "output_type": "stream",
     "text": [
      "T: no, put red blocks on blue blocks\n"
     ]
    },
    {
     "name": "stdout",
     "output_type": "stream",
     "text": [
      "(forall (?x) (or (not (red ?x)) (exists (?y) (and (blue ?y) (on ?x ?y)))))\n",
      "[0.50753761 0.52671149 0.51480723]\n"
     ]
    },
    {
     "name": "stderr",
     "output_type": "stream",
     "text": [
      "T: no, put green blocks on maroon blocks\n"
     ]
    },
    {
     "name": "stdout",
     "output_type": "stream",
     "text": [
      "(forall (?x) (or (not (green ?x)) (exists (?y) (and (maroon ?y) (on ?x ?y)))))\n"
     ]
    },
    {
     "name": "stderr",
     "output_type": "stream",
     "text": [
      "T: no, put red blocks on blue blocks\n"
     ]
    },
    {
     "name": "stdout",
     "output_type": "stream",
     "text": [
      "(forall (?x) (or (not (red ?x)) (exists (?y) (and (blue ?y) (on ?x ?y)))))\n",
      "[0.50753761 0.52671149 0.51480723]\n"
     ]
    },
    {
     "name": "stderr",
     "output_type": "stream",
     "text": [
      "T: no, put green blocks on maroon blocks\n"
     ]
    },
    {
     "name": "stdout",
     "output_type": "stream",
     "text": [
      "(forall (?x) (or (not (green ?x)) (exists (?y) (and (maroon ?y) (on ?x ?y)))))\n",
      "problem36.pddl reward: -38\n",
      "Parsing domain blocks-domain.pddl\n",
      "Parsing problem maroon/problem37.pddl\n"
     ]
    },
    {
     "name": "stderr",
     "output_type": "stream",
     "text": [
      "T: no, put red blocks on blue blocks\n"
     ]
    },
    {
     "name": "stdout",
     "output_type": "stream",
     "text": [
      "(forall (?x) (or (not (red ?x)) (exists (?y) (and (blue ?y) (on ?x ?y)))))\n",
      "[0.14678867 0.12896554 0.1353028 ]\n",
      "[0.50753906 0.5267094  0.51479775]\n"
     ]
    },
    {
     "name": "stderr",
     "output_type": "stream",
     "text": [
      "T: no, put red blocks on blue blocks\n"
     ]
    },
    {
     "name": "stdout",
     "output_type": "stream",
     "text": [
      "(forall (?x) (or (not (red ?x)) (exists (?y) (and (blue ?y) (on ?x ?y)))))\n",
      "[0.50753907 0.52670939 0.51479774]\n"
     ]
    },
    {
     "name": "stderr",
     "output_type": "stream",
     "text": [
      "T: no, put red blocks on blue blocks\n"
     ]
    },
    {
     "name": "stdout",
     "output_type": "stream",
     "text": [
      "(forall (?x) (or (not (red ?x)) (exists (?y) (and (blue ?y) (on ?x ?y)))))\n",
      "[0.14678649 0.12894962 0.13528646]\n"
     ]
    },
    {
     "name": "stderr",
     "output_type": "stream",
     "text": [
      "T: No, now you cannot put b1 in the tower because you must put green blocks on maroon blocks\n"
     ]
    },
    {
     "name": "stdout",
     "output_type": "stream",
     "text": [
      "[0.3893434  0.35668465 0.35378746]\n",
      "[0.38619409 0.35490194 0.35164744]\n",
      "[0.57841262 0.60814976 0.58632752]\n"
     ]
    },
    {
     "name": "stderr",
     "output_type": "stream",
     "text": [
      "T: no, put red blocks on blue blocks\n"
     ]
    },
    {
     "name": "stdout",
     "output_type": "stream",
     "text": [
      "(forall (?x) (or (not (red ?x)) (exists (?y) (and (blue ?y) (on ?x ?y)))))\n"
     ]
    },
    {
     "name": "stderr",
     "output_type": "stream",
     "text": [
      "T: no, put red blocks on blue blocks\n"
     ]
    },
    {
     "name": "stdout",
     "output_type": "stream",
     "text": [
      "(forall (?x) (or (not (red ?x)) (exists (?y) (and (blue ?y) (on ?x ?y)))))\n",
      "problem37.pddl reward: -22\n",
      "Parsing domain blocks-domain.pddl\n",
      "Parsing problem maroon/problem38.pddl\n"
     ]
    },
    {
     "name": "stderr",
     "output_type": "stream",
     "text": [
      "T: no, put red blocks on blue blocks\n"
     ]
    },
    {
     "name": "stdout",
     "output_type": "stream",
     "text": [
      "(forall (?x) (or (not (red ?x)) (exists (?y) (and (blue ?y) (on ?x ?y)))))\n",
      "[0.14305169 0.12527566 0.1315127 ]\n",
      "[0.50754033 0.52670683 0.51479167]\n"
     ]
    },
    {
     "name": "stderr",
     "output_type": "stream",
     "text": [
      "T: no, put red blocks on blue blocks\n"
     ]
    },
    {
     "name": "stdout",
     "output_type": "stream",
     "text": [
      "(forall (?x) (or (not (red ?x)) (exists (?y) (and (blue ?y) (on ?x ?y)))))\n",
      "[0.50754029 0.52670678 0.51479162]\n"
     ]
    },
    {
     "name": "stderr",
     "output_type": "stream",
     "text": [
      "T: no, put red blocks on blue blocks\n"
     ]
    },
    {
     "name": "stdout",
     "output_type": "stream",
     "text": [
      "(forall (?x) (or (not (red ?x)) (exists (?y) (and (blue ?y) (on ?x ?y)))))\n",
      "[0.50754029 0.52670678 0.51479162]\n"
     ]
    },
    {
     "name": "stderr",
     "output_type": "stream",
     "text": [
      "T: no, put red blocks on blue blocks\n",
      "T: no, put red blocks on blue blocks\n"
     ]
    },
    {
     "name": "stdout",
     "output_type": "stream",
     "text": [
      "(forall (?x) (or (not (red ?x)) (exists (?y) (and (blue ?y) (on ?x ?y)))))\n",
      "[0.50754029 0.52670678 0.51479162]\n",
      "(forall (?x) (or (not (red ?x)) (exists (?y) (and (blue ?y) (on ?x ?y)))))\n"
     ]
    },
    {
     "name": "stderr",
     "output_type": "stream",
     "text": [
      "T: no, put red blocks on blue blocks\n"
     ]
    },
    {
     "name": "stdout",
     "output_type": "stream",
     "text": [
      "[0.50754029 0.52670678 0.51479162]\n",
      "(forall (?x) (or (not (red ?x)) (exists (?y) (and (blue ?y) (on ?x ?y)))))\n",
      "[0.50754029 0.52670678 0.51479162]\n",
      "problem38.pddl reward: -22\n",
      "Parsing domain blocks-domain.pddl\n",
      "Parsing problem maroon/problem39.pddl\n",
      "problem39.pddl reward: -10\n",
      "Parsing domain blocks-domain.pddl\n",
      "Parsing problem maroon/problem4.pddl\n",
      "problem4.pddl reward: -10\n",
      "Parsing domain blocks-domain.pddl\n",
      "Parsing problem maroon/problem40.pddl\n"
     ]
    },
    {
     "name": "stderr",
     "output_type": "stream",
     "text": [
      "T: no, put red blocks on blue blocks\n"
     ]
    },
    {
     "name": "stdout",
     "output_type": "stream",
     "text": [
      "(forall (?x) (or (not (red ?x)) (exists (?y) (and (blue ?y) (on ?x ?y)))))\n",
      "[0.14305133 0.12527535 0.13151237]\n",
      "[0.45425059 0.48076745 0.4620701 ]\n"
     ]
    },
    {
     "name": "stderr",
     "output_type": "stream",
     "text": [
      "T: no, put red blocks on blue blocks\n"
     ]
    },
    {
     "name": "stdout",
     "output_type": "stream",
     "text": [
      "(forall (?x) (or (not (red ?x)) (exists (?y) (and (blue ?y) (on ?x ?y)))))\n",
      "[0.45995422 0.44079887 0.4509229 ]\n",
      "problem40.pddl reward: -14\n",
      "Parsing domain blocks-domain.pddl\n",
      "Parsing problem maroon/problem41.pddl\n"
     ]
    },
    {
     "name": "stderr",
     "output_type": "stream",
     "text": [
      "T: no, put red blocks on blue blocks\n"
     ]
    },
    {
     "name": "stdout",
     "output_type": "stream",
     "text": [
      "(forall (?x) (or (not (red ?x)) (exists (?y) (and (blue ?y) (on ?x ?y)))))\n",
      "[0.14000043 0.12229577 0.12844787]\n",
      "[0.45422628 0.43504542 0.44628559]\n",
      "problem41.pddl reward: -12\n",
      "Parsing domain blocks-domain.pddl\n",
      "Parsing problem maroon/problem42.pddl\n"
     ]
    },
    {
     "name": "stderr",
     "output_type": "stream",
     "text": [
      "T: no, put red blocks on blue blocks\n",
      "R: Is the top object red?\n",
      "T: yes\n"
     ]
    },
    {
     "name": "stdout",
     "output_type": "stream",
     "text": [
      "(forall (?x) (or (not (red ?x)) (exists (?y) (and (blue ?y) (on ?x ?y)))))\n",
      "[0.13755665 0.11893875 0.12561344]\n",
      "[0.45422628 0.43504542 0.44628559]\n",
      "problem42.pddl reward: -12\n",
      "Parsing domain blocks-domain.pddl\n",
      "Parsing problem maroon/problem43.pddl\n",
      "problem43.pddl reward: -10\n",
      "Parsing domain blocks-domain.pddl\n",
      "Parsing problem maroon/problem44.pddl\n"
     ]
    },
    {
     "name": "stderr",
     "output_type": "stream",
     "text": [
      "T: No, now you cannot put b5 in the tower because you must put red blocks on blue blocks\n"
     ]
    },
    {
     "name": "stdout",
     "output_type": "stream",
     "text": [
      "[0.13755665 0.11893875 0.12561344]\n",
      "[0.41548544 0.39817899 0.415981  ]\n",
      "[0.13408991 0.11580966 0.12239144]\n",
      "[0.41548544 0.39817899 0.415981  ]\n"
     ]
    },
    {
     "name": "stderr",
     "output_type": "stream",
     "text": [
      "T: No, now you cannot put b5 in the tower because you must put red blocks on blue blocks\n"
     ]
    },
    {
     "name": "stdout",
     "output_type": "stream",
     "text": [
      "[0.13408991 0.11580966 0.12239144]\n"
     ]
    },
    {
     "name": "stderr",
     "output_type": "stream",
     "text": [
      "T: no, put red blocks on blue blocks\n"
     ]
    },
    {
     "name": "stdout",
     "output_type": "stream",
     "text": [
      "(forall (?x) (or (not (red ?x)) (exists (?y) (and (blue ?y) (on ?x ?y)))))\n",
      "problem44.pddl reward: -16\n",
      "Parsing domain blocks-domain.pddl\n",
      "Parsing problem maroon/problem45.pddl\n"
     ]
    },
    {
     "name": "stderr",
     "output_type": "stream",
     "text": [
      "T: no, put red blocks on blue blocks\n"
     ]
    },
    {
     "name": "stdout",
     "output_type": "stream",
     "text": [
      "(forall (?x) (or (not (red ?x)) (exists (?y) (and (blue ?y) (on ?x ?y)))))\n",
      "[0.13081351 0.11286006 0.11934962]\n",
      "[0.41550672 0.3980094  0.41583632]\n"
     ]
    },
    {
     "name": "stderr",
     "output_type": "stream",
     "text": [
      "T: no, put red blocks on blue blocks\n"
     ]
    },
    {
     "name": "stdout",
     "output_type": "stream",
     "text": [
      "(forall (?x) (or (not (red ?x)) (exists (?y) (and (blue ?y) (on ?x ?y)))))\n",
      "[0.41550677 0.39800896 0.41583623]\n"
     ]
    },
    {
     "name": "stderr",
     "output_type": "stream",
     "text": [
      "T: no, put red blocks on blue blocks\n"
     ]
    },
    {
     "name": "stdout",
     "output_type": "stream",
     "text": [
      "(forall (?x) (or (not (red ?x)) (exists (?y) (and (blue ?y) (on ?x ?y)))))\n",
      "[0.41550677 0.39800896 0.41583623]\n"
     ]
    },
    {
     "name": "stderr",
     "output_type": "stream",
     "text": [
      "T: no, put red blocks on blue blocks\n"
     ]
    },
    {
     "name": "stdout",
     "output_type": "stream",
     "text": [
      "(forall (?x) (or (not (red ?x)) (exists (?y) (and (blue ?y) (on ?x ?y)))))\n",
      "[0.41550677 0.39800896 0.41583623]\n",
      "problem45.pddl reward: -18\n",
      "Parsing domain blocks-domain.pddl\n",
      "Parsing problem maroon/problem46.pddl\n"
     ]
    },
    {
     "name": "stderr",
     "output_type": "stream",
     "text": [
      "T: No, now you cannot put b2 in the tower because you must put red blocks on blue blocks\n"
     ]
    },
    {
     "name": "stdout",
     "output_type": "stream",
     "text": [
      "[0.13081351 0.11286006 0.11934962]\n",
      "[0.39012534 0.37915886 0.39462587]\n",
      "[0.12877573 0.11000318 0.116961  ]\n",
      "[0.39012534 0.37915886 0.39462587]\n",
      "problem46.pddl reward: -12\n",
      "Parsing domain blocks-domain.pddl\n",
      "Parsing problem maroon/problem47.pddl\n"
     ]
    },
    {
     "name": "stderr",
     "output_type": "stream",
     "text": [
      "T: no, put green blocks on maroon blocks\n"
     ]
    },
    {
     "name": "stdout",
     "output_type": "stream",
     "text": [
      "(forall (?x) (or (not (green ?x)) (exists (?y) (and (maroon ?y) (on ?x ?y)))))\n",
      "[0.36200544 0.34040801 0.334686  ]\n",
      "[0.57501485 0.60687406 0.58190989]\n"
     ]
    },
    {
     "name": "stderr",
     "output_type": "stream",
     "text": [
      "T: No, now you cannot put b0 in the tower because you must put red blocks on blue blocks\n"
     ]
    },
    {
     "name": "stdout",
     "output_type": "stream",
     "text": [
      "[0.12877573 0.11000318 0.116961  ]\n",
      "[0.12565293 0.10743837 0.11412758]\n",
      "[0.39012534 0.37915886 0.39462587]\n",
      "problem47.pddl reward: -14\n",
      "Parsing domain blocks-domain.pddl\n",
      "Parsing problem maroon/problem48.pddl\n"
     ]
    },
    {
     "name": "stderr",
     "output_type": "stream",
     "text": [
      "T: No, now you cannot put b2 in the tower because you must put red blocks on blue blocks\n"
     ]
    },
    {
     "name": "stdout",
     "output_type": "stream",
     "text": [
      "[0.12565293 0.10743837 0.11412758]\n",
      "[0.3634584  0.35377852 0.37446432]\n",
      "[0.12267759 0.10498929 0.11142781]\n",
      "[0.3634584  0.35377852 0.37446432]\n"
     ]
    },
    {
     "name": "stderr",
     "output_type": "stream",
     "text": [
      "T: No, now you cannot put b2 in the tower because you must put red blocks on blue blocks\n"
     ]
    },
    {
     "name": "stdout",
     "output_type": "stream",
     "text": [
      "[0.12267759 0.10498929 0.11142781]\n"
     ]
    },
    {
     "name": "stderr",
     "output_type": "stream",
     "text": [
      "T: No, now you cannot put b2 in the tower because you must put red blocks on blue blocks\n"
     ]
    },
    {
     "name": "stdout",
     "output_type": "stream",
     "text": [
      "[0.12267759 0.10498929 0.11142781]\n"
     ]
    },
    {
     "name": "stderr",
     "output_type": "stream",
     "text": [
      "T: No, now you cannot put b2 in the tower because you must put red blocks on blue blocks\n"
     ]
    },
    {
     "name": "stdout",
     "output_type": "stream",
     "text": [
      "[0.12267759 0.10498929 0.11142781]\n",
      "problem48.pddl reward: -18\n",
      "Parsing domain blocks-domain.pddl\n",
      "Parsing problem maroon/problem49.pddl\n",
      "problem49.pddl reward: -10\n",
      "Parsing domain blocks-domain.pddl\n",
      "Parsing problem maroon/problem5.pddl\n",
      "problem5.pddl reward: -10\n",
      "Parsing domain blocks-domain.pddl\n",
      "Parsing problem maroon/problem50.pddl\n",
      "problem50.pddl reward: -10\n",
      "Parsing domain blocks-domain.pddl\n",
      "Parsing problem maroon/problem6.pddl\n",
      "problem6.pddl reward: -10\n",
      "Parsing domain blocks-domain.pddl\n",
      "Parsing problem maroon/problem7.pddl\n"
     ]
    },
    {
     "name": "stderr",
     "output_type": "stream",
     "text": [
      "T: no, put red blocks on blue blocks\n"
     ]
    },
    {
     "name": "stdout",
     "output_type": "stream",
     "text": [
      "(forall (?x) (or (not (red ?x)) (exists (?y) (and (blue ?y) (on ?x ?y)))))\n",
      "[0.11983956 0.10264838 0.10885249]\n",
      "problem7.pddl reward: -12\n",
      "Parsing domain blocks-domain.pddl\n",
      "Parsing problem maroon/problem8.pddl\n"
     ]
    },
    {
     "name": "stderr",
     "output_type": "stream",
     "text": [
      "T: No, now you cannot put b2 in the tower because you must put red blocks on blue blocks\n"
     ]
    },
    {
     "name": "stdout",
     "output_type": "stream",
     "text": [
      "[0.11983956 0.10264838 0.10885249]\n",
      "[0.34333452 0.33893927 0.34974284]\n",
      "[0.11712956 0.10040869 0.10639323]\n",
      "[0.34333452 0.33893927 0.34974284]\n"
     ]
    },
    {
     "name": "stderr",
     "output_type": "stream",
     "text": [
      "T: No, now you cannot put b2 in the tower because you must put red blocks on blue blocks\n"
     ]
    },
    {
     "name": "stdout",
     "output_type": "stream",
     "text": [
      "[0.11712956 0.10040869 0.10639323]\n"
     ]
    },
    {
     "name": "stderr",
     "output_type": "stream",
     "text": [
      "T: No, now you cannot put b2 in the tower because you must put red blocks on blue blocks\n"
     ]
    },
    {
     "name": "stdout",
     "output_type": "stream",
     "text": [
      "[0.11712956 0.10040869 0.10639323]\n",
      "problem8.pddl reward: -16\n",
      "Parsing domain blocks-domain.pddl\n",
      "Parsing problem maroon/problem9.pddl\n"
     ]
    },
    {
     "name": "stderr",
     "output_type": "stream",
     "text": [
      "T: no, put red blocks on blue blocks\n"
     ]
    },
    {
     "name": "stdout",
     "output_type": "stream",
     "text": [
      "(forall (?x) (or (not (red ?x)) (exists (?y) (and (blue ?y) (on ?x ?y)))))\n",
      "[0.11470368 0.09820951 0.10413686]\n",
      "problem9.pddl reward: -12\n"
     ]
    }
   ],
   "source": [
    "add_experiment('maroon_update_once', None)"
   ]
  },
  {
   "cell_type": "code",
   "execution_count": 34,
   "metadata": {},
   "outputs": [
    {
     "name": "stdout",
     "output_type": "stream",
     "text": [
      "Parsing domain blocks-domain.pddl\n",
      "Parsing problem maroon/problem1.pddl\n",
      "Parsing domain blocks-domain.pddl\n",
      "Parsing problem maroon/problem1.pddl\n"
     ]
    },
    {
     "name": "stderr",
     "output_type": "stream",
     "text": [
      "T: no, put red blocks on blue blocks\n",
      "R: Is the top object red?\n",
      "T: yes\n",
      "T: no, put red blocks on blue blocks\n"
     ]
    },
    {
     "name": "stdout",
     "output_type": "stream",
     "text": [
      "(forall (?x) (or (not (red ?x)) (exists (?y) (and (blue ?y) (on ?x ?y)))))\n",
      "[0.80000038 0.825      0.825     ]\n",
      "[1. 1. 1.]\n",
      "(forall (?x) (or (not (red ?x)) (exists (?y) (and (blue ?y) (on ?x ?y)))))\n",
      "[0.68120851 0.69077064 0.68752403]\n"
     ]
    },
    {
     "name": "stderr",
     "output_type": "stream",
     "text": [
      "T: no, put red blocks on blue blocks\n",
      "T: no, put red blocks on blue blocks\n"
     ]
    },
    {
     "name": "stdout",
     "output_type": "stream",
     "text": [
      "(forall (?x) (or (not (red ?x)) (exists (?y) (and (blue ?y) (on ?x ?y)))))\n",
      "[0.59012509 0.59349083 0.58931661]\n",
      "(forall (?x) (or (not (red ?x)) (exists (?y) (and (blue ?y) (on ?x ?y)))))\n"
     ]
    },
    {
     "name": "stderr",
     "output_type": "stream",
     "text": [
      "T: no, put red blocks on blue blocks\n",
      "T: no, put red blocks on blue blocks\n"
     ]
    },
    {
     "name": "stdout",
     "output_type": "stream",
     "text": [
      "(forall (?x) (or (not (red ?x)) (exists (?y) (and (blue ?y) (on ?x ?y)))))\n",
      "(forall (?x) (or (not (red ?x)) (exists (?y) (and (blue ?y) (on ?x ?y)))))\n",
      "problem1.pddl reward: -22\n",
      "Parsing domain blocks-domain.pddl\n",
      "Parsing problem maroon/problem10.pddl\n"
     ]
    },
    {
     "name": "stderr",
     "output_type": "stream",
     "text": [
      "T: no, put green blocks on maroon blocks\n",
      "R: Is the top object green?\n",
      "T: yes\n",
      "T: no, put red blocks on blue blocks\n"
     ]
    },
    {
     "name": "stdout",
     "output_type": "stream",
     "text": [
      "(forall (?x) (or (not (green ?x)) (exists (?y) (and (maroon ?y) (on ?x ?y)))))\n",
      "[0.80277778 0.80064629 0.80996578]\n",
      "[1. 1. 1.]\n",
      "(forall (?x) (or (not (red ?x)) (exists (?y) (and (blue ?y) (on ?x ?y)))))\n",
      "[0.52551432 0.52798991 0.52727595]\n"
     ]
    },
    {
     "name": "stderr",
     "output_type": "stream",
     "text": [
      "T: no, put green blocks on maroon blocks\n",
      "T: no, put red blocks on blue blocks\n"
     ]
    },
    {
     "name": "stdout",
     "output_type": "stream",
     "text": [
      "(forall (?x) (or (not (green ?x)) (exists (?y) (and (maroon ?y) (on ?x ?y)))))\n",
      "[1. 1. 1.]\n",
      "(forall (?x) (or (not (red ?x)) (exists (?y) (and (blue ?y) (on ?x ?y)))))\n"
     ]
    },
    {
     "name": "stderr",
     "output_type": "stream",
     "text": [
      "T: no, put green blocks on maroon blocks\n",
      "T: no, put red blocks on blue blocks\n"
     ]
    },
    {
     "name": "stdout",
     "output_type": "stream",
     "text": [
      "(forall (?x) (or (not (green ?x)) (exists (?y) (and (maroon ?y) (on ?x ?y)))))\n",
      "[1. 1. 1.]\n",
      "(forall (?x) (or (not (red ?x)) (exists (?y) (and (blue ?y) (on ?x ?y)))))\n"
     ]
    },
    {
     "name": "stderr",
     "output_type": "stream",
     "text": [
      "T: no, put green blocks on maroon blocks\n",
      "T: no, put red blocks on blue blocks\n"
     ]
    },
    {
     "name": "stdout",
     "output_type": "stream",
     "text": [
      "(forall (?x) (or (not (green ?x)) (exists (?y) (and (maroon ?y) (on ?x ?y)))))\n",
      "[1. 1. 1.]\n",
      "(forall (?x) (or (not (red ?x)) (exists (?y) (and (blue ?y) (on ?x ?y)))))\n"
     ]
    },
    {
     "name": "stderr",
     "output_type": "stream",
     "text": [
      "T: no, put green blocks on maroon blocks\n",
      "T: no, put red blocks on blue blocks\n"
     ]
    },
    {
     "name": "stdout",
     "output_type": "stream",
     "text": [
      "(forall (?x) (or (not (green ?x)) (exists (?y) (and (maroon ?y) (on ?x ?y)))))\n",
      "[1. 1. 1.]\n",
      "(forall (?x) (or (not (red ?x)) (exists (?y) (and (blue ?y) (on ?x ?y)))))\n"
     ]
    },
    {
     "name": "stderr",
     "output_type": "stream",
     "text": [
      "T: no, put green blocks on maroon blocks\n"
     ]
    },
    {
     "name": "stdout",
     "output_type": "stream",
     "text": [
      "(forall (?x) (or (not (green ?x)) (exists (?y) (and (maroon ?y) (on ?x ?y)))))\n",
      "[1. 1. 1.]\n",
      "problem10.pddl reward: -32\n",
      "Parsing domain blocks-domain.pddl\n",
      "Parsing problem maroon/problem11.pddl\n"
     ]
    },
    {
     "name": "stderr",
     "output_type": "stream",
     "text": [
      "T: no, put red blocks on blue blocks\n"
     ]
    },
    {
     "name": "stdout",
     "output_type": "stream",
     "text": [
      "problem11.pddl reward: -10\n",
      "Parsing domain blocks-domain.pddl\n",
      "Parsing problem maroon/problem12.pddl\n",
      "(forall (?x) (or (not (red ?x)) (exists (?y) (and (blue ?y) (on ?x ?y)))))\n",
      "[0.47032454 0.4723229  0.47205278]\n",
      "[0.98715951 0.98715951 0.98715951]\n"
     ]
    },
    {
     "name": "stderr",
     "output_type": "stream",
     "text": [
      "T: no, put green blocks on maroon blocks\n",
      "T: no, put green blocks on maroon blocks\n"
     ]
    },
    {
     "name": "stdout",
     "output_type": "stream",
     "text": [
      "(forall (?x) (or (not (green ?x)) (exists (?y) (and (maroon ?y) (on ?x ?y)))))\n",
      "[0.70601875 0.72513135 0.70818754]\n",
      "[0.95061847 0.93854223 0.95061847]\n",
      "(forall (?x) (or (not (green ?x)) (exists (?y) (and (maroon ?y) (on ?x ?y)))))\n",
      "[0.93699992 0.92497696 0.93671053]\n"
     ]
    },
    {
     "name": "stderr",
     "output_type": "stream",
     "text": [
      "T: no, put green blocks on maroon blocks\n",
      "T: No, now you cannot put b0 in the tower because you must put red blocks on blue blocks\n",
      "R: Is the top object red?\n",
      "T: no\n"
     ]
    },
    {
     "name": "stdout",
     "output_type": "stream",
     "text": [
      "(forall (?x) (or (not (green ?x)) (exists (?y) (and (maroon ?y) (on ?x ?y)))))\n",
      "[0.93461681 0.92217977 0.93268931]\n",
      "[0.47032454 0.4723229  0.47205278]\n",
      "[0.42459043 0.42586608 0.427122  ]\n",
      "[0.98715951 0.98715951 0.98715951]\n",
      "problem12.pddl reward: -20\n",
      "Parsing domain blocks-domain.pddl\n",
      "Parsing problem maroon/problem13.pddl\n"
     ]
    },
    {
     "name": "stderr",
     "output_type": "stream",
     "text": [
      "T: no, put red blocks on blue blocks\n"
     ]
    },
    {
     "name": "stdout",
     "output_type": "stream",
     "text": [
      "(forall (?x) (or (not (red ?x)) (exists (?y) (and (blue ?y) (on ?x ?y)))))\n",
      "[0.38768544 0.3885607  0.38973365]\n",
      "[0.97412369 0.97548847 0.97545543]\n",
      "problem13.pddl reward: -12\n",
      "Parsing domain blocks-domain.pddl\n",
      "Parsing problem maroon/problem14.pddl\n"
     ]
    },
    {
     "name": "stderr",
     "output_type": "stream",
     "text": [
      "T: no, put red blocks on blue blocks\n",
      "T: no, put red blocks on blue blocks\n"
     ]
    },
    {
     "name": "stdout",
     "output_type": "stream",
     "text": [
      "(forall (?x) (or (not (red ?x)) (exists (?y) (and (blue ?y) (on ?x ?y)))))\n",
      "[0.35502268 0.35560619 0.35670003]\n",
      "(forall (?x) (or (not (red ?x)) (exists (?y) (and (blue ?y) (on ?x ?y)))))\n",
      "[0.97412369 0.97548847 0.97545543]\n"
     ]
    },
    {
     "name": "stderr",
     "output_type": "stream",
     "text": [
      "T: no, put red blocks on blue blocks\n",
      "T: no, put red blocks on blue blocks\n"
     ]
    },
    {
     "name": "stdout",
     "output_type": "stream",
     "text": [
      "(forall (?x) (or (not (red ?x)) (exists (?y) (and (blue ?y) (on ?x ?y)))))\n",
      "[0.97412369 0.97548847 0.97545543]\n",
      "(forall (?x) (or (not (red ?x)) (exists (?y) (and (blue ?y) (on ?x ?y)))))\n",
      "[0.97412369 0.97548847 0.97545543]\n"
     ]
    },
    {
     "name": "stderr",
     "output_type": "stream",
     "text": [
      "T: no, put red blocks on blue blocks\n",
      "T: no, put red blocks on blue blocks\n"
     ]
    },
    {
     "name": "stdout",
     "output_type": "stream",
     "text": [
      "(forall (?x) (or (not (red ?x)) (exists (?y) (and (blue ?y) (on ?x ?y)))))\n",
      "[0.97412369 0.97548847 0.97545543]\n",
      "(forall (?x) (or (not (red ?x)) (exists (?y) (and (blue ?y) (on ?x ?y)))))\n"
     ]
    },
    {
     "name": "stderr",
     "output_type": "stream",
     "text": [
      "T: no, put red blocks on blue blocks\n"
     ]
    },
    {
     "name": "stdout",
     "output_type": "stream",
     "text": [
      "[0.97412369 0.97548847 0.97545543]\n",
      "(forall (?x) (or (not (red ?x)) (exists (?y) (and (blue ?y) (on ?x ?y)))))\n",
      "[0.97412369 0.97548847 0.97545543]\n"
     ]
    },
    {
     "name": "stderr",
     "output_type": "stream",
     "text": [
      "T: no, put red blocks on blue blocks\n",
      "T: no, put red blocks on blue blocks\n"
     ]
    },
    {
     "name": "stdout",
     "output_type": "stream",
     "text": [
      "(forall (?x) (or (not (red ?x)) (exists (?y) (and (blue ?y) (on ?x ?y)))))\n",
      "[0.97412369 0.97548847 0.97545543]\n",
      "(forall (?x) (or (not (red ?x)) (exists (?y) (and (blue ?y) (on ?x ?y)))))\n",
      "[0.97412369 0.97548847 0.97545543]\n",
      "problem14.pddl reward: -28\n",
      "Parsing domain blocks-domain.pddl\n",
      "Parsing problem maroon/problem15.pddl\n",
      "problem15.pddl reward: -10\n",
      "Parsing domain blocks-domain.pddl\n",
      "Parsing problem maroon/problem16.pddl\n",
      "problem16.pddl reward: -10\n",
      "Parsing domain blocks-domain.pddl\n",
      "Parsing problem maroon/problem17.pddl\n"
     ]
    },
    {
     "name": "stderr",
     "output_type": "stream",
     "text": [
      "T: No, now you cannot put b5 in the tower because you must put red blocks on blue blocks\n",
      "R: Is the top object red?\n",
      "T: no\n"
     ]
    },
    {
     "name": "stdout",
     "output_type": "stream",
     "text": [
      "[0.35502268 0.35560619 0.35670003]\n",
      "[0.81355172 0.81251571 0.78507658]\n",
      "[0.32875049 0.32877361 0.33046582]\n",
      "[0.81355172 0.81251571 0.78507658]\n"
     ]
    },
    {
     "name": "stderr",
     "output_type": "stream",
     "text": [
      "T: No, now you cannot put b3 in the tower because you must put green blocks on maroon blocks\n",
      "R: Is the top object green?\n",
      "T: no\n",
      "T: No, now you cannot put b3 in the tower because you must put green blocks on maroon blocks\n"
     ]
    },
    {
     "name": "stdout",
     "output_type": "stream",
     "text": [
      "[0.61044278 0.6217927  0.60424255]\n",
      "[0.93461681 0.92217977 0.93268931]\n",
      "[0.61044278 0.6217927  0.60424255]\n",
      "problem17.pddl reward: -16\n",
      "Parsing domain blocks-domain.pddl\n",
      "Parsing problem maroon/problem18.pddl\n",
      "problem18.pddl reward: -10\n",
      "Parsing domain blocks-domain.pddl\n",
      "Parsing problem maroon/problem19.pddl\n"
     ]
    },
    {
     "name": "stderr",
     "output_type": "stream",
     "text": [
      "T: No, now you cannot put b0 in the tower because you must put red blocks on blue blocks\n",
      "R: Is the top object red?\n",
      "T: no\n",
      "T: No, now you cannot put b0 in the tower because you must put red blocks on blue blocks\n"
     ]
    },
    {
     "name": "stdout",
     "output_type": "stream",
     "text": [
      "[0.32875049 0.32877361 0.33046582]\n",
      "[0.68448383 0.68320143 0.65717287]\n",
      "[0.30540971 0.30566501 0.30775111]\n",
      "[0.68448383 0.68320143 0.65717287]\n"
     ]
    },
    {
     "name": "stderr",
     "output_type": "stream",
     "text": [
      "T: No, now you cannot put b0 in the tower because you must put red blocks on blue blocks\n"
     ]
    },
    {
     "name": "stdout",
     "output_type": "stream",
     "text": [
      "[0.30540971 0.30566501 0.30775111]\n",
      "[0.30540971 0.30566501 0.30775111]\n"
     ]
    },
    {
     "name": "stderr",
     "output_type": "stream",
     "text": [
      "T: No, now you cannot put b0 in the tower because you must put red blocks on blue blocks\n",
      "T: No, now you cannot put b0 in the tower because you must put red blocks on blue blocks\n"
     ]
    },
    {
     "name": "stdout",
     "output_type": "stream",
     "text": [
      "[0.30540971 0.30566501 0.30775111]\n",
      "[0.30540971 0.30566501 0.30775111]\n"
     ]
    },
    {
     "name": "stderr",
     "output_type": "stream",
     "text": [
      "T: no, put red blocks on blue blocks\n"
     ]
    },
    {
     "name": "stdout",
     "output_type": "stream",
     "text": [
      "problem19.pddl reward: -20\n",
      "Parsing domain blocks-domain.pddl\n",
      "Parsing problem maroon/problem2.pddl\n",
      "(forall (?x) (or (not (red ?x)) (exists (?y) (and (blue ?y) (on ?x ?y)))))\n",
      "[0.28514586 0.2855649  0.28790985]\n"
     ]
    },
    {
     "name": "stderr",
     "output_type": "stream",
     "text": [
      "T: no, put red blocks on blue blocks\n",
      "T: no, put red blocks on blue blocks\n"
     ]
    },
    {
     "name": "stdout",
     "output_type": "stream",
     "text": [
      "(forall (?x) (or (not (red ?x)) (exists (?y) (and (blue ?y) (on ?x ?y)))))\n",
      "[0.68448383 0.68320143 0.65717287]\n",
      "(forall (?x) (or (not (red ?x)) (exists (?y) (and (blue ?y) (on ?x ?y)))))\n",
      "[0.68448383 0.68320143 0.65717287]"
     ]
    },
    {
     "name": "stderr",
     "output_type": "stream",
     "text": [
      "T: no, put red blocks on blue blocks\n",
      "T: no, put red blocks on blue blocks\n"
     ]
    },
    {
     "name": "stdout",
     "output_type": "stream",
     "text": [
      "\n",
      "(forall (?x) (or (not (red ?x)) (exists (?y) (and (blue ?y) (on ?x ?y)))))\n",
      "[0.68448383 0.68320143 0.65717287]\n",
      "(forall (?x) (or (not (red ?x)) (exists (?y) (and (blue ?y) (on ?x ?y)))))\n",
      "[0.27559151 0.26792735 0.27043974]\n"
     ]
    },
    {
     "name": "stderr",
     "output_type": "stream",
     "text": [
      "T: no, put red blocks on blue blocks\n",
      "T: no, put red blocks on blue blocks\n"
     ]
    },
    {
     "name": "stdout",
     "output_type": "stream",
     "text": [
      "(forall (?x) (or (not (red ?x)) (exists (?y) (and (blue ?y) (on ?x ?y)))))\n",
      "[0.68448383 0.68320143 0.65717287]\n",
      "(forall (?x) (or (not (red ?x)) (exists (?y) (and (blue ?y) (on ?x ?y)))))\n"
     ]
    },
    {
     "name": "stderr",
     "output_type": "stream",
     "text": [
      "T: no, put red blocks on blue blocks\n",
      "T: no, put red blocks on blue blocks\n"
     ]
    },
    {
     "name": "stdout",
     "output_type": "stream",
     "text": [
      "(forall (?x) (or (not (red ?x)) (exists (?y) (and (blue ?y) (on ?x ?y)))))\n",
      "[0.68448383 0.68320143 0.65717287]\n",
      "(forall (?x) (or (not (red ?x)) (exists (?y) (and (blue ?y) (on ?x ?y)))))\n"
     ]
    },
    {
     "name": "stderr",
     "output_type": "stream",
     "text": [
      "T: no, put red blocks on blue blocks\n",
      "T: no, put red blocks on blue blocks\n"
     ]
    },
    {
     "name": "stdout",
     "output_type": "stream",
     "text": [
      "(forall (?x) (or (not (red ?x)) (exists (?y) (and (blue ?y) (on ?x ?y)))))\n",
      "(forall (?x) (or (not (red ?x)) (exists (?y) (and (blue ?y) (on ?x ?y)))))\n",
      "[0.68448383 0.68320143 0.65717287]\n",
      "problem2.pddl reward: -32\n",
      "Parsing domain blocks-domain.pddl\n",
      "Parsing problem maroon/problem20.pddl\n"
     ]
    },
    {
     "name": "stderr",
     "output_type": "stream",
     "text": [
      "T: no, put red blocks on blue blocks\n"
     ]
    },
    {
     "name": "stdout",
     "output_type": "stream",
     "text": [
      "(forall (?x) (or (not (red ?x)) (exists (?y) (and (blue ?y) (on ?x ?y)))))\n",
      "[0.26062546 0.25260927 0.25522449]\n",
      "[0.68421839 0.68297391 0.65563756]\n",
      "problem20.pddl reward: -12\n",
      "Parsing domain blocks-domain.pddl\n",
      "Parsing problem maroon/problem21.pddl\n"
     ]
    },
    {
     "name": "stderr",
     "output_type": "stream",
     "text": [
      "T: No, now you cannot put b2 in the tower because you must put red blocks on blue blocks\n"
     ]
    },
    {
     "name": "stdout",
     "output_type": "stream",
     "text": [
      "problem21.pddl reward: -10\n",
      "Parsing domain blocks-domain.pddl\n",
      "Parsing problem maroon/problem22.pddl\n"
     ]
    },
    {
     "name": "stderr",
     "output_type": "stream",
     "text": [
      "T: No, now you cannot put b2 in the tower because you must put red blocks on blue blocks\n"
     ]
    },
    {
     "name": "stdout",
     "output_type": "stream",
     "text": [
      "[0.2606174  0.25263528 0.25523658]\n",
      "[0.59404544 0.59263919 0.56439735]\n",
      "[0.24615266 0.23860298 0.24094743]\n",
      "[0.59399879 0.59255267 0.56433383]\n",
      "[0.24615266 0.23860298 0.24094743]\n"
     ]
    },
    {
     "name": "stderr",
     "output_type": "stream",
     "text": [
      "T: No, now you cannot put b2 in the tower because you must put red blocks on blue blocks\n"
     ]
    },
    {
     "name": "stdout",
     "output_type": "stream",
     "text": [
      "[0.24615266 0.23860298 0.24094743]\n"
     ]
    },
    {
     "name": "stderr",
     "output_type": "stream",
     "text": [
      "T: No, now you cannot put b3 in the tower because you must put green blocks on maroon blocks\n",
      "R: Is the top object green?\n",
      "T: no\n"
     ]
    },
    {
     "name": "stdout",
     "output_type": "stream",
     "text": [
      "[0.76150517 0.77946323 0.77726582]\n",
      "[0.53541105 0.54358917 0.52673676]\n",
      "[0.76150517 0.77946323 0.77726582]\n"
     ]
    },
    {
     "name": "stderr",
     "output_type": "stream",
     "text": [
      "T: No, now you cannot put b3 in the tower because you must put green blocks on maroon blocks\n",
      "T: No, now you cannot put b3 in the tower because you must put green blocks on maroon blocks\n",
      "T: No, now you cannot put b3 in the tower because you must put green blocks on maroon blocks\n"
     ]
    },
    {
     "name": "stdout",
     "output_type": "stream",
     "text": [
      "[0.53541105 0.54358917 0.52673676]\n"
     ]
    },
    {
     "name": "stderr",
     "output_type": "stream",
     "text": [
      "T: no, put red blocks on blue blocks\n"
     ]
    },
    {
     "name": "stdout",
     "output_type": "stream",
     "text": [
      "(forall (?x) (or (not (red ?x)) (exists (?y) (and (blue ?y) (on ?x ?y)))))\n",
      "problem22.pddl reward: -26\n",
      "Parsing domain blocks-domain.pddl\n",
      "Parsing problem maroon/problem23.pddl\n",
      "problem23.pddl reward: -10\n",
      "Parsing domain blocks-domain.pddl\n",
      "Parsing problem maroon/problem24.pddl\n"
     ]
    },
    {
     "name": "stderr",
     "output_type": "stream",
     "text": [
      "T: no, put red blocks on blue blocks\n"
     ]
    },
    {
     "name": "stdout",
     "output_type": "stream",
     "text": [
      "(forall (?x) (or (not (red ?x)) (exists (?y) (and (blue ?y) (on ?x ?y)))))\n",
      "[0.23401035 0.22620305 0.22861376]\n"
     ]
    },
    {
     "name": "stderr",
     "output_type": "stream",
     "text": [
      "T: no, put red blocks on blue blocks\n"
     ]
    },
    {
     "name": "stdout",
     "output_type": "stream",
     "text": [
      "(forall (?x) (or (not (red ?x)) (exists (?y) (and (blue ?y) (on ?x ?y)))))\n",
      "[0.59399879 0.59255267 0.56433383]\n"
     ]
    },
    {
     "name": "stderr",
     "output_type": "stream",
     "text": [
      "T: no, put red blocks on blue blocks\n"
     ]
    },
    {
     "name": "stdout",
     "output_type": "stream",
     "text": [
      "(forall (?x) (or (not (red ?x)) (exists (?y) (and (blue ?y) (on ?x ?y)))))\n",
      "[0.22237202 0.2149226  0.21711882]\n"
     ]
    },
    {
     "name": "stderr",
     "output_type": "stream",
     "text": [
      "T: no, put red blocks on blue blocks\n"
     ]
    },
    {
     "name": "stdout",
     "output_type": "stream",
     "text": [
      "(forall (?x) (or (not (red ?x)) (exists (?y) (and (blue ?y) (on ?x ?y)))))\n",
      "[0.59399879 0.59255267 0.56433383]\n"
     ]
    },
    {
     "name": "stderr",
     "output_type": "stream",
     "text": [
      "T: no, put red blocks on blue blocks\n"
     ]
    },
    {
     "name": "stdout",
     "output_type": "stream",
     "text": [
      "(forall (?x) (or (not (red ?x)) (exists (?y) (and (blue ?y) (on ?x ?y)))))\n"
     ]
    },
    {
     "name": "stderr",
     "output_type": "stream",
     "text": [
      "T: no, put red blocks on blue blocks\n"
     ]
    },
    {
     "name": "stdout",
     "output_type": "stream",
     "text": [
      "(forall (?x) (or (not (red ?x)) (exists (?y) (and (blue ?y) (on ?x ?y)))))\n",
      "[0.59399879 0.59255267 0.56433383]\n"
     ]
    },
    {
     "name": "stderr",
     "output_type": "stream",
     "text": [
      "T: no, put red blocks on blue blocks\n"
     ]
    },
    {
     "name": "stdout",
     "output_type": "stream",
     "text": [
      "(forall (?x) (or (not (red ?x)) (exists (?y) (and (blue ?y) (on ?x ?y)))))\n"
     ]
    },
    {
     "name": "stderr",
     "output_type": "stream",
     "text": [
      "T: no, put green blocks on maroon blocks\n"
     ]
    },
    {
     "name": "stdout",
     "output_type": "stream",
     "text": [
      "(forall (?x) (or (not (green ?x)) (exists (?y) (and (maroon ?y) (on ?x ?y)))))\n",
      "[0.48512876 0.49386937 0.4783265 ]\n"
     ]
    },
    {
     "name": "stderr",
     "output_type": "stream",
     "text": [
      "T: no, put red blocks on blue blocks\n"
     ]
    },
    {
     "name": "stdout",
     "output_type": "stream",
     "text": [
      "(forall (?x) (or (not (red ?x)) (exists (?y) (and (blue ?y) (on ?x ?y)))))\n"
     ]
    },
    {
     "name": "stderr",
     "output_type": "stream",
     "text": [
      "T: no, put red blocks on blue blocks\n"
     ]
    },
    {
     "name": "stdout",
     "output_type": "stream",
     "text": [
      "(forall (?x) (or (not (red ?x)) (exists (?y) (and (blue ?y) (on ?x ?y)))))\n",
      "problem24.pddl reward: -30\n",
      "Parsing domain blocks-domain.pddl\n",
      "Parsing problem maroon/problem25.pddl\n"
     ]
    },
    {
     "name": "stderr",
     "output_type": "stream",
     "text": [
      "T: No, now you cannot put b0 in the tower because you must put red blocks on blue blocks\n"
     ]
    },
    {
     "name": "stdout",
     "output_type": "stream",
     "text": [
      "[0.22236453 0.21490532 0.21716837]\n",
      "[0.52412409 0.55323279 0.52041884]\n",
      "[0.21765785 0.20484863 0.20715204]\n",
      "[0.52416739 0.55313748 0.52038475]\n"
     ]
    },
    {
     "name": "stderr",
     "output_type": "stream",
     "text": [
      "T: No, now you cannot put b0 in the tower because you must put red blocks on blue blocks\n"
     ]
    },
    {
     "name": "stdout",
     "output_type": "stream",
     "text": [
      "[0.21765785 0.20484863 0.20715204]\n"
     ]
    },
    {
     "name": "stderr",
     "output_type": "stream",
     "text": [
      "T: No, now you cannot put b0 in the tower because you must put red blocks on blue blocks\n"
     ]
    },
    {
     "name": "stdout",
     "output_type": "stream",
     "text": [
      "[0.21765785 0.20484863 0.20715204]\n"
     ]
    },
    {
     "name": "stderr",
     "output_type": "stream",
     "text": [
      "T: No, now you cannot put b0 in the tower because you must put red blocks on blue blocks\n"
     ]
    },
    {
     "name": "stdout",
     "output_type": "stream",
     "text": [
      "[0.21765785 0.20484863 0.20715204]\n"
     ]
    },
    {
     "name": "stderr",
     "output_type": "stream",
     "text": [
      "T: No, now you cannot put b0 in the tower because you must put red blocks on blue blocks\n"
     ]
    },
    {
     "name": "stdout",
     "output_type": "stream",
     "text": [
      "[0.21765785 0.20484863 0.20715204]\n",
      "problem25.pddl reward: -20\n",
      "Parsing domain blocks-domain.pddl\n",
      "Parsing problem maroon/problem26.pddl\n",
      "problem26.pddl reward: -10\n",
      "Parsing domain blocks-domain.pddl\n",
      "Parsing problem maroon/problem27.pddl\n"
     ]
    },
    {
     "name": "stderr",
     "output_type": "stream",
     "text": [
      "T: no, put red blocks on blue blocks\n"
     ]
    },
    {
     "name": "stdout",
     "output_type": "stream",
     "text": [
      "(forall (?x) (or (not (red ?x)) (exists (?y) (and (blue ?y) (on ?x ?y)))))\n",
      "[0.20913959 0.19611451 0.19843874]\n",
      "[0.52174374 0.55021899 0.51723718]\n",
      "problem27.pddl reward: -12\n",
      "Parsing domain blocks-domain.pddl\n",
      "Parsing problem maroon/problem28.pddl\n"
     ]
    },
    {
     "name": "stderr",
     "output_type": "stream",
     "text": [
      "T: no, put red blocks on blue blocks\n"
     ]
    },
    {
     "name": "stdout",
     "output_type": "stream",
     "text": [
      "(forall (?x) (or (not (red ?x)) (exists (?y) (and (blue ?y) (on ?x ?y)))))\n",
      "[0.20194603 0.18761307 0.19074272]\n",
      "[0.52214434 0.54989024 0.51630783]\n"
     ]
    },
    {
     "name": "stderr",
     "output_type": "stream",
     "text": [
      "T: no, put red blocks on blue blocks\n",
      "T: no, put red blocks on blue blocks\n"
     ]
    },
    {
     "name": "stdout",
     "output_type": "stream",
     "text": [
      "(forall (?x) (or (not (red ?x)) (exists (?y) (and (blue ?y) (on ?x ?y)))))\n",
      "[0.5221081  0.54983902 0.51625778]\n",
      "(forall (?x) (or (not (red ?x)) (exists (?y) (and (blue ?y) (on ?x ?y)))))\n"
     ]
    },
    {
     "name": "stderr",
     "output_type": "stream",
     "text": [
      "T: no, put red blocks on blue blocks\n"
     ]
    },
    {
     "name": "stdout",
     "output_type": "stream",
     "text": [
      "[0.52210839 0.54983835 0.51625755]\n",
      "(forall (?x) (or (not (red ?x)) (exists (?y) (and (blue ?y) (on ?x ?y)))))\n",
      "[0.52210839 0.54983835 0.51625754]\n"
     ]
    },
    {
     "name": "stderr",
     "output_type": "stream",
     "text": [
      "T: no, put red blocks on blue blocks\n"
     ]
    },
    {
     "name": "stdout",
     "output_type": "stream",
     "text": [
      "(forall (?x) (or (not (red ?x)) (exists (?y) (and (blue ?y) (on ?x ?y)))))\n",
      "[0.52210839 0.54983835 0.51625754]\n"
     ]
    },
    {
     "name": "stderr",
     "output_type": "stream",
     "text": [
      "T: no, put red blocks on blue blocks\n"
     ]
    },
    {
     "name": "stdout",
     "output_type": "stream",
     "text": [
      "(forall (?x) (or (not (red ?x)) (exists (?y) (and (blue ?y) (on ?x ?y)))))\n",
      "[0.52210839 0.54983835 0.51625754]\n",
      "problem28.pddl reward: -22\n",
      "Parsing domain blocks-domain.pddl\n",
      "Parsing problem maroon/problem29.pddl\n",
      "problem29.pddl reward: -10\n",
      "Parsing domain blocks-domain.pddl\n",
      "Parsing problem maroon/problem3.pddl\n"
     ]
    },
    {
     "name": "stderr",
     "output_type": "stream",
     "text": [
      "T: No, now you cannot put b1 in the tower because you must put red blocks on blue blocks\n"
     ]
    },
    {
     "name": "stdout",
     "output_type": "stream",
     "text": [
      "[0.20194577 0.18761253 0.19074461]\n",
      "[0.4664903  0.49171831 0.4678889 ]\n",
      "[0.19806595 0.17989488 0.18305229]\n",
      "[0.46649203 0.49171534 0.46788846]\n"
     ]
    },
    {
     "name": "stderr",
     "output_type": "stream",
     "text": [
      "T: No, now you cannot put b1 in the tower because you must put red blocks on blue blocks\n"
     ]
    },
    {
     "name": "stdout",
     "output_type": "stream",
     "text": [
      "[0.19806595 0.17989488 0.18305229]\n"
     ]
    },
    {
     "name": "stderr",
     "output_type": "stream",
     "text": [
      "T: No, now you cannot put b1 in the tower because you must put red blocks on blue blocks\n"
     ]
    },
    {
     "name": "stdout",
     "output_type": "stream",
     "text": [
      "[0.19806595 0.17989488 0.18305229]\n"
     ]
    },
    {
     "name": "stderr",
     "output_type": "stream",
     "text": [
      "T: No, now you cannot put b1 in the tower because you must put red blocks on blue blocks\n"
     ]
    },
    {
     "name": "stdout",
     "output_type": "stream",
     "text": [
      "[0.19806595 0.17989488 0.18305229]\n"
     ]
    },
    {
     "name": "stderr",
     "output_type": "stream",
     "text": [
      "T: No, now you cannot put b1 in the tower because you must put red blocks on blue blocks\n"
     ]
    },
    {
     "name": "stdout",
     "output_type": "stream",
     "text": [
      "[0.19806595 0.17989488 0.18305229]\n"
     ]
    },
    {
     "name": "stderr",
     "output_type": "stream",
     "text": [
      "T: No, now you cannot put b1 in the tower because you must put red blocks on blue blocks\n"
     ]
    },
    {
     "name": "stdout",
     "output_type": "stream",
     "text": [
      "[0.19806595 0.17989488 0.18305229]\n",
      "problem3.pddl reward: -22\n",
      "Parsing domain blocks-domain.pddl\n",
      "Parsing problem maroon/problem30.pddl\n"
     ]
    },
    {
     "name": "stderr",
     "output_type": "stream",
     "text": [
      "T: no, put green blocks on maroon blocks\n"
     ]
    },
    {
     "name": "stdout",
     "output_type": "stream",
     "text": [
      "(forall (?x) (or (not (green ?x)) (exists (?y) (and (maroon ?y) (on ?x ?y)))))\n",
      "[0.46015824 0.45608512 0.443835  ]\n",
      "[0.72750683 0.74816588 0.74515718]\n"
     ]
    },
    {
     "name": "stderr",
     "output_type": "stream",
     "text": [
      "T: no, put green blocks on maroon blocks\n"
     ]
    },
    {
     "name": "stdout",
     "output_type": "stream",
     "text": [
      "(forall (?x) (or (not (green ?x)) (exists (?y) (and (maroon ?y) (on ?x ?y)))))\n",
      "[0.71783255 0.73917131 0.7393248 ]\n"
     ]
    },
    {
     "name": "stderr",
     "output_type": "stream",
     "text": [
      "T: no, put green blocks on maroon blocks\n"
     ]
    },
    {
     "name": "stdout",
     "output_type": "stream",
     "text": [
      "(forall (?x) (or (not (green ?x)) (exists (?y) (and (maroon ?y) (on ?x ?y)))))\n",
      "[0.71675692 0.73738618 0.73872243]\n"
     ]
    },
    {
     "name": "stderr",
     "output_type": "stream",
     "text": [
      "T: No, now you cannot put b2 in the tower because you must put red blocks on blue blocks\n"
     ]
    },
    {
     "name": "stdout",
     "output_type": "stream",
     "text": [
      "[0.19762784 0.18013405 0.18223587]\n",
      "[0.19158654 0.17381717 0.17595089]\n",
      "[0.4622729  0.48691849 0.46708748]\n",
      "problem30.pddl reward: -18\n",
      "Parsing domain blocks-domain.pddl\n",
      "Parsing problem maroon/problem31.pddl\n"
     ]
    },
    {
     "name": "stderr",
     "output_type": "stream",
     "text": [
      "T: no, put red blocks on blue blocks\n"
     ]
    },
    {
     "name": "stdout",
     "output_type": "stream",
     "text": [
      "(forall (?x) (or (not (red ?x)) (exists (?y) (and (blue ?y) (on ?x ?y)))))\n",
      "[0.18519375 0.16721861 0.1693759 ]\n"
     ]
    },
    {
     "name": "stderr",
     "output_type": "stream",
     "text": [
      "T: no, put green blocks on maroon blocks\n"
     ]
    },
    {
     "name": "stdout",
     "output_type": "stream",
     "text": [
      "(forall (?x) (or (not (green ?x)) (exists (?y) (and (maroon ?y) (on ?x ?y)))))\n",
      "[0.42523309 0.41899677 0.40821317]\n",
      "[0.70536752 0.71922638 0.72561921]\n",
      "problem31.pddl reward: -14\n",
      "Parsing domain blocks-domain.pddl\n",
      "Parsing problem maroon/problem32.pddl\n"
     ]
    },
    {
     "name": "stderr",
     "output_type": "stream",
     "text": [
      "T: no, put red blocks on blue blocks\n"
     ]
    },
    {
     "name": "stdout",
     "output_type": "stream",
     "text": [
      "(forall (?x) (or (not (red ?x)) (exists (?y) (and (blue ?y) (on ?x ?y)))))\n",
      "[0.17876026 0.16110093 0.16327137]\n",
      "problem32.pddl reward: -12\n",
      "Parsing domain blocks-domain.pddl\n",
      "Parsing problem maroon/problem33.pddl\n",
      "problem33.pddl reward: -10\n",
      "Parsing domain blocks-domain.pddl\n",
      "Parsing problem maroon/problem34.pddl\n"
     ]
    },
    {
     "name": "stderr",
     "output_type": "stream",
     "text": [
      "T: no, put red blocks on blue blocks\n"
     ]
    },
    {
     "name": "stdout",
     "output_type": "stream",
     "text": [
      "(forall (?x) (or (not (red ?x)) (exists (?y) (and (blue ?y) (on ?x ?y)))))\n",
      "[0.17254543 0.15562876 0.15764911]\n",
      "[0.46114459 0.48563842 0.46564213]\n"
     ]
    },
    {
     "name": "stderr",
     "output_type": "stream",
     "text": [
      "T: no, put red blocks on blue blocks\n"
     ]
    },
    {
     "name": "stdout",
     "output_type": "stream",
     "text": [
      "(forall (?x) (or (not (red ?x)) (exists (?y) (and (blue ?y) (on ?x ?y)))))\n",
      "[0.46112082 0.48559764 0.4656048 ]\n"
     ]
    },
    {
     "name": "stderr",
     "output_type": "stream",
     "text": [
      "T: no, put red blocks on blue blocks\n"
     ]
    },
    {
     "name": "stdout",
     "output_type": "stream",
     "text": [
      "(forall (?x) (or (not (red ?x)) (exists (?y) (and (blue ?y) (on ?x ?y)))))\n",
      "[0.46112093 0.4855975  0.46560458]\n"
     ]
    },
    {
     "name": "stderr",
     "output_type": "stream",
     "text": [
      "T: no, put red blocks on blue blocks\n"
     ]
    },
    {
     "name": "stdout",
     "output_type": "stream",
     "text": [
      "(forall (?x) (or (not (red ?x)) (exists (?y) (and (blue ?y) (on ?x ?y)))))\n",
      "[0.46112093 0.4855975  0.46560458]\n"
     ]
    },
    {
     "name": "stderr",
     "output_type": "stream",
     "text": [
      "T: no, put red blocks on blue blocks\n"
     ]
    },
    {
     "name": "stdout",
     "output_type": "stream",
     "text": [
      "(forall (?x) (or (not (red ?x)) (exists (?y) (and (blue ?y) (on ?x ?y)))))\n",
      "[0.46112093 0.4855975  0.46560458]\n"
     ]
    },
    {
     "name": "stderr",
     "output_type": "stream",
     "text": [
      "T: no, put red blocks on blue blocks\n"
     ]
    },
    {
     "name": "stdout",
     "output_type": "stream",
     "text": [
      "(forall (?x) (or (not (red ?x)) (exists (?y) (and (blue ?y) (on ?x ?y)))))\n",
      "[0.16805376 0.15038052 0.153105  ]\n",
      "problem34.pddl reward: -22\n",
      "Parsing domain blocks-domain.pddl\n",
      "Parsing problem maroon/problem35.pddl\n"
     ]
    },
    {
     "name": "stderr",
     "output_type": "stream",
     "text": [
      "T: no, put red blocks on blue blocks\n"
     ]
    },
    {
     "name": "stdout",
     "output_type": "stream",
     "text": [
      "(forall (?x) (or (not (red ?x)) (exists (?y) (and (blue ?y) (on ?x ?y)))))\n",
      "[0.16327533 0.14544089 0.14818041]\n"
     ]
    },
    {
     "name": "stderr",
     "output_type": "stream",
     "text": [
      "T: no, put red blocks on blue blocks\n"
     ]
    },
    {
     "name": "stdout",
     "output_type": "stream",
     "text": [
      "(forall (?x) (or (not (red ?x)) (exists (?y) (and (blue ?y) (on ?x ?y)))))\n",
      "[0.46112093 0.4855975  0.46560458]\n"
     ]
    },
    {
     "name": "stderr",
     "output_type": "stream",
     "text": [
      "T: no, put red blocks on blue blocks\n"
     ]
    },
    {
     "name": "stdout",
     "output_type": "stream",
     "text": [
      "(forall (?x) (or (not (red ?x)) (exists (?y) (and (blue ?y) (on ?x ?y)))))\n",
      "[0.15876522 0.14083343 0.14357953]\n",
      "[0.4612237  0.48560293 0.46542089]\n"
     ]
    },
    {
     "name": "stderr",
     "output_type": "stream",
     "text": [
      "T: no, put red blocks on blue blocks\n"
     ]
    },
    {
     "name": "stdout",
     "output_type": "stream",
     "text": [
      "(forall (?x) (or (not (red ?x)) (exists (?y) (and (blue ?y) (on ?x ?y)))))\n",
      "[0.46122477 0.48560067 0.4654187 ]\n"
     ]
    },
    {
     "name": "stderr",
     "output_type": "stream",
     "text": [
      "T: no, put red blocks on blue blocks\n"
     ]
    },
    {
     "name": "stdout",
     "output_type": "stream",
     "text": [
      "(forall (?x) (or (not (red ?x)) (exists (?y) (and (blue ?y) (on ?x ?y)))))\n",
      "[0.46122472 0.48560061 0.46541862]\n"
     ]
    },
    {
     "name": "stderr",
     "output_type": "stream",
     "text": [
      "T: no, put red blocks on blue blocks\n"
     ]
    },
    {
     "name": "stdout",
     "output_type": "stream",
     "text": [
      "(forall (?x) (or (not (red ?x)) (exists (?y) (and (blue ?y) (on ?x ?y)))))\n",
      "[0.46122472 0.48560061 0.46541862]\n",
      "problem35.pddl reward: -22\n",
      "Parsing domain blocks-domain.pddl\n",
      "Parsing problem maroon/problem36.pddl\n"
     ]
    },
    {
     "name": "stderr",
     "output_type": "stream",
     "text": [
      "T: no, put red blocks on blue blocks\n"
     ]
    },
    {
     "name": "stdout",
     "output_type": "stream",
     "text": [
      "(forall (?x) (or (not (red ?x)) (exists (?y) (and (blue ?y) (on ?x ?y)))))\n",
      "[0.15422994 0.1365931  0.13933897]\n",
      "[0.4603834  0.48455978 0.46422184]\n"
     ]
    },
    {
     "name": "stderr",
     "output_type": "stream",
     "text": [
      "T: no, put red blocks on blue blocks\n"
     ]
    },
    {
     "name": "stdout",
     "output_type": "stream",
     "text": [
      "(forall (?x) (or (not (red ?x)) (exists (?y) (and (blue ?y) (on ?x ?y)))))\n",
      "[0.15016962 0.13250558 0.13524564]\n"
     ]
    },
    {
     "name": "stderr",
     "output_type": "stream",
     "text": [
      "T: no, put red blocks on blue blocks\n"
     ]
    },
    {
     "name": "stdout",
     "output_type": "stream",
     "text": [
      "(forall (?x) (or (not (red ?x)) (exists (?y) (and (blue ?y) (on ?x ?y)))))\n",
      "[0.46038487 0.4845574  0.46422137]\n"
     ]
    },
    {
     "name": "stderr",
     "output_type": "stream",
     "text": [
      "T: no, put red blocks on blue blocks\n"
     ]
    },
    {
     "name": "stdout",
     "output_type": "stream",
     "text": [
      "(forall (?x) (or (not (red ?x)) (exists (?y) (and (blue ?y) (on ?x ?y)))))\n"
     ]
    },
    {
     "name": "stderr",
     "output_type": "stream",
     "text": [
      "T: no, put green blocks on maroon blocks\n"
     ]
    },
    {
     "name": "stdout",
     "output_type": "stream",
     "text": [
      "(forall (?x) (or (not (green ?x)) (exists (?y) (and (maroon ?y) (on ?x ?y)))))\n",
      "[0.39410991 0.39570402 0.38086934]\n"
     ]
    },
    {
     "name": "stderr",
     "output_type": "stream",
     "text": [
      "T: no, put red blocks on blue blocks\n"
     ]
    },
    {
     "name": "stdout",
     "output_type": "stream",
     "text": [
      "(forall (?x) (or (not (red ?x)) (exists (?y) (and (blue ?y) (on ?x ?y)))))\n",
      "[0.46038488 0.48455738 0.46422135]\n"
     ]
    },
    {
     "name": "stderr",
     "output_type": "stream",
     "text": [
      "T: no, put red blocks on blue blocks\n"
     ]
    },
    {
     "name": "stdout",
     "output_type": "stream",
     "text": [
      "(forall (?x) (or (not (red ?x)) (exists (?y) (and (blue ?y) (on ?x ?y)))))\n"
     ]
    },
    {
     "name": "stderr",
     "output_type": "stream",
     "text": [
      "T: no, put green blocks on maroon blocks\n"
     ]
    },
    {
     "name": "stdout",
     "output_type": "stream",
     "text": [
      "(forall (?x) (or (not (green ?x)) (exists (?y) (and (maroon ?y) (on ?x ?y)))))\n"
     ]
    },
    {
     "name": "stderr",
     "output_type": "stream",
     "text": [
      "T: no, put red blocks on blue blocks\n"
     ]
    },
    {
     "name": "stdout",
     "output_type": "stream",
     "text": [
      "(forall (?x) (or (not (red ?x)) (exists (?y) (and (blue ?y) (on ?x ?y)))))\n"
     ]
    },
    {
     "name": "stderr",
     "output_type": "stream",
     "text": [
      "T: no, put green blocks on maroon blocks\n"
     ]
    },
    {
     "name": "stdout",
     "output_type": "stream",
     "text": [
      "(forall (?x) (or (not (green ?x)) (exists (?y) (and (maroon ?y) (on ?x ?y)))))\n"
     ]
    },
    {
     "name": "stderr",
     "output_type": "stream",
     "text": [
      "T: no, put red blocks on blue blocks\n"
     ]
    },
    {
     "name": "stdout",
     "output_type": "stream",
     "text": [
      "(forall (?x) (or (not (red ?x)) (exists (?y) (and (blue ?y) (on ?x ?y)))))\n",
      "[0.46038488 0.48455738 0.46422135]\n"
     ]
    },
    {
     "name": "stderr",
     "output_type": "stream",
     "text": [
      "T: no, put green blocks on maroon blocks\n"
     ]
    },
    {
     "name": "stdout",
     "output_type": "stream",
     "text": [
      "(forall (?x) (or (not (green ?x)) (exists (?y) (and (maroon ?y) (on ?x ?y)))))\n"
     ]
    },
    {
     "name": "stderr",
     "output_type": "stream",
     "text": [
      "T: no, put red blocks on blue blocks\n"
     ]
    },
    {
     "name": "stdout",
     "output_type": "stream",
     "text": [
      "(forall (?x) (or (not (red ?x)) (exists (?y) (and (blue ?y) (on ?x ?y)))))\n",
      "[0.46038488 0.48455738 0.46422135]\n"
     ]
    },
    {
     "name": "stderr",
     "output_type": "stream",
     "text": [
      "T: no, put green blocks on maroon blocks\n"
     ]
    },
    {
     "name": "stdout",
     "output_type": "stream",
     "text": [
      "(forall (?x) (or (not (green ?x)) (exists (?y) (and (maroon ?y) (on ?x ?y)))))\n",
      "problem36.pddl reward: -38\n",
      "Parsing domain blocks-domain.pddl\n",
      "Parsing problem maroon/problem37.pddl\n"
     ]
    },
    {
     "name": "stderr",
     "output_type": "stream",
     "text": [
      "T: no, put red blocks on blue blocks\n"
     ]
    },
    {
     "name": "stdout",
     "output_type": "stream",
     "text": [
      "(forall (?x) (or (not (red ?x)) (exists (?y) (and (blue ?y) (on ?x ?y)))))\n",
      "[0.14631995 0.12866621 0.13139587]\n",
      "[0.46046102 0.48455202 0.46405135]\n"
     ]
    },
    {
     "name": "stderr",
     "output_type": "stream",
     "text": [
      "T: no, put red blocks on blue blocks\n"
     ]
    },
    {
     "name": "stdout",
     "output_type": "stream",
     "text": [
      "(forall (?x) (or (not (red ?x)) (exists (?y) (and (blue ?y) (on ?x ?y)))))\n",
      "[0.46046115 0.48455203 0.4640513 ]\n"
     ]
    },
    {
     "name": "stderr",
     "output_type": "stream",
     "text": [
      "T: no, put red blocks on blue blocks\n"
     ]
    },
    {
     "name": "stdout",
     "output_type": "stream",
     "text": [
      "(forall (?x) (or (not (red ?x)) (exists (?y) (and (blue ?y) (on ?x ?y)))))\n",
      "[0.1457599  0.12544546 0.12816277]\n"
     ]
    },
    {
     "name": "stderr",
     "output_type": "stream",
     "text": [
      "T: No, now you cannot put b1 in the tower because you must put green blocks on maroon blocks\n",
      "R: Is the top object green?\n",
      "T: no\n"
     ]
    },
    {
     "name": "stdout",
     "output_type": "stream",
     "text": [
      "[0.39410991 0.39570402 0.38086934]\n",
      "[0.36198823 0.36994595 0.35205797]\n",
      "[0.70536752 0.71922638 0.72561921]\n"
     ]
    },
    {
     "name": "stderr",
     "output_type": "stream",
     "text": [
      "T: no, put red blocks on blue blocks\n"
     ]
    },
    {
     "name": "stdout",
     "output_type": "stream",
     "text": [
      "(forall (?x) (or (not (red ?x)) (exists (?y) (and (blue ?y) (on ?x ?y)))))\n"
     ]
    },
    {
     "name": "stderr",
     "output_type": "stream",
     "text": [
      "T: no, put red blocks on blue blocks\n"
     ]
    },
    {
     "name": "stdout",
     "output_type": "stream",
     "text": [
      "(forall (?x) (or (not (red ?x)) (exists (?y) (and (blue ?y) (on ?x ?y)))))\n",
      "problem37.pddl reward: -22\n",
      "Parsing domain blocks-domain.pddl\n",
      "Parsing problem maroon/problem38.pddl\n"
     ]
    },
    {
     "name": "stderr",
     "output_type": "stream",
     "text": [
      "T: no, put red blocks on blue blocks\n"
     ]
    },
    {
     "name": "stdout",
     "output_type": "stream",
     "text": [
      "(forall (?x) (or (not (red ?x)) (exists (?y) (and (blue ?y) (on ?x ?y)))))\n",
      "[0.14228292 0.12199922 0.12469967]\n",
      "[0.46055821 0.48449735 0.46385692]\n"
     ]
    },
    {
     "name": "stderr",
     "output_type": "stream",
     "text": [
      "T: no, put red blocks on blue blocks\n"
     ]
    },
    {
     "name": "stdout",
     "output_type": "stream",
     "text": [
      "(forall (?x) (or (not (red ?x)) (exists (?y) (and (blue ?y) (on ?x ?y)))))\n",
      "[0.46055551 0.48449276 0.46385272]\n"
     ]
    },
    {
     "name": "stderr",
     "output_type": "stream",
     "text": [
      "T: no, put red blocks on blue blocks\n"
     ]
    },
    {
     "name": "stdout",
     "output_type": "stream",
     "text": [
      "(forall (?x) (or (not (red ?x)) (exists (?y) (and (blue ?y) (on ?x ?y)))))\n",
      "[0.46055552 0.48449273 0.4638527 ]\n"
     ]
    },
    {
     "name": "stderr",
     "output_type": "stream",
     "text": [
      "T: no, put red blocks on blue blocks\n",
      "T: no, put red blocks on blue blocks\n"
     ]
    },
    {
     "name": "stdout",
     "output_type": "stream",
     "text": [
      "(forall (?x) (or (not (red ?x)) (exists (?y) (and (blue ?y) (on ?x ?y)))))\n",
      "[0.46055552 0.48449273 0.4638527 ]\n",
      "(forall (?x) (or (not (red ?x)) (exists (?y) (and (blue ?y) (on ?x ?y)))))\n",
      "[0.46055552 0.48449273 0.4638527 ]\n"
     ]
    },
    {
     "name": "stderr",
     "output_type": "stream",
     "text": [
      "T: no, put red blocks on blue blocks\n"
     ]
    },
    {
     "name": "stdout",
     "output_type": "stream",
     "text": [
      "(forall (?x) (or (not (red ?x)) (exists (?y) (and (blue ?y) (on ?x ?y)))))\n",
      "[0.46055552 0.48449273 0.4638527 ]\n",
      "problem38.pddl reward: -22\n",
      "Parsing domain blocks-domain.pddl\n",
      "Parsing problem maroon/problem39.pddl\n",
      "problem39.pddl reward: -10\n",
      "Parsing domain blocks-domain.pddl\n",
      "Parsing problem maroon/problem4.pddl\n",
      "problem4.pddl reward: -10\n",
      "Parsing domain blocks-domain.pddl\n",
      "Parsing problem maroon/problem40.pddl\n",
      "problem40.pddl reward: -10\n",
      "Parsing domain blocks-domain.pddl\n",
      "Parsing problem maroon/problem41.pddl\n"
     ]
    },
    {
     "name": "stderr",
     "output_type": "stream",
     "text": [
      "T: no, put red blocks on blue blocks\n"
     ]
    },
    {
     "name": "stdout",
     "output_type": "stream",
     "text": [
      "(forall (?x) (or (not (red ?x)) (exists (?y) (and (blue ?y) (on ?x ?y)))))\n",
      "[0.13902035 0.11879557 0.12147703]\n",
      "[0.45977399 0.48337077 0.46290281]\n",
      "problem41.pddl reward: -12\n",
      "Parsing domain blocks-domain.pddl\n",
      "Parsing problem maroon/problem42.pddl\n",
      "problem42.pddl reward: -10\n",
      "Parsing domain blocks-domain.pddl\n",
      "Parsing problem maroon/problem43.pddl\n",
      "problem43.pddl reward: -10\n",
      "Parsing domain blocks-domain.pddl\n",
      "Parsing problem maroon/problem44.pddl\n"
     ]
    },
    {
     "name": "stderr",
     "output_type": "stream",
     "text": [
      "T: No, now you cannot put b5 in the tower because you must put red blocks on blue blocks\n"
     ]
    },
    {
     "name": "stdout",
     "output_type": "stream",
     "text": [
      "[0.13902035 0.11879557 0.12147703]\n",
      "[0.41612918 0.43808713 0.42382037]\n",
      "[0.13555926 0.11568727 0.11834728]\n",
      "[0.41612918 0.43808713 0.42382037]\n",
      "problem44.pddl reward: -12\n",
      "Parsing domain blocks-domain.pddl\n",
      "Parsing problem maroon/problem45.pddl\n"
     ]
    },
    {
     "name": "stderr",
     "output_type": "stream",
     "text": [
      "T: no, put red blocks on blue blocks\n"
     ]
    },
    {
     "name": "stdout",
     "output_type": "stream",
     "text": [
      "(forall (?x) (or (not (red ?x)) (exists (?y) (and (blue ?y) (on ?x ?y)))))\n",
      "[0.1322758  0.11274734 0.11538433]\n",
      "[0.4162127  0.43797081 0.42371504]\n"
     ]
    },
    {
     "name": "stderr",
     "output_type": "stream",
     "text": [
      "T: no, put red blocks on blue blocks\n"
     ]
    },
    {
     "name": "stdout",
     "output_type": "stream",
     "text": [
      "(forall (?x) (or (not (red ?x)) (exists (?y) (and (blue ?y) (on ?x ?y)))))\n",
      "[0.41621281 0.43797064 0.42371505]\n"
     ]
    },
    {
     "name": "stderr",
     "output_type": "stream",
     "text": [
      "T: no, put red blocks on blue blocks\n"
     ]
    },
    {
     "name": "stdout",
     "output_type": "stream",
     "text": [
      "(forall (?x) (or (not (red ?x)) (exists (?y) (and (blue ?y) (on ?x ?y)))))\n",
      "[0.41621281 0.43797064 0.42371505]\n"
     ]
    },
    {
     "name": "stderr",
     "output_type": "stream",
     "text": [
      "T: no, put red blocks on blue blocks\n"
     ]
    },
    {
     "name": "stdout",
     "output_type": "stream",
     "text": [
      "(forall (?x) (or (not (red ?x)) (exists (?y) (and (blue ?y) (on ?x ?y)))))\n",
      "[0.41621281 0.43797064 0.42371505]\n",
      "problem45.pddl reward: -18\n",
      "Parsing domain blocks-domain.pddl\n",
      "Parsing problem maroon/problem46.pddl\n"
     ]
    },
    {
     "name": "stderr",
     "output_type": "stream",
     "text": [
      "T: No, now you cannot put b2 in the tower because you must put red blocks on blue blocks\n"
     ]
    },
    {
     "name": "stdout",
     "output_type": "stream",
     "text": [
      "[0.1322758  0.11274734 0.11538433]\n",
      "[0.382438   0.41448702 0.3953949 ]\n",
      "[0.13017021 0.10991469 0.11319686]\n",
      "[0.382438   0.41448702 0.3953949 ]\n",
      "problem46.pddl reward: -12\n",
      "Parsing domain blocks-domain.pddl\n",
      "Parsing problem maroon/problem47.pddl\n"
     ]
    },
    {
     "name": "stderr",
     "output_type": "stream",
     "text": [
      "T: no, put green blocks on maroon blocks\n"
     ]
    },
    {
     "name": "stdout",
     "output_type": "stream",
     "text": [
      "(forall (?x) (or (not (green ?x)) (exists (?y) (and (maroon ?y) (on ?x ?y)))))\n",
      "[0.33769668 0.34942109 0.3299105 ]\n",
      "[0.69667243 0.7061128  0.7122164 ]\n"
     ]
    },
    {
     "name": "stderr",
     "output_type": "stream",
     "text": [
      "T: No, now you cannot put b0 in the tower because you must put red blocks on blue blocks\n"
     ]
    },
    {
     "name": "stdout",
     "output_type": "stream",
     "text": [
      "[0.13017021 0.10991469 0.11319686]\n",
      "[0.12702278 0.10737516 0.11050419]\n",
      "[0.382438   0.41448702 0.3953949 ]\n",
      "problem47.pddl reward: -14\n",
      "Parsing domain blocks-domain.pddl\n",
      "Parsing problem maroon/problem48.pddl\n"
     ]
    },
    {
     "name": "stderr",
     "output_type": "stream",
     "text": [
      "T: No, now you cannot put b2 in the tower because you must put red blocks on blue blocks\n"
     ]
    },
    {
     "name": "stdout",
     "output_type": "stream",
     "text": [
      "[0.12699512 0.10734789 0.1105242 ]\n",
      "[0.35208489 0.38435168 0.37017141]\n",
      "[0.12402829 0.10494814 0.10798229]\n",
      "[0.35203194 0.38407893 0.37016288]\n"
     ]
    },
    {
     "name": "stderr",
     "output_type": "stream",
     "text": [
      "T: No, now you cannot put b2 in the tower because you must put red blocks on blue blocks\n"
     ]
    },
    {
     "name": "stdout",
     "output_type": "stream",
     "text": [
      "[0.12402829 0.10494814 0.10798229]\n"
     ]
    },
    {
     "name": "stderr",
     "output_type": "stream",
     "text": [
      "T: No, now you cannot put b2 in the tower because you must put red blocks on blue blocks\n"
     ]
    },
    {
     "name": "stdout",
     "output_type": "stream",
     "text": [
      "[0.12402829 0.10494814 0.10798229]\n"
     ]
    },
    {
     "name": "stderr",
     "output_type": "stream",
     "text": [
      "T: No, now you cannot put b2 in the tower because you must put red blocks on blue blocks\n"
     ]
    },
    {
     "name": "stdout",
     "output_type": "stream",
     "text": [
      "[0.12402829 0.10494814 0.10798229]\n",
      "problem48.pddl reward: -18\n",
      "Parsing domain blocks-domain.pddl\n",
      "Parsing problem maroon/problem49.pddl\n",
      "problem49.pddl reward: -10\n",
      "Parsing domain blocks-domain.pddl\n",
      "Parsing problem maroon/problem5.pddl\n",
      "problem5.pddl reward: -10\n",
      "Parsing domain blocks-domain.pddl\n",
      "Parsing problem maroon/problem50.pddl\n",
      "problem50.pddl reward: -10\n",
      "Parsing domain blocks-domain.pddl\n",
      "Parsing problem maroon/problem6.pddl\n",
      "problem6.pddl reward: -10\n",
      "Parsing domain blocks-domain.pddl\n",
      "Parsing problem maroon/problem7.pddl\n",
      "problem7.pddl reward: -10\n",
      "Parsing domain blocks-domain.pddl\n",
      "Parsing problem maroon/problem8.pddl\n"
     ]
    },
    {
     "name": "stderr",
     "output_type": "stream",
     "text": [
      "T: No, now you cannot put b2 in the tower because you must put red blocks on blue blocks\n"
     ]
    },
    {
     "name": "stdout",
     "output_type": "stream",
     "text": [
      "[0.12402829 0.10494814 0.10798229]\n",
      "[0.32751699 0.3653361  0.34494815]\n",
      "[0.12116723 0.10262844 0.10552895]\n",
      "[0.32751699 0.3653361  0.34494815]\n"
     ]
    },
    {
     "name": "stderr",
     "output_type": "stream",
     "text": [
      "T: No, now you cannot put b2 in the tower because you must put red blocks on blue blocks\n"
     ]
    },
    {
     "name": "stdout",
     "output_type": "stream",
     "text": [
      "[0.12116723 0.10262844 0.10552895]\n"
     ]
    },
    {
     "name": "stderr",
     "output_type": "stream",
     "text": [
      "T: No, now you cannot put b2 in the tower because you must put red blocks on blue blocks\n"
     ]
    },
    {
     "name": "stdout",
     "output_type": "stream",
     "text": [
      "[0.12116723 0.10262844 0.10552895]\n",
      "problem8.pddl reward: -16\n",
      "Parsing domain blocks-domain.pddl\n",
      "Parsing problem maroon/problem9.pddl\n"
     ]
    },
    {
     "name": "stderr",
     "output_type": "stream",
     "text": [
      "T: no, put red blocks on blue blocks\n"
     ]
    },
    {
     "name": "stdout",
     "output_type": "stream",
     "text": [
      "(forall (?x) (or (not (red ?x)) (exists (?y) (and (blue ?y) (on ?x ?y)))))\n",
      "[0.11861675 0.100332   0.10321763]\n",
      "problem9.pddl reward: -12\n"
     ]
    }
   ],
   "source": [
    "add_experiment('maroon_update_once_with_negative', None)"
   ]
  },
  {
   "cell_type": "code",
   "execution_count": 37,
   "metadata": {},
   "outputs": [
    {
     "name": "stdout",
     "output_type": "stream",
     "text": [
      "Parsing domain blocks-domain.pddl\n",
      "Parsing problem maroon/problem1.pddl\n",
      "Parsing domain blocks-domain.pddl\n",
      "Parsing problem maroon/problem1.pddl\n"
     ]
    },
    {
     "name": "stderr",
     "output_type": "stream",
     "text": [
      "T: no, put red blocks on blue blocks\n",
      "T: no, put red blocks on blue blocks\n",
      "T: no, put red blocks on blue blocks\n",
      "T: no, put red blocks on blue blocks\n"
     ]
    },
    {
     "name": "stdout",
     "output_type": "stream",
     "text": [
      "(forall (?x) (or (not (red ?x)) (exists (?y) (and (blue ?y) (on ?x ?y)))))\n",
      "(forall (?x) (or (not (red ?x)) (exists (?y) (and (blue ?y) (on ?x ?y)))))\n",
      "(forall (?x) (or (not (red ?x)) (exists (?y) (and (blue ?y) (on ?x ?y)))))\n",
      "(forall (?x) (or (not (red ?x)) (exists (?y) (and (blue ?y) (on ?x ?y)))))\n"
     ]
    },
    {
     "name": "stderr",
     "output_type": "stream",
     "text": [
      "T: no, put red blocks on blue blocks\n",
      "T: no, put red blocks on blue blocks\n"
     ]
    },
    {
     "name": "stdout",
     "output_type": "stream",
     "text": [
      "(forall (?x) (or (not (red ?x)) (exists (?y) (and (blue ?y) (on ?x ?y)))))\n",
      "(forall (?x) (or (not (red ?x)) (exists (?y) (and (blue ?y) (on ?x ?y)))))\n",
      "problem1.pddl reward: -22\n",
      "Parsing domain blocks-domain.pddl\n",
      "Parsing problem"
     ]
    },
    {
     "name": "stderr",
     "output_type": "stream",
     "text": [
      "T: no, put green blocks on maroon blocks\n",
      "T: no, put red blocks on blue blocks\n",
      "T: no, put green blocks on maroon blocks\n",
      "T: no, put red blocks on blue blocks\n"
     ]
    },
    {
     "name": "stdout",
     "output_type": "stream",
     "text": [
      " maroon/problem10.pddl\n",
      "(forall (?x) (or (not (green ?x)) (exists (?y) (and (maroon ?y) (on ?x ?y)))))\n",
      "(forall (?x) (or (not (red ?x)) (exists (?y) (and (blue ?y) (on ?x ?y)))))\n",
      "(forall (?x) (or (not (green ?x)) (exists (?y) (and (maroon ?y) (on ?x ?y)))))\n",
      "(forall (?x) (or (not (red ?x)) (exists (?y) (and (blue ?y) (on ?x ?y)))))\n"
     ]
    },
    {
     "name": "stderr",
     "output_type": "stream",
     "text": [
      "T: no, put green blocks on maroon blocks\n",
      "T: no, put red blocks on blue blocks\n",
      "T: no, put green blocks on maroon blocks\n",
      "T: no, put red blocks on blue blocks\n"
     ]
    },
    {
     "name": "stdout",
     "output_type": "stream",
     "text": [
      "(forall (?x) (or (not (green ?x)) (exists (?y) (and (maroon ?y) (on ?x ?y)))))\n",
      "(forall (?x) (or (not (red ?x)) (exists (?y) (and (blue ?y) (on ?x ?y)))))\n",
      "(forall (?x) (or (not (green ?x)) (exists (?y) (and (maroon ?y) (on ?x ?y)))))\n",
      "(forall (?x) (or (not (red ?x)) (exists (?y) (and (blue ?y) (on ?x ?y)))))\n"
     ]
    },
    {
     "name": "stderr",
     "output_type": "stream",
     "text": [
      "T: no, put green blocks on maroon blocks\n",
      "T: no, put red blocks on blue blocks\n",
      "T: no, put green blocks on maroon blocks\n"
     ]
    },
    {
     "name": "stdout",
     "output_type": "stream",
     "text": [
      "(forall (?x) (or (not (green ?x)) (exists (?y) (and (maroon ?y) (on ?x ?y)))))\n",
      "(forall (?x) (or (not (red ?x)) (exists (?y) (and (blue ?y) (on ?x ?y)))))\n",
      "(forall (?x) (or (not (green ?x)) (exists (?y) (and (maroon ?y) (on ?x ?y)))))\n",
      "problem10.pddl reward: -32\n",
      "Parsing domain blocks-domain.pddl\n",
      "Parsing problem maroon/problem11.pddl\n"
     ]
    },
    {
     "name": "stderr",
     "output_type": "stream",
     "text": [
      "T: no, put red blocks on blue blocks\n"
     ]
    },
    {
     "name": "stdout",
     "output_type": "stream",
     "text": [
      "problem11.pddl reward: -10\n",
      "Parsing domain blocks-domain.pddl\n",
      "Parsing problem maroon/problem12.pddl\n",
      "(forall (?x) (or (not (red ?x)) (exists (?y) (and (blue ?y) (on ?x ?y)))))\n"
     ]
    },
    {
     "name": "stderr",
     "output_type": "stream",
     "text": [
      "T: no, put green blocks on maroon blocks\n",
      "T: no, put green blocks on maroon blocks\n",
      "T: no, put green blocks on maroon blocks\n",
      "T: No, now you cannot put b0 in the tower because you must put red blocks on blue blocks\n"
     ]
    },
    {
     "name": "stdout",
     "output_type": "stream",
     "text": [
      "(forall (?x) (or (not (green ?x)) (exists (?y) (and (maroon ?y) (on ?x ?y)))))\n",
      "(forall (?x) (or (not (green ?x)) (exists (?y) (and (maroon ?y) (on ?x ?y)))))\n",
      "(forall (?x) (or (not (green ?x)) (exists (?y) (and (maroon ?y) (on ?x ?y)))))\n"
     ]
    },
    {
     "name": "stderr",
     "output_type": "stream",
     "text": [
      "T: no, put red blocks on blue blocks\n"
     ]
    },
    {
     "name": "stdout",
     "output_type": "stream",
     "text": [
      "problem12.pddl reward: -20\n",
      "Parsing domain blocks-domain.pddl\n",
      "Parsing problem maroon/problem13.pddl\n",
      "(forall (?x) (or (not (red ?x)) (exists (?y) (and (blue ?y) (on ?x ?y)))))\n"
     ]
    },
    {
     "name": "stderr",
     "output_type": "stream",
     "text": [
      "T: no, put red blocks on blue blocks\n",
      "T: no, put red blocks on blue blocks\n"
     ]
    },
    {
     "name": "stdout",
     "output_type": "stream",
     "text": [
      "problem13.pddl reward: -12\n",
      "Parsing domain blocks-domain.pddl\n",
      "Parsing problem maroon/problem14.pddl\n",
      "(forall (?x) (or (not (red ?x)) (exists (?y) (and (blue ?y) (on ?x ?y)))))\n",
      "(forall (?x) (or (not (red ?x)) (exists (?y) (and (blue ?y) (on ?x ?y)))))\n"
     ]
    },
    {
     "name": "stderr",
     "output_type": "stream",
     "text": [
      "T: no, put red blocks on blue blocks\n",
      "T: no, put red blocks on blue blocks\n",
      "T: no, put red blocks on blue blocks\n",
      "T: no, put red blocks on blue blocks\n"
     ]
    },
    {
     "name": "stdout",
     "output_type": "stream",
     "text": [
      "(forall (?x) (or (not (red ?x)) (exists (?y) (and (blue ?y) (on ?x ?y)))))\n",
      "(forall (?x) (or (not (red ?x)) (exists (?y) (and (blue ?y) (on ?x ?y)))))\n",
      "(forall (?x) (or (not (red ?x)) (exists (?y) (and (blue ?y) (on ?x ?y)))))\n",
      "(forall (?x) (or (not (red ?x)) (exists (?y) (and (blue ?y) (on ?x ?y)))))\n"
     ]
    },
    {
     "name": "stderr",
     "output_type": "stream",
     "text": [
      "T: no, put red blocks on blue blocks\n",
      "T: no, put red blocks on blue blocks\n",
      "T: no, put red blocks on blue blocks\n"
     ]
    },
    {
     "name": "stdout",
     "output_type": "stream",
     "text": [
      "(forall (?x) (or (not (red ?x)) (exists (?y) (and (blue ?y) (on ?x ?y)))))\n",
      "(forall (?x) (or (not (red ?x)) (exists (?y) (and (blue ?y) (on ?x ?y)))))\n",
      "(forall (?x) (or (not (red ?x)) (exists (?y) (and (blue ?y) (on ?x ?y)))))\n",
      "problem14.pddl reward: -28\n",
      "Parsing domain blocks-domain.pddl\n",
      "Parsing problem maroon/problem15.pddl\n",
      "problem15.pddl reward: -10\n",
      "Parsing domain blocks-domain.pddl\n",
      "Parsing problem maroon/problem16.pddl\n"
     ]
    },
    {
     "name": "stderr",
     "output_type": "stream",
     "text": [
      "T: No, now you cannot put b5 in the tower because you must put red blocks on blue blocks\n"
     ]
    },
    {
     "name": "stdout",
     "output_type": "stream",
     "text": [
      "problem16.pddl reward: -10\n",
      "Parsing domain blocks-domain.pddl\n",
      "Parsing problem maroon/problem17.pddl\n"
     ]
    },
    {
     "name": "stderr",
     "output_type": "stream",
     "text": [
      "T: No, now you cannot put b3 in the tower because you must put green blocks on maroon blocks\n",
      "T: No, now you cannot put b3 in the tower because you must put green blocks on maroon blocks\n"
     ]
    },
    {
     "name": "stdout",
     "output_type": "stream",
     "text": [
      "problem17.pddl reward: -16\n",
      "Parsing domain blocks-domain.pddl\n",
      "Parsing problem maroon/problem18.pddl\n"
     ]
    },
    {
     "name": "stderr",
     "output_type": "stream",
     "text": [
      "T: No, now you cannot put b0 in the tower because you must put red blocks on blue blocks\n",
      "T: No, now you cannot put b0 in the tower because you must put red blocks on blue blocks\n"
     ]
    },
    {
     "name": "stdout",
     "output_type": "stream",
     "text": [
      "problem18.pddl reward: -10\n",
      "Parsing domain blocks-domain.pddl\n",
      "Parsing problem maroon/problem19.pddl\n"
     ]
    },
    {
     "name": "stderr",
     "output_type": "stream",
     "text": [
      "T: No, now you cannot put b0 in the tower because you must put red blocks on blue blocks\n",
      "T: No, now you cannot put b0 in the tower because you must put red blocks on blue blocks\n",
      "T: No, now you cannot put b0 in the tower because you must put red blocks on blue blocks\n",
      "T: no, put red blocks on blue blocks\n",
      "T: no, put red blocks on blue blocks\n"
     ]
    },
    {
     "name": "stdout",
     "output_type": "stream",
     "text": [
      "problem19.pddl reward: -20\n",
      "Parsing domain blocks-domain.pddl\n",
      "Parsing problem maroon/problem2.pddl\n",
      "(forall (?x) (or (not (red ?x)) (exists (?y) (and (blue ?y) (on ?x ?y)))))\n",
      "(forall (?x) (or (not (red ?x)) (exists (?y) (and (blue ?y) (on ?x ?y)))))\n"
     ]
    },
    {
     "name": "stderr",
     "output_type": "stream",
     "text": [
      "T: no, put red blocks on blue blocks\n",
      "T: no, put red blocks on blue blocks\n",
      "T: no, put red blocks on blue blocks\n",
      "T: no, put red blocks on blue blocks\n"
     ]
    },
    {
     "name": "stdout",
     "output_type": "stream",
     "text": [
      "(forall (?x) (or (not (red ?x)) (exists (?y) (and (blue ?y) (on ?x ?y)))))\n",
      "(forall (?x) (or (not (red ?x)) (exists (?y) (and (blue ?y) (on ?x ?y)))))\n",
      "(forall (?x) (or (not (red ?x)) (exists (?y) (and (blue ?y) (on ?x ?y)))))\n",
      "(forall (?x) (or (not (red ?x)) (exists (?y) (and (blue ?y) (on ?x ?y)))))\n"
     ]
    },
    {
     "name": "stderr",
     "output_type": "stream",
     "text": [
      "T: no, put red blocks on blue blocks\n",
      "T: no, put red blocks on blue blocks\n",
      "T: no, put red blocks on blue blocks\n",
      "T: no, put red blocks on blue blocks\n"
     ]
    },
    {
     "name": "stdout",
     "output_type": "stream",
     "text": [
      "(forall (?x) (or (not (red ?x)) (exists (?y) (and (blue ?y) (on ?x ?y)))))\n",
      "(forall (?x) (or (not (red ?x)) (exists (?y) (and (blue ?y) (on ?x ?y)))))\n",
      "(forall (?x) (or (not (red ?x)) (exists (?y) (and (blue ?y) (on ?x ?y)))))\n",
      "(forall (?x) (or (not (red ?x)) (exists (?y) (and (blue ?y) (on ?x ?y)))))\n"
     ]
    },
    {
     "name": "stderr",
     "output_type": "stream",
     "text": [
      "T: no, put red blocks on blue blocks\n"
     ]
    },
    {
     "name": "stdout",
     "output_type": "stream",
     "text": [
      "(forall (?x) (or (not (red ?x)) (exists (?y) (and (blue ?y) (on ?x ?y)))))\n",
      "problem2.pddl reward: -32\n",
      "Parsing domain blocks-domain.pddl\n",
      "Parsing problem maroon/problem20.pddl\n"
     ]
    },
    {
     "name": "stderr",
     "output_type": "stream",
     "text": [
      "T: no, put red blocks on blue blocks\n"
     ]
    },
    {
     "name": "stdout",
     "output_type": "stream",
     "text": [
      "(forall (?x) (or (not (red ?x)) (exists (?y) (and (blue ?y) (on ?x ?y)))))\n",
      "problem20.pddl reward: -12\n",
      "Parsing domain blocks-domain.pddl\n",
      "Parsing problem maroon/problem21.pddl\n"
     ]
    },
    {
     "name": "stderr",
     "output_type": "stream",
     "text": [
      "T: No, now you cannot put b2 in the tower because you must put red blocks on blue blocks\n"
     ]
    },
    {
     "name": "stdout",
     "output_type": "stream",
     "text": [
      "problem21.pddl reward: -10\n",
      "Parsing domain blocks-domain.pddl\n",
      "Parsing problem maroon/problem22.pddl\n"
     ]
    },
    {
     "name": "stderr",
     "output_type": "stream",
     "text": [
      "T: No, now you cannot put b2 in the tower because you must put red blocks on blue blocks\n",
      "T: No, now you cannot put b2 in the tower because you must put red blocks on blue blocks\n",
      "T: No, now you cannot put b3 in the tower because you must put green blocks on maroon blocks\n",
      "T: No, now you cannot put b3 in the tower because you must put green blocks on maroon blocks\n",
      "T: No, now you cannot put b3 in the tower because you must put green blocks on maroon blocks\n",
      "T: No, now you cannot put b3 in the tower because you must put green blocks on maroon blocks\n",
      "T: no, put red blocks on blue blocks\n"
     ]
    },
    {
     "name": "stdout",
     "output_type": "stream",
     "text": [
      "(forall (?x) (or (not (red ?x)) (exists (?y) (and (blue ?y) (on ?x ?y)))))\n",
      "problem22.pddl reward: -26\n",
      "Parsing domain blocks-domain.pddl\n",
      "Parsing problem maroon/problem23.pddl\n"
     ]
    },
    {
     "name": "stderr",
     "output_type": "stream",
     "text": [
      "T: no, put red blocks on blue blocks\n",
      "T: no, put red blocks on blue blocks\n",
      "T: no, put red blocks on blue blocks\n"
     ]
    },
    {
     "name": "stdout",
     "output_type": "stream",
     "text": [
      "problem23.pddl reward: -10\n",
      "Parsing domain blocks-domain.pddl\n",
      "Parsing problem maroon/problem24.pddl\n",
      "(forall (?x) (or (not (red ?x)) (exists (?y) (and (blue ?y) (on ?x ?y)))))\n",
      "(forall (?x) (or (not (red ?x)) (exists (?y) (and (blue ?y) (on ?x ?y)))))\n",
      "(forall (?x) (or (not (red ?x)) (exists (?y) (and (blue ?y) (on ?x ?y)))))\n"
     ]
    },
    {
     "name": "stderr",
     "output_type": "stream",
     "text": [
      "T: no, put red blocks on blue blocks\n",
      "T: no, put red blocks on blue blocks\n",
      "T: no, put red blocks on blue blocks\n",
      "T: no, put red blocks on blue blocks\n"
     ]
    },
    {
     "name": "stdout",
     "output_type": "stream",
     "text": [
      "(forall (?x) (or (not (red ?x)) (exists (?y) (and (blue ?y) (on ?x ?y)))))\n",
      "(forall (?x) (or (not (red ?x)) (exists (?y) (and (blue ?y) (on ?x ?y)))))\n",
      "(forall (?x) (or (not (red ?x)) (exists (?y) (and (blue ?y) (on ?x ?y)))))\n",
      "(forall (?x) (or (not (red ?x)) (exists (?y) (and (blue ?y) (on ?x ?y)))))\n"
     ]
    },
    {
     "name": "stderr",
     "output_type": "stream",
     "text": [
      "T: no, put green blocks on maroon blocks\n",
      "T: no, put red blocks on blue blocks\n",
      "T: no, put red blocks on blue blocks\n"
     ]
    },
    {
     "name": "stdout",
     "output_type": "stream",
     "text": [
      "(forall (?x) (or (not (green ?x)) (exists (?y) (and (maroon ?y) (on ?x ?y)))))\n",
      "(forall (?x) (or (not (red ?x)) (exists (?y) (and (blue ?y) (on ?x ?y)))))\n",
      "(forall (?x) (or (not (red ?x)) (exists (?y) (and (blue ?y) (on ?x ?y)))))\n"
     ]
    },
    {
     "name": "stderr",
     "output_type": "stream",
     "text": [
      "T: No, now you cannot put b0 in the tower because you must put red blocks on blue blocks\n",
      "T: No, now you cannot put b0 in the tower because you must put red blocks on blue blocks\n"
     ]
    },
    {
     "name": "stdout",
     "output_type": "stream",
     "text": [
      "problem24.pddl reward: -30\n",
      "Parsing domain blocks-domain.pddl\n",
      "Parsing problem maroon/problem25.pddl\n"
     ]
    },
    {
     "name": "stderr",
     "output_type": "stream",
     "text": [
      "T: No, now you cannot put b0 in the tower because you must put red blocks on blue blocks\n",
      "T: No, now you cannot put b0 in the tower because you must put red blocks on blue blocks\n",
      "T: No, now you cannot put b0 in the tower because you must put red blocks on blue blocks\n"
     ]
    },
    {
     "name": "stdout",
     "output_type": "stream",
     "text": [
      "problem25.pddl reward: -20\n",
      "Parsing domain blocks-domain.pddl\n",
      "Parsing problem maroon/problem26.pddl\n"
     ]
    },
    {
     "name": "stderr",
     "output_type": "stream",
     "text": [
      "T: no, put red blocks on blue blocks\n"
     ]
    },
    {
     "name": "stdout",
     "output_type": "stream",
     "text": [
      "problem26.pddl reward: -10\n",
      "Parsing domain blocks-domain.pddl\n",
      "Parsing problem maroon/problem27.pddl\n",
      "(forall (?x) (or (not (red ?x)) (exists (?y) (and (blue ?y) (on ?x ?y)))))\n"
     ]
    },
    {
     "name": "stderr",
     "output_type": "stream",
     "text": [
      "T: no, put red blocks on blue blocks\n",
      "T: no, put red blocks on blue blocks\n"
     ]
    },
    {
     "name": "stdout",
     "output_type": "stream",
     "text": [
      "problem27.pddl reward: -12\n",
      "Parsing domain blocks-domain.pddl\n",
      "Parsing problem maroon/problem28.pddl\n",
      "(forall (?x) (or (not (red ?x)) (exists (?y) (and (blue ?y) (on ?x ?y)))))\n",
      "(forall (?x) (or (not (red ?x)) (exists (?y) (and (blue ?y) (on ?x ?y)))))\n"
     ]
    },
    {
     "name": "stderr",
     "output_type": "stream",
     "text": [
      "T: no, put red blocks on blue blocks\n",
      "T: no, put red blocks on blue blocks\n",
      "T: no, put red blocks on blue blocks\n",
      "T: no, put red blocks on blue blocks\n"
     ]
    },
    {
     "name": "stdout",
     "output_type": "stream",
     "text": [
      "(forall (?x) (or (not (red ?x)) (exists (?y) (and (blue ?y) (on ?x ?y)))))\n",
      "(forall (?x) (or (not (red ?x)) (exists (?y) (and (blue ?y) (on ?x ?y)))))\n",
      "(forall (?x) (or (not (red ?x)) (exists (?y) (and (blue ?y) (on ?x ?y)))))\n",
      "(forall (?x) (or (not (red ?x)) (exists (?y) (and (blue ?y) (on ?x ?y)))))\n",
      "problem28.pddl reward: -22\n",
      "Parsing domain blocks-domain.pddl\n",
      "Parsing problem maroon/problem29.pddl\n"
     ]
    },
    {
     "name": "stderr",
     "output_type": "stream",
     "text": [
      "T: No, now you cannot put b1 in the tower because you must put red blocks on blue blocks\n",
      "T: No, now you cannot put b1 in the tower because you must put red blocks on blue blocks\n"
     ]
    },
    {
     "name": "stdout",
     "output_type": "stream",
     "text": [
      "problem29.pddl reward: -10\n",
      "Parsing domain blocks-domain.pddl\n",
      "Parsing problem maroon/problem3.pddl\n"
     ]
    },
    {
     "name": "stderr",
     "output_type": "stream",
     "text": [
      "T: No, now you cannot put b1 in the tower because you must put red blocks on blue blocks\n",
      "T: No, now you cannot put b1 in the tower because you must put red blocks on blue blocks\n",
      "T: No, now you cannot put b1 in the tower because you must put red blocks on blue blocks\n",
      "T: No, now you cannot put b1 in the tower because you must put red blocks on blue blocks\n",
      "T: no, put green blocks on maroon blocks\n",
      "T: no, put green blocks on maroon blocks\n"
     ]
    },
    {
     "name": "stdout",
     "output_type": "stream",
     "text": [
      "problem3.pddl reward: -22\n",
      "Parsing domain blocks-domain.pddl\n",
      "Parsing problem maroon/problem30.pddl\n",
      "(forall (?x) (or (not (green ?x)) (exists (?y) (and (maroon ?y) (on ?x ?y)))))\n",
      "(forall (?x) (or (not (green ?x)) (exists (?y) (and (maroon ?y) (on ?x ?y)))))\n"
     ]
    },
    {
     "name": "stderr",
     "output_type": "stream",
     "text": [
      "T: no, put green blocks on maroon blocks\n",
      "T: No, now you cannot put b2 in the tower because you must put red blocks on blue blocks\n"
     ]
    },
    {
     "name": "stdout",
     "output_type": "stream",
     "text": [
      "(forall (?x) (or (not (green ?x)) (exists (?y) (and (maroon ?y) (on ?x ?y)))))\n",
      "problem30.pddl reward: -18\n",
      "Parsing domain blocks-domain.pddl\n",
      "Parsing problem maroon/problem31.pddl\n"
     ]
    },
    {
     "name": "stderr",
     "output_type": "stream",
     "text": [
      "T: no, put red blocks on blue blocks\n",
      "T: no, put green blocks on maroon blocks\n"
     ]
    },
    {
     "name": "stdout",
     "output_type": "stream",
     "text": [
      "(forall (?x) (or (not (red ?x)) (exists (?y) (and (blue ?y) (on ?x ?y)))))\n",
      "(forall (?x) (or (not (green ?x)) (exists (?y) (and (maroon ?y) (on ?x ?y)))))\n"
     ]
    },
    {
     "name": "stderr",
     "output_type": "stream",
     "text": [
      "T: no, put red blocks on blue blocks\n"
     ]
    },
    {
     "name": "stdout",
     "output_type": "stream",
     "text": [
      "problem31.pddl reward: -14\n",
      "Parsing domain blocks-domain.pddl\n",
      "Parsing problem maroon/problem32.pddl\n",
      "(forall (?x) (or (not (red ?x)) (exists (?y) (and (blue ?y) (on ?x ?y)))))\n"
     ]
    },
    {
     "name": "stderr",
     "output_type": "stream",
     "text": [
      "T: no, put red blocks on blue blocks\n"
     ]
    },
    {
     "name": "stdout",
     "output_type": "stream",
     "text": [
      "problem32.pddl reward: -12\n",
      "Parsing domain blocks-domain.pddl\n",
      "Parsing problem maroon/problem33.pddl\n",
      "(forall (?x) (or (not (red ?x)) (exists (?y) (and (blue ?y) (on ?x ?y)))))\n"
     ]
    },
    {
     "name": "stderr",
     "output_type": "stream",
     "text": [
      "T: no, put red blocks on blue blocks\n",
      "T: no, put red blocks on blue blocks\n"
     ]
    },
    {
     "name": "stdout",
     "output_type": "stream",
     "text": [
      "problem33.pddl reward: -12\n",
      "Parsing domain blocks-domain.pddl\n",
      "Parsing problem maroon/problem34.pddl\n",
      "(forall (?x) (or (not (red ?x)) (exists (?y) (and (blue ?y) (on ?x ?y)))))\n",
      "(forall (?x) (or (not (red ?x)) (exists (?y) (and (blue ?y) (on ?x ?y)))))\n"
     ]
    },
    {
     "name": "stderr",
     "output_type": "stream",
     "text": [
      "T: no, put red blocks on blue blocks\n",
      "T: no, put red blocks on blue blocks\n",
      "T: no, put red blocks on blue blocks\n",
      "T: no, put red blocks on blue blocks\n"
     ]
    },
    {
     "name": "stdout",
     "output_type": "stream",
     "text": [
      "(forall (?x) (or (not (red ?x)) (exists (?y) (and (blue ?y) (on ?x ?y)))))\n",
      "(forall (?x) (or (not (red ?x)) (exists (?y) (and (blue ?y) (on ?x ?y)))))\n",
      "(forall (?x) (or (not (red ?x)) (exists (?y) (and (blue ?y) (on ?x ?y)))))\n",
      "(forall (?x) (or (not (red ?x)) (exists (?y) (and (blue ?y) (on ?x ?y)))))\n"
     ]
    },
    {
     "name": "stderr",
     "output_type": "stream",
     "text": [
      "T: no, put red blocks on blue blocks\n",
      "T: no, put red blocks on blue blocks\n"
     ]
    },
    {
     "name": "stdout",
     "output_type": "stream",
     "text": [
      "problem34.pddl reward: -22\n",
      "Parsing domain blocks-domain.pddl\n",
      "Parsing problem maroon/problem35.pddl\n",
      "(forall (?x) (or (not (red ?x)) (exists (?y) (and (blue ?y) (on ?x ?y)))))\n",
      "(forall (?x) (or (not (red ?x)) (exists (?y) (and (blue ?y) (on ?x ?y)))))\n"
     ]
    },
    {
     "name": "stderr",
     "output_type": "stream",
     "text": [
      "T: no, put red blocks on blue blocks\n",
      "T: no, put red blocks on blue blocks\n",
      "T: no, put red blocks on blue blocks\n",
      "T: no, put red blocks on blue blocks\n"
     ]
    },
    {
     "name": "stdout",
     "output_type": "stream",
     "text": [
      "(forall (?x) (or (not (red ?x)) (exists (?y) (and (blue ?y) (on ?x ?y)))))\n",
      "(forall (?x) (or (not (red ?x)) (exists (?y) (and (blue ?y) (on ?x ?y)))))\n",
      "(forall (?x) (or (not (red ?x)) (exists (?y) (and (blue ?y) (on ?x ?y)))))\n",
      "(forall (?x) (or (not (red ?x)) (exists (?y) (and (blue ?y) (on ?x ?y)))))\n"
     ]
    },
    {
     "name": "stderr",
     "output_type": "stream",
     "text": [
      "T: no, put red blocks on blue blocks\n"
     ]
    },
    {
     "name": "stdout",
     "output_type": "stream",
     "text": [
      "problem35.pddl reward: -22\n",
      "Parsing domain blocks-domain.pddl\n",
      "Parsing problem maroon/problem36.pddl\n",
      "(forall (?x) (or (not (red ?x)) (exists (?y) (and (blue ?y) (on ?x ?y)))))\n"
     ]
    },
    {
     "name": "stderr",
     "output_type": "stream",
     "text": [
      "T: no, put red blocks on blue blocks\n",
      "T: no, put red blocks on blue blocks\n",
      "T: no, put red blocks on blue blocks\n",
      "T: no, put green blocks on maroon blocks\n"
     ]
    },
    {
     "name": "stdout",
     "output_type": "stream",
     "text": [
      "(forall (?x) (or (not (red ?x)) (exists (?y) (and (blue ?y) (on ?x ?y)))))\n",
      "(forall (?x) (or (not (red ?x)) (exists (?y) (and (blue ?y) (on ?x ?y)))))\n",
      "(forall (?x) (or (not (red ?x)) (exists (?y) (and (blue ?y) (on ?x ?y)))))\n",
      "(forall (?x) (or (not (green ?x)) (exists (?y) (and (maroon ?y) (on ?x ?y)))))\n"
     ]
    },
    {
     "name": "stderr",
     "output_type": "stream",
     "text": [
      "T: no, put red blocks on blue blocks\n",
      "T: no, put red blocks on blue blocks\n",
      "T: no, put green blocks on maroon blocks\n"
     ]
    },
    {
     "name": "stdout",
     "output_type": "stream",
     "text": [
      "(forall (?x) (or (not (red ?x)) (exists (?y) (and (blue ?y) (on ?x ?y)))))\n",
      "(forall (?x) (or (not (red ?x)) (exists (?y) (and (blue ?y) (on ?x ?y)))))\n",
      "(forall (?x) (or (not (green ?x)) (exists (?y) (and (maroon ?y) (on ?x ?y)))))\n"
     ]
    },
    {
     "name": "stderr",
     "output_type": "stream",
     "text": [
      "T: no, put red blocks on blue blocks\n",
      "T: no, put green blocks on maroon blocks\n",
      "T: no, put red blocks on blue blocks\n",
      "T: no, put green blocks on maroon blocks\n"
     ]
    },
    {
     "name": "stdout",
     "output_type": "stream",
     "text": [
      "(forall (?x) (or (not (red ?x)) (exists (?y) (and (blue ?y) (on ?x ?y)))))\n",
      "(forall (?x) (or (not (green ?x)) (exists (?y) (and (maroon ?y) (on ?x ?y)))))\n",
      "(forall (?x) (or (not (red ?x)) (exists (?y) (and (blue ?y) (on ?x ?y)))))\n",
      "(forall (?x) (or (not (green ?x)) (exists (?y) (and (maroon ?y) (on ?x ?y)))))\n"
     ]
    },
    {
     "name": "stderr",
     "output_type": "stream",
     "text": [
      "T: no, put red blocks on blue blocks\n",
      "T: no, put green blocks on maroon blocks\n"
     ]
    },
    {
     "name": "stdout",
     "output_type": "stream",
     "text": [
      "(forall (?x) (or (not (red ?x)) (exists (?y) (and (blue ?y) (on ?x ?y)))))\n",
      "(forall (?x) (or (not (green ?x)) (exists (?y) (and (maroon ?y) (on ?x ?y)))))\n",
      "problem36.pddl reward: -38\n",
      "Parsing domain blocks-domain.pddl\n",
      "Parsing problem maroon/problem37.pddl\n"
     ]
    },
    {
     "name": "stderr",
     "output_type": "stream",
     "text": [
      "T: no, put red blocks on blue blocks\n",
      "T: no, put red blocks on blue blocks\n",
      "T: no, put red blocks on blue blocks\n"
     ]
    },
    {
     "name": "stdout",
     "output_type": "stream",
     "text": [
      "(forall (?x) (or (not (red ?x)) (exists (?y) (and (blue ?y) (on ?x ?y)))))\n",
      "(forall (?x) (or (not (red ?x)) (exists (?y) (and (blue ?y) (on ?x ?y)))))\n",
      "(forall (?x) (or (not (red ?x)) (exists (?y) (and (blue ?y) (on ?x ?y)))))\n"
     ]
    },
    {
     "name": "stderr",
     "output_type": "stream",
     "text": [
      "T: No, now you cannot put b1 in the tower because you must put green blocks on maroon blocks\n",
      "T: no, put red blocks on blue blocks\n",
      "T: no, put red blocks on blue blocks\n"
     ]
    },
    {
     "name": "stdout",
     "output_type": "stream",
     "text": [
      "(forall (?x) (or (not (red ?x)) (exists (?y) (and (blue ?y) (on ?x ?y)))))\n",
      "(forall (?x) (or (not (red ?x)) (exists (?y) (and (blue ?y) (on ?x ?y)))))\n",
      "problem37.pddl reward: -22\n",
      "Parsing domain blocks-domain.pddl\n",
      "Parsing problem maroon/problem38.pddl\n"
     ]
    },
    {
     "name": "stderr",
     "output_type": "stream",
     "text": [
      "T: no, put red blocks on blue blocks\n",
      "T: no, put red blocks on blue blocks\n",
      "T: no, put red blocks on blue blocks\n",
      "T: no, put red blocks on blue blocks\n"
     ]
    },
    {
     "name": "stdout",
     "output_type": "stream",
     "text": [
      "(forall (?x) (or (not (red ?x)) (exists (?y) (and (blue ?y) (on ?x ?y)))))\n",
      "(forall (?x) (or (not (red ?x)) (exists (?y) (and (blue ?y) (on ?x ?y)))))\n",
      "(forall (?x) (or (not (red ?x)) (exists (?y) (and (blue ?y) (on ?x ?y)))))\n",
      "(forall (?x) (or (not (red ?x)) (exists (?y) (and (blue ?y) (on ?x ?y)))))\n"
     ]
    },
    {
     "name": "stderr",
     "output_type": "stream",
     "text": [
      "T: no, put red blocks on blue blocks\n",
      "T: no, put red blocks on blue blocks\n"
     ]
    },
    {
     "name": "stdout",
     "output_type": "stream",
     "text": [
      "(forall (?x) (or (not (red ?x)) (exists (?y) (and (blue ?y) (on ?x ?y)))))\n",
      "(forall (?x) (or (not (red ?x)) (exists (?y) (and (blue ?y) (on ?x ?y)))))\n",
      "problem38.pddl reward: -22\n",
      "Parsing domain blocks-domain.pddl\n",
      "Parsing problem maroon/problem39.pddl\n",
      "problem39.pddl reward: -10\n",
      "Parsing domain blocks-domain.pddl\n",
      "Parsing problem maroon/problem4.pddl\n",
      "problem4.pddl reward: -10\n",
      "Parsing domain blocks-domain.pddl\n",
      "Parsing problem maroon/problem40.pddl\n"
     ]
    },
    {
     "name": "stderr",
     "output_type": "stream",
     "text": [
      "T: no, put red blocks on blue blocks\n",
      "T: no, put red blocks on blue blocks\n"
     ]
    },
    {
     "name": "stdout",
     "output_type": "stream",
     "text": [
      "(forall (?x) (or (not (red ?x)) (exists (?y) (and (blue ?y) (on ?x ?y)))))\n",
      "(forall (?x) (or (not (red ?x)) (exists (?y) (and (blue ?y) (on ?x ?y)))))\n",
      "problem40.pddl reward: -14\n",
      "Parsing domain blocks-domain.pddl\n",
      "Parsing problem maroon/problem41.pddl\n"
     ]
    },
    {
     "name": "stderr",
     "output_type": "stream",
     "text": [
      "T: no, put red blocks on blue blocks\n"
     ]
    },
    {
     "name": "stdout",
     "output_type": "stream",
     "text": [
      "(forall (?x) (or (not (red ?x)) (exists (?y) (and (blue ?y) (on ?x ?y)))))\n",
      "problem41.pddl reward: -12\n",
      "Parsing domain blocks-domain.pddl\n",
      "Parsing problem maroon/problem42.pddl\n"
     ]
    },
    {
     "name": "stderr",
     "output_type": "stream",
     "text": [
      "T: no, put red blocks on blue blocks\n"
     ]
    },
    {
     "name": "stdout",
     "output_type": "stream",
     "text": [
      "(forall (?x) (or (not (red ?x)) (exists (?y) (and (blue ?y) (on ?x ?y)))))\n",
      "problem42.pddl reward: -12\n",
      "Parsing domain blocks-domain.pddl\n",
      "Parsing problem maroon/problem43.pddl\n"
     ]
    },
    {
     "name": "stderr",
     "output_type": "stream",
     "text": [
      "T: No, now you cannot put b5 in the tower because you must put red blocks on blue blocks\n"
     ]
    },
    {
     "name": "stdout",
     "output_type": "stream",
     "text": [
      "problem43.pddl reward: -10\n",
      "Parsing domain blocks-domain.pddl\n",
      "Parsing problem maroon/problem44.pddl\n"
     ]
    },
    {
     "name": "stderr",
     "output_type": "stream",
     "text": [
      "T: No, now you cannot put b5 in the tower because you must put red blocks on blue blocks\n",
      "T: no, put red blocks on blue blocks\n"
     ]
    },
    {
     "name": "stdout",
     "output_type": "stream",
     "text": [
      "(forall (?x) (or (not (red ?x)) (exists (?y) (and (blue ?y) (on ?x ?y)))))\n",
      "problem44.pddl reward: -16\n"
     ]
    },
    {
     "name": "stderr",
     "output_type": "stream",
     "text": [
      "T: no, put red blocks on blue blocks\n"
     ]
    },
    {
     "name": "stdout",
     "output_type": "stream",
     "text": [
      "Parsing domain blocks-domain.pddl\n",
      "Parsing problem maroon/problem45.pddl\n",
      "(forall (?x) (or (not (red ?x)) (exists (?y) (and (blue ?y) (on ?x ?y)))))\n"
     ]
    },
    {
     "name": "stderr",
     "output_type": "stream",
     "text": [
      "T: no, put red blocks on blue blocks\n",
      "T: no, put red blocks on blue blocks\n",
      "T: no, put red blocks on blue blocks\n"
     ]
    },
    {
     "name": "stdout",
     "output_type": "stream",
     "text": [
      "(forall (?x) (or (not (red ?x)) (exists (?y) (and (blue ?y) (on ?x ?y)))))\n",
      "(forall (?x) (or (not (red ?x)) (exists (?y) (and (blue ?y) (on ?x ?y)))))\n",
      "(forall (?x) (or (not (red ?x)) (exists (?y) (and (blue ?y) (on ?x ?y)))))\n",
      "problem45.pddl reward: -18\n",
      "Parsing domain blocks-domain.pddl\n",
      "Parsing problem maroon/problem46.pddl\n"
     ]
    },
    {
     "name": "stderr",
     "output_type": "stream",
     "text": [
      "T: No, now you cannot put b2 in the tower because you must put red blocks on blue blocks\n",
      "T: no, put green blocks on maroon blocks\n"
     ]
    },
    {
     "name": "stdout",
     "output_type": "stream",
     "text": [
      "problem46.pddl reward: -12\n",
      "Parsing domain blocks-domain.pddl\n",
      "Parsing problem maroon/problem47.pddl\n",
      "(forall (?x) (or (not (green ?x)) (exists (?y) (and (maroon ?y) (on ?x ?y)))))\n"
     ]
    },
    {
     "name": "stderr",
     "output_type": "stream",
     "text": [
      "T: No, now you cannot put b0 in the tower because you must put red blocks on blue blocks\n",
      "T: No, now you cannot put b2 in the tower because you must put red blocks on blue blocks\n",
      "T: No, now you cannot put b2 in the tower because you must put red blocks on blue blocks\n"
     ]
    },
    {
     "name": "stdout",
     "output_type": "stream",
     "text": [
      "problem47.pddl reward: -14\n",
      "Parsing domain blocks-domain.pddl\n",
      "Parsing problem maroon/problem48.pddl\n"
     ]
    },
    {
     "name": "stderr",
     "output_type": "stream",
     "text": [
      "T: No, now you cannot put b2 in the tower because you must put red blocks on blue blocks\n",
      "T: No, now you cannot put b2 in the tower because you must put red blocks on blue blocks\n"
     ]
    },
    {
     "name": "stdout",
     "output_type": "stream",
     "text": [
      "problem48.pddl reward: -18\n",
      "Parsing domain blocks-domain.pddl\n",
      "Parsing problem maroon/problem49.pddl\n",
      "problem49.pddl reward: -10\n",
      "Parsing domain blocks-domain.pddl\n",
      "Parsing problem maroon/problem5.pddl\n",
      "problem5.pddl reward: -10\n",
      "Parsing domain blocks-domain.pddl\n",
      "Parsing problem maroon/problem50.pddl\n",
      "problem50.pddl reward: -10\n",
      "Parsing domain blocks-domain.pddl\n",
      "Parsing problem maroon/problem6.pddl\n"
     ]
    },
    {
     "name": "stderr",
     "output_type": "stream",
     "text": [
      "T: no, put red blocks on blue blocks\n"
     ]
    },
    {
     "name": "stdout",
     "output_type": "stream",
     "text": [
      "problem6.pddl reward: -10\n",
      "Parsing domain blocks-domain.pddl\n",
      "Parsing problem maroon/problem7.pddl\n",
      "(forall (?x) (or (not (red ?x)) (exists (?y) (and (blue ?y) (on ?x ?y)))))\n"
     ]
    },
    {
     "name": "stderr",
     "output_type": "stream",
     "text": [
      "T: No, now you cannot put b2 in the tower because you must put red blocks on blue blocks\n",
      "T: No, now you cannot put b2 in the tower because you must put red blocks on blue blocks\n"
     ]
    },
    {
     "name": "stdout",
     "output_type": "stream",
     "text": [
      "problem7.pddl reward: -12\n",
      "Parsing domain blocks-domain.pddl\n",
      "Parsing problem maroon/problem8.pddl\n"
     ]
    },
    {
     "name": "stderr",
     "output_type": "stream",
     "text": [
      "T: No, now you cannot put b2 in the tower because you must put red blocks on blue blocks\n",
      "T: no, put red blocks on blue blocks\n"
     ]
    },
    {
     "name": "stdout",
     "output_type": "stream",
     "text": [
      "problem8.pddl reward: -16\n",
      "Parsing domain blocks-domain.pddl\n",
      "Parsing problem maroon/problem9.pddl\n",
      "(forall (?x) (or (not (red ?x)) (exists (?y) (and (blue ?y) (on ?x ?y)))))\n",
      "problem9.pddl reward: -12\n"
     ]
    }
   ],
   "source": [
    "add_experiment('maroon_random', None)"
   ]
  },
  {
   "cell_type": "code",
   "execution_count": 2,
   "metadata": {},
   "outputs": [
    {
     "name": "stdout",
     "output_type": "stream",
     "text": [
      "Parsing domain blocks-domain.pddl\n",
      "Parsing problem onerule/problem1.pddl\n"
     ]
    },
    {
     "ename": "UnboundLocalError",
     "evalue": "local variable 'results_file' referenced before assignment",
     "output_type": "error",
     "traceback": [
      "\u001b[0;31m---------------------------------------------------------------------------\u001b[0m",
      "\u001b[0;31mUnboundLocalError\u001b[0m                         Traceback (most recent call last)",
      "\u001b[0;32m~/Desktop/phd/src/experiment.py\u001b[0m in \u001b[0;36madd_experiment\u001b[0;34m(config_name, neural_config, debug)\u001b[0m\n\u001b[1;32m    232\u001b[0m     \u001b[0;32mtry\u001b[0m\u001b[0;34m:\u001b[0m\u001b[0;34m\u001b[0m\u001b[0m\n\u001b[0;32m--> 233\u001b[0;31m         \u001b[0mresults_file\u001b[0m \u001b[0;34m=\u001b[0m \u001b[0mrun_experiment\u001b[0m\u001b[0;34m(\u001b[0m\u001b[0mconfig_name\u001b[0m\u001b[0;34m=\u001b[0m\u001b[0mconfig_name\u001b[0m\u001b[0;34m,\u001b[0m \u001b[0mneural_config\u001b[0m\u001b[0;34m=\u001b[0m\u001b[0mneural_config\u001b[0m\u001b[0;34m,\u001b[0m \u001b[0mdebug\u001b[0m\u001b[0;34m=\u001b[0m\u001b[0mdebug\u001b[0m\u001b[0;34m)\u001b[0m\u001b[0;34m\u001b[0m\u001b[0m\n\u001b[0m\u001b[1;32m    234\u001b[0m     \u001b[0;32mexcept\u001b[0m\u001b[0;34m:\u001b[0m\u001b[0;34m\u001b[0m\u001b[0m\n",
      "\u001b[0;32m~/Desktop/phd/src/experiment.py\u001b[0m in \u001b[0;36mrun_experiment\u001b[0;34m(config_name, debug, neural_config)\u001b[0m\n\u001b[1;32m    155\u001b[0m \u001b[0;34m\u001b[0m\u001b[0m\n\u001b[0;32m--> 156\u001b[0;31m             \u001b[0mmodel_config\u001b[0m \u001b[0;34m=\u001b[0m \u001b[0mget_kde_config\u001b[0m\u001b[0;34m(\u001b[0m\u001b[0mmodel_config\u001b[0m\u001b[0;34m,\u001b[0m \u001b[0mneural_config\u001b[0m\u001b[0;34m)\u001b[0m\u001b[0;34m\u001b[0m\u001b[0m\n\u001b[0m\u001b[1;32m    157\u001b[0m         \u001b[0magent\u001b[0m \u001b[0;34m=\u001b[0m \u001b[0mAgent\u001b[0m\u001b[0;34m(\u001b[0m\u001b[0mw\u001b[0m\u001b[0;34m,\u001b[0m \u001b[0mteacher\u001b[0m\u001b[0;34m=\u001b[0m\u001b[0mteacher\u001b[0m\u001b[0;34m,\u001b[0m \u001b[0mthreshold\u001b[0m\u001b[0;34m=\u001b[0m\u001b[0mthreshold\u001b[0m\u001b[0;34m,\u001b[0m \u001b[0mupdate_negative\u001b[0m\u001b[0;34m=\u001b[0m\u001b[0mupdate_negative\u001b[0m\u001b[0;34m,\u001b[0m \u001b[0mupdate_once\u001b[0m\u001b[0;34m=\u001b[0m\u001b[0mupdate_once\u001b[0m\u001b[0;34m,\u001b[0m \u001b[0mcolour_model_type\u001b[0m\u001b[0;34m=\u001b[0m\u001b[0mcolour_model_type\u001b[0m\u001b[0;34m,\u001b[0m \u001b[0mconfig\u001b[0m\u001b[0;34m=\u001b[0m\u001b[0mmodel_config\u001b[0m\u001b[0;34m)\u001b[0m\u001b[0;34m\u001b[0m\u001b[0m\n",
      "\u001b[0;31mUnboundLocalError\u001b[0m: local variable 'model_config' referenced before assignment",
      "\nDuring handling of the above exception, another exception occurred:\n",
      "\u001b[0;31mUnboundLocalError\u001b[0m                         Traceback (most recent call last)",
      "\u001b[0;32m<ipython-input-2-68c136488b45>\u001b[0m in \u001b[0;36m<module>\u001b[0;34m()\u001b[0m\n\u001b[0;32m----> 1\u001b[0;31m \u001b[0madd_experiment\u001b[0m\u001b[0;34m(\u001b[0m\u001b[0;34m'onerule_kde'\u001b[0m\u001b[0;34m,\u001b[0m \u001b[0;34m'DEFAULT'\u001b[0m\u001b[0;34m)\u001b[0m\u001b[0;34m\u001b[0m\u001b[0m\n\u001b[0m",
      "\u001b[0;32m~/Desktop/phd/src/experiment.py\u001b[0m in \u001b[0;36madd_experiment\u001b[0;34m(config_name, neural_config, debug)\u001b[0m\n\u001b[1;32m    235\u001b[0m         \u001b[0mdf\u001b[0m \u001b[0;34m=\u001b[0m \u001b[0mpd\u001b[0m\u001b[0;34m.\u001b[0m\u001b[0mread_sql\u001b[0m\u001b[0;34m(\u001b[0m\u001b[0;34m'experiments'\u001b[0m\u001b[0;34m,\u001b[0m \u001b[0mindex_col\u001b[0m\u001b[0;34m=\u001b[0m\u001b[0;34m'index'\u001b[0m\u001b[0;34m,\u001b[0m \u001b[0mcon\u001b[0m\u001b[0;34m=\u001b[0m\u001b[0mengine\u001b[0m\u001b[0;34m)\u001b[0m\u001b[0;34m\u001b[0m\u001b[0m\n\u001b[1;32m    236\u001b[0m         \u001b[0mlast_label\u001b[0m \u001b[0;34m=\u001b[0m \u001b[0mdf\u001b[0m\u001b[0;34m.\u001b[0m\u001b[0mindex\u001b[0m\u001b[0;34m[\u001b[0m\u001b[0;34m-\u001b[0m\u001b[0;36m1\u001b[0m\u001b[0;34m]\u001b[0m\u001b[0;34m\u001b[0m\u001b[0m\n\u001b[0;32m--> 237\u001b[0;31m         \u001b[0mdf\u001b[0m\u001b[0;34m.\u001b[0m\u001b[0mat\u001b[0m\u001b[0;34m[\u001b[0m\u001b[0mlast_label\u001b[0m\u001b[0;34m,\u001b[0m \u001b[0;34m'experiment_file'\u001b[0m\u001b[0;34m]\u001b[0m \u001b[0;34m=\u001b[0m \u001b[0mresults_file\u001b[0m\u001b[0;34m\u001b[0m\u001b[0m\n\u001b[0m\u001b[1;32m    238\u001b[0m         \u001b[0mdf\u001b[0m\u001b[0;34m.\u001b[0m\u001b[0mat\u001b[0m\u001b[0;34m[\u001b[0m\u001b[0mlast_label\u001b[0m\u001b[0;34m,\u001b[0m \u001b[0;34m'status'\u001b[0m\u001b[0;34m]\u001b[0m \u001b[0;34m=\u001b[0m \u001b[0;34m'ERROR'\u001b[0m\u001b[0;34m\u001b[0m\u001b[0m\n\u001b[1;32m    239\u001b[0m     \u001b[0;32melse\u001b[0m\u001b[0;34m:\u001b[0m\u001b[0;34m\u001b[0m\u001b[0m\n",
      "\u001b[0;31mUnboundLocalError\u001b[0m: local variable 'results_file' referenced before assignment"
     ]
    }
   ],
   "source": []
  },
  {
   "cell_type": "code",
   "execution_count": 9,
   "metadata": {
    "collapsed": true
   },
   "outputs": [
    {
     "data": {
      "text/html": [
       "<div>\n",
       "<style scoped>\n",
       "    .dataframe tbody tr th:only-of-type {\n",
       "        vertical-align: middle;\n",
       "    }\n",
       "\n",
       "    .dataframe tbody tr th {\n",
       "        vertical-align: top;\n",
       "    }\n",
       "\n",
       "    .dataframe thead th {\n",
       "        text-align: right;\n",
       "    }\n",
       "</style>\n",
       "<table border=\"1\" class=\"dataframe\">\n",
       "  <thead>\n",
       "    <tr style=\"text-align: right;\">\n",
       "      <th></th>\n",
       "      <th>config_name</th>\n",
       "      <th>experiment_file</th>\n",
       "      <th>neural_config</th>\n",
       "      <th>status</th>\n",
       "    </tr>\n",
       "    <tr>\n",
       "      <th>index</th>\n",
       "      <th></th>\n",
       "      <th></th>\n",
       "      <th></th>\n",
       "      <th></th>\n",
       "    </tr>\n",
       "  </thead>\n",
       "  <tbody>\n",
       "    <tr>\n",
       "      <th>0</th>\n",
       "      <td>None</td>\n",
       "      <td>None</td>\n",
       "      <td>None</td>\n",
       "      <td>None</td>\n",
       "    </tr>\n",
       "    <tr>\n",
       "      <th>1</th>\n",
       "      <td>simple_neural</td>\n",
       "      <td>results/simplecolours/agents.NeuralCorrectingA...</td>\n",
       "      <td>DEFAULT</td>\n",
       "      <td>done</td>\n",
       "    </tr>\n",
       "    <tr>\n",
       "      <th>2</th>\n",
       "      <td>neural_onerule5000</td>\n",
       "      <td>results/onerule5000/agents.NeuralCorrectingAge...</td>\n",
       "      <td>adam_lr:0.1</td>\n",
       "      <td>done</td>\n",
       "    </tr>\n",
       "    <tr>\n",
       "      <th>3</th>\n",
       "      <td>neural_onerule5000</td>\n",
       "      <td>results/onerule5000/agents.NeuralCorrectingAge...</td>\n",
       "      <td>adam_lr:1</td>\n",
       "      <td>done</td>\n",
       "    </tr>\n",
       "    <tr>\n",
       "      <th>4</th>\n",
       "      <td>neural_onerule5000</td>\n",
       "      <td>results/onerule5000/agents.NeuralCorrectingAge...</td>\n",
       "      <td>nesterov_lr:0.1mom:0</td>\n",
       "      <td>done</td>\n",
       "    </tr>\n",
       "    <tr>\n",
       "      <th>5</th>\n",
       "      <td>neural_onerule5000</td>\n",
       "      <td>results/onerule5000/agents.NeuralCorrectingAge...</td>\n",
       "      <td>nesterov_lr:0.1mom:0.4</td>\n",
       "      <td>done</td>\n",
       "    </tr>\n",
       "    <tr>\n",
       "      <th>6</th>\n",
       "      <td>tworules</td>\n",
       "      <td>results/tworules/agents.CorrectingAgent/0.7/ex...</td>\n",
       "      <td>None</td>\n",
       "      <td>done</td>\n",
       "    </tr>\n",
       "    <tr>\n",
       "      <th>7</th>\n",
       "      <td>tworules_no_update</td>\n",
       "      <td>results/tworules/agents.CorrectingAgent/0.7/ex...</td>\n",
       "      <td>None</td>\n",
       "      <td>done</td>\n",
       "    </tr>\n",
       "    <tr>\n",
       "      <th>8</th>\n",
       "      <td>tworules</td>\n",
       "      <td>results/tworules/agents.CorrectingAgent/0.7/ex...</td>\n",
       "      <td>None</td>\n",
       "      <td>done</td>\n",
       "    </tr>\n",
       "    <tr>\n",
       "      <th>9</th>\n",
       "      <td>tworules_no_update</td>\n",
       "      <td>results/tworules/agents.CorrectingAgent/0.7/ex...</td>\n",
       "      <td>None</td>\n",
       "      <td>done</td>\n",
       "    </tr>\n",
       "    <tr>\n",
       "      <th>10</th>\n",
       "      <td>tworules</td>\n",
       "      <td>results/tworules/agents.CorrectingAgent/0.7/ex...</td>\n",
       "      <td>None</td>\n",
       "      <td>done</td>\n",
       "    </tr>\n",
       "    <tr>\n",
       "      <th>11</th>\n",
       "      <td>onerule</td>\n",
       "      <td>results/onerule/agents.CorrectingAgent/0.7/exp...</td>\n",
       "      <td>None</td>\n",
       "      <td>done</td>\n",
       "    </tr>\n",
       "    <tr>\n",
       "      <th>12</th>\n",
       "      <td>onerule_update_negative</td>\n",
       "      <td>results/onerule/agents.CorrectingAgent/0.7/exp...</td>\n",
       "      <td>None</td>\n",
       "      <td>done</td>\n",
       "    </tr>\n",
       "    <tr>\n",
       "      <th>13</th>\n",
       "      <td>tworules</td>\n",
       "      <td>results/tworules/agents.CorrectingAgent/0.7/ex...</td>\n",
       "      <td>None</td>\n",
       "      <td>done</td>\n",
       "    </tr>\n",
       "    <tr>\n",
       "      <th>14</th>\n",
       "      <td>tworules_update_negative</td>\n",
       "      <td>None</td>\n",
       "      <td>None</td>\n",
       "      <td>running</td>\n",
       "    </tr>\n",
       "    <tr>\n",
       "      <th>15</th>\n",
       "      <td>tworules_perfect_colour</td>\n",
       "      <td>results/tworules/agents.PerfectColoursAgent/0....</td>\n",
       "      <td>None</td>\n",
       "      <td>done</td>\n",
       "    </tr>\n",
       "    <tr>\n",
       "      <th>16</th>\n",
       "      <td>tworules_perfect_colour_vis</td>\n",
       "      <td>results/tworules/agents.PerfectColoursAgent/0....</td>\n",
       "      <td>None</td>\n",
       "      <td>done</td>\n",
       "    </tr>\n",
       "    <tr>\n",
       "      <th>17</th>\n",
       "      <td>tworules_perfect_colour</td>\n",
       "      <td>None</td>\n",
       "      <td>None</td>\n",
       "      <td>running</td>\n",
       "    </tr>\n",
       "    <tr>\n",
       "      <th>18</th>\n",
       "      <td>tworules</td>\n",
       "      <td>results/tworules/agents.CorrectingAgent/0.7/ex...</td>\n",
       "      <td>None</td>\n",
       "      <td>done</td>\n",
       "    </tr>\n",
       "    <tr>\n",
       "      <th>19</th>\n",
       "      <td>tworules_update_negative</td>\n",
       "      <td>None</td>\n",
       "      <td>None</td>\n",
       "      <td>running</td>\n",
       "    </tr>\n",
       "    <tr>\n",
       "      <th>20</th>\n",
       "      <td>tworules</td>\n",
       "      <td>None</td>\n",
       "      <td>None</td>\n",
       "      <td>running</td>\n",
       "    </tr>\n",
       "    <tr>\n",
       "      <th>21</th>\n",
       "      <td>tworules</td>\n",
       "      <td>results/tworules/agents.CorrectingAgent/0.7/ex...</td>\n",
       "      <td>None</td>\n",
       "      <td>done</td>\n",
       "    </tr>\n",
       "    <tr>\n",
       "      <th>22</th>\n",
       "      <td>tworules_update_negative</td>\n",
       "      <td>results/tworules/agents.CorrectingAgent/0.7/ex...</td>\n",
       "      <td>None</td>\n",
       "      <td>done</td>\n",
       "    </tr>\n",
       "    <tr>\n",
       "      <th>23</th>\n",
       "      <td>tworules_update_once</td>\n",
       "      <td>None</td>\n",
       "      <td>None</td>\n",
       "      <td>running</td>\n",
       "    </tr>\n",
       "    <tr>\n",
       "      <th>24</th>\n",
       "      <td>tworules_update_once</td>\n",
       "      <td>results/tworules/agents.CorrectingAgent/0.7/ex...</td>\n",
       "      <td>None</td>\n",
       "      <td>done</td>\n",
       "    </tr>\n",
       "    <tr>\n",
       "      <th>25</th>\n",
       "      <td>tworules_update_once_with_negative</td>\n",
       "      <td>results/tworules/agents.CorrectingAgent/0.7/ex...</td>\n",
       "      <td>None</td>\n",
       "      <td>done</td>\n",
       "    </tr>\n",
       "    <tr>\n",
       "      <th>26</th>\n",
       "      <td>tworules</td>\n",
       "      <td>None</td>\n",
       "      <td>None</td>\n",
       "      <td>running</td>\n",
       "    </tr>\n",
       "    <tr>\n",
       "      <th>27</th>\n",
       "      <td>tworules</td>\n",
       "      <td>None</td>\n",
       "      <td>None</td>\n",
       "      <td>running</td>\n",
       "    </tr>\n",
       "    <tr>\n",
       "      <th>28</th>\n",
       "      <td>tworules</td>\n",
       "      <td>None</td>\n",
       "      <td>None</td>\n",
       "      <td>running</td>\n",
       "    </tr>\n",
       "    <tr>\n",
       "      <th>29</th>\n",
       "      <td>tworules</td>\n",
       "      <td>None</td>\n",
       "      <td>None</td>\n",
       "      <td>running</td>\n",
       "    </tr>\n",
       "    <tr>\n",
       "      <th>...</th>\n",
       "      <td>...</td>\n",
       "      <td>...</td>\n",
       "      <td>...</td>\n",
       "      <td>...</td>\n",
       "    </tr>\n",
       "    <tr>\n",
       "      <th>33</th>\n",
       "      <td>tworules</td>\n",
       "      <td>None</td>\n",
       "      <td>None</td>\n",
       "      <td>running</td>\n",
       "    </tr>\n",
       "    <tr>\n",
       "      <th>34</th>\n",
       "      <td>tworules</td>\n",
       "      <td>None</td>\n",
       "      <td>None</td>\n",
       "      <td>running</td>\n",
       "    </tr>\n",
       "    <tr>\n",
       "      <th>35</th>\n",
       "      <td>tworules</td>\n",
       "      <td>results/tworules/agents.CorrectingAgent/0.7/ex...</td>\n",
       "      <td>None</td>\n",
       "      <td>done</td>\n",
       "    </tr>\n",
       "    <tr>\n",
       "      <th>36</th>\n",
       "      <td>tworules_update_negative</td>\n",
       "      <td>None</td>\n",
       "      <td>None</td>\n",
       "      <td>running</td>\n",
       "    </tr>\n",
       "    <tr>\n",
       "      <th>37</th>\n",
       "      <td>tworules</td>\n",
       "      <td>None</td>\n",
       "      <td>None</td>\n",
       "      <td>running</td>\n",
       "    </tr>\n",
       "    <tr>\n",
       "      <th>38</th>\n",
       "      <td>tworules</td>\n",
       "      <td>results/tworules/agents.CorrectingAgent/0.7/ex...</td>\n",
       "      <td>None</td>\n",
       "      <td>done</td>\n",
       "    </tr>\n",
       "    <tr>\n",
       "      <th>39</th>\n",
       "      <td>tworules_update_negative</td>\n",
       "      <td>results/tworules/agents.CorrectingAgent/0.7/ex...</td>\n",
       "      <td>None</td>\n",
       "      <td>done</td>\n",
       "    </tr>\n",
       "    <tr>\n",
       "      <th>40</th>\n",
       "      <td>tworules_update_once</td>\n",
       "      <td>results/tworules/agents.CorrectingAgent/0.7/ex...</td>\n",
       "      <td>None</td>\n",
       "      <td>done</td>\n",
       "    </tr>\n",
       "    <tr>\n",
       "      <th>41</th>\n",
       "      <td>tworules_update_once_with_negative</td>\n",
       "      <td>results/tworules/agents.CorrectingAgent/0.7/ex...</td>\n",
       "      <td>None</td>\n",
       "      <td>done</td>\n",
       "    </tr>\n",
       "    <tr>\n",
       "      <th>42</th>\n",
       "      <td>simple_kde</td>\n",
       "      <td>None</td>\n",
       "      <td>None</td>\n",
       "      <td>running</td>\n",
       "    </tr>\n",
       "    <tr>\n",
       "      <th>43</th>\n",
       "      <td>simple_kde</td>\n",
       "      <td>None</td>\n",
       "      <td>None</td>\n",
       "      <td>running</td>\n",
       "    </tr>\n",
       "    <tr>\n",
       "      <th>44</th>\n",
       "      <td>simple_kde</td>\n",
       "      <td>None</td>\n",
       "      <td>None</td>\n",
       "      <td>running</td>\n",
       "    </tr>\n",
       "    <tr>\n",
       "      <th>45</th>\n",
       "      <td>simple_kde</td>\n",
       "      <td>None</td>\n",
       "      <td>None</td>\n",
       "      <td>running</td>\n",
       "    </tr>\n",
       "    <tr>\n",
       "      <th>46</th>\n",
       "      <td>simple_kde</td>\n",
       "      <td>None</td>\n",
       "      <td>None</td>\n",
       "      <td>running</td>\n",
       "    </tr>\n",
       "    <tr>\n",
       "      <th>47</th>\n",
       "      <td>simple_kde</td>\n",
       "      <td>None</td>\n",
       "      <td>None</td>\n",
       "      <td>running</td>\n",
       "    </tr>\n",
       "    <tr>\n",
       "      <th>48</th>\n",
       "      <td>simple_kde</td>\n",
       "      <td>None</td>\n",
       "      <td>None</td>\n",
       "      <td>running</td>\n",
       "    </tr>\n",
       "    <tr>\n",
       "      <th>49</th>\n",
       "      <td>simple_kde</td>\n",
       "      <td>None</td>\n",
       "      <td>None</td>\n",
       "      <td>running</td>\n",
       "    </tr>\n",
       "    <tr>\n",
       "      <th>50</th>\n",
       "      <td>simple_kde</td>\n",
       "      <td>None</td>\n",
       "      <td>None</td>\n",
       "      <td>running</td>\n",
       "    </tr>\n",
       "    <tr>\n",
       "      <th>51</th>\n",
       "      <td>simple_kde</td>\n",
       "      <td>None</td>\n",
       "      <td>None</td>\n",
       "      <td>running</td>\n",
       "    </tr>\n",
       "    <tr>\n",
       "      <th>52</th>\n",
       "      <td>simple_kde</td>\n",
       "      <td>None</td>\n",
       "      <td>None</td>\n",
       "      <td>running</td>\n",
       "    </tr>\n",
       "    <tr>\n",
       "      <th>53</th>\n",
       "      <td>simple_kde</td>\n",
       "      <td>results/simplecolours/agents.CorrectingAgent/0...</td>\n",
       "      <td>None</td>\n",
       "      <td>done</td>\n",
       "    </tr>\n",
       "    <tr>\n",
       "      <th>54</th>\n",
       "      <td>simple_random</td>\n",
       "      <td>results/simplecolours/agents.RandomAgent/0.7/e...</td>\n",
       "      <td>None</td>\n",
       "      <td>done</td>\n",
       "    </tr>\n",
       "    <tr>\n",
       "      <th>55</th>\n",
       "      <td>DEFAULT</td>\n",
       "      <td>results/simplecolours/agents.CorrectingAgent/0...</td>\n",
       "      <td>None</td>\n",
       "      <td>done</td>\n",
       "    </tr>\n",
       "    <tr>\n",
       "      <th>56</th>\n",
       "      <td>simple_update_negative</td>\n",
       "      <td>None</td>\n",
       "      <td>None</td>\n",
       "      <td>running</td>\n",
       "    </tr>\n",
       "    <tr>\n",
       "      <th>57</th>\n",
       "      <td>simple_update_negative</td>\n",
       "      <td>None</td>\n",
       "      <td>None</td>\n",
       "      <td>running</td>\n",
       "    </tr>\n",
       "    <tr>\n",
       "      <th>58</th>\n",
       "      <td>simple_update_negative</td>\n",
       "      <td>results/simplecolours/agents.CorrectingAgent/0...</td>\n",
       "      <td>None</td>\n",
       "      <td>done</td>\n",
       "    </tr>\n",
       "    <tr>\n",
       "      <th>59</th>\n",
       "      <td>simple_kde_update_negative</td>\n",
       "      <td>None</td>\n",
       "      <td>None</td>\n",
       "      <td>running</td>\n",
       "    </tr>\n",
       "    <tr>\n",
       "      <th>60</th>\n",
       "      <td>simple_kde_update_negative</td>\n",
       "      <td>results/simplecolours/agents.CorrectingAgent/0...</td>\n",
       "      <td>None</td>\n",
       "      <td>done</td>\n",
       "    </tr>\n",
       "    <tr>\n",
       "      <th>61</th>\n",
       "      <td>onerule_kde</td>\n",
       "      <td>results/onerule/agents.CorrectingAgent/0.7/exp...</td>\n",
       "      <td>None</td>\n",
       "      <td>done</td>\n",
       "    </tr>\n",
       "    <tr>\n",
       "      <th>62</th>\n",
       "      <td>onerule_kde_update_negative</td>\n",
       "      <td>results/onerule/agents.CorrectingAgent/0.7/exp...</td>\n",
       "      <td>None</td>\n",
       "      <td>done</td>\n",
       "    </tr>\n",
       "  </tbody>\n",
       "</table>\n",
       "<p>63 rows × 4 columns</p>\n",
       "</div>"
      ],
      "text/plain": [
       "                              config_name  \\\n",
       "index                                       \n",
       "0                                    None   \n",
       "1                           simple_neural   \n",
       "2                      neural_onerule5000   \n",
       "3                      neural_onerule5000   \n",
       "4                      neural_onerule5000   \n",
       "5                      neural_onerule5000   \n",
       "6                                tworules   \n",
       "7                      tworules_no_update   \n",
       "8                                tworules   \n",
       "9                      tworules_no_update   \n",
       "10                               tworules   \n",
       "11                                onerule   \n",
       "12                onerule_update_negative   \n",
       "13                               tworules   \n",
       "14               tworules_update_negative   \n",
       "15                tworules_perfect_colour   \n",
       "16            tworules_perfect_colour_vis   \n",
       "17                tworules_perfect_colour   \n",
       "18                               tworules   \n",
       "19               tworules_update_negative   \n",
       "20                               tworules   \n",
       "21                               tworules   \n",
       "22               tworules_update_negative   \n",
       "23                   tworules_update_once   \n",
       "24                   tworules_update_once   \n",
       "25     tworules_update_once_with_negative   \n",
       "26                               tworules   \n",
       "27                               tworules   \n",
       "28                               tworules   \n",
       "29                               tworules   \n",
       "...                                   ...   \n",
       "33                               tworules   \n",
       "34                               tworules   \n",
       "35                               tworules   \n",
       "36               tworules_update_negative   \n",
       "37                               tworules   \n",
       "38                               tworules   \n",
       "39               tworules_update_negative   \n",
       "40                   tworules_update_once   \n",
       "41     tworules_update_once_with_negative   \n",
       "42                             simple_kde   \n",
       "43                             simple_kde   \n",
       "44                             simple_kde   \n",
       "45                             simple_kde   \n",
       "46                             simple_kde   \n",
       "47                             simple_kde   \n",
       "48                             simple_kde   \n",
       "49                             simple_kde   \n",
       "50                             simple_kde   \n",
       "51                             simple_kde   \n",
       "52                             simple_kde   \n",
       "53                             simple_kde   \n",
       "54                          simple_random   \n",
       "55                                DEFAULT   \n",
       "56                 simple_update_negative   \n",
       "57                 simple_update_negative   \n",
       "58                 simple_update_negative   \n",
       "59             simple_kde_update_negative   \n",
       "60             simple_kde_update_negative   \n",
       "61                            onerule_kde   \n",
       "62            onerule_kde_update_negative   \n",
       "\n",
       "                                         experiment_file  \\\n",
       "index                                                      \n",
       "0                                                   None   \n",
       "1      results/simplecolours/agents.NeuralCorrectingA...   \n",
       "2      results/onerule5000/agents.NeuralCorrectingAge...   \n",
       "3      results/onerule5000/agents.NeuralCorrectingAge...   \n",
       "4      results/onerule5000/agents.NeuralCorrectingAge...   \n",
       "5      results/onerule5000/agents.NeuralCorrectingAge...   \n",
       "6      results/tworules/agents.CorrectingAgent/0.7/ex...   \n",
       "7      results/tworules/agents.CorrectingAgent/0.7/ex...   \n",
       "8      results/tworules/agents.CorrectingAgent/0.7/ex...   \n",
       "9      results/tworules/agents.CorrectingAgent/0.7/ex...   \n",
       "10     results/tworules/agents.CorrectingAgent/0.7/ex...   \n",
       "11     results/onerule/agents.CorrectingAgent/0.7/exp...   \n",
       "12     results/onerule/agents.CorrectingAgent/0.7/exp...   \n",
       "13     results/tworules/agents.CorrectingAgent/0.7/ex...   \n",
       "14                                                  None   \n",
       "15     results/tworules/agents.PerfectColoursAgent/0....   \n",
       "16     results/tworules/agents.PerfectColoursAgent/0....   \n",
       "17                                                  None   \n",
       "18     results/tworules/agents.CorrectingAgent/0.7/ex...   \n",
       "19                                                  None   \n",
       "20                                                  None   \n",
       "21     results/tworules/agents.CorrectingAgent/0.7/ex...   \n",
       "22     results/tworules/agents.CorrectingAgent/0.7/ex...   \n",
       "23                                                  None   \n",
       "24     results/tworules/agents.CorrectingAgent/0.7/ex...   \n",
       "25     results/tworules/agents.CorrectingAgent/0.7/ex...   \n",
       "26                                                  None   \n",
       "27                                                  None   \n",
       "28                                                  None   \n",
       "29                                                  None   \n",
       "...                                                  ...   \n",
       "33                                                  None   \n",
       "34                                                  None   \n",
       "35     results/tworules/agents.CorrectingAgent/0.7/ex...   \n",
       "36                                                  None   \n",
       "37                                                  None   \n",
       "38     results/tworules/agents.CorrectingAgent/0.7/ex...   \n",
       "39     results/tworules/agents.CorrectingAgent/0.7/ex...   \n",
       "40     results/tworules/agents.CorrectingAgent/0.7/ex...   \n",
       "41     results/tworules/agents.CorrectingAgent/0.7/ex...   \n",
       "42                                                  None   \n",
       "43                                                  None   \n",
       "44                                                  None   \n",
       "45                                                  None   \n",
       "46                                                  None   \n",
       "47                                                  None   \n",
       "48                                                  None   \n",
       "49                                                  None   \n",
       "50                                                  None   \n",
       "51                                                  None   \n",
       "52                                                  None   \n",
       "53     results/simplecolours/agents.CorrectingAgent/0...   \n",
       "54     results/simplecolours/agents.RandomAgent/0.7/e...   \n",
       "55     results/simplecolours/agents.CorrectingAgent/0...   \n",
       "56                                                  None   \n",
       "57                                                  None   \n",
       "58     results/simplecolours/agents.CorrectingAgent/0...   \n",
       "59                                                  None   \n",
       "60     results/simplecolours/agents.CorrectingAgent/0...   \n",
       "61     results/onerule/agents.CorrectingAgent/0.7/exp...   \n",
       "62     results/onerule/agents.CorrectingAgent/0.7/exp...   \n",
       "\n",
       "                neural_config   status  \n",
       "index                                   \n",
       "0                        None     None  \n",
       "1                     DEFAULT     done  \n",
       "2                 adam_lr:0.1     done  \n",
       "3                   adam_lr:1     done  \n",
       "4        nesterov_lr:0.1mom:0     done  \n",
       "5      nesterov_lr:0.1mom:0.4     done  \n",
       "6                        None     done  \n",
       "7                        None     done  \n",
       "8                        None     done  \n",
       "9                        None     done  \n",
       "10                       None     done  \n",
       "11                       None     done  \n",
       "12                       None     done  \n",
       "13                       None     done  \n",
       "14                       None  running  \n",
       "15                       None     done  \n",
       "16                       None     done  \n",
       "17                       None  running  \n",
       "18                       None     done  \n",
       "19                       None  running  \n",
       "20                       None  running  \n",
       "21                       None     done  \n",
       "22                       None     done  \n",
       "23                       None  running  \n",
       "24                       None     done  \n",
       "25                       None     done  \n",
       "26                       None  running  \n",
       "27                       None  running  \n",
       "28                       None  running  \n",
       "29                       None  running  \n",
       "...                       ...      ...  \n",
       "33                       None  running  \n",
       "34                       None  running  \n",
       "35                       None     done  \n",
       "36                       None  running  \n",
       "37                       None  running  \n",
       "38                       None     done  \n",
       "39                       None     done  \n",
       "40                       None     done  \n",
       "41                       None     done  \n",
       "42                       None  running  \n",
       "43                       None  running  \n",
       "44                       None  running  \n",
       "45                       None  running  \n",
       "46                       None  running  \n",
       "47                       None  running  \n",
       "48                       None  running  \n",
       "49                       None  running  \n",
       "50                       None  running  \n",
       "51                       None  running  \n",
       "52                       None  running  \n",
       "53                       None     done  \n",
       "54                       None     done  \n",
       "55                       None     done  \n",
       "56                       None  running  \n",
       "57                       None  running  \n",
       "58                       None     done  \n",
       "59                       None  running  \n",
       "60                       None     done  \n",
       "61                       None     done  \n",
       "62                       None     done  \n",
       "\n",
       "[63 rows x 4 columns]"
      ]
     },
     "execution_count": 9,
     "metadata": {},
     "output_type": "execute_result"
    }
   ],
   "source": [
    "read_experiments()"
   ]
  },
  {
   "cell_type": "code",
   "execution_count": 5,
   "metadata": {},
   "outputs": [
    {
     "name": "stdout",
     "output_type": "stream",
     "text": [
      "bw 0.2\n",
      "bw 0.25\n",
      "bw 0.2\n",
      "bw 0.25\n",
      "bw 0.3333333333333333\n",
      "bw 1.0\n",
      "bw 0.5\n",
      "bw 0.3333333333333333\n",
      "bw 0.3333333333333333\n",
      "bw 0.5\n"
     ]
    },
    {
     "data": {
      "image/png": "[encoded data removed]",
      "text/plain": [
       "<Figure size 432x288 with 1 Axes>"
      ]
     },
     "metadata": {},
     "output_type": "display_data"
    }
   ],
   "source": [
    "exp = load_experiments([53, 58, 60], 'simple')\n",
    "exp.plot()"
   ]
  },
  {
   "cell_type": "code",
   "execution_count": 11,
   "metadata": {
    "scrolled": true
   },
   "outputs": [
    {
     "name": "stdout",
     "output_type": "stream",
     "text": [
      "bw 0.15\n",
      "bw 0.15\n",
      "bw 0.15\n",
      "bw 0.15\n",
      "bw 0.15\n",
      "bw 0.15\n",
      "bw 0.15\n",
      "bw 0.15\n",
      "bw 0.15\n",
      "bw 0.15\n"
     ]
    },
    {
     "data": {
      "image/png": "[encoded data removed]",
      "text/plain": [
       "<Figure size 432x288 with 1 Axes>"
      ]
     },
     "metadata": {},
     "output_type": "display_data"
    }
   ],
   "source": [
    "exp = load_experiments([11, 12, 61, 62], 'simple')\n",
    "exp.plot()"
   ]
  },
  {
   "cell_type": "code",
   "execution_count": 14,
   "metadata": {},
   "outputs": [],
   "source": [
    "rf = exp.results_files['agents.CorrectingAgent_0']"
   ]
  },
  {
   "cell_type": "code",
   "execution_count": 15,
   "metadata": {},
   "outputs": [
    {
     "name": "stdout",
     "output_type": "stream",
     "text": [
      "bw 0.2\n",
      "bw 0.25\n",
      "bw 0.2\n",
      "bw 0.25\n"
     ]
    }
   ],
   "source": [
    "agent = rf.load_agent()"
   ]
  },
  {
   "cell_type": "code",
   "execution_count": 21,
   "metadata": {},
   "outputs": [
    {
     "data": {
      "image/png": "[encoded data removed]",
      "text/plain": [
       "<Figure size 432x288 with 1 Axes>"
      ]
     },
     "metadata": {},
     "output_type": "display_data"
    }
   ],
   "source": [
    "agent.colour_models['red'].draw()"
   ]
  },
  {
   "cell_type": "code",
   "execution_count": null,
   "metadata": {},
   "outputs": [],
   "source": []
  }
 ],
 "metadata": {
  "kernelspec": {
   "display_name": "Python 3",
   "language": "python",
   "name": "python3"
  },
  "language_info": {
   "codemirror_mode": {
    "name": "ipython",
    "version": 3
   },
   "file_extension": ".py",
   "mimetype": "text/x-python",
   "name": "python",
   "nbconvert_exporter": "python",
   "pygments_lexer": "ipython3",
   "version": "3.6.3"
  }
 },
 "nbformat": 4,
 "nbformat_minor": 2
}

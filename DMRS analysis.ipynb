{
 "cells": [
  {
   "cell_type": "code",
   "execution_count": 1,
   "metadata": {},
   "outputs": [],
   "source": [
    "from delphin.interfaces import ace\n",
    "from delphin.mrs.simpledmrs import dump, dumps, serialize\n",
    "from delphin.mrs import convert\n",
    "from delphin.mrs.dmrx import loads\n",
    "from delphin.extra.latex import dmrs_tikz_dependency\n",
    "from collections import defaultdict\n",
    "\n",
    "def parse_sentence2(sentence, grammar = '../ace-0.9.26/erg-1214-x86-64-0.9.26.dat'):\n",
    "    p = ace.parse(grammar, sentence)\n",
    "    top_result = p['RESULTS'][0]['MRS']\n",
    "    dmrx = convert(p['RESULTS'][0]['MRS'], 'simplemrs', 'dmrx')\n",
    "    dmrxx = loads(dmrx, single=True)\n",
    "    return dmrxx.to_dict()\n",
    "\n",
    "\n",
    "\n",
    "def make_links(links):\n",
    "    d = defaultdict(dict)\n",
    "    for link in links:\n",
    "        d[link['from']][link['rargname']] = link['to']\n",
    "    return d\n",
    "\n",
    "def get_node(node, nodes):\n",
    "    for n in nodes:\n",
    "        if n['nodeid'] == node:\n",
    "            return n\n",
    "    else:\n",
    "        return None\n",
    "    \n",
    "def full_parse(sentence):\n",
    "    p = parse_sentence2(sentence)\n",
    "    links = make_links(p['links'])\n",
    "    nodes = p['nodes']\n",
    "    return links, nodes"
   ]
  },
  {
   "cell_type": "code",
   "execution_count": 2,
   "metadata": {},
   "outputs": [],
   "source": [
    "l, n = full_parse('don\\'t put red blocks on blue blocks')"
   ]
  },
  {
   "cell_type": "code",
   "execution_count": 4,
   "metadata": {},
   "outputs": [
    {
     "data": {
      "text/plain": [
       "[{'lnk': {'from': 0, 'to': 5}, 'nodeid': 10000, 'predicate': 'pronoun_q'},\n",
       " {'lnk': {'from': 0, 'to': 5},\n",
       "  'nodeid': 10001,\n",
       "  'predicate': 'pron',\n",
       "  'sortinfo': {'cvarsort': 'x', 'pers': '2', 'pt': 'zero'}},\n",
       " {'lnk': {'from': 0, 'to': 5},\n",
       "  'nodeid': 10002,\n",
       "  'predicate': 'neg',\n",
       "  'sortinfo': {'cvarsort': 'i'}},\n",
       " {'lnk': {'from': 6, 'to': 9},\n",
       "  'nodeid': 10003,\n",
       "  'predicate': '_put_v_1',\n",
       "  'sortinfo': {'cvarsort': 'e',\n",
       "   'mood': 'indicative',\n",
       "   'perf': '-',\n",
       "   'prog': '-',\n",
       "   'sf': 'comm',\n",
       "   'tense': 'pres'}},\n",
       " {'lnk': {'from': 10, 'to': 20}, 'nodeid': 10004, 'predicate': 'udef_q'},\n",
       " {'lnk': {'from': 10, 'to': 13},\n",
       "  'nodeid': 10005,\n",
       "  'predicate': '_red_a_1',\n",
       "  'sortinfo': {'cvarsort': 'e',\n",
       "   'mood': 'indicative',\n",
       "   'perf': '-',\n",
       "   'prog': '-',\n",
       "   'sf': 'prop',\n",
       "   'tense': 'untensed'}},\n",
       " {'lnk': {'from': 14, 'to': 20},\n",
       "  'nodeid': 10006,\n",
       "  'predicate': '_block_n_of',\n",
       "  'sortinfo': {'cvarsort': 'x', 'ind': '+', 'num': 'pl', 'pers': '3'}},\n",
       " {'lnk': {'from': 21, 'to': 23},\n",
       "  'nodeid': 10007,\n",
       "  'predicate': '_on_p',\n",
       "  'sortinfo': {'cvarsort': 'e',\n",
       "   'mood': 'indicative',\n",
       "   'perf': '-',\n",
       "   'prog': '-',\n",
       "   'sf': 'prop',\n",
       "   'tense': 'untensed'}},\n",
       " {'lnk': {'from': 24, 'to': 35}, 'nodeid': 10008, 'predicate': 'udef_q'},\n",
       " {'lnk': {'from': 24, 'to': 28},\n",
       "  'nodeid': 10009,\n",
       "  'predicate': '_blue_a_1',\n",
       "  'sortinfo': {'cvarsort': 'e',\n",
       "   'mood': 'indicative',\n",
       "   'perf': '-',\n",
       "   'prog': '-',\n",
       "   'sf': 'prop',\n",
       "   'tense': 'untensed'}},\n",
       " {'lnk': {'from': 29, 'to': 35},\n",
       "  'nodeid': 10010,\n",
       "  'predicate': '_block_n_of',\n",
       "  'sortinfo': {'cvarsort': 'x', 'ind': '+', 'num': 'pl', 'pers': '3'}}]"
      ]
     },
     "execution_count": 4,
     "metadata": {},
     "output_type": "execute_result"
    }
   ],
   "source": [
    "n"
   ]
  },
  {
   "cell_type": "code",
   "execution_count": 17,
   "metadata": {
    "scrolled": true
   },
   "outputs": [
    {
     "data": {
      "text/plain": [
       "{'lnk': {'from': 6, 'to': 9},\n",
       " 'nodeid': 10003,\n",
       " 'predicate': '_put_v_1',\n",
       " 'sortinfo': {'cvarsort': 'e',\n",
       "  'mood': 'indicative',\n",
       "  'perf': '-',\n",
       "  'prog': '-',\n",
       "  'sf': 'comm',\n",
       "  'tense': 'pres'}}"
      ]
     },
     "execution_count": 17,
     "metadata": {},
     "output_type": "execute_result"
    }
   ],
   "source": [
    "get_node(10003, n)"
   ]
  },
  {
   "cell_type": "code",
   "execution_count": 9,
   "metadata": {},
   "outputs": [],
   "source": [
    "def get_pos(string):\n",
    "    parts = string.strip('_').split('_')\n",
    "    try:\n",
    "        return parts[1]\n",
    "    except IndexError:\n",
    "        return ''\n",
    "\n",
    "def find_verb(links, nodes):\n",
    "    root = links[0][None]\n",
    "    curr_link = root\n",
    "    while get_pos(get_node(curr_link, nodes)['predicate']) != 'v':\n",
    "        curr_link = links[curr_link]['ARG1']\n",
    "    return get_node(curr_link, nodes)\n",
    "    \n",
    "def find_rel(links, nodes):\n",
    "    verb = find_verb(links, nodes)\n",
    "    nodeid = verb['nodeid']\n",
    "    rel = links[nodeid]['ARG3']\n",
    "    return get_node(rel, nodes)\n",
    "\n",
    "def find_open_class(links, nodes, arg='ARG1'):\n",
    "    rel = find_rel(links, nodes)\n",
    "    obj = []\n",
    "    root = links[rel['nodeid']][arg]\n",
    "    obj.append(get_node(root, nodes))\n",
    "    for key,value in links.items():\n",
    "        try:\n",
    "            link = value['ARG1']\n",
    "        except KeyError:\n",
    "            continue\n",
    "        if root == link:\n",
    "            node = get_node(key, nodes)\n",
    "            if get_pos(node['predicate']) != 'p':\n",
    "                obj.append(get_node(key, nodes))\n",
    "            \n",
    "    return obj"
   ]
  },
  {
   "cell_type": "code",
   "execution_count": 45,
   "metadata": {},
   "outputs": [
    {
     "data": {
      "text/plain": [
       "[{'lnk': {'from': 14, 'to': 20},\n",
       "  'nodeid': 10006,\n",
       "  'predicate': '_block_n_of',\n",
       "  'sortinfo': {'cvarsort': 'x', 'ind': '+', 'num': 'pl', 'pers': '3'}},\n",
       " {'lnk': {'from': 10, 'to': 13},\n",
       "  'nodeid': 10005,\n",
       "  'predicate': '_red_a_1',\n",
       "  'sortinfo': {'cvarsort': 'e',\n",
       "   'mood': 'indicative',\n",
       "   'perf': '-',\n",
       "   'prog': '-',\n",
       "   'sf': 'prop',\n",
       "   'tense': 'untensed'}}]"
      ]
     },
     "execution_count": 45,
     "metadata": {},
     "output_type": "execute_result"
    }
   ],
   "source": [
    "find_open_class(l, n)"
   ]
  },
  {
   "cell_type": "code",
   "execution_count": 46,
   "metadata": {},
   "outputs": [
    {
     "data": {
      "text/plain": [
       "[{'lnk': {'from': 29, 'to': 35},\n",
       "  'nodeid': 10010,\n",
       "  'predicate': '_block_n_of',\n",
       "  'sortinfo': {'cvarsort': 'x', 'ind': '+', 'num': 'pl', 'pers': '3'}},\n",
       " {'lnk': {'from': 24, 'to': 28},\n",
       "  'nodeid': 10009,\n",
       "  'predicate': '_blue_a_1',\n",
       "  'sortinfo': {'cvarsort': 'e',\n",
       "   'mood': 'indicative',\n",
       "   'perf': '-',\n",
       "   'prog': '-',\n",
       "   'sf': 'prop',\n",
       "   'tense': 'untensed'}}]"
      ]
     },
     "execution_count": 46,
     "metadata": {},
     "output_type": "execute_result"
    }
   ],
   "source": [
    "find_open_class(l, n, arg='ARG2')"
   ]
  },
  {
   "cell_type": "code",
   "execution_count": 8,
   "metadata": {},
   "outputs": [],
   "source": [
    "def get_tripple(links, nodes):\n",
    "    rel = find_rel(links, nodes)\n",
    "    obj1 = find_open_class(links, nodes, arg='ARG1')\n",
    "    obj2 = find_open_class(links, nodes, arg='ARG2')\n",
    "    return rel, obj1, obj2"
   ]
  },
  {
   "cell_type": "code",
   "execution_count": 7,
   "metadata": {},
   "outputs": [],
   "source": [
    "def sent_to_tripple(sentence):\n",
    "    links, nodes = full_parse(sentence)\n",
    "    return get_tripple(links, nodes)"
   ]
  },
  {
   "cell_type": "code",
   "execution_count": 58,
   "metadata": {},
   "outputs": [
    {
     "data": {
      "text/plain": [
       "({'lnk': {'from': 15, 'to': 17},\n",
       "  'nodeid': 10006,\n",
       "  'predicate': '_on_p',\n",
       "  'sortinfo': {'cvarsort': 'e',\n",
       "   'mood': 'indicative',\n",
       "   'perf': '-',\n",
       "   'prog': '-',\n",
       "   'sf': 'prop',\n",
       "   'tense': 'untensed'}},\n",
       " [{'lnk': {'from': 8, 'to': 14},\n",
       "   'nodeid': 10005,\n",
       "   'predicate': '_block_n_of',\n",
       "   'sortinfo': {'cvarsort': 'x', 'ind': '+', 'num': 'pl', 'pers': '3'}},\n",
       "  {'lnk': {'from': 4, 'to': 7},\n",
       "   'nodeid': 10004,\n",
       "   'predicate': '_red_a_1',\n",
       "   'sortinfo': {'cvarsort': 'e',\n",
       "    'mood': 'indicative',\n",
       "    'perf': '-',\n",
       "    'prog': '-',\n",
       "    'sf': 'prop',\n",
       "    'tense': 'untensed'}}],\n",
       " [{'lnk': {'from': 23, 'to': 29},\n",
       "   'nodeid': 10009,\n",
       "   'predicate': '_block_n_of',\n",
       "   'sortinfo': {'cvarsort': 'x', 'ind': '+', 'num': 'pl', 'pers': '3'}},\n",
       "  {'lnk': {'from': 18, 'to': 22},\n",
       "   'nodeid': 10008,\n",
       "   'predicate': '_blue_a_1',\n",
       "   'sortinfo': {'cvarsort': 'e',\n",
       "    'mood': 'indicative',\n",
       "    'perf': '-',\n",
       "    'prog': '-',\n",
       "    'sf': 'prop',\n",
       "    'tense': 'untensed'}}])"
      ]
     },
     "execution_count": 58,
     "metadata": {},
     "output_type": "execute_result"
    }
   ],
   "source": [
    "sent_to_tripple('put red blocks on blue blocks')"
   ]
  },
  {
   "cell_type": "code",
   "execution_count": 11,
   "metadata": {},
   "outputs": [
    {
     "data": {
      "text/plain": [
       "({'lnk': {'from': 15, 'to': 17},\n",
       "  'nodeid': 10006,\n",
       "  'predicate': '_on_p',\n",
       "  'sortinfo': {'cvarsort': 'e',\n",
       "   'mood': 'indicative',\n",
       "   'perf': '-',\n",
       "   'prog': '-',\n",
       "   'sf': 'prop',\n",
       "   'tense': 'untensed'}},\n",
       " [{'lnk': {'from': 8, 'to': 14},\n",
       "   'nodeid': 10005,\n",
       "   'predicate': '_block_n_of',\n",
       "   'sortinfo': {'cvarsort': 'x', 'ind': '+', 'num': 'pl', 'pers': '3'}},\n",
       "  {'lnk': {'from': 4, 'to': 7},\n",
       "   'nodeid': 10004,\n",
       "   'predicate': '_red_a_1',\n",
       "   'sortinfo': {'cvarsort': 'e',\n",
       "    'mood': 'indicative',\n",
       "    'perf': '-',\n",
       "    'prog': '-',\n",
       "    'sf': 'prop',\n",
       "    'tense': 'untensed'}}],\n",
       " [{'lnk': {'from': 23, 'to': 29},\n",
       "   'nodeid': 10009,\n",
       "   'predicate': '_block_n_of',\n",
       "   'sortinfo': {'cvarsort': 'x', 'ind': '+', 'num': 'pl', 'pers': '3'}},\n",
       "  {'lnk': {'from': 18, 'to': 22},\n",
       "   'nodeid': 10008,\n",
       "   'predicate': '_blue_a_1',\n",
       "   'sortinfo': {'cvarsort': 'e',\n",
       "    'mood': 'indicative',\n",
       "    'perf': '-',\n",
       "    'prog': '-',\n",
       "    'sf': 'prop',\n",
       "    'tense': 'untensed'}}])"
      ]
     },
     "execution_count": 11,
     "metadata": {},
     "output_type": "execute_result"
    }
   ],
   "source": [
    "sent_to_tripple('put red blocks on blue blocks')"
   ]
  },
  {
   "cell_type": "code",
   "execution_count": 5,
   "metadata": {
    "scrolled": true
   },
   "outputs": [
    {
     "data": {
      "text/plain": [
       "(defaultdict(dict,\n",
       "             {0: {None: 10002},\n",
       "              10000: {'RSTR': 10001},\n",
       "              10002: {'ARG1': 10001, 'ARG2': 10005},\n",
       "              10003: {'RSTR': 10005},\n",
       "              10004: {'ARG1': 10005},\n",
       "              10006: {'ARG1': 10002, 'ARG2': 10009},\n",
       "              10007: {'RSTR': 10009},\n",
       "              10008: {'ARG1': 10009}}),\n",
       " [{'lnk': {'from': 0, 'to': 30}, 'nodeid': 10000, 'predicate': 'pronoun_q'},\n",
       "  {'lnk': {'from': 0, 'to': 30},\n",
       "   'nodeid': 10001,\n",
       "   'predicate': 'pron',\n",
       "   'sortinfo': {'cvarsort': 'x', 'pers': '2', 'pt': 'zero'}},\n",
       "  {'lnk': {'from': 0, 'to': 4},\n",
       "   'nodeid': 10002,\n",
       "   'predicate': '_have_v_1',\n",
       "   'sortinfo': {'cvarsort': 'e',\n",
       "    'mood': 'indicative',\n",
       "    'perf': '-',\n",
       "    'prog': '-',\n",
       "    'sf': 'comm',\n",
       "    'tense': 'pres'}},\n",
       "  {'lnk': {'from': 5, 'to': 15}, 'nodeid': 10003, 'predicate': 'udef_q'},\n",
       "  {'lnk': {'from': 5, 'to': 8},\n",
       "   'nodeid': 10004,\n",
       "   'predicate': '_red_a_1',\n",
       "   'sortinfo': {'cvarsort': 'e',\n",
       "    'mood': 'indicative',\n",
       "    'perf': '-',\n",
       "    'prog': '-',\n",
       "    'sf': 'prop',\n",
       "    'tense': 'untensed'}},\n",
       "  {'lnk': {'from': 9, 'to': 15},\n",
       "   'nodeid': 10005,\n",
       "   'predicate': '_block_n_of',\n",
       "   'sortinfo': {'cvarsort': 'x', 'ind': '+', 'num': 'pl', 'pers': '3'}},\n",
       "  {'lnk': {'from': 16, 'to': 18},\n",
       "   'nodeid': 10006,\n",
       "   'predicate': '_on_p',\n",
       "   'sortinfo': {'cvarsort': 'e',\n",
       "    'mood': 'indicative',\n",
       "    'perf': '-',\n",
       "    'prog': '-',\n",
       "    'sf': 'prop',\n",
       "    'tense': 'untensed'}},\n",
       "  {'lnk': {'from': 19, 'to': 30}, 'nodeid': 10007, 'predicate': 'udef_q'},\n",
       "  {'lnk': {'from': 19, 'to': 23},\n",
       "   'nodeid': 10008,\n",
       "   'predicate': '_blue_a_1',\n",
       "   'sortinfo': {'cvarsort': 'e',\n",
       "    'mood': 'indicative',\n",
       "    'perf': '-',\n",
       "    'prog': '-',\n",
       "    'sf': 'prop',\n",
       "    'tense': 'untensed'}},\n",
       "  {'lnk': {'from': 24, 'to': 30},\n",
       "   'nodeid': 10009,\n",
       "   'predicate': '_block_n_of',\n",
       "   'sortinfo': {'cvarsort': 'x', 'ind': '+', 'num': 'pl', 'pers': '3'}}])"
      ]
     },
     "execution_count": 5,
     "metadata": {},
     "output_type": "execute_result"
    }
   ],
   "source": [
    "full_parse('have red blocks on blue blocks')"
   ]
  },
  {
   "cell_type": "code",
   "execution_count": 57,
   "metadata": {
    "scrolled": true
   },
   "outputs": [
    {
     "data": {
      "text/plain": [
       "(defaultdict(dict,\n",
       "             {0: {None: 10002},\n",
       "              10000: {'RSTR': 10001},\n",
       "              10002: {'ARG1': 10001, 'ARG2': 10003},\n",
       "              10003: {'ARG1': 10004},\n",
       "              10004: {'ARG1': 10001, 'ARG2': 10007, 'ARG3': 10008},\n",
       "              10005: {'RSTR': 10007},\n",
       "              10006: {'ARG1': 10007},\n",
       "              10008: {'ARG1': 10007, 'ARG2': 10011},\n",
       "              10009: {'RSTR': 10011},\n",
       "              10010: {'ARG1': 10011}}),\n",
       " [{'lnk': {'from': 0, 'to': 42}, 'nodeid': 10000, 'predicate': 'pronoun_q'},\n",
       "  {'lnk': {'from': 0, 'to': 42},\n",
       "   'nodeid': 10001,\n",
       "   'predicate': 'pron',\n",
       "   'sortinfo': {'cvarsort': 'x', 'pers': '2', 'pt': 'zero'}},\n",
       "  {'lnk': {'from': 0, 'to': 4},\n",
       "   'nodeid': 10002,\n",
       "   'predicate': '_make_v_i',\n",
       "   'sortinfo': {'cvarsort': 'e',\n",
       "    'mood': 'indicative',\n",
       "    'perf': '-',\n",
       "    'prog': '-',\n",
       "    'sf': 'comm',\n",
       "    'tense': 'pres'}},\n",
       "  {'lnk': {'from': 5, 'to': 9},\n",
       "   'nodeid': 10003,\n",
       "   'predicate': '_sure_a_of',\n",
       "   'sortinfo': {'cvarsort': 'e',\n",
       "    'mood': 'indicative',\n",
       "    'perf': '-',\n",
       "    'prog': '-',\n",
       "    'sf': 'prop',\n",
       "    'tense': 'untensed'}},\n",
       "  {'lnk': {'from': 13, 'to': 16},\n",
       "   'nodeid': 10004,\n",
       "   'predicate': '_put_v_1',\n",
       "   'sortinfo': {'cvarsort': 'e',\n",
       "    'mood': 'indicative',\n",
       "    'perf': '-',\n",
       "    'prog': '-',\n",
       "    'sf': 'prop-or-ques',\n",
       "    'tense': 'untensed'}},\n",
       "  {'lnk': {'from': 17, 'to': 27}, 'nodeid': 10005, 'predicate': 'udef_q'},\n",
       "  {'lnk': {'from': 17, 'to': 20},\n",
       "   'nodeid': 10006,\n",
       "   'predicate': '_red_a_1',\n",
       "   'sortinfo': {'cvarsort': 'e',\n",
       "    'mood': 'indicative',\n",
       "    'perf': '-',\n",
       "    'prog': '-',\n",
       "    'sf': 'prop',\n",
       "    'tense': 'untensed'}},\n",
       "  {'lnk': {'from': 21, 'to': 27},\n",
       "   'nodeid': 10007,\n",
       "   'predicate': '_block_n_of',\n",
       "   'sortinfo': {'cvarsort': 'x', 'ind': '+', 'num': 'pl', 'pers': '3'}},\n",
       "  {'lnk': {'from': 28, 'to': 30},\n",
       "   'nodeid': 10008,\n",
       "   'predicate': '_on_p',\n",
       "   'sortinfo': {'cvarsort': 'e',\n",
       "    'mood': 'indicative',\n",
       "    'perf': '-',\n",
       "    'prog': '-',\n",
       "    'sf': 'prop',\n",
       "    'tense': 'untensed'}},\n",
       "  {'lnk': {'from': 31, 'to': 42}, 'nodeid': 10009, 'predicate': 'udef_q'},\n",
       "  {'lnk': {'from': 31, 'to': 35},\n",
       "   'nodeid': 10010,\n",
       "   'predicate': '_blue_a_1',\n",
       "   'sortinfo': {'cvarsort': 'e',\n",
       "    'mood': 'indicative',\n",
       "    'perf': '-',\n",
       "    'prog': '-',\n",
       "    'sf': 'prop',\n",
       "    'tense': 'untensed'}},\n",
       "  {'lnk': {'from': 36, 'to': 42},\n",
       "   'nodeid': 10011,\n",
       "   'predicate': '_block_n_of',\n",
       "   'sortinfo': {'cvarsort': 'x', 'ind': '+', 'num': 'pl', 'pers': '3'}}])"
      ]
     },
     "execution_count": 57,
     "metadata": {},
     "output_type": "execute_result"
    }
   ],
   "source": [
    "full_parse('make sure to put red blocks on blue blocks')"
   ]
  },
  {
   "cell_type": "code",
   "execution_count": null,
   "metadata": {},
   "outputs": [],
   "source": []
  }
 ],
 "metadata": {
  "kernelspec": {
   "display_name": "Python 3",
   "language": "python",
   "name": "python3"
  },
  "language_info": {
   "codemirror_mode": {
    "name": "ipython",
    "version": 3
   },
   "file_extension": ".py",
   "mimetype": "text/x-python",
   "name": "python",
   "nbconvert_exporter": "python",
   "pygments_lexer": "ipython3",
   "version": "3.6.3"
  }
 },
 "nbformat": 4,
 "nbformat_minor": 2
}

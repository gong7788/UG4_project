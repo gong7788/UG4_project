{
 "cells": [
  {
   "cell_type": "code",
   "execution_count": 1,
   "metadata": {},
   "outputs": [],
   "source": [
    "from correctingagent.world import world\n",
    "from correctingagent.agents.PGMAgent import PGMCorrectingAgent, read_sentence\n",
    "from correctingagent.agents.teacher import TeacherAgent, FaultyTeacherAgent\n",
    "from correctingagent.world.world import RandomColoursWorld\n",
    "from correctingagent.models.pgmmodels import InferenceType\n",
    "from correctingagent.models.pgmmodels import *\n",
    "from correctingagent.util.CPD_generation import variable_or_CPD"
   ]
  },
  {
   "cell_type": "code",
   "execution_count": 1,
   "metadata": {},
   "outputs": [],
   "source": [
    "import pythonpddl.pddl"
   ]
  },
  {
   "cell_type": "code",
   "execution_count": 4,
   "metadata": {},
   "outputs": [
    {
     "name": "stdout",
     "output_type": "stream",
     "text": [
      "Parsing domain /home/mappelgren/Desktop/correcting-agent/data/domain/blocks-domain.pddl\n",
      "Parsing problem /home/mappelgren/Desktop/correcting-agent/data/big_bijection_random_colours/big_bijection_random_colours0/problem5.pddl\n"
     ]
    }
   ],
   "source": [
    "# The RandomColoursWorld represents a situation where we use the \"colours.json\" files to identify the rgp value of individual objects\n",
    "# The problem directory is the full directory information starting from correctingagent/data\n",
    "# The problem number is simply the number of the problem: problem5.pddl\n",
    "# The domain file is assumed to be located in correctingagent/data/domain\n",
    "w = RandomColoursWorld(problem_directory=\"big_bijection_random_colours/big_bijection_random_colours0\", \n",
    "                       problem_number=5, \n",
    "                       domain_file=\"blocks-domain.pddl\")\n",
    "\n",
    "teacher = TeacherAgent()\n",
    "\n",
    "# \n",
    "agent = PGMCorrectingAgent(w, teacher=teacher)\n",
    "\n",
    "# plan =[('put', ['b9', 't0']), ('put', ['b8', 'b9']), \n",
    "#        ('put', ['b7', 'b8']), ('put', ['b6', 'b7'])]\n",
    "    \n",
    "# for action, args in plan:\n",
    "#     w.update(action, args)\n",
    "\n",
    "\n",
    "# agent.get_correction(\"no, now you cannot put b0 in the tower because you must put green blocks on blue blocks\", action, args)\n",
    "# action, args = ('put', ['b0', 'b7'])\n",
    "# print()\n",
    "# print()\n",
    "# w.update(action, args)\n",
    "# agent.no_correction(action, args)\n",
    "\n",
    "\n",
    "\n",
    "# action, args = ('put', ['b6', 'b0'])\n",
    "# print()\n",
    "# print()\n",
    "# w.update(action, args)\n",
    "# agent.no_correction(action, args)"
   ]
  },
  {
   "cell_type": "code",
   "execution_count": 18,
   "metadata": {},
   "outputs": [
    {
     "name": "stdout",
     "output_type": "stream",
     "text": [
      "Parsing domain /home/mappelgren/Desktop/correcting-agent/data/domain/blocks-domain.pddl\n",
      "Parsing problem /home/mappelgren/Desktop/correcting-agent/data/big_bijection_random_colours/big_bijection_random_colours0/problem5.pddl\n"
     ]
    },
    {
     "data": {
      "image/png": "[encoded data removed]",
      "text/plain": [
       "<Figure size 432x288 with 1 Axes>"
      ]
     },
     "metadata": {
      "needs_background": "light"
     },
     "output_type": "display_data"
    }
   ],
   "source": [
    "w.reset()\n",
    "\n",
    "w.update('put', ['b1', 't0'])\n",
    "w.update('put', ['b0', 'b1'])\n",
    "w.draw()"
   ]
  },
  {
   "cell_type": "code",
   "execution_count": 19,
   "metadata": {},
   "outputs": [
    {
     "data": {
      "text/plain": [
       "'no, put yellow blocks on orange blocks'"
      ]
     },
     "execution_count": 19,
     "metadata": {},
     "output_type": "execute_result"
    }
   ],
   "source": [
    "teacher.correction(w, 'put', ['b0', 'b1'])"
   ]
  },
  {
   "cell_type": "code",
   "execution_count": 20,
   "metadata": {},
   "outputs": [
    {
     "name": "stdout",
     "output_type": "stream",
     "text": [
      "fix bw? False\n",
      "bw 0.5\n",
      "fix bw? False\n",
      "bw 0.5\n",
      "no, put yellow blocks on orange blocks\n",
      "Is the top object yellow?\n"
     ]
    }
   ],
   "source": [
    "agent.get_correction('no, put yellow blocks on orange blocks', 'put', ['b0', 'b1'])"
   ]
  },
  {
   "cell_type": "code",
   "execution_count": 21,
   "metadata": {},
   "outputs": [
    {
     "data": {
      "image/png": "[encoded data removed]",
      "text/plain": [
       "<Figure size 432x288 with 1 Axes>"
      ]
     },
     "metadata": {
      "needs_background": "light"
     },
     "output_type": "display_data"
    }
   ],
   "source": [
    "w.draw()"
   ]
  },
  {
   "cell_type": "code",
   "execution_count": 22,
   "metadata": {},
   "outputs": [],
   "source": [
    "w.update('put', ['b2', 'b1'])"
   ]
  },
  {
   "cell_type": "code",
   "execution_count": 23,
   "metadata": {},
   "outputs": [
    {
     "data": {
      "text/plain": [
       "''"
      ]
     },
     "execution_count": 23,
     "metadata": {},
     "output_type": "execute_result"
    }
   ],
   "source": [
    "teacher.correction(w, 'put', ['b2', 'b1'])"
   ]
  },
  {
   "cell_type": "code",
   "execution_count": 24,
   "metadata": {},
   "outputs": [],
   "source": [
    "agent.no_correction('put', ['b2', 'b1'])"
   ]
  },
  {
   "cell_type": "code",
   "execution_count": 5,
   "metadata": {},
   "outputs": [
    {
     "name": "stdout",
     "output_type": "stream",
     "text": [
      "Parsing domain /home/mappelgren/Desktop/correcting-agent/data/domain/blocks-domain.pddl\n",
      "Parsing problem /home/mappelgren/Desktop/correcting-agent/data/big_bijection_random_colours/big_bijection_random_colours0/problem5.pddl\n",
      "blocks-domain.pddl False\n",
      "planning 0.01213526725769043 time\n",
      "put ['b9', 't0']\n",
      "put ['b8', 'b9']\n",
      "fix bw? True\n",
      "bw 0.05\n",
      "fix bw? True\n",
      "bw 0.05\n",
      "no, put yellow blocks on orange blocks\n",
      "Is the top object yellow?\n",
      "blocks-domain.pddl False\n",
      "planning 0.017015457153320312 time\n",
      "put ['b0', 'b9']\n",
      "put ['b8', 'b0']\n",
      "no, put yellow blocks on orange blocks\n",
      "blocks-domain.pddl False\n",
      "planning 0.021158456802368164 time\n",
      "put ['b2', 'b0']\n",
      "no, put yellow blocks on orange blocks\n",
      "blocks-domain.pddl False\n",
      "planning 0.07957124710083008 time\n",
      "put ['b7', 'b0']\n",
      "no, put yellow blocks on orange blocks\n",
      "blocks-domain.pddl False\n",
      "planning 0.12186551094055176 time\n",
      "put ['b6', 'b0']\n",
      "put ['b8', 'b6']\n",
      "no, put yellow blocks on orange blocks\n",
      "blocks-domain.pddl False\n",
      "planning 0.01992940902709961 time\n",
      "put ['b1', 'b6']\n",
      "put ['b2', 'b1']\n",
      "put ['b8', 'b2']\n",
      "no, put yellow blocks on orange blocks\n",
      "blocks-domain.pddl False\n",
      "planning 0.23269200325012207 time\n",
      "put ['b7', 'b2']\n",
      "no, put yellow blocks on orange blocks\n",
      "blocks-domain.pddl False\n",
      "planning 0.2358541488647461 time\n",
      "put ['b5', 'b2']\n",
      "put ['b8', 'b5']\n",
      "put ['b7', 'b8']\n",
      "no, put yellow blocks on orange blocks\n",
      "blocks-domain.pddl False\n",
      "planning 0.03061676025390625 time\n",
      "put ['b4', 'b8']\n",
      "put ['b3', 'b4']\n",
      "put ['b7', 'b3']\n"
     ]
    }
   ],
   "source": [
    "# This is the basic loop for the agent solving a particular problem\n",
    "w = RandomColoursWorld(problem_directory=\"big_bijection_random_colours/big_bijection_random_colours0\", \n",
    "                       problem_number=5, \n",
    "                       domain_file=\"blocks-domain.pddl\")\n",
    "\n",
    "teacher = TeacherAgent()\n",
    "\n",
    "agent = PGMCorrectingAgent(w, teacher=teacher, model_config={\"fix_bw\":True, \"bw\":0.05})\n",
    "\n",
    "\n",
    "while w.test_success() is False:\n",
    "    for a, args, in agent.plan():\n",
    "        print(a, args)\n",
    "        w.update(a, args)\n",
    "        u = teacher.correction(w, a, args)\n",
    "        if u != '':\n",
    "            agent.get_correction(u, a, args)\n",
    "            break\n",
    "        else:\n",
    "            agent.no_correction(a, args)\n",
    "\n",
    "            "
   ]
  },
  {
   "cell_type": "markdown",
   "metadata": {},
   "source": [
    "# Working with the world object"
   ]
  },
  {
   "cell_type": "code",
   "execution_count": 6,
   "metadata": {},
   "outputs": [
    {
     "name": "stdout",
     "output_type": "stream",
     "text": [
      "Parsing domain /home/mappelgren/Desktop/correcting-agent/data/domain/blocks-domain.pddl\n",
      "Parsing problem /home/mappelgren/Desktop/correcting-agent/data/big_bijection_random_colours/big_bijection_random_colours0/problem5.pddl\n"
     ]
    }
   ],
   "source": [
    "w = RandomColoursWorld(problem_directory=\"big_bijection_random_colours/big_bijection_random_colours0\", \n",
    "                       problem_number=5, \n",
    "                       domain_file=\"blocks-domain.pddl\")\n"
   ]
  },
  {
   "cell_type": "code",
   "execution_count": 7,
   "metadata": {},
   "outputs": [
    {
     "data": {
      "image/png": "[encoded data removed]",
      "text/plain": [
       "<Figure size 432x288 with 1 Axes>"
      ]
     },
     "metadata": {
      "needs_background": "light"
     },
     "output_type": "display_data"
    }
   ],
   "source": [
    "# The world object contains several useful functions for working with the PDDL state\n",
    "# You can draw the current state:\n",
    "w.draw()"
   ]
  },
  {
   "cell_type": "code",
   "execution_count": 8,
   "metadata": {},
   "outputs": [
    {
     "data": {
      "image/png": "[encoded data removed]",
      "text/plain": [
       "<Figure size 432x288 with 1 Axes>"
      ]
     },
     "metadata": {
      "needs_background": "light"
     },
     "output_type": "display_data"
    }
   ],
   "source": [
    "# You can update the state by giving it an action to perform\n",
    "w.update('put', ['b1', 't0'])\n",
    "w.update('put', ['b0', 'b1'])\n",
    "w.draw()"
   ]
  },
  {
   "cell_type": "code",
   "execution_count": 9,
   "metadata": {},
   "outputs": [
    {
     "data": {
      "image/png": "[encoded data removed]",
      "text/plain": [
       "<Figure size 432x288 with 1 Axes>"
      ]
     },
     "metadata": {
      "needs_background": "light"
     },
     "output_type": "display_data"
    }
   ],
   "source": [
    "# You can undo previous moves\n",
    "w.back_track()\n",
    "w.draw()"
   ]
  },
  {
   "cell_type": "code",
   "execution_count": 11,
   "metadata": {},
   "outputs": [
    {
     "name": "stdout",
     "output_type": "stream",
     "text": [
      "Parsing domain /home/mappelgren/Desktop/correcting-agent/data/domain/blocks-domain.pddl\n",
      "Parsing problem /home/mappelgren/Desktop/correcting-agent/data/big_bijection_random_colours/big_bijection_random_colours0/problem5.pddl\n"
     ]
    },
    {
     "data": {
      "image/png": "[encoded data removed]",
      "text/plain": [
       "<Figure size 432x288 with 1 Axes>"
      ]
     },
     "metadata": {
      "needs_background": "light"
     },
     "output_type": "display_data"
    }
   ],
   "source": [
    "# or simply reset it to the start\n",
    "w.reset()\n",
    "w.draw()"
   ]
  },
  {
   "cell_type": "code",
   "execution_count": 20,
   "metadata": {},
   "outputs": [
    {
     "name": "stdout",
     "output_type": "stream",
     "text": [
      "Parsing domain /home/mappelgren/Desktop/correcting-agent/data/domain/blocks-domain.pddl\n",
      "Parsing problem /home/mappelgren/Desktop/correcting-agent/data/big_bijection_random_colours/big_bijection_random_colours0/problem5.pddl\n",
      "\n",
      "test if we're done: False\n",
      "test if we've failed: False\n",
      "\n",
      "test if we've failed (we have): True\n",
      "\n",
      "Parsing domain /home/mappelgren/Desktop/correcting-agent/data/domain/blocks-domain.pddl\n",
      "Parsing problem /home/mappelgren/Desktop/correcting-agent/data/big_bijection_random_colours/big_bijection_random_colours0/problem5.pddl\n",
      "\n",
      "test if we're done (we are): True\n"
     ]
    }
   ],
   "source": [
    "w.reset()\n",
    "# There are ways to check if you've reached the end or if we are in a failure state\n",
    "print()\n",
    "print(\"test if we're done:\", w.test_success())\n",
    "print(\"test if we've failed:\", w.test_failure())\n",
    "print()\n",
    "w.update('put', ['b1', 't0'])\n",
    "w.update('put', ['b0', 'b1'])\n",
    "print(\"test if we've failed (we have):\", w.test_failure())\n",
    "print()\n",
    "\n",
    "# We can even find a correct plan\n",
    "w.reset()\n",
    "for a, args, in w.find_plan():\n",
    "    if a == \"reach-goal\":\n",
    "        break\n",
    "    w.update(a, args)\n",
    "print()\n",
    "print(\"test if we're done (we are):\", w.test_success())"
   ]
  },
  {
   "cell_type": "code",
   "execution_count": 25,
   "metadata": {},
   "outputs": [
    {
     "name": "stdout",
     "output_type": "stream",
     "text": [
      "Observation(objects=['b0', 'b1', 'b2', 'b3', 'b4', 'b5', 'b6', 'b7', 'b8', 'b9', 't0'], colours={'b0': array([0.04910942, 0.1991187 , 0.85689553]), 'b1': array([0.81181367, 0.40106563, 0.03668641]), 'b2': array([0.83170222, 0.83470729, 0.05785656]), 'b3': array([0.87351345, 0.50482238, 0.11180392]), 'b4': array([0.80426507, 0.17033074, 0.70488709]), 'b5': array([0.98387948, 0.56746558, 0.15209012]), 'b6': array([0.18654365, 0.44528084, 0.9740397 ]), 'b7': array([0.99938212, 0.94935947, 0.00769112]), 'b8': array([0.81191894, 0.77625833, 0.07216284]), 'b9': array([0.25413727, 0.94219347, 0.04657181])}, state=<correctingagent.pddl.pddl_functions.PDDLState object at 0x7f540bb98090>)\n"
     ]
    }
   ],
   "source": [
    "# The agent will interface with the world by \"observing\" it\n",
    "observation = w.sense()\n",
    "print(observation)"
   ]
  },
  {
   "cell_type": "code",
   "execution_count": 34,
   "metadata": {},
   "outputs": [
    {
     "name": "stdout",
     "output_type": "stream",
     "text": [
      "objects: b0 b1 b2 b3 b4 b5 b6 b7 b8 b9 t0\n",
      "\n",
      "object colours:\n",
      "b0 [0.04910942 0.1991187  0.85689553]\n",
      "b1 [0.81181367 0.40106563 0.03668641]\n",
      "b2 [0.83170222 0.83470729 0.05785656]\n",
      "b3 [0.87351345 0.50482238 0.11180392]\n",
      "b4 [0.80426507 0.17033074 0.70488709]\n",
      "b5 [0.98387948 0.56746558 0.15209012]\n",
      "b6 [0.18654365 0.44528084 0.9740397 ]\n",
      "b7 [0.99938212 0.94935947 0.00769112]\n",
      "b8 [0.81191894 0.77625833 0.07216284]\n",
      "b9 [0.25413727 0.94219347 0.04657181]\n",
      "\n",
      "observing colour of a specific object:  b1 [0.81181367 0.40106563 0.03668641]\n",
      "\n",
      "PDDL state <correctingagent.pddl.pddl_functions.PDDLState object at 0x7f540bb98090>\n"
     ]
    }
   ],
   "source": [
    "# The observation tells us what objects are in the tower:\n",
    "print(\"objects:\", \" \".join(observation.objects))\n",
    "# it also tells us the RGB value for each object (other than t0 which is a tower location)\n",
    "print()\n",
    "print(\"object colours:\")\n",
    "for o, rgb in observation.colours.items():\n",
    "    print(o, rgb)\n",
    "print()\n",
    "# you can also observe the RGB of a specific object directly:\n",
    "print(\"observing colour of a specific object: \", \"b1\", w.observe_object(\"b1\"))\n",
    "print()\n",
    "# Finally, we have an object representing the current state of the world:\n",
    "print(\"PDDL state\", observation.state)"
   ]
  },
  {
   "cell_type": "code",
   "execution_count": 36,
   "metadata": {},
   "outputs": [
    {
     "name": "stdout",
     "output_type": "stream",
     "text": [
      "The state does not contain any of the colour terms!\n",
      "(arm-empty )\n",
      "(clear b9)\n",
      "(in-tower t0)\n",
      "(on b0 t0)\n",
      "(in-tower b0)\n",
      "(on b1 b0)\n",
      "(in-tower b1)\n",
      "(on b2 b1)\n",
      "(in-tower b2)\n",
      "(on b3 b2)\n",
      "(in-tower b3)\n",
      "(on b7 b3)\n",
      "(in-tower b7)\n",
      "(on b4 b7)\n",
      "(in-tower b4)\n",
      "(on b5 b4)\n",
      "(in-tower b5)\n",
      "(on b8 b5)\n",
      "(in-tower b8)\n",
      "(on b6 b8)\n",
      "(in-tower b6)\n",
      "(on b9 b6)\n",
      "(in-tower b9)\n"
     ]
    }
   ],
   "source": [
    "# The state object is also useful \n",
    "state = observation.state\n",
    "# Note that the observed state does not include the colour name of any of the objects!\n",
    "\n",
    "print(\"The state does not contain any of the colour terms!\")\n",
    "state.print()"
   ]
  },
  {
   "cell_type": "code",
   "execution_count": 39,
   "metadata": {},
   "outputs": [
    {
     "name": "stdout",
     "output_type": "stream",
     "text": [
      "is b9 clear? True\n",
      "is b9 on b1? False\n",
      "is b9 on b6? True\n",
      "is b8 in a tower? True\n"
     ]
    }
   ],
   "source": [
    "# You can check whether particular predicates hold\n",
    "\n",
    "print(\"is b9 clear?\", state.predicate_holds(\"clear\", [\"b9\"]))\n",
    "print(\"is b9 on b1?\", state.predicate_holds(\"on\", [\"b9\", \"b1\"]))\n",
    "print(\"is b9 on b6?\", state.predicate_holds(\"on\", [\"b9\", \"b6\"]))\n",
    "print(\"is b8 in a tower?\", state.predicate_holds('in-tower', ['b8']))"
   ]
  },
  {
   "cell_type": "markdown",
   "metadata": {},
   "source": [
    "# Working with the agent"
   ]
  },
  {
   "cell_type": "code",
   "execution_count": 40,
   "metadata": {},
   "outputs": [],
   "source": [
    "from correctingagent.models.prob_model import KDEColourModel"
   ]
  },
  {
   "cell_type": "code",
   "execution_count": 81,
   "metadata": {},
   "outputs": [
    {
     "name": "stdout",
     "output_type": "stream",
     "text": [
      "fix bw? True\n",
      "bw 0.05\n",
      "fix bw? True\n",
      "bw 0.2\n"
     ]
    }
   ],
   "source": [
    "# The goal is for us to learn the goal and to learn to ground colour terms\n",
    "# As such the grounding model is the core of this and is the part which you would replace in your model\n",
    "# Simply put the grounding or colour model predicts P(Red(x)|F(x)) or equivalent\n",
    "\n",
    "# We initialise these models simply with a name and some hyper parameters\n",
    "# Don't worry about the hyper parameters, they have to do with the size of Gaussians in the Kernel Density Model we use \n",
    "yellow_model = KDEColourModel(\"yellow\", fix_bw=True, bw=0.05) \n",
    "blue_model = KDEColourModel(\"blue\", fix_bw=True, bw=0.2)\n"
   ]
  },
  {
   "cell_type": "code",
   "execution_count": 82,
   "metadata": {},
   "outputs": [
    {
     "name": "stdout",
     "output_type": "stream",
     "text": [
      "Parsing domain /home/mappelgren/Desktop/correcting-agent/data/domain/blocks-domain.pddl\n",
      "Parsing problem /home/mappelgren/Desktop/correcting-agent/data/big_bijection_random_colours/big_bijection_random_colours0/problem5.pddl\n",
      "(arm-empty )\n",
      "(on-table b0)\n",
      "(clear b0)\n",
      "(on-table b1)\n",
      "(clear b1)\n",
      "(on-table b2)\n",
      "(clear b2)\n",
      "(on-table b3)\n",
      "(clear b3)\n",
      "(on-table b4)\n",
      "(clear b4)\n",
      "(on-table b5)\n",
      "(clear b5)\n",
      "(on-table b6)\n",
      "(clear b6)\n",
      "(on-table b7)\n",
      "(clear b7)\n",
      "(on-table b8)\n",
      "(clear b8)\n",
      "(on-table b9)\n",
      "(clear b9)\n",
      "(in-tower t0)\n",
      "(clear t0)\n",
      "(blue b0)\n",
      "(orange b1)\n",
      "(yellow b2)\n",
      "(orange b3)\n",
      "(pink b4)\n",
      "(orange b5)\n",
      "(blue b6)\n",
      "(yellow b7)\n",
      "(yellow b8)\n",
      "(green b9)\n"
     ]
    }
   ],
   "source": [
    "# There are two things you want to be able to do with these models: Predict P(colour(x)|F(x)) and update the model given new evidence\n",
    "\n",
    "# First let's get some data\n",
    "# It's possible to sense the actual state of the world with the true colours, let's do so to actually know what colour each block is\n",
    "w.reset()\n",
    "observation = w.sense(obscure=False)\n",
    "observation.state.print()"
   ]
  },
  {
   "cell_type": "code",
   "execution_count": 83,
   "metadata": {},
   "outputs": [
    {
     "name": "stdout",
     "output_type": "stream",
     "text": [
      "P(yellow(b2)=1|F(b2)) 0.5\n",
      "P(yellow(b2)=0|F(b2)) 0.5\n",
      "P(blue(b2)=1|F(b2)) 0.5\n"
     ]
    }
   ],
   "source": [
    "# when initialised the model will simply give probability 0.5 for every colour\n",
    "print(\"P(yellow(b2)=1|F(b2))\", yellow_model.p(1, observation.colours[\"b2\"]))\n",
    "print(\"P(yellow(b2)=0|F(b2))\", yellow_model.p(0, observation.colours[\"b2\"]))\n",
    "print(\"P(blue(b2)=1|F(b2))\", blue_model.p(1, observation.colours[\"b2\"]))"
   ]
  },
  {
   "cell_type": "code",
   "execution_count": 84,
   "metadata": {},
   "outputs": [
    {
     "name": "stdout",
     "output_type": "stream",
     "text": [
      "P(yellow(b2)=1|F(b2)) 0.2073944078338394\n",
      "P(yellow(b2)=0|F(b2)) 0.7926055921661606\n",
      "P(blue(b2)=1|F(b2)) 1.0116131977657149e-08\n"
     ]
    }
   ],
   "source": [
    "# However, we can update the models with relevant data\n",
    "# b0 is blue and b7 is yellow, let's add these to the appropriate models\n",
    "\n",
    "yellow_model.update(observation.colours[\"b7\"], 1) # the 1 means we believe with probability 1 that b7 is yellow\n",
    "blue_model.update(observation.colours[\"b0\"], 1)\n",
    "\n",
    "# Now the probabilities will have changed to match the updated models\n",
    "print(\"P(yellow(b2)=1|F(b2))\", yellow_model.p(1, observation.colours[\"b2\"]))\n",
    "print(\"P(yellow(b2)=0|F(b2))\", yellow_model.p(0, observation.colours[\"b2\"]))\n",
    "print(\"P(blue(b2)=1|F(b2))\", blue_model.p(1, observation.colours[\"b2\"]))\n"
   ]
  },
  {
   "cell_type": "code",
   "execution_count": 85,
   "metadata": {},
   "outputs": [
    {
     "name": "stdout",
     "output_type": "stream",
     "text": [
      "P(yellow(b2)=1|F(b2)) 0.9825975657010302\n",
      "P(yellow(b2)=0|F(b2)) 0.017402434298969767\n"
     ]
    }
   ],
   "source": [
    "# It looks like the datapoint wasn't super helpful for recognising b2 as being yellow, perhaps we can add another and that might help?\n",
    "yellow_model.update(observation.colours[\"b8\"], 0.8) # we're not as confident about \"b8\" being yellow, so we give it a lower weight\n",
    "print(\"P(yellow(b2)=1|F(b2))\", yellow_model.p(1, observation.colours[\"b2\"]))\n",
    "print(\"P(yellow(b2)=0|F(b2))\", yellow_model.p(0, observation.colours[\"b2\"]))\n",
    "# Now we can recognise b2 as being yellow! \n"
   ]
  },
  {
   "cell_type": "code",
   "execution_count": null,
   "metadata": {},
   "outputs": [],
   "source": []
  }
 ],
 "metadata": {
  "kernelspec": {
   "name": "Python 3.6.12 64-bit",
   "display_name": "Python 3.6.12 64-bit",
   "metadata": {
    "interpreter": {
     "hash": "cab2a85f98424baa3ee9755c87a8333b57a3c02ba1de25e97492887dab4fe3fb"
    }
   }
  },
  "language_info": {
   "codemirror_mode": {
    "name": "ipython",
    "version": 3
   },
   "file_extension": ".py",
   "mimetype": "text/x-python",
   "name": "python",
   "nbconvert_exporter": "python",
   "pygments_lexer": "ipython3",
   "version": "3.6.12-final"
  }
 },
 "nbformat": 4,
 "nbformat_minor": 2
}